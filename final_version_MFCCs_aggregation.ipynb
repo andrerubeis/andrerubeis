{
  "cells": [
    {
      "cell_type": "markdown",
      "metadata": {
        "id": "view-in-github",
        "colab_type": "text"
      },
      "source": [
        "<a href=\"https://colab.research.google.com/github/andrerubeis/andrerubeis/blob/main/final_version_MFCCs_aggregation.ipynb\" target=\"_parent\"><img src=\"https://colab.research.google.com/assets/colab-badge.svg\" alt=\"Open In Colab\"/></a>"
      ]
    },
    {
      "cell_type": "code",
      "source": [
        "pip install noisereduce"
      ],
      "metadata": {
        "colab": {
          "base_uri": "https://localhost:8080/"
        },
        "id": "VHb1rA2MRcAA",
        "outputId": "b750fe92-b45b-4d50-96b2-e9843b514083"
      },
      "id": "VHb1rA2MRcAA",
      "execution_count": 29,
      "outputs": [
        {
          "output_type": "stream",
          "name": "stdout",
          "text": [
            "Looking in indexes: https://pypi.org/simple, https://us-python.pkg.dev/colab-wheels/public/simple/\n",
            "Requirement already satisfied: noisereduce in /usr/local/lib/python3.8/dist-packages (2.0.1)\n",
            "Requirement already satisfied: librosa in /usr/local/lib/python3.8/dist-packages (from noisereduce) (0.8.1)\n",
            "Requirement already satisfied: tqdm in /usr/local/lib/python3.8/dist-packages (from noisereduce) (4.64.1)\n",
            "Requirement already satisfied: numpy in /usr/local/lib/python3.8/dist-packages (from noisereduce) (1.21.6)\n",
            "Requirement already satisfied: matplotlib in /usr/local/lib/python3.8/dist-packages (from noisereduce) (3.2.2)\n",
            "Requirement already satisfied: scipy in /usr/local/lib/python3.8/dist-packages (from noisereduce) (1.7.3)\n",
            "Requirement already satisfied: numba>=0.43.0 in /usr/local/lib/python3.8/dist-packages (from librosa->noisereduce) (0.56.4)\n",
            "Requirement already satisfied: packaging>=20.0 in /usr/local/lib/python3.8/dist-packages (from librosa->noisereduce) (21.3)\n",
            "Requirement already satisfied: joblib>=0.14 in /usr/local/lib/python3.8/dist-packages (from librosa->noisereduce) (1.2.0)\n",
            "Requirement already satisfied: audioread>=2.0.0 in /usr/local/lib/python3.8/dist-packages (from librosa->noisereduce) (3.0.0)\n",
            "Requirement already satisfied: decorator>=3.0.0 in /usr/local/lib/python3.8/dist-packages (from librosa->noisereduce) (4.4.2)\n",
            "Requirement already satisfied: scikit-learn!=0.19.0,>=0.14.0 in /usr/local/lib/python3.8/dist-packages (from librosa->noisereduce) (1.0.2)\n",
            "Requirement already satisfied: pooch>=1.0 in /usr/local/lib/python3.8/dist-packages (from librosa->noisereduce) (1.6.0)\n",
            "Requirement already satisfied: resampy>=0.2.2 in /usr/local/lib/python3.8/dist-packages (from librosa->noisereduce) (0.4.2)\n",
            "Requirement already satisfied: soundfile>=0.10.2 in /usr/local/lib/python3.8/dist-packages (from librosa->noisereduce) (0.11.0)\n",
            "Requirement already satisfied: python-dateutil>=2.1 in /usr/local/lib/python3.8/dist-packages (from matplotlib->noisereduce) (2.8.2)\n",
            "Requirement already satisfied: cycler>=0.10 in /usr/local/lib/python3.8/dist-packages (from matplotlib->noisereduce) (0.11.0)\n",
            "Requirement already satisfied: kiwisolver>=1.0.1 in /usr/local/lib/python3.8/dist-packages (from matplotlib->noisereduce) (1.4.4)\n",
            "Requirement already satisfied: pyparsing!=2.0.4,!=2.1.2,!=2.1.6,>=2.0.1 in /usr/local/lib/python3.8/dist-packages (from matplotlib->noisereduce) (3.0.9)\n",
            "Requirement already satisfied: importlib-metadata in /usr/local/lib/python3.8/dist-packages (from numba>=0.43.0->librosa->noisereduce) (6.0.0)\n",
            "Requirement already satisfied: llvmlite<0.40,>=0.39.0dev0 in /usr/local/lib/python3.8/dist-packages (from numba>=0.43.0->librosa->noisereduce) (0.39.1)\n",
            "Requirement already satisfied: setuptools in /usr/local/lib/python3.8/dist-packages (from numba>=0.43.0->librosa->noisereduce) (57.4.0)\n",
            "Requirement already satisfied: appdirs>=1.3.0 in /usr/local/lib/python3.8/dist-packages (from pooch>=1.0->librosa->noisereduce) (1.4.4)\n",
            "Requirement already satisfied: requests>=2.19.0 in /usr/local/lib/python3.8/dist-packages (from pooch>=1.0->librosa->noisereduce) (2.25.1)\n",
            "Requirement already satisfied: six>=1.5 in /usr/local/lib/python3.8/dist-packages (from python-dateutil>=2.1->matplotlib->noisereduce) (1.15.0)\n",
            "Requirement already satisfied: threadpoolctl>=2.0.0 in /usr/local/lib/python3.8/dist-packages (from scikit-learn!=0.19.0,>=0.14.0->librosa->noisereduce) (3.1.0)\n",
            "Requirement already satisfied: cffi>=1.0 in /usr/local/lib/python3.8/dist-packages (from soundfile>=0.10.2->librosa->noisereduce) (1.15.1)\n",
            "Requirement already satisfied: pycparser in /usr/local/lib/python3.8/dist-packages (from cffi>=1.0->soundfile>=0.10.2->librosa->noisereduce) (2.21)\n",
            "Requirement already satisfied: chardet<5,>=3.0.2 in /usr/local/lib/python3.8/dist-packages (from requests>=2.19.0->pooch>=1.0->librosa->noisereduce) (4.0.0)\n",
            "Requirement already satisfied: certifi>=2017.4.17 in /usr/local/lib/python3.8/dist-packages (from requests>=2.19.0->pooch>=1.0->librosa->noisereduce) (2022.12.7)\n",
            "Requirement already satisfied: idna<3,>=2.5 in /usr/local/lib/python3.8/dist-packages (from requests>=2.19.0->pooch>=1.0->librosa->noisereduce) (2.10)\n",
            "Requirement already satisfied: urllib3<1.27,>=1.21.1 in /usr/local/lib/python3.8/dist-packages (from requests>=2.19.0->pooch>=1.0->librosa->noisereduce) (1.24.3)\n",
            "Requirement already satisfied: zipp>=0.5 in /usr/local/lib/python3.8/dist-packages (from importlib-metadata->numba>=0.43.0->librosa->noisereduce) (3.11.0)\n"
          ]
        }
      ]
    },
    {
      "cell_type": "code",
      "source": [
        "from google.colab import drive\n",
        "drive.mount('/content/drive')"
      ],
      "metadata": {
        "colab": {
          "base_uri": "https://localhost:8080/"
        },
        "id": "h1OngFI-Ptfv",
        "outputId": "de82203a-f523-4fef-910c-6d537003532f"
      },
      "id": "h1OngFI-Ptfv",
      "execution_count": 30,
      "outputs": [
        {
          "output_type": "stream",
          "name": "stdout",
          "text": [
            "Drive already mounted at /content/drive; to attempt to forcibly remount, call drive.mount(\"/content/drive\", force_remount=True).\n"
          ]
        }
      ]
    },
    {
      "cell_type": "code",
      "execution_count": 31,
      "id": "9f5653aa",
      "metadata": {
        "id": "9f5653aa"
      },
      "outputs": [],
      "source": [
        "import pandas as pd\n",
        "import numpy as np\n",
        "import os\n",
        "import librosa\n",
        "import librosa.display\n",
        "import IPython.display as ipd\n",
        "import matplotlib.pyplot as plt\n",
        "import pickle\n",
        "import noisereduce as nr\n",
        "import tqdm"
      ]
    },
    {
      "cell_type": "code",
      "source": [
        "import torch\n",
        "colab = True\n",
        "\n",
        "if colab == True:\n",
        "  device = 'cuda' if torch.cuda.is_available() else 'cpu'"
      ],
      "metadata": {
        "id": "a7jJB5VeQUju"
      },
      "id": "a7jJB5VeQUju",
      "execution_count": 32,
      "outputs": []
    },
    {
      "cell_type": "code",
      "source": [
        "!nvidia-smi"
      ],
      "metadata": {
        "colab": {
          "base_uri": "https://localhost:8080/"
        },
        "id": "9M1UM32UVXoW",
        "outputId": "8a4db255-ca27-4ad7-acd5-8e6e648b6311"
      },
      "id": "9M1UM32UVXoW",
      "execution_count": 33,
      "outputs": [
        {
          "output_type": "stream",
          "name": "stdout",
          "text": [
            "Thu Jan 19 17:03:33 2023       \n",
            "+-----------------------------------------------------------------------------+\n",
            "| NVIDIA-SMI 460.32.03    Driver Version: 460.32.03    CUDA Version: 11.2     |\n",
            "|-------------------------------+----------------------+----------------------+\n",
            "| GPU  Name        Persistence-M| Bus-Id        Disp.A | Volatile Uncorr. ECC |\n",
            "| Fan  Temp  Perf  Pwr:Usage/Cap|         Memory-Usage | GPU-Util  Compute M. |\n",
            "|                               |                      |               MIG M. |\n",
            "|===============================+======================+======================|\n",
            "|   0  Tesla T4            Off  | 00000000:00:04.0 Off |                    0 |\n",
            "| N/A   35C    P8     9W /  70W |      3MiB / 15109MiB |      0%      Default |\n",
            "|                               |                      |                  N/A |\n",
            "+-------------------------------+----------------------+----------------------+\n",
            "                                                                               \n",
            "+-----------------------------------------------------------------------------+\n",
            "| Processes:                                                                  |\n",
            "|  GPU   GI   CI        PID   Type   Process name                  GPU Memory |\n",
            "|        ID   ID                                                   Usage      |\n",
            "|=============================================================================|\n",
            "|  No running processes found                                                 |\n",
            "+-----------------------------------------------------------------------------+\n"
          ]
        }
      ]
    },
    {
      "cell_type": "markdown",
      "id": "772ef5b5",
      "metadata": {
        "id": "772ef5b5"
      },
      "source": [
        "\n",
        "## 1. Loading Dataset"
      ]
    },
    {
      "cell_type": "code",
      "execution_count": 34,
      "id": "e2f93350",
      "metadata": {
        "colab": {
          "base_uri": "https://localhost:8080/",
          "height": 886
        },
        "id": "e2f93350",
        "outputId": "d0be53d8-8c62-4406-84a2-5bb39ddf75e9"
      },
      "outputs": [
        {
          "output_type": "execute_result",
          "data": {
            "text/plain": [
              "        Id                                               path  \\\n",
              "0        0  dsl_data/audio/speakers/2BqVo8kVB2Skwgyb/0a312...   \n",
              "1        1  dsl_data/audio/speakers/2BqVo8kVB2Skwgyb/0ee42...   \n",
              "2        2  dsl_data/audio/speakers/2BqVo8kVB2Skwgyb/1d9f3...   \n",
              "3        3  dsl_data/audio/speakers/2BqVo8kVB2Skwgyb/269fc...   \n",
              "4        4  dsl_data/audio/speakers/2BqVo8kVB2Skwgyb/5bbda...   \n",
              "...    ...                                                ...   \n",
              "9849  9849  dsl_data/audio/speakers/vnljypgejkINbBAY/4fb3d...   \n",
              "9850  9850  dsl_data/audio/speakers/vnljypgejkINbBAY/59e6a...   \n",
              "9851  9851  dsl_data/audio/speakers/vnljypgejkINbBAY/5c81c...   \n",
              "9852  9852  dsl_data/audio/speakers/vnljypgejkINbBAY/5ef42...   \n",
              "9853  9853  dsl_data/audio/speakers/vnljypgejkINbBAY/61b7a...   \n",
              "\n",
              "             speakerId           action  object Self-reported fluency level   \\\n",
              "0     2BqVo8kVB2Skwgyb  change language    none                     advanced   \n",
              "1     2BqVo8kVB2Skwgyb         activate   music                     advanced   \n",
              "2     2BqVo8kVB2Skwgyb       deactivate  lights                     advanced   \n",
              "3     2BqVo8kVB2Skwgyb         increase  volume                     advanced   \n",
              "4     2BqVo8kVB2Skwgyb         increase  volume                     advanced   \n",
              "...                ...              ...     ...                          ...   \n",
              "9849  vnljypgejkINbBAY         decrease  volume                       native   \n",
              "9850  vnljypgejkINbBAY       deactivate  lights                       native   \n",
              "9851  vnljypgejkINbBAY       deactivate  lights                       native   \n",
              "9852  vnljypgejkINbBAY       deactivate  lights                       native   \n",
              "9853  vnljypgejkINbBAY         increase  volume                       native   \n",
              "\n",
              "        First Language spoken Current language used for work/school  gender  \\\n",
              "0     English (United States)               English (United States)  female   \n",
              "1     English (United States)               English (United States)  female   \n",
              "2     English (United States)               English (United States)  female   \n",
              "3     English (United States)               English (United States)  female   \n",
              "4     English (United States)               English (United States)  female   \n",
              "...                       ...                                   ...     ...   \n",
              "9849  English (United States)               English (United States)    male   \n",
              "9850  English (United States)               English (United States)    male   \n",
              "9851  English (United States)               English (United States)    male   \n",
              "9852  English (United States)               English (United States)    male   \n",
              "9853  English (United States)               English (United States)    male   \n",
              "\n",
              "     ageRange  \n",
              "0       22-40  \n",
              "1       22-40  \n",
              "2       22-40  \n",
              "3       22-40  \n",
              "4       22-40  \n",
              "...       ...  \n",
              "9849    22-40  \n",
              "9850    22-40  \n",
              "9851    22-40  \n",
              "9852    22-40  \n",
              "9853    22-40  \n",
              "\n",
              "[9854 rows x 10 columns]"
            ],
            "text/html": [
              "\n",
              "  <div id=\"df-30ee21b9-2f9a-4cb2-b115-b137c3928bb6\">\n",
              "    <div class=\"colab-df-container\">\n",
              "      <div>\n",
              "<style scoped>\n",
              "    .dataframe tbody tr th:only-of-type {\n",
              "        vertical-align: middle;\n",
              "    }\n",
              "\n",
              "    .dataframe tbody tr th {\n",
              "        vertical-align: top;\n",
              "    }\n",
              "\n",
              "    .dataframe thead th {\n",
              "        text-align: right;\n",
              "    }\n",
              "</style>\n",
              "<table border=\"1\" class=\"dataframe\">\n",
              "  <thead>\n",
              "    <tr style=\"text-align: right;\">\n",
              "      <th></th>\n",
              "      <th>Id</th>\n",
              "      <th>path</th>\n",
              "      <th>speakerId</th>\n",
              "      <th>action</th>\n",
              "      <th>object</th>\n",
              "      <th>Self-reported fluency level</th>\n",
              "      <th>First Language spoken</th>\n",
              "      <th>Current language used for work/school</th>\n",
              "      <th>gender</th>\n",
              "      <th>ageRange</th>\n",
              "    </tr>\n",
              "  </thead>\n",
              "  <tbody>\n",
              "    <tr>\n",
              "      <th>0</th>\n",
              "      <td>0</td>\n",
              "      <td>dsl_data/audio/speakers/2BqVo8kVB2Skwgyb/0a312...</td>\n",
              "      <td>2BqVo8kVB2Skwgyb</td>\n",
              "      <td>change language</td>\n",
              "      <td>none</td>\n",
              "      <td>advanced</td>\n",
              "      <td>English (United States)</td>\n",
              "      <td>English (United States)</td>\n",
              "      <td>female</td>\n",
              "      <td>22-40</td>\n",
              "    </tr>\n",
              "    <tr>\n",
              "      <th>1</th>\n",
              "      <td>1</td>\n",
              "      <td>dsl_data/audio/speakers/2BqVo8kVB2Skwgyb/0ee42...</td>\n",
              "      <td>2BqVo8kVB2Skwgyb</td>\n",
              "      <td>activate</td>\n",
              "      <td>music</td>\n",
              "      <td>advanced</td>\n",
              "      <td>English (United States)</td>\n",
              "      <td>English (United States)</td>\n",
              "      <td>female</td>\n",
              "      <td>22-40</td>\n",
              "    </tr>\n",
              "    <tr>\n",
              "      <th>2</th>\n",
              "      <td>2</td>\n",
              "      <td>dsl_data/audio/speakers/2BqVo8kVB2Skwgyb/1d9f3...</td>\n",
              "      <td>2BqVo8kVB2Skwgyb</td>\n",
              "      <td>deactivate</td>\n",
              "      <td>lights</td>\n",
              "      <td>advanced</td>\n",
              "      <td>English (United States)</td>\n",
              "      <td>English (United States)</td>\n",
              "      <td>female</td>\n",
              "      <td>22-40</td>\n",
              "    </tr>\n",
              "    <tr>\n",
              "      <th>3</th>\n",
              "      <td>3</td>\n",
              "      <td>dsl_data/audio/speakers/2BqVo8kVB2Skwgyb/269fc...</td>\n",
              "      <td>2BqVo8kVB2Skwgyb</td>\n",
              "      <td>increase</td>\n",
              "      <td>volume</td>\n",
              "      <td>advanced</td>\n",
              "      <td>English (United States)</td>\n",
              "      <td>English (United States)</td>\n",
              "      <td>female</td>\n",
              "      <td>22-40</td>\n",
              "    </tr>\n",
              "    <tr>\n",
              "      <th>4</th>\n",
              "      <td>4</td>\n",
              "      <td>dsl_data/audio/speakers/2BqVo8kVB2Skwgyb/5bbda...</td>\n",
              "      <td>2BqVo8kVB2Skwgyb</td>\n",
              "      <td>increase</td>\n",
              "      <td>volume</td>\n",
              "      <td>advanced</td>\n",
              "      <td>English (United States)</td>\n",
              "      <td>English (United States)</td>\n",
              "      <td>female</td>\n",
              "      <td>22-40</td>\n",
              "    </tr>\n",
              "    <tr>\n",
              "      <th>...</th>\n",
              "      <td>...</td>\n",
              "      <td>...</td>\n",
              "      <td>...</td>\n",
              "      <td>...</td>\n",
              "      <td>...</td>\n",
              "      <td>...</td>\n",
              "      <td>...</td>\n",
              "      <td>...</td>\n",
              "      <td>...</td>\n",
              "      <td>...</td>\n",
              "    </tr>\n",
              "    <tr>\n",
              "      <th>9849</th>\n",
              "      <td>9849</td>\n",
              "      <td>dsl_data/audio/speakers/vnljypgejkINbBAY/4fb3d...</td>\n",
              "      <td>vnljypgejkINbBAY</td>\n",
              "      <td>decrease</td>\n",
              "      <td>volume</td>\n",
              "      <td>native</td>\n",
              "      <td>English (United States)</td>\n",
              "      <td>English (United States)</td>\n",
              "      <td>male</td>\n",
              "      <td>22-40</td>\n",
              "    </tr>\n",
              "    <tr>\n",
              "      <th>9850</th>\n",
              "      <td>9850</td>\n",
              "      <td>dsl_data/audio/speakers/vnljypgejkINbBAY/59e6a...</td>\n",
              "      <td>vnljypgejkINbBAY</td>\n",
              "      <td>deactivate</td>\n",
              "      <td>lights</td>\n",
              "      <td>native</td>\n",
              "      <td>English (United States)</td>\n",
              "      <td>English (United States)</td>\n",
              "      <td>male</td>\n",
              "      <td>22-40</td>\n",
              "    </tr>\n",
              "    <tr>\n",
              "      <th>9851</th>\n",
              "      <td>9851</td>\n",
              "      <td>dsl_data/audio/speakers/vnljypgejkINbBAY/5c81c...</td>\n",
              "      <td>vnljypgejkINbBAY</td>\n",
              "      <td>deactivate</td>\n",
              "      <td>lights</td>\n",
              "      <td>native</td>\n",
              "      <td>English (United States)</td>\n",
              "      <td>English (United States)</td>\n",
              "      <td>male</td>\n",
              "      <td>22-40</td>\n",
              "    </tr>\n",
              "    <tr>\n",
              "      <th>9852</th>\n",
              "      <td>9852</td>\n",
              "      <td>dsl_data/audio/speakers/vnljypgejkINbBAY/5ef42...</td>\n",
              "      <td>vnljypgejkINbBAY</td>\n",
              "      <td>deactivate</td>\n",
              "      <td>lights</td>\n",
              "      <td>native</td>\n",
              "      <td>English (United States)</td>\n",
              "      <td>English (United States)</td>\n",
              "      <td>male</td>\n",
              "      <td>22-40</td>\n",
              "    </tr>\n",
              "    <tr>\n",
              "      <th>9853</th>\n",
              "      <td>9853</td>\n",
              "      <td>dsl_data/audio/speakers/vnljypgejkINbBAY/61b7a...</td>\n",
              "      <td>vnljypgejkINbBAY</td>\n",
              "      <td>increase</td>\n",
              "      <td>volume</td>\n",
              "      <td>native</td>\n",
              "      <td>English (United States)</td>\n",
              "      <td>English (United States)</td>\n",
              "      <td>male</td>\n",
              "      <td>22-40</td>\n",
              "    </tr>\n",
              "  </tbody>\n",
              "</table>\n",
              "<p>9854 rows × 10 columns</p>\n",
              "</div>\n",
              "      <button class=\"colab-df-convert\" onclick=\"convertToInteractive('df-30ee21b9-2f9a-4cb2-b115-b137c3928bb6')\"\n",
              "              title=\"Convert this dataframe to an interactive table.\"\n",
              "              style=\"display:none;\">\n",
              "        \n",
              "  <svg xmlns=\"http://www.w3.org/2000/svg\" height=\"24px\"viewBox=\"0 0 24 24\"\n",
              "       width=\"24px\">\n",
              "    <path d=\"M0 0h24v24H0V0z\" fill=\"none\"/>\n",
              "    <path d=\"M18.56 5.44l.94 2.06.94-2.06 2.06-.94-2.06-.94-.94-2.06-.94 2.06-2.06.94zm-11 1L8.5 8.5l.94-2.06 2.06-.94-2.06-.94L8.5 2.5l-.94 2.06-2.06.94zm10 10l.94 2.06.94-2.06 2.06-.94-2.06-.94-.94-2.06-.94 2.06-2.06.94z\"/><path d=\"M17.41 7.96l-1.37-1.37c-.4-.4-.92-.59-1.43-.59-.52 0-1.04.2-1.43.59L10.3 9.45l-7.72 7.72c-.78.78-.78 2.05 0 2.83L4 21.41c.39.39.9.59 1.41.59.51 0 1.02-.2 1.41-.59l7.78-7.78 2.81-2.81c.8-.78.8-2.07 0-2.86zM5.41 20L4 18.59l7.72-7.72 1.47 1.35L5.41 20z\"/>\n",
              "  </svg>\n",
              "      </button>\n",
              "      \n",
              "  <style>\n",
              "    .colab-df-container {\n",
              "      display:flex;\n",
              "      flex-wrap:wrap;\n",
              "      gap: 12px;\n",
              "    }\n",
              "\n",
              "    .colab-df-convert {\n",
              "      background-color: #E8F0FE;\n",
              "      border: none;\n",
              "      border-radius: 50%;\n",
              "      cursor: pointer;\n",
              "      display: none;\n",
              "      fill: #1967D2;\n",
              "      height: 32px;\n",
              "      padding: 0 0 0 0;\n",
              "      width: 32px;\n",
              "    }\n",
              "\n",
              "    .colab-df-convert:hover {\n",
              "      background-color: #E2EBFA;\n",
              "      box-shadow: 0px 1px 2px rgba(60, 64, 67, 0.3), 0px 1px 3px 1px rgba(60, 64, 67, 0.15);\n",
              "      fill: #174EA6;\n",
              "    }\n",
              "\n",
              "    [theme=dark] .colab-df-convert {\n",
              "      background-color: #3B4455;\n",
              "      fill: #D2E3FC;\n",
              "    }\n",
              "\n",
              "    [theme=dark] .colab-df-convert:hover {\n",
              "      background-color: #434B5C;\n",
              "      box-shadow: 0px 1px 3px 1px rgba(0, 0, 0, 0.15);\n",
              "      filter: drop-shadow(0px 1px 2px rgba(0, 0, 0, 0.3));\n",
              "      fill: #FFFFFF;\n",
              "    }\n",
              "  </style>\n",
              "\n",
              "      <script>\n",
              "        const buttonEl =\n",
              "          document.querySelector('#df-30ee21b9-2f9a-4cb2-b115-b137c3928bb6 button.colab-df-convert');\n",
              "        buttonEl.style.display =\n",
              "          google.colab.kernel.accessAllowed ? 'block' : 'none';\n",
              "\n",
              "        async function convertToInteractive(key) {\n",
              "          const element = document.querySelector('#df-30ee21b9-2f9a-4cb2-b115-b137c3928bb6');\n",
              "          const dataTable =\n",
              "            await google.colab.kernel.invokeFunction('convertToInteractive',\n",
              "                                                     [key], {});\n",
              "          if (!dataTable) return;\n",
              "\n",
              "          const docLinkHtml = 'Like what you see? Visit the ' +\n",
              "            '<a target=\"_blank\" href=https://colab.research.google.com/notebooks/data_table.ipynb>data table notebook</a>'\n",
              "            + ' to learn more about interactive tables.';\n",
              "          element.innerHTML = '';\n",
              "          dataTable['output_type'] = 'display_data';\n",
              "          await google.colab.output.renderOutput(dataTable, element);\n",
              "          const docLink = document.createElement('div');\n",
              "          docLink.innerHTML = docLinkHtml;\n",
              "          element.appendChild(docLink);\n",
              "        }\n",
              "      </script>\n",
              "    </div>\n",
              "  </div>\n",
              "  "
            ]
          },
          "metadata": {},
          "execution_count": 34
        }
      ],
      "source": [
        "colab = True\n",
        "\n",
        "if colab == True:\n",
        "  path= r'/content/development.csv'\n",
        "else:\n",
        "  path = r'C:/Users/andre/OneDrive/Documenti/GitHub/winter_exam_22_23/development.csv'\n",
        "\n",
        "df_development = pd.read_csv(path)\n",
        "df_development"
      ]
    },
    {
      "cell_type": "code",
      "execution_count": 35,
      "id": "140e6e8a",
      "metadata": {
        "colab": {
          "base_uri": "https://localhost:8080/"
        },
        "id": "140e6e8a",
        "outputId": "673f88df-294f-490d-ffae-8b790bb1ac93"
      },
      "outputs": [
        {
          "output_type": "execute_result",
          "data": {
            "text/plain": [
              "(increase           3823\n",
              " decrease           3575\n",
              " change language    1113\n",
              " activate            791\n",
              " deactivate          552\n",
              " Name: action, dtype: int64, volume    5000\n",
              " heat      2398\n",
              " none      1113\n",
              " music      791\n",
              " lights     552\n",
              " Name: object, dtype: int64)"
            ]
          },
          "metadata": {},
          "execution_count": 35
        }
      ],
      "source": [
        "#Evlauate balancement of dataset\n",
        "df_development.action.value_counts(), df_development.object.value_counts()"
      ]
    },
    {
      "cell_type": "markdown",
      "id": "53b56d05",
      "metadata": {
        "id": "53b56d05"
      },
      "source": [
        "### Evaluate all the existing combinations in the dataset"
      ]
    },
    {
      "cell_type": "code",
      "execution_count": 36,
      "id": "993246fe",
      "metadata": {
        "scrolled": true,
        "colab": {
          "base_uri": "https://localhost:8080/"
        },
        "id": "993246fe",
        "outputId": "e25967a2-bd06-42f0-8693-a57420e88a19"
      },
      "outputs": [
        {
          "output_type": "execute_result",
          "data": {
            "text/plain": [
              "volume    2614\n",
              "heat      1209\n",
              "Name: object, dtype: int64"
            ]
          },
          "metadata": {},
          "execution_count": 36
        }
      ],
      "source": [
        "#Evaluate all the existing combinations in the dataset\n",
        "df_increase = df_development[df_development['action']=='increase']\n",
        "df_increase.object.value_counts()"
      ]
    },
    {
      "cell_type": "code",
      "execution_count": 37,
      "id": "24844531",
      "metadata": {
        "colab": {
          "base_uri": "https://localhost:8080/"
        },
        "id": "24844531",
        "outputId": "1a78a96c-473f-4e7e-beb9-9d5c8cb4261a"
      },
      "outputs": [
        {
          "output_type": "execute_result",
          "data": {
            "text/plain": [
              "volume    2386\n",
              "heat      1189\n",
              "Name: object, dtype: int64"
            ]
          },
          "metadata": {},
          "execution_count": 37
        }
      ],
      "source": [
        "#Evaluate all the existing combinations in the dataset\n",
        "df_decrease = df_development[df_development['action']=='decrease']\n",
        "df_decrease.object.value_counts()"
      ]
    },
    {
      "cell_type": "code",
      "execution_count": 38,
      "id": "7beb2908",
      "metadata": {
        "colab": {
          "base_uri": "https://localhost:8080/"
        },
        "id": "7beb2908",
        "outputId": "385f51a3-d35e-43b4-ff86-c135e84a4aec"
      },
      "outputs": [
        {
          "output_type": "execute_result",
          "data": {
            "text/plain": [
              "none    1113\n",
              "Name: object, dtype: int64"
            ]
          },
          "metadata": {},
          "execution_count": 38
        }
      ],
      "source": [
        "#Evaluate all the existing combinations in the dataset\n",
        "df_change_language = df_development[df_development['action']=='change language']\n",
        "df_change_language.object.value_counts()"
      ]
    },
    {
      "cell_type": "code",
      "execution_count": 39,
      "id": "8cc46411",
      "metadata": {
        "colab": {
          "base_uri": "https://localhost:8080/"
        },
        "id": "8cc46411",
        "outputId": "772e3ef7-bb5d-443b-8139-96548fcfb6d9"
      },
      "outputs": [
        {
          "output_type": "execute_result",
          "data": {
            "text/plain": [
              "music    791\n",
              "Name: object, dtype: int64"
            ]
          },
          "metadata": {},
          "execution_count": 39
        }
      ],
      "source": [
        "#Evaluate all the existing combinations in the dataset\n",
        "df_activate = df_development[df_development['action']=='activate']\n",
        "df_activate.object.value_counts()"
      ]
    },
    {
      "cell_type": "code",
      "execution_count": 40,
      "id": "13c551f7",
      "metadata": {
        "colab": {
          "base_uri": "https://localhost:8080/"
        },
        "id": "13c551f7",
        "outputId": "22a3dc0d-74d0-4eb5-dbfa-df2f387634d9"
      },
      "outputs": [
        {
          "output_type": "execute_result",
          "data": {
            "text/plain": [
              "lights    552\n",
              "Name: object, dtype: int64"
            ]
          },
          "metadata": {},
          "execution_count": 40
        }
      ],
      "source": [
        "#Evaluate all the existing combinations in the dataset\n",
        "df_deactivate = df_development[df_development['action']=='deactivate']\n",
        "df_deactivate.object.value_counts()"
      ]
    },
    {
      "cell_type": "markdown",
      "id": "31ce189b",
      "metadata": {
        "id": "31ce189b"
      },
      "source": [
        "Combinations of actions expressed by humans in the dataset found are the following:\n",
        "1. increase volume\n",
        "2. increase heat\n",
        "3. decrease volume\n",
        "4. decrease heat\n",
        "5. change language\n",
        "6. activate music\n",
        "7. deactivate lights\n",
        "\n",
        "According to this, starting from this dataset a new one can be generated containing the audio file with the corresponding label aside referring to the desired action."
      ]
    },
    {
      "cell_type": "markdown",
      "id": "ca1bc2a3",
      "metadata": {
        "id": "ca1bc2a3"
      },
      "source": [
        "### Creating new training dataset\n",
        "Add a column called labels where in correspondance of each combination has the respective label (ex. if the row has action=increase and object=heat has label 1)"
      ]
    },
    {
      "cell_type": "code",
      "execution_count": 41,
      "id": "6c75037c",
      "metadata": {
        "colab": {
          "base_uri": "https://localhost:8080/",
          "height": 886
        },
        "id": "6c75037c",
        "outputId": "aea6f08b-c503-4ef7-addd-40c0675dc37b"
      },
      "outputs": [
        {
          "output_type": "execute_result",
          "data": {
            "text/plain": [
              "        Id                                               path  \\\n",
              "0        0  dsl_data/audio/speakers/2BqVo8kVB2Skwgyb/0a312...   \n",
              "1        1  dsl_data/audio/speakers/2BqVo8kVB2Skwgyb/0ee42...   \n",
              "2        2  dsl_data/audio/speakers/2BqVo8kVB2Skwgyb/1d9f3...   \n",
              "3        3  dsl_data/audio/speakers/2BqVo8kVB2Skwgyb/269fc...   \n",
              "4        4  dsl_data/audio/speakers/2BqVo8kVB2Skwgyb/5bbda...   \n",
              "...    ...                                                ...   \n",
              "9849  9849  dsl_data/audio/speakers/vnljypgejkINbBAY/4fb3d...   \n",
              "9850  9850  dsl_data/audio/speakers/vnljypgejkINbBAY/59e6a...   \n",
              "9851  9851  dsl_data/audio/speakers/vnljypgejkINbBAY/5c81c...   \n",
              "9852  9852  dsl_data/audio/speakers/vnljypgejkINbBAY/5ef42...   \n",
              "9853  9853  dsl_data/audio/speakers/vnljypgejkINbBAY/61b7a...   \n",
              "\n",
              "             speakerId           action  object Self-reported fluency level   \\\n",
              "0     2BqVo8kVB2Skwgyb  change language    none                     advanced   \n",
              "1     2BqVo8kVB2Skwgyb         activate   music                     advanced   \n",
              "2     2BqVo8kVB2Skwgyb       deactivate  lights                     advanced   \n",
              "3     2BqVo8kVB2Skwgyb         increase  volume                     advanced   \n",
              "4     2BqVo8kVB2Skwgyb         increase  volume                     advanced   \n",
              "...                ...              ...     ...                          ...   \n",
              "9849  vnljypgejkINbBAY         decrease  volume                       native   \n",
              "9850  vnljypgejkINbBAY       deactivate  lights                       native   \n",
              "9851  vnljypgejkINbBAY       deactivate  lights                       native   \n",
              "9852  vnljypgejkINbBAY       deactivate  lights                       native   \n",
              "9853  vnljypgejkINbBAY         increase  volume                       native   \n",
              "\n",
              "        First Language spoken Current language used for work/school  gender  \\\n",
              "0     English (United States)               English (United States)  female   \n",
              "1     English (United States)               English (United States)  female   \n",
              "2     English (United States)               English (United States)  female   \n",
              "3     English (United States)               English (United States)  female   \n",
              "4     English (United States)               English (United States)  female   \n",
              "...                       ...                                   ...     ...   \n",
              "9849  English (United States)               English (United States)    male   \n",
              "9850  English (United States)               English (United States)    male   \n",
              "9851  English (United States)               English (United States)    male   \n",
              "9852  English (United States)               English (United States)    male   \n",
              "9853  English (United States)               English (United States)    male   \n",
              "\n",
              "     ageRange  labels  \n",
              "0       22-40       5  \n",
              "1       22-40       6  \n",
              "2       22-40       7  \n",
              "3       22-40       1  \n",
              "4       22-40       1  \n",
              "...       ...     ...  \n",
              "9849    22-40       3  \n",
              "9850    22-40       7  \n",
              "9851    22-40       7  \n",
              "9852    22-40       7  \n",
              "9853    22-40       1  \n",
              "\n",
              "[9854 rows x 11 columns]"
            ],
            "text/html": [
              "\n",
              "  <div id=\"df-8cee14d7-3935-4f69-9ade-de4b85b96d15\">\n",
              "    <div class=\"colab-df-container\">\n",
              "      <div>\n",
              "<style scoped>\n",
              "    .dataframe tbody tr th:only-of-type {\n",
              "        vertical-align: middle;\n",
              "    }\n",
              "\n",
              "    .dataframe tbody tr th {\n",
              "        vertical-align: top;\n",
              "    }\n",
              "\n",
              "    .dataframe thead th {\n",
              "        text-align: right;\n",
              "    }\n",
              "</style>\n",
              "<table border=\"1\" class=\"dataframe\">\n",
              "  <thead>\n",
              "    <tr style=\"text-align: right;\">\n",
              "      <th></th>\n",
              "      <th>Id</th>\n",
              "      <th>path</th>\n",
              "      <th>speakerId</th>\n",
              "      <th>action</th>\n",
              "      <th>object</th>\n",
              "      <th>Self-reported fluency level</th>\n",
              "      <th>First Language spoken</th>\n",
              "      <th>Current language used for work/school</th>\n",
              "      <th>gender</th>\n",
              "      <th>ageRange</th>\n",
              "      <th>labels</th>\n",
              "    </tr>\n",
              "  </thead>\n",
              "  <tbody>\n",
              "    <tr>\n",
              "      <th>0</th>\n",
              "      <td>0</td>\n",
              "      <td>dsl_data/audio/speakers/2BqVo8kVB2Skwgyb/0a312...</td>\n",
              "      <td>2BqVo8kVB2Skwgyb</td>\n",
              "      <td>change language</td>\n",
              "      <td>none</td>\n",
              "      <td>advanced</td>\n",
              "      <td>English (United States)</td>\n",
              "      <td>English (United States)</td>\n",
              "      <td>female</td>\n",
              "      <td>22-40</td>\n",
              "      <td>5</td>\n",
              "    </tr>\n",
              "    <tr>\n",
              "      <th>1</th>\n",
              "      <td>1</td>\n",
              "      <td>dsl_data/audio/speakers/2BqVo8kVB2Skwgyb/0ee42...</td>\n",
              "      <td>2BqVo8kVB2Skwgyb</td>\n",
              "      <td>activate</td>\n",
              "      <td>music</td>\n",
              "      <td>advanced</td>\n",
              "      <td>English (United States)</td>\n",
              "      <td>English (United States)</td>\n",
              "      <td>female</td>\n",
              "      <td>22-40</td>\n",
              "      <td>6</td>\n",
              "    </tr>\n",
              "    <tr>\n",
              "      <th>2</th>\n",
              "      <td>2</td>\n",
              "      <td>dsl_data/audio/speakers/2BqVo8kVB2Skwgyb/1d9f3...</td>\n",
              "      <td>2BqVo8kVB2Skwgyb</td>\n",
              "      <td>deactivate</td>\n",
              "      <td>lights</td>\n",
              "      <td>advanced</td>\n",
              "      <td>English (United States)</td>\n",
              "      <td>English (United States)</td>\n",
              "      <td>female</td>\n",
              "      <td>22-40</td>\n",
              "      <td>7</td>\n",
              "    </tr>\n",
              "    <tr>\n",
              "      <th>3</th>\n",
              "      <td>3</td>\n",
              "      <td>dsl_data/audio/speakers/2BqVo8kVB2Skwgyb/269fc...</td>\n",
              "      <td>2BqVo8kVB2Skwgyb</td>\n",
              "      <td>increase</td>\n",
              "      <td>volume</td>\n",
              "      <td>advanced</td>\n",
              "      <td>English (United States)</td>\n",
              "      <td>English (United States)</td>\n",
              "      <td>female</td>\n",
              "      <td>22-40</td>\n",
              "      <td>1</td>\n",
              "    </tr>\n",
              "    <tr>\n",
              "      <th>4</th>\n",
              "      <td>4</td>\n",
              "      <td>dsl_data/audio/speakers/2BqVo8kVB2Skwgyb/5bbda...</td>\n",
              "      <td>2BqVo8kVB2Skwgyb</td>\n",
              "      <td>increase</td>\n",
              "      <td>volume</td>\n",
              "      <td>advanced</td>\n",
              "      <td>English (United States)</td>\n",
              "      <td>English (United States)</td>\n",
              "      <td>female</td>\n",
              "      <td>22-40</td>\n",
              "      <td>1</td>\n",
              "    </tr>\n",
              "    <tr>\n",
              "      <th>...</th>\n",
              "      <td>...</td>\n",
              "      <td>...</td>\n",
              "      <td>...</td>\n",
              "      <td>...</td>\n",
              "      <td>...</td>\n",
              "      <td>...</td>\n",
              "      <td>...</td>\n",
              "      <td>...</td>\n",
              "      <td>...</td>\n",
              "      <td>...</td>\n",
              "      <td>...</td>\n",
              "    </tr>\n",
              "    <tr>\n",
              "      <th>9849</th>\n",
              "      <td>9849</td>\n",
              "      <td>dsl_data/audio/speakers/vnljypgejkINbBAY/4fb3d...</td>\n",
              "      <td>vnljypgejkINbBAY</td>\n",
              "      <td>decrease</td>\n",
              "      <td>volume</td>\n",
              "      <td>native</td>\n",
              "      <td>English (United States)</td>\n",
              "      <td>English (United States)</td>\n",
              "      <td>male</td>\n",
              "      <td>22-40</td>\n",
              "      <td>3</td>\n",
              "    </tr>\n",
              "    <tr>\n",
              "      <th>9850</th>\n",
              "      <td>9850</td>\n",
              "      <td>dsl_data/audio/speakers/vnljypgejkINbBAY/59e6a...</td>\n",
              "      <td>vnljypgejkINbBAY</td>\n",
              "      <td>deactivate</td>\n",
              "      <td>lights</td>\n",
              "      <td>native</td>\n",
              "      <td>English (United States)</td>\n",
              "      <td>English (United States)</td>\n",
              "      <td>male</td>\n",
              "      <td>22-40</td>\n",
              "      <td>7</td>\n",
              "    </tr>\n",
              "    <tr>\n",
              "      <th>9851</th>\n",
              "      <td>9851</td>\n",
              "      <td>dsl_data/audio/speakers/vnljypgejkINbBAY/5c81c...</td>\n",
              "      <td>vnljypgejkINbBAY</td>\n",
              "      <td>deactivate</td>\n",
              "      <td>lights</td>\n",
              "      <td>native</td>\n",
              "      <td>English (United States)</td>\n",
              "      <td>English (United States)</td>\n",
              "      <td>male</td>\n",
              "      <td>22-40</td>\n",
              "      <td>7</td>\n",
              "    </tr>\n",
              "    <tr>\n",
              "      <th>9852</th>\n",
              "      <td>9852</td>\n",
              "      <td>dsl_data/audio/speakers/vnljypgejkINbBAY/5ef42...</td>\n",
              "      <td>vnljypgejkINbBAY</td>\n",
              "      <td>deactivate</td>\n",
              "      <td>lights</td>\n",
              "      <td>native</td>\n",
              "      <td>English (United States)</td>\n",
              "      <td>English (United States)</td>\n",
              "      <td>male</td>\n",
              "      <td>22-40</td>\n",
              "      <td>7</td>\n",
              "    </tr>\n",
              "    <tr>\n",
              "      <th>9853</th>\n",
              "      <td>9853</td>\n",
              "      <td>dsl_data/audio/speakers/vnljypgejkINbBAY/61b7a...</td>\n",
              "      <td>vnljypgejkINbBAY</td>\n",
              "      <td>increase</td>\n",
              "      <td>volume</td>\n",
              "      <td>native</td>\n",
              "      <td>English (United States)</td>\n",
              "      <td>English (United States)</td>\n",
              "      <td>male</td>\n",
              "      <td>22-40</td>\n",
              "      <td>1</td>\n",
              "    </tr>\n",
              "  </tbody>\n",
              "</table>\n",
              "<p>9854 rows × 11 columns</p>\n",
              "</div>\n",
              "      <button class=\"colab-df-convert\" onclick=\"convertToInteractive('df-8cee14d7-3935-4f69-9ade-de4b85b96d15')\"\n",
              "              title=\"Convert this dataframe to an interactive table.\"\n",
              "              style=\"display:none;\">\n",
              "        \n",
              "  <svg xmlns=\"http://www.w3.org/2000/svg\" height=\"24px\"viewBox=\"0 0 24 24\"\n",
              "       width=\"24px\">\n",
              "    <path d=\"M0 0h24v24H0V0z\" fill=\"none\"/>\n",
              "    <path d=\"M18.56 5.44l.94 2.06.94-2.06 2.06-.94-2.06-.94-.94-2.06-.94 2.06-2.06.94zm-11 1L8.5 8.5l.94-2.06 2.06-.94-2.06-.94L8.5 2.5l-.94 2.06-2.06.94zm10 10l.94 2.06.94-2.06 2.06-.94-2.06-.94-.94-2.06-.94 2.06-2.06.94z\"/><path d=\"M17.41 7.96l-1.37-1.37c-.4-.4-.92-.59-1.43-.59-.52 0-1.04.2-1.43.59L10.3 9.45l-7.72 7.72c-.78.78-.78 2.05 0 2.83L4 21.41c.39.39.9.59 1.41.59.51 0 1.02-.2 1.41-.59l7.78-7.78 2.81-2.81c.8-.78.8-2.07 0-2.86zM5.41 20L4 18.59l7.72-7.72 1.47 1.35L5.41 20z\"/>\n",
              "  </svg>\n",
              "      </button>\n",
              "      \n",
              "  <style>\n",
              "    .colab-df-container {\n",
              "      display:flex;\n",
              "      flex-wrap:wrap;\n",
              "      gap: 12px;\n",
              "    }\n",
              "\n",
              "    .colab-df-convert {\n",
              "      background-color: #E8F0FE;\n",
              "      border: none;\n",
              "      border-radius: 50%;\n",
              "      cursor: pointer;\n",
              "      display: none;\n",
              "      fill: #1967D2;\n",
              "      height: 32px;\n",
              "      padding: 0 0 0 0;\n",
              "      width: 32px;\n",
              "    }\n",
              "\n",
              "    .colab-df-convert:hover {\n",
              "      background-color: #E2EBFA;\n",
              "      box-shadow: 0px 1px 2px rgba(60, 64, 67, 0.3), 0px 1px 3px 1px rgba(60, 64, 67, 0.15);\n",
              "      fill: #174EA6;\n",
              "    }\n",
              "\n",
              "    [theme=dark] .colab-df-convert {\n",
              "      background-color: #3B4455;\n",
              "      fill: #D2E3FC;\n",
              "    }\n",
              "\n",
              "    [theme=dark] .colab-df-convert:hover {\n",
              "      background-color: #434B5C;\n",
              "      box-shadow: 0px 1px 3px 1px rgba(0, 0, 0, 0.15);\n",
              "      filter: drop-shadow(0px 1px 2px rgba(0, 0, 0, 0.3));\n",
              "      fill: #FFFFFF;\n",
              "    }\n",
              "  </style>\n",
              "\n",
              "      <script>\n",
              "        const buttonEl =\n",
              "          document.querySelector('#df-8cee14d7-3935-4f69-9ade-de4b85b96d15 button.colab-df-convert');\n",
              "        buttonEl.style.display =\n",
              "          google.colab.kernel.accessAllowed ? 'block' : 'none';\n",
              "\n",
              "        async function convertToInteractive(key) {\n",
              "          const element = document.querySelector('#df-8cee14d7-3935-4f69-9ade-de4b85b96d15');\n",
              "          const dataTable =\n",
              "            await google.colab.kernel.invokeFunction('convertToInteractive',\n",
              "                                                     [key], {});\n",
              "          if (!dataTable) return;\n",
              "\n",
              "          const docLinkHtml = 'Like what you see? Visit the ' +\n",
              "            '<a target=\"_blank\" href=https://colab.research.google.com/notebooks/data_table.ipynb>data table notebook</a>'\n",
              "            + ' to learn more about interactive tables.';\n",
              "          element.innerHTML = '';\n",
              "          dataTable['output_type'] = 'display_data';\n",
              "          await google.colab.output.renderOutput(dataTable, element);\n",
              "          const docLink = document.createElement('div');\n",
              "          docLink.innerHTML = docLinkHtml;\n",
              "          element.appendChild(docLink);\n",
              "        }\n",
              "      </script>\n",
              "    </div>\n",
              "  </div>\n",
              "  "
            ]
          },
          "metadata": {},
          "execution_count": 41
        }
      ],
      "source": [
        "#df_development_increase_volume = df_development.loc[(df_development['action'] == 'increase') & (df_development['object'] == 'volume')]\n",
        "df_development['labels']=0\n",
        "\n",
        "#df_development_increase_volume = df_development.loc[(df_development['action'] == 'increase') & (df_development['object'] == 'volume')]\n",
        "df_development.loc[(df_development['action'] == 'increase') & (df_development['object'] == 'volume'), 'labels']=1\n",
        "df_development.loc[(df_development['action'] == 'increase') & (df_development['object'] == 'heat'), 'labels']=2\n",
        "\n",
        "df_development.loc[(df_development['action'] == 'decrease') & (df_development['object'] == 'volume'), 'labels']=3\n",
        "df_development.loc[(df_development['action'] == 'decrease') & (df_development['object'] == 'heat'), 'labels']=4\n",
        "\n",
        "df_development.loc[(df_development['action'] == 'change language') & (df_development['object'] == 'none'), 'labels']=5\n",
        "\n",
        "df_development.loc[(df_development['action'] == 'activate') & (df_development['object'] == 'music'), 'labels']=6\n",
        "df_development.loc[(df_development['action'] == 'deactivate') & (df_development['object'] == 'lights'), 'labels']=7\n",
        "\n",
        "df_development\n",
        "#df_development.labels.value_counts() #check"
      ]
    },
    {
      "cell_type": "code",
      "execution_count": 42,
      "id": "77027838",
      "metadata": {
        "colab": {
          "base_uri": "https://localhost:8080/"
        },
        "id": "77027838",
        "outputId": "78210063-3c81-4f1f-c1b1-791d23f636f9"
      },
      "outputs": [
        {
          "output_type": "execute_result",
          "data": {
            "text/plain": [
              "Id                                                                                    9845\n",
              "path                                     dsl_data/audio/speakers/Pz327QrLaGuxW8Do/20e47...\n",
              "speakerId                                                                 Pz327QrLaGuxW8Do\n",
              "action                                                                     change language\n",
              "object                                                                                none\n",
              "Self-reported fluency level                                                         native\n",
              "First Language spoken                                              English (United States)\n",
              "Current language used for work/school                              English (United States)\n",
              "gender                                                                              female\n",
              "ageRange                                                                             22-40\n",
              "labels                                                                                   5\n",
              "Name: 9845, dtype: object"
            ]
          },
          "metadata": {},
          "execution_count": 42
        }
      ],
      "source": [
        "df_development.iloc[9845]"
      ]
    },
    {
      "cell_type": "code",
      "execution_count": 43,
      "id": "6260f815",
      "metadata": {
        "id": "6260f815"
      },
      "outputs": [],
      "source": [
        "if colab == True:\n",
        "  path_working_directory= r'/content/drive/MyDrive/'\n",
        "else:\n",
        "  path_working_directory = r'C:/Users/andre/OneDrive/Documenti/GitHub/winter_exam_22_23'\n",
        "paths_recordings = df_development['path']"
      ]
    },
    {
      "cell_type": "markdown",
      "id": "d77cc0ad",
      "metadata": {
        "id": "d77cc0ad"
      },
      "source": [
        "Load pickle file."
      ]
    },
    {
      "cell_type": "code",
      "execution_count": 71,
      "id": "299159e9",
      "metadata": {
        "id": "299159e9"
      },
      "outputs": [],
      "source": [
        "name_file = r'/df.pickle'\n",
        "\n",
        "with open(path_working_directory+name_file, 'rb') as f:\n",
        "        df = pickle.load(f)\n",
        "df_pd = pd.DataFrame({'audio':df[1], 'gender': df_development.gender, 'ageRange': df_development.ageRange, 'label':df[3]})\n",
        "#df_pd[9840:9845] ETICHETTATO COME FEMALE MA SECONDO ME E MALE"
      ]
    },
    {
      "cell_type": "code",
      "execution_count": 72,
      "id": "62e60bdf",
      "metadata": {
        "id": "62e60bdf"
      },
      "outputs": [],
      "source": [
        "# Test\n",
        "# df_female = df_development[df_development['gender']=='female']\n",
        "# df_female"
      ]
    },
    {
      "cell_type": "code",
      "execution_count": 73,
      "id": "d1f9c840",
      "metadata": {
        "id": "d1f9c840"
      },
      "outputs": [],
      "source": [
        "# Test\n",
        "# df_development.gender.value_counts()"
      ]
    },
    {
      "cell_type": "code",
      "execution_count": 74,
      "id": "22b09ddc",
      "metadata": {
        "id": "22b09ddc"
      },
      "outputs": [],
      "source": [
        "# Test\n",
        "# index = 9845\n",
        "# path_audio = df_development.path[index]\n",
        "# path_working_directory+'/'+path_audio\n",
        "# ipd.Audio(path_working_directory+'/'+path_audio)"
      ]
    },
    {
      "cell_type": "markdown",
      "id": "ad37994b",
      "metadata": {
        "id": "ad37994b"
      },
      "source": [
        " if len(item)/sr  >= 5 and len(item)/sr  <=7.5:\n",
        " \n",
        "n_samples /sr = seconds\n",
        "n_samples = seconds*sr\n"
      ]
    },
    {
      "cell_type": "code",
      "execution_count": 75,
      "id": "ab18ef28",
      "metadata": {
        "id": "ab18ef28"
      },
      "outputs": [],
      "source": [
        "# 10e-3*sr"
      ]
    },
    {
      "cell_type": "code",
      "execution_count": 76,
      "id": "899adb0c",
      "metadata": {
        "id": "899adb0c"
      },
      "outputs": [],
      "source": [
        "# 2048/sr"
      ]
    },
    {
      "cell_type": "markdown",
      "id": "2ecc2011",
      "metadata": {
        "id": "2ecc2011"
      },
      "source": [
        "See distribution of audio length"
      ]
    },
    {
      "cell_type": "code",
      "execution_count": 79,
      "id": "135b02bb",
      "metadata": {
        "colab": {
          "base_uri": "https://localhost:8080/",
          "height": 733
        },
        "id": "135b02bb",
        "outputId": "d3819384-752b-4329-ea25-263bff4333f0"
      },
      "outputs": [
        {
          "output_type": "execute_result",
          "data": {
            "text/plain": [
              "<matplotlib.axes._subplots.AxesSubplot at 0x7f8a8073fe20>"
            ]
          },
          "metadata": {},
          "execution_count": 79
        },
        {
          "output_type": "display_data",
          "data": {
            "text/plain": [
              "<Figure size 864x864 with 1 Axes>"
            ],
            "image/png": "[encoded data removed]"
          },
          "metadata": {
            "needs_background": "light"
          }
        }
      ],
      "source": [
        "length_audios = []\n",
        "length_audios_seconds = []\n",
        "indexes = []\n",
        "i = 0\n",
        "\n",
        "for item,sr in zip(df[1], df[2]):\n",
        "    length_audios.append(len(item))\n",
        "    length_audios_seconds.append(len(item)/sr)\n",
        "#   Decomment if you are interested in retrieve indexes of audio within a specific range \n",
        "    if len(item)/sr  >= 5 and len(item)/sr  <=7.5:\n",
        "        indexes.append(i)\n",
        "    i = i+1\n",
        "        \n",
        "\n",
        "length_audios=pd.Series(length_audios)\n",
        "length_audios_seconds = pd.Series(length_audios_seconds)\n",
        "#print(length_audios_seconds.value_counts())\n",
        "plt.figure(figsize=(12,12))\n",
        "plt.title(\"Lenght of audios distribution (seconds)\")\n",
        "length_audios_seconds.hist()\n",
        "#print(length_audios_seconds)\n"
      ]
    },
    {
      "cell_type": "code",
      "execution_count": 80,
      "id": "49dc0779",
      "metadata": {
        "colab": {
          "base_uri": "https://localhost:8080/"
        },
        "id": "49dc0779",
        "outputId": "36651d91-00b8-4782-f98a-12378003b9b8"
      },
      "outputs": [
        {
          "output_type": "execute_result",
          "data": {
            "text/plain": [
              "[3079,\n",
              " 3179,\n",
              " 3799,\n",
              " 3807,\n",
              " 3839,\n",
              " 4073,\n",
              " 4802,\n",
              " 7123,\n",
              " 7684,\n",
              " 8140,\n",
              " 8141,\n",
              " 8228,\n",
              " 8229,\n",
              " 8230,\n",
              " 8528]"
            ]
          },
          "metadata": {},
          "execution_count": 80
        }
      ],
      "source": [
        "indexes"
      ]
    },
    {
      "cell_type": "code",
      "execution_count": 81,
      "id": "1b4430aa",
      "metadata": {
        "id": "1b4430aa"
      },
      "outputs": [],
      "source": [
        "# See info of audios within specific range\n",
        "#df_pd.iloc[indexes]"
      ]
    },
    {
      "cell_type": "code",
      "execution_count": 82,
      "id": "45ca3f17",
      "metadata": {
        "id": "45ca3f17"
      },
      "outputs": [],
      "source": [
        "# index = 7123\n",
        "# path_audio = df_development.path[index]\n",
        "# path_working_directory+'/'+path_audio\n",
        "# ipd.Audio(df_pd['audio'][7123], rate=22050)"
      ]
    },
    {
      "cell_type": "markdown",
      "id": "c03ffa82",
      "metadata": {
        "id": "c03ffa82"
      },
      "source": [
        "### 2. Pre-Processing"
      ]
    },
    {
      "cell_type": "markdown",
      "id": "12ce9a7a",
      "metadata": {
        "id": "12ce9a7a"
      },
      "source": [
        "According to several papers focused on audio classification, VDA is among one of the most preprocessing techinque adopted which aims to trim all the silence parts away from audio files.\n",
        "\n",
        "To apply it, we will use _trim_ and _split_ librosa functions.\n",
        "\n",
        "- _trim_: cut silence frames at the beginning and in the end of an audio file.\n",
        "- _split_: saves the indexes (start, stop) of each non-silent frame in the audio file."
      ]
    },
    {
      "cell_type": "markdown",
      "id": "b8f3734b",
      "metadata": {
        "id": "b8f3734b"
      },
      "source": [
        "#### Trim"
      ]
    },
    {
      "cell_type": "code",
      "execution_count": 83,
      "id": "d01ba7a5",
      "metadata": {
        "colab": {
          "base_uri": "https://localhost:8080/",
          "height": 423
        },
        "id": "d01ba7a5",
        "outputId": "a97e839c-76f7-45cd-904d-413a0ffa00c2"
      },
      "outputs": [
        {
          "output_type": "execute_result",
          "data": {
            "text/plain": [
              "                                                  audio  gender ageRange  \\\n",
              "0     [0.0, 0.0, 0.0, 0.0, 0.0, 0.0, 0.0, 0.0, 0.0, ...  female    22-40   \n",
              "1     [0.0, 0.0, 0.0, 0.0, 0.0, 0.0, 0.0, 0.0, 0.0, ...  female    22-40   \n",
              "2     [0.0, 0.0, 0.0, 0.0, 0.0, 0.0, 0.0, 0.0, 0.0, ...  female    22-40   \n",
              "3     [0.0, 0.0, 0.0, 0.0, 0.0, 0.0, 0.0, 0.0, 0.0, ...  female    22-40   \n",
              "4     [0.0, 0.0, 0.0, 0.0, 0.0, 0.0, 0.0, 0.0, 0.0, ...  female    22-40   \n",
              "...                                                 ...     ...      ...   \n",
              "9849  [0.009223618, 0.010777138, 0.009321626, 0.0099...    male    22-40   \n",
              "9850  [0.00936052, 0.010867924, 0.009305291, 0.00991...    male    22-40   \n",
              "9851  [0.0014334349, 0.001723074, 0.0015384919, 0.00...    male    22-40   \n",
              "9852  [0.009742705, 0.011407773, 0.009794228, 0.0103...    male    22-40   \n",
              "9853  [0.009512647, 0.011129991, 0.00956014, 0.01007...    male    22-40   \n",
              "\n",
              "      label                                         audio_trim  \n",
              "0         5  [-0.0010869442, 6.950152e-05, 0.0010575794, 1....  \n",
              "1         6  [0.0005718688, 0.0005805124, 0.00058862584, 0....  \n",
              "2         7  [3.145638e-05, 3.0807154e-05, 2.8492566e-05, 3...  \n",
              "3         1  [0.0076071513, 0.008677023, 0.009811347, 0.010...  \n",
              "4         1  [4.5547e-06, 2.4867417e-05, 3.363467e-05, 3.05...  \n",
              "...     ...                                                ...  \n",
              "9849      3  [-0.012367419, -0.01213057, -0.011735419, -0.0...  \n",
              "9850      7  [-0.00086439366, 0.011530005, 0.0026797082, -0...  \n",
              "9851      7  [0.0048560956, -3.8896687e-05, -0.00041252645,...  \n",
              "9852      7  [0.003923648, 0.0039615026, 0.0041058823, 0.00...  \n",
              "9853      1  [-0.02300861, -0.022161294, -0.021594988, -0.0...  \n",
              "\n",
              "[9854 rows x 5 columns]"
            ],
            "text/html": [
              "\n",
              "  <div id=\"df-51f9f373-a6e5-4b13-afcd-47ee8f8fa203\">\n",
              "    <div class=\"colab-df-container\">\n",
              "      <div>\n",
              "<style scoped>\n",
              "    .dataframe tbody tr th:only-of-type {\n",
              "        vertical-align: middle;\n",
              "    }\n",
              "\n",
              "    .dataframe tbody tr th {\n",
              "        vertical-align: top;\n",
              "    }\n",
              "\n",
              "    .dataframe thead th {\n",
              "        text-align: right;\n",
              "    }\n",
              "</style>\n",
              "<table border=\"1\" class=\"dataframe\">\n",
              "  <thead>\n",
              "    <tr style=\"text-align: right;\">\n",
              "      <th></th>\n",
              "      <th>audio</th>\n",
              "      <th>gender</th>\n",
              "      <th>ageRange</th>\n",
              "      <th>label</th>\n",
              "      <th>audio_trim</th>\n",
              "    </tr>\n",
              "  </thead>\n",
              "  <tbody>\n",
              "    <tr>\n",
              "      <th>0</th>\n",
              "      <td>[0.0, 0.0, 0.0, 0.0, 0.0, 0.0, 0.0, 0.0, 0.0, ...</td>\n",
              "      <td>female</td>\n",
              "      <td>22-40</td>\n",
              "      <td>5</td>\n",
              "      <td>[-0.0010869442, 6.950152e-05, 0.0010575794, 1....</td>\n",
              "    </tr>\n",
              "    <tr>\n",
              "      <th>1</th>\n",
              "      <td>[0.0, 0.0, 0.0, 0.0, 0.0, 0.0, 0.0, 0.0, 0.0, ...</td>\n",
              "      <td>female</td>\n",
              "      <td>22-40</td>\n",
              "      <td>6</td>\n",
              "      <td>[0.0005718688, 0.0005805124, 0.00058862584, 0....</td>\n",
              "    </tr>\n",
              "    <tr>\n",
              "      <th>2</th>\n",
              "      <td>[0.0, 0.0, 0.0, 0.0, 0.0, 0.0, 0.0, 0.0, 0.0, ...</td>\n",
              "      <td>female</td>\n",
              "      <td>22-40</td>\n",
              "      <td>7</td>\n",
              "      <td>[3.145638e-05, 3.0807154e-05, 2.8492566e-05, 3...</td>\n",
              "    </tr>\n",
              "    <tr>\n",
              "      <th>3</th>\n",
              "      <td>[0.0, 0.0, 0.0, 0.0, 0.0, 0.0, 0.0, 0.0, 0.0, ...</td>\n",
              "      <td>female</td>\n",
              "      <td>22-40</td>\n",
              "      <td>1</td>\n",
              "      <td>[0.0076071513, 0.008677023, 0.009811347, 0.010...</td>\n",
              "    </tr>\n",
              "    <tr>\n",
              "      <th>4</th>\n",
              "      <td>[0.0, 0.0, 0.0, 0.0, 0.0, 0.0, 0.0, 0.0, 0.0, ...</td>\n",
              "      <td>female</td>\n",
              "      <td>22-40</td>\n",
              "      <td>1</td>\n",
              "      <td>[4.5547e-06, 2.4867417e-05, 3.363467e-05, 3.05...</td>\n",
              "    </tr>\n",
              "    <tr>\n",
              "      <th>...</th>\n",
              "      <td>...</td>\n",
              "      <td>...</td>\n",
              "      <td>...</td>\n",
              "      <td>...</td>\n",
              "      <td>...</td>\n",
              "    </tr>\n",
              "    <tr>\n",
              "      <th>9849</th>\n",
              "      <td>[0.009223618, 0.010777138, 0.009321626, 0.0099...</td>\n",
              "      <td>male</td>\n",
              "      <td>22-40</td>\n",
              "      <td>3</td>\n",
              "      <td>[-0.012367419, -0.01213057, -0.011735419, -0.0...</td>\n",
              "    </tr>\n",
              "    <tr>\n",
              "      <th>9850</th>\n",
              "      <td>[0.00936052, 0.010867924, 0.009305291, 0.00991...</td>\n",
              "      <td>male</td>\n",
              "      <td>22-40</td>\n",
              "      <td>7</td>\n",
              "      <td>[-0.00086439366, 0.011530005, 0.0026797082, -0...</td>\n",
              "    </tr>\n",
              "    <tr>\n",
              "      <th>9851</th>\n",
              "      <td>[0.0014334349, 0.001723074, 0.0015384919, 0.00...</td>\n",
              "      <td>male</td>\n",
              "      <td>22-40</td>\n",
              "      <td>7</td>\n",
              "      <td>[0.0048560956, -3.8896687e-05, -0.00041252645,...</td>\n",
              "    </tr>\n",
              "    <tr>\n",
              "      <th>9852</th>\n",
              "      <td>[0.009742705, 0.011407773, 0.009794228, 0.0103...</td>\n",
              "      <td>male</td>\n",
              "      <td>22-40</td>\n",
              "      <td>7</td>\n",
              "      <td>[0.003923648, 0.0039615026, 0.0041058823, 0.00...</td>\n",
              "    </tr>\n",
              "    <tr>\n",
              "      <th>9853</th>\n",
              "      <td>[0.009512647, 0.011129991, 0.00956014, 0.01007...</td>\n",
              "      <td>male</td>\n",
              "      <td>22-40</td>\n",
              "      <td>1</td>\n",
              "      <td>[-0.02300861, -0.022161294, -0.021594988, -0.0...</td>\n",
              "    </tr>\n",
              "  </tbody>\n",
              "</table>\n",
              "<p>9854 rows × 5 columns</p>\n",
              "</div>\n",
              "      <button class=\"colab-df-convert\" onclick=\"convertToInteractive('df-51f9f373-a6e5-4b13-afcd-47ee8f8fa203')\"\n",
              "              title=\"Convert this dataframe to an interactive table.\"\n",
              "              style=\"display:none;\">\n",
              "        \n",
              "  <svg xmlns=\"http://www.w3.org/2000/svg\" height=\"24px\"viewBox=\"0 0 24 24\"\n",
              "       width=\"24px\">\n",
              "    <path d=\"M0 0h24v24H0V0z\" fill=\"none\"/>\n",
              "    <path d=\"M18.56 5.44l.94 2.06.94-2.06 2.06-.94-2.06-.94-.94-2.06-.94 2.06-2.06.94zm-11 1L8.5 8.5l.94-2.06 2.06-.94-2.06-.94L8.5 2.5l-.94 2.06-2.06.94zm10 10l.94 2.06.94-2.06 2.06-.94-2.06-.94-.94-2.06-.94 2.06-2.06.94z\"/><path d=\"M17.41 7.96l-1.37-1.37c-.4-.4-.92-.59-1.43-.59-.52 0-1.04.2-1.43.59L10.3 9.45l-7.72 7.72c-.78.78-.78 2.05 0 2.83L4 21.41c.39.39.9.59 1.41.59.51 0 1.02-.2 1.41-.59l7.78-7.78 2.81-2.81c.8-.78.8-2.07 0-2.86zM5.41 20L4 18.59l7.72-7.72 1.47 1.35L5.41 20z\"/>\n",
              "  </svg>\n",
              "      </button>\n",
              "      \n",
              "  <style>\n",
              "    .colab-df-container {\n",
              "      display:flex;\n",
              "      flex-wrap:wrap;\n",
              "      gap: 12px;\n",
              "    }\n",
              "\n",
              "    .colab-df-convert {\n",
              "      background-color: #E8F0FE;\n",
              "      border: none;\n",
              "      border-radius: 50%;\n",
              "      cursor: pointer;\n",
              "      display: none;\n",
              "      fill: #1967D2;\n",
              "      height: 32px;\n",
              "      padding: 0 0 0 0;\n",
              "      width: 32px;\n",
              "    }\n",
              "\n",
              "    .colab-df-convert:hover {\n",
              "      background-color: #E2EBFA;\n",
              "      box-shadow: 0px 1px 2px rgba(60, 64, 67, 0.3), 0px 1px 3px 1px rgba(60, 64, 67, 0.15);\n",
              "      fill: #174EA6;\n",
              "    }\n",
              "\n",
              "    [theme=dark] .colab-df-convert {\n",
              "      background-color: #3B4455;\n",
              "      fill: #D2E3FC;\n",
              "    }\n",
              "\n",
              "    [theme=dark] .colab-df-convert:hover {\n",
              "      background-color: #434B5C;\n",
              "      box-shadow: 0px 1px 3px 1px rgba(0, 0, 0, 0.15);\n",
              "      filter: drop-shadow(0px 1px 2px rgba(0, 0, 0, 0.3));\n",
              "      fill: #FFFFFF;\n",
              "    }\n",
              "  </style>\n",
              "\n",
              "      <script>\n",
              "        const buttonEl =\n",
              "          document.querySelector('#df-51f9f373-a6e5-4b13-afcd-47ee8f8fa203 button.colab-df-convert');\n",
              "        buttonEl.style.display =\n",
              "          google.colab.kernel.accessAllowed ? 'block' : 'none';\n",
              "\n",
              "        async function convertToInteractive(key) {\n",
              "          const element = document.querySelector('#df-51f9f373-a6e5-4b13-afcd-47ee8f8fa203');\n",
              "          const dataTable =\n",
              "            await google.colab.kernel.invokeFunction('convertToInteractive',\n",
              "                                                     [key], {});\n",
              "          if (!dataTable) return;\n",
              "\n",
              "          const docLinkHtml = 'Like what you see? Visit the ' +\n",
              "            '<a target=\"_blank\" href=https://colab.research.google.com/notebooks/data_table.ipynb>data table notebook</a>'\n",
              "            + ' to learn more about interactive tables.';\n",
              "          element.innerHTML = '';\n",
              "          dataTable['output_type'] = 'display_data';\n",
              "          await google.colab.output.renderOutput(dataTable, element);\n",
              "          const docLink = document.createElement('div');\n",
              "          docLink.innerHTML = docLinkHtml;\n",
              "          element.appendChild(docLink);\n",
              "        }\n",
              "      </script>\n",
              "    </div>\n",
              "  </div>\n",
              "  "
            ]
          },
          "metadata": {},
          "execution_count": 83
        }
      ],
      "source": [
        "trim_audios = []\n",
        "for i, audio in enumerate(df_pd.audio):\n",
        "    audio_trim = librosa.effects.trim(audio, top_db=20)[0]\n",
        "    trim_audios.append(audio_trim)\n",
        "    \n",
        "df_pd['audio_trim'] = trim_audios    \n",
        "df_pd"
      ]
    },
    {
      "cell_type": "code",
      "execution_count": 85,
      "id": "c98121bd",
      "metadata": {
        "colab": {
          "base_uri": "https://localhost:8080/",
          "height": 733
        },
        "id": "c98121bd",
        "outputId": "c4bb5f04-9d6f-457d-c265-4196cbea7669"
      },
      "outputs": [
        {
          "output_type": "execute_result",
          "data": {
            "text/plain": [
              "<matplotlib.axes._subplots.AxesSubplot at 0x7f8a824b5670>"
            ]
          },
          "metadata": {},
          "execution_count": 85
        },
        {
          "output_type": "display_data",
          "data": {
            "text/plain": [
              "<Figure size 864x864 with 1 Axes>"
            ],
            "image/png": "[encoded data removed]"
          },
          "metadata": {
            "needs_background": "light"
          }
        }
      ],
      "source": [
        "length_audios_trim = []\n",
        "length_audios_seconds_trim = []\n",
        "indexes = []\n",
        "i = 0\n",
        "\n",
        "for item in df_pd.audio_trim:\n",
        "    length_audios_trim.append(len(item))\n",
        "    length_audios_seconds_trim.append(len(item)/sr)\n",
        "#   Decomment if you are interested in retrieve indexes of audio within a specific range \n",
        "    if len(item)/sr  > 4: # se 2.64 prestazioni minori\n",
        "        indexes.append(i)\n",
        "    i = i+1\n",
        "        \n",
        "\n",
        "length_audios_trim=pd.Series(length_audios_trim)\n",
        "length_audios_seconds_trim = pd.Series(length_audios_seconds_trim)\n",
        "#print(length_audios_seconds.value_counts())\n",
        "plt.figure(figsize=(12,12))\n",
        "plt.title(\"Lenght of audios distribution (seconds)\")\n",
        "length_audios_seconds_trim.hist()\n",
        "#print(length_audios_seconds)\n"
      ]
    },
    {
      "cell_type": "code",
      "execution_count": 86,
      "id": "11fabeb9",
      "metadata": {
        "colab": {
          "base_uri": "https://localhost:8080/"
        },
        "id": "11fabeb9",
        "outputId": "ac2bfabb-5cac-487d-84ca-5ca3c2ef9e05"
      },
      "outputs": [
        {
          "output_type": "execute_result",
          "data": {
            "text/plain": [
              "6"
            ]
          },
          "metadata": {},
          "execution_count": 86
        }
      ],
      "source": [
        "len(indexes)"
      ]
    },
    {
      "cell_type": "code",
      "execution_count": 87,
      "id": "5aa71035",
      "metadata": {
        "scrolled": true,
        "colab": {
          "base_uri": "https://localhost:8080/",
          "height": 423
        },
        "id": "5aa71035",
        "outputId": "488c284c-0ba2-49e4-fcc7-3abe1785563b"
      },
      "outputs": [
        {
          "output_type": "execute_result",
          "data": {
            "text/plain": [
              "                                                  audio  gender ageRange  \\\n",
              "0     [0.0, 0.0, 0.0, 0.0, 0.0, 0.0, 0.0, 0.0, 0.0, ...  female    22-40   \n",
              "1     [0.0, 0.0, 0.0, 0.0, 0.0, 0.0, 0.0, 0.0, 0.0, ...  female    22-40   \n",
              "2     [0.0, 0.0, 0.0, 0.0, 0.0, 0.0, 0.0, 0.0, 0.0, ...  female    22-40   \n",
              "3     [0.0, 0.0, 0.0, 0.0, 0.0, 0.0, 0.0, 0.0, 0.0, ...  female    22-40   \n",
              "4     [0.0, 0.0, 0.0, 0.0, 0.0, 0.0, 0.0, 0.0, 0.0, ...  female    22-40   \n",
              "...                                                 ...     ...      ...   \n",
              "9843  [0.009223618, 0.010777138, 0.009321626, 0.0099...    male    22-40   \n",
              "9844  [0.00936052, 0.010867924, 0.009305291, 0.00991...    male    22-40   \n",
              "9845  [0.0014334349, 0.001723074, 0.0015384919, 0.00...    male    22-40   \n",
              "9846  [0.009742705, 0.011407773, 0.009794228, 0.0103...    male    22-40   \n",
              "9847  [0.009512647, 0.011129991, 0.00956014, 0.01007...    male    22-40   \n",
              "\n",
              "      label                                         audio_trim  \n",
              "0         5  [-0.0010869442, 6.950152e-05, 0.0010575794, 1....  \n",
              "1         6  [0.0005718688, 0.0005805124, 0.00058862584, 0....  \n",
              "2         7  [3.145638e-05, 3.0807154e-05, 2.8492566e-05, 3...  \n",
              "3         1  [0.0076071513, 0.008677023, 0.009811347, 0.010...  \n",
              "4         1  [4.5547e-06, 2.4867417e-05, 3.363467e-05, 3.05...  \n",
              "...     ...                                                ...  \n",
              "9843      3  [-0.012367419, -0.01213057, -0.011735419, -0.0...  \n",
              "9844      7  [-0.00086439366, 0.011530005, 0.0026797082, -0...  \n",
              "9845      7  [0.0048560956, -3.8896687e-05, -0.00041252645,...  \n",
              "9846      7  [0.003923648, 0.0039615026, 0.0041058823, 0.00...  \n",
              "9847      1  [-0.02300861, -0.022161294, -0.021594988, -0.0...  \n",
              "\n",
              "[9848 rows x 5 columns]"
            ],
            "text/html": [
              "\n",
              "  <div id=\"df-bd20dd87-b96e-4db1-bb06-86d376b2a5a3\">\n",
              "    <div class=\"colab-df-container\">\n",
              "      <div>\n",
              "<style scoped>\n",
              "    .dataframe tbody tr th:only-of-type {\n",
              "        vertical-align: middle;\n",
              "    }\n",
              "\n",
              "    .dataframe tbody tr th {\n",
              "        vertical-align: top;\n",
              "    }\n",
              "\n",
              "    .dataframe thead th {\n",
              "        text-align: right;\n",
              "    }\n",
              "</style>\n",
              "<table border=\"1\" class=\"dataframe\">\n",
              "  <thead>\n",
              "    <tr style=\"text-align: right;\">\n",
              "      <th></th>\n",
              "      <th>audio</th>\n",
              "      <th>gender</th>\n",
              "      <th>ageRange</th>\n",
              "      <th>label</th>\n",
              "      <th>audio_trim</th>\n",
              "    </tr>\n",
              "  </thead>\n",
              "  <tbody>\n",
              "    <tr>\n",
              "      <th>0</th>\n",
              "      <td>[0.0, 0.0, 0.0, 0.0, 0.0, 0.0, 0.0, 0.0, 0.0, ...</td>\n",
              "      <td>female</td>\n",
              "      <td>22-40</td>\n",
              "      <td>5</td>\n",
              "      <td>[-0.0010869442, 6.950152e-05, 0.0010575794, 1....</td>\n",
              "    </tr>\n",
              "    <tr>\n",
              "      <th>1</th>\n",
              "      <td>[0.0, 0.0, 0.0, 0.0, 0.0, 0.0, 0.0, 0.0, 0.0, ...</td>\n",
              "      <td>female</td>\n",
              "      <td>22-40</td>\n",
              "      <td>6</td>\n",
              "      <td>[0.0005718688, 0.0005805124, 0.00058862584, 0....</td>\n",
              "    </tr>\n",
              "    <tr>\n",
              "      <th>2</th>\n",
              "      <td>[0.0, 0.0, 0.0, 0.0, 0.0, 0.0, 0.0, 0.0, 0.0, ...</td>\n",
              "      <td>female</td>\n",
              "      <td>22-40</td>\n",
              "      <td>7</td>\n",
              "      <td>[3.145638e-05, 3.0807154e-05, 2.8492566e-05, 3...</td>\n",
              "    </tr>\n",
              "    <tr>\n",
              "      <th>3</th>\n",
              "      <td>[0.0, 0.0, 0.0, 0.0, 0.0, 0.0, 0.0, 0.0, 0.0, ...</td>\n",
              "      <td>female</td>\n",
              "      <td>22-40</td>\n",
              "      <td>1</td>\n",
              "      <td>[0.0076071513, 0.008677023, 0.009811347, 0.010...</td>\n",
              "    </tr>\n",
              "    <tr>\n",
              "      <th>4</th>\n",
              "      <td>[0.0, 0.0, 0.0, 0.0, 0.0, 0.0, 0.0, 0.0, 0.0, ...</td>\n",
              "      <td>female</td>\n",
              "      <td>22-40</td>\n",
              "      <td>1</td>\n",
              "      <td>[4.5547e-06, 2.4867417e-05, 3.363467e-05, 3.05...</td>\n",
              "    </tr>\n",
              "    <tr>\n",
              "      <th>...</th>\n",
              "      <td>...</td>\n",
              "      <td>...</td>\n",
              "      <td>...</td>\n",
              "      <td>...</td>\n",
              "      <td>...</td>\n",
              "    </tr>\n",
              "    <tr>\n",
              "      <th>9843</th>\n",
              "      <td>[0.009223618, 0.010777138, 0.009321626, 0.0099...</td>\n",
              "      <td>male</td>\n",
              "      <td>22-40</td>\n",
              "      <td>3</td>\n",
              "      <td>[-0.012367419, -0.01213057, -0.011735419, -0.0...</td>\n",
              "    </tr>\n",
              "    <tr>\n",
              "      <th>9844</th>\n",
              "      <td>[0.00936052, 0.010867924, 0.009305291, 0.00991...</td>\n",
              "      <td>male</td>\n",
              "      <td>22-40</td>\n",
              "      <td>7</td>\n",
              "      <td>[-0.00086439366, 0.011530005, 0.0026797082, -0...</td>\n",
              "    </tr>\n",
              "    <tr>\n",
              "      <th>9845</th>\n",
              "      <td>[0.0014334349, 0.001723074, 0.0015384919, 0.00...</td>\n",
              "      <td>male</td>\n",
              "      <td>22-40</td>\n",
              "      <td>7</td>\n",
              "      <td>[0.0048560956, -3.8896687e-05, -0.00041252645,...</td>\n",
              "    </tr>\n",
              "    <tr>\n",
              "      <th>9846</th>\n",
              "      <td>[0.009742705, 0.011407773, 0.009794228, 0.0103...</td>\n",
              "      <td>male</td>\n",
              "      <td>22-40</td>\n",
              "      <td>7</td>\n",
              "      <td>[0.003923648, 0.0039615026, 0.0041058823, 0.00...</td>\n",
              "    </tr>\n",
              "    <tr>\n",
              "      <th>9847</th>\n",
              "      <td>[0.009512647, 0.011129991, 0.00956014, 0.01007...</td>\n",
              "      <td>male</td>\n",
              "      <td>22-40</td>\n",
              "      <td>1</td>\n",
              "      <td>[-0.02300861, -0.022161294, -0.021594988, -0.0...</td>\n",
              "    </tr>\n",
              "  </tbody>\n",
              "</table>\n",
              "<p>9848 rows × 5 columns</p>\n",
              "</div>\n",
              "      <button class=\"colab-df-convert\" onclick=\"convertToInteractive('df-bd20dd87-b96e-4db1-bb06-86d376b2a5a3')\"\n",
              "              title=\"Convert this dataframe to an interactive table.\"\n",
              "              style=\"display:none;\">\n",
              "        \n",
              "  <svg xmlns=\"http://www.w3.org/2000/svg\" height=\"24px\"viewBox=\"0 0 24 24\"\n",
              "       width=\"24px\">\n",
              "    <path d=\"M0 0h24v24H0V0z\" fill=\"none\"/>\n",
              "    <path d=\"M18.56 5.44l.94 2.06.94-2.06 2.06-.94-2.06-.94-.94-2.06-.94 2.06-2.06.94zm-11 1L8.5 8.5l.94-2.06 2.06-.94-2.06-.94L8.5 2.5l-.94 2.06-2.06.94zm10 10l.94 2.06.94-2.06 2.06-.94-2.06-.94-.94-2.06-.94 2.06-2.06.94z\"/><path d=\"M17.41 7.96l-1.37-1.37c-.4-.4-.92-.59-1.43-.59-.52 0-1.04.2-1.43.59L10.3 9.45l-7.72 7.72c-.78.78-.78 2.05 0 2.83L4 21.41c.39.39.9.59 1.41.59.51 0 1.02-.2 1.41-.59l7.78-7.78 2.81-2.81c.8-.78.8-2.07 0-2.86zM5.41 20L4 18.59l7.72-7.72 1.47 1.35L5.41 20z\"/>\n",
              "  </svg>\n",
              "      </button>\n",
              "      \n",
              "  <style>\n",
              "    .colab-df-container {\n",
              "      display:flex;\n",
              "      flex-wrap:wrap;\n",
              "      gap: 12px;\n",
              "    }\n",
              "\n",
              "    .colab-df-convert {\n",
              "      background-color: #E8F0FE;\n",
              "      border: none;\n",
              "      border-radius: 50%;\n",
              "      cursor: pointer;\n",
              "      display: none;\n",
              "      fill: #1967D2;\n",
              "      height: 32px;\n",
              "      padding: 0 0 0 0;\n",
              "      width: 32px;\n",
              "    }\n",
              "\n",
              "    .colab-df-convert:hover {\n",
              "      background-color: #E2EBFA;\n",
              "      box-shadow: 0px 1px 2px rgba(60, 64, 67, 0.3), 0px 1px 3px 1px rgba(60, 64, 67, 0.15);\n",
              "      fill: #174EA6;\n",
              "    }\n",
              "\n",
              "    [theme=dark] .colab-df-convert {\n",
              "      background-color: #3B4455;\n",
              "      fill: #D2E3FC;\n",
              "    }\n",
              "\n",
              "    [theme=dark] .colab-df-convert:hover {\n",
              "      background-color: #434B5C;\n",
              "      box-shadow: 0px 1px 3px 1px rgba(0, 0, 0, 0.15);\n",
              "      filter: drop-shadow(0px 1px 2px rgba(0, 0, 0, 0.3));\n",
              "      fill: #FFFFFF;\n",
              "    }\n",
              "  </style>\n",
              "\n",
              "      <script>\n",
              "        const buttonEl =\n",
              "          document.querySelector('#df-bd20dd87-b96e-4db1-bb06-86d376b2a5a3 button.colab-df-convert');\n",
              "        buttonEl.style.display =\n",
              "          google.colab.kernel.accessAllowed ? 'block' : 'none';\n",
              "\n",
              "        async function convertToInteractive(key) {\n",
              "          const element = document.querySelector('#df-bd20dd87-b96e-4db1-bb06-86d376b2a5a3');\n",
              "          const dataTable =\n",
              "            await google.colab.kernel.invokeFunction('convertToInteractive',\n",
              "                                                     [key], {});\n",
              "          if (!dataTable) return;\n",
              "\n",
              "          const docLinkHtml = 'Like what you see? Visit the ' +\n",
              "            '<a target=\"_blank\" href=https://colab.research.google.com/notebooks/data_table.ipynb>data table notebook</a>'\n",
              "            + ' to learn more about interactive tables.';\n",
              "          element.innerHTML = '';\n",
              "          dataTable['output_type'] = 'display_data';\n",
              "          await google.colab.output.renderOutput(dataTable, element);\n",
              "          const docLink = document.createElement('div');\n",
              "          docLink.innerHTML = docLinkHtml;\n",
              "          element.appendChild(docLink);\n",
              "        }\n",
              "      </script>\n",
              "    </div>\n",
              "  </div>\n",
              "  "
            ]
          },
          "metadata": {},
          "execution_count": 87
        }
      ],
      "source": [
        "df_pd=df_pd.drop(indexes).reset_index(drop=True) #reset_index because we have a new df and if we want to iterate over it is simpler\n",
        "df_pd"
      ]
    },
    {
      "cell_type": "markdown",
      "id": "76bc519d",
      "metadata": {
        "id": "76bc519d"
      },
      "source": [
        "#### Denoising"
      ]
    },
    {
      "cell_type": "code",
      "execution_count": 88,
      "id": "62bf7be1",
      "metadata": {
        "id": "62bf7be1"
      },
      "outputs": [],
      "source": [
        "# audio = df_pd.audio[7]\n",
        "# clean_audio=nr.reduce_noise(y=audio, sr=sr, n_std_thresh_stationary=1.5, stationary=True)"
      ]
    },
    {
      "cell_type": "code",
      "execution_count": 89,
      "id": "7197c39f",
      "metadata": {
        "id": "7197c39f"
      },
      "outputs": [],
      "source": [
        "# ipd.Audio(audio, rate=22050)"
      ]
    },
    {
      "cell_type": "code",
      "execution_count": 90,
      "id": "adcbc8f2",
      "metadata": {
        "id": "adcbc8f2"
      },
      "outputs": [],
      "source": [
        "# ipd.Audio(clean_audio, rate=22050)"
      ]
    },
    {
      "cell_type": "code",
      "execution_count": 91,
      "id": "f4fd3520",
      "metadata": {
        "id": "f4fd3520"
      },
      "outputs": [],
      "source": [
        "# audios_cleaned = []\n",
        "\n",
        "# for audio in df_pd.audio_trim:\n",
        "    \n",
        "#     audio_clean = nr.reduce_noise(y=audio, sr=sr, n_std_thresh_stationary=1.5, stationary=True)\n",
        "#     audios_cleaned.append(audio_clean)\n",
        "# #new_audio_reconstructed = np.hstack(audio_reconstructed)\n",
        "# #s1 = df_pd['audio'][idx][non_silence_parts[1][0]:non_silence_parts[1][-1]]\n",
        "# # s2 = df_pd['audio'][3799][librosa.effects.split(df_pd['audio'][3799])[1][0]:librosa.effects.split(df_pd['audio'][3799])[1][-1]]\n",
        "\n",
        "# #ipd.Audio(new_audio_reconstructed, rate=22050)"
      ]
    },
    {
      "cell_type": "code",
      "execution_count": 92,
      "id": "8b2c9fdb",
      "metadata": {
        "id": "8b2c9fdb"
      },
      "outputs": [],
      "source": [
        "# df_pd['audio_cleaned'] = audios_cleaned    \n",
        "# df_pd"
      ]
    },
    {
      "cell_type": "markdown",
      "id": "9161817f",
      "metadata": {
        "id": "9161817f"
      },
      "source": [
        "#### Split"
      ]
    },
    {
      "cell_type": "code",
      "execution_count": 93,
      "id": "bbf708a4",
      "metadata": {
        "id": "bbf708a4"
      },
      "outputs": [],
      "source": [
        "# idx = 8136\n",
        "# s =df_pd.audio[idx]\n",
        "# ipd.Audio(df_pd['audio_cleaned'][idx], rate=22050)"
      ]
    },
    {
      "cell_type": "code",
      "execution_count": 94,
      "id": "d4d86431",
      "metadata": {
        "id": "d4d86431"
      },
      "outputs": [],
      "source": [
        "audios_reconstructed = []\n",
        "\n",
        "for audio in df_pd.audio_trim:\n",
        "    \n",
        "    non_silence_parts = librosa.effects.split(audio, top_db=20)\n",
        "    audio_reconstructed_parts = [] #save the non silent parts in a list that then will be merged together to obtain the reconstructed file\n",
        "    \n",
        "    for part in non_silence_parts:\n",
        "        audio_reconstructed_parts.append(audio[part[0]:part[-1]])\n",
        "\n",
        "    audio_reconstructed = np.hstack(audio_reconstructed_parts)\n",
        "    audios_reconstructed.append(audio_reconstructed)\n",
        "#new_audio_reconstructed = np.hstack(audio_reconstructed)\n",
        "#s1 = df_pd['audio'][idx][non_silence_parts[1][0]:non_silence_parts[1][-1]]\n",
        "# s2 = df_pd['audio'][3799][librosa.effects.split(df_pd['audio'][3799])[1][0]:librosa.effects.split(df_pd['audio'][3799])[1][-1]]\n",
        "\n",
        "#ipd.Audio(new_audio_reconstructed, rate=22050)"
      ]
    },
    {
      "cell_type": "code",
      "execution_count": 95,
      "id": "6bb9789c",
      "metadata": {
        "colab": {
          "base_uri": "https://localhost:8080/",
          "height": 641
        },
        "id": "6bb9789c",
        "outputId": "ee3d246f-c742-4ca0-c061-de42bc145500"
      },
      "outputs": [
        {
          "output_type": "execute_result",
          "data": {
            "text/plain": [
              "                                                  audio  gender ageRange  \\\n",
              "0     [0.0, 0.0, 0.0, 0.0, 0.0, 0.0, 0.0, 0.0, 0.0, ...  female    22-40   \n",
              "1     [0.0, 0.0, 0.0, 0.0, 0.0, 0.0, 0.0, 0.0, 0.0, ...  female    22-40   \n",
              "2     [0.0, 0.0, 0.0, 0.0, 0.0, 0.0, 0.0, 0.0, 0.0, ...  female    22-40   \n",
              "3     [0.0, 0.0, 0.0, 0.0, 0.0, 0.0, 0.0, 0.0, 0.0, ...  female    22-40   \n",
              "4     [0.0, 0.0, 0.0, 0.0, 0.0, 0.0, 0.0, 0.0, 0.0, ...  female    22-40   \n",
              "...                                                 ...     ...      ...   \n",
              "9843  [0.009223618, 0.010777138, 0.009321626, 0.0099...    male    22-40   \n",
              "9844  [0.00936052, 0.010867924, 0.009305291, 0.00991...    male    22-40   \n",
              "9845  [0.0014334349, 0.001723074, 0.0015384919, 0.00...    male    22-40   \n",
              "9846  [0.009742705, 0.011407773, 0.009794228, 0.0103...    male    22-40   \n",
              "9847  [0.009512647, 0.011129991, 0.00956014, 0.01007...    male    22-40   \n",
              "\n",
              "      label                                         audio_trim  \\\n",
              "0         5  [-0.0010869442, 6.950152e-05, 0.0010575794, 1....   \n",
              "1         6  [0.0005718688, 0.0005805124, 0.00058862584, 0....   \n",
              "2         7  [3.145638e-05, 3.0807154e-05, 2.8492566e-05, 3...   \n",
              "3         1  [0.0076071513, 0.008677023, 0.009811347, 0.010...   \n",
              "4         1  [4.5547e-06, 2.4867417e-05, 3.363467e-05, 3.05...   \n",
              "...     ...                                                ...   \n",
              "9843      3  [-0.012367419, -0.01213057, -0.011735419, -0.0...   \n",
              "9844      7  [-0.00086439366, 0.011530005, 0.0026797082, -0...   \n",
              "9845      7  [0.0048560956, -3.8896687e-05, -0.00041252645,...   \n",
              "9846      7  [0.003923648, 0.0039615026, 0.0041058823, 0.00...   \n",
              "9847      1  [-0.02300861, -0.022161294, -0.021594988, -0.0...   \n",
              "\n",
              "                                    audio_reconstructed  \n",
              "0     [-0.0010869442, 6.950152e-05, 0.0010575794, 1....  \n",
              "1     [0.0005718688, 0.0005805124, 0.00058862584, 0....  \n",
              "2     [3.145638e-05, 3.0807154e-05, 2.8492566e-05, 3...  \n",
              "3     [0.0076071513, 0.008677023, 0.009811347, 0.010...  \n",
              "4     [4.5547e-06, 2.4867417e-05, 3.363467e-05, 3.05...  \n",
              "...                                                 ...  \n",
              "9843  [-0.012367419, -0.01213057, -0.011735419, -0.0...  \n",
              "9844  [-0.00086439366, 0.011530005, 0.0026797082, -0...  \n",
              "9845  [0.0048560956, -3.8896687e-05, -0.00041252645,...  \n",
              "9846  [0.003923648, 0.0039615026, 0.0041058823, 0.00...  \n",
              "9847  [-0.02300861, -0.022161294, -0.021594988, -0.0...  \n",
              "\n",
              "[9848 rows x 6 columns]"
            ],
            "text/html": [
              "\n",
              "  <div id=\"df-6050cee8-c2af-42b0-9d59-15ec80bf23e3\">\n",
              "    <div class=\"colab-df-container\">\n",
              "      <div>\n",
              "<style scoped>\n",
              "    .dataframe tbody tr th:only-of-type {\n",
              "        vertical-align: middle;\n",
              "    }\n",
              "\n",
              "    .dataframe tbody tr th {\n",
              "        vertical-align: top;\n",
              "    }\n",
              "\n",
              "    .dataframe thead th {\n",
              "        text-align: right;\n",
              "    }\n",
              "</style>\n",
              "<table border=\"1\" class=\"dataframe\">\n",
              "  <thead>\n",
              "    <tr style=\"text-align: right;\">\n",
              "      <th></th>\n",
              "      <th>audio</th>\n",
              "      <th>gender</th>\n",
              "      <th>ageRange</th>\n",
              "      <th>label</th>\n",
              "      <th>audio_trim</th>\n",
              "      <th>audio_reconstructed</th>\n",
              "    </tr>\n",
              "  </thead>\n",
              "  <tbody>\n",
              "    <tr>\n",
              "      <th>0</th>\n",
              "      <td>[0.0, 0.0, 0.0, 0.0, 0.0, 0.0, 0.0, 0.0, 0.0, ...</td>\n",
              "      <td>female</td>\n",
              "      <td>22-40</td>\n",
              "      <td>5</td>\n",
              "      <td>[-0.0010869442, 6.950152e-05, 0.0010575794, 1....</td>\n",
              "      <td>[-0.0010869442, 6.950152e-05, 0.0010575794, 1....</td>\n",
              "    </tr>\n",
              "    <tr>\n",
              "      <th>1</th>\n",
              "      <td>[0.0, 0.0, 0.0, 0.0, 0.0, 0.0, 0.0, 0.0, 0.0, ...</td>\n",
              "      <td>female</td>\n",
              "      <td>22-40</td>\n",
              "      <td>6</td>\n",
              "      <td>[0.0005718688, 0.0005805124, 0.00058862584, 0....</td>\n",
              "      <td>[0.0005718688, 0.0005805124, 0.00058862584, 0....</td>\n",
              "    </tr>\n",
              "    <tr>\n",
              "      <th>2</th>\n",
              "      <td>[0.0, 0.0, 0.0, 0.0, 0.0, 0.0, 0.0, 0.0, 0.0, ...</td>\n",
              "      <td>female</td>\n",
              "      <td>22-40</td>\n",
              "      <td>7</td>\n",
              "      <td>[3.145638e-05, 3.0807154e-05, 2.8492566e-05, 3...</td>\n",
              "      <td>[3.145638e-05, 3.0807154e-05, 2.8492566e-05, 3...</td>\n",
              "    </tr>\n",
              "    <tr>\n",
              "      <th>3</th>\n",
              "      <td>[0.0, 0.0, 0.0, 0.0, 0.0, 0.0, 0.0, 0.0, 0.0, ...</td>\n",
              "      <td>female</td>\n",
              "      <td>22-40</td>\n",
              "      <td>1</td>\n",
              "      <td>[0.0076071513, 0.008677023, 0.009811347, 0.010...</td>\n",
              "      <td>[0.0076071513, 0.008677023, 0.009811347, 0.010...</td>\n",
              "    </tr>\n",
              "    <tr>\n",
              "      <th>4</th>\n",
              "      <td>[0.0, 0.0, 0.0, 0.0, 0.0, 0.0, 0.0, 0.0, 0.0, ...</td>\n",
              "      <td>female</td>\n",
              "      <td>22-40</td>\n",
              "      <td>1</td>\n",
              "      <td>[4.5547e-06, 2.4867417e-05, 3.363467e-05, 3.05...</td>\n",
              "      <td>[4.5547e-06, 2.4867417e-05, 3.363467e-05, 3.05...</td>\n",
              "    </tr>\n",
              "    <tr>\n",
              "      <th>...</th>\n",
              "      <td>...</td>\n",
              "      <td>...</td>\n",
              "      <td>...</td>\n",
              "      <td>...</td>\n",
              "      <td>...</td>\n",
              "      <td>...</td>\n",
              "    </tr>\n",
              "    <tr>\n",
              "      <th>9843</th>\n",
              "      <td>[0.009223618, 0.010777138, 0.009321626, 0.0099...</td>\n",
              "      <td>male</td>\n",
              "      <td>22-40</td>\n",
              "      <td>3</td>\n",
              "      <td>[-0.012367419, -0.01213057, -0.011735419, -0.0...</td>\n",
              "      <td>[-0.012367419, -0.01213057, -0.011735419, -0.0...</td>\n",
              "    </tr>\n",
              "    <tr>\n",
              "      <th>9844</th>\n",
              "      <td>[0.00936052, 0.010867924, 0.009305291, 0.00991...</td>\n",
              "      <td>male</td>\n",
              "      <td>22-40</td>\n",
              "      <td>7</td>\n",
              "      <td>[-0.00086439366, 0.011530005, 0.0026797082, -0...</td>\n",
              "      <td>[-0.00086439366, 0.011530005, 0.0026797082, -0...</td>\n",
              "    </tr>\n",
              "    <tr>\n",
              "      <th>9845</th>\n",
              "      <td>[0.0014334349, 0.001723074, 0.0015384919, 0.00...</td>\n",
              "      <td>male</td>\n",
              "      <td>22-40</td>\n",
              "      <td>7</td>\n",
              "      <td>[0.0048560956, -3.8896687e-05, -0.00041252645,...</td>\n",
              "      <td>[0.0048560956, -3.8896687e-05, -0.00041252645,...</td>\n",
              "    </tr>\n",
              "    <tr>\n",
              "      <th>9846</th>\n",
              "      <td>[0.009742705, 0.011407773, 0.009794228, 0.0103...</td>\n",
              "      <td>male</td>\n",
              "      <td>22-40</td>\n",
              "      <td>7</td>\n",
              "      <td>[0.003923648, 0.0039615026, 0.0041058823, 0.00...</td>\n",
              "      <td>[0.003923648, 0.0039615026, 0.0041058823, 0.00...</td>\n",
              "    </tr>\n",
              "    <tr>\n",
              "      <th>9847</th>\n",
              "      <td>[0.009512647, 0.011129991, 0.00956014, 0.01007...</td>\n",
              "      <td>male</td>\n",
              "      <td>22-40</td>\n",
              "      <td>1</td>\n",
              "      <td>[-0.02300861, -0.022161294, -0.021594988, -0.0...</td>\n",
              "      <td>[-0.02300861, -0.022161294, -0.021594988, -0.0...</td>\n",
              "    </tr>\n",
              "  </tbody>\n",
              "</table>\n",
              "<p>9848 rows × 6 columns</p>\n",
              "</div>\n",
              "      <button class=\"colab-df-convert\" onclick=\"convertToInteractive('df-6050cee8-c2af-42b0-9d59-15ec80bf23e3')\"\n",
              "              title=\"Convert this dataframe to an interactive table.\"\n",
              "              style=\"display:none;\">\n",
              "        \n",
              "  <svg xmlns=\"http://www.w3.org/2000/svg\" height=\"24px\"viewBox=\"0 0 24 24\"\n",
              "       width=\"24px\">\n",
              "    <path d=\"M0 0h24v24H0V0z\" fill=\"none\"/>\n",
              "    <path d=\"M18.56 5.44l.94 2.06.94-2.06 2.06-.94-2.06-.94-.94-2.06-.94 2.06-2.06.94zm-11 1L8.5 8.5l.94-2.06 2.06-.94-2.06-.94L8.5 2.5l-.94 2.06-2.06.94zm10 10l.94 2.06.94-2.06 2.06-.94-2.06-.94-.94-2.06-.94 2.06-2.06.94z\"/><path d=\"M17.41 7.96l-1.37-1.37c-.4-.4-.92-.59-1.43-.59-.52 0-1.04.2-1.43.59L10.3 9.45l-7.72 7.72c-.78.78-.78 2.05 0 2.83L4 21.41c.39.39.9.59 1.41.59.51 0 1.02-.2 1.41-.59l7.78-7.78 2.81-2.81c.8-.78.8-2.07 0-2.86zM5.41 20L4 18.59l7.72-7.72 1.47 1.35L5.41 20z\"/>\n",
              "  </svg>\n",
              "      </button>\n",
              "      \n",
              "  <style>\n",
              "    .colab-df-container {\n",
              "      display:flex;\n",
              "      flex-wrap:wrap;\n",
              "      gap: 12px;\n",
              "    }\n",
              "\n",
              "    .colab-df-convert {\n",
              "      background-color: #E8F0FE;\n",
              "      border: none;\n",
              "      border-radius: 50%;\n",
              "      cursor: pointer;\n",
              "      display: none;\n",
              "      fill: #1967D2;\n",
              "      height: 32px;\n",
              "      padding: 0 0 0 0;\n",
              "      width: 32px;\n",
              "    }\n",
              "\n",
              "    .colab-df-convert:hover {\n",
              "      background-color: #E2EBFA;\n",
              "      box-shadow: 0px 1px 2px rgba(60, 64, 67, 0.3), 0px 1px 3px 1px rgba(60, 64, 67, 0.15);\n",
              "      fill: #174EA6;\n",
              "    }\n",
              "\n",
              "    [theme=dark] .colab-df-convert {\n",
              "      background-color: #3B4455;\n",
              "      fill: #D2E3FC;\n",
              "    }\n",
              "\n",
              "    [theme=dark] .colab-df-convert:hover {\n",
              "      background-color: #434B5C;\n",
              "      box-shadow: 0px 1px 3px 1px rgba(0, 0, 0, 0.15);\n",
              "      filter: drop-shadow(0px 1px 2px rgba(0, 0, 0, 0.3));\n",
              "      fill: #FFFFFF;\n",
              "    }\n",
              "  </style>\n",
              "\n",
              "      <script>\n",
              "        const buttonEl =\n",
              "          document.querySelector('#df-6050cee8-c2af-42b0-9d59-15ec80bf23e3 button.colab-df-convert');\n",
              "        buttonEl.style.display =\n",
              "          google.colab.kernel.accessAllowed ? 'block' : 'none';\n",
              "\n",
              "        async function convertToInteractive(key) {\n",
              "          const element = document.querySelector('#df-6050cee8-c2af-42b0-9d59-15ec80bf23e3');\n",
              "          const dataTable =\n",
              "            await google.colab.kernel.invokeFunction('convertToInteractive',\n",
              "                                                     [key], {});\n",
              "          if (!dataTable) return;\n",
              "\n",
              "          const docLinkHtml = 'Like what you see? Visit the ' +\n",
              "            '<a target=\"_blank\" href=https://colab.research.google.com/notebooks/data_table.ipynb>data table notebook</a>'\n",
              "            + ' to learn more about interactive tables.';\n",
              "          element.innerHTML = '';\n",
              "          dataTable['output_type'] = 'display_data';\n",
              "          await google.colab.output.renderOutput(dataTable, element);\n",
              "          const docLink = document.createElement('div');\n",
              "          docLink.innerHTML = docLinkHtml;\n",
              "          element.appendChild(docLink);\n",
              "        }\n",
              "      </script>\n",
              "    </div>\n",
              "  </div>\n",
              "  "
            ]
          },
          "metadata": {},
          "execution_count": 95
        }
      ],
      "source": [
        "df_pd['audio_reconstructed'] = audios_reconstructed    \n",
        "df_pd"
      ]
    },
    {
      "cell_type": "code",
      "execution_count": 96,
      "id": "4c9301d1",
      "metadata": {
        "colab": {
          "base_uri": "https://localhost:8080/",
          "height": 93
        },
        "id": "4c9301d1",
        "outputId": "61a836a6-2474-41f3-a9c1-52f73a25de7c"
      },
      "outputs": [
        {
          "output_type": "stream",
          "name": "stdout",
          "text": [
            "38912 33792\n"
          ]
        },
        {
          "output_type": "execute_result",
          "data": {
            "text/plain": [
              "<IPython.lib.display.Audio object>"
            ],
            "text/html": [
              "\n",
              "                <audio  controls=\"controls\" >\n",
              "                    <source src=\"data:audio/wav;base64,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\" type=\"audio/wav\" />\n",
              "                    Your browser does not support the audio element.\n",
              "                </audio>\n",
              "              "
            ]
          },
          "metadata": {},
          "execution_count": 96
        }
      ],
      "source": [
        "idx = 6\n",
        "print(len(df_pd['audio_trim'][idx]), len(df_pd['audio_reconstructed'][idx]))\n",
        "ipd.Audio(df_pd['audio_reconstructed'][idx], rate=22050)"
      ]
    },
    {
      "cell_type": "markdown",
      "id": "946f3f83",
      "metadata": {
        "id": "946f3f83"
      },
      "source": [
        "#### Pre- emphasize"
      ]
    },
    {
      "cell_type": "code",
      "execution_count": 97,
      "id": "6267b3ea",
      "metadata": {
        "id": "6267b3ea"
      },
      "outputs": [],
      "source": [
        "# emph_audios = []\n",
        "# for i, audio in enumerate(df_pd.audio_trim):\n",
        "#     audio_emph = librosa.effects.preemphasis(audio, return_zf=False)\n",
        "#     emph_audios.append(audio_emph)\n",
        "    \n",
        "# df_pd['audio_emph'] = emph_audios    \n",
        "# df_pd"
      ]
    },
    {
      "cell_type": "markdown",
      "id": "798f84d9",
      "metadata": {
        "id": "798f84d9"
      },
      "source": [
        "### 3. Feature Extraction"
      ]
    },
    {
      "cell_type": "markdown",
      "id": "c19118c8",
      "metadata": {
        "id": "c19118c8"
      },
      "source": [
        "Apply one hot encoding to categorical features."
      ]
    },
    {
      "cell_type": "code",
      "execution_count": 98,
      "id": "79e26f9b",
      "metadata": {
        "colab": {
          "base_uri": "https://localhost:8080/",
          "height": 658
        },
        "id": "79e26f9b",
        "outputId": "fbb84a7e-330d-4c61-938c-b978513f48fc"
      },
      "outputs": [
        {
          "output_type": "execute_result",
          "data": {
            "text/plain": [
              "                                                  audio  label  \\\n",
              "0     [0.0, 0.0, 0.0, 0.0, 0.0, 0.0, 0.0, 0.0, 0.0, ...      5   \n",
              "1     [0.0, 0.0, 0.0, 0.0, 0.0, 0.0, 0.0, 0.0, 0.0, ...      6   \n",
              "2     [0.0, 0.0, 0.0, 0.0, 0.0, 0.0, 0.0, 0.0, 0.0, ...      7   \n",
              "3     [0.0, 0.0, 0.0, 0.0, 0.0, 0.0, 0.0, 0.0, 0.0, ...      1   \n",
              "4     [0.0, 0.0, 0.0, 0.0, 0.0, 0.0, 0.0, 0.0, 0.0, ...      1   \n",
              "...                                                 ...    ...   \n",
              "9843  [0.009223618, 0.010777138, 0.009321626, 0.0099...      3   \n",
              "9844  [0.00936052, 0.010867924, 0.009305291, 0.00991...      7   \n",
              "9845  [0.0014334349, 0.001723074, 0.0015384919, 0.00...      7   \n",
              "9846  [0.009742705, 0.011407773, 0.009794228, 0.0103...      7   \n",
              "9847  [0.009512647, 0.011129991, 0.00956014, 0.01007...      1   \n",
              "\n",
              "                                             audio_trim  \\\n",
              "0     [-0.0010869442, 6.950152e-05, 0.0010575794, 1....   \n",
              "1     [0.0005718688, 0.0005805124, 0.00058862584, 0....   \n",
              "2     [3.145638e-05, 3.0807154e-05, 2.8492566e-05, 3...   \n",
              "3     [0.0076071513, 0.008677023, 0.009811347, 0.010...   \n",
              "4     [4.5547e-06, 2.4867417e-05, 3.363467e-05, 3.05...   \n",
              "...                                                 ...   \n",
              "9843  [-0.012367419, -0.01213057, -0.011735419, -0.0...   \n",
              "9844  [-0.00086439366, 0.011530005, 0.0026797082, -0...   \n",
              "9845  [0.0048560956, -3.8896687e-05, -0.00041252645,...   \n",
              "9846  [0.003923648, 0.0039615026, 0.0041058823, 0.00...   \n",
              "9847  [-0.02300861, -0.022161294, -0.021594988, -0.0...   \n",
              "\n",
              "                                    audio_reconstructed  gender=male  \\\n",
              "0     [-0.0010869442, 6.950152e-05, 0.0010575794, 1....            0   \n",
              "1     [0.0005718688, 0.0005805124, 0.00058862584, 0....            0   \n",
              "2     [3.145638e-05, 3.0807154e-05, 2.8492566e-05, 3...            0   \n",
              "3     [0.0076071513, 0.008677023, 0.009811347, 0.010...            0   \n",
              "4     [4.5547e-06, 2.4867417e-05, 3.363467e-05, 3.05...            0   \n",
              "...                                                 ...          ...   \n",
              "9843  [-0.012367419, -0.01213057, -0.011735419, -0.0...            1   \n",
              "9844  [-0.00086439366, 0.011530005, 0.0026797082, -0...            1   \n",
              "9845  [0.0048560956, -3.8896687e-05, -0.00041252645,...            1   \n",
              "9846  [0.003923648, 0.0039615026, 0.0041058823, 0.00...            1   \n",
              "9847  [-0.02300861, -0.022161294, -0.021594988, -0.0...            1   \n",
              "\n",
              "      ageRange=41-65  ageRange=65+  \n",
              "0                  0             0  \n",
              "1                  0             0  \n",
              "2                  0             0  \n",
              "3                  0             0  \n",
              "4                  0             0  \n",
              "...              ...           ...  \n",
              "9843               0             0  \n",
              "9844               0             0  \n",
              "9845               0             0  \n",
              "9846               0             0  \n",
              "9847               0             0  \n",
              "\n",
              "[9848 rows x 7 columns]"
            ],
            "text/html": [
              "\n",
              "  <div id=\"df-8694b3ca-cf86-4fdb-a42d-4d50e1fa331c\">\n",
              "    <div class=\"colab-df-container\">\n",
              "      <div>\n",
              "<style scoped>\n",
              "    .dataframe tbody tr th:only-of-type {\n",
              "        vertical-align: middle;\n",
              "    }\n",
              "\n",
              "    .dataframe tbody tr th {\n",
              "        vertical-align: top;\n",
              "    }\n",
              "\n",
              "    .dataframe thead th {\n",
              "        text-align: right;\n",
              "    }\n",
              "</style>\n",
              "<table border=\"1\" class=\"dataframe\">\n",
              "  <thead>\n",
              "    <tr style=\"text-align: right;\">\n",
              "      <th></th>\n",
              "      <th>audio</th>\n",
              "      <th>label</th>\n",
              "      <th>audio_trim</th>\n",
              "      <th>audio_reconstructed</th>\n",
              "      <th>gender=male</th>\n",
              "      <th>ageRange=41-65</th>\n",
              "      <th>ageRange=65+</th>\n",
              "    </tr>\n",
              "  </thead>\n",
              "  <tbody>\n",
              "    <tr>\n",
              "      <th>0</th>\n",
              "      <td>[0.0, 0.0, 0.0, 0.0, 0.0, 0.0, 0.0, 0.0, 0.0, ...</td>\n",
              "      <td>5</td>\n",
              "      <td>[-0.0010869442, 6.950152e-05, 0.0010575794, 1....</td>\n",
              "      <td>[-0.0010869442, 6.950152e-05, 0.0010575794, 1....</td>\n",
              "      <td>0</td>\n",
              "      <td>0</td>\n",
              "      <td>0</td>\n",
              "    </tr>\n",
              "    <tr>\n",
              "      <th>1</th>\n",
              "      <td>[0.0, 0.0, 0.0, 0.0, 0.0, 0.0, 0.0, 0.0, 0.0, ...</td>\n",
              "      <td>6</td>\n",
              "      <td>[0.0005718688, 0.0005805124, 0.00058862584, 0....</td>\n",
              "      <td>[0.0005718688, 0.0005805124, 0.00058862584, 0....</td>\n",
              "      <td>0</td>\n",
              "      <td>0</td>\n",
              "      <td>0</td>\n",
              "    </tr>\n",
              "    <tr>\n",
              "      <th>2</th>\n",
              "      <td>[0.0, 0.0, 0.0, 0.0, 0.0, 0.0, 0.0, 0.0, 0.0, ...</td>\n",
              "      <td>7</td>\n",
              "      <td>[3.145638e-05, 3.0807154e-05, 2.8492566e-05, 3...</td>\n",
              "      <td>[3.145638e-05, 3.0807154e-05, 2.8492566e-05, 3...</td>\n",
              "      <td>0</td>\n",
              "      <td>0</td>\n",
              "      <td>0</td>\n",
              "    </tr>\n",
              "    <tr>\n",
              "      <th>3</th>\n",
              "      <td>[0.0, 0.0, 0.0, 0.0, 0.0, 0.0, 0.0, 0.0, 0.0, ...</td>\n",
              "      <td>1</td>\n",
              "      <td>[0.0076071513, 0.008677023, 0.009811347, 0.010...</td>\n",
              "      <td>[0.0076071513, 0.008677023, 0.009811347, 0.010...</td>\n",
              "      <td>0</td>\n",
              "      <td>0</td>\n",
              "      <td>0</td>\n",
              "    </tr>\n",
              "    <tr>\n",
              "      <th>4</th>\n",
              "      <td>[0.0, 0.0, 0.0, 0.0, 0.0, 0.0, 0.0, 0.0, 0.0, ...</td>\n",
              "      <td>1</td>\n",
              "      <td>[4.5547e-06, 2.4867417e-05, 3.363467e-05, 3.05...</td>\n",
              "      <td>[4.5547e-06, 2.4867417e-05, 3.363467e-05, 3.05...</td>\n",
              "      <td>0</td>\n",
              "      <td>0</td>\n",
              "      <td>0</td>\n",
              "    </tr>\n",
              "    <tr>\n",
              "      <th>...</th>\n",
              "      <td>...</td>\n",
              "      <td>...</td>\n",
              "      <td>...</td>\n",
              "      <td>...</td>\n",
              "      <td>...</td>\n",
              "      <td>...</td>\n",
              "      <td>...</td>\n",
              "    </tr>\n",
              "    <tr>\n",
              "      <th>9843</th>\n",
              "      <td>[0.009223618, 0.010777138, 0.009321626, 0.0099...</td>\n",
              "      <td>3</td>\n",
              "      <td>[-0.012367419, -0.01213057, -0.011735419, -0.0...</td>\n",
              "      <td>[-0.012367419, -0.01213057, -0.011735419, -0.0...</td>\n",
              "      <td>1</td>\n",
              "      <td>0</td>\n",
              "      <td>0</td>\n",
              "    </tr>\n",
              "    <tr>\n",
              "      <th>9844</th>\n",
              "      <td>[0.00936052, 0.010867924, 0.009305291, 0.00991...</td>\n",
              "      <td>7</td>\n",
              "      <td>[-0.00086439366, 0.011530005, 0.0026797082, -0...</td>\n",
              "      <td>[-0.00086439366, 0.011530005, 0.0026797082, -0...</td>\n",
              "      <td>1</td>\n",
              "      <td>0</td>\n",
              "      <td>0</td>\n",
              "    </tr>\n",
              "    <tr>\n",
              "      <th>9845</th>\n",
              "      <td>[0.0014334349, 0.001723074, 0.0015384919, 0.00...</td>\n",
              "      <td>7</td>\n",
              "      <td>[0.0048560956, -3.8896687e-05, -0.00041252645,...</td>\n",
              "      <td>[0.0048560956, -3.8896687e-05, -0.00041252645,...</td>\n",
              "      <td>1</td>\n",
              "      <td>0</td>\n",
              "      <td>0</td>\n",
              "    </tr>\n",
              "    <tr>\n",
              "      <th>9846</th>\n",
              "      <td>[0.009742705, 0.011407773, 0.009794228, 0.0103...</td>\n",
              "      <td>7</td>\n",
              "      <td>[0.003923648, 0.0039615026, 0.0041058823, 0.00...</td>\n",
              "      <td>[0.003923648, 0.0039615026, 0.0041058823, 0.00...</td>\n",
              "      <td>1</td>\n",
              "      <td>0</td>\n",
              "      <td>0</td>\n",
              "    </tr>\n",
              "    <tr>\n",
              "      <th>9847</th>\n",
              "      <td>[0.009512647, 0.011129991, 0.00956014, 0.01007...</td>\n",
              "      <td>1</td>\n",
              "      <td>[-0.02300861, -0.022161294, -0.021594988, -0.0...</td>\n",
              "      <td>[-0.02300861, -0.022161294, -0.021594988, -0.0...</td>\n",
              "      <td>1</td>\n",
              "      <td>0</td>\n",
              "      <td>0</td>\n",
              "    </tr>\n",
              "  </tbody>\n",
              "</table>\n",
              "<p>9848 rows × 7 columns</p>\n",
              "</div>\n",
              "      <button class=\"colab-df-convert\" onclick=\"convertToInteractive('df-8694b3ca-cf86-4fdb-a42d-4d50e1fa331c')\"\n",
              "              title=\"Convert this dataframe to an interactive table.\"\n",
              "              style=\"display:none;\">\n",
              "        \n",
              "  <svg xmlns=\"http://www.w3.org/2000/svg\" height=\"24px\"viewBox=\"0 0 24 24\"\n",
              "       width=\"24px\">\n",
              "    <path d=\"M0 0h24v24H0V0z\" fill=\"none\"/>\n",
              "    <path d=\"M18.56 5.44l.94 2.06.94-2.06 2.06-.94-2.06-.94-.94-2.06-.94 2.06-2.06.94zm-11 1L8.5 8.5l.94-2.06 2.06-.94-2.06-.94L8.5 2.5l-.94 2.06-2.06.94zm10 10l.94 2.06.94-2.06 2.06-.94-2.06-.94-.94-2.06-.94 2.06-2.06.94z\"/><path d=\"M17.41 7.96l-1.37-1.37c-.4-.4-.92-.59-1.43-.59-.52 0-1.04.2-1.43.59L10.3 9.45l-7.72 7.72c-.78.78-.78 2.05 0 2.83L4 21.41c.39.39.9.59 1.41.59.51 0 1.02-.2 1.41-.59l7.78-7.78 2.81-2.81c.8-.78.8-2.07 0-2.86zM5.41 20L4 18.59l7.72-7.72 1.47 1.35L5.41 20z\"/>\n",
              "  </svg>\n",
              "      </button>\n",
              "      \n",
              "  <style>\n",
              "    .colab-df-container {\n",
              "      display:flex;\n",
              "      flex-wrap:wrap;\n",
              "      gap: 12px;\n",
              "    }\n",
              "\n",
              "    .colab-df-convert {\n",
              "      background-color: #E8F0FE;\n",
              "      border: none;\n",
              "      border-radius: 50%;\n",
              "      cursor: pointer;\n",
              "      display: none;\n",
              "      fill: #1967D2;\n",
              "      height: 32px;\n",
              "      padding: 0 0 0 0;\n",
              "      width: 32px;\n",
              "    }\n",
              "\n",
              "    .colab-df-convert:hover {\n",
              "      background-color: #E2EBFA;\n",
              "      box-shadow: 0px 1px 2px rgba(60, 64, 67, 0.3), 0px 1px 3px 1px rgba(60, 64, 67, 0.15);\n",
              "      fill: #174EA6;\n",
              "    }\n",
              "\n",
              "    [theme=dark] .colab-df-convert {\n",
              "      background-color: #3B4455;\n",
              "      fill: #D2E3FC;\n",
              "    }\n",
              "\n",
              "    [theme=dark] .colab-df-convert:hover {\n",
              "      background-color: #434B5C;\n",
              "      box-shadow: 0px 1px 3px 1px rgba(0, 0, 0, 0.15);\n",
              "      filter: drop-shadow(0px 1px 2px rgba(0, 0, 0, 0.3));\n",
              "      fill: #FFFFFF;\n",
              "    }\n",
              "  </style>\n",
              "\n",
              "      <script>\n",
              "        const buttonEl =\n",
              "          document.querySelector('#df-8694b3ca-cf86-4fdb-a42d-4d50e1fa331c button.colab-df-convert');\n",
              "        buttonEl.style.display =\n",
              "          google.colab.kernel.accessAllowed ? 'block' : 'none';\n",
              "\n",
              "        async function convertToInteractive(key) {\n",
              "          const element = document.querySelector('#df-8694b3ca-cf86-4fdb-a42d-4d50e1fa331c');\n",
              "          const dataTable =\n",
              "            await google.colab.kernel.invokeFunction('convertToInteractive',\n",
              "                                                     [key], {});\n",
              "          if (!dataTable) return;\n",
              "\n",
              "          const docLinkHtml = 'Like what you see? Visit the ' +\n",
              "            '<a target=\"_blank\" href=https://colab.research.google.com/notebooks/data_table.ipynb>data table notebook</a>'\n",
              "            + ' to learn more about interactive tables.';\n",
              "          element.innerHTML = '';\n",
              "          dataTable['output_type'] = 'display_data';\n",
              "          await google.colab.output.renderOutput(dataTable, element);\n",
              "          const docLink = document.createElement('div');\n",
              "          docLink.innerHTML = docLinkHtml;\n",
              "          element.appendChild(docLink);\n",
              "        }\n",
              "      </script>\n",
              "    </div>\n",
              "  </div>\n",
              "  "
            ]
          },
          "metadata": {},
          "execution_count": 98
        }
      ],
      "source": [
        "categorical_features = ['gender', 'ageRange']\n",
        "\n",
        "dummy_columns = categorical_features\n",
        "\n",
        "for column in dummy_columns: \n",
        "    df_dummies = pd.get_dummies(df_pd[column], drop_first = True, prefix = column, prefix_sep='=') #drop_first_true to avoid multi colinearity problem\n",
        "    df_pd = pd.concat([df_pd, df_dummies], axis = 1)\n",
        "\n",
        "\n",
        "df_pd = df_pd.drop(columns=dummy_columns)\n",
        "df_pd"
      ]
    },
    {
      "cell_type": "markdown",
      "id": "1194b277",
      "metadata": {
        "id": "1194b277"
      },
      "source": [
        "#### Extracting MFCC features"
      ]
    },
    {
      "cell_type": "markdown",
      "id": "b31e6b07",
      "metadata": {
        "id": "b31e6b07"
      },
      "source": [
        "First of all every audio should have the same length in order to get final coefficients for each audio of the same length.\n",
        "\n",
        "**EDIT**: non mi serve più, perchè io sono ora interessato alla media, std, min, max, median dei coefficienti che sono sempre uguali (numero righe vecchia matrice) mentre il numero delle colonne cambia (tempo) però non è più importante quindi avere matrici tutte della stessa dimensione."
      ]
    },
    {
      "cell_type": "code",
      "execution_count": 99,
      "id": "09786d95",
      "metadata": {
        "colab": {
          "base_uri": "https://localhost:8080/"
        },
        "id": "09786d95",
        "outputId": "0b021667-d98f-4b01-eb54-cca2818b4b7b"
      },
      "outputs": [
        {
          "output_type": "stream",
          "name": "stdout",
          "text": [
            "Max length: 88064\n"
          ]
        },
        {
          "output_type": "execute_result",
          "data": {
            "text/plain": [
              "20480    339\n",
              "19456    322\n",
              "18944    312\n",
              "18432    312\n",
              "17920    300\n",
              "17408    283\n",
              "20992    281\n",
              "19968    281\n",
              "16896    268\n",
              "16384    247\n",
              "dtype: int64"
            ]
          },
          "metadata": {},
          "execution_count": 99
        }
      ],
      "source": [
        "# Find maximum length of the audio in the dataframe\n",
        "lengths = [len(audio) for audio in df_pd.audio_trim]\n",
        "# idx = 45 #check\n",
        "# lengths[idx], len(df_pd.audio.iloc[idx])\n",
        "lengths = pd.Series(lengths)\n",
        "#lengths.max() #88064\n",
        "print(f\"Max length: {lengths.max()}\")\n",
        "lengths[lengths == lengths.max()]\n",
        "lengths.value_counts()[:10]"
      ]
    },
    {
      "cell_type": "code",
      "execution_count": 100,
      "id": "8a5247fc",
      "metadata": {
        "id": "8a5247fc"
      },
      "outputs": [],
      "source": [
        "# ipd.Audio(df_pd['audio'][8136], rate=22050)"
      ]
    },
    {
      "cell_type": "code",
      "execution_count": 101,
      "id": "e1283d6c",
      "metadata": {
        "id": "e1283d6c"
      },
      "outputs": [],
      "source": [
        "# len(df_pd['audio'][8136])"
      ]
    },
    {
      "cell_type": "markdown",
      "id": "0416a780",
      "metadata": {
        "id": "0416a780"
      },
      "source": [
        "#### Padding"
      ]
    },
    {
      "cell_type": "code",
      "execution_count": 102,
      "id": "d847fd0b",
      "metadata": {
        "id": "d847fd0b"
      },
      "outputs": [],
      "source": [
        "# # # Padding shorter audio with 0 samples in order to get all audio files of the same length\n",
        "# max_length = lengths.max()\n",
        "# for i, audio in enumerate(df_pd.audio_trim):\n",
        "    \n",
        "#     df_pd.audio_trim[i] = np.pad(df_pd.audio_trim[i],(0,max_length- len(df_pd.audio_trim[i])),mode='constant', constant_values=0)"
      ]
    },
    {
      "cell_type": "code",
      "execution_count": 103,
      "id": "1bda81f9",
      "metadata": {
        "colab": {
          "base_uri": "https://localhost:8080/"
        },
        "id": "1bda81f9",
        "outputId": "1170e251-8341-4278-c0fe-4bb59615daa5"
      },
      "outputs": [
        {
          "output_type": "stream",
          "name": "stdout",
          "text": [
            "(20, 28)\n",
            "(20,)\n"
          ]
        }
      ],
      "source": [
        "mfcc_features = librosa.feature.mfcc(y=df_pd.audio_reconstructed[1], sr=sr)\n",
        "print(mfcc_features.shape)\n",
        "\n",
        "medians = np.median(mfcc_features, axis=1)\n",
        "print(medians.shape)\n",
        "\n",
        "means = mfcc_features.mean(axis=0)\n",
        "medians = np.median(mfcc_features, axis=1)\n",
        "stds = mfcc_features.std(axis=1)\n",
        "maxs = mfcc_features.max(axis=1)\n",
        "mins = mfcc_features.min(axis=1)\n",
        "# stds = mfcc_features.std(axis=1)\n",
        "# print(len(means), len(stds))\n",
        "# row = list(means)+list(stds)\n",
        "# print((row))\n",
        "# print(\"\")\n",
        "# print(means)\n",
        "# print(\"\")\n",
        "# print(stds)\n"
      ]
    },
    {
      "cell_type": "code",
      "source": [
        "seed = 42"
      ],
      "metadata": {
        "id": "TI1FoNE0Sef4"
      },
      "id": "TI1FoNE0Sef4",
      "execution_count": 104,
      "outputs": []
    },
    {
      "cell_type": "code",
      "execution_count": 105,
      "id": "0d2d5b03",
      "metadata": {
        "id": "0d2d5b03"
      },
      "outputs": [],
      "source": [
        "### RandomForest Classifier ###\n",
        "from sklearn.ensemble import RandomForestClassifier\n",
        "from sklearn.model_selection import GridSearchCV\n",
        "\n",
        "def randforest_classifier(input_x, input_y, cv=10, seed = seed):\n",
        "    ## Defining parameters\n",
        "    model_RF= RandomForestClassifier(random_state =seed)\n",
        "\n",
        "    parameters = {'n_estimators':[100], \n",
        "                  'criterion':['gini', 'entropy'],\n",
        "                  'max_features':['sqrt', 'log2']}\n",
        "\n",
        "    ## Building Grid Search algorithm with cross-validation and Mean Squared Error score.\n",
        "\n",
        "    grid_search_RF = GridSearchCV(estimator=model_RF,  \n",
        "                         param_grid=parameters,\n",
        "                         scoring='accuracy',\n",
        "                         cv=cv,\n",
        "                         n_jobs=-1,\n",
        "                        verbose = 15)\n",
        "\n",
        "    ## Lastly, finding the best parameters.\n",
        "\n",
        "    grid_search_RF.fit(input_x, input_y)\n",
        "    best_parameters_RF = grid_search_RF.best_params_  \n",
        "    best_score_RF = grid_search_RF.best_score_ \n",
        "    print(best_parameters_RF)\n",
        "    print(best_score_RF)\n",
        "    results = grid_search_RF.cv_results_\n",
        "    \n",
        "    return best_parameters_RF, results, best_score_RF\n",
        "\n"
      ]
    },
    {
      "cell_type": "code",
      "source": [
        "### RandomForest Classifier ###\n",
        "from sklearn.svm import SVC\n",
        "from sklearn.model_selection import GridSearchCV\n",
        "\n",
        "def svm_classifier(input_x, input_y, cv=10, seed = seed):\n",
        "    ## Defining parameters\n",
        "    model_SVM= SVC(random_state =seed)\n",
        "\n",
        "    parameters = {'kernel':  ['rbf'], \n",
        "                   \"C\" : [11, 12, 13, 14],\n",
        "                  \"gamma\" : ['auto']\n",
        "                  }\n",
        "\n",
        "    ## Building Grid Search algorithm with cross-validation and Mean Squared Error score.\n",
        "\n",
        "    grid_search_SVM = GridSearchCV(estimator=model_SVM,  \n",
        "                         param_grid=parameters,\n",
        "                         scoring='accuracy',\n",
        "                         cv=cv,\n",
        "                         n_jobs=-1,\n",
        "                        verbose = 15)\n",
        "\n",
        "    ## Lastly, finding the best parameters.\n",
        "\n",
        "    grid_search_SVM.fit(input_x, input_y)\n",
        "    best_parameters = grid_search_SVM.best_params_  \n",
        "    best_score = grid_search_SVM.best_score_ \n",
        "    print(best_parameters)\n",
        "    print(best_score)\n",
        "    results = grid_search_SVM.cv_results_\n",
        "    \n",
        "    return best_parameters, results, best_score\n",
        "\n"
      ],
      "metadata": {
        "id": "LsBWBPh7WFCz"
      },
      "id": "LsBWBPh7WFCz",
      "execution_count": 116,
      "outputs": []
    },
    {
      "cell_type": "code",
      "source": [
        "import warnings\n",
        "warnings.filterwarnings(\"ignore\")"
      ],
      "metadata": {
        "id": "s1ELuvfR0Bhu"
      },
      "id": "s1ELuvfR0Bhu",
      "execution_count": 117,
      "outputs": []
    },
    {
      "cell_type": "code",
      "execution_count": 118,
      "id": "1d34da41",
      "metadata": {
        "colab": {
          "base_uri": "https://localhost:8080/"
        },
        "id": "1d34da41",
        "outputId": "e721cc5c-77d8-44a7-e68d-a2392fffe712"
      },
      "outputs": [
        {
          "output_type": "stream",
          "name": "stdout",
          "text": [
            "###########################################################\n",
            "DATASET SHAPE\n",
            "(7878, 68) (1970, 68) (7878,) (1970,)\n",
            "\n",
            "Fitting 10 folds for each of 4 candidates, totalling 40 fits\n",
            "{'C': 12, 'gamma': 'auto', 'kernel': 'rbf'}\n",
            "0.6552402943775437\n",
            "\n",
            "BEST RESULT: 0.6552402943775437\n",
            "\n"
          ]
        }
      ],
      "source": [
        "import sklearn\n",
        "from sklearn.model_selection import train_test_split\n",
        "\n",
        "from sklearn.preprocessing import StandardScaler\n",
        "scaler = StandardScaler()\n",
        "\n",
        "\n",
        "features = []\n",
        "hop_length = 128\n",
        "frame_rate = sr*2/hop_length\n",
        "\n",
        "n_ffts = [512, 1024, 2048, 4096, 8192]\n",
        "hops = [64, 128, 256, 512, 1024, 2048, 4096]\n",
        "\n",
        "categorical_features = [\"gender=male\", 'ageRange=41-65', 'ageRange=65+']\n",
        "\n",
        "svm = True\n",
        "\n",
        "# for n_fft in n_ffts:\n",
        "#     for hop in hops:\n",
        "#         if hop < n_fft:\n",
        "features = []\n",
        "for i, audio in enumerate(df_pd.audio_reconstructed):\n",
        "#n_fft = int(frame_rate*len(audio))\n",
        "#For each trim audio extract MFCC (so we will get a matrix of n_mfcc components*nc, with nc variable)\n",
        "    mfcc_features = librosa.feature.mfcc(y=df_pd.audio_reconstructed[i], \n",
        "                              sr=sr*2, \n",
        "                              n_mfcc=13,\n",
        "                              lifter = 10, \n",
        "                              n_fft=2048, \n",
        "                              hop_length=128,\n",
        "                              n_mels = 40,\n",
        "                            dct_type=2)\n",
        "#    mfcc_features = sklearn.preprocessing.scale(mfcc_features, axis=1)\n",
        "#   mel_features = librosa.feature.melspectrogram(y=df_pd.audio_trim[i], sr=sr)\n",
        "#   spectogram = librosa.power_to_db(mel_features, ref=np.max)\n",
        "\n",
        "#For each coefficient we compute the mean, median, std, max, min so we will have a total of n_mfcc*5 features for each audio\n",
        "    mfcc_means = mfcc_features.mean(axis=1)\n",
        "    mfcc_medians = np.median(mfcc_features, axis=1)\n",
        "    mfcc_stds = mfcc_features.std(axis=1)\n",
        "    mfcc_maxs = mfcc_features.max(axis=1)\n",
        "    mfcc_mins = mfcc_features.min(axis=1)\n",
        "\n",
        "    #we stack together the means, stds, medians, maxs and mins to get the final feature vector for each audio.\n",
        "    audio_features = list(mfcc_means)+list(mfcc_medians)+list(mfcc_stds)+list(mfcc_maxs)+list(mfcc_mins)\n",
        "\n",
        "    features.append(audio_features)\n",
        "    #adjust spectogram size to get nice number of columns that are easy to divide3\n",
        "    #spectogram= np.hstack((spectogram,tmp))\n",
        "\n",
        "    #spectograms.append(spectogram)\n",
        "    \n",
        "new_df = pd.DataFrame(features)\n",
        "if svm == True:\n",
        "  scaled_numerical_df = scaler.fit_transform(new_df)\n",
        "  scaled_numerical_df = pd.DataFrame(scaled_numerical_df)\n",
        "else:\n",
        "    scaled_numerical_df = pd.DataFrame(features)\n",
        "\n",
        "\n",
        "X = pd.concat([df_pd[categorical_features], scaled_numerical_df], axis=1)\n",
        "y = df_pd[\"label\"]\n",
        "\n",
        "if i == 0:\n",
        "  print(X.shape, y.shape)\n",
        "\n",
        "# new_df['gender=male'] = df_pd[\"gender=male\"]\n",
        "# new_df['ageRange=41-65'] = df_pd[\"ageRange=41-65\"]\n",
        "# new_df['ageRange=65+'] = df_pd[\"ageRange=65+\"]\n",
        "# new_df['label'] = df_pd[\"label\"]\n",
        "\n",
        "# y = new_df['label']\n",
        "# X = new_df.drop(columns='label')\n",
        "seed = 42\n",
        "\n",
        "X_train, X_test, y_train, y_test = train_test_split(X, y, test_size=0.2, random_state=seed)\n",
        "\n",
        "# if svm == True: #standardize\n",
        "#   X_train_scaled = scaler.fit_transform(X_train)\n",
        "#   X_test_scaled = scaler.transform(X_test)\n",
        "\n",
        "print(\"###########################################################\")\n",
        "print(\"DATASET SHAPE\")\n",
        "print(X_train.shape, X_test.shape, y_train.shape, y_test.shape)\n",
        "print(\"\")\n",
        "\n",
        "# print(f\"HYPERPARAMS: n_fft = {n_fft}, hop = {hop}\")\n",
        "# print(\"\")\n",
        "\n",
        "_, _, best_score = svm_classifier(X_train, y_train, 10, seed)\n",
        "print(\"\")\n",
        "print(f\"BEST RESULT: {best_score}\")\n",
        "print(\"\")\n",
        "            \n",
        "            "
      ]
    },
    {
      "cell_type": "code",
      "execution_count": null,
      "id": "43bfa55e",
      "metadata": {
        "id": "43bfa55e"
      },
      "outputs": [],
      "source": [
        "  new_df = pd.DataFrame(features)"
      ]
    },
    {
      "cell_type": "code",
      "execution_count": null,
      "id": "9ffdf1dd",
      "metadata": {
        "id": "9ffdf1dd"
      },
      "outputs": [],
      "source": [
        "#Test\n",
        "\n",
        "# index = 1\n",
        "# mfcc_features = librosa.feature.mfcc(y=df_pd.audio_trim[index], sr=sr)\n",
        "# print(mfcc_features.shape)\n",
        "\n",
        "# medians = np.median(mfcc_features, axis=1)\n",
        "# print(medians.shape)\n",
        "\n",
        "# means = mfcc_features.mean(axis=1)\n",
        "# medians = np.median(mfcc_features, axis=1)\n",
        "# stds = mfcc_features.std(axis=1)\n",
        "# maxs = mfcc_features.max(axis=1)\n",
        "# mins = mfcc_features.min(axis=1)\n",
        "# mins"
      ]
    },
    {
      "cell_type": "code",
      "execution_count": null,
      "id": "8abde365",
      "metadata": {
        "id": "8abde365"
      },
      "outputs": [],
      "source": [
        "#Add one hot encoding features and label column\n",
        "new_df['gender=male'] = df_pd[\"gender=male\"]\n",
        "new_df['ageRange=41-65'] = df_pd[\"ageRange=41-65\"]\n",
        "new_df['ageRange=65+'] = df_pd[\"ageRange=65+\"]\n",
        "new_df['label'] = df_pd[\"label\"]"
      ]
    },
    {
      "cell_type": "code",
      "execution_count": null,
      "id": "11465b74",
      "metadata": {
        "scrolled": true,
        "id": "11465b74",
        "outputId": "2969bc6e-a12a-46b9-dd6b-d4ffc2722c35"
      },
      "outputs": [
        {
          "data": {
            "text/html": [
              "<div>\n",
              "<style scoped>\n",
              "    .dataframe tbody tr th:only-of-type {\n",
              "        vertical-align: middle;\n",
              "    }\n",
              "\n",
              "    .dataframe tbody tr th {\n",
              "        vertical-align: top;\n",
              "    }\n",
              "\n",
              "    .dataframe thead th {\n",
              "        text-align: right;\n",
              "    }\n",
              "</style>\n",
              "<table border=\"1\" class=\"dataframe\">\n",
              "  <thead>\n",
              "    <tr style=\"text-align: right;\">\n",
              "      <th></th>\n",
              "      <th>0</th>\n",
              "      <th>1</th>\n",
              "      <th>2</th>\n",
              "      <th>3</th>\n",
              "      <th>4</th>\n",
              "      <th>5</th>\n",
              "      <th>6</th>\n",
              "      <th>7</th>\n",
              "      <th>8</th>\n",
              "      <th>9</th>\n",
              "      <th>...</th>\n",
              "      <th>59</th>\n",
              "      <th>60</th>\n",
              "      <th>61</th>\n",
              "      <th>62</th>\n",
              "      <th>63</th>\n",
              "      <th>64</th>\n",
              "      <th>gender=male</th>\n",
              "      <th>ageRange=41-65</th>\n",
              "      <th>ageRange=65+</th>\n",
              "      <th>label</th>\n",
              "    </tr>\n",
              "  </thead>\n",
              "  <tbody>\n",
              "    <tr>\n",
              "      <th>0</th>\n",
              "      <td>-654.978149</td>\n",
              "      <td>266.147034</td>\n",
              "      <td>-232.756287</td>\n",
              "      <td>204.047974</td>\n",
              "      <td>-386.087677</td>\n",
              "      <td>70.316353</td>\n",
              "      <td>-104.309944</td>\n",
              "      <td>-15.423725</td>\n",
              "      <td>-60.210785</td>\n",
              "      <td>-5.208535</td>\n",
              "      <td>...</td>\n",
              "      <td>-118.631729</td>\n",
              "      <td>-104.649719</td>\n",
              "      <td>-31.237093</td>\n",
              "      <td>0.015917</td>\n",
              "      <td>-8.756983</td>\n",
              "      <td>-15.892126</td>\n",
              "      <td>0</td>\n",
              "      <td>0</td>\n",
              "      <td>0</td>\n",
              "      <td>5</td>\n",
              "    </tr>\n",
              "    <tr>\n",
              "      <th>1</th>\n",
              "      <td>-788.408508</td>\n",
              "      <td>339.816681</td>\n",
              "      <td>-174.225296</td>\n",
              "      <td>137.939224</td>\n",
              "      <td>-227.956833</td>\n",
              "      <td>29.518757</td>\n",
              "      <td>-128.914902</td>\n",
              "      <td>21.448252</td>\n",
              "      <td>-67.127380</td>\n",
              "      <td>-3.915097</td>\n",
              "      <td>...</td>\n",
              "      <td>-113.725571</td>\n",
              "      <td>-121.354858</td>\n",
              "      <td>-24.809935</td>\n",
              "      <td>2.680358</td>\n",
              "      <td>8.757540</td>\n",
              "      <td>17.897354</td>\n",
              "      <td>0</td>\n",
              "      <td>0</td>\n",
              "      <td>0</td>\n",
              "      <td>6</td>\n",
              "    </tr>\n",
              "    <tr>\n",
              "      <th>2</th>\n",
              "      <td>-939.727173</td>\n",
              "      <td>555.871826</td>\n",
              "      <td>-257.650970</td>\n",
              "      <td>-52.364635</td>\n",
              "      <td>-51.672264</td>\n",
              "      <td>-32.816715</td>\n",
              "      <td>-106.138161</td>\n",
              "      <td>55.906471</td>\n",
              "      <td>-58.916706</td>\n",
              "      <td>-17.894106</td>\n",
              "      <td>...</td>\n",
              "      <td>-62.581871</td>\n",
              "      <td>-121.498207</td>\n",
              "      <td>-34.133976</td>\n",
              "      <td>-3.045390</td>\n",
              "      <td>-24.359169</td>\n",
              "      <td>-13.379682</td>\n",
              "      <td>0</td>\n",
              "      <td>0</td>\n",
              "      <td>0</td>\n",
              "      <td>7</td>\n",
              "    </tr>\n",
              "    <tr>\n",
              "      <th>3</th>\n",
              "      <td>-508.933044</td>\n",
              "      <td>419.745728</td>\n",
              "      <td>-443.796692</td>\n",
              "      <td>125.313591</td>\n",
              "      <td>-225.768005</td>\n",
              "      <td>59.677464</td>\n",
              "      <td>-102.039719</td>\n",
              "      <td>-29.348854</td>\n",
              "      <td>-22.342733</td>\n",
              "      <td>-14.533762</td>\n",
              "      <td>...</td>\n",
              "      <td>-90.700951</td>\n",
              "      <td>-58.892715</td>\n",
              "      <td>-38.069736</td>\n",
              "      <td>1.805272</td>\n",
              "      <td>-3.159659</td>\n",
              "      <td>-10.925360</td>\n",
              "      <td>0</td>\n",
              "      <td>0</td>\n",
              "      <td>0</td>\n",
              "      <td>1</td>\n",
              "    </tr>\n",
              "    <tr>\n",
              "      <th>4</th>\n",
              "      <td>-957.366089</td>\n",
              "      <td>678.238403</td>\n",
              "      <td>-244.650711</td>\n",
              "      <td>-146.730103</td>\n",
              "      <td>64.905457</td>\n",
              "      <td>-83.696617</td>\n",
              "      <td>-81.330528</td>\n",
              "      <td>5.969497</td>\n",
              "      <td>-37.702721</td>\n",
              "      <td>-21.758728</td>\n",
              "      <td>...</td>\n",
              "      <td>-47.281780</td>\n",
              "      <td>-74.267036</td>\n",
              "      <td>-40.814743</td>\n",
              "      <td>-1.424215</td>\n",
              "      <td>-7.308774</td>\n",
              "      <td>-13.394814</td>\n",
              "      <td>0</td>\n",
              "      <td>0</td>\n",
              "      <td>0</td>\n",
              "      <td>1</td>\n",
              "    </tr>\n",
              "    <tr>\n",
              "      <th>...</th>\n",
              "      <td>...</td>\n",
              "      <td>...</td>\n",
              "      <td>...</td>\n",
              "      <td>...</td>\n",
              "      <td>...</td>\n",
              "      <td>...</td>\n",
              "      <td>...</td>\n",
              "      <td>...</td>\n",
              "      <td>...</td>\n",
              "      <td>...</td>\n",
              "      <td>...</td>\n",
              "      <td>...</td>\n",
              "      <td>...</td>\n",
              "      <td>...</td>\n",
              "      <td>...</td>\n",
              "      <td>...</td>\n",
              "      <td>...</td>\n",
              "      <td>...</td>\n",
              "      <td>...</td>\n",
              "      <td>...</td>\n",
              "      <td>...</td>\n",
              "    </tr>\n",
              "    <tr>\n",
              "      <th>9483</th>\n",
              "      <td>-389.328949</td>\n",
              "      <td>537.848694</td>\n",
              "      <td>-318.830078</td>\n",
              "      <td>96.194000</td>\n",
              "      <td>-221.532883</td>\n",
              "      <td>75.032234</td>\n",
              "      <td>-37.723171</td>\n",
              "      <td>-55.868301</td>\n",
              "      <td>-17.517597</td>\n",
              "      <td>-2.130046</td>\n",
              "      <td>...</td>\n",
              "      <td>-143.091904</td>\n",
              "      <td>-66.653831</td>\n",
              "      <td>-16.152851</td>\n",
              "      <td>0.942129</td>\n",
              "      <td>-30.827900</td>\n",
              "      <td>-17.219553</td>\n",
              "      <td>1</td>\n",
              "      <td>0</td>\n",
              "      <td>0</td>\n",
              "      <td>3</td>\n",
              "    </tr>\n",
              "    <tr>\n",
              "      <th>9484</th>\n",
              "      <td>-373.620209</td>\n",
              "      <td>423.923492</td>\n",
              "      <td>-315.671143</td>\n",
              "      <td>80.269203</td>\n",
              "      <td>-320.812164</td>\n",
              "      <td>130.879639</td>\n",
              "      <td>-91.896729</td>\n",
              "      <td>-35.442120</td>\n",
              "      <td>-2.797575</td>\n",
              "      <td>1.394078</td>\n",
              "      <td>...</td>\n",
              "      <td>-163.965912</td>\n",
              "      <td>-56.331928</td>\n",
              "      <td>-19.432053</td>\n",
              "      <td>-9.365868</td>\n",
              "      <td>-13.883176</td>\n",
              "      <td>-30.704874</td>\n",
              "      <td>1</td>\n",
              "      <td>0</td>\n",
              "      <td>0</td>\n",
              "      <td>7</td>\n",
              "    </tr>\n",
              "    <tr>\n",
              "      <th>9485</th>\n",
              "      <td>-377.192047</td>\n",
              "      <td>486.606506</td>\n",
              "      <td>-390.254395</td>\n",
              "      <td>18.689823</td>\n",
              "      <td>-226.928131</td>\n",
              "      <td>119.542358</td>\n",
              "      <td>-54.385330</td>\n",
              "      <td>-33.894749</td>\n",
              "      <td>-11.903637</td>\n",
              "      <td>0.599520</td>\n",
              "      <td>...</td>\n",
              "      <td>-123.683510</td>\n",
              "      <td>-60.877983</td>\n",
              "      <td>-14.356465</td>\n",
              "      <td>-1.956916</td>\n",
              "      <td>-20.179590</td>\n",
              "      <td>-25.053640</td>\n",
              "      <td>1</td>\n",
              "      <td>0</td>\n",
              "      <td>0</td>\n",
              "      <td>7</td>\n",
              "    </tr>\n",
              "    <tr>\n",
              "      <th>9486</th>\n",
              "      <td>-289.317780</td>\n",
              "      <td>471.563354</td>\n",
              "      <td>-393.444153</td>\n",
              "      <td>73.781502</td>\n",
              "      <td>-346.154572</td>\n",
              "      <td>154.330353</td>\n",
              "      <td>-78.557877</td>\n",
              "      <td>-53.864761</td>\n",
              "      <td>-24.253027</td>\n",
              "      <td>-2.271663</td>\n",
              "      <td>...</td>\n",
              "      <td>-139.371735</td>\n",
              "      <td>-76.906059</td>\n",
              "      <td>-9.071911</td>\n",
              "      <td>-0.310656</td>\n",
              "      <td>-2.380613</td>\n",
              "      <td>-27.433468</td>\n",
              "      <td>1</td>\n",
              "      <td>0</td>\n",
              "      <td>0</td>\n",
              "      <td>7</td>\n",
              "    </tr>\n",
              "    <tr>\n",
              "      <th>9487</th>\n",
              "      <td>-337.656952</td>\n",
              "      <td>519.381897</td>\n",
              "      <td>-386.330322</td>\n",
              "      <td>107.241417</td>\n",
              "      <td>-292.054535</td>\n",
              "      <td>108.411217</td>\n",
              "      <td>14.248213</td>\n",
              "      <td>-110.628120</td>\n",
              "      <td>-19.995003</td>\n",
              "      <td>3.866162</td>\n",
              "      <td>...</td>\n",
              "      <td>-179.450134</td>\n",
              "      <td>-62.210617</td>\n",
              "      <td>-9.569366</td>\n",
              "      <td>3.112083</td>\n",
              "      <td>-13.205187</td>\n",
              "      <td>-22.762310</td>\n",
              "      <td>1</td>\n",
              "      <td>0</td>\n",
              "      <td>0</td>\n",
              "      <td>1</td>\n",
              "    </tr>\n",
              "  </tbody>\n",
              "</table>\n",
              "<p>9488 rows × 69 columns</p>\n",
              "</div>"
            ],
            "text/plain": [
              "               0           1           2           3           4           5  \\\n",
              "0    -654.978149  266.147034 -232.756287  204.047974 -386.087677   70.316353   \n",
              "1    -788.408508  339.816681 -174.225296  137.939224 -227.956833   29.518757   \n",
              "2    -939.727173  555.871826 -257.650970  -52.364635  -51.672264  -32.816715   \n",
              "3    -508.933044  419.745728 -443.796692  125.313591 -225.768005   59.677464   \n",
              "4    -957.366089  678.238403 -244.650711 -146.730103   64.905457  -83.696617   \n",
              "...          ...         ...         ...         ...         ...         ...   \n",
              "9483 -389.328949  537.848694 -318.830078   96.194000 -221.532883   75.032234   \n",
              "9484 -373.620209  423.923492 -315.671143   80.269203 -320.812164  130.879639   \n",
              "9485 -377.192047  486.606506 -390.254395   18.689823 -226.928131  119.542358   \n",
              "9486 -289.317780  471.563354 -393.444153   73.781502 -346.154572  154.330353   \n",
              "9487 -337.656952  519.381897 -386.330322  107.241417 -292.054535  108.411217   \n",
              "\n",
              "               6           7          8          9  ...          59  \\\n",
              "0    -104.309944  -15.423725 -60.210785  -5.208535  ... -118.631729   \n",
              "1    -128.914902   21.448252 -67.127380  -3.915097  ... -113.725571   \n",
              "2    -106.138161   55.906471 -58.916706 -17.894106  ...  -62.581871   \n",
              "3    -102.039719  -29.348854 -22.342733 -14.533762  ...  -90.700951   \n",
              "4     -81.330528    5.969497 -37.702721 -21.758728  ...  -47.281780   \n",
              "...          ...         ...        ...        ...  ...         ...   \n",
              "9483  -37.723171  -55.868301 -17.517597  -2.130046  ... -143.091904   \n",
              "9484  -91.896729  -35.442120  -2.797575   1.394078  ... -163.965912   \n",
              "9485  -54.385330  -33.894749 -11.903637   0.599520  ... -123.683510   \n",
              "9486  -78.557877  -53.864761 -24.253027  -2.271663  ... -139.371735   \n",
              "9487   14.248213 -110.628120 -19.995003   3.866162  ... -179.450134   \n",
              "\n",
              "              60         61        62         63         64  gender=male  \\\n",
              "0    -104.649719 -31.237093  0.015917  -8.756983 -15.892126            0   \n",
              "1    -121.354858 -24.809935  2.680358   8.757540  17.897354            0   \n",
              "2    -121.498207 -34.133976 -3.045390 -24.359169 -13.379682            0   \n",
              "3     -58.892715 -38.069736  1.805272  -3.159659 -10.925360            0   \n",
              "4     -74.267036 -40.814743 -1.424215  -7.308774 -13.394814            0   \n",
              "...          ...        ...       ...        ...        ...          ...   \n",
              "9483  -66.653831 -16.152851  0.942129 -30.827900 -17.219553            1   \n",
              "9484  -56.331928 -19.432053 -9.365868 -13.883176 -30.704874            1   \n",
              "9485  -60.877983 -14.356465 -1.956916 -20.179590 -25.053640            1   \n",
              "9486  -76.906059  -9.071911 -0.310656  -2.380613 -27.433468            1   \n",
              "9487  -62.210617  -9.569366  3.112083 -13.205187 -22.762310            1   \n",
              "\n",
              "      ageRange=41-65  ageRange=65+  label  \n",
              "0                  0             0      5  \n",
              "1                  0             0      6  \n",
              "2                  0             0      7  \n",
              "3                  0             0      1  \n",
              "4                  0             0      1  \n",
              "...              ...           ...    ...  \n",
              "9483               0             0      3  \n",
              "9484               0             0      7  \n",
              "9485               0             0      7  \n",
              "9486               0             0      7  \n",
              "9487               0             0      1  \n",
              "\n",
              "[9488 rows x 69 columns]"
            ]
          },
          "execution_count": 46,
          "metadata": {},
          "output_type": "execute_result"
        }
      ],
      "source": [
        "new_df"
      ]
    },
    {
      "cell_type": "code",
      "execution_count": null,
      "id": "0d328f02",
      "metadata": {
        "id": "0d328f02"
      },
      "outputs": [],
      "source": [
        "# indexes"
      ]
    },
    {
      "cell_type": "code",
      "execution_count": null,
      "id": "a7bb2391",
      "metadata": {
        "id": "a7bb2391"
      },
      "outputs": [],
      "source": [
        "# name_file = r'/df.pickle'\n",
        "\n",
        "# with open(path_working_directory+name_file, 'rb') as f:\n",
        "#         df = pickle.load(f)\n",
        "# df_tmp = pd.DataFrame({'audio':df[1], 'gender': df_development.gender, 'ageRange': df_development.ageRange, 'label':df[3]})\n",
        "# #df_pd[9840:9845] ETICHETTATO COME FEMALE MA SECONDO ME E MALE\n",
        "# pd.DataFrame(df_tmp).iloc[23:28]"
      ]
    },
    {
      "cell_type": "code",
      "execution_count": null,
      "id": "1bd236c4",
      "metadata": {
        "id": "1bd236c4"
      },
      "outputs": [],
      "source": [
        "# df_pd.iloc[23:28]"
      ]
    },
    {
      "cell_type": "code",
      "execution_count": null,
      "id": "2d8a3906",
      "metadata": {
        "id": "2d8a3906"
      },
      "outputs": [],
      "source": [
        "# df_tmp['audio'][26]"
      ]
    },
    {
      "cell_type": "code",
      "execution_count": null,
      "id": "381daf94",
      "metadata": {
        "id": "381daf94"
      },
      "outputs": [],
      "source": [
        "# df_tmp['audio'][24] == df_pd['audio'][24]"
      ]
    },
    {
      "cell_type": "markdown",
      "id": "09490e4b",
      "metadata": {
        "id": "09490e4b"
      },
      "source": [
        "### 4. Training and Validation"
      ]
    },
    {
      "cell_type": "code",
      "execution_count": null,
      "id": "a8ae650f",
      "metadata": {
        "id": "a8ae650f"
      },
      "outputs": [],
      "source": [
        "y = new_df['label']\n",
        "X = new_df.drop(columns='label')\n",
        "seed = 42"
      ]
    },
    {
      "cell_type": "code",
      "execution_count": null,
      "id": "70098add",
      "metadata": {
        "id": "70098add",
        "outputId": "aca74ea7-be75-418b-8a11-25d64314bbd0"
      },
      "outputs": [
        {
          "data": {
            "text/plain": [
              "((7590, 68), (1898, 68), (7590,), (1898,))"
            ]
          },
          "execution_count": 53,
          "metadata": {},
          "output_type": "execute_result"
        }
      ],
      "source": [
        "from sklearn.model_selection import train_test_split\n",
        "X_train, X_test, y_train, y_test = train_test_split(X, y, test_size=0.2, random_state=seed)\n",
        "X_train.shape, X_test.shape, y_train.shape, y_test.shape "
      ]
    },
    {
      "cell_type": "code",
      "execution_count": null,
      "id": "68ff1ea7",
      "metadata": {
        "id": "68ff1ea7",
        "outputId": "543b63a0-2d35-400c-d587-2e99bbf94dc8"
      },
      "outputs": [
        {
          "name": "stdout",
          "output_type": "stream",
          "text": [
            "Fitting 10 folds for each of 4 candidates, totalling 40 fits\n"
          ]
        },
        {
          "name": "stderr",
          "output_type": "stream",
          "text": [
            "C:\\Users\\andre\\anaconda3\\lib\\site-packages\\sklearn\\utils\\validation.py:1688: FutureWarning: Feature names only support names that are all strings. Got feature names with dtypes: ['int', 'str']. An error will be raised in 1.2.\n",
            "  warnings.warn(\n"
          ]
        },
        {
          "name": "stdout",
          "output_type": "stream",
          "text": [
            "{'criterion': 'gini', 'max_features': 'sqrt', 'n_estimators': 100}\n",
            "0.5274044795783926\n"
          ]
        }
      ],
      "source": [
        "### RandomForest Classifier ###\n",
        "from sklearn.ensemble import RandomForestClassifier\n",
        "from sklearn.model_selection import GridSearchCV\n",
        "\n",
        "def randforest_classifier(input_x, input_y, cv=10, seed = seed):\n",
        "    ## Defining parameters\n",
        "    model_RF= RandomForestClassifier(random_state =seed)\n",
        "\n",
        "    parameters = {'n_estimators':[100], \n",
        "                  'criterion':['gini', 'entropy'],\n",
        "                  'max_features':['sqrt', 'log2']}\n",
        "\n",
        "    ## Building Grid Search algorithm with cross-validation and Mean Squared Error score.\n",
        "\n",
        "    grid_search_RF = GridSearchCV(estimator=model_RF,  \n",
        "                         param_grid=parameters,\n",
        "                         scoring='accuracy',\n",
        "                         cv=cv,\n",
        "                         n_jobs=-1,\n",
        "                        verbose = 15)\n",
        "\n",
        "    ## Lastly, finding the best parameters.\n",
        "\n",
        "    grid_search_RF.fit(input_x, input_y)\n",
        "    best_parameters_RF = grid_search_RF.best_params_  \n",
        "    best_score_RF = grid_search_RF.best_score_ \n",
        "    print(best_parameters_RF)\n",
        "    print(best_score_RF)\n",
        "    results = grid_search_RF.cv_results_\n",
        "    \n",
        "    return best_parameters_RF, results\n",
        "\n",
        "best_params, RF_CV_results = randforest_classifier(X_train, y_train, 10, seed)"
      ]
    },
    {
      "cell_type": "code",
      "execution_count": null,
      "id": "52699fb7",
      "metadata": {
        "id": "52699fb7",
        "outputId": "aabd90d8-7fe2-4222-d39b-77a90e36ff33"
      },
      "outputs": [
        {
          "name": "stderr",
          "output_type": "stream",
          "text": [
            "C:\\Users\\andre\\anaconda3\\lib\\site-packages\\sklearn\\utils\\validation.py:1688: FutureWarning: Feature names only support names that are all strings. Got feature names with dtypes: ['int', 'str']. An error will be raised in 1.2.\n",
            "  warnings.warn(\n"
          ]
        },
        {
          "data": {
            "text/plain": [
              "RandomForestClassifier(criterion='entropy', max_features='sqrt',\n",
              "                       n_estimators=50, random_state=42)"
            ]
          },
          "execution_count": 55,
          "metadata": {},
          "output_type": "execute_result"
        }
      ],
      "source": [
        "rf = RandomForestClassifier(n_estimators=50,criterion='entropy', max_features=\"sqrt\", random_state =seed)\n",
        "rf.fit(X_train, y_train)"
      ]
    },
    {
      "cell_type": "code",
      "execution_count": null,
      "id": "baee5d7a",
      "metadata": {
        "id": "baee5d7a",
        "outputId": "bbb9fcbe-573f-413e-dad3-3043a0a1ea50"
      },
      "outputs": [
        {
          "name": "stdout",
          "output_type": "stream",
          "text": [
            "['0', '1', '2', '3', '4', '5', '6', '7', '8', '9', '10', '11', '12', '13', '14', '15', '16', '17', '18', '19', '20', '21', '22', '23', '24', '25', '26', '27', '28', '29', '30', '31', '32', '33', '34', '35', '36', '37', '38', '39', '40', '41', '42', '43', '44', '45', '46', '47', '48', '49', '50', '51', '52', '53', '54', '55', '56', '57', '58', '59', '60', '61', '62', '63', '64', 'gender=male', 'ageRange=41-65', 'ageRange=65+']\n",
            "means: 0-12\n",
            "medians: 13-25\n",
            "stds: 26-38\n",
            "max: 39-51\n",
            "min: 52-64\n"
          ]
        },
        {
          "data": {
            "text/plain": [
              "Text(0, 0.5, 'Mean decrease in impurity')"
            ]
          },
          "execution_count": 56,
          "metadata": {},
          "output_type": "execute_result"
        },
        {
          "data": {
            "image/png": "[encoded data removed]",
            "text/plain": [
              "<Figure size 864x864 with 1 Axes>"
            ]
          },
          "metadata": {
            "needs_background": "light"
          },
          "output_type": "display_data"
        }
      ],
      "source": [
        "feature_names = [f\"{f}\" for f in X_train.columns]\n",
        "print(feature_names)\n",
        "importances=rf.feature_importances_\n",
        "forest_importances=  pd.Series(importances, index=feature_names).sort_values(ascending=False)\n",
        "print(\"means: 0-12\")\n",
        "print(\"medians: 13-25\")\n",
        "print(\"stds: 26-38\")\n",
        "print(\"max: 39-51\")\n",
        "print(\"min: 52-64\")\n",
        "plt.figure(figsize=(12,12))\n",
        "forest_importances.plot.bar()\n",
        "plt.title(\"Feature importances using MDI\")\n",
        "plt.ylabel(\"Mean decrease in impurity\")\n"
      ]
    },
    {
      "cell_type": "markdown",
      "id": "0a478d2c",
      "metadata": {
        "id": "0a478d2c"
      },
      "source": [
        "100 alberi, mfcc_features = librosa.feature.mfcc(y=df_pd.audio_trim[i], sr=sr, n_mfcc=13, n_fft=1024): 0.5019027470507421\n",
        "\n",
        "100 alberi, mfcc_features = librosa.feature.mfcc(y=df_pd.audio_trim[i], sr=sr, n_mfcc=13, n_fft=2048, hop_length=256): 0.5107861570314567\n",
        "\n",
        "100 alberi, mfcc_features = librosa.feature.mfcc(y=df_pd.audio_trim[i], sr=sr, n_mfcc=13, n_fft=2048, hop_length=128) = 0.5144707138203936\n",
        "\n",
        "100 alberi   mfcc_features = librosa.feature.mfcc(y=df_pd.audio_emph[i], sr=sr, n_mfcc=13, n_fft=4096, hop_length=128) = 0.5152318126406905\n",
        "\n",
        "100 alberi mfcc_features = librosa.feature.mfcc(y=df_pd.audio_trim[i], sr=sr, n_mfcc=13, n_fft=4096, hop_length=128): 0.520815407736118\n",
        "\n",
        "100 alberi, mfcc_features = librosa.feature.mfcc(y=df_pd.audio_trim[i], sr=sr, n_mfcc=13, n_fft=4096, hop_length=128, n_mels = 90): 0.523992189062107\n",
        "\n",
        "100 alberi, mfcc_features = librosa.feature.mfcc(y=df_pd.audio_reconstructed[i], sr=sr, n_mfcc=13, n_fft=4096, hop_length=128, n_mels = 90): 0.5242471249169564\n",
        "\n",
        "100 alberi,   mfcc_features = librosa.feature.mfcc(y=df_pd.audio_reconstructed[i], sr=sr*2, n_mfcc=13, n_fft=4096, hop_length=128, n_mels = 90): 0.5308446584407794\n",
        "\n",
        "200 alberi, mfcc_features = librosa.feature.mfcc(y=df_pd.audio_reconstructed[i], sr=sr*2, n_mfcc=13, lifter = 10, n_fft=4096, hop_length=128, n_mels = 90): 0.538330839337199\n",
        "\n",
        "100, mfcc_features = librosa.feature.mfcc(y=df_pd.audio_reconstructed[i], sr=sr*2, n_mfcc=13, lifter = 10, n_fft=4096, hop_length=128, n_mels = 90, dct_type=1) = 0.5279249092163907\n",
        "\n",
        "100, mfcc_features = librosa.feature.mfcc(y=df_pd.audio_reconstructed[i],  sr=sr*2, n_mfcc=13,lifter = 10,  n_fft=4096, hop_length=128, n_mels = 90, dct_type=3): 0.5046902714800793\n",
        "\n",
        "**BEST**: 100 alberi,  tagliando trim audios > 1 sec mfcc_features = librosa.feature.mfcc(y=df_pd.audio_reconstructed[i], sr=sr*2, n_mfcc=13, lifter = 10, n_fft=4096, hop_length=64, n_mels = 90, dct_type=2): **0.5398856887280141**\n",
        "\n",
        "100 alberi,  tagliando trim audios > 2 sec mfcc_features = librosa.feature.mfcc(y=df_pd.audio_reconstructed[i], sr=sr*2, n_mfcc=13, lifter = 10, n_fft=4096, hop_length=64, n_mels = 90, dct_type=2): **0.5274044795783926**\n",
        "\n",
        "\n",
        "\n",
        "\n",
        "\n",
        "\n"
      ]
    },
    {
      "cell_type": "code",
      "execution_count": null,
      "id": "a08f5e61",
      "metadata": {
        "id": "a08f5e61",
        "outputId": "cf381c0e-5ee0-4bc9-c3b9-cd721b3cafe2"
      },
      "outputs": [
        {
          "data": {
            "text/html": [
              "<div>\n",
              "<style scoped>\n",
              "    .dataframe tbody tr th:only-of-type {\n",
              "        vertical-align: middle;\n",
              "    }\n",
              "\n",
              "    .dataframe tbody tr th {\n",
              "        vertical-align: top;\n",
              "    }\n",
              "\n",
              "    .dataframe thead th {\n",
              "        text-align: right;\n",
              "    }\n",
              "</style>\n",
              "<table border=\"1\" class=\"dataframe\">\n",
              "  <thead>\n",
              "    <tr style=\"text-align: right;\">\n",
              "      <th></th>\n",
              "      <th>0</th>\n",
              "      <th>1</th>\n",
              "      <th>2</th>\n",
              "      <th>3</th>\n",
              "      <th>4</th>\n",
              "      <th>5</th>\n",
              "      <th>6</th>\n",
              "      <th>7</th>\n",
              "      <th>8</th>\n",
              "      <th>9</th>\n",
              "      <th>...</th>\n",
              "      <th>59</th>\n",
              "      <th>60</th>\n",
              "      <th>61</th>\n",
              "      <th>62</th>\n",
              "      <th>63</th>\n",
              "      <th>64</th>\n",
              "      <th>gender=male</th>\n",
              "      <th>ageRange=41-65</th>\n",
              "      <th>ageRange=65+</th>\n",
              "      <th>label</th>\n",
              "    </tr>\n",
              "  </thead>\n",
              "  <tbody>\n",
              "    <tr>\n",
              "      <th>0</th>\n",
              "      <td>-654.978149</td>\n",
              "      <td>266.147034</td>\n",
              "      <td>-232.756287</td>\n",
              "      <td>204.047974</td>\n",
              "      <td>-386.087677</td>\n",
              "      <td>70.316353</td>\n",
              "      <td>-104.309944</td>\n",
              "      <td>-15.423725</td>\n",
              "      <td>-60.210785</td>\n",
              "      <td>-5.208535</td>\n",
              "      <td>...</td>\n",
              "      <td>-118.631729</td>\n",
              "      <td>-104.649719</td>\n",
              "      <td>-31.237093</td>\n",
              "      <td>0.015917</td>\n",
              "      <td>-8.756983</td>\n",
              "      <td>-15.892126</td>\n",
              "      <td>0</td>\n",
              "      <td>0</td>\n",
              "      <td>0</td>\n",
              "      <td>5</td>\n",
              "    </tr>\n",
              "    <tr>\n",
              "      <th>1</th>\n",
              "      <td>-788.408508</td>\n",
              "      <td>339.816681</td>\n",
              "      <td>-174.225296</td>\n",
              "      <td>137.939224</td>\n",
              "      <td>-227.956833</td>\n",
              "      <td>29.518757</td>\n",
              "      <td>-128.914902</td>\n",
              "      <td>21.448252</td>\n",
              "      <td>-67.127380</td>\n",
              "      <td>-3.915097</td>\n",
              "      <td>...</td>\n",
              "      <td>-113.725571</td>\n",
              "      <td>-121.354858</td>\n",
              "      <td>-24.809935</td>\n",
              "      <td>2.680358</td>\n",
              "      <td>8.757540</td>\n",
              "      <td>17.897354</td>\n",
              "      <td>0</td>\n",
              "      <td>0</td>\n",
              "      <td>0</td>\n",
              "      <td>6</td>\n",
              "    </tr>\n",
              "    <tr>\n",
              "      <th>2</th>\n",
              "      <td>-939.727173</td>\n",
              "      <td>555.871826</td>\n",
              "      <td>-257.650970</td>\n",
              "      <td>-52.364635</td>\n",
              "      <td>-51.672264</td>\n",
              "      <td>-32.816715</td>\n",
              "      <td>-106.138161</td>\n",
              "      <td>55.906471</td>\n",
              "      <td>-58.916706</td>\n",
              "      <td>-17.894106</td>\n",
              "      <td>...</td>\n",
              "      <td>-62.581871</td>\n",
              "      <td>-121.498207</td>\n",
              "      <td>-34.133976</td>\n",
              "      <td>-3.045390</td>\n",
              "      <td>-24.359169</td>\n",
              "      <td>-13.379682</td>\n",
              "      <td>0</td>\n",
              "      <td>0</td>\n",
              "      <td>0</td>\n",
              "      <td>7</td>\n",
              "    </tr>\n",
              "    <tr>\n",
              "      <th>3</th>\n",
              "      <td>-508.933044</td>\n",
              "      <td>419.745728</td>\n",
              "      <td>-443.796692</td>\n",
              "      <td>125.313591</td>\n",
              "      <td>-225.768005</td>\n",
              "      <td>59.677464</td>\n",
              "      <td>-102.039719</td>\n",
              "      <td>-29.348854</td>\n",
              "      <td>-22.342733</td>\n",
              "      <td>-14.533762</td>\n",
              "      <td>...</td>\n",
              "      <td>-90.700951</td>\n",
              "      <td>-58.892715</td>\n",
              "      <td>-38.069736</td>\n",
              "      <td>1.805272</td>\n",
              "      <td>-3.159659</td>\n",
              "      <td>-10.925360</td>\n",
              "      <td>0</td>\n",
              "      <td>0</td>\n",
              "      <td>0</td>\n",
              "      <td>1</td>\n",
              "    </tr>\n",
              "    <tr>\n",
              "      <th>4</th>\n",
              "      <td>-957.366089</td>\n",
              "      <td>678.238403</td>\n",
              "      <td>-244.650711</td>\n",
              "      <td>-146.730103</td>\n",
              "      <td>64.905457</td>\n",
              "      <td>-83.696617</td>\n",
              "      <td>-81.330528</td>\n",
              "      <td>5.969497</td>\n",
              "      <td>-37.702721</td>\n",
              "      <td>-21.758728</td>\n",
              "      <td>...</td>\n",
              "      <td>-47.281780</td>\n",
              "      <td>-74.267036</td>\n",
              "      <td>-40.814743</td>\n",
              "      <td>-1.424215</td>\n",
              "      <td>-7.308774</td>\n",
              "      <td>-13.394814</td>\n",
              "      <td>0</td>\n",
              "      <td>0</td>\n",
              "      <td>0</td>\n",
              "      <td>1</td>\n",
              "    </tr>\n",
              "    <tr>\n",
              "      <th>...</th>\n",
              "      <td>...</td>\n",
              "      <td>...</td>\n",
              "      <td>...</td>\n",
              "      <td>...</td>\n",
              "      <td>...</td>\n",
              "      <td>...</td>\n",
              "      <td>...</td>\n",
              "      <td>...</td>\n",
              "      <td>...</td>\n",
              "      <td>...</td>\n",
              "      <td>...</td>\n",
              "      <td>...</td>\n",
              "      <td>...</td>\n",
              "      <td>...</td>\n",
              "      <td>...</td>\n",
              "      <td>...</td>\n",
              "      <td>...</td>\n",
              "      <td>...</td>\n",
              "      <td>...</td>\n",
              "      <td>...</td>\n",
              "      <td>...</td>\n",
              "    </tr>\n",
              "    <tr>\n",
              "      <th>9483</th>\n",
              "      <td>-389.328949</td>\n",
              "      <td>537.848694</td>\n",
              "      <td>-318.830078</td>\n",
              "      <td>96.194000</td>\n",
              "      <td>-221.532883</td>\n",
              "      <td>75.032234</td>\n",
              "      <td>-37.723171</td>\n",
              "      <td>-55.868301</td>\n",
              "      <td>-17.517597</td>\n",
              "      <td>-2.130046</td>\n",
              "      <td>...</td>\n",
              "      <td>-143.091904</td>\n",
              "      <td>-66.653831</td>\n",
              "      <td>-16.152851</td>\n",
              "      <td>0.942129</td>\n",
              "      <td>-30.827900</td>\n",
              "      <td>-17.219553</td>\n",
              "      <td>1</td>\n",
              "      <td>0</td>\n",
              "      <td>0</td>\n",
              "      <td>3</td>\n",
              "    </tr>\n",
              "    <tr>\n",
              "      <th>9484</th>\n",
              "      <td>-373.620209</td>\n",
              "      <td>423.923492</td>\n",
              "      <td>-315.671143</td>\n",
              "      <td>80.269203</td>\n",
              "      <td>-320.812164</td>\n",
              "      <td>130.879639</td>\n",
              "      <td>-91.896729</td>\n",
              "      <td>-35.442120</td>\n",
              "      <td>-2.797575</td>\n",
              "      <td>1.394078</td>\n",
              "      <td>...</td>\n",
              "      <td>-163.965912</td>\n",
              "      <td>-56.331928</td>\n",
              "      <td>-19.432053</td>\n",
              "      <td>-9.365868</td>\n",
              "      <td>-13.883176</td>\n",
              "      <td>-30.704874</td>\n",
              "      <td>1</td>\n",
              "      <td>0</td>\n",
              "      <td>0</td>\n",
              "      <td>7</td>\n",
              "    </tr>\n",
              "    <tr>\n",
              "      <th>9485</th>\n",
              "      <td>-377.192047</td>\n",
              "      <td>486.606506</td>\n",
              "      <td>-390.254395</td>\n",
              "      <td>18.689823</td>\n",
              "      <td>-226.928131</td>\n",
              "      <td>119.542358</td>\n",
              "      <td>-54.385330</td>\n",
              "      <td>-33.894749</td>\n",
              "      <td>-11.903637</td>\n",
              "      <td>0.599520</td>\n",
              "      <td>...</td>\n",
              "      <td>-123.683510</td>\n",
              "      <td>-60.877983</td>\n",
              "      <td>-14.356465</td>\n",
              "      <td>-1.956916</td>\n",
              "      <td>-20.179590</td>\n",
              "      <td>-25.053640</td>\n",
              "      <td>1</td>\n",
              "      <td>0</td>\n",
              "      <td>0</td>\n",
              "      <td>7</td>\n",
              "    </tr>\n",
              "    <tr>\n",
              "      <th>9486</th>\n",
              "      <td>-289.317780</td>\n",
              "      <td>471.563354</td>\n",
              "      <td>-393.444153</td>\n",
              "      <td>73.781502</td>\n",
              "      <td>-346.154572</td>\n",
              "      <td>154.330353</td>\n",
              "      <td>-78.557877</td>\n",
              "      <td>-53.864761</td>\n",
              "      <td>-24.253027</td>\n",
              "      <td>-2.271663</td>\n",
              "      <td>...</td>\n",
              "      <td>-139.371735</td>\n",
              "      <td>-76.906059</td>\n",
              "      <td>-9.071911</td>\n",
              "      <td>-0.310656</td>\n",
              "      <td>-2.380613</td>\n",
              "      <td>-27.433468</td>\n",
              "      <td>1</td>\n",
              "      <td>0</td>\n",
              "      <td>0</td>\n",
              "      <td>7</td>\n",
              "    </tr>\n",
              "    <tr>\n",
              "      <th>9487</th>\n",
              "      <td>-337.656952</td>\n",
              "      <td>519.381897</td>\n",
              "      <td>-386.330322</td>\n",
              "      <td>107.241417</td>\n",
              "      <td>-292.054535</td>\n",
              "      <td>108.411217</td>\n",
              "      <td>14.248213</td>\n",
              "      <td>-110.628120</td>\n",
              "      <td>-19.995003</td>\n",
              "      <td>3.866162</td>\n",
              "      <td>...</td>\n",
              "      <td>-179.450134</td>\n",
              "      <td>-62.210617</td>\n",
              "      <td>-9.569366</td>\n",
              "      <td>3.112083</td>\n",
              "      <td>-13.205187</td>\n",
              "      <td>-22.762310</td>\n",
              "      <td>1</td>\n",
              "      <td>0</td>\n",
              "      <td>0</td>\n",
              "      <td>1</td>\n",
              "    </tr>\n",
              "  </tbody>\n",
              "</table>\n",
              "<p>9488 rows × 69 columns</p>\n",
              "</div>"
            ],
            "text/plain": [
              "               0           1           2           3           4           5  \\\n",
              "0    -654.978149  266.147034 -232.756287  204.047974 -386.087677   70.316353   \n",
              "1    -788.408508  339.816681 -174.225296  137.939224 -227.956833   29.518757   \n",
              "2    -939.727173  555.871826 -257.650970  -52.364635  -51.672264  -32.816715   \n",
              "3    -508.933044  419.745728 -443.796692  125.313591 -225.768005   59.677464   \n",
              "4    -957.366089  678.238403 -244.650711 -146.730103   64.905457  -83.696617   \n",
              "...          ...         ...         ...         ...         ...         ...   \n",
              "9483 -389.328949  537.848694 -318.830078   96.194000 -221.532883   75.032234   \n",
              "9484 -373.620209  423.923492 -315.671143   80.269203 -320.812164  130.879639   \n",
              "9485 -377.192047  486.606506 -390.254395   18.689823 -226.928131  119.542358   \n",
              "9486 -289.317780  471.563354 -393.444153   73.781502 -346.154572  154.330353   \n",
              "9487 -337.656952  519.381897 -386.330322  107.241417 -292.054535  108.411217   \n",
              "\n",
              "               6           7          8          9  ...          59  \\\n",
              "0    -104.309944  -15.423725 -60.210785  -5.208535  ... -118.631729   \n",
              "1    -128.914902   21.448252 -67.127380  -3.915097  ... -113.725571   \n",
              "2    -106.138161   55.906471 -58.916706 -17.894106  ...  -62.581871   \n",
              "3    -102.039719  -29.348854 -22.342733 -14.533762  ...  -90.700951   \n",
              "4     -81.330528    5.969497 -37.702721 -21.758728  ...  -47.281780   \n",
              "...          ...         ...        ...        ...  ...         ...   \n",
              "9483  -37.723171  -55.868301 -17.517597  -2.130046  ... -143.091904   \n",
              "9484  -91.896729  -35.442120  -2.797575   1.394078  ... -163.965912   \n",
              "9485  -54.385330  -33.894749 -11.903637   0.599520  ... -123.683510   \n",
              "9486  -78.557877  -53.864761 -24.253027  -2.271663  ... -139.371735   \n",
              "9487   14.248213 -110.628120 -19.995003   3.866162  ... -179.450134   \n",
              "\n",
              "              60         61        62         63         64  gender=male  \\\n",
              "0    -104.649719 -31.237093  0.015917  -8.756983 -15.892126            0   \n",
              "1    -121.354858 -24.809935  2.680358   8.757540  17.897354            0   \n",
              "2    -121.498207 -34.133976 -3.045390 -24.359169 -13.379682            0   \n",
              "3     -58.892715 -38.069736  1.805272  -3.159659 -10.925360            0   \n",
              "4     -74.267036 -40.814743 -1.424215  -7.308774 -13.394814            0   \n",
              "...          ...        ...       ...        ...        ...          ...   \n",
              "9483  -66.653831 -16.152851  0.942129 -30.827900 -17.219553            1   \n",
              "9484  -56.331928 -19.432053 -9.365868 -13.883176 -30.704874            1   \n",
              "9485  -60.877983 -14.356465 -1.956916 -20.179590 -25.053640            1   \n",
              "9486  -76.906059  -9.071911 -0.310656  -2.380613 -27.433468            1   \n",
              "9487  -62.210617  -9.569366  3.112083 -13.205187 -22.762310            1   \n",
              "\n",
              "      ageRange=41-65  ageRange=65+  label  \n",
              "0                  0             0      5  \n",
              "1                  0             0      6  \n",
              "2                  0             0      7  \n",
              "3                  0             0      1  \n",
              "4                  0             0      1  \n",
              "...              ...           ...    ...  \n",
              "9483               0             0      3  \n",
              "9484               0             0      7  \n",
              "9485               0             0      7  \n",
              "9486               0             0      7  \n",
              "9487               0             0      1  \n",
              "\n",
              "[9488 rows x 69 columns]"
            ]
          },
          "execution_count": 57,
          "metadata": {},
          "output_type": "execute_result"
        }
      ],
      "source": [
        "new_df"
      ]
    },
    {
      "cell_type": "code",
      "execution_count": null,
      "id": "18c06666",
      "metadata": {
        "id": "18c06666",
        "outputId": "0345c9f4-59a4-4fcb-8e30-065485a41671"
      },
      "outputs": [
        {
          "data": {
            "text/plain": [
              "0       0\n",
              "1       0\n",
              "2       0\n",
              "3       0\n",
              "4       0\n",
              "       ..\n",
              "9483    0\n",
              "9484    0\n",
              "9485    0\n",
              "9486    0\n",
              "9487    0\n",
              "Name: ageRange=41-65, Length: 9488, dtype: uint8"
            ]
          },
          "execution_count": 58,
          "metadata": {},
          "output_type": "execute_result"
        }
      ],
      "source": [
        "new_df['ageRange=41-65']"
      ]
    },
    {
      "cell_type": "code",
      "execution_count": null,
      "id": "1ac718f7",
      "metadata": {
        "id": "1ac718f7"
      },
      "outputs": [],
      "source": []
    },
    {
      "cell_type": "code",
      "execution_count": null,
      "id": "41f80f78",
      "metadata": {
        "id": "41f80f78"
      },
      "outputs": [],
      "source": []
    },
    {
      "cell_type": "code",
      "execution_count": null,
      "id": "b3c1c112",
      "metadata": {
        "id": "b3c1c112"
      },
      "outputs": [],
      "source": []
    },
    {
      "cell_type": "code",
      "execution_count": null,
      "id": "861f1648",
      "metadata": {
        "id": "861f1648"
      },
      "outputs": [],
      "source": []
    },
    {
      "cell_type": "code",
      "execution_count": null,
      "id": "8d060a8d",
      "metadata": {
        "id": "8d060a8d"
      },
      "outputs": [],
      "source": []
    },
    {
      "cell_type": "code",
      "execution_count": null,
      "id": "0ccedf4a",
      "metadata": {
        "scrolled": true,
        "id": "0ccedf4a"
      },
      "outputs": [],
      "source": [
        "# df_pd['label'][7167]"
      ]
    },
    {
      "cell_type": "markdown",
      "id": "6309293a",
      "metadata": {
        "id": "6309293a"
      },
      "source": [
        "We noticed that some audios (ex. index = 7167) are kept because there noise (no silence) and trim is not able to erase it away, so now we apply noise reduction."
      ]
    },
    {
      "cell_type": "markdown",
      "id": "0c7ed4fb",
      "metadata": {
        "id": "0c7ed4fb"
      },
      "source": [
        "Let's listent the audio."
      ]
    },
    {
      "cell_type": "code",
      "execution_count": null,
      "id": "b3a19f74",
      "metadata": {
        "id": "b3a19f74"
      },
      "outputs": [],
      "source": [
        "# # 7167 : rumore finale che non toglie\n",
        "# index = 7167\n",
        "# s1 = df_pd['audio'][index]\n",
        "# ipd.Audio(df_pd['audio'][index], rate=22050)\n",
        "# plt.figure()\n",
        "# plt.plot(s1)"
      ]
    },
    {
      "cell_type": "code",
      "execution_count": null,
      "id": "2704bbeb",
      "metadata": {
        "id": "2704bbeb"
      },
      "outputs": [],
      "source": [
        "# # Original audio\n",
        "# ipd.Audio(s1, rate=22050)"
      ]
    },
    {
      "cell_type": "code",
      "execution_count": null,
      "id": "83bd7832",
      "metadata": {
        "id": "83bd7832"
      },
      "outputs": [],
      "source": [
        "# # Trim audio\n",
        "# s1_trim = librosa.effects.trim(s1, top_db=20)[0]\n",
        "# ipd.Audio(s1_trim, rate=22050)"
      ]
    },
    {
      "cell_type": "markdown",
      "id": "82101d2b",
      "metadata": {
        "id": "82101d2b"
      },
      "source": [
        "It says \"decrease the volume\" (label 3), we now take another audio saying the same without noise to compare them."
      ]
    },
    {
      "cell_type": "code",
      "execution_count": null,
      "id": "9b138f60",
      "metadata": {
        "id": "9b138f60"
      },
      "outputs": [],
      "source": [
        "# # Retrieve all the rows having label = 3 and then the corresponding indexes\n",
        "# df_label3 = df_pd[df_pd['label']==3]\n",
        "# indexes_label3 = list(df_label3.index)\n",
        "# indexes_label3"
      ]
    },
    {
      "cell_type": "code",
      "execution_count": null,
      "id": "e04d0f06",
      "metadata": {
        "id": "e04d0f06"
      },
      "outputs": [],
      "source": [
        "# index = 691 #this audio seems clearer\n",
        "# s2 = df_pd['audio'][index]\n",
        "\n",
        "# ipd.Audio(s2, rate=22050)\n",
        "# plt.figure()\n",
        "# plt.plot(s2)"
      ]
    },
    {
      "cell_type": "code",
      "execution_count": null,
      "id": "07f49bf0",
      "metadata": {
        "id": "07f49bf0"
      },
      "outputs": [],
      "source": [
        "# ipd.Audio(s2, rate=22050)"
      ]
    },
    {
      "cell_type": "code",
      "execution_count": null,
      "id": "3da8eb23",
      "metadata": {
        "id": "3da8eb23"
      },
      "outputs": [],
      "source": [
        "# s2_trim = librosa.effects.trim(s2, top_db=20)[0]\n",
        "# ipd.Audio(s2_trim, rate=22050)"
      ]
    },
    {
      "cell_type": "markdown",
      "id": "bd91652c",
      "metadata": {
        "id": "bd91652c"
      },
      "source": [
        "Let's plot the spectograms"
      ]
    },
    {
      "cell_type": "code",
      "execution_count": null,
      "id": "ac18ed48",
      "metadata": {
        "id": "ac18ed48"
      },
      "outputs": [],
      "source": [
        "# S1 = librosa.feature.melspectrogram(y=s1, sr=sr, n_mels=128)\n",
        "# D1 = librosa.power_to_db(S1, ref=np.max)\n",
        "# librosa.display.specshow(D1, x_axis='time', y_axis='mel');"
      ]
    },
    {
      "cell_type": "code",
      "execution_count": null,
      "id": "0cd67b2b",
      "metadata": {
        "id": "0cd67b2b"
      },
      "outputs": [],
      "source": [
        "# S2 = librosa.feature.melspectrogram(y=s2, sr=sr, n_mels=128)\n",
        "# D2 = librosa.power_to_db(S2, ref=np.max)\n",
        "# librosa.display.specshow(D2, x_axis='time', y_axis='mel');"
      ]
    },
    {
      "cell_type": "code",
      "execution_count": null,
      "id": "4c9dd3c5",
      "metadata": {
        "id": "4c9dd3c5"
      },
      "outputs": [],
      "source": [
        "# from scipy import signal\n",
        "# import random\n",
        "\n",
        "\n",
        "# def f_high(y,sr):\n",
        "#     b,a = signal.butter(10, 2000/(sr/2), btype='highpass')\n",
        "#     yf = signal.lfilter(b,a,y)\n",
        "#     return yf"
      ]
    },
    {
      "cell_type": "code",
      "execution_count": null,
      "id": "7a7ccb8c",
      "metadata": {
        "id": "7a7ccb8c"
      },
      "outputs": [],
      "source": [
        "# yf1 = f_high(s1, sr)\n",
        "# yf2 = f_high(s2, sr)"
      ]
    },
    {
      "cell_type": "code",
      "execution_count": null,
      "id": "c6cb29da",
      "metadata": {
        "id": "c6cb29da"
      },
      "outputs": [],
      "source": [
        "# librosa.display.waveshow(s1,sr=sr, x_axis='time');\n",
        "# librosa.display.waveshow(yf1,sr=sr, x_axis='time');"
      ]
    },
    {
      "cell_type": "code",
      "execution_count": null,
      "id": "6cc38b06",
      "metadata": {
        "id": "6cc38b06"
      },
      "outputs": [],
      "source": [
        "# S1_new = librosa.feature.melspectrogram(y=yf1, sr=sr, n_mels=128)\n",
        "# D1 = librosa.power_to_db(S1_new, ref=np.max)\n",
        "# librosa.display.specshow(D1, x_axis='time', y_axis='mel');"
      ]
    },
    {
      "cell_type": "code",
      "execution_count": null,
      "id": "2c1ca772",
      "metadata": {
        "id": "2c1ca772"
      },
      "outputs": [],
      "source": [
        "# # Dp1 = librosa.pcen(S1 * (2**31), sr=sr, gain=1.1, hop_length=512, bias=2, power=0.5, time_constant=0.8, eps=1e-06, max_size=2)\n",
        "# # Dp2 = librosa.pcen(S2 * (2**31), sr=sr, gain=1.1, hop_length=512, bias=2, power=0.5, time_constant=0.8, eps=1e-06, max_size=2)\n",
        "\n",
        "# Dp1 = librosa.pcen(S1 * (2**31), sr=sr)\n",
        "# Dp2 = librosa.pcen(S2 * (2**31), sr=sr)"
      ]
    },
    {
      "cell_type": "code",
      "execution_count": null,
      "id": "210a90ab",
      "metadata": {
        "id": "210a90ab"
      },
      "outputs": [],
      "source": [
        "# librosa.display.specshow(Dp1, x_axis='time', y_axis='mel');"
      ]
    },
    {
      "cell_type": "code",
      "execution_count": null,
      "id": "4f55b464",
      "metadata": {
        "id": "4f55b464"
      },
      "outputs": [],
      "source": [
        "# librosa.display.specshow(Dp2, x_axis='time', y_axis='mel');"
      ]
    },
    {
      "cell_type": "code",
      "execution_count": null,
      "id": "408b26c8",
      "metadata": {
        "id": "408b26c8"
      },
      "outputs": [],
      "source": [
        "# yp1 = librosa.feature.inverse.mel_to_audio(Dp1)\n",
        "# yp2 = librosa.feature.inverse.mel_to_audio(Dp2)"
      ]
    },
    {
      "cell_type": "code",
      "execution_count": null,
      "id": "784f23e2",
      "metadata": {
        "id": "784f23e2"
      },
      "outputs": [],
      "source": [
        "# librosa.display.waveshow(yp1,sr=sr, x_axis='time');\n",
        "# librosa.display.waveshow(s1,sr=sr, x_axis='time');"
      ]
    },
    {
      "cell_type": "code",
      "execution_count": null,
      "id": "c0bee722",
      "metadata": {
        "id": "c0bee722"
      },
      "outputs": [],
      "source": [
        "# librosa.display.waveshow(yp2,sr=sr, x_axis='time');\n",
        "# librosa.display.waveshow(s2,sr=sr, x_axis='time');"
      ]
    },
    {
      "cell_type": "code",
      "execution_count": null,
      "id": "765e1609",
      "metadata": {
        "id": "765e1609"
      },
      "outputs": [],
      "source": [
        "# ipd.Audio(yp1, rate=22050)\n"
      ]
    },
    {
      "cell_type": "code",
      "execution_count": null,
      "id": "b4c21709",
      "metadata": {
        "id": "b4c21709"
      },
      "outputs": [],
      "source": [
        "# ipd.Audio(yp2, rate=22050)"
      ]
    },
    {
      "cell_type": "code",
      "execution_count": null,
      "id": "9c1b73da",
      "metadata": {
        "id": "9c1b73da"
      },
      "outputs": [],
      "source": [
        "# import time\n",
        "# from datetime import timedelta as td\n",
        "\n",
        "\n",
        "# def _stft(y, n_fft, hop_length, win_length):\n",
        "#     return librosa.stft(y=y, n_fft=n_fft, hop_length=hop_length, win_length=win_length)\n",
        "\n",
        "\n",
        "# def _istft(y, hop_length, win_length):\n",
        "#     return librosa.istft(y, hop_length, win_length)\n",
        "\n",
        "\n",
        "# def _amp_to_db(x):\n",
        "#     return librosa.core.amplitude_to_db(x, ref=1.0, amin=1e-20, top_db=80.0)\n",
        "\n",
        "\n",
        "# def _db_to_amp(x,):\n",
        "#     return librosa.core.db_to_amplitude(x, ref=1.0)\n",
        "\n",
        "\n",
        "# def plot_spectrogram(signal, title):\n",
        "#     fig, ax = plt.subplots(figsize=(20, 4))\n",
        "#     cax = ax.matshow(\n",
        "#         signal,\n",
        "#         origin=\"lower\",\n",
        "#         aspect=\"auto\",\n",
        "#         cmap=plt.cm.seismic,\n",
        "#         vmin=-1 * np.max(np.abs(signal)),\n",
        "#         vmax=np.max(np.abs(signal)),\n",
        "#     )\n",
        "#     fig.colorbar(cax)\n",
        "#     ax.set_title(title)\n",
        "#     plt.tight_layout()\n",
        "#     plt.show()\n",
        "\n",
        "\n",
        "# def plot_statistics_and_filter(\n",
        "#     mean_freq_noise, std_freq_noise, noise_thresh, smoothing_filter\n",
        "# ):\n",
        "#     fig, ax = plt.subplots(ncols=2, figsize=(20, 4))\n",
        "#     plt_mean, = ax[0].plot(mean_freq_noise, label=\"Mean power of noise\")\n",
        "#     plt_std, = ax[0].plot(std_freq_noise, label=\"Std. power of noise\")\n",
        "#     plt_std, = ax[0].plot(noise_thresh, label=\"Noise threshold (by frequency)\")\n",
        "#     ax[0].set_title(\"Threshold for mask\")\n",
        "#     ax[0].legend()\n",
        "#     cax = ax[1].matshow(smoothing_filter, origin=\"lower\")\n",
        "#     fig.colorbar(cax)\n",
        "#     ax[1].set_title(\"Filter for smoothing Mask\")\n",
        "#     plt.show()\n",
        "\n",
        "# def removeNoise(\n",
        "#     audio_clip,\n",
        "#     noise_clip,\n",
        "#     n_grad_freq=2,\n",
        "#     n_grad_time=4,\n",
        "#     n_fft=2048,\n",
        "#     win_length=2048,\n",
        "#     hop_length=512,\n",
        "#     n_std_thresh=1.5,\n",
        "#     prop_decrease=1.0,\n",
        "#     verbose=False,\n",
        "#     visual=False,\n",
        "# ):\n",
        "#     \"\"\"Remove noise from audio based upon a clip containing only noise\n",
        "\n",
        "#     Args:\n",
        "#         audio_clip (array): The first parameter.\n",
        "#         noise_clip (array): The second parameter.\n",
        "#         n_grad_freq (int): how many frequency channels to smooth over with the mask.\n",
        "#         n_grad_time (int): how many time channels to smooth over with the mask.\n",
        "#         n_fft (int): number audio of frames between STFT columns.\n",
        "#         win_length (int): Each frame of audio is windowed by `window()`. The window will be of length `win_length` and then padded with zeros to match `n_fft`..\n",
        "#         hop_length (int):number audio of frames between STFT columns.\n",
        "#         n_std_thresh (int): how many standard deviations louder than the mean dB of the noise (at each frequency level) to be considered signal\n",
        "#         prop_decrease (float): To what extent should you decrease noise (1 = all, 0 = none)\n",
        "#         visual (bool): Whether to plot the steps of the algorithm\n",
        "\n",
        "#     Returns:\n",
        "#         array: The recovered signal with noise subtracted\n",
        "\n",
        "#     \"\"\"\n",
        "#     if verbose:\n",
        "#         start = time.time()\n",
        "#     # STFT over noise\n",
        "#     noise_stft = _stft(noise_clip, n_fft, hop_length, win_length)\n",
        "#     noise_stft_db = _amp_to_db(np.abs(noise_stft))  # convert to dB\n",
        "#     # Calculate statistics over noise\n",
        "#     mean_freq_noise = np.mean(noise_stft_db, axis=1)\n",
        "#     std_freq_noise = np.std(noise_stft_db, axis=1)\n",
        "#     noise_thresh = mean_freq_noise + std_freq_noise * n_std_thresh\n",
        "#     if verbose:\n",
        "#         print(\"STFT on noise:\", td(seconds=time.time() - start))\n",
        "#         start = time.time()\n",
        "#     # STFT over signal\n",
        "#     if verbose:\n",
        "#         start = time.time()\n",
        "#     sig_stft = _stft(audio_clip, n_fft, hop_length, win_length)\n",
        "#     sig_stft_db = _amp_to_db(np.abs(sig_stft))\n",
        "#     if verbose:\n",
        "#         print(\"STFT on signal:\", td(seconds=time.time() - start))\n",
        "#         start = time.time()\n",
        "#     # Calculate value to mask dB to\n",
        "#     mask_gain_dB = np.min(_amp_to_db(np.abs(sig_stft)))\n",
        "#     #print(noise_thresh, mask_gain_dB)\n",
        "#     # Create a smoothing filter for the mask in time and frequency\n",
        "#     smoothing_filter = np.outer(\n",
        "#         np.concatenate(\n",
        "#             [\n",
        "#                 np.linspace(0, 1, n_grad_freq + 1, endpoint=False),\n",
        "#                 np.linspace(1, 0, n_grad_freq + 2),\n",
        "#             ]\n",
        "#         )[1:-1],\n",
        "#         np.concatenate(\n",
        "#             [\n",
        "#                 np.linspace(0, 1, n_grad_time + 1, endpoint=False),\n",
        "#                 np.linspace(1, 0, n_grad_time + 2),\n",
        "#             ]\n",
        "#         )[1:-1],\n",
        "#     )\n",
        "#     smoothing_filter = smoothing_filter / np.sum(smoothing_filter)\n",
        "#     # calculate the threshold for each frequency/time bin\n",
        "#     db_thresh = np.repeat(\n",
        "#         np.reshape(noise_thresh, [1, len(mean_freq_noise)]),\n",
        "#         np.shape(sig_stft_db)[1],\n",
        "#         axis=0,\n",
        "#     ).T\n",
        "#     # mask if the signal is above the threshold\n",
        "#     sig_mask = sig_stft_db < db_thresh\n",
        "#     if verbose:\n",
        "#         print(\"Masking:\", td(seconds=time.time() - start))\n",
        "#         start = time.time()\n",
        "#     # convolve the mask with a smoothing filter\n",
        "#     sig_mask = scipy.signal.fftconvolve(sig_mask, smoothing_filter, mode=\"same\")\n",
        "#     sig_mask = sig_mask * prop_decrease\n",
        "#     if verbose:\n",
        "#         print(\"Mask convolution:\", td(seconds=time.time() - start))\n",
        "#         start = time.time()\n",
        "#     # mask the signal\n",
        "#     sig_stft_db_masked = (\n",
        "#         sig_stft_db * (1 - sig_mask)\n",
        "#         + np.ones(np.shape(mask_gain_dB)) * mask_gain_dB * sig_mask\n",
        "#     )  # mask real\n",
        "#     sig_imag_masked = np.imag(sig_stft) * (1 - sig_mask)\n",
        "#     sig_stft_amp = (_db_to_amp(sig_stft_db_masked) * np.sign(sig_stft)) + (\n",
        "#         1j * sig_imag_masked\n",
        "#     )\n",
        "#     if verbose:\n",
        "#         print(\"Mask application:\", td(seconds=time.time() - start))\n",
        "#         start = time.time()\n",
        "#     # recover the signal\n",
        "#     recovered_signal = _istft(sig_stft_amp, hop_length, win_length)\n",
        "#     recovered_spec = _amp_to_db(\n",
        "#         np.abs(_stft(recovered_signal, n_fft, hop_length, win_length))\n",
        "#     )\n",
        "#     if verbose:\n",
        "#         print(\"Signal recovery:\", td(seconds=time.time() - start))\n",
        "#     if visual:\n",
        "#         plot_spectrogram(noise_stft_db, title=\"Noise\")\n",
        "#     if visual:\n",
        "#         plot_statistics_and_filter(\n",
        "#             mean_freq_noise, std_freq_noise, noise_thresh, smoothing_filter\n",
        "#         )\n",
        "#     if visual:\n",
        "#         plot_spectrogram(sig_stft_db, title=\"Signal\")\n",
        "#     if visual:\n",
        "#         plot_spectrogram(sig_mask, title=\"Mask applied\")\n",
        "#     if visual:\n",
        "#         plot_spectrogram(sig_stft_db_masked, title=\"Masked signal\")\n",
        "#     if visual:\n",
        "#         plot_spectrogram(recovered_spec, title=\"Recovered spectrogram\")\n",
        "#     return recovered_signal"
      ]
    },
    {
      "cell_type": "code",
      "execution_count": null,
      "id": "16cf1331",
      "metadata": {
        "id": "16cf1331"
      },
      "outputs": [],
      "source": [
        "# import scipy\n",
        "# noise1 = s1[5*sr:6*sr]\n",
        "# yg1 = removeNoise(audio_clip=s1, noise_clip=noise1,\n",
        "#     n_grad_freq=2,\n",
        "#     n_grad_time=4,\n",
        "#     n_fft=2048,\n",
        "#     win_length=2048,\n",
        "#     hop_length=512,\n",
        "#     n_std_thresh=1.5,\n",
        "#     prop_decrease=1.0,\n",
        "#     verbose=False,\n",
        "#     visual=False)\n",
        "# noise2 = s2[0:1*sr]\n",
        "# yg2 = removeNoise(audio_clip=s2, noise_clip=noise2,\n",
        "#     n_grad_freq=2,\n",
        "#     n_grad_time=4,\n",
        "#     n_fft=2048,\n",
        "#     win_length=2048,\n",
        "#     hop_length=512,\n",
        "#     n_std_thresh=2.5,\n",
        "#     prop_decrease=1.0,\n",
        "#     verbose=False,\n",
        "#     visual=False)"
      ]
    },
    {
      "cell_type": "code",
      "execution_count": null,
      "id": "0f8d040d",
      "metadata": {
        "id": "0f8d040d"
      },
      "outputs": [],
      "source": [
        "# plt.figure(figsize=(12,12))\n",
        "# librosa.display.waveshow(s1,sr=sr, x_axis='time');\n",
        "# librosa.display.waveshow(yg1,sr=sr, x_axis='time');"
      ]
    },
    {
      "cell_type": "code",
      "execution_count": null,
      "id": "1efae458",
      "metadata": {
        "id": "1efae458"
      },
      "outputs": [],
      "source": [
        "# librosa.display.waveshow(s2,sr=sr, x_axis='time');\n",
        "# librosa.display.waveshow(yg2,sr=sr, x_axis='time');"
      ]
    },
    {
      "cell_type": "code",
      "execution_count": null,
      "id": "930fddcc",
      "metadata": {
        "id": "930fddcc"
      },
      "outputs": [],
      "source": [
        "# ipd.Audio(s1, rate=22050)"
      ]
    },
    {
      "cell_type": "code",
      "execution_count": null,
      "id": "39dbc9ec",
      "metadata": {
        "id": "39dbc9ec"
      },
      "outputs": [],
      "source": [
        "length_audios = []\n",
        "length_audios_seconds = []\n",
        "indexes = []\n",
        "i = 0\n",
        "\n",
        "for item,sr in zip(df[1], df[2]):\n",
        "    length_audios.append(len(item))\n",
        "    length_audios_seconds.append(len(item)/sr)\n",
        "#  Decomment if you are interested in retrieve indexes of audio within a specific range \n",
        "    if len(item)/sr  >= 5 and len(item)/sr  <=7.5:\n",
        "        indexes.append(i)\n",
        "    i = i+1\n",
        "        \n",
        "\n",
        "length_audios=pd.Series(length_audios)\n",
        "length_audios_seconds = pd.Series(length_audios_seconds)\n",
        "#print(length_audios_seconds.value_counts())\n",
        "# plt.figure(figsize=(12,12))\n",
        "# plt.title(\"Lenght of audios distribution (seconds)\")\n",
        "# length_audios_seconds.hist()\n",
        "#print(length_audios_seconds)\n"
      ]
    },
    {
      "cell_type": "code",
      "execution_count": null,
      "id": "26bb0b79",
      "metadata": {
        "id": "26bb0b79",
        "outputId": "6947ebd3-93d8-4fc7-f90e-1a7317de95ff"
      },
      "outputs": [
        {
          "data": {
            "text/plain": [
              "[3079,\n",
              " 3179,\n",
              " 3799,\n",
              " 3807,\n",
              " 3839,\n",
              " 4073,\n",
              " 4802,\n",
              " 7123,\n",
              " 7684,\n",
              " 8140,\n",
              " 8141,\n",
              " 8228,\n",
              " 8229,\n",
              " 8230,\n",
              " 8528]"
            ]
          },
          "execution_count": 87,
          "metadata": {},
          "output_type": "execute_result"
        }
      ],
      "source": [
        "indexes"
      ]
    },
    {
      "cell_type": "code",
      "execution_count": null,
      "id": "fcbe6419",
      "metadata": {
        "id": "fcbe6419"
      },
      "outputs": [],
      "source": [
        "# s = df_pd['audio'][0][librosa.effects.split(df_pd['audio'][0])[1][0]:librosa.effects.split(df_pd['audio'][1])[0][-1]]\n",
        "# df_pd['audio'][0][librosa.effects.split(df_pd['audio'][0], top_db=30)]#[1][0]:librosa.effects.split(df_pd['audio'][1])[0][-1]]\n",
        "# librosa.effects.split(df_pd['audio'][0])\n",
        "# ipd.Audio(s, rate=22050)"
      ]
    },
    {
      "cell_type": "code",
      "execution_count": null,
      "id": "ebf637be",
      "metadata": {
        "id": "ebf637be",
        "outputId": "4e598412-23d2-4c14-acc4-5b961247ea02"
      },
      "outputs": [
        {
          "data": {
            "text/html": [
              "\n",
              "                <audio  controls=\"controls\" >\n",
              "                    <source src=\"data:audio/wav;base64,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\" type=\"audio/wav\" />\n",
              "                    Your browser does not support the audio element.\n",
              "                </audio>\n",
              "              "
            ],
            "text/plain": [
              "<IPython.lib.display.Audio object>"
            ]
          },
          "execution_count": 89,
          "metadata": {},
          "output_type": "execute_result"
        }
      ],
      "source": [
        "idx = 4073\n",
        "ipd.Audio(df_pd['audio'][idx], rate=22050)"
      ]
    },
    {
      "cell_type": "code",
      "execution_count": null,
      "id": "3ec62817",
      "metadata": {
        "id": "3ec62817",
        "outputId": "df8ea61f-b210-4062-877c-d2c6b53c3179"
      },
      "outputs": [
        {
          "name": "stdout",
          "output_type": "stream",
          "text": [
            "[[ 9728 34304]] (1, 2)\n",
            "1\n"
          ]
        },
        {
          "data": {
            "text/html": [
              "\n",
              "                <audio  controls=\"controls\" >\n",
              "                    <source src=\"data:audio/wav;base64,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\" type=\"audio/wav\" />\n",
              "                    Your browser does not support the audio element.\n",
              "                </audio>\n",
              "              "
            ],
            "text/plain": [
              "<IPython.lib.display.Audio object>"
            ]
          },
          "execution_count": 90,
          "metadata": {},
          "output_type": "execute_result"
        }
      ],
      "source": [
        "s = librosa.effects.split(df_pd['audio'][idx])[0]\n",
        "non_silence_parts = librosa.effects.split(df_pd['audio'][idx], top_db=40)\n",
        "print(non_silence_parts, non_silence_parts.shape)\n",
        "\n",
        "audio_reconstructed = []\n",
        "for part in non_silence_parts:\n",
        "    audio_reconstructed.append(df_pd['audio'][idx][part[0]:part[-1]])\n",
        "print(len(audio_reconstructed))\n",
        "#     return df_pd['audio'][3799][librosa.effects.split(df_pd['audio'][3799])[0][0]:librosa.effects.split(df_pd['audio'][3799])[0][-1]]\n",
        "\n",
        "new_audio_reconstructed = np.hstack(audio_reconstructed)\n",
        "#s1 = df_pd['audio'][idx][non_silence_parts[1][0]:non_silence_parts[1][-1]]\n",
        "# s2 = df_pd['audio'][3799][librosa.effects.split(df_pd['audio'][3799])[1][0]:librosa.effects.split(df_pd['audio'][3799])[1][-1]]\n",
        "\n",
        "ipd.Audio(new_audio_reconstructed, rate=22050)\n",
        "#ipd.Audio(s2, rate=22050)\n",
        "#ipd.Audio(df_pd['audio'][3799][librosa.effects.split(df_pd['audio'][3799][0]]), 22050)"
      ]
    },
    {
      "cell_type": "code",
      "execution_count": null,
      "id": "010ae6ed",
      "metadata": {
        "id": "010ae6ed"
      },
      "outputs": [],
      "source": [
        "# def remove_silence (signal):\n",
        "#     return signal[librosa.effects.split(signal)[0][0]:librosa.effects.split(signal)[0][-1]]\n",
        "# signal_without_silence = remove_silence(df_pd['audio'][3799])\n",
        "\n",
        "# ipd.Audio(signal_without_silence, rate=22050)"
      ]
    }
  ],
  "metadata": {
    "kernelspec": {
      "display_name": "Python 3 (ipykernel)",
      "language": "python",
      "name": "python3"
    },
    "language_info": {
      "codemirror_mode": {
        "name": "ipython",
        "version": 3
      },
      "file_extension": ".py",
      "mimetype": "text/x-python",
      "name": "python",
      "nbconvert_exporter": "python",
      "pygments_lexer": "ipython3",
      "version": "3.9.7"
    },
    "colab": {
      "provenance": [],
      "include_colab_link": true
    },
    "accelerator": "GPU",
    "gpuClass": "standard"
  },
  "nbformat": 4,
  "nbformat_minor": 5
}