{
  "cells": [
    {
      "cell_type": "markdown",
      "metadata": {
        "id": "view-in-github",
        "colab_type": "text"
      },
      "source": [
        "<a href=\"https://colab.research.google.com/github/andrerubeis/andrerubeis/blob/main/Online%20Shoppers%20Colab.ipynb\" target=\"_parent\"><img src=\"https://colab.research.google.com/assets/colab-badge.svg\" alt=\"Open In Colab\"/></a>"
      ]
    },
    {
      "cell_type": "code",
      "execution_count": 2,
      "metadata": {
        "id": "KzvorrryppGr"
      },
      "outputs": [],
      "source": [
        "#%% IMPORTS\n",
        "\n",
        "import pandas as pd\n",
        "import numpy as np\n",
        "\n",
        "import matplotlib.pyplot as plt\n",
        "from IPython.core.display import display\n",
        "from matplotlib.pyplot import cm\n",
        "import seaborn as sns\n",
        "\n",
        "from sklearn.naive_bayes import GaussianNB\n",
        "from sklearn.neighbors import KNeighborsClassifier\n",
        "from sklearn.svm import SVC\n",
        "from sklearn.linear_model import LogisticRegression\n",
        "from sklearn.ensemble import RandomForestClassifier\n",
        "from sklearn.ensemble import GradientBoostingClassifier\n",
        "from sklearn.ensemble import AdaBoostClassifier\n",
        "from sklearn.tree import DecisionTreeClassifier"
      ]
    },
    {
      "cell_type": "code",
      "execution_count": 3,
      "metadata": {
        "colab": {
          "base_uri": "https://localhost:8080/"
        },
        "id": "PI-4jJ1QsmyX",
        "outputId": "284dc7b3-a457-4638-87c2-37f6014ea6b6"
      },
      "outputs": [
        {
          "output_type": "stream",
          "name": "stdout",
          "text": [
            "NVIDIA-SMI has failed because it couldn't communicate with the NVIDIA driver. Make sure that the latest NVIDIA driver is installed and running.\n",
            "\n"
          ]
        }
      ],
      "source": [
        "!nvidia-smi"
      ]
    },
    {
      "cell_type": "code",
      "execution_count": 4,
      "metadata": {
        "id": "sD-oLhqdptMV"
      },
      "outputs": [],
      "source": [
        "path = r'/content/online_shoppers_intention.csv'\n",
        "df = pd.read_csv(path)\n",
        "df_copy = df.copy()"
      ]
    },
    {
      "cell_type": "code",
      "execution_count": 5,
      "metadata": {
        "colab": {
          "base_uri": "https://localhost:8080/",
          "height": 352
        },
        "id": "H4TTO2NXp1aU",
        "outputId": "78f6f100-8d39-458b-c774-d4a11cce5095"
      },
      "outputs": [
        {
          "output_type": "display_data",
          "data": {
            "text/plain": [
              "<pandas.io.formats.style.Styler at 0x7fd0a264be90>"
            ],
            "text/html": [
              "<style type=\"text/css\">\n",
              "</style>\n",
              "<table id=\"T_25600_\" class=\"dataframe\">\n",
              "  <thead>\n",
              "    <tr>\n",
              "      <th class=\"col_heading level0 col0\" >Feature Name</th>\n",
              "      <th class=\"col_heading level0 col1\" >Description</th>\n",
              "      <th class=\"col_heading level0 col2\" >NaNs</th>\n",
              "      <th class=\"col_heading level0 col3\" >Distinct Values</th>\n",
              "      <th class=\"col_heading level0 col4\" >Distinct Count</th>\n",
              "    </tr>\n",
              "  </thead>\n",
              "  <tbody>\n",
              "    <tr>\n",
              "      <td id=\"T_25600_row0_col0\" class=\"data row0 col0\" >Browser</td>\n",
              "      <td id=\"T_25600_row0_col1\" class=\"data row0 col1\" >integer value that represents the user’s browser at the time the page was viewed.</td>\n",
              "      <td id=\"T_25600_row0_col2\" class=\"data row0 col2\" >0</td>\n",
              "      <td id=\"T_25600_row0_col3\" class=\"data row0 col3\" >[ 1  2  3  4  5  6  7 10  8  9 12 13 11]</td>\n",
              "      <td id=\"T_25600_row0_col4\" class=\"data row0 col4\" >13</td>\n",
              "    </tr>\n",
              "    <tr>\n",
              "      <td id=\"T_25600_row1_col0\" class=\"data row1 col0\" >Month</td>\n",
              "      <td id=\"T_25600_row1_col1\" class=\"data row1 col1\" >string indicating month the pageview occurred.</td>\n",
              "      <td id=\"T_25600_row1_col2\" class=\"data row1 col2\" >0</td>\n",
              "      <td id=\"T_25600_row1_col3\" class=\"data row1 col3\" >['Feb' 'Mar' 'May' 'Oct' 'June' 'Jul' 'Aug' 'Nov' 'Sep' 'Dec']</td>\n",
              "      <td id=\"T_25600_row1_col4\" class=\"data row1 col4\" >10</td>\n",
              "    </tr>\n",
              "    <tr>\n",
              "      <td id=\"T_25600_row2_col0\" class=\"data row2 col0\" >OperatingSystems</td>\n",
              "      <td id=\"T_25600_row2_col1\" class=\"data row2 col1\" >integer value that represents the user’s operating system at the time the page was viewed.</td>\n",
              "      <td id=\"T_25600_row2_col2\" class=\"data row2 col2\" >0</td>\n",
              "      <td id=\"T_25600_row2_col3\" class=\"data row2 col3\" >[1 2 4 3 7 6 8 5]</td>\n",
              "      <td id=\"T_25600_row2_col4\" class=\"data row2 col4\" >8</td>\n",
              "    </tr>\n",
              "    <tr>\n",
              "      <td id=\"T_25600_row3_col0\" class=\"data row3 col0\" >Region</td>\n",
              "      <td id=\"T_25600_row3_col1\" class=\"data row3 col1\" >region of the user is indicated by an integer value.</td>\n",
              "      <td id=\"T_25600_row3_col2\" class=\"data row3 col2\" >0</td>\n",
              "      <td id=\"T_25600_row3_col3\" class=\"data row3 col3\" >[1 9 2 3 4 5 6 7 8]</td>\n",
              "      <td id=\"T_25600_row3_col4\" class=\"data row3 col4\" >9</td>\n",
              "    </tr>\n",
              "    <tr>\n",
              "      <td id=\"T_25600_row4_col0\" class=\"data row4 col0\" >Revenue</td>\n",
              "      <td id=\"T_25600_row4_col1\" class=\"data row4 col1\" >class label, boolean indicating whether or not the user completed the purchase.</td>\n",
              "      <td id=\"T_25600_row4_col2\" class=\"data row4 col2\" >0</td>\n",
              "      <td id=\"T_25600_row4_col3\" class=\"data row4 col3\" >[False  True]</td>\n",
              "      <td id=\"T_25600_row4_col4\" class=\"data row4 col4\" >2</td>\n",
              "    </tr>\n",
              "    <tr>\n",
              "      <td id=\"T_25600_row5_col0\" class=\"data row5 col0\" >TrafficType</td>\n",
              "      <td id=\"T_25600_row5_col1\" class=\"data row5 col1\" >category of traffic the user falls under is represented by an integer value.</td>\n",
              "      <td id=\"T_25600_row5_col2\" class=\"data row5 col2\" >0</td>\n",
              "      <td id=\"T_25600_row5_col3\" class=\"data row5 col3\" >[ 1  2  3  4  5  6  7  8  9 10 11 12 13 14 15 18 19 16 17 20]</td>\n",
              "      <td id=\"T_25600_row5_col4\" class=\"data row5 col4\" >20</td>\n",
              "    </tr>\n",
              "    <tr>\n",
              "      <td id=\"T_25600_row6_col0\" class=\"data row6 col0\" >VisitorType</td>\n",
              "      <td id=\"T_25600_row6_col1\" class=\"data row6 col1\" >string indicating whether a visitor is a New Visitor, a Returning Visitor, or Other</td>\n",
              "      <td id=\"T_25600_row6_col2\" class=\"data row6 col2\" >0</td>\n",
              "      <td id=\"T_25600_row6_col3\" class=\"data row6 col3\" >['Returning_Visitor' 'New_Visitor' 'Other']</td>\n",
              "      <td id=\"T_25600_row6_col4\" class=\"data row6 col4\" >3</td>\n",
              "    </tr>\n",
              "    <tr>\n",
              "      <td id=\"T_25600_row7_col0\" class=\"data row7 col0\" >Weekend</td>\n",
              "      <td id=\"T_25600_row7_col1\" class=\"data row7 col1\" >boolean value indicating whether or not the session is on a weekend</td>\n",
              "      <td id=\"T_25600_row7_col2\" class=\"data row7 col2\" >0</td>\n",
              "      <td id=\"T_25600_row7_col3\" class=\"data row7 col3\" >[False  True]</td>\n",
              "      <td id=\"T_25600_row7_col4\" class=\"data row7 col4\" >2</td>\n",
              "    </tr>\n",
              "  </tbody>\n",
              "</table>\n"
            ]
          },
          "metadata": {}
        }
      ],
      "source": [
        "### Categorical Features\n",
        "\n",
        "#%% Categorical Features\n",
        "\n",
        "categorical_features = ['Month', 'OperatingSystems', 'Browser', 'Region',\n",
        "                        'TrafficType', 'VisitorType', 'Weekend', 'Revenue']\n",
        "\n",
        "descriptions = ['string indicating month the pageview occurred.',\n",
        "                'integer value that represents the user’s operating system at the time the page was viewed.',\n",
        "                'integer value that represents the user’s browser at the time the page was viewed.',\n",
        "                'region of the user is indicated by an integer value.',\n",
        "                'category of traffic the user falls under is represented by an integer value.',\n",
        "                'string indicating whether a visitor is a New Visitor, a Returning Visitor, or Other',\n",
        "                'boolean value indicating whether or not the session is on a weekend',\n",
        "                'class label, boolean indicating whether or not the user completed the purchase.']\n",
        "\n",
        "nans = [df.Month.isna().sum(),\n",
        "                  df.OperatingSystems.isna().sum(),\n",
        "                  df.Browser.isna().sum(),\n",
        "                  df.Region.isna().sum(),\n",
        "                  df.TrafficType.isna().sum(),\n",
        "                  df.VisitorType.isna().sum(),\n",
        "                  df.Weekend.isna().sum(),\n",
        "                  df.Revenue.isna().sum()]\n",
        "\n",
        "distinct_values =[df.Month.unique(),\n",
        "                  df.OperatingSystems.unique(),\n",
        "                  df.Browser.unique(),\n",
        "                  df.Region.unique(),\n",
        "                  df.TrafficType.unique(),\n",
        "                  df.VisitorType.unique(),\n",
        "                  df.Weekend.unique(),\n",
        "                  df.Revenue.unique()]\n",
        "\n",
        "count_values =  [df.Month.nunique(),\n",
        "                 df.OperatingSystems.nunique(),\n",
        "                 df.Browser.nunique(),\n",
        "                 df.Region.nunique(),\n",
        "                 df.TrafficType.nunique(),\n",
        "                 df.VisitorType.nunique(),\n",
        "                 df.Weekend.nunique(),\n",
        "                 df.Revenue.nunique()]\n",
        "\n",
        "df_categorical_features_description = pd.DataFrame()\n",
        "\n",
        "df_categorical_features_description['Feature Name'] = categorical_features\n",
        "df_categorical_features_description['Description'] = descriptions\n",
        "df_categorical_features_description['NaNs'] = nans\n",
        "df_categorical_features_description['Distinct Values'] = distinct_values\n",
        "df_categorical_features_description['Distinct Count'] = count_values\n",
        "\n",
        "df_categorical_features_description = df_categorical_features_description.sort_values('Feature Name')\n",
        "\n",
        "del descriptions, distinct_values, count_values\n",
        "df_categorical_features_description.style.set_properties(**{'text-align': 'left'})\n",
        "display(df_categorical_features_description.style.hide_index())"
      ]
    },
    {
      "cell_type": "code",
      "execution_count": 6,
      "metadata": {
        "colab": {
          "base_uri": "https://localhost:8080/",
          "height": 415
        },
        "id": "CRPkfHjHp5ia",
        "outputId": "3161c240-cc92-4d80-f39b-59e51eeb5b4e"
      },
      "outputs": [
        {
          "output_type": "display_data",
          "data": {
            "text/plain": [
              "<pandas.io.formats.style.Styler at 0x7fd0a2309fd0>"
            ],
            "text/html": [
              "<style type=\"text/css\">\n",
              "</style>\n",
              "<table id=\"T_307e3_\" class=\"dataframe\">\n",
              "  <thead>\n",
              "    <tr>\n",
              "      <th class=\"col_heading level0 col0\" >Feature Name</th>\n",
              "      <th class=\"col_heading level0 col1\" >Description</th>\n",
              "      <th class=\"col_heading level0 col2\" >NaNs</th>\n",
              "      <th class=\"col_heading level0 col3\" >Min</th>\n",
              "      <th class=\"col_heading level0 col4\" >Max</th>\n",
              "      <th class=\"col_heading level0 col5\" >Mean</th>\n",
              "      <th class=\"col_heading level0 col6\" >Std</th>\n",
              "      <th class=\"col_heading level0 col7\" >Distinct Count</th>\n",
              "    </tr>\n",
              "  </thead>\n",
              "  <tbody>\n",
              "    <tr>\n",
              "      <td id=\"T_307e3_row0_col0\" class=\"data row0 col0\" >Administrative</td>\n",
              "      <td id=\"T_307e3_row0_col1\" class=\"data row0 col1\" >how many pages of administrative type the user accessed.</td>\n",
              "      <td id=\"T_307e3_row0_col2\" class=\"data row0 col2\" >0</td>\n",
              "      <td id=\"T_307e3_row0_col3\" class=\"data row0 col3\" >0.000000</td>\n",
              "      <td id=\"T_307e3_row0_col4\" class=\"data row0 col4\" >27.000000</td>\n",
              "      <td id=\"T_307e3_row0_col5\" class=\"data row0 col5\" >2.315166</td>\n",
              "      <td id=\"T_307e3_row0_col6\" class=\"data row0 col6\" >3.321784</td>\n",
              "      <td id=\"T_307e3_row0_col7\" class=\"data row0 col7\" >27</td>\n",
              "    </tr>\n",
              "    <tr>\n",
              "      <td id=\"T_307e3_row1_col0\" class=\"data row1 col0\" >Administrative_Duration</td>\n",
              "      <td id=\"T_307e3_row1_col1\" class=\"data row1 col1\" >percentage of website pageviews actually end on that particular page</td>\n",
              "      <td id=\"T_307e3_row1_col2\" class=\"data row1 col2\" >0</td>\n",
              "      <td id=\"T_307e3_row1_col3\" class=\"data row1 col3\" >0.000000</td>\n",
              "      <td id=\"T_307e3_row1_col4\" class=\"data row1 col4\" >0.200000</td>\n",
              "      <td id=\"T_307e3_row1_col5\" class=\"data row1 col5\" >0.043073</td>\n",
              "      <td id=\"T_307e3_row1_col6\" class=\"data row1 col6\" >0.048597</td>\n",
              "      <td id=\"T_307e3_row1_col7\" class=\"data row1 col7\" >4777</td>\n",
              "    </tr>\n",
              "    <tr>\n",
              "      <td id=\"T_307e3_row2_col0\" class=\"data row2 col0\" >BounceRates</td>\n",
              "      <td id=\"T_307e3_row2_col1\" class=\"data row2 col1\" >#seconds spent on administrative pages</td>\n",
              "      <td id=\"T_307e3_row2_col2\" class=\"data row2 col2\" >0</td>\n",
              "      <td id=\"T_307e3_row2_col3\" class=\"data row2 col3\" >0.000000</td>\n",
              "      <td id=\"T_307e3_row2_col4\" class=\"data row2 col4\" >3398.750000</td>\n",
              "      <td id=\"T_307e3_row2_col5\" class=\"data row2 col5\" >80.818611</td>\n",
              "      <td id=\"T_307e3_row2_col6\" class=\"data row2 col6\" >176.779107</td>\n",
              "      <td id=\"T_307e3_row2_col7\" class=\"data row2 col7\" >3335</td>\n",
              "    </tr>\n",
              "    <tr>\n",
              "      <td id=\"T_307e3_row3_col0\" class=\"data row3 col0\" >ExitRates</td>\n",
              "      <td id=\"T_307e3_row3_col1\" class=\"data row3 col1\" >how many pages of informational type the user accessed</td>\n",
              "      <td id=\"T_307e3_row3_col2\" class=\"data row3 col2\" >0</td>\n",
              "      <td id=\"T_307e3_row3_col3\" class=\"data row3 col3\" >0.000000</td>\n",
              "      <td id=\"T_307e3_row3_col4\" class=\"data row3 col4\" >24.000000</td>\n",
              "      <td id=\"T_307e3_row3_col5\" class=\"data row3 col5\" >0.503569</td>\n",
              "      <td id=\"T_307e3_row3_col6\" class=\"data row3 col6\" >1.270156</td>\n",
              "      <td id=\"T_307e3_row3_col7\" class=\"data row3 col7\" >17</td>\n",
              "    </tr>\n",
              "    <tr>\n",
              "      <td id=\"T_307e3_row4_col0\" class=\"data row4 col0\" >Informational</td>\n",
              "      <td id=\"T_307e3_row4_col1\" class=\"data row4 col1\" >average page value over the value of the target page and/or the successful completion of an online purchase</td>\n",
              "      <td id=\"T_307e3_row4_col2\" class=\"data row4 col2\" >0</td>\n",
              "      <td id=\"T_307e3_row4_col3\" class=\"data row4 col3\" >0.000000</td>\n",
              "      <td id=\"T_307e3_row4_col4\" class=\"data row4 col4\" >361.763742</td>\n",
              "      <td id=\"T_307e3_row4_col5\" class=\"data row4 col5\" >5.889258</td>\n",
              "      <td id=\"T_307e3_row4_col6\" class=\"data row4 col6\" >18.568437</td>\n",
              "      <td id=\"T_307e3_row4_col7\" class=\"data row4 col7\" >2704</td>\n",
              "    </tr>\n",
              "    <tr>\n",
              "      <td id=\"T_307e3_row5_col0\" class=\"data row5 col0\" >Informational_Duration</td>\n",
              "      <td id=\"T_307e3_row5_col1\" class=\"data row5 col1\" >how many product related pages the user accessed</td>\n",
              "      <td id=\"T_307e3_row5_col2\" class=\"data row5 col2\" >0</td>\n",
              "      <td id=\"T_307e3_row5_col3\" class=\"data row5 col3\" >0.000000</td>\n",
              "      <td id=\"T_307e3_row5_col4\" class=\"data row5 col4\" >705.000000</td>\n",
              "      <td id=\"T_307e3_row5_col5\" class=\"data row5 col5\" >31.731468</td>\n",
              "      <td id=\"T_307e3_row5_col6\" class=\"data row5 col6\" >44.475503</td>\n",
              "      <td id=\"T_307e3_row5_col7\" class=\"data row5 col7\" >311</td>\n",
              "    </tr>\n",
              "    <tr>\n",
              "      <td id=\"T_307e3_row6_col0\" class=\"data row6 col0\" >PageValues</td>\n",
              "      <td id=\"T_307e3_row6_col1\" class=\"data row6 col1\" >closeness of the site visiting time to a special day</td>\n",
              "      <td id=\"T_307e3_row6_col2\" class=\"data row6 col2\" >0</td>\n",
              "      <td id=\"T_307e3_row6_col3\" class=\"data row6 col3\" >0.000000</td>\n",
              "      <td id=\"T_307e3_row6_col4\" class=\"data row6 col4\" >1.000000</td>\n",
              "      <td id=\"T_307e3_row6_col5\" class=\"data row6 col5\" >0.061427</td>\n",
              "      <td id=\"T_307e3_row6_col6\" class=\"data row6 col6\" >0.198917</td>\n",
              "      <td id=\"T_307e3_row6_col7\" class=\"data row6 col7\" >6</td>\n",
              "    </tr>\n",
              "    <tr>\n",
              "      <td id=\"T_307e3_row7_col0\" class=\"data row7 col0\" >ProductRelated</td>\n",
              "      <td id=\"T_307e3_row7_col1\" class=\"data row7 col1\" >proportion of users that arrive on that page of the website and leave without performing any further actions</td>\n",
              "      <td id=\"T_307e3_row7_col2\" class=\"data row7 col2\" >0</td>\n",
              "      <td id=\"T_307e3_row7_col3\" class=\"data row7 col3\" >0.000000</td>\n",
              "      <td id=\"T_307e3_row7_col4\" class=\"data row7 col4\" >0.200000</td>\n",
              "      <td id=\"T_307e3_row7_col5\" class=\"data row7 col5\" >0.022191</td>\n",
              "      <td id=\"T_307e3_row7_col6\" class=\"data row7 col6\" >0.048488</td>\n",
              "      <td id=\"T_307e3_row7_col7\" class=\"data row7 col7\" >1872</td>\n",
              "    </tr>\n",
              "    <tr>\n",
              "      <td id=\"T_307e3_row8_col0\" class=\"data row8 col0\" >ProductRelated_Duration</td>\n",
              "      <td id=\"T_307e3_row8_col1\" class=\"data row8 col1\" >#seconds spent on product related pages.</td>\n",
              "      <td id=\"T_307e3_row8_col2\" class=\"data row8 col2\" >0</td>\n",
              "      <td id=\"T_307e3_row8_col3\" class=\"data row8 col3\" >0.000000</td>\n",
              "      <td id=\"T_307e3_row8_col4\" class=\"data row8 col4\" >63973.522230</td>\n",
              "      <td id=\"T_307e3_row8_col5\" class=\"data row8 col5\" >1194.746220</td>\n",
              "      <td id=\"T_307e3_row8_col6\" class=\"data row8 col6\" >1913.669288</td>\n",
              "      <td id=\"T_307e3_row8_col7\" class=\"data row8 col7\" >9551</td>\n",
              "    </tr>\n",
              "    <tr>\n",
              "      <td id=\"T_307e3_row9_col0\" class=\"data row9 col0\" >SpecialDay</td>\n",
              "      <td id=\"T_307e3_row9_col1\" class=\"data row9 col1\" >#seconds spent on informational pages.</td>\n",
              "      <td id=\"T_307e3_row9_col2\" class=\"data row9 col2\" >0</td>\n",
              "      <td id=\"T_307e3_row9_col3\" class=\"data row9 col3\" >0.000000</td>\n",
              "      <td id=\"T_307e3_row9_col4\" class=\"data row9 col4\" >2549.375000</td>\n",
              "      <td id=\"T_307e3_row9_col5\" class=\"data row9 col5\" >34.472398</td>\n",
              "      <td id=\"T_307e3_row9_col6\" class=\"data row9 col6\" >140.749294</td>\n",
              "      <td id=\"T_307e3_row9_col7\" class=\"data row9 col7\" >1258</td>\n",
              "    </tr>\n",
              "  </tbody>\n",
              "</table>\n"
            ]
          },
          "metadata": {}
        }
      ],
      "source": [
        "#%% Numerical Features\n",
        "\n",
        "numerical_features = list(set(df.columns)-set(categorical_features))\n",
        "\n",
        "descriptions = ['average page value over the value of the target page and/or the successful completion of an online purchase',\n",
        "                'how many product related pages the user accessed',\n",
        "                '#seconds spent on product related pages.',\n",
        "                '#seconds spent on administrative pages',\n",
        "                'how many pages of informational type the user accessed',\n",
        "                'percentage of website pageviews actually end on that particular page',\n",
        "                'proportion of users that arrive on that page of the website and leave without performing any further actions',\n",
        "                'how many pages of administrative type the user accessed.',\n",
        "                'closeness of the site visiting time to a special day',\n",
        "                '#seconds spent on informational pages.']\n",
        "nans = [df.PageValues.isna().sum(),\n",
        "                  df.ProductRelated.isna().sum(),\n",
        "                  df.ProductRelated_Duration.isna().sum(),\n",
        "                  df.Administrative_Duration.isna().sum(),\n",
        "                  df.Informational.isna().sum(),\n",
        "                  df.ExitRates.isna().sum(),\n",
        "                  df.BounceRates.isna().sum(),\n",
        "                  df.Administrative.isna().sum(),\n",
        "                  df.SpecialDay.isna().sum(),\n",
        "                  df.Informational_Duration.isna().sum()]\n",
        "\n",
        "mins =[df.PageValues.min(),\n",
        "                  df.ProductRelated.min(),\n",
        "                  df.ProductRelated_Duration.min(),\n",
        "                  df.Administrative_Duration.min(),\n",
        "                  df.Informational.min(),\n",
        "                  df.ExitRates.min(),\n",
        "                  df.BounceRates.min(),\n",
        "                  df.Administrative.min(),\n",
        "                  df.SpecialDay.min(),\n",
        "                  df.Informational_Duration.min()]\n",
        "\n",
        "maxs =[df.PageValues.max(),\n",
        "                  df.ProductRelated.max(),\n",
        "                  df.ProductRelated_Duration.max(),\n",
        "                  df.Administrative_Duration.max(),\n",
        "                  df.Informational.max(),\n",
        "                  df.ExitRates.max(),\n",
        "                  df.BounceRates.max(),\n",
        "                  df.Administrative.max(),\n",
        "                  df.SpecialDay.max(),\n",
        "                  df.Informational_Duration.max()]\n",
        "\n",
        "means =[df.PageValues.mean(),\n",
        "                  df.ProductRelated.mean(),\n",
        "                  df.ProductRelated_Duration.mean(),\n",
        "                  df.Administrative_Duration.mean(),\n",
        "                  df.Informational.mean(),\n",
        "                  df.ExitRates.mean(),\n",
        "                  df.BounceRates.mean(),\n",
        "                  df.Administrative.mean(),\n",
        "                  df.SpecialDay.mean(),\n",
        "                  df.Informational_Duration.mean()]\n",
        "\n",
        "stds =[df.PageValues.std(),\n",
        "                  df.ProductRelated.std(),\n",
        "                  df.ProductRelated_Duration.std(),\n",
        "                  df.Administrative_Duration.std(),\n",
        "                  df.Informational.std(),\n",
        "                  df.ExitRates.std(),\n",
        "                  df.BounceRates.std(),\n",
        "                  df.Administrative.std(),\n",
        "                  df.SpecialDay.std(),\n",
        "                  df.Informational_Duration.std()]\n",
        "\n",
        "count_values =  [df.PageValues.nunique(),\n",
        "                  df.ProductRelated.nunique(),\n",
        "                  df.ProductRelated_Duration.nunique(),\n",
        "                  df.Administrative_Duration.nunique(),\n",
        "                  df.Informational.nunique(),\n",
        "                  df.ExitRates.nunique(),\n",
        "                  df.BounceRates.nunique(),\n",
        "                  df.Administrative.nunique(),\n",
        "                  df.SpecialDay.nunique(),\n",
        "                  df.Informational_Duration.nunique()]\n",
        "\n",
        "df_numerical_features_description = pd.DataFrame()\n",
        "\n",
        "df_numerical_features_description['Feature Name'] = numerical_features\n",
        "df_numerical_features_description['Description'] = descriptions\n",
        "df_numerical_features_description['NaNs'] = nans\n",
        "df_numerical_features_description['Min'] = mins\n",
        "df_numerical_features_description['Max'] = maxs\n",
        "df_numerical_features_description['Mean'] = means\n",
        "df_numerical_features_description['Std'] = stds\n",
        "df_numerical_features_description['Distinct Count'] = count_values\n",
        "\n",
        "df_numerical_features_description=df_numerical_features_description.sort_values('Feature Name')\n",
        "df_numerical_features_description.style.set_properties(**{'text-align': 'left'})\n",
        "display(df_numerical_features_description.style.hide_index())\n",
        "#print(df_numerical_features_description.to_string(index=False))"
      ]
    },
    {
      "cell_type": "code",
      "execution_count": 7,
      "metadata": {
        "colab": {
          "base_uri": "https://localhost:8080/"
        },
        "id": "uC-YwqrAqAiH",
        "outputId": "cfb7f9dc-9587-4986-bb41-0e38119e58b5"
      },
      "outputs": [
        {
          "output_type": "stream",
          "name": "stdout",
          "text": [
            "Dataset information\n",
            "<class 'pandas.core.frame.DataFrame'>\n",
            "RangeIndex: 12330 entries, 0 to 12329\n",
            "Data columns (total 18 columns):\n",
            " #   Column                   Non-Null Count  Dtype  \n",
            "---  ------                   --------------  -----  \n",
            " 0   Administrative           12330 non-null  int64  \n",
            " 1   Administrative_Duration  12330 non-null  float64\n",
            " 2   Informational            12330 non-null  int64  \n",
            " 3   Informational_Duration   12330 non-null  float64\n",
            " 4   ProductRelated           12330 non-null  int64  \n",
            " 5   ProductRelated_Duration  12330 non-null  float64\n",
            " 6   BounceRates              12330 non-null  float64\n",
            " 7   ExitRates                12330 non-null  float64\n",
            " 8   PageValues               12330 non-null  float64\n",
            " 9   SpecialDay               12330 non-null  float64\n",
            " 10  Month                    12330 non-null  object \n",
            " 11  OperatingSystems         12330 non-null  int64  \n",
            " 12  Browser                  12330 non-null  int64  \n",
            " 13  Region                   12330 non-null  int64  \n",
            " 14  TrafficType              12330 non-null  int64  \n",
            " 15  VisitorType              12330 non-null  object \n",
            " 16  Weekend                  12330 non-null  bool   \n",
            " 17  Revenue                  12330 non-null  bool   \n",
            "dtypes: bool(2), float64(7), int64(7), object(2)\n",
            "memory usage: 1.5+ MB\n",
            "\n"
          ]
        }
      ],
      "source": [
        "print(\"Dataset information\")\n",
        "df.info()\n",
        "print(\"\")"
      ]
    },
    {
      "cell_type": "code",
      "execution_count": 8,
      "metadata": {
        "id": "YwmkgHCOqDx6"
      },
      "outputs": [],
      "source": [
        "import datetime\n",
        "import time\n",
        "\n",
        "\n",
        "path_save_plots = r'C:\\Users\\andre\\OneDrive\\Documenti\\DATA SCIENCE ENGINEERING\\I ANNO\\MATHEMATICS IN MACHINE LEARNING\\Project\\images\\3. Data Exploration\\Categorical'\n"
      ]
    },
    {
      "cell_type": "code",
      "execution_count": 9,
      "metadata": {
        "id": "SDk4RhxNqF7D"
      },
      "outputs": [],
      "source": [
        "numerical_df = df.drop(categorical_features[:-1], axis=1) #numerical df contiene tutte le numerical features più revenue\n",
        "# numerical_features = numerical_df.columns\n",
        "# numerical_features = pd.Series(list(set(df.columns)-set(categorical_features)))\n",
        "# numerical_features = set((df.columns)-(categorical_df.columns))\n",
        "#sns.boxplot(x = 'Revenue', y = 'Informational', data = df,palette='Paired')\n",
        "\n",
        "colors = iter(cm.rainbow(np.linspace(0, 2, len(categorical_features))))\n",
        "path_save_plots_numerical = r'C:\\Users\\andre\\OneDrive\\Documenti\\DATA SCIENCE ENGINEERING\\I ANNO\\MATHEMATICS IN MACHINE LEARNING\\Project\\images\\3. Data Exploration\\Numerical'\n"
      ]
    },
    {
      "cell_type": "code",
      "execution_count": 10,
      "metadata": {
        "colab": {
          "base_uri": "https://localhost:8080/"
        },
        "id": "CAKsbWOrqII8",
        "outputId": "2226716f-896c-4220-82a8-7c46772b96f8"
      },
      "outputs": [
        {
          "output_type": "stream",
          "name": "stderr",
          "text": [
            "/usr/local/lib/python3.7/dist-packages/pandas/core/generic.py:5516: SettingWithCopyWarning: \n",
            "A value is trying to be set on a copy of a slice from a DataFrame.\n",
            "Try using .loc[row_indexer,col_indexer] = value instead\n",
            "\n",
            "See the caveats in the documentation: https://pandas.pydata.org/pandas-docs/stable/user_guide/indexing.html#returning-a-view-versus-a-copy\n",
            "  self[name] = value\n"
          ]
        }
      ],
      "source": [
        "numerical_features = list(set(df.columns)-set(categorical_features))\n",
        "numerical_features.append('Revenue') #aggiungo 'Revenue' in numerical features solo per fare la correlation matrix\n",
        "df_numerical = df[numerical_features]\n",
        "df_numerical.Revenue = df_numerical.Revenue.astype(int)\n",
        "#sns.pairplot(df_numerical, hue='Revenue', palette = 'Paired')"
      ]
    },
    {
      "cell_type": "code",
      "execution_count": 11,
      "metadata": {
        "id": "6wMuH1vPqKoj"
      },
      "outputs": [],
      "source": [
        "df = df_copy.copy()\n",
        "df.Weekend = df.Weekend.astype(int)\n",
        "df.Revenue = df.Revenue.astype(int)\n",
        "df['Month'].replace('June', 'Jun', inplace=True)\n",
        "df.Month = sorted(df.Month, key=lambda x: pd.to_datetime(x, format=\"%b\"))"
      ]
    },
    {
      "cell_type": "code",
      "execution_count": 12,
      "metadata": {
        "id": "Pw5WOdFoqNlk"
      },
      "outputs": [],
      "source": [
        "features_dropped = ['BounceRates','Administrative_Duration', 'Informational_Duration','ProductRelated_Duration']\n",
        "numerical_features = list(set(numerical_features)-set(features_dropped))\n",
        "numerical_features.remove('Revenue')\n",
        "df = df.drop(columns=features_dropped, axis = 1)\n",
        "# One hot encoding\n",
        "dummy_columns = ['OperatingSystems','Browser','Region','TrafficType','VisitorType', 'Weekend']\n",
        "\n",
        "for column in categorical_features[1:-1]: #non considero Month nel ciclo perchè lo gestico a parte (1) e mi fermo prima di considerare Revenue (-1)\n",
        "    df_dummies = pd.get_dummies(df[column], drop_first = True, prefix = column)\n",
        "    df = pd.concat([df, df_dummies], axis = 1)\n",
        "\n",
        "\n",
        "\n",
        "# (NOT) Accounting for all months in the calendar except Jan and Apr not present (modifica poi per vedere che cambia se consideri tutti)\n",
        "months = ['Feb','Mar','May','Jun','Jul','Aug','Sep','Oct','Nov','Dec']\n",
        "\n",
        "for mx in months[1:]:    # drop_first = True\n",
        "    df['Month_'+mx] = (df['Month'] == mx).astype('int64')\n",
        "\n",
        "df = df.drop(columns = categorical_features[:-1]) #droppo tutte le categorical features tranne Revenue\n"
      ]
    },
    {
      "cell_type": "code",
      "execution_count": 13,
      "metadata": {
        "id": "cH8iTqBeqRYb"
      },
      "outputs": [],
      "source": [
        "import sklearn\n",
        "from sklearn.preprocessing import StandardScaler\n",
        "\n",
        "\n",
        "ss = StandardScaler()\n",
        "\n",
        "\n",
        "\n",
        "\n",
        "\n",
        "numerical_df = numerical_df[numerical_features]\n",
        "\n",
        "scaled_numerical_df =  pd.DataFrame(ss.fit_transform(numerical_df), columns=numerical_df.columns)\n",
        "\n",
        "categorical_features = list(set(df.columns)-set(numerical_features))\n",
        "scaled_df = pd.concat([df[categorical_features], scaled_numerical_df], axis=1)\n",
        "\n",
        "y = scaled_df['Revenue'].copy()\n",
        "X = scaled_df.drop('Revenue',axis=1)\n",
        "\n",
        "#Replace 0 values in categorical features with -1 to have mean = 0\n",
        "scaled_df[categorical_features] = scaled_df[categorical_features].mask(scaled_df[categorical_features] == 0, -1)\n",
        "\n",
        "# features_to_add = [e for e in numerical_features if e not in features_dropped]\n",
        "# scaled_df_categorical = df.drop(columns=features_to_add, axis=1)\n",
        "# scaled_df = pd.concat([scaled_numerical_df, scaled_df_categorical], axis = 1)"
      ]
    },
    {
      "cell_type": "code",
      "execution_count": 14,
      "metadata": {
        "colab": {
          "base_uri": "https://localhost:8080/",
          "height": 312
        },
        "id": "R2Tcdi1CqWeM",
        "outputId": "a6a1ced0-e96f-490c-a157-376374db33c7"
      },
      "outputs": [
        {
          "output_type": "stream",
          "name": "stdout",
          "text": [
            "0.9067539347984019 expressed by 26 components\n"
          ]
        },
        {
          "output_type": "display_data",
          "data": {
            "text/plain": [
              "<Figure size 432x288 with 1 Axes>"
            ],
            "image/png": "[encoded data removed]"
          },
          "metadata": {
            "needs_background": "light"
          }
        }
      ],
      "source": [
        "#%% PCA\n",
        "from sklearn.decomposition import PCA\n",
        "PCA_df = PCA().fit(scaled_df)\n",
        "pca_df = PCA_df.transform( scaled_df)\n",
        "\n",
        "cumvar = np.cumsum(PCA_df.explained_variance_ratio_)\n",
        "\n",
        "n_comp =  np.argmax(cumvar > .9)\n",
        "\n",
        "#Plotting cumulative variance\n",
        "plt.plot(cumvar)\n",
        "plt.title('Cumulative variance')\n",
        "plt.xlabel('Number of components')\n",
        "plt.ylabel('Variance explained')\n",
        "print(f\"{cumvar[n_comp]} expressed by {n_comp} components\")"
      ]
    },
    {
      "cell_type": "code",
      "execution_count": 15,
      "metadata": {
        "colab": {
          "base_uri": "https://localhost:8080/"
        },
        "id": "CGnDbDoJqYW7",
        "outputId": "85db1e6a-c1ce-4522-83d4-586afc6c7cb3"
      },
      "outputs": [
        {
          "output_type": "execute_result",
          "data": {
            "text/plain": [
              "(12330, 26)"
            ]
          },
          "metadata": {},
          "execution_count": 15
        }
      ],
      "source": [
        "#%%\n",
        "X_pca = np.dot(scaled_df, PCA_df.components_[:n_comp,:].T)\n",
        "X_pca = pd.DataFrame(X_pca, columns=[\"PC%d\" % (x + 1) for x in range(n_comp)])\n",
        "X_pca.shape\n"
      ]
    },
    {
      "cell_type": "code",
      "execution_count": 16,
      "metadata": {
        "id": "LYb9nT2Kqabr"
      },
      "outputs": [],
      "source": [
        "#%% SMOTE TO BALANCE LABEL\n",
        "import imblearn\n",
        "from imblearn.over_sampling import SMOTE\n",
        "\n",
        "from sklearn.model_selection import train_test_split, GridSearchCV, cross_val_score, RepeatedStratifiedKFold, StratifiedKFold\n",
        "\n",
        "seed = 13\n",
        "sm = SMOTE(random_state = seed)\n",
        "\n",
        "X_train, X_test, y_train, y_test = train_test_split(X, y, test_size=0.3, random_state=seed)\n",
        "\n",
        "X_train_smote, y_train_smote = sm.fit_resample(X_train, y_train.ravel())\n",
        "#pd.Series(y_train_smote).value_counts().plot.bar()\n",
        "y_train_smote = pd.Series(y_train_smote)"
      ]
    },
    {
      "cell_type": "code",
      "execution_count": 17,
      "metadata": {
        "id": "EvZOZDlAqcwG"
      },
      "outputs": [],
      "source": [
        "#%% MODELS\n",
        "\n",
        "from sklearn.model_selection import (\n",
        "    KFold,\n",
        "    ShuffleSplit,\n",
        "    StratifiedKFold,\n",
        "    GroupShuffleSplit,\n",
        "    GroupKFold,\n",
        "    StratifiedShuffleSplit,\n",
        "    StratifiedGroupKFold,\n",
        ")\n",
        "rng = np.random.RandomState(1338)\n",
        "cmap_data = plt.cm.Paired\n",
        "cmap_cv = plt.cm.coolwarm"
      ]
    },
    {
      "cell_type": "code",
      "execution_count": 18,
      "metadata": {
        "colab": {
          "base_uri": "https://localhost:8080/",
          "height": 314
        },
        "id": "acwIaeHNqfkz",
        "outputId": "b5516963-f7de-4a9a-adcf-1794dc52349e"
      },
      "outputs": [
        {
          "output_type": "execute_result",
          "data": {
            "text/plain": [
              "<matplotlib.axes._subplots.AxesSubplot at 0x7fd0a206c250>"
            ]
          },
          "metadata": {},
          "execution_count": 18
        },
        {
          "output_type": "display_data",
          "data": {
            "text/plain": [
              "<Figure size 432x288 with 1 Axes>"
            ],
            "image/png": "[encoded data removed]"
          },
          "metadata": {
            "needs_background": "light"
          }
        }
      ],
      "source": [
        "#%%\n",
        "from sklearn.linear_model import LogisticRegression\n",
        "from sklearn.model_selection import train_test_split, GridSearchCV, cross_val_score, RepeatedStratifiedKFold, StratifiedKFold\n",
        "from sklearn.metrics import accuracy_score, confusion_matrix,roc_curve, roc_auc_score, precision_score, recall_score, precision_recall_curve\n",
        "from sklearn.metrics import f1_score\n",
        "from sklearn.utils import shuffle\n",
        "# define model\n",
        "lr = LogisticRegression(random_state=seed, class_weight=None)\n",
        "accuracies=[]\n",
        "def plot_cv_indices(cv, X, y, group, ax, n_splits, lw=10):\n",
        "    \"\"\"Create a sample plot for indices of a cross-validation object.\"\"\"\n",
        "\n",
        "    # Generate the training/testing visualizations for each CV split\n",
        "    for ii, (tr, tt) in enumerate(cv.split(X=X, y=y, groups=group)):\n",
        "        # Fill in indices with the training/test groups\n",
        "        indices = np.array([np.nan] * len(X))\n",
        "        indices[tt] = 1\n",
        "        indices[tr] = 0\n",
        "        \n",
        "        # lg1.fit(X.iloc[tr], y.iloc[tr])\n",
        "        # y_pred = lg1.predict(X.iloc[tt])\n",
        "        \n",
        "        # print(f'Accuracy Score: {accuracy_score(y.iloc[tt],y_pred)}')\n",
        "        # accuracies.append(accuracy_score(y.iloc[tt],y_pred))\n",
        "        # Visualize the results\n",
        "        ax.scatter(\n",
        "            range(len(indices)),\n",
        "            [ii + 0.5] * len(indices),\n",
        "            c=indices,\n",
        "            marker=\"_\",\n",
        "            lw=lw,\n",
        "            cmap=cmap_cv,\n",
        "            vmin=-0.2,\n",
        "            vmax=1.2,\n",
        "        )\n",
        "\n",
        "    # Plot the data classes and groups at the end\n",
        "    ax.scatter(\n",
        "        range(len(X)), [ii + 1.5] * len(X), c=y, marker=\"_\", lw=lw, cmap=cmap_data\n",
        "    )\n",
        "\n",
        "\n",
        "    # Formatting\n",
        "    yticklabels = list(range(n_splits)) + [\"class\"]\n",
        "    ax.set(\n",
        "        yticks=np.arange(n_splits + 1) + 0.5,\n",
        "        yticklabels=yticklabels,\n",
        "        xlabel=\"Sample index\",\n",
        "        ylabel=\"CV iteration\",\n",
        "        ylim=[n_splits + 1.2, -0.2],\n",
        "        xlim=[0, X.shape[0]],\n",
        "    )\n",
        "    ax.set_title(\"{}\".format(type(cv).__name__), fontsize=15)\n",
        "    return ax\n",
        "\n",
        "\n",
        "fig, ax = plt.subplots()\n",
        "n_splits=5\n",
        "cv = StratifiedKFold(n_splits, shuffle=False)\n",
        "X_train_smote, y_train_smote = shuffle(X_train_smote, y_train_smote)\n",
        "plot_cv_indices(cv, X_train_smote, y_train_smote, y_train_smote, ax, n_splits)\n"
      ]
    },
    {
      "cell_type": "code",
      "source": [
        "models = {'LR': LogisticRegression(),\n",
        "          'KNN': KNeighborsClassifier(),\n",
        "          'SVM': SVC(),\n",
        "          'RF': RandomForestClassifier()}\n",
        "\n",
        "hyperparams = {}\n",
        "\n",
        "\n",
        "# define grid search\n",
        "solvers = ['newton-cg', 'lbfgs', 'liblinear']\n",
        "penalty = ['l2']\n",
        "c_values = [100, 10, 1.0, 0.1, 0.01]\n",
        "\n",
        "# define grid search\n",
        "gridLR = dict(solver=solvers,penalty=penalty,C=c_values)\n",
        "hyperparams['LR'] = gridLR\n",
        "\n",
        "# define grid search\n",
        "n_neighbors = range(1, 10)\n",
        "weights = ['uniform', 'distance']\n",
        "metric = ['euclidean', 'manhattan', 'minkowski']\n",
        "\n",
        "# define grid search\n",
        "gridKNN = dict(n_neighbors=n_neighbors,weights=weights,metric=metric)\n",
        "\n",
        "hyperparams['KNN'] = gridKNN\n",
        "\n",
        "# define grid search\n",
        "kernel = ['poly', 'rbf', 'sigmoid']\n",
        "C = [50, 10, 1.0, 0.1, 0.01]\n",
        "gamma = ['scale']\n",
        "\n",
        "# define grid search\n",
        "gridSVM = dict(kernel=kernel,C=C,gamma=gamma)\n",
        "\n",
        "hyperparams['SVM'] = gridSVM\n",
        "\n",
        "# define grid search\n",
        "n_estimators = [10, 100, 1000]\n",
        "max_features = ['sqrt', 'log2']\n",
        "\n",
        "\n",
        "# define grid search\n",
        "gridRF = dict(n_estimators=n_estimators,max_features=max_features)\n",
        "\n",
        "hyperparams['RF'] = gridRF\n",
        "\n",
        "results= {}\n",
        "                    "
      ],
      "metadata": {
        "id": "mDbT_RtG2P7K"
      },
      "execution_count": 19,
      "outputs": []
    },
    {
      "cell_type": "code",
      "source": [
        "def training (model_name, models, X_train, y_train, X_test, n_splits, hyperparams, smote=True):\n",
        "\n",
        "  if model_name not in models.keys():\n",
        "    print(models.values())\n",
        "    raise('Value Error: Specify a valid model (LR, KNN, SVM, RF)')\n",
        "  \n",
        "    \n",
        "  \n",
        "  results_model = {}\n",
        "  model = models[model_name]\n",
        "  print(\"Model name: \", model_name)\n",
        "  results[model_name] = {}\n",
        "  grid = hyperparams[model_name]\n",
        "\n",
        "  \n",
        "  #Tuning hyperparameters\n",
        "  cv = StratifiedKFold(n_splits, shuffle=False)\n",
        "  print(model.get_params().keys())\n",
        "  grid_search = GridSearchCV(estimator=model, param_grid=grid, n_jobs=-1, cv=cv, scoring='accuracy',error_score=0, verbose = 10)\n",
        "  grid_result = grid_search.fit(X_train, y_train)\n",
        "\n",
        "\n",
        "  results_model['best_params'] =  grid_result.best_params_\n",
        "\n",
        "  #Testing with best params found\n",
        "  results_model['y_pred'] = grid_search.predict(X_test)\n",
        "\n",
        "  # summarize results\n",
        "  print(\"Best: %f using %s\" % (grid_result.best_score_, grid_result.best_params_))\n",
        "\n",
        "  means = grid_result.cv_results_['mean_test_score']\n",
        "  stds = grid_result.cv_results_['std_test_score']\n",
        "  params = grid_result.cv_results_['params']\n",
        "  for mean, stdev, param in zip(means, stds, params):\n",
        "      print(\"%f (%f) with: %r\" % (mean, stdev, param))\n",
        "\n",
        "  return results_model\n",
        "\n",
        "\n",
        "model_name = 'RF'\n",
        "results[model_name] = training(model_name, models, X_train_smote, y_train_smote, X_test, 10, hyperparams, results )\n",
        "\n",
        "\n"
      ],
      "metadata": {
        "colab": {
          "base_uri": "https://localhost:8080/"
        },
        "id": "Jcp2EolqRXxn",
        "outputId": "d922a367-d3df-46c3-eb62-bd7e866ae756"
      },
      "execution_count": 36,
      "outputs": [
        {
          "output_type": "stream",
          "name": "stdout",
          "text": [
            "Model name:  RF\n",
            "dict_keys(['bootstrap', 'ccp_alpha', 'class_weight', 'criterion', 'max_depth', 'max_features', 'max_leaf_nodes', 'max_samples', 'min_impurity_decrease', 'min_samples_leaf', 'min_samples_split', 'min_weight_fraction_leaf', 'n_estimators', 'n_jobs', 'oob_score', 'random_state', 'verbose', 'warm_start'])\n",
            "Fitting 10 folds for each of 6 candidates, totalling 60 fits\n",
            "Best: 0.932734 using {'max_features': 'sqrt', 'n_estimators': 1000}\n",
            "0.927031 (0.008715) with: {'max_features': 'sqrt', 'n_estimators': 10}\n",
            "0.932116 (0.007993) with: {'max_features': 'sqrt', 'n_estimators': 100}\n",
            "0.932734 (0.006747) with: {'max_features': 'sqrt', 'n_estimators': 1000}\n",
            "0.926618 (0.006593) with: {'max_features': 'log2', 'n_estimators': 10}\n",
            "0.931222 (0.008752) with: {'max_features': 'log2', 'n_estimators': 100}\n",
            "0.932666 (0.007435) with: {'max_features': 'log2', 'n_estimators': 1000}\n"
          ]
        }
      ]
    },
    {
      "cell_type": "code",
      "source": [
        "results['RF'].keys()\n"
      ],
      "metadata": {
        "colab": {
          "base_uri": "https://localhost:8080/"
        },
        "id": "J5tW2EgocsBz",
        "outputId": "cee0648d-52f9-4a0c-ff05-9693de765884"
      },
      "execution_count": 37,
      "outputs": [
        {
          "output_type": "execute_result",
          "data": {
            "text/plain": [
              "dict_keys(['best_params', 'y_pred'])"
            ]
          },
          "metadata": {},
          "execution_count": 37
        }
      ]
    },
    {
      "cell_type": "code",
      "source": [
        "from sklearn.metrics import classification_report\n",
        "\n",
        "for model_name in ['LR', 'KNN', 'SVM', 'RF']:\n",
        "  print(model_name)\n",
        "  results[model_name]['results'] = classification_report(y_test, results[model_name]['y_pred'], output_dict=True)\n",
        "  print(cr)"
      ],
      "metadata": {
        "colab": {
          "base_uri": "https://localhost:8080/"
        },
        "id": "7cyvNkWEg-rn",
        "outputId": "05669a1c-e1df-4216-d306-408b267c91c4"
      },
      "execution_count": 42,
      "outputs": [
        {
          "output_type": "stream",
          "name": "stdout",
          "text": [
            "LR\n",
            "{'0': {'precision': 0.9505404520144121, 'recall': 0.9227344992050874, 'f1-score': 0.936431106808648, 'support': 3145}, '1': {'precision': 0.6238390092879257, 'recall': 0.7274368231046932, 'f1-score': 0.6716666666666666, 'support': 554}, 'accuracy': 0.8934847256015139, 'macro avg': {'precision': 0.7871897306511688, 'recall': 0.8250856611548902, 'f1-score': 0.8040488867376574, 'support': 3699}, 'weighted avg': {'precision': 0.9016103089296666, 'recall': 0.8934847256015139, 'f1-score': 0.8967772814940609, 'support': 3699}}\n",
            "KNN\n",
            "{'0': {'precision': 0.9505404520144121, 'recall': 0.9227344992050874, 'f1-score': 0.936431106808648, 'support': 3145}, '1': {'precision': 0.6238390092879257, 'recall': 0.7274368231046932, 'f1-score': 0.6716666666666666, 'support': 554}, 'accuracy': 0.8934847256015139, 'macro avg': {'precision': 0.7871897306511688, 'recall': 0.8250856611548902, 'f1-score': 0.8040488867376574, 'support': 3699}, 'weighted avg': {'precision': 0.9016103089296666, 'recall': 0.8934847256015139, 'f1-score': 0.8967772814940609, 'support': 3699}}\n",
            "SVM\n",
            "{'0': {'precision': 0.9505404520144121, 'recall': 0.9227344992050874, 'f1-score': 0.936431106808648, 'support': 3145}, '1': {'precision': 0.6238390092879257, 'recall': 0.7274368231046932, 'f1-score': 0.6716666666666666, 'support': 554}, 'accuracy': 0.8934847256015139, 'macro avg': {'precision': 0.7871897306511688, 'recall': 0.8250856611548902, 'f1-score': 0.8040488867376574, 'support': 3699}, 'weighted avg': {'precision': 0.9016103089296666, 'recall': 0.8934847256015139, 'f1-score': 0.8967772814940609, 'support': 3699}}\n",
            "RF\n",
            "{'0': {'precision': 0.9505404520144121, 'recall': 0.9227344992050874, 'f1-score': 0.936431106808648, 'support': 3145}, '1': {'precision': 0.6238390092879257, 'recall': 0.7274368231046932, 'f1-score': 0.6716666666666666, 'support': 554}, 'accuracy': 0.8934847256015139, 'macro avg': {'precision': 0.7871897306511688, 'recall': 0.8250856611548902, 'f1-score': 0.8040488867376574, 'support': 3699}, 'weighted avg': {'precision': 0.9016103089296666, 'recall': 0.8934847256015139, 'f1-score': 0.8967772814940609, 'support': 3699}}\n"
          ]
        }
      ]
    },
    {
      "cell_type": "code",
      "source": [
        "results['SVM']['results']"
      ],
      "metadata": {
        "colab": {
          "base_uri": "https://localhost:8080/"
        },
        "id": "tENvjh1Tsr1p",
        "outputId": "1609fe5a-8574-4f66-f427-53cd678f4741"
      },
      "execution_count": 47,
      "outputs": [
        {
          "output_type": "execute_result",
          "data": {
            "text/plain": [
              "{'0': {'f1-score': 0.9188316927545587,\n",
              "  'precision': 0.9328309305373526,\n",
              "  'recall': 0.9052464228934817,\n",
              "  'support': 3145},\n",
              " '1': {'f1-score': 0.5811823480432973,\n",
              "  'precision': 0.5394126738794436,\n",
              "  'recall': 0.6299638989169675,\n",
              "  'support': 554},\n",
              " 'accuracy': 0.8640173019735063,\n",
              " 'macro avg': {'f1-score': 0.750007020398928,\n",
              "  'precision': 0.7361218022083981,\n",
              "  'recall': 0.7676051609052246,\n",
              "  'support': 3699},\n",
              " 'weighted avg': {'f1-score': 0.8682618801105904,\n",
              "  'precision': 0.8739085963420344,\n",
              "  'recall': 0.8640173019735063,\n",
              "  'support': 3699}}"
            ]
          },
          "metadata": {},
          "execution_count": 47
        }
      ]
    },
    {
      "cell_type": "code",
      "source": [
        "cr['accuracy'], cr['weighted avg']['precision'], cr['weighted avg']['recall'], cr['weighted avg']['f1-score']"
      ],
      "metadata": {
        "colab": {
          "base_uri": "https://localhost:8080/"
        },
        "id": "E1fMZae0sIF5",
        "outputId": "6bec79aa-b171-40fe-a1c1-6cbac45bbb20"
      },
      "execution_count": 41,
      "outputs": [
        {
          "output_type": "execute_result",
          "data": {
            "text/plain": [
              "(0.8934847256015139,\n",
              " 0.9016103089296666,\n",
              " 0.8934847256015139,\n",
              " 0.8967772814940609)"
            ]
          },
          "metadata": {},
          "execution_count": 41
        }
      ]
    },
    {
      "cell_type": "code",
      "execution_count": 50,
      "metadata": {
        "colab": {
          "base_uri": "https://localhost:8080/"
        },
        "id": "arxdEsP8qkid",
        "outputId": "c26a1288-585d-44aa-a369-48f6315a2767"
      },
      "outputs": [
        {
          "output_type": "stream",
          "name": "stdout",
          "text": [
            "Fitting 5 folds for each of 15 candidates, totalling 75 fits\n",
            "Best: 0.866978 using {'C': 0.1, 'penalty': 'l2', 'solver': 'newton-cg'}\n",
            "0.863611 (0.005806) with: {'C': 100, 'penalty': 'l2', 'solver': 'newton-cg'}\n",
            "0.863886 (0.005042) with: {'C': 100, 'penalty': 'l2', 'solver': 'lbfgs'}\n",
            "0.863611 (0.005806) with: {'C': 100, 'penalty': 'l2', 'solver': 'liblinear'}\n",
            "0.863817 (0.005787) with: {'C': 10, 'penalty': 'l2', 'solver': 'newton-cg'}\n",
            "0.864161 (0.005534) with: {'C': 10, 'penalty': 'l2', 'solver': 'lbfgs'}\n",
            "0.863817 (0.005651) with: {'C': 10, 'penalty': 'l2', 'solver': 'liblinear'}\n",
            "0.865947 (0.005591) with: {'C': 1.0, 'penalty': 'l2', 'solver': 'newton-cg'}\n",
            "0.865947 (0.005587) with: {'C': 1.0, 'penalty': 'l2', 'solver': 'lbfgs'}\n",
            "0.866085 (0.006020) with: {'C': 1.0, 'penalty': 'l2', 'solver': 'liblinear'}\n",
            "0.866978 (0.006777) with: {'C': 0.1, 'penalty': 'l2', 'solver': 'newton-cg'}\n",
            "0.866978 (0.006777) with: {'C': 0.1, 'penalty': 'l2', 'solver': 'lbfgs'}\n",
            "0.865878 (0.006101) with: {'C': 0.1, 'penalty': 'l2', 'solver': 'liblinear'}\n",
            "0.849594 (0.007326) with: {'C': 0.01, 'penalty': 'l2', 'solver': 'newton-cg'}\n",
            "0.849594 (0.007326) with: {'C': 0.01, 'penalty': 'l2', 'solver': 'lbfgs'}\n",
            "0.847945 (0.009274) with: {'C': 0.01, 'penalty': 'l2', 'solver': 'liblinear'}\n"
          ]
        }
      ],
      "source": [
        "# # example of grid searching key hyperparametres for logistic regression\n",
        "# from sklearn.datasets import make_blobs\n",
        "# from sklearn.model_selection import RepeatedStratifiedKFold\n",
        "# from sklearn.model_selection import GridSearchCV\n",
        "# from sklearn.linear_model import LogisticRegression\n",
        "\n",
        "# # define models and parameters\n",
        "# LR = LogisticRegression()\n",
        "# solvers = ['newton-cg', 'lbfgs', 'liblinear']\n",
        "# penalty = ['l2']\n",
        "# c_values = [100, 10, 1.0, 0.1, 0.01]\n",
        "\n",
        "# # define grid search\n",
        "# grid = dict(solver=solvers,penalty=penalty,C=c_values)\n",
        "# cv = StratifiedKFold(n_splits, shuffle=False)\n",
        "# LRgrid_search = GridSearchCV(estimator=LR, param_grid=grid, n_jobs=-1, cv=cv, scoring='accuracy',error_score=0, verbose = 10)\n",
        "# grid_result = LRgrid_search.fit(X_train_smote, y_train_smote)\n",
        "\n",
        "\n",
        "# results['LR']['best_params'] =  grid_result.best_params_\n",
        "# results['LR']['y_pred'] = LRgrid_search.predict(X_test)\n",
        "\n",
        "# # summarize results\n",
        "# print(\"Best: %f using %s\" % (grid_result.best_score_, grid_result.best_params_))\n",
        "\n",
        "# means = grid_result.cv_results_['mean_test_score']\n",
        "# stds = grid_result.cv_results_['std_test_score']\n",
        "# params = grid_result.cv_results_['params']\n",
        "# for mean, stdev, param in zip(means, stds, params):\n",
        "#     print(\"%f (%f) with: %r\" % (mean, stdev, param))\n"
      ]
    },
    {
      "cell_type": "code",
      "source": [
        "#  accuracy_score(y_test,results['LR']['y_pred'])"
      ],
      "metadata": {
        "colab": {
          "base_uri": "https://localhost:8080/"
        },
        "id": "xxntLA6h8xct",
        "outputId": "ae59fe35-dacc-475a-db66-766c8ae2ef8d"
      },
      "execution_count": 53,
      "outputs": [
        {
          "output_type": "execute_result",
          "data": {
            "text/plain": [
              "0.8550959718842931"
            ]
          },
          "metadata": {},
          "execution_count": 53
        }
      ]
    },
    {
      "cell_type": "code",
      "execution_count": 60,
      "metadata": {
        "colab": {
          "base_uri": "https://localhost:8080/"
        },
        "id": "DF864MNqqm85",
        "outputId": "d7b11b3d-0569-4aea-a483-26241ae7f428"
      },
      "outputs": [
        {
          "output_type": "stream",
          "name": "stdout",
          "text": [
            "Fitting 5 folds for each of 54 candidates, totalling 270 fits\n",
            "Best: 0.906486 using {'metric': 'manhattan', 'n_neighbors': 2, 'weights': 'uniform'}\n",
            "0.884019 (0.006387) with: {'metric': 'euclidean', 'n_neighbors': 1, 'weights': 'uniform'}\n",
            "0.884019 (0.006387) with: {'metric': 'euclidean', 'n_neighbors': 1, 'weights': 'distance'}\n",
            "0.892951 (0.003928) with: {'metric': 'euclidean', 'n_neighbors': 2, 'weights': 'uniform'}\n",
            "0.884019 (0.006387) with: {'metric': 'euclidean', 'n_neighbors': 2, 'weights': 'distance'}\n",
            "0.866291 (0.008452) with: {'metric': 'euclidean', 'n_neighbors': 3, 'weights': 'uniform'}\n",
            "0.870551 (0.008756) with: {'metric': 'euclidean', 'n_neighbors': 3, 'weights': 'distance'}\n",
            "0.880239 (0.007059) with: {'metric': 'euclidean', 'n_neighbors': 4, 'weights': 'uniform'}\n",
            "0.873506 (0.008200) with: {'metric': 'euclidean', 'n_neighbors': 4, 'weights': 'distance'}\n",
            "0.859764 (0.007506) with: {'metric': 'euclidean', 'n_neighbors': 5, 'weights': 'uniform'}\n",
            "0.866772 (0.008092) with: {'metric': 'euclidean', 'n_neighbors': 5, 'weights': 'distance'}\n",
            "0.873094 (0.007879) with: {'metric': 'euclidean', 'n_neighbors': 6, 'weights': 'uniform'}\n",
            "0.868834 (0.007980) with: {'metric': 'euclidean', 'n_neighbors': 6, 'weights': 'distance'}\n",
            "0.849732 (0.006855) with: {'metric': 'euclidean', 'n_neighbors': 7, 'weights': 'uniform'}\n",
            "0.858321 (0.007651) with: {'metric': 'euclidean', 'n_neighbors': 7, 'weights': 'distance'}\n",
            "0.863062 (0.006418) with: {'metric': 'euclidean', 'n_neighbors': 8, 'weights': 'uniform'}\n",
            "0.863475 (0.008459) with: {'metric': 'euclidean', 'n_neighbors': 8, 'weights': 'distance'}\n",
            "0.847534 (0.008507) with: {'metric': 'euclidean', 'n_neighbors': 9, 'weights': 'uniform'}\n",
            "0.857634 (0.008453) with: {'metric': 'euclidean', 'n_neighbors': 9, 'weights': 'distance'}\n",
            "0.901265 (0.006220) with: {'metric': 'manhattan', 'n_neighbors': 1, 'weights': 'uniform'}\n",
            "0.901265 (0.006220) with: {'metric': 'manhattan', 'n_neighbors': 1, 'weights': 'distance'}\n",
            "0.906486 (0.003996) with: {'metric': 'manhattan', 'n_neighbors': 2, 'weights': 'uniform'}\n",
            "0.901265 (0.006220) with: {'metric': 'manhattan', 'n_neighbors': 2, 'weights': 'distance'}\n",
            "0.886423 (0.009604) with: {'metric': 'manhattan', 'n_neighbors': 3, 'weights': 'uniform'}\n",
            "0.889652 (0.009795) with: {'metric': 'manhattan', 'n_neighbors': 3, 'weights': 'distance'}\n",
            "0.896592 (0.005407) with: {'metric': 'manhattan', 'n_neighbors': 4, 'weights': 'uniform'}\n",
            "0.894050 (0.009352) with: {'metric': 'manhattan', 'n_neighbors': 4, 'weights': 'distance'}\n",
            "0.879827 (0.005896) with: {'metric': 'manhattan', 'n_neighbors': 5, 'weights': 'uniform'}\n",
            "0.886836 (0.006950) with: {'metric': 'manhattan', 'n_neighbors': 5, 'weights': 'distance'}\n",
            "0.890752 (0.007162) with: {'metric': 'manhattan', 'n_neighbors': 6, 'weights': 'uniform'}\n",
            "0.890065 (0.008692) with: {'metric': 'manhattan', 'n_neighbors': 6, 'weights': 'distance'}\n",
            "0.875018 (0.007523) with: {'metric': 'manhattan', 'n_neighbors': 7, 'weights': 'uniform'}\n",
            "0.883881 (0.008669) with: {'metric': 'manhattan', 'n_neighbors': 7, 'weights': 'distance'}\n",
            "0.885461 (0.006639) with: {'metric': 'manhattan', 'n_neighbors': 8, 'weights': 'uniform'}\n",
            "0.886217 (0.007718) with: {'metric': 'manhattan', 'n_neighbors': 8, 'weights': 'distance'}\n",
            "0.871376 (0.008935) with: {'metric': 'manhattan', 'n_neighbors': 9, 'weights': 'uniform'}\n",
            "0.881270 (0.008877) with: {'metric': 'manhattan', 'n_neighbors': 9, 'weights': 'distance'}\n",
            "0.884019 (0.006387) with: {'metric': 'minkowski', 'n_neighbors': 1, 'weights': 'uniform'}\n",
            "0.884019 (0.006387) with: {'metric': 'minkowski', 'n_neighbors': 1, 'weights': 'distance'}\n",
            "0.892951 (0.003928) with: {'metric': 'minkowski', 'n_neighbors': 2, 'weights': 'uniform'}\n",
            "0.884019 (0.006387) with: {'metric': 'minkowski', 'n_neighbors': 2, 'weights': 'distance'}\n",
            "0.866291 (0.008452) with: {'metric': 'minkowski', 'n_neighbors': 3, 'weights': 'uniform'}\n",
            "0.870551 (0.008756) with: {'metric': 'minkowski', 'n_neighbors': 3, 'weights': 'distance'}\n",
            "0.880239 (0.007059) with: {'metric': 'minkowski', 'n_neighbors': 4, 'weights': 'uniform'}\n",
            "0.873506 (0.008200) with: {'metric': 'minkowski', 'n_neighbors': 4, 'weights': 'distance'}\n",
            "0.859764 (0.007506) with: {'metric': 'minkowski', 'n_neighbors': 5, 'weights': 'uniform'}\n",
            "0.866772 (0.008092) with: {'metric': 'minkowski', 'n_neighbors': 5, 'weights': 'distance'}\n",
            "0.873094 (0.007879) with: {'metric': 'minkowski', 'n_neighbors': 6, 'weights': 'uniform'}\n",
            "0.868834 (0.007980) with: {'metric': 'minkowski', 'n_neighbors': 6, 'weights': 'distance'}\n",
            "0.849732 (0.006855) with: {'metric': 'minkowski', 'n_neighbors': 7, 'weights': 'uniform'}\n",
            "0.858321 (0.007651) with: {'metric': 'minkowski', 'n_neighbors': 7, 'weights': 'distance'}\n",
            "0.863062 (0.006418) with: {'metric': 'minkowski', 'n_neighbors': 8, 'weights': 'uniform'}\n",
            "0.863475 (0.008459) with: {'metric': 'minkowski', 'n_neighbors': 8, 'weights': 'distance'}\n",
            "0.847534 (0.008507) with: {'metric': 'minkowski', 'n_neighbors': 9, 'weights': 'uniform'}\n",
            "0.857634 (0.008453) with: {'metric': 'minkowski', 'n_neighbors': 9, 'weights': 'distance'}\n"
          ]
        }
      ],
      "source": [
        "# #%%\n",
        "# # example of grid searching key hyperparametres for KNeighborsClassifier\n",
        "# # from sklearn.datasets import make_blobs\n",
        "# from sklearn.model_selection import RepeatedStratifiedKFold\n",
        "# from sklearn.model_selection import GridSearchCV\n",
        "# from sklearn.neighbors import KNeighborsClassifier\n",
        "\n",
        "# # define models and parameters\n",
        "# KNN = KNeighborsClassifier()\n",
        "# n_neighbors = range(1, 10)\n",
        "# weights = ['uniform', 'distance']\n",
        "# metric = ['euclidean', 'manhattan', 'minkowski']\n",
        "\n",
        "# # define grid search\n",
        "# grid = dict(n_neighbors=n_neighbors,weights=weights,metric=metric)\n",
        "# cv = StratifiedKFold(n_splits, shuffle=False)\n",
        "# KNNgrid_search = GridSearchCV(estimator=KNN, param_grid=grid, n_jobs=-1, cv=cv, scoring='accuracy',error_score=0, verbose=10)\n",
        "# grid_result = KNNgrid_search.fit(X_train_smote, y_train_smote)\n",
        "\n",
        "# results['KNN']['best_params'] =  grid_result.best_params_\n",
        "# results['KNN']['y_pred'] = KNNgrid_search.predict(X_test)\n",
        "\n",
        "# # summarize results\n",
        "# print(\"Best: %f using %s\" % (grid_result.best_score_, grid_result.best_params_))\n",
        "# means = grid_result.cv_results_['mean_test_score']\n",
        "# stds = grid_result.cv_results_['std_test_score']\n",
        "# params = grid_result.cv_results_['params']\n",
        "# for mean, stdev, param in zip(means, stds, params):\n",
        "#     print(\"%f (%f) with: %r\" % (mean, stdev, param))"
      ]
    },
    {
      "cell_type": "code",
      "source": [
        "#  accuracy_score(y_test,results['KNN']['y_pred'])"
      ],
      "metadata": {
        "colab": {
          "base_uri": "https://localhost:8080/"
        },
        "id": "8__yC4SYCha_",
        "outputId": "f501f1cd-d085-4f50-af2f-71db15e6b276"
      },
      "execution_count": 61,
      "outputs": [
        {
          "output_type": "execute_result",
          "data": {
            "text/plain": [
              "0.8469856718031901"
            ]
          },
          "metadata": {},
          "execution_count": 61
        }
      ]
    },
    {
      "cell_type": "code",
      "execution_count": 63,
      "metadata": {
        "colab": {
          "base_uri": "https://localhost:8080/"
        },
        "id": "RoeZ_4isqpqC",
        "outputId": "3b7bc8b5-b8ec-4ce2-f5c3-04a85304f170"
      },
      "outputs": [
        {
          "output_type": "stream",
          "name": "stdout",
          "text": [
            "Best: 0.913769 using {'C': 10, 'gamma': 'scale', 'kernel': 'rbf'}\n",
            "0.899684 (0.003314) with: {'C': 50, 'gamma': 'scale', 'kernel': 'poly'}\n",
            "0.912326 (0.004639) with: {'C': 50, 'gamma': 'scale', 'kernel': 'rbf'}\n",
            "0.720557 (0.012080) with: {'C': 50, 'gamma': 'scale', 'kernel': 'sigmoid'}\n",
            "0.904768 (0.006486) with: {'C': 10, 'gamma': 'scale', 'kernel': 'poly'}\n",
            "0.913769 (0.006709) with: {'C': 10, 'gamma': 'scale', 'kernel': 'rbf'}\n",
            "0.721176 (0.011650) with: {'C': 10, 'gamma': 'scale', 'kernel': 'sigmoid'}\n",
            "0.887797 (0.008752) with: {'C': 1.0, 'gamma': 'scale', 'kernel': 'poly'}\n",
            "0.897073 (0.008220) with: {'C': 1.0, 'gamma': 'scale', 'kernel': 'rbf'}\n",
            "0.723924 (0.010409) with: {'C': 1.0, 'gamma': 'scale', 'kernel': 'sigmoid'}\n",
            "0.835577 (0.011697) with: {'C': 0.1, 'gamma': 'scale', 'kernel': 'poly'}\n",
            "0.861550 (0.007499) with: {'C': 0.1, 'gamma': 'scale', 'kernel': 'rbf'}\n",
            "0.741033 (0.009856) with: {'C': 0.1, 'gamma': 'scale', 'kernel': 'sigmoid'}\n",
            "0.686958 (0.008098) with: {'C': 0.01, 'gamma': 'scale', 'kernel': 'poly'}\n",
            "0.811048 (0.009331) with: {'C': 0.01, 'gamma': 'scale', 'kernel': 'rbf'}\n",
            "0.797306 (0.007187) with: {'C': 0.01, 'gamma': 'scale', 'kernel': 'sigmoid'}\n"
          ]
        }
      ],
      "source": [
        "# #%%\n",
        "\n",
        "# # example of grid searching key hyperparametres for SVC\n",
        "# from sklearn.datasets import make_blobs\n",
        "# from sklearn.model_selection import RepeatedStratifiedKFold\n",
        "# from sklearn.model_selection import GridSearchCV\n",
        "# from sklearn.svm import SVC\n",
        "\n",
        "# # define model and parameters\n",
        "# SVM = SVC()\n",
        "# kernel = ['poly', 'rbf', 'sigmoid']\n",
        "# C = [50, 10, 1.0, 0.1, 0.01]\n",
        "# gamma = ['scale']\n",
        "\n",
        "# # define grid search\n",
        "# grid = dict(kernel=kernel,C=C,gamma=gamma)\n",
        "# #cv = RepeatedStratifiedKFold(n_splits=10, n_repeats=3, random_state=1)\n",
        "# SVMgrid_search = GridSearchCV(estimator=SVM, param_grid=grid, n_jobs=-1, cv=cv, scoring='accuracy',error_score=0)\n",
        "# grid_result = SVMgrid_search.fit(X_train_smote, y_train_smote)\n",
        "\n",
        "# results['SVM']['best_params'] =  grid_result.best_params_\n",
        "# results['SVM']['y_pred'] = SVMgrid_search.predict(X_test)\n",
        "\n",
        "# # summarize results\n",
        "# print(\"Best: %f using %s\" % (grid_result.best_score_, grid_result.best_params_))\n",
        "# means = grid_result.cv_results_['mean_test_score']\n",
        "# stds = grid_result.cv_results_['std_test_score']\n",
        "# params = grid_result.cv_results_['params']\n",
        "# for mean, stdev, param in zip(means, stds, params):\n",
        "#     print(\"%f (%f) with: %r\" % (mean, stdev, param))"
      ]
    },
    {
      "cell_type": "code",
      "source": [
        "#  accuracy_score(y_test,results['SVM']['y_pred'])"
      ],
      "metadata": {
        "colab": {
          "base_uri": "https://localhost:8080/"
        },
        "id": "dqq6g_J8G2h7",
        "outputId": "625172b0-301b-4964-c0ec-9f56ef2a5e34"
      },
      "execution_count": 64,
      "outputs": [
        {
          "output_type": "execute_result",
          "data": {
            "text/plain": [
              "0.8640173019735063"
            ]
          },
          "metadata": {},
          "execution_count": 64
        }
      ]
    },
    {
      "cell_type": "code",
      "execution_count": 65,
      "metadata": {
        "id": "Vyt1RrViqsxz",
        "colab": {
          "base_uri": "https://localhost:8080/"
        },
        "outputId": "ae80f00f-706f-4343-c77c-ce1119ad4666"
      },
      "outputs": [
        {
          "output_type": "stream",
          "name": "stdout",
          "text": [
            "Best: 0.932733 using {'max_features': 'log2', 'n_estimators': 100}\n",
            "0.921877 (0.003381) with: {'max_features': 'sqrt', 'n_estimators': 10}\n",
            "0.929710 (0.004204) with: {'max_features': 'sqrt', 'n_estimators': 100}\n",
            "0.930878 (0.004528) with: {'max_features': 'sqrt', 'n_estimators': 1000}\n",
            "0.923182 (0.004298) with: {'max_features': 'log2', 'n_estimators': 10}\n",
            "0.932733 (0.005002) with: {'max_features': 'log2', 'n_estimators': 100}\n",
            "0.931015 (0.004167) with: {'max_features': 'log2', 'n_estimators': 1000}\n"
          ]
        }
      ],
      "source": [
        "# # example of grid searching key hyperparameters for RandomForestClassifier\n",
        "# from sklearn.datasets import make_blobs\n",
        "# from sklearn.model_selection import RepeatedStratifiedKFold\n",
        "# from sklearn.model_selection import GridSearchCV\n",
        "# from sklearn.ensemble import RandomForestClassifier\n",
        "\n",
        "\n",
        "# # define models and parameters\n",
        "# RF = RandomForestClassifier()\n",
        "# n_estimators = [10, 100, 1000]\n",
        "# max_features = ['sqrt', 'log2']\n",
        "\n",
        "# # define grid search\n",
        "# grid = dict(n_estimators=n_estimators,max_features=max_features)\n",
        "\n",
        "# RFgrid_search = GridSearchCV(estimator=RF, param_grid=grid, n_jobs=-1, cv=cv, scoring='accuracy',error_score=0)\n",
        "# grid_result = RFgrid_search.fit(X_train_smote, y_train_smote)\n",
        "\n",
        "# results['RF']['best_params'] =  grid_result.best_params_\n",
        "\n",
        "# results['RF']['y_pred'] = RFgrid_search.predict(X_test)\n",
        "\n",
        "# # summarize results\n",
        "# print(\"Best: %f using %s\" % (grid_result.best_score_, grid_result.best_params_))\n",
        "# means = grid_result.cv_results_['mean_test_score']\n",
        "# stds = grid_result.cv_results_['std_test_score']\n",
        "# params = grid_result.cv_results_['params']\n",
        "# for mean, stdev, param in zip(means, stds, params):\n",
        "#     print(\"%f (%f) with: %r\" % (mean, stdev, param))"
      ]
    },
    {
      "cell_type": "code",
      "source": [
        "#  accuracy_score(y_test,results['RF']['y_pred'])"
      ],
      "metadata": {
        "colab": {
          "base_uri": "https://localhost:8080/"
        },
        "id": "oCBXHSaILDDX",
        "outputId": "66d3b1cf-8587-44bd-fc2a-c116a4de9816"
      },
      "execution_count": 67,
      "outputs": [
        {
          "output_type": "execute_result",
          "data": {
            "text/plain": [
              "0.8902406055690727"
            ]
          },
          "metadata": {},
          "execution_count": 67
        }
      ]
    },
    {
      "cell_type": "code",
      "source": [
        "print(np.argsort(RFgrid_search.best_estimator_.feature_importances_))\n",
        "RFgrid_search.best_estimator_.feature_importances_\n",
        "X_train_smote.columns[59]"
      ],
      "metadata": {
        "colab": {
          "base_uri": "https://localhost:8080/",
          "height": 88
        },
        "id": "-iX_Va4XL8MR",
        "outputId": "bbf44d92-658e-4a4d-a1c4-b9d50e892f4b"
      },
      "execution_count": 88,
      "outputs": [
        {
          "output_type": "stream",
          "name": "stdout",
          "text": [
            "[31 20 30 48 34 28 42 55 17 14  4 13  6 39 33 10 27 56 41 35  0 44 23 25\n",
            "  1 18 45 47 16 26 32 15 57 21 51  8 38  9 36 19 22 29  2 52 43  5 60 49\n",
            " 11 24  7 54 12  3 46 40 53 37 50 63 58 59 61 62]\n"
          ]
        },
        {
          "output_type": "execute_result",
          "data": {
            "text/plain": [
              "'ProductRelated'"
            ],
            "application/vnd.google.colaboratory.intrinsic+json": {
              "type": "string"
            }
          },
          "metadata": {},
          "execution_count": 88
        }
      ]
    },
    {
      "cell_type": "code",
      "source": [
        "feat_imp = pd.Series(RFgrid_search.best_estimator_.feature_importances_, list(X_train_smote)).sort_values(ascending=False)\n",
        "fig = plt.figure(figsize=(12, 4))\n",
        "feat_imp.plot(kind='bar', title='Importance of Features')\n",
        "plt.ylabel('Feature Importance Score')\n",
        "plt.grid()\n",
        "plt.show()"
      ],
      "metadata": {
        "colab": {
          "base_uri": "https://localhost:8080/",
          "height": 416
        },
        "id": "QD9ELC_GPm_f",
        "outputId": "ed8e7ac7-71a1-4f72-afb4-eb5587826c4f"
      },
      "execution_count": 89,
      "outputs": [
        {
          "output_type": "display_data",
          "data": {
            "text/plain": [
              "<Figure size 864x288 with 1 Axes>"
            ],
            "image/png": "[encoded data removed]"
          },
          "metadata": {
            "needs_background": "light"
          }
        }
      ]
    },
    {
      "cell_type": "code",
      "execution_count": 28,
      "metadata": {
        "id": "9xR4Oj6zqvBj"
      },
      "outputs": [],
      "source": [
        "# # Testing\n",
        "# params_LR = {'C': 0.1, 'penalty': 'l2', 'solver': 'newton-cg'}\n",
        "# params_KNN = {'metric': 'manhattan', 'n_neighbors': 1, 'weights': 'uniform'}\n",
        "# params_SVM = {'C': 10, 'gamma': 'scale', 'kernel': 'rbf'}\n",
        "# params_RF = {'max_features': 'log2', 'n_estimators': 100}\n",
        "\n",
        "# LR = LogisticRegression().set_params(**params_LR)\n",
        "# KNN = KNeighborsClassifier().set_params(**params_KNN)\n",
        "# SVM = SVC().set_params(**params_SVM)\n",
        "# RF = RandomForestClassifier().set_params(**params_RF)"
      ]
    },
    {
      "cell_type": "code",
      "execution_count": 32,
      "metadata": {
        "id": "dI7oy8Gnqxlj",
        "colab": {
          "base_uri": "https://localhost:8080/",
          "height": 380
        },
        "outputId": "e88addc1-866b-4c63-f6cf-470aa523913c"
      },
      "outputs": [
        {
          "output_type": "error",
          "ename": "NotFittedError",
          "evalue": "ignored",
          "traceback": [
            "\u001b[0;31m---------------------------------------------------------------------------\u001b[0m",
            "\u001b[0;31mNotFittedError\u001b[0m                            Traceback (most recent call last)",
            "\u001b[0;32m<ipython-input-32-f78cce405dc4>\u001b[0m in \u001b[0;36m<module>\u001b[0;34m()\u001b[0m\n\u001b[0;32m----> 1\u001b[0;31m \u001b[0my_pred_LR\u001b[0m \u001b[0;34m=\u001b[0m \u001b[0mLR\u001b[0m\u001b[0;34m.\u001b[0m\u001b[0mpredict\u001b[0m\u001b[0;34m(\u001b[0m\u001b[0mX_test\u001b[0m\u001b[0;34m)\u001b[0m\u001b[0;34m\u001b[0m\u001b[0;34m\u001b[0m\u001b[0m\n\u001b[0m\u001b[1;32m      2\u001b[0m \u001b[0my_pred_KNN\u001b[0m \u001b[0;34m=\u001b[0m \u001b[0mKNN\u001b[0m\u001b[0;34m.\u001b[0m\u001b[0mpredict\u001b[0m\u001b[0;34m(\u001b[0m\u001b[0mX_test\u001b[0m\u001b[0;34m)\u001b[0m\u001b[0;34m\u001b[0m\u001b[0;34m\u001b[0m\u001b[0m\n\u001b[1;32m      3\u001b[0m \u001b[0my_pred_SVM\u001b[0m \u001b[0;34m=\u001b[0m \u001b[0mSVM\u001b[0m\u001b[0;34m.\u001b[0m\u001b[0mpredict\u001b[0m\u001b[0;34m(\u001b[0m\u001b[0mX_test\u001b[0m\u001b[0;34m)\u001b[0m\u001b[0;34m\u001b[0m\u001b[0;34m\u001b[0m\u001b[0m\n\u001b[1;32m      4\u001b[0m \u001b[0my_pred_RF\u001b[0m \u001b[0;34m=\u001b[0m \u001b[0mRF\u001b[0m\u001b[0;34m.\u001b[0m\u001b[0mpredict\u001b[0m\u001b[0;34m(\u001b[0m\u001b[0mX_test\u001b[0m\u001b[0;34m)\u001b[0m\u001b[0;34m\u001b[0m\u001b[0;34m\u001b[0m\u001b[0m\n\u001b[1;32m      5\u001b[0m \u001b[0;34m\u001b[0m\u001b[0m\n",
            "\u001b[0;32m/usr/local/lib/python3.7/dist-packages/sklearn/linear_model/_base.py\u001b[0m in \u001b[0;36mpredict\u001b[0;34m(self, X)\u001b[0m\n\u001b[1;32m    423\u001b[0m             \u001b[0mVector\u001b[0m \u001b[0mcontaining\u001b[0m \u001b[0mthe\u001b[0m \u001b[0;32mclass\u001b[0m \u001b[0mlabels\u001b[0m \u001b[0;32mfor\u001b[0m \u001b[0meach\u001b[0m \u001b[0msample\u001b[0m\u001b[0;34m.\u001b[0m\u001b[0;34m\u001b[0m\u001b[0;34m\u001b[0m\u001b[0m\n\u001b[1;32m    424\u001b[0m         \"\"\"\n\u001b[0;32m--> 425\u001b[0;31m         \u001b[0mscores\u001b[0m \u001b[0;34m=\u001b[0m \u001b[0mself\u001b[0m\u001b[0;34m.\u001b[0m\u001b[0mdecision_function\u001b[0m\u001b[0;34m(\u001b[0m\u001b[0mX\u001b[0m\u001b[0;34m)\u001b[0m\u001b[0;34m\u001b[0m\u001b[0;34m\u001b[0m\u001b[0m\n\u001b[0m\u001b[1;32m    426\u001b[0m         \u001b[0;32mif\u001b[0m \u001b[0mlen\u001b[0m\u001b[0;34m(\u001b[0m\u001b[0mscores\u001b[0m\u001b[0;34m.\u001b[0m\u001b[0mshape\u001b[0m\u001b[0;34m)\u001b[0m \u001b[0;34m==\u001b[0m \u001b[0;36m1\u001b[0m\u001b[0;34m:\u001b[0m\u001b[0;34m\u001b[0m\u001b[0;34m\u001b[0m\u001b[0m\n\u001b[1;32m    427\u001b[0m             \u001b[0mindices\u001b[0m \u001b[0;34m=\u001b[0m \u001b[0;34m(\u001b[0m\u001b[0mscores\u001b[0m \u001b[0;34m>\u001b[0m \u001b[0;36m0\u001b[0m\u001b[0;34m)\u001b[0m\u001b[0;34m.\u001b[0m\u001b[0mastype\u001b[0m\u001b[0;34m(\u001b[0m\u001b[0mint\u001b[0m\u001b[0;34m)\u001b[0m\u001b[0;34m\u001b[0m\u001b[0;34m\u001b[0m\u001b[0m\n",
            "\u001b[0;32m/usr/local/lib/python3.7/dist-packages/sklearn/linear_model/_base.py\u001b[0m in \u001b[0;36mdecision_function\u001b[0;34m(self, X)\u001b[0m\n\u001b[1;32m    403\u001b[0m             \u001b[0mthis\u001b[0m \u001b[0;32mclass\u001b[0m \u001b[0mwould\u001b[0m \u001b[0mbe\u001b[0m \u001b[0mpredicted\u001b[0m\u001b[0;34m.\u001b[0m\u001b[0;34m\u001b[0m\u001b[0;34m\u001b[0m\u001b[0m\n\u001b[1;32m    404\u001b[0m         \"\"\"\n\u001b[0;32m--> 405\u001b[0;31m         \u001b[0mcheck_is_fitted\u001b[0m\u001b[0;34m(\u001b[0m\u001b[0mself\u001b[0m\u001b[0;34m)\u001b[0m\u001b[0;34m\u001b[0m\u001b[0;34m\u001b[0m\u001b[0m\n\u001b[0m\u001b[1;32m    406\u001b[0m \u001b[0;34m\u001b[0m\u001b[0m\n\u001b[1;32m    407\u001b[0m         \u001b[0mX\u001b[0m \u001b[0;34m=\u001b[0m \u001b[0mself\u001b[0m\u001b[0;34m.\u001b[0m\u001b[0m_validate_data\u001b[0m\u001b[0;34m(\u001b[0m\u001b[0mX\u001b[0m\u001b[0;34m,\u001b[0m \u001b[0maccept_sparse\u001b[0m\u001b[0;34m=\u001b[0m\u001b[0;34m\"csr\"\u001b[0m\u001b[0;34m,\u001b[0m \u001b[0mreset\u001b[0m\u001b[0;34m=\u001b[0m\u001b[0;32mFalse\u001b[0m\u001b[0;34m)\u001b[0m\u001b[0;34m\u001b[0m\u001b[0;34m\u001b[0m\u001b[0m\n",
            "\u001b[0;32m/usr/local/lib/python3.7/dist-packages/sklearn/utils/validation.py\u001b[0m in \u001b[0;36mcheck_is_fitted\u001b[0;34m(estimator, attributes, msg, all_or_any)\u001b[0m\n\u001b[1;32m   1220\u001b[0m \u001b[0;34m\u001b[0m\u001b[0m\n\u001b[1;32m   1221\u001b[0m     \u001b[0;32mif\u001b[0m \u001b[0;32mnot\u001b[0m \u001b[0mfitted\u001b[0m\u001b[0;34m:\u001b[0m\u001b[0;34m\u001b[0m\u001b[0;34m\u001b[0m\u001b[0m\n\u001b[0;32m-> 1222\u001b[0;31m         \u001b[0;32mraise\u001b[0m \u001b[0mNotFittedError\u001b[0m\u001b[0;34m(\u001b[0m\u001b[0mmsg\u001b[0m \u001b[0;34m%\u001b[0m \u001b[0;34m{\u001b[0m\u001b[0;34m\"name\"\u001b[0m\u001b[0;34m:\u001b[0m \u001b[0mtype\u001b[0m\u001b[0;34m(\u001b[0m\u001b[0mestimator\u001b[0m\u001b[0;34m)\u001b[0m\u001b[0;34m.\u001b[0m\u001b[0m__name__\u001b[0m\u001b[0;34m}\u001b[0m\u001b[0;34m)\u001b[0m\u001b[0;34m\u001b[0m\u001b[0;34m\u001b[0m\u001b[0m\n\u001b[0m\u001b[1;32m   1223\u001b[0m \u001b[0;34m\u001b[0m\u001b[0m\n\u001b[1;32m   1224\u001b[0m \u001b[0;34m\u001b[0m\u001b[0m\n",
            "\u001b[0;31mNotFittedError\u001b[0m: This LogisticRegression instance is not fitted yet. Call 'fit' with appropriate arguments before using this estimator."
          ]
        }
      ],
      "source": [
        "# y_pred_LR = LR.predict(X_test)\n",
        "# y_pred_KNN = KNN.predict(X_test)\n",
        "# y_pred_SVM = SVM.predict(X_test)\n",
        "# y_pred_RF = RF.predict(X_test)\n",
        "\n",
        "# results = {}\n",
        "# results['LR'] = {}\n",
        "# results['LR']['accuracy'] = accuracy_score(y_test,y_pred_LR)\n",
        "\n",
        "# results['KNN'] = {}\n",
        "# results['KNN']['accuracy'] = accuracy_score(y_test,y_pred_KNN)\n",
        "# results['SVM'] = {}\n",
        "# results['SVM']['accuracy'] = accuracy_score(y_test,y_pred_SVM)\n",
        "# results['RF'] = {}\n",
        "# results['RF']['accuracy'] = accuracy_score(y_test,y_pred_RF)"
      ]
    },
    {
      "cell_type": "code",
      "execution_count": null,
      "metadata": {
        "id": "PqCzZa5zq168"
      },
      "outputs": [],
      "source": [
        ""
      ]
    }
  ],
  "metadata": {
    "accelerator": "GPU",
    "colab": {
      "name": "Untitled0.ipynb",
      "provenance": [],
      "authorship_tag": "ABX9TyNnRDJNN8ygF6o8Q1RkSAi0",
      "include_colab_link": true
    },
    "gpuClass": "standard",
    "kernelspec": {
      "display_name": "Python 3",
      "name": "python3"
    },
    "language_info": {
      "name": "python"
    }
  },
  "nbformat": 4,
  "nbformat_minor": 0
}