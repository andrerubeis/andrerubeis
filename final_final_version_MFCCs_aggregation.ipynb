{
  "cells": [
    {
      "cell_type": "markdown",
      "metadata": {
        "id": "view-in-github",
        "colab_type": "text"
      },
      "source": [
        "<a href=\"https://colab.research.google.com/github/andrerubeis/andrerubeis/blob/main/final_final_version_MFCCs_aggregation.ipynb\" target=\"_parent\"><img src=\"https://colab.research.google.com/assets/colab-badge.svg\" alt=\"Open In Colab\"/></a>"
      ]
    },
    {
      "cell_type": "code",
      "source": [
        "pip install noisereduce"
      ],
      "metadata": {
        "colab": {
          "base_uri": "https://localhost:8080/"
        },
        "id": "VHb1rA2MRcAA",
        "outputId": "87836aed-8ba4-4ad1-eb14-41b30a2d66eb"
      },
      "id": "VHb1rA2MRcAA",
      "execution_count": 1,
      "outputs": [
        {
          "output_type": "stream",
          "name": "stdout",
          "text": [
            "Looking in indexes: https://pypi.org/simple, https://us-python.pkg.dev/colab-wheels/public/simple/\n",
            "Requirement already satisfied: noisereduce in /usr/local/lib/python3.8/dist-packages (2.0.1)\n",
            "Requirement already satisfied: matplotlib in /usr/local/lib/python3.8/dist-packages (from noisereduce) (3.2.2)\n",
            "Requirement already satisfied: scipy in /usr/local/lib/python3.8/dist-packages (from noisereduce) (1.7.3)\n",
            "Requirement already satisfied: librosa in /usr/local/lib/python3.8/dist-packages (from noisereduce) (0.8.1)\n",
            "Requirement already satisfied: tqdm in /usr/local/lib/python3.8/dist-packages (from noisereduce) (4.64.1)\n",
            "Requirement already satisfied: numpy in /usr/local/lib/python3.8/dist-packages (from noisereduce) (1.21.6)\n",
            "Requirement already satisfied: resampy>=0.2.2 in /usr/local/lib/python3.8/dist-packages (from librosa->noisereduce) (0.4.2)\n",
            "Requirement already satisfied: soundfile>=0.10.2 in /usr/local/lib/python3.8/dist-packages (from librosa->noisereduce) (0.11.0)\n",
            "Requirement already satisfied: packaging>=20.0 in /usr/local/lib/python3.8/dist-packages (from librosa->noisereduce) (21.3)\n",
            "Requirement already satisfied: decorator>=3.0.0 in /usr/local/lib/python3.8/dist-packages (from librosa->noisereduce) (4.4.2)\n",
            "Requirement already satisfied: numba>=0.43.0 in /usr/local/lib/python3.8/dist-packages (from librosa->noisereduce) (0.56.4)\n",
            "Requirement already satisfied: joblib>=0.14 in /usr/local/lib/python3.8/dist-packages (from librosa->noisereduce) (1.2.0)\n",
            "Requirement already satisfied: audioread>=2.0.0 in /usr/local/lib/python3.8/dist-packages (from librosa->noisereduce) (3.0.0)\n",
            "Requirement already satisfied: pooch>=1.0 in /usr/local/lib/python3.8/dist-packages (from librosa->noisereduce) (1.6.0)\n",
            "Requirement already satisfied: scikit-learn!=0.19.0,>=0.14.0 in /usr/local/lib/python3.8/dist-packages (from librosa->noisereduce) (1.0.2)\n",
            "Requirement already satisfied: pyparsing!=2.0.4,!=2.1.2,!=2.1.6,>=2.0.1 in /usr/local/lib/python3.8/dist-packages (from matplotlib->noisereduce) (3.0.9)\n",
            "Requirement already satisfied: cycler>=0.10 in /usr/local/lib/python3.8/dist-packages (from matplotlib->noisereduce) (0.11.0)\n",
            "Requirement already satisfied: python-dateutil>=2.1 in /usr/local/lib/python3.8/dist-packages (from matplotlib->noisereduce) (2.8.2)\n",
            "Requirement already satisfied: kiwisolver>=1.0.1 in /usr/local/lib/python3.8/dist-packages (from matplotlib->noisereduce) (1.4.4)\n",
            "Requirement already satisfied: llvmlite<0.40,>=0.39.0dev0 in /usr/local/lib/python3.8/dist-packages (from numba>=0.43.0->librosa->noisereduce) (0.39.1)\n",
            "Requirement already satisfied: importlib-metadata in /usr/local/lib/python3.8/dist-packages (from numba>=0.43.0->librosa->noisereduce) (6.0.0)\n",
            "Requirement already satisfied: setuptools in /usr/local/lib/python3.8/dist-packages (from numba>=0.43.0->librosa->noisereduce) (57.4.0)\n",
            "Requirement already satisfied: requests>=2.19.0 in /usr/local/lib/python3.8/dist-packages (from pooch>=1.0->librosa->noisereduce) (2.25.1)\n",
            "Requirement already satisfied: appdirs>=1.3.0 in /usr/local/lib/python3.8/dist-packages (from pooch>=1.0->librosa->noisereduce) (1.4.4)\n",
            "Requirement already satisfied: six>=1.5 in /usr/local/lib/python3.8/dist-packages (from python-dateutil>=2.1->matplotlib->noisereduce) (1.15.0)\n",
            "Requirement already satisfied: threadpoolctl>=2.0.0 in /usr/local/lib/python3.8/dist-packages (from scikit-learn!=0.19.0,>=0.14.0->librosa->noisereduce) (3.1.0)\n",
            "Requirement already satisfied: cffi>=1.0 in /usr/local/lib/python3.8/dist-packages (from soundfile>=0.10.2->librosa->noisereduce) (1.15.1)\n",
            "Requirement already satisfied: pycparser in /usr/local/lib/python3.8/dist-packages (from cffi>=1.0->soundfile>=0.10.2->librosa->noisereduce) (2.21)\n",
            "Requirement already satisfied: idna<3,>=2.5 in /usr/local/lib/python3.8/dist-packages (from requests>=2.19.0->pooch>=1.0->librosa->noisereduce) (2.10)\n",
            "Requirement already satisfied: chardet<5,>=3.0.2 in /usr/local/lib/python3.8/dist-packages (from requests>=2.19.0->pooch>=1.0->librosa->noisereduce) (4.0.0)\n",
            "Requirement already satisfied: urllib3<1.27,>=1.21.1 in /usr/local/lib/python3.8/dist-packages (from requests>=2.19.0->pooch>=1.0->librosa->noisereduce) (1.24.3)\n",
            "Requirement already satisfied: certifi>=2017.4.17 in /usr/local/lib/python3.8/dist-packages (from requests>=2.19.0->pooch>=1.0->librosa->noisereduce) (2022.12.7)\n",
            "Requirement already satisfied: zipp>=0.5 in /usr/local/lib/python3.8/dist-packages (from importlib-metadata->numba>=0.43.0->librosa->noisereduce) (3.11.0)\n"
          ]
        }
      ]
    },
    {
      "cell_type": "code",
      "source": [
        "from google.colab import drive\n",
        "drive.mount('/content/drive')"
      ],
      "metadata": {
        "colab": {
          "base_uri": "https://localhost:8080/"
        },
        "id": "h1OngFI-Ptfv",
        "outputId": "1d49818f-7c6b-4029-d511-ba1e29336d9d"
      },
      "id": "h1OngFI-Ptfv",
      "execution_count": 2,
      "outputs": [
        {
          "output_type": "stream",
          "name": "stdout",
          "text": [
            "Mounted at /content/drive\n"
          ]
        }
      ]
    },
    {
      "cell_type": "code",
      "execution_count": 3,
      "id": "9f5653aa",
      "metadata": {
        "id": "9f5653aa"
      },
      "outputs": [],
      "source": [
        "import pandas as pd\n",
        "import numpy as np\n",
        "import os\n",
        "import librosa\n",
        "import librosa.display\n",
        "import IPython.display as ipd\n",
        "import matplotlib.pyplot as plt\n",
        "import pickle\n",
        "import noisereduce as nr\n",
        "import tqdm"
      ]
    },
    {
      "cell_type": "code",
      "source": [
        "import torch\n",
        "colab = True\n",
        "\n",
        "if colab == True:\n",
        "  device = 'cuda' if torch.cuda.is_available() else 'cpu'"
      ],
      "metadata": {
        "id": "a7jJB5VeQUju"
      },
      "id": "a7jJB5VeQUju",
      "execution_count": 4,
      "outputs": []
    },
    {
      "cell_type": "code",
      "source": [
        "!nvidia-smi"
      ],
      "metadata": {
        "colab": {
          "base_uri": "https://localhost:8080/"
        },
        "id": "9M1UM32UVXoW",
        "outputId": "59940ba3-cc56-4939-fdc3-36e01377352c"
      },
      "id": "9M1UM32UVXoW",
      "execution_count": 5,
      "outputs": [
        {
          "output_type": "stream",
          "name": "stdout",
          "text": [
            "NVIDIA-SMI has failed because it couldn't communicate with the NVIDIA driver. Make sure that the latest NVIDIA driver is installed and running.\n",
            "\n"
          ]
        }
      ]
    },
    {
      "cell_type": "markdown",
      "id": "772ef5b5",
      "metadata": {
        "id": "772ef5b5"
      },
      "source": [
        "\n",
        "## 1. Loading Dataset"
      ]
    },
    {
      "cell_type": "code",
      "execution_count": 7,
      "id": "e2f93350",
      "metadata": {
        "colab": {
          "base_uri": "https://localhost:8080/",
          "height": 886
        },
        "id": "e2f93350",
        "outputId": "45a4c807-2df6-4a0a-ea25-43904e6e8939"
      },
      "outputs": [
        {
          "output_type": "execute_result",
          "data": {
            "text/plain": [
              "        Id                                               path  \\\n",
              "0        0  dsl_data/audio/speakers/2BqVo8kVB2Skwgyb/0a312...   \n",
              "1        1  dsl_data/audio/speakers/2BqVo8kVB2Skwgyb/0ee42...   \n",
              "2        2  dsl_data/audio/speakers/2BqVo8kVB2Skwgyb/1d9f3...   \n",
              "3        3  dsl_data/audio/speakers/2BqVo8kVB2Skwgyb/269fc...   \n",
              "4        4  dsl_data/audio/speakers/2BqVo8kVB2Skwgyb/5bbda...   \n",
              "...    ...                                                ...   \n",
              "9849  9849  dsl_data/audio/speakers/vnljypgejkINbBAY/4fb3d...   \n",
              "9850  9850  dsl_data/audio/speakers/vnljypgejkINbBAY/59e6a...   \n",
              "9851  9851  dsl_data/audio/speakers/vnljypgejkINbBAY/5c81c...   \n",
              "9852  9852  dsl_data/audio/speakers/vnljypgejkINbBAY/5ef42...   \n",
              "9853  9853  dsl_data/audio/speakers/vnljypgejkINbBAY/61b7a...   \n",
              "\n",
              "             speakerId           action  object Self-reported fluency level   \\\n",
              "0     2BqVo8kVB2Skwgyb  change language    none                     advanced   \n",
              "1     2BqVo8kVB2Skwgyb         activate   music                     advanced   \n",
              "2     2BqVo8kVB2Skwgyb       deactivate  lights                     advanced   \n",
              "3     2BqVo8kVB2Skwgyb         increase  volume                     advanced   \n",
              "4     2BqVo8kVB2Skwgyb         increase  volume                     advanced   \n",
              "...                ...              ...     ...                          ...   \n",
              "9849  vnljypgejkINbBAY         decrease  volume                       native   \n",
              "9850  vnljypgejkINbBAY       deactivate  lights                       native   \n",
              "9851  vnljypgejkINbBAY       deactivate  lights                       native   \n",
              "9852  vnljypgejkINbBAY       deactivate  lights                       native   \n",
              "9853  vnljypgejkINbBAY         increase  volume                       native   \n",
              "\n",
              "        First Language spoken Current language used for work/school  gender  \\\n",
              "0     English (United States)               English (United States)  female   \n",
              "1     English (United States)               English (United States)  female   \n",
              "2     English (United States)               English (United States)  female   \n",
              "3     English (United States)               English (United States)  female   \n",
              "4     English (United States)               English (United States)  female   \n",
              "...                       ...                                   ...     ...   \n",
              "9849  English (United States)               English (United States)    male   \n",
              "9850  English (United States)               English (United States)    male   \n",
              "9851  English (United States)               English (United States)    male   \n",
              "9852  English (United States)               English (United States)    male   \n",
              "9853  English (United States)               English (United States)    male   \n",
              "\n",
              "     ageRange  \n",
              "0       22-40  \n",
              "1       22-40  \n",
              "2       22-40  \n",
              "3       22-40  \n",
              "4       22-40  \n",
              "...       ...  \n",
              "9849    22-40  \n",
              "9850    22-40  \n",
              "9851    22-40  \n",
              "9852    22-40  \n",
              "9853    22-40  \n",
              "\n",
              "[9854 rows x 10 columns]"
            ],
            "text/html": [
              "\n",
              "  <div id=\"df-10dc74e4-e016-456e-9674-8c948841d306\">\n",
              "    <div class=\"colab-df-container\">\n",
              "      <div>\n",
              "<style scoped>\n",
              "    .dataframe tbody tr th:only-of-type {\n",
              "        vertical-align: middle;\n",
              "    }\n",
              "\n",
              "    .dataframe tbody tr th {\n",
              "        vertical-align: top;\n",
              "    }\n",
              "\n",
              "    .dataframe thead th {\n",
              "        text-align: right;\n",
              "    }\n",
              "</style>\n",
              "<table border=\"1\" class=\"dataframe\">\n",
              "  <thead>\n",
              "    <tr style=\"text-align: right;\">\n",
              "      <th></th>\n",
              "      <th>Id</th>\n",
              "      <th>path</th>\n",
              "      <th>speakerId</th>\n",
              "      <th>action</th>\n",
              "      <th>object</th>\n",
              "      <th>Self-reported fluency level</th>\n",
              "      <th>First Language spoken</th>\n",
              "      <th>Current language used for work/school</th>\n",
              "      <th>gender</th>\n",
              "      <th>ageRange</th>\n",
              "    </tr>\n",
              "  </thead>\n",
              "  <tbody>\n",
              "    <tr>\n",
              "      <th>0</th>\n",
              "      <td>0</td>\n",
              "      <td>dsl_data/audio/speakers/2BqVo8kVB2Skwgyb/0a312...</td>\n",
              "      <td>2BqVo8kVB2Skwgyb</td>\n",
              "      <td>change language</td>\n",
              "      <td>none</td>\n",
              "      <td>advanced</td>\n",
              "      <td>English (United States)</td>\n",
              "      <td>English (United States)</td>\n",
              "      <td>female</td>\n",
              "      <td>22-40</td>\n",
              "    </tr>\n",
              "    <tr>\n",
              "      <th>1</th>\n",
              "      <td>1</td>\n",
              "      <td>dsl_data/audio/speakers/2BqVo8kVB2Skwgyb/0ee42...</td>\n",
              "      <td>2BqVo8kVB2Skwgyb</td>\n",
              "      <td>activate</td>\n",
              "      <td>music</td>\n",
              "      <td>advanced</td>\n",
              "      <td>English (United States)</td>\n",
              "      <td>English (United States)</td>\n",
              "      <td>female</td>\n",
              "      <td>22-40</td>\n",
              "    </tr>\n",
              "    <tr>\n",
              "      <th>2</th>\n",
              "      <td>2</td>\n",
              "      <td>dsl_data/audio/speakers/2BqVo8kVB2Skwgyb/1d9f3...</td>\n",
              "      <td>2BqVo8kVB2Skwgyb</td>\n",
              "      <td>deactivate</td>\n",
              "      <td>lights</td>\n",
              "      <td>advanced</td>\n",
              "      <td>English (United States)</td>\n",
              "      <td>English (United States)</td>\n",
              "      <td>female</td>\n",
              "      <td>22-40</td>\n",
              "    </tr>\n",
              "    <tr>\n",
              "      <th>3</th>\n",
              "      <td>3</td>\n",
              "      <td>dsl_data/audio/speakers/2BqVo8kVB2Skwgyb/269fc...</td>\n",
              "      <td>2BqVo8kVB2Skwgyb</td>\n",
              "      <td>increase</td>\n",
              "      <td>volume</td>\n",
              "      <td>advanced</td>\n",
              "      <td>English (United States)</td>\n",
              "      <td>English (United States)</td>\n",
              "      <td>female</td>\n",
              "      <td>22-40</td>\n",
              "    </tr>\n",
              "    <tr>\n",
              "      <th>4</th>\n",
              "      <td>4</td>\n",
              "      <td>dsl_data/audio/speakers/2BqVo8kVB2Skwgyb/5bbda...</td>\n",
              "      <td>2BqVo8kVB2Skwgyb</td>\n",
              "      <td>increase</td>\n",
              "      <td>volume</td>\n",
              "      <td>advanced</td>\n",
              "      <td>English (United States)</td>\n",
              "      <td>English (United States)</td>\n",
              "      <td>female</td>\n",
              "      <td>22-40</td>\n",
              "    </tr>\n",
              "    <tr>\n",
              "      <th>...</th>\n",
              "      <td>...</td>\n",
              "      <td>...</td>\n",
              "      <td>...</td>\n",
              "      <td>...</td>\n",
              "      <td>...</td>\n",
              "      <td>...</td>\n",
              "      <td>...</td>\n",
              "      <td>...</td>\n",
              "      <td>...</td>\n",
              "      <td>...</td>\n",
              "    </tr>\n",
              "    <tr>\n",
              "      <th>9849</th>\n",
              "      <td>9849</td>\n",
              "      <td>dsl_data/audio/speakers/vnljypgejkINbBAY/4fb3d...</td>\n",
              "      <td>vnljypgejkINbBAY</td>\n",
              "      <td>decrease</td>\n",
              "      <td>volume</td>\n",
              "      <td>native</td>\n",
              "      <td>English (United States)</td>\n",
              "      <td>English (United States)</td>\n",
              "      <td>male</td>\n",
              "      <td>22-40</td>\n",
              "    </tr>\n",
              "    <tr>\n",
              "      <th>9850</th>\n",
              "      <td>9850</td>\n",
              "      <td>dsl_data/audio/speakers/vnljypgejkINbBAY/59e6a...</td>\n",
              "      <td>vnljypgejkINbBAY</td>\n",
              "      <td>deactivate</td>\n",
              "      <td>lights</td>\n",
              "      <td>native</td>\n",
              "      <td>English (United States)</td>\n",
              "      <td>English (United States)</td>\n",
              "      <td>male</td>\n",
              "      <td>22-40</td>\n",
              "    </tr>\n",
              "    <tr>\n",
              "      <th>9851</th>\n",
              "      <td>9851</td>\n",
              "      <td>dsl_data/audio/speakers/vnljypgejkINbBAY/5c81c...</td>\n",
              "      <td>vnljypgejkINbBAY</td>\n",
              "      <td>deactivate</td>\n",
              "      <td>lights</td>\n",
              "      <td>native</td>\n",
              "      <td>English (United States)</td>\n",
              "      <td>English (United States)</td>\n",
              "      <td>male</td>\n",
              "      <td>22-40</td>\n",
              "    </tr>\n",
              "    <tr>\n",
              "      <th>9852</th>\n",
              "      <td>9852</td>\n",
              "      <td>dsl_data/audio/speakers/vnljypgejkINbBAY/5ef42...</td>\n",
              "      <td>vnljypgejkINbBAY</td>\n",
              "      <td>deactivate</td>\n",
              "      <td>lights</td>\n",
              "      <td>native</td>\n",
              "      <td>English (United States)</td>\n",
              "      <td>English (United States)</td>\n",
              "      <td>male</td>\n",
              "      <td>22-40</td>\n",
              "    </tr>\n",
              "    <tr>\n",
              "      <th>9853</th>\n",
              "      <td>9853</td>\n",
              "      <td>dsl_data/audio/speakers/vnljypgejkINbBAY/61b7a...</td>\n",
              "      <td>vnljypgejkINbBAY</td>\n",
              "      <td>increase</td>\n",
              "      <td>volume</td>\n",
              "      <td>native</td>\n",
              "      <td>English (United States)</td>\n",
              "      <td>English (United States)</td>\n",
              "      <td>male</td>\n",
              "      <td>22-40</td>\n",
              "    </tr>\n",
              "  </tbody>\n",
              "</table>\n",
              "<p>9854 rows × 10 columns</p>\n",
              "</div>\n",
              "      <button class=\"colab-df-convert\" onclick=\"convertToInteractive('df-10dc74e4-e016-456e-9674-8c948841d306')\"\n",
              "              title=\"Convert this dataframe to an interactive table.\"\n",
              "              style=\"display:none;\">\n",
              "        \n",
              "  <svg xmlns=\"http://www.w3.org/2000/svg\" height=\"24px\"viewBox=\"0 0 24 24\"\n",
              "       width=\"24px\">\n",
              "    <path d=\"M0 0h24v24H0V0z\" fill=\"none\"/>\n",
              "    <path d=\"M18.56 5.44l.94 2.06.94-2.06 2.06-.94-2.06-.94-.94-2.06-.94 2.06-2.06.94zm-11 1L8.5 8.5l.94-2.06 2.06-.94-2.06-.94L8.5 2.5l-.94 2.06-2.06.94zm10 10l.94 2.06.94-2.06 2.06-.94-2.06-.94-.94-2.06-.94 2.06-2.06.94z\"/><path d=\"M17.41 7.96l-1.37-1.37c-.4-.4-.92-.59-1.43-.59-.52 0-1.04.2-1.43.59L10.3 9.45l-7.72 7.72c-.78.78-.78 2.05 0 2.83L4 21.41c.39.39.9.59 1.41.59.51 0 1.02-.2 1.41-.59l7.78-7.78 2.81-2.81c.8-.78.8-2.07 0-2.86zM5.41 20L4 18.59l7.72-7.72 1.47 1.35L5.41 20z\"/>\n",
              "  </svg>\n",
              "      </button>\n",
              "      \n",
              "  <style>\n",
              "    .colab-df-container {\n",
              "      display:flex;\n",
              "      flex-wrap:wrap;\n",
              "      gap: 12px;\n",
              "    }\n",
              "\n",
              "    .colab-df-convert {\n",
              "      background-color: #E8F0FE;\n",
              "      border: none;\n",
              "      border-radius: 50%;\n",
              "      cursor: pointer;\n",
              "      display: none;\n",
              "      fill: #1967D2;\n",
              "      height: 32px;\n",
              "      padding: 0 0 0 0;\n",
              "      width: 32px;\n",
              "    }\n",
              "\n",
              "    .colab-df-convert:hover {\n",
              "      background-color: #E2EBFA;\n",
              "      box-shadow: 0px 1px 2px rgba(60, 64, 67, 0.3), 0px 1px 3px 1px rgba(60, 64, 67, 0.15);\n",
              "      fill: #174EA6;\n",
              "    }\n",
              "\n",
              "    [theme=dark] .colab-df-convert {\n",
              "      background-color: #3B4455;\n",
              "      fill: #D2E3FC;\n",
              "    }\n",
              "\n",
              "    [theme=dark] .colab-df-convert:hover {\n",
              "      background-color: #434B5C;\n",
              "      box-shadow: 0px 1px 3px 1px rgba(0, 0, 0, 0.15);\n",
              "      filter: drop-shadow(0px 1px 2px rgba(0, 0, 0, 0.3));\n",
              "      fill: #FFFFFF;\n",
              "    }\n",
              "  </style>\n",
              "\n",
              "      <script>\n",
              "        const buttonEl =\n",
              "          document.querySelector('#df-10dc74e4-e016-456e-9674-8c948841d306 button.colab-df-convert');\n",
              "        buttonEl.style.display =\n",
              "          google.colab.kernel.accessAllowed ? 'block' : 'none';\n",
              "\n",
              "        async function convertToInteractive(key) {\n",
              "          const element = document.querySelector('#df-10dc74e4-e016-456e-9674-8c948841d306');\n",
              "          const dataTable =\n",
              "            await google.colab.kernel.invokeFunction('convertToInteractive',\n",
              "                                                     [key], {});\n",
              "          if (!dataTable) return;\n",
              "\n",
              "          const docLinkHtml = 'Like what you see? Visit the ' +\n",
              "            '<a target=\"_blank\" href=https://colab.research.google.com/notebooks/data_table.ipynb>data table notebook</a>'\n",
              "            + ' to learn more about interactive tables.';\n",
              "          element.innerHTML = '';\n",
              "          dataTable['output_type'] = 'display_data';\n",
              "          await google.colab.output.renderOutput(dataTable, element);\n",
              "          const docLink = document.createElement('div');\n",
              "          docLink.innerHTML = docLinkHtml;\n",
              "          element.appendChild(docLink);\n",
              "        }\n",
              "      </script>\n",
              "    </div>\n",
              "  </div>\n",
              "  "
            ]
          },
          "metadata": {},
          "execution_count": 7
        }
      ],
      "source": [
        "colab = True\n",
        "\n",
        "if colab == True:\n",
        "  path= r'/content/development.csv'\n",
        "else:\n",
        "  path = r'C:/Users/andre/OneDrive/Documenti/GitHub/winter_exam_22_23/development.csv'\n",
        "\n",
        "df_development = pd.read_csv(path)\n",
        "df_development"
      ]
    },
    {
      "cell_type": "code",
      "execution_count": 8,
      "id": "140e6e8a",
      "metadata": {
        "colab": {
          "base_uri": "https://localhost:8080/"
        },
        "id": "140e6e8a",
        "outputId": "3877c83e-e7f8-425a-8391-4ec61aeaa169"
      },
      "outputs": [
        {
          "output_type": "execute_result",
          "data": {
            "text/plain": [
              "(increase           3823\n",
              " decrease           3575\n",
              " change language    1113\n",
              " activate            791\n",
              " deactivate          552\n",
              " Name: action, dtype: int64, volume    5000\n",
              " heat      2398\n",
              " none      1113\n",
              " music      791\n",
              " lights     552\n",
              " Name: object, dtype: int64)"
            ]
          },
          "metadata": {},
          "execution_count": 8
        }
      ],
      "source": [
        "#Evlauate balancement of dataset\n",
        "df_development.action.value_counts(), df_development.object.value_counts()"
      ]
    },
    {
      "cell_type": "markdown",
      "id": "53b56d05",
      "metadata": {
        "id": "53b56d05"
      },
      "source": [
        "### Evaluate all the existing combinations in the dataset"
      ]
    },
    {
      "cell_type": "code",
      "execution_count": 9,
      "id": "993246fe",
      "metadata": {
        "scrolled": true,
        "colab": {
          "base_uri": "https://localhost:8080/"
        },
        "id": "993246fe",
        "outputId": "a9394f3e-795c-4883-e05f-7935a5921ca1"
      },
      "outputs": [
        {
          "output_type": "execute_result",
          "data": {
            "text/plain": [
              "volume    2614\n",
              "heat      1209\n",
              "Name: object, dtype: int64"
            ]
          },
          "metadata": {},
          "execution_count": 9
        }
      ],
      "source": [
        "#Evaluate all the existing combinations in the dataset\n",
        "df_increase = df_development[df_development['action']=='increase']\n",
        "df_increase.object.value_counts()"
      ]
    },
    {
      "cell_type": "code",
      "execution_count": 10,
      "id": "24844531",
      "metadata": {
        "colab": {
          "base_uri": "https://localhost:8080/"
        },
        "id": "24844531",
        "outputId": "39a995e1-a676-4c99-88f2-0e5ca3915755"
      },
      "outputs": [
        {
          "output_type": "execute_result",
          "data": {
            "text/plain": [
              "volume    2386\n",
              "heat      1189\n",
              "Name: object, dtype: int64"
            ]
          },
          "metadata": {},
          "execution_count": 10
        }
      ],
      "source": [
        "#Evaluate all the existing combinations in the dataset\n",
        "df_decrease = df_development[df_development['action']=='decrease']\n",
        "df_decrease.object.value_counts()"
      ]
    },
    {
      "cell_type": "code",
      "execution_count": 11,
      "id": "7beb2908",
      "metadata": {
        "colab": {
          "base_uri": "https://localhost:8080/"
        },
        "id": "7beb2908",
        "outputId": "50b4497f-61f9-4479-bb53-d56b6cf30653"
      },
      "outputs": [
        {
          "output_type": "execute_result",
          "data": {
            "text/plain": [
              "none    1113\n",
              "Name: object, dtype: int64"
            ]
          },
          "metadata": {},
          "execution_count": 11
        }
      ],
      "source": [
        "#Evaluate all the existing combinations in the dataset\n",
        "df_change_language = df_development[df_development['action']=='change language']\n",
        "df_change_language.object.value_counts()"
      ]
    },
    {
      "cell_type": "code",
      "execution_count": 12,
      "id": "8cc46411",
      "metadata": {
        "colab": {
          "base_uri": "https://localhost:8080/"
        },
        "id": "8cc46411",
        "outputId": "8de1b7e6-ce02-438e-9d50-5ed71ee15b81"
      },
      "outputs": [
        {
          "output_type": "execute_result",
          "data": {
            "text/plain": [
              "music    791\n",
              "Name: object, dtype: int64"
            ]
          },
          "metadata": {},
          "execution_count": 12
        }
      ],
      "source": [
        "#Evaluate all the existing combinations in the dataset\n",
        "df_activate = df_development[df_development['action']=='activate']\n",
        "df_activate.object.value_counts()"
      ]
    },
    {
      "cell_type": "code",
      "execution_count": 13,
      "id": "13c551f7",
      "metadata": {
        "colab": {
          "base_uri": "https://localhost:8080/"
        },
        "id": "13c551f7",
        "outputId": "ad9923bf-aded-43b2-ccc7-709ab78831e0"
      },
      "outputs": [
        {
          "output_type": "execute_result",
          "data": {
            "text/plain": [
              "lights    552\n",
              "Name: object, dtype: int64"
            ]
          },
          "metadata": {},
          "execution_count": 13
        }
      ],
      "source": [
        "#Evaluate all the existing combinations in the dataset\n",
        "df_deactivate = df_development[df_development['action']=='deactivate']\n",
        "df_deactivate.object.value_counts()"
      ]
    },
    {
      "cell_type": "markdown",
      "id": "31ce189b",
      "metadata": {
        "id": "31ce189b"
      },
      "source": [
        "Combinations of actions expressed by humans in the dataset found are the following:\n",
        "1. increase volume\n",
        "2. increase heat\n",
        "3. decrease volume\n",
        "4. decrease heat\n",
        "5. change language\n",
        "6. activate music\n",
        "7. deactivate lights\n",
        "\n",
        "According to this, starting from this dataset a new one can be generated containing the audio file with the corresponding label aside referring to the desired action."
      ]
    },
    {
      "cell_type": "markdown",
      "id": "ca1bc2a3",
      "metadata": {
        "id": "ca1bc2a3"
      },
      "source": [
        "### Creating new training dataset\n",
        "Add a column called labels where in correspondance of each combination has the respective label (ex. if the row has action=increase and object=heat has label 1)"
      ]
    },
    {
      "cell_type": "code",
      "execution_count": 14,
      "id": "6c75037c",
      "metadata": {
        "colab": {
          "base_uri": "https://localhost:8080/",
          "height": 886
        },
        "id": "6c75037c",
        "outputId": "d4410b33-8733-408b-b8bd-333f831c155c"
      },
      "outputs": [
        {
          "output_type": "execute_result",
          "data": {
            "text/plain": [
              "        Id                                               path  \\\n",
              "0        0  dsl_data/audio/speakers/2BqVo8kVB2Skwgyb/0a312...   \n",
              "1        1  dsl_data/audio/speakers/2BqVo8kVB2Skwgyb/0ee42...   \n",
              "2        2  dsl_data/audio/speakers/2BqVo8kVB2Skwgyb/1d9f3...   \n",
              "3        3  dsl_data/audio/speakers/2BqVo8kVB2Skwgyb/269fc...   \n",
              "4        4  dsl_data/audio/speakers/2BqVo8kVB2Skwgyb/5bbda...   \n",
              "...    ...                                                ...   \n",
              "9849  9849  dsl_data/audio/speakers/vnljypgejkINbBAY/4fb3d...   \n",
              "9850  9850  dsl_data/audio/speakers/vnljypgejkINbBAY/59e6a...   \n",
              "9851  9851  dsl_data/audio/speakers/vnljypgejkINbBAY/5c81c...   \n",
              "9852  9852  dsl_data/audio/speakers/vnljypgejkINbBAY/5ef42...   \n",
              "9853  9853  dsl_data/audio/speakers/vnljypgejkINbBAY/61b7a...   \n",
              "\n",
              "             speakerId           action  object Self-reported fluency level   \\\n",
              "0     2BqVo8kVB2Skwgyb  change language    none                     advanced   \n",
              "1     2BqVo8kVB2Skwgyb         activate   music                     advanced   \n",
              "2     2BqVo8kVB2Skwgyb       deactivate  lights                     advanced   \n",
              "3     2BqVo8kVB2Skwgyb         increase  volume                     advanced   \n",
              "4     2BqVo8kVB2Skwgyb         increase  volume                     advanced   \n",
              "...                ...              ...     ...                          ...   \n",
              "9849  vnljypgejkINbBAY         decrease  volume                       native   \n",
              "9850  vnljypgejkINbBAY       deactivate  lights                       native   \n",
              "9851  vnljypgejkINbBAY       deactivate  lights                       native   \n",
              "9852  vnljypgejkINbBAY       deactivate  lights                       native   \n",
              "9853  vnljypgejkINbBAY         increase  volume                       native   \n",
              "\n",
              "        First Language spoken Current language used for work/school  gender  \\\n",
              "0     English (United States)               English (United States)  female   \n",
              "1     English (United States)               English (United States)  female   \n",
              "2     English (United States)               English (United States)  female   \n",
              "3     English (United States)               English (United States)  female   \n",
              "4     English (United States)               English (United States)  female   \n",
              "...                       ...                                   ...     ...   \n",
              "9849  English (United States)               English (United States)    male   \n",
              "9850  English (United States)               English (United States)    male   \n",
              "9851  English (United States)               English (United States)    male   \n",
              "9852  English (United States)               English (United States)    male   \n",
              "9853  English (United States)               English (United States)    male   \n",
              "\n",
              "     ageRange               labels  \n",
              "0       22-40  change languagenone  \n",
              "1       22-40        activatemusic  \n",
              "2       22-40     deactivatelights  \n",
              "3       22-40       increasevolume  \n",
              "4       22-40       increasevolume  \n",
              "...       ...                  ...  \n",
              "9849    22-40       decreasevolume  \n",
              "9850    22-40     deactivatelights  \n",
              "9851    22-40     deactivatelights  \n",
              "9852    22-40     deactivatelights  \n",
              "9853    22-40       increasevolume  \n",
              "\n",
              "[9854 rows x 11 columns]"
            ],
            "text/html": [
              "\n",
              "  <div id=\"df-7e5badee-1bf1-4694-9f22-4a921f1f71c9\">\n",
              "    <div class=\"colab-df-container\">\n",
              "      <div>\n",
              "<style scoped>\n",
              "    .dataframe tbody tr th:only-of-type {\n",
              "        vertical-align: middle;\n",
              "    }\n",
              "\n",
              "    .dataframe tbody tr th {\n",
              "        vertical-align: top;\n",
              "    }\n",
              "\n",
              "    .dataframe thead th {\n",
              "        text-align: right;\n",
              "    }\n",
              "</style>\n",
              "<table border=\"1\" class=\"dataframe\">\n",
              "  <thead>\n",
              "    <tr style=\"text-align: right;\">\n",
              "      <th></th>\n",
              "      <th>Id</th>\n",
              "      <th>path</th>\n",
              "      <th>speakerId</th>\n",
              "      <th>action</th>\n",
              "      <th>object</th>\n",
              "      <th>Self-reported fluency level</th>\n",
              "      <th>First Language spoken</th>\n",
              "      <th>Current language used for work/school</th>\n",
              "      <th>gender</th>\n",
              "      <th>ageRange</th>\n",
              "      <th>labels</th>\n",
              "    </tr>\n",
              "  </thead>\n",
              "  <tbody>\n",
              "    <tr>\n",
              "      <th>0</th>\n",
              "      <td>0</td>\n",
              "      <td>dsl_data/audio/speakers/2BqVo8kVB2Skwgyb/0a312...</td>\n",
              "      <td>2BqVo8kVB2Skwgyb</td>\n",
              "      <td>change language</td>\n",
              "      <td>none</td>\n",
              "      <td>advanced</td>\n",
              "      <td>English (United States)</td>\n",
              "      <td>English (United States)</td>\n",
              "      <td>female</td>\n",
              "      <td>22-40</td>\n",
              "      <td>change languagenone</td>\n",
              "    </tr>\n",
              "    <tr>\n",
              "      <th>1</th>\n",
              "      <td>1</td>\n",
              "      <td>dsl_data/audio/speakers/2BqVo8kVB2Skwgyb/0ee42...</td>\n",
              "      <td>2BqVo8kVB2Skwgyb</td>\n",
              "      <td>activate</td>\n",
              "      <td>music</td>\n",
              "      <td>advanced</td>\n",
              "      <td>English (United States)</td>\n",
              "      <td>English (United States)</td>\n",
              "      <td>female</td>\n",
              "      <td>22-40</td>\n",
              "      <td>activatemusic</td>\n",
              "    </tr>\n",
              "    <tr>\n",
              "      <th>2</th>\n",
              "      <td>2</td>\n",
              "      <td>dsl_data/audio/speakers/2BqVo8kVB2Skwgyb/1d9f3...</td>\n",
              "      <td>2BqVo8kVB2Skwgyb</td>\n",
              "      <td>deactivate</td>\n",
              "      <td>lights</td>\n",
              "      <td>advanced</td>\n",
              "      <td>English (United States)</td>\n",
              "      <td>English (United States)</td>\n",
              "      <td>female</td>\n",
              "      <td>22-40</td>\n",
              "      <td>deactivatelights</td>\n",
              "    </tr>\n",
              "    <tr>\n",
              "      <th>3</th>\n",
              "      <td>3</td>\n",
              "      <td>dsl_data/audio/speakers/2BqVo8kVB2Skwgyb/269fc...</td>\n",
              "      <td>2BqVo8kVB2Skwgyb</td>\n",
              "      <td>increase</td>\n",
              "      <td>volume</td>\n",
              "      <td>advanced</td>\n",
              "      <td>English (United States)</td>\n",
              "      <td>English (United States)</td>\n",
              "      <td>female</td>\n",
              "      <td>22-40</td>\n",
              "      <td>increasevolume</td>\n",
              "    </tr>\n",
              "    <tr>\n",
              "      <th>4</th>\n",
              "      <td>4</td>\n",
              "      <td>dsl_data/audio/speakers/2BqVo8kVB2Skwgyb/5bbda...</td>\n",
              "      <td>2BqVo8kVB2Skwgyb</td>\n",
              "      <td>increase</td>\n",
              "      <td>volume</td>\n",
              "      <td>advanced</td>\n",
              "      <td>English (United States)</td>\n",
              "      <td>English (United States)</td>\n",
              "      <td>female</td>\n",
              "      <td>22-40</td>\n",
              "      <td>increasevolume</td>\n",
              "    </tr>\n",
              "    <tr>\n",
              "      <th>...</th>\n",
              "      <td>...</td>\n",
              "      <td>...</td>\n",
              "      <td>...</td>\n",
              "      <td>...</td>\n",
              "      <td>...</td>\n",
              "      <td>...</td>\n",
              "      <td>...</td>\n",
              "      <td>...</td>\n",
              "      <td>...</td>\n",
              "      <td>...</td>\n",
              "      <td>...</td>\n",
              "    </tr>\n",
              "    <tr>\n",
              "      <th>9849</th>\n",
              "      <td>9849</td>\n",
              "      <td>dsl_data/audio/speakers/vnljypgejkINbBAY/4fb3d...</td>\n",
              "      <td>vnljypgejkINbBAY</td>\n",
              "      <td>decrease</td>\n",
              "      <td>volume</td>\n",
              "      <td>native</td>\n",
              "      <td>English (United States)</td>\n",
              "      <td>English (United States)</td>\n",
              "      <td>male</td>\n",
              "      <td>22-40</td>\n",
              "      <td>decreasevolume</td>\n",
              "    </tr>\n",
              "    <tr>\n",
              "      <th>9850</th>\n",
              "      <td>9850</td>\n",
              "      <td>dsl_data/audio/speakers/vnljypgejkINbBAY/59e6a...</td>\n",
              "      <td>vnljypgejkINbBAY</td>\n",
              "      <td>deactivate</td>\n",
              "      <td>lights</td>\n",
              "      <td>native</td>\n",
              "      <td>English (United States)</td>\n",
              "      <td>English (United States)</td>\n",
              "      <td>male</td>\n",
              "      <td>22-40</td>\n",
              "      <td>deactivatelights</td>\n",
              "    </tr>\n",
              "    <tr>\n",
              "      <th>9851</th>\n",
              "      <td>9851</td>\n",
              "      <td>dsl_data/audio/speakers/vnljypgejkINbBAY/5c81c...</td>\n",
              "      <td>vnljypgejkINbBAY</td>\n",
              "      <td>deactivate</td>\n",
              "      <td>lights</td>\n",
              "      <td>native</td>\n",
              "      <td>English (United States)</td>\n",
              "      <td>English (United States)</td>\n",
              "      <td>male</td>\n",
              "      <td>22-40</td>\n",
              "      <td>deactivatelights</td>\n",
              "    </tr>\n",
              "    <tr>\n",
              "      <th>9852</th>\n",
              "      <td>9852</td>\n",
              "      <td>dsl_data/audio/speakers/vnljypgejkINbBAY/5ef42...</td>\n",
              "      <td>vnljypgejkINbBAY</td>\n",
              "      <td>deactivate</td>\n",
              "      <td>lights</td>\n",
              "      <td>native</td>\n",
              "      <td>English (United States)</td>\n",
              "      <td>English (United States)</td>\n",
              "      <td>male</td>\n",
              "      <td>22-40</td>\n",
              "      <td>deactivatelights</td>\n",
              "    </tr>\n",
              "    <tr>\n",
              "      <th>9853</th>\n",
              "      <td>9853</td>\n",
              "      <td>dsl_data/audio/speakers/vnljypgejkINbBAY/61b7a...</td>\n",
              "      <td>vnljypgejkINbBAY</td>\n",
              "      <td>increase</td>\n",
              "      <td>volume</td>\n",
              "      <td>native</td>\n",
              "      <td>English (United States)</td>\n",
              "      <td>English (United States)</td>\n",
              "      <td>male</td>\n",
              "      <td>22-40</td>\n",
              "      <td>increasevolume</td>\n",
              "    </tr>\n",
              "  </tbody>\n",
              "</table>\n",
              "<p>9854 rows × 11 columns</p>\n",
              "</div>\n",
              "      <button class=\"colab-df-convert\" onclick=\"convertToInteractive('df-7e5badee-1bf1-4694-9f22-4a921f1f71c9')\"\n",
              "              title=\"Convert this dataframe to an interactive table.\"\n",
              "              style=\"display:none;\">\n",
              "        \n",
              "  <svg xmlns=\"http://www.w3.org/2000/svg\" height=\"24px\"viewBox=\"0 0 24 24\"\n",
              "       width=\"24px\">\n",
              "    <path d=\"M0 0h24v24H0V0z\" fill=\"none\"/>\n",
              "    <path d=\"M18.56 5.44l.94 2.06.94-2.06 2.06-.94-2.06-.94-.94-2.06-.94 2.06-2.06.94zm-11 1L8.5 8.5l.94-2.06 2.06-.94-2.06-.94L8.5 2.5l-.94 2.06-2.06.94zm10 10l.94 2.06.94-2.06 2.06-.94-2.06-.94-.94-2.06-.94 2.06-2.06.94z\"/><path d=\"M17.41 7.96l-1.37-1.37c-.4-.4-.92-.59-1.43-.59-.52 0-1.04.2-1.43.59L10.3 9.45l-7.72 7.72c-.78.78-.78 2.05 0 2.83L4 21.41c.39.39.9.59 1.41.59.51 0 1.02-.2 1.41-.59l7.78-7.78 2.81-2.81c.8-.78.8-2.07 0-2.86zM5.41 20L4 18.59l7.72-7.72 1.47 1.35L5.41 20z\"/>\n",
              "  </svg>\n",
              "      </button>\n",
              "      \n",
              "  <style>\n",
              "    .colab-df-container {\n",
              "      display:flex;\n",
              "      flex-wrap:wrap;\n",
              "      gap: 12px;\n",
              "    }\n",
              "\n",
              "    .colab-df-convert {\n",
              "      background-color: #E8F0FE;\n",
              "      border: none;\n",
              "      border-radius: 50%;\n",
              "      cursor: pointer;\n",
              "      display: none;\n",
              "      fill: #1967D2;\n",
              "      height: 32px;\n",
              "      padding: 0 0 0 0;\n",
              "      width: 32px;\n",
              "    }\n",
              "\n",
              "    .colab-df-convert:hover {\n",
              "      background-color: #E2EBFA;\n",
              "      box-shadow: 0px 1px 2px rgba(60, 64, 67, 0.3), 0px 1px 3px 1px rgba(60, 64, 67, 0.15);\n",
              "      fill: #174EA6;\n",
              "    }\n",
              "\n",
              "    [theme=dark] .colab-df-convert {\n",
              "      background-color: #3B4455;\n",
              "      fill: #D2E3FC;\n",
              "    }\n",
              "\n",
              "    [theme=dark] .colab-df-convert:hover {\n",
              "      background-color: #434B5C;\n",
              "      box-shadow: 0px 1px 3px 1px rgba(0, 0, 0, 0.15);\n",
              "      filter: drop-shadow(0px 1px 2px rgba(0, 0, 0, 0.3));\n",
              "      fill: #FFFFFF;\n",
              "    }\n",
              "  </style>\n",
              "\n",
              "      <script>\n",
              "        const buttonEl =\n",
              "          document.querySelector('#df-7e5badee-1bf1-4694-9f22-4a921f1f71c9 button.colab-df-convert');\n",
              "        buttonEl.style.display =\n",
              "          google.colab.kernel.accessAllowed ? 'block' : 'none';\n",
              "\n",
              "        async function convertToInteractive(key) {\n",
              "          const element = document.querySelector('#df-7e5badee-1bf1-4694-9f22-4a921f1f71c9');\n",
              "          const dataTable =\n",
              "            await google.colab.kernel.invokeFunction('convertToInteractive',\n",
              "                                                     [key], {});\n",
              "          if (!dataTable) return;\n",
              "\n",
              "          const docLinkHtml = 'Like what you see? Visit the ' +\n",
              "            '<a target=\"_blank\" href=https://colab.research.google.com/notebooks/data_table.ipynb>data table notebook</a>'\n",
              "            + ' to learn more about interactive tables.';\n",
              "          element.innerHTML = '';\n",
              "          dataTable['output_type'] = 'display_data';\n",
              "          await google.colab.output.renderOutput(dataTable, element);\n",
              "          const docLink = document.createElement('div');\n",
              "          docLink.innerHTML = docLinkHtml;\n",
              "          element.appendChild(docLink);\n",
              "        }\n",
              "      </script>\n",
              "    </div>\n",
              "  </div>\n",
              "  "
            ]
          },
          "metadata": {},
          "execution_count": 14
        }
      ],
      "source": [
        "#df_development_increase_volume = df_development.loc[(df_development['action'] == 'increase') & (df_development['object'] == 'volume')]\n",
        "df_development['labels']=0\n",
        "\n",
        "#df_development_increase_volume = df_development.loc[(df_development['action'] == 'increase') & (df_development['object'] == 'volume')]\n",
        "df_development.loc[(df_development['action'] == 'increase') & (df_development['object'] == 'volume'), 'labels']='increasevolume'\n",
        "df_development.loc[(df_development['action'] == 'increase') & (df_development['object'] == 'heat'), 'labels']='increaseheat'\n",
        "\n",
        "df_development.loc[(df_development['action'] == 'decrease') & (df_development['object'] == 'volume'), 'labels']='decreasevolume'\n",
        "df_development.loc[(df_development['action'] == 'decrease') & (df_development['object'] == 'heat'), 'labels']='decreaseheat'\n",
        "\n",
        "df_development.loc[(df_development['action'] == 'change language') & (df_development['object'] == 'none'), 'labels']='change languagenone'\n",
        "\n",
        "df_development.loc[(df_development['action'] == 'activate') & (df_development['object'] == 'music'), 'labels']='activatemusic'\n",
        "df_development.loc[(df_development['action'] == 'deactivate') & (df_development['object'] == 'lights'), 'labels']='deactivatelights'\n",
        "\n",
        "df_development\n",
        "#df_development.labels.value_counts() #check"
      ]
    },
    {
      "cell_type": "code",
      "execution_count": 15,
      "id": "6260f815",
      "metadata": {
        "id": "6260f815"
      },
      "outputs": [],
      "source": [
        "if colab == True:\n",
        "  path_working_directory= r'/content/drive/MyDrive/'\n",
        "else:\n",
        "  path_working_directory = r'C:/Users/andre/OneDrive/Documenti/GitHub/winter_exam_22_23'\n",
        "paths_recordings = df_development['path']"
      ]
    },
    {
      "cell_type": "code",
      "source": [
        "# signals = []\n",
        "# ids = []\n",
        "# genders = []\n",
        "# ageRanges = []\n",
        "# labels = []\n",
        "\n",
        "# for i, row in df_development.iterrows():\n",
        "#     path = row['path']\n",
        "#     gender = row['gender']\n",
        "#     ageRange = row['ageRange']\n",
        "#     label = row['labels']\n",
        "\n",
        "#     file_path = f'{path_working_directory}/{path}'\n",
        "#     print(file_path)\n",
        "#     signal, sr = librosa.load(file_path)\n",
        "\n",
        "#     ids.append(i)\n",
        "#     signals.append(signal)\n",
        "#     genders.append(gender)\n",
        "#     ageRanges.append(ageRange)\n",
        "#     labels.append(label)\n",
        "\n",
        "# df_pd = pd.DataFrame()\n",
        "# df_pd['Id'] = ids\n",
        "# df_pd['audio'] = signals\n",
        "# df_pd['gender'] = genders\n",
        "# df_pd['ageRange'] = ageRanges\n",
        "# df_pd['label'] = labels\n",
        "# df_pd"
      ],
      "metadata": {
        "id": "PvsKQV4xsF6K"
      },
      "id": "PvsKQV4xsF6K",
      "execution_count": 16,
      "outputs": []
    },
    {
      "cell_type": "code",
      "source": [
        "# ids"
      ],
      "metadata": {
        "id": "fSJI9871Mk7p"
      },
      "id": "fSJI9871Mk7p",
      "execution_count": 17,
      "outputs": []
    },
    {
      "cell_type": "markdown",
      "id": "d77cc0ad",
      "metadata": {
        "id": "d77cc0ad"
      },
      "source": [
        "Load pickle file."
      ]
    },
    {
      "cell_type": "code",
      "source": [
        "# df_pd"
      ],
      "metadata": {
        "id": "CWlf32-PMPcc"
      },
      "id": "CWlf32-PMPcc",
      "execution_count": 18,
      "outputs": []
    },
    {
      "cell_type": "code",
      "source": [
        "path_working_directory"
      ],
      "metadata": {
        "id": "kJ5THelHQBP2",
        "outputId": "1002bb1a-1e1a-4f38-df23-7e69b1fcc5e7",
        "colab": {
          "base_uri": "https://localhost:8080/",
          "height": 36
        }
      },
      "id": "kJ5THelHQBP2",
      "execution_count": 19,
      "outputs": [
        {
          "output_type": "execute_result",
          "data": {
            "text/plain": [
              "'/content/drive/MyDrive/'"
            ],
            "application/vnd.google.colaboratory.intrinsic+json": {
              "type": "string"
            }
          },
          "metadata": {},
          "execution_count": 19
        }
      ]
    },
    {
      "cell_type": "code",
      "source": [
        "# name_file = r'/df_pd.pickle'\n",
        "# print( path_working_directory+name_file)\n",
        "# with open(path_working_directory+name_file, \"wb\") as output_file:\n",
        "#     pickle.dump(df_pd, output_file)"
      ],
      "metadata": {
        "id": "FJdMXRvmP-DT"
      },
      "id": "FJdMXRvmP-DT",
      "execution_count": 20,
      "outputs": []
    },
    {
      "cell_type": "code",
      "execution_count": 21,
      "id": "299159e9",
      "metadata": {
        "id": "299159e9",
        "outputId": "f016e592-7a24-4d0b-f3d2-564070f71804",
        "colab": {
          "base_uri": "https://localhost:8080/",
          "height": 423
        }
      },
      "outputs": [
        {
          "output_type": "execute_result",
          "data": {
            "text/plain": [
              "        Id                                              audio  gender  \\\n",
              "0        0  [0.0, 0.0, 0.0, 0.0, 0.0, 0.0, 0.0, 0.0, 0.0, ...  female   \n",
              "1        1  [0.0, 0.0, 0.0, 0.0, 0.0, 0.0, 0.0, 0.0, 0.0, ...  female   \n",
              "2        2  [0.0, 0.0, 0.0, 0.0, 0.0, 0.0, 0.0, 0.0, 0.0, ...  female   \n",
              "3        3  [0.0, 0.0, 0.0, 0.0, 0.0, 0.0, 0.0, 0.0, 0.0, ...  female   \n",
              "4        4  [0.0, 0.0, 0.0, 0.0, 0.0, 0.0, 0.0, 0.0, 0.0, ...  female   \n",
              "...    ...                                                ...     ...   \n",
              "9849  9849  [0.009223618, 0.010777138, 0.009321626, 0.0099...    male   \n",
              "9850  9850  [0.00936052, 0.010867924, 0.009305291, 0.00991...    male   \n",
              "9851  9851  [0.0014334349, 0.001723074, 0.0015384919, 0.00...    male   \n",
              "9852  9852  [0.009742705, 0.011407773, 0.009794228, 0.0103...    male   \n",
              "9853  9853  [0.009512647, 0.011129991, 0.00956014, 0.01007...    male   \n",
              "\n",
              "     ageRange                label  \n",
              "0       22-40  change languagenone  \n",
              "1       22-40        activatemusic  \n",
              "2       22-40     deactivatelights  \n",
              "3       22-40       increasevolume  \n",
              "4       22-40       increasevolume  \n",
              "...       ...                  ...  \n",
              "9849    22-40       decreasevolume  \n",
              "9850    22-40     deactivatelights  \n",
              "9851    22-40     deactivatelights  \n",
              "9852    22-40     deactivatelights  \n",
              "9853    22-40       increasevolume  \n",
              "\n",
              "[9854 rows x 5 columns]"
            ],
            "text/html": [
              "\n",
              "  <div id=\"df-665178f5-dd7f-49f5-baef-7adc54786ae2\">\n",
              "    <div class=\"colab-df-container\">\n",
              "      <div>\n",
              "<style scoped>\n",
              "    .dataframe tbody tr th:only-of-type {\n",
              "        vertical-align: middle;\n",
              "    }\n",
              "\n",
              "    .dataframe tbody tr th {\n",
              "        vertical-align: top;\n",
              "    }\n",
              "\n",
              "    .dataframe thead th {\n",
              "        text-align: right;\n",
              "    }\n",
              "</style>\n",
              "<table border=\"1\" class=\"dataframe\">\n",
              "  <thead>\n",
              "    <tr style=\"text-align: right;\">\n",
              "      <th></th>\n",
              "      <th>Id</th>\n",
              "      <th>audio</th>\n",
              "      <th>gender</th>\n",
              "      <th>ageRange</th>\n",
              "      <th>label</th>\n",
              "    </tr>\n",
              "  </thead>\n",
              "  <tbody>\n",
              "    <tr>\n",
              "      <th>0</th>\n",
              "      <td>0</td>\n",
              "      <td>[0.0, 0.0, 0.0, 0.0, 0.0, 0.0, 0.0, 0.0, 0.0, ...</td>\n",
              "      <td>female</td>\n",
              "      <td>22-40</td>\n",
              "      <td>change languagenone</td>\n",
              "    </tr>\n",
              "    <tr>\n",
              "      <th>1</th>\n",
              "      <td>1</td>\n",
              "      <td>[0.0, 0.0, 0.0, 0.0, 0.0, 0.0, 0.0, 0.0, 0.0, ...</td>\n",
              "      <td>female</td>\n",
              "      <td>22-40</td>\n",
              "      <td>activatemusic</td>\n",
              "    </tr>\n",
              "    <tr>\n",
              "      <th>2</th>\n",
              "      <td>2</td>\n",
              "      <td>[0.0, 0.0, 0.0, 0.0, 0.0, 0.0, 0.0, 0.0, 0.0, ...</td>\n",
              "      <td>female</td>\n",
              "      <td>22-40</td>\n",
              "      <td>deactivatelights</td>\n",
              "    </tr>\n",
              "    <tr>\n",
              "      <th>3</th>\n",
              "      <td>3</td>\n",
              "      <td>[0.0, 0.0, 0.0, 0.0, 0.0, 0.0, 0.0, 0.0, 0.0, ...</td>\n",
              "      <td>female</td>\n",
              "      <td>22-40</td>\n",
              "      <td>increasevolume</td>\n",
              "    </tr>\n",
              "    <tr>\n",
              "      <th>4</th>\n",
              "      <td>4</td>\n",
              "      <td>[0.0, 0.0, 0.0, 0.0, 0.0, 0.0, 0.0, 0.0, 0.0, ...</td>\n",
              "      <td>female</td>\n",
              "      <td>22-40</td>\n",
              "      <td>increasevolume</td>\n",
              "    </tr>\n",
              "    <tr>\n",
              "      <th>...</th>\n",
              "      <td>...</td>\n",
              "      <td>...</td>\n",
              "      <td>...</td>\n",
              "      <td>...</td>\n",
              "      <td>...</td>\n",
              "    </tr>\n",
              "    <tr>\n",
              "      <th>9849</th>\n",
              "      <td>9849</td>\n",
              "      <td>[0.009223618, 0.010777138, 0.009321626, 0.0099...</td>\n",
              "      <td>male</td>\n",
              "      <td>22-40</td>\n",
              "      <td>decreasevolume</td>\n",
              "    </tr>\n",
              "    <tr>\n",
              "      <th>9850</th>\n",
              "      <td>9850</td>\n",
              "      <td>[0.00936052, 0.010867924, 0.009305291, 0.00991...</td>\n",
              "      <td>male</td>\n",
              "      <td>22-40</td>\n",
              "      <td>deactivatelights</td>\n",
              "    </tr>\n",
              "    <tr>\n",
              "      <th>9851</th>\n",
              "      <td>9851</td>\n",
              "      <td>[0.0014334349, 0.001723074, 0.0015384919, 0.00...</td>\n",
              "      <td>male</td>\n",
              "      <td>22-40</td>\n",
              "      <td>deactivatelights</td>\n",
              "    </tr>\n",
              "    <tr>\n",
              "      <th>9852</th>\n",
              "      <td>9852</td>\n",
              "      <td>[0.009742705, 0.011407773, 0.009794228, 0.0103...</td>\n",
              "      <td>male</td>\n",
              "      <td>22-40</td>\n",
              "      <td>deactivatelights</td>\n",
              "    </tr>\n",
              "    <tr>\n",
              "      <th>9853</th>\n",
              "      <td>9853</td>\n",
              "      <td>[0.009512647, 0.011129991, 0.00956014, 0.01007...</td>\n",
              "      <td>male</td>\n",
              "      <td>22-40</td>\n",
              "      <td>increasevolume</td>\n",
              "    </tr>\n",
              "  </tbody>\n",
              "</table>\n",
              "<p>9854 rows × 5 columns</p>\n",
              "</div>\n",
              "      <button class=\"colab-df-convert\" onclick=\"convertToInteractive('df-665178f5-dd7f-49f5-baef-7adc54786ae2')\"\n",
              "              title=\"Convert this dataframe to an interactive table.\"\n",
              "              style=\"display:none;\">\n",
              "        \n",
              "  <svg xmlns=\"http://www.w3.org/2000/svg\" height=\"24px\"viewBox=\"0 0 24 24\"\n",
              "       width=\"24px\">\n",
              "    <path d=\"M0 0h24v24H0V0z\" fill=\"none\"/>\n",
              "    <path d=\"M18.56 5.44l.94 2.06.94-2.06 2.06-.94-2.06-.94-.94-2.06-.94 2.06-2.06.94zm-11 1L8.5 8.5l.94-2.06 2.06-.94-2.06-.94L8.5 2.5l-.94 2.06-2.06.94zm10 10l.94 2.06.94-2.06 2.06-.94-2.06-.94-.94-2.06-.94 2.06-2.06.94z\"/><path d=\"M17.41 7.96l-1.37-1.37c-.4-.4-.92-.59-1.43-.59-.52 0-1.04.2-1.43.59L10.3 9.45l-7.72 7.72c-.78.78-.78 2.05 0 2.83L4 21.41c.39.39.9.59 1.41.59.51 0 1.02-.2 1.41-.59l7.78-7.78 2.81-2.81c.8-.78.8-2.07 0-2.86zM5.41 20L4 18.59l7.72-7.72 1.47 1.35L5.41 20z\"/>\n",
              "  </svg>\n",
              "      </button>\n",
              "      \n",
              "  <style>\n",
              "    .colab-df-container {\n",
              "      display:flex;\n",
              "      flex-wrap:wrap;\n",
              "      gap: 12px;\n",
              "    }\n",
              "\n",
              "    .colab-df-convert {\n",
              "      background-color: #E8F0FE;\n",
              "      border: none;\n",
              "      border-radius: 50%;\n",
              "      cursor: pointer;\n",
              "      display: none;\n",
              "      fill: #1967D2;\n",
              "      height: 32px;\n",
              "      padding: 0 0 0 0;\n",
              "      width: 32px;\n",
              "    }\n",
              "\n",
              "    .colab-df-convert:hover {\n",
              "      background-color: #E2EBFA;\n",
              "      box-shadow: 0px 1px 2px rgba(60, 64, 67, 0.3), 0px 1px 3px 1px rgba(60, 64, 67, 0.15);\n",
              "      fill: #174EA6;\n",
              "    }\n",
              "\n",
              "    [theme=dark] .colab-df-convert {\n",
              "      background-color: #3B4455;\n",
              "      fill: #D2E3FC;\n",
              "    }\n",
              "\n",
              "    [theme=dark] .colab-df-convert:hover {\n",
              "      background-color: #434B5C;\n",
              "      box-shadow: 0px 1px 3px 1px rgba(0, 0, 0, 0.15);\n",
              "      filter: drop-shadow(0px 1px 2px rgba(0, 0, 0, 0.3));\n",
              "      fill: #FFFFFF;\n",
              "    }\n",
              "  </style>\n",
              "\n",
              "      <script>\n",
              "        const buttonEl =\n",
              "          document.querySelector('#df-665178f5-dd7f-49f5-baef-7adc54786ae2 button.colab-df-convert');\n",
              "        buttonEl.style.display =\n",
              "          google.colab.kernel.accessAllowed ? 'block' : 'none';\n",
              "\n",
              "        async function convertToInteractive(key) {\n",
              "          const element = document.querySelector('#df-665178f5-dd7f-49f5-baef-7adc54786ae2');\n",
              "          const dataTable =\n",
              "            await google.colab.kernel.invokeFunction('convertToInteractive',\n",
              "                                                     [key], {});\n",
              "          if (!dataTable) return;\n",
              "\n",
              "          const docLinkHtml = 'Like what you see? Visit the ' +\n",
              "            '<a target=\"_blank\" href=https://colab.research.google.com/notebooks/data_table.ipynb>data table notebook</a>'\n",
              "            + ' to learn more about interactive tables.';\n",
              "          element.innerHTML = '';\n",
              "          dataTable['output_type'] = 'display_data';\n",
              "          await google.colab.output.renderOutput(dataTable, element);\n",
              "          const docLink = document.createElement('div');\n",
              "          docLink.innerHTML = docLinkHtml;\n",
              "          element.appendChild(docLink);\n",
              "        }\n",
              "      </script>\n",
              "    </div>\n",
              "  </div>\n",
              "  "
            ]
          },
          "metadata": {},
          "execution_count": 21
        }
      ],
      "source": [
        "name_file = r'/df_pd.pickle'\n",
        "\n",
        "with open(path_working_directory+name_file, 'rb') as f:\n",
        "        df_pd = pickle.load(f)\n",
        "df_pd\n",
        "#df_pd[9840:9845] ETICHETTATO COME FEMALE MA SECONDO ME E MALE"
      ]
    },
    {
      "cell_type": "markdown",
      "id": "ad37994b",
      "metadata": {
        "id": "ad37994b"
      },
      "source": [
        " \n",
        "$\\frac{n\\_samples}{sr} = seconds$\n",
        "\n",
        "$n\\_samples = seconds*sr$\n"
      ]
    },
    {
      "cell_type": "markdown",
      "id": "2ecc2011",
      "metadata": {
        "id": "2ecc2011"
      },
      "source": [
        "See distribution of audio length"
      ]
    },
    {
      "cell_type": "code",
      "execution_count": 22,
      "id": "135b02bb",
      "metadata": {
        "colab": {
          "base_uri": "https://localhost:8080/",
          "height": 747
        },
        "id": "135b02bb",
        "outputId": "2cbc4a34-ce95-4ac4-e468-59aefcaea307"
      },
      "outputs": [
        {
          "output_type": "execute_result",
          "data": {
            "text/plain": [
              "Text(0, 0.5, 'Count')"
            ]
          },
          "metadata": {},
          "execution_count": 22
        },
        {
          "output_type": "display_data",
          "data": {
            "text/plain": [
              "<Figure size 864x864 with 1 Axes>"
            ],
            "image/png": "[encoded data removed]"
          },
          "metadata": {
            "needs_background": "light"
          }
        }
      ],
      "source": [
        "sr = 22050\n",
        "length_audios = []\n",
        "length_audios_seconds = []\n",
        "indexes = []\n",
        "i = 0\n",
        "\n",
        "for item in df_pd.audio:\n",
        "    length_audios.append(len(item))\n",
        "    length_audios_seconds.append(len(item)/sr)\n",
        "#   Decomment if you are interested in retrieve indexes of audio within a specific range \n",
        "    # if len(item)/sr  >= 5 and len(item)/sr  <=7.5:\n",
        "    #     indexes.append(i)\n",
        "    i = i+1\n",
        "        \n",
        "\n",
        "length_audios=pd.Series(length_audios)\n",
        "length_audios_seconds = pd.Series(length_audios_seconds)\n",
        "#print(length_audios_seconds.value_counts())\n",
        "plt.figure(figsize=(12,12))\n",
        "plt.title(\"Original distribution of audios lenght (s)\")\n",
        "length_audios_seconds.hist()\n",
        "plt.xlabel(\"Time [s]\")\n",
        "plt.ylabel(\"Count\")\n",
        "#print(length_audios_seconds)\n"
      ]
    },
    {
      "cell_type": "code",
      "execution_count": null,
      "id": "49dc0779",
      "metadata": {
        "id": "49dc0779"
      },
      "outputs": [],
      "source": [
        "#indexes"
      ]
    },
    {
      "cell_type": "code",
      "execution_count": null,
      "id": "1b4430aa",
      "metadata": {
        "id": "1b4430aa"
      },
      "outputs": [],
      "source": [
        "# See info of audios within specific range\n",
        "#df_pd.iloc[indexes]"
      ]
    },
    {
      "cell_type": "code",
      "execution_count": null,
      "id": "45ca3f17",
      "metadata": {
        "id": "45ca3f17"
      },
      "outputs": [],
      "source": [
        "# index = 7123\n",
        "# path_audio = df_development.path[index]\n",
        "# path_working_directory+'/'+path_audio\n",
        "# ipd.Audio(df_pd['audio'][7123], rate=22050)"
      ]
    },
    {
      "cell_type": "markdown",
      "id": "c03ffa82",
      "metadata": {
        "id": "c03ffa82"
      },
      "source": [
        "### 2. Pre-Processing"
      ]
    },
    {
      "cell_type": "markdown",
      "id": "12ce9a7a",
      "metadata": {
        "id": "12ce9a7a"
      },
      "source": [
        "According to several papers focused on audio classification, VDA is among one of the most preprocessing techinque adopted which aims to trim all the silence parts away from audio files.\n",
        "\n",
        "To apply it, we will use _trim_ and _split_ librosa functions.\n",
        "\n",
        "- _trim_: cut silence frames at the beginning and in the end of an audio file.\n",
        "- _split_: saves the indexes (start, stop) of each non-silent frame in the audio file."
      ]
    },
    {
      "cell_type": "markdown",
      "id": "b8f3734b",
      "metadata": {
        "id": "b8f3734b"
      },
      "source": [
        "#### Trim"
      ]
    },
    {
      "cell_type": "code",
      "execution_count": 23,
      "id": "d01ba7a5",
      "metadata": {
        "colab": {
          "base_uri": "https://localhost:8080/",
          "height": 423
        },
        "id": "d01ba7a5",
        "outputId": "114b0c7f-de68-4ba3-8d1f-04d06c56d3fe"
      },
      "outputs": [
        {
          "output_type": "execute_result",
          "data": {
            "text/plain": [
              "        Id                                              audio  gender  \\\n",
              "0        0  [0.0, 0.0, 0.0, 0.0, 0.0, 0.0, 0.0, 0.0, 0.0, ...  female   \n",
              "1        1  [0.0, 0.0, 0.0, 0.0, 0.0, 0.0, 0.0, 0.0, 0.0, ...  female   \n",
              "2        2  [0.0, 0.0, 0.0, 0.0, 0.0, 0.0, 0.0, 0.0, 0.0, ...  female   \n",
              "3        3  [0.0, 0.0, 0.0, 0.0, 0.0, 0.0, 0.0, 0.0, 0.0, ...  female   \n",
              "4        4  [0.0, 0.0, 0.0, 0.0, 0.0, 0.0, 0.0, 0.0, 0.0, ...  female   \n",
              "...    ...                                                ...     ...   \n",
              "9849  9849  [0.009223618, 0.010777138, 0.009321626, 0.0099...    male   \n",
              "9850  9850  [0.00936052, 0.010867924, 0.009305291, 0.00991...    male   \n",
              "9851  9851  [0.0014334349, 0.001723074, 0.0015384919, 0.00...    male   \n",
              "9852  9852  [0.009742705, 0.011407773, 0.009794228, 0.0103...    male   \n",
              "9853  9853  [0.009512647, 0.011129991, 0.00956014, 0.01007...    male   \n",
              "\n",
              "     ageRange                label  \\\n",
              "0       22-40  change languagenone   \n",
              "1       22-40        activatemusic   \n",
              "2       22-40     deactivatelights   \n",
              "3       22-40       increasevolume   \n",
              "4       22-40       increasevolume   \n",
              "...       ...                  ...   \n",
              "9849    22-40       decreasevolume   \n",
              "9850    22-40     deactivatelights   \n",
              "9851    22-40     deactivatelights   \n",
              "9852    22-40     deactivatelights   \n",
              "9853    22-40       increasevolume   \n",
              "\n",
              "                                             audio_trim  \n",
              "0     [-0.0010869442, 6.950152e-05, 0.0010575794, 1....  \n",
              "1     [0.0005718688, 0.0005805124, 0.00058862584, 0....  \n",
              "2     [3.145638e-05, 3.0807154e-05, 2.8492566e-05, 3...  \n",
              "3     [0.0076071513, 0.008677023, 0.009811347, 0.010...  \n",
              "4     [4.5547e-06, 2.4867417e-05, 3.363467e-05, 3.05...  \n",
              "...                                                 ...  \n",
              "9849  [-0.012367419, -0.01213057, -0.011735419, -0.0...  \n",
              "9850  [-0.00086439366, 0.011530005, 0.0026797082, -0...  \n",
              "9851  [0.0048560956, -3.8896687e-05, -0.00041252645,...  \n",
              "9852  [0.003923648, 0.0039615026, 0.0041058823, 0.00...  \n",
              "9853  [-0.02300861, -0.022161294, -0.021594988, -0.0...  \n",
              "\n",
              "[9854 rows x 6 columns]"
            ],
            "text/html": [
              "\n",
              "  <div id=\"df-30aedf44-e53c-4fb5-b5f7-2048e943778d\">\n",
              "    <div class=\"colab-df-container\">\n",
              "      <div>\n",
              "<style scoped>\n",
              "    .dataframe tbody tr th:only-of-type {\n",
              "        vertical-align: middle;\n",
              "    }\n",
              "\n",
              "    .dataframe tbody tr th {\n",
              "        vertical-align: top;\n",
              "    }\n",
              "\n",
              "    .dataframe thead th {\n",
              "        text-align: right;\n",
              "    }\n",
              "</style>\n",
              "<table border=\"1\" class=\"dataframe\">\n",
              "  <thead>\n",
              "    <tr style=\"text-align: right;\">\n",
              "      <th></th>\n",
              "      <th>Id</th>\n",
              "      <th>audio</th>\n",
              "      <th>gender</th>\n",
              "      <th>ageRange</th>\n",
              "      <th>label</th>\n",
              "      <th>audio_trim</th>\n",
              "    </tr>\n",
              "  </thead>\n",
              "  <tbody>\n",
              "    <tr>\n",
              "      <th>0</th>\n",
              "      <td>0</td>\n",
              "      <td>[0.0, 0.0, 0.0, 0.0, 0.0, 0.0, 0.0, 0.0, 0.0, ...</td>\n",
              "      <td>female</td>\n",
              "      <td>22-40</td>\n",
              "      <td>change languagenone</td>\n",
              "      <td>[-0.0010869442, 6.950152e-05, 0.0010575794, 1....</td>\n",
              "    </tr>\n",
              "    <tr>\n",
              "      <th>1</th>\n",
              "      <td>1</td>\n",
              "      <td>[0.0, 0.0, 0.0, 0.0, 0.0, 0.0, 0.0, 0.0, 0.0, ...</td>\n",
              "      <td>female</td>\n",
              "      <td>22-40</td>\n",
              "      <td>activatemusic</td>\n",
              "      <td>[0.0005718688, 0.0005805124, 0.00058862584, 0....</td>\n",
              "    </tr>\n",
              "    <tr>\n",
              "      <th>2</th>\n",
              "      <td>2</td>\n",
              "      <td>[0.0, 0.0, 0.0, 0.0, 0.0, 0.0, 0.0, 0.0, 0.0, ...</td>\n",
              "      <td>female</td>\n",
              "      <td>22-40</td>\n",
              "      <td>deactivatelights</td>\n",
              "      <td>[3.145638e-05, 3.0807154e-05, 2.8492566e-05, 3...</td>\n",
              "    </tr>\n",
              "    <tr>\n",
              "      <th>3</th>\n",
              "      <td>3</td>\n",
              "      <td>[0.0, 0.0, 0.0, 0.0, 0.0, 0.0, 0.0, 0.0, 0.0, ...</td>\n",
              "      <td>female</td>\n",
              "      <td>22-40</td>\n",
              "      <td>increasevolume</td>\n",
              "      <td>[0.0076071513, 0.008677023, 0.009811347, 0.010...</td>\n",
              "    </tr>\n",
              "    <tr>\n",
              "      <th>4</th>\n",
              "      <td>4</td>\n",
              "      <td>[0.0, 0.0, 0.0, 0.0, 0.0, 0.0, 0.0, 0.0, 0.0, ...</td>\n",
              "      <td>female</td>\n",
              "      <td>22-40</td>\n",
              "      <td>increasevolume</td>\n",
              "      <td>[4.5547e-06, 2.4867417e-05, 3.363467e-05, 3.05...</td>\n",
              "    </tr>\n",
              "    <tr>\n",
              "      <th>...</th>\n",
              "      <td>...</td>\n",
              "      <td>...</td>\n",
              "      <td>...</td>\n",
              "      <td>...</td>\n",
              "      <td>...</td>\n",
              "      <td>...</td>\n",
              "    </tr>\n",
              "    <tr>\n",
              "      <th>9849</th>\n",
              "      <td>9849</td>\n",
              "      <td>[0.009223618, 0.010777138, 0.009321626, 0.0099...</td>\n",
              "      <td>male</td>\n",
              "      <td>22-40</td>\n",
              "      <td>decreasevolume</td>\n",
              "      <td>[-0.012367419, -0.01213057, -0.011735419, -0.0...</td>\n",
              "    </tr>\n",
              "    <tr>\n",
              "      <th>9850</th>\n",
              "      <td>9850</td>\n",
              "      <td>[0.00936052, 0.010867924, 0.009305291, 0.00991...</td>\n",
              "      <td>male</td>\n",
              "      <td>22-40</td>\n",
              "      <td>deactivatelights</td>\n",
              "      <td>[-0.00086439366, 0.011530005, 0.0026797082, -0...</td>\n",
              "    </tr>\n",
              "    <tr>\n",
              "      <th>9851</th>\n",
              "      <td>9851</td>\n",
              "      <td>[0.0014334349, 0.001723074, 0.0015384919, 0.00...</td>\n",
              "      <td>male</td>\n",
              "      <td>22-40</td>\n",
              "      <td>deactivatelights</td>\n",
              "      <td>[0.0048560956, -3.8896687e-05, -0.00041252645,...</td>\n",
              "    </tr>\n",
              "    <tr>\n",
              "      <th>9852</th>\n",
              "      <td>9852</td>\n",
              "      <td>[0.009742705, 0.011407773, 0.009794228, 0.0103...</td>\n",
              "      <td>male</td>\n",
              "      <td>22-40</td>\n",
              "      <td>deactivatelights</td>\n",
              "      <td>[0.003923648, 0.0039615026, 0.0041058823, 0.00...</td>\n",
              "    </tr>\n",
              "    <tr>\n",
              "      <th>9853</th>\n",
              "      <td>9853</td>\n",
              "      <td>[0.009512647, 0.011129991, 0.00956014, 0.01007...</td>\n",
              "      <td>male</td>\n",
              "      <td>22-40</td>\n",
              "      <td>increasevolume</td>\n",
              "      <td>[-0.02300861, -0.022161294, -0.021594988, -0.0...</td>\n",
              "    </tr>\n",
              "  </tbody>\n",
              "</table>\n",
              "<p>9854 rows × 6 columns</p>\n",
              "</div>\n",
              "      <button class=\"colab-df-convert\" onclick=\"convertToInteractive('df-30aedf44-e53c-4fb5-b5f7-2048e943778d')\"\n",
              "              title=\"Convert this dataframe to an interactive table.\"\n",
              "              style=\"display:none;\">\n",
              "        \n",
              "  <svg xmlns=\"http://www.w3.org/2000/svg\" height=\"24px\"viewBox=\"0 0 24 24\"\n",
              "       width=\"24px\">\n",
              "    <path d=\"M0 0h24v24H0V0z\" fill=\"none\"/>\n",
              "    <path d=\"M18.56 5.44l.94 2.06.94-2.06 2.06-.94-2.06-.94-.94-2.06-.94 2.06-2.06.94zm-11 1L8.5 8.5l.94-2.06 2.06-.94-2.06-.94L8.5 2.5l-.94 2.06-2.06.94zm10 10l.94 2.06.94-2.06 2.06-.94-2.06-.94-.94-2.06-.94 2.06-2.06.94z\"/><path d=\"M17.41 7.96l-1.37-1.37c-.4-.4-.92-.59-1.43-.59-.52 0-1.04.2-1.43.59L10.3 9.45l-7.72 7.72c-.78.78-.78 2.05 0 2.83L4 21.41c.39.39.9.59 1.41.59.51 0 1.02-.2 1.41-.59l7.78-7.78 2.81-2.81c.8-.78.8-2.07 0-2.86zM5.41 20L4 18.59l7.72-7.72 1.47 1.35L5.41 20z\"/>\n",
              "  </svg>\n",
              "      </button>\n",
              "      \n",
              "  <style>\n",
              "    .colab-df-container {\n",
              "      display:flex;\n",
              "      flex-wrap:wrap;\n",
              "      gap: 12px;\n",
              "    }\n",
              "\n",
              "    .colab-df-convert {\n",
              "      background-color: #E8F0FE;\n",
              "      border: none;\n",
              "      border-radius: 50%;\n",
              "      cursor: pointer;\n",
              "      display: none;\n",
              "      fill: #1967D2;\n",
              "      height: 32px;\n",
              "      padding: 0 0 0 0;\n",
              "      width: 32px;\n",
              "    }\n",
              "\n",
              "    .colab-df-convert:hover {\n",
              "      background-color: #E2EBFA;\n",
              "      box-shadow: 0px 1px 2px rgba(60, 64, 67, 0.3), 0px 1px 3px 1px rgba(60, 64, 67, 0.15);\n",
              "      fill: #174EA6;\n",
              "    }\n",
              "\n",
              "    [theme=dark] .colab-df-convert {\n",
              "      background-color: #3B4455;\n",
              "      fill: #D2E3FC;\n",
              "    }\n",
              "\n",
              "    [theme=dark] .colab-df-convert:hover {\n",
              "      background-color: #434B5C;\n",
              "      box-shadow: 0px 1px 3px 1px rgba(0, 0, 0, 0.15);\n",
              "      filter: drop-shadow(0px 1px 2px rgba(0, 0, 0, 0.3));\n",
              "      fill: #FFFFFF;\n",
              "    }\n",
              "  </style>\n",
              "\n",
              "      <script>\n",
              "        const buttonEl =\n",
              "          document.querySelector('#df-30aedf44-e53c-4fb5-b5f7-2048e943778d button.colab-df-convert');\n",
              "        buttonEl.style.display =\n",
              "          google.colab.kernel.accessAllowed ? 'block' : 'none';\n",
              "\n",
              "        async function convertToInteractive(key) {\n",
              "          const element = document.querySelector('#df-30aedf44-e53c-4fb5-b5f7-2048e943778d');\n",
              "          const dataTable =\n",
              "            await google.colab.kernel.invokeFunction('convertToInteractive',\n",
              "                                                     [key], {});\n",
              "          if (!dataTable) return;\n",
              "\n",
              "          const docLinkHtml = 'Like what you see? Visit the ' +\n",
              "            '<a target=\"_blank\" href=https://colab.research.google.com/notebooks/data_table.ipynb>data table notebook</a>'\n",
              "            + ' to learn more about interactive tables.';\n",
              "          element.innerHTML = '';\n",
              "          dataTable['output_type'] = 'display_data';\n",
              "          await google.colab.output.renderOutput(dataTable, element);\n",
              "          const docLink = document.createElement('div');\n",
              "          docLink.innerHTML = docLinkHtml;\n",
              "          element.appendChild(docLink);\n",
              "        }\n",
              "      </script>\n",
              "    </div>\n",
              "  </div>\n",
              "  "
            ]
          },
          "metadata": {},
          "execution_count": 23
        }
      ],
      "source": [
        "trim_audios = []\n",
        "for i, audio in enumerate(df_pd.audio):\n",
        "    audio_trim = librosa.effects.trim(audio, top_db=20)[0]\n",
        "    trim_audios.append(audio_trim)\n",
        "    \n",
        "df_pd['audio_trim'] = trim_audios    \n",
        "df_pd"
      ]
    },
    {
      "cell_type": "code",
      "execution_count": 24,
      "id": "c98121bd",
      "metadata": {
        "colab": {
          "base_uri": "https://localhost:8080/",
          "height": 747
        },
        "id": "c98121bd",
        "outputId": "d36a84e4-21cc-4326-f605-bfec6f2ace8b"
      },
      "outputs": [
        {
          "output_type": "execute_result",
          "data": {
            "text/plain": [
              "Text(0, 0.5, 'Count')"
            ]
          },
          "metadata": {},
          "execution_count": 24
        },
        {
          "output_type": "display_data",
          "data": {
            "text/plain": [
              "<Figure size 864x864 with 1 Axes>"
            ],
            "image/png": "[encoded data removed]"
          },
          "metadata": {
            "needs_background": "light"
          }
        }
      ],
      "source": [
        "length_audios_trim = []\n",
        "length_audios_seconds_trim = []\n",
        "indexes = []\n",
        "i = 0\n",
        "\n",
        "for item in df_pd.audio_trim:\n",
        "    length_audios_trim.append(len(item))\n",
        "    length_audios_seconds_trim.append(len(item)/sr)\n",
        "#   Decomment if you are interested in retrieve indexes of audio within a specific range \n",
        "    if len(item)/sr  > 4: # se 2.64 prestazioni minori\n",
        "        indexes.append(i)\n",
        "    i = i+1\n",
        "        \n",
        "\n",
        "length_audios_trim=pd.Series(length_audios_trim)\n",
        "length_audios_seconds_trim = pd.Series(length_audios_seconds_trim)\n",
        "#print(length_audios_seconds.value_counts())\n",
        "plt.figure(figsize=(12,12))\n",
        "plt.title(\"Distribution of audios length (s) after trimming\")\n",
        "length_audios_seconds_trim.hist()\n",
        "plt.xlabel(\"Time [s]\")\n",
        "plt.ylabel(\"Count\")\n",
        "#print(length_audios_seconds)\n"
      ]
    },
    {
      "cell_type": "code",
      "execution_count": 25,
      "id": "11fabeb9",
      "metadata": {
        "id": "11fabeb9"
      },
      "outputs": [],
      "source": [
        "# indexes"
      ]
    },
    {
      "cell_type": "code",
      "source": [
        "# idx = 8528\n",
        "# print(len(df_pd['audio_trim'][idx]))\n",
        "# ipd.Audio(df_pd['audio_trim'][idx], rate=22050)"
      ],
      "metadata": {
        "id": "lbB5DPpbZWUE"
      },
      "id": "lbB5DPpbZWUE",
      "execution_count": 26,
      "outputs": []
    },
    {
      "cell_type": "code",
      "execution_count": 27,
      "id": "5aa71035",
      "metadata": {
        "scrolled": true,
        "colab": {
          "base_uri": "https://localhost:8080/",
          "height": 423
        },
        "id": "5aa71035",
        "outputId": "68f69a92-d234-493e-86d5-977928d81aee"
      },
      "outputs": [
        {
          "output_type": "execute_result",
          "data": {
            "text/plain": [
              "        Id                                              audio  gender  \\\n",
              "0        0  [0.0, 0.0, 0.0, 0.0, 0.0, 0.0, 0.0, 0.0, 0.0, ...  female   \n",
              "1        1  [0.0, 0.0, 0.0, 0.0, 0.0, 0.0, 0.0, 0.0, 0.0, ...  female   \n",
              "2        2  [0.0, 0.0, 0.0, 0.0, 0.0, 0.0, 0.0, 0.0, 0.0, ...  female   \n",
              "3        3  [0.0, 0.0, 0.0, 0.0, 0.0, 0.0, 0.0, 0.0, 0.0, ...  female   \n",
              "4        4  [0.0, 0.0, 0.0, 0.0, 0.0, 0.0, 0.0, 0.0, 0.0, ...  female   \n",
              "...    ...                                                ...     ...   \n",
              "9843  9849  [0.009223618, 0.010777138, 0.009321626, 0.0099...    male   \n",
              "9844  9850  [0.00936052, 0.010867924, 0.009305291, 0.00991...    male   \n",
              "9845  9851  [0.0014334349, 0.001723074, 0.0015384919, 0.00...    male   \n",
              "9846  9852  [0.009742705, 0.011407773, 0.009794228, 0.0103...    male   \n",
              "9847  9853  [0.009512647, 0.011129991, 0.00956014, 0.01007...    male   \n",
              "\n",
              "     ageRange                label  \\\n",
              "0       22-40  change languagenone   \n",
              "1       22-40        activatemusic   \n",
              "2       22-40     deactivatelights   \n",
              "3       22-40       increasevolume   \n",
              "4       22-40       increasevolume   \n",
              "...       ...                  ...   \n",
              "9843    22-40       decreasevolume   \n",
              "9844    22-40     deactivatelights   \n",
              "9845    22-40     deactivatelights   \n",
              "9846    22-40     deactivatelights   \n",
              "9847    22-40       increasevolume   \n",
              "\n",
              "                                             audio_trim  \n",
              "0     [-0.0010869442, 6.950152e-05, 0.0010575794, 1....  \n",
              "1     [0.0005718688, 0.0005805124, 0.00058862584, 0....  \n",
              "2     [3.145638e-05, 3.0807154e-05, 2.8492566e-05, 3...  \n",
              "3     [0.0076071513, 0.008677023, 0.009811347, 0.010...  \n",
              "4     [4.5547e-06, 2.4867417e-05, 3.363467e-05, 3.05...  \n",
              "...                                                 ...  \n",
              "9843  [-0.012367419, -0.01213057, -0.011735419, -0.0...  \n",
              "9844  [-0.00086439366, 0.011530005, 0.0026797082, -0...  \n",
              "9845  [0.0048560956, -3.8896687e-05, -0.00041252645,...  \n",
              "9846  [0.003923648, 0.0039615026, 0.0041058823, 0.00...  \n",
              "9847  [-0.02300861, -0.022161294, -0.021594988, -0.0...  \n",
              "\n",
              "[9848 rows x 6 columns]"
            ],
            "text/html": [
              "\n",
              "  <div id=\"df-ebd6113b-3d59-4fab-a819-ef02e435619f\">\n",
              "    <div class=\"colab-df-container\">\n",
              "      <div>\n",
              "<style scoped>\n",
              "    .dataframe tbody tr th:only-of-type {\n",
              "        vertical-align: middle;\n",
              "    }\n",
              "\n",
              "    .dataframe tbody tr th {\n",
              "        vertical-align: top;\n",
              "    }\n",
              "\n",
              "    .dataframe thead th {\n",
              "        text-align: right;\n",
              "    }\n",
              "</style>\n",
              "<table border=\"1\" class=\"dataframe\">\n",
              "  <thead>\n",
              "    <tr style=\"text-align: right;\">\n",
              "      <th></th>\n",
              "      <th>Id</th>\n",
              "      <th>audio</th>\n",
              "      <th>gender</th>\n",
              "      <th>ageRange</th>\n",
              "      <th>label</th>\n",
              "      <th>audio_trim</th>\n",
              "    </tr>\n",
              "  </thead>\n",
              "  <tbody>\n",
              "    <tr>\n",
              "      <th>0</th>\n",
              "      <td>0</td>\n",
              "      <td>[0.0, 0.0, 0.0, 0.0, 0.0, 0.0, 0.0, 0.0, 0.0, ...</td>\n",
              "      <td>female</td>\n",
              "      <td>22-40</td>\n",
              "      <td>change languagenone</td>\n",
              "      <td>[-0.0010869442, 6.950152e-05, 0.0010575794, 1....</td>\n",
              "    </tr>\n",
              "    <tr>\n",
              "      <th>1</th>\n",
              "      <td>1</td>\n",
              "      <td>[0.0, 0.0, 0.0, 0.0, 0.0, 0.0, 0.0, 0.0, 0.0, ...</td>\n",
              "      <td>female</td>\n",
              "      <td>22-40</td>\n",
              "      <td>activatemusic</td>\n",
              "      <td>[0.0005718688, 0.0005805124, 0.00058862584, 0....</td>\n",
              "    </tr>\n",
              "    <tr>\n",
              "      <th>2</th>\n",
              "      <td>2</td>\n",
              "      <td>[0.0, 0.0, 0.0, 0.0, 0.0, 0.0, 0.0, 0.0, 0.0, ...</td>\n",
              "      <td>female</td>\n",
              "      <td>22-40</td>\n",
              "      <td>deactivatelights</td>\n",
              "      <td>[3.145638e-05, 3.0807154e-05, 2.8492566e-05, 3...</td>\n",
              "    </tr>\n",
              "    <tr>\n",
              "      <th>3</th>\n",
              "      <td>3</td>\n",
              "      <td>[0.0, 0.0, 0.0, 0.0, 0.0, 0.0, 0.0, 0.0, 0.0, ...</td>\n",
              "      <td>female</td>\n",
              "      <td>22-40</td>\n",
              "      <td>increasevolume</td>\n",
              "      <td>[0.0076071513, 0.008677023, 0.009811347, 0.010...</td>\n",
              "    </tr>\n",
              "    <tr>\n",
              "      <th>4</th>\n",
              "      <td>4</td>\n",
              "      <td>[0.0, 0.0, 0.0, 0.0, 0.0, 0.0, 0.0, 0.0, 0.0, ...</td>\n",
              "      <td>female</td>\n",
              "      <td>22-40</td>\n",
              "      <td>increasevolume</td>\n",
              "      <td>[4.5547e-06, 2.4867417e-05, 3.363467e-05, 3.05...</td>\n",
              "    </tr>\n",
              "    <tr>\n",
              "      <th>...</th>\n",
              "      <td>...</td>\n",
              "      <td>...</td>\n",
              "      <td>...</td>\n",
              "      <td>...</td>\n",
              "      <td>...</td>\n",
              "      <td>...</td>\n",
              "    </tr>\n",
              "    <tr>\n",
              "      <th>9843</th>\n",
              "      <td>9849</td>\n",
              "      <td>[0.009223618, 0.010777138, 0.009321626, 0.0099...</td>\n",
              "      <td>male</td>\n",
              "      <td>22-40</td>\n",
              "      <td>decreasevolume</td>\n",
              "      <td>[-0.012367419, -0.01213057, -0.011735419, -0.0...</td>\n",
              "    </tr>\n",
              "    <tr>\n",
              "      <th>9844</th>\n",
              "      <td>9850</td>\n",
              "      <td>[0.00936052, 0.010867924, 0.009305291, 0.00991...</td>\n",
              "      <td>male</td>\n",
              "      <td>22-40</td>\n",
              "      <td>deactivatelights</td>\n",
              "      <td>[-0.00086439366, 0.011530005, 0.0026797082, -0...</td>\n",
              "    </tr>\n",
              "    <tr>\n",
              "      <th>9845</th>\n",
              "      <td>9851</td>\n",
              "      <td>[0.0014334349, 0.001723074, 0.0015384919, 0.00...</td>\n",
              "      <td>male</td>\n",
              "      <td>22-40</td>\n",
              "      <td>deactivatelights</td>\n",
              "      <td>[0.0048560956, -3.8896687e-05, -0.00041252645,...</td>\n",
              "    </tr>\n",
              "    <tr>\n",
              "      <th>9846</th>\n",
              "      <td>9852</td>\n",
              "      <td>[0.009742705, 0.011407773, 0.009794228, 0.0103...</td>\n",
              "      <td>male</td>\n",
              "      <td>22-40</td>\n",
              "      <td>deactivatelights</td>\n",
              "      <td>[0.003923648, 0.0039615026, 0.0041058823, 0.00...</td>\n",
              "    </tr>\n",
              "    <tr>\n",
              "      <th>9847</th>\n",
              "      <td>9853</td>\n",
              "      <td>[0.009512647, 0.011129991, 0.00956014, 0.01007...</td>\n",
              "      <td>male</td>\n",
              "      <td>22-40</td>\n",
              "      <td>increasevolume</td>\n",
              "      <td>[-0.02300861, -0.022161294, -0.021594988, -0.0...</td>\n",
              "    </tr>\n",
              "  </tbody>\n",
              "</table>\n",
              "<p>9848 rows × 6 columns</p>\n",
              "</div>\n",
              "      <button class=\"colab-df-convert\" onclick=\"convertToInteractive('df-ebd6113b-3d59-4fab-a819-ef02e435619f')\"\n",
              "              title=\"Convert this dataframe to an interactive table.\"\n",
              "              style=\"display:none;\">\n",
              "        \n",
              "  <svg xmlns=\"http://www.w3.org/2000/svg\" height=\"24px\"viewBox=\"0 0 24 24\"\n",
              "       width=\"24px\">\n",
              "    <path d=\"M0 0h24v24H0V0z\" fill=\"none\"/>\n",
              "    <path d=\"M18.56 5.44l.94 2.06.94-2.06 2.06-.94-2.06-.94-.94-2.06-.94 2.06-2.06.94zm-11 1L8.5 8.5l.94-2.06 2.06-.94-2.06-.94L8.5 2.5l-.94 2.06-2.06.94zm10 10l.94 2.06.94-2.06 2.06-.94-2.06-.94-.94-2.06-.94 2.06-2.06.94z\"/><path d=\"M17.41 7.96l-1.37-1.37c-.4-.4-.92-.59-1.43-.59-.52 0-1.04.2-1.43.59L10.3 9.45l-7.72 7.72c-.78.78-.78 2.05 0 2.83L4 21.41c.39.39.9.59 1.41.59.51 0 1.02-.2 1.41-.59l7.78-7.78 2.81-2.81c.8-.78.8-2.07 0-2.86zM5.41 20L4 18.59l7.72-7.72 1.47 1.35L5.41 20z\"/>\n",
              "  </svg>\n",
              "      </button>\n",
              "      \n",
              "  <style>\n",
              "    .colab-df-container {\n",
              "      display:flex;\n",
              "      flex-wrap:wrap;\n",
              "      gap: 12px;\n",
              "    }\n",
              "\n",
              "    .colab-df-convert {\n",
              "      background-color: #E8F0FE;\n",
              "      border: none;\n",
              "      border-radius: 50%;\n",
              "      cursor: pointer;\n",
              "      display: none;\n",
              "      fill: #1967D2;\n",
              "      height: 32px;\n",
              "      padding: 0 0 0 0;\n",
              "      width: 32px;\n",
              "    }\n",
              "\n",
              "    .colab-df-convert:hover {\n",
              "      background-color: #E2EBFA;\n",
              "      box-shadow: 0px 1px 2px rgba(60, 64, 67, 0.3), 0px 1px 3px 1px rgba(60, 64, 67, 0.15);\n",
              "      fill: #174EA6;\n",
              "    }\n",
              "\n",
              "    [theme=dark] .colab-df-convert {\n",
              "      background-color: #3B4455;\n",
              "      fill: #D2E3FC;\n",
              "    }\n",
              "\n",
              "    [theme=dark] .colab-df-convert:hover {\n",
              "      background-color: #434B5C;\n",
              "      box-shadow: 0px 1px 3px 1px rgba(0, 0, 0, 0.15);\n",
              "      filter: drop-shadow(0px 1px 2px rgba(0, 0, 0, 0.3));\n",
              "      fill: #FFFFFF;\n",
              "    }\n",
              "  </style>\n",
              "\n",
              "      <script>\n",
              "        const buttonEl =\n",
              "          document.querySelector('#df-ebd6113b-3d59-4fab-a819-ef02e435619f button.colab-df-convert');\n",
              "        buttonEl.style.display =\n",
              "          google.colab.kernel.accessAllowed ? 'block' : 'none';\n",
              "\n",
              "        async function convertToInteractive(key) {\n",
              "          const element = document.querySelector('#df-ebd6113b-3d59-4fab-a819-ef02e435619f');\n",
              "          const dataTable =\n",
              "            await google.colab.kernel.invokeFunction('convertToInteractive',\n",
              "                                                     [key], {});\n",
              "          if (!dataTable) return;\n",
              "\n",
              "          const docLinkHtml = 'Like what you see? Visit the ' +\n",
              "            '<a target=\"_blank\" href=https://colab.research.google.com/notebooks/data_table.ipynb>data table notebook</a>'\n",
              "            + ' to learn more about interactive tables.';\n",
              "          element.innerHTML = '';\n",
              "          dataTable['output_type'] = 'display_data';\n",
              "          await google.colab.output.renderOutput(dataTable, element);\n",
              "          const docLink = document.createElement('div');\n",
              "          docLink.innerHTML = docLinkHtml;\n",
              "          element.appendChild(docLink);\n",
              "        }\n",
              "      </script>\n",
              "    </div>\n",
              "  </div>\n",
              "  "
            ]
          },
          "metadata": {},
          "execution_count": 27
        }
      ],
      "source": [
        "df_pd=df_pd.drop(indexes).reset_index(drop=True) #reset_index because we have a new df and if we want to iterate over it is simpler\n",
        "df_pd"
      ]
    },
    {
      "cell_type": "markdown",
      "id": "76bc519d",
      "metadata": {
        "id": "76bc519d"
      },
      "source": [
        "#### Denoising"
      ]
    },
    {
      "cell_type": "code",
      "execution_count": 28,
      "id": "62bf7be1",
      "metadata": {
        "id": "62bf7be1"
      },
      "outputs": [],
      "source": [
        "# audio = df_pd.audio[7]\n",
        "# clean_audio=nr.reduce_noise(y=audio, sr=sr, n_std_thresh_stationary=1.5, stationary=True)"
      ]
    },
    {
      "cell_type": "code",
      "execution_count": 29,
      "id": "7197c39f",
      "metadata": {
        "id": "7197c39f"
      },
      "outputs": [],
      "source": [
        "# ipd.Audio(audio, rate=22050)"
      ]
    },
    {
      "cell_type": "code",
      "execution_count": 30,
      "id": "adcbc8f2",
      "metadata": {
        "id": "adcbc8f2"
      },
      "outputs": [],
      "source": [
        "# ipd.Audio(clean_audio, rate=22050)"
      ]
    },
    {
      "cell_type": "code",
      "execution_count": 31,
      "id": "f4fd3520",
      "metadata": {
        "id": "f4fd3520"
      },
      "outputs": [],
      "source": [
        "# audios_cleaned = []\n",
        "\n",
        "# for audio in df_pd.audio_trim:\n",
        "    \n",
        "#     audio_clean = nr.reduce_noise(y=audio, sr=sr, n_std_thresh_stationary=1.5, stationary=True)\n",
        "#     audios_cleaned.append(audio_clean)\n",
        "# #new_audio_reconstructed = np.hstack(audio_reconstructed)\n",
        "# #s1 = df_pd['audio'][idx][non_silence_parts[1][0]:non_silence_parts[1][-1]]\n",
        "# # s2 = df_pd['audio'][3799][librosa.effects.split(df_pd['audio'][3799])[1][0]:librosa.effects.split(df_pd['audio'][3799])[1][-1]]\n",
        "\n",
        "# #ipd.Audio(new_audio_reconstructed, rate=22050)"
      ]
    },
    {
      "cell_type": "code",
      "execution_count": 32,
      "id": "8b2c9fdb",
      "metadata": {
        "id": "8b2c9fdb"
      },
      "outputs": [],
      "source": [
        "# df_pd['audio_cleaned'] = audios_cleaned    \n",
        "# df_pd"
      ]
    },
    {
      "cell_type": "markdown",
      "id": "9161817f",
      "metadata": {
        "id": "9161817f"
      },
      "source": [
        "#### Split"
      ]
    },
    {
      "cell_type": "code",
      "execution_count": 33,
      "id": "d4d86431",
      "metadata": {
        "id": "d4d86431",
        "colab": {
          "base_uri": "https://localhost:8080/",
          "height": 641
        },
        "outputId": "c9f0f2f2-efb7-43ee-a08f-dfd9dd19603c"
      },
      "outputs": [
        {
          "output_type": "execute_result",
          "data": {
            "text/plain": [
              "        Id                                              audio  gender  \\\n",
              "0        0  [0.0, 0.0, 0.0, 0.0, 0.0, 0.0, 0.0, 0.0, 0.0, ...  female   \n",
              "1        1  [0.0, 0.0, 0.0, 0.0, 0.0, 0.0, 0.0, 0.0, 0.0, ...  female   \n",
              "2        2  [0.0, 0.0, 0.0, 0.0, 0.0, 0.0, 0.0, 0.0, 0.0, ...  female   \n",
              "3        3  [0.0, 0.0, 0.0, 0.0, 0.0, 0.0, 0.0, 0.0, 0.0, ...  female   \n",
              "4        4  [0.0, 0.0, 0.0, 0.0, 0.0, 0.0, 0.0, 0.0, 0.0, ...  female   \n",
              "...    ...                                                ...     ...   \n",
              "9843  9849  [0.009223618, 0.010777138, 0.009321626, 0.0099...    male   \n",
              "9844  9850  [0.00936052, 0.010867924, 0.009305291, 0.00991...    male   \n",
              "9845  9851  [0.0014334349, 0.001723074, 0.0015384919, 0.00...    male   \n",
              "9846  9852  [0.009742705, 0.011407773, 0.009794228, 0.0103...    male   \n",
              "9847  9853  [0.009512647, 0.011129991, 0.00956014, 0.01007...    male   \n",
              "\n",
              "     ageRange                label  \\\n",
              "0       22-40  change languagenone   \n",
              "1       22-40        activatemusic   \n",
              "2       22-40     deactivatelights   \n",
              "3       22-40       increasevolume   \n",
              "4       22-40       increasevolume   \n",
              "...       ...                  ...   \n",
              "9843    22-40       decreasevolume   \n",
              "9844    22-40     deactivatelights   \n",
              "9845    22-40     deactivatelights   \n",
              "9846    22-40     deactivatelights   \n",
              "9847    22-40       increasevolume   \n",
              "\n",
              "                                             audio_trim  \\\n",
              "0     [-0.0010869442, 6.950152e-05, 0.0010575794, 1....   \n",
              "1     [0.0005718688, 0.0005805124, 0.00058862584, 0....   \n",
              "2     [3.145638e-05, 3.0807154e-05, 2.8492566e-05, 3...   \n",
              "3     [0.0076071513, 0.008677023, 0.009811347, 0.010...   \n",
              "4     [4.5547e-06, 2.4867417e-05, 3.363467e-05, 3.05...   \n",
              "...                                                 ...   \n",
              "9843  [-0.012367419, -0.01213057, -0.011735419, -0.0...   \n",
              "9844  [-0.00086439366, 0.011530005, 0.0026797082, -0...   \n",
              "9845  [0.0048560956, -3.8896687e-05, -0.00041252645,...   \n",
              "9846  [0.003923648, 0.0039615026, 0.0041058823, 0.00...   \n",
              "9847  [-0.02300861, -0.022161294, -0.021594988, -0.0...   \n",
              "\n",
              "                                    audio_reconstructed  \n",
              "0     [-0.0010869442, 6.950152e-05, 0.0010575794, 1....  \n",
              "1     [0.0005718688, 0.0005805124, 0.00058862584, 0....  \n",
              "2     [3.145638e-05, 3.0807154e-05, 2.8492566e-05, 3...  \n",
              "3     [0.0076071513, 0.008677023, 0.009811347, 0.010...  \n",
              "4     [4.5547e-06, 2.4867417e-05, 3.363467e-05, 3.05...  \n",
              "...                                                 ...  \n",
              "9843  [-0.012367419, -0.01213057, -0.011735419, -0.0...  \n",
              "9844  [-0.00086439366, 0.011530005, 0.0026797082, -0...  \n",
              "9845  [0.0048560956, -3.8896687e-05, -0.00041252645,...  \n",
              "9846  [0.003923648, 0.0039615026, 0.0041058823, 0.00...  \n",
              "9847  [-0.02300861, -0.022161294, -0.021594988, -0.0...  \n",
              "\n",
              "[9848 rows x 7 columns]"
            ],
            "text/html": [
              "\n",
              "  <div id=\"df-aa9b99c7-4e66-4997-ba3a-585f2d2e9b8f\">\n",
              "    <div class=\"colab-df-container\">\n",
              "      <div>\n",
              "<style scoped>\n",
              "    .dataframe tbody tr th:only-of-type {\n",
              "        vertical-align: middle;\n",
              "    }\n",
              "\n",
              "    .dataframe tbody tr th {\n",
              "        vertical-align: top;\n",
              "    }\n",
              "\n",
              "    .dataframe thead th {\n",
              "        text-align: right;\n",
              "    }\n",
              "</style>\n",
              "<table border=\"1\" class=\"dataframe\">\n",
              "  <thead>\n",
              "    <tr style=\"text-align: right;\">\n",
              "      <th></th>\n",
              "      <th>Id</th>\n",
              "      <th>audio</th>\n",
              "      <th>gender</th>\n",
              "      <th>ageRange</th>\n",
              "      <th>label</th>\n",
              "      <th>audio_trim</th>\n",
              "      <th>audio_reconstructed</th>\n",
              "    </tr>\n",
              "  </thead>\n",
              "  <tbody>\n",
              "    <tr>\n",
              "      <th>0</th>\n",
              "      <td>0</td>\n",
              "      <td>[0.0, 0.0, 0.0, 0.0, 0.0, 0.0, 0.0, 0.0, 0.0, ...</td>\n",
              "      <td>female</td>\n",
              "      <td>22-40</td>\n",
              "      <td>change languagenone</td>\n",
              "      <td>[-0.0010869442, 6.950152e-05, 0.0010575794, 1....</td>\n",
              "      <td>[-0.0010869442, 6.950152e-05, 0.0010575794, 1....</td>\n",
              "    </tr>\n",
              "    <tr>\n",
              "      <th>1</th>\n",
              "      <td>1</td>\n",
              "      <td>[0.0, 0.0, 0.0, 0.0, 0.0, 0.0, 0.0, 0.0, 0.0, ...</td>\n",
              "      <td>female</td>\n",
              "      <td>22-40</td>\n",
              "      <td>activatemusic</td>\n",
              "      <td>[0.0005718688, 0.0005805124, 0.00058862584, 0....</td>\n",
              "      <td>[0.0005718688, 0.0005805124, 0.00058862584, 0....</td>\n",
              "    </tr>\n",
              "    <tr>\n",
              "      <th>2</th>\n",
              "      <td>2</td>\n",
              "      <td>[0.0, 0.0, 0.0, 0.0, 0.0, 0.0, 0.0, 0.0, 0.0, ...</td>\n",
              "      <td>female</td>\n",
              "      <td>22-40</td>\n",
              "      <td>deactivatelights</td>\n",
              "      <td>[3.145638e-05, 3.0807154e-05, 2.8492566e-05, 3...</td>\n",
              "      <td>[3.145638e-05, 3.0807154e-05, 2.8492566e-05, 3...</td>\n",
              "    </tr>\n",
              "    <tr>\n",
              "      <th>3</th>\n",
              "      <td>3</td>\n",
              "      <td>[0.0, 0.0, 0.0, 0.0, 0.0, 0.0, 0.0, 0.0, 0.0, ...</td>\n",
              "      <td>female</td>\n",
              "      <td>22-40</td>\n",
              "      <td>increasevolume</td>\n",
              "      <td>[0.0076071513, 0.008677023, 0.009811347, 0.010...</td>\n",
              "      <td>[0.0076071513, 0.008677023, 0.009811347, 0.010...</td>\n",
              "    </tr>\n",
              "    <tr>\n",
              "      <th>4</th>\n",
              "      <td>4</td>\n",
              "      <td>[0.0, 0.0, 0.0, 0.0, 0.0, 0.0, 0.0, 0.0, 0.0, ...</td>\n",
              "      <td>female</td>\n",
              "      <td>22-40</td>\n",
              "      <td>increasevolume</td>\n",
              "      <td>[4.5547e-06, 2.4867417e-05, 3.363467e-05, 3.05...</td>\n",
              "      <td>[4.5547e-06, 2.4867417e-05, 3.363467e-05, 3.05...</td>\n",
              "    </tr>\n",
              "    <tr>\n",
              "      <th>...</th>\n",
              "      <td>...</td>\n",
              "      <td>...</td>\n",
              "      <td>...</td>\n",
              "      <td>...</td>\n",
              "      <td>...</td>\n",
              "      <td>...</td>\n",
              "      <td>...</td>\n",
              "    </tr>\n",
              "    <tr>\n",
              "      <th>9843</th>\n",
              "      <td>9849</td>\n",
              "      <td>[0.009223618, 0.010777138, 0.009321626, 0.0099...</td>\n",
              "      <td>male</td>\n",
              "      <td>22-40</td>\n",
              "      <td>decreasevolume</td>\n",
              "      <td>[-0.012367419, -0.01213057, -0.011735419, -0.0...</td>\n",
              "      <td>[-0.012367419, -0.01213057, -0.011735419, -0.0...</td>\n",
              "    </tr>\n",
              "    <tr>\n",
              "      <th>9844</th>\n",
              "      <td>9850</td>\n",
              "      <td>[0.00936052, 0.010867924, 0.009305291, 0.00991...</td>\n",
              "      <td>male</td>\n",
              "      <td>22-40</td>\n",
              "      <td>deactivatelights</td>\n",
              "      <td>[-0.00086439366, 0.011530005, 0.0026797082, -0...</td>\n",
              "      <td>[-0.00086439366, 0.011530005, 0.0026797082, -0...</td>\n",
              "    </tr>\n",
              "    <tr>\n",
              "      <th>9845</th>\n",
              "      <td>9851</td>\n",
              "      <td>[0.0014334349, 0.001723074, 0.0015384919, 0.00...</td>\n",
              "      <td>male</td>\n",
              "      <td>22-40</td>\n",
              "      <td>deactivatelights</td>\n",
              "      <td>[0.0048560956, -3.8896687e-05, -0.00041252645,...</td>\n",
              "      <td>[0.0048560956, -3.8896687e-05, -0.00041252645,...</td>\n",
              "    </tr>\n",
              "    <tr>\n",
              "      <th>9846</th>\n",
              "      <td>9852</td>\n",
              "      <td>[0.009742705, 0.011407773, 0.009794228, 0.0103...</td>\n",
              "      <td>male</td>\n",
              "      <td>22-40</td>\n",
              "      <td>deactivatelights</td>\n",
              "      <td>[0.003923648, 0.0039615026, 0.0041058823, 0.00...</td>\n",
              "      <td>[0.003923648, 0.0039615026, 0.0041058823, 0.00...</td>\n",
              "    </tr>\n",
              "    <tr>\n",
              "      <th>9847</th>\n",
              "      <td>9853</td>\n",
              "      <td>[0.009512647, 0.011129991, 0.00956014, 0.01007...</td>\n",
              "      <td>male</td>\n",
              "      <td>22-40</td>\n",
              "      <td>increasevolume</td>\n",
              "      <td>[-0.02300861, -0.022161294, -0.021594988, -0.0...</td>\n",
              "      <td>[-0.02300861, -0.022161294, -0.021594988, -0.0...</td>\n",
              "    </tr>\n",
              "  </tbody>\n",
              "</table>\n",
              "<p>9848 rows × 7 columns</p>\n",
              "</div>\n",
              "      <button class=\"colab-df-convert\" onclick=\"convertToInteractive('df-aa9b99c7-4e66-4997-ba3a-585f2d2e9b8f')\"\n",
              "              title=\"Convert this dataframe to an interactive table.\"\n",
              "              style=\"display:none;\">\n",
              "        \n",
              "  <svg xmlns=\"http://www.w3.org/2000/svg\" height=\"24px\"viewBox=\"0 0 24 24\"\n",
              "       width=\"24px\">\n",
              "    <path d=\"M0 0h24v24H0V0z\" fill=\"none\"/>\n",
              "    <path d=\"M18.56 5.44l.94 2.06.94-2.06 2.06-.94-2.06-.94-.94-2.06-.94 2.06-2.06.94zm-11 1L8.5 8.5l.94-2.06 2.06-.94-2.06-.94L8.5 2.5l-.94 2.06-2.06.94zm10 10l.94 2.06.94-2.06 2.06-.94-2.06-.94-.94-2.06-.94 2.06-2.06.94z\"/><path d=\"M17.41 7.96l-1.37-1.37c-.4-.4-.92-.59-1.43-.59-.52 0-1.04.2-1.43.59L10.3 9.45l-7.72 7.72c-.78.78-.78 2.05 0 2.83L4 21.41c.39.39.9.59 1.41.59.51 0 1.02-.2 1.41-.59l7.78-7.78 2.81-2.81c.8-.78.8-2.07 0-2.86zM5.41 20L4 18.59l7.72-7.72 1.47 1.35L5.41 20z\"/>\n",
              "  </svg>\n",
              "      </button>\n",
              "      \n",
              "  <style>\n",
              "    .colab-df-container {\n",
              "      display:flex;\n",
              "      flex-wrap:wrap;\n",
              "      gap: 12px;\n",
              "    }\n",
              "\n",
              "    .colab-df-convert {\n",
              "      background-color: #E8F0FE;\n",
              "      border: none;\n",
              "      border-radius: 50%;\n",
              "      cursor: pointer;\n",
              "      display: none;\n",
              "      fill: #1967D2;\n",
              "      height: 32px;\n",
              "      padding: 0 0 0 0;\n",
              "      width: 32px;\n",
              "    }\n",
              "\n",
              "    .colab-df-convert:hover {\n",
              "      background-color: #E2EBFA;\n",
              "      box-shadow: 0px 1px 2px rgba(60, 64, 67, 0.3), 0px 1px 3px 1px rgba(60, 64, 67, 0.15);\n",
              "      fill: #174EA6;\n",
              "    }\n",
              "\n",
              "    [theme=dark] .colab-df-convert {\n",
              "      background-color: #3B4455;\n",
              "      fill: #D2E3FC;\n",
              "    }\n",
              "\n",
              "    [theme=dark] .colab-df-convert:hover {\n",
              "      background-color: #434B5C;\n",
              "      box-shadow: 0px 1px 3px 1px rgba(0, 0, 0, 0.15);\n",
              "      filter: drop-shadow(0px 1px 2px rgba(0, 0, 0, 0.3));\n",
              "      fill: #FFFFFF;\n",
              "    }\n",
              "  </style>\n",
              "\n",
              "      <script>\n",
              "        const buttonEl =\n",
              "          document.querySelector('#df-aa9b99c7-4e66-4997-ba3a-585f2d2e9b8f button.colab-df-convert');\n",
              "        buttonEl.style.display =\n",
              "          google.colab.kernel.accessAllowed ? 'block' : 'none';\n",
              "\n",
              "        async function convertToInteractive(key) {\n",
              "          const element = document.querySelector('#df-aa9b99c7-4e66-4997-ba3a-585f2d2e9b8f');\n",
              "          const dataTable =\n",
              "            await google.colab.kernel.invokeFunction('convertToInteractive',\n",
              "                                                     [key], {});\n",
              "          if (!dataTable) return;\n",
              "\n",
              "          const docLinkHtml = 'Like what you see? Visit the ' +\n",
              "            '<a target=\"_blank\" href=https://colab.research.google.com/notebooks/data_table.ipynb>data table notebook</a>'\n",
              "            + ' to learn more about interactive tables.';\n",
              "          element.innerHTML = '';\n",
              "          dataTable['output_type'] = 'display_data';\n",
              "          await google.colab.output.renderOutput(dataTable, element);\n",
              "          const docLink = document.createElement('div');\n",
              "          docLink.innerHTML = docLinkHtml;\n",
              "          element.appendChild(docLink);\n",
              "        }\n",
              "      </script>\n",
              "    </div>\n",
              "  </div>\n",
              "  "
            ]
          },
          "metadata": {},
          "execution_count": 33
        }
      ],
      "source": [
        "audios_reconstructed = []\n",
        "\n",
        "for audio in df_pd.audio_trim:\n",
        "    \n",
        "    non_silence_parts = librosa.effects.split(audio, top_db=20)\n",
        "    audio_reconstructed_parts = [] #save the non silent parts in a list that then will be merged together to obtain the reconstructed file\n",
        "    \n",
        "    for part in non_silence_parts:\n",
        "        audio_reconstructed_parts.append(audio[part[0]:part[-1]])\n",
        "\n",
        "    audio_reconstructed = np.hstack(audio_reconstructed_parts)\n",
        "    audios_reconstructed.append(audio_reconstructed)\n",
        "df_pd['audio_reconstructed'] = audios_reconstructed    \n",
        "df_pd"
      ]
    },
    {
      "cell_type": "markdown",
      "id": "946f3f83",
      "metadata": {
        "id": "946f3f83"
      },
      "source": [
        "#### Pre- emphasize"
      ]
    },
    {
      "cell_type": "code",
      "execution_count": 34,
      "id": "6267b3ea",
      "metadata": {
        "id": "6267b3ea"
      },
      "outputs": [],
      "source": [
        "# emph_audios = []\n",
        "# for i, audio in enumerate(df_pd.audio_trim):\n",
        "#     audio_emph = librosa.effects.preemphasis(audio, return_zf=False)\n",
        "#     emph_audios.append(audio_emph)\n",
        "    \n",
        "# df_pd['audio_emph'] = emph_audios    \n",
        "# df_pd"
      ]
    },
    {
      "cell_type": "code",
      "source": [
        "df_pd.ageRange.value_counts()"
      ],
      "metadata": {
        "colab": {
          "base_uri": "https://localhost:8080/"
        },
        "id": "IjvE45Kqftdw",
        "outputId": "101e755c-d796-4190-fef2-50ad9dcbd7fa"
      },
      "id": "IjvE45Kqftdw",
      "execution_count": 35,
      "outputs": [
        {
          "output_type": "execute_result",
          "data": {
            "text/plain": [
              "22-40    7491\n",
              "41-65    2115\n",
              "65+       242\n",
              "Name: ageRange, dtype: int64"
            ]
          },
          "metadata": {},
          "execution_count": 35
        }
      ]
    },
    {
      "cell_type": "markdown",
      "id": "798f84d9",
      "metadata": {
        "id": "798f84d9"
      },
      "source": [
        "### 3. Feature Extraction"
      ]
    },
    {
      "cell_type": "markdown",
      "id": "c19118c8",
      "metadata": {
        "id": "c19118c8"
      },
      "source": [
        "Apply one hot encoding to categorical features."
      ]
    },
    {
      "cell_type": "code",
      "execution_count": 36,
      "id": "79e26f9b",
      "metadata": {
        "colab": {
          "base_uri": "https://localhost:8080/",
          "height": 814
        },
        "id": "79e26f9b",
        "outputId": "77d2603f-a6ca-4363-f92f-d399edf21bfc"
      },
      "outputs": [
        {
          "output_type": "execute_result",
          "data": {
            "text/plain": [
              "        Id                                              audio  \\\n",
              "0        0  [0.0, 0.0, 0.0, 0.0, 0.0, 0.0, 0.0, 0.0, 0.0, ...   \n",
              "1        1  [0.0, 0.0, 0.0, 0.0, 0.0, 0.0, 0.0, 0.0, 0.0, ...   \n",
              "2        2  [0.0, 0.0, 0.0, 0.0, 0.0, 0.0, 0.0, 0.0, 0.0, ...   \n",
              "3        3  [0.0, 0.0, 0.0, 0.0, 0.0, 0.0, 0.0, 0.0, 0.0, ...   \n",
              "4        4  [0.0, 0.0, 0.0, 0.0, 0.0, 0.0, 0.0, 0.0, 0.0, ...   \n",
              "...    ...                                                ...   \n",
              "9843  9849  [0.009223618, 0.010777138, 0.009321626, 0.0099...   \n",
              "9844  9850  [0.00936052, 0.010867924, 0.009305291, 0.00991...   \n",
              "9845  9851  [0.0014334349, 0.001723074, 0.0015384919, 0.00...   \n",
              "9846  9852  [0.009742705, 0.011407773, 0.009794228, 0.0103...   \n",
              "9847  9853  [0.009512647, 0.011129991, 0.00956014, 0.01007...   \n",
              "\n",
              "                    label                                         audio_trim  \\\n",
              "0     change languagenone  [-0.0010869442, 6.950152e-05, 0.0010575794, 1....   \n",
              "1           activatemusic  [0.0005718688, 0.0005805124, 0.00058862584, 0....   \n",
              "2        deactivatelights  [3.145638e-05, 3.0807154e-05, 2.8492566e-05, 3...   \n",
              "3          increasevolume  [0.0076071513, 0.008677023, 0.009811347, 0.010...   \n",
              "4          increasevolume  [4.5547e-06, 2.4867417e-05, 3.363467e-05, 3.05...   \n",
              "...                   ...                                                ...   \n",
              "9843       decreasevolume  [-0.012367419, -0.01213057, -0.011735419, -0.0...   \n",
              "9844     deactivatelights  [-0.00086439366, 0.011530005, 0.0026797082, -0...   \n",
              "9845     deactivatelights  [0.0048560956, -3.8896687e-05, -0.00041252645,...   \n",
              "9846     deactivatelights  [0.003923648, 0.0039615026, 0.0041058823, 0.00...   \n",
              "9847       increasevolume  [-0.02300861, -0.022161294, -0.021594988, -0.0...   \n",
              "\n",
              "                                    audio_reconstructed  gender=male  \\\n",
              "0     [-0.0010869442, 6.950152e-05, 0.0010575794, 1....            0   \n",
              "1     [0.0005718688, 0.0005805124, 0.00058862584, 0....            0   \n",
              "2     [3.145638e-05, 3.0807154e-05, 2.8492566e-05, 3...            0   \n",
              "3     [0.0076071513, 0.008677023, 0.009811347, 0.010...            0   \n",
              "4     [4.5547e-06, 2.4867417e-05, 3.363467e-05, 3.05...            0   \n",
              "...                                                 ...          ...   \n",
              "9843  [-0.012367419, -0.01213057, -0.011735419, -0.0...            1   \n",
              "9844  [-0.00086439366, 0.011530005, 0.0026797082, -0...            1   \n",
              "9845  [0.0048560956, -3.8896687e-05, -0.00041252645,...            1   \n",
              "9846  [0.003923648, 0.0039615026, 0.0041058823, 0.00...            1   \n",
              "9847  [-0.02300861, -0.022161294, -0.021594988, -0.0...            1   \n",
              "\n",
              "      ageRange=22-40  ageRange=41-65  \n",
              "0                  1               0  \n",
              "1                  1               0  \n",
              "2                  1               0  \n",
              "3                  1               0  \n",
              "4                  1               0  \n",
              "...              ...             ...  \n",
              "9843               1               0  \n",
              "9844               1               0  \n",
              "9845               1               0  \n",
              "9846               1               0  \n",
              "9847               1               0  \n",
              "\n",
              "[9848 rows x 8 columns]"
            ],
            "text/html": [
              "\n",
              "  <div id=\"df-1fed5385-c566-4ec8-ad2d-6a551e8ad0b3\">\n",
              "    <div class=\"colab-df-container\">\n",
              "      <div>\n",
              "<style scoped>\n",
              "    .dataframe tbody tr th:only-of-type {\n",
              "        vertical-align: middle;\n",
              "    }\n",
              "\n",
              "    .dataframe tbody tr th {\n",
              "        vertical-align: top;\n",
              "    }\n",
              "\n",
              "    .dataframe thead th {\n",
              "        text-align: right;\n",
              "    }\n",
              "</style>\n",
              "<table border=\"1\" class=\"dataframe\">\n",
              "  <thead>\n",
              "    <tr style=\"text-align: right;\">\n",
              "      <th></th>\n",
              "      <th>Id</th>\n",
              "      <th>audio</th>\n",
              "      <th>label</th>\n",
              "      <th>audio_trim</th>\n",
              "      <th>audio_reconstructed</th>\n",
              "      <th>gender=male</th>\n",
              "      <th>ageRange=22-40</th>\n",
              "      <th>ageRange=41-65</th>\n",
              "    </tr>\n",
              "  </thead>\n",
              "  <tbody>\n",
              "    <tr>\n",
              "      <th>0</th>\n",
              "      <td>0</td>\n",
              "      <td>[0.0, 0.0, 0.0, 0.0, 0.0, 0.0, 0.0, 0.0, 0.0, ...</td>\n",
              "      <td>change languagenone</td>\n",
              "      <td>[-0.0010869442, 6.950152e-05, 0.0010575794, 1....</td>\n",
              "      <td>[-0.0010869442, 6.950152e-05, 0.0010575794, 1....</td>\n",
              "      <td>0</td>\n",
              "      <td>1</td>\n",
              "      <td>0</td>\n",
              "    </tr>\n",
              "    <tr>\n",
              "      <th>1</th>\n",
              "      <td>1</td>\n",
              "      <td>[0.0, 0.0, 0.0, 0.0, 0.0, 0.0, 0.0, 0.0, 0.0, ...</td>\n",
              "      <td>activatemusic</td>\n",
              "      <td>[0.0005718688, 0.0005805124, 0.00058862584, 0....</td>\n",
              "      <td>[0.0005718688, 0.0005805124, 0.00058862584, 0....</td>\n",
              "      <td>0</td>\n",
              "      <td>1</td>\n",
              "      <td>0</td>\n",
              "    </tr>\n",
              "    <tr>\n",
              "      <th>2</th>\n",
              "      <td>2</td>\n",
              "      <td>[0.0, 0.0, 0.0, 0.0, 0.0, 0.0, 0.0, 0.0, 0.0, ...</td>\n",
              "      <td>deactivatelights</td>\n",
              "      <td>[3.145638e-05, 3.0807154e-05, 2.8492566e-05, 3...</td>\n",
              "      <td>[3.145638e-05, 3.0807154e-05, 2.8492566e-05, 3...</td>\n",
              "      <td>0</td>\n",
              "      <td>1</td>\n",
              "      <td>0</td>\n",
              "    </tr>\n",
              "    <tr>\n",
              "      <th>3</th>\n",
              "      <td>3</td>\n",
              "      <td>[0.0, 0.0, 0.0, 0.0, 0.0, 0.0, 0.0, 0.0, 0.0, ...</td>\n",
              "      <td>increasevolume</td>\n",
              "      <td>[0.0076071513, 0.008677023, 0.009811347, 0.010...</td>\n",
              "      <td>[0.0076071513, 0.008677023, 0.009811347, 0.010...</td>\n",
              "      <td>0</td>\n",
              "      <td>1</td>\n",
              "      <td>0</td>\n",
              "    </tr>\n",
              "    <tr>\n",
              "      <th>4</th>\n",
              "      <td>4</td>\n",
              "      <td>[0.0, 0.0, 0.0, 0.0, 0.0, 0.0, 0.0, 0.0, 0.0, ...</td>\n",
              "      <td>increasevolume</td>\n",
              "      <td>[4.5547e-06, 2.4867417e-05, 3.363467e-05, 3.05...</td>\n",
              "      <td>[4.5547e-06, 2.4867417e-05, 3.363467e-05, 3.05...</td>\n",
              "      <td>0</td>\n",
              "      <td>1</td>\n",
              "      <td>0</td>\n",
              "    </tr>\n",
              "    <tr>\n",
              "      <th>...</th>\n",
              "      <td>...</td>\n",
              "      <td>...</td>\n",
              "      <td>...</td>\n",
              "      <td>...</td>\n",
              "      <td>...</td>\n",
              "      <td>...</td>\n",
              "      <td>...</td>\n",
              "      <td>...</td>\n",
              "    </tr>\n",
              "    <tr>\n",
              "      <th>9843</th>\n",
              "      <td>9849</td>\n",
              "      <td>[0.009223618, 0.010777138, 0.009321626, 0.0099...</td>\n",
              "      <td>decreasevolume</td>\n",
              "      <td>[-0.012367419, -0.01213057, -0.011735419, -0.0...</td>\n",
              "      <td>[-0.012367419, -0.01213057, -0.011735419, -0.0...</td>\n",
              "      <td>1</td>\n",
              "      <td>1</td>\n",
              "      <td>0</td>\n",
              "    </tr>\n",
              "    <tr>\n",
              "      <th>9844</th>\n",
              "      <td>9850</td>\n",
              "      <td>[0.00936052, 0.010867924, 0.009305291, 0.00991...</td>\n",
              "      <td>deactivatelights</td>\n",
              "      <td>[-0.00086439366, 0.011530005, 0.0026797082, -0...</td>\n",
              "      <td>[-0.00086439366, 0.011530005, 0.0026797082, -0...</td>\n",
              "      <td>1</td>\n",
              "      <td>1</td>\n",
              "      <td>0</td>\n",
              "    </tr>\n",
              "    <tr>\n",
              "      <th>9845</th>\n",
              "      <td>9851</td>\n",
              "      <td>[0.0014334349, 0.001723074, 0.0015384919, 0.00...</td>\n",
              "      <td>deactivatelights</td>\n",
              "      <td>[0.0048560956, -3.8896687e-05, -0.00041252645,...</td>\n",
              "      <td>[0.0048560956, -3.8896687e-05, -0.00041252645,...</td>\n",
              "      <td>1</td>\n",
              "      <td>1</td>\n",
              "      <td>0</td>\n",
              "    </tr>\n",
              "    <tr>\n",
              "      <th>9846</th>\n",
              "      <td>9852</td>\n",
              "      <td>[0.009742705, 0.011407773, 0.009794228, 0.0103...</td>\n",
              "      <td>deactivatelights</td>\n",
              "      <td>[0.003923648, 0.0039615026, 0.0041058823, 0.00...</td>\n",
              "      <td>[0.003923648, 0.0039615026, 0.0041058823, 0.00...</td>\n",
              "      <td>1</td>\n",
              "      <td>1</td>\n",
              "      <td>0</td>\n",
              "    </tr>\n",
              "    <tr>\n",
              "      <th>9847</th>\n",
              "      <td>9853</td>\n",
              "      <td>[0.009512647, 0.011129991, 0.00956014, 0.01007...</td>\n",
              "      <td>increasevolume</td>\n",
              "      <td>[-0.02300861, -0.022161294, -0.021594988, -0.0...</td>\n",
              "      <td>[-0.02300861, -0.022161294, -0.021594988, -0.0...</td>\n",
              "      <td>1</td>\n",
              "      <td>1</td>\n",
              "      <td>0</td>\n",
              "    </tr>\n",
              "  </tbody>\n",
              "</table>\n",
              "<p>9848 rows × 8 columns</p>\n",
              "</div>\n",
              "      <button class=\"colab-df-convert\" onclick=\"convertToInteractive('df-1fed5385-c566-4ec8-ad2d-6a551e8ad0b3')\"\n",
              "              title=\"Convert this dataframe to an interactive table.\"\n",
              "              style=\"display:none;\">\n",
              "        \n",
              "  <svg xmlns=\"http://www.w3.org/2000/svg\" height=\"24px\"viewBox=\"0 0 24 24\"\n",
              "       width=\"24px\">\n",
              "    <path d=\"M0 0h24v24H0V0z\" fill=\"none\"/>\n",
              "    <path d=\"M18.56 5.44l.94 2.06.94-2.06 2.06-.94-2.06-.94-.94-2.06-.94 2.06-2.06.94zm-11 1L8.5 8.5l.94-2.06 2.06-.94-2.06-.94L8.5 2.5l-.94 2.06-2.06.94zm10 10l.94 2.06.94-2.06 2.06-.94-2.06-.94-.94-2.06-.94 2.06-2.06.94z\"/><path d=\"M17.41 7.96l-1.37-1.37c-.4-.4-.92-.59-1.43-.59-.52 0-1.04.2-1.43.59L10.3 9.45l-7.72 7.72c-.78.78-.78 2.05 0 2.83L4 21.41c.39.39.9.59 1.41.59.51 0 1.02-.2 1.41-.59l7.78-7.78 2.81-2.81c.8-.78.8-2.07 0-2.86zM5.41 20L4 18.59l7.72-7.72 1.47 1.35L5.41 20z\"/>\n",
              "  </svg>\n",
              "      </button>\n",
              "      \n",
              "  <style>\n",
              "    .colab-df-container {\n",
              "      display:flex;\n",
              "      flex-wrap:wrap;\n",
              "      gap: 12px;\n",
              "    }\n",
              "\n",
              "    .colab-df-convert {\n",
              "      background-color: #E8F0FE;\n",
              "      border: none;\n",
              "      border-radius: 50%;\n",
              "      cursor: pointer;\n",
              "      display: none;\n",
              "      fill: #1967D2;\n",
              "      height: 32px;\n",
              "      padding: 0 0 0 0;\n",
              "      width: 32px;\n",
              "    }\n",
              "\n",
              "    .colab-df-convert:hover {\n",
              "      background-color: #E2EBFA;\n",
              "      box-shadow: 0px 1px 2px rgba(60, 64, 67, 0.3), 0px 1px 3px 1px rgba(60, 64, 67, 0.15);\n",
              "      fill: #174EA6;\n",
              "    }\n",
              "\n",
              "    [theme=dark] .colab-df-convert {\n",
              "      background-color: #3B4455;\n",
              "      fill: #D2E3FC;\n",
              "    }\n",
              "\n",
              "    [theme=dark] .colab-df-convert:hover {\n",
              "      background-color: #434B5C;\n",
              "      box-shadow: 0px 1px 3px 1px rgba(0, 0, 0, 0.15);\n",
              "      filter: drop-shadow(0px 1px 2px rgba(0, 0, 0, 0.3));\n",
              "      fill: #FFFFFF;\n",
              "    }\n",
              "  </style>\n",
              "\n",
              "      <script>\n",
              "        const buttonEl =\n",
              "          document.querySelector('#df-1fed5385-c566-4ec8-ad2d-6a551e8ad0b3 button.colab-df-convert');\n",
              "        buttonEl.style.display =\n",
              "          google.colab.kernel.accessAllowed ? 'block' : 'none';\n",
              "\n",
              "        async function convertToInteractive(key) {\n",
              "          const element = document.querySelector('#df-1fed5385-c566-4ec8-ad2d-6a551e8ad0b3');\n",
              "          const dataTable =\n",
              "            await google.colab.kernel.invokeFunction('convertToInteractive',\n",
              "                                                     [key], {});\n",
              "          if (!dataTable) return;\n",
              "\n",
              "          const docLinkHtml = 'Like what you see? Visit the ' +\n",
              "            '<a target=\"_blank\" href=https://colab.research.google.com/notebooks/data_table.ipynb>data table notebook</a>'\n",
              "            + ' to learn more about interactive tables.';\n",
              "          element.innerHTML = '';\n",
              "          dataTable['output_type'] = 'display_data';\n",
              "          await google.colab.output.renderOutput(dataTable, element);\n",
              "          const docLink = document.createElement('div');\n",
              "          docLink.innerHTML = docLinkHtml;\n",
              "          element.appendChild(docLink);\n",
              "        }\n",
              "      </script>\n",
              "    </div>\n",
              "  </div>\n",
              "  "
            ]
          },
          "metadata": {},
          "execution_count": 36
        }
      ],
      "source": [
        "categorical_features = ['gender', 'ageRange']\n",
        "\n",
        "dummy_columns = categorical_features\n",
        "\n",
        "for column in dummy_columns: \n",
        "    if column == 'ageRange':\n",
        "      df_dummies = pd.get_dummies(df_pd[column], prefix = column, prefix_sep='=').drop('ageRange=65+', axis=1)#drop_first_true to avoid multi colinearity problem\n",
        "    else:\n",
        "      df_dummies = pd.get_dummies(df_pd[column], drop_first=True, prefix = column, prefix_sep='=') #drop_first_true to avoid multi colinearity problem\n",
        "      \n",
        "    df_pd = pd.concat([df_pd, df_dummies], axis = 1)\n",
        "\n",
        "\n",
        "df_pd = df_pd.drop(columns=dummy_columns)\n",
        "df_pd"
      ]
    },
    {
      "cell_type": "markdown",
      "id": "1194b277",
      "metadata": {
        "id": "1194b277"
      },
      "source": [
        "#### Extracting MFCC features"
      ]
    },
    {
      "cell_type": "markdown",
      "id": "b31e6b07",
      "metadata": {
        "id": "b31e6b07"
      },
      "source": [
        "First of all every audio should have the same length in order to get final coefficients for each audio of the same length.\n",
        "\n",
        "**EDIT**: non mi serve più, perchè io sono ora interessato alla media, std, min, max, median dei coefficienti che sono sempre uguali (numero righe vecchia matrice) mentre il numero delle colonne cambia (tempo) però non è più importante quindi avere matrici tutte della stessa dimensione."
      ]
    },
    {
      "cell_type": "code",
      "execution_count": 37,
      "id": "09786d95",
      "metadata": {
        "colab": {
          "base_uri": "https://localhost:8080/"
        },
        "id": "09786d95",
        "outputId": "a30c2bcd-8860-4b5e-a016-ac34defca454"
      },
      "outputs": [
        {
          "output_type": "stream",
          "name": "stdout",
          "text": [
            "Max length: 88064\n"
          ]
        },
        {
          "output_type": "execute_result",
          "data": {
            "text/plain": [
              "(20480    339\n",
              " 19456    322\n",
              " 18944    312\n",
              " 18432    312\n",
              " 17920    300\n",
              " 17408    283\n",
              " 20992    281\n",
              " 19968    281\n",
              " 16896    268\n",
              " 16384    247\n",
              " dtype: int64, 88064)"
            ]
          },
          "metadata": {},
          "execution_count": 37
        }
      ],
      "source": [
        "# Find maximum length of the audio in the dataframe\n",
        "lengths = [len(audio) for audio in df_pd.audio_trim]\n",
        "# idx = 45 #check\n",
        "# lengths[idx], len(df_pd.audio.iloc[idx])\n",
        "lengths = pd.Series(lengths)\n",
        "#lengths.max() #88064\n",
        "print(f\"Max length: {lengths.max()}\")\n",
        "lengths[lengths == lengths.max()]\n",
        "lengths.value_counts()[:10], lengths.max()"
      ]
    },
    {
      "cell_type": "code",
      "source": [
        "88064/sr"
      ],
      "metadata": {
        "colab": {
          "base_uri": "https://localhost:8080/"
        },
        "id": "eihfHxc2alAW",
        "outputId": "95b3b756-d1e8-4912-da8f-5b9d1b310a1d"
      },
      "id": "eihfHxc2alAW",
      "execution_count": 38,
      "outputs": [
        {
          "output_type": "execute_result",
          "data": {
            "text/plain": [
              "3.9938321995464854"
            ]
          },
          "metadata": {},
          "execution_count": 38
        }
      ]
    },
    {
      "cell_type": "code",
      "source": [
        "4*sr"
      ],
      "metadata": {
        "colab": {
          "base_uri": "https://localhost:8080/"
        },
        "id": "ZWxqGczKbfxp",
        "outputId": "e7c5f52f-1f23-4a53-a975-57400aa1810d"
      },
      "id": "ZWxqGczKbfxp",
      "execution_count": 39,
      "outputs": [
        {
          "output_type": "execute_result",
          "data": {
            "text/plain": [
              "88200"
            ]
          },
          "metadata": {},
          "execution_count": 39
        }
      ]
    },
    {
      "cell_type": "code",
      "source": [
        "max_length = 4*sr"
      ],
      "metadata": {
        "id": "gommLPtzbkip"
      },
      "id": "gommLPtzbkip",
      "execution_count": 40,
      "outputs": []
    },
    {
      "cell_type": "code",
      "execution_count": 41,
      "id": "8a5247fc",
      "metadata": {
        "id": "8a5247fc"
      },
      "outputs": [],
      "source": [
        "# ipd.Audio(df_pd['audio'][8136], rate=22050)"
      ]
    },
    {
      "cell_type": "code",
      "execution_count": 42,
      "id": "e1283d6c",
      "metadata": {
        "id": "e1283d6c"
      },
      "outputs": [],
      "source": [
        "# len(df_pd['audio'][8136])"
      ]
    },
    {
      "cell_type": "markdown",
      "id": "0416a780",
      "metadata": {
        "id": "0416a780"
      },
      "source": [
        "#### Padding"
      ]
    },
    {
      "cell_type": "code",
      "execution_count": 43,
      "id": "d847fd0b",
      "metadata": {
        "id": "d847fd0b",
        "colab": {
          "base_uri": "https://localhost:8080/",
          "height": 1000
        },
        "outputId": "1f40d183-85a7-41ad-c85f-fbf4ee07a1ba"
      },
      "outputs": [
        {
          "output_type": "execute_result",
          "data": {
            "text/plain": [
              "        Id                                              audio  \\\n",
              "0        0  [0.0, 0.0, 0.0, 0.0, 0.0, 0.0, 0.0, 0.0, 0.0, ...   \n",
              "1        1  [0.0, 0.0, 0.0, 0.0, 0.0, 0.0, 0.0, 0.0, 0.0, ...   \n",
              "2        2  [0.0, 0.0, 0.0, 0.0, 0.0, 0.0, 0.0, 0.0, 0.0, ...   \n",
              "3        3  [0.0, 0.0, 0.0, 0.0, 0.0, 0.0, 0.0, 0.0, 0.0, ...   \n",
              "4        4  [0.0, 0.0, 0.0, 0.0, 0.0, 0.0, 0.0, 0.0, 0.0, ...   \n",
              "...    ...                                                ...   \n",
              "9843  9849  [0.009223618, 0.010777138, 0.009321626, 0.0099...   \n",
              "9844  9850  [0.00936052, 0.010867924, 0.009305291, 0.00991...   \n",
              "9845  9851  [0.0014334349, 0.001723074, 0.0015384919, 0.00...   \n",
              "9846  9852  [0.009742705, 0.011407773, 0.009794228, 0.0103...   \n",
              "9847  9853  [0.009512647, 0.011129991, 0.00956014, 0.01007...   \n",
              "\n",
              "                    label                                         audio_trim  \\\n",
              "0     change languagenone  [-0.0010869442, 6.950152e-05, 0.0010575794, 1....   \n",
              "1           activatemusic  [0.0005718688, 0.0005805124, 0.00058862584, 0....   \n",
              "2        deactivatelights  [3.145638e-05, 3.0807154e-05, 2.8492566e-05, 3...   \n",
              "3          increasevolume  [0.0076071513, 0.008677023, 0.009811347, 0.010...   \n",
              "4          increasevolume  [4.5547e-06, 2.4867417e-05, 3.363467e-05, 3.05...   \n",
              "...                   ...                                                ...   \n",
              "9843       decreasevolume  [-0.012367419, -0.01213057, -0.011735419, -0.0...   \n",
              "9844     deactivatelights  [-0.00086439366, 0.011530005, 0.0026797082, -0...   \n",
              "9845     deactivatelights  [0.0048560956, -3.8896687e-05, -0.00041252645,...   \n",
              "9846     deactivatelights  [0.003923648, 0.0039615026, 0.0041058823, 0.00...   \n",
              "9847       increasevolume  [-0.02300861, -0.022161294, -0.021594988, -0.0...   \n",
              "\n",
              "                                    audio_reconstructed  gender=male  \\\n",
              "0     [-0.0010869442, 6.950152e-05, 0.0010575794, 1....            0   \n",
              "1     [0.0005718688, 0.0005805124, 0.00058862584, 0....            0   \n",
              "2     [3.145638e-05, 3.0807154e-05, 2.8492566e-05, 3...            0   \n",
              "3     [0.0076071513, 0.008677023, 0.009811347, 0.010...            0   \n",
              "4     [4.5547e-06, 2.4867417e-05, 3.363467e-05, 3.05...            0   \n",
              "...                                                 ...          ...   \n",
              "9843  [-0.012367419, -0.01213057, -0.011735419, -0.0...            1   \n",
              "9844  [-0.00086439366, 0.011530005, 0.0026797082, -0...            1   \n",
              "9845  [0.0048560956, -3.8896687e-05, -0.00041252645,...            1   \n",
              "9846  [0.003923648, 0.0039615026, 0.0041058823, 0.00...            1   \n",
              "9847  [-0.02300861, -0.022161294, -0.021594988, -0.0...            1   \n",
              "\n",
              "      ageRange=22-40  ageRange=41-65  \\\n",
              "0                  1               0   \n",
              "1                  1               0   \n",
              "2                  1               0   \n",
              "3                  1               0   \n",
              "4                  1               0   \n",
              "...              ...             ...   \n",
              "9843               1               0   \n",
              "9844               1               0   \n",
              "9845               1               0   \n",
              "9846               1               0   \n",
              "9847               1               0   \n",
              "\n",
              "                             audio_reconstructed_padded  \n",
              "0     [-0.0010869442, 6.950152e-05, 0.0010575794, 1....  \n",
              "1     [0.0005718688, 0.0005805124, 0.00058862584, 0....  \n",
              "2     [3.145638e-05, 3.0807154e-05, 2.8492566e-05, 3...  \n",
              "3     [0.0076071513, 0.008677023, 0.009811347, 0.010...  \n",
              "4     [4.5547e-06, 2.4867417e-05, 3.363467e-05, 3.05...  \n",
              "...                                                 ...  \n",
              "9843  [-0.012367419, -0.01213057, -0.011735419, -0.0...  \n",
              "9844  [-0.00086439366, 0.011530005, 0.0026797082, -0...  \n",
              "9845  [0.0048560956, -3.8896687e-05, -0.00041252645,...  \n",
              "9846  [0.003923648, 0.0039615026, 0.0041058823, 0.00...  \n",
              "9847  [-0.02300861, -0.022161294, -0.021594988, -0.0...  \n",
              "\n",
              "[9848 rows x 9 columns]"
            ],
            "text/html": [
              "\n",
              "  <div id=\"df-5063da21-d548-413b-99a3-00c069b63747\">\n",
              "    <div class=\"colab-df-container\">\n",
              "      <div>\n",
              "<style scoped>\n",
              "    .dataframe tbody tr th:only-of-type {\n",
              "        vertical-align: middle;\n",
              "    }\n",
              "\n",
              "    .dataframe tbody tr th {\n",
              "        vertical-align: top;\n",
              "    }\n",
              "\n",
              "    .dataframe thead th {\n",
              "        text-align: right;\n",
              "    }\n",
              "</style>\n",
              "<table border=\"1\" class=\"dataframe\">\n",
              "  <thead>\n",
              "    <tr style=\"text-align: right;\">\n",
              "      <th></th>\n",
              "      <th>Id</th>\n",
              "      <th>audio</th>\n",
              "      <th>label</th>\n",
              "      <th>audio_trim</th>\n",
              "      <th>audio_reconstructed</th>\n",
              "      <th>gender=male</th>\n",
              "      <th>ageRange=22-40</th>\n",
              "      <th>ageRange=41-65</th>\n",
              "      <th>audio_reconstructed_padded</th>\n",
              "    </tr>\n",
              "  </thead>\n",
              "  <tbody>\n",
              "    <tr>\n",
              "      <th>0</th>\n",
              "      <td>0</td>\n",
              "      <td>[0.0, 0.0, 0.0, 0.0, 0.0, 0.0, 0.0, 0.0, 0.0, ...</td>\n",
              "      <td>change languagenone</td>\n",
              "      <td>[-0.0010869442, 6.950152e-05, 0.0010575794, 1....</td>\n",
              "      <td>[-0.0010869442, 6.950152e-05, 0.0010575794, 1....</td>\n",
              "      <td>0</td>\n",
              "      <td>1</td>\n",
              "      <td>0</td>\n",
              "      <td>[-0.0010869442, 6.950152e-05, 0.0010575794, 1....</td>\n",
              "    </tr>\n",
              "    <tr>\n",
              "      <th>1</th>\n",
              "      <td>1</td>\n",
              "      <td>[0.0, 0.0, 0.0, 0.0, 0.0, 0.0, 0.0, 0.0, 0.0, ...</td>\n",
              "      <td>activatemusic</td>\n",
              "      <td>[0.0005718688, 0.0005805124, 0.00058862584, 0....</td>\n",
              "      <td>[0.0005718688, 0.0005805124, 0.00058862584, 0....</td>\n",
              "      <td>0</td>\n",
              "      <td>1</td>\n",
              "      <td>0</td>\n",
              "      <td>[0.0005718688, 0.0005805124, 0.00058862584, 0....</td>\n",
              "    </tr>\n",
              "    <tr>\n",
              "      <th>2</th>\n",
              "      <td>2</td>\n",
              "      <td>[0.0, 0.0, 0.0, 0.0, 0.0, 0.0, 0.0, 0.0, 0.0, ...</td>\n",
              "      <td>deactivatelights</td>\n",
              "      <td>[3.145638e-05, 3.0807154e-05, 2.8492566e-05, 3...</td>\n",
              "      <td>[3.145638e-05, 3.0807154e-05, 2.8492566e-05, 3...</td>\n",
              "      <td>0</td>\n",
              "      <td>1</td>\n",
              "      <td>0</td>\n",
              "      <td>[3.145638e-05, 3.0807154e-05, 2.8492566e-05, 3...</td>\n",
              "    </tr>\n",
              "    <tr>\n",
              "      <th>3</th>\n",
              "      <td>3</td>\n",
              "      <td>[0.0, 0.0, 0.0, 0.0, 0.0, 0.0, 0.0, 0.0, 0.0, ...</td>\n",
              "      <td>increasevolume</td>\n",
              "      <td>[0.0076071513, 0.008677023, 0.009811347, 0.010...</td>\n",
              "      <td>[0.0076071513, 0.008677023, 0.009811347, 0.010...</td>\n",
              "      <td>0</td>\n",
              "      <td>1</td>\n",
              "      <td>0</td>\n",
              "      <td>[0.0076071513, 0.008677023, 0.009811347, 0.010...</td>\n",
              "    </tr>\n",
              "    <tr>\n",
              "      <th>4</th>\n",
              "      <td>4</td>\n",
              "      <td>[0.0, 0.0, 0.0, 0.0, 0.0, 0.0, 0.0, 0.0, 0.0, ...</td>\n",
              "      <td>increasevolume</td>\n",
              "      <td>[4.5547e-06, 2.4867417e-05, 3.363467e-05, 3.05...</td>\n",
              "      <td>[4.5547e-06, 2.4867417e-05, 3.363467e-05, 3.05...</td>\n",
              "      <td>0</td>\n",
              "      <td>1</td>\n",
              "      <td>0</td>\n",
              "      <td>[4.5547e-06, 2.4867417e-05, 3.363467e-05, 3.05...</td>\n",
              "    </tr>\n",
              "    <tr>\n",
              "      <th>...</th>\n",
              "      <td>...</td>\n",
              "      <td>...</td>\n",
              "      <td>...</td>\n",
              "      <td>...</td>\n",
              "      <td>...</td>\n",
              "      <td>...</td>\n",
              "      <td>...</td>\n",
              "      <td>...</td>\n",
              "      <td>...</td>\n",
              "    </tr>\n",
              "    <tr>\n",
              "      <th>9843</th>\n",
              "      <td>9849</td>\n",
              "      <td>[0.009223618, 0.010777138, 0.009321626, 0.0099...</td>\n",
              "      <td>decreasevolume</td>\n",
              "      <td>[-0.012367419, -0.01213057, -0.011735419, -0.0...</td>\n",
              "      <td>[-0.012367419, -0.01213057, -0.011735419, -0.0...</td>\n",
              "      <td>1</td>\n",
              "      <td>1</td>\n",
              "      <td>0</td>\n",
              "      <td>[-0.012367419, -0.01213057, -0.011735419, -0.0...</td>\n",
              "    </tr>\n",
              "    <tr>\n",
              "      <th>9844</th>\n",
              "      <td>9850</td>\n",
              "      <td>[0.00936052, 0.010867924, 0.009305291, 0.00991...</td>\n",
              "      <td>deactivatelights</td>\n",
              "      <td>[-0.00086439366, 0.011530005, 0.0026797082, -0...</td>\n",
              "      <td>[-0.00086439366, 0.011530005, 0.0026797082, -0...</td>\n",
              "      <td>1</td>\n",
              "      <td>1</td>\n",
              "      <td>0</td>\n",
              "      <td>[-0.00086439366, 0.011530005, 0.0026797082, -0...</td>\n",
              "    </tr>\n",
              "    <tr>\n",
              "      <th>9845</th>\n",
              "      <td>9851</td>\n",
              "      <td>[0.0014334349, 0.001723074, 0.0015384919, 0.00...</td>\n",
              "      <td>deactivatelights</td>\n",
              "      <td>[0.0048560956, -3.8896687e-05, -0.00041252645,...</td>\n",
              "      <td>[0.0048560956, -3.8896687e-05, -0.00041252645,...</td>\n",
              "      <td>1</td>\n",
              "      <td>1</td>\n",
              "      <td>0</td>\n",
              "      <td>[0.0048560956, -3.8896687e-05, -0.00041252645,...</td>\n",
              "    </tr>\n",
              "    <tr>\n",
              "      <th>9846</th>\n",
              "      <td>9852</td>\n",
              "      <td>[0.009742705, 0.011407773, 0.009794228, 0.0103...</td>\n",
              "      <td>deactivatelights</td>\n",
              "      <td>[0.003923648, 0.0039615026, 0.0041058823, 0.00...</td>\n",
              "      <td>[0.003923648, 0.0039615026, 0.0041058823, 0.00...</td>\n",
              "      <td>1</td>\n",
              "      <td>1</td>\n",
              "      <td>0</td>\n",
              "      <td>[0.003923648, 0.0039615026, 0.0041058823, 0.00...</td>\n",
              "    </tr>\n",
              "    <tr>\n",
              "      <th>9847</th>\n",
              "      <td>9853</td>\n",
              "      <td>[0.009512647, 0.011129991, 0.00956014, 0.01007...</td>\n",
              "      <td>increasevolume</td>\n",
              "      <td>[-0.02300861, -0.022161294, -0.021594988, -0.0...</td>\n",
              "      <td>[-0.02300861, -0.022161294, -0.021594988, -0.0...</td>\n",
              "      <td>1</td>\n",
              "      <td>1</td>\n",
              "      <td>0</td>\n",
              "      <td>[-0.02300861, -0.022161294, -0.021594988, -0.0...</td>\n",
              "    </tr>\n",
              "  </tbody>\n",
              "</table>\n",
              "<p>9848 rows × 9 columns</p>\n",
              "</div>\n",
              "      <button class=\"colab-df-convert\" onclick=\"convertToInteractive('df-5063da21-d548-413b-99a3-00c069b63747')\"\n",
              "              title=\"Convert this dataframe to an interactive table.\"\n",
              "              style=\"display:none;\">\n",
              "        \n",
              "  <svg xmlns=\"http://www.w3.org/2000/svg\" height=\"24px\"viewBox=\"0 0 24 24\"\n",
              "       width=\"24px\">\n",
              "    <path d=\"M0 0h24v24H0V0z\" fill=\"none\"/>\n",
              "    <path d=\"M18.56 5.44l.94 2.06.94-2.06 2.06-.94-2.06-.94-.94-2.06-.94 2.06-2.06.94zm-11 1L8.5 8.5l.94-2.06 2.06-.94-2.06-.94L8.5 2.5l-.94 2.06-2.06.94zm10 10l.94 2.06.94-2.06 2.06-.94-2.06-.94-.94-2.06-.94 2.06-2.06.94z\"/><path d=\"M17.41 7.96l-1.37-1.37c-.4-.4-.92-.59-1.43-.59-.52 0-1.04.2-1.43.59L10.3 9.45l-7.72 7.72c-.78.78-.78 2.05 0 2.83L4 21.41c.39.39.9.59 1.41.59.51 0 1.02-.2 1.41-.59l7.78-7.78 2.81-2.81c.8-.78.8-2.07 0-2.86zM5.41 20L4 18.59l7.72-7.72 1.47 1.35L5.41 20z\"/>\n",
              "  </svg>\n",
              "      </button>\n",
              "      \n",
              "  <style>\n",
              "    .colab-df-container {\n",
              "      display:flex;\n",
              "      flex-wrap:wrap;\n",
              "      gap: 12px;\n",
              "    }\n",
              "\n",
              "    .colab-df-convert {\n",
              "      background-color: #E8F0FE;\n",
              "      border: none;\n",
              "      border-radius: 50%;\n",
              "      cursor: pointer;\n",
              "      display: none;\n",
              "      fill: #1967D2;\n",
              "      height: 32px;\n",
              "      padding: 0 0 0 0;\n",
              "      width: 32px;\n",
              "    }\n",
              "\n",
              "    .colab-df-convert:hover {\n",
              "      background-color: #E2EBFA;\n",
              "      box-shadow: 0px 1px 2px rgba(60, 64, 67, 0.3), 0px 1px 3px 1px rgba(60, 64, 67, 0.15);\n",
              "      fill: #174EA6;\n",
              "    }\n",
              "\n",
              "    [theme=dark] .colab-df-convert {\n",
              "      background-color: #3B4455;\n",
              "      fill: #D2E3FC;\n",
              "    }\n",
              "\n",
              "    [theme=dark] .colab-df-convert:hover {\n",
              "      background-color: #434B5C;\n",
              "      box-shadow: 0px 1px 3px 1px rgba(0, 0, 0, 0.15);\n",
              "      filter: drop-shadow(0px 1px 2px rgba(0, 0, 0, 0.3));\n",
              "      fill: #FFFFFF;\n",
              "    }\n",
              "  </style>\n",
              "\n",
              "      <script>\n",
              "        const buttonEl =\n",
              "          document.querySelector('#df-5063da21-d548-413b-99a3-00c069b63747 button.colab-df-convert');\n",
              "        buttonEl.style.display =\n",
              "          google.colab.kernel.accessAllowed ? 'block' : 'none';\n",
              "\n",
              "        async function convertToInteractive(key) {\n",
              "          const element = document.querySelector('#df-5063da21-d548-413b-99a3-00c069b63747');\n",
              "          const dataTable =\n",
              "            await google.colab.kernel.invokeFunction('convertToInteractive',\n",
              "                                                     [key], {});\n",
              "          if (!dataTable) return;\n",
              "\n",
              "          const docLinkHtml = 'Like what you see? Visit the ' +\n",
              "            '<a target=\"_blank\" href=https://colab.research.google.com/notebooks/data_table.ipynb>data table notebook</a>'\n",
              "            + ' to learn more about interactive tables.';\n",
              "          element.innerHTML = '';\n",
              "          dataTable['output_type'] = 'display_data';\n",
              "          await google.colab.output.renderOutput(dataTable, element);\n",
              "          const docLink = document.createElement('div');\n",
              "          docLink.innerHTML = docLinkHtml;\n",
              "          element.appendChild(docLink);\n",
              "        }\n",
              "      </script>\n",
              "    </div>\n",
              "  </div>\n",
              "  "
            ]
          },
          "metadata": {},
          "execution_count": 43
        }
      ],
      "source": [
        "# # # Padding shorter audio with 0 samples in order to get all audio files of the same length\n",
        "audios_reconstructed_padded = []\n",
        "for i, audio in enumerate(df_pd.audio_reconstructed):\n",
        "    audio_reconstructed_padded = np.pad(df_pd.audio_reconstructed[i],(0,max_length- len(df_pd.audio_reconstructed[i])),mode='constant', constant_values=0)\n",
        "    audios_reconstructed_padded.append(audio_reconstructed_padded)\n",
        "\n",
        "df_pd['audio_reconstructed_padded'] = audios_reconstructed_padded  \n",
        "df_pd  "
      ]
    },
    {
      "cell_type": "code",
      "source": [
        "# len(df_pd.audio_reconstructed_padded[3])"
      ],
      "metadata": {
        "id": "WBZpS-grdyIP"
      },
      "id": "WBZpS-grdyIP",
      "execution_count": 44,
      "outputs": []
    },
    {
      "cell_type": "markdown",
      "source": [
        "Plot any raw audio and its final trimmed, splitted and padded version"
      ],
      "metadata": {
        "id": "9uYQ98xgefCi"
      },
      "id": "9uYQ98xgefCi"
    },
    {
      "cell_type": "code",
      "source": [
        "audio = df_pd.audio[0]\n",
        "audio_trimmed_splitted = df_pd.audio_reconstructed[0]\n",
        "audio_trimmed_splitted_padded = df_pd.audio_reconstructed_padded[0]\n",
        "\n",
        "mel_features_audio = librosa.feature.melspectrogram(y=audio, sr=sr)\n",
        "mel_features_audio_trimmed_splitted = librosa.feature.melspectrogram(y=audio_trimmed_splitted, sr=sr)\n",
        "mfcc_audio  = librosa.feature.mfcc(y=audio, sr=sr, n_mfcc=13, n_fft=2048, hop_length=128, n_mels = 40, dct_type=2)\n",
        "mfcc_audio_trimmed_splitted = librosa.feature.mfcc(y=audio, sr=sr, n_mfcc=13, n_fft=2048, hop_length=128, n_mels = 40, dct_type=2)\n",
        "#mel_features_audio_trimmed_splitted_padded = librosa.feature.melspectrogram(y=audio_trimmed_splitted_padded, sr=sr)\n",
        "\n",
        "S1 = librosa.power_to_db(mel_features_audio, ref=np.max)\n",
        "S2 = librosa.power_to_db(mel_features_audio_trimmed_splitted, ref=np.max)\n",
        "#S3 = librosa.power_to_db(mel_features_audio_trimmed_splitted_padded, ref=np.max)\n",
        "\n",
        "\n",
        "\n",
        "fig, axs = plt.subplots(2,3, figsize=(18,10))\n",
        "img_original = librosa.display.waveshow(audio,sr=sr, x_axis='time', label='original', ax=axs[0,0]);\n",
        "img_trimmed_splitted = librosa.display.waveshow(audio_trimmed_splitted,sr=sr, x_axis='time', label='processed', ax=axs[1,0]);\n",
        "\n",
        "#librosa.display.waveshow(audio_trimmed_splitted_padded,sr=sr, x_axis='time', label='processed', ax=axs[2,0]);\n",
        "\n",
        "img_original_mel = librosa.display.specshow(S1, x_axis='time', y_axis='mel', ax=axs[0, 1]) # mfcc in row i, column 1\n",
        "#plt.plot(np.linspace(0, len(mfcc_audio) / sample_rate, num=len(mfcc_audio)), audio)\n",
        "#axs[0,2].imshow(mfcc_audio, aspect='auto', origin='lower', x_axis='time');\n",
        "#img_original_mfcc = axs[0,2].imshow(mfcc_audio, interpolation='nearest', cmap='copper', origin='lower')\n",
        "img_original_mfcc = librosa.display.specshow(mfcc_audio, x_axis='time',y_axis='mel',ax=axs[0,2])\n",
        "\n",
        "img_trimmed_splitted_mel = librosa.display.specshow(S2, x_axis='time', y_axis='mel', ax=axs[1, 1]) # mfcc in row i, column 1\n",
        "img_trimmed_splitted_mfcc = librosa.display.specshow(mfcc_audio_trimmed_splitted, x_axis='time',y_axis='mel', ax=axs[1,2])\n",
        "\n",
        "#librosa.display.specshow(S3, x_axis='time', y_axis='mel',ax=axs[2, 1]) # mfcc in row i, column 1\n",
        "\n",
        "\n",
        "axs[0,0].set(title=\"Original audio (time)\")\n",
        "axs[0,1].set(title=\"Spectogram original audio (dB)\")\n",
        "axs[0,2].set(title=\"MFCCs original audio (dB)\")\n",
        "\n",
        "\n",
        "axs[1,0].set(title=\"Trimmed/splitted audio (time)\")\n",
        "axs[1,1].set(title=\"Spectogram trimmed/splitted audio (dB)\")\n",
        "#axs[2,0].set(title=\"Trimmed/splitted audio (time)\")\n",
        "\n",
        "\n",
        "# axs[w,0].set(title=\"Trimmed/splitted audio (time)\")\n",
        "# axs[1,1].set(title=\"Spectogram trimmed/splitted audio (dB)\")\n",
        "\n",
        "fig.colorbar(img_original_mel, ax=[axs[0,1]])\n",
        "fig.colorbar(img_original_mfcc, ax=[axs[0,2]])\n",
        "fig.colorbar(img_trimmed_splitted_mel, ax=[axs[1,1]])\n",
        "fig.colorbar(img_trimmed_splitted_mfcc, ax=[axs[1,2]])\n",
        "\n",
        "# axs[2,0].set(title=\"Padded audio (time)\")\n",
        "# axs[2,1].set(title=\"Spectogram padded audio (dB)\")\n",
        "plt.legend()\n",
        "\n",
        "# #librosa.display.specshow(mfccs, x_axis='time', ax=ax[i, 1]) # mfcc in row i, column 1\n",
        "\n",
        "# axs[0, 0].librosa.display.waveshow(s1,sr=sr, x_axis='time', label='original');\n",
        "# axs[0, 0].set_title('Original audio')\n",
        "# axs[0, 1].librosa.display.specshow(S1, x_axis='time', y_axis='mel');\n",
        "# axs[0, 1].set_title('Spectogram orignal audio')\n",
        "# axs[1, 0].librosa.display.waveshow(s2,sr=sr, x_axis='time', label='processed');\n",
        "# axs[1, 0].set_title('Processed audio')\n",
        "# axs[1, 1].librosa.display.specshow(S2, x_axis='time', y_axis='mel');\n",
        "# axs[1, 1].set_title('Spectogram processed audio')\n",
        "\n",
        "# for ax in axs.flat:\n",
        "#     ax.set(xlabel='x-label', ylabel='y-label')\n",
        "\n",
        "# # Hide x labels and tick labels for top plots and y ticks for right plots.\n",
        "# for ax in axs.flat:\n",
        "#     ax.label_outer()"
      ],
      "metadata": {
        "colab": {
          "base_uri": "https://localhost:8080/",
          "height": 656
        },
        "id": "zIZpm-euecu6",
        "outputId": "c5c71e25-c5d1-4a35-d91c-9f6568bef910"
      },
      "id": "zIZpm-euecu6",
      "execution_count": 45,
      "outputs": [
        {
          "output_type": "stream",
          "name": "stderr",
          "text": [
            "WARNING:matplotlib.legend:No handles with labels found to put in legend.\n"
          ]
        },
        {
          "output_type": "execute_result",
          "data": {
            "text/plain": [
              "<matplotlib.legend.Legend at 0x7f7941456370>"
            ]
          },
          "metadata": {},
          "execution_count": 45
        },
        {
          "output_type": "display_data",
          "data": {
            "text/plain": [
              "<Figure size 1296x720 with 10 Axes>"
            ],
            "image/png": "[encoded data removed]"
          },
          "metadata": {
            "needs_background": "light"
          }
        }
      ]
    },
    {
      "cell_type": "code",
      "source": [
        "# idx = 0\n",
        "# ipd.Audio(s1[:15434], rate=22050)"
      ],
      "metadata": {
        "id": "KTZPAHTmiy0E"
      },
      "id": "KTZPAHTmiy0E",
      "execution_count": null,
      "outputs": []
    },
    {
      "cell_type": "code",
      "source": [
        "# n_windows = 20\n",
        "# n_samples_window = len(audio_trimmed_splitted_padded)//n_windows\n",
        "# n_samples_window, 4410//4"
      ],
      "metadata": {
        "id": "5J68CSGYzTKd"
      },
      "id": "5J68CSGYzTKd",
      "execution_count": null,
      "outputs": []
    },
    {
      "cell_type": "code",
      "source": [
        "# mfccs = []\n",
        "# mfccs_spectograms = []\n",
        "# svm = True\n",
        "# categorical_features = [\"gender=male\", 'ageRange=41-65', 'ageRange=65+']\n",
        "# audio_reconstructed_padded = np.array(df_pd.audio_reconstructed_padded)\n",
        "# for first_sample_window in range(0, max_length, n_samples_window):\n",
        "#   final_sample_window = first_sample_window + n_samples_window\n",
        "#   #print(first_sample_window, final_sample_window)\n",
        "#   #print(len(df_pd.audio_reconstructed[first_sample_window:final_sample_window]))\n",
        "#   #break\n",
        "#   mfcc_window =  librosa.feature.mfcc(y=audio_reconstructed_padded[0][first_sample_window:final_sample_window], \n",
        "#                               sr=sr, \n",
        "#                               n_mfcc=13,\n",
        "#                             dct_type=2)\n",
        "#   mfccs_spectograms.append(mfcc_window)\n",
        "  \n",
        "#   # mfcc_means = mfcc_window.mean(axis=1)\n",
        "#   # mfcc_medians = np.median(mfcc_window, axis=1)\n",
        "#   # mfcc_stds = mfcc_window.std(axis=1)\n",
        "#   # mfcc_maxs = mfcc_window.max(axis=1)\n",
        "#   # mfcc_mins = mfcc_window.min(axis=1)\n",
        "\n",
        "#   #we stack together the means, stds, medians, maxs and mins to get the final feature vector for each audio.\n",
        "#   #audio_features = list(mfcc_means)+list(mfcc_medians)+list(mfcc_stds)+list(mfcc_maxs)+list(mfcc_mins)\n",
        "  \n",
        "#   #FLATTEN MFCC MATRIX\n",
        "#   mfccs.append(mfcc_window.flatten())\n"
      ],
      "metadata": {
        "id": "GVlJRtW3zuRg"
      },
      "id": "GVlJRtW3zuRg",
      "execution_count": null,
      "outputs": []
    },
    {
      "cell_type": "code",
      "source": [
        "# df_single_window = pd.DataFrame(mfccs)\n",
        "# df_single_window"
      ],
      "metadata": {
        "id": "n3JiFb9yEqhu"
      },
      "id": "n3JiFb9yEqhu",
      "execution_count": null,
      "outputs": []
    },
    {
      "cell_type": "code",
      "source": [
        "# librosa.display.specshow(mfccs_spectograms[5], y_axis='mel',x_axis='time') # mfcc in row i, column 1\n"
      ],
      "metadata": {
        "id": "8nITPjztCAic"
      },
      "id": "8nITPjztCAic",
      "execution_count": null,
      "outputs": []
    },
    {
      "cell_type": "code",
      "source": [
        "# mfccs_spectograms[5].shape"
      ],
      "metadata": {
        "id": "t_3ipiyrCV09"
      },
      "id": "t_3ipiyrCV09",
      "execution_count": null,
      "outputs": []
    },
    {
      "cell_type": "code",
      "source": [
        "# mfccs_spectograms[5].mean(axis=1)"
      ],
      "metadata": {
        "id": "puj8U0FvDTnh"
      },
      "id": "puj8U0FvDTnh",
      "execution_count": null,
      "outputs": []
    },
    {
      "cell_type": "code",
      "source": [
        "# mfcc_0 = librosa.feature.mfcc(y=df_pd.audio[0], \n",
        "#                               sr=sr, \n",
        "#                               n_mfcc=13)\n",
        "# plt.figure()\n",
        "# librosa.display.waveshow(df_pd.audio[0],sr=sr, x_axis='time', label='original');\n",
        "# plt.figure()\n",
        "# librosa.display.specshow(mfcc_0, y_axis='mel',x_axis='time') # mfcc in row i, column 1\n"
      ],
      "metadata": {
        "id": "L8hqFxi98Upd"
      },
      "id": "L8hqFxi98Upd",
      "execution_count": null,
      "outputs": []
    },
    {
      "cell_type": "code",
      "source": [
        "# df_single_window = pd.DataFrame(mfccs)\n",
        "# df_single_window"
      ],
      "metadata": {
        "id": "OhapND-A65Wn"
      },
      "id": "OhapND-A65Wn",
      "execution_count": null,
      "outputs": []
    },
    {
      "cell_type": "code",
      "source": [
        "# from sklearn.preprocessing import StandardScaler\n",
        "# scaler = StandardScaler()\n",
        "# df_single_window = pd.DataFrame(mfccs)\n",
        "# if svm == True:\n",
        "#   scaled_numerical_df = scaler.fit_transform(df_single_window)\n",
        "#   scaled_numerical_df = pd.DataFrame(scaled_numerical_df)\n",
        "# else:\n",
        "#     scaled_numerical_df = pd.DataFrame(mfccs)\n",
        "\n",
        "\n",
        "# X = pd.concat([df_pd[categorical_features], scaled_numerical_df], axis=1)\n",
        "# y = df_pd[\"label\"]"
      ],
      "metadata": {
        "id": "EmycRbnV3SRa"
      },
      "id": "EmycRbnV3SRa",
      "execution_count": null,
      "outputs": []
    },
    {
      "cell_type": "code",
      "source": [
        "seed = 42"
      ],
      "metadata": {
        "id": "TI1FoNE0Sef4"
      },
      "id": "TI1FoNE0Sef4",
      "execution_count": 46,
      "outputs": []
    },
    {
      "cell_type": "code",
      "execution_count": 47,
      "id": "0d2d5b03",
      "metadata": {
        "id": "0d2d5b03"
      },
      "outputs": [],
      "source": [
        "### RandomForest Classifier ###\n",
        "from sklearn.ensemble import RandomForestClassifier\n",
        "from sklearn.model_selection import GridSearchCV\n",
        "\n",
        "def randforest_classifier(input_x, input_y, cv=10, seed = seed):\n",
        "    ## Defining parameters\n",
        "    model_RF= RandomForestClassifier(random_state =seed)\n",
        "\n",
        "    parameters = {'n_estimators':[100, 150, 200], \n",
        "                  'criterion':['gini', 'entropy'],\n",
        "                  'max_features':['sqrt', 'log2']}\n",
        "\n",
        "    ## Building Grid Search algorithm with cross-validation and Mean Squared Error score.\n",
        "\n",
        "    grid_search_RF = GridSearchCV(estimator=model_RF,  \n",
        "                         param_grid=parameters,\n",
        "                         scoring='accuracy',\n",
        "                         cv=cv,\n",
        "                         n_jobs=-1,\n",
        "                        verbose = 15)\n",
        "\n",
        "    ## Lastly, finding the best parameters.\n",
        "\n",
        "    grid_search_RF.fit(input_x, input_y)\n",
        "    best_parameters_RF = grid_search_RF.best_params_  \n",
        "    best_score_RF = grid_search_RF.best_score_ \n",
        "    print(best_parameters_RF)\n",
        "    print(best_score_RF)\n",
        "    results = grid_search_RF.cv_results_\n",
        "    \n",
        "    return best_parameters_RF, results, best_score_RF\n",
        "\n"
      ]
    },
    {
      "cell_type": "code",
      "source": [
        "### RandomForest Classifier ###\n",
        "from sklearn.svm import SVC\n",
        "from sklearn.model_selection import GridSearchCV\n",
        "\n",
        "def svm_classifier(input_x, input_y, cv=10, seed = seed):\n",
        "    ## Defining parameters\n",
        "    model_SVM= SVC(random_state =seed)\n",
        "\n",
        "    parameters = {'kernel':  ['rbf'], \n",
        "                   \"C\" : [11, 12, 13, 14],\n",
        "                  \"gamma\" : ['auto']\n",
        "                  }\n",
        "\n",
        "    ## Building Grid Search algorithm with cross-validation and Mean Squared Error score.\n",
        "\n",
        "    grid_search_SVM = GridSearchCV(estimator=model_SVM,  \n",
        "                         param_grid=parameters,\n",
        "                         scoring='accuracy',\n",
        "                         cv=cv,\n",
        "                         n_jobs=-1,\n",
        "                        verbose = 15)\n",
        "\n",
        "    ## Lastly, finding the best parameters.\n",
        "\n",
        "    grid_search_SVM.fit(input_x, input_y)\n",
        "    best_parameters = grid_search_SVM.best_params_  \n",
        "    best_score = grid_search_SVM.best_score_ \n",
        "    print(best_parameters)\n",
        "    print(best_score)\n",
        "    results = grid_search_SVM.cv_results_\n",
        "    \n",
        "    return model_SVM, best_parameters, results, best_score\n",
        "\n"
      ],
      "metadata": {
        "id": "LsBWBPh7WFCz"
      },
      "id": "LsBWBPh7WFCz",
      "execution_count": 48,
      "outputs": []
    },
    {
      "cell_type": "code",
      "source": [
        "import warnings\n",
        "warnings.filterwarnings(\"ignore\")"
      ],
      "metadata": {
        "id": "s1ELuvfR0Bhu"
      },
      "id": "s1ELuvfR0Bhu",
      "execution_count": 49,
      "outputs": []
    },
    {
      "cell_type": "code",
      "source": [
        "import sklearn\n",
        "from sklearn.model_selection import train_test_split\n",
        "\n",
        "from sklearn.preprocessing import StandardScaler\n",
        "scaler = StandardScaler()\n",
        "\n",
        "features = []\n",
        "hop_length = 128\n",
        "frame_rate = sr*2/hop_length\n",
        "\n",
        "n_ffts = [512, 1024, 2048, 4096, 8192]\n",
        "hops = [64, 128, 256, 512, 1024, 2048, 4096]\n",
        "\n",
        "categorical_features = [\"gender=male\", 'ageRange=22-40', 'ageRange=41-65']\n",
        "\n",
        "svm = True\n",
        "\n",
        "\n",
        "features = []\n",
        "for i, audio in enumerate(df_pd.audio_trim):\n",
        "#n_fft = int(frame_rate*len(audio))\n",
        "#For each trim audio extract MFCC (so we will get a matrix of n_mfcc components*nc, with nc variable)\n",
        "    mfcc_features = librosa.feature.mfcc(y=audio, \n",
        "                              sr=sr, \n",
        "                              n_mfcc=13)\n",
        "#    mfcc_features = sklearn.preprocessing.scale(mfcc_features, axis=1)\n",
        "#   mel_features = librosa.feature.melspectrogram(y=df_pd.audio_trim[i], sr=sr)\n",
        "#   spectogram = librosa.power_to_db(mel_features, ref=np.max)\n",
        "\n",
        "#For each coefficient we compute the mean, median, std, max, min so we will have a total of n_mfcc*5 features for each audio\n",
        "    mfcc_means = mfcc_features.mean(axis=1)\n",
        "    #mfcc_medians = np.median(mfcc_features, axis=1)\n",
        "    mfcc_stds = mfcc_features.std(axis=1)\n",
        "    #mfcc_maxs = mfcc_features.max(axis=1)\n",
        "    #mfcc_mins = mfcc_features.min(axis=1)\n",
        "\n",
        "    #we stack together the means, stds, medians, maxs and mins to get the final feature vector for each audio.\n",
        "    audio_features = list(mfcc_means)+list(mfcc_stds)\n",
        "                    #+list(mfcc_maxs)\n",
        "                    # +list(mfcc_mins)\n",
        "\n",
        "    features.append(audio_features)\n",
        "    #adjust spectogram size to get nice number of columns that are easy to divide3\n",
        "    #spectogram= np.hstack((spectogram,tmp))\n",
        "\n",
        "    #spectograms.append(spectogram)\n",
        "    \n",
        "new_df = pd.DataFrame(features)\n",
        "#if svm == True:\n",
        "scaled_numerical_df = scaler.fit_transform(new_df)\n",
        "scaled_numerical_df = pd.DataFrame(scaled_numerical_df)\n",
        "#else:\n",
        "#scaled_numerical_df = new_df\n",
        "\n",
        "X = scaled_numerical_df\n",
        "X = pd.concat([df_pd[categorical_features], scaled_numerical_df], axis=1)\n",
        "y = df_pd[\"label\"]\n",
        "\n",
        "if i == 0:\n",
        "  print(X.shape, y.shape)\n",
        "\n",
        "# new_df['gender=male'] = df_pd[\"gender=male\"]\n",
        "# new_df['ageRange=41-65'] = df_pd[\"ageRange=41-65\"]\n",
        "# new_df['ageRange=65+'] = df_pd[\"ageRange=65+\"]\n",
        "# new_df['label'] = df_pd[\"label\"]\n",
        "\n",
        "# y = new_df['label']\n",
        "# X = new_df.drop(columns='label')\n",
        "\n",
        "X_train, X_test, y_train, y_test = train_test_split(X, y, test_size=0.2, random_state=seed)\n",
        "\n",
        "# if svm == True: #standardize\n",
        "#   X_train_scaled = scaler.fit_transform(X_train)\n",
        "#   X_test_scaled = scaler.transform(X_test)\n",
        "\n",
        "print(\"###########################################################\")\n",
        "print(\"DATASET SHAPE\")\n",
        "print(X_train.shape, X_test.shape, y_train.shape, y_test.shape)\n",
        "print(\"\")\n",
        "\n",
        "# print(f\"HYPERPARAMS: n_fft = {n_fft}, hop = {hop}\")\n",
        "# print(\"\")\n",
        "#if svm == True:\n",
        "best_model_SVM, _, _, best_score_SVM = svm_classifier(X_train, y_train, 10, seed)\n",
        "print(f\"BEST RESULT: {best_score_SVM}\")\n",
        "\n",
        "#else:\n",
        "best_model_RF, _, _, best_score_RF = randforest_classifier(X_train, y_train, 10, seed)\n",
        "print(f\"BEST RESULT: {best_score_RF}\")\n",
        "\n",
        "\n",
        "            \n",
        "            "
      ],
      "metadata": {
        "colab": {
          "base_uri": "https://localhost:8080/",
          "height": 425
        },
        "id": "rOqvP9bZzGdA",
        "outputId": "40acfc35-e826-40ce-8f9a-d65eb8fd17a8"
      },
      "id": "rOqvP9bZzGdA",
      "execution_count": 63,
      "outputs": [
        {
          "output_type": "stream",
          "name": "stdout",
          "text": [
            "###########################################################\n",
            "DATASET SHAPE\n",
            "(7878, 29) (1970, 29) (7878,) (1970,)\n",
            "\n",
            "Fitting 10 folds for each of 4 candidates, totalling 40 fits\n",
            "{'C': 11, 'gamma': 'auto', 'kernel': 'rbf'}\n",
            "0.5986258296299641\n",
            "BEST RESULT: 0.5986258296299641\n",
            "Fitting 10 folds for each of 12 candidates, totalling 120 fits\n",
            "{'criterion': 'entropy', 'max_features': 'sqrt', 'n_estimators': 200}\n",
            "0.5163697521268842\n"
          ]
        },
        {
          "output_type": "error",
          "ename": "ValueError",
          "evalue": "ignored",
          "traceback": [
            "\u001b[0;31m---------------------------------------------------------------------------\u001b[0m",
            "\u001b[0;31mValueError\u001b[0m                                Traceback (most recent call last)",
            "\u001b[0;32m<ipython-input-63-1389d8c38201>\u001b[0m in \u001b[0;36m<module>\u001b[0;34m\u001b[0m\n\u001b[1;32m     86\u001b[0m \u001b[0;34m\u001b[0m\u001b[0m\n\u001b[1;32m     87\u001b[0m \u001b[0;31m#else:\u001b[0m\u001b[0;34m\u001b[0m\u001b[0;34m\u001b[0m\u001b[0;34m\u001b[0m\u001b[0m\n\u001b[0;32m---> 88\u001b[0;31m \u001b[0mbest_model_RF\u001b[0m\u001b[0;34m,\u001b[0m \u001b[0m_\u001b[0m\u001b[0;34m,\u001b[0m \u001b[0m_\u001b[0m\u001b[0;34m,\u001b[0m \u001b[0mbest_score_RF\u001b[0m \u001b[0;34m=\u001b[0m \u001b[0mrandforest_classifier\u001b[0m\u001b[0;34m(\u001b[0m\u001b[0mX_train\u001b[0m\u001b[0;34m,\u001b[0m \u001b[0my_train\u001b[0m\u001b[0;34m,\u001b[0m \u001b[0;36m10\u001b[0m\u001b[0;34m,\u001b[0m \u001b[0mseed\u001b[0m\u001b[0;34m)\u001b[0m\u001b[0;34m\u001b[0m\u001b[0;34m\u001b[0m\u001b[0m\n\u001b[0m\u001b[1;32m     89\u001b[0m \u001b[0mprint\u001b[0m\u001b[0;34m(\u001b[0m\u001b[0;34mf\"BEST RESULT: {best_score_RF}\"\u001b[0m\u001b[0;34m)\u001b[0m\u001b[0;34m\u001b[0m\u001b[0;34m\u001b[0m\u001b[0m\n\u001b[1;32m     90\u001b[0m \u001b[0;34m\u001b[0m\u001b[0m\n",
            "\u001b[0;31mValueError\u001b[0m: not enough values to unpack (expected 4, got 3)"
          ]
        }
      ]
    },
    {
      "cell_type": "code",
      "source": [
        "best_model_SVM = SVC(random_state=seed, C=13, gamma='auto', kernel='rbf') \n",
        "best_model_RF = RandomForestClassifier(random_state=seed, criterion='entropy', max_features='sqrt', n_estimators=200)\n",
        "\n",
        "best_model_SVM.fit(X_train, y_train)\n",
        "best_model_RF.fit(X_train, y_train)\n",
        "\n",
        "y_pred_SVM = best_model_SVM.predict(X_test)\n",
        "y_pred_RF = best_model_RF.predict(X_test)"
      ],
      "metadata": {
        "id": "kctLuPYMYu3k"
      },
      "id": "kctLuPYMYu3k",
      "execution_count": 52,
      "outputs": []
    },
    {
      "cell_type": "code",
      "source": [
        "from sklearn.metrics import accuracy_score\n",
        "print(f\"Test accuracy RF: {accuracy_score(y_pred_SVM, y_test)}\")\n",
        "print(f\"Test accuracy SVM: {accuracy_score(y_pred_RF, y_test)}\")"
      ],
      "metadata": {
        "colab": {
          "base_uri": "https://localhost:8080/"
        },
        "id": "nmCTdda-ZhbU",
        "outputId": "ff14c8eb-6e94-4276-ae7e-24705cbd961b"
      },
      "id": "nmCTdda-ZhbU",
      "execution_count": 54,
      "outputs": [
        {
          "output_type": "stream",
          "name": "stdout",
          "text": [
            "Test accuracy RF: 0.6598984771573604\n",
            "Test accuracy SVM: 0.533502538071066\n"
          ]
        }
      ]
    },
    {
      "cell_type": "code",
      "source": [
        "import seaborn as sns\n",
        "matrix = X.corr()\n",
        "fig, ax = plt.subplots(figsize=(12,12))\n",
        "sns.heatmap(matrix, ax=ax, vmin=-1, vmax=1,center=0,cmap='GnBu')\n",
        "plt.title(\"Correlation Matrix\")\n",
        "plt.show()"
      ],
      "metadata": {
        "id": "NBKq3JTcq_Uf",
        "outputId": "47012c10-56ff-4a95-fb8f-6783b2d30374",
        "colab": {
          "base_uri": "https://localhost:8080/",
          "height": 794
        }
      },
      "id": "NBKq3JTcq_Uf",
      "execution_count": 57,
      "outputs": [
        {
          "output_type": "display_data",
          "data": {
            "text/plain": [
              "<Figure size 864x864 with 2 Axes>"
            ],
            "image/png": "[encoded data removed]"
          },
          "metadata": {
            "needs_background": "light"
          }
        }
      ]
    },
    {
      "cell_type": "markdown",
      "source": [
        "### Testing on Evaluation set"
      ],
      "metadata": {
        "id": "NWlOl1KCCydd"
      },
      "id": "NWlOl1KCCydd"
    },
    {
      "cell_type": "code",
      "source": [
        "colab = True\n",
        "\n",
        "if colab == True:\n",
        "  path= r'/content/evaluation.csv'\n",
        "else:\n",
        "  path = r'C:/Users/andre/OneDrive/Documenti/GitHub/winter_exam_22_23/development.csv'\n",
        "\n",
        "df_evaluation = pd.read_csv(path)\n",
        "df_evaluation"
      ],
      "metadata": {
        "id": "1l7agoDHchro"
      },
      "id": "1l7agoDHchro",
      "execution_count": null,
      "outputs": []
    },
    {
      "cell_type": "code",
      "source": [
        "if colab == True:\n",
        "  path_working_directory= r'/content/drive/MyDrive/'\n",
        "else:\n",
        "  path_working_directory = r'C:/Users/andre/OneDrive/Documenti/GitHub/winter_exam_22_23'\n",
        "paths_recordings = df_evaluation['path']"
      ],
      "metadata": {
        "id": "UlZDfV1CD5Ra"
      },
      "id": "UlZDfV1CD5Ra",
      "execution_count": null,
      "outputs": []
    },
    {
      "cell_type": "code",
      "source": [
        "signals = []\n",
        "ids = []\n",
        "genders = []\n",
        "ageRanges = []\n",
        "\n",
        "for i, row in df_evaluation.iterrows():\n",
        "    path = row['path']\n",
        "    gender = row['gender']\n",
        "    ageRange = row['ageRange']\n",
        "\n",
        "    file_path = f'{path_working_directory}/{path}'\n",
        "    print(file_path)\n",
        "    signal, sr = librosa.load(file_path)\n",
        "\n",
        "    ids.append(i)\n",
        "    signals.append(signal)\n",
        "    genders.append(gender)\n",
        "    ageRanges.append(ageRange)\n",
        "\n",
        "\n",
        "\n",
        "# for path in paths_recordings_dev:\n",
        "#     file_path = f'{path_to_load_dev}/{path}'\n",
        "    \n",
        "#     signal, sr = librosa.load(file_path)\n",
        "    \n",
        "#     signals.append(signal)\n"
      ],
      "metadata": {
        "id": "p7QKPJbEc-su"
      },
      "id": "p7QKPJbEc-su",
      "execution_count": null,
      "outputs": []
    },
    {
      "cell_type": "code",
      "source": [
        "df_pd_eval = pd.DataFrame()\n",
        "df_pd_eval['Id'] = ids\n",
        "df_pd_eval['audio'] = signals\n",
        "df_pd_eval['gender'] = genders\n",
        "df_pd_eval['ageRange'] = ageRanges\n",
        "df_pd_eval\n",
        "\n",
        "# df.append(path_recording_eval)\n",
        "# df_eval.append(signals)\n",
        "# df_eval.append(sample_rates)\n",
        "# #df_eval.append(labels)"
      ],
      "metadata": {
        "id": "-hRX3mjbgdb0"
      },
      "id": "-hRX3mjbgdb0",
      "execution_count": null,
      "outputs": []
    },
    {
      "cell_type": "code",
      "source": [
        "path_working_directory"
      ],
      "metadata": {
        "id": "MJMsWRhAhpZ6"
      },
      "id": "MJMsWRhAhpZ6",
      "execution_count": null,
      "outputs": []
    },
    {
      "cell_type": "code",
      "source": [
        "name_file = r'/df_pd_eval.pickle'\n",
        "print( path_working_directory+name_file)\n",
        "with open(path_working_directory+name_file, \"wb\") as output_file:\n",
        "    pickle.dump(df_pd_eval, output_file)"
      ],
      "metadata": {
        "id": "X9sEkI--hkEH"
      },
      "id": "X9sEkI--hkEH",
      "execution_count": null,
      "outputs": []
    },
    {
      "cell_type": "code",
      "source": [
        "# if colab == True:\n",
        "#   path_working_directory= r'/content/drive/MyDrive/'\n",
        "# else:\n",
        "#   path_working_directory = r'C:/Users/andre/OneDrive/Documenti/GitHub/winter_exam_22_23'\n",
        "# paths_recordings = df_evaluation['path']"
      ],
      "metadata": {
        "id": "D8kwP5uKCx1K"
      },
      "id": "D8kwP5uKCx1K",
      "execution_count": null,
      "outputs": []
    },
    {
      "cell_type": "code",
      "source": [
        "# signals = []\n",
        "# sample_rates = []\n",
        "\n",
        "# for path in paths_recordings:\n",
        "#     file_path = f'{path_working_directory}/{path}'\n",
        "    \n",
        "#     signal, sr = librosa.load(file_path)\n",
        "    \n",
        "#     signals.append(signal)\n",
        "#     sample_rates.append(sr)"
      ],
      "metadata": {
        "id": "kJqLS3bfFBGe"
      },
      "id": "kJqLS3bfFBGe",
      "execution_count": null,
      "outputs": []
    },
    {
      "cell_type": "code",
      "source": [
        "# df_eval = []\n",
        "# df_eval.append(paths_recordings)\n",
        "# df_eval.append(signals)\n",
        "# df_eval.append(sample_rates)\n",
        "# #df_eval.append(labels)"
      ],
      "metadata": {
        "id": "T_xsvqfsFL0L"
      },
      "id": "T_xsvqfsFL0L",
      "execution_count": null,
      "outputs": []
    },
    {
      "cell_type": "code",
      "source": [
        "name_file = r'/df_pd_eval.pickle'\n",
        "\n",
        "with open(path_working_directory+name_file, 'rb') as f:\n",
        "        df_pd_eval = pickle.load(f)\n",
        "df_pd_eval"
      ],
      "metadata": {
        "id": "FED-ka4GCx4V"
      },
      "id": "FED-ka4GCx4V",
      "execution_count": null,
      "outputs": []
    },
    {
      "cell_type": "code",
      "source": [
        "trim_audios = []\n",
        "for i, audio in enumerate(df_pd_eval.audio):\n",
        "    audio_trim = librosa.effects.trim(audio, top_db=20)[0]\n",
        "    trim_audios.append(audio_trim)\n",
        "    \n",
        "df_pd_eval['audio_trim'] = trim_audios    \n",
        "df_pd_eval"
      ],
      "metadata": {
        "id": "1DZ93_nNPAw5"
      },
      "id": "1DZ93_nNPAw5",
      "execution_count": null,
      "outputs": []
    },
    {
      "cell_type": "code",
      "source": [
        "audios_reconstructed = []\n",
        "\n",
        "for audio in df_pd_eval.audio_trim:\n",
        "    \n",
        "    non_silence_parts = librosa.effects.split(audio, top_db=20)\n",
        "    audio_reconstructed_parts = [] #save the non silent parts in a list that then will be merged together to obtain the reconstructed file\n",
        "    \n",
        "    for part in non_silence_parts:\n",
        "        audio_reconstructed_parts.append(audio[part[0]:part[-1]])\n",
        "\n",
        "    audio_reconstructed = np.hstack(audio_reconstructed_parts)\n",
        "    audios_reconstructed.append(audio_reconstructed)\n",
        "\n",
        "df_pd_eval['audio_reconstructed'] = audios_reconstructed    \n",
        "df_pd_eval"
      ],
      "metadata": {
        "id": "Z7pYTGJSPa9h"
      },
      "id": "Z7pYTGJSPa9h",
      "execution_count": null,
      "outputs": []
    },
    {
      "cell_type": "code",
      "source": [
        "categorical_features = ['gender', 'ageRange']\n",
        "\n",
        "dummy_columns = categorical_features\n",
        "\n",
        "for column in dummy_columns: \n",
        "    if column == 'ageRange':\n",
        "      df_dummies = pd.get_dummies(df_pd_eval[column], prefix = column, prefix_sep='=')#drop_first_true to avoid multi colinearity problem\n",
        "    else:\n",
        "      df_dummies = pd.get_dummies(df_pd_eval[column], drop_first=True, prefix = column, prefix_sep='=') #drop_first_true to avoid multi colinearity problem\n",
        "\n",
        "    df_pd_eval = pd.concat([df_pd_eval, df_dummies], axis = 1)\n",
        "\n",
        "\n",
        "df_pd_eval = df_pd_eval.drop(columns=dummy_columns)\n",
        "df_pd_eval"
      ],
      "metadata": {
        "id": "C2becBGrQDwM"
      },
      "id": "C2becBGrQDwM",
      "execution_count": null,
      "outputs": []
    },
    {
      "cell_type": "code",
      "source": [
        "seed = 42"
      ],
      "metadata": {
        "id": "wTDqYUiUQZ3L"
      },
      "id": "wTDqYUiUQZ3L",
      "execution_count": null,
      "outputs": []
    },
    {
      "cell_type": "code",
      "source": [
        "features =[]\n",
        "categorical_features_ohe = ['gender=male', 'ageRange=22-40','ageRange=41-65']\n",
        "\n",
        "for i, audio in enumerate(df_pd_eval.audio_reconstructed):\n",
        "#n_fft = int(frame_rate*len(audio))\n",
        "#For each trim audio extract MFCC (so we will get a matrix of n_mfcc components*nc, with nc variable)\n",
        "    mfcc_features = librosa.feature.mfcc(y=audio, \n",
        "                              sr=sr*2, \n",
        "                              n_mfcc=13,\n",
        "                              lifter = 10, \n",
        "                              n_fft=2048, \n",
        "                              hop_length=128,\n",
        "                              n_mels = 40,\n",
        "                            dct_type=2)\n",
        "#    mfcc_features = sklearn.preprocessing.scale(mfcc_features, axis=1)\n",
        "#   mel_features = librosa.feature.melspectrogram(y=df_pd.audio_trim[i], sr=sr)\n",
        "#   spectogram = librosa.power_to_db(mel_features, ref=np.max)\n",
        "\n",
        "#For each coefficient we compute the mean, median, std, max, min so we will have a total of n_mfcc*5 features for each audio\n",
        "    mfcc_means = mfcc_features.mean(axis=1)\n",
        "    mfcc_medians = np.median(mfcc_features, axis=1)\n",
        "    mfcc_stds = mfcc_features.std(axis=1)\n",
        "    mfcc_maxs = mfcc_features.max(axis=1)\n",
        "    mfcc_mins = mfcc_features.min(axis=1)\n",
        "\n",
        "    #we stack together the means, stds, medians, maxs and mins to get the final feature vector for each audio.\n",
        "    audio_features = list(mfcc_means)+list(mfcc_medians)+list(mfcc_stds)+list(mfcc_maxs)+list(mfcc_mins)\n",
        "\n",
        "    features.append(audio_features)\n",
        "    #adjust spectogram size to get nice number of columns that are easy to divide3\n",
        "    #spectogram= np.hstack((spectogram,tmp))\n",
        "\n",
        "    #spectograms.append(spectogram)\n",
        "    \n",
        "new_df = pd.DataFrame(features)\n",
        "if svm == True:\n",
        "  scaled_numerical_df = scaler.fit_transform(new_df)\n",
        "  scaled_numerical_df = pd.DataFrame(scaled_numerical_df)\n",
        "else:\n",
        "    scaled_numerical_df = pd.DataFrame(features)\n",
        "\n",
        "\n",
        "X = pd.concat([df_pd_eval[categorical_features_ohe], scaled_numerical_df], axis=1)\n",
        "X"
      ],
      "metadata": {
        "id": "EtVpQRZ4QbeL"
      },
      "id": "EtVpQRZ4QbeL",
      "execution_count": null,
      "outputs": []
    },
    {
      "cell_type": "code",
      "source": [
        "scaled_numerical_df"
      ],
      "metadata": {
        "id": "CS5xVYtg2RzZ"
      },
      "id": "CS5xVYtg2RzZ",
      "execution_count": null,
      "outputs": []
    },
    {
      "cell_type": "markdown",
      "source": [
        "Use the model with best configuration"
      ],
      "metadata": {
        "id": "Aib5jO2dS4Ii"
      },
      "id": "Aib5jO2dS4Ii"
    },
    {
      "cell_type": "code",
      "source": [
        "# #best_model_SVM = SVC(C=12, gamma='auto', kernel='rbf') \n",
        "y_pred = best_model_SVM.predict(scaled_numerical_df)"
      ],
      "metadata": {
        "id": "g4YRVNe1S0hs"
      },
      "id": "g4YRVNe1S0hs",
      "execution_count": null,
      "outputs": []
    },
    {
      "cell_type": "code",
      "source": [
        "submission_df = pd.DataFrame()\n",
        "submission_df['Id'] = df_evaluation['Id']\n",
        "submission_df['Predicted'] = y_pred\n",
        "submission_df"
      ],
      "metadata": {
        "id": "WfZJHrTE_lgj"
      },
      "id": "WfZJHrTE_lgj",
      "execution_count": null,
      "outputs": []
    },
    {
      "cell_type": "code",
      "source": [
        "path_sub = r'/content/submission.csv'\n",
        "submission_df.to_csv(path_sub, index=False)"
      ],
      "metadata": {
        "id": "mMCNAjzs29nh"
      },
      "id": "mMCNAjzs29nh",
      "execution_count": null,
      "outputs": []
    },
    {
      "cell_type": "code",
      "source": [
        "# list(y_pred)"
      ],
      "metadata": {
        "id": "mkAb5DTZ8_Qt"
      },
      "id": "mkAb5DTZ8_Qt",
      "execution_count": null,
      "outputs": []
    },
    {
      "cell_type": "code",
      "source": [
        "# colab = True\n",
        "\n",
        "# if colab == True:\n",
        "#   path= r'/content/sample_submission.csv'\n",
        "# else:\n",
        "#   path = r'C:/Users/andre/OneDrive/Documenti/GitHub/winter_exam_22_23/sample_submission.csv'\n",
        "\n",
        "# df_submission = pd.read_csv(path)\n",
        "# df_submission"
      ],
      "metadata": {
        "id": "hnwm-8xH1jV5"
      },
      "id": "hnwm-8xH1jV5",
      "execution_count": null,
      "outputs": []
    },
    {
      "cell_type": "code",
      "source": [
        "# y_pred"
      ],
      "metadata": {
        "id": "VCHV5A6F2JVo"
      },
      "id": "VCHV5A6F2JVo",
      "execution_count": null,
      "outputs": []
    },
    {
      "cell_type": "markdown",
      "source": [
        "1 : increase volume\n",
        "\n",
        "2: increase heat\n",
        "\n",
        "3: decrease volume\n",
        "\n",
        "4: decrease heat\n",
        "\n",
        "5: change language\n",
        "\n",
        "6: activate music\n",
        "\n",
        "7: deactivate lights"
      ],
      "metadata": {
        "id": "yy88Ctls2-hO"
      },
      "id": "yy88Ctls2-hO"
    },
    {
      "cell_type": "code",
      "source": [
        "# mapping = {1: 'increasevolume', 2:'increaseheat', 3:'decreaseheat', 4:'decreaseheat', 5:'change languagenone', 6:'activatemusic', 7:'deactivatelights'}"
      ],
      "metadata": {
        "id": "PFxGalev2UdQ"
      },
      "id": "PFxGalev2UdQ",
      "execution_count": null,
      "outputs": []
    },
    {
      "cell_type": "code",
      "source": [
        "# df_submission['Predicted'] = np.nan*len(y_pred)\n",
        "# y_pred = pd.Series(y_pred).map(mapping)\n",
        "# df_submission['Predicted'] = y_pred\n",
        "\n",
        "# df_submission"
      ],
      "metadata": {
        "id": "juJzzPWf4JH1"
      },
      "id": "juJzzPWf4JH1",
      "execution_count": null,
      "outputs": []
    },
    {
      "cell_type": "code",
      "source": [
        "# path_sub= r'/content/submission.csv'\n",
        "# df_submission.to_csv(path_sub, index=False)"
      ],
      "metadata": {
        "id": "wWyifbIg5kIN"
      },
      "id": "wWyifbIg5kIN",
      "execution_count": null,
      "outputs": []
    },
    {
      "cell_type": "code",
      "execution_count": null,
      "id": "9ffdf1dd",
      "metadata": {
        "id": "9ffdf1dd"
      },
      "outputs": [],
      "source": [
        "#Test\n",
        "\n",
        "# index = 1\n",
        "# mfcc_features = librosa.feature.mfcc(y=df_pd.audio_trim[index], sr=sr)\n",
        "# print(mfcc_features.shape)\n",
        "\n",
        "# medians = np.median(mfcc_features, axis=1)\n",
        "# print(medians.shape)\n",
        "\n",
        "# means = mfcc_features.mean(axis=1)\n",
        "# medians = np.median(mfcc_features, axis=1)\n",
        "# stds = mfcc_features.std(axis=1)\n",
        "# maxs = mfcc_features.max(axis=1)\n",
        "# mins = mfcc_features.min(axis=1)\n",
        "# mins"
      ]
    },
    {
      "cell_type": "code",
      "execution_count": null,
      "id": "8abde365",
      "metadata": {
        "id": "8abde365"
      },
      "outputs": [],
      "source": [
        "# #Add one hot encoding features and label column\n",
        "# new_df['gender=male'] = df_pd[\"gender=male\"]\n",
        "# new_df['ageRange=41-65'] = df_pd[\"ageRange=41-65\"]\n",
        "# new_df['ageRange=65+'] = df_pd[\"ageRange=65+\"]\n",
        "# new_df['label'] = df_pd[\"label\"]"
      ]
    },
    {
      "cell_type": "code",
      "execution_count": null,
      "id": "11465b74",
      "metadata": {
        "scrolled": true,
        "id": "11465b74"
      },
      "outputs": [],
      "source": [
        "# new_df"
      ]
    },
    {
      "cell_type": "code",
      "execution_count": null,
      "id": "0d328f02",
      "metadata": {
        "id": "0d328f02"
      },
      "outputs": [],
      "source": [
        "# indexes"
      ]
    },
    {
      "cell_type": "code",
      "execution_count": null,
      "id": "a7bb2391",
      "metadata": {
        "id": "a7bb2391"
      },
      "outputs": [],
      "source": [
        "# name_file = r'/df.pickle'\n",
        "\n",
        "# with open(path_working_directory+name_file, 'rb') as f:\n",
        "#         df = pickle.load(f)\n",
        "# df_tmp = pd.DataFrame({'audio':df[1], 'gender': df_development.gender, 'ageRange': df_development.ageRange, 'label':df[3]})\n",
        "# #df_pd[9840:9845] ETICHETTATO COME FEMALE MA SECONDO ME E MALE\n",
        "# pd.DataFrame(df_tmp).iloc[23:28]"
      ]
    },
    {
      "cell_type": "code",
      "execution_count": null,
      "id": "1bd236c4",
      "metadata": {
        "id": "1bd236c4"
      },
      "outputs": [],
      "source": [
        "# df_pd.iloc[23:28]"
      ]
    },
    {
      "cell_type": "code",
      "execution_count": null,
      "id": "2d8a3906",
      "metadata": {
        "id": "2d8a3906"
      },
      "outputs": [],
      "source": [
        "# df_tmp['audio'][26]"
      ]
    },
    {
      "cell_type": "code",
      "execution_count": null,
      "id": "381daf94",
      "metadata": {
        "id": "381daf94"
      },
      "outputs": [],
      "source": [
        "# df_tmp['audio'][24] == df_pd['audio'][24]"
      ]
    },
    {
      "cell_type": "markdown",
      "id": "09490e4b",
      "metadata": {
        "id": "09490e4b"
      },
      "source": [
        "### 4. Training and Validation"
      ]
    },
    {
      "cell_type": "code",
      "execution_count": null,
      "id": "a8ae650f",
      "metadata": {
        "id": "a8ae650f"
      },
      "outputs": [],
      "source": [
        "# y = new_df['label']\n",
        "# X = new_df.drop(columns='label')\n",
        "# seed = 42"
      ]
    },
    {
      "cell_type": "code",
      "execution_count": null,
      "id": "70098add",
      "metadata": {
        "id": "70098add"
      },
      "outputs": [],
      "source": [
        "# from sklearn.model_selection import train_test_split\n",
        "# X_train, X_test, y_train, y_test = train_test_split(X, y, test_size=0.2, random_state=seed)\n",
        "# X_train.shape, X_test.shape, y_train.shape, y_test.shape "
      ]
    },
    {
      "cell_type": "code",
      "execution_count": null,
      "id": "68ff1ea7",
      "metadata": {
        "id": "68ff1ea7"
      },
      "outputs": [],
      "source": [
        "# ### RandomForest Classifier ###\n",
        "# from sklearn.ensemble import RandomForestClassifier\n",
        "# from sklearn.model_selection import GridSearchCV\n",
        "\n",
        "# def randforest_classifier(input_x, input_y, cv=10, seed = seed):\n",
        "#     ## Defining parameters\n",
        "#     model_RF= RandomForestClassifier(random_state =seed)\n",
        "\n",
        "#     parameters = {'n_estimators':[100], \n",
        "#                   'criterion':['gini', 'entropy'],\n",
        "#                   'max_features':['sqrt', 'log2']}\n",
        "\n",
        "#     ## Building Grid Search algorithm with cross-validation and Mean Squared Error score.\n",
        "\n",
        "#     grid_search_RF = GridSearchCV(estimator=model_RF,  \n",
        "#                          param_grid=parameters,\n",
        "#                          scoring='accuracy',\n",
        "#                          cv=cv,\n",
        "#                          n_jobs=-1,\n",
        "#                         verbose = 15)\n",
        "\n",
        "#     ## Lastly, finding the best parameters.\n",
        "\n",
        "#     grid_search_RF.fit(input_x, input_y)\n",
        "#     best_parameters_RF = grid_search_RF.best_params_  \n",
        "#     best_score_RF = grid_search_RF.best_score_ \n",
        "#     print(best_parameters_RF)\n",
        "#     print(best_score_RF)\n",
        "#     results = grid_search_RF.cv_results_\n",
        "    \n",
        "#     return best_parameters_RF, results\n",
        "\n",
        "# best_params, RF_CV_results = randforest_classifier(X_train, y_train, 10, seed)"
      ]
    },
    {
      "cell_type": "code",
      "execution_count": null,
      "id": "52699fb7",
      "metadata": {
        "id": "52699fb7"
      },
      "outputs": [],
      "source": [
        "# rf = RandomForestClassifier(n_estimators=50,criterion='entropy', max_features=\"sqrt\", random_state =seed)\n",
        "# rf.fit(X_train, y_train)"
      ]
    },
    {
      "cell_type": "code",
      "execution_count": null,
      "id": "baee5d7a",
      "metadata": {
        "id": "baee5d7a"
      },
      "outputs": [],
      "source": [
        "# feature_names = [f\"{f}\" for f in X_train.columns]\n",
        "# print(feature_names)\n",
        "# importances=rf.feature_importances_\n",
        "# forest_importances=  pd.Series(importances, index=feature_names).sort_values(ascending=False)\n",
        "# print(\"means: 0-12\")\n",
        "# print(\"medians: 13-25\")\n",
        "# print(\"stds: 26-38\")\n",
        "# print(\"max: 39-51\")\n",
        "# print(\"min: 52-64\")\n",
        "# plt.figure(figsize=(12,12))\n",
        "# forest_importances.plot.bar()\n",
        "# plt.title(\"Feature importances using MDI\")\n",
        "# plt.ylabel(\"Mean decrease in impurity\")\n"
      ]
    },
    {
      "cell_type": "markdown",
      "id": "0a478d2c",
      "metadata": {
        "id": "0a478d2c"
      },
      "source": [
        "100 alberi, mfcc_features = librosa.feature.mfcc(y=df_pd.audio_trim[i], sr=sr, n_mfcc=13, n_fft=1024): 0.5019027470507421\n",
        "\n",
        "100 alberi, mfcc_features = librosa.feature.mfcc(y=df_pd.audio_trim[i], sr=sr, n_mfcc=13, n_fft=2048, hop_length=256): 0.5107861570314567\n",
        "\n",
        "100 alberi, mfcc_features = librosa.feature.mfcc(y=df_pd.audio_trim[i], sr=sr, n_mfcc=13, n_fft=2048, hop_length=128) = 0.5144707138203936\n",
        "\n",
        "100 alberi   mfcc_features = librosa.feature.mfcc(y=df_pd.audio_emph[i], sr=sr, n_mfcc=13, n_fft=4096, hop_length=128) = 0.5152318126406905\n",
        "\n",
        "100 alberi mfcc_features = librosa.feature.mfcc(y=df_pd.audio_trim[i], sr=sr, n_mfcc=13, n_fft=4096, hop_length=128): 0.520815407736118\n",
        "\n",
        "100 alberi, mfcc_features = librosa.feature.mfcc(y=df_pd.audio_trim[i], sr=sr, n_mfcc=13, n_fft=4096, hop_length=128, n_mels = 90): 0.523992189062107\n",
        "\n",
        "100 alberi, mfcc_features = librosa.feature.mfcc(y=df_pd.audio_reconstructed[i], sr=sr, n_mfcc=13, n_fft=4096, hop_length=128, n_mels = 90): 0.5242471249169564\n",
        "\n",
        "100 alberi,   mfcc_features = librosa.feature.mfcc(y=df_pd.audio_reconstructed[i], sr=sr*2, n_mfcc=13, n_fft=4096, hop_length=128, n_mels = 90): 0.5308446584407794\n",
        "\n",
        "200 alberi, mfcc_features = librosa.feature.mfcc(y=df_pd.audio_reconstructed[i], sr=sr*2, n_mfcc=13, lifter = 10, n_fft=4096, hop_length=128, n_mels = 90): 0.538330839337199\n",
        "\n",
        "100, mfcc_features = librosa.feature.mfcc(y=df_pd.audio_reconstructed[i], sr=sr*2, n_mfcc=13, lifter = 10, n_fft=4096, hop_length=128, n_mels = 90, dct_type=1) = 0.5279249092163907\n",
        "\n",
        "100, mfcc_features = librosa.feature.mfcc(y=df_pd.audio_reconstructed[i],  sr=sr*2, n_mfcc=13,lifter = 10,  n_fft=4096, hop_length=128, n_mels = 90, dct_type=3): 0.5046902714800793\n",
        "\n",
        "**BEST**: 100 alberi,  tagliando trim audios > 1 sec mfcc_features = librosa.feature.mfcc(y=df_pd.audio_reconstructed[i], sr=sr*2, n_mfcc=13, lifter = 10, n_fft=4096, hop_length=64, n_mels = 90, dct_type=2): **0.5398856887280141**\n",
        "\n",
        "100 alberi,  tagliando trim audios > 2 sec mfcc_features = librosa.feature.mfcc(y=df_pd.audio_reconstructed[i], sr=sr*2, n_mfcc=13, lifter = 10, n_fft=4096, hop_length=64, n_mels = 90, dct_type=2): **0.5274044795783926**\n",
        "\n",
        "\n",
        "\n",
        "\n",
        "\n",
        "\n"
      ]
    },
    {
      "cell_type": "code",
      "execution_count": null,
      "id": "a08f5e61",
      "metadata": {
        "id": "a08f5e61"
      },
      "outputs": [],
      "source": [
        "# new_df"
      ]
    },
    {
      "cell_type": "code",
      "execution_count": null,
      "id": "18c06666",
      "metadata": {
        "id": "18c06666"
      },
      "outputs": [],
      "source": [
        "# new_df['ageRange=41-65']"
      ]
    },
    {
      "cell_type": "code",
      "execution_count": null,
      "id": "1ac718f7",
      "metadata": {
        "id": "1ac718f7"
      },
      "outputs": [],
      "source": []
    },
    {
      "cell_type": "code",
      "execution_count": null,
      "id": "41f80f78",
      "metadata": {
        "id": "41f80f78"
      },
      "outputs": [],
      "source": []
    },
    {
      "cell_type": "code",
      "execution_count": null,
      "id": "b3c1c112",
      "metadata": {
        "id": "b3c1c112"
      },
      "outputs": [],
      "source": []
    },
    {
      "cell_type": "code",
      "execution_count": null,
      "id": "861f1648",
      "metadata": {
        "id": "861f1648"
      },
      "outputs": [],
      "source": []
    },
    {
      "cell_type": "code",
      "execution_count": null,
      "id": "8d060a8d",
      "metadata": {
        "id": "8d060a8d"
      },
      "outputs": [],
      "source": []
    },
    {
      "cell_type": "code",
      "execution_count": null,
      "id": "0ccedf4a",
      "metadata": {
        "scrolled": true,
        "id": "0ccedf4a"
      },
      "outputs": [],
      "source": [
        "# df_pd['label'][7167]"
      ]
    },
    {
      "cell_type": "markdown",
      "id": "6309293a",
      "metadata": {
        "id": "6309293a"
      },
      "source": [
        "We noticed that some audios (ex. index = 7167) are kept because there noise (no silence) and trim is not able to erase it away, so now we apply noise reduction."
      ]
    },
    {
      "cell_type": "markdown",
      "id": "0c7ed4fb",
      "metadata": {
        "id": "0c7ed4fb"
      },
      "source": [
        "Let's listent the audio."
      ]
    },
    {
      "cell_type": "code",
      "execution_count": null,
      "id": "b3a19f74",
      "metadata": {
        "id": "b3a19f74"
      },
      "outputs": [],
      "source": [
        "# # 7167 : rumore finale che non toglie\n",
        "# index = 7167\n",
        "# s1 = df_pd['audio'][index]\n",
        "# ipd.Audio(df_pd['audio'][index], rate=22050)\n",
        "# plt.figure()\n",
        "# plt.plot(s1)"
      ]
    },
    {
      "cell_type": "code",
      "execution_count": null,
      "id": "2704bbeb",
      "metadata": {
        "id": "2704bbeb"
      },
      "outputs": [],
      "source": [
        "# # Original audio\n",
        "# ipd.Audio(s1, rate=22050)"
      ]
    },
    {
      "cell_type": "code",
      "execution_count": null,
      "id": "83bd7832",
      "metadata": {
        "id": "83bd7832"
      },
      "outputs": [],
      "source": [
        "# # Trim audio\n",
        "# s1_trim = librosa.effects.trim(s1, top_db=20)[0]\n",
        "# ipd.Audio(s1_trim, rate=22050)"
      ]
    },
    {
      "cell_type": "markdown",
      "id": "82101d2b",
      "metadata": {
        "id": "82101d2b"
      },
      "source": [
        "It says \"decrease the volume\" (label 3), we now take another audio saying the same without noise to compare them."
      ]
    },
    {
      "cell_type": "code",
      "execution_count": null,
      "id": "9b138f60",
      "metadata": {
        "id": "9b138f60"
      },
      "outputs": [],
      "source": [
        "# # Retrieve all the rows having label = 3 and then the corresponding indexes\n",
        "# df_label3 = df_pd[df_pd['label']==3]\n",
        "# indexes_label3 = list(df_label3.index)\n",
        "# indexes_label3"
      ]
    },
    {
      "cell_type": "code",
      "execution_count": null,
      "id": "e04d0f06",
      "metadata": {
        "id": "e04d0f06"
      },
      "outputs": [],
      "source": [
        "# index = 691 #this audio seems clearer\n",
        "# s2 = df_pd['audio'][index]\n",
        "\n",
        "# ipd.Audio(s2, rate=22050)\n",
        "# plt.figure()\n",
        "# plt.plot(s2)"
      ]
    },
    {
      "cell_type": "code",
      "execution_count": null,
      "id": "07f49bf0",
      "metadata": {
        "id": "07f49bf0"
      },
      "outputs": [],
      "source": [
        "# ipd.Audio(s2, rate=22050)"
      ]
    },
    {
      "cell_type": "code",
      "execution_count": null,
      "id": "3da8eb23",
      "metadata": {
        "id": "3da8eb23"
      },
      "outputs": [],
      "source": [
        "# s2_trim = librosa.effects.trim(s2, top_db=20)[0]\n",
        "# ipd.Audio(s2_trim, rate=22050)"
      ]
    },
    {
      "cell_type": "markdown",
      "id": "bd91652c",
      "metadata": {
        "id": "bd91652c"
      },
      "source": [
        "Let's plot the spectograms"
      ]
    },
    {
      "cell_type": "code",
      "execution_count": null,
      "id": "ac18ed48",
      "metadata": {
        "id": "ac18ed48"
      },
      "outputs": [],
      "source": [
        "# S1 = librosa.feature.melspectrogram(y=s1, sr=sr, n_mels=128)\n",
        "# D1 = librosa.power_to_db(S1, ref=np.max)\n",
        "# librosa.display.specshow(D1, x_axis='time', y_axis='mel');"
      ]
    },
    {
      "cell_type": "code",
      "execution_count": null,
      "id": "0cd67b2b",
      "metadata": {
        "id": "0cd67b2b"
      },
      "outputs": [],
      "source": [
        "# S2 = librosa.feature.melspectrogram(y=s2, sr=sr, n_mels=128)\n",
        "# D2 = librosa.power_to_db(S2, ref=np.max)\n",
        "# librosa.display.specshow(D2, x_axis='time', y_axis='mel');"
      ]
    },
    {
      "cell_type": "code",
      "execution_count": null,
      "id": "4c9dd3c5",
      "metadata": {
        "id": "4c9dd3c5"
      },
      "outputs": [],
      "source": [
        "# from scipy import signal\n",
        "# import random\n",
        "\n",
        "\n",
        "# def f_high(y,sr):\n",
        "#     b,a = signal.butter(10, 2000/(sr/2), btype='highpass')\n",
        "#     yf = signal.lfilter(b,a,y)\n",
        "#     return yf"
      ]
    },
    {
      "cell_type": "code",
      "execution_count": null,
      "id": "7a7ccb8c",
      "metadata": {
        "id": "7a7ccb8c"
      },
      "outputs": [],
      "source": [
        "# yf1 = f_high(s1, sr)\n",
        "# yf2 = f_high(s2, sr)"
      ]
    },
    {
      "cell_type": "code",
      "execution_count": null,
      "id": "c6cb29da",
      "metadata": {
        "id": "c6cb29da"
      },
      "outputs": [],
      "source": [
        "# librosa.display.waveshow(s1,sr=sr, x_axis='time');\n",
        "# librosa.display.waveshow(yf1,sr=sr, x_axis='time');"
      ]
    },
    {
      "cell_type": "code",
      "execution_count": null,
      "id": "6cc38b06",
      "metadata": {
        "id": "6cc38b06"
      },
      "outputs": [],
      "source": [
        "# S1_new = librosa.feature.melspectrogram(y=yf1, sr=sr, n_mels=128)\n",
        "# D1 = librosa.power_to_db(S1_new, ref=np.max)\n",
        "# librosa.display.specshow(D1, x_axis='time', y_axis='mel');"
      ]
    },
    {
      "cell_type": "code",
      "execution_count": null,
      "id": "2c1ca772",
      "metadata": {
        "id": "2c1ca772"
      },
      "outputs": [],
      "source": [
        "# # Dp1 = librosa.pcen(S1 * (2**31), sr=sr, gain=1.1, hop_length=512, bias=2, power=0.5, time_constant=0.8, eps=1e-06, max_size=2)\n",
        "# # Dp2 = librosa.pcen(S2 * (2**31), sr=sr, gain=1.1, hop_length=512, bias=2, power=0.5, time_constant=0.8, eps=1e-06, max_size=2)\n",
        "\n",
        "# Dp1 = librosa.pcen(S1 * (2**31), sr=sr)\n",
        "# Dp2 = librosa.pcen(S2 * (2**31), sr=sr)"
      ]
    },
    {
      "cell_type": "code",
      "execution_count": null,
      "id": "210a90ab",
      "metadata": {
        "id": "210a90ab"
      },
      "outputs": [],
      "source": [
        "# librosa.display.specshow(Dp1, x_axis='time', y_axis='mel');"
      ]
    },
    {
      "cell_type": "code",
      "execution_count": null,
      "id": "4f55b464",
      "metadata": {
        "id": "4f55b464"
      },
      "outputs": [],
      "source": [
        "# librosa.display.specshow(Dp2, x_axis='time', y_axis='mel');"
      ]
    },
    {
      "cell_type": "code",
      "execution_count": null,
      "id": "408b26c8",
      "metadata": {
        "id": "408b26c8"
      },
      "outputs": [],
      "source": [
        "# yp1 = librosa.feature.inverse.mel_to_audio(Dp1)\n",
        "# yp2 = librosa.feature.inverse.mel_to_audio(Dp2)"
      ]
    },
    {
      "cell_type": "code",
      "execution_count": null,
      "id": "784f23e2",
      "metadata": {
        "id": "784f23e2"
      },
      "outputs": [],
      "source": [
        "# librosa.display.waveshow(yp1,sr=sr, x_axis='time');\n",
        "# librosa.display.waveshow(s1,sr=sr, x_axis='time');"
      ]
    },
    {
      "cell_type": "code",
      "execution_count": null,
      "id": "c0bee722",
      "metadata": {
        "id": "c0bee722"
      },
      "outputs": [],
      "source": [
        "# librosa.display.waveshow(yp2,sr=sr, x_axis='time');\n",
        "# librosa.display.waveshow(s2,sr=sr, x_axis='time');"
      ]
    },
    {
      "cell_type": "code",
      "execution_count": null,
      "id": "765e1609",
      "metadata": {
        "id": "765e1609"
      },
      "outputs": [],
      "source": [
        "# ipd.Audio(yp1, rate=22050)\n"
      ]
    },
    {
      "cell_type": "code",
      "execution_count": null,
      "id": "b4c21709",
      "metadata": {
        "id": "b4c21709"
      },
      "outputs": [],
      "source": [
        "# ipd.Audio(yp2, rate=22050)"
      ]
    },
    {
      "cell_type": "code",
      "execution_count": null,
      "id": "9c1b73da",
      "metadata": {
        "id": "9c1b73da"
      },
      "outputs": [],
      "source": [
        "# import time\n",
        "# from datetime import timedelta as td\n",
        "\n",
        "\n",
        "# def _stft(y, n_fft, hop_length, win_length):\n",
        "#     return librosa.stft(y=y, n_fft=n_fft, hop_length=hop_length, win_length=win_length)\n",
        "\n",
        "\n",
        "# def _istft(y, hop_length, win_length):\n",
        "#     return librosa.istft(y, hop_length, win_length)\n",
        "\n",
        "\n",
        "# def _amp_to_db(x):\n",
        "#     return librosa.core.amplitude_to_db(x, ref=1.0, amin=1e-20, top_db=80.0)\n",
        "\n",
        "\n",
        "# def _db_to_amp(x,):\n",
        "#     return librosa.core.db_to_amplitude(x, ref=1.0)\n",
        "\n",
        "\n",
        "# def plot_spectrogram(signal, title):\n",
        "#     fig, ax = plt.subplots(figsize=(20, 4))\n",
        "#     cax = ax.matshow(\n",
        "#         signal,\n",
        "#         origin=\"lower\",\n",
        "#         aspect=\"auto\",\n",
        "#         cmap=plt.cm.seismic,\n",
        "#         vmin=-1 * np.max(np.abs(signal)),\n",
        "#         vmax=np.max(np.abs(signal)),\n",
        "#     )\n",
        "#     fig.colorbar(cax)\n",
        "#     ax.set_title(title)\n",
        "#     plt.tight_layout()\n",
        "#     plt.show()\n",
        "\n",
        "\n",
        "# def plot_statistics_and_filter(\n",
        "#     mean_freq_noise, std_freq_noise, noise_thresh, smoothing_filter\n",
        "# ):\n",
        "#     fig, ax = plt.subplots(ncols=2, figsize=(20, 4))\n",
        "#     plt_mean, = ax[0].plot(mean_freq_noise, label=\"Mean power of noise\")\n",
        "#     plt_std, = ax[0].plot(std_freq_noise, label=\"Std. power of noise\")\n",
        "#     plt_std, = ax[0].plot(noise_thresh, label=\"Noise threshold (by frequency)\")\n",
        "#     ax[0].set_title(\"Threshold for mask\")\n",
        "#     ax[0].legend()\n",
        "#     cax = ax[1].matshow(smoothing_filter, origin=\"lower\")\n",
        "#     fig.colorbar(cax)\n",
        "#     ax[1].set_title(\"Filter for smoothing Mask\")\n",
        "#     plt.show()\n",
        "\n",
        "# def removeNoise(\n",
        "#     audio_clip,\n",
        "#     noise_clip,\n",
        "#     n_grad_freq=2,\n",
        "#     n_grad_time=4,\n",
        "#     n_fft=2048,\n",
        "#     win_length=2048,\n",
        "#     hop_length=512,\n",
        "#     n_std_thresh=1.5,\n",
        "#     prop_decrease=1.0,\n",
        "#     verbose=False,\n",
        "#     visual=False,\n",
        "# ):\n",
        "#     \"\"\"Remove noise from audio based upon a clip containing only noise\n",
        "\n",
        "#     Args:\n",
        "#         audio_clip (array): The first parameter.\n",
        "#         noise_clip (array): The second parameter.\n",
        "#         n_grad_freq (int): how many frequency channels to smooth over with the mask.\n",
        "#         n_grad_time (int): how many time channels to smooth over with the mask.\n",
        "#         n_fft (int): number audio of frames between STFT columns.\n",
        "#         win_length (int): Each frame of audio is windowed by `window()`. The window will be of length `win_length` and then padded with zeros to match `n_fft`..\n",
        "#         hop_length (int):number audio of frames between STFT columns.\n",
        "#         n_std_thresh (int): how many standard deviations louder than the mean dB of the noise (at each frequency level) to be considered signal\n",
        "#         prop_decrease (float): To what extent should you decrease noise (1 = all, 0 = none)\n",
        "#         visual (bool): Whether to plot the steps of the algorithm\n",
        "\n",
        "#     Returns:\n",
        "#         array: The recovered signal with noise subtracted\n",
        "\n",
        "#     \"\"\"\n",
        "#     if verbose:\n",
        "#         start = time.time()\n",
        "#     # STFT over noise\n",
        "#     noise_stft = _stft(noise_clip, n_fft, hop_length, win_length)\n",
        "#     noise_stft_db = _amp_to_db(np.abs(noise_stft))  # convert to dB\n",
        "#     # Calculate statistics over noise\n",
        "#     mean_freq_noise = np.mean(noise_stft_db, axis=1)\n",
        "#     std_freq_noise = np.std(noise_stft_db, axis=1)\n",
        "#     noise_thresh = mean_freq_noise + std_freq_noise * n_std_thresh\n",
        "#     if verbose:\n",
        "#         print(\"STFT on noise:\", td(seconds=time.time() - start))\n",
        "#         start = time.time()\n",
        "#     # STFT over signal\n",
        "#     if verbose:\n",
        "#         start = time.time()\n",
        "#     sig_stft = _stft(audio_clip, n_fft, hop_length, win_length)\n",
        "#     sig_stft_db = _amp_to_db(np.abs(sig_stft))\n",
        "#     if verbose:\n",
        "#         print(\"STFT on signal:\", td(seconds=time.time() - start))\n",
        "#         start = time.time()\n",
        "#     # Calculate value to mask dB to\n",
        "#     mask_gain_dB = np.min(_amp_to_db(np.abs(sig_stft)))\n",
        "#     #print(noise_thresh, mask_gain_dB)\n",
        "#     # Create a smoothing filter for the mask in time and frequency\n",
        "#     smoothing_filter = np.outer(\n",
        "#         np.concatenate(\n",
        "#             [\n",
        "#                 np.linspace(0, 1, n_grad_freq + 1, endpoint=False),\n",
        "#                 np.linspace(1, 0, n_grad_freq + 2),\n",
        "#             ]\n",
        "#         )[1:-1],\n",
        "#         np.concatenate(\n",
        "#             [\n",
        "#                 np.linspace(0, 1, n_grad_time + 1, endpoint=False),\n",
        "#                 np.linspace(1, 0, n_grad_time + 2),\n",
        "#             ]\n",
        "#         )[1:-1],\n",
        "#     )\n",
        "#     smoothing_filter = smoothing_filter / np.sum(smoothing_filter)\n",
        "#     # calculate the threshold for each frequency/time bin\n",
        "#     db_thresh = np.repeat(\n",
        "#         np.reshape(noise_thresh, [1, len(mean_freq_noise)]),\n",
        "#         np.shape(sig_stft_db)[1],\n",
        "#         axis=0,\n",
        "#     ).T\n",
        "#     # mask if the signal is above the threshold\n",
        "#     sig_mask = sig_stft_db < db_thresh\n",
        "#     if verbose:\n",
        "#         print(\"Masking:\", td(seconds=time.time() - start))\n",
        "#         start = time.time()\n",
        "#     # convolve the mask with a smoothing filter\n",
        "#     sig_mask = scipy.signal.fftconvolve(sig_mask, smoothing_filter, mode=\"same\")\n",
        "#     sig_mask = sig_mask * prop_decrease\n",
        "#     if verbose:\n",
        "#         print(\"Mask convolution:\", td(seconds=time.time() - start))\n",
        "#         start = time.time()\n",
        "#     # mask the signal\n",
        "#     sig_stft_db_masked = (\n",
        "#         sig_stft_db * (1 - sig_mask)\n",
        "#         + np.ones(np.shape(mask_gain_dB)) * mask_gain_dB * sig_mask\n",
        "#     )  # mask real\n",
        "#     sig_imag_masked = np.imag(sig_stft) * (1 - sig_mask)\n",
        "#     sig_stft_amp = (_db_to_amp(sig_stft_db_masked) * np.sign(sig_stft)) + (\n",
        "#         1j * sig_imag_masked\n",
        "#     )\n",
        "#     if verbose:\n",
        "#         print(\"Mask application:\", td(seconds=time.time() - start))\n",
        "#         start = time.time()\n",
        "#     # recover the signal\n",
        "#     recovered_signal = _istft(sig_stft_amp, hop_length, win_length)\n",
        "#     recovered_spec = _amp_to_db(\n",
        "#         np.abs(_stft(recovered_signal, n_fft, hop_length, win_length))\n",
        "#     )\n",
        "#     if verbose:\n",
        "#         print(\"Signal recovery:\", td(seconds=time.time() - start))\n",
        "#     if visual:\n",
        "#         plot_spectrogram(noise_stft_db, title=\"Noise\")\n",
        "#     if visual:\n",
        "#         plot_statistics_and_filter(\n",
        "#             mean_freq_noise, std_freq_noise, noise_thresh, smoothing_filter\n",
        "#         )\n",
        "#     if visual:\n",
        "#         plot_spectrogram(sig_stft_db, title=\"Signal\")\n",
        "#     if visual:\n",
        "#         plot_spectrogram(sig_mask, title=\"Mask applied\")\n",
        "#     if visual:\n",
        "#         plot_spectrogram(sig_stft_db_masked, title=\"Masked signal\")\n",
        "#     if visual:\n",
        "#         plot_spectrogram(recovered_spec, title=\"Recovered spectrogram\")\n",
        "#     return recovered_signal"
      ]
    },
    {
      "cell_type": "code",
      "execution_count": null,
      "id": "16cf1331",
      "metadata": {
        "id": "16cf1331"
      },
      "outputs": [],
      "source": [
        "# import scipy\n",
        "# noise1 = s1[5*sr:6*sr]\n",
        "# yg1 = removeNoise(audio_clip=s1, noise_clip=noise1,\n",
        "#     n_grad_freq=2,\n",
        "#     n_grad_time=4,\n",
        "#     n_fft=2048,\n",
        "#     win_length=2048,\n",
        "#     hop_length=512,\n",
        "#     n_std_thresh=1.5,\n",
        "#     prop_decrease=1.0,\n",
        "#     verbose=False,\n",
        "#     visual=False)\n",
        "# noise2 = s2[0:1*sr]\n",
        "# yg2 = removeNoise(audio_clip=s2, noise_clip=noise2,\n",
        "#     n_grad_freq=2,\n",
        "#     n_grad_time=4,\n",
        "#     n_fft=2048,\n",
        "#     win_length=2048,\n",
        "#     hop_length=512,\n",
        "#     n_std_thresh=2.5,\n",
        "#     prop_decrease=1.0,\n",
        "#     verbose=False,\n",
        "#     visual=False)"
      ]
    },
    {
      "cell_type": "code",
      "execution_count": null,
      "id": "0f8d040d",
      "metadata": {
        "id": "0f8d040d"
      },
      "outputs": [],
      "source": [
        "# plt.figure(figsize=(12,12))\n",
        "# librosa.display.waveshow(s1,sr=sr, x_axis='time');\n",
        "# librosa.display.waveshow(yg1,sr=sr, x_axis='time');"
      ]
    },
    {
      "cell_type": "code",
      "execution_count": null,
      "id": "1efae458",
      "metadata": {
        "id": "1efae458"
      },
      "outputs": [],
      "source": [
        "# librosa.display.waveshow(s2,sr=sr, x_axis='time');\n",
        "# librosa.display.waveshow(yg2,sr=sr, x_axis='time');"
      ]
    },
    {
      "cell_type": "code",
      "execution_count": null,
      "id": "930fddcc",
      "metadata": {
        "id": "930fddcc"
      },
      "outputs": [],
      "source": [
        "# ipd.Audio(s1, rate=22050)"
      ]
    },
    {
      "cell_type": "code",
      "execution_count": null,
      "id": "39dbc9ec",
      "metadata": {
        "id": "39dbc9ec"
      },
      "outputs": [],
      "source": [
        "# length_audios = []\n",
        "# length_audios_seconds = []\n",
        "# indexes = []\n",
        "# i = 0\n",
        "\n",
        "# for item,sr in zip(df[1], df[2]):\n",
        "#     length_audios.append(len(item))\n",
        "#     length_audios_seconds.append(len(item)/sr)\n",
        "# #  Decomment if you are interested in retrieve indexes of audio within a specific range \n",
        "#     if len(item)/sr  >= 5 and len(item)/sr  <=7.5:\n",
        "#         indexes.append(i)\n",
        "#     i = i+1\n",
        "        \n",
        "\n",
        "# length_audios=pd.Series(length_audios)\n",
        "# length_audios_seconds = pd.Series(length_audios_seconds)\n",
        "# #print(length_audios_seconds.value_counts())\n",
        "# # plt.figure(figsize=(12,12))\n",
        "# # plt.title(\"Lenght of audios distribution (seconds)\")\n",
        "# # length_audios_seconds.hist()\n",
        "# #print(length_audios_seconds)\n"
      ]
    },
    {
      "cell_type": "code",
      "execution_count": null,
      "id": "26bb0b79",
      "metadata": {
        "id": "26bb0b79"
      },
      "outputs": [],
      "source": [
        "# indexes"
      ]
    },
    {
      "cell_type": "code",
      "execution_count": null,
      "id": "fcbe6419",
      "metadata": {
        "id": "fcbe6419"
      },
      "outputs": [],
      "source": [
        "# s = df_pd['audio'][0][librosa.effects.split(df_pd['audio'][0])[1][0]:librosa.effects.split(df_pd['audio'][1])[0][-1]]\n",
        "# df_pd['audio'][0][librosa.effects.split(df_pd['audio'][0], top_db=30)]#[1][0]:librosa.effects.split(df_pd['audio'][1])[0][-1]]\n",
        "# librosa.effects.split(df_pd['audio'][0])\n",
        "# ipd.Audio(s, rate=22050)"
      ]
    },
    {
      "cell_type": "code",
      "execution_count": null,
      "id": "ebf637be",
      "metadata": {
        "id": "ebf637be"
      },
      "outputs": [],
      "source": [
        "# idx = 4073\n",
        "# ipd.Audio(df_pd['audio'][idx], rate=22050)"
      ]
    },
    {
      "cell_type": "code",
      "execution_count": null,
      "id": "3ec62817",
      "metadata": {
        "id": "3ec62817"
      },
      "outputs": [],
      "source": [
        "# s = librosa.effects.split(df_pd['audio'][idx])[0]\n",
        "# non_silence_parts = librosa.effects.split(df_pd['audio'][idx], top_db=40)\n",
        "# print(non_silence_parts, non_silence_parts.shape)\n",
        "\n",
        "# audio_reconstructed = []\n",
        "# for part in non_silence_parts:\n",
        "#     audio_reconstructed.append(df_pd['audio'][idx][part[0]:part[-1]])\n",
        "# print(len(audio_reconstructed))\n",
        "# #     return df_pd['audio'][3799][librosa.effects.split(df_pd['audio'][3799])[0][0]:librosa.effects.split(df_pd['audio'][3799])[0][-1]]\n",
        "\n",
        "# new_audio_reconstructed = np.hstack(audio_reconstructed)\n",
        "# #s1 = df_pd['audio'][idx][non_silence_parts[1][0]:non_silence_parts[1][-1]]\n",
        "# # s2 = df_pd['audio'][3799][librosa.effects.split(df_pd['audio'][3799])[1][0]:librosa.effects.split(df_pd['audio'][3799])[1][-1]]\n",
        "\n",
        "# ipd.Audio(new_audio_reconstructed, rate=22050)\n",
        "# #ipd.Audio(s2, rate=22050)\n",
        "# #ipd.Audio(df_pd['audio'][3799][librosa.effects.split(df_pd['audio'][3799][0]]), 22050)"
      ]
    },
    {
      "cell_type": "code",
      "execution_count": null,
      "id": "010ae6ed",
      "metadata": {
        "id": "010ae6ed"
      },
      "outputs": [],
      "source": [
        "# def remove_silence (signal):\n",
        "#     return signal[librosa.effects.split(signal)[0][0]:librosa.effects.split(signal)[0][-1]]\n",
        "# signal_without_silence = remove_silence(df_pd['audio'][3799])\n",
        "\n",
        "# ipd.Audio(signal_without_silence, rate=22050)"
      ]
    }
  ],
  "metadata": {
    "kernelspec": {
      "display_name": "Python 3 (ipykernel)",
      "language": "python",
      "name": "python3"
    },
    "language_info": {
      "codemirror_mode": {
        "name": "ipython",
        "version": 3
      },
      "file_extension": ".py",
      "mimetype": "text/x-python",
      "name": "python",
      "nbconvert_exporter": "python",
      "pygments_lexer": "ipython3",
      "version": "3.9.7"
    },
    "colab": {
      "provenance": [],
      "include_colab_link": true
    },
    "accelerator": "GPU",
    "gpuClass": "standard"
  },
  "nbformat": 4,
  "nbformat_minor": 5
}