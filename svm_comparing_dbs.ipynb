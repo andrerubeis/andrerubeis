{
  "cells": [
    {
      "cell_type": "markdown",
      "metadata": {
        "id": "view-in-github",
        "colab_type": "text"
      },
      "source": [
        "<a href=\"https://colab.research.google.com/github/andrerubeis/andrerubeis/blob/main/svm_comparing_dbs.ipynb\" target=\"_parent\"><img src=\"https://colab.research.google.com/assets/colab-badge.svg\" alt=\"Open In Colab\"/></a>"
      ]
    },
    {
      "cell_type": "code",
      "source": [
        "!pip install noisereduce"
      ],
      "metadata": {
        "colab": {
          "base_uri": "https://localhost:8080/"
        },
        "id": "VHb1rA2MRcAA",
        "outputId": "80fbaae8-9ea7-4d61-bf24-3c9da995a270"
      },
      "id": "VHb1rA2MRcAA",
      "execution_count": 1,
      "outputs": [
        {
          "output_type": "stream",
          "name": "stdout",
          "text": [
            "Looking in indexes: https://pypi.org/simple, https://us-python.pkg.dev/colab-wheels/public/simple/\n",
            "Requirement already satisfied: noisereduce in /usr/local/lib/python3.8/dist-packages (2.0.1)\n",
            "Requirement already satisfied: matplotlib in /usr/local/lib/python3.8/dist-packages (from noisereduce) (3.2.2)\n",
            "Requirement already satisfied: tqdm in /usr/local/lib/python3.8/dist-packages (from noisereduce) (4.64.1)\n",
            "Requirement already satisfied: numpy in /usr/local/lib/python3.8/dist-packages (from noisereduce) (1.21.6)\n",
            "Requirement already satisfied: librosa in /usr/local/lib/python3.8/dist-packages (from noisereduce) (0.8.1)\n",
            "Requirement already satisfied: scipy in /usr/local/lib/python3.8/dist-packages (from noisereduce) (1.7.3)\n",
            "Requirement already satisfied: soundfile>=0.10.2 in /usr/local/lib/python3.8/dist-packages (from librosa->noisereduce) (0.11.0)\n",
            "Requirement already satisfied: audioread>=2.0.0 in /usr/local/lib/python3.8/dist-packages (from librosa->noisereduce) (3.0.0)\n",
            "Requirement already satisfied: decorator>=3.0.0 in /usr/local/lib/python3.8/dist-packages (from librosa->noisereduce) (4.4.2)\n",
            "Requirement already satisfied: scikit-learn!=0.19.0,>=0.14.0 in /usr/local/lib/python3.8/dist-packages (from librosa->noisereduce) (1.0.2)\n",
            "Requirement already satisfied: resampy>=0.2.2 in /usr/local/lib/python3.8/dist-packages (from librosa->noisereduce) (0.4.2)\n",
            "Requirement already satisfied: pooch>=1.0 in /usr/local/lib/python3.8/dist-packages (from librosa->noisereduce) (1.6.0)\n",
            "Requirement already satisfied: joblib>=0.14 in /usr/local/lib/python3.8/dist-packages (from librosa->noisereduce) (1.2.0)\n",
            "Requirement already satisfied: packaging>=20.0 in /usr/local/lib/python3.8/dist-packages (from librosa->noisereduce) (21.3)\n",
            "Requirement already satisfied: numba>=0.43.0 in /usr/local/lib/python3.8/dist-packages (from librosa->noisereduce) (0.56.4)\n",
            "Requirement already satisfied: kiwisolver>=1.0.1 in /usr/local/lib/python3.8/dist-packages (from matplotlib->noisereduce) (1.4.4)\n",
            "Requirement already satisfied: pyparsing!=2.0.4,!=2.1.2,!=2.1.6,>=2.0.1 in /usr/local/lib/python3.8/dist-packages (from matplotlib->noisereduce) (3.0.9)\n",
            "Requirement already satisfied: python-dateutil>=2.1 in /usr/local/lib/python3.8/dist-packages (from matplotlib->noisereduce) (2.8.2)\n",
            "Requirement already satisfied: cycler>=0.10 in /usr/local/lib/python3.8/dist-packages (from matplotlib->noisereduce) (0.11.0)\n",
            "Requirement already satisfied: importlib-metadata in /usr/local/lib/python3.8/dist-packages (from numba>=0.43.0->librosa->noisereduce) (6.0.0)\n",
            "Requirement already satisfied: setuptools in /usr/local/lib/python3.8/dist-packages (from numba>=0.43.0->librosa->noisereduce) (57.4.0)\n",
            "Requirement already satisfied: llvmlite<0.40,>=0.39.0dev0 in /usr/local/lib/python3.8/dist-packages (from numba>=0.43.0->librosa->noisereduce) (0.39.1)\n",
            "Requirement already satisfied: requests>=2.19.0 in /usr/local/lib/python3.8/dist-packages (from pooch>=1.0->librosa->noisereduce) (2.25.1)\n",
            "Requirement already satisfied: appdirs>=1.3.0 in /usr/local/lib/python3.8/dist-packages (from pooch>=1.0->librosa->noisereduce) (1.4.4)\n",
            "Requirement already satisfied: six>=1.5 in /usr/local/lib/python3.8/dist-packages (from python-dateutil>=2.1->matplotlib->noisereduce) (1.15.0)\n",
            "Requirement already satisfied: threadpoolctl>=2.0.0 in /usr/local/lib/python3.8/dist-packages (from scikit-learn!=0.19.0,>=0.14.0->librosa->noisereduce) (3.1.0)\n",
            "Requirement already satisfied: cffi>=1.0 in /usr/local/lib/python3.8/dist-packages (from soundfile>=0.10.2->librosa->noisereduce) (1.15.1)\n",
            "Requirement already satisfied: pycparser in /usr/local/lib/python3.8/dist-packages (from cffi>=1.0->soundfile>=0.10.2->librosa->noisereduce) (2.21)\n",
            "Requirement already satisfied: urllib3<1.27,>=1.21.1 in /usr/local/lib/python3.8/dist-packages (from requests>=2.19.0->pooch>=1.0->librosa->noisereduce) (1.24.3)\n",
            "Requirement already satisfied: idna<3,>=2.5 in /usr/local/lib/python3.8/dist-packages (from requests>=2.19.0->pooch>=1.0->librosa->noisereduce) (2.10)\n",
            "Requirement already satisfied: chardet<5,>=3.0.2 in /usr/local/lib/python3.8/dist-packages (from requests>=2.19.0->pooch>=1.0->librosa->noisereduce) (4.0.0)\n",
            "Requirement already satisfied: certifi>=2017.4.17 in /usr/local/lib/python3.8/dist-packages (from requests>=2.19.0->pooch>=1.0->librosa->noisereduce) (2022.12.7)\n",
            "Requirement already satisfied: zipp>=0.5 in /usr/local/lib/python3.8/dist-packages (from importlib-metadata->numba>=0.43.0->librosa->noisereduce) (3.11.0)\n"
          ]
        }
      ]
    },
    {
      "cell_type": "code",
      "source": [
        "from google.colab import drive\n",
        "drive.mount('/content/drive')"
      ],
      "metadata": {
        "colab": {
          "base_uri": "https://localhost:8080/"
        },
        "id": "h1OngFI-Ptfv",
        "outputId": "b25b8c0e-2de8-468e-b574-6b9a9eef35f3"
      },
      "id": "h1OngFI-Ptfv",
      "execution_count": 2,
      "outputs": [
        {
          "output_type": "stream",
          "name": "stdout",
          "text": [
            "Drive already mounted at /content/drive; to attempt to forcibly remount, call drive.mount(\"/content/drive\", force_remount=True).\n"
          ]
        }
      ]
    },
    {
      "cell_type": "code",
      "execution_count": 3,
      "id": "9f5653aa",
      "metadata": {
        "id": "9f5653aa"
      },
      "outputs": [],
      "source": [
        "import pandas as pd\n",
        "import numpy as np\n",
        "import os\n",
        "import librosa\n",
        "import librosa.display\n",
        "import IPython.display as ipd\n",
        "import matplotlib.pyplot as plt\n",
        "import pickle\n",
        "import noisereduce as nr\n",
        "import tqdm"
      ]
    },
    {
      "cell_type": "code",
      "source": [
        "import torch\n",
        "colab = True\n",
        "\n",
        "if colab == True:\n",
        "  device = 'cuda' if torch.cuda.is_available() else 'cpu'"
      ],
      "metadata": {
        "id": "a7jJB5VeQUju"
      },
      "id": "a7jJB5VeQUju",
      "execution_count": 4,
      "outputs": []
    },
    {
      "cell_type": "code",
      "source": [
        "!nvidia-smi"
      ],
      "metadata": {
        "colab": {
          "base_uri": "https://localhost:8080/"
        },
        "id": "9M1UM32UVXoW",
        "outputId": "3b9c7789-ec71-4e51-dd47-6a89fa4355b8"
      },
      "id": "9M1UM32UVXoW",
      "execution_count": 5,
      "outputs": [
        {
          "output_type": "stream",
          "name": "stdout",
          "text": [
            "Tue Jan 17 08:08:56 2023       \n",
            "+-----------------------------------------------------------------------------+\n",
            "| NVIDIA-SMI 460.32.03    Driver Version: 460.32.03    CUDA Version: 11.2     |\n",
            "|-------------------------------+----------------------+----------------------+\n",
            "| GPU  Name        Persistence-M| Bus-Id        Disp.A | Volatile Uncorr. ECC |\n",
            "| Fan  Temp  Perf  Pwr:Usage/Cap|         Memory-Usage | GPU-Util  Compute M. |\n",
            "|                               |                      |               MIG M. |\n",
            "|===============================+======================+======================|\n",
            "|   0  Tesla T4            Off  | 00000000:00:04.0 Off |                    0 |\n",
            "| N/A   38C    P8    12W /  70W |      3MiB / 15109MiB |      0%      Default |\n",
            "|                               |                      |                  N/A |\n",
            "+-------------------------------+----------------------+----------------------+\n",
            "                                                                               \n",
            "+-----------------------------------------------------------------------------+\n",
            "| Processes:                                                                  |\n",
            "|  GPU   GI   CI        PID   Type   Process name                  GPU Memory |\n",
            "|        ID   ID                                                   Usage      |\n",
            "|=============================================================================|\n",
            "|  No running processes found                                                 |\n",
            "+-----------------------------------------------------------------------------+\n"
          ]
        }
      ]
    },
    {
      "cell_type": "markdown",
      "id": "772ef5b5",
      "metadata": {
        "id": "772ef5b5"
      },
      "source": [
        "\n",
        "## 1. Loading Dataset"
      ]
    },
    {
      "cell_type": "code",
      "execution_count": 6,
      "id": "e2f93350",
      "metadata": {
        "colab": {
          "base_uri": "https://localhost:8080/",
          "height": 886
        },
        "id": "e2f93350",
        "outputId": "12b0183e-55d3-4635-f828-e8148b802e1a"
      },
      "outputs": [
        {
          "output_type": "execute_result",
          "data": {
            "text/plain": [
              "        Id                                               path  \\\n",
              "0        0  dsl_data/audio/speakers/2BqVo8kVB2Skwgyb/0a312...   \n",
              "1        1  dsl_data/audio/speakers/2BqVo8kVB2Skwgyb/0ee42...   \n",
              "2        2  dsl_data/audio/speakers/2BqVo8kVB2Skwgyb/1d9f3...   \n",
              "3        3  dsl_data/audio/speakers/2BqVo8kVB2Skwgyb/269fc...   \n",
              "4        4  dsl_data/audio/speakers/2BqVo8kVB2Skwgyb/5bbda...   \n",
              "...    ...                                                ...   \n",
              "9849  9849  dsl_data/audio/speakers/vnljypgejkINbBAY/4fb3d...   \n",
              "9850  9850  dsl_data/audio/speakers/vnljypgejkINbBAY/59e6a...   \n",
              "9851  9851  dsl_data/audio/speakers/vnljypgejkINbBAY/5c81c...   \n",
              "9852  9852  dsl_data/audio/speakers/vnljypgejkINbBAY/5ef42...   \n",
              "9853  9853  dsl_data/audio/speakers/vnljypgejkINbBAY/61b7a...   \n",
              "\n",
              "             speakerId           action  object Self-reported fluency level   \\\n",
              "0     2BqVo8kVB2Skwgyb  change language    none                     advanced   \n",
              "1     2BqVo8kVB2Skwgyb         activate   music                     advanced   \n",
              "2     2BqVo8kVB2Skwgyb       deactivate  lights                     advanced   \n",
              "3     2BqVo8kVB2Skwgyb         increase  volume                     advanced   \n",
              "4     2BqVo8kVB2Skwgyb         increase  volume                     advanced   \n",
              "...                ...              ...     ...                          ...   \n",
              "9849  vnljypgejkINbBAY         decrease  volume                       native   \n",
              "9850  vnljypgejkINbBAY       deactivate  lights                       native   \n",
              "9851  vnljypgejkINbBAY       deactivate  lights                       native   \n",
              "9852  vnljypgejkINbBAY       deactivate  lights                       native   \n",
              "9853  vnljypgejkINbBAY         increase  volume                       native   \n",
              "\n",
              "        First Language spoken Current language used for work/school  gender  \\\n",
              "0     English (United States)               English (United States)  female   \n",
              "1     English (United States)               English (United States)  female   \n",
              "2     English (United States)               English (United States)  female   \n",
              "3     English (United States)               English (United States)  female   \n",
              "4     English (United States)               English (United States)  female   \n",
              "...                       ...                                   ...     ...   \n",
              "9849  English (United States)               English (United States)    male   \n",
              "9850  English (United States)               English (United States)    male   \n",
              "9851  English (United States)               English (United States)    male   \n",
              "9852  English (United States)               English (United States)    male   \n",
              "9853  English (United States)               English (United States)    male   \n",
              "\n",
              "     ageRange  \n",
              "0       22-40  \n",
              "1       22-40  \n",
              "2       22-40  \n",
              "3       22-40  \n",
              "4       22-40  \n",
              "...       ...  \n",
              "9849    22-40  \n",
              "9850    22-40  \n",
              "9851    22-40  \n",
              "9852    22-40  \n",
              "9853    22-40  \n",
              "\n",
              "[9854 rows x 10 columns]"
            ],
            "text/html": [
              "\n",
              "  <div id=\"df-86b3e456-d5af-4be6-84f5-a50d8d9256bf\">\n",
              "    <div class=\"colab-df-container\">\n",
              "      <div>\n",
              "<style scoped>\n",
              "    .dataframe tbody tr th:only-of-type {\n",
              "        vertical-align: middle;\n",
              "    }\n",
              "\n",
              "    .dataframe tbody tr th {\n",
              "        vertical-align: top;\n",
              "    }\n",
              "\n",
              "    .dataframe thead th {\n",
              "        text-align: right;\n",
              "    }\n",
              "</style>\n",
              "<table border=\"1\" class=\"dataframe\">\n",
              "  <thead>\n",
              "    <tr style=\"text-align: right;\">\n",
              "      <th></th>\n",
              "      <th>Id</th>\n",
              "      <th>path</th>\n",
              "      <th>speakerId</th>\n",
              "      <th>action</th>\n",
              "      <th>object</th>\n",
              "      <th>Self-reported fluency level</th>\n",
              "      <th>First Language spoken</th>\n",
              "      <th>Current language used for work/school</th>\n",
              "      <th>gender</th>\n",
              "      <th>ageRange</th>\n",
              "    </tr>\n",
              "  </thead>\n",
              "  <tbody>\n",
              "    <tr>\n",
              "      <th>0</th>\n",
              "      <td>0</td>\n",
              "      <td>dsl_data/audio/speakers/2BqVo8kVB2Skwgyb/0a312...</td>\n",
              "      <td>2BqVo8kVB2Skwgyb</td>\n",
              "      <td>change language</td>\n",
              "      <td>none</td>\n",
              "      <td>advanced</td>\n",
              "      <td>English (United States)</td>\n",
              "      <td>English (United States)</td>\n",
              "      <td>female</td>\n",
              "      <td>22-40</td>\n",
              "    </tr>\n",
              "    <tr>\n",
              "      <th>1</th>\n",
              "      <td>1</td>\n",
              "      <td>dsl_data/audio/speakers/2BqVo8kVB2Skwgyb/0ee42...</td>\n",
              "      <td>2BqVo8kVB2Skwgyb</td>\n",
              "      <td>activate</td>\n",
              "      <td>music</td>\n",
              "      <td>advanced</td>\n",
              "      <td>English (United States)</td>\n",
              "      <td>English (United States)</td>\n",
              "      <td>female</td>\n",
              "      <td>22-40</td>\n",
              "    </tr>\n",
              "    <tr>\n",
              "      <th>2</th>\n",
              "      <td>2</td>\n",
              "      <td>dsl_data/audio/speakers/2BqVo8kVB2Skwgyb/1d9f3...</td>\n",
              "      <td>2BqVo8kVB2Skwgyb</td>\n",
              "      <td>deactivate</td>\n",
              "      <td>lights</td>\n",
              "      <td>advanced</td>\n",
              "      <td>English (United States)</td>\n",
              "      <td>English (United States)</td>\n",
              "      <td>female</td>\n",
              "      <td>22-40</td>\n",
              "    </tr>\n",
              "    <tr>\n",
              "      <th>3</th>\n",
              "      <td>3</td>\n",
              "      <td>dsl_data/audio/speakers/2BqVo8kVB2Skwgyb/269fc...</td>\n",
              "      <td>2BqVo8kVB2Skwgyb</td>\n",
              "      <td>increase</td>\n",
              "      <td>volume</td>\n",
              "      <td>advanced</td>\n",
              "      <td>English (United States)</td>\n",
              "      <td>English (United States)</td>\n",
              "      <td>female</td>\n",
              "      <td>22-40</td>\n",
              "    </tr>\n",
              "    <tr>\n",
              "      <th>4</th>\n",
              "      <td>4</td>\n",
              "      <td>dsl_data/audio/speakers/2BqVo8kVB2Skwgyb/5bbda...</td>\n",
              "      <td>2BqVo8kVB2Skwgyb</td>\n",
              "      <td>increase</td>\n",
              "      <td>volume</td>\n",
              "      <td>advanced</td>\n",
              "      <td>English (United States)</td>\n",
              "      <td>English (United States)</td>\n",
              "      <td>female</td>\n",
              "      <td>22-40</td>\n",
              "    </tr>\n",
              "    <tr>\n",
              "      <th>...</th>\n",
              "      <td>...</td>\n",
              "      <td>...</td>\n",
              "      <td>...</td>\n",
              "      <td>...</td>\n",
              "      <td>...</td>\n",
              "      <td>...</td>\n",
              "      <td>...</td>\n",
              "      <td>...</td>\n",
              "      <td>...</td>\n",
              "      <td>...</td>\n",
              "    </tr>\n",
              "    <tr>\n",
              "      <th>9849</th>\n",
              "      <td>9849</td>\n",
              "      <td>dsl_data/audio/speakers/vnljypgejkINbBAY/4fb3d...</td>\n",
              "      <td>vnljypgejkINbBAY</td>\n",
              "      <td>decrease</td>\n",
              "      <td>volume</td>\n",
              "      <td>native</td>\n",
              "      <td>English (United States)</td>\n",
              "      <td>English (United States)</td>\n",
              "      <td>male</td>\n",
              "      <td>22-40</td>\n",
              "    </tr>\n",
              "    <tr>\n",
              "      <th>9850</th>\n",
              "      <td>9850</td>\n",
              "      <td>dsl_data/audio/speakers/vnljypgejkINbBAY/59e6a...</td>\n",
              "      <td>vnljypgejkINbBAY</td>\n",
              "      <td>deactivate</td>\n",
              "      <td>lights</td>\n",
              "      <td>native</td>\n",
              "      <td>English (United States)</td>\n",
              "      <td>English (United States)</td>\n",
              "      <td>male</td>\n",
              "      <td>22-40</td>\n",
              "    </tr>\n",
              "    <tr>\n",
              "      <th>9851</th>\n",
              "      <td>9851</td>\n",
              "      <td>dsl_data/audio/speakers/vnljypgejkINbBAY/5c81c...</td>\n",
              "      <td>vnljypgejkINbBAY</td>\n",
              "      <td>deactivate</td>\n",
              "      <td>lights</td>\n",
              "      <td>native</td>\n",
              "      <td>English (United States)</td>\n",
              "      <td>English (United States)</td>\n",
              "      <td>male</td>\n",
              "      <td>22-40</td>\n",
              "    </tr>\n",
              "    <tr>\n",
              "      <th>9852</th>\n",
              "      <td>9852</td>\n",
              "      <td>dsl_data/audio/speakers/vnljypgejkINbBAY/5ef42...</td>\n",
              "      <td>vnljypgejkINbBAY</td>\n",
              "      <td>deactivate</td>\n",
              "      <td>lights</td>\n",
              "      <td>native</td>\n",
              "      <td>English (United States)</td>\n",
              "      <td>English (United States)</td>\n",
              "      <td>male</td>\n",
              "      <td>22-40</td>\n",
              "    </tr>\n",
              "    <tr>\n",
              "      <th>9853</th>\n",
              "      <td>9853</td>\n",
              "      <td>dsl_data/audio/speakers/vnljypgejkINbBAY/61b7a...</td>\n",
              "      <td>vnljypgejkINbBAY</td>\n",
              "      <td>increase</td>\n",
              "      <td>volume</td>\n",
              "      <td>native</td>\n",
              "      <td>English (United States)</td>\n",
              "      <td>English (United States)</td>\n",
              "      <td>male</td>\n",
              "      <td>22-40</td>\n",
              "    </tr>\n",
              "  </tbody>\n",
              "</table>\n",
              "<p>9854 rows × 10 columns</p>\n",
              "</div>\n",
              "      <button class=\"colab-df-convert\" onclick=\"convertToInteractive('df-86b3e456-d5af-4be6-84f5-a50d8d9256bf')\"\n",
              "              title=\"Convert this dataframe to an interactive table.\"\n",
              "              style=\"display:none;\">\n",
              "        \n",
              "  <svg xmlns=\"http://www.w3.org/2000/svg\" height=\"24px\"viewBox=\"0 0 24 24\"\n",
              "       width=\"24px\">\n",
              "    <path d=\"M0 0h24v24H0V0z\" fill=\"none\"/>\n",
              "    <path d=\"M18.56 5.44l.94 2.06.94-2.06 2.06-.94-2.06-.94-.94-2.06-.94 2.06-2.06.94zm-11 1L8.5 8.5l.94-2.06 2.06-.94-2.06-.94L8.5 2.5l-.94 2.06-2.06.94zm10 10l.94 2.06.94-2.06 2.06-.94-2.06-.94-.94-2.06-.94 2.06-2.06.94z\"/><path d=\"M17.41 7.96l-1.37-1.37c-.4-.4-.92-.59-1.43-.59-.52 0-1.04.2-1.43.59L10.3 9.45l-7.72 7.72c-.78.78-.78 2.05 0 2.83L4 21.41c.39.39.9.59 1.41.59.51 0 1.02-.2 1.41-.59l7.78-7.78 2.81-2.81c.8-.78.8-2.07 0-2.86zM5.41 20L4 18.59l7.72-7.72 1.47 1.35L5.41 20z\"/>\n",
              "  </svg>\n",
              "      </button>\n",
              "      \n",
              "  <style>\n",
              "    .colab-df-container {\n",
              "      display:flex;\n",
              "      flex-wrap:wrap;\n",
              "      gap: 12px;\n",
              "    }\n",
              "\n",
              "    .colab-df-convert {\n",
              "      background-color: #E8F0FE;\n",
              "      border: none;\n",
              "      border-radius: 50%;\n",
              "      cursor: pointer;\n",
              "      display: none;\n",
              "      fill: #1967D2;\n",
              "      height: 32px;\n",
              "      padding: 0 0 0 0;\n",
              "      width: 32px;\n",
              "    }\n",
              "\n",
              "    .colab-df-convert:hover {\n",
              "      background-color: #E2EBFA;\n",
              "      box-shadow: 0px 1px 2px rgba(60, 64, 67, 0.3), 0px 1px 3px 1px rgba(60, 64, 67, 0.15);\n",
              "      fill: #174EA6;\n",
              "    }\n",
              "\n",
              "    [theme=dark] .colab-df-convert {\n",
              "      background-color: #3B4455;\n",
              "      fill: #D2E3FC;\n",
              "    }\n",
              "\n",
              "    [theme=dark] .colab-df-convert:hover {\n",
              "      background-color: #434B5C;\n",
              "      box-shadow: 0px 1px 3px 1px rgba(0, 0, 0, 0.15);\n",
              "      filter: drop-shadow(0px 1px 2px rgba(0, 0, 0, 0.3));\n",
              "      fill: #FFFFFF;\n",
              "    }\n",
              "  </style>\n",
              "\n",
              "      <script>\n",
              "        const buttonEl =\n",
              "          document.querySelector('#df-86b3e456-d5af-4be6-84f5-a50d8d9256bf button.colab-df-convert');\n",
              "        buttonEl.style.display =\n",
              "          google.colab.kernel.accessAllowed ? 'block' : 'none';\n",
              "\n",
              "        async function convertToInteractive(key) {\n",
              "          const element = document.querySelector('#df-86b3e456-d5af-4be6-84f5-a50d8d9256bf');\n",
              "          const dataTable =\n",
              "            await google.colab.kernel.invokeFunction('convertToInteractive',\n",
              "                                                     [key], {});\n",
              "          if (!dataTable) return;\n",
              "\n",
              "          const docLinkHtml = 'Like what you see? Visit the ' +\n",
              "            '<a target=\"_blank\" href=https://colab.research.google.com/notebooks/data_table.ipynb>data table notebook</a>'\n",
              "            + ' to learn more about interactive tables.';\n",
              "          element.innerHTML = '';\n",
              "          dataTable['output_type'] = 'display_data';\n",
              "          await google.colab.output.renderOutput(dataTable, element);\n",
              "          const docLink = document.createElement('div');\n",
              "          docLink.innerHTML = docLinkHtml;\n",
              "          element.appendChild(docLink);\n",
              "        }\n",
              "      </script>\n",
              "    </div>\n",
              "  </div>\n",
              "  "
            ]
          },
          "metadata": {},
          "execution_count": 6
        }
      ],
      "source": [
        "colab = True\n",
        "\n",
        "if colab == True:\n",
        "  path= r'/content/development.csv'\n",
        "else:\n",
        "  path = r'C:/Users/andre/OneDrive/Documenti/GitHub/winter_exam_22_23/development.csv'\n",
        "\n",
        "df_development = pd.read_csv(path)\n",
        "df_development"
      ]
    },
    {
      "cell_type": "code",
      "execution_count": 7,
      "id": "140e6e8a",
      "metadata": {
        "colab": {
          "base_uri": "https://localhost:8080/"
        },
        "id": "140e6e8a",
        "outputId": "663b9c03-3733-420e-b10d-c54021c7e9de"
      },
      "outputs": [
        {
          "output_type": "execute_result",
          "data": {
            "text/plain": [
              "(increase           3823\n",
              " decrease           3575\n",
              " change language    1113\n",
              " activate            791\n",
              " deactivate          552\n",
              " Name: action, dtype: int64, volume    5000\n",
              " heat      2398\n",
              " none      1113\n",
              " music      791\n",
              " lights     552\n",
              " Name: object, dtype: int64)"
            ]
          },
          "metadata": {},
          "execution_count": 7
        }
      ],
      "source": [
        "#Evlauate balancement of dataset\n",
        "df_development.action.value_counts(), df_development.object.value_counts()"
      ]
    },
    {
      "cell_type": "markdown",
      "id": "53b56d05",
      "metadata": {
        "id": "53b56d05"
      },
      "source": [
        "### Evaluate all the existing combinations in the dataset"
      ]
    },
    {
      "cell_type": "code",
      "execution_count": 8,
      "id": "993246fe",
      "metadata": {
        "scrolled": true,
        "colab": {
          "base_uri": "https://localhost:8080/"
        },
        "id": "993246fe",
        "outputId": "8c31a228-1797-4abe-d315-ce840207d5ec"
      },
      "outputs": [
        {
          "output_type": "execute_result",
          "data": {
            "text/plain": [
              "volume    2614\n",
              "heat      1209\n",
              "Name: object, dtype: int64"
            ]
          },
          "metadata": {},
          "execution_count": 8
        }
      ],
      "source": [
        "#Evaluate all the existing combinations in the dataset\n",
        "df_increase = df_development[df_development['action']=='increase']\n",
        "df_increase.object.value_counts()"
      ]
    },
    {
      "cell_type": "code",
      "execution_count": 9,
      "id": "24844531",
      "metadata": {
        "colab": {
          "base_uri": "https://localhost:8080/"
        },
        "id": "24844531",
        "outputId": "b40a86a7-1b87-4651-d6e0-12e6b5ddada7"
      },
      "outputs": [
        {
          "output_type": "execute_result",
          "data": {
            "text/plain": [
              "volume    2386\n",
              "heat      1189\n",
              "Name: object, dtype: int64"
            ]
          },
          "metadata": {},
          "execution_count": 9
        }
      ],
      "source": [
        "#Evaluate all the existing combinations in the dataset\n",
        "df_decrease = df_development[df_development['action']=='decrease']\n",
        "df_decrease.object.value_counts()"
      ]
    },
    {
      "cell_type": "code",
      "execution_count": 10,
      "id": "7beb2908",
      "metadata": {
        "colab": {
          "base_uri": "https://localhost:8080/"
        },
        "id": "7beb2908",
        "outputId": "707dfe1d-0338-4e35-b58b-534ddf9178fb"
      },
      "outputs": [
        {
          "output_type": "execute_result",
          "data": {
            "text/plain": [
              "none    1113\n",
              "Name: object, dtype: int64"
            ]
          },
          "metadata": {},
          "execution_count": 10
        }
      ],
      "source": [
        "#Evaluate all the existing combinations in the dataset\n",
        "df_change_language = df_development[df_development['action']=='change language']\n",
        "df_change_language.object.value_counts()"
      ]
    },
    {
      "cell_type": "code",
      "execution_count": 11,
      "id": "8cc46411",
      "metadata": {
        "colab": {
          "base_uri": "https://localhost:8080/"
        },
        "id": "8cc46411",
        "outputId": "fa3418ba-dfc5-42ae-e944-c3b1d7383509"
      },
      "outputs": [
        {
          "output_type": "execute_result",
          "data": {
            "text/plain": [
              "music    791\n",
              "Name: object, dtype: int64"
            ]
          },
          "metadata": {},
          "execution_count": 11
        }
      ],
      "source": [
        "#Evaluate all the existing combinations in the dataset\n",
        "df_activate = df_development[df_development['action']=='activate']\n",
        "df_activate.object.value_counts()"
      ]
    },
    {
      "cell_type": "code",
      "execution_count": 12,
      "id": "13c551f7",
      "metadata": {
        "colab": {
          "base_uri": "https://localhost:8080/"
        },
        "id": "13c551f7",
        "outputId": "7637bdc0-5d74-4585-8061-eef5cfbc1334"
      },
      "outputs": [
        {
          "output_type": "execute_result",
          "data": {
            "text/plain": [
              "lights    552\n",
              "Name: object, dtype: int64"
            ]
          },
          "metadata": {},
          "execution_count": 12
        }
      ],
      "source": [
        "#Evaluate all the existing combinations in the dataset\n",
        "df_deactivate = df_development[df_development['action']=='deactivate']\n",
        "df_deactivate.object.value_counts()"
      ]
    },
    {
      "cell_type": "markdown",
      "id": "31ce189b",
      "metadata": {
        "id": "31ce189b"
      },
      "source": [
        "Combinations of actions expressed by humans in the dataset found are the following:\n",
        "1. increase volume\n",
        "2. increase heat\n",
        "3. decrease volume\n",
        "4. decrease heat\n",
        "5. change language\n",
        "6. activate music\n",
        "7. deactivate lights\n",
        "\n",
        "According to this, starting from this dataset a new one can be generated containing the audio file with the corresponding label aside referring to the desired action."
      ]
    },
    {
      "cell_type": "markdown",
      "id": "ca1bc2a3",
      "metadata": {
        "id": "ca1bc2a3"
      },
      "source": [
        "### Creating new training dataset\n",
        "Add a column called labels where in correspondance of each combination has the respective label (ex. if the row has action=increase and object=heat has label 1)"
      ]
    },
    {
      "cell_type": "code",
      "execution_count": 13,
      "id": "6c75037c",
      "metadata": {
        "colab": {
          "base_uri": "https://localhost:8080/",
          "height": 886
        },
        "id": "6c75037c",
        "outputId": "68e9539c-85dc-4fe8-f765-7e0d1770c005"
      },
      "outputs": [
        {
          "output_type": "execute_result",
          "data": {
            "text/plain": [
              "        Id                                               path  \\\n",
              "0        0  dsl_data/audio/speakers/2BqVo8kVB2Skwgyb/0a312...   \n",
              "1        1  dsl_data/audio/speakers/2BqVo8kVB2Skwgyb/0ee42...   \n",
              "2        2  dsl_data/audio/speakers/2BqVo8kVB2Skwgyb/1d9f3...   \n",
              "3        3  dsl_data/audio/speakers/2BqVo8kVB2Skwgyb/269fc...   \n",
              "4        4  dsl_data/audio/speakers/2BqVo8kVB2Skwgyb/5bbda...   \n",
              "...    ...                                                ...   \n",
              "9849  9849  dsl_data/audio/speakers/vnljypgejkINbBAY/4fb3d...   \n",
              "9850  9850  dsl_data/audio/speakers/vnljypgejkINbBAY/59e6a...   \n",
              "9851  9851  dsl_data/audio/speakers/vnljypgejkINbBAY/5c81c...   \n",
              "9852  9852  dsl_data/audio/speakers/vnljypgejkINbBAY/5ef42...   \n",
              "9853  9853  dsl_data/audio/speakers/vnljypgejkINbBAY/61b7a...   \n",
              "\n",
              "             speakerId           action  object Self-reported fluency level   \\\n",
              "0     2BqVo8kVB2Skwgyb  change language    none                     advanced   \n",
              "1     2BqVo8kVB2Skwgyb         activate   music                     advanced   \n",
              "2     2BqVo8kVB2Skwgyb       deactivate  lights                     advanced   \n",
              "3     2BqVo8kVB2Skwgyb         increase  volume                     advanced   \n",
              "4     2BqVo8kVB2Skwgyb         increase  volume                     advanced   \n",
              "...                ...              ...     ...                          ...   \n",
              "9849  vnljypgejkINbBAY         decrease  volume                       native   \n",
              "9850  vnljypgejkINbBAY       deactivate  lights                       native   \n",
              "9851  vnljypgejkINbBAY       deactivate  lights                       native   \n",
              "9852  vnljypgejkINbBAY       deactivate  lights                       native   \n",
              "9853  vnljypgejkINbBAY         increase  volume                       native   \n",
              "\n",
              "        First Language spoken Current language used for work/school  gender  \\\n",
              "0     English (United States)               English (United States)  female   \n",
              "1     English (United States)               English (United States)  female   \n",
              "2     English (United States)               English (United States)  female   \n",
              "3     English (United States)               English (United States)  female   \n",
              "4     English (United States)               English (United States)  female   \n",
              "...                       ...                                   ...     ...   \n",
              "9849  English (United States)               English (United States)    male   \n",
              "9850  English (United States)               English (United States)    male   \n",
              "9851  English (United States)               English (United States)    male   \n",
              "9852  English (United States)               English (United States)    male   \n",
              "9853  English (United States)               English (United States)    male   \n",
              "\n",
              "     ageRange  labels  \n",
              "0       22-40       5  \n",
              "1       22-40       6  \n",
              "2       22-40       7  \n",
              "3       22-40       1  \n",
              "4       22-40       1  \n",
              "...       ...     ...  \n",
              "9849    22-40       3  \n",
              "9850    22-40       7  \n",
              "9851    22-40       7  \n",
              "9852    22-40       7  \n",
              "9853    22-40       1  \n",
              "\n",
              "[9854 rows x 11 columns]"
            ],
            "text/html": [
              "\n",
              "  <div id=\"df-7bcab383-46d7-4766-aed7-f88e29019b65\">\n",
              "    <div class=\"colab-df-container\">\n",
              "      <div>\n",
              "<style scoped>\n",
              "    .dataframe tbody tr th:only-of-type {\n",
              "        vertical-align: middle;\n",
              "    }\n",
              "\n",
              "    .dataframe tbody tr th {\n",
              "        vertical-align: top;\n",
              "    }\n",
              "\n",
              "    .dataframe thead th {\n",
              "        text-align: right;\n",
              "    }\n",
              "</style>\n",
              "<table border=\"1\" class=\"dataframe\">\n",
              "  <thead>\n",
              "    <tr style=\"text-align: right;\">\n",
              "      <th></th>\n",
              "      <th>Id</th>\n",
              "      <th>path</th>\n",
              "      <th>speakerId</th>\n",
              "      <th>action</th>\n",
              "      <th>object</th>\n",
              "      <th>Self-reported fluency level</th>\n",
              "      <th>First Language spoken</th>\n",
              "      <th>Current language used for work/school</th>\n",
              "      <th>gender</th>\n",
              "      <th>ageRange</th>\n",
              "      <th>labels</th>\n",
              "    </tr>\n",
              "  </thead>\n",
              "  <tbody>\n",
              "    <tr>\n",
              "      <th>0</th>\n",
              "      <td>0</td>\n",
              "      <td>dsl_data/audio/speakers/2BqVo8kVB2Skwgyb/0a312...</td>\n",
              "      <td>2BqVo8kVB2Skwgyb</td>\n",
              "      <td>change language</td>\n",
              "      <td>none</td>\n",
              "      <td>advanced</td>\n",
              "      <td>English (United States)</td>\n",
              "      <td>English (United States)</td>\n",
              "      <td>female</td>\n",
              "      <td>22-40</td>\n",
              "      <td>5</td>\n",
              "    </tr>\n",
              "    <tr>\n",
              "      <th>1</th>\n",
              "      <td>1</td>\n",
              "      <td>dsl_data/audio/speakers/2BqVo8kVB2Skwgyb/0ee42...</td>\n",
              "      <td>2BqVo8kVB2Skwgyb</td>\n",
              "      <td>activate</td>\n",
              "      <td>music</td>\n",
              "      <td>advanced</td>\n",
              "      <td>English (United States)</td>\n",
              "      <td>English (United States)</td>\n",
              "      <td>female</td>\n",
              "      <td>22-40</td>\n",
              "      <td>6</td>\n",
              "    </tr>\n",
              "    <tr>\n",
              "      <th>2</th>\n",
              "      <td>2</td>\n",
              "      <td>dsl_data/audio/speakers/2BqVo8kVB2Skwgyb/1d9f3...</td>\n",
              "      <td>2BqVo8kVB2Skwgyb</td>\n",
              "      <td>deactivate</td>\n",
              "      <td>lights</td>\n",
              "      <td>advanced</td>\n",
              "      <td>English (United States)</td>\n",
              "      <td>English (United States)</td>\n",
              "      <td>female</td>\n",
              "      <td>22-40</td>\n",
              "      <td>7</td>\n",
              "    </tr>\n",
              "    <tr>\n",
              "      <th>3</th>\n",
              "      <td>3</td>\n",
              "      <td>dsl_data/audio/speakers/2BqVo8kVB2Skwgyb/269fc...</td>\n",
              "      <td>2BqVo8kVB2Skwgyb</td>\n",
              "      <td>increase</td>\n",
              "      <td>volume</td>\n",
              "      <td>advanced</td>\n",
              "      <td>English (United States)</td>\n",
              "      <td>English (United States)</td>\n",
              "      <td>female</td>\n",
              "      <td>22-40</td>\n",
              "      <td>1</td>\n",
              "    </tr>\n",
              "    <tr>\n",
              "      <th>4</th>\n",
              "      <td>4</td>\n",
              "      <td>dsl_data/audio/speakers/2BqVo8kVB2Skwgyb/5bbda...</td>\n",
              "      <td>2BqVo8kVB2Skwgyb</td>\n",
              "      <td>increase</td>\n",
              "      <td>volume</td>\n",
              "      <td>advanced</td>\n",
              "      <td>English (United States)</td>\n",
              "      <td>English (United States)</td>\n",
              "      <td>female</td>\n",
              "      <td>22-40</td>\n",
              "      <td>1</td>\n",
              "    </tr>\n",
              "    <tr>\n",
              "      <th>...</th>\n",
              "      <td>...</td>\n",
              "      <td>...</td>\n",
              "      <td>...</td>\n",
              "      <td>...</td>\n",
              "      <td>...</td>\n",
              "      <td>...</td>\n",
              "      <td>...</td>\n",
              "      <td>...</td>\n",
              "      <td>...</td>\n",
              "      <td>...</td>\n",
              "      <td>...</td>\n",
              "    </tr>\n",
              "    <tr>\n",
              "      <th>9849</th>\n",
              "      <td>9849</td>\n",
              "      <td>dsl_data/audio/speakers/vnljypgejkINbBAY/4fb3d...</td>\n",
              "      <td>vnljypgejkINbBAY</td>\n",
              "      <td>decrease</td>\n",
              "      <td>volume</td>\n",
              "      <td>native</td>\n",
              "      <td>English (United States)</td>\n",
              "      <td>English (United States)</td>\n",
              "      <td>male</td>\n",
              "      <td>22-40</td>\n",
              "      <td>3</td>\n",
              "    </tr>\n",
              "    <tr>\n",
              "      <th>9850</th>\n",
              "      <td>9850</td>\n",
              "      <td>dsl_data/audio/speakers/vnljypgejkINbBAY/59e6a...</td>\n",
              "      <td>vnljypgejkINbBAY</td>\n",
              "      <td>deactivate</td>\n",
              "      <td>lights</td>\n",
              "      <td>native</td>\n",
              "      <td>English (United States)</td>\n",
              "      <td>English (United States)</td>\n",
              "      <td>male</td>\n",
              "      <td>22-40</td>\n",
              "      <td>7</td>\n",
              "    </tr>\n",
              "    <tr>\n",
              "      <th>9851</th>\n",
              "      <td>9851</td>\n",
              "      <td>dsl_data/audio/speakers/vnljypgejkINbBAY/5c81c...</td>\n",
              "      <td>vnljypgejkINbBAY</td>\n",
              "      <td>deactivate</td>\n",
              "      <td>lights</td>\n",
              "      <td>native</td>\n",
              "      <td>English (United States)</td>\n",
              "      <td>English (United States)</td>\n",
              "      <td>male</td>\n",
              "      <td>22-40</td>\n",
              "      <td>7</td>\n",
              "    </tr>\n",
              "    <tr>\n",
              "      <th>9852</th>\n",
              "      <td>9852</td>\n",
              "      <td>dsl_data/audio/speakers/vnljypgejkINbBAY/5ef42...</td>\n",
              "      <td>vnljypgejkINbBAY</td>\n",
              "      <td>deactivate</td>\n",
              "      <td>lights</td>\n",
              "      <td>native</td>\n",
              "      <td>English (United States)</td>\n",
              "      <td>English (United States)</td>\n",
              "      <td>male</td>\n",
              "      <td>22-40</td>\n",
              "      <td>7</td>\n",
              "    </tr>\n",
              "    <tr>\n",
              "      <th>9853</th>\n",
              "      <td>9853</td>\n",
              "      <td>dsl_data/audio/speakers/vnljypgejkINbBAY/61b7a...</td>\n",
              "      <td>vnljypgejkINbBAY</td>\n",
              "      <td>increase</td>\n",
              "      <td>volume</td>\n",
              "      <td>native</td>\n",
              "      <td>English (United States)</td>\n",
              "      <td>English (United States)</td>\n",
              "      <td>male</td>\n",
              "      <td>22-40</td>\n",
              "      <td>1</td>\n",
              "    </tr>\n",
              "  </tbody>\n",
              "</table>\n",
              "<p>9854 rows × 11 columns</p>\n",
              "</div>\n",
              "      <button class=\"colab-df-convert\" onclick=\"convertToInteractive('df-7bcab383-46d7-4766-aed7-f88e29019b65')\"\n",
              "              title=\"Convert this dataframe to an interactive table.\"\n",
              "              style=\"display:none;\">\n",
              "        \n",
              "  <svg xmlns=\"http://www.w3.org/2000/svg\" height=\"24px\"viewBox=\"0 0 24 24\"\n",
              "       width=\"24px\">\n",
              "    <path d=\"M0 0h24v24H0V0z\" fill=\"none\"/>\n",
              "    <path d=\"M18.56 5.44l.94 2.06.94-2.06 2.06-.94-2.06-.94-.94-2.06-.94 2.06-2.06.94zm-11 1L8.5 8.5l.94-2.06 2.06-.94-2.06-.94L8.5 2.5l-.94 2.06-2.06.94zm10 10l.94 2.06.94-2.06 2.06-.94-2.06-.94-.94-2.06-.94 2.06-2.06.94z\"/><path d=\"M17.41 7.96l-1.37-1.37c-.4-.4-.92-.59-1.43-.59-.52 0-1.04.2-1.43.59L10.3 9.45l-7.72 7.72c-.78.78-.78 2.05 0 2.83L4 21.41c.39.39.9.59 1.41.59.51 0 1.02-.2 1.41-.59l7.78-7.78 2.81-2.81c.8-.78.8-2.07 0-2.86zM5.41 20L4 18.59l7.72-7.72 1.47 1.35L5.41 20z\"/>\n",
              "  </svg>\n",
              "      </button>\n",
              "      \n",
              "  <style>\n",
              "    .colab-df-container {\n",
              "      display:flex;\n",
              "      flex-wrap:wrap;\n",
              "      gap: 12px;\n",
              "    }\n",
              "\n",
              "    .colab-df-convert {\n",
              "      background-color: #E8F0FE;\n",
              "      border: none;\n",
              "      border-radius: 50%;\n",
              "      cursor: pointer;\n",
              "      display: none;\n",
              "      fill: #1967D2;\n",
              "      height: 32px;\n",
              "      padding: 0 0 0 0;\n",
              "      width: 32px;\n",
              "    }\n",
              "\n",
              "    .colab-df-convert:hover {\n",
              "      background-color: #E2EBFA;\n",
              "      box-shadow: 0px 1px 2px rgba(60, 64, 67, 0.3), 0px 1px 3px 1px rgba(60, 64, 67, 0.15);\n",
              "      fill: #174EA6;\n",
              "    }\n",
              "\n",
              "    [theme=dark] .colab-df-convert {\n",
              "      background-color: #3B4455;\n",
              "      fill: #D2E3FC;\n",
              "    }\n",
              "\n",
              "    [theme=dark] .colab-df-convert:hover {\n",
              "      background-color: #434B5C;\n",
              "      box-shadow: 0px 1px 3px 1px rgba(0, 0, 0, 0.15);\n",
              "      filter: drop-shadow(0px 1px 2px rgba(0, 0, 0, 0.3));\n",
              "      fill: #FFFFFF;\n",
              "    }\n",
              "  </style>\n",
              "\n",
              "      <script>\n",
              "        const buttonEl =\n",
              "          document.querySelector('#df-7bcab383-46d7-4766-aed7-f88e29019b65 button.colab-df-convert');\n",
              "        buttonEl.style.display =\n",
              "          google.colab.kernel.accessAllowed ? 'block' : 'none';\n",
              "\n",
              "        async function convertToInteractive(key) {\n",
              "          const element = document.querySelector('#df-7bcab383-46d7-4766-aed7-f88e29019b65');\n",
              "          const dataTable =\n",
              "            await google.colab.kernel.invokeFunction('convertToInteractive',\n",
              "                                                     [key], {});\n",
              "          if (!dataTable) return;\n",
              "\n",
              "          const docLinkHtml = 'Like what you see? Visit the ' +\n",
              "            '<a target=\"_blank\" href=https://colab.research.google.com/notebooks/data_table.ipynb>data table notebook</a>'\n",
              "            + ' to learn more about interactive tables.';\n",
              "          element.innerHTML = '';\n",
              "          dataTable['output_type'] = 'display_data';\n",
              "          await google.colab.output.renderOutput(dataTable, element);\n",
              "          const docLink = document.createElement('div');\n",
              "          docLink.innerHTML = docLinkHtml;\n",
              "          element.appendChild(docLink);\n",
              "        }\n",
              "      </script>\n",
              "    </div>\n",
              "  </div>\n",
              "  "
            ]
          },
          "metadata": {},
          "execution_count": 13
        }
      ],
      "source": [
        "#df_development_increase_volume = df_development.loc[(df_development['action'] == 'increase') & (df_development['object'] == 'volume')]\n",
        "df_development['labels']=0\n",
        "\n",
        "#df_development_increase_volume = df_development.loc[(df_development['action'] == 'increase') & (df_development['object'] == 'volume')]\n",
        "df_development.loc[(df_development['action'] == 'increase') & (df_development['object'] == 'volume'), 'labels']=1\n",
        "df_development.loc[(df_development['action'] == 'increase') & (df_development['object'] == 'heat'), 'labels']=2\n",
        "\n",
        "df_development.loc[(df_development['action'] == 'decrease') & (df_development['object'] == 'volume'), 'labels']=3\n",
        "df_development.loc[(df_development['action'] == 'decrease') & (df_development['object'] == 'heat'), 'labels']=4\n",
        "\n",
        "df_development.loc[(df_development['action'] == 'change language') & (df_development['object'] == 'none'), 'labels']=5\n",
        "\n",
        "df_development.loc[(df_development['action'] == 'activate') & (df_development['object'] == 'music'), 'labels']=6\n",
        "df_development.loc[(df_development['action'] == 'deactivate') & (df_development['object'] == 'lights'), 'labels']=7\n",
        "\n",
        "df_development\n",
        "#df_development.labels.value_counts() #check"
      ]
    },
    {
      "cell_type": "code",
      "execution_count": 14,
      "id": "77027838",
      "metadata": {
        "colab": {
          "base_uri": "https://localhost:8080/"
        },
        "id": "77027838",
        "outputId": "768368c8-e869-4b5e-e309-683350ad9640"
      },
      "outputs": [
        {
          "output_type": "execute_result",
          "data": {
            "text/plain": [
              "Id                                                                                    9845\n",
              "path                                     dsl_data/audio/speakers/Pz327QrLaGuxW8Do/20e47...\n",
              "speakerId                                                                 Pz327QrLaGuxW8Do\n",
              "action                                                                     change language\n",
              "object                                                                                none\n",
              "Self-reported fluency level                                                         native\n",
              "First Language spoken                                              English (United States)\n",
              "Current language used for work/school                              English (United States)\n",
              "gender                                                                              female\n",
              "ageRange                                                                             22-40\n",
              "labels                                                                                   5\n",
              "Name: 9845, dtype: object"
            ]
          },
          "metadata": {},
          "execution_count": 14
        }
      ],
      "source": [
        "df_development.iloc[9845]"
      ]
    },
    {
      "cell_type": "code",
      "execution_count": 15,
      "id": "6260f815",
      "metadata": {
        "id": "6260f815"
      },
      "outputs": [],
      "source": [
        "if colab == True:\n",
        "  path_working_directory= r'/content/drive/MyDrive/'\n",
        "else:\n",
        "  path_working_directory = r'C:/Users/andre/OneDrive/Documenti/GitHub/winter_exam_22_23'\n",
        "paths_recordings = df_development['path']"
      ]
    },
    {
      "cell_type": "markdown",
      "id": "d77cc0ad",
      "metadata": {
        "id": "d77cc0ad"
      },
      "source": [
        "Load pickle file."
      ]
    },
    {
      "cell_type": "code",
      "execution_count": 16,
      "id": "299159e9",
      "metadata": {
        "id": "299159e9"
      },
      "outputs": [],
      "source": [
        "name_file = r'/df.pickle'\n",
        "\n",
        "with open(path_working_directory+name_file, 'rb') as f:\n",
        "        df = pickle.load(f)\n",
        "df_pd = pd.DataFrame({'audio':df[1], 'gender': df_development.gender, 'ageRange': df_development.ageRange, 'label':df[3]})\n",
        "#df_pd[9840:9845] ETICHETTATO COME FEMALE MA SECONDO ME E MALE"
      ]
    },
    {
      "cell_type": "code",
      "execution_count": 17,
      "id": "62e60bdf",
      "metadata": {
        "id": "62e60bdf"
      },
      "outputs": [],
      "source": [
        "# Test\n",
        "# df_female = df_development[df_development['gender']=='female']\n",
        "# df_female"
      ]
    },
    {
      "cell_type": "code",
      "execution_count": 18,
      "id": "d1f9c840",
      "metadata": {
        "id": "d1f9c840"
      },
      "outputs": [],
      "source": [
        "# Test\n",
        "# df_development.gender.value_counts()"
      ]
    },
    {
      "cell_type": "code",
      "execution_count": 19,
      "id": "22b09ddc",
      "metadata": {
        "id": "22b09ddc"
      },
      "outputs": [],
      "source": [
        "# Test\n",
        "# index = 9845\n",
        "# path_audio = df_development.path[index]\n",
        "# path_working_directory+'/'+path_audio\n",
        "# ipd.Audio(path_working_directory+'/'+path_audio)"
      ]
    },
    {
      "cell_type": "markdown",
      "id": "ad37994b",
      "metadata": {
        "id": "ad37994b"
      },
      "source": [
        " if len(item)/sr  >= 5 and len(item)/sr  <=7.5:\n",
        " \n",
        "n_samples /sr = seconds\n",
        "n_samples = seconds*sr\n"
      ]
    },
    {
      "cell_type": "code",
      "execution_count": 20,
      "id": "ab18ef28",
      "metadata": {
        "id": "ab18ef28"
      },
      "outputs": [],
      "source": [
        "# 10e-3*sr"
      ]
    },
    {
      "cell_type": "code",
      "execution_count": 21,
      "id": "899adb0c",
      "metadata": {
        "id": "899adb0c"
      },
      "outputs": [],
      "source": [
        "# 2048/sr"
      ]
    },
    {
      "cell_type": "markdown",
      "id": "2ecc2011",
      "metadata": {
        "id": "2ecc2011"
      },
      "source": [
        "See distribution of audio length"
      ]
    },
    {
      "cell_type": "code",
      "execution_count": 22,
      "id": "135b02bb",
      "metadata": {
        "colab": {
          "base_uri": "https://localhost:8080/",
          "height": 733
        },
        "id": "135b02bb",
        "outputId": "6031a647-78d8-430a-bd84-bf6166fef0d8"
      },
      "outputs": [
        {
          "output_type": "execute_result",
          "data": {
            "text/plain": [
              "<matplotlib.axes._subplots.AxesSubplot at 0x7fb3d9a33520>"
            ]
          },
          "metadata": {},
          "execution_count": 22
        },
        {
          "output_type": "display_data",
          "data": {
            "text/plain": [
              "<Figure size 864x864 with 1 Axes>"
            ],
            "image/png": "[encoded data removed]"
          },
          "metadata": {
            "needs_background": "light"
          }
        }
      ],
      "source": [
        "length_audios = []\n",
        "length_audios_seconds = []\n",
        "indexes = []\n",
        "i = 0\n",
        "\n",
        "for item,sr in zip(df[1], df[2]):\n",
        "    length_audios.append(len(item))\n",
        "    length_audios_seconds.append(len(item)/sr)\n",
        "#   Decomment if you are interested in retrieve indexes of audio within a specific range \n",
        "    if len(item)/sr  >= 5 and len(item)/sr  <=7.5:\n",
        "        indexes.append(i)\n",
        "    i = i+1\n",
        "        \n",
        "\n",
        "length_audios=pd.Series(length_audios)\n",
        "length_audios_seconds = pd.Series(length_audios_seconds)\n",
        "#print(length_audios_seconds.value_counts())\n",
        "plt.figure(figsize=(12,12))\n",
        "plt.title(\"Lenght of audios distribution (seconds)\")\n",
        "length_audios_seconds.hist()\n",
        "#print(length_audios_seconds)\n"
      ]
    },
    {
      "cell_type": "code",
      "execution_count": 23,
      "id": "49dc0779",
      "metadata": {
        "colab": {
          "base_uri": "https://localhost:8080/"
        },
        "id": "49dc0779",
        "outputId": "dee6d003-8167-43ba-ab58-bc45c1bdfcf9"
      },
      "outputs": [
        {
          "output_type": "execute_result",
          "data": {
            "text/plain": [
              "[3079,\n",
              " 3179,\n",
              " 3799,\n",
              " 3807,\n",
              " 3839,\n",
              " 4073,\n",
              " 4802,\n",
              " 7123,\n",
              " 7684,\n",
              " 8140,\n",
              " 8141,\n",
              " 8228,\n",
              " 8229,\n",
              " 8230,\n",
              " 8528]"
            ]
          },
          "metadata": {},
          "execution_count": 23
        }
      ],
      "source": [
        "indexes"
      ]
    },
    {
      "cell_type": "code",
      "execution_count": 24,
      "id": "1b4430aa",
      "metadata": {
        "id": "1b4430aa"
      },
      "outputs": [],
      "source": [
        "# See info of audios within specific range\n",
        "#df_pd.iloc[indexes]"
      ]
    },
    {
      "cell_type": "code",
      "execution_count": 25,
      "id": "45ca3f17",
      "metadata": {
        "id": "45ca3f17"
      },
      "outputs": [],
      "source": [
        "# index = 7123\n",
        "# path_audio = df_development.path[index]\n",
        "# path_working_directory+'/'+path_audio\n",
        "# ipd.Audio(df_pd['audio'][7123], rate=22050)"
      ]
    },
    {
      "cell_type": "markdown",
      "id": "c03ffa82",
      "metadata": {
        "id": "c03ffa82"
      },
      "source": [
        "### 2. Pre-Processing"
      ]
    },
    {
      "cell_type": "markdown",
      "id": "12ce9a7a",
      "metadata": {
        "id": "12ce9a7a"
      },
      "source": [
        "According to several papers focused on audio classification, VDA is among one of the most preprocessing techinque adopted which aims to trim all the silence parts away from audio files.\n",
        "\n",
        "To apply it, we will use _trim_ and _split_ librosa functions.\n",
        "\n",
        "- _trim_: cut silence frames at the beginning and in the end of an audio file.\n",
        "- _split_: saves the indexes (start, stop) of each non-silent frame in the audio file."
      ]
    },
    {
      "cell_type": "markdown",
      "id": "b8f3734b",
      "metadata": {
        "id": "b8f3734b"
      },
      "source": [
        "#### Trim"
      ]
    },
    {
      "cell_type": "code",
      "execution_count": 26,
      "id": "d01ba7a5",
      "metadata": {
        "colab": {
          "base_uri": "https://localhost:8080/",
          "height": 423
        },
        "id": "d01ba7a5",
        "outputId": "f983939c-a351-40f8-aa88-63119d6c4620"
      },
      "outputs": [
        {
          "output_type": "execute_result",
          "data": {
            "text/plain": [
              "                                                  audio  gender ageRange  \\\n",
              "0     [0.0, 0.0, 0.0, 0.0, 0.0, 0.0, 0.0, 0.0, 0.0, ...  female    22-40   \n",
              "1     [0.0, 0.0, 0.0, 0.0, 0.0, 0.0, 0.0, 0.0, 0.0, ...  female    22-40   \n",
              "2     [0.0, 0.0, 0.0, 0.0, 0.0, 0.0, 0.0, 0.0, 0.0, ...  female    22-40   \n",
              "3     [0.0, 0.0, 0.0, 0.0, 0.0, 0.0, 0.0, 0.0, 0.0, ...  female    22-40   \n",
              "4     [0.0, 0.0, 0.0, 0.0, 0.0, 0.0, 0.0, 0.0, 0.0, ...  female    22-40   \n",
              "...                                                 ...     ...      ...   \n",
              "9849  [0.009223618, 0.010777138, 0.009321626, 0.0099...    male    22-40   \n",
              "9850  [0.00936052, 0.010867924, 0.009305291, 0.00991...    male    22-40   \n",
              "9851  [0.0014334349, 0.001723074, 0.0015384919, 0.00...    male    22-40   \n",
              "9852  [0.009742705, 0.011407773, 0.009794228, 0.0103...    male    22-40   \n",
              "9853  [0.009512647, 0.011129991, 0.00956014, 0.01007...    male    22-40   \n",
              "\n",
              "      label                                         audio_trim  \n",
              "0         5  [-8.641122e-06, 1.5207445e-06, 2.6109909e-05, ...  \n",
              "1         6  [-7.505116e-05, -7.6106694e-06, 1.10456285e-05...  \n",
              "2         7  [3.145638e-05, 3.0807154e-05, 2.8492566e-05, 3...  \n",
              "3         1  [0.0005632056, 0.0005720459, 0.00071935874, 0....  \n",
              "4         1  [4.5547e-06, 2.4867417e-05, 3.363467e-05, 3.05...  \n",
              "...     ...                                                ...  \n",
              "9849      3  [0.009223618, 0.010777138, 0.009321626, 0.0099...  \n",
              "9850      7  [0.00936052, 0.010867924, 0.009305291, 0.00991...  \n",
              "9851      7  [0.0014334349, 0.001723074, 0.0015384919, 0.00...  \n",
              "9852      7  [0.009742705, 0.011407773, 0.009794228, 0.0103...  \n",
              "9853      1  [0.009512647, 0.011129991, 0.00956014, 0.01007...  \n",
              "\n",
              "[9854 rows x 5 columns]"
            ],
            "text/html": [
              "\n",
              "  <div id=\"df-67ba4054-40ca-4322-be9f-a00195942c9c\">\n",
              "    <div class=\"colab-df-container\">\n",
              "      <div>\n",
              "<style scoped>\n",
              "    .dataframe tbody tr th:only-of-type {\n",
              "        vertical-align: middle;\n",
              "    }\n",
              "\n",
              "    .dataframe tbody tr th {\n",
              "        vertical-align: top;\n",
              "    }\n",
              "\n",
              "    .dataframe thead th {\n",
              "        text-align: right;\n",
              "    }\n",
              "</style>\n",
              "<table border=\"1\" class=\"dataframe\">\n",
              "  <thead>\n",
              "    <tr style=\"text-align: right;\">\n",
              "      <th></th>\n",
              "      <th>audio</th>\n",
              "      <th>gender</th>\n",
              "      <th>ageRange</th>\n",
              "      <th>label</th>\n",
              "      <th>audio_trim</th>\n",
              "    </tr>\n",
              "  </thead>\n",
              "  <tbody>\n",
              "    <tr>\n",
              "      <th>0</th>\n",
              "      <td>[0.0, 0.0, 0.0, 0.0, 0.0, 0.0, 0.0, 0.0, 0.0, ...</td>\n",
              "      <td>female</td>\n",
              "      <td>22-40</td>\n",
              "      <td>5</td>\n",
              "      <td>[-8.641122e-06, 1.5207445e-06, 2.6109909e-05, ...</td>\n",
              "    </tr>\n",
              "    <tr>\n",
              "      <th>1</th>\n",
              "      <td>[0.0, 0.0, 0.0, 0.0, 0.0, 0.0, 0.0, 0.0, 0.0, ...</td>\n",
              "      <td>female</td>\n",
              "      <td>22-40</td>\n",
              "      <td>6</td>\n",
              "      <td>[-7.505116e-05, -7.6106694e-06, 1.10456285e-05...</td>\n",
              "    </tr>\n",
              "    <tr>\n",
              "      <th>2</th>\n",
              "      <td>[0.0, 0.0, 0.0, 0.0, 0.0, 0.0, 0.0, 0.0, 0.0, ...</td>\n",
              "      <td>female</td>\n",
              "      <td>22-40</td>\n",
              "      <td>7</td>\n",
              "      <td>[3.145638e-05, 3.0807154e-05, 2.8492566e-05, 3...</td>\n",
              "    </tr>\n",
              "    <tr>\n",
              "      <th>3</th>\n",
              "      <td>[0.0, 0.0, 0.0, 0.0, 0.0, 0.0, 0.0, 0.0, 0.0, ...</td>\n",
              "      <td>female</td>\n",
              "      <td>22-40</td>\n",
              "      <td>1</td>\n",
              "      <td>[0.0005632056, 0.0005720459, 0.00071935874, 0....</td>\n",
              "    </tr>\n",
              "    <tr>\n",
              "      <th>4</th>\n",
              "      <td>[0.0, 0.0, 0.0, 0.0, 0.0, 0.0, 0.0, 0.0, 0.0, ...</td>\n",
              "      <td>female</td>\n",
              "      <td>22-40</td>\n",
              "      <td>1</td>\n",
              "      <td>[4.5547e-06, 2.4867417e-05, 3.363467e-05, 3.05...</td>\n",
              "    </tr>\n",
              "    <tr>\n",
              "      <th>...</th>\n",
              "      <td>...</td>\n",
              "      <td>...</td>\n",
              "      <td>...</td>\n",
              "      <td>...</td>\n",
              "      <td>...</td>\n",
              "    </tr>\n",
              "    <tr>\n",
              "      <th>9849</th>\n",
              "      <td>[0.009223618, 0.010777138, 0.009321626, 0.0099...</td>\n",
              "      <td>male</td>\n",
              "      <td>22-40</td>\n",
              "      <td>3</td>\n",
              "      <td>[0.009223618, 0.010777138, 0.009321626, 0.0099...</td>\n",
              "    </tr>\n",
              "    <tr>\n",
              "      <th>9850</th>\n",
              "      <td>[0.00936052, 0.010867924, 0.009305291, 0.00991...</td>\n",
              "      <td>male</td>\n",
              "      <td>22-40</td>\n",
              "      <td>7</td>\n",
              "      <td>[0.00936052, 0.010867924, 0.009305291, 0.00991...</td>\n",
              "    </tr>\n",
              "    <tr>\n",
              "      <th>9851</th>\n",
              "      <td>[0.0014334349, 0.001723074, 0.0015384919, 0.00...</td>\n",
              "      <td>male</td>\n",
              "      <td>22-40</td>\n",
              "      <td>7</td>\n",
              "      <td>[0.0014334349, 0.001723074, 0.0015384919, 0.00...</td>\n",
              "    </tr>\n",
              "    <tr>\n",
              "      <th>9852</th>\n",
              "      <td>[0.009742705, 0.011407773, 0.009794228, 0.0103...</td>\n",
              "      <td>male</td>\n",
              "      <td>22-40</td>\n",
              "      <td>7</td>\n",
              "      <td>[0.009742705, 0.011407773, 0.009794228, 0.0103...</td>\n",
              "    </tr>\n",
              "    <tr>\n",
              "      <th>9853</th>\n",
              "      <td>[0.009512647, 0.011129991, 0.00956014, 0.01007...</td>\n",
              "      <td>male</td>\n",
              "      <td>22-40</td>\n",
              "      <td>1</td>\n",
              "      <td>[0.009512647, 0.011129991, 0.00956014, 0.01007...</td>\n",
              "    </tr>\n",
              "  </tbody>\n",
              "</table>\n",
              "<p>9854 rows × 5 columns</p>\n",
              "</div>\n",
              "      <button class=\"colab-df-convert\" onclick=\"convertToInteractive('df-67ba4054-40ca-4322-be9f-a00195942c9c')\"\n",
              "              title=\"Convert this dataframe to an interactive table.\"\n",
              "              style=\"display:none;\">\n",
              "        \n",
              "  <svg xmlns=\"http://www.w3.org/2000/svg\" height=\"24px\"viewBox=\"0 0 24 24\"\n",
              "       width=\"24px\">\n",
              "    <path d=\"M0 0h24v24H0V0z\" fill=\"none\"/>\n",
              "    <path d=\"M18.56 5.44l.94 2.06.94-2.06 2.06-.94-2.06-.94-.94-2.06-.94 2.06-2.06.94zm-11 1L8.5 8.5l.94-2.06 2.06-.94-2.06-.94L8.5 2.5l-.94 2.06-2.06.94zm10 10l.94 2.06.94-2.06 2.06-.94-2.06-.94-.94-2.06-.94 2.06-2.06.94z\"/><path d=\"M17.41 7.96l-1.37-1.37c-.4-.4-.92-.59-1.43-.59-.52 0-1.04.2-1.43.59L10.3 9.45l-7.72 7.72c-.78.78-.78 2.05 0 2.83L4 21.41c.39.39.9.59 1.41.59.51 0 1.02-.2 1.41-.59l7.78-7.78 2.81-2.81c.8-.78.8-2.07 0-2.86zM5.41 20L4 18.59l7.72-7.72 1.47 1.35L5.41 20z\"/>\n",
              "  </svg>\n",
              "      </button>\n",
              "      \n",
              "  <style>\n",
              "    .colab-df-container {\n",
              "      display:flex;\n",
              "      flex-wrap:wrap;\n",
              "      gap: 12px;\n",
              "    }\n",
              "\n",
              "    .colab-df-convert {\n",
              "      background-color: #E8F0FE;\n",
              "      border: none;\n",
              "      border-radius: 50%;\n",
              "      cursor: pointer;\n",
              "      display: none;\n",
              "      fill: #1967D2;\n",
              "      height: 32px;\n",
              "      padding: 0 0 0 0;\n",
              "      width: 32px;\n",
              "    }\n",
              "\n",
              "    .colab-df-convert:hover {\n",
              "      background-color: #E2EBFA;\n",
              "      box-shadow: 0px 1px 2px rgba(60, 64, 67, 0.3), 0px 1px 3px 1px rgba(60, 64, 67, 0.15);\n",
              "      fill: #174EA6;\n",
              "    }\n",
              "\n",
              "    [theme=dark] .colab-df-convert {\n",
              "      background-color: #3B4455;\n",
              "      fill: #D2E3FC;\n",
              "    }\n",
              "\n",
              "    [theme=dark] .colab-df-convert:hover {\n",
              "      background-color: #434B5C;\n",
              "      box-shadow: 0px 1px 3px 1px rgba(0, 0, 0, 0.15);\n",
              "      filter: drop-shadow(0px 1px 2px rgba(0, 0, 0, 0.3));\n",
              "      fill: #FFFFFF;\n",
              "    }\n",
              "  </style>\n",
              "\n",
              "      <script>\n",
              "        const buttonEl =\n",
              "          document.querySelector('#df-67ba4054-40ca-4322-be9f-a00195942c9c button.colab-df-convert');\n",
              "        buttonEl.style.display =\n",
              "          google.colab.kernel.accessAllowed ? 'block' : 'none';\n",
              "\n",
              "        async function convertToInteractive(key) {\n",
              "          const element = document.querySelector('#df-67ba4054-40ca-4322-be9f-a00195942c9c');\n",
              "          const dataTable =\n",
              "            await google.colab.kernel.invokeFunction('convertToInteractive',\n",
              "                                                     [key], {});\n",
              "          if (!dataTable) return;\n",
              "\n",
              "          const docLinkHtml = 'Like what you see? Visit the ' +\n",
              "            '<a target=\"_blank\" href=https://colab.research.google.com/notebooks/data_table.ipynb>data table notebook</a>'\n",
              "            + ' to learn more about interactive tables.';\n",
              "          element.innerHTML = '';\n",
              "          dataTable['output_type'] = 'display_data';\n",
              "          await google.colab.output.renderOutput(dataTable, element);\n",
              "          const docLink = document.createElement('div');\n",
              "          docLink.innerHTML = docLinkHtml;\n",
              "          element.appendChild(docLink);\n",
              "        }\n",
              "      </script>\n",
              "    </div>\n",
              "  </div>\n",
              "  "
            ]
          },
          "metadata": {},
          "execution_count": 26
        }
      ],
      "source": [
        "trim_audios = []\n",
        "for i, audio in enumerate(df_pd.audio):\n",
        "    audio_trim = librosa.effects.trim(audio, top_db=30)[0]\n",
        "    trim_audios.append(audio_trim)\n",
        "    \n",
        "df_pd['audio_trim'] = trim_audios    \n",
        "df_pd"
      ]
    },
    {
      "cell_type": "code",
      "execution_count": 27,
      "id": "c98121bd",
      "metadata": {
        "colab": {
          "base_uri": "https://localhost:8080/",
          "height": 733
        },
        "id": "c98121bd",
        "outputId": "59e2a638-213e-4114-9c4b-39d1a60f3f50"
      },
      "outputs": [
        {
          "output_type": "execute_result",
          "data": {
            "text/plain": [
              "<matplotlib.axes._subplots.AxesSubplot at 0x7fb3d9e56a90>"
            ]
          },
          "metadata": {},
          "execution_count": 27
        },
        {
          "output_type": "display_data",
          "data": {
            "text/plain": [
              "<Figure size 864x864 with 1 Axes>"
            ],
            "image/png": "[encoded data removed]"
          },
          "metadata": {
            "needs_background": "light"
          }
        }
      ],
      "source": [
        "length_audios_trim = []\n",
        "length_audios_seconds_trim = []\n",
        "indexes = []\n",
        "i = 0\n",
        "\n",
        "for item in df_pd.audio_trim:\n",
        "    length_audios_trim.append(len(item))\n",
        "    length_audios_seconds_trim.append(len(item)/sr)\n",
        "#   Decomment if you are interested in retrieve indexes of audio within a specific range \n",
        "    if len(item)/sr  > 2: # se 2.64 prestazioni minori\n",
        "        indexes.append(i)\n",
        "    i = i+1\n",
        "        \n",
        "\n",
        "length_audios_trim=pd.Series(length_audios_trim)\n",
        "length_audios_seconds_trim = pd.Series(length_audios_seconds_trim)\n",
        "#print(length_audios_seconds.value_counts())\n",
        "plt.figure(figsize=(12,12))\n",
        "plt.title(\"Lenght of audios distribution (seconds)\")\n",
        "length_audios_seconds_trim.hist()\n",
        "#print(length_audios_seconds)\n"
      ]
    },
    {
      "cell_type": "code",
      "execution_count": 28,
      "id": "11fabeb9",
      "metadata": {
        "colab": {
          "base_uri": "https://localhost:8080/"
        },
        "id": "11fabeb9",
        "outputId": "7dd58b0c-e2af-4c0d-eed5-353d88c11266"
      },
      "outputs": [
        {
          "output_type": "execute_result",
          "data": {
            "text/plain": [
              "565"
            ]
          },
          "metadata": {},
          "execution_count": 28
        }
      ],
      "source": [
        "len(indexes)"
      ]
    },
    {
      "cell_type": "code",
      "execution_count": 29,
      "id": "5aa71035",
      "metadata": {
        "scrolled": true,
        "colab": {
          "base_uri": "https://localhost:8080/",
          "height": 423
        },
        "id": "5aa71035",
        "outputId": "e6007c45-9e1b-4d4c-82d5-df03a6fcff1d"
      },
      "outputs": [
        {
          "output_type": "execute_result",
          "data": {
            "text/plain": [
              "                                                  audio  gender ageRange  \\\n",
              "0     [0.0, 0.0, 0.0, 0.0, 0.0, 0.0, 0.0, 0.0, 0.0, ...  female    22-40   \n",
              "1     [0.0, 0.0, 0.0, 0.0, 0.0, 0.0, 0.0, 0.0, 0.0, ...  female    22-40   \n",
              "2     [0.0, 0.0, 0.0, 0.0, 0.0, 0.0, 0.0, 0.0, 0.0, ...  female    22-40   \n",
              "3     [0.0, 0.0, 0.0, 0.0, 0.0, 0.0, 0.0, 0.0, 0.0, ...  female    22-40   \n",
              "4     [0.0, 0.0, 0.0, 0.0, 0.0, 0.0, 0.0, 0.0, 0.0, ...  female    22-40   \n",
              "...                                                 ...     ...      ...   \n",
              "9284  [0.009798235, 0.011370795, 0.00974433, 0.01036...    male    22-40   \n",
              "9285  [0.00936052, 0.010867924, 0.009305291, 0.00991...    male    22-40   \n",
              "9286  [0.0014334349, 0.001723074, 0.0015384919, 0.00...    male    22-40   \n",
              "9287  [0.009742705, 0.011407773, 0.009794228, 0.0103...    male    22-40   \n",
              "9288  [0.009512647, 0.011129991, 0.00956014, 0.01007...    male    22-40   \n",
              "\n",
              "      label                                         audio_trim  \n",
              "0         5  [-8.641122e-06, 1.5207445e-06, 2.6109909e-05, ...  \n",
              "1         6  [-7.505116e-05, -7.6106694e-06, 1.10456285e-05...  \n",
              "2         7  [3.145638e-05, 3.0807154e-05, 2.8492566e-05, 3...  \n",
              "3         1  [0.0005632056, 0.0005720459, 0.00071935874, 0....  \n",
              "4         1  [4.5547e-06, 2.4867417e-05, 3.363467e-05, 3.05...  \n",
              "...     ...                                                ...  \n",
              "9284      6  [0.009798235, 0.011370795, 0.00974433, 0.01036...  \n",
              "9285      7  [0.00936052, 0.010867924, 0.009305291, 0.00991...  \n",
              "9286      7  [0.0014334349, 0.001723074, 0.0015384919, 0.00...  \n",
              "9287      7  [0.009742705, 0.011407773, 0.009794228, 0.0103...  \n",
              "9288      1  [0.009512647, 0.011129991, 0.00956014, 0.01007...  \n",
              "\n",
              "[9289 rows x 5 columns]"
            ],
            "text/html": [
              "\n",
              "  <div id=\"df-2cb764f6-4003-40c4-af45-1a02797253da\">\n",
              "    <div class=\"colab-df-container\">\n",
              "      <div>\n",
              "<style scoped>\n",
              "    .dataframe tbody tr th:only-of-type {\n",
              "        vertical-align: middle;\n",
              "    }\n",
              "\n",
              "    .dataframe tbody tr th {\n",
              "        vertical-align: top;\n",
              "    }\n",
              "\n",
              "    .dataframe thead th {\n",
              "        text-align: right;\n",
              "    }\n",
              "</style>\n",
              "<table border=\"1\" class=\"dataframe\">\n",
              "  <thead>\n",
              "    <tr style=\"text-align: right;\">\n",
              "      <th></th>\n",
              "      <th>audio</th>\n",
              "      <th>gender</th>\n",
              "      <th>ageRange</th>\n",
              "      <th>label</th>\n",
              "      <th>audio_trim</th>\n",
              "    </tr>\n",
              "  </thead>\n",
              "  <tbody>\n",
              "    <tr>\n",
              "      <th>0</th>\n",
              "      <td>[0.0, 0.0, 0.0, 0.0, 0.0, 0.0, 0.0, 0.0, 0.0, ...</td>\n",
              "      <td>female</td>\n",
              "      <td>22-40</td>\n",
              "      <td>5</td>\n",
              "      <td>[-8.641122e-06, 1.5207445e-06, 2.6109909e-05, ...</td>\n",
              "    </tr>\n",
              "    <tr>\n",
              "      <th>1</th>\n",
              "      <td>[0.0, 0.0, 0.0, 0.0, 0.0, 0.0, 0.0, 0.0, 0.0, ...</td>\n",
              "      <td>female</td>\n",
              "      <td>22-40</td>\n",
              "      <td>6</td>\n",
              "      <td>[-7.505116e-05, -7.6106694e-06, 1.10456285e-05...</td>\n",
              "    </tr>\n",
              "    <tr>\n",
              "      <th>2</th>\n",
              "      <td>[0.0, 0.0, 0.0, 0.0, 0.0, 0.0, 0.0, 0.0, 0.0, ...</td>\n",
              "      <td>female</td>\n",
              "      <td>22-40</td>\n",
              "      <td>7</td>\n",
              "      <td>[3.145638e-05, 3.0807154e-05, 2.8492566e-05, 3...</td>\n",
              "    </tr>\n",
              "    <tr>\n",
              "      <th>3</th>\n",
              "      <td>[0.0, 0.0, 0.0, 0.0, 0.0, 0.0, 0.0, 0.0, 0.0, ...</td>\n",
              "      <td>female</td>\n",
              "      <td>22-40</td>\n",
              "      <td>1</td>\n",
              "      <td>[0.0005632056, 0.0005720459, 0.00071935874, 0....</td>\n",
              "    </tr>\n",
              "    <tr>\n",
              "      <th>4</th>\n",
              "      <td>[0.0, 0.0, 0.0, 0.0, 0.0, 0.0, 0.0, 0.0, 0.0, ...</td>\n",
              "      <td>female</td>\n",
              "      <td>22-40</td>\n",
              "      <td>1</td>\n",
              "      <td>[4.5547e-06, 2.4867417e-05, 3.363467e-05, 3.05...</td>\n",
              "    </tr>\n",
              "    <tr>\n",
              "      <th>...</th>\n",
              "      <td>...</td>\n",
              "      <td>...</td>\n",
              "      <td>...</td>\n",
              "      <td>...</td>\n",
              "      <td>...</td>\n",
              "    </tr>\n",
              "    <tr>\n",
              "      <th>9284</th>\n",
              "      <td>[0.009798235, 0.011370795, 0.00974433, 0.01036...</td>\n",
              "      <td>male</td>\n",
              "      <td>22-40</td>\n",
              "      <td>6</td>\n",
              "      <td>[0.009798235, 0.011370795, 0.00974433, 0.01036...</td>\n",
              "    </tr>\n",
              "    <tr>\n",
              "      <th>9285</th>\n",
              "      <td>[0.00936052, 0.010867924, 0.009305291, 0.00991...</td>\n",
              "      <td>male</td>\n",
              "      <td>22-40</td>\n",
              "      <td>7</td>\n",
              "      <td>[0.00936052, 0.010867924, 0.009305291, 0.00991...</td>\n",
              "    </tr>\n",
              "    <tr>\n",
              "      <th>9286</th>\n",
              "      <td>[0.0014334349, 0.001723074, 0.0015384919, 0.00...</td>\n",
              "      <td>male</td>\n",
              "      <td>22-40</td>\n",
              "      <td>7</td>\n",
              "      <td>[0.0014334349, 0.001723074, 0.0015384919, 0.00...</td>\n",
              "    </tr>\n",
              "    <tr>\n",
              "      <th>9287</th>\n",
              "      <td>[0.009742705, 0.011407773, 0.009794228, 0.0103...</td>\n",
              "      <td>male</td>\n",
              "      <td>22-40</td>\n",
              "      <td>7</td>\n",
              "      <td>[0.009742705, 0.011407773, 0.009794228, 0.0103...</td>\n",
              "    </tr>\n",
              "    <tr>\n",
              "      <th>9288</th>\n",
              "      <td>[0.009512647, 0.011129991, 0.00956014, 0.01007...</td>\n",
              "      <td>male</td>\n",
              "      <td>22-40</td>\n",
              "      <td>1</td>\n",
              "      <td>[0.009512647, 0.011129991, 0.00956014, 0.01007...</td>\n",
              "    </tr>\n",
              "  </tbody>\n",
              "</table>\n",
              "<p>9289 rows × 5 columns</p>\n",
              "</div>\n",
              "      <button class=\"colab-df-convert\" onclick=\"convertToInteractive('df-2cb764f6-4003-40c4-af45-1a02797253da')\"\n",
              "              title=\"Convert this dataframe to an interactive table.\"\n",
              "              style=\"display:none;\">\n",
              "        \n",
              "  <svg xmlns=\"http://www.w3.org/2000/svg\" height=\"24px\"viewBox=\"0 0 24 24\"\n",
              "       width=\"24px\">\n",
              "    <path d=\"M0 0h24v24H0V0z\" fill=\"none\"/>\n",
              "    <path d=\"M18.56 5.44l.94 2.06.94-2.06 2.06-.94-2.06-.94-.94-2.06-.94 2.06-2.06.94zm-11 1L8.5 8.5l.94-2.06 2.06-.94-2.06-.94L8.5 2.5l-.94 2.06-2.06.94zm10 10l.94 2.06.94-2.06 2.06-.94-2.06-.94-.94-2.06-.94 2.06-2.06.94z\"/><path d=\"M17.41 7.96l-1.37-1.37c-.4-.4-.92-.59-1.43-.59-.52 0-1.04.2-1.43.59L10.3 9.45l-7.72 7.72c-.78.78-.78 2.05 0 2.83L4 21.41c.39.39.9.59 1.41.59.51 0 1.02-.2 1.41-.59l7.78-7.78 2.81-2.81c.8-.78.8-2.07 0-2.86zM5.41 20L4 18.59l7.72-7.72 1.47 1.35L5.41 20z\"/>\n",
              "  </svg>\n",
              "      </button>\n",
              "      \n",
              "  <style>\n",
              "    .colab-df-container {\n",
              "      display:flex;\n",
              "      flex-wrap:wrap;\n",
              "      gap: 12px;\n",
              "    }\n",
              "\n",
              "    .colab-df-convert {\n",
              "      background-color: #E8F0FE;\n",
              "      border: none;\n",
              "      border-radius: 50%;\n",
              "      cursor: pointer;\n",
              "      display: none;\n",
              "      fill: #1967D2;\n",
              "      height: 32px;\n",
              "      padding: 0 0 0 0;\n",
              "      width: 32px;\n",
              "    }\n",
              "\n",
              "    .colab-df-convert:hover {\n",
              "      background-color: #E2EBFA;\n",
              "      box-shadow: 0px 1px 2px rgba(60, 64, 67, 0.3), 0px 1px 3px 1px rgba(60, 64, 67, 0.15);\n",
              "      fill: #174EA6;\n",
              "    }\n",
              "\n",
              "    [theme=dark] .colab-df-convert {\n",
              "      background-color: #3B4455;\n",
              "      fill: #D2E3FC;\n",
              "    }\n",
              "\n",
              "    [theme=dark] .colab-df-convert:hover {\n",
              "      background-color: #434B5C;\n",
              "      box-shadow: 0px 1px 3px 1px rgba(0, 0, 0, 0.15);\n",
              "      filter: drop-shadow(0px 1px 2px rgba(0, 0, 0, 0.3));\n",
              "      fill: #FFFFFF;\n",
              "    }\n",
              "  </style>\n",
              "\n",
              "      <script>\n",
              "        const buttonEl =\n",
              "          document.querySelector('#df-2cb764f6-4003-40c4-af45-1a02797253da button.colab-df-convert');\n",
              "        buttonEl.style.display =\n",
              "          google.colab.kernel.accessAllowed ? 'block' : 'none';\n",
              "\n",
              "        async function convertToInteractive(key) {\n",
              "          const element = document.querySelector('#df-2cb764f6-4003-40c4-af45-1a02797253da');\n",
              "          const dataTable =\n",
              "            await google.colab.kernel.invokeFunction('convertToInteractive',\n",
              "                                                     [key], {});\n",
              "          if (!dataTable) return;\n",
              "\n",
              "          const docLinkHtml = 'Like what you see? Visit the ' +\n",
              "            '<a target=\"_blank\" href=https://colab.research.google.com/notebooks/data_table.ipynb>data table notebook</a>'\n",
              "            + ' to learn more about interactive tables.';\n",
              "          element.innerHTML = '';\n",
              "          dataTable['output_type'] = 'display_data';\n",
              "          await google.colab.output.renderOutput(dataTable, element);\n",
              "          const docLink = document.createElement('div');\n",
              "          docLink.innerHTML = docLinkHtml;\n",
              "          element.appendChild(docLink);\n",
              "        }\n",
              "      </script>\n",
              "    </div>\n",
              "  </div>\n",
              "  "
            ]
          },
          "metadata": {},
          "execution_count": 29
        }
      ],
      "source": [
        "df_pd=df_pd.drop(indexes).reset_index(drop=True) #reset_index because we have a new df and if we want to iterate over it is simpler\n",
        "df_pd"
      ]
    },
    {
      "cell_type": "markdown",
      "source": [
        "#### Normalizing"
      ],
      "metadata": {
        "id": "oOqERTMlsSFW"
      },
      "id": "oOqERTMlsSFW"
    },
    {
      "cell_type": "code",
      "source": [
        "#min = minimum value for each row of the vector signal\n",
        "#max = maximum value for each row of the vector signal\n",
        "import sklearn\n",
        "\n",
        "def normalize(audio, axis=0):\n",
        "    return sklearn.preprocessing.minmax_scale(audio, axis=axis)\n",
        "\n",
        "audios_normalized = []\n",
        "\n",
        "for audio in df_pd.audio:\n",
        "    \n",
        "    normalized_audio = normalize(audio)\n",
        "    audios_normalized.append(normalized_audio) \n",
        "\n",
        "df_pd['audio_normalized'] = audios_normalized"
      ],
      "metadata": {
        "id": "u2zEtKrosWZF"
      },
      "id": "u2zEtKrosWZF",
      "execution_count": 30,
      "outputs": []
    },
    {
      "cell_type": "markdown",
      "id": "76bc519d",
      "metadata": {
        "id": "76bc519d"
      },
      "source": [
        "#### Denoising"
      ]
    },
    {
      "cell_type": "code",
      "execution_count": 31,
      "id": "62bf7be1",
      "metadata": {
        "id": "62bf7be1"
      },
      "outputs": [],
      "source": [
        "# audio = df_pd.audio[7]\n",
        "# clean_audio=nr.reduce_noise(y=audio, sr=sr, n_std_thresh_stationary=1.5, stationary=True)"
      ]
    },
    {
      "cell_type": "code",
      "execution_count": 32,
      "id": "7197c39f",
      "metadata": {
        "id": "7197c39f"
      },
      "outputs": [],
      "source": [
        "# ipd.Audio(audio, rate=22050)"
      ]
    },
    {
      "cell_type": "code",
      "execution_count": 33,
      "id": "adcbc8f2",
      "metadata": {
        "id": "adcbc8f2"
      },
      "outputs": [],
      "source": [
        "# ipd.Audio(clean_audio, rate=22050)"
      ]
    },
    {
      "cell_type": "code",
      "execution_count": 34,
      "id": "f4fd3520",
      "metadata": {
        "id": "f4fd3520"
      },
      "outputs": [],
      "source": [
        "# audios_cleaned = []\n",
        "\n",
        "# for audio in df_pd.audio_trim:\n",
        "    \n",
        "#     audio_clean = nr.reduce_noise(y=audio, sr=sr, n_std_thresh_stationary=1.5, stationary=True)\n",
        "#     audios_cleaned.append(audio_clean)\n",
        "# #new_audio_reconstructed = np.hstack(audio_reconstructed)\n",
        "# #s1 = df_pd['audio'][idx][non_silence_parts[1][0]:non_silence_parts[1][-1]]\n",
        "# # s2 = df_pd['audio'][3799][librosa.effects.split(df_pd['audio'][3799])[1][0]:librosa.effects.split(df_pd['audio'][3799])[1][-1]]\n",
        "\n",
        "# #ipd.Audio(new_audio_reconstructed, rate=22050)"
      ]
    },
    {
      "cell_type": "code",
      "execution_count": 35,
      "id": "8b2c9fdb",
      "metadata": {
        "id": "8b2c9fdb"
      },
      "outputs": [],
      "source": [
        "# df_pd['audio_cleaned'] = audios_cleaned    \n",
        "# df_pd"
      ]
    },
    {
      "cell_type": "markdown",
      "id": "9161817f",
      "metadata": {
        "id": "9161817f"
      },
      "source": [
        "#### Split"
      ]
    },
    {
      "cell_type": "code",
      "execution_count": 36,
      "id": "bbf708a4",
      "metadata": {
        "id": "bbf708a4"
      },
      "outputs": [],
      "source": [
        "# idx = 8136\n",
        "# s =df_pd.audio[idx]\n",
        "# ipd.Audio(df_pd['audio_cleaned'][idx], rate=22050)"
      ]
    },
    {
      "cell_type": "code",
      "execution_count": 37,
      "id": "d4d86431",
      "metadata": {
        "id": "d4d86431"
      },
      "outputs": [],
      "source": [
        "audios_reconstructed = []\n",
        "\n",
        "for audio in df_pd.audio_trim:\n",
        "    \n",
        "    non_silence_parts = librosa.effects.split(audio, top_db=30)\n",
        "    audio_reconstructed_parts = [] #save the non silent parts in a list that then will be merged together to obtain the reconstructed file\n",
        "    \n",
        "    for part in non_silence_parts:\n",
        "        audio_reconstructed_parts.append(audio[part[0]:part[-1]])\n",
        "\n",
        "    audio_reconstructed = np.hstack(audio_reconstructed_parts)\n",
        "    audios_reconstructed.append(audio_reconstructed)\n",
        "#new_audio_reconstructed = np.hstack(audio_reconstructed)\n",
        "#s1 = df_pd['audio'][idx][non_silence_parts[1][0]:non_silence_parts[1][-1]]\n",
        "# s2 = df_pd['audio'][3799][librosa.effects.split(df_pd['audio'][3799])[1][0]:librosa.effects.split(df_pd['audio'][3799])[1][-1]]\n",
        "\n",
        "#ipd.Audio(new_audio_reconstructed, rate=22050)"
      ]
    },
    {
      "cell_type": "code",
      "execution_count": 38,
      "id": "6bb9789c",
      "metadata": {
        "colab": {
          "base_uri": "https://localhost:8080/",
          "height": 641
        },
        "id": "6bb9789c",
        "outputId": "adde2114-f996-4251-9a0a-d3bd0539652b"
      },
      "outputs": [
        {
          "output_type": "execute_result",
          "data": {
            "text/plain": [
              "                                                  audio  gender ageRange  \\\n",
              "0     [0.0, 0.0, 0.0, 0.0, 0.0, 0.0, 0.0, 0.0, 0.0, ...  female    22-40   \n",
              "1     [0.0, 0.0, 0.0, 0.0, 0.0, 0.0, 0.0, 0.0, 0.0, ...  female    22-40   \n",
              "2     [0.0, 0.0, 0.0, 0.0, 0.0, 0.0, 0.0, 0.0, 0.0, ...  female    22-40   \n",
              "3     [0.0, 0.0, 0.0, 0.0, 0.0, 0.0, 0.0, 0.0, 0.0, ...  female    22-40   \n",
              "4     [0.0, 0.0, 0.0, 0.0, 0.0, 0.0, 0.0, 0.0, 0.0, ...  female    22-40   \n",
              "...                                                 ...     ...      ...   \n",
              "9284  [0.009798235, 0.011370795, 0.00974433, 0.01036...    male    22-40   \n",
              "9285  [0.00936052, 0.010867924, 0.009305291, 0.00991...    male    22-40   \n",
              "9286  [0.0014334349, 0.001723074, 0.0015384919, 0.00...    male    22-40   \n",
              "9287  [0.009742705, 0.011407773, 0.009794228, 0.0103...    male    22-40   \n",
              "9288  [0.009512647, 0.011129991, 0.00956014, 0.01007...    male    22-40   \n",
              "\n",
              "      label                                         audio_trim  \\\n",
              "0         5  [-8.641122e-06, 1.5207445e-06, 2.6109909e-05, ...   \n",
              "1         6  [-7.505116e-05, -7.6106694e-06, 1.10456285e-05...   \n",
              "2         7  [3.145638e-05, 3.0807154e-05, 2.8492566e-05, 3...   \n",
              "3         1  [0.0005632056, 0.0005720459, 0.00071935874, 0....   \n",
              "4         1  [4.5547e-06, 2.4867417e-05, 3.363467e-05, 3.05...   \n",
              "...     ...                                                ...   \n",
              "9284      6  [0.009798235, 0.011370795, 0.00974433, 0.01036...   \n",
              "9285      7  [0.00936052, 0.010867924, 0.009305291, 0.00991...   \n",
              "9286      7  [0.0014334349, 0.001723074, 0.0015384919, 0.00...   \n",
              "9287      7  [0.009742705, 0.011407773, 0.009794228, 0.0103...   \n",
              "9288      1  [0.009512647, 0.011129991, 0.00956014, 0.01007...   \n",
              "\n",
              "                                       audio_normalized  \\\n",
              "0     [0.47986737, 0.47986737, 0.47986737, 0.4798673...   \n",
              "1     [0.4375266, 0.4375266, 0.4375266, 0.4375266, 0...   \n",
              "2     [0.48120436, 0.48120436, 0.48120436, 0.4812043...   \n",
              "3     [0.46040228, 0.46040228, 0.46040228, 0.4604022...   \n",
              "4     [0.5171524, 0.5171524, 0.5171524, 0.5171524, 0...   \n",
              "...                                                 ...   \n",
              "9284  [0.46843585, 0.47041437, 0.46836802, 0.4691487...   \n",
              "9285  [0.550339, 0.5517168, 0.5502885, 0.5508479, 0....   \n",
              "9286  [0.5317964, 0.5320756, 0.53189766, 0.5320372, ...   \n",
              "9287  [0.49109438, 0.49265802, 0.49114275, 0.4916630...   \n",
              "9288  [0.57630944, 0.57754207, 0.5763456, 0.5767376,...   \n",
              "\n",
              "                                    audio_reconstructed  \n",
              "0     [-8.641122e-06, 1.5207445e-06, 2.6109909e-05, ...  \n",
              "1     [-7.505116e-05, -7.6106694e-06, 1.10456285e-05...  \n",
              "2     [3.145638e-05, 3.0807154e-05, 2.8492566e-05, 3...  \n",
              "3     [0.0005632056, 0.0005720459, 0.00071935874, 0....  \n",
              "4     [4.5547e-06, 2.4867417e-05, 3.363467e-05, 3.05...  \n",
              "...                                                 ...  \n",
              "9284  [0.009798235, 0.011370795, 0.00974433, 0.01036...  \n",
              "9285  [0.00936052, 0.010867924, 0.009305291, 0.00991...  \n",
              "9286  [0.0014334349, 0.001723074, 0.0015384919, 0.00...  \n",
              "9287  [0.009742705, 0.011407773, 0.009794228, 0.0103...  \n",
              "9288  [0.009512647, 0.011129991, 0.00956014, 0.01007...  \n",
              "\n",
              "[9289 rows x 7 columns]"
            ],
            "text/html": [
              "\n",
              "  <div id=\"df-ba2a41a3-14dd-47a3-ac5b-7d8b11c97847\">\n",
              "    <div class=\"colab-df-container\">\n",
              "      <div>\n",
              "<style scoped>\n",
              "    .dataframe tbody tr th:only-of-type {\n",
              "        vertical-align: middle;\n",
              "    }\n",
              "\n",
              "    .dataframe tbody tr th {\n",
              "        vertical-align: top;\n",
              "    }\n",
              "\n",
              "    .dataframe thead th {\n",
              "        text-align: right;\n",
              "    }\n",
              "</style>\n",
              "<table border=\"1\" class=\"dataframe\">\n",
              "  <thead>\n",
              "    <tr style=\"text-align: right;\">\n",
              "      <th></th>\n",
              "      <th>audio</th>\n",
              "      <th>gender</th>\n",
              "      <th>ageRange</th>\n",
              "      <th>label</th>\n",
              "      <th>audio_trim</th>\n",
              "      <th>audio_normalized</th>\n",
              "      <th>audio_reconstructed</th>\n",
              "    </tr>\n",
              "  </thead>\n",
              "  <tbody>\n",
              "    <tr>\n",
              "      <th>0</th>\n",
              "      <td>[0.0, 0.0, 0.0, 0.0, 0.0, 0.0, 0.0, 0.0, 0.0, ...</td>\n",
              "      <td>female</td>\n",
              "      <td>22-40</td>\n",
              "      <td>5</td>\n",
              "      <td>[-8.641122e-06, 1.5207445e-06, 2.6109909e-05, ...</td>\n",
              "      <td>[0.47986737, 0.47986737, 0.47986737, 0.4798673...</td>\n",
              "      <td>[-8.641122e-06, 1.5207445e-06, 2.6109909e-05, ...</td>\n",
              "    </tr>\n",
              "    <tr>\n",
              "      <th>1</th>\n",
              "      <td>[0.0, 0.0, 0.0, 0.0, 0.0, 0.0, 0.0, 0.0, 0.0, ...</td>\n",
              "      <td>female</td>\n",
              "      <td>22-40</td>\n",
              "      <td>6</td>\n",
              "      <td>[-7.505116e-05, -7.6106694e-06, 1.10456285e-05...</td>\n",
              "      <td>[0.4375266, 0.4375266, 0.4375266, 0.4375266, 0...</td>\n",
              "      <td>[-7.505116e-05, -7.6106694e-06, 1.10456285e-05...</td>\n",
              "    </tr>\n",
              "    <tr>\n",
              "      <th>2</th>\n",
              "      <td>[0.0, 0.0, 0.0, 0.0, 0.0, 0.0, 0.0, 0.0, 0.0, ...</td>\n",
              "      <td>female</td>\n",
              "      <td>22-40</td>\n",
              "      <td>7</td>\n",
              "      <td>[3.145638e-05, 3.0807154e-05, 2.8492566e-05, 3...</td>\n",
              "      <td>[0.48120436, 0.48120436, 0.48120436, 0.4812043...</td>\n",
              "      <td>[3.145638e-05, 3.0807154e-05, 2.8492566e-05, 3...</td>\n",
              "    </tr>\n",
              "    <tr>\n",
              "      <th>3</th>\n",
              "      <td>[0.0, 0.0, 0.0, 0.0, 0.0, 0.0, 0.0, 0.0, 0.0, ...</td>\n",
              "      <td>female</td>\n",
              "      <td>22-40</td>\n",
              "      <td>1</td>\n",
              "      <td>[0.0005632056, 0.0005720459, 0.00071935874, 0....</td>\n",
              "      <td>[0.46040228, 0.46040228, 0.46040228, 0.4604022...</td>\n",
              "      <td>[0.0005632056, 0.0005720459, 0.00071935874, 0....</td>\n",
              "    </tr>\n",
              "    <tr>\n",
              "      <th>4</th>\n",
              "      <td>[0.0, 0.0, 0.0, 0.0, 0.0, 0.0, 0.0, 0.0, 0.0, ...</td>\n",
              "      <td>female</td>\n",
              "      <td>22-40</td>\n",
              "      <td>1</td>\n",
              "      <td>[4.5547e-06, 2.4867417e-05, 3.363467e-05, 3.05...</td>\n",
              "      <td>[0.5171524, 0.5171524, 0.5171524, 0.5171524, 0...</td>\n",
              "      <td>[4.5547e-06, 2.4867417e-05, 3.363467e-05, 3.05...</td>\n",
              "    </tr>\n",
              "    <tr>\n",
              "      <th>...</th>\n",
              "      <td>...</td>\n",
              "      <td>...</td>\n",
              "      <td>...</td>\n",
              "      <td>...</td>\n",
              "      <td>...</td>\n",
              "      <td>...</td>\n",
              "      <td>...</td>\n",
              "    </tr>\n",
              "    <tr>\n",
              "      <th>9284</th>\n",
              "      <td>[0.009798235, 0.011370795, 0.00974433, 0.01036...</td>\n",
              "      <td>male</td>\n",
              "      <td>22-40</td>\n",
              "      <td>6</td>\n",
              "      <td>[0.009798235, 0.011370795, 0.00974433, 0.01036...</td>\n",
              "      <td>[0.46843585, 0.47041437, 0.46836802, 0.4691487...</td>\n",
              "      <td>[0.009798235, 0.011370795, 0.00974433, 0.01036...</td>\n",
              "    </tr>\n",
              "    <tr>\n",
              "      <th>9285</th>\n",
              "      <td>[0.00936052, 0.010867924, 0.009305291, 0.00991...</td>\n",
              "      <td>male</td>\n",
              "      <td>22-40</td>\n",
              "      <td>7</td>\n",
              "      <td>[0.00936052, 0.010867924, 0.009305291, 0.00991...</td>\n",
              "      <td>[0.550339, 0.5517168, 0.5502885, 0.5508479, 0....</td>\n",
              "      <td>[0.00936052, 0.010867924, 0.009305291, 0.00991...</td>\n",
              "    </tr>\n",
              "    <tr>\n",
              "      <th>9286</th>\n",
              "      <td>[0.0014334349, 0.001723074, 0.0015384919, 0.00...</td>\n",
              "      <td>male</td>\n",
              "      <td>22-40</td>\n",
              "      <td>7</td>\n",
              "      <td>[0.0014334349, 0.001723074, 0.0015384919, 0.00...</td>\n",
              "      <td>[0.5317964, 0.5320756, 0.53189766, 0.5320372, ...</td>\n",
              "      <td>[0.0014334349, 0.001723074, 0.0015384919, 0.00...</td>\n",
              "    </tr>\n",
              "    <tr>\n",
              "      <th>9287</th>\n",
              "      <td>[0.009742705, 0.011407773, 0.009794228, 0.0103...</td>\n",
              "      <td>male</td>\n",
              "      <td>22-40</td>\n",
              "      <td>7</td>\n",
              "      <td>[0.009742705, 0.011407773, 0.009794228, 0.0103...</td>\n",
              "      <td>[0.49109438, 0.49265802, 0.49114275, 0.4916630...</td>\n",
              "      <td>[0.009742705, 0.011407773, 0.009794228, 0.0103...</td>\n",
              "    </tr>\n",
              "    <tr>\n",
              "      <th>9288</th>\n",
              "      <td>[0.009512647, 0.011129991, 0.00956014, 0.01007...</td>\n",
              "      <td>male</td>\n",
              "      <td>22-40</td>\n",
              "      <td>1</td>\n",
              "      <td>[0.009512647, 0.011129991, 0.00956014, 0.01007...</td>\n",
              "      <td>[0.57630944, 0.57754207, 0.5763456, 0.5767376,...</td>\n",
              "      <td>[0.009512647, 0.011129991, 0.00956014, 0.01007...</td>\n",
              "    </tr>\n",
              "  </tbody>\n",
              "</table>\n",
              "<p>9289 rows × 7 columns</p>\n",
              "</div>\n",
              "      <button class=\"colab-df-convert\" onclick=\"convertToInteractive('df-ba2a41a3-14dd-47a3-ac5b-7d8b11c97847')\"\n",
              "              title=\"Convert this dataframe to an interactive table.\"\n",
              "              style=\"display:none;\">\n",
              "        \n",
              "  <svg xmlns=\"http://www.w3.org/2000/svg\" height=\"24px\"viewBox=\"0 0 24 24\"\n",
              "       width=\"24px\">\n",
              "    <path d=\"M0 0h24v24H0V0z\" fill=\"none\"/>\n",
              "    <path d=\"M18.56 5.44l.94 2.06.94-2.06 2.06-.94-2.06-.94-.94-2.06-.94 2.06-2.06.94zm-11 1L8.5 8.5l.94-2.06 2.06-.94-2.06-.94L8.5 2.5l-.94 2.06-2.06.94zm10 10l.94 2.06.94-2.06 2.06-.94-2.06-.94-.94-2.06-.94 2.06-2.06.94z\"/><path d=\"M17.41 7.96l-1.37-1.37c-.4-.4-.92-.59-1.43-.59-.52 0-1.04.2-1.43.59L10.3 9.45l-7.72 7.72c-.78.78-.78 2.05 0 2.83L4 21.41c.39.39.9.59 1.41.59.51 0 1.02-.2 1.41-.59l7.78-7.78 2.81-2.81c.8-.78.8-2.07 0-2.86zM5.41 20L4 18.59l7.72-7.72 1.47 1.35L5.41 20z\"/>\n",
              "  </svg>\n",
              "      </button>\n",
              "      \n",
              "  <style>\n",
              "    .colab-df-container {\n",
              "      display:flex;\n",
              "      flex-wrap:wrap;\n",
              "      gap: 12px;\n",
              "    }\n",
              "\n",
              "    .colab-df-convert {\n",
              "      background-color: #E8F0FE;\n",
              "      border: none;\n",
              "      border-radius: 50%;\n",
              "      cursor: pointer;\n",
              "      display: none;\n",
              "      fill: #1967D2;\n",
              "      height: 32px;\n",
              "      padding: 0 0 0 0;\n",
              "      width: 32px;\n",
              "    }\n",
              "\n",
              "    .colab-df-convert:hover {\n",
              "      background-color: #E2EBFA;\n",
              "      box-shadow: 0px 1px 2px rgba(60, 64, 67, 0.3), 0px 1px 3px 1px rgba(60, 64, 67, 0.15);\n",
              "      fill: #174EA6;\n",
              "    }\n",
              "\n",
              "    [theme=dark] .colab-df-convert {\n",
              "      background-color: #3B4455;\n",
              "      fill: #D2E3FC;\n",
              "    }\n",
              "\n",
              "    [theme=dark] .colab-df-convert:hover {\n",
              "      background-color: #434B5C;\n",
              "      box-shadow: 0px 1px 3px 1px rgba(0, 0, 0, 0.15);\n",
              "      filter: drop-shadow(0px 1px 2px rgba(0, 0, 0, 0.3));\n",
              "      fill: #FFFFFF;\n",
              "    }\n",
              "  </style>\n",
              "\n",
              "      <script>\n",
              "        const buttonEl =\n",
              "          document.querySelector('#df-ba2a41a3-14dd-47a3-ac5b-7d8b11c97847 button.colab-df-convert');\n",
              "        buttonEl.style.display =\n",
              "          google.colab.kernel.accessAllowed ? 'block' : 'none';\n",
              "\n",
              "        async function convertToInteractive(key) {\n",
              "          const element = document.querySelector('#df-ba2a41a3-14dd-47a3-ac5b-7d8b11c97847');\n",
              "          const dataTable =\n",
              "            await google.colab.kernel.invokeFunction('convertToInteractive',\n",
              "                                                     [key], {});\n",
              "          if (!dataTable) return;\n",
              "\n",
              "          const docLinkHtml = 'Like what you see? Visit the ' +\n",
              "            '<a target=\"_blank\" href=https://colab.research.google.com/notebooks/data_table.ipynb>data table notebook</a>'\n",
              "            + ' to learn more about interactive tables.';\n",
              "          element.innerHTML = '';\n",
              "          dataTable['output_type'] = 'display_data';\n",
              "          await google.colab.output.renderOutput(dataTable, element);\n",
              "          const docLink = document.createElement('div');\n",
              "          docLink.innerHTML = docLinkHtml;\n",
              "          element.appendChild(docLink);\n",
              "        }\n",
              "      </script>\n",
              "    </div>\n",
              "  </div>\n",
              "  "
            ]
          },
          "metadata": {},
          "execution_count": 38
        }
      ],
      "source": [
        "df_pd['audio_reconstructed'] = audios_reconstructed    \n",
        "df_pd"
      ]
    },
    {
      "cell_type": "code",
      "execution_count": 39,
      "id": "4c9301d1",
      "metadata": {
        "colab": {
          "base_uri": "https://localhost:8080/",
          "height": 93
        },
        "id": "4c9301d1",
        "outputId": "6b6c3b78-512e-4bec-d844-0776fdddedf3"
      },
      "outputs": [
        {
          "output_type": "stream",
          "name": "stdout",
          "text": [
            "40960 38400\n"
          ]
        },
        {
          "output_type": "execute_result",
          "data": {
            "text/plain": [
              "<IPython.lib.display.Audio object>"
            ],
            "text/html": [
              "\n",
              "                <audio  controls=\"controls\" >\n",
              "                    <source src=\"data:audio/wav;base64,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\" type=\"audio/wav\" />\n",
              "                    Your browser does not support the audio element.\n",
              "                </audio>\n",
              "              "
            ]
          },
          "metadata": {},
          "execution_count": 39
        }
      ],
      "source": [
        "idx = 6\n",
        "print(len(df_pd['audio_trim'][idx]), len(df_pd['audio_reconstructed'][idx]))\n",
        "ipd.Audio(df_pd['audio_reconstructed'][idx], rate=22050)"
      ]
    },
    {
      "cell_type": "markdown",
      "id": "946f3f83",
      "metadata": {
        "id": "946f3f83"
      },
      "source": [
        "#### Pre- emphasize"
      ]
    },
    {
      "cell_type": "code",
      "execution_count": 40,
      "id": "6267b3ea",
      "metadata": {
        "id": "6267b3ea"
      },
      "outputs": [],
      "source": [
        "# emph_audios = []\n",
        "# for i, audio in enumerate(df_pd.audio_trim):\n",
        "#     audio_emph = librosa.effects.preemphasis(audio, return_zf=False)\n",
        "#     emph_audios.append(audio_emph)\n",
        "    \n",
        "# df_pd['audio_emph'] = emph_audios    \n",
        "# df_pd"
      ]
    },
    {
      "cell_type": "markdown",
      "id": "798f84d9",
      "metadata": {
        "id": "798f84d9"
      },
      "source": [
        "### 3. Feature Extraction"
      ]
    },
    {
      "cell_type": "markdown",
      "id": "c19118c8",
      "metadata": {
        "id": "c19118c8"
      },
      "source": [
        "Apply one hot encoding to categorical features."
      ]
    },
    {
      "cell_type": "code",
      "execution_count": 41,
      "id": "79e26f9b",
      "metadata": {
        "colab": {
          "base_uri": "https://localhost:8080/",
          "height": 849
        },
        "id": "79e26f9b",
        "outputId": "5821bf9d-e07e-4987-fa5e-01e76f716e7e"
      },
      "outputs": [
        {
          "output_type": "execute_result",
          "data": {
            "text/plain": [
              "                                                  audio  label  \\\n",
              "0     [0.0, 0.0, 0.0, 0.0, 0.0, 0.0, 0.0, 0.0, 0.0, ...      5   \n",
              "1     [0.0, 0.0, 0.0, 0.0, 0.0, 0.0, 0.0, 0.0, 0.0, ...      6   \n",
              "2     [0.0, 0.0, 0.0, 0.0, 0.0, 0.0, 0.0, 0.0, 0.0, ...      7   \n",
              "3     [0.0, 0.0, 0.0, 0.0, 0.0, 0.0, 0.0, 0.0, 0.0, ...      1   \n",
              "4     [0.0, 0.0, 0.0, 0.0, 0.0, 0.0, 0.0, 0.0, 0.0, ...      1   \n",
              "...                                                 ...    ...   \n",
              "9284  [0.009798235, 0.011370795, 0.00974433, 0.01036...      6   \n",
              "9285  [0.00936052, 0.010867924, 0.009305291, 0.00991...      7   \n",
              "9286  [0.0014334349, 0.001723074, 0.0015384919, 0.00...      7   \n",
              "9287  [0.009742705, 0.011407773, 0.009794228, 0.0103...      7   \n",
              "9288  [0.009512647, 0.011129991, 0.00956014, 0.01007...      1   \n",
              "\n",
              "                                             audio_trim  \\\n",
              "0     [-8.641122e-06, 1.5207445e-06, 2.6109909e-05, ...   \n",
              "1     [-7.505116e-05, -7.6106694e-06, 1.10456285e-05...   \n",
              "2     [3.145638e-05, 3.0807154e-05, 2.8492566e-05, 3...   \n",
              "3     [0.0005632056, 0.0005720459, 0.00071935874, 0....   \n",
              "4     [4.5547e-06, 2.4867417e-05, 3.363467e-05, 3.05...   \n",
              "...                                                 ...   \n",
              "9284  [0.009798235, 0.011370795, 0.00974433, 0.01036...   \n",
              "9285  [0.00936052, 0.010867924, 0.009305291, 0.00991...   \n",
              "9286  [0.0014334349, 0.001723074, 0.0015384919, 0.00...   \n",
              "9287  [0.009742705, 0.011407773, 0.009794228, 0.0103...   \n",
              "9288  [0.009512647, 0.011129991, 0.00956014, 0.01007...   \n",
              "\n",
              "                                       audio_normalized  \\\n",
              "0     [0.47986737, 0.47986737, 0.47986737, 0.4798673...   \n",
              "1     [0.4375266, 0.4375266, 0.4375266, 0.4375266, 0...   \n",
              "2     [0.48120436, 0.48120436, 0.48120436, 0.4812043...   \n",
              "3     [0.46040228, 0.46040228, 0.46040228, 0.4604022...   \n",
              "4     [0.5171524, 0.5171524, 0.5171524, 0.5171524, 0...   \n",
              "...                                                 ...   \n",
              "9284  [0.46843585, 0.47041437, 0.46836802, 0.4691487...   \n",
              "9285  [0.550339, 0.5517168, 0.5502885, 0.5508479, 0....   \n",
              "9286  [0.5317964, 0.5320756, 0.53189766, 0.5320372, ...   \n",
              "9287  [0.49109438, 0.49265802, 0.49114275, 0.4916630...   \n",
              "9288  [0.57630944, 0.57754207, 0.5763456, 0.5767376,...   \n",
              "\n",
              "                                    audio_reconstructed  gender=male  \\\n",
              "0     [-8.641122e-06, 1.5207445e-06, 2.6109909e-05, ...            0   \n",
              "1     [-7.505116e-05, -7.6106694e-06, 1.10456285e-05...            0   \n",
              "2     [3.145638e-05, 3.0807154e-05, 2.8492566e-05, 3...            0   \n",
              "3     [0.0005632056, 0.0005720459, 0.00071935874, 0....            0   \n",
              "4     [4.5547e-06, 2.4867417e-05, 3.363467e-05, 3.05...            0   \n",
              "...                                                 ...          ...   \n",
              "9284  [0.009798235, 0.011370795, 0.00974433, 0.01036...            1   \n",
              "9285  [0.00936052, 0.010867924, 0.009305291, 0.00991...            1   \n",
              "9286  [0.0014334349, 0.001723074, 0.0015384919, 0.00...            1   \n",
              "9287  [0.009742705, 0.011407773, 0.009794228, 0.0103...            1   \n",
              "9288  [0.009512647, 0.011129991, 0.00956014, 0.01007...            1   \n",
              "\n",
              "      ageRange=41-65  ageRange=65+  \n",
              "0                  0             0  \n",
              "1                  0             0  \n",
              "2                  0             0  \n",
              "3                  0             0  \n",
              "4                  0             0  \n",
              "...              ...           ...  \n",
              "9284               0             0  \n",
              "9285               0             0  \n",
              "9286               0             0  \n",
              "9287               0             0  \n",
              "9288               0             0  \n",
              "\n",
              "[9289 rows x 8 columns]"
            ],
            "text/html": [
              "\n",
              "  <div id=\"df-4398f1ee-94ce-460b-b068-a4caac7a488b\">\n",
              "    <div class=\"colab-df-container\">\n",
              "      <div>\n",
              "<style scoped>\n",
              "    .dataframe tbody tr th:only-of-type {\n",
              "        vertical-align: middle;\n",
              "    }\n",
              "\n",
              "    .dataframe tbody tr th {\n",
              "        vertical-align: top;\n",
              "    }\n",
              "\n",
              "    .dataframe thead th {\n",
              "        text-align: right;\n",
              "    }\n",
              "</style>\n",
              "<table border=\"1\" class=\"dataframe\">\n",
              "  <thead>\n",
              "    <tr style=\"text-align: right;\">\n",
              "      <th></th>\n",
              "      <th>audio</th>\n",
              "      <th>label</th>\n",
              "      <th>audio_trim</th>\n",
              "      <th>audio_normalized</th>\n",
              "      <th>audio_reconstructed</th>\n",
              "      <th>gender=male</th>\n",
              "      <th>ageRange=41-65</th>\n",
              "      <th>ageRange=65+</th>\n",
              "    </tr>\n",
              "  </thead>\n",
              "  <tbody>\n",
              "    <tr>\n",
              "      <th>0</th>\n",
              "      <td>[0.0, 0.0, 0.0, 0.0, 0.0, 0.0, 0.0, 0.0, 0.0, ...</td>\n",
              "      <td>5</td>\n",
              "      <td>[-8.641122e-06, 1.5207445e-06, 2.6109909e-05, ...</td>\n",
              "      <td>[0.47986737, 0.47986737, 0.47986737, 0.4798673...</td>\n",
              "      <td>[-8.641122e-06, 1.5207445e-06, 2.6109909e-05, ...</td>\n",
              "      <td>0</td>\n",
              "      <td>0</td>\n",
              "      <td>0</td>\n",
              "    </tr>\n",
              "    <tr>\n",
              "      <th>1</th>\n",
              "      <td>[0.0, 0.0, 0.0, 0.0, 0.0, 0.0, 0.0, 0.0, 0.0, ...</td>\n",
              "      <td>6</td>\n",
              "      <td>[-7.505116e-05, -7.6106694e-06, 1.10456285e-05...</td>\n",
              "      <td>[0.4375266, 0.4375266, 0.4375266, 0.4375266, 0...</td>\n",
              "      <td>[-7.505116e-05, -7.6106694e-06, 1.10456285e-05...</td>\n",
              "      <td>0</td>\n",
              "      <td>0</td>\n",
              "      <td>0</td>\n",
              "    </tr>\n",
              "    <tr>\n",
              "      <th>2</th>\n",
              "      <td>[0.0, 0.0, 0.0, 0.0, 0.0, 0.0, 0.0, 0.0, 0.0, ...</td>\n",
              "      <td>7</td>\n",
              "      <td>[3.145638e-05, 3.0807154e-05, 2.8492566e-05, 3...</td>\n",
              "      <td>[0.48120436, 0.48120436, 0.48120436, 0.4812043...</td>\n",
              "      <td>[3.145638e-05, 3.0807154e-05, 2.8492566e-05, 3...</td>\n",
              "      <td>0</td>\n",
              "      <td>0</td>\n",
              "      <td>0</td>\n",
              "    </tr>\n",
              "    <tr>\n",
              "      <th>3</th>\n",
              "      <td>[0.0, 0.0, 0.0, 0.0, 0.0, 0.0, 0.0, 0.0, 0.0, ...</td>\n",
              "      <td>1</td>\n",
              "      <td>[0.0005632056, 0.0005720459, 0.00071935874, 0....</td>\n",
              "      <td>[0.46040228, 0.46040228, 0.46040228, 0.4604022...</td>\n",
              "      <td>[0.0005632056, 0.0005720459, 0.00071935874, 0....</td>\n",
              "      <td>0</td>\n",
              "      <td>0</td>\n",
              "      <td>0</td>\n",
              "    </tr>\n",
              "    <tr>\n",
              "      <th>4</th>\n",
              "      <td>[0.0, 0.0, 0.0, 0.0, 0.0, 0.0, 0.0, 0.0, 0.0, ...</td>\n",
              "      <td>1</td>\n",
              "      <td>[4.5547e-06, 2.4867417e-05, 3.363467e-05, 3.05...</td>\n",
              "      <td>[0.5171524, 0.5171524, 0.5171524, 0.5171524, 0...</td>\n",
              "      <td>[4.5547e-06, 2.4867417e-05, 3.363467e-05, 3.05...</td>\n",
              "      <td>0</td>\n",
              "      <td>0</td>\n",
              "      <td>0</td>\n",
              "    </tr>\n",
              "    <tr>\n",
              "      <th>...</th>\n",
              "      <td>...</td>\n",
              "      <td>...</td>\n",
              "      <td>...</td>\n",
              "      <td>...</td>\n",
              "      <td>...</td>\n",
              "      <td>...</td>\n",
              "      <td>...</td>\n",
              "      <td>...</td>\n",
              "    </tr>\n",
              "    <tr>\n",
              "      <th>9284</th>\n",
              "      <td>[0.009798235, 0.011370795, 0.00974433, 0.01036...</td>\n",
              "      <td>6</td>\n",
              "      <td>[0.009798235, 0.011370795, 0.00974433, 0.01036...</td>\n",
              "      <td>[0.46843585, 0.47041437, 0.46836802, 0.4691487...</td>\n",
              "      <td>[0.009798235, 0.011370795, 0.00974433, 0.01036...</td>\n",
              "      <td>1</td>\n",
              "      <td>0</td>\n",
              "      <td>0</td>\n",
              "    </tr>\n",
              "    <tr>\n",
              "      <th>9285</th>\n",
              "      <td>[0.00936052, 0.010867924, 0.009305291, 0.00991...</td>\n",
              "      <td>7</td>\n",
              "      <td>[0.00936052, 0.010867924, 0.009305291, 0.00991...</td>\n",
              "      <td>[0.550339, 0.5517168, 0.5502885, 0.5508479, 0....</td>\n",
              "      <td>[0.00936052, 0.010867924, 0.009305291, 0.00991...</td>\n",
              "      <td>1</td>\n",
              "      <td>0</td>\n",
              "      <td>0</td>\n",
              "    </tr>\n",
              "    <tr>\n",
              "      <th>9286</th>\n",
              "      <td>[0.0014334349, 0.001723074, 0.0015384919, 0.00...</td>\n",
              "      <td>7</td>\n",
              "      <td>[0.0014334349, 0.001723074, 0.0015384919, 0.00...</td>\n",
              "      <td>[0.5317964, 0.5320756, 0.53189766, 0.5320372, ...</td>\n",
              "      <td>[0.0014334349, 0.001723074, 0.0015384919, 0.00...</td>\n",
              "      <td>1</td>\n",
              "      <td>0</td>\n",
              "      <td>0</td>\n",
              "    </tr>\n",
              "    <tr>\n",
              "      <th>9287</th>\n",
              "      <td>[0.009742705, 0.011407773, 0.009794228, 0.0103...</td>\n",
              "      <td>7</td>\n",
              "      <td>[0.009742705, 0.011407773, 0.009794228, 0.0103...</td>\n",
              "      <td>[0.49109438, 0.49265802, 0.49114275, 0.4916630...</td>\n",
              "      <td>[0.009742705, 0.011407773, 0.009794228, 0.0103...</td>\n",
              "      <td>1</td>\n",
              "      <td>0</td>\n",
              "      <td>0</td>\n",
              "    </tr>\n",
              "    <tr>\n",
              "      <th>9288</th>\n",
              "      <td>[0.009512647, 0.011129991, 0.00956014, 0.01007...</td>\n",
              "      <td>1</td>\n",
              "      <td>[0.009512647, 0.011129991, 0.00956014, 0.01007...</td>\n",
              "      <td>[0.57630944, 0.57754207, 0.5763456, 0.5767376,...</td>\n",
              "      <td>[0.009512647, 0.011129991, 0.00956014, 0.01007...</td>\n",
              "      <td>1</td>\n",
              "      <td>0</td>\n",
              "      <td>0</td>\n",
              "    </tr>\n",
              "  </tbody>\n",
              "</table>\n",
              "<p>9289 rows × 8 columns</p>\n",
              "</div>\n",
              "      <button class=\"colab-df-convert\" onclick=\"convertToInteractive('df-4398f1ee-94ce-460b-b068-a4caac7a488b')\"\n",
              "              title=\"Convert this dataframe to an interactive table.\"\n",
              "              style=\"display:none;\">\n",
              "        \n",
              "  <svg xmlns=\"http://www.w3.org/2000/svg\" height=\"24px\"viewBox=\"0 0 24 24\"\n",
              "       width=\"24px\">\n",
              "    <path d=\"M0 0h24v24H0V0z\" fill=\"none\"/>\n",
              "    <path d=\"M18.56 5.44l.94 2.06.94-2.06 2.06-.94-2.06-.94-.94-2.06-.94 2.06-2.06.94zm-11 1L8.5 8.5l.94-2.06 2.06-.94-2.06-.94L8.5 2.5l-.94 2.06-2.06.94zm10 10l.94 2.06.94-2.06 2.06-.94-2.06-.94-.94-2.06-.94 2.06-2.06.94z\"/><path d=\"M17.41 7.96l-1.37-1.37c-.4-.4-.92-.59-1.43-.59-.52 0-1.04.2-1.43.59L10.3 9.45l-7.72 7.72c-.78.78-.78 2.05 0 2.83L4 21.41c.39.39.9.59 1.41.59.51 0 1.02-.2 1.41-.59l7.78-7.78 2.81-2.81c.8-.78.8-2.07 0-2.86zM5.41 20L4 18.59l7.72-7.72 1.47 1.35L5.41 20z\"/>\n",
              "  </svg>\n",
              "      </button>\n",
              "      \n",
              "  <style>\n",
              "    .colab-df-container {\n",
              "      display:flex;\n",
              "      flex-wrap:wrap;\n",
              "      gap: 12px;\n",
              "    }\n",
              "\n",
              "    .colab-df-convert {\n",
              "      background-color: #E8F0FE;\n",
              "      border: none;\n",
              "      border-radius: 50%;\n",
              "      cursor: pointer;\n",
              "      display: none;\n",
              "      fill: #1967D2;\n",
              "      height: 32px;\n",
              "      padding: 0 0 0 0;\n",
              "      width: 32px;\n",
              "    }\n",
              "\n",
              "    .colab-df-convert:hover {\n",
              "      background-color: #E2EBFA;\n",
              "      box-shadow: 0px 1px 2px rgba(60, 64, 67, 0.3), 0px 1px 3px 1px rgba(60, 64, 67, 0.15);\n",
              "      fill: #174EA6;\n",
              "    }\n",
              "\n",
              "    [theme=dark] .colab-df-convert {\n",
              "      background-color: #3B4455;\n",
              "      fill: #D2E3FC;\n",
              "    }\n",
              "\n",
              "    [theme=dark] .colab-df-convert:hover {\n",
              "      background-color: #434B5C;\n",
              "      box-shadow: 0px 1px 3px 1px rgba(0, 0, 0, 0.15);\n",
              "      filter: drop-shadow(0px 1px 2px rgba(0, 0, 0, 0.3));\n",
              "      fill: #FFFFFF;\n",
              "    }\n",
              "  </style>\n",
              "\n",
              "      <script>\n",
              "        const buttonEl =\n",
              "          document.querySelector('#df-4398f1ee-94ce-460b-b068-a4caac7a488b button.colab-df-convert');\n",
              "        buttonEl.style.display =\n",
              "          google.colab.kernel.accessAllowed ? 'block' : 'none';\n",
              "\n",
              "        async function convertToInteractive(key) {\n",
              "          const element = document.querySelector('#df-4398f1ee-94ce-460b-b068-a4caac7a488b');\n",
              "          const dataTable =\n",
              "            await google.colab.kernel.invokeFunction('convertToInteractive',\n",
              "                                                     [key], {});\n",
              "          if (!dataTable) return;\n",
              "\n",
              "          const docLinkHtml = 'Like what you see? Visit the ' +\n",
              "            '<a target=\"_blank\" href=https://colab.research.google.com/notebooks/data_table.ipynb>data table notebook</a>'\n",
              "            + ' to learn more about interactive tables.';\n",
              "          element.innerHTML = '';\n",
              "          dataTable['output_type'] = 'display_data';\n",
              "          await google.colab.output.renderOutput(dataTable, element);\n",
              "          const docLink = document.createElement('div');\n",
              "          docLink.innerHTML = docLinkHtml;\n",
              "          element.appendChild(docLink);\n",
              "        }\n",
              "      </script>\n",
              "    </div>\n",
              "  </div>\n",
              "  "
            ]
          },
          "metadata": {},
          "execution_count": 41
        }
      ],
      "source": [
        "categorical_features = ['gender', 'ageRange']\n",
        "\n",
        "dummy_columns = categorical_features\n",
        "\n",
        "for column in dummy_columns: \n",
        "    df_dummies = pd.get_dummies(df_pd[column], drop_first = True, prefix = column, prefix_sep='=') #drop_first_true to avoid multi colinearity problem\n",
        "    df_pd = pd.concat([df_pd, df_dummies], axis = 1)\n",
        "\n",
        "\n",
        "df_pd = df_pd.drop(columns=dummy_columns)\n",
        "df_pd"
      ]
    },
    {
      "cell_type": "markdown",
      "id": "1194b277",
      "metadata": {
        "id": "1194b277"
      },
      "source": [
        "#### Extracting MFCC features"
      ]
    },
    {
      "cell_type": "markdown",
      "id": "b31e6b07",
      "metadata": {
        "id": "b31e6b07"
      },
      "source": [
        "First of all every audio should have the same length in order to get final coefficients for each audio of the same length.\n",
        "\n",
        "**EDIT**: non mi serve più, perchè io sono ora interessato alla media, std, min, max, median dei coefficienti che sono sempre uguali (numero righe vecchia matrice) mentre il numero delle colonne cambia (tempo) però non è più importante quindi avere matrici tutte della stessa dimensione."
      ]
    },
    {
      "cell_type": "code",
      "execution_count": 42,
      "id": "09786d95",
      "metadata": {
        "colab": {
          "base_uri": "https://localhost:8080/"
        },
        "id": "09786d95",
        "outputId": "15aeb472-d934-4b06-d5b0-c56b4b9972f9"
      },
      "outputs": [
        {
          "output_type": "stream",
          "name": "stdout",
          "text": [
            "Max length: 44032\n"
          ]
        },
        {
          "output_type": "execute_result",
          "data": {
            "text/plain": [
              "22016    305\n",
              "23040    280\n",
              "19968    278\n",
              "21504    276\n",
              "20480    271\n",
              "22528    268\n",
              "20992    251\n",
              "18944    249\n",
              "23552    248\n",
              "19456    241\n",
              "dtype: int64"
            ]
          },
          "metadata": {},
          "execution_count": 42
        }
      ],
      "source": [
        "# Find maximum length of the audio in the dataframe\n",
        "lengths = [len(audio) for audio in df_pd.audio_trim]\n",
        "# idx = 45 #check\n",
        "# lengths[idx], len(df_pd.audio.iloc[idx])\n",
        "lengths = pd.Series(lengths)\n",
        "#lengths.max() #88064\n",
        "print(f\"Max length: {lengths.max()}\")\n",
        "lengths[lengths == lengths.max()]\n",
        "lengths.value_counts()[:10]"
      ]
    },
    {
      "cell_type": "code",
      "execution_count": 43,
      "id": "8a5247fc",
      "metadata": {
        "id": "8a5247fc"
      },
      "outputs": [],
      "source": [
        "# ipd.Audio(df_pd['audio'][8136], rate=22050)"
      ]
    },
    {
      "cell_type": "code",
      "execution_count": 44,
      "id": "e1283d6c",
      "metadata": {
        "id": "e1283d6c"
      },
      "outputs": [],
      "source": [
        "# len(df_pd['audio'][8136])"
      ]
    },
    {
      "cell_type": "markdown",
      "id": "0416a780",
      "metadata": {
        "id": "0416a780"
      },
      "source": [
        "#### Padding"
      ]
    },
    {
      "cell_type": "code",
      "execution_count": 45,
      "id": "d847fd0b",
      "metadata": {
        "id": "d847fd0b"
      },
      "outputs": [],
      "source": [
        "# # # Padding shorter audio with 0 samples in order to get all audio files of the same length\n",
        "# max_length = lengths.max()\n",
        "# for i, audio in enumerate(df_pd.audio_trim):\n",
        "    \n",
        "#     df_pd.audio_trim[i] = np.pad(df_pd.audio_trim[i],(0,max_length- len(df_pd.audio_trim[i])),mode='constant', constant_values=0)"
      ]
    },
    {
      "cell_type": "code",
      "execution_count": 46,
      "id": "1bda81f9",
      "metadata": {
        "colab": {
          "base_uri": "https://localhost:8080/"
        },
        "id": "1bda81f9",
        "outputId": "cf2b6649-6814-44ba-d7d5-3d8a992912b3"
      },
      "outputs": [
        {
          "output_type": "stream",
          "name": "stdout",
          "text": [
            "(20, 34)\n",
            "(20,)\n"
          ]
        }
      ],
      "source": [
        "mfcc_features = librosa.feature.mfcc(y=df_pd.audio_reconstructed[1], sr=sr)\n",
        "print(mfcc_features.shape)\n",
        "\n",
        "medians = np.median(mfcc_features, axis=1)\n",
        "print(medians.shape)\n",
        "\n",
        "means = mfcc_features.mean(axis=0)\n",
        "medians = np.median(mfcc_features, axis=1)\n",
        "stds = mfcc_features.std(axis=1)\n",
        "maxs = mfcc_features.max(axis=1)\n",
        "mins = mfcc_features.min(axis=1)\n",
        "# stds = mfcc_features.std(axis=1)\n",
        "# print(len(means), len(stds))\n",
        "# row = list(means)+list(stds)\n",
        "# print((row))\n",
        "# print(\"\")\n",
        "# print(means)\n",
        "# print(\"\")\n",
        "# print(stds)\n"
      ]
    },
    {
      "cell_type": "code",
      "source": [
        "seed = 42"
      ],
      "metadata": {
        "id": "TI1FoNE0Sef4"
      },
      "id": "TI1FoNE0Sef4",
      "execution_count": 47,
      "outputs": []
    },
    {
      "cell_type": "code",
      "execution_count": 48,
      "id": "0d2d5b03",
      "metadata": {
        "id": "0d2d5b03"
      },
      "outputs": [],
      "source": [
        "### RandomForest Classifier ###\n",
        "from sklearn.ensemble import RandomForestClassifier\n",
        "from sklearn.model_selection import GridSearchCV\n",
        "\n",
        "def randforest_classifier(input_x, input_y, cv=10, seed = seed):\n",
        "    ## Defining parameters\n",
        "    model_RF= RandomForestClassifier(random_state =seed)\n",
        "\n",
        "    parameters = {'n_estimators':[100], \n",
        "                  'criterion':['gini', 'entropy'],\n",
        "                  'max_features':['sqrt', 'log2']}\n",
        "\n",
        "    ## Building Grid Search algorithm with cross-validation and Mean Squared Error score.\n",
        "\n",
        "    grid_search_RF = GridSearchCV(estimator=model_RF,  \n",
        "                         param_grid=parameters,\n",
        "                         scoring='accuracy',\n",
        "                         cv=cv,\n",
        "                         n_jobs=-1,\n",
        "                        verbose = 15)\n",
        "\n",
        "    ## Lastly, finding the best parameters.\n",
        "\n",
        "    grid_search_RF.fit(input_x, input_y)\n",
        "    best_parameters_RF = grid_search_RF.best_params_  \n",
        "    best_score_RF = grid_search_RF.best_score_ \n",
        "    print(best_parameters_RF)\n",
        "    print(best_score_RF)\n",
        "    results = grid_search_RF.cv_results_\n",
        "    \n",
        "    return best_parameters_RF, results, best_score_RF\n",
        "\n"
      ]
    },
    {
      "cell_type": "code",
      "source": [
        "### RandomForest Classifier ###\n",
        "from sklearn.svm import SVC\n",
        "from sklearn.model_selection import GridSearchCV\n",
        "\n",
        "def svm_classifier(input_x, input_y, cv=10, seed = seed):\n",
        "    ## Defining parameters\n",
        "    model_SVM= SVC(random_state =seed)\n",
        "\n",
        "    parameters = {'kernel': ['rbf'], \n",
        "                   \"C\" : [10],\n",
        "                  \"gamma\" : ['auto']\n",
        "                  }\n",
        "\n",
        "    ## Building Grid Search algorithm with cross-validation and Mean Squared Error score.\n",
        "\n",
        "    grid_search_SVM = GridSearchCV(estimator=model_SVM,  \n",
        "                         param_grid=parameters,\n",
        "                         scoring='accuracy',\n",
        "                         cv=cv,\n",
        "                         n_jobs=-1,\n",
        "                        verbose = 15)\n",
        "\n",
        "    ## Lastly, finding the best parameters.\n",
        "\n",
        "    grid_search_SVM.fit(input_x, input_y)\n",
        "    best_parameters = grid_search_SVM.best_params_  \n",
        "    best_score = grid_search_SVM.best_score_ \n",
        "    print(best_parameters)\n",
        "    print(best_score)\n",
        "    results = grid_search_SVM.cv_results_\n",
        "    \n",
        "    return best_parameters, results, best_score\n",
        "\n"
      ],
      "metadata": {
        "id": "LsBWBPh7WFCz"
      },
      "id": "LsBWBPh7WFCz",
      "execution_count": 49,
      "outputs": []
    },
    {
      "cell_type": "code",
      "source": [
        "import warnings\n",
        "warnings.filterwarnings(\"ignore\")"
      ],
      "metadata": {
        "id": "cZG4U0Fhb_4c"
      },
      "id": "cZG4U0Fhb_4c",
      "execution_count": 50,
      "outputs": []
    },
    {
      "cell_type": "code",
      "execution_count": 102,
      "id": "1d34da41",
      "metadata": {
        "colab": {
          "base_uri": "https://localhost:8080/"
        },
        "id": "1d34da41",
        "outputId": "546cd378-c36d-4854-8817-e02a2156eac6"
      },
      "outputs": [
        {
          "output_type": "stream",
          "name": "stdout",
          "text": [
            "###########################################################\n",
            "DATASET SHAPE\n",
            "(7431, 68) (1858, 68) (7431,) (1858,)\n",
            "\n",
            "Fitting 10 folds for each of 1 candidates, totalling 10 fits\n",
            "{'C': 10, 'gamma': 'auto', 'kernel': 'rbf'}\n",
            "0.2525904861141261\n",
            "\n",
            "BEST RESULT: 0.2525904861141261\n",
            "\n"
          ]
        }
      ],
      "source": [
        "import sklearn\n",
        "from sklearn.model_selection import train_test_split\n",
        "\n",
        "from sklearn.preprocessing import StandardScaler\n",
        "scaler = StandardScaler()\n",
        "\n",
        "\n",
        "features = []\n",
        "hop_length = 128\n",
        "frame_rate = sr*2/hop_length\n",
        "\n",
        "n_ffts = [512, 1024, 2048, 4096, 8192]\n",
        "hops = [64, 128, 256, 512, 1024, 2048, 4096]\n",
        "sample_rates = [8000, 16000, 22050, 44100]\n",
        "n_melss = [40, 60, 90, 100, 128]\n",
        "svm = True\n",
        "\n",
        "# for s_rate in sample_rates:\n",
        "#     for n_mel in n_melss:\n",
        "features = []\n",
        "for i, audio in enumerate(df_pd.audio_normalized):\n",
        "#n_fft = int(frame_rate*len(audio))\n",
        "#For each trim audio extract MFCC (so we will get a matrix of n_mfcc components*nc, with nc variable)\n",
        "    mfcc_features = librosa.feature.mfcc(y=df_pd.audio_normalized[i], \n",
        "                              sr=22050, \n",
        "                              n_mfcc=13,\n",
        "                              lifter = 10, \n",
        "                              n_fft=2048, \n",
        "                              hop_length=128,\n",
        "                              n_mels = 40,\n",
        "                            dct_type=2)\n",
        "#    mfcc_features = sklearn.preprocessing.scale(mfcc_features, axis=1)\n",
        "#   mel_features = librosa.feature.melspectrogram(y=df_pd.audio_trim[i], sr=sr)\n",
        "#   spectogram = librosa.power_to_db(mel_features, ref=np.max)\n",
        "\n",
        "#For each coefficient we compute the mean, median, std, max, min so we will have a total of n_mfcc*5 features for each audio\n",
        "    mfcc_means = mfcc_features.mean(axis=1)\n",
        "    mfcc_medians = np.median(mfcc_features, axis=1)\n",
        "    mfcc_stds = mfcc_features.std(axis=1)\n",
        "    mfcc_maxs = mfcc_features.max(axis=1)\n",
        "    mfcc_mins = mfcc_features.min(axis=1)\n",
        "\n",
        "    #we stack together the means, stds, medians, maxs and mins to get the final feature vector for each audio.\n",
        "    audio_features = list(mfcc_means)+list(mfcc_medians)+list(mfcc_stds)+list(mfcc_maxs)+list(mfcc_mins)\n",
        "\n",
        "    features.append(audio_features)\n",
        "    #adjust spectogram size to get nice number of columns that are easy to divide3\n",
        "    #spectogram= np.hstack((spectogram,tmp))\n",
        "\n",
        "    #spectograms.append(spectogram)\n",
        "    \n",
        "new_df = pd.DataFrame(features)\n",
        "\n",
        "\n",
        "\n",
        "\n",
        "new_df['gender=male'] = df_pd[\"gender=male\"]\n",
        "new_df['ageRange=41-65'] = df_pd[\"ageRange=41-65\"]\n",
        "new_df['ageRange=65+'] = df_pd[\"ageRange=65+\"]\n",
        "new_df['label'] = df_pd[\"label\"]\n",
        "\n",
        "y = new_df['label']\n",
        "X = new_df.drop(columns='label')\n",
        "seed = 42\n",
        "\n",
        "X_train, X_test, y_train, y_test = train_test_split(X, y, test_size=0.2, random_state=seed)\n",
        "\n",
        "# if svm == True: #standardize\n",
        "#   X_train_scaled = scaler.fit_transform(X_train)\n",
        "#   X_test_scaled = scaler.transform(X_test)\n",
        "\n",
        "print(\"###########################################################\")\n",
        "print(\"DATASET SHAPE\")\n",
        "print(X_train.shape, X_test.shape, y_train.shape, y_test.shape)\n",
        "print(\"\")\n",
        "\n",
        "# print(f\"HYPERPARAMS: s_rate = {s_rate}, n_mel = {n_mel}\")\n",
        "# print(\"\")\n",
        "if svm == True:\n",
        "    _, _, best_score_RF = svm_classifier(X_train, y_train, 10, seed)\n",
        "else:\n",
        "  _, _, best_score_RF = randforest_classifier(X_train, y_train, 10, seed)\n",
        "print(\"\")\n",
        "print(f\"BEST RESULT: {best_score_RF}\")\n",
        "print(\"\")\n",
        "\n",
        "            "
      ]
    },
    {
      "cell_type": "markdown",
      "source": [
        "#############################################\n",
        "\n",
        "**audio**: audio\n",
        "**parameters**: sr=22050, n_mfcc=13, lifter = 10, n_fft=2048, hop_length=128, n_mels = 40, dct_type=2)\n",
        "\n",
        "**BEST RESULT**: 0.602371715317683\n",
        "\n",
        "########################################\n",
        "\n",
        "**audio**: audio_trim (20dB)\n",
        "\n",
        "**parameters**: sr=22050, n_mfcc=13, lifter = 10, n_fft=2048, hop_length=128, n_mels = 40, dct_type=2)\n",
        "\n",
        "**BEST RESULT**: 0.654578653345431\n",
        "################################################\n",
        "\n",
        "**audio**: audio_reconstructed (20dB)\n",
        "\n",
        "**parameters**: sr=22050, n_mfcc=13, lifter = 10, n_fft=2048, hop_length=128, n_mels = 40, dct_type=2)\n",
        "\n",
        "**BEST RESULT**: 0.6595881958277279\n",
        "################################################\n",
        "\n",
        "se uso 40 dB peggiora\n",
        "\n",
        "se taglio con >4 peggiora (>2 sembra funzionare bene, se riduco risultati non cambiano)\n"
      ],
      "metadata": {
        "id": "RgJpec8Pd6W0"
      },
      "id": "RgJpec8Pd6W0"
    },
    {
      "cell_type": "markdown",
      "source": [
        "**DIFFERENT DB FOR TRIM AND RECONSTRUCT**\n",
        "\n",
        "trim = 10, split = 10: BEST RESULT: 0.5884925607552396\n",
        "\n",
        "trim = 20, split = 20: BEST RESULT: 0.6595881958277279\n",
        "\n",
        "trim = 30, split = 30: BEST RESULT: 0.660883840576564\n",
        "\n",
        "trim = 40, split = 40: BEST RESULT: 0.6518729017262958\n",
        "\n",
        "trim = 30, split = 20: BEST RESULT: 0.6532126007612267\n",
        "\n",
        "trim = 20, split = 30 : BEST RESULT: 0.65 qualcosa\n",
        "\n",
        "\n",
        "\n",
        "\n",
        "\n"
      ],
      "metadata": {
        "id": "iKB8a39ElgFA"
      },
      "id": "iKB8a39ElgFA"
    },
    {
      "cell_type": "markdown",
      "source": [
        "**PREPROCESSING PIPELINE**\n",
        "\n",
        "audio -> BEST RESULT: 0.602371715317683\n",
        "\n",
        "audio -> normalized ->  BEST RESULT: 0.5940008176674049\n",
        "\n",
        "audio -> trim -> normalized -> BEST RESULT: 0.6499806437140914\n",
        "\n",
        "audio -> trim (20 dB) -> BEST RESULT: 0.654578653345431\n"
      ],
      "metadata": {
        "id": "kwdcbOYKupr9"
      },
      "id": "kwdcbOYKupr9"
    },
    {
      "cell_type": "code",
      "source": [
        "df_pd.audio_normalized"
      ],
      "metadata": {
        "id": "_g7H7mZru09f",
        "outputId": "da7a1132-3b2a-4239-fc63-945a2e0b2c76",
        "colab": {
          "base_uri": "https://localhost:8080/"
        }
      },
      "id": "_g7H7mZru09f",
      "execution_count": 52,
      "outputs": [
        {
          "data": {
            "text/plain": [
              "0       [0.47986737, 0.47986737, 0.47986737, 0.4798673...\n",
              "1       [0.4375266, 0.4375266, 0.4375266, 0.4375266, 0...\n",
              "2       [0.48120436, 0.48120436, 0.48120436, 0.4812043...\n",
              "3       [0.46040228, 0.46040228, 0.46040228, 0.4604022...\n",
              "4       [0.5171524, 0.5171524, 0.5171524, 0.5171524, 0...\n",
              "                              ...                        \n",
              "9284    [0.46843585, 0.47041437, 0.46836802, 0.4691487...\n",
              "9285    [0.550339, 0.5517168, 0.5502885, 0.5508479, 0....\n",
              "9286    [0.5317964, 0.5320756, 0.53189766, 0.5320372, ...\n",
              "9287    [0.49109438, 0.49265802, 0.49114275, 0.4916630...\n",
              "9288    [0.57630944, 0.57754207, 0.5763456, 0.5767376,...\n",
              "Name: audio_normalized, Length: 9289, dtype: object"
            ]
          },
          "execution_count": 52,
          "metadata": {},
          "output_type": "execute_result"
        }
      ]
    },
    {
      "cell_type": "code",
      "execution_count": 53,
      "id": "43bfa55e",
      "metadata": {
        "id": "43bfa55e"
      },
      "outputs": [],
      "source": [
        "new_df = pd.DataFrame(features)"
      ]
    },
    {
      "cell_type": "code",
      "execution_count": 54,
      "id": "9ffdf1dd",
      "metadata": {
        "id": "9ffdf1dd"
      },
      "outputs": [],
      "source": [
        "#Test\n",
        "\n",
        "# index = 1\n",
        "# mfcc_features = librosa.feature.mfcc(y=df_pd.audio_trim[index], sr=sr)\n",
        "# print(mfcc_features.shape)\n",
        "\n",
        "# medians = np.median(mfcc_features, axis=1)\n",
        "# print(medians.shape)\n",
        "\n",
        "# means = mfcc_features.mean(axis=1)\n",
        "# medians = np.median(mfcc_features, axis=1)\n",
        "# stds = mfcc_features.std(axis=1)\n",
        "# maxs = mfcc_features.max(axis=1)\n",
        "# mins = mfcc_features.min(axis=1)\n",
        "# mins"
      ]
    },
    {
      "cell_type": "code",
      "execution_count": 55,
      "id": "8abde365",
      "metadata": {
        "id": "8abde365"
      },
      "outputs": [],
      "source": [
        "#Add one hot encoding features and label column\n",
        "new_df['gender=male'] = df_pd[\"gender=male\"]\n",
        "new_df['ageRange=41-65'] = df_pd[\"ageRange=41-65\"]\n",
        "new_df['ageRange=65+'] = df_pd[\"ageRange=65+\"]\n",
        "new_df['label'] = df_pd[\"label\"]"
      ]
    },
    {
      "cell_type": "code",
      "execution_count": 56,
      "id": "11465b74",
      "metadata": {
        "scrolled": true,
        "id": "11465b74",
        "outputId": "5770be00-cdb6-405b-fb98-27698989218b",
        "colab": {
          "base_uri": "https://localhost:8080/",
          "height": 505
        }
      },
      "outputs": [
        {
          "data": {
            "text/html": [
              "\n",
              "  <div id=\"df-a7116195-e894-4c9e-8989-0aaa57f68b8e\">\n",
              "    <div class=\"colab-df-container\">\n",
              "      <div>\n",
              "<style scoped>\n",
              "    .dataframe tbody tr th:only-of-type {\n",
              "        vertical-align: middle;\n",
              "    }\n",
              "\n",
              "    .dataframe tbody tr th {\n",
              "        vertical-align: top;\n",
              "    }\n",
              "\n",
              "    .dataframe thead th {\n",
              "        text-align: right;\n",
              "    }\n",
              "</style>\n",
              "<table border=\"1\" class=\"dataframe\">\n",
              "  <thead>\n",
              "    <tr style=\"text-align: right;\">\n",
              "      <th></th>\n",
              "      <th>0</th>\n",
              "      <th>1</th>\n",
              "      <th>2</th>\n",
              "      <th>3</th>\n",
              "      <th>4</th>\n",
              "      <th>5</th>\n",
              "      <th>6</th>\n",
              "      <th>7</th>\n",
              "      <th>8</th>\n",
              "      <th>9</th>\n",
              "      <th>...</th>\n",
              "      <th>59</th>\n",
              "      <th>60</th>\n",
              "      <th>61</th>\n",
              "      <th>62</th>\n",
              "      <th>63</th>\n",
              "      <th>64</th>\n",
              "      <th>gender=male</th>\n",
              "      <th>ageRange=41-65</th>\n",
              "      <th>ageRange=65+</th>\n",
              "      <th>label</th>\n",
              "    </tr>\n",
              "  </thead>\n",
              "  <tbody>\n",
              "    <tr>\n",
              "      <th>0</th>\n",
              "      <td>-479.996399</td>\n",
              "      <td>217.499847</td>\n",
              "      <td>-20.538099</td>\n",
              "      <td>263.664612</td>\n",
              "      <td>-51.093750</td>\n",
              "      <td>99.931747</td>\n",
              "      <td>1.436413</td>\n",
              "      <td>61.079559</td>\n",
              "      <td>12.837629</td>\n",
              "      <td>9.654279</td>\n",
              "      <td>...</td>\n",
              "      <td>-43.731686</td>\n",
              "      <td>-45.804768</td>\n",
              "      <td>-6.814366</td>\n",
              "      <td>-12.675483</td>\n",
              "      <td>-47.312912</td>\n",
              "      <td>-72.374725</td>\n",
              "      <td>0</td>\n",
              "      <td>0</td>\n",
              "      <td>0</td>\n",
              "      <td>5</td>\n",
              "    </tr>\n",
              "    <tr>\n",
              "      <th>1</th>\n",
              "      <td>-542.208618</td>\n",
              "      <td>267.617157</td>\n",
              "      <td>76.758240</td>\n",
              "      <td>185.505310</td>\n",
              "      <td>38.621922</td>\n",
              "      <td>104.125824</td>\n",
              "      <td>10.435901</td>\n",
              "      <td>51.828415</td>\n",
              "      <td>13.278375</td>\n",
              "      <td>8.177882</td>\n",
              "      <td>...</td>\n",
              "      <td>-39.744381</td>\n",
              "      <td>-44.591713</td>\n",
              "      <td>-6.628768</td>\n",
              "      <td>-8.194677</td>\n",
              "      <td>-27.637503</td>\n",
              "      <td>-56.676006</td>\n",
              "      <td>0</td>\n",
              "      <td>0</td>\n",
              "      <td>0</td>\n",
              "      <td>6</td>\n",
              "    </tr>\n",
              "    <tr>\n",
              "      <th>2</th>\n",
              "      <td>-527.595886</td>\n",
              "      <td>336.897949</td>\n",
              "      <td>27.507761</td>\n",
              "      <td>102.665627</td>\n",
              "      <td>60.873512</td>\n",
              "      <td>107.056168</td>\n",
              "      <td>-27.732937</td>\n",
              "      <td>40.999641</td>\n",
              "      <td>20.359661</td>\n",
              "      <td>10.249575</td>\n",
              "      <td>...</td>\n",
              "      <td>-39.405376</td>\n",
              "      <td>-41.010727</td>\n",
              "      <td>-7.715970</td>\n",
              "      <td>-10.242011</td>\n",
              "      <td>-38.301502</td>\n",
              "      <td>-77.951286</td>\n",
              "      <td>0</td>\n",
              "      <td>0</td>\n",
              "      <td>0</td>\n",
              "      <td>7</td>\n",
              "    </tr>\n",
              "    <tr>\n",
              "      <th>3</th>\n",
              "      <td>-679.526367</td>\n",
              "      <td>259.710297</td>\n",
              "      <td>25.093281</td>\n",
              "      <td>122.169647</td>\n",
              "      <td>48.000603</td>\n",
              "      <td>83.648552</td>\n",
              "      <td>62.031994</td>\n",
              "      <td>33.179016</td>\n",
              "      <td>27.283178</td>\n",
              "      <td>12.178352</td>\n",
              "      <td>...</td>\n",
              "      <td>-35.400181</td>\n",
              "      <td>-16.513153</td>\n",
              "      <td>-9.683759</td>\n",
              "      <td>-12.602321</td>\n",
              "      <td>-34.151348</td>\n",
              "      <td>-50.122276</td>\n",
              "      <td>0</td>\n",
              "      <td>0</td>\n",
              "      <td>0</td>\n",
              "      <td>1</td>\n",
              "    </tr>\n",
              "    <tr>\n",
              "      <th>4</th>\n",
              "      <td>-671.231140</td>\n",
              "      <td>322.982849</td>\n",
              "      <td>98.270836</td>\n",
              "      <td>56.655426</td>\n",
              "      <td>111.786118</td>\n",
              "      <td>91.976761</td>\n",
              "      <td>36.566021</td>\n",
              "      <td>33.535625</td>\n",
              "      <td>30.171782</td>\n",
              "      <td>11.549994</td>\n",
              "      <td>...</td>\n",
              "      <td>-47.152466</td>\n",
              "      <td>-4.189615</td>\n",
              "      <td>-3.090589</td>\n",
              "      <td>-9.759192</td>\n",
              "      <td>-30.889565</td>\n",
              "      <td>-51.083439</td>\n",
              "      <td>0</td>\n",
              "      <td>0</td>\n",
              "      <td>0</td>\n",
              "      <td>1</td>\n",
              "    </tr>\n",
              "    <tr>\n",
              "      <th>...</th>\n",
              "      <td>...</td>\n",
              "      <td>...</td>\n",
              "      <td>...</td>\n",
              "      <td>...</td>\n",
              "      <td>...</td>\n",
              "      <td>...</td>\n",
              "      <td>...</td>\n",
              "      <td>...</td>\n",
              "      <td>...</td>\n",
              "      <td>...</td>\n",
              "      <td>...</td>\n",
              "      <td>...</td>\n",
              "      <td>...</td>\n",
              "      <td>...</td>\n",
              "      <td>...</td>\n",
              "      <td>...</td>\n",
              "      <td>...</td>\n",
              "      <td>...</td>\n",
              "      <td>...</td>\n",
              "      <td>...</td>\n",
              "      <td>...</td>\n",
              "    </tr>\n",
              "    <tr>\n",
              "      <th>9284</th>\n",
              "      <td>-694.610840</td>\n",
              "      <td>185.269150</td>\n",
              "      <td>55.855038</td>\n",
              "      <td>164.780914</td>\n",
              "      <td>59.279888</td>\n",
              "      <td>98.483635</td>\n",
              "      <td>72.268387</td>\n",
              "      <td>52.605873</td>\n",
              "      <td>23.723709</td>\n",
              "      <td>12.778862</td>\n",
              "      <td>...</td>\n",
              "      <td>-46.447308</td>\n",
              "      <td>-66.931793</td>\n",
              "      <td>-2.460026</td>\n",
              "      <td>-9.959386</td>\n",
              "      <td>-42.903786</td>\n",
              "      <td>-74.322029</td>\n",
              "      <td>1</td>\n",
              "      <td>0</td>\n",
              "      <td>0</td>\n",
              "      <td>6</td>\n",
              "    </tr>\n",
              "    <tr>\n",
              "      <th>9285</th>\n",
              "      <td>-652.405029</td>\n",
              "      <td>195.557465</td>\n",
              "      <td>23.556953</td>\n",
              "      <td>171.908920</td>\n",
              "      <td>-6.315700</td>\n",
              "      <td>92.978806</td>\n",
              "      <td>69.708885</td>\n",
              "      <td>48.649364</td>\n",
              "      <td>25.338720</td>\n",
              "      <td>13.024603</td>\n",
              "      <td>...</td>\n",
              "      <td>-77.373337</td>\n",
              "      <td>-40.600864</td>\n",
              "      <td>-0.576387</td>\n",
              "      <td>-9.854992</td>\n",
              "      <td>-49.690331</td>\n",
              "      <td>-63.778072</td>\n",
              "      <td>1</td>\n",
              "      <td>0</td>\n",
              "      <td>0</td>\n",
              "      <td>7</td>\n",
              "    </tr>\n",
              "    <tr>\n",
              "      <th>9286</th>\n",
              "      <td>-601.853027</td>\n",
              "      <td>242.842896</td>\n",
              "      <td>0.255247</td>\n",
              "      <td>156.578873</td>\n",
              "      <td>1.169873</td>\n",
              "      <td>89.446922</td>\n",
              "      <td>61.187160</td>\n",
              "      <td>48.468876</td>\n",
              "      <td>22.237329</td>\n",
              "      <td>12.802225</td>\n",
              "      <td>...</td>\n",
              "      <td>-46.543514</td>\n",
              "      <td>-55.271980</td>\n",
              "      <td>-3.046221</td>\n",
              "      <td>-10.153413</td>\n",
              "      <td>-43.115566</td>\n",
              "      <td>-56.803898</td>\n",
              "      <td>1</td>\n",
              "      <td>0</td>\n",
              "      <td>0</td>\n",
              "      <td>7</td>\n",
              "    </tr>\n",
              "    <tr>\n",
              "      <th>9287</th>\n",
              "      <td>-694.177612</td>\n",
              "      <td>192.744370</td>\n",
              "      <td>35.619389</td>\n",
              "      <td>163.928680</td>\n",
              "      <td>21.954468</td>\n",
              "      <td>99.409203</td>\n",
              "      <td>73.936272</td>\n",
              "      <td>54.391964</td>\n",
              "      <td>29.129816</td>\n",
              "      <td>12.994871</td>\n",
              "      <td>...</td>\n",
              "      <td>-18.957838</td>\n",
              "      <td>-32.175049</td>\n",
              "      <td>-8.626752</td>\n",
              "      <td>-9.348781</td>\n",
              "      <td>-44.034111</td>\n",
              "      <td>-60.708294</td>\n",
              "      <td>1</td>\n",
              "      <td>0</td>\n",
              "      <td>0</td>\n",
              "      <td>7</td>\n",
              "    </tr>\n",
              "    <tr>\n",
              "      <th>9288</th>\n",
              "      <td>-702.732605</td>\n",
              "      <td>205.925125</td>\n",
              "      <td>38.593754</td>\n",
              "      <td>144.742386</td>\n",
              "      <td>32.099869</td>\n",
              "      <td>72.584290</td>\n",
              "      <td>92.240814</td>\n",
              "      <td>54.921036</td>\n",
              "      <td>27.919407</td>\n",
              "      <td>13.137899</td>\n",
              "      <td>...</td>\n",
              "      <td>0.721791</td>\n",
              "      <td>-33.911293</td>\n",
              "      <td>-1.484310</td>\n",
              "      <td>-10.482984</td>\n",
              "      <td>-42.206123</td>\n",
              "      <td>-58.430084</td>\n",
              "      <td>1</td>\n",
              "      <td>0</td>\n",
              "      <td>0</td>\n",
              "      <td>1</td>\n",
              "    </tr>\n",
              "  </tbody>\n",
              "</table>\n",
              "<p>9289 rows × 69 columns</p>\n",
              "</div>\n",
              "      <button class=\"colab-df-convert\" onclick=\"convertToInteractive('df-a7116195-e894-4c9e-8989-0aaa57f68b8e')\"\n",
              "              title=\"Convert this dataframe to an interactive table.\"\n",
              "              style=\"display:none;\">\n",
              "        \n",
              "  <svg xmlns=\"http://www.w3.org/2000/svg\" height=\"24px\"viewBox=\"0 0 24 24\"\n",
              "       width=\"24px\">\n",
              "    <path d=\"M0 0h24v24H0V0z\" fill=\"none\"/>\n",
              "    <path d=\"M18.56 5.44l.94 2.06.94-2.06 2.06-.94-2.06-.94-.94-2.06-.94 2.06-2.06.94zm-11 1L8.5 8.5l.94-2.06 2.06-.94-2.06-.94L8.5 2.5l-.94 2.06-2.06.94zm10 10l.94 2.06.94-2.06 2.06-.94-2.06-.94-.94-2.06-.94 2.06-2.06.94z\"/><path d=\"M17.41 7.96l-1.37-1.37c-.4-.4-.92-.59-1.43-.59-.52 0-1.04.2-1.43.59L10.3 9.45l-7.72 7.72c-.78.78-.78 2.05 0 2.83L4 21.41c.39.39.9.59 1.41.59.51 0 1.02-.2 1.41-.59l7.78-7.78 2.81-2.81c.8-.78.8-2.07 0-2.86zM5.41 20L4 18.59l7.72-7.72 1.47 1.35L5.41 20z\"/>\n",
              "  </svg>\n",
              "      </button>\n",
              "      \n",
              "  <style>\n",
              "    .colab-df-container {\n",
              "      display:flex;\n",
              "      flex-wrap:wrap;\n",
              "      gap: 12px;\n",
              "    }\n",
              "\n",
              "    .colab-df-convert {\n",
              "      background-color: #E8F0FE;\n",
              "      border: none;\n",
              "      border-radius: 50%;\n",
              "      cursor: pointer;\n",
              "      display: none;\n",
              "      fill: #1967D2;\n",
              "      height: 32px;\n",
              "      padding: 0 0 0 0;\n",
              "      width: 32px;\n",
              "    }\n",
              "\n",
              "    .colab-df-convert:hover {\n",
              "      background-color: #E2EBFA;\n",
              "      box-shadow: 0px 1px 2px rgba(60, 64, 67, 0.3), 0px 1px 3px 1px rgba(60, 64, 67, 0.15);\n",
              "      fill: #174EA6;\n",
              "    }\n",
              "\n",
              "    [theme=dark] .colab-df-convert {\n",
              "      background-color: #3B4455;\n",
              "      fill: #D2E3FC;\n",
              "    }\n",
              "\n",
              "    [theme=dark] .colab-df-convert:hover {\n",
              "      background-color: #434B5C;\n",
              "      box-shadow: 0px 1px 3px 1px rgba(0, 0, 0, 0.15);\n",
              "      filter: drop-shadow(0px 1px 2px rgba(0, 0, 0, 0.3));\n",
              "      fill: #FFFFFF;\n",
              "    }\n",
              "  </style>\n",
              "\n",
              "      <script>\n",
              "        const buttonEl =\n",
              "          document.querySelector('#df-a7116195-e894-4c9e-8989-0aaa57f68b8e button.colab-df-convert');\n",
              "        buttonEl.style.display =\n",
              "          google.colab.kernel.accessAllowed ? 'block' : 'none';\n",
              "\n",
              "        async function convertToInteractive(key) {\n",
              "          const element = document.querySelector('#df-a7116195-e894-4c9e-8989-0aaa57f68b8e');\n",
              "          const dataTable =\n",
              "            await google.colab.kernel.invokeFunction('convertToInteractive',\n",
              "                                                     [key], {});\n",
              "          if (!dataTable) return;\n",
              "\n",
              "          const docLinkHtml = 'Like what you see? Visit the ' +\n",
              "            '<a target=\"_blank\" href=https://colab.research.google.com/notebooks/data_table.ipynb>data table notebook</a>'\n",
              "            + ' to learn more about interactive tables.';\n",
              "          element.innerHTML = '';\n",
              "          dataTable['output_type'] = 'display_data';\n",
              "          await google.colab.output.renderOutput(dataTable, element);\n",
              "          const docLink = document.createElement('div');\n",
              "          docLink.innerHTML = docLinkHtml;\n",
              "          element.appendChild(docLink);\n",
              "        }\n",
              "      </script>\n",
              "    </div>\n",
              "  </div>\n",
              "  "
            ],
            "text/plain": [
              "               0           1          2           3           4           5  \\\n",
              "0    -479.996399  217.499847 -20.538099  263.664612  -51.093750   99.931747   \n",
              "1    -542.208618  267.617157  76.758240  185.505310   38.621922  104.125824   \n",
              "2    -527.595886  336.897949  27.507761  102.665627   60.873512  107.056168   \n",
              "3    -679.526367  259.710297  25.093281  122.169647   48.000603   83.648552   \n",
              "4    -671.231140  322.982849  98.270836   56.655426  111.786118   91.976761   \n",
              "...          ...         ...        ...         ...         ...         ...   \n",
              "9284 -694.610840  185.269150  55.855038  164.780914   59.279888   98.483635   \n",
              "9285 -652.405029  195.557465  23.556953  171.908920   -6.315700   92.978806   \n",
              "9286 -601.853027  242.842896   0.255247  156.578873    1.169873   89.446922   \n",
              "9287 -694.177612  192.744370  35.619389  163.928680   21.954468   99.409203   \n",
              "9288 -702.732605  205.925125  38.593754  144.742386   32.099869   72.584290   \n",
              "\n",
              "              6          7          8          9  ...         59         60  \\\n",
              "0      1.436413  61.079559  12.837629   9.654279  ... -43.731686 -45.804768   \n",
              "1     10.435901  51.828415  13.278375   8.177882  ... -39.744381 -44.591713   \n",
              "2    -27.732937  40.999641  20.359661  10.249575  ... -39.405376 -41.010727   \n",
              "3     62.031994  33.179016  27.283178  12.178352  ... -35.400181 -16.513153   \n",
              "4     36.566021  33.535625  30.171782  11.549994  ... -47.152466  -4.189615   \n",
              "...         ...        ...        ...        ...  ...        ...        ...   \n",
              "9284  72.268387  52.605873  23.723709  12.778862  ... -46.447308 -66.931793   \n",
              "9285  69.708885  48.649364  25.338720  13.024603  ... -77.373337 -40.600864   \n",
              "9286  61.187160  48.468876  22.237329  12.802225  ... -46.543514 -55.271980   \n",
              "9287  73.936272  54.391964  29.129816  12.994871  ... -18.957838 -32.175049   \n",
              "9288  92.240814  54.921036  27.919407  13.137899  ...   0.721791 -33.911293   \n",
              "\n",
              "            61         62         63         64  gender=male  ageRange=41-65  \\\n",
              "0    -6.814366 -12.675483 -47.312912 -72.374725            0               0   \n",
              "1    -6.628768  -8.194677 -27.637503 -56.676006            0               0   \n",
              "2    -7.715970 -10.242011 -38.301502 -77.951286            0               0   \n",
              "3    -9.683759 -12.602321 -34.151348 -50.122276            0               0   \n",
              "4    -3.090589  -9.759192 -30.889565 -51.083439            0               0   \n",
              "...        ...        ...        ...        ...          ...             ...   \n",
              "9284 -2.460026  -9.959386 -42.903786 -74.322029            1               0   \n",
              "9285 -0.576387  -9.854992 -49.690331 -63.778072            1               0   \n",
              "9286 -3.046221 -10.153413 -43.115566 -56.803898            1               0   \n",
              "9287 -8.626752  -9.348781 -44.034111 -60.708294            1               0   \n",
              "9288 -1.484310 -10.482984 -42.206123 -58.430084            1               0   \n",
              "\n",
              "      ageRange=65+  label  \n",
              "0                0      5  \n",
              "1                0      6  \n",
              "2                0      7  \n",
              "3                0      1  \n",
              "4                0      1  \n",
              "...            ...    ...  \n",
              "9284             0      6  \n",
              "9285             0      7  \n",
              "9286             0      7  \n",
              "9287             0      7  \n",
              "9288             0      1  \n",
              "\n",
              "[9289 rows x 69 columns]"
            ]
          },
          "execution_count": 56,
          "metadata": {},
          "output_type": "execute_result"
        }
      ],
      "source": [
        "new_df"
      ]
    },
    {
      "cell_type": "code",
      "execution_count": 57,
      "id": "0d328f02",
      "metadata": {
        "id": "0d328f02"
      },
      "outputs": [],
      "source": [
        "# indexes"
      ]
    },
    {
      "cell_type": "code",
      "execution_count": 58,
      "id": "a7bb2391",
      "metadata": {
        "id": "a7bb2391"
      },
      "outputs": [],
      "source": [
        "# name_file = r'/df.pickle'\n",
        "\n",
        "# with open(path_working_directory+name_file, 'rb') as f:\n",
        "#         df = pickle.load(f)\n",
        "# df_tmp = pd.DataFrame({'audio':df[1], 'gender': df_development.gender, 'ageRange': df_development.ageRange, 'label':df[3]})\n",
        "# #df_pd[9840:9845] ETICHETTATO COME FEMALE MA SECONDO ME E MALE\n",
        "# pd.DataFrame(df_tmp).iloc[23:28]"
      ]
    },
    {
      "cell_type": "code",
      "execution_count": 59,
      "id": "1bd236c4",
      "metadata": {
        "id": "1bd236c4"
      },
      "outputs": [],
      "source": [
        "# df_pd.iloc[23:28]"
      ]
    },
    {
      "cell_type": "code",
      "execution_count": 60,
      "id": "2d8a3906",
      "metadata": {
        "id": "2d8a3906"
      },
      "outputs": [],
      "source": [
        "# df_tmp['audio'][26]"
      ]
    },
    {
      "cell_type": "code",
      "execution_count": 61,
      "id": "381daf94",
      "metadata": {
        "id": "381daf94"
      },
      "outputs": [],
      "source": [
        "# df_tmp['audio'][24] == df_pd['audio'][24]"
      ]
    },
    {
      "cell_type": "markdown",
      "id": "09490e4b",
      "metadata": {
        "id": "09490e4b"
      },
      "source": [
        "### 4. Training and Validation"
      ]
    },
    {
      "cell_type": "code",
      "execution_count": 62,
      "id": "a8ae650f",
      "metadata": {
        "id": "a8ae650f"
      },
      "outputs": [],
      "source": [
        "y = new_df['label']\n",
        "X = new_df.drop(columns='label')\n",
        "seed = 42"
      ]
    },
    {
      "cell_type": "code",
      "execution_count": 63,
      "id": "70098add",
      "metadata": {
        "id": "70098add",
        "outputId": "64bba0d2-301a-4193-cd4f-f3e7f4b1f4cb",
        "colab": {
          "base_uri": "https://localhost:8080/"
        }
      },
      "outputs": [
        {
          "data": {
            "text/plain": [
              "((7431, 68), (1858, 68), (7431,), (1858,))"
            ]
          },
          "execution_count": 63,
          "metadata": {},
          "output_type": "execute_result"
        }
      ],
      "source": [
        "from sklearn.model_selection import train_test_split\n",
        "X_train, X_test, y_train, y_test = train_test_split(X, y, test_size=0.2, random_state=seed)\n",
        "X_train.shape, X_test.shape, y_train.shape, y_test.shape "
      ]
    },
    {
      "cell_type": "code",
      "execution_count": 64,
      "id": "68ff1ea7",
      "metadata": {
        "id": "68ff1ea7"
      },
      "outputs": [],
      "source": [
        "# ### RandomForest Classifier ###\n",
        "# from sklearn.ensemble import RandomForestClassifier\n",
        "# from sklearn.model_selection import GridSearchCV\n",
        "\n",
        "# def randforest_classifier(input_x, input_y, cv=10, seed = seed):\n",
        "#     ## Defining parameters\n",
        "#     model_RF= RandomForestClassifier(random_state =seed)\n",
        "\n",
        "#     parameters = {'n_estimators':[100], \n",
        "#                   'criterion':['gini', 'entropy'],\n",
        "#                   'max_features':['sqrt', 'log2']}\n",
        "\n",
        "#     ## Building Grid Search algorithm with cross-validation and Mean Squared Error score.\n",
        "\n",
        "#     grid_search_RF = GridSearchCV(estimator=model_RF,  \n",
        "#                          param_grid=parameters,\n",
        "#                          scoring='accuracy',\n",
        "#                          cv=cv,\n",
        "#                          n_jobs=-1,\n",
        "#                         verbose = 15)\n",
        "\n",
        "#     ## Lastly, finding the best parameters.\n",
        "\n",
        "#     grid_search_RF.fit(input_x, input_y)\n",
        "#     best_parameters_RF = grid_search_RF.best_params_  \n",
        "#     best_score_RF = grid_search_RF.best_score_ \n",
        "#     print(best_parameters_RF)\n",
        "#     print(best_score_RF)\n",
        "#     results = grid_search_RF.cv_results_\n",
        "    \n",
        "#     return best_parameters_RF, results\n",
        "\n",
        "# best_params, RF_CV_results = randforest_classifier(X_train, y_train, 10, seed)"
      ]
    },
    {
      "cell_type": "code",
      "execution_count": 65,
      "id": "52699fb7",
      "metadata": {
        "id": "52699fb7"
      },
      "outputs": [],
      "source": [
        "# rf = RandomForestClassifier(n_estimators=50,criterion='entropy', max_features=\"sqrt\", random_state =seed)\n",
        "# rf.fit(X_train, y_train)"
      ]
    },
    {
      "cell_type": "code",
      "execution_count": 66,
      "id": "baee5d7a",
      "metadata": {
        "id": "baee5d7a"
      },
      "outputs": [],
      "source": [
        "# feature_names = [f\"{f}\" for f in X_train.columns]\n",
        "# print(feature_names)\n",
        "# importances=rf.feature_importances_\n",
        "# forest_importances=  pd.Series(importances, index=feature_names).sort_values(ascending=False)\n",
        "# print(\"means: 0-12\")\n",
        "# print(\"medians: 13-25\")\n",
        "# print(\"stds: 26-38\")\n",
        "# print(\"max: 39-51\")\n",
        "# print(\"min: 52-64\")\n",
        "# plt.figure(figsize=(12,12))\n",
        "# forest_importances.plot.bar()\n",
        "# plt.title(\"Feature importances using MDI\")\n",
        "# plt.ylabel(\"Mean decrease in impurity\")\n"
      ]
    },
    {
      "cell_type": "markdown",
      "id": "0a478d2c",
      "metadata": {
        "id": "0a478d2c"
      },
      "source": [
        "100 alberi, mfcc_features = librosa.feature.mfcc(y=df_pd.audio_trim[i], sr=sr, n_mfcc=13, n_fft=1024): 0.5019027470507421\n",
        "\n",
        "100 alberi, mfcc_features = librosa.feature.mfcc(y=df_pd.audio_trim[i], sr=sr, n_mfcc=13, n_fft=2048, hop_length=256): 0.5107861570314567\n",
        "\n",
        "100 alberi, mfcc_features = librosa.feature.mfcc(y=df_pd.audio_trim[i], sr=sr, n_mfcc=13, n_fft=2048, hop_length=128) = 0.5144707138203936\n",
        "\n",
        "100 alberi   mfcc_features = librosa.feature.mfcc(y=df_pd.audio_emph[i], sr=sr, n_mfcc=13, n_fft=4096, hop_length=128) = 0.5152318126406905\n",
        "\n",
        "100 alberi mfcc_features = librosa.feature.mfcc(y=df_pd.audio_trim[i], sr=sr, n_mfcc=13, n_fft=4096, hop_length=128): 0.520815407736118\n",
        "\n",
        "100 alberi, mfcc_features = librosa.feature.mfcc(y=df_pd.audio_trim[i], sr=sr, n_mfcc=13, n_fft=4096, hop_length=128, n_mels = 90): 0.523992189062107\n",
        "\n",
        "100 alberi, mfcc_features = librosa.feature.mfcc(y=df_pd.audio_reconstructed[i], sr=sr, n_mfcc=13, n_fft=4096, hop_length=128, n_mels = 90): 0.5242471249169564\n",
        "\n",
        "100 alberi,   mfcc_features = librosa.feature.mfcc(y=df_pd.audio_reconstructed[i], sr=sr*2, n_mfcc=13, n_fft=4096, hop_length=128, n_mels = 90): 0.5308446584407794\n",
        "\n",
        "200 alberi, mfcc_features = librosa.feature.mfcc(y=df_pd.audio_reconstructed[i], sr=sr*2, n_mfcc=13, lifter = 10, n_fft=4096, hop_length=128, n_mels = 90): 0.538330839337199\n",
        "\n",
        "100, mfcc_features = librosa.feature.mfcc(y=df_pd.audio_reconstructed[i], sr=sr*2, n_mfcc=13, lifter = 10, n_fft=4096, hop_length=128, n_mels = 90, dct_type=1) = 0.5279249092163907\n",
        "\n",
        "100, mfcc_features = librosa.feature.mfcc(y=df_pd.audio_reconstructed[i],  sr=sr*2, n_mfcc=13,lifter = 10,  n_fft=4096, hop_length=128, n_mels = 90, dct_type=3): 0.5046902714800793\n",
        "\n",
        "**BEST**: 100 alberi,  tagliando trim audios > 1 sec mfcc_features = librosa.feature.mfcc(y=df_pd.audio_reconstructed[i], sr=sr*2, n_mfcc=13, lifter = 10, n_fft=4096, hop_length=64, n_mels = 90, dct_type=2): **0.5398856887280141**\n",
        "\n",
        "100 alberi,  tagliando trim audios > 2 sec mfcc_features = librosa.feature.mfcc(y=df_pd.audio_reconstructed[i], sr=sr*2, n_mfcc=13, lifter = 10, n_fft=4096, hop_length=64, n_mels = 90, dct_type=2): **0.5274044795783926**\n",
        "\n",
        "\n",
        "\n",
        "\n",
        "\n",
        "\n"
      ]
    },
    {
      "cell_type": "code",
      "execution_count": 67,
      "id": "a08f5e61",
      "metadata": {
        "id": "a08f5e61"
      },
      "outputs": [],
      "source": [
        "# new_df"
      ]
    },
    {
      "cell_type": "code",
      "execution_count": 68,
      "id": "18c06666",
      "metadata": {
        "id": "18c06666"
      },
      "outputs": [],
      "source": [
        "# new_df['ageRange=41-65']"
      ]
    },
    {
      "cell_type": "code",
      "execution_count": 68,
      "id": "1ac718f7",
      "metadata": {
        "id": "1ac718f7"
      },
      "outputs": [],
      "source": []
    },
    {
      "cell_type": "code",
      "execution_count": 68,
      "id": "41f80f78",
      "metadata": {
        "id": "41f80f78"
      },
      "outputs": [],
      "source": []
    },
    {
      "cell_type": "code",
      "execution_count": 68,
      "id": "b3c1c112",
      "metadata": {
        "id": "b3c1c112"
      },
      "outputs": [],
      "source": []
    },
    {
      "cell_type": "code",
      "execution_count": 68,
      "id": "861f1648",
      "metadata": {
        "id": "861f1648"
      },
      "outputs": [],
      "source": []
    },
    {
      "cell_type": "code",
      "execution_count": 68,
      "id": "8d060a8d",
      "metadata": {
        "id": "8d060a8d"
      },
      "outputs": [],
      "source": []
    },
    {
      "cell_type": "code",
      "execution_count": 69,
      "id": "0ccedf4a",
      "metadata": {
        "scrolled": true,
        "id": "0ccedf4a"
      },
      "outputs": [],
      "source": [
        "# df_pd['label'][7167]"
      ]
    },
    {
      "cell_type": "markdown",
      "id": "6309293a",
      "metadata": {
        "id": "6309293a"
      },
      "source": [
        "We noticed that some audios (ex. index = 7167) are kept because there noise (no silence) and trim is not able to erase it away, so now we apply noise reduction."
      ]
    },
    {
      "cell_type": "markdown",
      "id": "0c7ed4fb",
      "metadata": {
        "id": "0c7ed4fb"
      },
      "source": [
        "Let's listent the audio."
      ]
    },
    {
      "cell_type": "code",
      "execution_count": 70,
      "id": "b3a19f74",
      "metadata": {
        "id": "b3a19f74"
      },
      "outputs": [],
      "source": [
        "# # 7167 : rumore finale che non toglie\n",
        "# index = 7167\n",
        "# s1 = df_pd['audio'][index]\n",
        "# ipd.Audio(df_pd['audio'][index], rate=22050)\n",
        "# plt.figure()\n",
        "# plt.plot(s1)"
      ]
    },
    {
      "cell_type": "code",
      "execution_count": 71,
      "id": "2704bbeb",
      "metadata": {
        "id": "2704bbeb"
      },
      "outputs": [],
      "source": [
        "# # Original audio\n",
        "# ipd.Audio(s1, rate=22050)"
      ]
    },
    {
      "cell_type": "code",
      "execution_count": 72,
      "id": "83bd7832",
      "metadata": {
        "id": "83bd7832"
      },
      "outputs": [],
      "source": [
        "# # Trim audio\n",
        "# s1_trim = librosa.effects.trim(s1, top_db=20)[0]\n",
        "# ipd.Audio(s1_trim, rate=22050)"
      ]
    },
    {
      "cell_type": "markdown",
      "id": "82101d2b",
      "metadata": {
        "id": "82101d2b"
      },
      "source": [
        "It says \"decrease the volume\" (label 3), we now take another audio saying the same without noise to compare them."
      ]
    },
    {
      "cell_type": "code",
      "execution_count": 73,
      "id": "9b138f60",
      "metadata": {
        "id": "9b138f60"
      },
      "outputs": [],
      "source": [
        "# # Retrieve all the rows having label = 3 and then the corresponding indexes\n",
        "# df_label3 = df_pd[df_pd['label']==3]\n",
        "# indexes_label3 = list(df_label3.index)\n",
        "# indexes_label3"
      ]
    },
    {
      "cell_type": "code",
      "execution_count": 74,
      "id": "e04d0f06",
      "metadata": {
        "id": "e04d0f06"
      },
      "outputs": [],
      "source": [
        "# index = 691 #this audio seems clearer\n",
        "# s2 = df_pd['audio'][index]\n",
        "\n",
        "# ipd.Audio(s2, rate=22050)\n",
        "# plt.figure()\n",
        "# plt.plot(s2)"
      ]
    },
    {
      "cell_type": "code",
      "execution_count": 75,
      "id": "07f49bf0",
      "metadata": {
        "id": "07f49bf0"
      },
      "outputs": [],
      "source": [
        "# ipd.Audio(s2, rate=22050)"
      ]
    },
    {
      "cell_type": "code",
      "execution_count": 76,
      "id": "3da8eb23",
      "metadata": {
        "id": "3da8eb23"
      },
      "outputs": [],
      "source": [
        "# s2_trim = librosa.effects.trim(s2, top_db=20)[0]\n",
        "# ipd.Audio(s2_trim, rate=22050)"
      ]
    },
    {
      "cell_type": "markdown",
      "id": "bd91652c",
      "metadata": {
        "id": "bd91652c"
      },
      "source": [
        "Let's plot the spectograms"
      ]
    },
    {
      "cell_type": "code",
      "execution_count": 77,
      "id": "ac18ed48",
      "metadata": {
        "id": "ac18ed48"
      },
      "outputs": [],
      "source": [
        "# S1 = librosa.feature.melspectrogram(y=s1, sr=sr, n_mels=128)\n",
        "# D1 = librosa.power_to_db(S1, ref=np.max)\n",
        "# librosa.display.specshow(D1, x_axis='time', y_axis='mel');"
      ]
    },
    {
      "cell_type": "code",
      "execution_count": 78,
      "id": "0cd67b2b",
      "metadata": {
        "id": "0cd67b2b"
      },
      "outputs": [],
      "source": [
        "# S2 = librosa.feature.melspectrogram(y=s2, sr=sr, n_mels=128)\n",
        "# D2 = librosa.power_to_db(S2, ref=np.max)\n",
        "# librosa.display.specshow(D2, x_axis='time', y_axis='mel');"
      ]
    },
    {
      "cell_type": "code",
      "execution_count": 79,
      "id": "4c9dd3c5",
      "metadata": {
        "id": "4c9dd3c5"
      },
      "outputs": [],
      "source": [
        "# from scipy import signal\n",
        "# import random\n",
        "\n",
        "\n",
        "# def f_high(y,sr):\n",
        "#     b,a = signal.butter(10, 2000/(sr/2), btype='highpass')\n",
        "#     yf = signal.lfilter(b,a,y)\n",
        "#     return yf"
      ]
    },
    {
      "cell_type": "code",
      "execution_count": 80,
      "id": "7a7ccb8c",
      "metadata": {
        "id": "7a7ccb8c"
      },
      "outputs": [],
      "source": [
        "# yf1 = f_high(s1, sr)\n",
        "# yf2 = f_high(s2, sr)"
      ]
    },
    {
      "cell_type": "code",
      "execution_count": 81,
      "id": "c6cb29da",
      "metadata": {
        "id": "c6cb29da"
      },
      "outputs": [],
      "source": [
        "# librosa.display.waveshow(s1,sr=sr, x_axis='time');\n",
        "# librosa.display.waveshow(yf1,sr=sr, x_axis='time');"
      ]
    },
    {
      "cell_type": "code",
      "execution_count": 82,
      "id": "6cc38b06",
      "metadata": {
        "id": "6cc38b06"
      },
      "outputs": [],
      "source": [
        "# S1_new = librosa.feature.melspectrogram(y=yf1, sr=sr, n_mels=128)\n",
        "# D1 = librosa.power_to_db(S1_new, ref=np.max)\n",
        "# librosa.display.specshow(D1, x_axis='time', y_axis='mel');"
      ]
    },
    {
      "cell_type": "code",
      "execution_count": 83,
      "id": "2c1ca772",
      "metadata": {
        "id": "2c1ca772"
      },
      "outputs": [],
      "source": [
        "# # Dp1 = librosa.pcen(S1 * (2**31), sr=sr, gain=1.1, hop_length=512, bias=2, power=0.5, time_constant=0.8, eps=1e-06, max_size=2)\n",
        "# # Dp2 = librosa.pcen(S2 * (2**31), sr=sr, gain=1.1, hop_length=512, bias=2, power=0.5, time_constant=0.8, eps=1e-06, max_size=2)\n",
        "\n",
        "# Dp1 = librosa.pcen(S1 * (2**31), sr=sr)\n",
        "# Dp2 = librosa.pcen(S2 * (2**31), sr=sr)"
      ]
    },
    {
      "cell_type": "code",
      "execution_count": 84,
      "id": "210a90ab",
      "metadata": {
        "id": "210a90ab"
      },
      "outputs": [],
      "source": [
        "# librosa.display.specshow(Dp1, x_axis='time', y_axis='mel');"
      ]
    },
    {
      "cell_type": "code",
      "execution_count": 85,
      "id": "4f55b464",
      "metadata": {
        "id": "4f55b464"
      },
      "outputs": [],
      "source": [
        "# librosa.display.specshow(Dp2, x_axis='time', y_axis='mel');"
      ]
    },
    {
      "cell_type": "code",
      "execution_count": 86,
      "id": "408b26c8",
      "metadata": {
        "id": "408b26c8"
      },
      "outputs": [],
      "source": [
        "# yp1 = librosa.feature.inverse.mel_to_audio(Dp1)\n",
        "# yp2 = librosa.feature.inverse.mel_to_audio(Dp2)"
      ]
    },
    {
      "cell_type": "code",
      "execution_count": 87,
      "id": "784f23e2",
      "metadata": {
        "id": "784f23e2"
      },
      "outputs": [],
      "source": [
        "# librosa.display.waveshow(yp1,sr=sr, x_axis='time');\n",
        "# librosa.display.waveshow(s1,sr=sr, x_axis='time');"
      ]
    },
    {
      "cell_type": "code",
      "execution_count": 88,
      "id": "c0bee722",
      "metadata": {
        "id": "c0bee722"
      },
      "outputs": [],
      "source": [
        "# librosa.display.waveshow(yp2,sr=sr, x_axis='time');\n",
        "# librosa.display.waveshow(s2,sr=sr, x_axis='time');"
      ]
    },
    {
      "cell_type": "code",
      "execution_count": 89,
      "id": "765e1609",
      "metadata": {
        "id": "765e1609"
      },
      "outputs": [],
      "source": [
        "# ipd.Audio(yp1, rate=22050)\n"
      ]
    },
    {
      "cell_type": "code",
      "execution_count": 90,
      "id": "b4c21709",
      "metadata": {
        "id": "b4c21709"
      },
      "outputs": [],
      "source": [
        "# ipd.Audio(yp2, rate=22050)"
      ]
    },
    {
      "cell_type": "code",
      "execution_count": 91,
      "id": "9c1b73da",
      "metadata": {
        "id": "9c1b73da"
      },
      "outputs": [],
      "source": [
        "# import time\n",
        "# from datetime import timedelta as td\n",
        "\n",
        "\n",
        "# def _stft(y, n_fft, hop_length, win_length):\n",
        "#     return librosa.stft(y=y, n_fft=n_fft, hop_length=hop_length, win_length=win_length)\n",
        "\n",
        "\n",
        "# def _istft(y, hop_length, win_length):\n",
        "#     return librosa.istft(y, hop_length, win_length)\n",
        "\n",
        "\n",
        "# def _amp_to_db(x):\n",
        "#     return librosa.core.amplitude_to_db(x, ref=1.0, amin=1e-20, top_db=80.0)\n",
        "\n",
        "\n",
        "# def _db_to_amp(x,):\n",
        "#     return librosa.core.db_to_amplitude(x, ref=1.0)\n",
        "\n",
        "\n",
        "# def plot_spectrogram(signal, title):\n",
        "#     fig, ax = plt.subplots(figsize=(20, 4))\n",
        "#     cax = ax.matshow(\n",
        "#         signal,\n",
        "#         origin=\"lower\",\n",
        "#         aspect=\"auto\",\n",
        "#         cmap=plt.cm.seismic,\n",
        "#         vmin=-1 * np.max(np.abs(signal)),\n",
        "#         vmax=np.max(np.abs(signal)),\n",
        "#     )\n",
        "#     fig.colorbar(cax)\n",
        "#     ax.set_title(title)\n",
        "#     plt.tight_layout()\n",
        "#     plt.show()\n",
        "\n",
        "\n",
        "# def plot_statistics_and_filter(\n",
        "#     mean_freq_noise, std_freq_noise, noise_thresh, smoothing_filter\n",
        "# ):\n",
        "#     fig, ax = plt.subplots(ncols=2, figsize=(20, 4))\n",
        "#     plt_mean, = ax[0].plot(mean_freq_noise, label=\"Mean power of noise\")\n",
        "#     plt_std, = ax[0].plot(std_freq_noise, label=\"Std. power of noise\")\n",
        "#     plt_std, = ax[0].plot(noise_thresh, label=\"Noise threshold (by frequency)\")\n",
        "#     ax[0].set_title(\"Threshold for mask\")\n",
        "#     ax[0].legend()\n",
        "#     cax = ax[1].matshow(smoothing_filter, origin=\"lower\")\n",
        "#     fig.colorbar(cax)\n",
        "#     ax[1].set_title(\"Filter for smoothing Mask\")\n",
        "#     plt.show()\n",
        "\n",
        "# def removeNoise(\n",
        "#     audio_clip,\n",
        "#     noise_clip,\n",
        "#     n_grad_freq=2,\n",
        "#     n_grad_time=4,\n",
        "#     n_fft=2048,\n",
        "#     win_length=2048,\n",
        "#     hop_length=512,\n",
        "#     n_std_thresh=1.5,\n",
        "#     prop_decrease=1.0,\n",
        "#     verbose=False,\n",
        "#     visual=False,\n",
        "# ):\n",
        "#     \"\"\"Remove noise from audio based upon a clip containing only noise\n",
        "\n",
        "#     Args:\n",
        "#         audio_clip (array): The first parameter.\n",
        "#         noise_clip (array): The second parameter.\n",
        "#         n_grad_freq (int): how many frequency channels to smooth over with the mask.\n",
        "#         n_grad_time (int): how many time channels to smooth over with the mask.\n",
        "#         n_fft (int): number audio of frames between STFT columns.\n",
        "#         win_length (int): Each frame of audio is windowed by `window()`. The window will be of length `win_length` and then padded with zeros to match `n_fft`..\n",
        "#         hop_length (int):number audio of frames between STFT columns.\n",
        "#         n_std_thresh (int): how many standard deviations louder than the mean dB of the noise (at each frequency level) to be considered signal\n",
        "#         prop_decrease (float): To what extent should you decrease noise (1 = all, 0 = none)\n",
        "#         visual (bool): Whether to plot the steps of the algorithm\n",
        "\n",
        "#     Returns:\n",
        "#         array: The recovered signal with noise subtracted\n",
        "\n",
        "#     \"\"\"\n",
        "#     if verbose:\n",
        "#         start = time.time()\n",
        "#     # STFT over noise\n",
        "#     noise_stft = _stft(noise_clip, n_fft, hop_length, win_length)\n",
        "#     noise_stft_db = _amp_to_db(np.abs(noise_stft))  # convert to dB\n",
        "#     # Calculate statistics over noise\n",
        "#     mean_freq_noise = np.mean(noise_stft_db, axis=1)\n",
        "#     std_freq_noise = np.std(noise_stft_db, axis=1)\n",
        "#     noise_thresh = mean_freq_noise + std_freq_noise * n_std_thresh\n",
        "#     if verbose:\n",
        "#         print(\"STFT on noise:\", td(seconds=time.time() - start))\n",
        "#         start = time.time()\n",
        "#     # STFT over signal\n",
        "#     if verbose:\n",
        "#         start = time.time()\n",
        "#     sig_stft = _stft(audio_clip, n_fft, hop_length, win_length)\n",
        "#     sig_stft_db = _amp_to_db(np.abs(sig_stft))\n",
        "#     if verbose:\n",
        "#         print(\"STFT on signal:\", td(seconds=time.time() - start))\n",
        "#         start = time.time()\n",
        "#     # Calculate value to mask dB to\n",
        "#     mask_gain_dB = np.min(_amp_to_db(np.abs(sig_stft)))\n",
        "#     #print(noise_thresh, mask_gain_dB)\n",
        "#     # Create a smoothing filter for the mask in time and frequency\n",
        "#     smoothing_filter = np.outer(\n",
        "#         np.concatenate(\n",
        "#             [\n",
        "#                 np.linspace(0, 1, n_grad_freq + 1, endpoint=False),\n",
        "#                 np.linspace(1, 0, n_grad_freq + 2),\n",
        "#             ]\n",
        "#         )[1:-1],\n",
        "#         np.concatenate(\n",
        "#             [\n",
        "#                 np.linspace(0, 1, n_grad_time + 1, endpoint=False),\n",
        "#                 np.linspace(1, 0, n_grad_time + 2),\n",
        "#             ]\n",
        "#         )[1:-1],\n",
        "#     )\n",
        "#     smoothing_filter = smoothing_filter / np.sum(smoothing_filter)\n",
        "#     # calculate the threshold for each frequency/time bin\n",
        "#     db_thresh = np.repeat(\n",
        "#         np.reshape(noise_thresh, [1, len(mean_freq_noise)]),\n",
        "#         np.shape(sig_stft_db)[1],\n",
        "#         axis=0,\n",
        "#     ).T\n",
        "#     # mask if the signal is above the threshold\n",
        "#     sig_mask = sig_stft_db < db_thresh\n",
        "#     if verbose:\n",
        "#         print(\"Masking:\", td(seconds=time.time() - start))\n",
        "#         start = time.time()\n",
        "#     # convolve the mask with a smoothing filter\n",
        "#     sig_mask = scipy.signal.fftconvolve(sig_mask, smoothing_filter, mode=\"same\")\n",
        "#     sig_mask = sig_mask * prop_decrease\n",
        "#     if verbose:\n",
        "#         print(\"Mask convolution:\", td(seconds=time.time() - start))\n",
        "#         start = time.time()\n",
        "#     # mask the signal\n",
        "#     sig_stft_db_masked = (\n",
        "#         sig_stft_db * (1 - sig_mask)\n",
        "#         + np.ones(np.shape(mask_gain_dB)) * mask_gain_dB * sig_mask\n",
        "#     )  # mask real\n",
        "#     sig_imag_masked = np.imag(sig_stft) * (1 - sig_mask)\n",
        "#     sig_stft_amp = (_db_to_amp(sig_stft_db_masked) * np.sign(sig_stft)) + (\n",
        "#         1j * sig_imag_masked\n",
        "#     )\n",
        "#     if verbose:\n",
        "#         print(\"Mask application:\", td(seconds=time.time() - start))\n",
        "#         start = time.time()\n",
        "#     # recover the signal\n",
        "#     recovered_signal = _istft(sig_stft_amp, hop_length, win_length)\n",
        "#     recovered_spec = _amp_to_db(\n",
        "#         np.abs(_stft(recovered_signal, n_fft, hop_length, win_length))\n",
        "#     )\n",
        "#     if verbose:\n",
        "#         print(\"Signal recovery:\", td(seconds=time.time() - start))\n",
        "#     if visual:\n",
        "#         plot_spectrogram(noise_stft_db, title=\"Noise\")\n",
        "#     if visual:\n",
        "#         plot_statistics_and_filter(\n",
        "#             mean_freq_noise, std_freq_noise, noise_thresh, smoothing_filter\n",
        "#         )\n",
        "#     if visual:\n",
        "#         plot_spectrogram(sig_stft_db, title=\"Signal\")\n",
        "#     if visual:\n",
        "#         plot_spectrogram(sig_mask, title=\"Mask applied\")\n",
        "#     if visual:\n",
        "#         plot_spectrogram(sig_stft_db_masked, title=\"Masked signal\")\n",
        "#     if visual:\n",
        "#         plot_spectrogram(recovered_spec, title=\"Recovered spectrogram\")\n",
        "#     return recovered_signal"
      ]
    },
    {
      "cell_type": "code",
      "execution_count": 92,
      "id": "16cf1331",
      "metadata": {
        "id": "16cf1331"
      },
      "outputs": [],
      "source": [
        "# import scipy\n",
        "# noise1 = s1[5*sr:6*sr]\n",
        "# yg1 = removeNoise(audio_clip=s1, noise_clip=noise1,\n",
        "#     n_grad_freq=2,\n",
        "#     n_grad_time=4,\n",
        "#     n_fft=2048,\n",
        "#     win_length=2048,\n",
        "#     hop_length=512,\n",
        "#     n_std_thresh=1.5,\n",
        "#     prop_decrease=1.0,\n",
        "#     verbose=False,\n",
        "#     visual=False)\n",
        "# noise2 = s2[0:1*sr]\n",
        "# yg2 = removeNoise(audio_clip=s2, noise_clip=noise2,\n",
        "#     n_grad_freq=2,\n",
        "#     n_grad_time=4,\n",
        "#     n_fft=2048,\n",
        "#     win_length=2048,\n",
        "#     hop_length=512,\n",
        "#     n_std_thresh=2.5,\n",
        "#     prop_decrease=1.0,\n",
        "#     verbose=False,\n",
        "#     visual=False)"
      ]
    },
    {
      "cell_type": "code",
      "execution_count": 93,
      "id": "0f8d040d",
      "metadata": {
        "id": "0f8d040d"
      },
      "outputs": [],
      "source": [
        "# plt.figure(figsize=(12,12))\n",
        "# librosa.display.waveshow(s1,sr=sr, x_axis='time');\n",
        "# librosa.display.waveshow(yg1,sr=sr, x_axis='time');"
      ]
    },
    {
      "cell_type": "code",
      "execution_count": 94,
      "id": "1efae458",
      "metadata": {
        "id": "1efae458"
      },
      "outputs": [],
      "source": [
        "# librosa.display.waveshow(s2,sr=sr, x_axis='time');\n",
        "# librosa.display.waveshow(yg2,sr=sr, x_axis='time');"
      ]
    },
    {
      "cell_type": "code",
      "execution_count": 95,
      "id": "930fddcc",
      "metadata": {
        "id": "930fddcc"
      },
      "outputs": [],
      "source": [
        "# ipd.Audio(s1, rate=22050)"
      ]
    },
    {
      "cell_type": "code",
      "execution_count": 96,
      "id": "39dbc9ec",
      "metadata": {
        "id": "39dbc9ec"
      },
      "outputs": [],
      "source": [
        "# length_audios = []\n",
        "# length_audios_seconds = []\n",
        "# indexes = []\n",
        "# i = 0\n",
        "\n",
        "# for item,sr in zip(df[1], df[2]):\n",
        "#     length_audios.append(len(item))\n",
        "#     length_audios_seconds.append(len(item)/sr)\n",
        "# #  Decomment if you are interested in retrieve indexes of audio within a specific range \n",
        "#     if len(item)/sr  >= 5 and len(item)/sr  <=7.5:\n",
        "#         indexes.append(i)\n",
        "#     i = i+1\n",
        "        \n",
        "\n",
        "# length_audios=pd.Series(length_audios)\n",
        "# length_audios_seconds = pd.Series(length_audios_seconds)\n",
        "# #print(length_audios_seconds.value_counts())\n",
        "# # plt.figure(figsize=(12,12))\n",
        "# # plt.title(\"Lenght of audios distribution (seconds)\")\n",
        "# # length_audios_seconds.hist()\n",
        "# #print(length_audios_seconds)\n"
      ]
    },
    {
      "cell_type": "code",
      "execution_count": 97,
      "id": "26bb0b79",
      "metadata": {
        "id": "26bb0b79"
      },
      "outputs": [],
      "source": [
        "# indexes"
      ]
    },
    {
      "cell_type": "code",
      "execution_count": 98,
      "id": "fcbe6419",
      "metadata": {
        "id": "fcbe6419"
      },
      "outputs": [],
      "source": [
        "# s = df_pd['audio'][0][librosa.effects.split(df_pd['audio'][0])[1][0]:librosa.effects.split(df_pd['audio'][1])[0][-1]]\n",
        "# df_pd['audio'][0][librosa.effects.split(df_pd['audio'][0], top_db=30)]#[1][0]:librosa.effects.split(df_pd['audio'][1])[0][-1]]\n",
        "# librosa.effects.split(df_pd['audio'][0])\n",
        "# ipd.Audio(s, rate=22050)"
      ]
    },
    {
      "cell_type": "code",
      "execution_count": 99,
      "id": "ebf637be",
      "metadata": {
        "id": "ebf637be",
        "outputId": "66bd87c2-d800-47eb-a4f9-4e48124cd543",
        "colab": {
          "base_uri": "https://localhost:8080/",
          "height": 76
        }
      },
      "outputs": [
        {
          "data": {
            "text/html": [
              "\n",
              "                <audio  controls=\"controls\" >\n",
              "                    <source src=\"data:audio/wav;base64,UklGRiTgAQBXQVZFZm10IBAAAAABAAEAIlYAAESsAAACABAAZGF0YQDgAQAAAAAAAAAAAAAAAAAAAAAAAAAAAAAAAAAAAAAAAAAAAAAAAAAAAAAAAAAAAAAAAAAAAAAAAAAAAAAAAAAAAAAAAAAAAAAAAAAAAAAAAAAAAAAAAAAAAAAAAAAAAAAAAAAAAAAAAAAAAAAAAAAAAAAAAAAAAAAAAAAAAAAAAAAAAAAAAAAAAAAAAAAAAAAAAAAAAAAAAAAAAAAAAAAAAAAAAAAAAAAAAAAAAAAAAAAAAAAAAAAAAAAAAAAAAAAAAAAAAAAAAAAAAAAAAAAAAAAAAAAAAAAAAAAAAAAAAAAAAAAAAAAAAAAAAAAAAAAAAAAAAAAAAAAAAAAAAAAAAAAAAAAAAAAAAAAAAAAAAAAAAAAAAAAAAAAAAAAAAAAAAAAAAAAAAAAAAAAAAAAAAAAAAAAAAAAAAAAAAAAAAAAAAAAAAAAAAAAAAAAAAAAAAAAAAAAAAAAAAAAAAAAAAAAAAAAAAAAAAAAAAAAAAAAAAAAAAAAAAAAAAAAAAAAAAAAAAAAAAAAAAAAAAAAAAAAAAAAAAAAAAAAAAAAAAAAAAAAAAAAAAAAAAAAAAAAAAAAAAAAAAAAAAAAAAAAAAAAAAAAAAAAAAAAAAAAAAAAAAAAAAAAAAAAAAAAAAAAAAAAAAAAAAAAAAAAAAAAAAAAAAAAAAAAAAAAAAAAAAAAAAAAAAAAAAAAAAAAAAAAAAAAAAAAAAAAAAAAAAAAAAAAAAAAAAAAAAAAAAAAAAAAAAAAAAAAAAAAAAAAAAAAAAAAAAAAAAAAAAAAAAAAAAAAAAAAAAAAAAAAAAAAAAAAAAAAAAAAAAAAAAAAAAAAAAAAAAAAAAAAAAAAAAAAAAAAAAAAAAAAAAAAAAAAAAAAAAAAAAAAAAAAAAAAAAAAAAAAAAAAAAAAAAAAAAAAAAAAAAAAAAAAAAAAAAAAAAAAAAAAAAAAAAAAAAAAAAAAAAAAAAAAAAAAAAAAAAAAAAAAAAAAAAAAAAAAAAAAAAAAAAAAAAAAAAAAAAAAAAAAAAAAAAAAAAAAAAAAAAAAAAAAAAAAAAAAAAAAAAAAAAAAAAAAAAAAAAAAAAAAAAAAAAAAAAAAAAAAAAAAAAAAAAAAAAAAAAAAAAAAAAAAAAAAAAAAAAAAAAAAAAAAAAAAAAAAAAAAAAAAAAAAAAAAAAAAAAAAAAAAAAAAAAAAAAAAAAAAA/////////P/7//7/AAD///7/AAAAAAAAAAAAAAAAAAAAAAAAAAAAAAAAAAAAAAAA//8AAAAAAAAAAAAAAAAAAAAAAAAAAAAAAAAAAAAAAAAAAAAAAAAAAAAAAAAAAAAAAAAAAAAAAAAAAAEAAAAAAAAAAAD//wAAAAAAAP//AAAAAAAAAAAAAAAAAAAAAAAAAQAAAAAAAQAAAAAAAAAAAAAAAAAAAP/////+//z//f////7//P/8////AAD///3//v////7//f///wAAAAAAAAAAAAAAAAAAAAAAAAAAAAAAAAAAAAAAAAAAAAAAAAAAAAAAAAAAAAAAAAAAAAAAAAAAAAAAAAEAAAAAAAIAAgAAAAAAAQABAAAAAAAAAAAAAAD//wAAAAAAAAAAAAAAAAEAAAAAAAAAAAAAAAAAAAAAAAAAAAAAAAAAAAD//////v///wAAAAAAAAAA///+///////+////AAAAAAAAAAD///////////////////7//v/9//3///8AAAAAAAAAAAAAAAAAAAAAAQAAAAAAAAAAAAAAAAAAAAAAAAAAAAAAAAAAAAAAAAAAAAAAAAAAAAAAAAAAAAAAAAAAAAAAAAAAAAAAAAAAAAEAAQAAAAAA//8AAAAAAAAAAAAAAAAAAAAAAAAAAAAAAAAAAAAAAAAAAAAAAAAAAAAAAAAAAAAAAAAAAAAAAAAAAAAA/////wAAAAAAAAAAAAAAAAAAAAAAAAAAAAAAAAAAAAAAAAAAAAAAAAAAAQAAAAAAAQAAAAAAAAAAAAAAAAAAAAAAAAAAAAAAAAAAAAAAAAAAAAAAAAAAAAAA/v/+/////v/+/wAAAAAAAAAAAAAAAP7//v8AAAAA/v/+/////////////v/+/////v/+/////v///wAA///+/wAAAAAAAAAAAAAAAAAAAAAAAAAAAAAAAAAA///9////AAAAAAAAAAAAAAAAAQABAAAAAAAAAAAAAQAAAAAAAQAAAAAAAAAAAAAAAAAAAAAAAAAAAAAAAAAAAAAAAAAAAAAAAAABAAEAAQABAAAAAAAAAAAAAAAAAAAAAAAAAAAAAAAAAAAAAAAAAAAAAAAAAAAAAAAAAAAA//////////////////////7//v/9//3///8AAAAAAAAAAAAAAAAAAAAAAAAAAAAA/v/+////AAAAAAAAAAAAAAAAAAAAAAAAAAAAAAAAAAAAAAAAAAAAAAAAAAAAAAAAAAAAAAEAAQABAAEAAAAAAAAAAAAAAAAAAAABAAAAAAAAAAAAAAAAAAAAAAAAAAAAAAAAAAAAAAAAAAAAAAD///3///8AAP///f///////v///////v8AAAAAAAAAAAAAAAAAAAAAAAAAAAAAAAAAAP/////////////+//7//f/+/wAAAAAAAAAAAAAAAAAAAAAAAAAAAAAAAAAAAAAAAAAAAAAAAAAAAAAAAAAAAAAAAAAAAAAAAAAAAAAAAAAAAAABAAAAAAAAAAAAAAABAAAAAAAAAAAAAAAAAAAAAAAAAAAAAAAAAAAAAAAAAAAAAAAAAAAAAAAAAAEAAAAAAAAAAAAAAAAAAAAAAAAAAAAAAAAAAAAAAAAAAAAAAAAAAAAAAAAAAAAAAAAAAAAAAAAAAAAAAAAAAAAAAAAAAAAAAAAA//////7//v8AAAAAAAAAAAAAAAAAAP///v///wAAAAAAAAAAAAAAAAAAAAAAAAAAAAD//wAAAAAAAAAAAAAAAAAAAAAAAAAAAAABAAAAAAABAAAAAAAAAAEAAAAAAAAAAQAAAAAAAQAAAAAAAQAAAAAAAQABAAAAAAABAAAAAAAAAAAAAAAAAAAA//////////////7///8AAAAAAAAAAAAAAAD////////+////AAD///3///////7///////7/AAAAAAAAAAAAAAAAAAAAAAAAAAAAAAAAAAAAAAAAAAAAAAAAAAAAAAAAAQAAAAAAAQAAAAAAAQAAAAAAAAAAAAAAAAAAAP//AAAAAAAAAAAAAAAAAAAAAAAAAAAAAAAAAAAAAAAAAAAAAAAAAAAAAAAA///+////AAAAAAAAAAD+//7/AAAAAAAAAAAAAAAAAAAAAAAAAAAAAAAAAAAAAAAAAAAAAAAAAAAAAAAAAAAAAAAAAAAAAAAAAAAAAAAAAAAAAAAAAAAAAAAAAAAAAAAAAAAAAAAAAAAAAAAAAAAAAAAAAAAAAAAAAAAAAAAAAAAAAAAAAAAAAAAAAAAAAAAAAAAAAAAAAAAAAAAAAAAAAP/////+//7/AAAAAP////8AAAAAAAAAAAAAAAAAAAAAAAAAAAAAAAAAAAAAAAAAAAAAAAAAAAAAAAAAAAAAAAAAAAAAAQAAAAAAAAAAAAAAAAAAAAAAAAAAAP///v/+/wAAAAAAAAAAAAAAAAAAAAAAAAAAAAAAAAAAAAAAAAAAAAAAAAAAAAAAAAAAAAAAAAAAAAAAAAAAAAAAAAAAAAAAAAAAAAAAAAAAAAAAAAAAAAAAAAAAAAAAAAAAAAAAAAAAAAAAAAAAAAAAAAAAAAAAAAAAAAAAAAAAAAAAAAAAAAAAAAAA/////wAAAAAAAAAAAAAAAAAAAAAAAAAAAAAAAAAAAAAAAAAAAAAAAAAAAAAAAAAAAAAAAAAAAAAAAAAAAAAAAAAAAAAAAAAAAAAAAAAAAAAAAAAAAAAAAAAAAAAAAAAAAAAAAAAAAAAAAAAAAAAAAAAAAAAAAAAAAAAAAAAAAAAAAAAAAAAAAAAAAAAAAAAAAAAAAAAAAAAAAAAAAAAAAAAAAAAAAAAAAAAAAAAAAAAAAAAAAAAAAAAAAAAAAAAAAAAAAAAAAAAAAP/////+//7/AAAAAAAAAAAAAAAAAAAAAAAAAAAAAAAAAAAAAAAAAAAAAAAAAAAAAAAAAAAAAAAAAAAAAAAAAAAAAAAAAQABAAAAAAAAAAAAAAAAAAAAAAABAAAAAAAAAAAAAAAAAAAAAAAAAAAAAAAAAAAAAAD////////+////AAD///3///////7//f///wAAAAAAAAAAAAD//wAAAAAAAAAAAAAAAAAAAAAAAAAAAAAAAAAAAAAAAAAAAAAAAAAAAAAAAAAAAAAAAAAAAAAAAAAAAAABAAAAAAAAAAEAAAAAAAAAAAAAAAAAAAAAAAAAAAAAAAAAAAAAAAAAAAAAAAAAAAAAAAAAAAAAAAAAAAAAAAAAAAAAAAAAAAAAAAAAAAAAAAAAAAAAAAAAAAAAAAAAAAAAAAAAAAAAAAAAAAAAAAAAAAAAAAAAAAAAAAAAAAAAAAAAAAAAAAAAAAAAAAAAAAD//wAAAAD///7//v////7//f///wAAAAAAAAAAAAAAAAAAAAAAAAAAAAAAAAAAAAAAAAAAAAAAAAAAAAAAAAAAAAAAAAAAAAAAAAAAAAAAAAAAAAAAAAAAAAAAAAAAAAAAAAAAAAAAAAAAAAAAAAAAAAAAAAAAAAAAAAAAAAAAAAAAAAAAAAAAAAAAAAEAAQAAAAAAAAAAAAEAAAAAAAAAAAAAAAAAAAAAAAAAAAAAAAAAAAAAAAAAAAAAAAAAAAAAAAAAAAAAAAAAAAD/////////////AAD+//7////+//7/AAAAAAAAAAAAAAAAAAAAAAAAAAAAAAAAAAAAAAAAAAAAAAAAAAAAAAAAAAAAAAAAAAAAAAAAAAABAAAAAAAAAAAAAAAAAAAAAAAAAAAAAAAAAAAAAAAAAAAAAAAAAP///v///wAAAAD///////////7//v/9//3///8AAAAAAAAAAAAAAAAAAAAAAAAAAAAAAAAAAAAAAAAAAAAAAAAAAAAAAAAAAAAAAAAAAAAAAQAAAAAAAQAAAAAAAAAAAAAAAAAAAAAAAAAAAAAAAAAAAAAAAAAAAAAAAAAAAAAAAAD//wAAAAD///3//f///wAAAAAAAAAAAAAAAAAAAAAAAAAAAAAAAAAAAAAAAAAAAAAAAAAAAAAAAAAAAAAAAAAAAAAAAAAAAAAAAAAAAAAAAAAAAAAAAAAAAAAAAAAAAAAAAAAAAAAAAAAAAAAAAAAAAAAAAAAAAAAAAAAAAAAAAAAAAAAAAAAAAAAAAAAAAAAAAAAAAAAAAAAAAAAAAAAAAAAAAAAAAAAAAAAAAAAAAAAAAAAAAAAAAAAAAAAAAAAAAAAAAAAAAAAAAAAAAAAAAAD+//7////+//7/AAAAAAAAAAAAAAAAAAAAAAAAAAAAAAAAAAAAAAAAAAAAAAAAAAAAAAAAAAAAAAAAAAAAAAAAAAAAAAAAAAAAAAAAAAAAAP//AAAAAAAAAAAAAAAAAAAAAAAAAAAAAP///v///wAAAAAAAAAA///9////AAAAAAAAAAAAAP//AAAAAP///v/9//7/AAAAAAAAAAAAAAAAAAAAAAAAAAAAAAAAAAAAAAEAAQABAAEAAAAAAAAAAAAAAAAAAAAAAAAAAAAAAAAAAAAAAAAAAAAAAAAAAAAAAAAAAAAAAAAAAAAAAAAAAAAAAAAAAAAAAAAAAAAAAAAAAAAAAAAAAAAAAAAAAAAAAAAAAAAAAAAAAAAAAAAAAAAAAAAAAAAAAAAAAAD//wAAAAAAAAAAAAAAAAAAAAAAAAAAAAAAAAAAAAAAAAAAAAAAAAAAAAAAAAAAAAAAAAAAAAAAAAAAAAAAAAAAAAAAAAAAAAAAAAAAAAAAAAAA///+//7/AAAAAAAA/v/+////AAAAAAAAAAAAAAAAAAAAAAAAAAAAAAAAAAAAAAAAAAAAAAAAAAAAAAAAAAAAAAAAAAAAAAAAAAAAAAAAAAAAAAAAAAAAAAAAAAAAAAAAAAAAAAAAAQAAAAAAAAAAAAAAAAAAAAAAAAAAAAAAAAAAAAAAAAAAAAAAAAAAAAAAAAAAAAAAAAAAAAAAAAAAAAAAAAAAAP///v///wAAAAAAAAAAAAAAAAAAAAAAAAAAAAAAAAAAAAAAAAEAAAAAAAAAAAAAAAAAAAAAAAAAAAAAAAAAAAAAAAAAAQAAAAAAAAAAAAAAAAAAAAAAAAAAAAAAAAAAAAAAAAAAAAAAAAAAAAAAAAAAAAAAAAAAAAAAAAAAAAAAAAAAAAAAAAAAAAAAAAD////////+////AAAAAAAAAAAAAAAAAAAAAAAAAAAAAAAAAQAAAAAAAAABAAAAAAAAAAAAAAAAAAAAAAAAAAAA//8AAAAAAAAAAAAAAAAAAAAAAAAAAAAAAAAAAAAAAAAAAAAAAAAAAAAAAAAAAAAAAAAAAAAAAAAAAAAAAAAAAAEAAAAAAAAAAAAAAAAAAAAAAAAAAAAAAAAAAAAAAAAAAAAAAP//AAAAAAAAAAAAAAAAAAAAAAAAAAAAAAAAAAD//wAAAAD+//7////+//3//v/+//3//v8AAAAAAAAAAAAAAAAAAAAAAAAAAAAAAAAAAAAAAAAAAAAAAAAAAAAAAAAAAAAAAAAAAAAAAAAAAAAAAAAAAAAAAAAAAAAAAAAAAAAAAAAAAAAAAAAAAAAAAAAAAAAAAQAAAAAAAAABAAEAAAAAAAAAAAAAAAAAAAAAAAAAAAAAAAAAAAAAAAAAAAAAAP/////+//7///8AAAAAAAAAAAAAAAAAAAAAAAD//wAAAAAAAAAAAAAAAAAAAAAAAAAAAAAAAAAAAAAAAAAAAAAAAAAAAAAAAAAAAAAAAAAAAAAAAAAAAAAAAAAAAQAAAAAAAAAAAAAAAAAAAAAAAAAAAAAAAAAAAAAAAAAAAAAAAAAAAAAAAAAAAAAAAAAAAAAAAAAAAAAAAAAAAAAAAAAAAAAAAAAAAAAAAAAAAAAAAAAAAP//AAAAAAAAAAD/////AAAAAAAAAAAAAAAAAAAAAAAAAAAAAAAAAAAAAAAAAAAAAAAAAAAAAAAAAAAAAAAAAAAAAAAAAAAAAAAAAAAAAAAAAAAAAAAAAAAAAAAAAAAAAAAAAAAAAAAAAAAAAAAAAAAAAAAAAAAAAAAAAAAAAAAAAAAAAAAAAAAAAAAAAAAAAAAAAAD//wAAAAAAAAAAAAAAAAAAAAAAAAAAAAAAAAAAAAAAAAAAAAAAAAAAAAAAAAAAAAAAAAAAAAAAAAAAAAAAAAAAAAAAAAAAAAAAAAAAAAAAAAAAAAAAAAAAAAAAAAAAAAAAAAAAAAAAAAAAAAAAAAAAAAAAAAAAAAAAAAAAAAAAAAAAAAAAAAAAAAAAAAAAAAAAAAAAAAAAAAAAAAAAAAAAAAAAAP//AAAAAAAAAAAAAAAAAAAAAAAAAAAAAAAAAAAAAAAAAAAAAAAAAAAAAAAAAAAAAAAAAAAAAAAAAAAAAAAAAAAAAAAAAAAAAAAAAAAAAAAAAAAAAAAAAAAAAAAAAAAAAAAAAAAAAAAAAAAAAAAAAAAAAAAAAAAAAAAAAAAAAAAAAQAAAAAAAAAAAAAAAAAAAAAAAAAAAAAAAAAAAAAAAAAAAAAAAAAAAAAAAAAAAAAAAAAAAAAAAAAAAAAAAAAAAAAAAAAAAAAAAAAAAAAAAAAAAAAAAAAAAP////////7///8AAAAAAAAAAAAAAAAAAAAAAAAAAAAAAAAAAAAAAAAAAAAAAAAAAAAAAAAAAAAAAAAAAAAA//8AAAAAAAAAAAAAAAAAAAAAAAAAAAAAAAABAAAAAAAAAAEAAAAAAAAAAAAAAAAAAAAAAAAAAAAAAP///v///wAAAAAAAAAAAAAAAAAAAAAAAAAAAAAAAAAAAQABAAEAAAAAAAAAAAAAAAAAAAAAAP//AAAAAAAAAAAAAAAAAAAAAAAAAAAAAAAAAAAAAAAAAAAAAAAAAAAAAAAAAAAAAAAAAAAAAAAAAAAAAAAA//////7///8AAAAAAAAAAAAAAAAAAAAAAAAAAAAAAAAAAAAAAAAAAAAAAAAAAAAAAAAAAAAAAAAAAAAAAAAAAAAAAAAAAAAAAAAAAAAAAAAAAAAAAAAAAAAAAAAAAAAAAAAAAAAAAAAAAAAAAAAAAAAAAAAAAAAAAQAAAAAAAAAAAAAAAAAAAAAAAAAAAAAAAAAAAAAAAAAAAAAA///+////AAAAAP//AAAAAAAAAAAAAAAAAAAAAAAAAAAAAAAAAAAAAAAAAAAAAAAA/////////////////v/+//3//v///wAAAAAAAAAAAAAAAAAAAAAAAAAAAAAAAAAAAAAAAAAAAAAAAAAAAAAAAAAAAAAAAAAAAAAAAAAAAAAAAAAAAAAAAAAAAAAAAAAAAAAAAAAAAAABAAAAAAABAAAAAAAAAAAAAAAAAAAAAAAAAAAAAAAAAAAAAAAAAAAAAAAAAAAAAAAAAAAAAAAAAAAAAAAAAAAAAAAAAAAAAAAAAAAAAAAAAAAAAAAAAAAAAAAAAAAAAAAAAAAAAAAAAAAAAAAAAAAAAAAAAP////8AAP7//v////7//v8AAAAA/v/+/wAAAAAAAAAAAAAAAAAAAAAAAAAAAAAAAAAAAAAAAAAAAAAAAAAAAAAAAAAAAAAAAAAAAAAAAAAAAAAAAAAAAAAAAAAAAAAAAAAAAAAAAAAAAAAAAAAAAAAAAAAAAAAAAAAAAAAAAAAAAAAAAAAAAAAAAAAAAAAAAAAAAAAAAAAAAAAAAAAAAAAAAAAAAAAAAAAAAAAAAAAAAAAAAAAAAAAAAAAAAAAAAAAAAAAAAAAAAAAAAAAAAAAAAAAAAAAAAAAAAAAAAAAAAAAAAAAAAAAAAAAAAAAAAAAAAAAAAAAAAAAAAAAAAAAAAAAAAAAAAAAAAAAAAAAAAAAAAAAAAAAAAAAAAAAAAAAAAAAAAAAAAAAAAAAAAQABAAAAAAAAAAAAAAAAAAAAAAAAAAAAAAAAAAAAAAAAAAAAAAAAAAAAAAAAAAAAAAAAAAAAAAAAAAAAAAAAAAAAAAAAAAAAAAAAAAAAAAAAAAAAAAAAAAAAAAAAAP////8AAAAA/////////v///wAAAAAAAAAAAAAAAAAAAAAAAAAAAAAAAAAAAAAAAAAAAAAAAAAAAAAAAAAAAAAAAAAAAAAAAAAAAQABAAAAAAAAAAAAAAAAAAAAAAAAAAAAAAAAAAAAAAAAAAAAAAAAAAAAAAAAAAAAAAAAAAAAAAAAAAAAAAAAAAAAAAAAAAAAAAAAAAAAAAAAAAAAAAAAAAAAAAAAAAAAAAAAAAAAAAAAAAAAAAAAAAAAAAAAAAAAAAAAAAAAAAAAAAAAAAAAAAAAAAAAAAAAAAAAAAAAAAAAAAAAAAAAAAAAAAAAAAAAAAAAAAAAAAAAAAEAAAAAAAAAAAABAAAAAAAAAAAAAAAAAAAAAAAAAAAAAAAAAAAAAAAAAAAAAAAAAAAAAAAAAAAAAAAAAAAA/////wAAAAAAAAAAAAAAAAAAAAAAAAAAAAAAAAAAAAAAAAAAAAAAAAAAAAAAAAAAAAAAAAAAAAAAAAAAAAAAAAAAAAAAAAAAAAAAAAAAAAAAAAAAAAAAAAAAAAAAAAAAAAAAAAAAAAAAAAAAAAAAAAAAAQAAAAAAAAAAAAAAAAAAAAAAAAAAAAAAAAAAAAAAAAAAAAAAAAAAAAAAAAAAAAAAAAAAAAAAAAAAAAAAAAAAAAAAAAAAAAAAAAAAAP////8AAAAA/v/+/wAAAAAAAAAAAAAAAAAAAAAAAAAAAAAAAAAAAAAAAAAAAAAAAAAAAAAAAAAAAAAAAAAAAAAAAAAAAAAAAAAAAAAAAAAAAAAAAAAAAAAAAAAAAAAAAAAAAAAAAAAAAAAAAAAAAAAAAP//AAAAAAAAAAAAAP//AAAAAAAAAAAAAAAAAAAAAAAAAAAAAAAAAAAAAAAAAAAAAAAAAAAAAAAAAAAAAAAAAAAAAAAAAAAAAAAAAAAAAAAAAAAAAAAAAAAAAAAAAAAAAAAAAAAAAAAAAAAAAAAAAAAAAAAAAAAAAAAAAAAAAAAAAAAAAAAAAAAAAAAAAAAAAAAAAAAAAAAAAAAAAAAAAAAAAAAAAAAAAAAAAAAAAAAAAAAAAAAA///+////AAAAAAAAAAAAAAAAAAAAAAAAAAAAAAAAAAAAAAAAAAAAAAAAAAAAAAAAAAAAAAAAAAAAAAAAAAAAAP////////////////7//v/9//3///8AAAAAAAAAAAAAAAAAAAAAAAAAAAAAAAAAAAAAAAAAAAAAAAAAAAAAAAAAAAAAAAAAAAAAAAAAAAAAAAAAAAAAAAAAAAAAAAAAAAAAAAAAAAEAAAAAAAAAAAAAAAAAAAAAAAAAAAAAAAAAAAAAAAAAAAAAAAAAAAAAAAAAAAAAAAAAAAAAAAAAAAAAAAAAAAAAAAAAAAAAAAAAAAAAAAAAAAAAAAAAAAAAAAAAAAAAAAAAAAAAAAAAAAAAAAAAAAAAAAAAAAAAAAAAAAAAAAAAAAAAAAAAAAAAAAAAAAAAAAAAAAAAAAAAAAAAAAAAAAAAAAAAAAAAAAAAAAAAAAAA//////////////7///8AAAAAAAAAAAAAAAAAAAAAAAAAAAAAAAAAAAAAAAAAAAAAAAAAAAAAAAAAAAAAAAAAAAAAAAAAAAAAAAAAAAAAAAAAAAAAAAAAAAAAAAAAAAAAAAAAAAAAAAAAAAAAAAAAAAAAAAAAAAAAAAAAAAAAAAAAAAAAAAAAAAAAAAAAAAAAAAAAAAAAAAABAAAAAAAAAAEAAAAAAAAAAAAAAAAAAAAAAAAAAAAAAAAAAAAAAAAAAAAAAP///v///wAAAAD//wAAAAAAAAAAAAD+//7///8AAAEAAAD8//r///8EAAMA///+/wAAAAAAAAAA/v/8////AQAAAP///v/+/wAAAgACAAAA/v/+////AAAAAP///v/+/wAAAQAAAP7//v///wAAAAD9//z///8AAAAAAAD///3///8BAAEAAAAAAAAAAAABAAAAAAAAAAAAAAABAAAAAAAAAAAAAAAAAAAAAAAAAAAAAQAAAAAAAAAAAAAAAAAAAAAAAAAAAAAAAAAAAAAAAAAAAAAAAAAAAAAAAAAAAAAAAAAAAAAAAAAAAAAAAAAAAAAAAAD//wAAAAAAAAAAAAD//////v///wAAAAD//wAAAAAAAAAAAAAAAAAAAAAAAAAA/v/+/wAAAAAAAAAAAAAAAAAAAAAAAAAAAAAAAAAAAAAAAAAAAAAAAAAAAAAAAAAAAAAAAAAAAAAAAAAAAAAAAAAAAAAAAAAAAAAAAAAAAAAAAAAAAAAAAAAAAAAAAAAAAAAAAAAAAAAAAAAAAAAAAAAAAAAAAAAAAAAAAAAAAAAAAAAAAAAAAAAAAAAAAAAAAAAAAAAAAAAAAAAAAAAAAAAAAAAAAAAAAAAAAAAAAAAAAAAA/////////v///wAA///9////AAAAAAAAAAAAAAAAAAAAAAAAAAAAAAAAAAAAAAAAAAAAAAAAAAAAAAAAAAAAAAAAAAAAAAAAAAAAAAAAAAAAAAAAAAAAAAAAAAAAAAAAAAAAAAAAAAAAAAAAAAAAAAAAAAAAAAAAAAD///7///8AAAAAAAAAAP//AAAAAAAAAAAAAAAAAAD///7//v8AAAAAAAAAAAAAAAAAAAAAAAAAAAAAAQAAAAAAAAAAAAAAAAAAAAAAAAAAAAAAAAAAAAAAAAAAAAAAAAAAAAAAAQAAAAAAAAAAAAAAAQABAAAAAAAAAAAAAAAAAAAAAAAAAAAAAAAAAAAAAAAAAAAAAAAAAAAAAAAAAAAA//8AAAAAAAAAAAAAAAAAAP///v/+/////v///wAAAAAAAAAAAAAAAAAAAAAAAP//AAAAAAAAAAAAAAAAAAAAAAAAAAAAAAAAAAAAAAAAAAAAAAAAAAAAAAAAAAAAAAAAAAAAAAAAAAAAAAAAAAAAAAAAAAAAAAAAAAAAAAAAAAAAAAAAAAAAAAAAAAAAAAAAAAAAAAAAAAAAAAAAAAAAAAAAAAAAAAAAAAAAAAAAAAAAAAAAAAAAAAAAAAAAAAAAAAAAAAAAAAAAAAAAAAAAAAAAAAAAAAAAAAAAAAAAAAAAAAAAAAAAAAAAAAAAAAAAAAAAAAAAAAAAAAAAAAAAAAAAAAAAAAAAAAAAAAAAAAD///////////7///8AAAAAAAAAAAAAAAAAAAAAAAAAAP7//v8AAAAAAAAAAAAAAAAAAAAAAAAAAAAAAAAAAAAAAAAAAAAAAAAAAAAAAAAAAAAAAAAAAAAAAAAAAAAAAAAAAAAAAQABAAEAAQAAAAAAAAAAAAAAAAAAAP//AAAAAAAA//8AAAAAAAD//wAAAAAAAAAAAAAAAAAAAAAAAAAAAAAAAAAAAAAAAAAAAAAAAAAAAAAAAAAAAAAAAAAAAAAAAAAAAQAAAAAAAAAAAAAAAAAAAAAAAAAAAAAAAAAAAAAAAAAAAAAAAAAAAAAAAAAAAAAA/v/+/wAAAAD//wAAAAAAAP///v///wAAAAAAAAAAAAAAAAAAAAAAAAAAAAAAAAAAAAAAAAAAAAAAAAAAAAAAAAAAAAAAAAAAAAAAAAAAAAAAAAAAAAAAAAAAAAAAAAAAAAAAAAAAAAAAAAAAAAAAAAAAAAAAAAAAAAAAAAAAAAAAAAAAAAAAAAAAAAAAAAAAAAAAAAAAAAAAAAAAAAAAAAAAAAAAAAAAAAAAAAAAAAAAAAAAAAAAAAAAAAAAAAEAAAAAAAAAAAAAAAAAAAAAAAAAAAAAAAAAAAAAAAAAAAAAAAAAAAAAAAAAAAAAAAAAAAAAAAAAAAAAAP///v///wAAAAAAAP7//v8AAAAAAAD//wAAAAAAAAAAAAAAAAAAAQAAAAAAAAAAAAAAAAAAAAAAAAAAAAAAAAAAAAAAAAAAAAAAAAAAAAAAAAAAAAAAAAAAAAAAAAAAAAAAAAAAAAAAAAAAAAAAAAAAAAAAAAAAAAAAAAAAAAAAAAAAAP//AAAAAAAAAAAAAAAAAAAAAAAAAAAAAAAAAAAAAAAAAAAAAAAAAAAAAAAAAAAAAAAAAAAAAAAAAAAAAAAAAAAAAAAAAAAAAAAAAAAAAAAAAAAAAAAAAAAAAAAAAAAAAAAAAAAAAAAAAAAAAAEAAAAAAAAAAAAAAAAAAAAAAAAAAAAAAAAAAAAAAAAAAAAAAAAAAAAAAAAAAAAAAAAAAAAAAAAAAAABAAAAAAAAAAAAAAAAAAAAAAAAAAAAAAAAAP7//v8AAAAAAAAAAAAAAAAAAAAAAAAAAAAAAAAAAAAAAAAAAAAAAAAAAAAAAAAAAAAAAAAAAAAAAAAAAAAA///+////AAAAAAAAAAAAAAAAAAAAAAAAAAAAAAAAAAAAAAAAAAAAAAAAAAAAAAAAAAAAAAEAAAAAAAAAAAAAAAAAAAAAAAAAAAAAAAAAAAAAAAAAAAABAAAAAAAAAAAAAAAAAAAAAAAAAAAAAAAAAAAAAAAAAP///v/+/wAAAAAAAAAAAAAAAAAAAAAAAAAA//8AAAAAAAAAAAAAAAAAAAAAAAAAAAAAAAAAAAAAAAD/////AAD///7///8AAAAAAAAAAAAAAAAAAP7//v8AAAAAAAAAAAAAAAAAAAAAAAABAAAAAAAAAAAAAAAAAAAAAAAAAAAAAAAAAAEAAAAAAAEAAQAAAAAAAAAAAAAAAAAAAAAAAAAAAAAAAAAAAAAAAAAAAAAAAAAAAAAAAAAAAAAAAAD///////////7//f/+/wAAAAAAAAAAAAAAAAAAAAAAAAAAAAAAAAAAAAAAAAAAAAAAAAAAAAAAAAEAAAAAAAAAAAAAAAAAAAAAAAAAAAAAAAAAAAAAAAAAAAAAAAAAAAAAAAAAAAAAAAAAAAAAAAAAAAAAAAAAAAAAAAAAAAAAAP/////////////+//7//f/+/wAAAAAAAAAAAAAAAAAAAAAAAAAAAAAAAAAAAAAAAAAAAAAAAAAAAAAAAAAAAAAAAAAAAAAAAAAAAAAAAAAAAAAAAAAAAAAAAAAAAAAAAAAAAAAAAAAAAAAAAAAAAAAAAAAAAAAAAAAAAAAAAAAAAAAAAAAAAAAAAAAAAAD//wAAAAAAAAAAAAAAAAAAAAAAAAAAAAAAAAAAAAAAAAAAAAAAAAAAAAAAAAAAAAAAAAAAAAAAAAAAAAAAAAAAAAAAAAAAAAAAAAAAAAAAAAAAAAAAAAAAAQABAAEAAQAAAAAAAAAAAAAA//////7//v8AAAAAAAAAAAAAAAAAAAAAAAAAAAAAAAAAAAAAAAAAAAAAAAAAAAAAAAAAAAAAAAAAAAAAAAAAAAAAAAAAAAAAAAAAAAAAAAAAAAAAAAAAAAAAAAAAAAAAAAAAAAAAAAAAAAAAAAAAAAAAAAAAAAAAAAAAAAAAAAAAAAAAAAAAAAAAAAAAAAAAAAAAAAAAAAAAAAAAAAAAAAAAAAAAAAAAAAAAAAAAAAAAAAAAAAAAAAAAAAAAAAAA//8AAAAAAAD//wAAAAAAAAAAAAAAAAAAAAAAAAAAAAAAAAAAAAAAAAAAAAAAAAAAAAABAAEAAAAAAAAAAAAAAAAAAAAAAAAAAAAAAAAAAAAAAAAAAAAAAAAAAAAAAAAAAAAAAP///////////v/9////AAAAAAAAAAAAAAAAAAAAAAAAAAAAAAAAAAAAAAAAAAAAAAAAAAAAAAAAAAAAAAAAAAAAAAAAAAAAAAAAAAAAAAAAAAAAAAAAAAAAAAAAAAAAAAAAAAAAAAAAAAAAAAAAAAAAAAAAAAAAAAAAAAAAAAAAAAAAAAAAAAAAAAAAAAAAAAAAAAAAAAAAAAAAAAAAAAAAAAAAAAAAAAAAAAAAAAAAAAAAAAAAAAAAAAAAAAAAAAAAAAAAAAAAAAAAAAAAAAAAAAAAAAAAAAAAAAAAAAAAAAAAAAAAAAAAAAAAAAAAAAAAAAAAAAAAAAAAAAAAAAAAAAAAAAAAAAAAAAAAAAAAAAAAAAAAAAAAAAAAAAAAAAAAAAAAAAAAAAAAAAAAAAAAAAAAAAAAAAAAAAAAAAAAAAAAAAAAAAAAAAAAAAAAAAAAAAAAAAAAAAAAAAAAAAAAAAAAAAAAAAAAAAAAAAAAAAAAAAAAAAAAAAAAAAAAAAAAAAAAAAAAAAAAAAAAAAAAAAAAAAAAAAAAAAAAAAAAAAAAAAAAAAAAAAAAAAAAAAAAAAAAAAAAAAAAAAAAAAAAAAAAAAAAAAAAAAAAAAAAAAAAAAAAAAAAAAAAAAAAAP/////+////AAAAAAAAAAAAAAAAAAAAAAAAAAAAAAAAAAAAAAAAAAAAAAAAAAAAAAAAAAAAAAAAAAAAAAAAAAAAAAAAAAAAAAAAAAAAAAAAAAAAAAAAAAAAAAAAAAAAAAAAAAAAAAAAAAAAAAAAAAAAAP////8AAAAAAAAAAAAAAAAAAAAAAAAAAAAAAQAAAAAAAAAAAAAAAAAAAAAAAAAAAAAAAAAAAAAAAAAAAAAAAAAAAAAAAAAAAAAAAAAAAAAAAAAAAAAA///+//7/AAAAAAAAAAAAAAAAAAAAAAAAAAAAAAAAAAAAAAAAAAAAAAAAAAAAAAAAAAAAAAAAAAAAAAAAAAAAAAAAAAAAAAAAAAAAAAAAAAAAAAAAAAAAAAAAAAAAAAAAAAAAAAAAAAAAAAAAAAAAAAAAAAAAAAAAAAAAAAEAAAAAAAAAAAAAAAAAAAAAAAAAAAAAAAAAAAAAAAAAAAAAAAAAAAAAAAAAAAAAAAAAAAAAAAAAAAAAAAAAAAAAAAAAAAAAAAAAAAAAAAAAAAAAAAAAAAAAAAAAAAAAAAAAAAAAAAAAAAAAAAAAAAAAAAAAAAD/////AAAAAAAAAAAAAAAAAAAAAAAAAAAAAAAAAAAAAAAAAAAAAAAAAAAAAAAAAAAAAAAAAAAAAAAAAAAAAAAAAAAAAAAAAAAAAAAAAAAAAAAAAAAAAAAAAAAAAAAAAAAAAAAAAAAAAAAAAAAAAAAAAAAAAAAAAAAAAAAAAAAAAAAAAAAAAAAAAAAAAAAAAAAAAAAAAAAAAAAAAAAAAAAA/////////v///wAAAAAAAAAAAAAAAAAAAAAAAAAAAAAAAAAAAAAAAAAAAAAAAAAAAAAAAAAAAAAAAAAAAAAAAAAAAAAAAAAAAAAAAAAAAAAAAAAAAAAAAAAAAAAAAAAAAAAAAAAAAAAAAAAAAAAAAAAAAAAAAAAAAAAAAAAAAAAAAAAAAAAAAAAAAAAAAAAAAAAAAAAAAAAAAAAAAAAAAAAAAAAAAAAAAAAAAAAAAAAAAAAAAAD//wAAAAAAAAAAAAAAAAAAAAAAAAAAAAAAAAAAAAAAAAAAAAAAAAAAAQABAAAAAAAAAAAAAAAAAAAAAAAAAAAAAAAAAAAAAAAAAAAAAAAAAAAAAAAAAAAAAAAAAAAAAAAAAAAAAAAAAAAAAAAAAAAAAAAAAAAAAAAAAAAAAAAAAAAAAAAAAAAAAAAAAAAAAAAAAAAAAAAAAAAAAAAAAAAAAAAAAAAAAAAAAAAAAAAAAAAAAAAAAAAAAAAAAAAAAAAAAAAAAAAAAAAAAAAAAAAAAAAAAAAAAAAAAAAAAAAAAAAAAAAAAAAAAAAAAAAAAAAAAAAAAAAAAAAAAAAAAAAAAAAAAAAAAAAAAAAAAAAAAAAAAAAAAAAAAAAAAAAAAAAAAAAAAAAAAAAAAAAAAAAAAAAAAAAAAAAAAAAAAAAAAAAAAAAAAAAAAAAAAAAAAAAAAAAAAAAAAAAAAAAAAAAAAAAAAAAAAAAAAAAAAAAAAAAAAAAAAAAAAAAAAAAAAAAAAAAAAAAAAAAAAAAAAAAAAAAAAAAAAAAAAAAAAAAAAAAAAAAAAAAAAAAAAAAAAAAAAAAAAAAAAAAAAAAAAAAAAAAAAAAAAAD////////+//7/AAAAAAAAAAAAAAAAAAAAAAAAAAAAAAAAAAAAAAAAAAAAAAAAAAAAAAAAAAAAAAAAAAAAAAAAAAAAAAAAAAAAAAAAAAAAAAAAAAAAAAAAAAAAAAAAAAAAAAAAAAAAAAAAAAAAAAAAAAAAAAAAAAAAAAAAAAAAAAAAAAAAAAAAAAAAAAAAAAAAAAAAAAAAAAAAAQAAAAAAAAAAAAAAAAAAAAAAAAAAAAAAAAAAAAAAAAAAAAAAAAAAAAAAAAAAAAAAAAAAAAAA/////wAAAAAAAAAAAAD////////+////AAD//wAAAAAAAAAAAAAAAAAAAAAAAAAAAAAAAAAAAAAAAAAAAAAAAAAAAAAAAAAAAAAAAAEAAAAAAAAAAAAAAP//AAAAAAAA//8AAAAAAAAAAAAAAAAAAAAAAAAAAAAAAAAAAAAAAAAAAAAAAAAAAAAAAAAAAAAAAAAAAAAAAAAAAAAAAAAAAAAAAAAAAAAAAAAAAAAAAAAAAAAAAAAAAAAAAAAAAAAAAAAAAAAAAAAAAAAAAAAAAAAAAAAAAAAAAAAAAAAAAAAAAAAAAAAAAAAAAAAAAAAAAAAAAAAAAAAAAAAAAAAAAAAAAAAAAAAAAAAAAAAAAAAAAAAAAAAAAAAAAAAAAAAAAAAAAAAAAAAAAAEAAQAAAAAAAQABAAAAAAAAAAAAAAAAAAAAAAAAAAAAAAAAAAEAAAAAAAAAAAAAAAAA//8AAAAAAAAAAAAAAAAAAAAAAAAAAAAAAAAAAP//AAAAAAAAAAAAAAAAAAAAAAAAAQAAAAAAAAAAAAAAAAAAAAAAAAAAAAAAAAAAAAAAAAAAAAAAAAAAAAAAAAAAAP///v///wAAAAAAAAAAAAAAAAAAAAAAAAAAAAAAAAAA/////wAAAAAAAP7//v///wAA///9/wAAAAD//wAAAAAAAP//AAAAAAAAAAAAAAAAAAAAAAAAAAAAAAAAAAAAAAAAAAAAAAAAAAAAAAAAAAAAAAAAAAAAAAAAAAAAAAEAAAAAAAAAAAAAAAAAAAAAAAAAAQAAAAAAAQAAAAAAAQAAAAAAAAD//wAAAAD///7/AAAAAAAAAAAAAAAAAAAAAAAAAAAAAAAAAAAAAAAAAAAAAAAAAAABAAEAAAAAAAAAAAAAAAAAAAAAAAAAAAAAAAEAAAAAAAAAAAAAAAAAAAAAAAAA//8AAAAAAAAAAAAAAAAAAAAAAAAAAAAA/////wAA/v/+/////v/+/wAAAAD//wAAAAAAAAAAAAAAAAAAAAAAAP///f///wEAAQAAAAAAAAAAAAAAAAAAAAAAAAAAAAAAAAAAAAAAAAAAAAAAAAABAAAAAAAAAAAAAAAAAAAAAAAAAAAAAAAAAAEAAAD//wAAAAAAAAAAAAAAAAAAAAAAAAAAAAAAAAAAAAAAAP////8AAAEAAAAAAAAAAAD///7//v8AAP///P/+/wAA///9/wAAAAAAAAAAAAAAAAAAAAAAAAAAAQAAAAAAAQAAAAAAAAAAAAEAAAAAAAAAAAAAAAAAAAAAAAAAAAAAAAEAAAD//wAAAAAAAAAAAAD+//7/AAAAAP7//v8AAAAA//8AAAEAAAD//wAAAQAAAP//AAAAAAAA///+////AAAAAP//AAAAAP//AAAAAAAAAAD+//7/AAAAAPz//v8BAP////8BAAAA/f/+/wAAAAD8//7/AQABAP7///8BAAEAAAAAAP//AAADAAIA//8AAAIAAAD//wAAAAAAAAEAAAAAAAAAAAAAAAAAAAAAAAQABAAAAAAAAQAAAAAAAAD+/wAAAgD9//3/BAAAAPz/AQABAPz/AAADAP3///8BAPz//f8CAAAAAAADAP3//f8IAAQA9v/9/woA/v/0/wMAAAD3/wQA/v/u/wwADgDl//v/FQDu//n/EwDp//z/IwDh/+H/KQD9/+P/EADx//X/GwDc/+P/HgD8/yIA+P9d/2AA/QDc/uH+zQHaAAb+v//RAfv/xP4hAOIAEQBL/9f/mADl/3//ZAAnAHX/PwBdAIT/AQBxALf/zv9OAO7/2f8nAPH/4v8qABQA7/8JAAoA+P/3/+r/5f8GAAoA4v/7/zgAEwDp/w8ACQDx/xAA/f/p/xoA8v+o/7j/s//h/x4AX//5/uf/1v8Q/ygARAF5ACQAygCQAAIAHgBQAEQAAwDC/97//v/r/woANQARAPD/XAD8AGAA5P73/vz/nf9o/38ATQAJ/2T/bwBsACEAEQABAAEA9/8JACwA4P+2/xoAIADo/xgACwDD//T/GwDu//7/FwD3//n/AgD2/woAGQAEAAYABADy/wAABADt/+7/9P/s/wAADQDv//f/IwAVAO7//f8MAPX/8/8LAAcA+P/3//f///8OABAACwAMAP7/7P/v//j/+v8AAAcACwACAPf/BAASAPv/8v8JAAQA8////wAA7f/w/wAABgAEAPv/8v/9/wgAAwD9///////0//L/AQAFAPf/9v8CAAIA/v8AAAIACgAHAPj//f8HAPb/6v/7/wMA///7//n/BgAPAP7/8//8//n///8LAPn/9f8bAB4A/f/0//L/6v/j/9D/5P8AAHf/xf5I/2oAhAD5/xsAjQBhAPf/BwBMADIA8P/1/woA6//I/8n/2/8AABwAAgDh//b/EQADAPL///8SAA8AAQABAAgA+f/n//n/CwAAAP3/AQD1//P/BgAFAPr/AQAEAPz//f////7/AgAAAP3/BQADAPf/+P8BAAQA///5/wQADwD8//r/HQAZAPj/AwAPAOz/4f8AAAQA8P/1/wgACgABAP//AgAAAPr//f8AAPn/9v/9/wMACQAGAPn/+v8HAAMA+/8GAAUA9P/8/wkA+//4/wcAAQD//w8ACwD3//r/AAABAAMA9v/u/wAAAgD2/wEACwD6//P//P8AAAMA/P/1/wIAAwDx//v/DgAAAPX/AgAAAPb/AQAFAPr//v8FAAAA/v8GAAUAAAAAAAAAAAABAAIAAgAAAP7/AwALAAUAAQAGAP//9v/8//v/9P/8/wAA/f8EAAQA+P/7/wAA/f/+//3/+f8EAAYA+P/8/wQA+P/7/w4ABQDx//j/AwD+//z/BgALAAEA+f/+/wYAAAD2//3/AgD9//7/BQADAP//AQAAAP//BQAFAP7/AAADAAAAAAAAAPr//v/+//X/+f8BAAAA/P/+/wAA///9/wEABwD+//n/CgALAPf//v8RAAUA+P/+////9f/y//r/BAAAAPv/BQAHAPn///8GAPL/7f8CAAQA9v/6/wIAAgAAAAIABgADAP3/AQAFAPr/9/8CAAEA+P/8/wUAAwD4//j/BQAGAPr//f8FAP7/+P8CAAQA/v/8//7/AQACAP3/+f8AAAAA9//5/wUABwD+//z/AwAGAP3/+v8BAAEA+v8AAAcAAAD7/wIABgACAP//AAACAP//+P/8/wMA/f/6/wIAAgD//wMAAgD8/wAABAD///7/AwADAP///v8AAAAA/f/9/wEAAQD+////AAD8//r//P////7/+//7//7//f/8/wAAAQACAAIAAgADAAQAAQABAAMAAAABAAYAAAD6/wAAAAD7////AgD+//z/AAD///v/+/8CAAAA+f8AAAoA/f/0/wAABQD9//3/AAAAAP7///////v/+P/+/wEA/f/9/wAA/f///wUAAgD8////BAAEAAAAAAAEAAMA/v8CAAYAAAAAAAUAAAD7////AQAAAPv//P8BAP//+v8BAAMA+/8AAAkA///3/wMABgD8//r/AAAAAP//AAABAP3//P8BAAMA/f/9/wEA///8////AAD+////AQAAAPr/+/8FAAYA/v/+/wQAAgD+////AgACAAAAAAAAAP3/+/8AAAEA/v///wAA/v8AAAAAAAAAAAAAAAAAAAAA//8AAP7//P//////+f/7/wIAAQD6//n/AAAGAAAA+v8AAAcABAD+//7/AQAEAAIA/f/5//7/AQAAAP7/AQADAAAA//8CAAQA///6/wAACgADAPP/9v8KAA0A+f/x/wIAEwAHAPX/+P8HAAwAAwD2//D/AAASAAUA5//s/xEAFADt/+f/CQAMAPL/9f8IAAUA+f/8/wgACgDy/+T/CAAoAAYA2v/m/xQALgAHAL3/2P9dAFYAo/+S/00AaQDY/8P/CQAXACYAEACs/8f/XABCAKn/uf83ADwA2v+//xgAQgDk/8b/NgAtAKX/yP9BAAYAu//3/+7/v/80AFMAdv9p/7MA1QBN/w3/tgAhAX3/9/57AAIBuv9U/0oAaADD/+//QwDY/8r/XQAyAI3/4f9+AP7/cf8iAJUAqv9S/28ArwCC/2P/fACAAJ3/qf8vABkA+/8cAOb/tP8kAGQA2f+L/xYAbAD8/7r/CQAlAPP/AAATAN//6f83ABcAyv8GAEQA4/+1/zYAUwC9/7D/SwBNAL//wf8vADMA/v/4//D/9f8vACAAq/+z/1MAZQDC/6H/NABjAPX/xf8GAB8A+P/3/wgA1/+5/xIAPADA/4//IQBQALr/k/8YACoAsP+s/yMAJgCz/8D/SwBKALr/vP9cAGoAyf+w/0wAdADt/7X/CQBWAEkAyP91/0MA6gC+/9r+WABZAaH/i/5mAKgBrP8f/kMADgKu/9T9dwBAAp3/CP5dALgBzP9x/uz/WwEsALr+1P8eAQAA8f76/8sA9v87/9j/kwAHAEf/6f+AAKz/hv+YAB0A1f4HAJUBv//d/UUAsQIXAGr9MAAoA5wApP2s/20C/ABo/hz/TQEDARL/7/5RAIsAq/9M/5D/7v8ZAMH/Uf+h/0wAGQBI/3v/iwBcADD/i//VAF0AJP/J/wIBVgAu//v/MgFDAAH/EAA8AREAJ/9cAPAAvf9d/1sAigC9/53/LgA5ANT/1/8TAAAA3P/z/wkAAwD1/+n/AwAkAAEA3v8QADsABwDg/xMANQD6/9L/BgApAPP/yf/n/wgA+//X/8n/5v8LAPv/xv/O/xgAKwDk/9X/KQA/AP3/AAA7AC8ACAAkADwAGQAGACEAIwABAPr/DwAEAOL/5f/+//L/1//e//j/+f/h/9n/8v/5/9n/0P/4/wwA7f/U/+3/CQD6/+7/CwAUAPf/BQAuABgA9/8ZADkAEwD4/xYAIwD///T/FAANAOT/7v8XAAMA0//l/xUACADV/9X/AQAMAPX/7f/3/wUADgD6/+X/AwAbAPv/6/8NABkA/v/z/woAGwACAOj/CAAwAAYA0//5/ywACQDW/+v/GQAKANr/4v8QAAcA1f/c/woABwDo//D/BQD9/+7/+f8IAAEA+f8CAA8ABgD+/wgAEgAMAAcABgAMABcADwD3//r/EwAHAOr//P8VAPr/2f/u/wsA/P/h/+f//f8BAO//4//0/wYA+//p//z/GgAKAOX/+/8xAB4A4//6/zEAEADf/wgANwAIANz/CAAxAAIA2v8EACUA9//Z/wcAGQDf/87/FQAsAN//wf8PADMA5/++/wAALwD9/87//v84AAkAwv/w/0EAFwDA/+X/PgAjAM7/5f82ABgAxv/p/z4AHQDP//P/PAAXAM3/6P8sABcA2P/s/ysAHQDj/+7/JAAYAN7/5v8oACwA7v/t/yMAEgDd/wMAPwAKAMr/AQBCAAUAvf/q/yUA/v/R//j/GQD2/9z/+P8EAO3/8P8QAA0A7f/2/xUA/v/W/+//FwD//9f/8/8eAAMA0//o/xIAAgDo/wIAGQACAPb/BgAGAPr/BQARAAMA/v8OAA4A+P/8/xIADwAAAAMABAAAAA0AEgD3//L/EwAQAOr/8v8YAA4A6v/q//f/7//x//3/7f/a//L/BQDn/9H/8v8IAPP/7/8QABMA9f/3/xAADAD//wcADwAJAAkABwD+/wQAFgAOAPf//P8VABQA/P/5/xQAGwAAAPr/EQAUAPv/9v8FAAAA8f/7/wMA7P/f//7/EQD5/+X/+f8KAP3/7v/4/wwACgDz/+j/AAAZAAIA2f/j/xIADQDb/+L/GQASANn/4f8aABcA6v/t/xUAFgD1//D/DQAZAAAA7v8CABYABgD3/w8AJgAJAOj/AAAgAAcA6f8AABcA+P/j/wYAFADl/9T/AAAUAPX/6P/6//f/6f/0/wMA/v/6/wUACwALAA4ACAAAAAkAGAAOAAIAFAAbAPv/5/8AAAsA4//T/wIAFADf/8r//P8LAOD/1P/6/wMA6v/n/wAABgD5//P//P8AAAAAAAD9////DQAUAAQA+/8IABMACQAAAAoAGgAUAAAAAAAaACQACAD1/woAHwAGAOn/+v8XAAMA4P/y/xoACADY/97/DQAUAPL/5/8DABAA/f/3/wsADgD6//z/EwAHAOT/6P8HAAMA6P/u/wIA9v/h/+7//P/0//f/DQAOAPz/AAATAAsAAAATACIACQD8/xwAKwAAAOX/BQAcAP//6/8IAB0AAQDm//D/BAAAAPf/AAAQAAwA8//f/+3/BwAFAO3/7/8IAAwA8f/j//f/CwAHAPj/+P8IAA8AAQD5/wEABwD0/9//7v8PAA8A8v/v/wYAAgDh/97/BQAXAP3/7f8FABEA+P/t/wQACQDv/+r/AQALAP7/+/8DAP//8////xQADAD3//3/EQAQAAAAAQANAAUA8f/8/x8AGwDy/+z/EwAWAOf/4f8gADQA8f/P/xIAPQABANf/BwAnAP//7v8dACsA9P/U//f/FQAEAPP///8OAAoA9f/i/+j/AAAIAPv/+f8KAAkA7f/f//L/AwD9//b/AwARAAMA6v/q/wAABwD7//r/BAAAAPD/7//+////7P/p//r/AQD+/wAABAD5//D/AAARAAsA/f/6/wIABwAAAPb/9/8AAP7/9f/4/wEA+v/r//n/EwAOAPv/BAAaABQABgAOABgAEAASAB8AEgDx//H/CgAMAPn/+v8DAPT/4f/x/wkA///l//D/EQAYAAUAAQARABEA/P/0/wUAFAAMAAEAAwAEAPr/8v/6/wUACgAKAAQA/v/9/wMABAD9//3/AwD//+r/5f/z//T/6P/t////+f/m/+n/+v8AAAEACwAOAAUABwAVABMAAAD6////9v/t//7/CwD6/+X/7P/3/+//7P/8/wcABAAEAAUA/v/y//f/CQASAAYA9//2//3//v/+/wAAAAD7//z/AQAAAPj/+/8KAA8ABwAEAAYAAAD8/wMABwD8//b///8EAP///P/8//j/9/8IABcADAAAAAoAEwAKAAkAGQAaAAcAAwATABgAAgDz//v/AAD1//X/AAD+/+//7v/0/+v/5P/w//3/9P/r//f//P/s/+3/CQASAPj/8P8LABgAAAD1/w0AFgD5/+r/AQALAO7/3//6/wkA+P/w/wQADQD9//X/BgAQAAYAAgALAAkA/f8AAA8ACAD1//n/CwAJAP3/BAAPAAAA8P8EACAAFwAAAAEACgD7/+v/AgAiABkA///4//b/6P/n//7/CwD+//P///8HAP3/9/8AAP//9P8FACIAGgD8//j/BAD7/+X/6f/9//r/6v/v//z/8v/l//T/AwD5//L/CgAhABMA/v8DABAABwAAABIAGQD8/+b/+/8TAAcA9P/5/wAA9P/w/wcAGAAGAPH/9v8BAP7/+v8BAAQA/P/3//v//v/+////AAD//wAACQARAAkA/v/9//3/+/8IAB0AFwD6/+v/9/8AAPz//P8HAAoAAAD//wwADwD9/+3/8//+//3//v8HAAAA6f/d/+n/+P/+////AAAAAAAAAAD9//b/+f8IAA0A///0//f/9//1////CAAAAPL/+/8NAAoA+//+/w4AEAAIAA4AFQALAAQADQAQAAMAAAALAAoA/P/8/wgA///l/+n/AAD7//H/DwAzAB8A9v8AACgAJgAFAAEAFQAUAAQAAgD9/97/y//k/wEA9//b/9f/6P/w/+//9f/7//b/+P8JAA4A9P/a/+T/AAAIAAEA/f/4//L/9v8FAAgA/f///xIAIAAZAAQA7//q////GQAYAAAA9v8EAA8ABQD5//T/9f8BAB4ALAAUAPH/7f8EABQAEQALAAQA/P8DABMACwDt/+b/BQAdAAsA7v/r//7/BwD///H/4//c/+v/DAAaAAEA4//m/wIAFQAQAAMA/f8DAA8AEQABAO//7/8DABIACADw/+X/7/8CAAkA/f/v//L/AwARAA4A///x//X/BQAKAP7/8//2//7/BQAKAAAA6//n////CwD8/+3/+P8GAAcAAgD///f/9/8GABMADAD///v/AAABAPv/8P/o/+r/9v/8//L/5//s//3/DQAQAAQA/f8IACAALQAlABMACgAPABkAFwAHAPf/9f/+/wQAAwD///r/+v8AAAcAAwD9/wEAEgAcABQAAwD9/wUADgAMAP//8P/p//D/+//8/+3/3P/X/97/7P/1//L/7P/v//z/AQD4/+7/+v8SABsAEgAHAAQABwANABIADwAAAO//9P8JAA4A9//e/9n/5f/2/wIABgD///b/9/8AAAEA9//4/wgAFgATAAUA9f/w//v/BwAFAPb/7P/6/xAAFAAEAPj/9f/5/wIAEgASAAAA9f8BABIADwADAAAAAwABAAIADAAUAA4ACAAQABYACgD+/wQAEwAXAA0ABgAGAAkADQAPAAkAAAD5//f/+f/8//7//P/3//b/+P/5//L/5f/d/+X/+v8EAP//9f/1//T/7v/r/+3/7f/v//r/BAAAAOv/3//n/+3/4//i//X/AAD6//T/9f/x//L/AAANAA0AAwADABEAHQAcABMACQAHABQAIQAbAAwACwAQAA4ACgANABEADAAIAA8AEgALAAQABgAIAAgACAAKAAwACwACAPP/6f/t//b/9v/x/+//7v/r//P/AAD+//D/7////wkAAgD6//v////9//v/+//1/+z/7////wcAAQD5////DgATAAQA+v8DABYAHgAcABoAFQAGAP3/AgAIAAAA+v8AAAUA+//s/+j/6f/n/+n/7//q/93/3//y//n/8v/u/+7/6//x/wEACwAFAP3/AAAKAA4ADgASABIABgABAA4AGwAZABYAFwAQAAIA/f8DAAcABgAKABEAEQAJAAEA+f/t/+j/8/8MACIAIgATAAAA6P/Y/+H/+P8EAAYADAAUAAcA5v/L/87/3//r//v/FgAjABYAAADr/9f/y//X//3/KAA9ADcAIwAKAO7/2//g//f/DwAmADkAOAAWAOn/zv/K/87/3P/8/xsAJgAeABAA+P/S/73/0/8AACEAMAA1AC8AFgDx/9L/y//a//P/EQApAC0AFQDv/9L/y//Q/9v/9f8bADMALQAVAP3/5//Y/9///v8fAC0AKwAiAAkA4v/G/87/6//9/wIACgARAAoA9//j/9n/4v/7/x0APQBFADIAGAALAAoACQAGAAsAHgAuACoAFQD9/+b/1//e//f/CAAKAAYA///u/93/2v/j/+v/9P8BAAcA///x/+v/7f/r/+j/8f8DAA8ADwAKAAAA7P/b/97/8f8DABIAFQAGAOz/1//X/+v/CAAeACEAEwACAAAACQAMAAMA//8IABwAKwArABYA+P/j/+r/BQAXABIABgACAAIA/v/4//f/9v/3/wIAFwAgABIA/P/x/+//8P/5/wYADAAFAPj/6f/i/+j/8v/1//X/+f8DAA4ACQD3/+L/3P/q/wQAGwAcAAYA6//g/+f/7v/x//b/AAAIAA8AEgAJAPX/5P/j//P/CgAkADYANAAdAAAA6f/k//H/BwAhADIALgAeAA8AAQDx/+f/6//8/xMAJgAnABYA/v/g/8v/zf/i//j/BgAPAAsA+P/c/83/1v/m/+7/9f8DAA4ADgAKAAUA/P/x//L/AwAVABoAFgAQAAgA/v/2//X/+f8BAAoAEAARAA4ABwD+//P/8v/+/wwAFgAXAA4A/v/v/+3/9v8AAAMAAgAGAA4ADAD7/+3/7P/u//D///8QAA8AAAD1/+//4//X/93/9f8GAAgACAAHAP7/8P/u//n/BwASABoAHwAdABAAAQD9/wAAAQD+/wAACQASAA8ABAD4/+z/5v/p//X///8AAAAAAAD9//r/+f/6//n//P8EAAwADgANAAwACwAGAP7/+P/4/wAACQANAAoABQAAAP3/+v/7//7/AQAJABAAEAAGAPb/6f/q//X///8DAAIA/v/3//L/7P/j/+H/7v8CABEAEQAIAAAA+f/y//P///8RAB8AHgATAAsAAwD2/+r/7v/7/wYADgAUAA0A9//i/+H/8P8BABEAHwAfABQACwAGAP7/9v/3////CgAaAB4ACwDv/97/4P/o/+//9/8AAAQAAwD+//T/6v/p//T/AwAOABAACQABAAIABAD+//j///8KAA0ACAAEAAYABAD9//f/+f/+/wMACQALAAEA8f/o/+v/8f/z//T/+f/7//f/8//x/+7/7v/5/wgAEwAUAA4ABgACAAQACQAMAA8AGAAfABcABgD9//3/AAADAAkADgAPAAwAAgD5//L/7f/u//v/CwASAAoA/v/0/+3/6f/v//r//v/7//v//v/2/+j/4f/i/+f/8/8DAA4ADAAEAAAAAAAAAP7/AQAOABoAHQAWAAsAAQD9//z/+f/2//j///8EAAgACgAEAPf/6//u//7/DgAYABkAEwAHAPz/+v8BAAUA/P/z//f/AAABAPv/8f/l/9v/3v/v/wMACQD8/+3/6//z//3/BgALAAQA/f8BABIAHgAaAAkA/P/+/woAGAAfABsADwAEAAAAAAAEAAkACQAEAAEAAgACAAAA9//p/9//5/8AABUAEgD7/93/0//k//v/BQACAP3/+v/+/wEA/P/w/+n/7f/5/woAGAAZAAgA8f/m/+7/+/8HABIAEwAGAPj/9/8BAAYA///0//j/BQASABcAFAAKAP7/+P8AAA8AEwAOAAoACwAHAPv/8v/z//b/9//2//P/8v/3/wAAAAD3//D/8v/6/wUADgALAAAA+v8AAAgABgAEAAUABAD9//b/9//9////AAAGAAgAAQD7//7/AAD8//r//v8AAAAAAAABAAAA+v/y//H/9v/9/wQADAAOAAgAAAD8//n/9//6/wAABQALABIAEAD//+b/2v/h//X/CgAWABQACAAAAP/////6//j//v8EAAwAGQAiABQA8//b/+D/8v8BABAAGwAWAAEA8f/x//X/9P/4/wYAEAAMAAMA/f/0/+3/7f/1//z/AAAGAAwACQD+//H/6f/r//n/EAAlACkAHAANAAUAAAD//wEABwALAAsACQADAPb/5f/c/9z/4v/u//7/DAAPAAEA6v/f/+n/+v8HABEAFwAUAA0ABgD9//L/7f/z/wAADAASABMADgADAPT/6v/u//v/CQAUABgADAD7//H/9P/4//r/AAAHAAwACwAJAAYA/f/v/+z/9v///wEABwANAAgA9f/l/+X/8P/7/wQADwAUABEADQAFAPv/9f/8/wgAFQAcABkAEAAFAP7/+P/x/+7/9f8DAAwABgD5/+//7v/w//H/9P/8/wQADAANAAcA/f/y/+v/7v/+/xAAFwANAAAA9f/w/+//8//1//H/9P8AAAkACwADAPv/+f/9/wIACgATABUAEQALAAYA///3//f/AAAEAAAA/f///wAA/P/7////AQAAAAQADgATAAcA+//5//3///8CAAgAAwD0/+7/9v///wAAAAAAAP///f8AAAgADgANAAsABwABAAAAAgABAPz/9//0//P/9P/2//b/8P/p/+r/9/8DAAQA/v/6//n/+f/8/wUADgAOAAkACwAOAAcA///9//3/+v/6/wIADQAQAAoA///0/+3/9P8GABUAFgAOAAcAAgACAAYABwACAP//AgAKAAkAAAD1/+z/6P/r//X/+f/2//T/+f/4/+//7P/2/wIACAAGAAIAAAD9//r//f8AAP////8HAA0ABQD6//X/+f8AAAcADwAPAAUAAAADAAMAAAD//wAAAQAFAAoACQADAP7/9//0//X//v8KABEACwAAAPz/+v/7////AQAAAP//AAACAAAA+P/x/+//8v/4/wAABgAIAAQA/v/6//z/AAAFAAgABwABAAAABAAEAP7/9//2//n//f8AAAEA/f/1//L/9f/6//3/AAAAAAAAAAAEAAgABwAEAAUACAAIAAgABwAFAAQABQAKAA0ACQACAP///P/5//z/AgAEAAEA/P/z/+//8v/4//v/+P/0//X///8GAAQA///7//n//P8FAA0ADAADAP3/+f/3//n/AAAHAAcAAAD8//n/+v///wQACAAGAAYACwAPAAwAAgD4//P/9/8AAAoADwANAAMA+P/y//b//v8AAAAAAAACAAAA/f/7//j/8P/o/+z/+P8AAAMABAAAAPn/9P/3////BAAJAAsACgAEAAAAAAAAAP//+//7//7/AgAEAAQAAAD8//v///8CAAQABAAFAAgACAAGAAEA/P/7////AQAAAP3/+P/2//n/AAAFAAEA/P/9/wIABwAIAAcAAwAAAP3/AAAEAAIA//8AAAAA+P/z//n/AAAEAAMAAAD+/wAABwALAAcA///8/wAABwAJAAUAAAD7//j/+P/6//v/+v/4//b/+P/7//z/+//6//b/9P/6/wIABwAFAAEA/v/8//3///8BAAQAAwAAAAAAAAAAAAAAAAAAAAAAAAAFAAsACwAGAAEA///+/wEABQAEAAEAAAAAAAAA///8//r/+f/8/wAABAAFAAMAAAD7//j/+P/7//7/AAAAAPz/+P/4//v/+v/1//X//f8FAAcABQADAAIAAgADAAQABgAIAAcABQABAP3//f////7/+//7//v//f8AAAAA/v/+/wEABAAEAAQABAAEAAQABAACAP//+//7/wAAAwAEAAIA///6//j/+////wAAAAAAAAAA///+//3//P/8//3//P/6//v///8BAP7/9//0//v/AQADAAAA///+/wAAAwADAAAA/f///wIABAAEAAQABQACAP7//P///wUACgAIAAAA9v/0//n/AAAEAAMA///9/wAABQAGAAMA///8//3/AAADAAgACAADAP3/9f/w//T/AAAIAAgAAwD///3/AAACAAIAAAD+//7/AQAFAAQA///4//L/8f/0//n///8BAAEAAAD+//v//v8CAAYABwAJAAcAAwADAAcACAADAAAA/////wAAAQABAP3/+v/7//7/AAAAAAAAAAAAAAAAAAAAAAAAAgAEAAAA//8AAP///f/8//v/+//+/wEAAQAAAPz/9//2//r//v8AAAAAAAD///z/+//5//v///8BAAIAAgAEAAUABQAEAAAA/v/+/wIACgALAAQA/v/+/wAA///9////AAAAAAAAAgADAAAA///+//7///8BAAYACQAGAAAA+//6//z/AAADAAQAAgABAAEAAQD+//r/+f/9/wIABAACAP//+//3//X/9f/5////AgACAAAA/f/7//v//f/+//7/AAACAAMABQAFAAAA+f/3//v/AAADAAQAAgAAAAAA///+//7//v///wIACAALAAoABwACAAAAAQAFAAkACgAJAAcABQACAP//+//7//v/+v/7/////v/7//j/9v/0//b//P8AAAIAAgADAAIAAAAAAAAAAAAAAAMABgAIAAgAAwD+//z///8AAAAAAAAAAP7//P/6//n/9//2//X/9//9/wAAAgADAAIA/v/8////BAAKAA0ADQAJAAMAAAD9//r/+f/8/wEABAAEAAAA+P/2//f/9v/4//7/AAAAAAMAAwD///f/8f/y//n/AAAHAA0ACwAFAAAAAAAAAAEABwAMAAwACQAEAAAA/v/7//j/9v/3//z/AQAEAAIAAAD7//f/9//8/wIACQAMAAgAAAD8//v//P/9//v/+////wIAAgAAAP3/+v/6//3/AQAEAAMAAQAAAAAA/f/7//v/+v/7////AQD///z//f/+//7///8BAAMABAADAAIAAgACAAIAAwAEAAQABAAEAAQAAgAAAP////8AAAAAAQAAAP3/+v/7//3///8AAP///f/8//7//v/9//7//v/9////AAACAAUABAAAAP3/+//8/wAABAACAAAA/P/7//z/AAABAP3/+f/6//7/AgAEAAEA///+/wAAAgAFAAYABAABAAAAAAACAAQABgAFAAEA/f/7//3/AgAGAAUA///5//j/+f/9//7/+//5//z///8AAAAA///6//b/9//7/wAAAgACAAAA///8//n/+v/+/wAAAAAAAAAAAAABAP//+//8/wAAAgAFAAcABQABAAAAAAAAAAEABgAIAAcABgAIAAgABgAEAAMAAgADAAYACwALAAYAAAD6//f/9//8/wAAAAD+//f/9P/1//f/+P/7//7/AAACAAUABQACAP3/+P/5//7/AAAAAP//+v/1//L/8//1//f/+f/9/wAAAAAAAP7/+//8////AgAGAAsADQALAAUAAAD//wAAAQAEAAcABgAFAAUAAwD///v/+//9/wEABgAJAAgABAAAAP3//P///wMABgAEAAEA/v/7//n/+P/3//f/+v/8////AAAAAP3/+//7////AwAHAAgACAAFAAEAAAD+//r//P8AAAAAAAAAAP3/+//7//n/+v/+/wAAAAAAAAAAAAD///7//v8AAAIAAwAEAAQABAADAAEAAAABAAMABAACAAEAAQABAAAA+//4//n/+f/6//7/AAD///z/+//4//b/+f///wIAAgADAAQAAgAAAAAAAAAAAAIABAAEAAUABAACAAEAAAD9//z///8AAAAAAgAAAP3/+P/2//j//v8AAAEAAgADAAIAAQAAAAAAAAADAAMABQAIAAgABQAAAPv/+P/7////AAAAAAEA///5//X/9P/1//n//v8AAP7//f/+//7//f/+//7///8AAAUACQAKAAcAAQD//wAAAgAGAAgACAADAP//+//6//z//v/+////AAAAAP////////z/+f/7//7/AAAAAAAAAAD9//r/+f/7////AQADAAIAAgABAAAAAAABAAMABAAEAAMAAQABAAEAAAAAAAAA/v/+/wAAAQAAAP///P/9//7//f/9////AAAAAAEAAgABAAAAAAAAAAAAAAAAAAMABAABAAAA///+////AAAAAAAAAAD//wAAAAAAAP///f/7//v//v8AAAAAAAAAAAAA/v/+////AQADAAMABAAEAAMABAAEAAMAAQABAAEAAgADAAMAAAD9//n/+P/7//7/AAAAAAAA//////3/+//+/wEAAgACAAQAAwABAAEAAAAAAAAAAAABAAMABAABAP7/+//6//z///////7//v/+//7//v/9//7/AAAAAAAAAAAAAAAAAAAAAAAA/v/+/wAAAAAAAAAAAAAAAAAAAAACAAIAAQAAAAAAAAABAAAAAAAAAAAA/////////f/9//7//v///wAAAAAAAAAA/v/+/wAAAAAAAAAAAAAAAAAAAAAAAAAAAAAAAAAAAQABAAAAAAAAAAEAAAAAAAAAAAAAAP/////+//7/AAABAAAAAAAAAP3//P/+/wAAAAAAAAAAAAAAAAAAAAAAAAAAAAACAAIAAwAEAAIAAAAAAAEAAAAAAAAAAQAAAAAA/f/7//v/+//7//z///8AAAAAAAD///3//f///wAAAAAAAAAAAAABAAAAAAAAAAAAAAADAAQAAgAAAAAA//////7//v///wAAAAAAAAAA/v/8//3///8AAAAAAAAAAAAAAAAAAAAAAAAAAAAAAAACAAIAAAAAAAIAAgAAAAAAAwADAAAAAAD///z/+//+/wAAAAD///3/+//7//n/+f/9/wAAAAAAAAAAAAAAAAAAAAACAAMAAgAEAAYAAwAAAAAA///7//v/AAAAAAAA///9//v/+//+/wAAAAAAAAAA//8AAAAA/v///wAAAAABAAIAAwADAAMAAAAAAAAAAQADAAQAAgAAAAAAAAAAAAAAAAAAAAAAAAABAAEAAAD//////v/+/wAAAAAAAP/////+//v/+//9////AAAAAAAAAAAAAAAAAAAAAAAAAQABAAEAAQAAAAAA///9//z//P/8//z//P/6//n/+v/8//7/AAAAAAAAAAAAAAAAAAAAAAAAAAAAAAIAAwACAAIAAwAEAAMAAQABAAAAAAAAAAAA/////////v/+/wAAAAAAAAAAAAAAAAAAAAAAAAEAAQABAAAAAAD/////AAD+//7///8AAAAAAAAAAAAAAAAAAAAAAAABAAEAAAAAAAAAAAAAAP///////////////////v/+//3//v8AAAAAAAAAAAAAAAAAAAAAAAAAAAAAAAAAAAAAAQAAAAAAAAD//wAAAAD//////v/9//7/AAAAAAAAAAAAAAAAAAAAAAAAAQABAAEAAAAAAAAAAAD9//z//P/7//v//v8AAAAA/v/+/wAAAAAAAAAAAAAAAAAAAAABAAIAAQABAAEAAAAAAAAAAQABAAAAAAAAAAAAAAAAAAAAAAAAAAAAAAAAAAAAAQAAAAAAAAAAAAEAAQABAAEAAQAAAAAA///////////+////AAAAAAAAAAAAAP/////+//7/AAAAAP/////////////9//v/+//+/wAAAAAAAAAAAAAAAAAAAAAAAAAAAAAAAAAA//8AAAAAAAAAAP//AAAAAAAAAAAAAAAA//8AAAAAAAAAAAAAAAAAAAAAAAAAAAAAAAAAAAAAAQAAAAAAAAAAAAAAAAABAAEAAQAAAP//AAAAAAAAAAAAAAAAAAAAAAAAAAD//////v/+////AAAAAP///v/+/wAAAAAAAAAAAAAAAAAAAAABAAEAAQAAAAAAAQABAAAAAAAAAP///////////v/+//3//v8AAAAAAAAAAAAAAAAAAAAAAAAAAAEAAAAAAAAAAAAAAAAAAAAAAP////8AAAAAAAAAAAEAAAAAAAAAAQAAAAAAAAAAAP////////3//P/9//z/+//8//7//v/+//3//v8AAAAAAAAAAAAAAAAAAAEAAQABAAEAAAAAAAAAAAAAAAAAAAD//wAAAAAAAAAAAAAAAAAAAAAAAAAAAAAAAAEAAAAAAAAAAAAAAAAAAAAAAAAAAAD//wAAAAD+//7/AAABAAMAAgABAAEAAQABAAEAAQABAAAAAAAAAAAAAAAAAP7//P/8//z/+//9//7//f/+/wAAAAAAAAAAAAAAAAAAAAAAAAEAAQABAAEAAAD///////////////////7//v/+//3//v///wAAAAABAAIAAwADAAIAAAAAAAAAAAAAAP///////////v/+//3//v8AAAAAAAACAAIAAAAAAAEAAQABAAEAAQABAAAAAAAAAAAA//////3//P/8//v//P/+//7//f/9//7/AAAAAAAAAAAAAAAAAAAAAAAAAAAAAAAAAAAAAAAAAAAAAAAAAAAAAAAAAAAAAAAA/v/+/wAAAAAAAAAAAAAAAAAAAAAAAAAA//8AAAAAAAAAAAAAAAAAAAAAAAAAAAAAAQADAAMAAwAEAAMAAQAAAAAAAAAAAAEAAQAAAAAAAAD/////AAD+//z//f///////v/+//7//v/+//3///8AAAAAAAAAAAAAAAAAAAAAAAAAAAAAAAAAAAEAAwAEAAIAAAAAAAAAAAAAAAEAAAAAAAAAAAAAAAAAAAD//wAAAAAAAAAAAAAAAAAAAAAAAAAAAAAAAAAAAAAAAAAAAAD///////////////////7//f///wAAAAD//////f/9////AAAAAAAAAAAAAAAAAAAAAAAA///+//7/AAAAAAAAAAAAAAAAAAAAAAAAAAAAAAAAAQABAAEAAAAAAAAAAAAAAAAAAAAAAAAAAAABAAAAAAAAAAEAAAAAAAAAAAAAAAAAAAD//////////////////////v/+//3//v///wAAAAAAAAAAAAAAAAAAAAAAAAAAAAAAAAAAAAAAAAAAAAAAAAAAAAABAAAAAAAAAAAAAAAAAAAAAAAAAAEAAAAAAAAAAAAAAAEAAQABAAAAAAAAAAAAAAD//////v/+/wAAAAAAAAAAAAAAAAAAAAAAAAAAAAABAAAAAAAAAP//AAAAAAAAAAAAAAAAAAD///////////7///8AAAAAAAAAAAAAAAAAAAAAAAAAAAAAAAAAAAEAAQAAAAAAAAAAAAAAAAAAAAAAAAAAAAAA//8AAAAAAAD//wAAAAAAAAAAAAAAAAAAAAAAAAAAAAAAAAAAAAAAAAAAAAAAAAAAAAAAAAAAAQAEAAMAAQABAAEAAAAAAAAAAAD/////AAD///7///8AAP/////+//z//f////////////7/+//7//3//v/9//3///8AAAAAAAAAAAAAAAAAAAAAAAAAAAAAAAAAAAEAAQABAAEAAAAAAAEAAAAAAAAAAAAAAAAAAAAAAAAAAAABAAAAAAAAAAAAAAAAAAAAAAAAAAAAAAAAAAAAAAAAAAAAAAAAAP/////+//7/AAAAAAAAAAAAAAAAAAAAAAAAAAAAAAAAAAABAAAAAAAAAP//AAAAAAAAAAAAAAAAAAAAAAAAAAAAAAAAAAAAAAAAAAAAAAEAAAAAAAAAAAAAAAAAAAAAAAAAAAAAAAAAAAAAAP///v///wAAAAAAAAAAAAAAAAAAAAAAAAAAAAAAAAAAAAAAAAAA//8AAAAAAAAAAAAAAAAAAAAAAAAAAAAAAAAAAAAAAAAAAAAAAAD////////+////AAAAAAAAAAAAAAAA/////wAAAAAAAAAAAAAAAAAAAAAAAAAAAAAAAAAAAAAAAAEAAQABAAEAAAAAAAAAAAAAAAAAAAAAAAAAAAAAAAAAAAAAAAAAAAAAAAAA///+//7/AAAAAP////8AAAAA/v/+/wAAAAAAAAAAAAAAAAAAAAAAAAAAAAAAAAAAAAAAAAAAAAAAAAAAAAAAAAAAAAAAAAAAAQABAAAAAAAAAAAAAAAAAAAAAAAAAAAA/////////v///wAAAAAAAAAA///9//3///8AAAAAAAAAAAAAAAAAAAAAAAAAAAAAAAAAAAAAAAABAAEAAAAAAAAAAAAAAAAAAAAAAAAAAAAAAAAA/////////v/+/wAAAAAAAAAAAAAAAP/////+//3//v8AAAAAAAAAAAAAAAAAAAAAAAAAAAAAAAAAAAEAAQABAAAAAAAAAAAAAAAAAAEAAQABAAEAAAAAAAAAAAAAAAAAAAAAAAAAAAAAAAAAAAAAAAAAAAAAAAAAAAAAAP//AAAAAP7//v8AAAAAAAAAAAAAAAD////////////////////////////////+//7//f/+/wAAAAAAAAAAAAAAAAAAAAAAAAAAAAAAAAAAAAAAAAAAAAAAAAAAAAAAAP//AAAAAAAAAAAAAAAAAAAAAAAAAAAAAAAAAAAAAAAAAAABAAEAAAAAAAAAAAAAAAAAAQABAAEAAAAAAAAAAAAAAAAAAAAAAAAAAAAAAAAA//////7//v8AAAAA/v/+/wAAAAAAAAAAAAAAAAAAAAAAAAAAAAAAAAAAAAAAAAAAAAAAAAAAAQABAAAAAAAAAAAAAAAAAAAAAAAAAAAAAAAAAAAAAAAAAAAAAAAAAAAAAAAAAAAAAAAAAAAAAAAAAAAAAAAAAAAAAAAAAP/////+//7/AAAAAAAAAAAAAAAAAAAAAAAAAAD//////v/+/wAAAAD+//7/AAAAAAAAAAAAAAAAAAABAAAAAAAAAAAAAAAAAAAAAAAAAAAAAAAAAAAAAQABAAAAAAAAAAAAAAAAAAAAAAAAAAAAAAAAAAAAAAAAAAAAAAAAAAAAAAAAAAAAAAAAAAAA//8AAAAAAAAAAAAAAAAAAAAAAAAAAAAAAAAAAAAAAAAAAAAAAAAAAAAAAAAAAAAA//////7///8AAAAAAAAAAAAAAAAAAAAAAAAAAAAAAAAAAAAAAAAAAAAAAAAAAAEAAQABAAEAAQAAAAAAAAAAAAAAAAAAAAAAAAAAAAAAAAAAAAAAAAAAAAAAAAD////////+////AAAAAAAAAAAAAAAAAAAAAAAAAAAAAAAAAAAAAAAAAAAAAAAAAAAAAAAAAAAAAAAAAAAAAAAA///////////+//7//f/+////AAAAAAAAAAAAAAAAAAAAAAAAAAAAAAAAAAAAAAAAAAAAAAAAAAAAAAAAAAABAAEAAAAAAAAAAQAAAAAAAQAAAAAAAAAAAAAAAAAAAAAAAAAAAAAAAAAAAAAAAAAAAAAAAAAAAAAAAAAAAAAAAAD///////////////////////////////////////////7//v/9//7/AAAAAAAAAAAAAAAAAAAAAAAAAAAAAAAAAAAAAAAAAAAAAAAAAAAAAAAAAQAAAAAAAAAAAAAAAAABAAAAAAAAAAEAAAAAAAAAAAAAAAAAAAAAAAAAAAAAAAAAAAAAAAAAAAAAAAAAAAAAAAAAAAAAAAAAAAAAAAAAAAAAAAAAAAAAAAAAAAAAAAAAAAAAAAAAAAAAAAAAAAAAAAAAAAAAAAAAAAAAAAAAAQABAAEAAQAAAAAAAAAAAAAAAAAAAAAAAAABAAEAAAAAAAAAAAAAAAAA//////////////////////////////////////////////////////7//v/9//3///8AAAAAAAAAAAAAAAAAAAAAAAAAAAAAAAAAAAAAAAAAAAAAAAAAAAAAAAAAAAAAAAAAAAAAAAAAAAAAAAAAAAAAAAAAAAAAAAAAAAAAAAAAAAAAAAAAAAAAAAAAAAAAAAAAAAAAAAAAAAAAAAAAAAAAAAAAAAAAAAAAAAAAAAAAAAAAAAAAAAAAAAAAAAAAAAAAAAAAAAAAAAAAAAAAAAAAAAAAAAAAAAAAAAAAAAAAAAAAAAAAAAAAAAAAAAAAAAAAAAAAAAAAAAAAAAAAAAAAAQABAAAAAAAAAAAAAAAAAAAAAAAAAAAAAAAAAAAAAAAAAAAAAAAAAAAAAAAAAAAAAAAAAAAAAAAAAAAAAAAAAAAAAAAAAAAAAAAAAAAAAAAAAAAAAAAAAAAAAAAAAAAAAAAAAAAAAAAAAAAAAAAAAAAAAAAAAAAAAAAAAAAAAAAAAAAAAAAAAAAAAAAAAAAAAAAAAAAAAAAAAAAAAAAAAAAAAAAAAAAAAAAAAAAAAAAAAAAAAAAAAAAAAAAAAAAAAAAAAAAAAAAAAAAAAAAAAAAAAAAAAAAA//8AAAAAAAAAAAAAAAAAAAAAAAAAAAAAAAAAAAAAAAAAAAAAAAAAAAAAAAAAAAAAAAAAAAAAAAAAAAEAAAAAAAAAAAAAAAAAAAAAAAAAAAAAAAAAAAAAAAAAAAAAAAAAAAAAAAAAAAAAAAAAAAAAAAAAAAAAAAAAAAAAAAAAAAAAAAAAAAD/////AAAAAAAAAAAAAAAAAAAAAAAAAAAAAAAAAAAAAAAAAAAAAAAAAAAAAAAAAAAAAAAAAAAAAAAAAAAAAAAAAAAAAAAAAAAAAAAAAAAAAAAAAAAAAAAAAAAAAAAAAAAAAAAAAAAAAAAAAAAAAAAAAAAAAAAAAAAAAAAAAAAAAAAAAAAAAAAAAAAAAAAAAAAAAAAAAAD//////v/+/wAAAAAAAP////////3//v8AAAAAAAAAAAAAAAD//////v/+/wAAAAD//wAAAAAAAAAAAAAAAAAAAAAAAAAAAAAAAAAAAAAAAAAAAAAAAAAAAAAAAAAAAAAAAAAAAAAAAAAAAAAAAAAAAAAAAAAAAAAAAAAAAAAAAAAAAAAAAAAAAAAAAAAAAAAAAAAAAAAAAAAAAAAAAAAAAAAAAAAAAAD//wAAAAAAAAAAAAAAAAAAAAAAAAAAAAAAAAAAAAAAAAAAAAAAAAAAAAAAAAAAAAAAAAAAAAAAAAAAAAAAAAAAAAAAAAAAAAAAAAAAAAAAAAAAAAAAAAAAAAAAAAAAAAAAAAAAAAAAAAAAAAAAAAAAAAAAAAAAAAAAAAAAAAAAAAAAAAAAAAAAAAAAAAAAAAAAAAAAAAAAAAAAAAAAAAAAAAAAAAAAAAAAAAAAAAAAAAAAAAAAAAAAAAAAAAAAAAAAAAAAAAAAAAAAAAAAAAAAAAAAAAAAAAAAAAAAAAAAAAAAAAAAAAAAAAAAAAAAAAAAAAAAAAABAAEAAAAAAAAAAAAAAAAAAAAAAAAAAAAAAAAAAAAAAAAAAAAAAP//AAAAAP//AAAAAAAAAAAAAAAAAAAAAAAAAAAAAAAAAAAAAAAAAAAAAAAAAAAAAAAAAAD///7//v8AAAAAAAAAAAAAAAAAAAAAAAAAAAAAAAAAAAAAAAAAAAAAAAAAAAAAAAAAAAAAAAAAAAAAAAAAAAAAAAAAAAAAAAAAAAAAAAABAAEAAQAAAAAAAAAAAAAAAAAAAAAAAAAAAAAAAAAAAAAAAAAAAAAAAAAAAAAAAAAAAAAAAAAAAAAAAAAAAAAAAAAAAAAAAAAAAAAAAAAAAAAAAAAAAAAAAAAAAAAAAAAAAAAAAAAAAAAAAAAAAAAAAAAAAAAAAAAAAAAAAAAAAAAAAAAAAAAAAAAAAAAAAAAAAAAAAAAAAAAAAAAAAAAAAAAAAAAAAAAAAAAAAAAAAAAAAAAAAAAAAAAAAAAAAAAAAAAAAAAAAAAAAAAAAAAAAAAAAAEAAAAAAAAAAAAAAAAAAAAAAAAAAAAAAAAAAAAAAAAAAAAAAAAAAAAAAAAAAAAAAAAA//8AAAAAAAAAAP///v/+/wAAAAAAAAAAAAAAAAAAAAAAAAAAAAAAAAAAAAAAAAAAAAAAAAAAAAAAAAAAAAAAAAAAAAAAAAAAAAAAAAAAAAAAAAAAAAAAAAAAAAAAAAAAAAAAAAAAAAAAAAAAAAAAAAAAAAAAAAAAAAAAAAAAAAAAAAAAAAAAAAAAAAAAAAAAAAAAAAAAAAAAAAAAAAAAAAAAAAAAAAAAAAAAAAAAAAAAAAAAAAAAAAAAAAAAAAAAAAAAAAAAAAAAAAAAAAAAAAAAAAAAAAAAAAAAAAAA/////wAAAAD////////+//3///8AAAAAAAAAAAAAAAAAAAAAAAAAAAAAAAAAAAAAAAAAAAAAAAAAAAAAAAAAAAAAAAAAAAAAAAAAAAAAAAAAAAAAAAAAAAAAAAAAAAAAAAAAAAAAAAAAAAAAAAAAAAAAAAAAAAAAAAAAAAAAAAAAAAAAAAAAAAAAAAAAAAAAAAAAAAAAAAAAAAAAAAAAAAAAAAAAAAAAAAAAAAAAAAAAAAAAAAAAAAAAAAAAAAAAAAD//wAAAAAAAP//AAAAAAAA//8AAAAAAAAAAAAAAAAAAAAAAAAAAAAAAAAAAAAAAAAAAAAAAAAAAAAAAAAAAAAAAAAAAAAAAAAAAAAAAAAAAAAAAAAAAAAAAAAAAAAAAAAAAAAAAAAAAAAAAAAAAAAAAAAAAAAAAAAAAAAAAAAAAAAAAAAAAAAAAAAAAAAAAAAAAAAAAAAAAAAAAAAAAAAAAAAAAAAAAAD//wAAAAAAAAAAAAAAAAAAAAAAAAAAAAAAAAAAAAAAAAAAAAAAAAAAAAAAAAAAAAAAAAAAAAAAAAAAAAAAAAAAAAAAAAAAAAAAAAAAAAAAAAAAAAAAAAAAAAAAAAAAAAAAAAAAAAAAAAAAAAAAAAAAAAAAAAAAAAAAAAAAAAAAAAAAAAAAAAAAAAAAAAAAAAAAAAAAAAAAAAAAAAAAAAAAAAAAAAAAAAAAAAAAAAAAAAEAAAAAAAAAAAAAAAAAAAAAAAAAAAAAAAAAAAAAAAAAAAAAAAAAAAAAAAAAAAAAAAAAAAAAAAAAAAAAAAAAAAAAAAAAAAAAAAAAAAAAAP7//v8AAAAAAAAAAAAAAAAAAAAAAAAAAAAAAAAAAAAAAAAAAAAAAAAAAAAAAAAAAAAAAAAAAAAAAAAAAAAAAAAAAP7//v///wAAAAAAAAAAAAAAAP//AAAAAAAAAAAAAAAAAAAAAAAAAAAAAAAAAAAAAAAAAAAAAAAAAAAAAAAAAAAAAAAAAAAAAAAAAAAAAAAAAAAAAAAAAAAAAAAAAAAAAAAAAAAAAAAAAAAAAAAAAAAAAAAAAAABAAAAAAAAAAAAAAAAAAAAAAAAAAAAAAAAAAAAAAAAAAAAAAAAAAAAAAAAAAAAAAAAAAAAAAAAAAAAAAAAAAAAAAAAAAAAAAAAAAAAAAAAAAAAAAAAAAAAAAD//wAAAAAAAAAAAAAAAAAAAAAAAAAAAAAAAAAAAAD///7/AAAAAAAAAAAAAAAAAAAAAAAAAAAAAAAAAAAAAAAAAAAAAAAAAAAAAAAAAAAAAAAAAAAAAAAAAAAAAAAAAAAAAAAAAAABAAAAAAABAAAAAAAAAAAAAAAAAAAAAAAAAAAAAAAAAAAAAAAAAAAAAAAAAAAAAAAAAAAAAAAAAAAAAAAAAAAAAAAAAAAAAAAAAAAAAAAAAAAAAAAAAAAAAAAAAAAAAAAAAAAAAAAAAAAAAAAAAAAAAAAAAAAAAAAAAAAAAAAAAAAAAAAAAAAAAAAAAAAAAAAAAAAAAAAAAAAAAAAAAAAAAAAAAAAAAAAAAAAAAAAAAAAAAAAAAAAAAAAAAAAAAAAAAP//AAD///7/AAAAAAAAAAAAAAAAAAAAAAAAAAAAAAAAAAAAAAAAAAAAAAAAAAAAAAAAAAAAAAAAAAAAAAAAAAAAAAAAAAAAAAAAAAAAAAAAAAAAAAAAAAAAAAAAAAAAAAAAAAAAAAAAAAAAAAAAAAAAAAAAAAAAAAAAAAAAAAAAAAAAAAAAAAAAAAAAAAAAAAAAAAAAAAAAAAAAAAAAAAAAAAAAAAAAAAAAAAAAAAAAAAAAAAAAAAAAAAAAAAAAAAAAAAAAAAAAAAAAAAAAAAAAAAAAAAAAAAAAAAAAAAAAAAAAAAAAAAAAAAAAAAAAAAAAAAAAAAAAAAAAAAAAAAAAAAAAAAAAAAAAAAAAAAAAAAAAAAAAAAAAAAAA//8AAAAAAAD//wAAAAAAAAAAAAD//wAAAAAAAAAAAAAAAAAAAAAAAAAAAAAAAAAAAAAAAAAAAAAAAAAAAAAAAAAAAAAAAAAAAAAAAAAAAAAAAAAAAAAAAAAAAAAAAAAAAAAAAAAAAAAAAAAAAAAAAAAAAAAAAAAAAAAAAAAAAAAAAAAAAAAAAAAAAAAAAAAAAAAAAAAAAAAAAAAAAAAAAAAAAAAAAAAAAAAAAAAAAAAAAAAAAAAAAAAAAAAAAAAAAAAAAAAAAAAAAAAAAAAAAAAAAAAAAAAAAAAAAAAAAAAAAAAAAAAAAAAAAAAAAAAAAAAAAAAAAAAAAAAAAAAAAAAAAAAAAAAAAAAAAAAAAAAAAAAAAAAAAAAAAAAAAAAAAAAAAAAAAAAAAAAAAAAAAAAAAAAAAAAAAAAAAAAAAAAAAAAAAAAAAAAAAAAAAAAAAAAAAAAAAAAAAAAAAAAAAAAAAAAAAP////8AAAAA///+//3//v8AAAAAAAAAAAAAAAAAAAAAAAAAAAAAAAAAAAAAAAAAAAAAAAAAAAAAAAAAAAAAAAAAAAAAAAAAAAAAAAAAAAAAAAAAAAAAAAAAAAAAAAAAAAAAAAAAAAAAAAAAAAAAAAAAAAAAAAAAAAAAAAAAAAAAAAAAAAAAAAAAAAAAAAAAAAAAAAAAAAAAAAAAAAAAAAAAAAAAAAAAAAAAAAAAAAAAAAAAAAAAAAAAAAAAAAAAAAAAAAAAAAAAAAAAAAAAAAAAAAAAAAAAAAAAAAAAAAAAAAAAAAAAAAAAAAAAAAAAAAAAAAAAAAAAAAAAAAAAAAAAAAAAAAAAAAAAAAAAAAAAAAAAAAAAAAAAAAAAAAAAAAAAAAAAAAAAAAAAAAAAAAAAAAAAAAAAAAAAAAAAAAAAAAAAAAAAAAAAAAAAAAAAAAAAAAAAAAAAAAAAAAAAAAAAAAAAAAAAAAAAAAAAAAAAAAAAAAAAAAAAAAAAAAAAAAAAAAAAAAAAAAAAAAAAAAAAAAAAAAAAAAAAAAAAAAAAAAAAAAAAAAAAAAAAAAAAAAAAAAAAAAAAAAAAAAAAAAAAAAAAAAAAAAAAAAAAAAAAAAAAAAAAAAAAAAAAAAAAAP//AAAAAAAAAAAAAAAAAAAAAAAAAAAAAAAAAAAAAAAAAAAAAAAAAAAAAAAAAAD//wAAAAAAAAAAAAAAAAAAAAAAAAAAAAAAAAAAAAAAAAAAAAAAAAAAAAAAAAAAAAAAAAAAAAAAAAAAAAAAAAAAAAAAAAAAAAAAAAAAAAAAAAAAAAAAAAAAAAAAAAAAAAAAAAAAAAAAAAAAAAAAAAAAAAAAAAAAAAAAAAAAAAAAAAAAAAAAAAAAAAAAAAAAAAAAAAAAAAAAAAAAAAAAAAAAAAAAAAAAAAAAAAAAAAAAAAAAAAAAAAAAAAAAAP//AAAAAAAAAAAAAAAAAAAAAAAAAAAAAAAAAAAAAAAAAAAAAAAAAAAAAAAAAAAAAAAAAAAAAAAAAAAAAAAAAAAAAAAAAAAAAAAAAAAAAAAAAAAAAAAAAAAAAAAAAAAAAAAAAAAAAAAAAAAAAAAAAAAAAAAAAAAAAAAAAAAAAAAAAAAAAAAAAAAAAAAAAAAAAAAAAAAAAAAAAAAAAAAAAAAAAAAAAAAAAAAAAAAAAAAAAAAAAAAAAAAAAAAAAAAAAAAAAAAAAAAAAAAAAAAAAAAAAAAAAAAAAAAAAAAAAAAAAAAAAAAAAAAAAAAAAAAAAAAAAAAAAAAAAAAAAAAAAAAAAAAAAAAAAAAAAAAAAAAAAAAAAAAAAAAAAAAAAAAAAAAAAAAAAAAAAAAAAAAAAAAAAAAAAAAAAAAAAAAAAAAAAAAAAAAAAAAAAAAAAAAAAAAAAAAAAAAAAAAAAAAAAAAAAAAAAAAAAAAAAAAAAAAAAAAAAAAAAAAAAAAAAAAAAAAAAAAAAAAAAAAAAAAAAAAAAAAAAAAAAAAAAAAAAAAAAAAAAAAAAAAAAAAAAAAAAAAAAAAAAAAAAAAAAAAAAAAAAAAAAAAAAAAAAAAAAAAAAAAAAAAAAAAAAAAAAAAAAAAAAAAAAAAAAAAAAAAAAAAAAAAAAAAAAAAAAAAAAAAAAAAAAAAAAAAAAAAAAAAAAAAAAAAAAAAAAAAAAP//AAAAAAAAAAAAAAAAAAAAAAAAAAAAAAAAAAAAAAAAAAAAAAAAAAAAAAAAAAAAAAAAAAAAAAAAAAAAAAAAAAAAAAAAAQABAAAAAAAAAAAAAQAAAAAAAAAAAAAAAAAAAAEAAAAAAAAAAAAAAAAAAAAAAAAAAAAAAAAAAAAAAAAAAAAAAAAAAAAAAAAAAAAAAAAAAAAAAAAAAAAAAAAAAAD///7///8AAAAAAAAAAAAAAAAAAAAAAAAAAAAAAAAAAAAAAAAAAAAAAAAAAAAAAAAAAAAAAAAAAAAAAAAAAAAAAAAAAAAAAAAAAAAAAAAAAAAAAAAAAAAAAAAAAAAAAAD//////////////v/+//3//f///wAAAAAAAAAAAAAAAAAAAAAAAAAAAAAAAAAAAAAAAAAAAAAAAAAAAAAAAAAAAAAAAAAAAAAAAAAAAAAAAAAAAAAAAAAAAAAAAAAAAAAAAAAAAAAAAAAAAAAAAAAAAAAAAAAAAAAAAAAAAAAAAAAAAAAAAAAAAAAAAAAAAAAAAAAAAAAAAAAAAAAAAAAAAAAAAAAAAAAAAAAAAAAAAAAAAAAAAAAAAAAAAAAAAAAAAAAAAAAAAAAAAAAAAAAAAAAAAAAAAAAAAAAAAAAAAAAAAAAAAAAAAAAAAAAAAAAAAAAAAAAAAAAAAAAAAP//AAAAAAAAAAAAAAAAAAAAAAAAAAAAAAAAAAAAAAAAAAAAAAAAAAAAAAAAAAAAAAAAAAAAAAAAAAAAAAAAAAAAAAAAAAAAAAAAAAAAAAAAAAAAAAAAAAAAAAAAAAAAAAAAAAAAAAAAAAAAAAAAAAAAAAAAAAAAAAAAAAAAAAAAAAAAAAAAAAAAAAAAAAAAAAAAAAAAAAAAAAAAAAAAAAABAAEAAAAAAAAAAAAAAAAAAAAAAAAAAAAAAAAAAAAAAAAAAAAAAAAAAAAAAAAAAAAAAAAAAAAAAAAAAAAAAAAAAAD//wAAAAAAAAAAAAD///////8AAAAA/////////f/9////AAAAAAAAAAAAAAAAAAAAAAAAAAAAAAAAAAABAAEAAAAAAAAAAQAAAAAAAAAAAAAAAAAAAAAAAAAAAAAAAAAAAAAAAAAAAAAAAAAAAAAAAAAAAAAAAAAAAAAAAAAAAAAAAAAAAAAAAAAAAAAAAAAAAAAAAAAAAAAAAAAAAAAAAAAAAAAAAAAAAAAAAAAAAAAAAAAAAAAAAAAAAAAAAAAAAAAAAAAAAAAAAAD//wAAAAAAAAAAAAAAAAAAAAAAAAAAAAAAAAAAAAAAAAAAAAAAAAAAAAAAAAAAAAAAAAAAAAAAAAAAAAAAAAAAAAAAAAAAAAAAAAAAAAAAAAAAAAAAAAAAAAAAAAAAAAAAAAAAAAAAAAAAAAAAAAAAAAAAAAAAAAAAAAAAAAAAAAAAAAAAAAAAAAAAAAAAAAAAAAAAAAAAAAAAAAAAAAAAAAAAAAAAAAAAAAAAAAAAAAAAAAAAAAAAAAAAAAAAAAAAAAAAAAAAAAAA//8AAAAAAAAAAAAAAAAAAAAAAAAAAAAAAAAAAAAAAAAAAAAAAAAAAAAAAAAAAAAAAAAAAAAAAAAAAAAAAAAAAAAAAAAAAAAAAAAAAAAAAAAAAAAAAAAAAAAAAAAAAAAAAAAAAAAAAAAAAAAAAAAAAAAAAAAAAAAAAAAAAAAAAAAAAAAAAAAAAAAAAAAAAAAAAAAAAAAAAAAAAAAAAAAAAAAAAAAAAAAAAAAAAAAAAAAAAAAAAAAAAAAAAAAAAAAAAAAAAAAAAAAAAAAAAAAAAAAAAAAAAAAAAAAAAAAAAAAAAAAAAAAAAAAAAAAAAAAAAAAAAAAAAAAAAAAAAAAAAAAAAAAAAAAAAAAAAAAAAAAAAAAAAAAAAAAAAAAAAAAAAAAAAAAAAAAAAAAAAAAAAAAAAAAAAAAAAAAAAAAAAAAAAAAAAAAAAP//AAAAAAAAAAAAAAAAAAAAAAAAAAAAAAAAAAAAAAAAAAAAAAAAAAABAAEAAQAAAAAAAAAAAAAAAAAAAAAAAAAAAAAAAAAAAAAAAAAAAAAAAAAAAAAAAAAAAAAAAAAAAAAAAAAAAAAAAAAAAAAAAAAAAP////8AAAAAAAAAAAAAAAAAAAAAAAAAAAAAAAAAAAAAAAAAAP//AAAAAP7///8AAAAAAAAAAAAAAAAAAAAAAAAAAAAAAAAAAAAAAAAAAAAAAAABAAEAAAAAAAEAAAAAAAAAAAAAAAAAAAAAAAAAAAAAAAAAAAAAAAAAAAAAAAAAAAAAAAAAAAAAAAAAAAAAAAAAAAD//////////////v/9////AAD+//3///8AAAAAAAAAAAAAAAAAAAAAAAAAAAAAAAAAAAAAAAAAAAAAAAAAAAAAAAAAAAAAAAAAAAAAAAAAAAAAAAAAAAAAAAAAAAAAAAAAAAAAAAAAAAAAAAAAAAAAAAAAAAAAAAAAAAAAAAAAAAAAAAAAAAAAAAAAAAAAAAAAAAAAAAAAAAAAAAAAAAAAAAAAAAAAAAAAAAAAAAAAAAAAAAAAAAAAAAAAAAAAAAAAAAAAAAAAAAAAAAAAAAAAAAAAAAAAAAAAAAAAAAAAAAAAAAAAAAAAAAAAAAAAAAAAAAAAAAAAAAAAAAAAAAAAAAAAAAAAAAAAAAAAAAAAAAAAAAAAAAAAAAAAAAAAAAAAAAAAAAAAAAAAAAAAAAAAAAAAAAAAAAAAAAAAAAAAAAAAAAAAAAAAAAAAAAAAAAAAAAAAAAAAAAAAAAAAAAAAAAAAAAAAAAABAAEAAQABAAAAAAAAAAAAAAAAAAAAAAAAAAAAAAAAAAAAAAAAAAAAAAAAAAAAAAAAAAAAAAAAAAAAAAAAAAAAAAAAAAAAAAAAAAAAAAAAAAAA/////wAAAAAAAAAAAAAAAAAAAAAAAAAAAAAAAAAAAAAAAAAAAAAAAAAAAAAAAAAAAAAAAAAAAAAAAAAAAAAAAAAAAAAAAAAAAAAAAAAAAAAAAAAAAQAAAAAAAAAAAAAAAAAAAAAAAAAAAAAAAAAAAAAAAAAAAAAAAAAAAAAAAAAAAAAAAAAAAAAAAAAAAAAAAAAAAAAAAAAAAAAAAAAAAAAAAAAAAAAAAAAAAAAAAAAAAAAAAAAAAAAAAAAAAAAAAAAAAAAAAAAAAAAAAAD//wAAAAD///7/AAAAAAAAAAAAAAAAAAAAAAAAAAAAAAAAAAAAAAAAAAAAAAAAAAAAAAAAAAAAAAAAAAAAAAAAAAAAAAAAAAAAAAAAAAAAAAAAAAAAAAAAAAAAAAAAAAABAAAAAAAAAAAAAAAAAAAAAAAAAAAAAAAAAAAAAAAAAAAAAAAAAAAAAAAAAAAAAAAAAAAAAAAAAAAAAAAAAAAAAAAAAAAAAAAAAAAAAAAAAAAAAAAAAAAAAAAAAAAAAAAAAAAAAAAAAAAAAAAAAAAAAAAAAAAAAAAAAAAAAAAAAAAAAAAAAAAAAAAAAAAAAAAAAAAAAAAAAAAAAAAAAAAAAAAAAAAAAAAAAAAAAAAAAAAAAAAAAAAAAAAAAAAAAAAAAAAAAAAAAAAAAAAAAAAAAAAAAAAAAAAAAAAAAAAAAAAAAAAAAAAAAAAAAAAAAAAAAAAAAAAAAAAAAAAAAAAAAAAAAAAAAAAAAAAAAAAAAAAAAAAAAAAAAAAAAAAAAAAAAAAAAAAAAAAAAAD/////AAD+//7/AAAAAP7//f8AAAAAAAAAAAAAAAAAAAAAAAAAAAAAAAAAAAAAAAAAAAAAAAAAAAAAAAAAAAAAAAAAAAAAAAAAAAAAAAAAAAAAAAAAAAAAAAAAAAAAAAAAAAAAAAAAAAAAAAAAAAAAAAAAAAAAAAAAAAAAAAAAAAAAAAAAAAAAAAAAAAAAAAAAAAAAAAAAAAAAAAAAAAAAAAD//////////wAAAAD////////////////+//7//v/+////AAAAAAAAAAAAAAAAAAAAAAAAAAAAAAAAAAAAAAAAAAACAAMAAgABAAAAAAADAAQAAgAAAAAAAgAEAAMAAQABAAEAAQABAAEAAQABAAEAAQAAAAAAAAABAAEAAAAAAAAAAAAAAAAAAAAAAAAAAAAAAAAAAAAAAAAA//8AAAAAAAAAAAAAAAAAAAAAAAAAAAAAAAAAAAAAAAABAAIAAAD//wEAAgACAAMAAgACAAUABAABAAAAAwADAAEAAQABAAEAAQAAAAAAAAAAAAAAAAAAAAAAAAAAAAAAAAAAAAAAAAAAAAAAAAAAAP//AAAAAAAA////////AAD+//v//P///wAAAAD///7/AAAAAAAAAAAAAAEAAwACAAAAAAAAAAIABAACAP7/AAAEAAUAAAD9//3/AgAHAAIA+//8/wMABwACAPr/+/8FAA0ABQD1//X/BgATAAUA8P/x/wgAFgAFAOv/7f8MAB4AAgDd/+T/EAAlAAEA1P/c/xAAJAD6/8z/4f8fADEA+v/I/+T/JgAzAPz/z//v/zMAPQACAN7/BAA/AEAACQDl/wUAPwBBAA0A6v/9/yUALAAHAOz/AQAqADIAFAD8/wYALABBADAAGQAjAEgAXwBTADcANABKAFgARAAdAA4AJQA6ACcA///s//z/DQABAN//0P/g/+v/1v+y/6H/pv+q/5v/gP9t/2L/Vf9G/0P/Tv9g/3D/ev+E/5L/pv/E/+n/BgASABAAEAAkAEoAbgB7AGkASAA8AGAAqADiAOgAywDKAB0BzAGaAiQDPQM+A7MDtgSRBaIFcwUaBlgHfAepBYMDbwPzBI8EdwCx+236OPw1/LT3IPJV8KnxEvHR7FPp5Ook7wTwb+z26fvszfLK9Ub19fW1+osAbwMOBDQG8go2D3YQURDiEUEV1BcZGCIXZxaxFRQU6xFLEB0PTw1rCv4GuAPAAPv9hvto+Rz3efRj8pvxe/HP8JzvMu9m8HfyS/Tz9Rn4fvo+/E79zf7kAXAG/wpWDqoQIxOGFg4a5xu8G60bXB2mH9wgSSLRJqYrLCbcEDP4tPC6/gUPgwvj9NXf3dcJ0lXDxrWzupHOUdgvyXCyiK+qwcHQO85yx1vQ1OYo9zz5LvoNBnYVqBmsE3gU7yVQPRBJUEVmPDM3CTXbMk8ypzV/OWQ3Sy2yHxAUtQt0BeoAN/3G95vvteed4xHir92E1APMdMpHzwrVvNjg24jfxuBs3VHacN+97Xz9HgdzChYMcg47EFoRVRV2HhwpDC+SLr0rkSpwKl4o9yMPINseSR+aHnEbbhZgEFcJ+AFZ/Ff6i/tQ/cD8Jfmh9CDyXfLG8p3vROgv4ejf1eQn6ovpY+KZ2WzTpc9HzaPOHdZY4ITlv+GC2j7ZxuAT6yDy3PZs/f4FlAw3Dy8RTRYgHQQhBCGEIXUm5S3vMWcvwihOIvcdYBsHGq0ZNRlTFmwPxgXP/PD2AfRn8rrwYO6D67nobeaN5MriSuHk4HbiFOb36gnwVfQJ9533wfYW95j7RASRDRIUOxcJGGAXRRZMFvUY6R1cIrAjACINHxIcVRnOFsUUehOzEmoSaxJLES4OhQr2B5EG0wV5BlsKPA8/C5v3EN+n1gnkrPOK70XahMl+x27HSrxdr3u0hcqO17jLa7n/vKXVmue14xjbZ+Qz/A0N2Q7oD5Ad6S55Me8lCSE4L8BE/E3jRgA8UDdYNWsvoCeYJDMmqCTEGrUMQwJa/Yr52/LZ6bzhydwj27PbpNxc23LWaND5zfrQd9dv37nn9u2B70ftuOwU837/rgsbExgXExsRH7wgzCA5Iycpki6BL/QsSytdLCgtICp4I6ccNRk1GSsZ7Rb+E+kRbw9zClMEwALkB10KmPyw3x3K19DF6O/v2tnvvVu0HbgrtC6lmqEpuA/Tf9HIti2pML/34Ifqod5R3kD2nhACGM4TChtcMcE/PTcvKUcvokh7XOxZ8Em5Po07ajc1L0YpoylQKjIifxE/Aab3fvNP8Grq4+H92QzVZ9Pg0zvTds8Hy43JtssK0AzWrd7b55TrfugA5sbrK/q5Cs0VVxqfHWwhlCLCIVwkxyzhNtI7bzkANe4ztzRTMk0r6CM9IfchbyCyG0AXphSIEuwNpgYZBOwJtgoF91bWscNOz7fn4eq50Cq0/qxesvyriZnslxi0RM8vyLWrwKPOv0fhn+Vy1j3ZqPfnFNQZKRRaH7E5BUaWOJ0pCzSIUv5mmGA6TiBFp0SWP68zSCuYLEYvyCblE7sCI/pm9vTw+uYE207Soc8z0UPSN8/nyffGr8bpxdfEL8gf1H/kOOzp5Ujf7eZW+KkFfgvjEYsdRSdwJ28jXSZsMjc/wkIaPSo58Tw0QbQ9NDThLKsrPivdJQoeSRkfGYgZzhOuCZIGbQsHBw7sU8dRuevPxOuG5EHALKdJqQSuW575if2RM7YYz1LAPKEbohnJA+fa3R3MKtoBAW0bwxrvFhgpwESYSbw0IifZOXFdOG7FYXhPuUoxSwlCmzIvKywv8DGOJ/4TRASs/Tv6LfKV5N7Wt80JyqHLUNCI0rbOPcfIwAe+6r/jx8/V5uKP5k3i2OAz6cX3hAM7Cc0OLBjFIHAkeCbpLGY4C0GkP2U5MTlLQE9G70N7OhoyrS54K08leh9KHf0d+xwKF4sR3RL/Eu0AE9v8uyXBDuA27UrXerkyreWrcKEri/GB1prWv/3F1qr7mTGwv9PL2qjI7cXl4kMFXRJPEXIcvzh3Sk09/iUWKIdH/GWFauJdwVYhV2dQkT/XMXcx/DfTNXQmMRUEDIcIuwIk9ivlddarzhnOgtGd00PSpM/7ynrAv7OXsHS9FNL03kbexdn23GDn+vAg93z/+w08HJ8hpCF2J/A0ukALQ809QjrlPmVHt0qQRgFAaTuWNjQtzSJtH7YinSTmH0wX1xMDF94P3PAlyyi+uM+348bdjMMmscCv/6vmlgGAbYRDpCi7OLFXnUWj2sGg1i7Oj78Ly2XsLAUfCvQOvCXUQWtHRTS5JYsyAVCfYk1gnlgBWvlcJVTFQjY3KDdlOYYy1yMtGJgUeBNJDAn8HujX2HLRndA/1E7YdNfpz3jE8blVtRK5tcKbzDTSs9Ps1fPczefB8n37HAIaCMwOxhafIFwsqDehPio/nTsAOjM+FUVjSPpFdUCGOpc0gC6IKTEndybpI/AdJhhEFisTCQSC6NzQFM1D2ADd/c/3vKCzKbEEp+OTuom5lRSrirEBpiWfBq7txXPOuMaTxaPXVu+K+/n/ZQ3lJqo6pzkfLUUrJTs7TqFV0lNzVDxZ0VjTTh5DYT6aPhg7dDD6IxkcaxlzFx8RhASG9HfmYd202CfX59dn2JPUpcuDwtO+OMHHxeDIpMr0zYbUHd355f/u6veA/lQBVAOPCXwVWyN+Li81CjhvOIY46jkhPBQ+ND9zPv865zVuMcQuYCy4Jw4hoRqNFUsSGRBLCvz7lOde1/XT7NgK2PjL3r6auUG3tq61ofWcgafUtfS2yayrqla6B86205HObNEU4jHyX/d2+rAIjB+qLpssICSbJmA1PkI6RJ9BGEQKSghKb0LQOx47nTtHN4gtaiL8GrEYpBf3EqoJpv7f9HrszeRt3z7eKOBb4eTd+9W8z0vQ5dRU16bWudc93njnFe638SX2Xvx8AXkDiASnCaEUyyBLKGsqxionLFIt2CtSKYsp9it2LDQpDSTmH4gdtxp0FekOmwmvBn4EEP+x9LbpHOQz5Nvjht1g07bM88vQy17HIMFfwP3G98wSy17GRMlX1K/dv94i3R/iCO0g9S33afndAb8NlxS+E5ESHhiDIbgmgSXGI98m9isILQsqfydLJ0cnoiReH7saDRlFGGUUqAxABZcCDAM/ARn8gfcU9hX2SvR08Avule/z8urzivET8LXzA/ry/LD7CvsM/rACYwW3BcEGhgoBD94Qng9BDpUPChKiERUORwuXCywN3QzqCYIGqwT7AxYDZwE8/7f94PwD+uPzhu447jDx9/F87kXqG+nK6dPoGeat5JPmIupr62TpK+hR63zwzvKT8dPwS/Oo9tz3Fvh9+nT/+QP3BCUDdgLgBPMHuQjEBzAI+wpLDbAMtQpICrMLlQz0CvIHhwaUB+MIPQgmBg4FyQU6BrAEmgJiAkcEQQZiBjsF8wQpBlcHIwcqBmkGuQgyC10LXAmmBxgIxwkwCsgIygexCB4KAQpNCM8GwwYPB7QF4gIpAQ8CugNKA6kAVv7I/dz9Bv2P+8/6+/q5+hz5JPd39gT3LPf99UL0VvNy85/zPfPa8gPzNvOn8pbxU/Gr8q/05fUT9gb2Vfbq9k73iPdZ+Az6v/t6/EL8//tv/DD9Vv3O/Gj8zvzr/e3+NP8K/wH/Jv8i/8H+fP4k/5sAyQH6AX4BRwEiArYDvgTMBOUEKQZlCBMKRwovCl4LUw08DrENdg0xD94RoRKXEDoOKw7PD0IQZQ6FDOYMWA4PDroLtwmqCT0KFwlKBmYE8ARCBsIFWwNSAfEA/wAHAHL+jf2Z/X39Sfxr+gn5hPgo+B73Z/XP8+LyXPK/8fLwLPCg70nv9+6m7pLu5O6Q71nw8vBM8ZzxBvKG8iHz+PMQ9Sz29fZo99f3ZvjH+Mr43viS+cf6zPtL/Lr8mP2d/iX/Gv8e/9n/JQE8AsICOwMwBIEFpgZCB44HKwhnCf8KcAxfDQoOBw9RECwRSBFLEQUSOBOmE6USJhGOEPIQEhH6D2EOvA0aDvENXAxuCqYJ0AlTCXgHcAWrBOsEqwQsA2UBkACJABoAwv5a/eD8Df3A/ID7C/o5+eP4Sfg09w32L/WG9LfzmvKF8ePwqvCI8Erw+e/B757vgO+H77bv0O/Q7wfwqfCX8XXy7vIh83vzGfS39Cr1qPWI9rz3vPg/+an5kvr/+2T9T/7Y/mf/MAARAd4BtQLQAx4FXgZvB1gIMQkRCgEL+QvpDMgNtg7ZDxAR/xFpEnEScxJ8EjoSiRHSEKMQ6hDrECMQ5A7SDQ4NOAwWC/IJRgkACX4IaAcgBigFbQRtAwcCwgAqACIADQB6/4r+sP0V/XL8kvvA+m/6jPp8+uX5Ffl3+AT4WvdS9kz1t/SD9E/07vNw8/nygfLj8TLxwPCj8KHwnvC98Cnxs/Hq8a3xdPG88XbyL/Or8zr0N/VZ9gT3Lvd89374/PlE+yL8Df1W/qv/fgDHADIBUQLbAysFLgZEB5EIzAmoCkILEAxMDaYOqg9LENEQaBHqERgS5xGNETcR7BCtEHgQPhDlD0IPLQ7IDIwLwwo5Co4JrwjYBx8HTwY1BeQDnQKZAekAbwAHAKX/O/+s/vX9PP2k/BT8afvL+pP6wfrr+sD6afoo+uj5afmu+AP4rveU91n35PZn9vf1cfWw9MHz8/KZ8qjy0fLZ8rXygPJH8gHyuvGm8fTxrfKj83r0BPVo9eL1hvY/9/r31fj8+Wn71/z//dH+iP9uAJsB3AL8A/8EGQZeB5QIgglICjcLXAxkDQQOZQ7yDrMPKRD+D5UPgw+5D50P/g5wDmgOdA7MDW0MKAuSCj4KZQkaCDAH+Aa5BrAFIAT1AnIC7AH9AC0AAQAZALL/uv7w/c391f1L/U/8tvvh+z38Gfye+277nvuV++r6C/q9+R/6lPqX+kD67vnB+XX5wfjU9zf3Lvdz93z3CPdl9vf1oPUG9Tf0tfPg83704fS+9I702PRx9c711vUi9iz3m/jG+Zn6efuf/N393f6Z/2kAjgHgAhcEEgXsBdcG0weqCEAJrgkpCtoKkwvsC9oLywsDDDEM6gtOC/kKLwtaC9oK+gl1CV4JDgkiCBsHuQbiBswGHAZGBcAEZQTFA+MCWAJrAoECBgJDAcsAqABnAMv/Lv/5/vv+u/45/tz90f3G/Vz9rvw2/Dj8ZvxF/NL7ePtx+3r7Ofuu+jT6E/oh+gT6nPkk+ef43fin+BD4b/c191j3bfc69wn3NfeT96v3evd29+z3rfhY+c75Vfom+xb81/xp/Q/+4/6z/1IA3gCSAXMCRwPdA0sExQRXBdoFLQZpBrkGGAdeB3wHgweCB3kHZQdOB0cHUQdQByYH3AaNBkQG+wW2BYAFUgUcBdcEfgQhBOADwAOSAzQDwAJmAkACSgJZAjACuwE2AesA2gDCAIYAVABLADAAzP85/8r+nv6F/kX+6P2b/Vv9BP2d/Ef8DPzQ+3T7/fqW+l76Svo0+vn5nvlN+Sj5IvkV+fX46vgb+Wf5gvlq+Xf53Plo+tj6Mvuv+2P8GP2X/ff9e/4l/7L/AABLAOEAnwEsAnYCuQIZA3cDpwOzA8sD/gMoBDsEWASOBMEExgSHBCYE3gPJA9UD8AP6A9IDgQM0A/kCwAKHAmcCawJxAlICFgLsAeMB0gGbAWIBZwGqAd4BzQGZAX0BfgFoASoBAAEdAVgBYwExAfsA6ADbAJ8APgDz/9L/vv+c/27/Rv8d/8j+O/6q/VH9NP0n/QT9w/xy/Cf87fu6+4X7Yvtg+3P7jfuq+8r7+/s5/Gf8g/y2/B79mf37/Uj+qf4q/53/2f/z/yYAhgDmACIBVwGvARgCXQJhAjwCIQIyAloCbAJbAkMCOwI1AggCrQFXATcBOgElAd8AjQBlAFoAMwDr/8H/2P8AAPT/uv+q/+n/KgAgAO//9/9MAJ0ApwCUALIA8wANAecAwQDjAD8BgQF/AVwBQQExASABBQHnANAAwQC0AJ8AeABMADUAJADz/5//Tv8j/yL/J/8V//H+0f6z/oj+UP4m/h7+KP4s/i7+QP5s/qj+1/7q/vX+Dv8y/1v/lP/h/ysAWQB0AJUAswC2AKkAtADiABEBHgEQAQcB/gDcAKUAggB9AHQASgARAOv/1f+1/4T/Yf9f/13/MP/q/sv+7P4c/xj/8/73/jL/Yf9g/1j/fP/E//r/BQAPAEAAhACuALMAsQDKAPkAHAEnASUBHwEXARIBFAEcASIBGQH9AN0AwQCgAHMAQQAjAC4ASwBLACUA8f/C/5j/df9k/27/h/+W/47/ef9o/2X/YP9J/zv/Xf+h/9z//f8dAEoAagBfADkANABmAKQAwgDMAOQA/wDyAKgASwAcACQANQArABUACgD8/8b/b/8p/xL/DP/1/tj+z/7Y/tv+y/6z/qz+r/6k/pf+qP7N/uX+7P74/hT/Ov9Y/2P/cv+h/+X/GwA4AFoAmADZAPEA3wDUAO4AGAEyAT8BTQFWAUMBCwHJAKcAswDKAMUAoAByAEoALQASAPf/5//t//b/5//C/63/vP/S/8n/rv+i/6z/vv/R/+f///8SABcAEgATACsAWQCQAMMA7AACAQUBAgECAfwA8wD6ABUBKwEdAeIAmABdACoA7/+4/5r/jf94/0X/BP/e/tD+qv5n/j3+Tf55/pL+kv6g/sz+6/7j/tD+2v4O/0//c/+H/7v/BAArABsAAAAIAEAAggClALEAxQDdAN0AwwCuAL0A3wDhAL0AnQCfAK8ApgB5AEkAMQApACEAEgD+/+//7f/W/5n/YP9d/4f/rP+y/6T/m/+c/5//m/+Y/63/3P8NACQAHwAdADoAWwBcAFkAfgCvAMYA0QDpAAMBCAH2AN8A1gDVAMsAwADDAL8AkwBPABgA7P+t/3X/ZP9T/yP/Ef85/z7/3/53/mr+kf6o/s/+Hf86/xD/Gv93/57/a/9R/23/av90//j/aAAMAPb/OgGTAbb+G/ye/osDEARQANn+gwEnAzIB0v+/AXADIgLAALMBnAKDAUAAYwCoAPn/Sf9j/4f/Qv80/zD/gv7k/Tz+ov5e/k3+uv7G/mz+hv4d/1r/CP8C/6P/2f9B/1b/hwDwAAcA8f8qAXcBewCIANQB7AGpAJAAiwEJAUQAkAKzBA0BAPzl/SgDhQL5/cD9+AABARf+j/2g//n/Sv4p/sn/NQA//+P+Sf+g/+D/xv8V/+b+wf8zALz/wv9UABYAeP+9/14AcgBaAJQAzgCkAGcAsQAcAccARQCgABoBngAKAGoAxgA6AOD/RgA1AJb/pf8TANr/M//Y/lj/TQAVAPn+Qv86ALD/5P5e/9T/4P84AEoA+f/u/+P/yP/b/67/eP+N/0D/3/5V/zcA6wAjAK78WPqW/WoCwgJNANn/AwLSA00DlAKNA4EEGwW/BT0EjAI+BLMEAQFX/x8BOwHr/vL8w/0mAE/+RPo+/GT/Ovwx+kH98v0O/Pz7dfxH/W/+mP01/Tn/zv/m/iz/ff9PAMcBMABD/gsBsQJ8/zj/hgLjAer/mQFIAi4A3//gAPcAHQGGAHv/uwDUAe//IP/FAN0ADwBbAKD/Kf9cAXEBT/5G/8kC6QAs/lMA7QCu/or/UgCj/qn/pQA8/tn+HQG4/qD9SQBx/xH+2AAjAdz+hAAtAt//2f6qAKwB1gBw/xcAmQLKAbH+CADYAr0ALv6P/7MAuf8e/4z/bwBLAO7+y/93Aef+9/xpAC4Bn/0i/zACef6v/AwCzALd/cj+RwIWAKn+WgEdARb/tf8FAFAATgEK/57+iQM2Am38jwD6BFX+b/xEAx0Cr/x8/8ACxf9v/b3+swDoAMv+1/28/2EAGv9t/2MA5f46/b7/5AJ9/yb7t/9zBFL/O/zfAZ0C1f3A/1QCif4z/5cD6v+j/G8CUQSc/pL9WAFfAl8Acf4oAPUCRAAD/gkCvwJA/h/+zwCsAMT+Bf1t/tsASP6u/NwACwJH//r+WwBjAhQCPf76/0gDYf2o+9sCSQG6/K8AzwDn/fgAywDI/qsBDgBY/igEMwLR+mUAqwaf/2D6tf/xBPEBCfuP+5wCKQOS/QT8g/+aAuP/zvv4AF4GWACl/cIDbgLm/Fb+dgBZAR8Cn/5C/okC4v+E/d8Brf/n/IUDdgJU+zYAjAMs/T7+XgJkAKEBqgH3/VsCBQMT+kz/Ygj4/HD3GQXvBRj7gvx0AfsBsAI9/ez4IwIHBwb+6fvtAlQCGP5CALoBzv0o/R4C7AJX/Rr7wv/fA0MB6PuN/dkDeQIs/Wn+ZgBTAIgC6f/d+u3/2wPa/Uj+dwOg/9L9uwL+AG392gA2Avj+Lf85AoQBjP33/jcEHAAH+pQBQAcB/xj87wGPAaP+u/7C/tAAPgGH/Yj+ZgGAALwB8P+E++MC2gYX+xL8NwfD/z/6agMHAKD7mwXKAF/2VgPWB5D4a/0eCtT/0vntAw4Dyfx+AA4B9P3NAZsCtP02AIwDpP0r/YoEAQAl+XwDfAaH9mz5XAu+AazyUgGcCo37wvchAk4DXAAJAGr/SgHeAHD9hwAqArn8VP4RA0D/6vyQ/mn+/gF7Anj7Zf+UBzEAf/wcBKH/z/pcBHICFfnRAUMFdvgw/M4GBv4i+5YFywFY/DoDFgDl++IGYAS19vr/tQnQ/Nv5JQVXA+z9sQDZANAAdgJL/wT/nwFf/bL8egO3AGH5Y/8oB9n/3vey/3gHpP9++RIA5QIm/83+iP07/VUC7f98+tIBHQWH/P/+kAU5/r/7+gLHAFP9OQBR/fH8ewMb/3n6JQQTBd37ef8XA739AwJ1Bjr/w/4SAoT+4wGzA/H68f9aBqP39vmeDZwAG/LBBgMJo/SF/ggL+/yz+7AEQP/dAAMDHvbD/T4PXvy27gsJxw4a9Wr3/wmKA4j6Uv/e/rL+1gQ8AMr6kQSmBjv7i/0sBVP+9f0/B+3/P/hsBVkHavZm+g0KoQCS9tkD0Qb++SD+zgVZ/ML7lAVM/7z5XwP4AYH5egEqBo/7yPzeB6YBUvd1/0AFQPuk++gFkf+w+YIEmwKU94n/ggRt/SgD2gJm9TYAEw3X+hv29QdIA3r5eQI6AhD9MgTeATX7WAPjAnX45P+oBxj9CvqXAkMC4P8BAsX+Qf3MA4EDLPsM+3MCVAMR/ZP8EAOxAaz7JQIQBwv7AvmgB24Evvbo/oUI+v0k+vsEXwRv+mb9rQcoBW75svkEBqcG3vlV+W0FdwSg+gb/xQWg/cj7DwcLAx73ff8CByv8u/oMAqn83P1LCY8AQ/R1ATwKIvzc9rEBsgQT/mf8aQLHBC79VfolAyUETPs3/E0CVwGUAAwAmfxnACAGOwB8+i7/oQOsAuj+8fsEAAMErP6c++T/BAHOADoBJv7q/xgENv5i/GsFZQNJ+mH9gwJkAbD/HfyA/S0FPwKg+x4AVAImAekDYf0H+nIIrAUE9Nn/uQs09xP17grnBJD3fgEdA039lAXbASr1AwICDVr8lva3A/8DjADLBQ4AcPfRAZ0JpvzD9OD+JQVrABL+Iv9p/1ACMwN0/fn76v8r/vD9PQQCAaP4mv7ABosBNvxi/rwBDwShALT6+P7cA0/90vtDA6wA2fphAtcI5P/A9ycA0gmQANb1PAEdCuT7VPguCRgH1vW4+ucIngMH+Lv53ANfCMr/yPXZ+5UHDQMM+PX8JAeAAc35uQFVBk/8Z/ooA6kBDvyG/wUCHAFkA8cAH/u6AkcMxACF8x8Bng7O/Obv+gKZCbz32vuQCgX/vflZCF4CUvewBHcFjfYGAOAH0/ZI+BgI6f1H97wI9Adx+L7/Sgip/WH85QRP/6v7KQVrAU32vAAJCeX5aPl7Ch8CYvXEBNAHXfbI/NAIWP7n/OwDI/w//mUITvy49u8IJgk4+Ov5XQQjA+/7fvrfAtwEjvpZ/kgJhf5o+EAGLgPE9yIBrQTJ+kP9XgCG/ToDpACj9/QDdQrg9o/3mA6yCLHyjPicCQ8F8Pfx+6cH0gSb/E7+Q/8n/iUEqwJ0+LD9nQhsAvf67P0//6cBmgXJ/WL3mAOJCuL8kfglBncFa/nw/0MHQfvK+0QK+gCK9XcEAgfQ+JACzAs++xT6igad/FH3gwOi/ib6AgvUBz3zRfy7C5b+xfV5AWQDx/xvAvIET/qv/ZILy///8e8Giw2w8DH2ahNjAHrrDwYfDhL5tv3kAbT0EgHhDCv4IPc5DKIDtPYYA9AEcPuyAa4CU/ntAOoHHfpz+CYJWgY+9+j8ggdvAG76TQHwA9/9xfxZAT4Bvv5rAOf+c/p9ANUFQPxT+7UH/AL5+bIDjQIk9h4CmQvi+GX2hwmlBuL4uPtDAkoD0v64+KQCbg3f/db0AwdbCRv5D/x0Bd8Blf8U/Wv5YQJNBgb5b/mDCBcFlPnv/vMEEwBd/4oAQvvV/dwGWgCp9jYA2wfb/nz7eQD7AJoBHv8X+nQCeQf3+Y76eAnyAq/4cQE3Bdf/2f3J+jD/5gfY/j73MgMjB/3/cf/L/sQBFgez/Pb5aQnXAbbzSgRACLv1jf22CHP8z/1xBDn7AgG6Bwb3IvpCCwX+0/frCFcBX/b/BgkIcvg9/YYDWADnArL9pvhDB7IIUfes/SgLJf7/9s8EswUk+w39FwLmAAgClAAh+hz/BAkmASf35v7gA3//ywH8/zj6oARhB2H1wPn6DOIBa/XqAcwCH/y4BZsCSfY/A3QKaPlS+7gGSPyn/voMrvuu8VgMmAm861D5jBHQApP3Z/5YANYJLwn58F35ARUy/2XqwwZADUn2pP3UByD8Fv6zArn6IQEnCKP9Qf1FA0P+EAJ6Bw38kvsfCIUB/PeeAB0Ejf6N/43+NvzSAisDjfsTABMFQP1W/isGPf5d+coEYgQs+df8IwRsAfL/wP9r/loCLwQNAAP/7P4w/5sC3P0f9yEAGAYk/Fb78QNoAlUApgIW/0n9kgCvACYByP/G+tMA8gi1/xn5BAIsBBf+L/7c/2cAqQGEALgAqwAa/TABCQWg+Xn48ggzBX/2ugDfCuT/Gfs6/ib+dgYsB4j1Cfn4DNQCRvQ3Ar8GuPvA/5X/S/Z9AbgIWvnW+7sIRvx+9twGPASR9oP/1giB//755/5uAYcCggLw+2b67AXhBxv6qfqdBeL+x/pyBhoBjPWuAisJE/vB+yUElABaAngDFPlS/HgHXf+E+HYC1ASy/cv9OADTAFMDZAAU+Vr9+gfdApn2F/xPB6wBU/nx/bUD/gBL+gr74AbyBwP5P/tTCq8BB/VtAZEKuAAQ+tv8yQMcB1r99PjfBHYEtPnZANkF/vpV/xMJLvtq9D0F3wdY/Nr9+/9F/WMD9gLn+cL/LwU4/XABxwT09J364w9oARLyhAWyBwz3lwHHCHT4Cfv6B/QA4PqM/E39VQjxChr3LPb8CoAHMPdU+5QCpADyAfUAofvt/1kGAQFI/AEA1f9Q/lID7f/t9qgBegxB/Nb1iQfoA5H1lwIoCOr3y/0sCpL8tPjNBp8DA/y9ANj/cv5WAlb8t/pUB6YFpvh//b4G+P9i+gcCLQYv/nX7XwR/Azj4fPpbA9oBLAB1/wL8BwJ6BVj6+PvoCDQDhPn/+z3/mAcDCeP0vPVFEDYJjfG6+kwGuQDL/nP5mPrNC9MDwvDkAyoOkfSw9/IMZv9J9bgC7AEb/8kFKP3y+YMJzgVy+DcBkAXd+t37SgBT/YABmgM9/KUAjwkCAIH3vwGSBgD8uPmlAyYE6/ph+6EDcAPl/br9JADDAJ//H/32/WEBd//e/QED0QHm+Tr+pAeFATr4A/49Br8ClfyQ/moD5gFp/vwA+QLr/tz9OgHLACD+ev0x/yYDsAEa+z3/3Abt/lv5swQyB1j7cPrVAhIDsPw2+Oj8GghXBnP39/frCakLrfeF828IwgxY+Lb26gaeAmb4yABGBHz8yv0nAQQAtQL6AMr80gLYAoj51v+PCY3/qver/28EfwCU+6D7VwN3BPD7vf/2BmH8WPmDB38D0fQ6/VwJogIk++D83QL/B9AA9fhdBGIIt/Zv+fwM4QBZ79kBQg1D+3r53wUoAev/7wVP+lD3CQpCBQjyq/0TDJYAkPoiAXUDygTL/hT2cgEQCsr63vbMAgUB5/3AAZz9of3qAuH9K/90BrL9I/oVBQkCA/zoAQ//T/3nBmIAHPaxArgIm/zs+nQANgD2AEUAF/9eA9wBdPvw/0sH2gJ6+m78AgbCBH35dvsIBDD/gP3sBC4Avfq2ArQCK/whATMD0f2sAOgBSfyXAFMFNf1y/HMF+wBR+D7/MwbH/3758vsPAxgGYf3Q9xIEXQm6+gL4HgVIBMn7uP01ANYAXQN5/oT6zQPDBjv7tPljBFwF+v6c/zABav32/ccDFAOM/CL7OgHiBuoBcPiI/cgHHQAj+AECQgVI/I7+UAVGApP+8/w5/ocFLwSK+3EAWAUQ+2P69gYABen4Ufq+BH8E2vkW+gYG1wOE+KX9FwU4/nL82APIA4H+i/yv/2kE9v8h+ngChQZG+1D7cAfMBQ/8j/sIAZMDkf6s+W7/RgOy/A793QQbAzn98/2uABIC4gBf/cb+iwPDAaP8OP5uBBMEZfsQ+f4Cnweq/rf4Uv9eBgECPPqW/t8GbgA298T97AVBAl3+a/+l/8YAlwKh/wn8Mf8TA+T+jfo4AI0FpP+5+ez+1wbABE/6IPgBBBkJoP2L9w0AeAUxAaH8Jf0IApQFkwI3/WT8xAAeBGUAG/xl/4wCpABAAGf/8Px2AI4DZv4u/AgA0wBLAH3/bPxF/h4CT/9T//EDVQDr/FADBQQ8/Mz6Uv72AM8DeAG2+5X9NAOzAxcBb/2u/KECQAQt/CX6AgMpB97/hvj//cUIgAOd9YL68wfNAyf6rPx8Am4E1wHr+g38/QWnBCL63fo/A6IEBQAd/UkAogRWAFr6kP91BV//0vnX/zAGPAMw/vX+VQG//ij8DAHOBAX9bfeMAskLbQBr9eD/IwtJAWH1X/4XC2YCDvQI/CIM0Qbe9jn44AWBCFT+4fgo/1IFjAOf/+v88/ySA6UGjfxA99UBPwcJ/y/6v/28As0E1v/1+mQA/AQ2AKP+dwBB/KH8dgUHBHD5yvrqBEUGqwBG/fD8fQBWBGQAmPsXAEEDH/4y/ZMBIAH6/pD+N/5cAp0EKPyI+jkG5QRD+N78ugd6AUn6if9aAvH/9QBTAJj8Rf95BSADTPpY+R0D+QY9/Yn4RQKqB6kArvv0/UMC0ARH/3P3mP78CpQDXfQz+oQKcAc896b3vgaqBzT68vhmBPUFqvxY+p8BegS9/pf8LgFYAZv+9AElA4b8RvsOA48G3P8x+L/8YwlNBxf3Z/bNBpoKiv2y9nn+pgZWAw/9Jv8rAeb9hAA5BPX8gPlKAxkGJ/zH+FIB0gcdAi74kfvNB04Ghvou+oACxAPR/qn8hv8pAmAAoP75/3oAdgA2Afr/q/+FAeP/Yf4OARMAl/2gAaIC1Pwv/scEfgI9/Nf9mwPFAj37e/qyBD0HUPsO+NYEuQig/PL3igE1BrD/iPtv/gUBnwHZAYX/O/1CAMkDNwFh/TD+GQF6AsIAgfxB/LIC0gSr/Bb46QBxCAYAH/au/jILZQNk9lP9PAhyATL5Rv/dBML/FPznABAE4/6X+6YB/gQO/qf69wCxAwD/b/0lAdkChf/q+z7+fAM4Akf8Z/zkAVYDXACk/ur+EwATAuQBsP33+v3+KQUkBOv7Uvm1AhYJJgCm9vT8tQcuBC/4evkeCGAJ+vh09oIGZwis+mz5YAKQA5EARP+b/dj+3wLoAvT+Cv02AFQDXP8O/IoCAAU0+x/5tgTlB4f9B/jA/hgHlwUf/Af58QAzBmgBjvx4/kABKACa/u3/EQJjAdf91PwNAm8FfP7X9/n+tAjgA674WfnGA1IHIP8L+WP/CgYmADH6swDoBYH/qfob/7YElQQV/Ur3YAA0C3YC+PUF/NMGiAXQ/VP5a/67B5IEU/pz/KwCOQBKAFEDYf26+aECdwYX/oX75gHBAY78z/9XBX7/5ffb/W8H6APJ+XH61QTMBn/8hPnUA5EGZPx8+SACXgYEAWD65/o5A1cHM//Q9679tAbuBLf8PPsPAtEF//+L+cP91QZSBN74LPn9BE4H/v6p+oz8RgJtB9EAavYl/QgKuQSs97j5zwW+B/f7H/b6AVkK7/7w9Zn/6gesARz7N/5zAwUCsvx2/ZEDHwMq/EP7UAI7BtoANPqt/dIFGgN6+pj9NQYCAsn4G/1HB74ExvpT+rkBOAS3AAr+Bf4W/4gAgwH1AO/+xf0zAIUDcAEu/L794ATJA2r6yfnZA8gGj/79+V3+FQNkA5IAiPzv+3ABWwXuAAP8Ef6tAEMAzAEgAjv9l/x4AzwENfyS+6cEhwSh+Tv7/ggDBlz11PhhCwUJNPbv9asHbwtO+3DzHQF+DJsBSfPb+v8Kawa69UL5NAsxCFf06/UoC9oL3vXq8YEHHg+a+y7xKwFaDPH/evW3/rMHkgET+1L/TAQkAlT+xf6LAdcAMv14/sADJAIo+9n7fQPBBNr9+/rtAIYEdP+R/BsBlwLg/uT9tv4/AMQFkwU7+bf0/wOwDlQBfPD+9ocKKQzg+mf02wB4CFcClf2k/q3+1v+aA+8BCfs/++8D4AW3/HL54AFoBOH9v/6FAv/7wfpsB+AHnPcG9p8F9AgY/Un5rAKyBln9hflABN8Fp/gj+uYIkASC9j/9dwo1BKj36vm3BJoH/f8j+eP7eQPiBZcAH/oR/BUGDQjQ+kf0PAPQDT7/xPGT/IMKdQZg+yP53wD2B3EDv/r5/IgD/gCq/FAAEARU/5v5k/77B1QEzPd0+CcFBQjK/lH6MP95Aof/7P5qA9QB4/lx+6IFpwae/az44f02B+AGZvra9osD2Ai3/xb71f5fAu4Cu/0F+nsCPwjH/v74LP8LA9MD3wI3+pj37AQkC83+JvZ+/TgHhQUk/PD6kQMRBaP9gfwiAVEBRwACAjAAvvtL/wUG8P8C90n/CQiZ/iT55wGyA30AvwI8/kH5kAOcCMD7o/bXArALvAIR8mX29g5NDoXyafLCCkMIHPiZ/2gHK/s7+MEFGgfs/KL8cwEzAT0CRgIO/Mr8FwblAyP5mvsqBtAFTP1C+jv/LwRVA0MAYv3W+RL+7QpACnv2YO7OAVsUYgne8Jzw7Qh3E0cBJu+k9kkLjg1X+ovxb/6ICB4Gbv/49fn25QmuDvX40fALAiMKbwHc+1L9SAF/BM4Bmv1//kwAgwFlA+ABkgDqAUf8ePgeBsINEP0988/+HgZKA7P+0vd/+zoJKAaj+bD7u/4E/3AJFwYO8TL3iBDpCYTxOfXnC1EOBPgD8IwGTw4896f1uQxZB6zy1/qICe8CAfyI/0cAAf/TAHMAsP3x/f0AgANzAbr6mPv5BzAJEvjP8oIDmw7OBZP0WvB7BZgULf5u6kH+SxExBiz21fIJ/5QQ+Agf8hn2dQjNCP8ArPqX9W784AZKBscAIvjA9VAIXBDu+Hfx6QfyDJj9ifgQ/uIGGQmz+o705AXLDe/+yvKc9xcJ2w9F+BToRgIFF98AR+3x+kYLIQik/Z78KgMUAav52/0+BPL/VPwx/QD/hQY8Bl32EPeXDLwKUfJO8r0LZBMg+yTpBf+AGNkEkenr+REQvwOx9rIA2wfF/mT3eQD+C5oBlPHw/rgTpwW87N/1JBCMD1H19+sDByEbg/0C3Mj4RSZCEfffJugkE1kaOP5t6fbznxADE+bziOuBCsoW8Pq/6RwARhcQBn7nHPO4FlgPvukP7lQTZRSr9kTyOwPaBT3/qf5y/5wAiACE+pz85wrACZj2cvRuBpYLFv5B9ycBbQnzABH3BP6SBWT+ofxOBv4C1/eG/UUIYQSf+Wf1uQGSE6kFyuYs9dsZAQuT5vnynBPODmj2N/VtA9oB5vpNBfoFC/JE+uUVKQYi6Yj7VRRCBufypPVKAucHbgAt/ckDGf3i9nUJng6g9ofyOQRsBocBEwGv+076vgCUBZAHZPze7Bj+tBlFCWbpiu9yCsETcQKF68LyvQ58ED36QfHf/CQNJwuG9fjxOAT8BIz+/AeZAebsYPnYE/kJavE89q0MeQ5e+dvxkwSiDuH+JPODAAMQ7AGO6Rv5oxsjDU3m1u+zD+cJbfXI+BQEPQOa/+ECiwEx9Yj3/g75Dqjy2fI2DpgLzPN697YLtwlQ9TbxJAjAEhH31OcQCEgZ6vgd6cUCQg2p/rn6vf1E/GgAWgS/AKr9uvmA+kQJ7An88cTxJA6nDyT4CPSi/40GrAYQ/Oz0igKpCTj6yfe0B4sFXPdT/OcHjQC+8zb83xA0DU3wM+pPCKoWyv/p8OP9WwbWAIIBgAQ//Ar32AN3EJYE9u2E8R8N7hV1AWfw3vCM/O0PaRJ59WrngwORFr8DkvDW8u0AeQ+AC/T2TvFA/tcIMApz/lPyL//lDAP9IvURCMkIOPa7+YIJdgcp+j/0Zv5rDiELc/YJ8DQBgBAiBz7yHfRfCi0Op/p/8cT8HwdzBAP/ev5T+j73pwW5DwT7feymAicSDwBX8h/9Ogn2BxP/TfnE/IYDVQW6AV382vxvBJUEWPq5+QIGDgn2/Fz0hPrZBecGAP7H+vX/DQCz+5b+kAQyAyj9bvwZBcYJyPul7ykAexRQCeXy4PQZBx8Mt/80+FYANAaw/zr8cAGHAk79zfv5AOIDHP2C9p/8MQZ6BT3+gfir+LkAWwfPAnv7xPydAnwDwP4H/Fv/TAO8Ax4DZQGr/Jz54f7TCI0J2PyG9C/+swkeBMb4hvvUBWMFWfwA+Sr9ZgK+BB4Be/t1/SQDoABT+pP8kgQYBlX/Uvuu/1kCg/1Q/JADvgYhAH/66v1BBBYD4vvb+zQF1AZd+rb02wHqC9MB9PU4+oUDQgV0Agv+Fvv7/8MGdARm/rP8//xzABoGgALL+YD9tQZmA6n6/frJAZEFaQFQ+0/+wQRUAo39lv5EAFMBAgIw/hf8LAEwA5f+1/xM/2IACf/r/jsDkwQX/PD3sAF4B1MAVvsS/iABSAIYAYL+8P7tABgA+P0Y/roB/ARHAjb+Av9M/yf+eAEQA9j+Bv/9AlABZ/6j/nH+3AAbBQICufvq/EgCEgTXACP8hfy0AIQAYv63ALkCJgB0/Zr9gP8OATkAmP7A/6cCOgKX/Uv8ygFrA3r8wfrfAugFzv8e/TkAWgDx/bX/6ALRAET9+P+JBOcAkfmi/BAGAwQd+/z9NAVpAcf83P8ZAVD/SP9Z/+UBzASb/4P62/4vA2UDzwEp++D5bgUCCAj7tPd6AVAFtgAg+7n5vv85BccCyv+2/7f9Ef1KANMA5P7LAP0CFQCo/QD/Ev7h/E0C7gXc/7P7VADGAx4CcQDsAHsDEwPv+2T5MAKVB5ICzv4k/8X9Bv11/3EC0gMLAdf8ev+UBI8Ahvnq+/gCSASb/3j62/o3Ab4EYABw+4j8iAAoArYABv+i/wEC7AIcAGD8Ov1eAkAGLgbZAQv74/leAvMIjAIj+Ov65Qe8COT5Y/SbAH4IDQJQ+vT6XwJQBiEAvPvr/48Acf67Ab8A7/tUAE8EKf+v/fD/dP5L/04AR/2//2AETgHz/tb+j/rk/KUFrAI2+2UAmQYBAXn6h/3hA2YCKPyB/ggGIwQe/eT8lQB8AtgBv/4j/hcCMgOb/0L9FP4VAWoCRf5w/MMBOQKX/Nb+EQTR/x77lP3V/5kBvQNUAAz+GAPaAVn4MvnVBE4KGgUU/IX4xf7+AyQAg/0zAfkC6AB3/p/9HAFKBB8AI/wcAOUDcgG3/sb/ZQLcAnD/PPxT/uACpQNlAMb9Zf5hACMANP2s/LoBTgRQ/UT3xPwgBNUCGP4F/In8tv6y/+3+5P+jASUCfwL5/6X7Bv4LBDQEuwKiA7wBT/8kAIsATgLKBXAC6fxmANkD3P6i/PwATgM+Agb+lPds+dcCKQM7/Lf9sgG5/Bf59P5dAyIA/vwZ/x4DTgOB/ir7Nv5GA7EEAAL+/Q/+VAPNBLD+ofvFAAUFFgNt/xr+Vf+bAEUApAChAe7/3/2k/kX/yf4j/0X/nP/NALb/5v0M/1z/+v0/AOsDTANi/477KPyTAS8DxP9kAK4Cnv/q/K3+/wDhAnMCX/8FAO0BK/64/O0BlQJi/hT/qAF5AML+wv52ANoCegGK/Qz+zgE5Al//bv0x/vb/4v/k/pL/6f8U/s39lwByAQj+5vts/2UDYAHT/bv/nwKhAEL/KwKmAoz/3/+zAiwCsP/X/jMAHwOHA37/rv3fAHcCmAAj/5X+3v7x/4D/pP5e/zT/tf5XAA8Akfxl/EoAYAJ9AVkAAQCm/7/+FP/KAKwA3P+kAYICIwAz/zUAy/9//3QAZgDQ/9D/lf/I/48ANgDl/vT9NP68/1cAvf/6AOsBCf+1/doAnAEc/43/0wGFAdL/XP+NAIwBMQB+/hv/BABy/+T+p/9rAeUBnv+t/TH+OP80APgAvwC6ARIDSwDL/Av+fwBdAX4CRQJcALj/Dv8l/hQAmgHO/9z/+QG1AE3+h/5g/4YAhwFg/3L96P+kAf//y//+AHIAgv/n/jz+Mf/kADcBfwFvAR7/Yv2s/uL/p/+JABoCZwEt/5b+wP9HAIb/D/9NACgCrwFc/xT/fABGAMv/wgCuAI3/RQDXAUkBzv5I/QP/nAHfANj+1P9VAeb/m/4TANoAu/6c/QoAGgLcABT/2v4o/3T/q//8/wcBUgHc/yb/w/+W/1z/PQDpANEA5f92/t3++ACKAV0A8/7u/SP/xAHrAXoAdQCaABwAtf+W/rL+3QEuA0AAm/7Z//L/A/+a/7sAfQA9/9X+AgD1AGgAoP+o/ysASgAy/y7+ev+tAbMB0/+y/qr/wwCU/6T+2QBpArIAkf/j/2H/rv8AAYMAjP8DAA8Aqv8AAP//yv/z/8n/VgArAZD/Cf7w/28BEgA9/87/WAD3ANAAxP+c/77/Vv8kAI4BJAGy/wn/Xf8uACcAPf+X/9UAbAAY/+H+Rf+N/9r/vP9j/5L/yP+e/wIAxABfAEX/VP9JAJAAQwBLAKEA7QCPAFD/0v4wAIgBQQEsAFT/eP+QALgAjv9Q/+b/xf8KAL0A6/8+/4UAxgAM/8H+DgCFAJ8ABQGrAAIA/v8GAAAAXwCVAJQADAFOAXgAnf/A/zwAUQAWAAIAVAB/ACAAEwB1AAIAGf97/5cAbQBU/2P/nwCQAL3+Sv42ABIBrP8E/9j/z//H/rn+5v+4ABkAwP5n/oj/fgDl/9z+U/9ZAIb/5P1q/ikAIQDa/pD++f7e/ob+xP6z/1MAqf+0/h7/BgCN/4z+R/9AAcMBaACi/1UA4ACnAMQApAGwAg4DPAJQAbMBjQJ9AmQCPAOlA2oCDQGIAQ4DSQMuAt8BtQKhAk0BBgFhAiwDdwKpAaIB/gEsAuUBlwHDAdsBigFfAS0BuAClAJcA+f/P//7/9/6f/Xj9O/01/Hn7zvrf+Tf5D/hC9pX1jfVl9D/zF/OA8qHxsPGr8ejw6vAl8jDzb/O689P0fvYL+F35+Poi/XX/cwFCA1IFlAekCXsLWw1ID/AQTxLUE2EVPhZ+FskWFxckFxAX0BZnFiEWsBV6FOoSqRFfEK4OBA1/C8UJEAjYBvEF5wRZA1gB8P+k/wP/Kf3H+w38p/xQ/N36+PfV8wPwre037CnqKefD5Cfkf+PL34rZQtUU1o3ZUNsW27fbVN5J4Y7ilOKI5Mjphu9W8/b1pvj/+0AApQRkCNELBw+yETMUKBdrGlAd1R/JIpUlOCYcJdEkriVSJmEmtSVGJBIj/CFfH0wbxBeUFboTKxHUDVEKLweBBDUCdABG/zv+J/2I/DP8L/vN+Y35xfp+/Oj9k/50/in9Ovmj8rHsbOp867LtV+4g68bkRN4G2R3VRtMR1ELX8tuV34vfidwH2tXaOd/55PTppe4M9Dz5/Pxb/1ABUAToCLwNJBHQEskTvBUQGRMcHB0zHN8aABs2HA8ciRqGGrIcZB4xHUsZVRXJExsU8RNmEpEQfA9cDo8LiAdtBBUD3gLLAp0BXv/a/f79Cf9kAMkBwgI6A1IDIQP9AloDKwV1CYAO2A/wCjgBi/ZE8Kbxs/YV+PvzA+4d6dDkBN411ALO49H/213iAeB12K3TtdVf2m3cC91i4LHn7e8q9J/zvfMZ+RsC+QkbDQ4MuAuuD/UVwRrYHHgdzB4hIWQhxx22Ga0Z9x25IjUjmx6GGcEXXxciFYcRYw8aEGAROA9xCVAEpALwAnMC8v99/HL6pfqU+/77QPxG/Wn/dQEiAWD+svwW/0YExgh5C0MOhhEgEcsICvsv8ZTy4/vJAZD9+PPh7absvuhh3enRb9HK26HlHuVi21jTctVI3eLgW94s3HngKur78P/vp+2r8kT+lgiPC3MIjgZSCqEQMRUSGKAb1yAjJVEkjR44GaUYcBzdIPwhXx8jHAQalRflEx0Q8A0qDg4PGQ2+B5gCqwCAASYC9v/U+xL5h/hS+G33Bvcq+Xf9QQA3//L74vnD+5QAngQ5B+sJ0Qy5EGoUKhLGCGf+8/i9+6cDvQUN/lT1B/Ll8bXuy+N/14rWX+DY57fkDdoP08jXCuHS4prdM9pM3vrnYu6m7AvqLe/o+oAFKAgkBJECUQiCEHoV7xbzF3cbhiDOIrggQB3TG2Ed0h+2H60c2BnsGKkYgRdlFM4PpwwZDPcK8wYTApD/lACOAtkASvsh9/325Pf39gH1CfWv+Ab9fP28+qX55vtx/9QCTQXIBj4JBw2HD/sQWRMdFBkQoQiHAY//0QNZBjQA1faa8pby8O/t5lDcktlB4ITmd+Oo2anTZNcR35vhGN5A2zXf/eel7Pbp++fk7TX5awIuBCwBHwJCCd4PYBKhE3UWkBufIBghUB0yG3UdLyGJIs0fLBv4GJwZXhkrFpIRpQ6pDnsOMgp9A5n/NgDjAVQAgvuz9zf3qvfE9in1svTZ9mn6pPvC+TL4NflY/FoAWQPXBAMHmAqZDfYOdA/REM4U8xgUFzAOCgXnATcECQYsAkX6z/Qp9CPzGexc4XrbJt4v44niTdsb1B3URtqO3lXd59oN3DnhY+YI527lcuhK8Q/7IwHtAeQApwPzCVUPoRInFW4Ymx3gIUIh8x0KHYUf7yKwI+QfDBvKGdYaxRmqFY8RfRBdEbEP4wntA+YB6ALSAlj/bvrG9yv4r/g+95j1F/ZS+B/6iPnz9uz1u/gv/Y8AXQJnA7EF5QkbDcMNiA7WEbsWwhgYE3QIMALDA0cHTwbP/0n4EvVm9E/v+OTi3PDcZeIW5Q3g39bl0YTUldlf29PaC9x/4PLlK+hO5srlLeta9Jb8jgB/AFEBVQaiDCgRWhQyF9EaTx+xIUwg+B0mHqUhrSVXJUogDxxQG/YamBjrFN8RWxEbEgAQfQp6BacDnQQGBZ0AXfki9in3/Paa9L3ymfOA98X5a/aS8rXzlfet+2H/ZwFWA6QGEgmnCqEMQQ4rEjcZtxvDFbEMuAVCBB4H1gWD/u/40PYM9Ezvnuex32DeMuLx4jbektZ+0EnRFteh2v3aOdy83xfkCObW40riQuc48UL6Hv+oAFEClwYeDHUQrxP3Ft8aUB9bIjEiFSF4IuYlbCibJ0gj2h49HbUc2horGOYVsRR6E4wPKwkIBMkBQQGXAPz9/Pkd9631UfSz8lXxoPEn9D/2zvXA9Fz1wPfm+k790P7xACAElgfTCmoNGRCMFMEZzRvCF+YOLAebBWoHEwZZANz53PWA9KrxtunT4D/eX+E541/fONf80D/SJtga2//ZhNlG3EPh4ORf5K7j0+g+8g36s/0o/ir/VQShC9wQPBSfF4Ab/R8uI8kiLiEmIkcl2CdyJ5QjuR8YH3gfuB1LGqQWDRTHEuQP7wniBJADpgNWAor+MPmv9Qb1EfQC8hrx9/Hu83z1hvSq8nHzXPaV+ZD8EP4u/5gChgYoCVYMvA9DE+8YbxxGGGgQMQo2B4EIJgkGAzX7m/cK9Q/xS+tT4xffS+IA5Rfhhtnc0sbRwNYJ2irYJdc22vPequI046Ti9OY78Fj4A/xs/Av9tgF/CY0P6xJyFgobox+aIociUCG0Im4m9Sg2KKkkACHFH3QfDh1BGZYWjBV+FBcRNgsvBkMEhwNQAVb9MPm09tn1jvQ28vXwBPLz8/b0OPSg8gnzOPZQ+T37d/36/90ChwYlCeAKaQ71EjsXlhtAHMUWYhC3DMcKDApAB9n/5PiS9UTyRe3o5oPg/t4e4urhr9sj1OrPm9EX1ozW2tN+1EbZaN7n4Kbgb+JZ6ln0LvqW+z78qP+YBnANLhFeFOsZKCBPJGglXiSHJN0nKCsSK4EoeiWBI+siHCG0HNEYOxfbFeoSBA5WCA0FngRRA2r/y/oZ9+70tfOZ8SnvRu+E8d7yt/LF8QHxy/Kc9uH4Nfrs/KT/SQLEBeYH5wnzDuMTGhcrG2wcGhh9EyIQ1wzZC2cJOQHD+TH2yvHH7LfnLOF23ujg9N/y2S/UgdAc0VfV/9UZ09rTINgF3N/eFOAq4p/pFPNG+Ez6pvy2AGAHQg4NEisVbBpQHwsi8SOgJesnUSs8LSgsFircJxQlriKHILkdIRvSGFEV3xCxDB8JiwakBAQCeP7r+rH3t/Qn8mPwje9T73TviO8e7xPvQvDu8fLzpfYQ+WP7c/7jAMcCMAY3CtUN9hEaFQYXpxqbHcMb3xeLFFoRqA/nDJUEK/vn9Rbyy+2j6DjhG9z13ArdJ9jJ0rXP9s+A05bUUtGW0IfU5dhj3OPe/uCT5jnvcfXD+Jf81gHBCFkQTBXiF5gbPSC3I0kmNChQKeYq5SwYLT0r6CiMJogkOyPdIFwc8hevFPsQygzrCAgF/gFYAKP9Qfni9fXzUvJI8fbvlO157D/ta+1L7VXutu8H8gL26/hn+mr9LQE9BEAIOwyXDtsR5xU1GNYa3R0bHQka3xe/FBcR8g1nB3j+wvh79Hzuk+gn4sbb4tmp2YnV8tCOz8/Pz9HG0y3SCtGy1P7YYdsi3mLh3OX87E3zs/YB+58BcAgoDwEVuxiEHKIhXyX0JmcowClmKgwr9yoxKVwnUyadJDgi2h9yHEIY9RShEVcNrAmaBvgCzv8O/WX5YPYO9VXzP/FJ8FPvSe637lnvM+8F8LLxB/MK9cD37fmm/JMA+gO3BvMJIA0SEJITpxagGB4brx1MHRcalRYPE3kP1AujBe/8OPbT8TXsj+UK3w7ZetZ41qLTI8/UzeDO29B30+jTq9Nw14zc+9774M3jNuc67Qv0Ivj7+woCYgiBDlkUYRglHIYhJSZWKFgpsCniKbsqySrAKBYmICRyIl8gdh3KGWMW6hN5EdENaQnJBS4DsADR/XT6MPcr9dvz1/HX7/ruze4r7/3vXfDl8MjyF/X59iX5tvtp/oEBhwTfBj8JSwxjD+kRLRRxFoUYhRquGz0a8hYjFEsRUw2mCCUCGvr18xXvSOgk4UDb8NU406LS9M/2zHnNX8970YXUENYg13/bZ+DJ4m3lG+np7GDy7/cC+4X+fAR9CuoPHxUoGTAdSCIgJq4nyiggKh8rcCtUKq0n8yQFI8YgMx0tGc0V1RLvD+MMOQnoBSAEaQKR/838Y/oI+JH2MfXf8nTxafHZ8DjwffD48FDy5PQC9+n43/vw/qkBnwRLB9YJxwwmD80QihIJFEUVlBZrF84XaRfqFCkRtg3rCYkFdwCg+bLyo+0K6OLgkNp51fPR/9DXzxfNW8xFzo7QgdOB1qvYpNxf4jvm1+hu7GfwF/V0+hz+3ABfBZAK8A4GE6IWPBrsHikjZSW+JhwoUSkuKr0pmicgJQYjlCA2HfcYrBRFEWQONQu2B1wE3AFZALT+fvyx+pP5sPjb96H2E/U79CD09PPf8zf08/Ra9jj47fnd+4P+awFEBA0HiAmrC6ANZA8FEXsSoRN9FBIVYxVfFS4UNxGEDRwKpgZ8Avj8E/ae77rqxuWo35bZztT+0dXQOc+szNTL3c0h0UXU1tZw2eLd2eOS6JnrCO/R80r5HP5DAdsDzgfIDBcRHhSwFg4aSB7iIeUj+iQ9JgIoOimhKLwm0CTjInggNB3SGEgUtxBVDV0JggUiAlr/mP0Y/Bv6qfgt+Lr3Q/fl9k32LfbU9ir3PPf29wn5Lfqj+/n8RP4/AGkCFgTJBa0Hjgl6C+wMvQ3rDo8QvxFkEr0SvRKAEmERbg50CswGPgMG/7r5afNN7W/oseP43VHYF9R60f/PpM4azeLM+M4t0lDVftg/3A3hl+Z560fvQvP/97D8ogDIA7AGQApkDvwRxhSgF/QaUR4iISMjrCRUJt0nWSiQJyImciRZIoYf3RvGF+kTTBB6DH0I4gT4Aaj/rP3L+yz6J/mp+EX47ffd9wT4TPjY+GT5pfnw+Xb69vq4++n87v3P/j8A9QFmA98EcAbZB2YJFwt6DKUNmw4ZD40PIhAjEG8PFQ52C/kHtAQdAWb8J/e28Rbs+OYF4k/c69Y708jQFs/4zfnMEs2LzznTrdZf2q/equNy6bruhvJj9kr7JABeBNkHeQp+DZ0RXxUZGLIaeB1sIGQjSyXuJYQmSyeSJwknWSWlIugfPR3rGfIVtRGKDfsJ1QZTA8T/Fv1u+236pfnL+DH4Rfi5+Pj45/jn+FX5/vlo+nv6d/q7+o/7kfxM/ST+gv8bAcoCewThBVgHQQn5CjAMZg2GDmEPTxD4EOIQZRA5D5gMNwnVBdEB8Pxu9yjx6+qo5Trg4dkk1A3QbM0ezC7LC8qKyrvN8dH01fXZS97Q43HqEfAR9ED4Xf2nAl8HwwpUDccQCxWXGCYbXB3UH+0ivyUwJ+MntihcKV0pOCjHJQcjeSBNHTsZwRQ5ECUMdwhzBHAAWv0W+2n5OvgK9yD2IvZ79pn2z/YT91z3B/i4+Av5fPkp+tj62/sc/Sz+X//oAGoCAgTSBXMHAAm+Ck8Mlw3oDgwQ4RC/EW4SgBIHEq0Q6w1NCnYGBwLF/Nn2KPBE6STjS93n1tTQPcxUyenHLsdyxuDGzMldzi/T9Nfr3Nbi+Om88OT1gPrH/4kF+godD+ER2hTgGMcclx+rIdYjqSaZKUIrfCt3K8MryyuVKqcn1yNZIAUd0xhtE5MNeQh7BKkAVPwg+CD1r/MH8w7y4vCS8FTxgPJ08+rza/TL9ab3/fjM+Z762fuu/Zv/6AABAqgDrQWNBxsJZwrtC/0N8w8mEesR0BLKE40UxhRQFIgTnRKoENEM1wfhAur9T/iV8b/pHOLp2zfWus9UyafEZ8IxwmTCJsJTw4/Hp83h07PZfN+H5v7uofY//FcBDwcyDf0SKBfDGcQcvSBgJBonDimpKtksOy8jMIEvgy5vLf0rpymwJaMgxxsIF7URwguPBev/avti9ynzUO+V7CjrzerO6tbqc+v37PHu4fCZ8lv0kvYg+YL7dv0N/6YAqALeBOIGuAiLCnQMaw4QEE0RiBLgExcV8RUyFgoW7hW4FRAVFRTVEjoR9w4zC+EFWgAY+z/1W+5s5g/ey9a40D7KdMM0voe7Xrt9vEC9ob4Rw0rKOdLK2c7gR+hx8cb68AGOB1ENkxPoGfgeyyEBJEcnrCoYLZguYi89MJcxDjLFMNUu1SxXKg0ndiKgHLMW8xCLCpoD4Py29n3xGe3m6FDlUuPO4jzjc+RA5qno4utv77ny8PVO+aH8xf+WAugE6gbjCMcKmAyHDn4QOhKtE8gUiRVeFn8XVhiLGGwYCRhlF78WwhUWFF8S/hBhD+cM1gjuAoz85vY78Ufqs+FZ2ErQb8rPxP29rrdbtNS0j7fHuVm7dr+yx/TRhNtP483qifTa/ywJYw+DFFkaJCEuJ04qaitGLSowiTKLMyAzSzJNMlEytzCpLfgp7CWrIbYcXxZOD2AIbwF9+uDzo+0h6Nzjp+Bw3oPdqN213hjhxuQK6WDtj/Gg9e35af51AsYFlwgwC6QNvA80EUgSkRNOFSwXkxg0GV8ZpBkTGjsathmRGEcXDxZ8FEMS4A/lDVUMzArnCLYGdwR9AdP89fZC8QrsS+ag3v3U4cucxfnAarsStbaw/7BgtfW5ybwXwUDKDdem41ztLvXu/n4LwBarHcMh3CVRK9owUTNOMiMxmTFvMlAyeDBKLdQqiilmJ6cj/R6iGWQUtA8DCrwCTPst9IvtNOhj40rehNoA2dTY49kM3LHe1+Ie6arvgPVK+9AAJAbiC+4QUhQqF+YZABzEHdgeih4eHr4eUh/sHpUdYBtaGXIYVhe3FJQRDg8PDVILawkZB0QFnQQ5BFsDWgLAAE79Jfh/8gbtk+e84NTWlMs+w2C+jrklsyutXavqr4y367wGwTrJstYU5k7zRfweBIIPORyyJHwoYCq0LOIwcTSwM6AwIy/3Lvwuei6uK6YnKiUUI4MfJRuGFVMOvgfxAUv7gfS/7SvmAeAD3TXbv9lO2YHZt9ts4bznVuwy8Yf3yf5eBvILeg5IEeoV0hnZG3Ic6xspHNYdOR6zHGwbtBpjGrAamhlMFl8TmxGXD0INIwrjBfYCJgLiAAv/Wf6U/s7/+QEeA4QDwwRFBMr/0fkl9EXukud23Y/PGMR7vgi6irP4rLGpna3bt7LAxcW2zaPbHuwm+1MFswtoFM0flSdBKrkqmyr2K6oumC7IK0oqDCqzKdgpuSgbJakhwR5NGvYU6w7PBkn+Kfdi8Abq2+QW4FrcDNta2+DcMOBX5NroTe7p80P59v40BG4Idgz6D3ISmRRuFgIYOholHLIcbB3GHh8fcR5GHVsbhRnJF0AUVQ82C5IHmgMjACT9a/o0+Uz5Zfl4+mv9lwBoA94GNgqiDOYOhA/LC/EEdv129T3tPOR013/IB74iuT61rLCTrMyr4bK7v5/JcM/r1yPlhPSkAu8Kqw4iFVUeQySwJssn9ifYKaYt9y46Ls4u+i7ILTAtOCvoJZwf3hgAEccJdAKt+KbuQ+dV4p/fP9613EncUt6/4WfmO+yl8YX2P/sH/9ACfwccCzwNhQ+8EcMTLRa0F7cYgxt+Hi0fHx8MH6Mdnxs1GVQVhBF9DsoJAwQsAJ/9EfuK+aD4sPdq+H76FPyh/hIDqAbtCMgLXA4SEMwRlRDLCf4A9fiO8Cvoqd6f0O/B6rnytt+zULBSrWOuUrhexkDPwNTI3R7r2froCK4PchJLGY0ixyh/LBUu1y3QL3gzGjQXM60yLTAuLDgpiCSjHBwU8ApkATT6gfMQ6ubggtua2dfaS93G3TreoeIF6rzxffj8/FcAkgXPC/gPBhJkEw8VCBgtG+IbthpsGp4bJh27HSMcxxhlFS0SPg7TCVkFvQBq/Nj4/vUY9GzzxPP89P32L/kI+8z8S//zAigHqwq+DOQNgg9OEnwVuRdEFy8SHwlx/zb3u++F5q7YsMeHurm03bF6rbaoO6gxsH++9Mpn0tDa/OgE+/kLAxfFGx8gsidjL3E0vTYGNmg0ETWQNic2GTQ0MIYquSUsIcUYHw3RAbr3ie8d6QzhmNcN0rzRbNRk2UfeaeHz5n/w4fhQ/u0CtQY9C8kRERUME24SohXxGMsbfh0UHAEb6hxAHjceHh6wGuwT8A4eCxMFjv7t+B30avJt8tnvZe1578jzDvhw/PT+EwBXA6wH3gqFDsIRgRLtEywYaxyzHtkcGBQ9CCv/Xvcv7WPf9swyulWvq6seqJ2jUaELpbmyjMWw0n7a0OXT9lAKQBvTIvgiRSa5LgM20Dl8OVM1cTN5Nok4uTZlMgMrxCLoHLQVdQko+4rtJeJy29zWvM/1yMLHX8xP1ZHfqubK6/jz+f5YCWwR3RWqFxMbfiDVI9sjaSJOIYAiGSVtJB8fGxlTFZATzRHRDAEENPsl9QHxye3z6iHoxuYe6O3qN+488pD2OvvMAO8FEgnTCgsMcA1OEMsTtBWWFuwXnRkHHDofrCH6IvwhOhrKCiz53umf3WfSE8Pwrrae7JhbmjWe8aK+qe62/8rz3ZTqUPXlAigTQCOzLaYv9y5JMqY4gz7XQeFACj0wOgA4bDMNLAUiKBWmB8369exj3rPRU8iawzzEKcd+yR3NzdSi4PrudPy0BdALchJMGrUhjCe1KgYryipnK2ErBioAKKwk5h/ZGn8UZgvMATT6XPSy7//qjeRp3k/c+91/4Ubm6OqX7j/zj/n2/y0GIQyFENETMxdDGTEZ+BhqGdAZaBp0GscYMxf+FmUWuxWpFngXFBYSET0FffOz4i3WL8ywwiK2Tqbxmwydv6RxrSu2OMDAzxTljPdoApoLxxesJSgypDc1NCEwLDK4Nqc4zTU+LV0jxB3JGTcSNgcn+tXs3+KY21PT0csNyTrLt9EC2zLj3enc8kH/BA3eGVQi9iTrJRApHi1cL5AuGiuUJ7Yl8yLZHGkVQg81CqoEnfxl8YnmfuA136Xfgd/u3a7cON/g5ZXtfPTJ+ikBSQgoD38TtxWZGOEc2SB2IjogIRvOFjIVfRRmEmsOnwl7Bq0GXwjbCOMIyAqiDnsSZRK+CSH5Redg2cvPCshTvSKuQaIbogGsxrinw6fMLNmq7CIAEgu5D1UVnR4cKVUuBiqlIg0i6ye1LC0rtCIjGPoRDg+XCOv8rO9+5L7dK9rp1ePRJ9Po2l3mYvLh+6UCQgoXFKwd+SR7KEonciTjIyIl4iUZJQIijh33GUAW8g/oB9f/2Pda8CTpOOGo2sfYWtt94MjmEewJ8EH1L/zaArcIWQ3hD3wRJxMRFA0VaBfDGQ0bjRtBGhEXyhOEENoMrQn0BawAsPwP/Jz9wQBkBOcGdwqyEPkVhhcNFAkI7vSf4sDUWMovwiq41KtVpoesKLjww8rO69hp5q33sAMSBywKQBIVHYUm0yjiIwQieyg2L80uaidZHEETKQ4qBnv3B+nt4DXefd0W24TXqNkw5OPwjfoPAYgFHApIEHcWdRt9H0QheCALIBUieyWaJwMmEyHNG8oWKA/GA4j3H+6w6Ojk3t+e2tfZAOAX6gLzUPg7+0f+LgJkBQQHYQicCi8NaA9rEQQUFxgOHZkgGCHQHn4awxS0DiMJ3wNu/tX4EPQb8vXzN/gx/T0C/wbcCyARLhWfFoAUWguz+R/lXdQqyqnFI8ENuFCwILIovIHIKdP+2nbkMfPMAPwGYgpsEVEclycpLVwqkCZoKBorBChgH1sUfwopA1b6D+5G5GLhSeLT4nXhjN/D4R/qH/R++2oAOAQQCBANURNoGi8h3SVhKPApFivpKw4rXScjI1gecRPSAXzwPeW54vHlpuRI3L7Xxdya5irxBPle/BIAWgWJBmwFjgidDoMUkBlyGkkYORqQH8UhSyAPHGwUoQxxBg7/4/eN9C7zy/Er8cfwxPE495r/0waCC84NhQ+rE4AZfxt0E1YAMuos2wjVOtIDzCXAULa1t3TB3so+0aHWtd8p74v95wJoBIYKwBUAIogoYyUbIOUgICO0H5UXNg5kBhAB+PkE79fmGuZg6JroQebA4+flsu6s+J3+KAJIBpgLURIvGQkemiFgJTkoGilNKIMlLyExHeQZqhUMD5EFtfou8oXu3O1Q7KroE+Vv5PPn3O0U8wX3D/vj/mYBMAN5BVAJHw/VFJAXXxcUFuoUnhRqFNAR7wuPBL793Ph29nv1pPQp9JT0svV990T62f2zAY8FbQkXDbgQdRXXG9Uilii1KGIdtge38JffyNWXz8bEUrMHppWl6678u/TH9NBz3OvsSvoiAQQI6xHXHPUl7idgIwMiGybKJzUk6R1HFhwPfQdK+77tTef65//ol+ao4cnfSeeC9TQBwQZZCa0MkRJnGaEdcR/yIW0lrScQJ4kjYB8JHcQbBxk2ExUKg/9V9oHvZuoO5nThRt3R2xLecePU6n/yffkAADsFMAj8CWEMBRBNFDIXGBcrFZUT3xJKEs8Qrw0fCfYDA/8o+zr5DPkq+VL4Dvfa9m74wPsHAPADuQeoDAES7Ra4HHYjfCmLLHAm9BFb9X7cxcz1xM29Aq/mncaYOaJostzCdc+L2u/qq/yMBuoLMhQBH+op5jDfL9As/S44MXgt2CUOHOYQ1AUH+JbnVt0z3b3gN+J04JzeW+RE8+QBIwnVCl8LCQ+2FuMcjB4BIKcjOifiKMUm4yDjG6EZQhYcEIgHWvsM7u/k+OCc4PPhHOFm3jngduif8qf7WQKhBr0KPQ4UDqcMAA+GFJAZhhtAGa4VJxVlFlUV+hDVCUcBP/qR9f/x9O/p793wt/I/9Uf3FfrE/9oG0QzkENsSuBT+GZwhOyefKKoiexEV+LversvVwUC9SbSPpjOfNaRusnjE89PC3/Htxf0lCNsOsBcOIjcsdzN3MxIw3C+9LrcnDh7FE4oIf/1L8LrgsNe/2Q/gLuR/5DzjAOjp9VAEVAtjDHsMHhC3F7AdER8MICkk8SkiLSEq3SIlHR0b4RnLExcEcO5R3fvWONpc4OrgXdwr3NXjF+92+hEDVgiuDR0S/BEIEacTmRfaGpEc0RrBF1gWMRQGEN8LyAaV/y74dvEs7NXqSu3q8E70P/bD9p75VAGjCosQqhEnERkUNxxwJQsrtyxnKm8fkwhh6yDSg8Okvau2tqjTm+KaIabNtzvKXdkJ5wD2YgLICrAUuiClKkIxTjP+MGIvNS6qJ30djRSwC1wB3PQs5d3YctgU4CvmLeev5EzlJfCDAOwKGA21DNoOlRUGHW0fah9YI8cpwSyuKTQichs1Ga8XshBuBDX3juzA5mblgeV55azlBuY25zbrIPII+o0BTQfoCYMKaQsZDZwP/RKPFSgWuRVkFLgR5Q6JDIUJMQUu/5/3IvGL7o3vPPLf9D72Tveo+rcAUwd3DEcPtBBzEysYbhyvH7QjTygWK+0m9RR89rzXp8IOuMiyAKq+m96TtJvlrqvFitn25sTzfARaEiEa5yB7J/wsADIrMtEsQikkJ04ghxZ8DAYBAPYK64bdL9SE1jbfCeaK6BjoMez2+lwM2hTeFDgTYxUwHXQkcSSgIUwj4icMKlgmvxyzE+MQnQ/sCG/9OvF96CDm4uax5ZHj6+JE42XlNOpW8Nz3wADjBxoMYg8lEpEUzBe1Gt0b+RunGvUWNBJnDXUIIgT+/zf6ifOJ7rDsde5/8pf15vYf+eT98wNpCegMkQ4PERMWHBtPHrchEyaIKbgpWyDaB9XmGsr3t2CwaKw/ojyWz5b0pca7TNJ/487vF//UDjMXkxy3I8ApUC8jMxwwfSuGKqclbxpBDwIEAvhU7QPgyNHczmDYiOPL6hXt9O2r9/wJ+xb2GAMWTRRdGEIgqSK6HsgdkyK8JyUoDiFmFq4QtA9NC3MA2fL05zPkB+Zy58bmlObl57jqFe9S9K76rAJSCkYPuhHwEvUTqhWTFzwYXxeYFesSPw/rCjoGxwE3/rv6Afay8CTtLO2K8H/0Xvb/9mD5s/4YBXAJ3gpDDHkQ6Ba6HMwfVCHdJEAqNCw3JQUSSvQT1ZO9u6/VqLyjppwVmXqhY7T9ykPgDPCw+1oIJxSeGzYi8yjNLPUulS9xLEAofCNQGR0MwgEr+M3sKuEX1qfQN9da5Pvtv/K89Qv75wanFHwaZxiFFfEVbBpdH2sfHh0SH2wkvSeZJYcdMRRND04NCAkKALDxpOH/1wbYBt6a5Pbmo+Vt5zPvm/k/BEgNzBLdFQYXMxYQF6oaOBxHGvkWjBIFDsMJbAPL/Kf5bvf58gzuc+pF6rrvnvdw/SQBLQNmBG0ItQ8aFn4Z3BoeHGkfVCQtKFMq0CpIJQUTdPMu0PG17KmbpuqhlZhjk/SbsLA2yZPeA+7L+nkIyBNYGkEgVye+Lb4y5TOQL2gpbiLgF0MMvQLH+APtj+D+1OLQGNmO5sfvavPs9C36xgYgFGgZ3xfFFY0WihrRHc0chxsXH5okKiaWIcIYzhAnDacK8wTN/BH1DO8f6xXptOhi6iztie477j3v4POV+/YDPQrxDCQN9AyRDVEPtBEMEz4S7w/SDDQJ6wVpAwIB3P0/+ZPzSO+F7vLwFvWR+ZL9YgEsBVkIIgvzDU4QVxJ0FAQWQhcWGWcb3x64I1gmmSJqFu//f+H7w8Wu8qOBoTGg65vXnCirU8NE3bLx3PzrBJ0QthsrIrMmsClgK/otkS3nJhcfqxe5Df0DcvtN8MDknNyk11LZjOON7gj1T/n+/AkDUw5cGOsZRxY4E2MTzxcoHKwbwhquHuUj0SSDH58Vag0MC6gJwQMD+yvzbu6N7erttexN6zDrVesj7DbvafQ2+9IC3wg4DBgOIQ+OD3cQqxHGEXAQqQ1cCckEUgHS/pj81vn69YfyDPLs9Jz5b/4YAsEEhgcKClAL4wtVDLAM6Q0yEF8SjRQjF3wZghyNIJ8hwxujDST2dNiBvXerYaMoox6kFaPIpwW4E8865qr3mwDAB9cS7BwKI9cnLCodKnsq9CeaICAZxxDJBPf5F/Kf6S7idN1/2uzdnOlr9YL8yACdA+oIRxNbGwobzxYUFP8U4hnIHeIcQxy8H+sikiFDGy8SwAvdCcEG0/569UHufepU6nbrQuzC7S3vsO5K7trwQvYJ/RIDoAbwCNALew4/EKERehKgEvcRSA9eCgQFhwBh/ZT7v/nu9rX0GvVM+Lb8+/8fAaABCQP/BGoGGgfBB+8IsAolDWAQMRQ/GJwb5R1PIG8ivCDrF9MFk+r2zJS26ap/py+nKKW9pJaussIj2RfswvhBARIMeBjNH2winSMCI0Ai1yGgHX0WPxDuCMcAsPvX9vTuj+fg4nPiH+oL9qr9CwEpBGoIyA/PFzYZjBTqEOkQ/RNLGIcZHhh9GY4dMh8SHC0VCg6YClUJUQV2/iD5KPdu9QDwuucp4hbjxecZ6sHonekK8Qz89wXTDFkQUhJEFC0V8hWfGO8Z+hW4Dk4HkgEU/6v9dPqK96j2NfaE9iH4i/md+5L/QAMlBVwFLgTABJkJTg/vERQSpBKJFvUcFyHvId0iDCScIVgVY/ot1426yKvYp0qnVKKnmw2gGbMbzPbiDvKW+XwCcQ9dGWAfOiTiJQcmUidpJQkgShsJFL0JBgMv/oH1Wes44uvc6+I38Yv6Ovwu/DT+owZDEzEY8BImDdoLDQ8BFSUXeBR7Fbwb7x/sHoQZTRLSDuEOlAsmBEz9P/hN9fb0sfR187vy5PAT7WrrNe6x82X6PwBZA4oFcghiCuwKYguwC8gLdQuxCHEDGP+//cb+TwC1/4X8LfoX+9j9NwADAZEADgFeA38FPwabBioHCwgnCU0JnAiVCdgMmBAbFMwWNRi7GogfnSJ/H6wSevl/2Ra/S7AGqzuqrqeEpOWqOr3u0gjmHPTt/EoGvREzGGkZAht+HMod0yBRIW8dYxmUE3sK+gPS/xv4gO6K5hHiiOaJ8gj7CP0h/hMB8QeHETMVuhB6DIcM/Q4vEvASmhHQFN4cuSECIIka6BS4EuESOQ/SBu/+0PlK9lPzju8666zomuc05j7mXerE8Qn6CAFdBQsIygrmDHENpQ1pDtcOyw2DCrgFZwJkAo4DtALm/sj5rfaU92D6zfvM+5H8hv8VBMoHwAh7CLMJAwzLDLkKxga+A5YECwn9DcgRwRRmF0Yb1SDxI+wf3hK5+9vdGMNysq6rLquAqvam+ahst7fM7ODU7xb4wv8kDP4WkRt1HoMhJSSmJwIoPSI7HIoXDhBbCDICcPmw7+zoquQV5gTvDfcs+bj5IvsE/ykHcg1iDEYJUQkUDDgR+BVaF8oZqyB1JnAm3yGFG+MW8BS3ED4H0fyV9Wrxne9d7wnuPul74Xza4tmD4krvvvex+ub9XgQrDDkSOhReE1QTKBTNExATuhHeDYQJRwc2Bf0AVfrU8pfvAvMw9yn3q/Xi9k78bwR6CvELgQv2CmEKNQv7DE4N2wzjDUURzRaLG6scdB3gIZkmiCSwFaH4CNYkuyetJKlrqHejkZw2oLeyqcvi4ezvjfdAAtIRRB0XIowkySXgJ5ArySooJNUcuBTsC+kGlwK1+LnrPOA42jvf+eoq8UvwyO839Jb/hA1WE/APvwxDDvAS7xcdGR0YWxxFJZAqlihDIRAZAhV9E+ANegO++Cfw7upR6X7pYOoC6yzpUea/5yfv7vh0AJYDnQQqB6IK/wtBCxALMg2KEKwRyA4nCkAHLwcYCJkGBAGC+fzzmfIt9Hn11PQg9Af2ivpn/+UCiwXICIcMLQ+SDzgO9gzzDFUNEg1mDMULCAxHDsQRLxXLGOEbARxKF6wKsPO516rALrNSrkatDKoqp8it5b7t0//n7PYbAIsJVRRCG/Ye1SHNIdkgKSJIIsofXBzxFFwKTgP5/X30BOk/31Xac9/B6l7x5fLD9fv7UwbyEYgW8xOBEmsUZhemGqob0RqSHRQjqiRPIZIb6BS+D5MLIQQg+vjxAuzR5+3mqeho64vuAvCi7/Dx3vizABUGhQiTCQEMUw9OD1sL7QfxB1AKuAsqCRMEWQFPAlYDMwHK+7T1ZvJL8p7yMfK28rz1I/s2AcIFlQhdC3gOchAyEPgNDwvOCGAHTgZ6Bd4EUwTTA8ADRQUYCfYNlBIYFxsb8hx5GdkLffOw2BXFx7ucuRS3JrB1rAG18MYV2g3p9vH1+fQGBhS0GqYdYh/CHzIhKCJqHrEYQxOZC6cEtQFo/eP05eu45CnjWOr48qb1TvbX+d4ATgvWE1QUFRHhENQSuhSMFb8TmhJ9FsgbOB07G2UXNBPcELMOcglAAnz7pPXj8evwXPEo8rPyRPJC8p/16vxmBH8GbgG/+Vz1EPb/+IL6wPsSAXoJEQ+fD6oNeQxADYkMzAaS/337SvlK91L2q/bY+DX8r/0T/ikBTwXSBjAGowRGA/wDOQV/BKED6wMRBAoFggcrCewJnQsbDkwRMBV2GLIcmiS7KuIjtAvq6VPNQ8DgvR24QKo+nuafpbBCxz7ZL+WH8fIAhw4RFqcYJBnVGecbkh7XINkh1R4+F8wQyA8HEHMKk/yW6zfiaeVJ7e3v7Oz76s3wYv7mCtYOGg25DAQQORSxFM0Q4Q60E2sbwh8qHzEcXBo7GlsY2hKyC78DEPpb8J3q6OoB72TxJ++x7DrwW/n/AZkFJgUDBekGnQdJBJP/3P73A9EKfg1gCl8FCwPVA1EEbAHC+272cfNY8sHxe/Hq8rv2SfuQ/mIA4AHQA6wF8QUbBGsBFv9y/S/9J/8bA58H7ApPDBINpQ4GEAQPeguJB40Fvga0CjoQxxbkHYkjhyQTHegJMu2V0M+9W7YtsySsTaKloEyuacUl22Tq5PVQA4gSAx1qIDUhaiL4I8Al1yaFJqEk/R5vFQoNqwdXAO/zT+WK2iHZct8r5c7mA+kl8BH8qgj6DwcRPxEfFDcYaBufHPwcxh8UJZgowie0IykeaRiXEr4LVQRv/dD1wOx05bfjQOev653s3erp6zjyw/nF/Wz+tf8FBNoIXQo+CcEJ/w2YE1QWbhQDEHoLswbqAHz6OvQW75PrVemA6MbpmOzJ7+DybvVX93/5Svxd/wMDhgdnDEYRWBVNF3wXOBceFv4StA0cB1kBT/7v/G/7kvqL+zj+XgJQB0EM8RGhGLgeqiIAIWMT1fjS2h3GZsC/wqG/A7RRrHqzY8b82VHmbe2092AG5hEtF+gZcRw6H1AidyR+JYAkTh2zEGIHCAUZA4f6JusW3bTacuP56yfuVe7D8rX9+wrUEswTxRM2FqwZ3xsZG6EYpRjGG0keLB6zGx8XYxF8C9cF5AH5/9/8ifY18HPu3vF89iT3TvPP8Ez0tPo5/u/9g/1+ANUFJAgcBrsFdAkTC6EFMfyT9rr5CwBP/2H4e/TO9cX3JvcG9GjyPPXB+L366f7jBGUIEApPDBYPMxEcD/EHcAI/AlMC7/9i/R38KP35/2ABuQFpAwoEIwKhAfMDnQbiCPoK7w1kFEAcaiBxI0IpyCl2Gdn4xdV6wkPDucTytTaiSJ7/rWzFOtWx2lLkivjbCdEQjxQUGQ4eMSMdJrspaTEIMlsjEhPWDjASZBFvA+vrpN0d4SPoZ+cO4/Thxuh89jUBiQR1BxMNYRIyF6Ma1BoUG2cdhB6PHtYf4h+RHP0Wxg/aCfMItggDAvn2NO9Y7qDxVfGy6fbie+aL8ET3IPiu+Mj+Ugj5C54GMAFrA9EJwgxOCiMH+QeYChMJnAMUAGEAWgBC/Bj1au867l/vYe/t7pHwWPR3+IH7X/2a/xgDMQYqB48G7AV6BkUIiwngCHMHGAd+B9wGSAQfARIA4wHvA4EDmwGwAR8F8gm5DSEQ+hJ5F58baR35HkghgB0WCzbrbcsKvH2+UMEutyipoKi8ueXQgd/A5ALuuwBMEuMa9h1dIOIjSCc6KIYpbi23K08eVw7NBrYGrwT/98HjX9cA2kjhZeMh4tHjvexk+mAEVAgUDN4RFhchGxwe0h+FIcoiNyIPIgAklCSpIOYYpw+uCMwF0AIs+5Hw8+eh5N3lb+Y44yLh7+XE76j4R/1x/9oDhwpiDZwK6AdxCTMOYRJdEcoKPwNO/Zr5p/nV+mD4jvO974PtHe438XHzlPTq9YL2bfjC/dQBtwHFASIFmAqIDnQMgwbjBIsINAt8ClMIHwdzCPwJlggkBi8FigQ9A9sBIgFmAr4FIgnEC88O9BKGF5YbqR9oI+IgThBO8lfTRsMGxXvIrL45rtKo+LT3yGfWVtsM5Nz1sgY9DwcTzRYAHM4gIiPUJvct/y4NI00T7AunDYcOkgNO75zh7uHI5mzm2eFx4N3nA/VD/4AEawm0D2YV2BmGHcYgFyNkIoIepxu7HN8ewx1iGPIQJwujCHYG3wAP+FbvHOoQ6cvo9eWX4rXj8erD9N37f/7M/04CNgRoA4cBzgG0BCEH3wZnBmQJvw6vEeIPPwzHCrQKNQc0/mvzL+zV6STpQOex5bzncO2k88r3L/q7/AMAqwLpA/oELwcWCpQMvw51EYsUWRZNFfURrA6QDEwKpgYHAqv9+vpU+lT6Q/oA+7/8Vf/oAkUGcwieCh0N3A/VFLoaJxo+Ddj1eN6P1HDYBNrZzga/gLi8wL/PUtjE2jTjRfNmATYJ2QzjD2MU4BY1FiwaCyQDKOIfVxNhDSYS1hj1EwMFmvmq9lX2O/Mc7fjoYusb8QL1TPgL/W0BYgRkB0EMehPrGdMaABd5FIEW+hrcHXccvRc5E34Q6w2yCTED/Pom85btDeo+57nke+Mk5TDqVvGo+Dj+nAAYAMP+gv+QA0AIiAoFDIIPPBPIEpoMWgUhBNwHUAcc/yr1wO5g7JfrWupF6z3wVfT69JD2dfrT/b3/gwAxAhkHcQsRC4oJkgpYDQ8RlRObEmwQpA6HC9wH0gQSAWD9B/sD+T34/fkm/P/9VwEJBjgLaRDTE0YVbxd3GwYfBR3dD3D4T+GC1ZPUOtP2yK26a7RrusLEw8qvzvPYAOpl+QEC/wZdDf0UQRmsGS4dsyb+LSMrjiF+Gy0e6CJ6HpQQYgM//DX3n+//5Wvfod+/43jni+tQ8eP2Lft5/2cFgQ0LFfEXDxclF0waKh90IyMlYCTXIjog/xokE7MJEQDk91bxWevx5Q3iQ+At4Qjl5Oo78TP29ff69n72+fiw/U4CnQW8CIcNZROZFxgZQRkTGfEXdxTpDWYFrfxN9OjsCOhK5qrmvOep6Crqlu0t8tz1J/j7+Rv8qv7pAIwC8gQOCcoN0RGGFJIVRhXoExURQQ2MCRAGywIwAO39D/zO+x79BP9xAdQDXgXCBhgIqAhgCZsKpwtgDpYTExaSD8D+qOkv3DrbSNxO1HXGf71xv/7HgM2Bz4rXjued9iP/xAN0CTYR8RVPFc8WyR8cKXYpRyGAGR4aKiCcILwXrQwqBbz/zPi971joWOae5zPoJ+kH7Wzyifbr+Cb8kwPrDfoUuhXCE6wT4RZ6GxoesR0aHI0arRgnFs4Sxg6tCk8GsgDT+SPzTO5f6yLpiOc16OzrYvDA8dTvvO8+9fn9PwV8CB8IRQaYA18Az/+DA44HYwiZBloE2wOlBIUDxwBk/+b+4P1g/GH5PvXT8hHzafX8+OX6Q/on+oT7JP2D/4UCMQW3B1YJfglPCmcMuw0fDo4O+Q6YD9oPCg7XCrIIOQjkCOcJ4wn2CL0I6whZCGUIjgpwDL4InPsB6DbYKtOq00nQsceGwPPAtMehzV7QEdaQ4kPxQPxEAjIGQAt+EIcT8haLHqMnBixaKR0jaB8gIGIguRu0E8ELiQTZ/DD0Zexe6FDocukc6k3rAO6T8ej0+PdJ/B0DuwqAD0QQlg/uEK4VxBuoH1kggx84Hg4cexjWE3sP6wtbB1QATPjO8e7t3ut56mfq+eyb8Mfxse9R7f7tC/Kq9pf5tPuM/oIBbQPrBLgHGAywD+sPQA1hCpAIuwb2Az4BUQALARcByv4d+xn4Z/Y49fXzKvNm8/vzAvQP9Kf1QfmL/eUAMQN4BfQHsAkoCiwKBAv1DNgOng+BDxAPVw5UDRwM4AriCa4IpgaGBHMDdwMEBFYEHgQGBUkIxgryBmz6VemX3ETZD9p/1hXOt8fqyKTP7dTF1t7a7+Q48W36Rf9TAk0GawonDd4Q4xdWH8kikiHPHi8esh+IH8obwxaGElQOfAiEAFH4DvPd8eHy2vPe8zTz6PLD82z1Ufei+Z/83/+xArkEegYiCQUNKhHUFDgYPBvNHNwbzxiPFZIT6xFxDt4IJAPG/oz70/io9qL1o/UU9RDz9/C675futO0b7nzvSPD/7pLsRO378qz5uf1DAG8DlgcfCxsMywu4DPUN/g2cDa0MKAqvBoUD7gFLAkQCEQBP/UP7bPnM95r2Hfbc9ib4L/nU+mz9IwCvAg4Fhge3CrENrA6pDfgL4goHC3oLTwsyC58LEQwkDKgLVQuODA8OsQuyAoD0e+YK3rXaTNds0d3LVMoWzW/QqdFb0zHZX+Ji6wzyifZA+rz9AwEZBv4OYRmDIMMiziIBJFcmtiavI6sf9RxdGmQV8A1pBtsAOf20+lr5L/mR+H71mfAz7ZntcvC/8pXzuPTa91f8cwD1Aw4IOQ1vEmwWuhh2GacYiRZRFFQTIBO/ES0OogksBncEZgPYAcj/YP0/+kj2Q/I371ftBOwk65Drou1K8DXyT/PH9Kf3dfu8/sQA1AFlAuMC0wOtBV0I4Ar2C4cLlgr0CXoJWQg+BtkD2wEGALz96Po0+Ir2Ofbe9gj4Tvk5+s76rvtY/aX/0gE9AxkEAQUZBg8HuwdZCDUJTgp7C5AMUQ2CDSQNoQxdDEEMRAwNDVoOSg1GBnP5cOyt5frkfePL3J7US9E106vUSdKB0GnVi9/O5ybreO3K8jH5VvxV/TECvAzUFhIaBBjRF7IcRiJ7I4Uh/iB/IswhJBxPFNUOLAxFCc8E0QCy/or89/cH8mvuBe+88VDzNvNU89b0FvdH+bf7Qv/2A6sILwxgDs4P9BD6EbAS6hLmEvoS6xLiEVQPIAwICnYJiwg0Bdr/SPsn+WT36PJ17IHonOnT7G3tTeu06sPtgfGO8kPyvfRU+pf+Gv8W/wsCnAYgCQAJOQmuCy8O/g3qC3oKEgofCdwGjwS8A6sDcgIDADD+Jv4b/zj/7/3T/Dz9UP6c/iL+KP5y/xcBtwG5AZwCiwRXBkAHvgehCM0JTQrtCaUJLArOCksJXAPA+cHwC+zJ6vPoWuSA3+fdjN5z3TLaCtnT3M3iQ+bj5r3o2O0y88X1fvea/DsFvAzzDzcRWBQkGVEctBwMHasfayJgIW0cQRdRFEYS1Q6PCtsHrgY1BDL/JPoq+Az5ovkx+LT2c/dm+Qf6I/kO+W77Av9HAewB2wICBfEGLweABgIHVwmmCx8MWQsiC9sLIQzHClMIJwaaBNECcABN/in9tPwO/Ov63/lr+SH5XvhM95D2XPZS9h/28PVI9kb3fvim+ef6Vfyr/ab+VP/0/5IAAQFLAb4BXgLiAj4DtQNpBAoFIQW9BGMEKgSYA4UClQFsAdgBIgILAvsBQgKHAj4CjQFBAaYB9QFuAXIABwCLAGsBEwK7AuIDeQUTB40IwgmyCY4Gk//A9rjvb+zj6xnsOOxD7J7rHuka5V3ideN65wnrOuwi7IDsde1o7j3w+PSq/FAE/wgEC8gMSA8tEXgRXhF6EkkU+RQVFAET0xLbEvoRaxA5D4YOfg2+C+sJpQiFB6sFJAPnAJv/DP/r/kT/DgC1AJEAzP80/yb/Lv8H/yv//v/lAO8AHwB9/9D/zQC0AVMC+QJfA74CHQGw/3b/FwBwAAoAnv/W/zkA6f8Y/9X+lv+PALIA9v8v/7f+/f27/Kv7ifsR/GP8IvzK+9b76ftb+1b6uPnu+Y36EPuE+zn8Df1+/Yb90f3e/lgAmwF9AkID9QNNBDMEEQRfBAUFegVkBd0EMwShAzYD8gLfAuoC2AKIAhUCrAGBAbUBJwKUAtoCAAMHA8cC7gGEACv/av7u/d786fqV+HX2dvRe8qDw7+8b8BPwOO8m7svtP+7v7sLvW/Hm80r2UvdW9873gPnY++z9nP9MAeACqwOOA2gDHASLBd8GnAcACFoIhwhhCEkI7wiECkcMNA0cDbUMmgzFDPQMPQ3uDdUOIw9rDlINtAyhDJkMTAy4C7wKEgnhBvgE6QM/AzcC6QACAIj/uv5Z/S789vs+/PT7Aftt+q762/o9+oP5oflQ+oX68/lj+XD5ufnX+SD67Pri+2r8avxW/Gb8U/wd/ET82vxV/Xv9oP0C/oX+Bf+h/5UApgFIAnMCigKbAocClQIvA0EEMAV9BWcFgQW0BXoFAAX/BGEF/AQVA4gA7v6u/pv+mv30+4r6PPkk91T0H/Jo8XLx6vCc75rugu6b7k/ue+4q8MTyg/SS9Ab0bvT79bn3Rvk++9/9NAAqAQUBIAFbAkUE5AXgBqQHdQjuCMwIuAijCZ4Low2JDj4OvQ3EDR0OWQ6MDu8OPQ/YDp4NSgyuC7ALiAvHCq8JkwhvBysGDgWRBMAEBAW+BO0D6ALqAQ0BbgAFAJv/+P4D/tT8sfvn+pb6p/rR+sf6ffow+vf5tfl4+Yf55vkv+v/5a/ny+P34cfkB+qv6iPtW/L/86fxC/eD9c/6q/nz+GP6f/Sn99vw9/eD9fv7m/jn/of8EAEkAnQAzAeEBYAKbArMC7AJ+A2sElAXNBsMHDgiEB2IGEwXdA9UC4gHKAGb/uP3R+8z5Bfjs9oT2Tva29Zn0VvNp8vvx/fFt8kvzQPS49JD0Y/To9Dv28Pee+RD7N/wO/af9Rf40/4UABQJgA1cE5wRHBcYFqAbjBzIJYQpQC8gLrQtECwsLWAsADHcMZgz+C4oLHQu6CoUKpArsCt4KIQruCMwHEwfBBqwGtAbGBrcGNgYoBfIDHwPYAroCPAIqAbf/Jv6r/Hz7y/qb+qj6jfoe+pD5Nvki+Tv5ePnZ+VX6yvr7+uP61PoQ+4f7DfyA/M/8C/1C/W79kf2s/aP9V/3k/JH8hvym/ND8AP0t/Ub9Zv26/UL+2v5j/+j/lgBxATwC0gJOA9ADNQQfBGsDeAK0ARsBVwBH/yj+Mv0q/Mr6TvlA+MT3d/ff9gr2bfU99Un1cvXT9YH2VvcI+IL4EPn/+TH7U/w5/fz9wv6B/w8AhQA2AVYCuQP5BMEFGwZaBsAGSAfJBzcIowgCCS0JKgk+CaMJVQoNC4ELpwuXC1AL0gpFCtQJhgk3CbMIAQhlB/YGiwYHBnAF0AQmBE4DNAIZAVgA/f/E/3//Lf/0/ub+5f7F/nv+Ef6O/f38avzf+3X7OPsX+/364/q++o76bPpm+nn6qfrx+in7MPsd+yT7Xvu5+w/8T/yE/Ln84vwA/UH9vv1Z/t7+Nf9r/5b/tf/C/9n/IwCSAOYA9gDJAHIA/f9t/9X+Vf70/Y/9+/w7/IH78PqN+l/6XPpk+lX6IvrR+YX5a/mU+fH5XPqw+t/6+/oq+4X7CfyX/Br9jv3v/T/+jv76/qT/kQCcAZQCXAP/A50ESwUGBskGjQc0CKYI+AhQCcYJVArZCjYLZQtgCxgLlwoSCrIJdglGCQsJpggLCEwHiQbfBVQFxwQfBFkDfQKXAcQALwD1//r/8/+w/0L/wP4r/o/9CP2u/IT8evyA/JT8wPwP/Xf92v0W/hT+zv1R/bH8C/yI+0L7KfsU+/L60/rT+vH6D/sc+yv7SPtf+137WfuO+xX80fye/Wn+Lf/o/4wAAAFEAX0BqAGQAQsBNwBr/+L+g/4K/nH92/xB/Hj7e/qJ+e/4t/iT+D741/ej97H36PdL+P/4EPo3+xL8lvwI/aj9b/4q/8T/YQAQAZ4B+QFWAvACxAObBDgFjwW8BdUF4QXtBREGYwbSBjoHkQfrB14I7wiNCRAKYQqACnMKPwrvCZoJXQk7CRQJ1giNCEEI8QeQBwQHTQaPBccE1QPEAsoBCAF3APL/Wv+9/jH+p/0G/WD81Ptg++n6U/qo+ST58vj8+CT5Yvm0+Qn6Svpl+nL6o/r8+k/7gPue+8z7HPx9/N78Rf3F/Ur+o/6u/n3+P/4W/gf+Af7y/dD9m/1Q/er8efwp/BL8BfzL+2b7+/qg+lj6IPoH+iP6WPp0+nL6avp2+rD6EPtz+837Jfx5/NP8SP3p/bz+q/95AAwBeAHYAUACvAI+A8MDUgTUBC0FbAW3BSAGoQYlB5cH7wcqCEkIWQh2CLoIGgl6CcoJ/Qn+CdkJqgl4CTwJ9gibCCQImAf3BkkGrgUxBbIEIASAA9kCNAKXAQIBgQAaAMf/e/8v/9r+hf4+/gH+xf2P/WH9LP3w/K38XfwC/Kv7Uvvt+oX6Gfqj+Tj57/jE+Ln4y/ji+Pr4I/lS+XX5nPng+UP6tfoj+3/72ftB/K78Gv2I/e39NP5R/kX+Gf7k/bn9kP1a/Rj90/yM/EP8AfzO+7H7o/uU+3r7XvtG+zX7Ovts+8/7Rfyw/BP9i/0l/tD+ff8xAOoAkgEbAo8CCAOdA00E/wSjBTwGzAZHB6wHCgh1CPEIcQnbCSYKXgqICpIKfApcCjUK8AmMCRIJiQgGCJUHJQeyBkwG6QV2BfUEXAS1Ax0DmQIdAqkBOwHVAIYAQgDz/6H/Uf/k/kz+ov0D/Xr8AvyO+yj73fqk+nH6QfoT+u752fnE+aj5j/mK+aT54/k/+qv6I/ui+xz8gvzT/Bn9Vf16/Yb9g/19/YL9lf2q/bX9uv2y/ZP9Y/0m/dn8gfwc/KL7Jfu++nD6NvoX+hP6Ifo2+k76a/qQ+rz67Poq+3/74PtK/Mr8Zf0T/sv+iP87ANwAagHrAWgC8AJ9A/4DcQTeBEgFvAU5BrIGKAejBxQIbwi7CPUIJAlcCZUJtwnGCcsJwAmlCXsJQQkBCbwIYgj3B4cHFAeiBi4GrAUpBbAEMwSmAxADewLwAW8B4wBFAKn/HP+g/in+tP1K/e/8lfwz/NH7e/sz+/r6y/qj+oT6bvpf+lT6Uvpi+n/6mvqr+rv6xfrE+r36tfqz+sX66foP+zT7X/uS+8X76vv++w38JPxI/Hb8p/zZ/BP9V/2h/fP9Sf6N/rv+3/7y/uj+w/6X/m3+PP4G/t/9zf3B/bT9rP2r/bL9wf3a/fn9Hf5K/oD+w/4T/23/zv84AKIA/gBWAbQBHAKJAvECSwOeA/gDVgS0BBAFbgXPBSsGega7BvcGMgdsB5wHvQfXB+gH2gerB3EHNAfrBpYGOwbZBW8FAgWWBCwEzwOEAzoD4AKCAikCzAFoAf8AlAAwANH/av8A/5z+P/7t/ab9Yv0c/dT8hPw2/PL7tft7+0j7GPvr+sP6oPqH+n36fvqL+qf6y/rz+h77Q/tj+4/7z/sW/F38pvzs/C79cf2z/eX9DP4z/lX+aP5p/lL+KP4G/vj98/3w/e797P3y/QL+Ev4m/kP+YP57/qT+3/4f/2D/pf/s/zoAkADdABkBTgF+AaYByAHkAfoBEgIyAlQCbwKGAqYCzgLrAvkCCAMWAxsDIgMvAzgDQANHA00DVQNcA1gDUQNQA0kDNwMiAwcD5wLMArMCmAJ/Am0CXwJXAlICTQJJAkACJwIBAtYBpQFmASgB9ADBAIUARAADAMr/l/9f/yH/4f6f/mD+KP7u/bb9h/1h/Un9Sf1Q/Uz9SP1Q/Vj9VP1M/Ub9Qf1E/VT9af18/Yv9mf2o/cH93f3z/QH+C/4X/iX+M/5E/lv+c/6T/sH+8P4Z/0P/af+J/6//2P/+/ywAWQByAIcAnACdAJIAjQCBAHQAdQB7AHYAbwBpAGYAawByAHEAcgB3AHcAdAByAHEAdgCKAKkAzwD8ACABMgE6AUQBTAFOAVABUQFQAU4BSwFHAUoBWAFmAW0BbgFnAVkBSgEwAQ8B8gDYALgAmAB5AFIAKQABANv/vP+m/43/cf9g/13/Yf9r/3r/kv+t/8P/0//e/+j/9v8DAAcABQAFAP7/7f/b/8P/qf+W/4D/X/9B/y7/F/8F/wL/Af/9/gX/GP8m/zP/Qv9R/2X/dv9+/4r/of+x/7L/rf+o/6j/qf+q/6v/r/+2/7z/wv/P/97/5v/r//X///8LACEANAA7AEgAYQB8AJAAnwCxAMcA2ADmAPkACgEQARcBIwEsASkBHwETAQUB5AC1AIwAZQA0AAYA6f/N/7P/n/+N/3v/a/9c/1X/Xf9o/2j/bP99/4z/lP+j/7f/yf/d//X/BwAQAA8ACAAEAAgADwAeADMAQQBDAEoAXABmAF4AVABKADEAEgD//+//2P/F/7v/tv+0/7X/sf+o/5z/kP+L/43/jP+H/4n/kv+a/53/n/+h/6X/pv+e/5X/lf+Y/5D/gf92/3L/cv90/3r/g/+K/4z/jv+O/4//lv+f/6P/qP+4/8n/z//V/+X//f8TACkAPABLAF8AdwCIAJYArADFANcA6QD4APwA+ADwAOYA4ADdANcAygC5AKMAjgCAAHQAZQBcAFwAXQBXAFAATgBOAFUAaAB/AJEAngCjAKAAnwCeAJMAhAB3AGkAVwA+ACAABADq/8n/qP+M/23/SP8m/wn/+v74/vT+7P7u/v3+Ef8q/z//Sf9X/2v/fP+S/63/wP/L/93/9P8JABwAJgAnADQASABPAEoASQBFADsAMgAoABcABAD1/+b/1v/A/6H/hf91/2r/Y/9p/3H/cP90/4b/mf+o/77/1f/n//T/+v/8////AwAFAAkAEAAQAAQA9f/p/+D/2f/X/9j/2P/X/9n/2//g/+3//v8PACMANABDAFYAawCCAJ0AsgC7AMQA1wDlAOkA7gDtAOQA3wDXAMIArACkAJgAhgB7AHMAZwBbAE0APQA0ACkAFgAFAP//9P/j/93/4P/g/+T/7f/y//P/9P/z/+//7P/r/+7/9f/1/+n/5P/p/+n/4//g/9r/zf/D/77/uf+x/6n/nP+M/3v/aP9V/0r/Qf82/zP/O/89/zz/RP9U/2j/gP+S/6H/t//T/+z/AgAVACYAPABUAF8AXQBbAF0AXgBaAE8AQQAwABcAAAD5//L/4v/P/8X/v/+2/7L/tf+2/7j/yP/d/+f/6f/u//b///8GAAsAEwAeAB8AFwAWAB0AHQAXABYAHwAnACkAJAAiACcAMQA9AEwAWgBdAFsAYQBnAGMAYQBjAFwAVABXAFcATAA9AC8AKQAxADAAFwABAAQABgD7//D/8P/0//P/7//w//j/+v/4//7/AgD9//n/9P/j/9v/4//h/9T/1f/Z/9H/0//g/+H/4f/y//7//v8EAAwACwAQAB4AIwAaAAsAAAAAAAYAAAD1//b/AwAHAPH/y/+2/77/0f/M/7L/oP+b/4v/ef+D/5//t//M/8//uv+x/8r/4f/q/wUAMABIAEcAQwA9ACkAGgAeAB8AGwAmACYACgAHADIAUwBKAB0A9f8LAFEAbwBcAFAARwAwABsAAwDm/9H/yv/N/9L/0f/o/xYAHQD+//v////b/7r/xv/u/xUAOQBhAIIAfgBoAFcAMQAFAPz////e/4//kP+hAKcBNf9Z+LXydvXL/3QISwgvAfT5Y/gB/mQGOAtYCkMFbP+l/sQECAogBpT7yfTp9wEAnwObADX88fq7/cUBGgIl/3f/5gSWCeoIQASrAFYCmAbxBSwA7/0YAUoBsf3X/pUCLv9t+F33OvnT+az5Jfcj9rL8UwFl+9/1/vdZ/KYCdgiIBc/+Rf4nA58KHw7fBQn9gADKBcME/AMBAjb9Av5CAu4B4wBTAK37KvkG/rwClgMWAmT7TPVn/IoIkgWX9z70L/9RB/8BdvnO+/sDpgOW/CX7TgCtAjH/y/2JAiAEPv4U/FQBIAMA/yz96f+tAtkBIv8NAIkD+gE1/In7yQGUBbAAKPvr/tkFNgTJ/GD6m/+vBf8Ea/4b+mv8LwPrB4sCFfhB+T0E7wXM/dz6AP/ZAjwDjP8q/OD+BgPBAUz+ev2V/2YDawQyAFj9sP+qAb8BYQOTA0P/FfzF/mIE2Qe0BHr7JPdJ/1QIMQW8/Gv6b/0sAlgFIQFd+lH8rgG3AGAAqQP1/6X4A/xNBd8F5P4Z+zz9vv+x/8kAQANbAdv8B/2LAHYCawIyAGn9Tf6VAccDLQRIAMT6af17BZ0GzgFd/sj8//60AzYBwfnY+Yf+Uf4n/IX6r/c7+e//9gFH/yr/jP/J/9AEJAlCBmMDJwWOBo4GUgXUAGD+0QLrBk8DdPvh94f8IAKr/3j6avsU/rv8Gvs//IX+j/+D/az6l/uB/4UCOQLG/mD9vQBOAvX/LQBDAnwBmgCUAZwCRANuALz6JvxTBJ0GLAJI/lj71ftEAqQFxADV/Kf+igDFAAIC5AEL/uz7f//gAh8CFgHs/8v8r/zzABMDrwF7/5H8QfzfAMMDIQEd/hT9cP25ALED0gCr+9X6F/6iAg0FjgEX/Gb8NQAQAYkAbAFkATwA+wD5AoAC9P7p+yL9bgKCBiIEFv7s+z7+FQC8ANUBeALNAR8Ajv6R/rn+7/1//wgD7AI5/8L8uvxE/loAYwG6Ab4BGACG/rb//wAPAEMAJALgAPD97v9OAywADfws/6EDeAJM/8f9D/44AHUBMADQ/1AAFf/D/roA5QDi/on+gAB0AgkCMP/j/cMAMATOAyQA3fwr/aYAFQMLAqf/kP0Y/Oj9XQLVAbn7I/sjAqIEDf9p+wv+cABe/w8AswN1As/7sPrnAIsEZAL9/gP+CQEBBHEBX/0v/tsBqwMFAhj/8f5pAPr/s/+cAPz/Nf+A/8L+x/56AML/gv1Q/uEAogGm/5r8MPzM/icBtwIqA4EAKf1F/SQA8wJ8A2QBmP8UAHIBVgGB/rj8XgCPA6UAZv6X/7D+s/6FAqsC7f47/jn/KQBQAn4B1v2H/Zf+kf6PAQcEMQB0/N391P9YAJAAUgATAcgB//51/Ab/EQK0AFj+Pf8LApQCDwB+/sT/VwH+AesBsgDG/+D/Gf/a/nEB1AJ6/4f7sPvE/pgAu/82/2sAJgCO/kX/YgDp/pL+gAFfA0UCnQBp/8j+Mv/0/8EAvQGeAWUACgD+///+B/96AJAA0v/TAL8BKgB+/t7+Y/9y/+UACQL7/xf+1P8EAQb/N/7d/9MAGAEDAUP/o/0k/pD/TgGDAikB+/6U/rr+Y/9kAb8B6/+o/08AYP/1/vP/HQDy/6UAMgHeAG7/K/7h/40CrgFD/wT/rv8TAIIAWAAuADAAlv+TAOQCjgEW/jH+/f9GAK0AvQCS/z7//f62/Uj+MQDo/wf/6v96APn/AgBYAFAAYgB9AF0AGgCl/5P/fwAuAXkAbv/j/l7+h/4mAFgBiQCQ/97/BABo/5f/0QBDAVUA+v82AdEBYgCG/9UAkAFeAPD/+QCzAJX+hP3x/sYAogBQ/xz/av9f/n/9rP4EAAIAEgBoABgAKgDjAHEAOv9Y/0UArAA2AbQBqAD1/p/+Ov/P/80AoQG7AOH+gf7g/9EAgQCiAIkBBAFQ/3n/BAGLAL/+Nv+yAbUCDAEA/9L+4f8oAMH/UQBsAfgAa/9C/+v/8/7u/Zj/bQFcAL3+0f4T/yT/JgD0AEsAYv8W/7v+sP5GAGsCMwLR/2r+0P6r/6YAIAFgAPP/kABTAPT+SP4b/xgBpgKmATj/WP75/nH/uf8hAIQAKAHAAfQAwP56/Zn+QACBAE8A6gCyAaUBcADY/nL+e/+VADYBfwEJAdv/1P65/kP/a/+E/40A8QAj/7f9ev4u/3D/LgHPArIBPP/p/R7+MP9CAA8B0wGlAQYA2v4L/yz/Tf+aANsBVAHN/wr/qP+YAEoAXf/N/+4AnQBV/9z+V/8IAHoAiQBxACkAnf9z/+//YwCbALEAUACw/5H/IwDjAAABMgBz/4r/4f/a/8L/FgDAAO0ASQC2/3f//v7m/rr/JQCN/1L/BACXAFkAsv9V/17/eP/0/90AKAHKAOsAHQFuAPb/kQDeAPX/C/9B/wsAewCjALsAMQAL/2/+wv5r/xgAhABrADQAAACP/0j/cv+G/3f/ff9o/7H/rgAcAUoAhf9e/xD/yv5i/5AAXAE1AW4A3P+7/8z/PwDiANEAJgDp/0IAvgAIAcYAMgD9/+v/gP8d/xP/S//m/5cAqQAWAFP/3P4y//f/JQDQ/9H/MAB6AI0AWQASADcAcwDa/9H+uf6K/zYArwAVAasAkv8C/yX/TP9x/8H/NwDqAH0BQQE9ACz/zP5H/+T/NQCwACABxAD1/2H//v7v/mn/9/9JAGgAMwDf/8v/1v/s/yYASQBbALwAKQETAZMALwA+AIYAiwBaAD8AOABFAD8Atv8C/9f+/v4k/1D/Qv84/7X/+P92/zT/a/9J/0f/AQCOAHEAbgDGANYAbAAKAPD/xv+k/xQA4QBRATUBpQDg/3//mf+7/wMAjACsAC8Axv/J//H/EQAXANj/VP/2/kD/BABqAEEAQgBnAPX/Of8X/27/vv8GADcARwB7AL8AsQBoABUAtf92/5n///9rAL4AzwCTACUAff+1/mn+4v59/8D/BgCGAMMAUABL/23+iv5h/wAAZgAMAW8B+wBNAAAAt/89/zb/9//gAC4BxgBAADAASwDq/1P/Sf/G/0wAqQDKAKEALwCP/yz/WP+u/9z/HwBxAH0AWgAvAPD/u/+w/73/4/8nAHoAvwC1AFIA///h/8j/2P82AJYA0ADiAJsAJwD5//n/5f/1/0IAcwBUAA8AwP9x/0P/Tv+E/6L/hv92/6n/x/+M/2j/kv+h/47/0v8+ADEA0P/A//r/BADl/93/1f+u/5r/rP+5/6z/iv94/5//yP+p/5H/1P8MAPH/3//8//X/yv/S/wgANQBPAFEANgAyAFwAcQBQAC4AGgABAAoAOwBDAB0AGgA0AB8A5f/E/8r/1P/I/7H/tv/q/zAAVABIAEAATwA7AAIA+/8nADQALQBaAJoAkgBOACYANQBEADQAKQA4ADwALAA6AF4AQQDn/8n/BAA3AEIAQwAkAPn/GQBoAGoAKQAbAFIAiwDBAPwA+ACeAF8AhgDDANcA7gAYARMBuQBKABcADgDs/9P/EgBpAGgAPgBCADgA3P90/03/SP84/yf/Pf+M/8n/j/8P/9L+u/5H/p39Zf3C/TL+LP7I/Z39t/1u/b/8b/yb/LP8r/zp/En9bf1G/Sf9Qv1k/XH9nP3+/WX+kf6Q/s/+X/+9/8P/3v8dAFkArgAwAbgBEQISAv8BUgLXAhEDKANpA8kDIAROBFUEXgRXBDEEQgSlBPwEHQUzBVoFfgViBQUF2wT6BO4ExgTxBDkFIgW5BEUE9QPLA4UDDgOlAl8CMAIcAuEBSwG2AGIAFQDO/7H/iv9D/xX/9P6z/nz+dP5l/jD+D/4o/j3+F/7U/Yv9Lv23/Bf8L/sa+g75E/gQ99n1VfS/8mfxLvDZ7p7t2eyI7IXs1uxt7QTum+6t71vxLvMI9VH39Plw/M/+XQHvAzQGNQgRCrkLDw0VDvQOtQ8zEG8QgxBFEJEPug4FDjsNRwx/C+8KTQqmCS8JvAg4CNwHqweAB2kHYwdKBy4HNwdOB08HKwfoBqUGdQZEBv4FowU8BdgEkARcBBUEngMRA7UCmAJtAgkCkAEQAYgAKgD//7P/K/+S/uf9Iv1u/OP7bvsG+736g/r5+d74fvcx9rL0s/KI8JDup+yT6mLoROZX5KriZOGu4Gzgi+BX4fPiEuWd58fqee5p8oX2z/oW/x8D4QZ8CvEN8hBHEx0VmxaTF+4X0Bc5FxYWsBRqEyoSoRDjDj8NwAtMCuEIkAdsBoMF0ARkBFsEhgSkBNcEWQX8BYUGDQfAB4YIIAl6Cb8JCwpGClwKUQoYCpQJ0wj2BwkHDgYCBdgDmQJuAWQAUP8k/g79MvyU+zf7C/v2+gT7Y/sm/DD9UP5f/2kAjAGkAmYDuQOrAzQDPwLJAMz+L/zn+BD16PCW7A/oWeOt3mXa0tYh1GfSzNFv0knUPNcg27nf6OSm6tbwS/fT/TUEWgo3EJAVFxrCHa0g0CIQJGAkuyM0IvUfCx1wGWsVbxGDDXUJjAVUAs7/lf2e+zb6fvlI+WX56fn2+mb8FP4vAL8CSAWGB7sJ+AvRDQkP4Q+XEA0RBRGMEOsPHw/lDUYMkQrYCPQG4AS9ArYA1v4B/TX7qfl5+IP3x/Zy9or27PaO93T4lPnh+mD8Hv4VAB4CCgTcBaIHLgk8CrsKnAqVCYkHlwSZAE773/Ss7f7lTd4811DR5Mwpyj7JUspZzczRD9fO3NriEulm77b18/tSAhcJLBAkF5kdTiMJKIwrli3bLVEsYSl5JcUgfBv6FWEQtAoPBZj/XPp09Q/xX+2j6jLpPumd6v7sM/At9ML4mf1KAq4G0wqzDikSLhXCF7kZ9BqQG5QbyBoYGcoWKhRLESoO2gqIB2AEWwFi/nn7svgU9s/zGPLx8FDwTfD08Dby+PMG9h74KPot/CT+/f+wAUkD8gTWBuII2wqwDHIODhA1EXgRZhDMDbIJCQSn/J3zhOli30LWrM7IyA7FLcQ7xpbKYdDK1kfds+P66dTvEfXm+QD/LgWRDF8U3BvsIm8ptS7OMSEywC9QK40l+x4DGA8RoQo2BecAUf39+a72SPPh76DspulI5w7mNObO5xjrEvAc9oL89gJHCQ4P2RN5FwMaphuOHNUcixywG08ajhifFncU3RHLDnQL/AdmBKUArfyc+Mn0dvHR7gbtLuxb7KLt6e/S8vb1/vis++f9n//EAH8BJQIGA1QEGQYwCHMKzAwUDwQRVxLiEp8SjxGpD9wM4QhSAz38EfQR64DhL9gD0InJaMVDxArGIsrjz6vW/N1j5SXsyPGj9lT7SADsBWAMORMsGkghHiiFLWgwgjA9Lg8qMiQHHUQVrQ31Bp0Bk/1D+kT3ovRp8knw4+1M6xDpyefS5zrp6+vn7yz1cfspAsUIwg7fEyIYeRuqHZ8efx6GHe4b2Rk/FyUU0hCLDUwK8AZvA97/Sfys+AL1aPEk7ovr8emU6X/qpez870n0DPmz/cMB5QQDBzkIqQiJCEIIPQiyCK4JGwu7DCEO6w73Dk4O9wwQC+cI1AYaBcYDjAK8AJX9vvhj8sHqDeLK2PXP8sghxffE6sdhzfjUDd7F5wLxZPhZ/cQAzQPWBusJNA0YESgWYhymImonxinAKdcnLyRtHq8WHA4lBqD/ivpv9hvz5fAT8D3wjvCD8FrwzPAv8hX0B/Yl+Nv6ff7nAmgHbAs2Dz4TTBepGr4cbR0OHdQbehnUFTYRMAxuB3UDLwAv/Xv6cvgI9571uPOB8YTvJO6M7dftLO+98Zb1W/py/0AEVgiJC8YNyQ55DkwN4wuTCnsJpggSCMQHqAdfB38G5ATMAqQAxv5f/aX86fxO/okA0wICBA0Dnf/s+TbyzOiK3uLUe82sydzJc82Y053buOTT7Zv17Pqo/eP+4v9MAXQDmwYGC/AQEBgXH04kzCanJkQk3R+YGesR5gngAqz9OPoD+KX29fXm9TD2Sfbb9SL1wfQ69Z/2w/iN++7+xwLrBv4KjA5mEaYTXxWdFl4XXxdoFqcUSxJED54LnweeAwAAI/0e+9z5LvnT+IH4CfhV9032APXY82Xz8fOG9Sj4tPvO//4Dugd4CvcLPAxmC74JsQedBdsDugI/AjUCcQLCAtgCdwKPATcA0v7z/ef9sv5lAAEDMgZaCXgLQQsFCAcCyfnM7/bkWtow0RjLUcmXy6vQi9ed3z/oh/A69237bf2E/uH/+QG/BBMIRAzGETEYBR7HIQAjGyKcH5Ib1xXIDnoHMAGa/Gb56PYJ9TD0hvSn9dn2sveP+Ar6LPyL/soA2AL4BGoH6wkEDKUNLA/tEMsSUxQsFU4VwxRgE9IQAg1jCKEDOv+L+9b4L/ea9gL37vey+O34pPgN+ET3Wvaq9eH1Yvf8+U79CwHbBEwI+AqTDPYMKgx/CnoIegaRBOUCyAFVAUgBUgFQATIB3gA5AF3/o/5p/t/+FQD5AVYE4AbwCG4JaQejAn37p/Lv6B3fMdagz8nM981V0qzYAeCv5zjvsfXm+Zv7Ffzx/PP+EQL4BYkKDxCCFrAc0CDlIUsgBx3DGHgTGA1rBt4ASv1N+/b5t/i492P3tfcZ+Bz4AviY+HH6Wf2cAMYD1gbdCbMM6w4dEHgQpxACEWURtRHdEZgRphDaDv0LKgjYA3z/hft8+Lr2PvbX9hL4Rvn5+Rr6sPm4+Gb3SPYl9ob3Svrr/QYCWwZnCmsN2Q6SDuAMRApGB10E5wEoAFn/f/9OAD8B3QEIAs0BHgEIAAD/oP48/9UARwNQBnEJpQuSC2gILgJl+e/uDOS72fbQbcuPyhPOadT827bjIOvn8Qf3dPms+Yv5yfoN/tYCNgjyDXUUYBsFIY4jaSKlHuUZ5RRJD+YIsgI4/hn8a/up+i35lffV9v72O/fz9rH2r/eC+mz+IwIdBdgH5goPDo4Q7BGAEisTahSzFQ0WExUeE58QiA1tCUgEBP/P+iL4xvZd9qH2bPeJ+GH5SPkm+Ij2L/Wy9ET14Pak+bb9rQKGB00LoA2SDjkOoAwDCvoGOAQ/AjgB+gAuAX8BtwG9AV8BSQCF/rX8nvue+8r8Mv+5AuwGNAveDsMQgA+BCmICLPjx7Nzh79dA0E3M7sxU0dbX6t5q5fbqs+8d82n0K/Rg9Mz24vu2AuMJwBCHFwEeviIEJFohGxxcFkMReQxcB3gCOP8p/jL+ov25+yj5Mfda9gT2dvUQ9RL2O/n0/cwCzgY9CukN6BFcFY0XrRh2GUoa0hpiGm0YkxTnDggIbwBc+MLw+uqj5+Xm0+jD7IPxCPZR+dn6Sftk+yj78/oW/Hz/ywToCqsQRhUxGPMYSBeHE3EOzwiUA///mv6K/tD+sv9xAcgCSwJeAIf+rf3W/fX+ZwGbBQwLEBDTEv0RmAzoAu/2oupe3nnSTMnnxf/IENCO19DddeMq6dTtmu9l7o3sIO3c8TP6qQP4CzcTyhokIhwmECQNHT0V7Q+vDDAJ/QQSAgMC8AMxBYcD4v50+bT1H/Q+8/zxdPHx8w36dQEJB+sJ3QuxDhYSRhRTFD8TyxK1ExQVMBUZE5YPVQz9CZUH8ANU/2T7kPl3+T75t/ec9VT0L/RP9NPz8fL88h71E/l9/UYBUQQTB8sJ7wtrDOUKoghkB3UHwQeHBxIHEgexBw0I6AYZBLQAyv2v+zn6D/lR+P344PtbAAIFEwmbDMAPUhJME/8QyArgAd33qu0L5H7bZdQo0GbQkNRE2ojfZOO/5YrnZOlr6hbqK+pF7W30of59CZ4SixlEH6gj4CSgIbAatBKyDMcJVAh9BpsEMgRgBU4GqgS2/0j5TfT88TPxx/BG8RD0svkkAQQINAwQDrgPBBLTEyEUNBM9EowSLxRXFVAUXBHODVkK3wbYAgn+afm39nX2Qfeb9z73u/ak9vP21Pa/9a70L/W596b7BQAABFkHiwqiDYAPJw8QDYsKhgg3BzYGAwXYA3kD6wNNBOkDrQLtAE//fv6G/hP/YwD7AooGKAotDZcO3wx8Byj/ufRq6Q3fm9ZB0AzNFc6p0vzYNd9v4zLlQebv54HpgepJ7LLw0PgFBF4PsReiHL8fcyHbIEQd7xbHDwwLRgpSCzwLmwnRB7EGnwXhAi395PV08NDuGPCL8iv1NPgH/RwE9gpzDoYOow3HDWIPXBHyESgRThGpE5EWgRccFdgPHgo0BmUDd/92+rP25fXK92z6Zvsb+kX4g/eH9yf38PWX9OT0avhJ/pADtAa/COsK9QzfDbQMdgnxBUgElQRaBX4F9wSVBDoFaQZRBhkEGQFb/7f/ugFSBHwGLAhNCrQM8QyNCH7/q/Pa55XeJtjw0hHP7c6N0yXblOKR5sjlD+Nw4knkYeYx6J3rHPOY/y8OgRnOHtofVR8YHp0b7xZDEKcKywlkDVQRSxIeEFYMYwhpBBP/qvdB8CjsyuwH8Yb2JPt2/tAB1AUDCd0J2AizBzYISwsHEFcUEheXGIoZyxlqGFgUzw3aBrcB4P5G/f378/p/+tz6lPtN+/P4KfXG8SPwWPC+8cnznvbA+hQAdQVxCVQLfQvrCocKhgpiCr8JIAlHCScKBAsRC+MJvAdzBd4DSQN0AxgEHgVnBr8HyghuCDIFtP6v9WTr4eEf2wTXSNT+0izU3df23HLh4OLa4Evef94M4o3nwO2J9BD9BAhCE/IaPx1LG3IXABQSEtsQUA9JDmEPbhJpFRkWMBP4DFkFVv6U+Pfz1fDR70/xR/Xc+jgAzQNgBYgF5wRcBMMEJAYcCNAKdg6UEmwWLBnLGeMXXxRhEFwMoQiDBc8CWgCz/h3+yv3y/Gn7Avkl9kn0KfTR9Ib1rPaN+CP7Wv5PAdwCQAONAxUE5ARKBvUHPwlnCsoL3QwgDZkM+goWCAoFNQPKAnYDJwVmB1oJ2wrPC+oK6Qb7/6D2ruvG4Xzbfdhi19nXatmm2xjfzOKx4xDhrN0D3DPd3+EW6QHxffnIAhwLohCFEw4U/BGcDjoMzgtoDfQQAhV0F/QXNhe9FOAPbgmjApv8Avm4+I76XP0bAbwEYAbyBV8EwgHc/nD9uf3z/rgBgAbJCysQSxNPFMISBxBfDakKNgj9BtgGJQfzB8sIewjXBmIE6ACZ/O/42/YV9qv2wfhd+6T9rf8IAd8AnP8i/n/8GfsY+878v/+7AykIuAvNDaUOGg4KDFwJDAddBbAElgW9B0sKvQwRDsMMYghYAen3Y+1l5GbeFdsN2tLaY9yH3knhHeNT4p/f6dx421/cO+Bu5kDuT/cFAFgGDwrxC/0LcAqICD4HPAeCCewNnxI0FmoYcRh6FXEQ7wrNBQICdQCwAAoC7wT7CCUMRg3ADJYK+gaNA38BpABPAasDDQZIBzcI4QgnCHEGigQKApz///4GAL4BpARRCKkKFguzCpYJeAcPBbUCZgAz/8P/+gAzAhIEBwZzBiMF0AKo/138Ovpa+T/5aPob/VsAbANOBqYI9AlSCt8JrgijB+sHPQkyChcK0AihBTsAAvpc9E/vuOqd5p7iQd/93YreBt/s3trexN7V3uXfE+JF5RLq8u/M9Pv36Po6/kcBwgOoBc4GxwdRCcwKZwvEC1sMNwzdCh4JogfdBn8HAgnTCdcJMgq1Cm0KiQl3CE8HxAZFB+kHSghDCcEKkAtSC08KpQjrBtMFCgVGBEQEXAW1BpoHJAhoCEEIpAeFBgQF6gP9A+kEvwUnBkMGAAZCBQUERwJfAAT/Xf7s/Zf9zv2x/s7/jgB3AJP/eP6l/TH9Vv1n/kMAfQLHBPIG4giPCqQLWwtCCY8FngAO+yr2BvNt8XvwSO8F7e7pPecR5V/iW99J3ZTcNt1U35biw+YK7EjxdfSB9SL2Zfd0+WT82v9vA1MHPgvkDZwOHg7zDNYK8gddBTkEMgUQCGYLsQ3GDvcO3Q1pC7oIwQayBfoF0gd+CoMNqRBeEhYRxw0dCm8GWAPyAfYBtAJWBCkG3gb4BmgHLQdqBTADnwH7AJoBXgN8BbYH4gmtCl4JTQe0BSkEXQLTAKr/zP6u/lH/7v9BAHEAKgBN/4L+bv5C/+0A4AJcBIcFGQcOCVQK7Qm8B/QDhv42+PnyBPDH7gzunezJ6XLmx+Nf4aTeaNxb21fbjdw63zPjueh47wr1Rvca9972p/eA+VL8yP+6A0YIpAxvD4gQwxDzD1sNbAmLBRIDEQN7Ba4IPAv7DK8NrAxXCvIHLQZDBVoFIQZwB9EJGg3ND+QQihD4DocMYgp1CZ8JjgrvC9oMqwzRC64K+wjYBrcEgQJOAA3/P/9nAP4BcQPNA8sCNQGm/zX+R/0u/Yb99f2s/qH/gQBNAdcBfAFAABL/gf6d/rT/pwF1A5kElwW4BukHOwn+Cc8IWAUvAJX5pfLS7SHsM+xn7Hjriuit5LnhZd+j3Fna1tnw2mbdY+Gf5tPskPPk+Ov6t/oA+9386v+7A9YHywuiD9MSKhSgE08SVBAbDUAJOQYFBRoG0ggaC4sLkwqgCJcFbQKMAEcAbAHEA5MGSAn6CzUO6w7WDZ0LDAkgB8sGNgjFCocNaQ+4D58Osgw6CnMH3wTkAoYBxQDSAK4B/QIRBBsEuQJ1AEf+rPy++5D7B/zQ/KT9Tf6w/hr/w/9HAD8A6v/b/4oAGwIXBLkFnQbpBhEHkwelCOMJaAokCWIFN//B9xLxAu2f6zXr3+m+5nTikt7s2wfaqtiD2OvZiNwI4EPkO+n27mX0svfA+LH5XPzeAFwGoAvID/gSdBWLFsAV1BOkETsPhQzyCWwI3ggVCzQNTg0pC8cHDgSZAB7+Pv05/rsA0gODBpwIYwqICz8LagkLB50FGAZSCEML5A2bD/kPug5ADJcJrQegBvUFRQWJBPwD0APCA0ADEAJ1AMv+af2p/Kv8Rv0i/rD+iv7m/Vb9Iv1H/av9Iv6b/lb/kQBDAkgEZgb8B3YIKggCCIsI3Ql6CwEMJQrFBUz/pvcP8Zrt4+y27PbqqObE4JbbJdjP1XvU99R512bb8N915BvpUu428xL2FPeg+KX85gKxCUUP/RKWFa8XnRjBF+gVBRTxEWkP7wxWC1ELoAxjDc8LVQioBLEBrP/e/lX/0gAVA5gFowfdCPUIPQfOA2EAB/+oANUE4wm4DS0PUQ6bCxsIiQXNBD0F8gW+BsQH9QjTCWoJSAdXBMgB4v/K/gD/OABTAZIBywA8/7f95Px3/Pf7kPuk+1X8nv1G/+sAfAIoBMsFGAdLCOsJ9wsPDt0P5RBaEFYNNQd//oP1H++K7Izsc+zd6XXk7N3s1/3Sk8+nzqPQv9SY2TPeqeKs5/fsDvE68wb1yfgv/8IGcQ0mEkkVthdbGY4ZehgOF7kVPBRbEnwQoA8hEIsQ7A72CvQFdgGJ/m79wf0R/w0BNAPtBO8FNAarBVQEqAKWARICkASbCMgMmA9dEEsPHA3DCu4IzAdOB1kHnQesBzcHGgZaBCgCuf9S/Yb79vqc+778oP33/dX9cv3r/DT8cPsU+3H7dPzi/Yj/JQFoAgwDKwN+A/AEowejCtcMGw4nD44QFhKvEuwQyQtIA874dO+m6gDrK+2U7Pnm9d2A1THQaM3xy3fMEtAA1hDczOC85FXpqu4W8+X1QPnU/xQJgxFnFiIYMRliG9kdbR6vHB8axBdiFdMSuhDLD4EP8Q20CdsD/v6V/A78JPxl/FX9Uf/KAcMDpQSFBAcEGQRBBUUHQgkpCtEJcAkiCncLJAxmC38JbAcEBlsFQgWpBfkFCQWHAp7/s/0T/fr8jfz0+0D8wf1K/7j/B/+y/UT8U/tF+3/8LP9iAoIE1QQeBIUDpANtBLkF0AcSC/MOBBKBExMUtBRKFU0Unw+FBtn6SPB26jzqBOxu6jvjC9mC0MnLG8llxgrFT8jA0JvaR+Em5K7mg+uU8bD2I/tyAZYKtRNAGV8bXB0NIVck3CODH78aMhj4FsMUPBFTDkQNPAxdCKsBSvvi9zD3Rvdg94/4lfss/1MBeAG3AH4AaQF9A+QGXAuFD7IRdxEXEFUPjw+ZD80OBg4/DhkP5g4YDP4GbwHd/KD5tPf89ib3ufcj+BH4qvcX9y724vTj83D0M/dq+4r/ngLABG8GqQfHB7gGtwUbBuoHNAolDK8NYg9REXIS3xEpEMIOxQ4lEAcRVA70BfD4yeso5Ajk1eZf5RXdVNKHy3XK9MoBycrGIsqF1Fjg3uaP5zLoye039+L/xwUBC50RNhg3HPwdQiDxI2smuCSTH88aZRgyFqwR7guDCKwIIAmaBQn+j/bB8nnyTPMH9MH1jflN/q0BpwJXAqwCrAT5B4gLfQ7VEDETeBU8FhsUvA8BDGwLMw3oDXULQgcRBGQC7//z+jT1KvLj8iL1NvaO9Vv0mfMx8/ryjPNx9T/4P/t2/kwCWQY8CfIJKQnDCMsJgAucDOsMJw3dDbMO1A5ADhQOFQ+vEMUR3hF6ERgRSA/OCFn8mu2V47/isuct6XbhgdRYyzvKN8zgyQ/EwcM+ztLd2+dA6LLlcekx9ND+dgSLB98M9xTlG3MfAyLOJa0o4CaJIGgaKxjSFx4V5g8iDDMMzAwmCJ/9RPPW7gfwaPL08iPzCfY9+wX/Ev8H/Z/83v8rBbYJvAx7Dw4T0xbaGEsYLxZtE+wPugsNCCsH1QnUDOoLdQYN/0r4BfOb7n/rGOzl8Ef2T/h+9hbzdfBq79jvc/IO+Fj/WQWACLkJiAoiC9UK5QkYCnAMZg/IEF0Qpw/ID+UPNA4BCwUJLwqfDbYQ2xHhES4R4wzzATby7eSh4dznY+0K6dvcc9L5z8/Ric8WyKvEiswo23DlGeZS4+Hmu/Eg/OAA3QJ5B00PCBZUGVMcDSL9J/ko4CNsHWsathnsFpcR1A1GDssPVQx3Atr3k/Kg8mLzzPHe73Txifb/+r374vky+QP84gD6BMAHxgomDxQUcRfrFy4WmhMHEQEP7g3VDRsOnQ2DC9oH/gIV/Zb2EvGH7mrv2vFS897yffGP8Czwpe867z7wmfOl+LH9rQHDBA4HLwhSCF0INQn2Cq4Mnw1nDtIPTxE3EYMOYQpTB2MGowYTB8EHjAnQDFcQjxJnEigODQSB9azoZ+WR7VD4fflZ7qfffNeJ1m7UMcz8xFLJvdhm5xvrR+Ym5G7qdPPc92X4i/thBM4OuhUMGpwfvyVgJxMiORpaFk0XUxjMFmMV2hajGKUU4Ag9+2Xzq/JE9OfzZ/J286v3QfsR+xz47/X89mb6u/1fAKEDNQg3DeMQGBJOEYsPag2oCyALawydDyMTRhTqEfcM6AYjAUf8yPhX+FL7+/2P+znz5ent5sTrI/FC8OLq6ueF6+3y6/cH+YT64/7NAzwGCwbQBboHQwtJD+YTURjxGRMXTxGoDLML/QyJDYsMeAvuC6QNmg6GDs8PvhJcElUIzvTk4u7g8e+P/4X+mOxd2mnWy9v+2XTN2cT7zFbg/exj6RXgAuEH7EP08vO58m35twWRDWYOJhG6G6Um0SamHLQTIxQvGSIZdxNYEZoXMx7tGewKYPxg9yv6UfyM+fr1vvZc+qT74fgA9WrzafSa9db1A/fr+okAmAWjCHwJJAluCAEHNQU8Ba4Ilg45FKQW4RS5EDIMwgeUA88AHgG0BKQIKQm9BQABTP2V+kf3MfOG8ObwWPO69an2ZvbD9Vr03vHg7/DvJfLl9Rv6CP7iAekEZwWNA1EBiAAMAuoEdgevCSoMMQ6mDv4MvQmuBjQFHAXiBVgHJwmxCkUL1QpCCloKRQtvDBwMXQjkAHX4yPR2+dQBOATQ+1btsOLS4HLiXODs2+3ba+KK6TzqJuXx4dHk5ulg7FDte/Ea+oICmQZpCEIM7xGzFP0RFQ4eDwAVDRpyGgwYLBdYGEIXPBFTCWAE3gNEBTkFQgNBAQMAj/4d/Dr5Pffa9mX37vdg+G75sPuY/rQAMAFaAD//+/7K/2MBFwQPCBwMVA5sDRQKxgY4BQwFggWLBkAIJwrQChUJ6gU0A2sBzf/+/cX8NP3o/gAASv8y/bb6PfiF9b7yKPG+8dfzAfZt9yP4Qvhw93T1O/N08gn0dPdT+4/+8QCYAkADzALrAaMBlAK2BHEHEgpZDBsOxQ7qDdsLagmDB7EGxgZlB2YIaAnGCQ4JOwf/BI4DdwMxBL8EPARBAnH/Ev0T/F38h/y6+pz22/GN7n/t4+1Z7lPuKe7Y7bvswOoH6fbo5+rx7ffwnPMZ9nT4SPpy+7r8Dv9OAn0F1weBCT0LWg0TD44PDQ+RDqgO9g69DvcNZA1RDRQN8AsECiwIAgcqBvEEYANGAkgC9AIAA8cBEAAB/+T+Ev/W/mn+lv5r/xYACgCP/0D/I/+Q/mr9tPxG/cP+FgCkAP8A/gEnAzwDCAK7ALEAGQKrAzcEGgQ+BJgEQwSnAlcAqf4p/jL+Dv6n/U79EP1G/Ff6wfe39fn0ZPUt9sz2mffr+Ef66vqq+iz6Wfpq+938Wv7y/7IBQwMBBMADJQPPArQClgJnAmUC7QK5A+YDFQPEAZ0A5/9e/63+Kv5v/nP/lAAyAScB4gDRAOMA/ABJAQcCSwPGBOUFbgaiBq4GnwaMBosGwgZEB8gH4wd4B7EGwgWwBFQDwQFNACz/TP59/Yj8ffud+rv5d/jy9pf1rvRb9H/00PRA9c31LfYp9t/1gPU+9Uf1qfV29rz3Mvlb+gD7Yfvu+8D8gP3f/QD+Yv53/z0BNQO9BIEFlQVqBWoFqgUFBnIGDQfsB9oIbgl5CS4JvQghCGAHvAaEBs8GWwe+B9IHuQd+BwEHQwZ+BQQF+QQsBVMFZgV8BW8F6AS9AykCowCA/8r+ZP4z/hz+7f1s/Z78vfvs+j762/nh+U/6//qv+zr8tPwJ/RT99Pzn/A79aP3R/Sv+nP4y/57/if/v/iX+hf0V/Zr8HPz9+3P8CP33/B78LPvQ+gv7avuh+/v72Pz3/br+7v75/lv/FACvAPUAPQHVAZ0COwNsA0IDDwPoAqYCTQIQAhQCSwKAAoECUQIrAjQCRgImAtEBfQFrAbUBFwI9Ah8C9gHuAQ0CNAJQAoUC7wJbA4oDigOuAyoEsASlBNgDzwIoAusBpwEJATcAhf/+/lX+Xf1U/H37xvr8+Sv5mPhg+DX4uPcC93L2JPbw9bT1mvUE9gD3Dvi++CP5hvkR+rr6avst/Br9Hf4M/97/uAC0AaUCRQOXA9gDJQR0BMAEEgV/BQUGdAagBpwGlQabBqMGpAaXBn4GYAZGBikGBQblBcoFrwWVBYAFZQU+BQ4F2ASVBEsEGQQVBCoEQARFBCQE3QN8A/4CYQLLAVcB/QC0AIUAcQBjACkAnf/a/i/+xf17/Sb9wvxw/Ez8QfwL/JD7/Ppy+u75hPle+YT50vkQ+hf68/nQ+bj5pPmv+f/5h/oF+0H7VvuH++/7ZvzE/A39Y/3c/WP+0P4e/3L/5f9pANoAEgEaASQBTAF9AZcBiQFrAW4BngHPAeQB+QE3ApsC2wKyAjsC3gHaAR8CcwK1Au8CJAMnA90CcQIXAtoBrgGUAZMBtwHxAQgC3wGWAUUB7gCgAHwAmwD+AHABvgHvAR8CRQJDAgYCpwFwAZ8BFwKUAvICLwNOAz0D7wKKAk4CSAJTAkQC/gF9AdQADgAv/0D+Tf11/Nr7c/sJ+436EPqZ+SH5l/j393z3bPe09xD4cvjx+Jn5R/q3+sz6w/rt+mX7Ffzh/LL9cP7w/hv/Dv8A/wz/H/8i/yr/a//y/4gA7QAVATYBfAHaAS0CagK1AkQDIAQNBdAFVgakBsIGvQayBscGDgdyB+QHWAimCKEIRwi3ByIHpwY8Bs0FdQVfBW4FTQXRBBoETwN6ApkBwwAoANn/nv81/6D+D/6a/S79qPwI/ID7NvsV+wX7DPsq+1T7g/us+7r7tfux+7v74vs0/KP8C/1T/YD9n/2t/Z79ef1c/WL9jf3O/Qv+NP5L/k7+Lv7i/Yn9YP1+/b/99P0K/gf+C/4s/lf+e/6o/uj+Kf9d/5L/4/9cAOIAQQFgAVkBVgFqAYgBngG0AeMBKAJYAlcCMQIDAukB4QHNAasBoQHBAeUB6QHLAaoBqQG6AaUBYAElARoBMwFQAVgBQwEvAS8BMwEqASEBKwFBAVgBawF9AY0BiwFsAT8BGgEHAQYBBQHyANAArACAADkA0v9k/yv/Qf9+/6T/nf+I/4X/hf9m/zD/F/89/4z/xf/D/5z/gP97/2b/J//W/pH+Sv7s/Yf9Q/01/TD96/xU/LH7UPs++1D7VftI+0/7gPu7+8r7svu3+/r7Vvyp/Pv8ZP3k/V/+sP7n/j3/y/9jAMsAAAEyAYYB7wFHAn4CsgL7AkQDYQNVA08DdgO5A+sD+AP6AxEENgRDBCQE/gMJBEcEfwSOBIkEkASiBKUEhgRZBDwENAQjBPQDvwOhA5UDcQMjA8MCewJRAh0CygFpARYBzgCBACQAwv96/1H/If/M/l3+7/2N/TP94fyW/FX8KPwT/Ar8+Pvh+9P71fvi++X7zvu5+9P7FPxK/Gj8jfzO/Bn9Tf1d/V/9fv3A/QT+MP5N/nP+nv64/rn+tf7B/uH++v7x/tH+zf72/ib/P/9Q/3T/qP/M/8n/wf/w/10AxwD0APwAHAFkAakByQHWAfcBNgJuAngCYgJlApICuQKuAn8CVgJFAjQCBQK9AYsBjgGiAYkBNwHWAI4AYQA5AAcA4v/h//T/9//o/+P/8/8NACAAIgAkADUARwBJAEMARwBfAHgAdABKABUA7f/K/6D/bv9C/yz/Jv8O/87+fv5L/kL+TP5P/k3+Uv5o/of+k/6I/oX+of7V/gz/M/9G/1r/dv+A/2v/R/8t/zb/Y/+N/53/pv+w/6X/gv9X/zX/NP9Z/4T/pP/E/+j/BQAUAAwA+/8AACkAXACCAJkAswDoAC4BWAFcAV4BcAGFAZkBsAHRAQoCUQKAAooCggKCApECpwK2Ar4CygLVAtQCzALLAtECygKpAoECaAJlAnACeQJ5AnoChAKDAmQCNwIcAiACMAItAhAC6QG9AXsBEQGEAPX/gf8f/6L+9/0//Zz8Bvxi+7L6E/qd+UD50vhR+On3u/e196/3n/en9+j3Tfix+Bb5kvkr+sT6NPuE+/P7pfx3/Tj+0f5O/9T/awDmACgBWQGwATcCwwIjA04DawOaA9gDDQQpBD0EYASBBH4EaARtBJEEuATIBL4EsgS+BNoE5wTZBMYExwTTBNMEwQSqBJsEkQR2BDkE6AOYA0wD/wK0AnECMwLyAZwBLAGvADcAx/9g/wD/rP5k/h/+2/2g/W/9O/30/J38Ufwv/DP8Ovws/Bf8Fvwr/DT8G/zy++T7+/sZ/CL8Ivw3/Gf8mPyy/Lz8zvzt/Ar9IP1B/X/91f0u/nX+qf7W/gL/IP8y/1X/l//p/zsAigDRAA8BPwFbAWYBcgGKAagBxAHeAQACKgJJAk0CPAInAhoCEAIBAvQB+QESAiUCGQLvAb8BmgGCAW0BVAE8AS8BJwERAewAxACeAHcAUQAuABgAFgAVAAUA9f/2//z/+v/z/+7/7v/3/wQADwAXABwAFgD5/8z/qP+Y/4n/av9E/yf/Ff8G//P+4f7X/tj+4P7k/uP+5v76/ij/Zv+b/7v/0//1/yEATwByAIcAoADKAPMAAQH3AO4A7wDxAOUA0gDJAMkAwgCqAIUAXQBBAC0ADgDp/8z/sv+V/3n/X/9M/0v/Uv9M/z3/M/84/0r/YP9u/4L/rP/f/wEAFgApAEcAbACIAJMAoQDCAOYA8gDnAOAA5QDlANMArgCCAGYAYwBhAEoAJgAIAPP/1/+m/2//Tv9J/0v/Rv89/z3/TP9c/1v/TP9C/0v/Y/96/4j/lf+t/8r/2v/W/8r/x//J/8b/u/+x/7T/vv+7/67/q/+2/8D/v/+6/7P/sP+1/8L/yv/K/8//5/8AAAcABAASACwAQgBOAE8ARgA+AD0AQgBNAFwAagByAG8AYQBNADkAMQA3AD4AQABGAFIAWwBaAEoAMQAhABgAGQAtAD8ANgAyAE4AYQBOADYAMwA/AFAAXQBqAH0AhgB+AIUAoACbAG4ATgBOAFQAUQBEACsAFgAHAOX/uv+k/4z/af9l/3X/Zv88/zH/U/9z/2j/Vv9v/5D/jf+h//L/NgA6ADEARQBAABUA///8/wAANABxAGMAUABoAFQALwBAADsA9/+b/2H/hP9A/z7+IP/wAcD/tfYb8nP5nAIUAa34nPae/doC9f/e/KEA9QUIB/MFeAUJBgcI3glJCcoGgwQNBXYI1AilAzMB5QXpCLgDhPxJ/PwCUQZe/9r3avspAtz+6fbn9k/8Ffwb9mz0ZvlH++n1NfPr+H/9nflx9Zf57f84/6P7Av5mA+EDGgGCAScFLQcfBWICmQNABtYE6wFsArADgALeAMn/mv5E/pP+cf6U/s7+Af5Q/eH90/5u/2n/Bf+u/yABMwFfAPMAcQKWAkIBwwBOAlsD6wEhAWEDzASXAokAvAF+A8ACGQGiATIDOQIGAMsAzAKMATv/KAD6AdMA5v7I/8QBLQES/2D/IgEWAMP94f5XAUEAiP2R/VP/R/9z/QH93P5z/0D9dPyA/gT/V/1l/db+n/6q/Qf+0v65/lT+uf6F/z7/Jv4M/rn+sP6v/pj/n/8N/pX9OP8QAOL+Tf6d/4sAoP9T/nb+AAAaAT8A7v5r/00AcP/Q/mEAtgH8ABEAWQAaAZ4BoAGlAY4CTAOTAgYC0wITA2QC2QIABIoD4QFWAZMC4gN5AzECHALBAqwCgwLjAhADCQMAA3wCEwJgAlgCyQHaAQUCLQFyABAB/QH0AaIBkQKGBBwFgQPyApMF0Qd2BgQFnwdNC2IKjQRD/ur6/fn1+Jz2avMQ8DDt0uqo50XjFeBa4Ifi9uLh4PffneP86X7u+O828Vn0Qfgx+zb+nwPACmkQUhP+FOYWBhnSGkgcpR2UHnUeSh3DG7IaQRpUGY0W/RH5DLoIrQV1A24BZv9a/ej6ufcl9DTxEPBo8D7w0e717fnu4PCD8szz8vRe9lT4Zvpx/Cz/5QLaBrgJowpqCtMKYwxCDr0PqBAkEVoRARH8D9EOmQ3wCwIKHghJBvAEawRGBAAEWAP0Af//if6V/gwAAQKsA+EEpwUhBkcGBwWrAJj4uO6w523nVess6+XiYNgH1MHVPtUUzgjHHMm40qHZ2dgu19fduety9s/3SfVZ+CADVw8EF1cbVyG7KeUvjDDlLZksfS7uMFwwjSw8KFUlRSNhIJIbsBQ8DIsDjfwo+Bf1l/HY7YTrquqs6OXjBd8b3hzhGuSo5NvkEegs7tTz8/ay+Dj7YP+PBMMJig4LE4wXyBtmHgMerhuoGnEcuR5gHlwbaRgPF5gV0xE3DAsHaANRALL8PvmQ97b36vep9nD0LfMt9Oj2Cvrd/Jb/HwPlB18MdA7ODZkKmgN++ETteOjd683vmuot3WDSo9Aa0pbNB8QpwJPHA9LV1BbSbdXq46H0lPvB+Gr3nv8CDhoauSAeJjEuKzbUOBM20zLHMmA0cTPHLtQoySPuH4wccxhLEjAJ1v2K83/t+urT6LrlCONi4tXiMuFF3Xrby96O5EHoM+lQ6/7xUPupAncGgggFCwgP2hMuGNwbWh97IlUkcCNYH6MavRhkGQkZRBV+DzQLeQl1B7oCxvw1+Dv1evKj7y3udu958p/01/SO9Bv2j/pGAHUE1wYTCgoQRxdhHBQdGBkRENsBxfIU66/txPFo69jaK80jy0PN8caCuYazQLybyKzKw8XMydfcV/Ly+jv3m/XA/6MQ3R3fJIgrDDaEQDBEqkAuPHk7rzzFOuszJysmJIMfkxvIFhMQXgai+aHsnOMQ4Aff99xG2hnaztw43m3bD9h62k3jOuwc8J3xhPeLA7kPjBU8FTEUXhZQG0QgFyPqI38kciWCJNoevhUBD0UOeA8NDOYDHP29+778dPpL9Jzu8es46zXrG+yo7tDyFPcm+u37jfxs/YQBbgnNEQgXshgWGqMe5iSVKB8oDSMRFw8EHvDK5Brm6eqw5PrRe8COusi6JLXrqJCj162EvSrDD8AWxDDY+/Hj/wz/E/40CYwcoixzNcM8kEezUXtTvUwNRShCEkLPPvQ1ryqpIDoYShB/CIMA6PZM6lPc49EzzifPONCZz3DPLdKF1lDZMNtx4LbqXPbQ/vIDDwoVFFsf/SZ/KUspcynqKgUsEyuzKGAm1iMBH0oWTwtoAvT9l/ug95nxcexu6hDqkOgy5lDlc+Yo6MLpv+zM8s36qQHhBWoIngr+DNwPWhQYGwciCSagJh4m/yYhKawplSZsHxQS/PyU5XbW0dTm2NDT6cAarTWmC6nRp2Oe+pjUo4S4QMXwxdDJ/t3R+/sQ8RXwFfweCzHoQYpL8lAMV9pcHF1PVppMM0RjPao1+yrBHa8PFAJ89iruwefl36nUGciyvyy/msMdx63Iscx21qXi7Ono6vjt2PrcDccbCh+qHjQlJTKwOvw43DKSMHYy3DHJKishLhoQFd8NDgOA9u/rHuaO5C7k9eHZ3YrbrN3A4RbkQOXD6DrwP/lrAOkFTAy4E8gZ3hxJHdscrx1+IJIkJyj1KLMmzyM1IichOR7MF6wOMgN48qjb/cWnuz++Q8LrubWmDJnImgmjVKTNn/6jULjt0G7eQuMF70sI7SP6Ms40OjbiP3JNxVYHWtdaf1uCWbNRVEX+NxMr/B1UEHgCJPWW6P/cEdRyz1vNo8l2wvq6SblNwATMftYU36PpMPh8ByMSnhcTHggq3zZMO+Q0LS3TL8o65T6hM0oimRi6FhIRLwIe83PtGu0H6H3dfdUG1RzZt9zN3oPgRuIC5qXui/rxA6UI1AywFModUiJJIqYjgCjcK2QpACPKHU8c8xwVHYgb9xf1EuEOWA06DMwHuP538YzfZMmZtYaucrWbvOu1faXjnMujLa5vrliqs7P7zRXow/NX+OcGLSLXOo5Dd0D3PuhEj02JUoNSRFCGTTJIkT0vLh4dLA08/2XyPeb02yfULM5DyozJRcsNzCfJSMXsx8/UqOaX9RgA0wrEGE0m3y3lLx8yuzfAPXU/BzztNjczGTB2Kk8gjhJ7BAr5OPDJ52vepdUI0IDNaMsTyXjJ1c5K15LfXefY8GP8WAcLEA8YzyCNKOYshi4VMDgynzJSLxApmCGAGdgQWAgGAcH7JPmo+EP4Hvbi8pTxLfRY+Jz5R/fx9Ezzf+wp3HnJBcM2zXnZ/NWPxEW5fsDizrDRO8nJyL/bh/VtAlYBTwOIEwMpXDOEL5spSywDNSw6BDgRM9IvwSzFJX8ajg6UBJr7EPJp6Wvk6eKf4dHeJd3i3yblceeT5cjlwO7Z/vcMKhOEFeQbUydnMIswciuFKhUuJyuRG6UJZAWyDmMSkAMN7mTkC+Ze5E3a79Kk1znhweMb4Tbj0+uN9eX97gX9DLEQCBMVGlQlgCuXKEMkYiX3Jy4kXxpcEp4P7AyiBST83vTf8ErvOfDD8+D3a/p7/HYA2gXSCQ8LfgsJDTQMiAGe69jUUsvW0Qva9tKFvm6wtLSHwMXB9rcetprJveai9+T4kPuEDH4kxTIrMuYtpTEVPFxEdkV4QAI5oDEUKhYhAxauCMz6t+9P6JXiV92T2PbUWNRs1yHcv99k4Sfkke2m/YcMExRCF2wdwCjkMvs08TCnLfcsWCstJsseJhiIEpgLhQJJ+E3tyOJ128DYQNnM2SXY2tWE1lbb+eK/61D0pPzKBZIPfhiJH3Qk9ycuK4wtWy0NKoMkix6qGdMUfQ19A4T5ZvJr7hPrBOe45M7mquz/87P68P+QBJoJbQ/IFZ4a4BscGm8U+AXS7dTVg8uq0OjV4ct6uICvCbf7vwS8JLJptnnODulj9fT37QAqFiot/Th8OdU4+DxpQoFDyz5uN2ox3CyQJsQcDBA/AYDxyOK117TSGtOk1AbV79Yr3aflG+v466fubfoeDK0YnBsJHf4mRzedQM47CzGHK+cqoyZIG94OuAeQA1b8mPEv56TeW9dY0r7Rv9Tg1g/WmdYA3Y3n0fGx+iAE6Q7PGMgf/STkKTst1y3gLGkriijaIgUbnBNVDdkFSPx/8xzuIOvX5/bjfOKt5fjrzvIr+vwCEAzoEk4XxBtgIY8lMSW4HoIQiflr3pLKd8any3rJrbkNqWKmLq84tGOvhK2evajbNPXFACoHYxX1KzI/Ckb+Q41CU0VGSEBGST7FM08q+SFYGL8LM/wB65/aJc5DyCTJLM1m0EvTVNkw4+fsoPJx9hP/Jw/KIEQswTARNLU6CUK1Q3o9uDKRJ5sdWhTIClEAGPVb6iviz9yg19zQJMuvyufPpNYr24TeceSb7qf7LgnQFCQd1CLwJ3stojGMMbYtBSovKFQleh6GFKoKbgKa+iPyYuoR5TfiC+E44fvik+ar6yXyyvp/BRwQPRhuHa0hLieILLstDClZHowLAfCz0hLA9L1Swse8u6sqn5Wika1/sC2rja5PxljoWQFvDIwVBifQPE5L2k2iSk1JREqySIBB9TWZKdMe9xSmCb776eug2z3Ny8ONwTPG+M1v1J/ZluGj7aH5XAGmBvgPFCDSMLw5aDr6OUU9+kBdPqszsyVUGb8OFwRB+WXv5OY/34HYgNOD0PzOS88N06razOOd6+Dx1Pg5AmANCRhPIKElryi6KmUsyiwsKl0knR0VGHYTvg3XBfX8NfVU77LqDOe35MfjFuSL5TzoaexP8mb6EgXmEIYa/x/+IocmCStkLcEq3SNcGTUHNOqFyQO007Dttd6yFaUXm5CggK7RtdS0Crrd0DLyFw0IG4sk9zLrRPtRNFVlUfhLg0YTP180PCeoGYEN7wKI+DjtrODa0lLFI7ycu5vEstJP3zXoLfHC/aYLvhVtG+MhFy3FOeRAL0A2POM5kDjNM0Up3hrYC+T9gvFS56rfwtnF1GPRANFn08PWHNrf3uTmTPHl+uIB0Qc1D38YtCFdKG4raitmKWYmyCL5HY8XihCTCg0GfgE8+6Tz3Ow86HflOOTU5FDnxupR7lTyAfjI/wwJ8BJFHIMj3icuKswrOSwSKf4gshTVA/vrJc5Ys3ym2acQq6+loZwDna+ptrdKvjfDL9Ot8MYPPSTULrw4BEbvUWxWuVLWSkRCyzjFLHYe7w9HAyr5G/Ak5mLbXdHNyGPC58CvxxrWU+aR8jb7RQWxEjUfNyYqKXwtGzXGO5E85TcgMoUtCSjrHk4SogT69xvtZuQu3iXac9cO1iHXXduF4U/nv+tT8D33XgD4CMcOiRL7Fnkd7iPfJnUl7iF1HhgbmBZhENEJ8ATlAez+fPqn9OXuAOt16XrpgOp/7DXvZfJn9vj7wANuDR8X8R7CJEUpUSzNLD0p0iBDFPkDd+75016696kFpsmoiqgBo6Wgxahit3/DZMu91vfsngrxI58yHzvGQ+xMG1JtTxRGyzrQL/8j5RZ7Cfj8yfIe6xzkgdys1FrNOsgDyFLOptol6i74YQJcC00W+iFfKpstPi6BMMk0xTZfM7EsiCaiIYcbvBGdBDb3TOy35ErgQ9403aLc9d1d4s/ox+6T8lr1FPpvAXMIRgyUDakP0hR3G3Qfzx5lG9kX5xSvEWENrgg7BYsDcQJqAKT8lff38jXwL+8N72DvMPDb8fr0F/pRAe8JXhJ3GX4fyCRjKOYomyWBHtETGQUf8XLYwr/XraSmvqfxqa6odafdrIW5vcdM07XeCPCKCEwhUTIAO2RAzkXhSf1IY0EtNcQnohrjDcsBxPae7T7nJOOw38XbPNck0xrS1tbI4RjwVf1cBwEQoBlmI1kq7SypLGosHS3/LEQqLiVjHz8aoxXsD4UHq/yY8QXpO+Rw4gvid+Ja5Fjo7O2O89T3avpH/Nr+aQKYBTMHQghgC6URlxgQHIAaUxbFEokQIg6GCrAGjQR0BGoESQLr/df4nfTl8XXwx+/d7z7xI/SK+N7+LgcrEO8XQx1LII8iriQrJAAeehILBOPz9OAyymKzhKVMpSasVrCQsGOz071EzQ/bheUK8rkE6hmGKtQzkzj8O0M+aT2kNzEtYCB6E1kHVfwb84LsKuld6Ojnc+at5MvjuOQO6NLtx/Uf/9kHrg7PFHQbcSHGJPIkaSMxInohmh8eHJcY9RV1Ew4QXwuLBc3+f/fk8LDsFOuN6hzqU+o77AnwovRQ+Fz6kvsX/Tz/iQGvA1wG0wpEEasXGBtsGkMXzhOqEDINKQk+BS4C8P/7/en7ePmO9rPz1fFR8aXxN/Iv85T1PPrUAFoI8g/lFoAcYiB1IrgixyBuG6cRMQS39Gvjt8/Yu9ut3Kr/sCG4nLrmu3vDcNIq4h7tSPXKAKQRSyLgK/8tli3iLcUtOSqcIbEVDwquAJj5hfQX8TXvbO9J8fPygvOV8/XzV/VW+Mj8+QEgB2gL6Q7lEpwXXBuzHB4cNBv7Gvga9BndF/AVsxQ1E2YQ/ws3Bpn/9Pg18+ju4uu+6d/oJuqv7WPy3/Z7+jH95P58/8L/JQF7BJcJpg9RFQUZthmRF+oT2w8lC2cF5f9//EP7X/qt+BX3zfYx99P2wfVT9Tr2APhJ+sT9CwM+CSoPABUZGykgXSKxIcYf5xwoFgUJxfex5mHWFsW8tJarf63itdS7QL0/wWbN590Q6+nyuvq1B9EXBiTAKMIoIygHKLImniFFGGUNgQTB/u36cfc/9BTzw/QH90n3J/bj9RT3pfjd+X770P56A70HQwtzD4IUwhj+GsgbmRwGHvkeRh5dHB8aYBeyEzcPDgoBBAT9uvV97y3ra+jM5gznHuq17xn2TvuO/nAAwgENA9wEXAdGCoYNIhFpFBMWFxWOEccMBwiDAyr/dvv0+MP3tvdv+Hn5VfqF+gj6qvky+mv7ovzi/QMAjwNHCKUNRxO1GOQclR7NHaAbkBdMD0wCgvP35eLYQMlpuA+u068WuR3ARMJkxoXSU+OR8LD3Jv50Cd8XwCK3JmYmYyVeJFciJh4iF1UO/QV5/7j6F/dF9PbynvO99LX0W/Qy9Z/2HPcG96r4hP3nA8wI9QsBEDQWmBy4IFUiBiPOI/UjYiICH3EaPBXXD4oKDwWX/tX2Gu9z6Y3mbuVF5W7myOl471n2rvxyAcIEVgfOCf4LLg1gDbYNFA/QECsROQ/aC2kIFgVwAcr98fo6+WT4Dvgh+M345Pm/+hf7QfuY+1b8nP0Y/48AnwL0BWwKig+uFPgY4htGHa0cjxlWE0oJJ/xf7sPgqtE9wf6zd6+ItFy9SMMxx4LP9N0J7Z33Uv6hBTwQcxtiIggkEyOKId8fmh0YGWARIggRAI76U/fy9JPyVfEZ8nbzAfR09OL1APga+l78xf+vBMgJjQ3iEOoViBxLIm4lQyYjJqUl3yPFH78ZFBOMDHQGzAAW++n0yO7o6VHn5OZi5yLoIOqe7lv1rfzWAkcHpwqYDbIPPBBWDyMOxA0YDsMNwQuGCDoFZALQ/zv9zPrT+GL3aPYB9k/2Gvch+IL5Z/uJ/XL/1ACxAXcCxAPfBakI/wvWDxQUMxgLG5Ub9xnYFpQRlQjY+4rtcd8z0YnCQrZQsZC1ZL58xbfKZtOi4eXwwPvqAckHpBA4GrcfACD/HWQcrht7Gn8WHQ+jBsP/JPur9+Pz9O8S7mzvMPJZ9EL2Cfl0/Er/CAHfAjoGpwrIDssS/xc8HoIjLiaFJsolViRLIRccWRUsDlcHQgER/JH3YfNm7zfsmup96gfr7OsH7lzyvvir/3YFogmzDAMPOxDfDwgOqAvpCQkJHQhGBrcDYAHg/9L+T/0P+7v4JfeF9oL2zfaq94/5NPyg/kIAbgGhArkDSQSMBH0FpAdXCtcMfw/nEmcWexhfGJIWRhP2DEcCBPU96ADcLM6sv+e1xLWRvQHGKctG0WHdMu01+nsB2AW1C54TsRkcG2EZNhfJFRgVtxNxD04I/gC5+134N/Ul8bXtwe0/8TD19/ev+lX+OgIyBR4HMAlEDJEPUBJ6FRYaGB+JIq0jOSMRIg8gKBwZFgQPKggpAkP9Ufm89R/y1u7C7HPsYO2W7hzwBvPx9wn+pQPSB+0KmQ2RDwoQyg6DDEAKZgiUBoEEbgKZAOz+Nv2A+/P5mvhV9z321vWF9iT4MvpE/DX+CQDYAYkDtAQJBcYEgQSfBCEFygW9Bt8IqwwWEY8UaxbNFsYVaBIoC3EANvXf6lHfItFqw7S7yLx5w8XJUc6m1UDiOvCM+jcA4QO6COgONROtE/0RVhCnD/sPcA9wC7wE3v6j+9v5dvfm83XxAfO49+77Mf49AG4DHQfwCU0LAwxyDasP1REtFE4XTxrpG0ocPhzwG9Ya+RcVE2gNOQhiA23+uPnM9dLyzfCu74XvqfAi82z2H/o5/oMCXAYrCeMK5QtwDDoM5grdCB0HHAZCBcwDygHX/yr+TvzP+QD31fT28zX0AvUw9hX4+/qf/hECRwQZBV4FrwWlBaYE/wLPAfYBFgM1BEgFPgeYCo4OohH+EggTThI6ELALogQ1/APz5+cB2vfLDcPjwZXFQMkBzLPR+ty96oP1i/uc/9wEEwslDzIP+gyDC+YL8AyDDGkJ5gSsAdAA2wC1//v8v/pl+2j+wgAIAeIASQIcBb0HFQmyCdgKqwxnDvsP6BH7E5QVtBbHF9MYMBnjF6sUahAJDJcH+QJz/lD61fZv9I/zVvQy9ir49fk6/Db/FgL8A/MEwAXKBmMHsAYTBcMDVwNsAzYDUgIeAfj/c/4b/FL56/ai9bL1k/ay90T5pvuM/jcBBgPnA20E6gTiBAcE5gIvAgIC+gG0AVsBoQElAy0GewoeDwkTzBU6F7MWJxPtC/MBHPe164feWtAoxYzAKMIjxrbJns7t13/kAPAo+PP9QQOpCMIMGw6FDbsMSQw/DE4MMAuWCGwGPgY2ByQHpgT3APL+HP8E/2z9Fvzb/FD/kgG2AvMDnAboCWkMVA6JEPMS5RQnFjIXeRhuGf4YBBclFLgQ3AzeCNoEpgBA/BL4DvUG9Jv0svX29un4wvvq/oEBIgMTBJsElgTjA6ICLgEoAAgAgwDXAJEA2/9B//T+V/75/Gv7gPo2+gb62/ld+hv8qv4JAcYCAAS0BJcEigPaAQMARP66/OL7QPyt/eP/aQPnCKoPzBXQGawbARxlGkQVNQwyAQb23elw267MNcLnvufA+sPZxk3MWdbS4j3uYPfC/ucEuQmhDJsNxw3xDdINZg3nDP8L9Ar3CvYLEQytCTQF+wD4/jb+QfwW+WH3xPjl+3f+LQC8AvUGegupDnAQ2xG4E+MVuBcMGRkazRrWGvIZ2xegFOQQ+QxYCIsCEvxC9orySfGB8UfyzPNp9p75p/w8/3UBTANCBMwDPQKwAN//yv9DAAgBnQHPAd8B9wG8AYsASv7P+yf6dvku+RX5k/kT+3f9IABUApYD3gN9A60CXAGC/3j92fsp+6H7T/2AAJQFBAxaEpgXyBvFHm4fPRyMFMMJYv4A8wjmStetycfAGr4hwM7DIMj8zlHZE+X17zL5fwDKBXAJuQslDZIOxw+oD2cORg23DLsMTg1EDQ4L/Qb7AoMAcv/4/a36C/cL9jP4Hfvb/DX+MwE4BksLkg5cEEwSQxWZGBsbZxzpHAAdlRw4G3EYcxQkEPALMgdCAaD66PSf8brw1PAZ8Sfyw/Rw+NX7If69/24B/gJuA3YC+QAJABcAzABTAScBuADgAMIBfwLtAcX/Kf2S+xr7rfrK+UD5KPqP/DT/6wDiAcoCbgMDA1AB4v6I/Nr6Efpd+hP8Vf/XAyAJvQ5NFHcZjx1rH9oddhgVEGEGcfyo8c/kgNbBydrBv7+Kwb3E/Mi0z3bZIOX/8GL78QKUB3AK8Ay8D/YR5hFRDz8MwQoWCxEMXwxYC0QJ3gbDBDIDlwGy/lb6dPY/9Zn2afh2+RT7Vv/7BYAMJRGHFPUXZxvNHaQegx4bHkMdZxt3GBYV5BG9DtwKuQW9/wP6ffVO8vnvLe5m7Y7uufG19UD5OPw3/0UCZgSaBD0D5gGzAVgC4ALUAo4CuAJhA84DPwObAXX/e/3P+xj6Y/hp98T3Ovn2+l/8sf1D/5kA6AAeAN3+xv0K/Wn89/uV/P/+xALCBlwK7w0YEpAWIRqkG74apReUEq8LegOi+t/wRuVB2FHMY8SswcvCW8XcyOnObths5ALxHfwfBAsJVgyID+4SDxX+EyAQVAzWCkoL1wsyC3cJkwcMBqsE+QJ2ALz8RvjC9JbzZvTd9aL31vqKAPkH6g4qFHwYghyDH8QgmyDQH7UexxxxGVQVrhGVDgoLcQYRAbb7KPec88/wsO5t7UftpO698Qv2jvqD/rwBWwQ0Bt0GXgZ1BdsEkwQvBIMD4gKmAqgCUQIyAXX/mv3l+zn6gvj19vj13/Wv9h/4t/n8+tP7ofzK/Sj/PADZAGcBdQICBHAFTwbcBqUH2ggcCiQLVww/DsYQMROSFEEUDhLZDYMHTf9o9a7pntwP0EnG8sA2wLTCQ8czzvbXEeSL8a7+7wjrDtkRDhSAFr8XdxWvD7AJnwZcBpgGxQUqBPYCpAJ9Ar4BVQAh/gj7C/iZ9gj3p/jm+hb+FAO/CXEQ6BVVGvodTiDoIBggZR7iGzIYaxOiDu8KKgg8BZoB5f0H+x/5fver9eXzt/J18jDz4vRq93j6o/2lAHID8wXRB64IhQi1B6UGaAXGA58BQf9S/Tb8fftx+hH5HPgT+I74ofjo9wj33vaE93T4T/lE+uL7aP5tAUsEugbOCHwKVwvvCnAJiAevBfEDUQIjAfcANQLHBEsIRgz/D2YSehLnDzkL8AR7/ATxP+Oe1fjK7sQRw+vDIMewzSPYkuUq9JYBmgt1EU8U2BWYFlwViRDUCM0BY/4m/vH+hf8lAMMBhwQ4B6YIoQgNB8oDvP9R/Dz6c/m++Tf7kv4vBPsKWRGqFt8akB10HrwduBulGMAUVxAoDBwJTAf0BYIE6wJGAaf/Cf40/P75lveG9YH0+PSt9vP4a/s2/mABZwR+BkwHHwdtBl4FxgN7Ab/+Q/yW+qT54/gF+Ff3X/cn+Bv5pfmu+Zf5yvls+mH7nfwi/tL/nwGmA8wFkgeCCHsIsgdlBoYE7wEk/x79YPyz/Lb9aP9FAq8GIwxtEW4VWRe6FpoTQg7cBjf9E/E84yDWdsxMx9LF5MZryhDR5toQ5yP0CgCNCAAN3Q4oEFURtBCODBwGAgGd/wcB6QL0A7oEbAb9CAYLcQssClEHGQOJ/uj6yPj59xP4IPkB/EEB2AcsDowT2Rf/GhUdAR5VHfoaSxfsEtQOogvxCDIGhwNRAaj/Zv5F/Qj8nvoM+Yr3v/Yu93L4s/m7+iT8gv58AeQD5wTfBLEEsgR2BFEDDQE2/p77rflL+Cn3B/Y09WT1zva9+Fb6a/uH/B/+4/8vAeIBUgKvAuUC0QJxAv4BmAEQAUoAjf84/27/9P92AAQBBwKoA7wFKQjmCuoNKhEjFKQVwRScEc4MbQbs/dry8OVo2bzP5slIxybHiMngzozXXuPO8A/9yAUFC9gO1xLjFS4V2A/OCB8E2wLcAiQCAwEkAVkDlAYZCUIKOwq1CHAFVwGv/cj6Xvh09sb1kvdE/IUCzwgID28VOxtdH2MhWSGUH1ccjRe0ESkMuQf+A5IAyf0m/Nv7bfzN/Fj8dfvV+pf6bvod+pf5Jfl1+fr6VP2h/0QBTwJRA54EoAVXBWYDdgCW/VD7Zvls95n1r/Qo9a/2k/iO+rb80P5cACYBWwFBAe0AJQDl/sX9Rf08/Wr93v2u/tv/PAFhAgwDjAMhBKgECwVxBSkGngcACiMNwRA8FGcWThb/E+wPBQqrAW725OgR26jPSMiTxGDDUsQryEXQO90R7aD77wWUDEsSjxhkHQ0dkhaVDcgGjwP6AQAAxP0N/QT/2ALGBrwJCgvFCRoGxQEX/u/6zPfA9Azzr/QN+j8BpwgPEBkXBR2OIWkk4SSQIrAdORfkEO4L7AfzAzUAl/2O/OT8vv3y/QP9ePsT+j757/iC+Fn3CPYV9i34SPvM/S3/XQCNAoEFkweCB6EFLAMEARP/pfxp+Rj27PN/82/08fWF9yP5/voj/UP/5gDJAdsBLAEqAGr/FP/l/qD+Wf59/m7/7wBkAosDhgRmBSEG4QbeByUJnQpFDE4O2hBiE5sUdhMmEJAL1gUM/oHzC+fW2gnRj8oLx+bFDccDy8PS5d7T7b37sgVRDHcSThlMHqsd/xY/DsMHPwRuAcD9Ofrj+Hv6B/4CAnkF6wenCG0HSQVMAyIBFP6A+tX3vvfC+ov/rwRfCvkQpRdNHWshryPYI7whcx3sF2sSQA3pB2ACcf39+Uz4yfd399z2UfZ59ob3Afki+mz6Qfqu+k78fP4HAHsAeQACAWsC2QMfBP8CNQGV/1D+3fyp+vb3sfWK9Iz0TfVO9oP3SPmk+yX+ZQArAjIDZAMIA3UC0AENAfb/mv6a/Zf9df6l/70ArgHBAkEE9wVXByMIgQjQCJ0JMwtbDcMPDhJ9E2QTvBGlDsAJcgKL+Jfs8N9g1HHL3sWHw9TDrcZCzd3YaugM+CgEfAyFE7Ma5R+DH+wYoQ/XB9sCJ/9W+yT4e/ck+gD/OQScCKML5gwWDJUJNAY4Aor9y/hQ9Sz00PXT+T3/rAVRDWkVfhzqIaIlUiejJmcjvx3TFisQBAq+A4D9H/hn9Mfyu/IG8zXz+PO69RX4Yvr1+4r8xfx1/Yz+Wf9u/+b+g/4q/7YA8QEBAjMBYAAEALr/j/5d/CD6wfhB+CP4Nfiz+ML5AvsR/CP9fv7E/0cA5P85/wn/X/+V/1r/If9w/zsAPQFtAt0DYwWSBiMHVgewB0oItgi+CN0Ixgm5C1cO9xDgEloT7BFzDt8ILwGA9wjsht+p02nK7sQPw8LDm8bPzKTXHuYO9WwBlgoyEmsZ1R7pHxccjRUZD90JNAV5AED8yfmt+XL7OP45Ab8DSgXQBXMFWQSZAh8AMv33+oH60ftj/uEBPQbjC/ES7xneHo0hPyNkJP4j3iAOGzEU8g0bCIMBcPpk9Dbwpu0y7MLr1Oys73vzMvez+i3+NwFIA0UEUASiA4kCOQHi/8n+Gf6q/V/9a/3a/Ur+ZP4s/sP9Qv2l/Lb7cfpO+bL4gfiH+MD4Q/lA+tH7of0t/1oAZgFdAhEDYgNyA3UDgwOiA+oDcQQoBc0FHgY3BmgGoAaUBlUGRwatBpMH3AhvCl4Mbg6uDx8PeAzjB40Bmfkc8Hfl2NrP0XjLPMjex9DJN84Z1q/hKO/l+3gGPw8kF7kd+SCSH58aaxREDh0IqgFt+6/2ePS19KT2nPks/d0AIwSUBhMInggKCGMGXwTVAg8C8gFxAuAD+gbxC3UR+RWQGS4dqCCAIlQhOR3GF0QSNAyjBDH8jfTA7s7qdOjG5ynpkOwk8Rr2VPuPANcEUgcWCL8HqQbFBAUC5f5Y/AD7s/r4+qf71fx+/kwAowH8AV4BPgDe/hr97/rK+D33ivaK9gn3Gfjc+Qr8If76/7QBQQNhBPIEFwUgBSUF7gRvBAcEBARdBNQEIAU7BWUFngWiBXYFRAUJBfkEdgWTBi4I/QlgC60LhwqsBxQDBv2y9T3tOeSv2+PU3NCgz1LQk9JV15nfiuq19S3/AQc/DuoUVhnhGfoWqhJEDoYJCwR2/gb6k/cd9xv4Kvor/a8A9gOrBgkJEAszDOwLVgpBCJ4GsgULBXAEbATCBY0IIwysD7ISOBVKF5AYhhj/FiAUDhD2Cj8FbP/r+Qj18vDu7XPs4+wS71ryGPYE+vf9nAFtBPkFLQZaBfQDUgKtACT/0f0C/f78nf1h/vr+cP/K/+v/nv+0/lD95/vB+rL5mvjC95L3JPgz+Vf6dfvW/Jj+ZADcAfMCyQN6BAgFVAVdBU0FOAUSBewE3wTRBKEEPwSsAw8DowJqAkgCagIqA7EE5gZuCbALMg2jDWUMzQgNAxL8c/Q47IrjTNv/1MjRRtFD0sHUHdrM4ift6fYd/1sGTQ0lEx8WuBVjE5sQZQ0zCVwEEQBe/V38avwX/aH+FgHJAwIGtAcTCf8JEgoNCTMHTAX2AxgDZQIjAvACCwUmCJwL2g7LEZwUBhdbGEUY4BZbFMIQDwxjBkwAk/qe9XjxWO7B7BztSu+n8nT2Nvq8/dUAMgODBMUERQRfA1oCZgGMANv/g/+Y/9f/BQAgAB4A2v82/zH+3vxk++T5ZPj59un1bfV89QD2CPee+Kz6A/1d/4cBhgNcBdgGxAcHCKQH0AbVBcgEjQMiAr0Atv9X/5L/+v9DAJwAWwGbAikEsgUkB94IIAt9DVAPQxD3D8UNYwlJA2X8XvX+7cXld90w1zbUktOo05bUG9g333DoIfFD+Az/fwZ8DQQSpBOqEzgTEBKDD+sLmAhiBtwETQPlAVoBrgEcAiECAwI7AqcCqAIRAoQBkgEGAmsC1ALEA44F9AdvCsYMLg/REV4UPxYdFw4XMxZpFG8RPg0dCJgCPf1j+Ef0QfGg75DvEvHC8+j25vmC/L/+lQDAAfUBWQFrAJD/6v57/jj+Rv7U/rH/iwBXAfYBEQJ3AUgAvv4C/SD7HPlE9w72qfX79en2avhf+n38fP5GAOcBLAPKA9EDlANBA9gCVQK8ATkBDAFEAb8BYQIhA/gD4QS2BUMGfwaABlkGKAYmBoMGUAdpCIcJfQoqCw8LXQmXBR4ACPo19Gjuvede4Cba6tZu1ufWhtes2R7fe+dH8IL3jf3rA7AKIBDeElkT2xL7EV4Quw20CjkIbwbbBGMDcAI5Am4CiAJRAhcCNwJ+AmECzgFBAR0BXQH0AfUCdQSBBvkImwtKDvoQXhP4FHcV8BSwE+ARXw8HDPwHxwMCAOb8RPoD+Fj2mvXe9cD2mvcf+IX4DPms+UL61fp9+1L8Wv17/oz/igB9AUECrAK7AnUC7AE3AUgAAv+P/Vj8iPvq+jz6kfk9+XX5E/rC+lb73vtt/Az90v2//oz/FgCiAG0BVQIbA5cD1gMbBJoEMwXBBUsGugbiBtIGtAaGBiIGXgUyBP8CZQKHAvgCkQOUBBIGywdACXMJZgcUA2T9dfcS8ubsq+Zk33TZItfv14/Z7tpk3fzio+uY9EX7CAD0BIcKKg+GEd4RThGUEHcPhQ1LC8cJzAhbB2AFvwMBA8ACMwIRAQQA3f9lAMgA1AAXAeMBBQNIBL4FjgeeCYQL+AwtDoMP5BCwEXURhBBwD1IOzQyTCrQHmgSlAeD+NPzD+dH3lPY29p72T/fi92f4Jfk7+oX7tPyJ/R3+vv5j/7j/uP+3/93/8/+9/zn/p/5S/iX+sv3z/HP8jPz4/Df9Hv33/Bj9ZP1w/Sv96/zp/BD9Nf1j/cb9V/7k/mn/JgAwATYC3gIvA4UDGgTOBHEF/gV9BtkG6QabBhcGjQXkBOgDwQLOASMBmwA2ACcAvAAIApoD8gTdBd0F7AOI/5f59PPt793s6+iz42vfbN5W4LPiMeQx5tjqG/JU+Rz+7ADwA9IHNgvoDBsNtQwuDDULmQkgCK0H3geWB5sGuQVrBT8FnASXA9sC0wIZA/0ClQKSAhgDpQP9A3sEeQXnBkgIIAmSCT8KYwuPDEwNlg2tDaoNPg0GDPYJYwe4BC4Cuv9U/T371/lV+Zv5Jvpd+ij6/Pkv+pT6sPpc+gf6MvrY+of77vs//PH8Ef4k/9f/XgAOAd4BWwIqAo0BAwGLANL/0/7f/Sj9m/wN/HH75PqE+lT6TfqG+jL7SvyP/d3+OwCuAScDfgSCBTYGzQZOB4AHQgeuBv4FUgWpBPkDQwOJAuQBfQFbAYUBDgLdArgDhgTlBOgD5QBT/JT3AvSw8RvvAOts5rLjiONm5NzkeuUD6APtwfIV9xT6pP1rArsG7AheCaEJhQpFC6gK2whvBzQHWwcBB2AGCQb1BbEFEwWOBK8EOwVUBawE7QOwA70DogN0A7YDrAT1BfoGtgfICIcKYAx6DasNfA1qDVUNsQwpC88IBAZDA+IA7/5e/T78nfuL++r7Q/wm/KH7D/ue+jj6qPnp+F34Yfjd+H75IPrZ+sj76/wP/gf/5f/YANIBfgKwAo0COwKvAdkAyf+z/t79UP3J/C78qPtW+zj7S/uQ+wv8yPyz/az+rf+7AMABkwIqA6QDIQSaBPgELQU3BSYFCwXIBD8EkwP9AocCPQIrAjICTAKjAisDxwOlBIYFOQW8Amz+v/k49hH0w/HU7Rfpz+Xy5H3lQOY851LpCO2Y8aH17fh7/IwA/wP1BccGPAepB90HmQcVB9wG+Ab0BtIGNwdFCB0J8wgECEUHRweAB+AGRAWxA+EChwIsAvABTAJ0A/QEFAbHBsYHfAlKC0oMXQwcDAcMBQyXC00KRwgZBhIEIgJhABz/YP4F/uH9yv2M/ff89Puz+p35+/iu+G74Hfj/93D4bvmS+pL7hvyq/fD+AAC8AF8BDAKHAooCKAKwAT0BlQCg/6f+/v2j/Vn98Px3/Cn8GfwT/AP8Kfyz/Hb9M/7d/oL/KQDHADcBcwG7AUACzwIZAyADJgNbA6gDwgN4A/gCnAKDAokCmQLKAhIDUQO6A5MEbgU0BQEDA/+o+oT3hPUM803vfOs76c3oNems6ZLqyuw58JfzCfYs+O76G/6sACgC7gKSA0UE2AQ/BdwF2gbEB0IIwAi8CeAKawv6CtcJsgj3B1cHUgYRBRoEcgPNAjAC9wFoAmgDewQvBZ4FRAZPB28IQwmoCbUJmglsCf4IGQjOBkkFjQOvAfn/tf75/br92/0u/oX+s/6X/kr+//2z/Sv9Zfyu+0H7JftK+4775ftz/EL9J/4Y/ysASwE7AtUCAgPFAjgCZQFRACv/Kf5X/Z788vtd+wH77voG+yH7TPuw+1f8Hf3W/XH+7v5K/4H/oP+2/8v/4/8EADwAlAALAYsB+QFJApUC6AIoAy8DAAPNAsUCuQJTAr8BnQENAkMCTwE2/zf9ovwu/S/9rfuI+Rf4cfeo9lL1JPT184T0svQY9KjzYfTt9T33/ffK+B76sPsF/Sb+gf8jAX8CGwNbAwMEHwXjBcgFOAUHBX0FJwaBBqEG8gZ9B94H6QfqBzYIqAi9CDkIawfRBpkGhQZWBhAG4gXYBeYF/QUOBgIGswULBS0EZwPpAqoClwKtAtYCywJbArABLwH/AOAAiQD2/1r/3v55/gr+hP0A/Zb8PPzx+9v7CPxR/JD8x/wC/T/9cP2D/XX9XP1Q/UX9Jf34/OL88fwB/ef8q/yL/K78+vxJ/Yj9wP0K/mD+kv6U/p/+2f4k/1n/hf/V/1cA6wB9ASQC7gK0A1YE9gSvBS4GzgU1BN4B5v/5/oL+Xf1c+3v5cPjP9+D2q/XX9K30p/Qc9EjzK/M19Lz1Bvcn+Jf5ZPsd/XX+o//zACwCwQKkAncCvQI5A1wDGgP4AnYDhAScBWwGIQfhB2YIawgbCMwHogdwB/sGRwaoBWIFdgW5BQcGUwaXBtIGCgc6B0wHHAeXBtcFEwVeBKUD6wJXAvUBqAFSAfEApwCaAL4A0gCtAFwA9/+F/xH/mv4U/oD95/xW/Or7u/u8+9n7Evxp/OX8h/0x/rn+Fv9M/0r/Cf+T/vX9VP3g/KL8dfxC/Bf8GPxa/LL83/zl/Pj8F/0b/Q39HP1m/dL9Kf5g/qz+P/8PAOAAgwESArECRgPBA1kEJgXEBacFlwT+ArEBEgGDACr/FP0K+3n5Gvid9kP1jPR+9IX0LPTU80L0ifX/9iX4KPlp+u77ZP2l/uH/MAFFAsECwALMAjQDpAOxA3ADVQOuA2AEGQXABXcGMweoB7oHlwdwB0wHAgd7BtgFWAUdBSgFZgW9BRoGawaaBqgGowaGBjcGswUaBYoECgSdA1EDLgMiA/8CnAICAlwBwAAqAJv/Gv+o/kf+B/7u/eP9zf2p/X39R/0S/ez81fzH/Mj82vz0/BH9Nv1h/YX9lP2Q/X79Vv0l/QX9A/0b/Tv9WP1z/Zj9y/0C/iz+Ov4q/gH+yP2Q/W/9b/2Q/cv9Hv6X/kL/AQC7AG4BDAKAAtsCOAOrAzEEeAQSBA0D+gFLAeoAWwBC/8L9PvzL+kH5rPdZ9nj1zvQO9FLzEPOJ84z0wPX39kL4tvk9+7P8JP6o/xkBLQLeAm0DEAS4BCsFRgUpBSAFUgWlBQAGWQasBuYG8gbVBrsGygbmBtgGhQYMBroFvAXtBRwGUgabBtsG+wb9BvEG3QaqBi4GYgWEBM8DSAPYAnYCKQLgAXwB+gB4ABYAyf9i/8r+Jv6n/Uv9//zF/J38hfyE/J38y/wO/V39nv3K/fD9GP40/j3+Ov4r/v79r/1T/QP9zfyu/I/8XPwy/DP8Xvyt/B39jf3f/R/+U/52/o3+of61/tb+C/9L/6D/KwDiAI8BHgKhAiwDtwMYBBMEjwOwArIBvADZ//H+6v3A/IP7TPo0+UD4aveq9gD2bfX29LL0xPRB9RX2J/dr+Mf5H/t7/On9Sv94AGYBDQJ/AvACbwPdAzYEmgQYBaUFNga8BisHcgd8B04HCQfCBnsGKwbZBZ4FkAWqBeoFUwbPBjwHjAe5B7oHkAc3B7gGKQaYBQYFgAQUBMEDhwNcAx4DvQJMAsUBFgFPAI//3P4+/r/9Wf0L/dz8ufyN/Fz8Nvwd/An89Pvd+8z72vsa/H385vxM/a79//06/lv+Xf5C/hH+yP1u/R396/zP/L78vfzY/Ab9Of1z/bj9/v07/mX+gf6s/gL/cP/h/1sA6AB8AQ8CowI4A78DCwTqA2gDwQIjAogBwACw/2v+GP29+1n6/fjF97/24fUY9XT0IvRA9Lz0cfVO9l33nfj4+WL71vxF/pD/oAB6AT4CCQPIA10EzAQuBZcFEgaOBvIGOgdsB4EHcwdMBxsH5wa1BoMGSgYRBu0F9gUrBnUGwAYJB0sHfgeYB5EHYAcAB3YG0gUsBZYEDwSQAxUDpAJEAuwBjQEjAbMAOACp///+UP6u/R/9nvwx/Ob7xfvE+8z71fvr+xH8NPxL/F38cvyI/JT8kvyP/Jb8o/y0/Mf81vzm/P/8FP0b/Sn9Rv1i/XL9ef19/Y79sf3V/fv9L/5z/r/+Dv9n/9H/SQDBADcBswE5AsACKgNPAy8D5wJ/AvYBWwGwAOD/4v64/W38K/sL+gP5EPhI97D2Q/YL9hj2bPYD98b3lPht+Vv6Xvtq/Hb9eP5z/2YARwEZAuIClgMvBLsEPQWuBRkGfgbKBvkGEAcJB+8G2wbQBskGwwa3BqgGpQaxBscG6AYNBx4HDAffBqsGewY/BuQFdQULBaoETQT5A7EDaQMTA54CCgJtAeAAYADd/1b/3v58/iv+5v20/ZT9d/1P/Sf9B/3f/Kn8bfw1/Ab85vvU+9r7BPxD/Hr8nPyx/Lv8vfy0/J/8gPxg/Ej8TPxv/Kb87fw+/Yb9wP0A/kf+gv64/vX+L/9q/67/AgB4AAQBagGQAZ8BtAHMAdYBnAH8AC8Aev/Z/if+Wv2V/Pf7XPuE+oP5rvhD+D74Y/hw+GL4e/jn+Jz5e/p1+4z8qP2T/kj/AgDfALgBWALCAh8DhAPdAxsEWQSyBBAFRwVRBVEFcQWrBdYF4AXoBRQGZQbGBiEHbAelB8IHxQe6B58HZQcPB6AGGgaOBRIFpgRKBPwDrQNUA+8CfwIIApEBDAFwAMj/Jf+X/i/+6v22/Y39eP13/Xn9eP19/ZH9pP2q/ab9nf2W/ZT9k/2X/aL9pv2Z/YH9Xf0z/Q392vyR/FX8NPwV/Pb77/sD/C/8afyk/Nv8Ff1Y/aL98v1N/rj+Jv+P/wIAiAALAXgBywEIAjECQQIqAukBfwHuAEAAg/+6/uz9IP1R/H37uvoV+oj5Gvnc+ND45/gY+WT5zflR+ub6f/se/MP8XP3e/VX+0f5K/7f/IgCVAAQBbgHYAT0CnAL6AlADngPwA0EEgQS3BPYESAWlBQIGZgbSBjYHiwfdByMIRghGCDIIEAjZB5MHRgf5BqkGVQYFBrIFVQXzBI4EGgSOA/YCXgLGAS8BogAoAMX/dP8n/9P+f/40/vP9vP2P/Wb9Qf0k/Q/9AP0A/Q/9IP0t/Tv9Uf1n/W/9YP0+/Q392Pyn/H38XfxM/ET8O/w0/DP8PvxU/GL8WfxP/F/8hPyx/O/8RP2j/fz9S/6Z/un+Mv9q/43/lf+H/23/T/8s//P+mf4q/rz9TP3Y/Gr8DfzC+4D7SPsl+yH7OPtn+6H74Psz/Jn8+/xb/cf9N/6l/hX/gf/p/1MAsgAHAWsB2AE+ApwC7gI4A4YD1AMaBGcEvQQOBVoFrQUCBlgGqwb1BigHPAdAB0kHTAc8ByEH/QbRBqwGkQZyBkoGHAbnBakFXwUIBaQEMQS0AywDmAIFAn4B+ABuAPH/gv8X/7b+af4w/v79w/1//Tv9/vzS/Lr8o/yJ/HX8a/xt/IP8q/zV/PL8+vzy/Oz86PzY/L/8pfyS/Ib8fPx6/Iz8r/zS/OP86vz9/B39Of1P/WX9ef2N/ar90v0I/kr+jv7F/t/+7P4M/zb/O/8U/9v+ov5s/jf++P29/Zb9cP08/Q/9+vz6/Az9H/0h/Sf9Q/1v/Z390f0X/mn+sv7q/ib/dv/P/xwAWACOAMwABgEwAVcBkQHbAR8CVwKRAt4COwOOA9ADFgRsBLwE9wQtBW0FrAXYBe8F+AX9Bf0F8QXaBbYFgAVEBRQF6ASzBHcENATxA7cDeQMsA+ACngJZAgoCuAFqASgB8gC4AH4ASQAOAM7/mv90/1P/L/8E/9H+n/5u/j/+Gv74/dT9tf2d/Yb9c/1m/VD9NP0d/Qz9+fzh/MX8s/yv/Kr8mvyO/JL8ofyv/Lr8zfzr/Av9Lv1b/Yj9rv3P/fH9G/5J/nD+gv6D/nD+TP4n/g/+//3y/en93f3I/bX9uf3Z/QH+H/4x/j7+Rf5L/l7+h/6z/s3+2f7o/v3+Gv9F/2v/fv+I/5L/mf+l/7z/2v/2/w8AMwBqAKoA7wBDAZwB4QEZAl0CrQL+Ak0DkQO8A9ID6AMQBD4EWgRnBHoEjwSbBJ8EowSsBLQEpgR7BEYEFQTnA7QDawMWA8kCgQIvAt0BngFwAUoBIgH5ANgAwQCuAKEAlAB/AF8AQgAxACQAEQD8/+3/3f+8/5T/cf9O/x7/5/6w/nj+P/4N/t79r/2N/Xz9bf1f/Vn9WP1j/Xj9ff1u/Wn9ev2K/Y79jv2Z/a39vf3H/dz9Af4d/h7+Fv4Y/iH+If4U/gH++v0I/hv+IP4e/ir+S/5x/ov+l/6j/rb+xf7L/sz+1v7v/hH/Kf8w/zz/Xf99/4v/jv+M/4n/jP+N/4//ov+w/6H/iP9//4r/qv/H/9z/EABSAF4AYwC0ADIBiQGoAcIBHwKLApECeQLDAuwChQJMArQCHgMWA+4CFANnA0QDnwJbAq0CuAJiAnMC3gL4Ar4CogKuAoAC8AGQAdcBJgLsAbkB/AENAnMBxACmAOgA7wC7ANMAFQHfAGIASgBsAEwADQDx/+H/xP+Q/13/Uf89/+3+q/62/sz+uf6b/o7+iv51/kH+IP4n/hr+6/3b/ez97f3f/dv93v3f/d/94v3v/ff97P3k/e/9+f3s/dX9x/3L/dP91P3Z/fP9Fv4l/iP+Of5t/pn+p/62/t3+C/8t/0b/YP9+/47/i/+Q/6n/uv++/8z/3f/b/8//0f/h/+//8v/3/wwAJgA1AEwAegCmAL0AygDXAOkA/wATASoBQwFOAUsBTgFjAX8BmQG4AdgB7AH7ARYCOAJKAkUCOQI2Ai8CEwLyAe0B9QHiAbcBjgFzAWMBUwFDAUcBTwE7ASMBLAFGAU0BPwEnARsBJwErARcB/QDoANUAwACbAGwATgAvAAEA5//b/6z/bf9d/3n/gf9S/xj/G/87/yD/6P7x/h3/Ev/h/tn+A/8I/7X+bP6Q/rz+cP4H/hD+W/5e/hT+7f0j/mT+V/44/mH+kv55/lr+g/6q/oD+SP5e/qb+yP6w/qH+w/70/gH/+v4L/zf/Vf9b/2n/g/+J/4L/m//N/9v/wP+z/8r/6//5/+3/2//a/+z/BgAeACUAIQAyAF8AjACeAJYAkwCrAMkAygDBANAA5QDpAOwAAAESAQwBAgEZATwBPgErATgBZQF+AXIBZQF0AYYBegFhAWABagFYAT4BSAFcAUcBHgEZATUBSgFAASgBHgEgAQ0B7ADlAOgA0wC0AKIAkwCFAH4AdwBtAFkAPAAoAB4ABgDw//H/6v/Q/7//s/+g/4r/a/9W/2v/hP9x/1P/RP86/z//Qf8e//v+//7//uT+2P7c/tf+zP7C/sP+1/7j/tj+3P76/gj///74/gr/LP83/x3/FP8u/zT/Kv88/1n/Vf9E/1L/iP+8/7z/nf+k/8b/xP+0/8n/7//6/+3/7f8FABIA9v/W/+H//v8EAPv/9f/4/wAAAAD8/wgAJgA1ADEANwBVAGUATgAwADsAXgBgADkAHQApADkALgAiADkAWwBfAFMAZACDAH0AXwBkAIIAfQBbAFYAcwCDAHIAZABuAHcAbwBqAHYAfgB1AGMAVgBPAEkAPwA6AEsAYwBbADQAIAA6AGEAcABiAFkAcwCKAHUAYgB8AJAAeQBmAHUAhgCCAG8AYABkAGsAXABIAEwAWQBSADYAIwAqADUALwAlACgAKgAhABcAGQAbAAsA8P/i/+T/2/+8/6b/pf+h/4v/dv9z/3f/Zf9E/zn/S/9V/0n/P/9B/0P/Nv8j/yT/P/9R/0b/PP9L/2b/cv9p/1//YP9d/1L/Vf9l/23/bf9u/27/bf91/4P/kf+f/6r/sP+5/83/5f/2//7/AwAKABcAKgA5AD0AQgBMAEwARwBXAHQAfwB5AHwAkgCgAJMAgACEAJQAjgB3AG0AdAB3AGwAYwBhAFYAQwBCAFYAWwBIADoAOwA4ACgAGwAYAB8AJwAmACMALAA4AC8AFwAPABoAHgAQAP//+P/6//f/5//T/8v/0f/S/8j/vP+5/7n/uP/B/9z/9P/2/+7/8f/5//7////9//7/AwAEAAAAAAD+//T/8v8AAAsABwD9//3/BwAMAAMA/P/9/wAACgAXABgADQAGAAEA//8IAA0A+//m/+7//v/3/9//0//d/+f/4P/d/+n/5v/T/9P/4//n/+D/3v/g/+f/6P/a/9L/4v/y/+v/3v/h/+7/+/8IABYAHQAZABYAIQA7AEkAOwAmACsAQgBEADIAKQAvADAAKwAvADUALQAdABkAIQAiABYAEAAXABwAFQAPABIAGQAbABQACQACAP///f8AAPz/6f/Z/+H/7v/p/+P/5v/m/93/1P/N/8r/zv/R/9L/2v/n/+f/4f/o//j////+/wMAFAAYAAMA7v/w/wIAFQAhACAAGAAZABwAEQAHABEAHgAgACUALAAjABEAEAAlADYAMwAnACQAJAAcABMAFQAYAAsA9//s//D/8//u/+f/4f/Z/9H/1P/e/+H/2f/Q/83/0f/f/+b/2P/H/8X/zv/b/+H/2f/T/9f/0f/H/8//2v/T/8//1P/P/8j/z//c/+L/5P/n//H/AAAEAAAACwAbABsAGQApADsAPAA0AC4AMgBAAEkARQA9ADsAPgBDAEMAOwAyADAAMwAxACoAJgAoACcAIAAZABIADgARABUADwAAAPX/+P8BAAEA/f/9//v/7//k/+b/7v/u/+X/4//r/+3/5//m/+j/3//X/9j/2v/a/9j/z//J/9T/5P/o/+X/5f/m/+v/+v8DAPv/8f8AABYAGAALAAEAAAAGAAoABwAAAP7/AwAEAPb/4//h/+n/6P/l//D/AAAAAPf/9v8CAAkAAAD2//f//f/8//X/9f/9/wIAAwD9//H/6f/w//r///8AAPr/8v/5/wkACQD//wAACwASAA8ACQAMABcAHAAVAA4AEwAcACQAJQAgACMALgAuACYAIQAeABwAHwAfABIABAAAAAEAAwAEAAYABQD9//X/+v////r/9v/8/////f/7//b/8v/6/wEA/P/v/+j/5v/l/+n/7//u/+r/7v/1//P/7P/r/+3/7v/w//b//P8AAAIABAAEAP7/8//y//v/AAD9//L/6P/r//j///8AAAYACAAFAAIA///6//r//P/+/wAA/v/2//j/BgAMAAIA+v/9/wYACgAHAAAAAAADAAkAEQAZABUABAD7/wAABQACAAAAAAAFAAgAAADy//X/CQAcAB4AEAABAAQAEQAVABIACQAAAAIAEgAYAAsAAQAHABAADQAKABUAGgAJAP7/CgASAAsADQAbACMAIAAWAA0AFQAkAB8ACgAEAAsACQD///L/6//q/+//9v/4//j/+v/5//L/8//+//7/8v/u/+7/6//u//P/8f/s/+j/5P/k/+z/7v/r/+7/8//u/+f/6P/s/+z/5v/c/9H/zP/S/+T/8//w/+f/4f/Z/9P/2f/j/+T/5f/r/+3/7v/5/wUABgD/////CwAUAA4AAwABAAwAGwAgABcAEgAbACAAFAAKABYAJQAiABkAHgAlAB4AEwAUABwAIgAfABIACwAVABoADwAPABoAGgATABYAFAAKAAoAEQASAA8ADQAPABIADAABAP//+v/t/+v/+v/9/+z/3f/g//D/+f/u/93/3v/w/wAAAAD5//f/AQASABcAEAAKAA0AEwAWABMAEAATABwAIgAfABYAEQAMAAkADQASAA8ABAD8//X/8v/x/+n/5P/s//P/6f/X/83/zv/W/+D/4f/d/9r/1v/U/9r/5P/m/+H/4f/o/+7/5//e/+D/5v/i/9f/1f/b/9//3P/Y/9z/5f/t//L/9f/w/+j/7f/7/wIAAwADAAgADQAIAAAACgAfAB4ADQAIAA8AGgAjAB8AEAAGAAUACQAWACMAGwAHAAMAEAAZABsAIQAoACUAHQAbAB0AIAAoAC0AIwAWABQAEgAMAAoACwALAA0AEQAVABgAEwAJAAcAEAAVAA8ACgALAA4ADwALAAUAAAD6//n/AQAJAAEA+f/5//z//P/9//v/9P/y//X/9f/4/wAAAgD9//f/9//8//v/7v/l/+///P/3/+r/5//x//r/9f/m/+X/+f8LAAgA+//7/wQABgAAAAIACwAKAPz/8f/4/wEA/f/w/+n/4v/a/9P/0P/R/9n/3P/Y/9v/4//j/+b/8P/0//D/8/8BABAAEwAHAAAAAQAAAAAACQANAAMA+//9/wIABwANAA0ABQAEAAsACQAHAA4ADwAHAA0AHgAkAB4AGgAWAA4ACgALAAsAAgD8//7/AQABAAAA/v/8//3//f/7//3/AAAAAPr/8//1//7/AQAAAP3/AAAEAAcAAgD//wAA///5//z/CAANAAYAAAD8//n/9f/6/wUACQAAAPb/9v/6//7/AAACAAQA///x/+3/+P8BAAEAAAABAAEA+v/0//X/+v8AAAQAAAD3//v/AwAHAAQAAAACAA8AEwAIAAUAEAATAAoABQALABQAFQAPAAoAEAAZABkAEQAKAAIA/v8AAAcACAAFAAEA///+////AAD//wAAAgAAAPj/9//+/wQABAD///P/6f/n/+r/6f/n/+L/2f/Z/+X/6//p/+n/7P/r/+b/5//x//j/9v/2//j/+P/8/wMAAADy/+7/8//0//X/+v/7//j/8P/q/+//+f8AAAIAAQABAAYACQAIAAwADwAPAA8ADwALAA0AEQAKAAQACAAKAAgACAAEAAAAAgAJABUAIwAlABwAGAAYABkAHgAiACIAIgAeABoAHwAjABkACAAAAPz//v8DAAMA///8//z/+v/0//X/AAAHAP7/8P/x//n//v8BAAAA9//w//L/7v/l/+f/7f/s/+f/5P/h/9v/2P/a/+L/6v/v//X//P/8//7/CAAOAAgAAQD+//v//f8AAP///P8AAAQAAQD7//f/9P/w//T//P8AAAEA/////wgAFAATAA0ACgAIAAYACgARABIADgAFAAIABgAGAAAA/f/+//7/AAAAAP//AAD7/+n/6v8EABoAJAAoABwADgAXACgAJQAFANX/uv/V/wUAIgAxAC8ADQDq/9//4P/n//b/+v/y//P/+v/+/wEA+v/h/9P/4f8AAB8AKgAXAAAA/f8AAAAA///9/wEADAAMAP7/8P/0/wIADAALAAkABgACAAsAIAAlABsAGAAfAB8AHAAXAAsAAAD8//z/+v/5//7/AQD///v///8FAAkACgAIAAAA/P/+//v/7//q//T/+//2//D/7f/l/9z/3f/l/+3/8f/1//b/9P/w/+7/7v/q/9//1//d/+r/7//x//X/9//z//T//P8CAAQACQARABYAGwAeABoADgADAAMACAADAP3/AAD+/+//6//4/wQACAAHAAEAAAADAAMABQAJAAYACAAWABgADQAKAAkABAAJABIAEwAWABwAFwAQABcAIwAoACQAHgAYABIADgAJAAIAAAAHAAkAAQD//wAA/P/5//v/+v/z//H/9/8AAAwADQAAAPH/7//o/9X/z//k//H/6//r//X/9v/u/+b/4f/i/+H/3P/f/+7//v8JABEADQD9/+z/6v/4/wAA9f/t//3/DgAJAP7//P8DAAwADQACAPz/AAAGAAoADgAMAAIA//8DAAgADQAWAB0AGQAUABEADgAMABAAEgAKAP//9P/v//b//f/5//T/+/8FAAgABgAAAP7///8CAAIAAwACAP7/+f/+/wcADwAUABAA/v/w//L/9f/x/+//8f/z//j/9//t/+n/7P/s/+//9f/y/+//9/8AAAAAAAD9//j/+P/4//j//P8AAAEA+//7/wYADAAGAAUACQAIAAgADQAKAAQADQAVABMAFAATAAgABQAKAAYABAAJAAgA///8//3//P/+/wMAAwD7/+//7P/0//X/7v/z/wMABgD9//r/AgAIAAAA9v8AABAACgD8//7/CgAMAAgACgANAA0ACgACAPj/8P/m/9L/vv/A/9n/9f8NACcAPgBUAHIAiQCFAHIAYABEABsA8//M/6j/lf+V/5r/oP+t/8H/2P/r//j/BQAbADQAQQBAAD4APgA5ACoAFAD9/+b/z//A/7f/rP+e/5n/qv/L/+7/CQAfADUAQwBAADUAKAAOAO7/2P/O/8T/uP+v/7n/2v///xUAJgA4AEEAQQBBAD0ANwA2ADcAMQAkABQA/v/j/8v/t/+l/5z/p//D/+D//v8jAEsAZgBuAGwAZwBWADcAGAD//93/u/+s/6v/rv+1/73/wP/K/9//9P8IAB8AMAA1ADkAOQAwACcAIAATAAIA9f/m/9L/wP+z/6b/of+z/9X/8/8KACAAJwAeABUAEwAQAAQA+//7////AAAAAAAAAwANABQADwAIAAYAAQD3/+z/5//o/+n/7P/4/wQADgAYACQALQAyADIAKgAfABIAAgD2//T/9v/3//b/8f/u//f///8AAAUAEQAeACUAKwAzADkANAAqACAAEAAAAP3/+//w/+3/8//2//L/7f/k/+H/6P/s/+n/7//7/wAAAAAFABAAFwAYABgAFgARAAwABADx/9j/yf+//7r/v//N/9n/5//4/wIAAwAFAAoADQANAA0ADAALAAsACAABAAAAAgAEAAQABAACAAAA/P/1//H/9v/5//X/7v/r//H/9//z//H//P8IAAsADQASABAACgAJAAkAAgD8//n/8v/o/+H/2v/W/+L/8v/z//L//f8DAAIAAQD///r/+f/8//3//v/+//v//P8DAAYABwAOABkAIQAoACgAIQAYAA0AAgAAAAUAAwABAAkAEQAQAAsABgACAAAA/v/9//7//v8CAA4AGAAZAB0AJAAmAB8AFgAMAAMAAAD5/+3/4//i/+L/4P/h/+b/6f/u//f/AAABAPz//P8FAAwADAALAAkAAQD+//j/6f/a/9H/zf/S/9//5//u////EAAVABUAFwAdACIAHwAWAAkA+v/s/+P/3f/b/9z/2v/c/+n/9////wcAEAAXACQAMAAxADAAMgAtAB0ACwD///b/7v/m/+b/5//h/9f/2P/i/+v/9v8EABUAJQAxADwARABFAEAAOQAsABsADQACAPL/3f/Q/9H/1f/V/9r/5v/0////BAAFAAkAEwAUAA4ACgAFAP3/9//w/+j/5f/l/+T/6v/v/+z/7f/0//X/9/8AAAQABQAFAAEAAAAFAAAA8v/z//j/8//v//L/8//u/+3/8f/4////AwAHAAwAEQATABMAEgAUABQAEQAKAAEA9f/s/+X/4f/j/+n/7P/r/+//9/8AAAwAGAAiACwALgAkABgADQADAPj/7f/j/97/2P/T/9j/7P///wsAFgAhACgALAAvADEAMwAxACoAHwASAAMA+f/0//H/8f/y//f//f/8//j//P8EAAwAEwAYABcAFwAbABsADwACAP7//P/z/+r/6P/n/+D/1v/Y/+P/6P/n/+7/+/8AAAMACAALAAwADgAKAAYABgABAPX/7v/s/+f/4P/d/97/5f/s//H/+f////3//f8GABAAEgARAA8ADwAOAAsACgALAAYA/P/7/wEAAgD9//n//v8EAAQA///7//z///8BAAcACwAJAAYABwAGAAIAAAAAAAIAAQABAAMA///z/+z/7f/w//P/+P/9/wQACwAMAA8AFgAZABQAEgARAAoAAgD8//T/8v/w/+v/5//p/+7/8v/2//z/AgAHAAUABgAKAAkABQAJAA0ABwABAAMABgABAP7//P/0/+3/7f/v//D/9//9//3/+v/5//z/AwALAA0ADAALAAgABgAEAAAA/P/5//X/9P/2//b/+v8EAAwACQAGAAoACwAHAAgACwAJAAUAAQD6/+//6P/p/+//9f/4//f/9//6////AwAAAPz//P/7//f/9v/7////AAAAAP3//f8AAAEAAgAGAAYAAgABAAEAAAAAAAAA+//3//r//f8AAAUACQAIAAcACwAPABIAFQASAAsACQAMAAwACAACAAAA/P/3//f//P8AAAEAAAAAAAAAAAD///3//f8BAAkACgAFAAUADAARABIAEgAOAAoABwAAAPb/8v/z/+//6P/o/+z/8P/1//3/AgAMABkAHgAYABQAEQAIAAAA///9//X/7v/p/+b/5v/p/+//9v/8/wIABAAAAAAABgAHAAEA///+//n/8//z//T/8f/y//j/+P/z//X/+f/5//j/+P/2//X/9f/0//b//v8CAAMABAAHAAoABwADAAcADQALAAQAAAD8//j/+f/9/wAAAwAEAAIAAQAHAA0ADAALAA8AEgANAAYAAgABAAEAAAABAAMAAAD9//7/AgACAAAAAgAIAAkABQADAAMAAAD6//L/7P/t//P/8v/v//T//P/+/wAABQALAA4AEAATABcAGQAXABEACgAEAAIAAAAAAAQABwAHAAgABwACAAQACQAKAAYABQADAAAA/P/9/wAAAAD//wAAAAD///z/+v/6//v//v/9//b/7v/s/+//8v/y//T/+f/9//v/+P/4//z/AAD///3//P/6//j/9v/1//X/9v/1//L/9f/6//v//f8CAAQABQAKAA0ACAAFAAcABQAAAAAAAAD8//f/9P/2//v//v/7//n/+f/8////AAD//wAAAgABAAAAAwAIAAgACQAKAAcAAwABAP3/9v/1//X/8//1//v/AAAAAAAAAwAJAAsADgARABAACgADAPz/9v/4//3//v/+//3/+v/6//z///8GAA4ADgAJAAgACgAJAAoACwAHAAMAAQAAAP7//P/9/////v/6//n//f////7//v/8//z/AAACAAAAAwAJAAcABAAHAAkACgAJAAcABwAKAAgAAAD8//n/8v/u//D/9//+/wAAAAABAAQAAwACAAMABAAGAAsADAAJAAYABAAAAPz/+f/8/////v/+//////8AAAEA///8//z/+v/4//v//f/6//j/9//2//b/9//1//D/7f/s/+j/6P/t//X//P8DAAkABgD///v/AgATACkAPQBCADAACwDZ/6z/mP+f/7v/4/8IAB4AKAApACYAHwAZABoAJgArACMAGAAIAPL/3f/N/8D/xv/h////FwAuADoANAAmABAA+v/o/97/2//h/+3/9v/4//v///////7/BgARABcAGwAbABYADgAFAPj/7f/n/+T/6//+/wwAFAAaABwAFgALAAAA+//8//v//P8FAA4ADwAJAAAA9v/t/+n/6v/z////BQAEAAIAAAD9//f/9f/2//f/+v///wUACwAOAAoABAAAAPf/7f/u//n/AAAAAP//+//1//P/8v/u//D/+f8BAAkAEQAVABQAFAAUABAADAAJAAMA//8AAAEAAAAAAAAA+//3//z/AQAGAAkABwADAAIA///2//T/+P/7////AwAIAAwADgANAAsACgAFAP//+//4//P/7v/u/+//8f/0//f//P8EAAsADAAKAAcAAwAAAAAA/P/1//L/8f/w//b///8AAP//AAAAAAAAAQAAAAAAAgADAAEAAAD///z/9v/y//X/+f/3//j//v8CAAAA//8AAAAABgANABIAEgALAAIAAAAAAP7//P/6//j/+v8AAAEAAgAHAAsACQAJAAwADAALAAkABQABAP//+//1//X/+/8AAAMACAAKAAcAAwAAAPj/9f/6/wAAAAACAAQAAAD5//b/+f/9/wAAAAD6//L/7f/t/+7/7P/r//D/+v///wAAAQAEAAMAAwAHAAcAAwABAAAA+v/3//v//f/9/wAAAQAFAAgABgADAAIAAAD//wAAAAAAAAAAAAAAAAQABwAKAA8AEQAMAAcAAwAAAAAAAAD8//j/+P/5//r//f8AAAEAAAACAAcABwADAAUABwADAP///v/8//v//P/9//7//P/3//T/+P///wAA//8AAAAA///+//3//P8AAAQAAgAAAAAA+//v/+3/8//2//f/+v/+/wIABAD9//b/9v/1//L/9v///wEAAwAEAAQABwAKAAwADwANAAQA/v/9//n/9v/7/wEAAwAEAAUABQAHAA0AEAARABMAEQAKAAYABQADAAAA//8AAAAAAQADAAQABQAKAA4ADgAMAAkAAwAAAP///f/8//3/+v/6////AAD//wEAAAD8//7/AQAAAAAA/v/7//v/+//6//z/AAAAAAAAAAD9//j/9f/2//r//P/6//n//P/8//j/9f/5//7//v/4//X/9f/2//n/+P/0//L/9P/3//z/AgAFAAkADwAQAAwACgAJAAcABQADAAAAAAAAAAAAAAAAAAMACQALAAsACwAKAAoACQAFAAEAAQAAAP//AAABAAAAAAACAAYACwAMAAYAAAAAAAAAAAABAAAA/P/9//////8AAAEA///7//n/9f/w/+7/8P/0//n//P/7//n/+f/7//v/+//7//z//f///wEAAAD7//j/+f/4//n//P8AAAAAAAD////////8//z///8AAAAAAAD///z///8AAP//AwALAA0ADAAMAAkABgAHAAYAAAAAAAcACwALAA0ACwADAAAAAQAAAAAABQAGAAAA///9//f/8//0//X/9f/5//v/+//7//r/9f/0//n//f/8//7/AAAAAAIAAgD+//7/AAAAAAAAAwAEAAAAAAACAAQAAwABAAAAAQADAAEAAAACAAQAAgD///7/AAADAAMAAAABAAQABQACAAAAAAABAAAAAAACAAIAAAAAAAAAAAAAAAAAAAAAAAAAAAAAAP//AAAAAP7//P/+////AAACAAMAAgAEAAQAAgACAAQAAgABAAEAAAD+//z//P/+/wEAAAD9//7/AAAAAP///v/8//3////9//z//f/6//b/9//6//v//P////7//v///////P/5//r//P/8//z/+//2//P/9f/5////AQAAAP///f/6//j/+f/5//v///////z///8CAAAAAQADAAMAAgAAAP//AwAIAAMAAQAHAAYAAQACAAQAAwAGAAoADAAPABEAEAALAAgACQAKAAcABgALAAwABwAEAAMAAQACAAUABQAEAAMAAQAAAAAAAQAAAAAAAQABAAAA/P/6//r/9//z//D/7v/x//n//v///wEAAAD5//L/9P/2//X/9v/6//7////+//z/+P/2//f/+f/5//j/9//2//f/9//2//X/9f/1//f//P/+//3//v8AAAAAAAACAAQABgAIAAoACQAFAAAA+//6//7/AAAAAAAAAgAEAAMAAQABAAAAAAABAAQABwAJAAkABwAFAAMAAQACAAYABwAFAAUABgAEAAQABwAHAAUACAALAAsADQARAA4ACAAEAAAA//8AAAAAAAAAAAEAAAAAAP7///8CAAEA/P/5//j/9P/y//P/9f/4//z/AAACAAMABAADAAIAAAD+//7//f/6//b/9P/2//3////8//z/AAD///v/+//8//v/+f/3//n///8BAAIABAAIAAcABAABAAAAAQAHAAgABAAAAAAAAAAAAP////8AAP///v///////f/+/wAA/v/8//v/+f/5//r/+//8/wAAAAAAAAAAAAAAAAIAAQD+//v/9f/w//D/8//y//T/+v///wAAAAAAAAAAAAAAAAAAAgAEAAcACQAHAAIAAAAAAAAAAAAAAAQACAAIAAgABwAFAAYACgAPAA8ADAAIAAMAAQABAAAAAAAAAAEAAQAAAAAAAAAAAAAA//8AAAAAAAAAAAAAAAD///7//P/9/wAAAAAAAAAAAAAAAAIABAACAAAAAAD+//7/AAAAAP///////wAAAAAAAAAAAAAAAAEAAwABAAAAAgAAAPz//P/+////AAAAAAAAAgABAAAAAAAAAP7//v////3/+f/2//P/8//2//f/+f8AAAEA/v/5//X/8//z//b/+P/4//n/+v/9/wAAAAAAAAAAAAAAAAAAAAAAAAAA///+//3//P/7//3/AAAAAAAAAAAAAP//AAAAAAAAAAD//wAABAAGAAUABwAGAAIAAgABAP7//f8AAAAA/v/+//3//P///wAAAAAAAAAAAAABAAEAAgAEAAYABQAFAAYABQAFAAYABgAGAAYABgAFAAQAAgABAAAAAAAAAAEAAQAAAAAA//8AAAAAAQAAAAAAAwAEAAEAAQADAAIAAAAAAAAAAAAHAAoABQAAAAAAAQABAAAA/P/5//r///8AAAAA/f/7//3///8AAAAAAAACAAYABgACAAAAAAAAAP///v/+//7/+v/3//n/+P/0//f///8AAP7/AAAAAAAAAAD+//z///8BAAAA/v/8//r/+f/6//n/9//3//X/9f/3//z//v/9//7////+//v//P///wAAAAAAAAAAAQAAAAAAAQADAAEAAAADAAMAAgABAAIAAwAEAAIAAAAAAAIAAwAEAAcABwAHAAsADAAHAAEAAgADAAAA/v/+/////f/8//z//f/7//v//f/+//7/AAAAAP/////+//v//f8AAAAAAAABAAAA//8AAP7/9v/z//n//P/7//v//P/8//z/+v/3//f/+v/9////AAAAAAAAAAABAAIAAAD//wAAAQABAAAAAAD+//3/+//7//7/AAACAAQAAwAAAAEABwAGAAMABgAJAAUABQAKAAsABQACAAQABgAGAAMAAgAEAAYABwAGAAQAAgABAAAAAAAAAAAAAAACAAQAAgAAAAAAAAABAAEAAAAAAAAAAAABAAEA//8AAAEA///7//3/AAD+//n/9v/2//n//f/+//7/AAAAAAAAAgACAAAA/v///wAAAAAAAAAAAAAAAP//AAD///r/9//4//j/9//3//r//P8AAAEAAAD+//7/AAAAAP///f/7//j/+P/6//j/9v/4//v/+v/4//j/+v/7//3//v/9/wAABQAFAAIAAQAAAAAAAQAAAP////////////8AAAAAAAAAAAAAAQACAAUACAAJAAcACQAJAAMAAAABAAAAAAADAAUAAwACAAMABQAJAAwADAAHAAQABAADAAIABAAHAAkACAAEAAEAAAAAAAEAAQD+//r/+//8//n/+f/7//v//P////7//v8AAAAA+v/4//r/+//5//n//f////3/+//8//v/+f/6//v/+//+/////P/7//z/+//7//3//v/+/wAAAAD9//z///8AAAAAAAAAAAAAAgAFAAcABwAGAAUABgACAAAABAAIAAUAAgAEAAIAAgAIAA0ACgAHAAoADAAMAAsACAAGAAUABQACAAAAAAD///v//P8AAAAA/v/7//3/AAAAAAAAAAAAAP3//P/8//z//v////3//P/8//v/+v/7//3//f/+//7///8AAAAA///+//7/AAAAAP//AAAAAAAA/v/+/////v/+/////v/7//z/AAAAAPv/+v/9//7//v8AAAAAAAAAAP////8AAAAAAAAAAAEAAAAAAAAAAAD/////AAAAAP//AAAAAAAA/f/8//7/AAAAAP//AAAAAP7///8AAAAAAAAAAAIAAgABAAAAAAAAAAAAAAAAAAAAAgAHAAkACQAGAAQABAAEAAEAAAAAAAAAAgAFAAUAAwACAAUABgAEAAAAAAAAAAAAAAABAAEAAAAAAAEABQAFAAAA//8AAAAA/P/7//7/AAACAAIABAAFAAEA//8AAAAA/v///wIAAwACAAEAAQAAAP///P/3//X/+/8AAAAA//8BAAAAAAAAAAAA//////z/+P/6//r/9v/2//3/AAAAAAAAAAAAAAAA//8AAAEAAAAAAAAA///8//3/AAAAAP///P/7//v//f8AAAEAAAAAAAEAAAAAAP///////////v///wEAAQAAAAAAAAD////////+//7//v8AAAAAAAAAAAYACAAEAAEAAQAAAP///v/+/wAAAAAAAAAAAAAAAAIABAACAAAAAAADAAcABQAAAAAACAAJAAQAAQAAAAAAAAAAAP//AAD///z//f8BAAMAAgABAAAAAAAAAAEAAgABAAAAAgAEAAQAAwABAP3/+v/5//j/+P/6//z//f/+////AAAAAAAAAAABAAEAAAAAAAEAAQABAAAA///9//z//f/7//n/+f/4//j/+//7//v//f////7///8AAAAAAAAAAP7//f///wAAAQABAP///v8AAAAAAAAAAAAA/v/+////AAAAAAEAAQAAAAIAAwAHAAsACgAGAAcACQAFAAIAAwABAP//AAAAAAAAAAABAAEAAgAEAAQABgAHAAQAAAAAAAYABwAGAAYABgAEAAMAAwABAP///v/8//v/+v/7//z/+//5//j/+P/4//r//f/9//z//v8AAAAAAAAAAP////8AAP7//P/9//v/9//4//n/9//5//7//P/6//7/AAAAAAAAAAAAAAAAAAD8//v//P/8//3////+//3/AAAAAAAAAAABAAAA//////7///8AAP///v8BAAIAAQAAAAAAAQAFAAUAAwAFAAYAAwABAAEAAQABAAEA///+/wAAAAAAAAAAAQAAAP7//v///wAA/////wAAAAAAAAAAAAD//wAAAQAAAAAAAAAAAAAAAwAEAAIAAQABAAAAAAABAAAA//8AAP//+v/5//v//f///wAAAAAAAAAAAAABAAUABgACAAAAAQAAAP7//v8AAAEAAQAAAP7//v/+//z//P/+/wAAAAAAAAMABQAEAAIAAwAEAAIAAAAAAAEAAAAAAP//+//6//z//P/7//z//v/+//z/+f/2//T/+P/+/wAAAAABAAIAAQABAAEAAAAAAAAAAAAAAAAAAAAAAP//AAAAAP////8AAAMABAACAAAAAAAAAAEAAwAEAAQAAwACAAAA///8//3////+//7/AAABAAAAAAD+//v/+//6//f/+P/9/wAAAAAAAAAAAgACAAAAAAD///7//f/8//3/AAABAAAAAAAAAAEAAAAAAAEAAAAAAAEAAgABAAAAAAAAAAEAAQABAAAAAAAAAP////8AAAAAAAAAAAAAAAAAAAAAAAADAAMAAQAAAAAAAQAAAAAAAAABAAEAAAD////////+/////v/8//z////+//7/AAAAAAAAAAAAAP3//P/8//3////9//r//P8AAAAAAAAAAAAAAAAAAAAAAAACAAMAAwADAAMAAgACAAEAAAD///7///8BAAEAAQAAAAAAAAAAAP////8AAAAAAAABAAIAAwACAAAAAAAAAP///P/+/wAAAAD///7//v///wAAAAAAAAAAAAAAAAAAAQAAAAAAAQAEAAMAAgABAAAAAAD///7/+//7//3//f/8//7/AAAAAAAAAAAAAAAAAAABAAAAAAABAAAAAAACAAIAAQAAAAAAAAD/////AAAAAAAAAAABAAAAAAABAAAAAAABAAAA/////////f/8//z//P/8//r/+f/7//v/+P/4//v/+v/4//r//f/+//7///8AAAAAAAAAAAAAAAAAAAAAAAAAAAAAAAAAAAAAAAAAAAAAAAD+/////v/8//7/AAAAAAAAAAAAAAAAAAAAAAAAAAAAAAAAAAAAAAAAAgAFAAMAAgAFAAQAAgADAAMAAwADAAEAAAAAAP7//P/+/wAAAAAAAAQABAADAAQABAABAAAAAAAAAAAAAAD/////AAAAAAAAAQAAAAAAAQAAAP//AAAAAP///v8AAAAAAAAAAAAAAAAAAP3//P///////v/+/////v/9///////+//7/AAAAAAEAAQAAAP//AAD///7/AAAAAAAAAgACAAAAAAAAAP7//v8AAP//+//8//z//P/+/////P/+/wEAAAD//wAAAAAAAAAAAAD//wAAAAAAAAAAAAAAAAAA///+//7/AAABAAEAAAAAAAAAAwAGAAUAAwADAAMAAgAAAAEAAQABAAAAAAAAAAAAAQAAAAAAAAAAAP7///8AAP7/+//7//3///8AAAAAAAABAAMAAwABAAEAAAAAAAAAAAAAAAAAAAAAAAAA//8AAAAAAAAAAAAAAAAAAP7//P/+/wAAAAAAAAAA///7//z//v///wAAAAAAAP7////+//7////+//7/AAAAAAAAAAAAAAAAAQAAAAAAAAAAAP7///8AAAAAAAAAAP//AAAAAAAAAAABAAAAAAAAAAAAAAAAAAEAAAAAAAEAAAAAAAAAAAAAAAAAAQAAAAAAAQADAAQAAwAAAP/////+//7/AAAAAAAAAAAAAAAAAAABAAAAAAAAAAAA+//4//r//f/+//7///8AAAEAAAD//wAAAAD8//n/+v/7//v/+//+/wAAAAD9//3/AAAAAP7//v/+//7/AAAAAP////8AAAAAAAABAAAA//8AAAAAAAAAAAAAAAAAAAAA/////wAAAAAAAAAAAAAAAAAAAQACAAQABgAFAAMAAgABAAEAAAAAAAAAAAAAAAAAAAD+//v//f8AAAAAAAAAAP3/+f/5//v/+//9////AAAAAAIABAACAAEAAQAAAAAAAAAAAAAAAAAAAP////8AAAAAAAAAAAAAAQADAAEAAAABAAEA/////wEAAAAAAAEAAAAAAAMAAQAAAAMABAABAAEAAAD//wAAAAAAAAAAAAAAAAAAAAAAAAAAAAD+//7////+//7/AAAAAAAAAAACAAQAAwAEAAcABQAAAP/////////////8//z////9//v//P/8//v/+v/7//3///8AAAAAAAAAAAAAAAACAAQAAwACAAAA///9//z//f///////P/9/////f/7//z//P/7//v//v///wAAAAAAAAAAAAAAAAAAAQAAAAAAAAD+////AAAAAP7//v////7//v8AAAAA///+//7///8AAAEAAgADAAIAAgAEAAcABQADAAQAAwAAAP//AAAAAAAAAQAAAAAAAAAAAAAAAAAAAAAAAAAAAAAAAgACAAEAAgAEAAQAAwADAAEA///+//v/+f/4//v//v8AAAAAAAABAAMAAgAAAAAAAAAAAAAAAAD//////f/8//7///////3//v////7//v8AAAAA/v///wIAAgAAAAEAAwAEAAQAAwABAAEAAQAAAP3//P/8//r/+f/6//z//f/+/wAAAgACAAMABQAHAAYABAACAAEAAQAAAPz/+v/7//z/+//7//3/AAAAAP////8AAAAAAAADAAUABQAFAAUABgAHAAQAAAAAAAEAAAD///3/+//6//j/9v/2//v/AAAAAAIABgAGAAQAAwAEAAQABAADAAIAAQABAAEA///8//3////9//v//P/7//r//f8AAAAAAAAAAAAAAAAAAAEAAAAAAAAAAAD//wAAAAAAAP///v/8//v//P/7//z//v/+//7/AAAAAAEAAAAAAAAAAQABAAEAAAD///3/+v/4//r//f/6//T/9P/3//n/+//+/wAAAAD+//7///8AAAAAAAAAAAAAAAADAAYABwAEAAEAAAAAAAAA//8AAAAAAAAAAAAAAAAAAAAAAAAAAAAAAgADAAMAAwADAAIAAwAEAAEAAAAAAAAA//8AAAAAAAD//////v/+////AAAAAAAAAAACAAIAAQAAAAEABAAEAAIAAwAEAAIAAQABAAEAAAD///3//P/9//r/+v/9/wAAAAAAAAAAAAACAAQAAwADAAMAAQABAAEAAAAAAAAAAAAAAAEAAAD+//v/+P/4//v//P/7//v//P/+/wAAAAACAAMAAQAAAAAAAAD//////v///wAA/////wEAAQAAAAAAAQAAAAAAAQAAAAAAAAD//wAAAAD+//3/AAAAAAAAAQADAAAAAAAAAP////8AAAAA/v/+/wAAAAD///3//P/8//n/+P/6//r/+f/5//z//v8AAAAAAAABAAMAAgADAAUABQADAAEAAAD///7//P/7//z//P/7//7/AAAAAAAAAAAAAAAAAAAAAAAAAgAEAAIAAQABAAEAAQAAAAAAAQAAAP7/+//6//n/+P/5//v//f8AAAEAAAACAAUABAAFAAcABQABAP///v/9///////8//v/+//8////AAAAAAAAAQAAAP//AQACAAAAAAABAAAAAAABAAUABQADAAIAAwAFAAMAAAAAAAIAAgABAAEAAQABAAEAAQACAAQABQAFAAQAAwACAAMAAgABAAEAAAD9//v/+//8//7//P/7//3/AAAAAAAAAAD///3///8AAAAAAAABAAEAAgACAAAAAAAAAP///v/9//7////8//j/+//9//n/+/8AAP///v/9//r/+/8AAP///P/9//7//P/+/wAAAAD///z/+P/4//j/9f/0//j/+f/3//r//f/8//v///8AAAAAAQAAAAAAAgAAAPr/+v/7//v//f/9//v//f8AAAAAAAAAAP3//P///wAAAAADAAUABAACAAMABQAFAAUABAABAAIABAADAAIAAgABAAAAAAAAAAEAAQAAAAAAAgAEAAYACAAHAAQABgAIAAYABQAFAAMAAAAAAAAAAAABAAQABAAFAAUAAgABAAIAAgAAAAAAAAAAAAIABQAFAAIAAQACAAQABAADAAIAAgABAAAA/f/+/wAAAAD+//v/+v/9/wAAAAD8//z///8AAAAAAQAAAAAAAAD/////AAAAAAAAAQAAAP///P/5//j/+f/7//v/+v/6//v//f/8//7/AAD///v/+//9//z/+f/4//j/+P/3//f/+f/8//3//P/9//7//v/+//7//v/+//7//P/5//j/+f/6//r//P///wAAAAAAAAAA//////3//P/+/wAA///7//z/AAAAAAAAAQABAAIABQAHAAUABQAHAAgABQAGAAkACQAGAAQABAAFAAQABAAGAAgABwAGAAUABQAHAAoACQAGAAUABQAEAAMAAgACAAEAAgAFAAUAAQAAAAEA/f/3//f/+P/4//r//P/7//7/AwADAAAAAAAAAP///v/+//7//f/+//7//f/8//3//f/9////AAD9//7/AAAAAAAAAQD///v//v8AAAEAAwAFAAQABAACAAAA/v/9//v//P/9//z///8AAP3/+//+/wAAAAAEAAQAAQADAAUABQAFAAQAAQABAAMAAgACAAMAAAAAAAAA/v/9/////f/7//z/+//8/wAAAgAAAAEABAAEAAQAAwABAAIAAgABAAEAAQAAAPz/+f/4//z//v/8//z///8AAAAAAAAAAAAA///+//7/AAAAAAAAAAAAAAAA///+//z/+//8//3//f/8//z//f8AAAAAAAAAAAAAAAABAAAA/v///wEA///+////+//4//r/+//7//z//P/6//z//v/8//z///8AAAAAAQAAAAAAAAAAAAAAAAABAAIAAQACAAQABAACAAMABAAEAAMABAAFAAYABwAIAAcABAAFAAUAAwACAAIAAwACAAEAAQACAAEAAAAAAAMABAADAAQABQAFAAMAAAAAAAIAAgABAAIAAwACAAIAAAD+//7//v/9//z//v8AAAAAAAAAAAAAAAD9//z////9//v//P/9//3//f/9//3//f/9//3///8AAAAAAAAAAAAAAAAAAAAAAAABAAEAAgACAAEAAQABAAAAAAAAAAAAAAAAAAEAAQAAAAAAAQACAAAAAAABAAEAAQAAAAAAAAAAAAAA/v8AAAEAAAD+/wAAAAD9//z//f/+//7//P/6//r//P/8//7/AAAAAAAAAAAAAAAAAAD9//3/AAAAAP3//f/9//3//f///wAAAAABAAEAAgACAAEAAAAAAAAA///7//z/AQACAAEAAQAAAAAAAQAAAP3//P/8//3/AAABAAEAAQAAAAAAAAACAAEAAQAEAAYABAABAAEAAgABAAAAAAAAAAIAAgAAAP//AQACAAAAAAABAAAAAAAAAP//AAABAP///P/9//3//P/9//3//f///wAAAAABAP///f///wEAAQABAAEAAgAGAAcABAAEAAcABQABAAEAAQABAAQABQACAAEAAgABAAAAAAAAAAIABAAEAAEAAAAAAAAA///+////AQACAAIAAQAAAAAAAQD///7//v/+//7//v/9//z//f/9//r/+v/+/wAAAAAAAAAA/v/9//3//P/7////AgABAAAAAAAAAP7//f/+/wAAAAD///3//f8AAAAA/f/8//z//f8AAAEAAAAAAAAAAAAAAAAA///+//3//v/+//v/+v/8//3//f/9////AAAAAP3//f///wAA/f/9/wAAAgAAAAAAAAAAAAAAAgABAAAAAAAAAP3//P///wAAAAAAAAAAAAAAAAAAAQABAAAAAAACAAIAAQABAAAA/v///wAAAQAEAAUAAgABAAEAAQAAAP///f/+//3//P/9////AAACAAQAAwAFAAcABAAAAAEAAQAAAAAAAAAAAAAAAQABAAMABAACAAEAAgADAAIAAAAAAAAAAAD/////AAAAAAAAAAAAAAAAAAABAP//+//7//v/+//7//r/+f/6//v/+f/7/wAAAQAAAAAAAAAAAAAAAAD///7//v8AAAAAAAAAAAAA///+//7//f/8//3//f/8////AAD9//r//f8AAAAAAAAAAAAAAAACAAEAAgACAAAAAAAAAAAAAAAAAAAAAAABAAEAAQACAAEAAAAAAAEAAgADAAEAAAAAAAEAAAD+//3//P///wAA///8//z//f///wAAAAAAAAAAAAABAAIAAQACAAQAAgABAAIAAgABAAIABQAFAAQAAgAAAP///v/+//3//P///wAA///8//z//f///wAAAAAAAP///f/8//3//f/8//3///8AAAAAAAADAAMAAgACAAIAAAAAAAAAAAAAAAEAAQABAAEAAgACAAIAAwACAAIAAQAAAP3/+//7//v/+f/6//3//v/8//3//f/8//3//f/8//3//v/7//z/AAAAAP7//f/8//3/AAD///7/AAAAAPz//f/+//z//P/+//7//P/8//z//P/+/wAAAAD//wAAAAABAAIAAwAEAAUABAABAAEAAgACAAEAAwAFAAUAAwACAAAAAAAAAAAAAAABAAEAAAAAAP///f/9/wAAAAAAAAAAAAABAAAAAAAAAAAAAAAAAAEAAAAAAAAAAwAEAAIAAQACAAIAAAAAAAEAAAD///7//v/+//7//P/+/wAAAAD7//3/AAAAAP3//P/8//7/AAAAAAAAAgACAAEAAwAEAAEAAQACAAEAAAAAAAAAAQAAAP7///8AAP////8AAAAA/v/9//v/+f/7//r/+f/7//n/9//4//v/+v/6//z//P/8//z//P/+/wAAAAD//wAAAAABAAIAAwAEAAUABAABAAMABQAEAAIABAAFAAIAAAAAAAAAAAAAAAEAAgACAAAAAAAAAAAA/v/9////AQAAAAAAAAAEAAUAAQAAAAEAAAD+//7//f/6//r//P/8//3///8AAAAAAAAAAAAAAAAAAP7//v8AAAAAAAACAAIAAQACAAEAAAAAAAAAAAAAAP7//v8AAAAAAAACAAQAAwACAAAA/v/+/wAAAAAAAAAA/////wAAAAAAAAAA///+//7//v/+//3/+v/6//3/AAAAAAAAAQABAAEAAQACAAIAAQACAAIAAQADAAUAAwAAAAAAAgACAAEAAAD///z/+//7//v/+//6//n/+/8AAAAA/v/8//3//f/9//3//f/9////AAAAAAAA/v/+/wAAAAAAAP///v///wAAAAAAAAEAAgABAAAAAAACAAMAAgAAAAAAAAD/////AAAAAAAAAAAAAAAAAAAAAAAAAAAAAAEAAgAAAAAAAAAAAAAAAQACAAEAAgACAAAAAAAAAAAAAAABAAAAAAAAAAAA/////wAAAAAAAAAAAAAAAAEAAAAAAAEAAgAAAAAAAAAAAP/////+//3//v/9//z//v8AAAAAAAAAAAAA///+//z//f///wAAAAAAAAAAAAAAAAEAAAAAAAEAAAAAAAAAAAAAAAIAAgABAAIAAgABAAIAAQAAAAAAAAAAAAEAAQABAAEAAgACAAAAAAABAAEAAAAAAAAAAAAAAAAAAAABAAEAAAAAAAIAAgABAAIAAQAAAAAAAgAAAAAAAAAAAP7//P/+/wAAAAAAAAAA/v/8/wAAAAD+//7//f/6//r//P/8//3//v/8//7/AQAAAPz/+v/7//v/+//6//r/+//5//n//f8AAAAAAAAAAAAAAAAAAAAA/f/9//z//f8AAAEAAQACAAIAAAAAAAEAAAAAAAIAAgABAAEAAQADAAUABAACAAIAAgAAAAAAAAAAAAAAAAAAAAAAAAAAAAAAAQABAAEAAQABAAEAAgABAP//AAACAAEAAAAAAAAAAAAAAP7//v8AAP///P/+/wAAAQACAAEAAAAAAAAAAAAAAAAAAAAAAAIAAQACAAIAAAAAAAAA///+//7//f/8//z//P/+/wEAAAAAAAEAAQAAAAAA///9//3//f/9//3/AAAAAAAAAAAAAP///f/9//3//f/9/wAAAAAAAAAAAQABAAAAAgACAAAAAAAAAAAAAAAAAAAAAAAAAAAAAAACAAEAAAAAAAAAAAAAAAAAAQACAAEAAgABAAAAAAADAAEAAAAAAAAA/v/+//7//f/+//7//P/9//3//f/8//z//P/+/wAAAAAAAAAAAQABAAAAAAAAAP///P/7//3//v/8//3///8AAAAAAAABAAAAAAAAAAAAAAAAAAAAAAAAAAAAAQABAAEAAQABAAIAAgABAAIAAQAAAAAAAAAAAAAAAAAAAAAAAQAAAAAAAAAAAAAAAAABAAIAAgABAAAAAAAAAP7//P/9//3//P/+/wAAAAABAAAAAAAAAAIAAgABAAMAAwABAAAAAAAAAAAAAAAAAAIAAgD///7/AQAAAP7//v8AAAAAAAAAAAAAAAAAAP3//f8AAP///f///wAAAAAAAAAAAAAAAAAAAAAAAAAAAAAAAAAAAAABAAEAAQABAAEAAgACAAEAAAAAAAAAAAAAAAAAAAABAAEAAAAAAAAA/f/9//3//f/9//7//f/9/wAAAQABAAIAAgAAAAAAAAAAAAAA///9////AAAAAAAAAgABAAAAAQADAAEAAQACAAMAAgABAAAAAAACAAEAAAABAAAA/v///wEA///8////AAD///3//v/+//z/+v/6//z/+//6//z//v/9//z//f///wAAAAAAAAAAAAAAAAAA/v/+////AAAAAAAAAAAAAAAAAAAAAAAAAgAEAAMAAgACAAEAAAAAAAAA///9//3///8AAAAAAAAAAAMABAAEAAUAAwAAAAAAAAD9//3///8AAAAAAAABAAEAAAABAAIAAQACAAIAAQAAAAAAAAAAAAAAAAAAAAAAAAAAAAAAAAD///7//v/+//3//P/8//z//P/+/wAAAAAAAAAAAgACAAAAAAAAAP///P/+/wAA/v///wAA///8//3//f/8//7//P/7////AQABAAEAAQAAAAEAAgABAAEAAgAAAAAAAAAAAAAAAAAAAAEAAgABAAAAAAAAAAAAAAAAAAAAAAAAAAAAAAAAAAAAAAAAAAAAAAAAAP///f/+//7//f/8//3//f/9////AAD+//7/AAAAAAAAAQACAAIAAAAAAAAAAAAAAAAAAAAAAAAAAQABAAEAAQABAAEAAQABAAEAAQACAAIAAQACAAMAAgACAAEAAAAAAP///f/9////AAAAAAAAAAAAAP3//f/9//3//f///wAAAAAAAAAAAAAAAAAAAAABAAEAAAAAAAAAAAAAAAAAAAAAAAAAAAABAAIAAAAAAAAAAAAAAAAAAAAAAAAA/v/9//7//v/9//7//v/9//7//v/8//3//f/8//3/AAAAAAAAAAD+//z//P/8//7/AAABAAAAAAABAAEAAQABAAIABQAEAAEAAgAEAAMAAQABAAEAAgABAAAAAAACAAIAAQACAAIAAQACAAIAAAAAAAAAAAAAAAAA///9//3/AAAAAP3//f8AAAAA/f/8//3//f/8//z//P/8//z///8AAAEAAQACAAEAAAAAAAAAAAAAAP///v/9//7//v/+//3//v/+//3//f/9//3//f/9//3//f8AAAAAAAD///7///8AAAAAAAAAAAAAAAAAAAAAAAAAAP///f/9////AAAAAAEAAQABAAEAAwAEAAQABAAFAAUABQADAAAAAAAAAAAAAAAAAAAAAAAAAP3//P///wAAAAAAAAAA///9////AAD///3///8AAAEAAAAAAAEAAQABAAMABAACAAEAAgADAAIAAQAAAAAAAQAAAAAAAAACAAMAAgABAAAAAAABAAEAAAD+//7//P/7//v/+v/7//v/+v/6//r/+v/6//z//P/9/wAAAAD9//z//v/9//z//P/9////AAABAAEAAQABAAEAAQABAAEAAQABAAEAAgACAAIAAgABAAAAAAABAAEAAAD+//7//v/9//z///8AAAAAAAAAAAAAAAAAAAAAAAAAAAAAAAAAAAAAAAAAAAAAAgAFAAQAAgACAAIAAAAAAAAAAAAAAAAAAAAAAAAAAAAAAAIAAgADAAIAAAAAAAEAAAD///7//P/9/wAAAAD9//z///8AAAAA/v/+/wAAAAD+//7/AAAAAAAAAAAAAAAAAAACAAQAAwABAAEAAwABAAAAAAABAAAAAAAAAAAAAAAAAAAAAAAAAAAAAAAAAAAAAAAAAAAAAAAAAAAAAAAAAAAAAAAAAAAAAAAAAP7//P/+/wAAAAD+//7/AAAAAAAAAAABAAEAAgADAAIAAQAAAAAAAAD+//7/AAAAAP7//v8AAAAAAAAAAAAAAAAAAP///f/+//7//f/8//7//P/7////AQAAAAAAAQAAAAAAAAAAAAAAAAAAAAAAAQACAAEAAAAAAAEAAQABAAEAAwAFAAUABAACAAAAAAAAAAAAAAAAAAAAAAABAAAAAAAAAAAAAAAAAAAAAAAAAP3//f8AAAAAAAAAAP7//v8AAAAAAAAAAAAAAAAAAAAAAAAAAAAAAAAAAAAA///9////AAAAAAAAAAD9//3//v/8//r/+//6//n//P/+//z//f8AAAAAAAAAAAAAAAAAAAAAAAAAAP3//P///wAAAAAAAAAAAAAAAAEAAQACAAIAAAAAAAIAAQAAAAAAAQABAAEAAgACAAEAAgACAAAAAAAAAP///f/9//3///8AAP///f///wAAAQABAAEAAQACAAIAAAAAAAAAAAABAAAAAAABAAEAAAAAAAIAAgABAAIAAgAAAAIAAgABAAIAAgAAAAAAAgACAAIAAgABAAAAAAAAAAAAAAD9//z///8AAAAAAAAAAAAAAAABAAIAAgAAAP///v/+//7//v/+//3//P/7//v/+v/5//v//v/9//z//f/9//z//v8AAAAAAAAAAAAAAAAAAAAAAAAAAAAAAAAAAAAA/v/+////AAAAAAAA///9//3//f/9//3//f/9//7/AAAAAAAAAAAAAAAAAAAAAAAA/v/+/wAAAAD+//7/AAAAAAAAAAAAAAAAAgACAAEAAgABAAAAAQADAAEAAAABAAEAAAACAAIAAQACAAIAAAAAAAAA/v///wAA///8//7/AAAAAAAAAAAAAAAAAAAAAAAAAAAAAAAAAAAAAAAAAAABAAEAAQAAAAEAAgACAAEAAgABAAAAAAAAAAAAAAAAAAAAAAAAAAAAAgACAAAAAAAAAAAA///+/wAAAQD///7/AAD+//3/AAD///v//f8AAAAAAAAAAAAAAAAAAAAAAAAAAAAA///+//z//f8AAAAA///+////AAAAAAAAAAAAAAAAAAAAAAAAAAD///3//f/9//3//f8AAAAAAAAAAAAAAAAAAAAAAAAAAAEAAQABAAIAAQAAAAEAAgADAAIAAQAAAAAAAAAAAAAAAAAAAAAAAAAAAAEAAQABAAEAAQACAAIAAAAAAAAAAAAAAAAAAAAAAAAAAAAAAAAAAAAAAAAA/v/+/wAAAAAAAAAAAAABAAAAAAAAAAEAAQABAAEAAQACAAIAAQACAAIAAAAAAAAAAAAAAAAAAAAAAP7//v8AAAAAAAAAAAAAAAAAAAAAAAD///7//v/+//3//P/9////AAD///3///8AAAAAAAAAAP3//f/+//3//f8AAAAA/P/9/wAAAAD9//z//P/+/wAAAAD///7//v/9//7//v/9//z//f/9//z//v8AAAAAAAAAAP///v///wAAAAAAAAAAAAAAAAAAAAAAAAAAAAAAAAAAAAAAAAAAAAAAAAAAAgACAAAAAAAAAAEAAAAAAAAAAAAAAAAAAAAAAAAAAQABAAEAAQABAAMABAABAAEAAwAFAAMAAAAAAAEAAQAAAAAAAAAAAAEAAQAAAAAAAQABAAAAAAAAAAAAAAAAAAAAAAAAAAAAAAAAAAAAAAAAAAAA/v/9/wAAAQAAAP7//f/+//7//f/8//7/AAAAAAAAAAAAAAAAAAAAAAAAAAAAAAAAAAAAAAAA///9//7//v/9//z//f/9//z//v8AAAAAAAAAAAAAAQAAAAAAAQACAAAAAAAAAAAAAAAAAAAAAAAAAAAAAAABAAAAAAAAAAAAAAAAAP7//v8AAAAAAAAAAAAAAAAAAAAAAAAAAAAAAAAAAAEAAAAAAAAAAAAAAAEAAAAAAAEAAQAAAAAAAAAAAAAAAAAAAAAAAAAAAAAAAAAAAAAAAAAAAP7//P/+/wAAAAAAAAAAAAAAAAAAAAAAAAAAAAAAAAAAAAAAAAAAAAAAAP///v///wAAAAAAAAAAAAAAAAEAAgABAAAAAAABAAEAAQACAAEAAAAAAAAAAAAAAAAAAAAAAAAAAAAAAAAAAAAAAAAAAAAAAAAAAAAAAAAAAAAAAAAAAAAAAAAAAAAAAAAAAAAAAAAAAAAAAAAAAAAAAAAAAAAAAAAAAAABAAEAAAAAAAAAAAAAAAAAAAAAAAAAAAAAAAAAAAAAAAAAAAAAAAAAAAAAAAAAAAAAAAAAAAAAAAAAAAD///7/AAAAAP7//P/9//3//P/9//3//P///wAA///+////AAAAAAAAAAAAAAAAAAAAAAAAAAAAAAAAAAAAAAAAAAAAAAAAAAAAAAAAAAAAAAAAAAAAAAAAAAAAAAAAAAAAAAAAAAD///7//v8AAAAAAAAAAP7//P/8//7/AAAAAAAAAAAAAAAAAAAAAAAAAAAAAAEAAQABAAEAAQABAAIAAgABAAIAAQAAAAEAAwABAAEAAgABAAAAAAAAAAAAAAAAAAAAAAAAAAAAAAAAAAAA/v/+/wAAAAAAAAAAAAAAAAAAAAAAAP7//v8AAAAAAAAAAAAAAAAAAAIAAgABAAIAAgAAAAAAAAAAAAAAAAAAAP///v/+//3//P/9//3//f/+/wAAAAAAAAAAAAAAAAAAAAAAAAAAAAAAAAAAAAAAAAAAAAAAAAAAAAAAAAAAAAAAAAAAAAAAAAAAAAAAAP///v/+/wAAAAAAAAAAAAAAAAAAAAAAAAAAAAAAAAAAAQAAAAAAAAABAAAAAAABAAIAAwACAAAAAAACAAIAAAAAAAAAAAAAAAAAAAAAAAAAAAAAAAEAAAAAAAAAAAAAAAAAAAAAAAAAAAAAAAAAAAD///7//v/9//7//v/9//z//f/9//3///8AAAAAAAAAAAAAAAABAAEAAQABAAEAAgABAAAAAAAAAAAAAAAAAAAAAAAAAAAA/f/8//7/AAAAAAAAAAAAAAAAAAAAAAAAAAD+//7/AAAAAAAAAAD+//z//v8AAAAAAAAAAAAAAAAAAAAAAAAAAAEAAQAAAAAAAAAAAAAAAAAAAAAAAAAAAAAAAAAAAAAAAAAAAAAAAAAAAAAAAAAAAAAAAAAAAAAAAAAAAAAAAAAAAAAAAAAAAAAAAAAAAAAAAAAAAAAAAAAAAAAAAAAAAAIAAgAAAAAAAAAAAAAAAAAAAAAAAAAAAAAAAAAAAAAAAAAAAAAAAAAAAAAAAAAAAAAAAAAAAAAAAAAAAAAAAAAAAAAAAAAAAAAAAAAAAAAAAAABAAAAAAAAAAEAAQACAAIAAAAAAAAAAAAAAAAA///9//7//v/9//7//v/9//z//v/9//z///8AAP///v/+//3//f///wAAAAAAAAAAAAAAAAAAAAAAAAAAAAAAAAAAAAAAAAAAAAAAAAAAAAAAAAEAAAAAAAEAAgABAAIAAgABAAIAAgABAAIAAQAAAAAAAAAAAAAAAAAAAAAAAAAAAAAAAAAAAAAAAAAAAAAAAAAAAAAAAAAAAAAAAAAAAP7//f/+//7//f/9//3//P/9/wAA///9////AAAAAAAAAAAAAAAAAAAAAAEAAQAAAAAAAgACAAEAAgACAAEAAgACAAEAAgADAAIAAgAAAAAAAAAAAAAAAAAAAP///f/9/wAAAAAAAAAAAAAAAAAAAAAAAAAAAAAAAAAAAAAAAAAAAAAAAAAAAAACAAEAAAAAAAMAAQAAAAAAAAAAAAAAAAAAAAAAAAAAAAAAAAAAAAAAAAAAAP/////9//z///8AAP///P/9//3//P/+/wAAAAAAAAAAAAAAAAEAAQAAAAEAAgACAAEAAgABAAAAAAAAAAAAAAAAAAAAAAAAAP7///8AAP///f/8//3///8AAAAAAAAAAAAAAAAAAAAAAAAAAAAAAAAAAAAAAAAAAAAAAAAAAAAAAAABAAEAAAAAAAIAAQAAAAAAAAAAAAAAAQAAAAAAAAAAAAAAAAAAAAEAAQAAAAAAAAAAAAAAAAAAAAAAAAAAAAAAAAAAAAAAAQABAAIAAQAAAAAAAAAAAAAAAAAAAAAAAAAAAAAAAAAAAAAAAAAAAAAAAAAAAAAAAAAAAP7//P/9//3//P/+/wAAAAAAAAAAAAAAAAAAAAAAAAAAAAAAAP7//P/+/wAAAAAAAAAAAAAAAAAAAAAAAAAAAAAAAAAAAAAAAAAAAAD+//7///8AAAAAAAAAAAAAAAAAAAAAAAAAAAAAAAAAAAAAAAAAAAAAAAAAAAAAAAAAAAAAAAAAAP///v/9//3///8AAAAAAAAAAAAAAAAAAAEAAQACAAIAAQAAAAEAAwACAAAAAQACAAEAAAABAAIAAgAAAAAAAAABAAEAAQACAAIAAQACAAIAAAAAAAAAAAAAAAAAAAAAAAAAAAD///3//v/+//3//P/9//3//f/+/wAAAAAAAAAAAAAAAAAAAAAAAAAAAAAAAAAAAAAAAP3//f/9//3//f///wAAAAAAAAAAAAAAAAAAAAAAAAAAAAAAAAAAAAAAAAAAAAAAAAAAAAAAAAAAAAAAAAAAAQACAAEAAAAAAAAAAAAAAAAAAAAAAAAAAAAAAAAAAAAAAAAAAAAAAAAAAAAAAAAAAAAAAAEA/////wAA/////wAA///9/wAAAAAAAAAAAAAAAAAAAAAAAAAAAAA=\" type=\"audio/wav\" />\n",
              "                    Your browser does not support the audio element.\n",
              "                </audio>\n",
              "              "
            ],
            "text/plain": [
              "<IPython.lib.display.Audio object>"
            ]
          },
          "execution_count": 99,
          "metadata": {},
          "output_type": "execute_result"
        }
      ],
      "source": [
        "idx = 4073\n",
        "ipd.Audio(df_pd['audio'][idx], rate=22050)"
      ]
    },
    {
      "cell_type": "code",
      "execution_count": 100,
      "id": "3ec62817",
      "metadata": {
        "id": "3ec62817",
        "outputId": "33e02ce0-9e73-45da-9115-ae9137195475",
        "colab": {
          "base_uri": "https://localhost:8080/",
          "height": 110
        }
      },
      "outputs": [
        {
          "metadata": {
            "tags": null
          },
          "name": "stdout",
          "output_type": "stream",
          "text": [
            "[[17920 51712]] (1, 2)\n",
            "1\n"
          ]
        },
        {
          "data": {
            "text/html": [
              "\n",
              "                <audio  controls=\"controls\" >\n",
              "                    <source src=\"data:audio/wav;base64,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\" type=\"audio/wav\" />\n",
              "                    Your browser does not support the audio element.\n",
              "                </audio>\n",
              "              "
            ],
            "text/plain": [
              "<IPython.lib.display.Audio object>"
            ]
          },
          "execution_count": 100,
          "metadata": {},
          "output_type": "execute_result"
        }
      ],
      "source": [
        "s = librosa.effects.split(df_pd['audio'][idx])[0]\n",
        "non_silence_parts = librosa.effects.split(df_pd['audio'][idx], top_db=40)\n",
        "print(non_silence_parts, non_silence_parts.shape)\n",
        "\n",
        "audio_reconstructed = []\n",
        "for part in non_silence_parts:\n",
        "    audio_reconstructed.append(df_pd['audio'][idx][part[0]:part[-1]])\n",
        "print(len(audio_reconstructed))\n",
        "#     return df_pd['audio'][3799][librosa.effects.split(df_pd['audio'][3799])[0][0]:librosa.effects.split(df_pd['audio'][3799])[0][-1]]\n",
        "\n",
        "new_audio_reconstructed = np.hstack(audio_reconstructed)\n",
        "#s1 = df_pd['audio'][idx][non_silence_parts[1][0]:non_silence_parts[1][-1]]\n",
        "# s2 = df_pd['audio'][3799][librosa.effects.split(df_pd['audio'][3799])[1][0]:librosa.effects.split(df_pd['audio'][3799])[1][-1]]\n",
        "\n",
        "ipd.Audio(new_audio_reconstructed, rate=22050)\n",
        "#ipd.Audio(s2, rate=22050)\n",
        "#ipd.Audio(df_pd['audio'][3799][librosa.effects.split(df_pd['audio'][3799][0]]), 22050)"
      ]
    },
    {
      "cell_type": "code",
      "execution_count": 101,
      "id": "010ae6ed",
      "metadata": {
        "id": "010ae6ed"
      },
      "outputs": [],
      "source": [
        "# def remove_silence (signal):\n",
        "#     return signal[librosa.effects.split(signal)[0][0]:librosa.effects.split(signal)[0][-1]]\n",
        "# signal_without_silence = remove_silence(df_pd['audio'][3799])\n",
        "\n",
        "# ipd.Audio(signal_without_silence, rate=22050)"
      ]
    }
  ],
  "metadata": {
    "kernelspec": {
      "display_name": "Python 3 (ipykernel)",
      "language": "python",
      "name": "python3"
    },
    "language_info": {
      "codemirror_mode": {
        "name": "ipython",
        "version": 3
      },
      "file_extension": ".py",
      "mimetype": "text/x-python",
      "name": "python",
      "nbconvert_exporter": "python",
      "pygments_lexer": "ipython3",
      "version": "3.9.7"
    },
    "colab": {
      "provenance": [],
      "include_colab_link": true
    },
    "accelerator": "GPU",
    "gpuClass": "standard"
  },
  "nbformat": 4,
  "nbformat_minor": 5
}