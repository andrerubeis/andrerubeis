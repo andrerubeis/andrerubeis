{
  "cells": [
    {
      "cell_type": "markdown",
      "metadata": {
        "id": "view-in-github",
        "colab_type": "text"
      },
      "source": [
        "<a href=\"https://colab.research.google.com/github/andrerubeis/andrerubeis/blob/main/new_sample_rate_8k.ipynb\" target=\"_parent\"><img src=\"https://colab.research.google.com/assets/colab-badge.svg\" alt=\"Open In Colab\"/></a>"
      ]
    },
    {
      "cell_type": "code",
      "source": [
        "!pip install noisereduce"
      ],
      "metadata": {
        "colab": {
          "base_uri": "https://localhost:8080/"
        },
        "id": "VHb1rA2MRcAA",
        "outputId": "646b204e-0e88-41d2-ed9a-99efd9df635a"
      },
      "id": "VHb1rA2MRcAA",
      "execution_count": 1,
      "outputs": [
        {
          "output_type": "stream",
          "name": "stdout",
          "text": [
            "Looking in indexes: https://pypi.org/simple, https://us-python.pkg.dev/colab-wheels/public/simple/\n",
            "Collecting noisereduce\n",
            "  Downloading noisereduce-2.0.1-py3-none-any.whl (15 kB)\n",
            "Requirement already satisfied: tqdm in /usr/local/lib/python3.8/dist-packages (from noisereduce) (4.64.1)\n",
            "Requirement already satisfied: scipy in /usr/local/lib/python3.8/dist-packages (from noisereduce) (1.7.3)\n",
            "Requirement already satisfied: matplotlib in /usr/local/lib/python3.8/dist-packages (from noisereduce) (3.2.2)\n",
            "Requirement already satisfied: numpy in /usr/local/lib/python3.8/dist-packages (from noisereduce) (1.21.6)\n",
            "Requirement already satisfied: librosa in /usr/local/lib/python3.8/dist-packages (from noisereduce) (0.8.1)\n",
            "Requirement already satisfied: joblib>=0.14 in /usr/local/lib/python3.8/dist-packages (from librosa->noisereduce) (1.2.0)\n",
            "Requirement already satisfied: scikit-learn!=0.19.0,>=0.14.0 in /usr/local/lib/python3.8/dist-packages (from librosa->noisereduce) (1.0.2)\n",
            "Requirement already satisfied: decorator>=3.0.0 in /usr/local/lib/python3.8/dist-packages (from librosa->noisereduce) (4.4.2)\n",
            "Requirement already satisfied: soundfile>=0.10.2 in /usr/local/lib/python3.8/dist-packages (from librosa->noisereduce) (0.11.0)\n",
            "Requirement already satisfied: packaging>=20.0 in /usr/local/lib/python3.8/dist-packages (from librosa->noisereduce) (21.3)\n",
            "Requirement already satisfied: numba>=0.43.0 in /usr/local/lib/python3.8/dist-packages (from librosa->noisereduce) (0.56.4)\n",
            "Requirement already satisfied: resampy>=0.2.2 in /usr/local/lib/python3.8/dist-packages (from librosa->noisereduce) (0.4.2)\n",
            "Requirement already satisfied: audioread>=2.0.0 in /usr/local/lib/python3.8/dist-packages (from librosa->noisereduce) (3.0.0)\n",
            "Requirement already satisfied: pooch>=1.0 in /usr/local/lib/python3.8/dist-packages (from librosa->noisereduce) (1.6.0)\n",
            "Requirement already satisfied: cycler>=0.10 in /usr/local/lib/python3.8/dist-packages (from matplotlib->noisereduce) (0.11.0)\n",
            "Requirement already satisfied: kiwisolver>=1.0.1 in /usr/local/lib/python3.8/dist-packages (from matplotlib->noisereduce) (1.4.4)\n",
            "Requirement already satisfied: python-dateutil>=2.1 in /usr/local/lib/python3.8/dist-packages (from matplotlib->noisereduce) (2.8.2)\n",
            "Requirement already satisfied: pyparsing!=2.0.4,!=2.1.2,!=2.1.6,>=2.0.1 in /usr/local/lib/python3.8/dist-packages (from matplotlib->noisereduce) (3.0.9)\n",
            "Requirement already satisfied: setuptools in /usr/local/lib/python3.8/dist-packages (from numba>=0.43.0->librosa->noisereduce) (57.4.0)\n",
            "Requirement already satisfied: importlib-metadata in /usr/local/lib/python3.8/dist-packages (from numba>=0.43.0->librosa->noisereduce) (6.0.0)\n",
            "Requirement already satisfied: llvmlite<0.40,>=0.39.0dev0 in /usr/local/lib/python3.8/dist-packages (from numba>=0.43.0->librosa->noisereduce) (0.39.1)\n",
            "Requirement already satisfied: appdirs>=1.3.0 in /usr/local/lib/python3.8/dist-packages (from pooch>=1.0->librosa->noisereduce) (1.4.4)\n",
            "Requirement already satisfied: requests>=2.19.0 in /usr/local/lib/python3.8/dist-packages (from pooch>=1.0->librosa->noisereduce) (2.25.1)\n",
            "Requirement already satisfied: six>=1.5 in /usr/local/lib/python3.8/dist-packages (from python-dateutil>=2.1->matplotlib->noisereduce) (1.15.0)\n",
            "Requirement already satisfied: threadpoolctl>=2.0.0 in /usr/local/lib/python3.8/dist-packages (from scikit-learn!=0.19.0,>=0.14.0->librosa->noisereduce) (3.1.0)\n",
            "Requirement already satisfied: cffi>=1.0 in /usr/local/lib/python3.8/dist-packages (from soundfile>=0.10.2->librosa->noisereduce) (1.15.1)\n",
            "Requirement already satisfied: pycparser in /usr/local/lib/python3.8/dist-packages (from cffi>=1.0->soundfile>=0.10.2->librosa->noisereduce) (2.21)\n",
            "Requirement already satisfied: urllib3<1.27,>=1.21.1 in /usr/local/lib/python3.8/dist-packages (from requests>=2.19.0->pooch>=1.0->librosa->noisereduce) (1.24.3)\n",
            "Requirement already satisfied: certifi>=2017.4.17 in /usr/local/lib/python3.8/dist-packages (from requests>=2.19.0->pooch>=1.0->librosa->noisereduce) (2022.12.7)\n",
            "Requirement already satisfied: idna<3,>=2.5 in /usr/local/lib/python3.8/dist-packages (from requests>=2.19.0->pooch>=1.0->librosa->noisereduce) (2.10)\n",
            "Requirement already satisfied: chardet<5,>=3.0.2 in /usr/local/lib/python3.8/dist-packages (from requests>=2.19.0->pooch>=1.0->librosa->noisereduce) (4.0.0)\n",
            "Requirement already satisfied: zipp>=0.5 in /usr/local/lib/python3.8/dist-packages (from importlib-metadata->numba>=0.43.0->librosa->noisereduce) (3.11.0)\n",
            "Installing collected packages: noisereduce\n",
            "Successfully installed noisereduce-2.0.1\n"
          ]
        }
      ]
    },
    {
      "cell_type": "code",
      "source": [
        "from google.colab import drive\n",
        "drive.mount('/content/drive')"
      ],
      "metadata": {
        "colab": {
          "base_uri": "https://localhost:8080/"
        },
        "id": "h1OngFI-Ptfv",
        "outputId": "fbd54a6c-4e21-4422-8743-16488fbf7484"
      },
      "id": "h1OngFI-Ptfv",
      "execution_count": 2,
      "outputs": [
        {
          "output_type": "stream",
          "name": "stdout",
          "text": [
            "Mounted at /content/drive\n"
          ]
        }
      ]
    },
    {
      "cell_type": "code",
      "execution_count": 3,
      "id": "9f5653aa",
      "metadata": {
        "id": "9f5653aa"
      },
      "outputs": [],
      "source": [
        "import pandas as pd\n",
        "import numpy as np\n",
        "import os\n",
        "import librosa\n",
        "import librosa.display\n",
        "import IPython.display as ipd\n",
        "import matplotlib.pyplot as plt\n",
        "import pickle\n",
        "import noisereduce as nr\n",
        "import tqdm"
      ]
    },
    {
      "cell_type": "code",
      "source": [
        "import torch\n",
        "colab = True\n",
        "\n",
        "if colab == True:\n",
        "  device = 'cuda' if torch.cuda.is_available() else 'cpu'"
      ],
      "metadata": {
        "id": "a7jJB5VeQUju"
      },
      "id": "a7jJB5VeQUju",
      "execution_count": 4,
      "outputs": []
    },
    {
      "cell_type": "code",
      "source": [
        "!nvidia-smi"
      ],
      "metadata": {
        "colab": {
          "base_uri": "https://localhost:8080/"
        },
        "id": "9M1UM32UVXoW",
        "outputId": "59e39f63-4a21-4bfe-daa8-fdde44cab313"
      },
      "id": "9M1UM32UVXoW",
      "execution_count": 5,
      "outputs": [
        {
          "output_type": "stream",
          "name": "stdout",
          "text": [
            "NVIDIA-SMI has failed because it couldn't communicate with the NVIDIA driver. Make sure that the latest NVIDIA driver is installed and running.\n",
            "\n"
          ]
        }
      ]
    },
    {
      "cell_type": "markdown",
      "id": "772ef5b5",
      "metadata": {
        "id": "772ef5b5"
      },
      "source": [
        "\n",
        "## 1. Loading Dataset"
      ]
    },
    {
      "cell_type": "code",
      "execution_count": 6,
      "id": "e2f93350",
      "metadata": {
        "colab": {
          "base_uri": "https://localhost:8080/",
          "height": 886
        },
        "id": "e2f93350",
        "outputId": "5cfd6a92-8ab0-4e16-eb93-eb47d3ac7c5e"
      },
      "outputs": [
        {
          "output_type": "execute_result",
          "data": {
            "text/plain": [
              "        Id                                               path  \\\n",
              "0        0  dsl_data/audio/speakers/2BqVo8kVB2Skwgyb/0a312...   \n",
              "1        1  dsl_data/audio/speakers/2BqVo8kVB2Skwgyb/0ee42...   \n",
              "2        2  dsl_data/audio/speakers/2BqVo8kVB2Skwgyb/1d9f3...   \n",
              "3        3  dsl_data/audio/speakers/2BqVo8kVB2Skwgyb/269fc...   \n",
              "4        4  dsl_data/audio/speakers/2BqVo8kVB2Skwgyb/5bbda...   \n",
              "...    ...                                                ...   \n",
              "9849  9849  dsl_data/audio/speakers/vnljypgejkINbBAY/4fb3d...   \n",
              "9850  9850  dsl_data/audio/speakers/vnljypgejkINbBAY/59e6a...   \n",
              "9851  9851  dsl_data/audio/speakers/vnljypgejkINbBAY/5c81c...   \n",
              "9852  9852  dsl_data/audio/speakers/vnljypgejkINbBAY/5ef42...   \n",
              "9853  9853  dsl_data/audio/speakers/vnljypgejkINbBAY/61b7a...   \n",
              "\n",
              "             speakerId           action  object Self-reported fluency level   \\\n",
              "0     2BqVo8kVB2Skwgyb  change language    none                     advanced   \n",
              "1     2BqVo8kVB2Skwgyb         activate   music                     advanced   \n",
              "2     2BqVo8kVB2Skwgyb       deactivate  lights                     advanced   \n",
              "3     2BqVo8kVB2Skwgyb         increase  volume                     advanced   \n",
              "4     2BqVo8kVB2Skwgyb         increase  volume                     advanced   \n",
              "...                ...              ...     ...                          ...   \n",
              "9849  vnljypgejkINbBAY         decrease  volume                       native   \n",
              "9850  vnljypgejkINbBAY       deactivate  lights                       native   \n",
              "9851  vnljypgejkINbBAY       deactivate  lights                       native   \n",
              "9852  vnljypgejkINbBAY       deactivate  lights                       native   \n",
              "9853  vnljypgejkINbBAY         increase  volume                       native   \n",
              "\n",
              "        First Language spoken Current language used for work/school  gender  \\\n",
              "0     English (United States)               English (United States)  female   \n",
              "1     English (United States)               English (United States)  female   \n",
              "2     English (United States)               English (United States)  female   \n",
              "3     English (United States)               English (United States)  female   \n",
              "4     English (United States)               English (United States)  female   \n",
              "...                       ...                                   ...     ...   \n",
              "9849  English (United States)               English (United States)    male   \n",
              "9850  English (United States)               English (United States)    male   \n",
              "9851  English (United States)               English (United States)    male   \n",
              "9852  English (United States)               English (United States)    male   \n",
              "9853  English (United States)               English (United States)    male   \n",
              "\n",
              "     ageRange  \n",
              "0       22-40  \n",
              "1       22-40  \n",
              "2       22-40  \n",
              "3       22-40  \n",
              "4       22-40  \n",
              "...       ...  \n",
              "9849    22-40  \n",
              "9850    22-40  \n",
              "9851    22-40  \n",
              "9852    22-40  \n",
              "9853    22-40  \n",
              "\n",
              "[9854 rows x 10 columns]"
            ],
            "text/html": [
              "\n",
              "  <div id=\"df-5d999edc-2e19-4cab-a8ab-6a1b66bb38c7\">\n",
              "    <div class=\"colab-df-container\">\n",
              "      <div>\n",
              "<style scoped>\n",
              "    .dataframe tbody tr th:only-of-type {\n",
              "        vertical-align: middle;\n",
              "    }\n",
              "\n",
              "    .dataframe tbody tr th {\n",
              "        vertical-align: top;\n",
              "    }\n",
              "\n",
              "    .dataframe thead th {\n",
              "        text-align: right;\n",
              "    }\n",
              "</style>\n",
              "<table border=\"1\" class=\"dataframe\">\n",
              "  <thead>\n",
              "    <tr style=\"text-align: right;\">\n",
              "      <th></th>\n",
              "      <th>Id</th>\n",
              "      <th>path</th>\n",
              "      <th>speakerId</th>\n",
              "      <th>action</th>\n",
              "      <th>object</th>\n",
              "      <th>Self-reported fluency level</th>\n",
              "      <th>First Language spoken</th>\n",
              "      <th>Current language used for work/school</th>\n",
              "      <th>gender</th>\n",
              "      <th>ageRange</th>\n",
              "    </tr>\n",
              "  </thead>\n",
              "  <tbody>\n",
              "    <tr>\n",
              "      <th>0</th>\n",
              "      <td>0</td>\n",
              "      <td>dsl_data/audio/speakers/2BqVo8kVB2Skwgyb/0a312...</td>\n",
              "      <td>2BqVo8kVB2Skwgyb</td>\n",
              "      <td>change language</td>\n",
              "      <td>none</td>\n",
              "      <td>advanced</td>\n",
              "      <td>English (United States)</td>\n",
              "      <td>English (United States)</td>\n",
              "      <td>female</td>\n",
              "      <td>22-40</td>\n",
              "    </tr>\n",
              "    <tr>\n",
              "      <th>1</th>\n",
              "      <td>1</td>\n",
              "      <td>dsl_data/audio/speakers/2BqVo8kVB2Skwgyb/0ee42...</td>\n",
              "      <td>2BqVo8kVB2Skwgyb</td>\n",
              "      <td>activate</td>\n",
              "      <td>music</td>\n",
              "      <td>advanced</td>\n",
              "      <td>English (United States)</td>\n",
              "      <td>English (United States)</td>\n",
              "      <td>female</td>\n",
              "      <td>22-40</td>\n",
              "    </tr>\n",
              "    <tr>\n",
              "      <th>2</th>\n",
              "      <td>2</td>\n",
              "      <td>dsl_data/audio/speakers/2BqVo8kVB2Skwgyb/1d9f3...</td>\n",
              "      <td>2BqVo8kVB2Skwgyb</td>\n",
              "      <td>deactivate</td>\n",
              "      <td>lights</td>\n",
              "      <td>advanced</td>\n",
              "      <td>English (United States)</td>\n",
              "      <td>English (United States)</td>\n",
              "      <td>female</td>\n",
              "      <td>22-40</td>\n",
              "    </tr>\n",
              "    <tr>\n",
              "      <th>3</th>\n",
              "      <td>3</td>\n",
              "      <td>dsl_data/audio/speakers/2BqVo8kVB2Skwgyb/269fc...</td>\n",
              "      <td>2BqVo8kVB2Skwgyb</td>\n",
              "      <td>increase</td>\n",
              "      <td>volume</td>\n",
              "      <td>advanced</td>\n",
              "      <td>English (United States)</td>\n",
              "      <td>English (United States)</td>\n",
              "      <td>female</td>\n",
              "      <td>22-40</td>\n",
              "    </tr>\n",
              "    <tr>\n",
              "      <th>4</th>\n",
              "      <td>4</td>\n",
              "      <td>dsl_data/audio/speakers/2BqVo8kVB2Skwgyb/5bbda...</td>\n",
              "      <td>2BqVo8kVB2Skwgyb</td>\n",
              "      <td>increase</td>\n",
              "      <td>volume</td>\n",
              "      <td>advanced</td>\n",
              "      <td>English (United States)</td>\n",
              "      <td>English (United States)</td>\n",
              "      <td>female</td>\n",
              "      <td>22-40</td>\n",
              "    </tr>\n",
              "    <tr>\n",
              "      <th>...</th>\n",
              "      <td>...</td>\n",
              "      <td>...</td>\n",
              "      <td>...</td>\n",
              "      <td>...</td>\n",
              "      <td>...</td>\n",
              "      <td>...</td>\n",
              "      <td>...</td>\n",
              "      <td>...</td>\n",
              "      <td>...</td>\n",
              "      <td>...</td>\n",
              "    </tr>\n",
              "    <tr>\n",
              "      <th>9849</th>\n",
              "      <td>9849</td>\n",
              "      <td>dsl_data/audio/speakers/vnljypgejkINbBAY/4fb3d...</td>\n",
              "      <td>vnljypgejkINbBAY</td>\n",
              "      <td>decrease</td>\n",
              "      <td>volume</td>\n",
              "      <td>native</td>\n",
              "      <td>English (United States)</td>\n",
              "      <td>English (United States)</td>\n",
              "      <td>male</td>\n",
              "      <td>22-40</td>\n",
              "    </tr>\n",
              "    <tr>\n",
              "      <th>9850</th>\n",
              "      <td>9850</td>\n",
              "      <td>dsl_data/audio/speakers/vnljypgejkINbBAY/59e6a...</td>\n",
              "      <td>vnljypgejkINbBAY</td>\n",
              "      <td>deactivate</td>\n",
              "      <td>lights</td>\n",
              "      <td>native</td>\n",
              "      <td>English (United States)</td>\n",
              "      <td>English (United States)</td>\n",
              "      <td>male</td>\n",
              "      <td>22-40</td>\n",
              "    </tr>\n",
              "    <tr>\n",
              "      <th>9851</th>\n",
              "      <td>9851</td>\n",
              "      <td>dsl_data/audio/speakers/vnljypgejkINbBAY/5c81c...</td>\n",
              "      <td>vnljypgejkINbBAY</td>\n",
              "      <td>deactivate</td>\n",
              "      <td>lights</td>\n",
              "      <td>native</td>\n",
              "      <td>English (United States)</td>\n",
              "      <td>English (United States)</td>\n",
              "      <td>male</td>\n",
              "      <td>22-40</td>\n",
              "    </tr>\n",
              "    <tr>\n",
              "      <th>9852</th>\n",
              "      <td>9852</td>\n",
              "      <td>dsl_data/audio/speakers/vnljypgejkINbBAY/5ef42...</td>\n",
              "      <td>vnljypgejkINbBAY</td>\n",
              "      <td>deactivate</td>\n",
              "      <td>lights</td>\n",
              "      <td>native</td>\n",
              "      <td>English (United States)</td>\n",
              "      <td>English (United States)</td>\n",
              "      <td>male</td>\n",
              "      <td>22-40</td>\n",
              "    </tr>\n",
              "    <tr>\n",
              "      <th>9853</th>\n",
              "      <td>9853</td>\n",
              "      <td>dsl_data/audio/speakers/vnljypgejkINbBAY/61b7a...</td>\n",
              "      <td>vnljypgejkINbBAY</td>\n",
              "      <td>increase</td>\n",
              "      <td>volume</td>\n",
              "      <td>native</td>\n",
              "      <td>English (United States)</td>\n",
              "      <td>English (United States)</td>\n",
              "      <td>male</td>\n",
              "      <td>22-40</td>\n",
              "    </tr>\n",
              "  </tbody>\n",
              "</table>\n",
              "<p>9854 rows × 10 columns</p>\n",
              "</div>\n",
              "      <button class=\"colab-df-convert\" onclick=\"convertToInteractive('df-5d999edc-2e19-4cab-a8ab-6a1b66bb38c7')\"\n",
              "              title=\"Convert this dataframe to an interactive table.\"\n",
              "              style=\"display:none;\">\n",
              "        \n",
              "  <svg xmlns=\"http://www.w3.org/2000/svg\" height=\"24px\"viewBox=\"0 0 24 24\"\n",
              "       width=\"24px\">\n",
              "    <path d=\"M0 0h24v24H0V0z\" fill=\"none\"/>\n",
              "    <path d=\"M18.56 5.44l.94 2.06.94-2.06 2.06-.94-2.06-.94-.94-2.06-.94 2.06-2.06.94zm-11 1L8.5 8.5l.94-2.06 2.06-.94-2.06-.94L8.5 2.5l-.94 2.06-2.06.94zm10 10l.94 2.06.94-2.06 2.06-.94-2.06-.94-.94-2.06-.94 2.06-2.06.94z\"/><path d=\"M17.41 7.96l-1.37-1.37c-.4-.4-.92-.59-1.43-.59-.52 0-1.04.2-1.43.59L10.3 9.45l-7.72 7.72c-.78.78-.78 2.05 0 2.83L4 21.41c.39.39.9.59 1.41.59.51 0 1.02-.2 1.41-.59l7.78-7.78 2.81-2.81c.8-.78.8-2.07 0-2.86zM5.41 20L4 18.59l7.72-7.72 1.47 1.35L5.41 20z\"/>\n",
              "  </svg>\n",
              "      </button>\n",
              "      \n",
              "  <style>\n",
              "    .colab-df-container {\n",
              "      display:flex;\n",
              "      flex-wrap:wrap;\n",
              "      gap: 12px;\n",
              "    }\n",
              "\n",
              "    .colab-df-convert {\n",
              "      background-color: #E8F0FE;\n",
              "      border: none;\n",
              "      border-radius: 50%;\n",
              "      cursor: pointer;\n",
              "      display: none;\n",
              "      fill: #1967D2;\n",
              "      height: 32px;\n",
              "      padding: 0 0 0 0;\n",
              "      width: 32px;\n",
              "    }\n",
              "\n",
              "    .colab-df-convert:hover {\n",
              "      background-color: #E2EBFA;\n",
              "      box-shadow: 0px 1px 2px rgba(60, 64, 67, 0.3), 0px 1px 3px 1px rgba(60, 64, 67, 0.15);\n",
              "      fill: #174EA6;\n",
              "    }\n",
              "\n",
              "    [theme=dark] .colab-df-convert {\n",
              "      background-color: #3B4455;\n",
              "      fill: #D2E3FC;\n",
              "    }\n",
              "\n",
              "    [theme=dark] .colab-df-convert:hover {\n",
              "      background-color: #434B5C;\n",
              "      box-shadow: 0px 1px 3px 1px rgba(0, 0, 0, 0.15);\n",
              "      filter: drop-shadow(0px 1px 2px rgba(0, 0, 0, 0.3));\n",
              "      fill: #FFFFFF;\n",
              "    }\n",
              "  </style>\n",
              "\n",
              "      <script>\n",
              "        const buttonEl =\n",
              "          document.querySelector('#df-5d999edc-2e19-4cab-a8ab-6a1b66bb38c7 button.colab-df-convert');\n",
              "        buttonEl.style.display =\n",
              "          google.colab.kernel.accessAllowed ? 'block' : 'none';\n",
              "\n",
              "        async function convertToInteractive(key) {\n",
              "          const element = document.querySelector('#df-5d999edc-2e19-4cab-a8ab-6a1b66bb38c7');\n",
              "          const dataTable =\n",
              "            await google.colab.kernel.invokeFunction('convertToInteractive',\n",
              "                                                     [key], {});\n",
              "          if (!dataTable) return;\n",
              "\n",
              "          const docLinkHtml = 'Like what you see? Visit the ' +\n",
              "            '<a target=\"_blank\" href=https://colab.research.google.com/notebooks/data_table.ipynb>data table notebook</a>'\n",
              "            + ' to learn more about interactive tables.';\n",
              "          element.innerHTML = '';\n",
              "          dataTable['output_type'] = 'display_data';\n",
              "          await google.colab.output.renderOutput(dataTable, element);\n",
              "          const docLink = document.createElement('div');\n",
              "          docLink.innerHTML = docLinkHtml;\n",
              "          element.appendChild(docLink);\n",
              "        }\n",
              "      </script>\n",
              "    </div>\n",
              "  </div>\n",
              "  "
            ]
          },
          "metadata": {},
          "execution_count": 6
        }
      ],
      "source": [
        "colab = True\n",
        "\n",
        "if colab == True:\n",
        "  path= r'/content/development.csv'\n",
        "else:\n",
        "  path = r'C:/Users/andre/OneDrive/Documenti/GitHub/winter_exam_22_23/development.csv'\n",
        "\n",
        "df_development = pd.read_csv(path)\n",
        "df_development"
      ]
    },
    {
      "cell_type": "code",
      "execution_count": 7,
      "id": "140e6e8a",
      "metadata": {
        "colab": {
          "base_uri": "https://localhost:8080/"
        },
        "id": "140e6e8a",
        "outputId": "84ecf1dc-b126-4acd-d0c1-797e46870279"
      },
      "outputs": [
        {
          "output_type": "execute_result",
          "data": {
            "text/plain": [
              "(increase           3823\n",
              " decrease           3575\n",
              " change language    1113\n",
              " activate            791\n",
              " deactivate          552\n",
              " Name: action, dtype: int64, volume    5000\n",
              " heat      2398\n",
              " none      1113\n",
              " music      791\n",
              " lights     552\n",
              " Name: object, dtype: int64)"
            ]
          },
          "metadata": {},
          "execution_count": 7
        }
      ],
      "source": [
        "#Evlauate balancement of dataset\n",
        "df_development.action.value_counts(), df_development.object.value_counts()"
      ]
    },
    {
      "cell_type": "markdown",
      "id": "53b56d05",
      "metadata": {
        "id": "53b56d05"
      },
      "source": [
        "### Evaluate all the existing combinations in the dataset"
      ]
    },
    {
      "cell_type": "code",
      "execution_count": 8,
      "id": "993246fe",
      "metadata": {
        "scrolled": true,
        "colab": {
          "base_uri": "https://localhost:8080/"
        },
        "id": "993246fe",
        "outputId": "75c9cbb0-ad58-43eb-9dae-2848acc42ad3"
      },
      "outputs": [
        {
          "output_type": "execute_result",
          "data": {
            "text/plain": [
              "volume    2614\n",
              "heat      1209\n",
              "Name: object, dtype: int64"
            ]
          },
          "metadata": {},
          "execution_count": 8
        }
      ],
      "source": [
        "#Evaluate all the existing combinations in the dataset\n",
        "df_increase = df_development[df_development['action']=='increase']\n",
        "df_increase.object.value_counts()"
      ]
    },
    {
      "cell_type": "code",
      "execution_count": 9,
      "id": "24844531",
      "metadata": {
        "colab": {
          "base_uri": "https://localhost:8080/"
        },
        "id": "24844531",
        "outputId": "772ced3f-3139-4d62-c273-51d370c1ce95"
      },
      "outputs": [
        {
          "output_type": "execute_result",
          "data": {
            "text/plain": [
              "volume    2386\n",
              "heat      1189\n",
              "Name: object, dtype: int64"
            ]
          },
          "metadata": {},
          "execution_count": 9
        }
      ],
      "source": [
        "#Evaluate all the existing combinations in the dataset\n",
        "df_decrease = df_development[df_development['action']=='decrease']\n",
        "df_decrease.object.value_counts()"
      ]
    },
    {
      "cell_type": "code",
      "execution_count": 10,
      "id": "7beb2908",
      "metadata": {
        "colab": {
          "base_uri": "https://localhost:8080/"
        },
        "id": "7beb2908",
        "outputId": "dd35f75d-3821-4460-9cc1-0082b003770b"
      },
      "outputs": [
        {
          "output_type": "execute_result",
          "data": {
            "text/plain": [
              "none    1113\n",
              "Name: object, dtype: int64"
            ]
          },
          "metadata": {},
          "execution_count": 10
        }
      ],
      "source": [
        "#Evaluate all the existing combinations in the dataset\n",
        "df_change_language = df_development[df_development['action']=='change language']\n",
        "df_change_language.object.value_counts()"
      ]
    },
    {
      "cell_type": "code",
      "execution_count": 11,
      "id": "8cc46411",
      "metadata": {
        "colab": {
          "base_uri": "https://localhost:8080/"
        },
        "id": "8cc46411",
        "outputId": "037897ae-412b-4af8-aa0f-e8440e3d0c15"
      },
      "outputs": [
        {
          "output_type": "execute_result",
          "data": {
            "text/plain": [
              "music    791\n",
              "Name: object, dtype: int64"
            ]
          },
          "metadata": {},
          "execution_count": 11
        }
      ],
      "source": [
        "#Evaluate all the existing combinations in the dataset\n",
        "df_activate = df_development[df_development['action']=='activate']\n",
        "df_activate.object.value_counts()"
      ]
    },
    {
      "cell_type": "code",
      "execution_count": 12,
      "id": "13c551f7",
      "metadata": {
        "colab": {
          "base_uri": "https://localhost:8080/"
        },
        "id": "13c551f7",
        "outputId": "7f0b6fa1-0a1c-410e-bd4a-24bcc3bd71fe"
      },
      "outputs": [
        {
          "output_type": "execute_result",
          "data": {
            "text/plain": [
              "lights    552\n",
              "Name: object, dtype: int64"
            ]
          },
          "metadata": {},
          "execution_count": 12
        }
      ],
      "source": [
        "#Evaluate all the existing combinations in the dataset\n",
        "df_deactivate = df_development[df_development['action']=='deactivate']\n",
        "df_deactivate.object.value_counts()"
      ]
    },
    {
      "cell_type": "markdown",
      "id": "31ce189b",
      "metadata": {
        "id": "31ce189b"
      },
      "source": [
        "Combinations of actions expressed by humans in the dataset found are the following:\n",
        "1. increase volume\n",
        "2. increase heat\n",
        "3. decrease volume\n",
        "4. decrease heat\n",
        "5. change language\n",
        "6. activate music\n",
        "7. deactivate lights\n",
        "\n",
        "According to this, starting from this dataset a new one can be generated containing the audio file with the corresponding label aside referring to the desired action."
      ]
    },
    {
      "cell_type": "markdown",
      "id": "ca1bc2a3",
      "metadata": {
        "id": "ca1bc2a3"
      },
      "source": [
        "### Creating new training dataset\n",
        "Add a column called labels where in correspondance of each combination has the respective label (ex. if the row has action=increase and object=heat has label 1)"
      ]
    },
    {
      "cell_type": "code",
      "execution_count": 13,
      "id": "6c75037c",
      "metadata": {
        "colab": {
          "base_uri": "https://localhost:8080/",
          "height": 886
        },
        "id": "6c75037c",
        "outputId": "9dcdcb14-e9a8-4be7-e6ca-9430c454dd0b"
      },
      "outputs": [
        {
          "output_type": "execute_result",
          "data": {
            "text/plain": [
              "        Id                                               path  \\\n",
              "0        0  dsl_data/audio/speakers/2BqVo8kVB2Skwgyb/0a312...   \n",
              "1        1  dsl_data/audio/speakers/2BqVo8kVB2Skwgyb/0ee42...   \n",
              "2        2  dsl_data/audio/speakers/2BqVo8kVB2Skwgyb/1d9f3...   \n",
              "3        3  dsl_data/audio/speakers/2BqVo8kVB2Skwgyb/269fc...   \n",
              "4        4  dsl_data/audio/speakers/2BqVo8kVB2Skwgyb/5bbda...   \n",
              "...    ...                                                ...   \n",
              "9849  9849  dsl_data/audio/speakers/vnljypgejkINbBAY/4fb3d...   \n",
              "9850  9850  dsl_data/audio/speakers/vnljypgejkINbBAY/59e6a...   \n",
              "9851  9851  dsl_data/audio/speakers/vnljypgejkINbBAY/5c81c...   \n",
              "9852  9852  dsl_data/audio/speakers/vnljypgejkINbBAY/5ef42...   \n",
              "9853  9853  dsl_data/audio/speakers/vnljypgejkINbBAY/61b7a...   \n",
              "\n",
              "             speakerId           action  object Self-reported fluency level   \\\n",
              "0     2BqVo8kVB2Skwgyb  change language    none                     advanced   \n",
              "1     2BqVo8kVB2Skwgyb         activate   music                     advanced   \n",
              "2     2BqVo8kVB2Skwgyb       deactivate  lights                     advanced   \n",
              "3     2BqVo8kVB2Skwgyb         increase  volume                     advanced   \n",
              "4     2BqVo8kVB2Skwgyb         increase  volume                     advanced   \n",
              "...                ...              ...     ...                          ...   \n",
              "9849  vnljypgejkINbBAY         decrease  volume                       native   \n",
              "9850  vnljypgejkINbBAY       deactivate  lights                       native   \n",
              "9851  vnljypgejkINbBAY       deactivate  lights                       native   \n",
              "9852  vnljypgejkINbBAY       deactivate  lights                       native   \n",
              "9853  vnljypgejkINbBAY         increase  volume                       native   \n",
              "\n",
              "        First Language spoken Current language used for work/school  gender  \\\n",
              "0     English (United States)               English (United States)  female   \n",
              "1     English (United States)               English (United States)  female   \n",
              "2     English (United States)               English (United States)  female   \n",
              "3     English (United States)               English (United States)  female   \n",
              "4     English (United States)               English (United States)  female   \n",
              "...                       ...                                   ...     ...   \n",
              "9849  English (United States)               English (United States)    male   \n",
              "9850  English (United States)               English (United States)    male   \n",
              "9851  English (United States)               English (United States)    male   \n",
              "9852  English (United States)               English (United States)    male   \n",
              "9853  English (United States)               English (United States)    male   \n",
              "\n",
              "     ageRange  labels  \n",
              "0       22-40       5  \n",
              "1       22-40       6  \n",
              "2       22-40       7  \n",
              "3       22-40       1  \n",
              "4       22-40       1  \n",
              "...       ...     ...  \n",
              "9849    22-40       3  \n",
              "9850    22-40       7  \n",
              "9851    22-40       7  \n",
              "9852    22-40       7  \n",
              "9853    22-40       1  \n",
              "\n",
              "[9854 rows x 11 columns]"
            ],
            "text/html": [
              "\n",
              "  <div id=\"df-72d1d50b-4899-4bd9-95c6-416b4e3dea0d\">\n",
              "    <div class=\"colab-df-container\">\n",
              "      <div>\n",
              "<style scoped>\n",
              "    .dataframe tbody tr th:only-of-type {\n",
              "        vertical-align: middle;\n",
              "    }\n",
              "\n",
              "    .dataframe tbody tr th {\n",
              "        vertical-align: top;\n",
              "    }\n",
              "\n",
              "    .dataframe thead th {\n",
              "        text-align: right;\n",
              "    }\n",
              "</style>\n",
              "<table border=\"1\" class=\"dataframe\">\n",
              "  <thead>\n",
              "    <tr style=\"text-align: right;\">\n",
              "      <th></th>\n",
              "      <th>Id</th>\n",
              "      <th>path</th>\n",
              "      <th>speakerId</th>\n",
              "      <th>action</th>\n",
              "      <th>object</th>\n",
              "      <th>Self-reported fluency level</th>\n",
              "      <th>First Language spoken</th>\n",
              "      <th>Current language used for work/school</th>\n",
              "      <th>gender</th>\n",
              "      <th>ageRange</th>\n",
              "      <th>labels</th>\n",
              "    </tr>\n",
              "  </thead>\n",
              "  <tbody>\n",
              "    <tr>\n",
              "      <th>0</th>\n",
              "      <td>0</td>\n",
              "      <td>dsl_data/audio/speakers/2BqVo8kVB2Skwgyb/0a312...</td>\n",
              "      <td>2BqVo8kVB2Skwgyb</td>\n",
              "      <td>change language</td>\n",
              "      <td>none</td>\n",
              "      <td>advanced</td>\n",
              "      <td>English (United States)</td>\n",
              "      <td>English (United States)</td>\n",
              "      <td>female</td>\n",
              "      <td>22-40</td>\n",
              "      <td>5</td>\n",
              "    </tr>\n",
              "    <tr>\n",
              "      <th>1</th>\n",
              "      <td>1</td>\n",
              "      <td>dsl_data/audio/speakers/2BqVo8kVB2Skwgyb/0ee42...</td>\n",
              "      <td>2BqVo8kVB2Skwgyb</td>\n",
              "      <td>activate</td>\n",
              "      <td>music</td>\n",
              "      <td>advanced</td>\n",
              "      <td>English (United States)</td>\n",
              "      <td>English (United States)</td>\n",
              "      <td>female</td>\n",
              "      <td>22-40</td>\n",
              "      <td>6</td>\n",
              "    </tr>\n",
              "    <tr>\n",
              "      <th>2</th>\n",
              "      <td>2</td>\n",
              "      <td>dsl_data/audio/speakers/2BqVo8kVB2Skwgyb/1d9f3...</td>\n",
              "      <td>2BqVo8kVB2Skwgyb</td>\n",
              "      <td>deactivate</td>\n",
              "      <td>lights</td>\n",
              "      <td>advanced</td>\n",
              "      <td>English (United States)</td>\n",
              "      <td>English (United States)</td>\n",
              "      <td>female</td>\n",
              "      <td>22-40</td>\n",
              "      <td>7</td>\n",
              "    </tr>\n",
              "    <tr>\n",
              "      <th>3</th>\n",
              "      <td>3</td>\n",
              "      <td>dsl_data/audio/speakers/2BqVo8kVB2Skwgyb/269fc...</td>\n",
              "      <td>2BqVo8kVB2Skwgyb</td>\n",
              "      <td>increase</td>\n",
              "      <td>volume</td>\n",
              "      <td>advanced</td>\n",
              "      <td>English (United States)</td>\n",
              "      <td>English (United States)</td>\n",
              "      <td>female</td>\n",
              "      <td>22-40</td>\n",
              "      <td>1</td>\n",
              "    </tr>\n",
              "    <tr>\n",
              "      <th>4</th>\n",
              "      <td>4</td>\n",
              "      <td>dsl_data/audio/speakers/2BqVo8kVB2Skwgyb/5bbda...</td>\n",
              "      <td>2BqVo8kVB2Skwgyb</td>\n",
              "      <td>increase</td>\n",
              "      <td>volume</td>\n",
              "      <td>advanced</td>\n",
              "      <td>English (United States)</td>\n",
              "      <td>English (United States)</td>\n",
              "      <td>female</td>\n",
              "      <td>22-40</td>\n",
              "      <td>1</td>\n",
              "    </tr>\n",
              "    <tr>\n",
              "      <th>...</th>\n",
              "      <td>...</td>\n",
              "      <td>...</td>\n",
              "      <td>...</td>\n",
              "      <td>...</td>\n",
              "      <td>...</td>\n",
              "      <td>...</td>\n",
              "      <td>...</td>\n",
              "      <td>...</td>\n",
              "      <td>...</td>\n",
              "      <td>...</td>\n",
              "      <td>...</td>\n",
              "    </tr>\n",
              "    <tr>\n",
              "      <th>9849</th>\n",
              "      <td>9849</td>\n",
              "      <td>dsl_data/audio/speakers/vnljypgejkINbBAY/4fb3d...</td>\n",
              "      <td>vnljypgejkINbBAY</td>\n",
              "      <td>decrease</td>\n",
              "      <td>volume</td>\n",
              "      <td>native</td>\n",
              "      <td>English (United States)</td>\n",
              "      <td>English (United States)</td>\n",
              "      <td>male</td>\n",
              "      <td>22-40</td>\n",
              "      <td>3</td>\n",
              "    </tr>\n",
              "    <tr>\n",
              "      <th>9850</th>\n",
              "      <td>9850</td>\n",
              "      <td>dsl_data/audio/speakers/vnljypgejkINbBAY/59e6a...</td>\n",
              "      <td>vnljypgejkINbBAY</td>\n",
              "      <td>deactivate</td>\n",
              "      <td>lights</td>\n",
              "      <td>native</td>\n",
              "      <td>English (United States)</td>\n",
              "      <td>English (United States)</td>\n",
              "      <td>male</td>\n",
              "      <td>22-40</td>\n",
              "      <td>7</td>\n",
              "    </tr>\n",
              "    <tr>\n",
              "      <th>9851</th>\n",
              "      <td>9851</td>\n",
              "      <td>dsl_data/audio/speakers/vnljypgejkINbBAY/5c81c...</td>\n",
              "      <td>vnljypgejkINbBAY</td>\n",
              "      <td>deactivate</td>\n",
              "      <td>lights</td>\n",
              "      <td>native</td>\n",
              "      <td>English (United States)</td>\n",
              "      <td>English (United States)</td>\n",
              "      <td>male</td>\n",
              "      <td>22-40</td>\n",
              "      <td>7</td>\n",
              "    </tr>\n",
              "    <tr>\n",
              "      <th>9852</th>\n",
              "      <td>9852</td>\n",
              "      <td>dsl_data/audio/speakers/vnljypgejkINbBAY/5ef42...</td>\n",
              "      <td>vnljypgejkINbBAY</td>\n",
              "      <td>deactivate</td>\n",
              "      <td>lights</td>\n",
              "      <td>native</td>\n",
              "      <td>English (United States)</td>\n",
              "      <td>English (United States)</td>\n",
              "      <td>male</td>\n",
              "      <td>22-40</td>\n",
              "      <td>7</td>\n",
              "    </tr>\n",
              "    <tr>\n",
              "      <th>9853</th>\n",
              "      <td>9853</td>\n",
              "      <td>dsl_data/audio/speakers/vnljypgejkINbBAY/61b7a...</td>\n",
              "      <td>vnljypgejkINbBAY</td>\n",
              "      <td>increase</td>\n",
              "      <td>volume</td>\n",
              "      <td>native</td>\n",
              "      <td>English (United States)</td>\n",
              "      <td>English (United States)</td>\n",
              "      <td>male</td>\n",
              "      <td>22-40</td>\n",
              "      <td>1</td>\n",
              "    </tr>\n",
              "  </tbody>\n",
              "</table>\n",
              "<p>9854 rows × 11 columns</p>\n",
              "</div>\n",
              "      <button class=\"colab-df-convert\" onclick=\"convertToInteractive('df-72d1d50b-4899-4bd9-95c6-416b4e3dea0d')\"\n",
              "              title=\"Convert this dataframe to an interactive table.\"\n",
              "              style=\"display:none;\">\n",
              "        \n",
              "  <svg xmlns=\"http://www.w3.org/2000/svg\" height=\"24px\"viewBox=\"0 0 24 24\"\n",
              "       width=\"24px\">\n",
              "    <path d=\"M0 0h24v24H0V0z\" fill=\"none\"/>\n",
              "    <path d=\"M18.56 5.44l.94 2.06.94-2.06 2.06-.94-2.06-.94-.94-2.06-.94 2.06-2.06.94zm-11 1L8.5 8.5l.94-2.06 2.06-.94-2.06-.94L8.5 2.5l-.94 2.06-2.06.94zm10 10l.94 2.06.94-2.06 2.06-.94-2.06-.94-.94-2.06-.94 2.06-2.06.94z\"/><path d=\"M17.41 7.96l-1.37-1.37c-.4-.4-.92-.59-1.43-.59-.52 0-1.04.2-1.43.59L10.3 9.45l-7.72 7.72c-.78.78-.78 2.05 0 2.83L4 21.41c.39.39.9.59 1.41.59.51 0 1.02-.2 1.41-.59l7.78-7.78 2.81-2.81c.8-.78.8-2.07 0-2.86zM5.41 20L4 18.59l7.72-7.72 1.47 1.35L5.41 20z\"/>\n",
              "  </svg>\n",
              "      </button>\n",
              "      \n",
              "  <style>\n",
              "    .colab-df-container {\n",
              "      display:flex;\n",
              "      flex-wrap:wrap;\n",
              "      gap: 12px;\n",
              "    }\n",
              "\n",
              "    .colab-df-convert {\n",
              "      background-color: #E8F0FE;\n",
              "      border: none;\n",
              "      border-radius: 50%;\n",
              "      cursor: pointer;\n",
              "      display: none;\n",
              "      fill: #1967D2;\n",
              "      height: 32px;\n",
              "      padding: 0 0 0 0;\n",
              "      width: 32px;\n",
              "    }\n",
              "\n",
              "    .colab-df-convert:hover {\n",
              "      background-color: #E2EBFA;\n",
              "      box-shadow: 0px 1px 2px rgba(60, 64, 67, 0.3), 0px 1px 3px 1px rgba(60, 64, 67, 0.15);\n",
              "      fill: #174EA6;\n",
              "    }\n",
              "\n",
              "    [theme=dark] .colab-df-convert {\n",
              "      background-color: #3B4455;\n",
              "      fill: #D2E3FC;\n",
              "    }\n",
              "\n",
              "    [theme=dark] .colab-df-convert:hover {\n",
              "      background-color: #434B5C;\n",
              "      box-shadow: 0px 1px 3px 1px rgba(0, 0, 0, 0.15);\n",
              "      filter: drop-shadow(0px 1px 2px rgba(0, 0, 0, 0.3));\n",
              "      fill: #FFFFFF;\n",
              "    }\n",
              "  </style>\n",
              "\n",
              "      <script>\n",
              "        const buttonEl =\n",
              "          document.querySelector('#df-72d1d50b-4899-4bd9-95c6-416b4e3dea0d button.colab-df-convert');\n",
              "        buttonEl.style.display =\n",
              "          google.colab.kernel.accessAllowed ? 'block' : 'none';\n",
              "\n",
              "        async function convertToInteractive(key) {\n",
              "          const element = document.querySelector('#df-72d1d50b-4899-4bd9-95c6-416b4e3dea0d');\n",
              "          const dataTable =\n",
              "            await google.colab.kernel.invokeFunction('convertToInteractive',\n",
              "                                                     [key], {});\n",
              "          if (!dataTable) return;\n",
              "\n",
              "          const docLinkHtml = 'Like what you see? Visit the ' +\n",
              "            '<a target=\"_blank\" href=https://colab.research.google.com/notebooks/data_table.ipynb>data table notebook</a>'\n",
              "            + ' to learn more about interactive tables.';\n",
              "          element.innerHTML = '';\n",
              "          dataTable['output_type'] = 'display_data';\n",
              "          await google.colab.output.renderOutput(dataTable, element);\n",
              "          const docLink = document.createElement('div');\n",
              "          docLink.innerHTML = docLinkHtml;\n",
              "          element.appendChild(docLink);\n",
              "        }\n",
              "      </script>\n",
              "    </div>\n",
              "  </div>\n",
              "  "
            ]
          },
          "metadata": {},
          "execution_count": 13
        }
      ],
      "source": [
        "#df_development_increase_volume = df_development.loc[(df_development['action'] == 'increase') & (df_development['object'] == 'volume')]\n",
        "df_development['labels']=0\n",
        "\n",
        "#df_development_increase_volume = df_development.loc[(df_development['action'] == 'increase') & (df_development['object'] == 'volume')]\n",
        "df_development.loc[(df_development['action'] == 'increase') & (df_development['object'] == 'volume'), 'labels']=1\n",
        "df_development.loc[(df_development['action'] == 'increase') & (df_development['object'] == 'heat'), 'labels']=2\n",
        "\n",
        "df_development.loc[(df_development['action'] == 'decrease') & (df_development['object'] == 'volume'), 'labels']=3\n",
        "df_development.loc[(df_development['action'] == 'decrease') & (df_development['object'] == 'heat'), 'labels']=4\n",
        "\n",
        "df_development.loc[(df_development['action'] == 'change language') & (df_development['object'] == 'none'), 'labels']=5\n",
        "\n",
        "df_development.loc[(df_development['action'] == 'activate') & (df_development['object'] == 'music'), 'labels']=6\n",
        "df_development.loc[(df_development['action'] == 'deactivate') & (df_development['object'] == 'lights'), 'labels']=7\n",
        "\n",
        "df_development\n",
        "#df_development.labels.value_counts() #check"
      ]
    },
    {
      "cell_type": "code",
      "execution_count": 14,
      "id": "77027838",
      "metadata": {
        "colab": {
          "base_uri": "https://localhost:8080/"
        },
        "id": "77027838",
        "outputId": "92fe3e0e-baca-4865-ee5b-9bedea12a902"
      },
      "outputs": [
        {
          "output_type": "execute_result",
          "data": {
            "text/plain": [
              "Id                                                                                    9845\n",
              "path                                     dsl_data/audio/speakers/Pz327QrLaGuxW8Do/20e47...\n",
              "speakerId                                                                 Pz327QrLaGuxW8Do\n",
              "action                                                                     change language\n",
              "object                                                                                none\n",
              "Self-reported fluency level                                                         native\n",
              "First Language spoken                                              English (United States)\n",
              "Current language used for work/school                              English (United States)\n",
              "gender                                                                              female\n",
              "ageRange                                                                             22-40\n",
              "labels                                                                                   5\n",
              "Name: 9845, dtype: object"
            ]
          },
          "metadata": {},
          "execution_count": 14
        }
      ],
      "source": [
        "df_development.iloc[9845]"
      ]
    },
    {
      "cell_type": "code",
      "source": [
        "df_development.speakerId.nunique()"
      ],
      "metadata": {
        "colab": {
          "base_uri": "https://localhost:8080/"
        },
        "id": "AdIdF7zOdB4p",
        "outputId": "488f38a1-6507-41bc-8317-49e6fa69fb5a"
      },
      "id": "AdIdF7zOdB4p",
      "execution_count": 16,
      "outputs": [
        {
          "output_type": "execute_result",
          "data": {
            "text/plain": [
              "87"
            ]
          },
          "metadata": {},
          "execution_count": 16
        }
      ]
    },
    {
      "cell_type": "code",
      "execution_count": 17,
      "id": "6260f815",
      "metadata": {
        "id": "6260f815"
      },
      "outputs": [],
      "source": [
        "if colab == True:\n",
        "  path_working_directory= r'/content/drive/MyDrive/'\n",
        "else:\n",
        "  path_working_directory = r'C:/Users/andre/OneDrive/Documenti/GitHub/winter_exam_22_23'\n",
        "paths_recordings = df_development['path']"
      ]
    },
    {
      "cell_type": "markdown",
      "id": "d77cc0ad",
      "metadata": {
        "id": "d77cc0ad"
      },
      "source": [
        "Load pickle file."
      ]
    },
    {
      "cell_type": "code",
      "execution_count": 18,
      "id": "299159e9",
      "metadata": {
        "id": "299159e9"
      },
      "outputs": [],
      "source": [
        "name_file = r'/df.pickle'\n",
        "\n",
        "with open(path_working_directory+name_file, 'rb') as f:\n",
        "        df = pickle.load(f)\n",
        "df_pd = pd.DataFrame({'audio':df[1], 'gender': df_development.gender, 'ageRange': df_development.ageRange, 'label':df[3]})\n",
        "#df_pd[9840:9845] ETICHETTATO COME FEMALE MA SECONDO ME E MALE"
      ]
    },
    {
      "cell_type": "code",
      "execution_count": 19,
      "id": "62e60bdf",
      "metadata": {
        "id": "62e60bdf"
      },
      "outputs": [],
      "source": [
        "# Test\n",
        "# df_female = df_development[df_development['gender']=='female']\n",
        "# df_female"
      ]
    },
    {
      "cell_type": "code",
      "execution_count": 20,
      "id": "d1f9c840",
      "metadata": {
        "id": "d1f9c840"
      },
      "outputs": [],
      "source": [
        "# Test\n",
        "# df_development.gender.value_counts()"
      ]
    },
    {
      "cell_type": "code",
      "execution_count": 21,
      "id": "22b09ddc",
      "metadata": {
        "id": "22b09ddc"
      },
      "outputs": [],
      "source": [
        "# Test\n",
        "# index = 9845\n",
        "# path_audio = df_development.path[index]\n",
        "# path_working_directory+'/'+path_audio\n",
        "# ipd.Audio(path_working_directory+'/'+path_audio)"
      ]
    },
    {
      "cell_type": "markdown",
      "id": "ad37994b",
      "metadata": {
        "id": "ad37994b"
      },
      "source": [
        " \n",
        "$\\frac{n\\_samples}{sr}$ = $seconds$\n",
        "\n",
        "$n\\_samples$ = $seconds*sr$\n"
      ]
    },
    {
      "cell_type": "markdown",
      "id": "2ecc2011",
      "metadata": {
        "id": "2ecc2011"
      },
      "source": [
        "See distribution of audio length"
      ]
    },
    {
      "cell_type": "code",
      "execution_count": 22,
      "id": "135b02bb",
      "metadata": {
        "colab": {
          "base_uri": "https://localhost:8080/",
          "height": 733
        },
        "id": "135b02bb",
        "outputId": "7fc7ecb8-672f-4909-c6d9-bd6ed102f2e3"
      },
      "outputs": [
        {
          "output_type": "execute_result",
          "data": {
            "text/plain": [
              "<matplotlib.axes._subplots.AxesSubplot at 0x7f57c74952b0>"
            ]
          },
          "metadata": {},
          "execution_count": 22
        },
        {
          "output_type": "display_data",
          "data": {
            "text/plain": [
              "<Figure size 864x864 with 1 Axes>"
            ],
            "image/png": "[encoded data removed]"
          },
          "metadata": {
            "needs_background": "light"
          }
        }
      ],
      "source": [
        "length_audios = []\n",
        "length_audios_seconds = []\n",
        "indexes = []\n",
        "i = 0\n",
        "\n",
        "for item,sr in zip(df[1], df[2]):\n",
        "    length_audios.append(len(item))\n",
        "    length_audios_seconds.append(len(item)/sr)\n",
        "#   Decomment if you are interested in retrieve indexes of audio within a specific range \n",
        "    if len(item)/sr  >= 5 and len(item)/sr  <=7.5:\n",
        "        indexes.append(i)\n",
        "    i = i+1\n",
        "        \n",
        "\n",
        "length_audios=pd.Series(length_audios)\n",
        "length_audios_seconds = pd.Series(length_audios_seconds)\n",
        "#print(length_audios_seconds.value_counts())\n",
        "plt.figure(figsize=(12,12))\n",
        "plt.title(\"Lenght of audios distribution (seconds)\")\n",
        "length_audios_seconds.hist()\n",
        "#print(length_audios_seconds)\n"
      ]
    },
    {
      "cell_type": "code",
      "execution_count": 23,
      "id": "49dc0779",
      "metadata": {
        "colab": {
          "base_uri": "https://localhost:8080/"
        },
        "id": "49dc0779",
        "outputId": "f2fd4956-e6e3-4727-d333-0841daddddb2"
      },
      "outputs": [
        {
          "output_type": "execute_result",
          "data": {
            "text/plain": [
              "[3079,\n",
              " 3179,\n",
              " 3799,\n",
              " 3807,\n",
              " 3839,\n",
              " 4073,\n",
              " 4802,\n",
              " 7123,\n",
              " 7684,\n",
              " 8140,\n",
              " 8141,\n",
              " 8228,\n",
              " 8229,\n",
              " 8230,\n",
              " 8528]"
            ]
          },
          "metadata": {},
          "execution_count": 23
        }
      ],
      "source": [
        "indexes"
      ]
    },
    {
      "cell_type": "code",
      "execution_count": 24,
      "id": "1b4430aa",
      "metadata": {
        "id": "1b4430aa"
      },
      "outputs": [],
      "source": [
        "# See info of audios within specific range\n",
        "#df_pd.iloc[indexes]"
      ]
    },
    {
      "cell_type": "code",
      "execution_count": 25,
      "id": "45ca3f17",
      "metadata": {
        "id": "45ca3f17"
      },
      "outputs": [],
      "source": [
        "# index = 7123\n",
        "# path_audio = df_development.path[index]\n",
        "# path_working_directory+'/'+path_audio\n",
        "# ipd.Audio(df_pd['audio'][7123], rate=22050)"
      ]
    },
    {
      "cell_type": "markdown",
      "id": "c03ffa82",
      "metadata": {
        "id": "c03ffa82"
      },
      "source": [
        "### 2. Pre-Processing"
      ]
    },
    {
      "cell_type": "markdown",
      "id": "12ce9a7a",
      "metadata": {
        "id": "12ce9a7a"
      },
      "source": [
        "According to several papers focused on audio classification, VDA is among one of the most preprocessing techinque adopted which aims to trim all the silence parts away from audio files.\n",
        "\n",
        "To apply it, we will use _trim_ and _split_ librosa functions.\n",
        "\n",
        "- _trim_: cut silence frames at the beginning and in the end of an audio file.\n",
        "- _split_: saves the indexes (start, stop) of each non-silent frame in the audio file."
      ]
    },
    {
      "cell_type": "markdown",
      "source": [
        "#### Resampling"
      ],
      "metadata": {
        "id": "brhEifztfGSG"
      },
      "id": "brhEifztfGSG"
    },
    {
      "cell_type": "code",
      "source": [
        "resample_audios = []\n",
        "for i, audio in enumerate(df_pd.audio):\n",
        "    audio_resampled = librosa.resample(y=audio, orig_sr=22050, target_sr=8000)\n",
        "    resample_audios.append(audio_resampled)\n",
        "    \n",
        "df_pd['audio_resampled'] = resample_audios    \n",
        "df_pd"
      ],
      "metadata": {
        "colab": {
          "base_uri": "https://localhost:8080/",
          "height": 423
        },
        "id": "EkXoY8ZsfKUw",
        "outputId": "5bf57cc9-d892-4779-dd17-66c5781535cc"
      },
      "id": "EkXoY8ZsfKUw",
      "execution_count": 28,
      "outputs": [
        {
          "output_type": "execute_result",
          "data": {
            "text/plain": [
              "                                                  audio  gender ageRange  \\\n",
              "0     [0.0, 0.0, 0.0, 0.0, 0.0, 0.0, 0.0, 0.0, 0.0, ...  female    22-40   \n",
              "1     [0.0, 0.0, 0.0, 0.0, 0.0, 0.0, 0.0, 0.0, 0.0, ...  female    22-40   \n",
              "2     [0.0, 0.0, 0.0, 0.0, 0.0, 0.0, 0.0, 0.0, 0.0, ...  female    22-40   \n",
              "3     [0.0, 0.0, 0.0, 0.0, 0.0, 0.0, 0.0, 0.0, 0.0, ...  female    22-40   \n",
              "4     [0.0, 0.0, 0.0, 0.0, 0.0, 0.0, 0.0, 0.0, 0.0, ...  female    22-40   \n",
              "...                                                 ...     ...      ...   \n",
              "9849  [0.009223618, 0.010777138, 0.009321626, 0.0099...    male    22-40   \n",
              "9850  [0.00936052, 0.010867924, 0.009305291, 0.00991...    male    22-40   \n",
              "9851  [0.0014334349, 0.001723074, 0.0015384919, 0.00...    male    22-40   \n",
              "9852  [0.009742705, 0.011407773, 0.009794228, 0.0103...    male    22-40   \n",
              "9853  [0.009512647, 0.011129991, 0.00956014, 0.01007...    male    22-40   \n",
              "\n",
              "      label                                    audio_resampled  \n",
              "0         5  [0.0, 0.0, 0.0, 0.0, 0.0, 0.0, -5.8081645e-19,...  \n",
              "1         6  [0.0, 0.0, 0.0, 0.0, 0.0, 0.0, 0.0, 0.0, 0.0, ...  \n",
              "2         7  [0.0, 0.0, 0.0, 0.0, 0.0, 0.0, 2.9040822e-19, ...  \n",
              "3         1  [0.0, 0.0, 0.0, 0.0, 0.0, 0.0, 0.0, 0.0, 0.0, ...  \n",
              "4         1  [0.0, 0.0, 0.0, 0.0, 0.0, 0.0, -5.8081645e-19,...  \n",
              "...     ...                                                ...  \n",
              "9849      3  [0.0064895125, 0.010923046, 0.009842561, 0.010...  \n",
              "9850      7  [0.006569434, 0.010898799, 0.009671461, 0.0105...  \n",
              "9851      7  [0.0010357733, 0.0018019958, 0.0018289128, 0.0...  \n",
              "9852      7  [0.0068961587, 0.011377829, 0.010028762, 0.011...  \n",
              "9853      1  [0.0067149163, 0.011106253, 0.009802157, 0.010...  \n",
              "\n",
              "[9854 rows x 5 columns]"
            ],
            "text/html": [
              "\n",
              "  <div id=\"df-7ce3b3df-481c-41a8-a629-0deee4112865\">\n",
              "    <div class=\"colab-df-container\">\n",
              "      <div>\n",
              "<style scoped>\n",
              "    .dataframe tbody tr th:only-of-type {\n",
              "        vertical-align: middle;\n",
              "    }\n",
              "\n",
              "    .dataframe tbody tr th {\n",
              "        vertical-align: top;\n",
              "    }\n",
              "\n",
              "    .dataframe thead th {\n",
              "        text-align: right;\n",
              "    }\n",
              "</style>\n",
              "<table border=\"1\" class=\"dataframe\">\n",
              "  <thead>\n",
              "    <tr style=\"text-align: right;\">\n",
              "      <th></th>\n",
              "      <th>audio</th>\n",
              "      <th>gender</th>\n",
              "      <th>ageRange</th>\n",
              "      <th>label</th>\n",
              "      <th>audio_resampled</th>\n",
              "    </tr>\n",
              "  </thead>\n",
              "  <tbody>\n",
              "    <tr>\n",
              "      <th>0</th>\n",
              "      <td>[0.0, 0.0, 0.0, 0.0, 0.0, 0.0, 0.0, 0.0, 0.0, ...</td>\n",
              "      <td>female</td>\n",
              "      <td>22-40</td>\n",
              "      <td>5</td>\n",
              "      <td>[0.0, 0.0, 0.0, 0.0, 0.0, 0.0, -5.8081645e-19,...</td>\n",
              "    </tr>\n",
              "    <tr>\n",
              "      <th>1</th>\n",
              "      <td>[0.0, 0.0, 0.0, 0.0, 0.0, 0.0, 0.0, 0.0, 0.0, ...</td>\n",
              "      <td>female</td>\n",
              "      <td>22-40</td>\n",
              "      <td>6</td>\n",
              "      <td>[0.0, 0.0, 0.0, 0.0, 0.0, 0.0, 0.0, 0.0, 0.0, ...</td>\n",
              "    </tr>\n",
              "    <tr>\n",
              "      <th>2</th>\n",
              "      <td>[0.0, 0.0, 0.0, 0.0, 0.0, 0.0, 0.0, 0.0, 0.0, ...</td>\n",
              "      <td>female</td>\n",
              "      <td>22-40</td>\n",
              "      <td>7</td>\n",
              "      <td>[0.0, 0.0, 0.0, 0.0, 0.0, 0.0, 2.9040822e-19, ...</td>\n",
              "    </tr>\n",
              "    <tr>\n",
              "      <th>3</th>\n",
              "      <td>[0.0, 0.0, 0.0, 0.0, 0.0, 0.0, 0.0, 0.0, 0.0, ...</td>\n",
              "      <td>female</td>\n",
              "      <td>22-40</td>\n",
              "      <td>1</td>\n",
              "      <td>[0.0, 0.0, 0.0, 0.0, 0.0, 0.0, 0.0, 0.0, 0.0, ...</td>\n",
              "    </tr>\n",
              "    <tr>\n",
              "      <th>4</th>\n",
              "      <td>[0.0, 0.0, 0.0, 0.0, 0.0, 0.0, 0.0, 0.0, 0.0, ...</td>\n",
              "      <td>female</td>\n",
              "      <td>22-40</td>\n",
              "      <td>1</td>\n",
              "      <td>[0.0, 0.0, 0.0, 0.0, 0.0, 0.0, -5.8081645e-19,...</td>\n",
              "    </tr>\n",
              "    <tr>\n",
              "      <th>...</th>\n",
              "      <td>...</td>\n",
              "      <td>...</td>\n",
              "      <td>...</td>\n",
              "      <td>...</td>\n",
              "      <td>...</td>\n",
              "    </tr>\n",
              "    <tr>\n",
              "      <th>9849</th>\n",
              "      <td>[0.009223618, 0.010777138, 0.009321626, 0.0099...</td>\n",
              "      <td>male</td>\n",
              "      <td>22-40</td>\n",
              "      <td>3</td>\n",
              "      <td>[0.0064895125, 0.010923046, 0.009842561, 0.010...</td>\n",
              "    </tr>\n",
              "    <tr>\n",
              "      <th>9850</th>\n",
              "      <td>[0.00936052, 0.010867924, 0.009305291, 0.00991...</td>\n",
              "      <td>male</td>\n",
              "      <td>22-40</td>\n",
              "      <td>7</td>\n",
              "      <td>[0.006569434, 0.010898799, 0.009671461, 0.0105...</td>\n",
              "    </tr>\n",
              "    <tr>\n",
              "      <th>9851</th>\n",
              "      <td>[0.0014334349, 0.001723074, 0.0015384919, 0.00...</td>\n",
              "      <td>male</td>\n",
              "      <td>22-40</td>\n",
              "      <td>7</td>\n",
              "      <td>[0.0010357733, 0.0018019958, 0.0018289128, 0.0...</td>\n",
              "    </tr>\n",
              "    <tr>\n",
              "      <th>9852</th>\n",
              "      <td>[0.009742705, 0.011407773, 0.009794228, 0.0103...</td>\n",
              "      <td>male</td>\n",
              "      <td>22-40</td>\n",
              "      <td>7</td>\n",
              "      <td>[0.0068961587, 0.011377829, 0.010028762, 0.011...</td>\n",
              "    </tr>\n",
              "    <tr>\n",
              "      <th>9853</th>\n",
              "      <td>[0.009512647, 0.011129991, 0.00956014, 0.01007...</td>\n",
              "      <td>male</td>\n",
              "      <td>22-40</td>\n",
              "      <td>1</td>\n",
              "      <td>[0.0067149163, 0.011106253, 0.009802157, 0.010...</td>\n",
              "    </tr>\n",
              "  </tbody>\n",
              "</table>\n",
              "<p>9854 rows × 5 columns</p>\n",
              "</div>\n",
              "      <button class=\"colab-df-convert\" onclick=\"convertToInteractive('df-7ce3b3df-481c-41a8-a629-0deee4112865')\"\n",
              "              title=\"Convert this dataframe to an interactive table.\"\n",
              "              style=\"display:none;\">\n",
              "        \n",
              "  <svg xmlns=\"http://www.w3.org/2000/svg\" height=\"24px\"viewBox=\"0 0 24 24\"\n",
              "       width=\"24px\">\n",
              "    <path d=\"M0 0h24v24H0V0z\" fill=\"none\"/>\n",
              "    <path d=\"M18.56 5.44l.94 2.06.94-2.06 2.06-.94-2.06-.94-.94-2.06-.94 2.06-2.06.94zm-11 1L8.5 8.5l.94-2.06 2.06-.94-2.06-.94L8.5 2.5l-.94 2.06-2.06.94zm10 10l.94 2.06.94-2.06 2.06-.94-2.06-.94-.94-2.06-.94 2.06-2.06.94z\"/><path d=\"M17.41 7.96l-1.37-1.37c-.4-.4-.92-.59-1.43-.59-.52 0-1.04.2-1.43.59L10.3 9.45l-7.72 7.72c-.78.78-.78 2.05 0 2.83L4 21.41c.39.39.9.59 1.41.59.51 0 1.02-.2 1.41-.59l7.78-7.78 2.81-2.81c.8-.78.8-2.07 0-2.86zM5.41 20L4 18.59l7.72-7.72 1.47 1.35L5.41 20z\"/>\n",
              "  </svg>\n",
              "      </button>\n",
              "      \n",
              "  <style>\n",
              "    .colab-df-container {\n",
              "      display:flex;\n",
              "      flex-wrap:wrap;\n",
              "      gap: 12px;\n",
              "    }\n",
              "\n",
              "    .colab-df-convert {\n",
              "      background-color: #E8F0FE;\n",
              "      border: none;\n",
              "      border-radius: 50%;\n",
              "      cursor: pointer;\n",
              "      display: none;\n",
              "      fill: #1967D2;\n",
              "      height: 32px;\n",
              "      padding: 0 0 0 0;\n",
              "      width: 32px;\n",
              "    }\n",
              "\n",
              "    .colab-df-convert:hover {\n",
              "      background-color: #E2EBFA;\n",
              "      box-shadow: 0px 1px 2px rgba(60, 64, 67, 0.3), 0px 1px 3px 1px rgba(60, 64, 67, 0.15);\n",
              "      fill: #174EA6;\n",
              "    }\n",
              "\n",
              "    [theme=dark] .colab-df-convert {\n",
              "      background-color: #3B4455;\n",
              "      fill: #D2E3FC;\n",
              "    }\n",
              "\n",
              "    [theme=dark] .colab-df-convert:hover {\n",
              "      background-color: #434B5C;\n",
              "      box-shadow: 0px 1px 3px 1px rgba(0, 0, 0, 0.15);\n",
              "      filter: drop-shadow(0px 1px 2px rgba(0, 0, 0, 0.3));\n",
              "      fill: #FFFFFF;\n",
              "    }\n",
              "  </style>\n",
              "\n",
              "      <script>\n",
              "        const buttonEl =\n",
              "          document.querySelector('#df-7ce3b3df-481c-41a8-a629-0deee4112865 button.colab-df-convert');\n",
              "        buttonEl.style.display =\n",
              "          google.colab.kernel.accessAllowed ? 'block' : 'none';\n",
              "\n",
              "        async function convertToInteractive(key) {\n",
              "          const element = document.querySelector('#df-7ce3b3df-481c-41a8-a629-0deee4112865');\n",
              "          const dataTable =\n",
              "            await google.colab.kernel.invokeFunction('convertToInteractive',\n",
              "                                                     [key], {});\n",
              "          if (!dataTable) return;\n",
              "\n",
              "          const docLinkHtml = 'Like what you see? Visit the ' +\n",
              "            '<a target=\"_blank\" href=https://colab.research.google.com/notebooks/data_table.ipynb>data table notebook</a>'\n",
              "            + ' to learn more about interactive tables.';\n",
              "          element.innerHTML = '';\n",
              "          dataTable['output_type'] = 'display_data';\n",
              "          await google.colab.output.renderOutput(dataTable, element);\n",
              "          const docLink = document.createElement('div');\n",
              "          docLink.innerHTML = docLinkHtml;\n",
              "          element.appendChild(docLink);\n",
              "        }\n",
              "      </script>\n",
              "    </div>\n",
              "  </div>\n",
              "  "
            ]
          },
          "metadata": {},
          "execution_count": 28
        }
      ]
    },
    {
      "cell_type": "code",
      "source": [
        "length_audios_resampled = []\n",
        "length_audios_resampled_seconds = []\n",
        "indexes_resampled = []\n",
        "i = 0\n",
        "\n",
        "for item in df_pd.audio_resampled:\n",
        "    length_audios_resampled.append(len(item))\n",
        "    length_audios_resampled_seconds.append(len(item)/8000)\n",
        "#   Decomment if you are interested in retrieve indexes of audio within a specific range \n",
        "    if len(item)/sr  >= 5 and len(item)/sr  <=7.5:\n",
        "        indexes_resampled.append(i)\n",
        "    i = i+1\n",
        "        \n",
        "\n",
        "length_audios_resampled=pd.Series(length_audios_resampled)\n",
        "length_audios_resampled_seconds = pd.Series(length_audios_resampled_seconds)\n",
        "#print(length_audios_seconds.value_counts())\n",
        "plt.figure(figsize=(12,12))\n",
        "plt.title(\"Lenght of audios distribution (seconds)\")\n",
        "length_audios_resampled_seconds.hist()\n",
        "#print(length_audios_seconds)\n"
      ],
      "metadata": {
        "colab": {
          "base_uri": "https://localhost:8080/",
          "height": 733
        },
        "id": "HXqN5dmLiCYW",
        "outputId": "54b24c73-5cd5-4466-ba61-65c7ade89f27"
      },
      "id": "HXqN5dmLiCYW",
      "execution_count": 45,
      "outputs": [
        {
          "output_type": "execute_result",
          "data": {
            "text/plain": [
              "<matplotlib.axes._subplots.AxesSubplot at 0x7f57c25d9070>"
            ]
          },
          "metadata": {},
          "execution_count": 45
        },
        {
          "output_type": "display_data",
          "data": {
            "text/plain": [
              "<Figure size 864x864 with 1 Axes>"
            ],
            "image/png": "[encoded data removed]"
          },
          "metadata": {
            "needs_background": "light"
          }
        }
      ]
    },
    {
      "cell_type": "code",
      "source": [
        "signal = df_pd['audio'][0]\n",
        "ipd.Audio(signal, rate=22050)\n",
        "librosa.display.waveshow(signal,sr=sr, x_axis='time');\n"
      ],
      "metadata": {
        "colab": {
          "base_uri": "https://localhost:8080/",
          "height": 282
        },
        "id": "XFaN12Iaiu8X",
        "outputId": "e85e604b-a2d7-4e4e-c2a6-e48e11cd64aa"
      },
      "id": "XFaN12Iaiu8X",
      "execution_count": 36,
      "outputs": [
        {
          "output_type": "display_data",
          "data": {
            "text/plain": [
              "<Figure size 432x288 with 1 Axes>"
            ],
            "image/png": "[encoded data removed]"
          },
          "metadata": {
            "needs_background": "light"
          }
        }
      ]
    },
    {
      "cell_type": "code",
      "source": [
        "ignal_resampled = df_pd['audio_resampled'][0]\n",
        "ipd.Audio(ignal_resampled, rate=22050)"
      ],
      "metadata": {
        "colab": {
          "base_uri": "https://localhost:8080/",
          "height": 76
        },
        "id": "2xZ_g8cZi_6B",
        "outputId": "210b1386-7046-4910-ace3-46c25ea338ab"
      },
      "id": "2xZ_g8cZi_6B",
      "execution_count": 40,
      "outputs": [
        {
          "output_type": "execute_result",
          "data": {
            "text/plain": [
              "<IPython.lib.display.Audio object>"
            ],
            "text/html": [
              "\n",
              "                <audio  controls=\"controls\" >\n",
              "                    <source src=\"data:audio/wav;base64,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\" type=\"audio/wav\" />\n",
              "                    Your browser does not support the audio element.\n",
              "                </audio>\n",
              "              "
            ]
          },
          "metadata": {},
          "execution_count": 40
        }
      ]
    },
    {
      "cell_type": "code",
      "source": [
        "librosa.display.waveshow(ignal_resampled,sr=8000, x_axis='time');"
      ],
      "metadata": {
        "colab": {
          "base_uri": "https://localhost:8080/",
          "height": 279
        },
        "id": "harzHYDfjGqq",
        "outputId": "aa463123-c944-4717-fbcb-e93471a100bb"
      },
      "id": "harzHYDfjGqq",
      "execution_count": 43,
      "outputs": [
        {
          "output_type": "display_data",
          "data": {
            "text/plain": [
              "<Figure size 432x288 with 1 Axes>"
            ],
            "image/png": "[encoded data removed]"
          },
          "metadata": {
            "needs_background": "light"
          }
        }
      ]
    },
    {
      "cell_type": "markdown",
      "id": "b8f3734b",
      "metadata": {
        "id": "b8f3734b"
      },
      "source": [
        "#### Trim"
      ]
    },
    {
      "cell_type": "code",
      "execution_count": 44,
      "id": "d01ba7a5",
      "metadata": {
        "id": "d01ba7a5"
      },
      "outputs": [],
      "source": [
        "trim_audios = []\n",
        "trim_resampled_audios = []\n",
        "\n",
        "for audio, audio_resampled in zip(df_pd.audio, df_pd.audio_resampled):\n",
        "    audio_trim = librosa.effects.trim(audio, top_db=30)[0]\n",
        "    audio_resampled_trim = librosa.effects.trim(audio_resampled, top_db=30)[0]\n",
        "\n",
        "    trim_audios.append(audio_trim)\n",
        "    trim_resampled_audios.append(audio_resampled_trim)\n",
        "    \n",
        "df_pd['audio_trim'] = trim_audios    \n",
        "df_pd['audio_resampled_trim'] = trim_resampled_audios"
      ]
    },
    {
      "cell_type": "code",
      "execution_count": 49,
      "id": "c98121bd",
      "metadata": {
        "colab": {
          "base_uri": "https://localhost:8080/",
          "height": 1000
        },
        "id": "c98121bd",
        "outputId": "c0526814-a27d-4488-a3c4-7656410890e3"
      },
      "outputs": [
        {
          "output_type": "execute_result",
          "data": {
            "text/plain": [
              "<matplotlib.axes._subplots.AxesSubplot at 0x7f57c22ed1f0>"
            ]
          },
          "metadata": {},
          "execution_count": 49
        },
        {
          "output_type": "display_data",
          "data": {
            "text/plain": [
              "<Figure size 864x864 with 1 Axes>"
            ],
            "image/png": "[encoded data removed]"
          },
          "metadata": {
            "needs_background": "light"
          }
        },
        {
          "output_type": "display_data",
          "data": {
            "text/plain": [
              "<Figure size 864x864 with 1 Axes>"
            ],
            "image/png": "[encoded data removed]"
          },
          "metadata": {
            "needs_background": "light"
          }
        }
      ],
      "source": [
        "new_sr = 8000\n",
        "length_audios_trim = []\n",
        "length_resampled_audios_trim = []\n",
        "\n",
        "length_audios_seconds_trim = []\n",
        "length_resampled_audios_seconds_trim = []\n",
        "\n",
        "indexes = []\n",
        "i = 0\n",
        "\n",
        "for audio_trim, audio_resampled_trim in zip(df_pd.audio_trim, df_pd.audio_resampled_trim):\n",
        "    length_audios_trim.append(len(audio_trim))\n",
        "    length_resampled_audios_trim.append(len(audio_resampled_trim))\n",
        "\n",
        "    length_audios_seconds_trim.append(len(audio_trim)/sr)\n",
        "    length_resampled_audios_seconds_trim.append(len(audio_resampled_trim)/new_sr)\n",
        "#   Decomment if you are interested in retrieve indexes of audio within a specific range \n",
        "    if len(audio_trim)/sr  > 4: # se 2.64 prestazioni minori\n",
        "        indexes.append(i)\n",
        "    i = i+1\n",
        "        \n",
        "\n",
        "length_audios_trim=pd.Series(length_audios_trim)\n",
        "length_audios_seconds_trim = pd.Series(length_audios_seconds_trim)\n",
        "\n",
        "length_resampled_audios_trim=pd.Series(length_resampled_audios_trim)\n",
        "length_resampled_audios_seconds_trim = pd.Series(length_resampled_audios_seconds_trim)\n",
        "\n",
        "#print(length_audios_seconds.value_counts())\n",
        "plt.figure(figsize=(12,12))\n",
        "plt.title(\"Lenght of audios distribution (seconds)\")\n",
        "length_audios_seconds_trim.hist()\n",
        "\n",
        "plt.figure(figsize=(12,12))\n",
        "plt.title(\"Lenght of audios distribution (seconds)\")\n",
        "length_resampled_audios_seconds_trim.hist()\n",
        "#print(length_audios_seconds)\n"
      ]
    },
    {
      "cell_type": "code",
      "execution_count": 50,
      "id": "11fabeb9",
      "metadata": {
        "colab": {
          "base_uri": "https://localhost:8080/"
        },
        "id": "11fabeb9",
        "outputId": "1ae006e2-8112-413e-80cc-a8fc9339a2b6"
      },
      "outputs": [
        {
          "output_type": "execute_result",
          "data": {
            "text/plain": [
              "11"
            ]
          },
          "metadata": {},
          "execution_count": 50
        }
      ],
      "source": [
        "len(indexes)"
      ]
    },
    {
      "cell_type": "code",
      "execution_count": 51,
      "id": "5aa71035",
      "metadata": {
        "scrolled": true,
        "colab": {
          "base_uri": "https://localhost:8080/",
          "height": 641
        },
        "id": "5aa71035",
        "outputId": "c3090143-8421-42f1-ce76-ff52831090f2"
      },
      "outputs": [
        {
          "output_type": "execute_result",
          "data": {
            "text/plain": [
              "                                                  audio  gender ageRange  \\\n",
              "0     [0.0, 0.0, 0.0, 0.0, 0.0, 0.0, 0.0, 0.0, 0.0, ...  female    22-40   \n",
              "1     [0.0, 0.0, 0.0, 0.0, 0.0, 0.0, 0.0, 0.0, 0.0, ...  female    22-40   \n",
              "2     [0.0, 0.0, 0.0, 0.0, 0.0, 0.0, 0.0, 0.0, 0.0, ...  female    22-40   \n",
              "3     [0.0, 0.0, 0.0, 0.0, 0.0, 0.0, 0.0, 0.0, 0.0, ...  female    22-40   \n",
              "4     [0.0, 0.0, 0.0, 0.0, 0.0, 0.0, 0.0, 0.0, 0.0, ...  female    22-40   \n",
              "...                                                 ...     ...      ...   \n",
              "9838  [0.009223618, 0.010777138, 0.009321626, 0.0099...    male    22-40   \n",
              "9839  [0.00936052, 0.010867924, 0.009305291, 0.00991...    male    22-40   \n",
              "9840  [0.0014334349, 0.001723074, 0.0015384919, 0.00...    male    22-40   \n",
              "9841  [0.009742705, 0.011407773, 0.009794228, 0.0103...    male    22-40   \n",
              "9842  [0.009512647, 0.011129991, 0.00956014, 0.01007...    male    22-40   \n",
              "\n",
              "      label                                    audio_resampled  \\\n",
              "0         5  [0.0, 0.0, 0.0, 0.0, 0.0, 0.0, -5.8081645e-19,...   \n",
              "1         6  [0.0, 0.0, 0.0, 0.0, 0.0, 0.0, 0.0, 0.0, 0.0, ...   \n",
              "2         7  [0.0, 0.0, 0.0, 0.0, 0.0, 0.0, 2.9040822e-19, ...   \n",
              "3         1  [0.0, 0.0, 0.0, 0.0, 0.0, 0.0, 0.0, 0.0, 0.0, ...   \n",
              "4         1  [0.0, 0.0, 0.0, 0.0, 0.0, 0.0, -5.8081645e-19,...   \n",
              "...     ...                                                ...   \n",
              "9838      3  [0.0064895125, 0.010923046, 0.009842561, 0.010...   \n",
              "9839      7  [0.006569434, 0.010898799, 0.009671461, 0.0105...   \n",
              "9840      7  [0.0010357733, 0.0018019958, 0.0018289128, 0.0...   \n",
              "9841      7  [0.0068961587, 0.011377829, 0.010028762, 0.011...   \n",
              "9842      1  [0.0067149163, 0.011106253, 0.009802157, 0.010...   \n",
              "\n",
              "                                             audio_trim  \\\n",
              "0     [-8.641122e-06, 1.5207445e-06, 2.6109909e-05, ...   \n",
              "1     [-7.505116e-05, -7.6106694e-06, 1.10456285e-05...   \n",
              "2     [3.145638e-05, 3.0807154e-05, 2.8492566e-05, 3...   \n",
              "3     [0.0005632056, 0.0005720459, 0.00071935874, 0....   \n",
              "4     [4.5547e-06, 2.4867417e-05, 3.363467e-05, 3.05...   \n",
              "...                                                 ...   \n",
              "9838  [0.009223618, 0.010777138, 0.009321626, 0.0099...   \n",
              "9839  [0.00936052, 0.010867924, 0.009305291, 0.00991...   \n",
              "9840  [0.0014334349, 0.001723074, 0.0015384919, 0.00...   \n",
              "9841  [0.009742705, 0.011407773, 0.009794228, 0.0103...   \n",
              "9842  [0.009512647, 0.011129991, 0.00956014, 0.01007...   \n",
              "\n",
              "                                   audio_resampled_trim  \n",
              "0     [1.2483562e-06, -5.7599677e-06, -5.556423e-05,...  \n",
              "1     [-6.369567e-05, -5.5109624e-05, -9.1423935e-05...  \n",
              "2     [2.8350094e-05, 3.3968936e-05, 2.6261334e-05, ...  \n",
              "3     [-5.444645e-07, 2.7040338e-07, 5.109465e-08, -...  \n",
              "4     [7.563162e-07, -1.1518109e-06, 1.7988081e-06, ...  \n",
              "...                                                 ...  \n",
              "9838  [0.0064895125, 0.010923046, 0.009842561, 0.010...  \n",
              "9839  [0.006569434, 0.010898799, 0.009671461, 0.0105...  \n",
              "9840  [0.0010357733, 0.0018019958, 0.0018289128, 0.0...  \n",
              "9841  [0.0068961587, 0.011377829, 0.010028762, 0.011...  \n",
              "9842  [0.0067149163, 0.011106253, 0.009802157, 0.010...  \n",
              "\n",
              "[9843 rows x 7 columns]"
            ],
            "text/html": [
              "\n",
              "  <div id=\"df-98f00b6d-f449-4b64-a507-f9bb5a8e536d\">\n",
              "    <div class=\"colab-df-container\">\n",
              "      <div>\n",
              "<style scoped>\n",
              "    .dataframe tbody tr th:only-of-type {\n",
              "        vertical-align: middle;\n",
              "    }\n",
              "\n",
              "    .dataframe tbody tr th {\n",
              "        vertical-align: top;\n",
              "    }\n",
              "\n",
              "    .dataframe thead th {\n",
              "        text-align: right;\n",
              "    }\n",
              "</style>\n",
              "<table border=\"1\" class=\"dataframe\">\n",
              "  <thead>\n",
              "    <tr style=\"text-align: right;\">\n",
              "      <th></th>\n",
              "      <th>audio</th>\n",
              "      <th>gender</th>\n",
              "      <th>ageRange</th>\n",
              "      <th>label</th>\n",
              "      <th>audio_resampled</th>\n",
              "      <th>audio_trim</th>\n",
              "      <th>audio_resampled_trim</th>\n",
              "    </tr>\n",
              "  </thead>\n",
              "  <tbody>\n",
              "    <tr>\n",
              "      <th>0</th>\n",
              "      <td>[0.0, 0.0, 0.0, 0.0, 0.0, 0.0, 0.0, 0.0, 0.0, ...</td>\n",
              "      <td>female</td>\n",
              "      <td>22-40</td>\n",
              "      <td>5</td>\n",
              "      <td>[0.0, 0.0, 0.0, 0.0, 0.0, 0.0, -5.8081645e-19,...</td>\n",
              "      <td>[-8.641122e-06, 1.5207445e-06, 2.6109909e-05, ...</td>\n",
              "      <td>[1.2483562e-06, -5.7599677e-06, -5.556423e-05,...</td>\n",
              "    </tr>\n",
              "    <tr>\n",
              "      <th>1</th>\n",
              "      <td>[0.0, 0.0, 0.0, 0.0, 0.0, 0.0, 0.0, 0.0, 0.0, ...</td>\n",
              "      <td>female</td>\n",
              "      <td>22-40</td>\n",
              "      <td>6</td>\n",
              "      <td>[0.0, 0.0, 0.0, 0.0, 0.0, 0.0, 0.0, 0.0, 0.0, ...</td>\n",
              "      <td>[-7.505116e-05, -7.6106694e-06, 1.10456285e-05...</td>\n",
              "      <td>[-6.369567e-05, -5.5109624e-05, -9.1423935e-05...</td>\n",
              "    </tr>\n",
              "    <tr>\n",
              "      <th>2</th>\n",
              "      <td>[0.0, 0.0, 0.0, 0.0, 0.0, 0.0, 0.0, 0.0, 0.0, ...</td>\n",
              "      <td>female</td>\n",
              "      <td>22-40</td>\n",
              "      <td>7</td>\n",
              "      <td>[0.0, 0.0, 0.0, 0.0, 0.0, 0.0, 2.9040822e-19, ...</td>\n",
              "      <td>[3.145638e-05, 3.0807154e-05, 2.8492566e-05, 3...</td>\n",
              "      <td>[2.8350094e-05, 3.3968936e-05, 2.6261334e-05, ...</td>\n",
              "    </tr>\n",
              "    <tr>\n",
              "      <th>3</th>\n",
              "      <td>[0.0, 0.0, 0.0, 0.0, 0.0, 0.0, 0.0, 0.0, 0.0, ...</td>\n",
              "      <td>female</td>\n",
              "      <td>22-40</td>\n",
              "      <td>1</td>\n",
              "      <td>[0.0, 0.0, 0.0, 0.0, 0.0, 0.0, 0.0, 0.0, 0.0, ...</td>\n",
              "      <td>[0.0005632056, 0.0005720459, 0.00071935874, 0....</td>\n",
              "      <td>[-5.444645e-07, 2.7040338e-07, 5.109465e-08, -...</td>\n",
              "    </tr>\n",
              "    <tr>\n",
              "      <th>4</th>\n",
              "      <td>[0.0, 0.0, 0.0, 0.0, 0.0, 0.0, 0.0, 0.0, 0.0, ...</td>\n",
              "      <td>female</td>\n",
              "      <td>22-40</td>\n",
              "      <td>1</td>\n",
              "      <td>[0.0, 0.0, 0.0, 0.0, 0.0, 0.0, -5.8081645e-19,...</td>\n",
              "      <td>[4.5547e-06, 2.4867417e-05, 3.363467e-05, 3.05...</td>\n",
              "      <td>[7.563162e-07, -1.1518109e-06, 1.7988081e-06, ...</td>\n",
              "    </tr>\n",
              "    <tr>\n",
              "      <th>...</th>\n",
              "      <td>...</td>\n",
              "      <td>...</td>\n",
              "      <td>...</td>\n",
              "      <td>...</td>\n",
              "      <td>...</td>\n",
              "      <td>...</td>\n",
              "      <td>...</td>\n",
              "    </tr>\n",
              "    <tr>\n",
              "      <th>9838</th>\n",
              "      <td>[0.009223618, 0.010777138, 0.009321626, 0.0099...</td>\n",
              "      <td>male</td>\n",
              "      <td>22-40</td>\n",
              "      <td>3</td>\n",
              "      <td>[0.0064895125, 0.010923046, 0.009842561, 0.010...</td>\n",
              "      <td>[0.009223618, 0.010777138, 0.009321626, 0.0099...</td>\n",
              "      <td>[0.0064895125, 0.010923046, 0.009842561, 0.010...</td>\n",
              "    </tr>\n",
              "    <tr>\n",
              "      <th>9839</th>\n",
              "      <td>[0.00936052, 0.010867924, 0.009305291, 0.00991...</td>\n",
              "      <td>male</td>\n",
              "      <td>22-40</td>\n",
              "      <td>7</td>\n",
              "      <td>[0.006569434, 0.010898799, 0.009671461, 0.0105...</td>\n",
              "      <td>[0.00936052, 0.010867924, 0.009305291, 0.00991...</td>\n",
              "      <td>[0.006569434, 0.010898799, 0.009671461, 0.0105...</td>\n",
              "    </tr>\n",
              "    <tr>\n",
              "      <th>9840</th>\n",
              "      <td>[0.0014334349, 0.001723074, 0.0015384919, 0.00...</td>\n",
              "      <td>male</td>\n",
              "      <td>22-40</td>\n",
              "      <td>7</td>\n",
              "      <td>[0.0010357733, 0.0018019958, 0.0018289128, 0.0...</td>\n",
              "      <td>[0.0014334349, 0.001723074, 0.0015384919, 0.00...</td>\n",
              "      <td>[0.0010357733, 0.0018019958, 0.0018289128, 0.0...</td>\n",
              "    </tr>\n",
              "    <tr>\n",
              "      <th>9841</th>\n",
              "      <td>[0.009742705, 0.011407773, 0.009794228, 0.0103...</td>\n",
              "      <td>male</td>\n",
              "      <td>22-40</td>\n",
              "      <td>7</td>\n",
              "      <td>[0.0068961587, 0.011377829, 0.010028762, 0.011...</td>\n",
              "      <td>[0.009742705, 0.011407773, 0.009794228, 0.0103...</td>\n",
              "      <td>[0.0068961587, 0.011377829, 0.010028762, 0.011...</td>\n",
              "    </tr>\n",
              "    <tr>\n",
              "      <th>9842</th>\n",
              "      <td>[0.009512647, 0.011129991, 0.00956014, 0.01007...</td>\n",
              "      <td>male</td>\n",
              "      <td>22-40</td>\n",
              "      <td>1</td>\n",
              "      <td>[0.0067149163, 0.011106253, 0.009802157, 0.010...</td>\n",
              "      <td>[0.009512647, 0.011129991, 0.00956014, 0.01007...</td>\n",
              "      <td>[0.0067149163, 0.011106253, 0.009802157, 0.010...</td>\n",
              "    </tr>\n",
              "  </tbody>\n",
              "</table>\n",
              "<p>9843 rows × 7 columns</p>\n",
              "</div>\n",
              "      <button class=\"colab-df-convert\" onclick=\"convertToInteractive('df-98f00b6d-f449-4b64-a507-f9bb5a8e536d')\"\n",
              "              title=\"Convert this dataframe to an interactive table.\"\n",
              "              style=\"display:none;\">\n",
              "        \n",
              "  <svg xmlns=\"http://www.w3.org/2000/svg\" height=\"24px\"viewBox=\"0 0 24 24\"\n",
              "       width=\"24px\">\n",
              "    <path d=\"M0 0h24v24H0V0z\" fill=\"none\"/>\n",
              "    <path d=\"M18.56 5.44l.94 2.06.94-2.06 2.06-.94-2.06-.94-.94-2.06-.94 2.06-2.06.94zm-11 1L8.5 8.5l.94-2.06 2.06-.94-2.06-.94L8.5 2.5l-.94 2.06-2.06.94zm10 10l.94 2.06.94-2.06 2.06-.94-2.06-.94-.94-2.06-.94 2.06-2.06.94z\"/><path d=\"M17.41 7.96l-1.37-1.37c-.4-.4-.92-.59-1.43-.59-.52 0-1.04.2-1.43.59L10.3 9.45l-7.72 7.72c-.78.78-.78 2.05 0 2.83L4 21.41c.39.39.9.59 1.41.59.51 0 1.02-.2 1.41-.59l7.78-7.78 2.81-2.81c.8-.78.8-2.07 0-2.86zM5.41 20L4 18.59l7.72-7.72 1.47 1.35L5.41 20z\"/>\n",
              "  </svg>\n",
              "      </button>\n",
              "      \n",
              "  <style>\n",
              "    .colab-df-container {\n",
              "      display:flex;\n",
              "      flex-wrap:wrap;\n",
              "      gap: 12px;\n",
              "    }\n",
              "\n",
              "    .colab-df-convert {\n",
              "      background-color: #E8F0FE;\n",
              "      border: none;\n",
              "      border-radius: 50%;\n",
              "      cursor: pointer;\n",
              "      display: none;\n",
              "      fill: #1967D2;\n",
              "      height: 32px;\n",
              "      padding: 0 0 0 0;\n",
              "      width: 32px;\n",
              "    }\n",
              "\n",
              "    .colab-df-convert:hover {\n",
              "      background-color: #E2EBFA;\n",
              "      box-shadow: 0px 1px 2px rgba(60, 64, 67, 0.3), 0px 1px 3px 1px rgba(60, 64, 67, 0.15);\n",
              "      fill: #174EA6;\n",
              "    }\n",
              "\n",
              "    [theme=dark] .colab-df-convert {\n",
              "      background-color: #3B4455;\n",
              "      fill: #D2E3FC;\n",
              "    }\n",
              "\n",
              "    [theme=dark] .colab-df-convert:hover {\n",
              "      background-color: #434B5C;\n",
              "      box-shadow: 0px 1px 3px 1px rgba(0, 0, 0, 0.15);\n",
              "      filter: drop-shadow(0px 1px 2px rgba(0, 0, 0, 0.3));\n",
              "      fill: #FFFFFF;\n",
              "    }\n",
              "  </style>\n",
              "\n",
              "      <script>\n",
              "        const buttonEl =\n",
              "          document.querySelector('#df-98f00b6d-f449-4b64-a507-f9bb5a8e536d button.colab-df-convert');\n",
              "        buttonEl.style.display =\n",
              "          google.colab.kernel.accessAllowed ? 'block' : 'none';\n",
              "\n",
              "        async function convertToInteractive(key) {\n",
              "          const element = document.querySelector('#df-98f00b6d-f449-4b64-a507-f9bb5a8e536d');\n",
              "          const dataTable =\n",
              "            await google.colab.kernel.invokeFunction('convertToInteractive',\n",
              "                                                     [key], {});\n",
              "          if (!dataTable) return;\n",
              "\n",
              "          const docLinkHtml = 'Like what you see? Visit the ' +\n",
              "            '<a target=\"_blank\" href=https://colab.research.google.com/notebooks/data_table.ipynb>data table notebook</a>'\n",
              "            + ' to learn more about interactive tables.';\n",
              "          element.innerHTML = '';\n",
              "          dataTable['output_type'] = 'display_data';\n",
              "          await google.colab.output.renderOutput(dataTable, element);\n",
              "          const docLink = document.createElement('div');\n",
              "          docLink.innerHTML = docLinkHtml;\n",
              "          element.appendChild(docLink);\n",
              "        }\n",
              "      </script>\n",
              "    </div>\n",
              "  </div>\n",
              "  "
            ]
          },
          "metadata": {},
          "execution_count": 51
        }
      ],
      "source": [
        "df_pd=df_pd.drop(indexes).reset_index(drop=True) #reset_index because we have a new df and if we want to iterate over it is simpler\n",
        "df_pd"
      ]
    },
    {
      "cell_type": "markdown",
      "source": [
        "#### Normalizing"
      ],
      "metadata": {
        "id": "oOqERTMlsSFW"
      },
      "id": "oOqERTMlsSFW"
    },
    {
      "cell_type": "code",
      "source": [
        "#min = minimum value for each row of the vector signal\n",
        "#max = maximum value for each row of the vector signal\n",
        "import sklearn\n",
        "\n",
        "def normalize(audio, axis=0):\n",
        "    return sklearn.preprocessing.minmax_scale(audio, axis=axis)\n",
        "\n",
        "audios_normalized = []\n",
        "audios_resampled_normalized = []\n",
        "\n",
        "for audio, audio_resampled in zip(df_pd.audio, df_pd.audio_resampled):\n",
        "    \n",
        "    normalized_audio = normalize(audio)\n",
        "    normalized_resampled_audio = normalize(audio_resampled)\n",
        "\n",
        "    audios_normalized.append(normalized_audio)\n",
        "    audios_resampled_normalized.append(normalized_resampled_audio) \n",
        "\n",
        "df_pd['audio_normalized'] = audios_normalized\n",
        "df_pd['audios_resampled_normalized'] = audios_resampled_normalized"
      ],
      "metadata": {
        "id": "u2zEtKrosWZF"
      },
      "id": "u2zEtKrosWZF",
      "execution_count": 52,
      "outputs": []
    },
    {
      "cell_type": "markdown",
      "id": "76bc519d",
      "metadata": {
        "id": "76bc519d"
      },
      "source": [
        "#### Denoising"
      ]
    },
    {
      "cell_type": "code",
      "execution_count": null,
      "id": "62bf7be1",
      "metadata": {
        "id": "62bf7be1"
      },
      "outputs": [],
      "source": [
        "# audio = df_pd.audio[7]\n",
        "# clean_audio=nr.reduce_noise(y=audio, sr=sr, n_std_thresh_stationary=1.5, stationary=True)"
      ]
    },
    {
      "cell_type": "code",
      "execution_count": null,
      "id": "7197c39f",
      "metadata": {
        "id": "7197c39f"
      },
      "outputs": [],
      "source": [
        "# ipd.Audio(audio, rate=22050)"
      ]
    },
    {
      "cell_type": "code",
      "execution_count": null,
      "id": "adcbc8f2",
      "metadata": {
        "id": "adcbc8f2"
      },
      "outputs": [],
      "source": [
        "# ipd.Audio(clean_audio, rate=22050)"
      ]
    },
    {
      "cell_type": "code",
      "execution_count": null,
      "id": "f4fd3520",
      "metadata": {
        "id": "f4fd3520"
      },
      "outputs": [],
      "source": [
        "# audios_cleaned = []\n",
        "\n",
        "# for audio in df_pd.audio_trim:\n",
        "    \n",
        "#     audio_clean = nr.reduce_noise(y=audio, sr=sr, n_std_thresh_stationary=1.5, stationary=True)\n",
        "#     audios_cleaned.append(audio_clean)\n",
        "# #new_audio_reconstructed = np.hstack(audio_reconstructed)\n",
        "# #s1 = df_pd['audio'][idx][non_silence_parts[1][0]:non_silence_parts[1][-1]]\n",
        "# # s2 = df_pd['audio'][3799][librosa.effects.split(df_pd['audio'][3799])[1][0]:librosa.effects.split(df_pd['audio'][3799])[1][-1]]\n",
        "\n",
        "# #ipd.Audio(new_audio_reconstructed, rate=22050)"
      ]
    },
    {
      "cell_type": "code",
      "execution_count": null,
      "id": "8b2c9fdb",
      "metadata": {
        "id": "8b2c9fdb"
      },
      "outputs": [],
      "source": [
        "# df_pd['audio_cleaned'] = audios_cleaned    \n",
        "# df_pd"
      ]
    },
    {
      "cell_type": "markdown",
      "id": "9161817f",
      "metadata": {
        "id": "9161817f"
      },
      "source": [
        "#### Split"
      ]
    },
    {
      "cell_type": "code",
      "execution_count": null,
      "id": "bbf708a4",
      "metadata": {
        "id": "bbf708a4"
      },
      "outputs": [],
      "source": [
        "# idx = 8136\n",
        "# s =df_pd.audio[idx]\n",
        "# ipd.Audio(df_pd['audio_cleaned'][idx], rate=22050)"
      ]
    },
    {
      "cell_type": "code",
      "execution_count": 55,
      "id": "d4d86431",
      "metadata": {
        "id": "d4d86431",
        "colab": {
          "base_uri": "https://localhost:8080/",
          "height": 1000
        },
        "outputId": "c3ce866a-d0ed-4f98-a266-168968a53bc9"
      },
      "outputs": [
        {
          "output_type": "execute_result",
          "data": {
            "text/plain": [
              "                                                  audio  gender ageRange  \\\n",
              "0     [0.0, 0.0, 0.0, 0.0, 0.0, 0.0, 0.0, 0.0, 0.0, ...  female    22-40   \n",
              "1     [0.0, 0.0, 0.0, 0.0, 0.0, 0.0, 0.0, 0.0, 0.0, ...  female    22-40   \n",
              "2     [0.0, 0.0, 0.0, 0.0, 0.0, 0.0, 0.0, 0.0, 0.0, ...  female    22-40   \n",
              "3     [0.0, 0.0, 0.0, 0.0, 0.0, 0.0, 0.0, 0.0, 0.0, ...  female    22-40   \n",
              "4     [0.0, 0.0, 0.0, 0.0, 0.0, 0.0, 0.0, 0.0, 0.0, ...  female    22-40   \n",
              "...                                                 ...     ...      ...   \n",
              "9838  [0.009223618, 0.010777138, 0.009321626, 0.0099...    male    22-40   \n",
              "9839  [0.00936052, 0.010867924, 0.009305291, 0.00991...    male    22-40   \n",
              "9840  [0.0014334349, 0.001723074, 0.0015384919, 0.00...    male    22-40   \n",
              "9841  [0.009742705, 0.011407773, 0.009794228, 0.0103...    male    22-40   \n",
              "9842  [0.009512647, 0.011129991, 0.00956014, 0.01007...    male    22-40   \n",
              "\n",
              "      label                                    audio_resampled  \\\n",
              "0         5  [0.0, 0.0, 0.0, 0.0, 0.0, 0.0, -5.8081645e-19,...   \n",
              "1         6  [0.0, 0.0, 0.0, 0.0, 0.0, 0.0, 0.0, 0.0, 0.0, ...   \n",
              "2         7  [0.0, 0.0, 0.0, 0.0, 0.0, 0.0, 2.9040822e-19, ...   \n",
              "3         1  [0.0, 0.0, 0.0, 0.0, 0.0, 0.0, 0.0, 0.0, 0.0, ...   \n",
              "4         1  [0.0, 0.0, 0.0, 0.0, 0.0, 0.0, -5.8081645e-19,...   \n",
              "...     ...                                                ...   \n",
              "9838      3  [0.0064895125, 0.010923046, 0.009842561, 0.010...   \n",
              "9839      7  [0.006569434, 0.010898799, 0.009671461, 0.0105...   \n",
              "9840      7  [0.0010357733, 0.0018019958, 0.0018289128, 0.0...   \n",
              "9841      7  [0.0068961587, 0.011377829, 0.010028762, 0.011...   \n",
              "9842      1  [0.0067149163, 0.011106253, 0.009802157, 0.010...   \n",
              "\n",
              "                                             audio_trim  \\\n",
              "0     [-8.641122e-06, 1.5207445e-06, 2.6109909e-05, ...   \n",
              "1     [-7.505116e-05, -7.6106694e-06, 1.10456285e-05...   \n",
              "2     [3.145638e-05, 3.0807154e-05, 2.8492566e-05, 3...   \n",
              "3     [0.0005632056, 0.0005720459, 0.00071935874, 0....   \n",
              "4     [4.5547e-06, 2.4867417e-05, 3.363467e-05, 3.05...   \n",
              "...                                                 ...   \n",
              "9838  [0.009223618, 0.010777138, 0.009321626, 0.0099...   \n",
              "9839  [0.00936052, 0.010867924, 0.009305291, 0.00991...   \n",
              "9840  [0.0014334349, 0.001723074, 0.0015384919, 0.00...   \n",
              "9841  [0.009742705, 0.011407773, 0.009794228, 0.0103...   \n",
              "9842  [0.009512647, 0.011129991, 0.00956014, 0.01007...   \n",
              "\n",
              "                                   audio_resampled_trim  \\\n",
              "0     [1.2483562e-06, -5.7599677e-06, -5.556423e-05,...   \n",
              "1     [-6.369567e-05, -5.5109624e-05, -9.1423935e-05...   \n",
              "2     [2.8350094e-05, 3.3968936e-05, 2.6261334e-05, ...   \n",
              "3     [-5.444645e-07, 2.7040338e-07, 5.109465e-08, -...   \n",
              "4     [7.563162e-07, -1.1518109e-06, 1.7988081e-06, ...   \n",
              "...                                                 ...   \n",
              "9838  [0.0064895125, 0.010923046, 0.009842561, 0.010...   \n",
              "9839  [0.006569434, 0.010898799, 0.009671461, 0.0105...   \n",
              "9840  [0.0010357733, 0.0018019958, 0.0018289128, 0.0...   \n",
              "9841  [0.0068961587, 0.011377829, 0.010028762, 0.011...   \n",
              "9842  [0.0067149163, 0.011106253, 0.009802157, 0.010...   \n",
              "\n",
              "                                       audio_normalized  \\\n",
              "0     [0.47986737, 0.47986737, 0.47986737, 0.4798673...   \n",
              "1     [0.4375266, 0.4375266, 0.4375266, 0.4375266, 0...   \n",
              "2     [0.48120436, 0.48120436, 0.48120436, 0.4812043...   \n",
              "3     [0.46040228, 0.46040228, 0.46040228, 0.4604022...   \n",
              "4     [0.5171524, 0.5171524, 0.5171524, 0.5171524, 0...   \n",
              "...                                                 ...   \n",
              "9838  [0.5760035, 0.5773053, 0.5760856, 0.5766269, 0...   \n",
              "9839  [0.550339, 0.5517168, 0.5502885, 0.5508479, 0....   \n",
              "9840  [0.5317964, 0.5320756, 0.53189766, 0.5320372, ...   \n",
              "9841  [0.49109438, 0.49265802, 0.49114275, 0.4916630...   \n",
              "9842  [0.57630944, 0.57754207, 0.5763456, 0.5767376,...   \n",
              "\n",
              "                            audios_resampled_normalized  \\\n",
              "0     [0.47092837, 0.47092837, 0.47092837, 0.4709283...   \n",
              "1     [0.41822255, 0.41822255, 0.41822255, 0.4182225...   \n",
              "2     [0.4811051, 0.4811051, 0.4811051, 0.4811051, 0...   \n",
              "3     [0.45742935, 0.45742935, 0.45742935, 0.4574293...   \n",
              "4     [0.5154087, 0.5154087, 0.5154087, 0.5154087, 0...   \n",
              "...                                                 ...   \n",
              "9838  [0.57217044, 0.5760762, 0.5751243, 0.5760358, ...   \n",
              "9839  [0.5436235, 0.5476586, 0.5465147, 0.5473642, 0...   \n",
              "9840  [0.5096865, 0.5104128, 0.5104383, 0.5107236, 0...   \n",
              "9841  [0.47304007, 0.47750783, 0.47616297, 0.4772473...   \n",
              "9842  [0.5685926, 0.57222253, 0.5711446, 0.5720812, ...   \n",
              "\n",
              "                                    audio_reconstructed  \\\n",
              "0     [-8.641122e-06, 1.5207445e-06, 2.6109909e-05, ...   \n",
              "1     [-7.505116e-05, -7.6106694e-06, 1.10456285e-05...   \n",
              "2     [3.145638e-05, 3.0807154e-05, 2.8492566e-05, 3...   \n",
              "3     [0.0005632056, 0.0005720459, 0.00071935874, 0....   \n",
              "4     [4.5547e-06, 2.4867417e-05, 3.363467e-05, 3.05...   \n",
              "...                                                 ...   \n",
              "9838  [0.009223618, 0.010777138, 0.009321626, 0.0099...   \n",
              "9839  [0.00936052, 0.010867924, 0.009305291, 0.00991...   \n",
              "9840  [0.0014334349, 0.001723074, 0.0015384919, 0.00...   \n",
              "9841  [0.009742705, 0.011407773, 0.009794228, 0.0103...   \n",
              "9842  [0.009512647, 0.011129991, 0.00956014, 0.01007...   \n",
              "\n",
              "                          audio_reconstructed_resampled  \n",
              "0     [1.2483562e-06, -5.7599677e-06, -5.556423e-05,...  \n",
              "1     [-6.369567e-05, -5.5109624e-05, -9.1423935e-05...  \n",
              "2     [2.8350094e-05, 3.3968936e-05, 2.6261334e-05, ...  \n",
              "3     [-5.444645e-07, 2.7040338e-07, 5.109465e-08, -...  \n",
              "4     [7.563162e-07, -1.1518109e-06, 1.7988081e-06, ...  \n",
              "...                                                 ...  \n",
              "9838  [0.0064895125, 0.010923046, 0.009842561, 0.010...  \n",
              "9839  [0.006569434, 0.010898799, 0.009671461, 0.0105...  \n",
              "9840  [0.0010357733, 0.0018019958, 0.0018289128, 0.0...  \n",
              "9841  [0.0068961587, 0.011377829, 0.010028762, 0.011...  \n",
              "9842  [0.0067149163, 0.011106253, 0.009802157, 0.010...  \n",
              "\n",
              "[9843 rows x 11 columns]"
            ],
            "text/html": [
              "\n",
              "  <div id=\"df-d4079ff3-3e66-42ae-b509-46a8fe375c15\">\n",
              "    <div class=\"colab-df-container\">\n",
              "      <div>\n",
              "<style scoped>\n",
              "    .dataframe tbody tr th:only-of-type {\n",
              "        vertical-align: middle;\n",
              "    }\n",
              "\n",
              "    .dataframe tbody tr th {\n",
              "        vertical-align: top;\n",
              "    }\n",
              "\n",
              "    .dataframe thead th {\n",
              "        text-align: right;\n",
              "    }\n",
              "</style>\n",
              "<table border=\"1\" class=\"dataframe\">\n",
              "  <thead>\n",
              "    <tr style=\"text-align: right;\">\n",
              "      <th></th>\n",
              "      <th>audio</th>\n",
              "      <th>gender</th>\n",
              "      <th>ageRange</th>\n",
              "      <th>label</th>\n",
              "      <th>audio_resampled</th>\n",
              "      <th>audio_trim</th>\n",
              "      <th>audio_resampled_trim</th>\n",
              "      <th>audio_normalized</th>\n",
              "      <th>audios_resampled_normalized</th>\n",
              "      <th>audio_reconstructed</th>\n",
              "      <th>audio_reconstructed_resampled</th>\n",
              "    </tr>\n",
              "  </thead>\n",
              "  <tbody>\n",
              "    <tr>\n",
              "      <th>0</th>\n",
              "      <td>[0.0, 0.0, 0.0, 0.0, 0.0, 0.0, 0.0, 0.0, 0.0, ...</td>\n",
              "      <td>female</td>\n",
              "      <td>22-40</td>\n",
              "      <td>5</td>\n",
              "      <td>[0.0, 0.0, 0.0, 0.0, 0.0, 0.0, -5.8081645e-19,...</td>\n",
              "      <td>[-8.641122e-06, 1.5207445e-06, 2.6109909e-05, ...</td>\n",
              "      <td>[1.2483562e-06, -5.7599677e-06, -5.556423e-05,...</td>\n",
              "      <td>[0.47986737, 0.47986737, 0.47986737, 0.4798673...</td>\n",
              "      <td>[0.47092837, 0.47092837, 0.47092837, 0.4709283...</td>\n",
              "      <td>[-8.641122e-06, 1.5207445e-06, 2.6109909e-05, ...</td>\n",
              "      <td>[1.2483562e-06, -5.7599677e-06, -5.556423e-05,...</td>\n",
              "    </tr>\n",
              "    <tr>\n",
              "      <th>1</th>\n",
              "      <td>[0.0, 0.0, 0.0, 0.0, 0.0, 0.0, 0.0, 0.0, 0.0, ...</td>\n",
              "      <td>female</td>\n",
              "      <td>22-40</td>\n",
              "      <td>6</td>\n",
              "      <td>[0.0, 0.0, 0.0, 0.0, 0.0, 0.0, 0.0, 0.0, 0.0, ...</td>\n",
              "      <td>[-7.505116e-05, -7.6106694e-06, 1.10456285e-05...</td>\n",
              "      <td>[-6.369567e-05, -5.5109624e-05, -9.1423935e-05...</td>\n",
              "      <td>[0.4375266, 0.4375266, 0.4375266, 0.4375266, 0...</td>\n",
              "      <td>[0.41822255, 0.41822255, 0.41822255, 0.4182225...</td>\n",
              "      <td>[-7.505116e-05, -7.6106694e-06, 1.10456285e-05...</td>\n",
              "      <td>[-6.369567e-05, -5.5109624e-05, -9.1423935e-05...</td>\n",
              "    </tr>\n",
              "    <tr>\n",
              "      <th>2</th>\n",
              "      <td>[0.0, 0.0, 0.0, 0.0, 0.0, 0.0, 0.0, 0.0, 0.0, ...</td>\n",
              "      <td>female</td>\n",
              "      <td>22-40</td>\n",
              "      <td>7</td>\n",
              "      <td>[0.0, 0.0, 0.0, 0.0, 0.0, 0.0, 2.9040822e-19, ...</td>\n",
              "      <td>[3.145638e-05, 3.0807154e-05, 2.8492566e-05, 3...</td>\n",
              "      <td>[2.8350094e-05, 3.3968936e-05, 2.6261334e-05, ...</td>\n",
              "      <td>[0.48120436, 0.48120436, 0.48120436, 0.4812043...</td>\n",
              "      <td>[0.4811051, 0.4811051, 0.4811051, 0.4811051, 0...</td>\n",
              "      <td>[3.145638e-05, 3.0807154e-05, 2.8492566e-05, 3...</td>\n",
              "      <td>[2.8350094e-05, 3.3968936e-05, 2.6261334e-05, ...</td>\n",
              "    </tr>\n",
              "    <tr>\n",
              "      <th>3</th>\n",
              "      <td>[0.0, 0.0, 0.0, 0.0, 0.0, 0.0, 0.0, 0.0, 0.0, ...</td>\n",
              "      <td>female</td>\n",
              "      <td>22-40</td>\n",
              "      <td>1</td>\n",
              "      <td>[0.0, 0.0, 0.0, 0.0, 0.0, 0.0, 0.0, 0.0, 0.0, ...</td>\n",
              "      <td>[0.0005632056, 0.0005720459, 0.00071935874, 0....</td>\n",
              "      <td>[-5.444645e-07, 2.7040338e-07, 5.109465e-08, -...</td>\n",
              "      <td>[0.46040228, 0.46040228, 0.46040228, 0.4604022...</td>\n",
              "      <td>[0.45742935, 0.45742935, 0.45742935, 0.4574293...</td>\n",
              "      <td>[0.0005632056, 0.0005720459, 0.00071935874, 0....</td>\n",
              "      <td>[-5.444645e-07, 2.7040338e-07, 5.109465e-08, -...</td>\n",
              "    </tr>\n",
              "    <tr>\n",
              "      <th>4</th>\n",
              "      <td>[0.0, 0.0, 0.0, 0.0, 0.0, 0.0, 0.0, 0.0, 0.0, ...</td>\n",
              "      <td>female</td>\n",
              "      <td>22-40</td>\n",
              "      <td>1</td>\n",
              "      <td>[0.0, 0.0, 0.0, 0.0, 0.0, 0.0, -5.8081645e-19,...</td>\n",
              "      <td>[4.5547e-06, 2.4867417e-05, 3.363467e-05, 3.05...</td>\n",
              "      <td>[7.563162e-07, -1.1518109e-06, 1.7988081e-06, ...</td>\n",
              "      <td>[0.5171524, 0.5171524, 0.5171524, 0.5171524, 0...</td>\n",
              "      <td>[0.5154087, 0.5154087, 0.5154087, 0.5154087, 0...</td>\n",
              "      <td>[4.5547e-06, 2.4867417e-05, 3.363467e-05, 3.05...</td>\n",
              "      <td>[7.563162e-07, -1.1518109e-06, 1.7988081e-06, ...</td>\n",
              "    </tr>\n",
              "    <tr>\n",
              "      <th>...</th>\n",
              "      <td>...</td>\n",
              "      <td>...</td>\n",
              "      <td>...</td>\n",
              "      <td>...</td>\n",
              "      <td>...</td>\n",
              "      <td>...</td>\n",
              "      <td>...</td>\n",
              "      <td>...</td>\n",
              "      <td>...</td>\n",
              "      <td>...</td>\n",
              "      <td>...</td>\n",
              "    </tr>\n",
              "    <tr>\n",
              "      <th>9838</th>\n",
              "      <td>[0.009223618, 0.010777138, 0.009321626, 0.0099...</td>\n",
              "      <td>male</td>\n",
              "      <td>22-40</td>\n",
              "      <td>3</td>\n",
              "      <td>[0.0064895125, 0.010923046, 0.009842561, 0.010...</td>\n",
              "      <td>[0.009223618, 0.010777138, 0.009321626, 0.0099...</td>\n",
              "      <td>[0.0064895125, 0.010923046, 0.009842561, 0.010...</td>\n",
              "      <td>[0.5760035, 0.5773053, 0.5760856, 0.5766269, 0...</td>\n",
              "      <td>[0.57217044, 0.5760762, 0.5751243, 0.5760358, ...</td>\n",
              "      <td>[0.009223618, 0.010777138, 0.009321626, 0.0099...</td>\n",
              "      <td>[0.0064895125, 0.010923046, 0.009842561, 0.010...</td>\n",
              "    </tr>\n",
              "    <tr>\n",
              "      <th>9839</th>\n",
              "      <td>[0.00936052, 0.010867924, 0.009305291, 0.00991...</td>\n",
              "      <td>male</td>\n",
              "      <td>22-40</td>\n",
              "      <td>7</td>\n",
              "      <td>[0.006569434, 0.010898799, 0.009671461, 0.0105...</td>\n",
              "      <td>[0.00936052, 0.010867924, 0.009305291, 0.00991...</td>\n",
              "      <td>[0.006569434, 0.010898799, 0.009671461, 0.0105...</td>\n",
              "      <td>[0.550339, 0.5517168, 0.5502885, 0.5508479, 0....</td>\n",
              "      <td>[0.5436235, 0.5476586, 0.5465147, 0.5473642, 0...</td>\n",
              "      <td>[0.00936052, 0.010867924, 0.009305291, 0.00991...</td>\n",
              "      <td>[0.006569434, 0.010898799, 0.009671461, 0.0105...</td>\n",
              "    </tr>\n",
              "    <tr>\n",
              "      <th>9840</th>\n",
              "      <td>[0.0014334349, 0.001723074, 0.0015384919, 0.00...</td>\n",
              "      <td>male</td>\n",
              "      <td>22-40</td>\n",
              "      <td>7</td>\n",
              "      <td>[0.0010357733, 0.0018019958, 0.0018289128, 0.0...</td>\n",
              "      <td>[0.0014334349, 0.001723074, 0.0015384919, 0.00...</td>\n",
              "      <td>[0.0010357733, 0.0018019958, 0.0018289128, 0.0...</td>\n",
              "      <td>[0.5317964, 0.5320756, 0.53189766, 0.5320372, ...</td>\n",
              "      <td>[0.5096865, 0.5104128, 0.5104383, 0.5107236, 0...</td>\n",
              "      <td>[0.0014334349, 0.001723074, 0.0015384919, 0.00...</td>\n",
              "      <td>[0.0010357733, 0.0018019958, 0.0018289128, 0.0...</td>\n",
              "    </tr>\n",
              "    <tr>\n",
              "      <th>9841</th>\n",
              "      <td>[0.009742705, 0.011407773, 0.009794228, 0.0103...</td>\n",
              "      <td>male</td>\n",
              "      <td>22-40</td>\n",
              "      <td>7</td>\n",
              "      <td>[0.0068961587, 0.011377829, 0.010028762, 0.011...</td>\n",
              "      <td>[0.009742705, 0.011407773, 0.009794228, 0.0103...</td>\n",
              "      <td>[0.0068961587, 0.011377829, 0.010028762, 0.011...</td>\n",
              "      <td>[0.49109438, 0.49265802, 0.49114275, 0.4916630...</td>\n",
              "      <td>[0.47304007, 0.47750783, 0.47616297, 0.4772473...</td>\n",
              "      <td>[0.009742705, 0.011407773, 0.009794228, 0.0103...</td>\n",
              "      <td>[0.0068961587, 0.011377829, 0.010028762, 0.011...</td>\n",
              "    </tr>\n",
              "    <tr>\n",
              "      <th>9842</th>\n",
              "      <td>[0.009512647, 0.011129991, 0.00956014, 0.01007...</td>\n",
              "      <td>male</td>\n",
              "      <td>22-40</td>\n",
              "      <td>1</td>\n",
              "      <td>[0.0067149163, 0.011106253, 0.009802157, 0.010...</td>\n",
              "      <td>[0.009512647, 0.011129991, 0.00956014, 0.01007...</td>\n",
              "      <td>[0.0067149163, 0.011106253, 0.009802157, 0.010...</td>\n",
              "      <td>[0.57630944, 0.57754207, 0.5763456, 0.5767376,...</td>\n",
              "      <td>[0.5685926, 0.57222253, 0.5711446, 0.5720812, ...</td>\n",
              "      <td>[0.009512647, 0.011129991, 0.00956014, 0.01007...</td>\n",
              "      <td>[0.0067149163, 0.011106253, 0.009802157, 0.010...</td>\n",
              "    </tr>\n",
              "  </tbody>\n",
              "</table>\n",
              "<p>9843 rows × 11 columns</p>\n",
              "</div>\n",
              "      <button class=\"colab-df-convert\" onclick=\"convertToInteractive('df-d4079ff3-3e66-42ae-b509-46a8fe375c15')\"\n",
              "              title=\"Convert this dataframe to an interactive table.\"\n",
              "              style=\"display:none;\">\n",
              "        \n",
              "  <svg xmlns=\"http://www.w3.org/2000/svg\" height=\"24px\"viewBox=\"0 0 24 24\"\n",
              "       width=\"24px\">\n",
              "    <path d=\"M0 0h24v24H0V0z\" fill=\"none\"/>\n",
              "    <path d=\"M18.56 5.44l.94 2.06.94-2.06 2.06-.94-2.06-.94-.94-2.06-.94 2.06-2.06.94zm-11 1L8.5 8.5l.94-2.06 2.06-.94-2.06-.94L8.5 2.5l-.94 2.06-2.06.94zm10 10l.94 2.06.94-2.06 2.06-.94-2.06-.94-.94-2.06-.94 2.06-2.06.94z\"/><path d=\"M17.41 7.96l-1.37-1.37c-.4-.4-.92-.59-1.43-.59-.52 0-1.04.2-1.43.59L10.3 9.45l-7.72 7.72c-.78.78-.78 2.05 0 2.83L4 21.41c.39.39.9.59 1.41.59.51 0 1.02-.2 1.41-.59l7.78-7.78 2.81-2.81c.8-.78.8-2.07 0-2.86zM5.41 20L4 18.59l7.72-7.72 1.47 1.35L5.41 20z\"/>\n",
              "  </svg>\n",
              "      </button>\n",
              "      \n",
              "  <style>\n",
              "    .colab-df-container {\n",
              "      display:flex;\n",
              "      flex-wrap:wrap;\n",
              "      gap: 12px;\n",
              "    }\n",
              "\n",
              "    .colab-df-convert {\n",
              "      background-color: #E8F0FE;\n",
              "      border: none;\n",
              "      border-radius: 50%;\n",
              "      cursor: pointer;\n",
              "      display: none;\n",
              "      fill: #1967D2;\n",
              "      height: 32px;\n",
              "      padding: 0 0 0 0;\n",
              "      width: 32px;\n",
              "    }\n",
              "\n",
              "    .colab-df-convert:hover {\n",
              "      background-color: #E2EBFA;\n",
              "      box-shadow: 0px 1px 2px rgba(60, 64, 67, 0.3), 0px 1px 3px 1px rgba(60, 64, 67, 0.15);\n",
              "      fill: #174EA6;\n",
              "    }\n",
              "\n",
              "    [theme=dark] .colab-df-convert {\n",
              "      background-color: #3B4455;\n",
              "      fill: #D2E3FC;\n",
              "    }\n",
              "\n",
              "    [theme=dark] .colab-df-convert:hover {\n",
              "      background-color: #434B5C;\n",
              "      box-shadow: 0px 1px 3px 1px rgba(0, 0, 0, 0.15);\n",
              "      filter: drop-shadow(0px 1px 2px rgba(0, 0, 0, 0.3));\n",
              "      fill: #FFFFFF;\n",
              "    }\n",
              "  </style>\n",
              "\n",
              "      <script>\n",
              "        const buttonEl =\n",
              "          document.querySelector('#df-d4079ff3-3e66-42ae-b509-46a8fe375c15 button.colab-df-convert');\n",
              "        buttonEl.style.display =\n",
              "          google.colab.kernel.accessAllowed ? 'block' : 'none';\n",
              "\n",
              "        async function convertToInteractive(key) {\n",
              "          const element = document.querySelector('#df-d4079ff3-3e66-42ae-b509-46a8fe375c15');\n",
              "          const dataTable =\n",
              "            await google.colab.kernel.invokeFunction('convertToInteractive',\n",
              "                                                     [key], {});\n",
              "          if (!dataTable) return;\n",
              "\n",
              "          const docLinkHtml = 'Like what you see? Visit the ' +\n",
              "            '<a target=\"_blank\" href=https://colab.research.google.com/notebooks/data_table.ipynb>data table notebook</a>'\n",
              "            + ' to learn more about interactive tables.';\n",
              "          element.innerHTML = '';\n",
              "          dataTable['output_type'] = 'display_data';\n",
              "          await google.colab.output.renderOutput(dataTable, element);\n",
              "          const docLink = document.createElement('div');\n",
              "          docLink.innerHTML = docLinkHtml;\n",
              "          element.appendChild(docLink);\n",
              "        }\n",
              "      </script>\n",
              "    </div>\n",
              "  </div>\n",
              "  "
            ]
          },
          "metadata": {},
          "execution_count": 55
        }
      ],
      "source": [
        "audios_reconstructed = []\n",
        "audios_reconstructed_resampled = []\n",
        "\n",
        "for audio, audio_resampled in zip(df_pd.audio_trim, df_pd.audio_resampled_trim):\n",
        "    \n",
        "    non_silence_parts = librosa.effects.split(audio, top_db=30)\n",
        "    non_silence_parts_resampled = librosa.effects.split(audio_resampled, top_db=30)\n",
        "\n",
        "    audio_reconstructed_parts = [] #save the non silent parts in a list that then will be merged together to obtain the reconstructed file\n",
        "    audio_reconstructed_resampled_parts = [] #save the non silent parts in a list that then will be merged together to obtain the reconstructed file\n",
        "\n",
        "    for part, part_resampled in zip(non_silence_parts, non_silence_parts_resampled):\n",
        "        audio_reconstructed_parts.append(audio[part[0]:part[-1]])\n",
        "        audio_reconstructed_resampled_parts.append(audio_resampled[part_resampled[0]:part_resampled[-1]])\n",
        "\n",
        "\n",
        "    audio_reconstructed = np.hstack(audio_reconstructed_parts)\n",
        "    audios_reconstructed.append(audio_reconstructed)\n",
        "\n",
        "    audio_reconstructed_resampled = np.hstack(audio_reconstructed_resampled_parts)\n",
        "    audios_reconstructed_resampled.append(audio_reconstructed_resampled)\n",
        "#new_audio_reconstructed = np.hstack(audio_reconstructed)\n",
        "#s1 = df_pd['audio'][idx][non_silence_parts[1][0]:non_silence_parts[1][-1]]\n",
        "# s2 = df_pd['audio'][3799][librosa.effects.split(df_pd['audio'][3799])[1][0]:librosa.effects.split(df_pd['audio'][3799])[1][-1]]\n",
        "\n",
        "#ipd.Audio(new_audio_reconstructed, rate=22050)\n",
        "df_pd['audio_reconstructed'] = audios_reconstructed    \n",
        "df_pd['audio_reconstructed_resampled'] = audios_reconstructed_resampled    \n",
        "\n",
        "df_pd"
      ]
    },
    {
      "cell_type": "code",
      "execution_count": 56,
      "id": "4c9301d1",
      "metadata": {
        "colab": {
          "base_uri": "https://localhost:8080/",
          "height": 93
        },
        "id": "4c9301d1",
        "outputId": "e4515886-d4d5-4706-9c0e-3d66ee30b7f0"
      },
      "outputs": [
        {
          "output_type": "stream",
          "name": "stdout",
          "text": [
            "40960 17920\n"
          ]
        },
        {
          "output_type": "execute_result",
          "data": {
            "text/plain": [
              "<IPython.lib.display.Audio object>"
            ],
            "text/html": [
              "\n",
              "                <audio  controls=\"controls\" >\n",
              "                    <source src=\"data:audio/wav;base64,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\" type=\"audio/wav\" />\n",
              "                    Your browser does not support the audio element.\n",
              "                </audio>\n",
              "              "
            ]
          },
          "metadata": {},
          "execution_count": 56
        }
      ],
      "source": [
        "idx = 6\n",
        "print(len(df_pd['audio_trim'][idx]), len(df_pd['audio_reconstructed'][idx]))\n",
        "ipd.Audio(df_pd['audio_reconstructed'][idx], rate=22050)"
      ]
    },
    {
      "cell_type": "code",
      "source": [
        "# librosa.display.waveshow(yf1,sr=sr, x_axis='time');"
      ],
      "metadata": {
        "id": "rcno_TVxjM-5"
      },
      "id": "rcno_TVxjM-5",
      "execution_count": 57,
      "outputs": []
    },
    {
      "cell_type": "markdown",
      "id": "946f3f83",
      "metadata": {
        "id": "946f3f83"
      },
      "source": [
        "#### Pre- emphasize"
      ]
    },
    {
      "cell_type": "code",
      "execution_count": 58,
      "id": "6267b3ea",
      "metadata": {
        "id": "6267b3ea"
      },
      "outputs": [],
      "source": [
        "# emph_audios = []\n",
        "# for i, audio in enumerate(df_pd.audio_trim):\n",
        "#     audio_emph = librosa.effects.preemphasis(audio, return_zf=False)\n",
        "#     emph_audios.append(audio_emph)\n",
        "    \n",
        "# df_pd['audio_emph'] = emph_audios    \n",
        "# df_pd"
      ]
    },
    {
      "cell_type": "markdown",
      "id": "798f84d9",
      "metadata": {
        "id": "798f84d9"
      },
      "source": [
        "### 3. Feature Extraction"
      ]
    },
    {
      "cell_type": "markdown",
      "id": "c19118c8",
      "metadata": {
        "id": "c19118c8"
      },
      "source": [
        "Apply one hot encoding to categorical features."
      ]
    },
    {
      "cell_type": "code",
      "execution_count": 59,
      "id": "79e26f9b",
      "metadata": {
        "colab": {
          "base_uri": "https://localhost:8080/",
          "height": 1000
        },
        "id": "79e26f9b",
        "outputId": "3ca3b889-e15f-4f52-f8ad-270c1a341213"
      },
      "outputs": [
        {
          "output_type": "execute_result",
          "data": {
            "text/plain": [
              "                                                  audio  label  \\\n",
              "0     [0.0, 0.0, 0.0, 0.0, 0.0, 0.0, 0.0, 0.0, 0.0, ...      5   \n",
              "1     [0.0, 0.0, 0.0, 0.0, 0.0, 0.0, 0.0, 0.0, 0.0, ...      6   \n",
              "2     [0.0, 0.0, 0.0, 0.0, 0.0, 0.0, 0.0, 0.0, 0.0, ...      7   \n",
              "3     [0.0, 0.0, 0.0, 0.0, 0.0, 0.0, 0.0, 0.0, 0.0, ...      1   \n",
              "4     [0.0, 0.0, 0.0, 0.0, 0.0, 0.0, 0.0, 0.0, 0.0, ...      1   \n",
              "...                                                 ...    ...   \n",
              "9838  [0.009223618, 0.010777138, 0.009321626, 0.0099...      3   \n",
              "9839  [0.00936052, 0.010867924, 0.009305291, 0.00991...      7   \n",
              "9840  [0.0014334349, 0.001723074, 0.0015384919, 0.00...      7   \n",
              "9841  [0.009742705, 0.011407773, 0.009794228, 0.0103...      7   \n",
              "9842  [0.009512647, 0.011129991, 0.00956014, 0.01007...      1   \n",
              "\n",
              "                                        audio_resampled  \\\n",
              "0     [0.0, 0.0, 0.0, 0.0, 0.0, 0.0, -5.8081645e-19,...   \n",
              "1     [0.0, 0.0, 0.0, 0.0, 0.0, 0.0, 0.0, 0.0, 0.0, ...   \n",
              "2     [0.0, 0.0, 0.0, 0.0, 0.0, 0.0, 2.9040822e-19, ...   \n",
              "3     [0.0, 0.0, 0.0, 0.0, 0.0, 0.0, 0.0, 0.0, 0.0, ...   \n",
              "4     [0.0, 0.0, 0.0, 0.0, 0.0, 0.0, -5.8081645e-19,...   \n",
              "...                                                 ...   \n",
              "9838  [0.0064895125, 0.010923046, 0.009842561, 0.010...   \n",
              "9839  [0.006569434, 0.010898799, 0.009671461, 0.0105...   \n",
              "9840  [0.0010357733, 0.0018019958, 0.0018289128, 0.0...   \n",
              "9841  [0.0068961587, 0.011377829, 0.010028762, 0.011...   \n",
              "9842  [0.0067149163, 0.011106253, 0.009802157, 0.010...   \n",
              "\n",
              "                                             audio_trim  \\\n",
              "0     [-8.641122e-06, 1.5207445e-06, 2.6109909e-05, ...   \n",
              "1     [-7.505116e-05, -7.6106694e-06, 1.10456285e-05...   \n",
              "2     [3.145638e-05, 3.0807154e-05, 2.8492566e-05, 3...   \n",
              "3     [0.0005632056, 0.0005720459, 0.00071935874, 0....   \n",
              "4     [4.5547e-06, 2.4867417e-05, 3.363467e-05, 3.05...   \n",
              "...                                                 ...   \n",
              "9838  [0.009223618, 0.010777138, 0.009321626, 0.0099...   \n",
              "9839  [0.00936052, 0.010867924, 0.009305291, 0.00991...   \n",
              "9840  [0.0014334349, 0.001723074, 0.0015384919, 0.00...   \n",
              "9841  [0.009742705, 0.011407773, 0.009794228, 0.0103...   \n",
              "9842  [0.009512647, 0.011129991, 0.00956014, 0.01007...   \n",
              "\n",
              "                                   audio_resampled_trim  \\\n",
              "0     [1.2483562e-06, -5.7599677e-06, -5.556423e-05,...   \n",
              "1     [-6.369567e-05, -5.5109624e-05, -9.1423935e-05...   \n",
              "2     [2.8350094e-05, 3.3968936e-05, 2.6261334e-05, ...   \n",
              "3     [-5.444645e-07, 2.7040338e-07, 5.109465e-08, -...   \n",
              "4     [7.563162e-07, -1.1518109e-06, 1.7988081e-06, ...   \n",
              "...                                                 ...   \n",
              "9838  [0.0064895125, 0.010923046, 0.009842561, 0.010...   \n",
              "9839  [0.006569434, 0.010898799, 0.009671461, 0.0105...   \n",
              "9840  [0.0010357733, 0.0018019958, 0.0018289128, 0.0...   \n",
              "9841  [0.0068961587, 0.011377829, 0.010028762, 0.011...   \n",
              "9842  [0.0067149163, 0.011106253, 0.009802157, 0.010...   \n",
              "\n",
              "                                       audio_normalized  \\\n",
              "0     [0.47986737, 0.47986737, 0.47986737, 0.4798673...   \n",
              "1     [0.4375266, 0.4375266, 0.4375266, 0.4375266, 0...   \n",
              "2     [0.48120436, 0.48120436, 0.48120436, 0.4812043...   \n",
              "3     [0.46040228, 0.46040228, 0.46040228, 0.4604022...   \n",
              "4     [0.5171524, 0.5171524, 0.5171524, 0.5171524, 0...   \n",
              "...                                                 ...   \n",
              "9838  [0.5760035, 0.5773053, 0.5760856, 0.5766269, 0...   \n",
              "9839  [0.550339, 0.5517168, 0.5502885, 0.5508479, 0....   \n",
              "9840  [0.5317964, 0.5320756, 0.53189766, 0.5320372, ...   \n",
              "9841  [0.49109438, 0.49265802, 0.49114275, 0.4916630...   \n",
              "9842  [0.57630944, 0.57754207, 0.5763456, 0.5767376,...   \n",
              "\n",
              "                            audios_resampled_normalized  \\\n",
              "0     [0.47092837, 0.47092837, 0.47092837, 0.4709283...   \n",
              "1     [0.41822255, 0.41822255, 0.41822255, 0.4182225...   \n",
              "2     [0.4811051, 0.4811051, 0.4811051, 0.4811051, 0...   \n",
              "3     [0.45742935, 0.45742935, 0.45742935, 0.4574293...   \n",
              "4     [0.5154087, 0.5154087, 0.5154087, 0.5154087, 0...   \n",
              "...                                                 ...   \n",
              "9838  [0.57217044, 0.5760762, 0.5751243, 0.5760358, ...   \n",
              "9839  [0.5436235, 0.5476586, 0.5465147, 0.5473642, 0...   \n",
              "9840  [0.5096865, 0.5104128, 0.5104383, 0.5107236, 0...   \n",
              "9841  [0.47304007, 0.47750783, 0.47616297, 0.4772473...   \n",
              "9842  [0.5685926, 0.57222253, 0.5711446, 0.5720812, ...   \n",
              "\n",
              "                                    audio_reconstructed  \\\n",
              "0     [-8.641122e-06, 1.5207445e-06, 2.6109909e-05, ...   \n",
              "1     [-7.505116e-05, -7.6106694e-06, 1.10456285e-05...   \n",
              "2     [3.145638e-05, 3.0807154e-05, 2.8492566e-05, 3...   \n",
              "3     [0.0005632056, 0.0005720459, 0.00071935874, 0....   \n",
              "4     [4.5547e-06, 2.4867417e-05, 3.363467e-05, 3.05...   \n",
              "...                                                 ...   \n",
              "9838  [0.009223618, 0.010777138, 0.009321626, 0.0099...   \n",
              "9839  [0.00936052, 0.010867924, 0.009305291, 0.00991...   \n",
              "9840  [0.0014334349, 0.001723074, 0.0015384919, 0.00...   \n",
              "9841  [0.009742705, 0.011407773, 0.009794228, 0.0103...   \n",
              "9842  [0.009512647, 0.011129991, 0.00956014, 0.01007...   \n",
              "\n",
              "                          audio_reconstructed_resampled  gender=male  \\\n",
              "0     [1.2483562e-06, -5.7599677e-06, -5.556423e-05,...            0   \n",
              "1     [-6.369567e-05, -5.5109624e-05, -9.1423935e-05...            0   \n",
              "2     [2.8350094e-05, 3.3968936e-05, 2.6261334e-05, ...            0   \n",
              "3     [-5.444645e-07, 2.7040338e-07, 5.109465e-08, -...            0   \n",
              "4     [7.563162e-07, -1.1518109e-06, 1.7988081e-06, ...            0   \n",
              "...                                                 ...          ...   \n",
              "9838  [0.0064895125, 0.010923046, 0.009842561, 0.010...            1   \n",
              "9839  [0.006569434, 0.010898799, 0.009671461, 0.0105...            1   \n",
              "9840  [0.0010357733, 0.0018019958, 0.0018289128, 0.0...            1   \n",
              "9841  [0.0068961587, 0.011377829, 0.010028762, 0.011...            1   \n",
              "9842  [0.0067149163, 0.011106253, 0.009802157, 0.010...            1   \n",
              "\n",
              "      ageRange=41-65  ageRange=65+  \n",
              "0                  0             0  \n",
              "1                  0             0  \n",
              "2                  0             0  \n",
              "3                  0             0  \n",
              "4                  0             0  \n",
              "...              ...           ...  \n",
              "9838               0             0  \n",
              "9839               0             0  \n",
              "9840               0             0  \n",
              "9841               0             0  \n",
              "9842               0             0  \n",
              "\n",
              "[9843 rows x 12 columns]"
            ],
            "text/html": [
              "\n",
              "  <div id=\"df-08a010e1-d521-404f-ba83-445015d4de4b\">\n",
              "    <div class=\"colab-df-container\">\n",
              "      <div>\n",
              "<style scoped>\n",
              "    .dataframe tbody tr th:only-of-type {\n",
              "        vertical-align: middle;\n",
              "    }\n",
              "\n",
              "    .dataframe tbody tr th {\n",
              "        vertical-align: top;\n",
              "    }\n",
              "\n",
              "    .dataframe thead th {\n",
              "        text-align: right;\n",
              "    }\n",
              "</style>\n",
              "<table border=\"1\" class=\"dataframe\">\n",
              "  <thead>\n",
              "    <tr style=\"text-align: right;\">\n",
              "      <th></th>\n",
              "      <th>audio</th>\n",
              "      <th>label</th>\n",
              "      <th>audio_resampled</th>\n",
              "      <th>audio_trim</th>\n",
              "      <th>audio_resampled_trim</th>\n",
              "      <th>audio_normalized</th>\n",
              "      <th>audios_resampled_normalized</th>\n",
              "      <th>audio_reconstructed</th>\n",
              "      <th>audio_reconstructed_resampled</th>\n",
              "      <th>gender=male</th>\n",
              "      <th>ageRange=41-65</th>\n",
              "      <th>ageRange=65+</th>\n",
              "    </tr>\n",
              "  </thead>\n",
              "  <tbody>\n",
              "    <tr>\n",
              "      <th>0</th>\n",
              "      <td>[0.0, 0.0, 0.0, 0.0, 0.0, 0.0, 0.0, 0.0, 0.0, ...</td>\n",
              "      <td>5</td>\n",
              "      <td>[0.0, 0.0, 0.0, 0.0, 0.0, 0.0, -5.8081645e-19,...</td>\n",
              "      <td>[-8.641122e-06, 1.5207445e-06, 2.6109909e-05, ...</td>\n",
              "      <td>[1.2483562e-06, -5.7599677e-06, -5.556423e-05,...</td>\n",
              "      <td>[0.47986737, 0.47986737, 0.47986737, 0.4798673...</td>\n",
              "      <td>[0.47092837, 0.47092837, 0.47092837, 0.4709283...</td>\n",
              "      <td>[-8.641122e-06, 1.5207445e-06, 2.6109909e-05, ...</td>\n",
              "      <td>[1.2483562e-06, -5.7599677e-06, -5.556423e-05,...</td>\n",
              "      <td>0</td>\n",
              "      <td>0</td>\n",
              "      <td>0</td>\n",
              "    </tr>\n",
              "    <tr>\n",
              "      <th>1</th>\n",
              "      <td>[0.0, 0.0, 0.0, 0.0, 0.0, 0.0, 0.0, 0.0, 0.0, ...</td>\n",
              "      <td>6</td>\n",
              "      <td>[0.0, 0.0, 0.0, 0.0, 0.0, 0.0, 0.0, 0.0, 0.0, ...</td>\n",
              "      <td>[-7.505116e-05, -7.6106694e-06, 1.10456285e-05...</td>\n",
              "      <td>[-6.369567e-05, -5.5109624e-05, -9.1423935e-05...</td>\n",
              "      <td>[0.4375266, 0.4375266, 0.4375266, 0.4375266, 0...</td>\n",
              "      <td>[0.41822255, 0.41822255, 0.41822255, 0.4182225...</td>\n",
              "      <td>[-7.505116e-05, -7.6106694e-06, 1.10456285e-05...</td>\n",
              "      <td>[-6.369567e-05, -5.5109624e-05, -9.1423935e-05...</td>\n",
              "      <td>0</td>\n",
              "      <td>0</td>\n",
              "      <td>0</td>\n",
              "    </tr>\n",
              "    <tr>\n",
              "      <th>2</th>\n",
              "      <td>[0.0, 0.0, 0.0, 0.0, 0.0, 0.0, 0.0, 0.0, 0.0, ...</td>\n",
              "      <td>7</td>\n",
              "      <td>[0.0, 0.0, 0.0, 0.0, 0.0, 0.0, 2.9040822e-19, ...</td>\n",
              "      <td>[3.145638e-05, 3.0807154e-05, 2.8492566e-05, 3...</td>\n",
              "      <td>[2.8350094e-05, 3.3968936e-05, 2.6261334e-05, ...</td>\n",
              "      <td>[0.48120436, 0.48120436, 0.48120436, 0.4812043...</td>\n",
              "      <td>[0.4811051, 0.4811051, 0.4811051, 0.4811051, 0...</td>\n",
              "      <td>[3.145638e-05, 3.0807154e-05, 2.8492566e-05, 3...</td>\n",
              "      <td>[2.8350094e-05, 3.3968936e-05, 2.6261334e-05, ...</td>\n",
              "      <td>0</td>\n",
              "      <td>0</td>\n",
              "      <td>0</td>\n",
              "    </tr>\n",
              "    <tr>\n",
              "      <th>3</th>\n",
              "      <td>[0.0, 0.0, 0.0, 0.0, 0.0, 0.0, 0.0, 0.0, 0.0, ...</td>\n",
              "      <td>1</td>\n",
              "      <td>[0.0, 0.0, 0.0, 0.0, 0.0, 0.0, 0.0, 0.0, 0.0, ...</td>\n",
              "      <td>[0.0005632056, 0.0005720459, 0.00071935874, 0....</td>\n",
              "      <td>[-5.444645e-07, 2.7040338e-07, 5.109465e-08, -...</td>\n",
              "      <td>[0.46040228, 0.46040228, 0.46040228, 0.4604022...</td>\n",
              "      <td>[0.45742935, 0.45742935, 0.45742935, 0.4574293...</td>\n",
              "      <td>[0.0005632056, 0.0005720459, 0.00071935874, 0....</td>\n",
              "      <td>[-5.444645e-07, 2.7040338e-07, 5.109465e-08, -...</td>\n",
              "      <td>0</td>\n",
              "      <td>0</td>\n",
              "      <td>0</td>\n",
              "    </tr>\n",
              "    <tr>\n",
              "      <th>4</th>\n",
              "      <td>[0.0, 0.0, 0.0, 0.0, 0.0, 0.0, 0.0, 0.0, 0.0, ...</td>\n",
              "      <td>1</td>\n",
              "      <td>[0.0, 0.0, 0.0, 0.0, 0.0, 0.0, -5.8081645e-19,...</td>\n",
              "      <td>[4.5547e-06, 2.4867417e-05, 3.363467e-05, 3.05...</td>\n",
              "      <td>[7.563162e-07, -1.1518109e-06, 1.7988081e-06, ...</td>\n",
              "      <td>[0.5171524, 0.5171524, 0.5171524, 0.5171524, 0...</td>\n",
              "      <td>[0.5154087, 0.5154087, 0.5154087, 0.5154087, 0...</td>\n",
              "      <td>[4.5547e-06, 2.4867417e-05, 3.363467e-05, 3.05...</td>\n",
              "      <td>[7.563162e-07, -1.1518109e-06, 1.7988081e-06, ...</td>\n",
              "      <td>0</td>\n",
              "      <td>0</td>\n",
              "      <td>0</td>\n",
              "    </tr>\n",
              "    <tr>\n",
              "      <th>...</th>\n",
              "      <td>...</td>\n",
              "      <td>...</td>\n",
              "      <td>...</td>\n",
              "      <td>...</td>\n",
              "      <td>...</td>\n",
              "      <td>...</td>\n",
              "      <td>...</td>\n",
              "      <td>...</td>\n",
              "      <td>...</td>\n",
              "      <td>...</td>\n",
              "      <td>...</td>\n",
              "      <td>...</td>\n",
              "    </tr>\n",
              "    <tr>\n",
              "      <th>9838</th>\n",
              "      <td>[0.009223618, 0.010777138, 0.009321626, 0.0099...</td>\n",
              "      <td>3</td>\n",
              "      <td>[0.0064895125, 0.010923046, 0.009842561, 0.010...</td>\n",
              "      <td>[0.009223618, 0.010777138, 0.009321626, 0.0099...</td>\n",
              "      <td>[0.0064895125, 0.010923046, 0.009842561, 0.010...</td>\n",
              "      <td>[0.5760035, 0.5773053, 0.5760856, 0.5766269, 0...</td>\n",
              "      <td>[0.57217044, 0.5760762, 0.5751243, 0.5760358, ...</td>\n",
              "      <td>[0.009223618, 0.010777138, 0.009321626, 0.0099...</td>\n",
              "      <td>[0.0064895125, 0.010923046, 0.009842561, 0.010...</td>\n",
              "      <td>1</td>\n",
              "      <td>0</td>\n",
              "      <td>0</td>\n",
              "    </tr>\n",
              "    <tr>\n",
              "      <th>9839</th>\n",
              "      <td>[0.00936052, 0.010867924, 0.009305291, 0.00991...</td>\n",
              "      <td>7</td>\n",
              "      <td>[0.006569434, 0.010898799, 0.009671461, 0.0105...</td>\n",
              "      <td>[0.00936052, 0.010867924, 0.009305291, 0.00991...</td>\n",
              "      <td>[0.006569434, 0.010898799, 0.009671461, 0.0105...</td>\n",
              "      <td>[0.550339, 0.5517168, 0.5502885, 0.5508479, 0....</td>\n",
              "      <td>[0.5436235, 0.5476586, 0.5465147, 0.5473642, 0...</td>\n",
              "      <td>[0.00936052, 0.010867924, 0.009305291, 0.00991...</td>\n",
              "      <td>[0.006569434, 0.010898799, 0.009671461, 0.0105...</td>\n",
              "      <td>1</td>\n",
              "      <td>0</td>\n",
              "      <td>0</td>\n",
              "    </tr>\n",
              "    <tr>\n",
              "      <th>9840</th>\n",
              "      <td>[0.0014334349, 0.001723074, 0.0015384919, 0.00...</td>\n",
              "      <td>7</td>\n",
              "      <td>[0.0010357733, 0.0018019958, 0.0018289128, 0.0...</td>\n",
              "      <td>[0.0014334349, 0.001723074, 0.0015384919, 0.00...</td>\n",
              "      <td>[0.0010357733, 0.0018019958, 0.0018289128, 0.0...</td>\n",
              "      <td>[0.5317964, 0.5320756, 0.53189766, 0.5320372, ...</td>\n",
              "      <td>[0.5096865, 0.5104128, 0.5104383, 0.5107236, 0...</td>\n",
              "      <td>[0.0014334349, 0.001723074, 0.0015384919, 0.00...</td>\n",
              "      <td>[0.0010357733, 0.0018019958, 0.0018289128, 0.0...</td>\n",
              "      <td>1</td>\n",
              "      <td>0</td>\n",
              "      <td>0</td>\n",
              "    </tr>\n",
              "    <tr>\n",
              "      <th>9841</th>\n",
              "      <td>[0.009742705, 0.011407773, 0.009794228, 0.0103...</td>\n",
              "      <td>7</td>\n",
              "      <td>[0.0068961587, 0.011377829, 0.010028762, 0.011...</td>\n",
              "      <td>[0.009742705, 0.011407773, 0.009794228, 0.0103...</td>\n",
              "      <td>[0.0068961587, 0.011377829, 0.010028762, 0.011...</td>\n",
              "      <td>[0.49109438, 0.49265802, 0.49114275, 0.4916630...</td>\n",
              "      <td>[0.47304007, 0.47750783, 0.47616297, 0.4772473...</td>\n",
              "      <td>[0.009742705, 0.011407773, 0.009794228, 0.0103...</td>\n",
              "      <td>[0.0068961587, 0.011377829, 0.010028762, 0.011...</td>\n",
              "      <td>1</td>\n",
              "      <td>0</td>\n",
              "      <td>0</td>\n",
              "    </tr>\n",
              "    <tr>\n",
              "      <th>9842</th>\n",
              "      <td>[0.009512647, 0.011129991, 0.00956014, 0.01007...</td>\n",
              "      <td>1</td>\n",
              "      <td>[0.0067149163, 0.011106253, 0.009802157, 0.010...</td>\n",
              "      <td>[0.009512647, 0.011129991, 0.00956014, 0.01007...</td>\n",
              "      <td>[0.0067149163, 0.011106253, 0.009802157, 0.010...</td>\n",
              "      <td>[0.57630944, 0.57754207, 0.5763456, 0.5767376,...</td>\n",
              "      <td>[0.5685926, 0.57222253, 0.5711446, 0.5720812, ...</td>\n",
              "      <td>[0.009512647, 0.011129991, 0.00956014, 0.01007...</td>\n",
              "      <td>[0.0067149163, 0.011106253, 0.009802157, 0.010...</td>\n",
              "      <td>1</td>\n",
              "      <td>0</td>\n",
              "      <td>0</td>\n",
              "    </tr>\n",
              "  </tbody>\n",
              "</table>\n",
              "<p>9843 rows × 12 columns</p>\n",
              "</div>\n",
              "      <button class=\"colab-df-convert\" onclick=\"convertToInteractive('df-08a010e1-d521-404f-ba83-445015d4de4b')\"\n",
              "              title=\"Convert this dataframe to an interactive table.\"\n",
              "              style=\"display:none;\">\n",
              "        \n",
              "  <svg xmlns=\"http://www.w3.org/2000/svg\" height=\"24px\"viewBox=\"0 0 24 24\"\n",
              "       width=\"24px\">\n",
              "    <path d=\"M0 0h24v24H0V0z\" fill=\"none\"/>\n",
              "    <path d=\"M18.56 5.44l.94 2.06.94-2.06 2.06-.94-2.06-.94-.94-2.06-.94 2.06-2.06.94zm-11 1L8.5 8.5l.94-2.06 2.06-.94-2.06-.94L8.5 2.5l-.94 2.06-2.06.94zm10 10l.94 2.06.94-2.06 2.06-.94-2.06-.94-.94-2.06-.94 2.06-2.06.94z\"/><path d=\"M17.41 7.96l-1.37-1.37c-.4-.4-.92-.59-1.43-.59-.52 0-1.04.2-1.43.59L10.3 9.45l-7.72 7.72c-.78.78-.78 2.05 0 2.83L4 21.41c.39.39.9.59 1.41.59.51 0 1.02-.2 1.41-.59l7.78-7.78 2.81-2.81c.8-.78.8-2.07 0-2.86zM5.41 20L4 18.59l7.72-7.72 1.47 1.35L5.41 20z\"/>\n",
              "  </svg>\n",
              "      </button>\n",
              "      \n",
              "  <style>\n",
              "    .colab-df-container {\n",
              "      display:flex;\n",
              "      flex-wrap:wrap;\n",
              "      gap: 12px;\n",
              "    }\n",
              "\n",
              "    .colab-df-convert {\n",
              "      background-color: #E8F0FE;\n",
              "      border: none;\n",
              "      border-radius: 50%;\n",
              "      cursor: pointer;\n",
              "      display: none;\n",
              "      fill: #1967D2;\n",
              "      height: 32px;\n",
              "      padding: 0 0 0 0;\n",
              "      width: 32px;\n",
              "    }\n",
              "\n",
              "    .colab-df-convert:hover {\n",
              "      background-color: #E2EBFA;\n",
              "      box-shadow: 0px 1px 2px rgba(60, 64, 67, 0.3), 0px 1px 3px 1px rgba(60, 64, 67, 0.15);\n",
              "      fill: #174EA6;\n",
              "    }\n",
              "\n",
              "    [theme=dark] .colab-df-convert {\n",
              "      background-color: #3B4455;\n",
              "      fill: #D2E3FC;\n",
              "    }\n",
              "\n",
              "    [theme=dark] .colab-df-convert:hover {\n",
              "      background-color: #434B5C;\n",
              "      box-shadow: 0px 1px 3px 1px rgba(0, 0, 0, 0.15);\n",
              "      filter: drop-shadow(0px 1px 2px rgba(0, 0, 0, 0.3));\n",
              "      fill: #FFFFFF;\n",
              "    }\n",
              "  </style>\n",
              "\n",
              "      <script>\n",
              "        const buttonEl =\n",
              "          document.querySelector('#df-08a010e1-d521-404f-ba83-445015d4de4b button.colab-df-convert');\n",
              "        buttonEl.style.display =\n",
              "          google.colab.kernel.accessAllowed ? 'block' : 'none';\n",
              "\n",
              "        async function convertToInteractive(key) {\n",
              "          const element = document.querySelector('#df-08a010e1-d521-404f-ba83-445015d4de4b');\n",
              "          const dataTable =\n",
              "            await google.colab.kernel.invokeFunction('convertToInteractive',\n",
              "                                                     [key], {});\n",
              "          if (!dataTable) return;\n",
              "\n",
              "          const docLinkHtml = 'Like what you see? Visit the ' +\n",
              "            '<a target=\"_blank\" href=https://colab.research.google.com/notebooks/data_table.ipynb>data table notebook</a>'\n",
              "            + ' to learn more about interactive tables.';\n",
              "          element.innerHTML = '';\n",
              "          dataTable['output_type'] = 'display_data';\n",
              "          await google.colab.output.renderOutput(dataTable, element);\n",
              "          const docLink = document.createElement('div');\n",
              "          docLink.innerHTML = docLinkHtml;\n",
              "          element.appendChild(docLink);\n",
              "        }\n",
              "      </script>\n",
              "    </div>\n",
              "  </div>\n",
              "  "
            ]
          },
          "metadata": {},
          "execution_count": 59
        }
      ],
      "source": [
        "categorical_features = ['gender', 'ageRange']\n",
        "\n",
        "dummy_columns = categorical_features\n",
        "\n",
        "for column in dummy_columns: \n",
        "    df_dummies = pd.get_dummies(df_pd[column], drop_first = True, prefix = column, prefix_sep='=') #drop_first_true to avoid multi colinearity problem\n",
        "    df_pd = pd.concat([df_pd, df_dummies], axis = 1)\n",
        "\n",
        "\n",
        "df_pd = df_pd.drop(columns=dummy_columns)\n",
        "df_pd"
      ]
    },
    {
      "cell_type": "markdown",
      "id": "1194b277",
      "metadata": {
        "id": "1194b277"
      },
      "source": [
        "#### Extracting MFCC features"
      ]
    },
    {
      "cell_type": "markdown",
      "id": "b31e6b07",
      "metadata": {
        "id": "b31e6b07"
      },
      "source": [
        "First of all every audio should have the same length in order to get final coefficients for each audio of the same length.\n",
        "\n",
        "**EDIT**: non mi serve più, perchè io sono ora interessato alla media, std, min, max, median dei coefficienti che sono sempre uguali (numero righe vecchia matrice) mentre il numero delle colonne cambia (tempo) però non è più importante quindi avere matrici tutte della stessa dimensione."
      ]
    },
    {
      "cell_type": "code",
      "execution_count": 60,
      "id": "09786d95",
      "metadata": {
        "colab": {
          "base_uri": "https://localhost:8080/"
        },
        "id": "09786d95",
        "outputId": "641afe8c-25fc-4c33-dce1-a028fcc407dc"
      },
      "outputs": [
        {
          "output_type": "stream",
          "name": "stdout",
          "text": [
            "Max length: 86016\n"
          ]
        },
        {
          "output_type": "execute_result",
          "data": {
            "text/plain": [
              "22016    305\n",
              "23040    280\n",
              "19968    278\n",
              "21504    276\n",
              "20480    271\n",
              "22528    268\n",
              "20992    251\n",
              "18944    249\n",
              "23552    248\n",
              "19456    241\n",
              "dtype: int64"
            ]
          },
          "metadata": {},
          "execution_count": 60
        }
      ],
      "source": [
        "# Find maximum length of the audio in the dataframe\n",
        "lengths = [len(audio) for audio in df_pd.audio_trim]\n",
        "# idx = 45 #check\n",
        "# lengths[idx], len(df_pd.audio.iloc[idx])\n",
        "lengths = pd.Series(lengths)\n",
        "#lengths.max() #88064\n",
        "print(f\"Max length: {lengths.max()}\")\n",
        "lengths[lengths == lengths.max()]\n",
        "lengths.value_counts()[:10]"
      ]
    },
    {
      "cell_type": "code",
      "execution_count": 61,
      "id": "8a5247fc",
      "metadata": {
        "id": "8a5247fc"
      },
      "outputs": [],
      "source": [
        "# ipd.Audio(df_pd['audio'][8136], rate=22050)"
      ]
    },
    {
      "cell_type": "code",
      "execution_count": 62,
      "id": "e1283d6c",
      "metadata": {
        "id": "e1283d6c"
      },
      "outputs": [],
      "source": [
        "# len(df_pd['audio'][8136])"
      ]
    },
    {
      "cell_type": "markdown",
      "id": "0416a780",
      "metadata": {
        "id": "0416a780"
      },
      "source": [
        "#### Padding"
      ]
    },
    {
      "cell_type": "code",
      "execution_count": 63,
      "id": "d847fd0b",
      "metadata": {
        "id": "d847fd0b"
      },
      "outputs": [],
      "source": [
        "# # # Padding shorter audio with 0 samples in order to get all audio files of the same length\n",
        "# max_length = lengths.max()\n",
        "# for i, audio in enumerate(df_pd.audio_trim):\n",
        "    \n",
        "#     df_pd.audio_trim[i] = np.pad(df_pd.audio_trim[i],(0,max_length- len(df_pd.audio_trim[i])),mode='constant', constant_values=0)"
      ]
    },
    {
      "cell_type": "code",
      "execution_count": null,
      "id": "1bda81f9",
      "metadata": {
        "colab": {
          "base_uri": "https://localhost:8080/"
        },
        "id": "1bda81f9",
        "outputId": "cf2b6649-6814-44ba-d7d5-3d8a992912b3"
      },
      "outputs": [
        {
          "output_type": "stream",
          "name": "stdout",
          "text": [
            "(20, 34)\n",
            "(20,)\n"
          ]
        }
      ],
      "source": [
        "mfcc_features = librosa.feature.mfcc(y=df_pd.audio_reconstructed[1], sr=sr)\n",
        "print(mfcc_features.shape)\n",
        "\n",
        "medians = np.median(mfcc_features, axis=1)\n",
        "print(medians.shape)\n",
        "\n",
        "means = mfcc_features.mean(axis=0)\n",
        "medians = np.median(mfcc_features, axis=1)\n",
        "stds = mfcc_features.std(axis=1)\n",
        "maxs = mfcc_features.max(axis=1)\n",
        "mins = mfcc_features.min(axis=1)\n",
        "# stds = mfcc_features.std(axis=1)\n",
        "# print(len(means), len(stds))\n",
        "# row = list(means)+list(stds)\n",
        "# print((row))\n",
        "# print(\"\")\n",
        "# print(means)\n",
        "# print(\"\")\n",
        "# print(stds)\n"
      ]
    },
    {
      "cell_type": "code",
      "source": [
        "seed = 42"
      ],
      "metadata": {
        "id": "TI1FoNE0Sef4"
      },
      "id": "TI1FoNE0Sef4",
      "execution_count": 64,
      "outputs": []
    },
    {
      "cell_type": "code",
      "execution_count": 65,
      "id": "0d2d5b03",
      "metadata": {
        "id": "0d2d5b03"
      },
      "outputs": [],
      "source": [
        "### RandomForest Classifier ###\n",
        "from sklearn.ensemble import RandomForestClassifier\n",
        "from sklearn.model_selection import GridSearchCV\n",
        "\n",
        "def randforest_classifier(input_x, input_y, cv=10, seed = seed):\n",
        "    ## Defining parameters\n",
        "    model_RF= RandomForestClassifier(random_state =seed)\n",
        "\n",
        "    parameters = {'n_estimators':[100], \n",
        "                  'criterion':['gini', 'entropy'],\n",
        "                  'max_features':['sqrt', 'log2']}\n",
        "\n",
        "    ## Building Grid Search algorithm with cross-validation and Mean Squared Error score.\n",
        "\n",
        "    grid_search_RF = GridSearchCV(estimator=model_RF,  \n",
        "                         param_grid=parameters,\n",
        "                         scoring='accuracy',\n",
        "                         cv=cv,\n",
        "                         n_jobs=-1,\n",
        "                        verbose = 15)\n",
        "\n",
        "    ## Lastly, finding the best parameters.\n",
        "\n",
        "    grid_search_RF.fit(input_x, input_y)\n",
        "    best_parameters_RF = grid_search_RF.best_params_  \n",
        "    best_score_RF = grid_search_RF.best_score_ \n",
        "    print(best_parameters_RF)\n",
        "    print(best_score_RF)\n",
        "    results = grid_search_RF.cv_results_\n",
        "    \n",
        "    return best_parameters_RF, results, best_score_RF\n",
        "\n"
      ]
    },
    {
      "cell_type": "code",
      "source": [
        "### RandomForest Classifier ###\n",
        "from sklearn.svm import SVC\n",
        "from sklearn.model_selection import GridSearchCV\n",
        "\n",
        "def svm_classifier(input_x, input_y, cv=10, seed = seed):\n",
        "    ## Defining parameters\n",
        "    model_SVM= SVC(random_state =seed)\n",
        "\n",
        "    parameters = {'kernel': ['rbf'], \n",
        "                   \"C\" : [10],\n",
        "                  \"gamma\" : ['auto']\n",
        "                  }\n",
        "\n",
        "    ## Building Grid Search algorithm with cross-validation and Mean Squared Error score.\n",
        "\n",
        "    grid_search_SVM = GridSearchCV(estimator=model_SVM,  \n",
        "                         param_grid=parameters,\n",
        "                         scoring='accuracy',\n",
        "                         cv=cv,\n",
        "                         n_jobs=-1,\n",
        "                        verbose = 15)\n",
        "\n",
        "    ## Lastly, finding the best parameters.\n",
        "\n",
        "    grid_search_SVM.fit(input_x, input_y)\n",
        "    best_parameters = grid_search_SVM.best_params_  \n",
        "    best_score = grid_search_SVM.best_score_ \n",
        "    print(best_parameters)\n",
        "    print(best_score)\n",
        "    results = grid_search_SVM.cv_results_\n",
        "    \n",
        "    return best_parameters, results, best_score\n",
        "\n"
      ],
      "metadata": {
        "id": "LsBWBPh7WFCz"
      },
      "id": "LsBWBPh7WFCz",
      "execution_count": 66,
      "outputs": []
    },
    {
      "cell_type": "code",
      "source": [
        "import warnings\n",
        "warnings.filterwarnings(\"ignore\")"
      ],
      "metadata": {
        "id": "cZG4U0Fhb_4c"
      },
      "id": "cZG4U0Fhb_4c",
      "execution_count": 67,
      "outputs": []
    },
    {
      "cell_type": "code",
      "execution_count": null,
      "id": "1d34da41",
      "metadata": {
        "id": "1d34da41"
      },
      "outputs": [],
      "source": [
        "import sklearn\n",
        "from sklearn.model_selection import train_test_split\n",
        "\n",
        "from sklearn.preprocessing import StandardScaler\n",
        "scaler = StandardScaler()\n",
        "\n",
        "\n",
        "features = []\n",
        "hop_length = 128\n",
        "frame_rate = sr*2/hop_length\n",
        "\n",
        "n_ffts = [512, 1024, 2048, 4096, 8192]\n",
        "hops = [64, 128, 256, 512, 1024, 2048, 4096]\n",
        "sample_rates = [8000, 16000, 22050, 44100]\n",
        "n_melss = [40, 60, 90, 100, 128]\n",
        "svm = True\n",
        "\n",
        "# for s_rate in sample_rates:\n",
        "#     for n_mel in n_melss:\n",
        "features = []\n",
        "for i, audio in enumerate(df_pd.audio_reconstructed):\n",
        "#n_fft = int(frame_rate*len(audio))\n",
        "#For each trim audio extract MFCC (so we will get a matrix of n_mfcc components*nc, with nc variable)\n",
        "    mfcc_features = librosa.feature.mfcc(y=df_pd.audio_normalized[i], \n",
        "                              sr=22050, \n",
        "                              n_mfcc=13,\n",
        "                              lifter = 10, \n",
        "                              n_fft=2048, \n",
        "                              hop_length=128,\n",
        "                              n_mels = 40,\n",
        "                            dct_type=2)\n",
        "#    mfcc_features = sklearn.preprocessing.scale(mfcc_features, axis=1)\n",
        "#   mel_features = librosa.feature.melspectrogram(y=df_pd.audio_trim[i], sr=sr)\n",
        "#   spectogram = librosa.power_to_db(mel_features, ref=np.max)\n",
        "\n",
        "#For each coefficient we compute the mean, median, std, max, min so we will have a total of n_mfcc*5 features for each audio\n",
        "    mfcc_means = mfcc_features.mean(axis=1)\n",
        "    mfcc_medians = np.median(mfcc_features, axis=1)\n",
        "    mfcc_stds = mfcc_features.std(axis=1)\n",
        "    mfcc_maxs = mfcc_features.max(axis=1)\n",
        "    mfcc_mins = mfcc_features.min(axis=1)\n",
        "\n",
        "    #we stack together the means, stds, medians, maxs and mins to get the final feature vector for each audio.\n",
        "    audio_features = list(mfcc_means)+list(mfcc_medians)+list(mfcc_stds)+list(mfcc_maxs)+list(mfcc_mins)\n",
        "\n",
        "    features.append(audio_features)\n",
        "    #adjust spectogram size to get nice number of columns that are easy to divide3\n",
        "    #spectogram= np.hstack((spectogram,tmp))\n",
        "\n",
        "    #spectograms.append(spectogram)\n",
        "    \n",
        "new_df = pd.DataFrame(features)\n",
        "\n",
        "\n",
        "\n",
        "\n",
        "new_df['gender=male'] = df_pd[\"gender=male\"]\n",
        "new_df['ageRange=41-65'] = df_pd[\"ageRange=41-65\"]\n",
        "new_df['ageRange=65+'] = df_pd[\"ageRange=65+\"]\n",
        "new_df['label'] = df_pd[\"label\"]\n",
        "\n",
        "y = new_df['label']\n",
        "X = new_df.drop(columns='label')\n",
        "seed = 42\n",
        "\n",
        "X_train, X_test, y_train, y_test = train_test_split(X, y, test_size=0.2, random_state=seed)\n",
        "\n",
        "if svm == True: #standardize\n",
        "  X_train_scaled = scaler.fit_transform(X_train)\n",
        "  X_test_scaled = scaler.transform(X_test)\n",
        "\n",
        "print(\"###########################################################\")\n",
        "print(\"DATASET SHAPE\")\n",
        "print(X_train.shape, X_test.shape, y_train.shape, y_test.shape)\n",
        "print(\"\")\n",
        "\n",
        "# print(f\"HYPERPARAMS: s_rate = {s_rate}, n_mel = {n_mel}\")\n",
        "# print(\"\")\n",
        "if svm == True:\n",
        "    _, _, best_score_RF = svm_classifier(X_train, y_train, 10, seed)\n",
        "else:\n",
        "  _, _, best_score_RF = randforest_classifier(X_train, y_train, 10, seed)\n",
        "print(\"\")\n",
        "print(f\"BEST RESULT: {best_score_RF}\")\n",
        "print(\"\")\n",
        "\n",
        "            "
      ]
    },
    {
      "cell_type": "markdown",
      "source": [
        "#############################################\n",
        "\n",
        "**audio**: audio\n",
        "**parameters**: sr=22050, n_mfcc=13, lifter = 10, n_fft=2048, hop_length=128, n_mels = 40, dct_type=2)\n",
        "\n",
        "**BEST RESULT**: 0.602371715317683\n",
        "\n",
        "########################################\n",
        "\n",
        "**audio**: audio_trim (20dB)\n",
        "\n",
        "**parameters**: sr=22050, n_mfcc=13, lifter = 10, n_fft=2048, hop_length=128, n_mels = 40, dct_type=2)\n",
        "\n",
        "**BEST RESULT**: 0.654578653345431\n",
        "################################################\n",
        "\n",
        "**audio**: audio_reconstructed (20dB)\n",
        "\n",
        "**parameters**: sr=22050, n_mfcc=13, lifter = 10, n_fft=2048, hop_length=128, n_mels = 40, dct_type=2)\n",
        "\n",
        "**BEST RESULT**: 0.6595881958277279\n",
        "################################################\n",
        "\n",
        "se uso 40 dB peggiora\n",
        "\n",
        "se taglio con >4 peggiora (>2 sembra funzionare bene, se riduco risultati non cambiano)\n"
      ],
      "metadata": {
        "id": "RgJpec8Pd6W0"
      },
      "id": "RgJpec8Pd6W0"
    },
    {
      "cell_type": "markdown",
      "source": [
        "**DIFFERENT DB FOR TRIM AND RECONSTRUCT**\n",
        "\n",
        "trim = 10, split = 10: BEST RESULT: 0.5884925607552396\n",
        "\n",
        "trim = 20, split = 20: BEST RESULT: 0.6595881958277279\n",
        "\n",
        "trim = 30, split = 30: BEST RESULT: 0.660883840576564\n",
        "\n",
        "trim = 40, split = 40: BEST RESULT: 0.6518729017262958\n",
        "\n",
        "trim = 30, split = 20: BEST RESULT: 0.6532126007612267\n",
        "\n",
        "trim = 20, split = 30 : BEST RESULT: 0.65 qualcosa\n",
        "\n",
        "\n",
        "\n",
        "\n",
        "\n"
      ],
      "metadata": {
        "id": "iKB8a39ElgFA"
      },
      "id": "iKB8a39ElgFA"
    },
    {
      "cell_type": "markdown",
      "source": [
        "**PREPROCESSING PIPELINE**\n",
        "\n",
        "audio -> BEST RESULT: 0.602371715317683\n",
        "\n",
        "audio -> normalized ->  BEST RESULT: 0.5940008176674049\n",
        "\n",
        "audio -> trim -> normalized -> BEST RESULT: 0.6499806437140914\n",
        "\n",
        "audio -> trim (20 dB) -> BEST RESULT: 0.654578653345431\n"
      ],
      "metadata": {
        "id": "kwdcbOYKupr9"
      },
      "id": "kwdcbOYKupr9"
    },
    {
      "cell_type": "code",
      "source": [
        "df_pd.audio_normalized"
      ],
      "metadata": {
        "id": "_g7H7mZru09f",
        "outputId": "da7a1132-3b2a-4239-fc63-945a2e0b2c76",
        "colab": {
          "base_uri": "https://localhost:8080/"
        }
      },
      "id": "_g7H7mZru09f",
      "execution_count": null,
      "outputs": [
        {
          "data": {
            "text/plain": [
              "0       [0.47986737, 0.47986737, 0.47986737, 0.4798673...\n",
              "1       [0.4375266, 0.4375266, 0.4375266, 0.4375266, 0...\n",
              "2       [0.48120436, 0.48120436, 0.48120436, 0.4812043...\n",
              "3       [0.46040228, 0.46040228, 0.46040228, 0.4604022...\n",
              "4       [0.5171524, 0.5171524, 0.5171524, 0.5171524, 0...\n",
              "                              ...                        \n",
              "9284    [0.46843585, 0.47041437, 0.46836802, 0.4691487...\n",
              "9285    [0.550339, 0.5517168, 0.5502885, 0.5508479, 0....\n",
              "9286    [0.5317964, 0.5320756, 0.53189766, 0.5320372, ...\n",
              "9287    [0.49109438, 0.49265802, 0.49114275, 0.4916630...\n",
              "9288    [0.57630944, 0.57754207, 0.5763456, 0.5767376,...\n",
              "Name: audio_normalized, Length: 9289, dtype: object"
            ]
          },
          "execution_count": 52,
          "metadata": {},
          "output_type": "execute_result"
        }
      ]
    },
    {
      "cell_type": "code",
      "execution_count": null,
      "id": "43bfa55e",
      "metadata": {
        "id": "43bfa55e"
      },
      "outputs": [],
      "source": [
        "new_df = pd.DataFrame(features)"
      ]
    },
    {
      "cell_type": "code",
      "execution_count": null,
      "id": "9ffdf1dd",
      "metadata": {
        "id": "9ffdf1dd"
      },
      "outputs": [],
      "source": [
        "#Test\n",
        "\n",
        "# index = 1\n",
        "# mfcc_features = librosa.feature.mfcc(y=df_pd.audio_trim[index], sr=sr)\n",
        "# print(mfcc_features.shape)\n",
        "\n",
        "# medians = np.median(mfcc_features, axis=1)\n",
        "# print(medians.shape)\n",
        "\n",
        "# means = mfcc_features.mean(axis=1)\n",
        "# medians = np.median(mfcc_features, axis=1)\n",
        "# stds = mfcc_features.std(axis=1)\n",
        "# maxs = mfcc_features.max(axis=1)\n",
        "# mins = mfcc_features.min(axis=1)\n",
        "# mins"
      ]
    },
    {
      "cell_type": "code",
      "execution_count": null,
      "id": "8abde365",
      "metadata": {
        "id": "8abde365"
      },
      "outputs": [],
      "source": [
        "#Add one hot encoding features and label column\n",
        "new_df['gender=male'] = df_pd[\"gender=male\"]\n",
        "new_df['ageRange=41-65'] = df_pd[\"ageRange=41-65\"]\n",
        "new_df['ageRange=65+'] = df_pd[\"ageRange=65+\"]\n",
        "new_df['label'] = df_pd[\"label\"]"
      ]
    },
    {
      "cell_type": "code",
      "execution_count": null,
      "id": "11465b74",
      "metadata": {
        "scrolled": true,
        "id": "11465b74",
        "outputId": "5770be00-cdb6-405b-fb98-27698989218b",
        "colab": {
          "base_uri": "https://localhost:8080/",
          "height": 505
        }
      },
      "outputs": [
        {
          "data": {
            "text/html": [
              "\n",
              "  <div id=\"df-a7116195-e894-4c9e-8989-0aaa57f68b8e\">\n",
              "    <div class=\"colab-df-container\">\n",
              "      <div>\n",
              "<style scoped>\n",
              "    .dataframe tbody tr th:only-of-type {\n",
              "        vertical-align: middle;\n",
              "    }\n",
              "\n",
              "    .dataframe tbody tr th {\n",
              "        vertical-align: top;\n",
              "    }\n",
              "\n",
              "    .dataframe thead th {\n",
              "        text-align: right;\n",
              "    }\n",
              "</style>\n",
              "<table border=\"1\" class=\"dataframe\">\n",
              "  <thead>\n",
              "    <tr style=\"text-align: right;\">\n",
              "      <th></th>\n",
              "      <th>0</th>\n",
              "      <th>1</th>\n",
              "      <th>2</th>\n",
              "      <th>3</th>\n",
              "      <th>4</th>\n",
              "      <th>5</th>\n",
              "      <th>6</th>\n",
              "      <th>7</th>\n",
              "      <th>8</th>\n",
              "      <th>9</th>\n",
              "      <th>...</th>\n",
              "      <th>59</th>\n",
              "      <th>60</th>\n",
              "      <th>61</th>\n",
              "      <th>62</th>\n",
              "      <th>63</th>\n",
              "      <th>64</th>\n",
              "      <th>gender=male</th>\n",
              "      <th>ageRange=41-65</th>\n",
              "      <th>ageRange=65+</th>\n",
              "      <th>label</th>\n",
              "    </tr>\n",
              "  </thead>\n",
              "  <tbody>\n",
              "    <tr>\n",
              "      <th>0</th>\n",
              "      <td>-479.996399</td>\n",
              "      <td>217.499847</td>\n",
              "      <td>-20.538099</td>\n",
              "      <td>263.664612</td>\n",
              "      <td>-51.093750</td>\n",
              "      <td>99.931747</td>\n",
              "      <td>1.436413</td>\n",
              "      <td>61.079559</td>\n",
              "      <td>12.837629</td>\n",
              "      <td>9.654279</td>\n",
              "      <td>...</td>\n",
              "      <td>-43.731686</td>\n",
              "      <td>-45.804768</td>\n",
              "      <td>-6.814366</td>\n",
              "      <td>-12.675483</td>\n",
              "      <td>-47.312912</td>\n",
              "      <td>-72.374725</td>\n",
              "      <td>0</td>\n",
              "      <td>0</td>\n",
              "      <td>0</td>\n",
              "      <td>5</td>\n",
              "    </tr>\n",
              "    <tr>\n",
              "      <th>1</th>\n",
              "      <td>-542.208618</td>\n",
              "      <td>267.617157</td>\n",
              "      <td>76.758240</td>\n",
              "      <td>185.505310</td>\n",
              "      <td>38.621922</td>\n",
              "      <td>104.125824</td>\n",
              "      <td>10.435901</td>\n",
              "      <td>51.828415</td>\n",
              "      <td>13.278375</td>\n",
              "      <td>8.177882</td>\n",
              "      <td>...</td>\n",
              "      <td>-39.744381</td>\n",
              "      <td>-44.591713</td>\n",
              "      <td>-6.628768</td>\n",
              "      <td>-8.194677</td>\n",
              "      <td>-27.637503</td>\n",
              "      <td>-56.676006</td>\n",
              "      <td>0</td>\n",
              "      <td>0</td>\n",
              "      <td>0</td>\n",
              "      <td>6</td>\n",
              "    </tr>\n",
              "    <tr>\n",
              "      <th>2</th>\n",
              "      <td>-527.595886</td>\n",
              "      <td>336.897949</td>\n",
              "      <td>27.507761</td>\n",
              "      <td>102.665627</td>\n",
              "      <td>60.873512</td>\n",
              "      <td>107.056168</td>\n",
              "      <td>-27.732937</td>\n",
              "      <td>40.999641</td>\n",
              "      <td>20.359661</td>\n",
              "      <td>10.249575</td>\n",
              "      <td>...</td>\n",
              "      <td>-39.405376</td>\n",
              "      <td>-41.010727</td>\n",
              "      <td>-7.715970</td>\n",
              "      <td>-10.242011</td>\n",
              "      <td>-38.301502</td>\n",
              "      <td>-77.951286</td>\n",
              "      <td>0</td>\n",
              "      <td>0</td>\n",
              "      <td>0</td>\n",
              "      <td>7</td>\n",
              "    </tr>\n",
              "    <tr>\n",
              "      <th>3</th>\n",
              "      <td>-679.526367</td>\n",
              "      <td>259.710297</td>\n",
              "      <td>25.093281</td>\n",
              "      <td>122.169647</td>\n",
              "      <td>48.000603</td>\n",
              "      <td>83.648552</td>\n",
              "      <td>62.031994</td>\n",
              "      <td>33.179016</td>\n",
              "      <td>27.283178</td>\n",
              "      <td>12.178352</td>\n",
              "      <td>...</td>\n",
              "      <td>-35.400181</td>\n",
              "      <td>-16.513153</td>\n",
              "      <td>-9.683759</td>\n",
              "      <td>-12.602321</td>\n",
              "      <td>-34.151348</td>\n",
              "      <td>-50.122276</td>\n",
              "      <td>0</td>\n",
              "      <td>0</td>\n",
              "      <td>0</td>\n",
              "      <td>1</td>\n",
              "    </tr>\n",
              "    <tr>\n",
              "      <th>4</th>\n",
              "      <td>-671.231140</td>\n",
              "      <td>322.982849</td>\n",
              "      <td>98.270836</td>\n",
              "      <td>56.655426</td>\n",
              "      <td>111.786118</td>\n",
              "      <td>91.976761</td>\n",
              "      <td>36.566021</td>\n",
              "      <td>33.535625</td>\n",
              "      <td>30.171782</td>\n",
              "      <td>11.549994</td>\n",
              "      <td>...</td>\n",
              "      <td>-47.152466</td>\n",
              "      <td>-4.189615</td>\n",
              "      <td>-3.090589</td>\n",
              "      <td>-9.759192</td>\n",
              "      <td>-30.889565</td>\n",
              "      <td>-51.083439</td>\n",
              "      <td>0</td>\n",
              "      <td>0</td>\n",
              "      <td>0</td>\n",
              "      <td>1</td>\n",
              "    </tr>\n",
              "    <tr>\n",
              "      <th>...</th>\n",
              "      <td>...</td>\n",
              "      <td>...</td>\n",
              "      <td>...</td>\n",
              "      <td>...</td>\n",
              "      <td>...</td>\n",
              "      <td>...</td>\n",
              "      <td>...</td>\n",
              "      <td>...</td>\n",
              "      <td>...</td>\n",
              "      <td>...</td>\n",
              "      <td>...</td>\n",
              "      <td>...</td>\n",
              "      <td>...</td>\n",
              "      <td>...</td>\n",
              "      <td>...</td>\n",
              "      <td>...</td>\n",
              "      <td>...</td>\n",
              "      <td>...</td>\n",
              "      <td>...</td>\n",
              "      <td>...</td>\n",
              "      <td>...</td>\n",
              "    </tr>\n",
              "    <tr>\n",
              "      <th>9284</th>\n",
              "      <td>-694.610840</td>\n",
              "      <td>185.269150</td>\n",
              "      <td>55.855038</td>\n",
              "      <td>164.780914</td>\n",
              "      <td>59.279888</td>\n",
              "      <td>98.483635</td>\n",
              "      <td>72.268387</td>\n",
              "      <td>52.605873</td>\n",
              "      <td>23.723709</td>\n",
              "      <td>12.778862</td>\n",
              "      <td>...</td>\n",
              "      <td>-46.447308</td>\n",
              "      <td>-66.931793</td>\n",
              "      <td>-2.460026</td>\n",
              "      <td>-9.959386</td>\n",
              "      <td>-42.903786</td>\n",
              "      <td>-74.322029</td>\n",
              "      <td>1</td>\n",
              "      <td>0</td>\n",
              "      <td>0</td>\n",
              "      <td>6</td>\n",
              "    </tr>\n",
              "    <tr>\n",
              "      <th>9285</th>\n",
              "      <td>-652.405029</td>\n",
              "      <td>195.557465</td>\n",
              "      <td>23.556953</td>\n",
              "      <td>171.908920</td>\n",
              "      <td>-6.315700</td>\n",
              "      <td>92.978806</td>\n",
              "      <td>69.708885</td>\n",
              "      <td>48.649364</td>\n",
              "      <td>25.338720</td>\n",
              "      <td>13.024603</td>\n",
              "      <td>...</td>\n",
              "      <td>-77.373337</td>\n",
              "      <td>-40.600864</td>\n",
              "      <td>-0.576387</td>\n",
              "      <td>-9.854992</td>\n",
              "      <td>-49.690331</td>\n",
              "      <td>-63.778072</td>\n",
              "      <td>1</td>\n",
              "      <td>0</td>\n",
              "      <td>0</td>\n",
              "      <td>7</td>\n",
              "    </tr>\n",
              "    <tr>\n",
              "      <th>9286</th>\n",
              "      <td>-601.853027</td>\n",
              "      <td>242.842896</td>\n",
              "      <td>0.255247</td>\n",
              "      <td>156.578873</td>\n",
              "      <td>1.169873</td>\n",
              "      <td>89.446922</td>\n",
              "      <td>61.187160</td>\n",
              "      <td>48.468876</td>\n",
              "      <td>22.237329</td>\n",
              "      <td>12.802225</td>\n",
              "      <td>...</td>\n",
              "      <td>-46.543514</td>\n",
              "      <td>-55.271980</td>\n",
              "      <td>-3.046221</td>\n",
              "      <td>-10.153413</td>\n",
              "      <td>-43.115566</td>\n",
              "      <td>-56.803898</td>\n",
              "      <td>1</td>\n",
              "      <td>0</td>\n",
              "      <td>0</td>\n",
              "      <td>7</td>\n",
              "    </tr>\n",
              "    <tr>\n",
              "      <th>9287</th>\n",
              "      <td>-694.177612</td>\n",
              "      <td>192.744370</td>\n",
              "      <td>35.619389</td>\n",
              "      <td>163.928680</td>\n",
              "      <td>21.954468</td>\n",
              "      <td>99.409203</td>\n",
              "      <td>73.936272</td>\n",
              "      <td>54.391964</td>\n",
              "      <td>29.129816</td>\n",
              "      <td>12.994871</td>\n",
              "      <td>...</td>\n",
              "      <td>-18.957838</td>\n",
              "      <td>-32.175049</td>\n",
              "      <td>-8.626752</td>\n",
              "      <td>-9.348781</td>\n",
              "      <td>-44.034111</td>\n",
              "      <td>-60.708294</td>\n",
              "      <td>1</td>\n",
              "      <td>0</td>\n",
              "      <td>0</td>\n",
              "      <td>7</td>\n",
              "    </tr>\n",
              "    <tr>\n",
              "      <th>9288</th>\n",
              "      <td>-702.732605</td>\n",
              "      <td>205.925125</td>\n",
              "      <td>38.593754</td>\n",
              "      <td>144.742386</td>\n",
              "      <td>32.099869</td>\n",
              "      <td>72.584290</td>\n",
              "      <td>92.240814</td>\n",
              "      <td>54.921036</td>\n",
              "      <td>27.919407</td>\n",
              "      <td>13.137899</td>\n",
              "      <td>...</td>\n",
              "      <td>0.721791</td>\n",
              "      <td>-33.911293</td>\n",
              "      <td>-1.484310</td>\n",
              "      <td>-10.482984</td>\n",
              "      <td>-42.206123</td>\n",
              "      <td>-58.430084</td>\n",
              "      <td>1</td>\n",
              "      <td>0</td>\n",
              "      <td>0</td>\n",
              "      <td>1</td>\n",
              "    </tr>\n",
              "  </tbody>\n",
              "</table>\n",
              "<p>9289 rows × 69 columns</p>\n",
              "</div>\n",
              "      <button class=\"colab-df-convert\" onclick=\"convertToInteractive('df-a7116195-e894-4c9e-8989-0aaa57f68b8e')\"\n",
              "              title=\"Convert this dataframe to an interactive table.\"\n",
              "              style=\"display:none;\">\n",
              "        \n",
              "  <svg xmlns=\"http://www.w3.org/2000/svg\" height=\"24px\"viewBox=\"0 0 24 24\"\n",
              "       width=\"24px\">\n",
              "    <path d=\"M0 0h24v24H0V0z\" fill=\"none\"/>\n",
              "    <path d=\"M18.56 5.44l.94 2.06.94-2.06 2.06-.94-2.06-.94-.94-2.06-.94 2.06-2.06.94zm-11 1L8.5 8.5l.94-2.06 2.06-.94-2.06-.94L8.5 2.5l-.94 2.06-2.06.94zm10 10l.94 2.06.94-2.06 2.06-.94-2.06-.94-.94-2.06-.94 2.06-2.06.94z\"/><path d=\"M17.41 7.96l-1.37-1.37c-.4-.4-.92-.59-1.43-.59-.52 0-1.04.2-1.43.59L10.3 9.45l-7.72 7.72c-.78.78-.78 2.05 0 2.83L4 21.41c.39.39.9.59 1.41.59.51 0 1.02-.2 1.41-.59l7.78-7.78 2.81-2.81c.8-.78.8-2.07 0-2.86zM5.41 20L4 18.59l7.72-7.72 1.47 1.35L5.41 20z\"/>\n",
              "  </svg>\n",
              "      </button>\n",
              "      \n",
              "  <style>\n",
              "    .colab-df-container {\n",
              "      display:flex;\n",
              "      flex-wrap:wrap;\n",
              "      gap: 12px;\n",
              "    }\n",
              "\n",
              "    .colab-df-convert {\n",
              "      background-color: #E8F0FE;\n",
              "      border: none;\n",
              "      border-radius: 50%;\n",
              "      cursor: pointer;\n",
              "      display: none;\n",
              "      fill: #1967D2;\n",
              "      height: 32px;\n",
              "      padding: 0 0 0 0;\n",
              "      width: 32px;\n",
              "    }\n",
              "\n",
              "    .colab-df-convert:hover {\n",
              "      background-color: #E2EBFA;\n",
              "      box-shadow: 0px 1px 2px rgba(60, 64, 67, 0.3), 0px 1px 3px 1px rgba(60, 64, 67, 0.15);\n",
              "      fill: #174EA6;\n",
              "    }\n",
              "\n",
              "    [theme=dark] .colab-df-convert {\n",
              "      background-color: #3B4455;\n",
              "      fill: #D2E3FC;\n",
              "    }\n",
              "\n",
              "    [theme=dark] .colab-df-convert:hover {\n",
              "      background-color: #434B5C;\n",
              "      box-shadow: 0px 1px 3px 1px rgba(0, 0, 0, 0.15);\n",
              "      filter: drop-shadow(0px 1px 2px rgba(0, 0, 0, 0.3));\n",
              "      fill: #FFFFFF;\n",
              "    }\n",
              "  </style>\n",
              "\n",
              "      <script>\n",
              "        const buttonEl =\n",
              "          document.querySelector('#df-a7116195-e894-4c9e-8989-0aaa57f68b8e button.colab-df-convert');\n",
              "        buttonEl.style.display =\n",
              "          google.colab.kernel.accessAllowed ? 'block' : 'none';\n",
              "\n",
              "        async function convertToInteractive(key) {\n",
              "          const element = document.querySelector('#df-a7116195-e894-4c9e-8989-0aaa57f68b8e');\n",
              "          const dataTable =\n",
              "            await google.colab.kernel.invokeFunction('convertToInteractive',\n",
              "                                                     [key], {});\n",
              "          if (!dataTable) return;\n",
              "\n",
              "          const docLinkHtml = 'Like what you see? Visit the ' +\n",
              "            '<a target=\"_blank\" href=https://colab.research.google.com/notebooks/data_table.ipynb>data table notebook</a>'\n",
              "            + ' to learn more about interactive tables.';\n",
              "          element.innerHTML = '';\n",
              "          dataTable['output_type'] = 'display_data';\n",
              "          await google.colab.output.renderOutput(dataTable, element);\n",
              "          const docLink = document.createElement('div');\n",
              "          docLink.innerHTML = docLinkHtml;\n",
              "          element.appendChild(docLink);\n",
              "        }\n",
              "      </script>\n",
              "    </div>\n",
              "  </div>\n",
              "  "
            ],
            "text/plain": [
              "               0           1          2           3           4           5  \\\n",
              "0    -479.996399  217.499847 -20.538099  263.664612  -51.093750   99.931747   \n",
              "1    -542.208618  267.617157  76.758240  185.505310   38.621922  104.125824   \n",
              "2    -527.595886  336.897949  27.507761  102.665627   60.873512  107.056168   \n",
              "3    -679.526367  259.710297  25.093281  122.169647   48.000603   83.648552   \n",
              "4    -671.231140  322.982849  98.270836   56.655426  111.786118   91.976761   \n",
              "...          ...         ...        ...         ...         ...         ...   \n",
              "9284 -694.610840  185.269150  55.855038  164.780914   59.279888   98.483635   \n",
              "9285 -652.405029  195.557465  23.556953  171.908920   -6.315700   92.978806   \n",
              "9286 -601.853027  242.842896   0.255247  156.578873    1.169873   89.446922   \n",
              "9287 -694.177612  192.744370  35.619389  163.928680   21.954468   99.409203   \n",
              "9288 -702.732605  205.925125  38.593754  144.742386   32.099869   72.584290   \n",
              "\n",
              "              6          7          8          9  ...         59         60  \\\n",
              "0      1.436413  61.079559  12.837629   9.654279  ... -43.731686 -45.804768   \n",
              "1     10.435901  51.828415  13.278375   8.177882  ... -39.744381 -44.591713   \n",
              "2    -27.732937  40.999641  20.359661  10.249575  ... -39.405376 -41.010727   \n",
              "3     62.031994  33.179016  27.283178  12.178352  ... -35.400181 -16.513153   \n",
              "4     36.566021  33.535625  30.171782  11.549994  ... -47.152466  -4.189615   \n",
              "...         ...        ...        ...        ...  ...        ...        ...   \n",
              "9284  72.268387  52.605873  23.723709  12.778862  ... -46.447308 -66.931793   \n",
              "9285  69.708885  48.649364  25.338720  13.024603  ... -77.373337 -40.600864   \n",
              "9286  61.187160  48.468876  22.237329  12.802225  ... -46.543514 -55.271980   \n",
              "9287  73.936272  54.391964  29.129816  12.994871  ... -18.957838 -32.175049   \n",
              "9288  92.240814  54.921036  27.919407  13.137899  ...   0.721791 -33.911293   \n",
              "\n",
              "            61         62         63         64  gender=male  ageRange=41-65  \\\n",
              "0    -6.814366 -12.675483 -47.312912 -72.374725            0               0   \n",
              "1    -6.628768  -8.194677 -27.637503 -56.676006            0               0   \n",
              "2    -7.715970 -10.242011 -38.301502 -77.951286            0               0   \n",
              "3    -9.683759 -12.602321 -34.151348 -50.122276            0               0   \n",
              "4    -3.090589  -9.759192 -30.889565 -51.083439            0               0   \n",
              "...        ...        ...        ...        ...          ...             ...   \n",
              "9284 -2.460026  -9.959386 -42.903786 -74.322029            1               0   \n",
              "9285 -0.576387  -9.854992 -49.690331 -63.778072            1               0   \n",
              "9286 -3.046221 -10.153413 -43.115566 -56.803898            1               0   \n",
              "9287 -8.626752  -9.348781 -44.034111 -60.708294            1               0   \n",
              "9288 -1.484310 -10.482984 -42.206123 -58.430084            1               0   \n",
              "\n",
              "      ageRange=65+  label  \n",
              "0                0      5  \n",
              "1                0      6  \n",
              "2                0      7  \n",
              "3                0      1  \n",
              "4                0      1  \n",
              "...            ...    ...  \n",
              "9284             0      6  \n",
              "9285             0      7  \n",
              "9286             0      7  \n",
              "9287             0      7  \n",
              "9288             0      1  \n",
              "\n",
              "[9289 rows x 69 columns]"
            ]
          },
          "execution_count": 56,
          "metadata": {},
          "output_type": "execute_result"
        }
      ],
      "source": [
        "new_df"
      ]
    },
    {
      "cell_type": "code",
      "execution_count": null,
      "id": "0d328f02",
      "metadata": {
        "id": "0d328f02"
      },
      "outputs": [],
      "source": [
        "# indexes"
      ]
    },
    {
      "cell_type": "code",
      "execution_count": null,
      "id": "a7bb2391",
      "metadata": {
        "id": "a7bb2391"
      },
      "outputs": [],
      "source": [
        "# name_file = r'/df.pickle'\n",
        "\n",
        "# with open(path_working_directory+name_file, 'rb') as f:\n",
        "#         df = pickle.load(f)\n",
        "# df_tmp = pd.DataFrame({'audio':df[1], 'gender': df_development.gender, 'ageRange': df_development.ageRange, 'label':df[3]})\n",
        "# #df_pd[9840:9845] ETICHETTATO COME FEMALE MA SECONDO ME E MALE\n",
        "# pd.DataFrame(df_tmp).iloc[23:28]"
      ]
    },
    {
      "cell_type": "code",
      "execution_count": null,
      "id": "1bd236c4",
      "metadata": {
        "id": "1bd236c4"
      },
      "outputs": [],
      "source": [
        "# df_pd.iloc[23:28]"
      ]
    },
    {
      "cell_type": "code",
      "execution_count": null,
      "id": "2d8a3906",
      "metadata": {
        "id": "2d8a3906"
      },
      "outputs": [],
      "source": [
        "# df_tmp['audio'][26]"
      ]
    },
    {
      "cell_type": "code",
      "execution_count": null,
      "id": "381daf94",
      "metadata": {
        "id": "381daf94"
      },
      "outputs": [],
      "source": [
        "# df_tmp['audio'][24] == df_pd['audio'][24]"
      ]
    },
    {
      "cell_type": "markdown",
      "id": "09490e4b",
      "metadata": {
        "id": "09490e4b"
      },
      "source": [
        "### 4. Training and Validation"
      ]
    },
    {
      "cell_type": "code",
      "execution_count": null,
      "id": "a8ae650f",
      "metadata": {
        "id": "a8ae650f"
      },
      "outputs": [],
      "source": [
        "y = new_df['label']\n",
        "X = new_df.drop(columns='label')\n",
        "seed = 42"
      ]
    },
    {
      "cell_type": "code",
      "execution_count": null,
      "id": "70098add",
      "metadata": {
        "id": "70098add",
        "outputId": "64bba0d2-301a-4193-cd4f-f3e7f4b1f4cb",
        "colab": {
          "base_uri": "https://localhost:8080/"
        }
      },
      "outputs": [
        {
          "data": {
            "text/plain": [
              "((7431, 68), (1858, 68), (7431,), (1858,))"
            ]
          },
          "execution_count": 63,
          "metadata": {},
          "output_type": "execute_result"
        }
      ],
      "source": [
        "from sklearn.model_selection import train_test_split\n",
        "X_train, X_test, y_train, y_test = train_test_split(X, y, test_size=0.2, random_state=seed)\n",
        "X_train.shape, X_test.shape, y_train.shape, y_test.shape "
      ]
    },
    {
      "cell_type": "code",
      "execution_count": null,
      "id": "68ff1ea7",
      "metadata": {
        "id": "68ff1ea7"
      },
      "outputs": [],
      "source": [
        "# ### RandomForest Classifier ###\n",
        "# from sklearn.ensemble import RandomForestClassifier\n",
        "# from sklearn.model_selection import GridSearchCV\n",
        "\n",
        "# def randforest_classifier(input_x, input_y, cv=10, seed = seed):\n",
        "#     ## Defining parameters\n",
        "#     model_RF= RandomForestClassifier(random_state =seed)\n",
        "\n",
        "#     parameters = {'n_estimators':[100], \n",
        "#                   'criterion':['gini', 'entropy'],\n",
        "#                   'max_features':['sqrt', 'log2']}\n",
        "\n",
        "#     ## Building Grid Search algorithm with cross-validation and Mean Squared Error score.\n",
        "\n",
        "#     grid_search_RF = GridSearchCV(estimator=model_RF,  \n",
        "#                          param_grid=parameters,\n",
        "#                          scoring='accuracy',\n",
        "#                          cv=cv,\n",
        "#                          n_jobs=-1,\n",
        "#                         verbose = 15)\n",
        "\n",
        "#     ## Lastly, finding the best parameters.\n",
        "\n",
        "#     grid_search_RF.fit(input_x, input_y)\n",
        "#     best_parameters_RF = grid_search_RF.best_params_  \n",
        "#     best_score_RF = grid_search_RF.best_score_ \n",
        "#     print(best_parameters_RF)\n",
        "#     print(best_score_RF)\n",
        "#     results = grid_search_RF.cv_results_\n",
        "    \n",
        "#     return best_parameters_RF, results\n",
        "\n",
        "# best_params, RF_CV_results = randforest_classifier(X_train, y_train, 10, seed)"
      ]
    },
    {
      "cell_type": "code",
      "execution_count": null,
      "id": "52699fb7",
      "metadata": {
        "id": "52699fb7"
      },
      "outputs": [],
      "source": [
        "# rf = RandomForestClassifier(n_estimators=50,criterion='entropy', max_features=\"sqrt\", random_state =seed)\n",
        "# rf.fit(X_train, y_train)"
      ]
    },
    {
      "cell_type": "code",
      "execution_count": null,
      "id": "baee5d7a",
      "metadata": {
        "id": "baee5d7a"
      },
      "outputs": [],
      "source": [
        "# feature_names = [f\"{f}\" for f in X_train.columns]\n",
        "# print(feature_names)\n",
        "# importances=rf.feature_importances_\n",
        "# forest_importances=  pd.Series(importances, index=feature_names).sort_values(ascending=False)\n",
        "# print(\"means: 0-12\")\n",
        "# print(\"medians: 13-25\")\n",
        "# print(\"stds: 26-38\")\n",
        "# print(\"max: 39-51\")\n",
        "# print(\"min: 52-64\")\n",
        "# plt.figure(figsize=(12,12))\n",
        "# forest_importances.plot.bar()\n",
        "# plt.title(\"Feature importances using MDI\")\n",
        "# plt.ylabel(\"Mean decrease in impurity\")\n"
      ]
    },
    {
      "cell_type": "markdown",
      "id": "0a478d2c",
      "metadata": {
        "id": "0a478d2c"
      },
      "source": [
        "100 alberi, mfcc_features = librosa.feature.mfcc(y=df_pd.audio_trim[i], sr=sr, n_mfcc=13, n_fft=1024): 0.5019027470507421\n",
        "\n",
        "100 alberi, mfcc_features = librosa.feature.mfcc(y=df_pd.audio_trim[i], sr=sr, n_mfcc=13, n_fft=2048, hop_length=256): 0.5107861570314567\n",
        "\n",
        "100 alberi, mfcc_features = librosa.feature.mfcc(y=df_pd.audio_trim[i], sr=sr, n_mfcc=13, n_fft=2048, hop_length=128) = 0.5144707138203936\n",
        "\n",
        "100 alberi   mfcc_features = librosa.feature.mfcc(y=df_pd.audio_emph[i], sr=sr, n_mfcc=13, n_fft=4096, hop_length=128) = 0.5152318126406905\n",
        "\n",
        "100 alberi mfcc_features = librosa.feature.mfcc(y=df_pd.audio_trim[i], sr=sr, n_mfcc=13, n_fft=4096, hop_length=128): 0.520815407736118\n",
        "\n",
        "100 alberi, mfcc_features = librosa.feature.mfcc(y=df_pd.audio_trim[i], sr=sr, n_mfcc=13, n_fft=4096, hop_length=128, n_mels = 90): 0.523992189062107\n",
        "\n",
        "100 alberi, mfcc_features = librosa.feature.mfcc(y=df_pd.audio_reconstructed[i], sr=sr, n_mfcc=13, n_fft=4096, hop_length=128, n_mels = 90): 0.5242471249169564\n",
        "\n",
        "100 alberi,   mfcc_features = librosa.feature.mfcc(y=df_pd.audio_reconstructed[i], sr=sr*2, n_mfcc=13, n_fft=4096, hop_length=128, n_mels = 90): 0.5308446584407794\n",
        "\n",
        "200 alberi, mfcc_features = librosa.feature.mfcc(y=df_pd.audio_reconstructed[i], sr=sr*2, n_mfcc=13, lifter = 10, n_fft=4096, hop_length=128, n_mels = 90): 0.538330839337199\n",
        "\n",
        "100, mfcc_features = librosa.feature.mfcc(y=df_pd.audio_reconstructed[i], sr=sr*2, n_mfcc=13, lifter = 10, n_fft=4096, hop_length=128, n_mels = 90, dct_type=1) = 0.5279249092163907\n",
        "\n",
        "100, mfcc_features = librosa.feature.mfcc(y=df_pd.audio_reconstructed[i],  sr=sr*2, n_mfcc=13,lifter = 10,  n_fft=4096, hop_length=128, n_mels = 90, dct_type=3): 0.5046902714800793\n",
        "\n",
        "**BEST**: 100 alberi,  tagliando trim audios > 1 sec mfcc_features = librosa.feature.mfcc(y=df_pd.audio_reconstructed[i], sr=sr*2, n_mfcc=13, lifter = 10, n_fft=4096, hop_length=64, n_mels = 90, dct_type=2): **0.5398856887280141**\n",
        "\n",
        "100 alberi,  tagliando trim audios > 2 sec mfcc_features = librosa.feature.mfcc(y=df_pd.audio_reconstructed[i], sr=sr*2, n_mfcc=13, lifter = 10, n_fft=4096, hop_length=64, n_mels = 90, dct_type=2): **0.5274044795783926**\n",
        "\n",
        "\n",
        "\n",
        "\n",
        "\n",
        "\n"
      ]
    },
    {
      "cell_type": "code",
      "execution_count": null,
      "id": "a08f5e61",
      "metadata": {
        "id": "a08f5e61"
      },
      "outputs": [],
      "source": [
        "# new_df"
      ]
    },
    {
      "cell_type": "code",
      "execution_count": null,
      "id": "18c06666",
      "metadata": {
        "id": "18c06666"
      },
      "outputs": [],
      "source": [
        "# new_df['ageRange=41-65']"
      ]
    },
    {
      "cell_type": "code",
      "execution_count": null,
      "id": "1ac718f7",
      "metadata": {
        "id": "1ac718f7"
      },
      "outputs": [],
      "source": []
    },
    {
      "cell_type": "code",
      "execution_count": null,
      "id": "41f80f78",
      "metadata": {
        "id": "41f80f78"
      },
      "outputs": [],
      "source": []
    },
    {
      "cell_type": "code",
      "execution_count": null,
      "id": "b3c1c112",
      "metadata": {
        "id": "b3c1c112"
      },
      "outputs": [],
      "source": []
    },
    {
      "cell_type": "code",
      "execution_count": null,
      "id": "861f1648",
      "metadata": {
        "id": "861f1648"
      },
      "outputs": [],
      "source": []
    },
    {
      "cell_type": "code",
      "execution_count": null,
      "id": "8d060a8d",
      "metadata": {
        "id": "8d060a8d"
      },
      "outputs": [],
      "source": []
    },
    {
      "cell_type": "code",
      "execution_count": null,
      "id": "0ccedf4a",
      "metadata": {
        "scrolled": true,
        "id": "0ccedf4a"
      },
      "outputs": [],
      "source": [
        "# df_pd['label'][7167]"
      ]
    },
    {
      "cell_type": "markdown",
      "id": "6309293a",
      "metadata": {
        "id": "6309293a"
      },
      "source": [
        "We noticed that some audios (ex. index = 7167) are kept because there noise (no silence) and trim is not able to erase it away, so now we apply noise reduction."
      ]
    },
    {
      "cell_type": "markdown",
      "id": "0c7ed4fb",
      "metadata": {
        "id": "0c7ed4fb"
      },
      "source": [
        "Let's listent the audio."
      ]
    },
    {
      "cell_type": "code",
      "execution_count": null,
      "id": "b3a19f74",
      "metadata": {
        "id": "b3a19f74"
      },
      "outputs": [],
      "source": [
        "# # 7167 : rumore finale che non toglie\n",
        "# index = 7167\n",
        "# s1 = df_pd['audio'][index]\n",
        "# ipd.Audio(df_pd['audio'][index], rate=22050)\n",
        "# plt.figure()\n",
        "# plt.plot(s1)"
      ]
    },
    {
      "cell_type": "code",
      "execution_count": null,
      "id": "2704bbeb",
      "metadata": {
        "id": "2704bbeb"
      },
      "outputs": [],
      "source": [
        "# # Original audio\n",
        "# ipd.Audio(s1, rate=22050)"
      ]
    },
    {
      "cell_type": "code",
      "execution_count": null,
      "id": "83bd7832",
      "metadata": {
        "id": "83bd7832"
      },
      "outputs": [],
      "source": [
        "# # Trim audio\n",
        "# s1_trim = librosa.effects.trim(s1, top_db=20)[0]\n",
        "# ipd.Audio(s1_trim, rate=22050)"
      ]
    },
    {
      "cell_type": "markdown",
      "id": "82101d2b",
      "metadata": {
        "id": "82101d2b"
      },
      "source": [
        "It says \"decrease the volume\" (label 3), we now take another audio saying the same without noise to compare them."
      ]
    },
    {
      "cell_type": "code",
      "execution_count": null,
      "id": "9b138f60",
      "metadata": {
        "id": "9b138f60"
      },
      "outputs": [],
      "source": [
        "# # Retrieve all the rows having label = 3 and then the corresponding indexes\n",
        "# df_label3 = df_pd[df_pd['label']==3]\n",
        "# indexes_label3 = list(df_label3.index)\n",
        "# indexes_label3"
      ]
    },
    {
      "cell_type": "code",
      "execution_count": null,
      "id": "e04d0f06",
      "metadata": {
        "id": "e04d0f06"
      },
      "outputs": [],
      "source": [
        "# index = 691 #this audio seems clearer\n",
        "# s2 = df_pd['audio'][index]\n",
        "\n",
        "# ipd.Audio(s2, rate=22050)\n",
        "# plt.figure()\n",
        "# plt.plot(s2)"
      ]
    },
    {
      "cell_type": "code",
      "execution_count": null,
      "id": "07f49bf0",
      "metadata": {
        "id": "07f49bf0"
      },
      "outputs": [],
      "source": [
        "# ipd.Audio(s2, rate=22050)"
      ]
    },
    {
      "cell_type": "code",
      "execution_count": null,
      "id": "3da8eb23",
      "metadata": {
        "id": "3da8eb23"
      },
      "outputs": [],
      "source": [
        "# s2_trim = librosa.effects.trim(s2, top_db=20)[0]\n",
        "# ipd.Audio(s2_trim, rate=22050)"
      ]
    },
    {
      "cell_type": "markdown",
      "id": "bd91652c",
      "metadata": {
        "id": "bd91652c"
      },
      "source": [
        "Let's plot the spectograms"
      ]
    },
    {
      "cell_type": "code",
      "execution_count": null,
      "id": "ac18ed48",
      "metadata": {
        "id": "ac18ed48"
      },
      "outputs": [],
      "source": [
        "# S1 = librosa.feature.melspectrogram(y=s1, sr=sr, n_mels=128)\n",
        "# D1 = librosa.power_to_db(S1, ref=np.max)\n",
        "# librosa.display.specshow(D1, x_axis='time', y_axis='mel');"
      ]
    },
    {
      "cell_type": "code",
      "execution_count": null,
      "id": "0cd67b2b",
      "metadata": {
        "id": "0cd67b2b"
      },
      "outputs": [],
      "source": [
        "# S2 = librosa.feature.melspectrogram(y=s2, sr=sr, n_mels=128)\n",
        "# D2 = librosa.power_to_db(S2, ref=np.max)\n",
        "# librosa.display.specshow(D2, x_axis='time', y_axis='mel');"
      ]
    },
    {
      "cell_type": "code",
      "execution_count": null,
      "id": "4c9dd3c5",
      "metadata": {
        "id": "4c9dd3c5"
      },
      "outputs": [],
      "source": [
        "# from scipy import signal\n",
        "# import random\n",
        "\n",
        "\n",
        "# def f_high(y,sr):\n",
        "#     b,a = signal.butter(10, 2000/(sr/2), btype='highpass')\n",
        "#     yf = signal.lfilter(b,a,y)\n",
        "#     return yf"
      ]
    },
    {
      "cell_type": "code",
      "execution_count": null,
      "id": "7a7ccb8c",
      "metadata": {
        "id": "7a7ccb8c"
      },
      "outputs": [],
      "source": [
        "# yf1 = f_high(s1, sr)\n",
        "# yf2 = f_high(s2, sr)"
      ]
    },
    {
      "cell_type": "code",
      "execution_count": null,
      "id": "c6cb29da",
      "metadata": {
        "id": "c6cb29da"
      },
      "outputs": [],
      "source": [
        "# librosa.display.waveshow(s1,sr=sr, x_axis='time');\n",
        "# librosa.display.waveshow(yf1,sr=sr, x_axis='time');"
      ]
    },
    {
      "cell_type": "code",
      "execution_count": null,
      "id": "6cc38b06",
      "metadata": {
        "id": "6cc38b06"
      },
      "outputs": [],
      "source": [
        "# S1_new = librosa.feature.melspectrogram(y=yf1, sr=sr, n_mels=128)\n",
        "# D1 = librosa.power_to_db(S1_new, ref=np.max)\n",
        "# librosa.display.specshow(D1, x_axis='time', y_axis='mel');"
      ]
    },
    {
      "cell_type": "code",
      "execution_count": null,
      "id": "2c1ca772",
      "metadata": {
        "id": "2c1ca772"
      },
      "outputs": [],
      "source": [
        "# # Dp1 = librosa.pcen(S1 * (2**31), sr=sr, gain=1.1, hop_length=512, bias=2, power=0.5, time_constant=0.8, eps=1e-06, max_size=2)\n",
        "# # Dp2 = librosa.pcen(S2 * (2**31), sr=sr, gain=1.1, hop_length=512, bias=2, power=0.5, time_constant=0.8, eps=1e-06, max_size=2)\n",
        "\n",
        "# Dp1 = librosa.pcen(S1 * (2**31), sr=sr)\n",
        "# Dp2 = librosa.pcen(S2 * (2**31), sr=sr)"
      ]
    },
    {
      "cell_type": "code",
      "execution_count": null,
      "id": "210a90ab",
      "metadata": {
        "id": "210a90ab"
      },
      "outputs": [],
      "source": [
        "# librosa.display.specshow(Dp1, x_axis='time', y_axis='mel');"
      ]
    },
    {
      "cell_type": "code",
      "execution_count": null,
      "id": "4f55b464",
      "metadata": {
        "id": "4f55b464"
      },
      "outputs": [],
      "source": [
        "# librosa.display.specshow(Dp2, x_axis='time', y_axis='mel');"
      ]
    },
    {
      "cell_type": "code",
      "execution_count": null,
      "id": "408b26c8",
      "metadata": {
        "id": "408b26c8"
      },
      "outputs": [],
      "source": [
        "# yp1 = librosa.feature.inverse.mel_to_audio(Dp1)\n",
        "# yp2 = librosa.feature.inverse.mel_to_audio(Dp2)"
      ]
    },
    {
      "cell_type": "code",
      "execution_count": null,
      "id": "784f23e2",
      "metadata": {
        "id": "784f23e2"
      },
      "outputs": [],
      "source": [
        "# librosa.display.waveshow(yp1,sr=sr, x_axis='time');\n",
        "# librosa.display.waveshow(s1,sr=sr, x_axis='time');"
      ]
    },
    {
      "cell_type": "code",
      "execution_count": null,
      "id": "c0bee722",
      "metadata": {
        "id": "c0bee722"
      },
      "outputs": [],
      "source": [
        "# librosa.display.waveshow(yp2,sr=sr, x_axis='time');\n",
        "# librosa.display.waveshow(s2,sr=sr, x_axis='time');"
      ]
    },
    {
      "cell_type": "code",
      "execution_count": null,
      "id": "765e1609",
      "metadata": {
        "id": "765e1609"
      },
      "outputs": [],
      "source": [
        "# ipd.Audio(yp1, rate=22050)\n"
      ]
    },
    {
      "cell_type": "code",
      "execution_count": null,
      "id": "b4c21709",
      "metadata": {
        "id": "b4c21709"
      },
      "outputs": [],
      "source": [
        "# ipd.Audio(yp2, rate=22050)"
      ]
    },
    {
      "cell_type": "code",
      "execution_count": null,
      "id": "9c1b73da",
      "metadata": {
        "id": "9c1b73da"
      },
      "outputs": [],
      "source": [
        "# import time\n",
        "# from datetime import timedelta as td\n",
        "\n",
        "\n",
        "# def _stft(y, n_fft, hop_length, win_length):\n",
        "#     return librosa.stft(y=y, n_fft=n_fft, hop_length=hop_length, win_length=win_length)\n",
        "\n",
        "\n",
        "# def _istft(y, hop_length, win_length):\n",
        "#     return librosa.istft(y, hop_length, win_length)\n",
        "\n",
        "\n",
        "# def _amp_to_db(x):\n",
        "#     return librosa.core.amplitude_to_db(x, ref=1.0, amin=1e-20, top_db=80.0)\n",
        "\n",
        "\n",
        "# def _db_to_amp(x,):\n",
        "#     return librosa.core.db_to_amplitude(x, ref=1.0)\n",
        "\n",
        "\n",
        "# def plot_spectrogram(signal, title):\n",
        "#     fig, ax = plt.subplots(figsize=(20, 4))\n",
        "#     cax = ax.matshow(\n",
        "#         signal,\n",
        "#         origin=\"lower\",\n",
        "#         aspect=\"auto\",\n",
        "#         cmap=plt.cm.seismic,\n",
        "#         vmin=-1 * np.max(np.abs(signal)),\n",
        "#         vmax=np.max(np.abs(signal)),\n",
        "#     )\n",
        "#     fig.colorbar(cax)\n",
        "#     ax.set_title(title)\n",
        "#     plt.tight_layout()\n",
        "#     plt.show()\n",
        "\n",
        "\n",
        "# def plot_statistics_and_filter(\n",
        "#     mean_freq_noise, std_freq_noise, noise_thresh, smoothing_filter\n",
        "# ):\n",
        "#     fig, ax = plt.subplots(ncols=2, figsize=(20, 4))\n",
        "#     plt_mean, = ax[0].plot(mean_freq_noise, label=\"Mean power of noise\")\n",
        "#     plt_std, = ax[0].plot(std_freq_noise, label=\"Std. power of noise\")\n",
        "#     plt_std, = ax[0].plot(noise_thresh, label=\"Noise threshold (by frequency)\")\n",
        "#     ax[0].set_title(\"Threshold for mask\")\n",
        "#     ax[0].legend()\n",
        "#     cax = ax[1].matshow(smoothing_filter, origin=\"lower\")\n",
        "#     fig.colorbar(cax)\n",
        "#     ax[1].set_title(\"Filter for smoothing Mask\")\n",
        "#     plt.show()\n",
        "\n",
        "# def removeNoise(\n",
        "#     audio_clip,\n",
        "#     noise_clip,\n",
        "#     n_grad_freq=2,\n",
        "#     n_grad_time=4,\n",
        "#     n_fft=2048,\n",
        "#     win_length=2048,\n",
        "#     hop_length=512,\n",
        "#     n_std_thresh=1.5,\n",
        "#     prop_decrease=1.0,\n",
        "#     verbose=False,\n",
        "#     visual=False,\n",
        "# ):\n",
        "#     \"\"\"Remove noise from audio based upon a clip containing only noise\n",
        "\n",
        "#     Args:\n",
        "#         audio_clip (array): The first parameter.\n",
        "#         noise_clip (array): The second parameter.\n",
        "#         n_grad_freq (int): how many frequency channels to smooth over with the mask.\n",
        "#         n_grad_time (int): how many time channels to smooth over with the mask.\n",
        "#         n_fft (int): number audio of frames between STFT columns.\n",
        "#         win_length (int): Each frame of audio is windowed by `window()`. The window will be of length `win_length` and then padded with zeros to match `n_fft`..\n",
        "#         hop_length (int):number audio of frames between STFT columns.\n",
        "#         n_std_thresh (int): how many standard deviations louder than the mean dB of the noise (at each frequency level) to be considered signal\n",
        "#         prop_decrease (float): To what extent should you decrease noise (1 = all, 0 = none)\n",
        "#         visual (bool): Whether to plot the steps of the algorithm\n",
        "\n",
        "#     Returns:\n",
        "#         array: The recovered signal with noise subtracted\n",
        "\n",
        "#     \"\"\"\n",
        "#     if verbose:\n",
        "#         start = time.time()\n",
        "#     # STFT over noise\n",
        "#     noise_stft = _stft(noise_clip, n_fft, hop_length, win_length)\n",
        "#     noise_stft_db = _amp_to_db(np.abs(noise_stft))  # convert to dB\n",
        "#     # Calculate statistics over noise\n",
        "#     mean_freq_noise = np.mean(noise_stft_db, axis=1)\n",
        "#     std_freq_noise = np.std(noise_stft_db, axis=1)\n",
        "#     noise_thresh = mean_freq_noise + std_freq_noise * n_std_thresh\n",
        "#     if verbose:\n",
        "#         print(\"STFT on noise:\", td(seconds=time.time() - start))\n",
        "#         start = time.time()\n",
        "#     # STFT over signal\n",
        "#     if verbose:\n",
        "#         start = time.time()\n",
        "#     sig_stft = _stft(audio_clip, n_fft, hop_length, win_length)\n",
        "#     sig_stft_db = _amp_to_db(np.abs(sig_stft))\n",
        "#     if verbose:\n",
        "#         print(\"STFT on signal:\", td(seconds=time.time() - start))\n",
        "#         start = time.time()\n",
        "#     # Calculate value to mask dB to\n",
        "#     mask_gain_dB = np.min(_amp_to_db(np.abs(sig_stft)))\n",
        "#     #print(noise_thresh, mask_gain_dB)\n",
        "#     # Create a smoothing filter for the mask in time and frequency\n",
        "#     smoothing_filter = np.outer(\n",
        "#         np.concatenate(\n",
        "#             [\n",
        "#                 np.linspace(0, 1, n_grad_freq + 1, endpoint=False),\n",
        "#                 np.linspace(1, 0, n_grad_freq + 2),\n",
        "#             ]\n",
        "#         )[1:-1],\n",
        "#         np.concatenate(\n",
        "#             [\n",
        "#                 np.linspace(0, 1, n_grad_time + 1, endpoint=False),\n",
        "#                 np.linspace(1, 0, n_grad_time + 2),\n",
        "#             ]\n",
        "#         )[1:-1],\n",
        "#     )\n",
        "#     smoothing_filter = smoothing_filter / np.sum(smoothing_filter)\n",
        "#     # calculate the threshold for each frequency/time bin\n",
        "#     db_thresh = np.repeat(\n",
        "#         np.reshape(noise_thresh, [1, len(mean_freq_noise)]),\n",
        "#         np.shape(sig_stft_db)[1],\n",
        "#         axis=0,\n",
        "#     ).T\n",
        "#     # mask if the signal is above the threshold\n",
        "#     sig_mask = sig_stft_db < db_thresh\n",
        "#     if verbose:\n",
        "#         print(\"Masking:\", td(seconds=time.time() - start))\n",
        "#         start = time.time()\n",
        "#     # convolve the mask with a smoothing filter\n",
        "#     sig_mask = scipy.signal.fftconvolve(sig_mask, smoothing_filter, mode=\"same\")\n",
        "#     sig_mask = sig_mask * prop_decrease\n",
        "#     if verbose:\n",
        "#         print(\"Mask convolution:\", td(seconds=time.time() - start))\n",
        "#         start = time.time()\n",
        "#     # mask the signal\n",
        "#     sig_stft_db_masked = (\n",
        "#         sig_stft_db * (1 - sig_mask)\n",
        "#         + np.ones(np.shape(mask_gain_dB)) * mask_gain_dB * sig_mask\n",
        "#     )  # mask real\n",
        "#     sig_imag_masked = np.imag(sig_stft) * (1 - sig_mask)\n",
        "#     sig_stft_amp = (_db_to_amp(sig_stft_db_masked) * np.sign(sig_stft)) + (\n",
        "#         1j * sig_imag_masked\n",
        "#     )\n",
        "#     if verbose:\n",
        "#         print(\"Mask application:\", td(seconds=time.time() - start))\n",
        "#         start = time.time()\n",
        "#     # recover the signal\n",
        "#     recovered_signal = _istft(sig_stft_amp, hop_length, win_length)\n",
        "#     recovered_spec = _amp_to_db(\n",
        "#         np.abs(_stft(recovered_signal, n_fft, hop_length, win_length))\n",
        "#     )\n",
        "#     if verbose:\n",
        "#         print(\"Signal recovery:\", td(seconds=time.time() - start))\n",
        "#     if visual:\n",
        "#         plot_spectrogram(noise_stft_db, title=\"Noise\")\n",
        "#     if visual:\n",
        "#         plot_statistics_and_filter(\n",
        "#             mean_freq_noise, std_freq_noise, noise_thresh, smoothing_filter\n",
        "#         )\n",
        "#     if visual:\n",
        "#         plot_spectrogram(sig_stft_db, title=\"Signal\")\n",
        "#     if visual:\n",
        "#         plot_spectrogram(sig_mask, title=\"Mask applied\")\n",
        "#     if visual:\n",
        "#         plot_spectrogram(sig_stft_db_masked, title=\"Masked signal\")\n",
        "#     if visual:\n",
        "#         plot_spectrogram(recovered_spec, title=\"Recovered spectrogram\")\n",
        "#     return recovered_signal"
      ]
    },
    {
      "cell_type": "code",
      "execution_count": null,
      "id": "16cf1331",
      "metadata": {
        "id": "16cf1331"
      },
      "outputs": [],
      "source": [
        "# import scipy\n",
        "# noise1 = s1[5*sr:6*sr]\n",
        "# yg1 = removeNoise(audio_clip=s1, noise_clip=noise1,\n",
        "#     n_grad_freq=2,\n",
        "#     n_grad_time=4,\n",
        "#     n_fft=2048,\n",
        "#     win_length=2048,\n",
        "#     hop_length=512,\n",
        "#     n_std_thresh=1.5,\n",
        "#     prop_decrease=1.0,\n",
        "#     verbose=False,\n",
        "#     visual=False)\n",
        "# noise2 = s2[0:1*sr]\n",
        "# yg2 = removeNoise(audio_clip=s2, noise_clip=noise2,\n",
        "#     n_grad_freq=2,\n",
        "#     n_grad_time=4,\n",
        "#     n_fft=2048,\n",
        "#     win_length=2048,\n",
        "#     hop_length=512,\n",
        "#     n_std_thresh=2.5,\n",
        "#     prop_decrease=1.0,\n",
        "#     verbose=False,\n",
        "#     visual=False)"
      ]
    },
    {
      "cell_type": "code",
      "execution_count": null,
      "id": "0f8d040d",
      "metadata": {
        "id": "0f8d040d"
      },
      "outputs": [],
      "source": [
        "# plt.figure(figsize=(12,12))\n",
        "# librosa.display.waveshow(s1,sr=sr, x_axis='time');\n",
        "# librosa.display.waveshow(yg1,sr=sr, x_axis='time');"
      ]
    },
    {
      "cell_type": "code",
      "execution_count": null,
      "id": "1efae458",
      "metadata": {
        "id": "1efae458"
      },
      "outputs": [],
      "source": [
        "# librosa.display.waveshow(s2,sr=sr, x_axis='time');\n",
        "# librosa.display.waveshow(yg2,sr=sr, x_axis='time');"
      ]
    },
    {
      "cell_type": "code",
      "execution_count": null,
      "id": "930fddcc",
      "metadata": {
        "id": "930fddcc"
      },
      "outputs": [],
      "source": [
        "# ipd.Audio(s1, rate=22050)"
      ]
    },
    {
      "cell_type": "code",
      "execution_count": null,
      "id": "39dbc9ec",
      "metadata": {
        "id": "39dbc9ec"
      },
      "outputs": [],
      "source": [
        "# length_audios = []\n",
        "# length_audios_seconds = []\n",
        "# indexes = []\n",
        "# i = 0\n",
        "\n",
        "# for item,sr in zip(df[1], df[2]):\n",
        "#     length_audios.append(len(item))\n",
        "#     length_audios_seconds.append(len(item)/sr)\n",
        "# #  Decomment if you are interested in retrieve indexes of audio within a specific range \n",
        "#     if len(item)/sr  >= 5 and len(item)/sr  <=7.5:\n",
        "#         indexes.append(i)\n",
        "#     i = i+1\n",
        "        \n",
        "\n",
        "# length_audios=pd.Series(length_audios)\n",
        "# length_audios_seconds = pd.Series(length_audios_seconds)\n",
        "# #print(length_audios_seconds.value_counts())\n",
        "# # plt.figure(figsize=(12,12))\n",
        "# # plt.title(\"Lenght of audios distribution (seconds)\")\n",
        "# # length_audios_seconds.hist()\n",
        "# #print(length_audios_seconds)\n"
      ]
    },
    {
      "cell_type": "code",
      "execution_count": null,
      "id": "26bb0b79",
      "metadata": {
        "id": "26bb0b79"
      },
      "outputs": [],
      "source": [
        "# indexes"
      ]
    },
    {
      "cell_type": "code",
      "execution_count": null,
      "id": "fcbe6419",
      "metadata": {
        "id": "fcbe6419"
      },
      "outputs": [],
      "source": [
        "# s = df_pd['audio'][0][librosa.effects.split(df_pd['audio'][0])[1][0]:librosa.effects.split(df_pd['audio'][1])[0][-1]]\n",
        "# df_pd['audio'][0][librosa.effects.split(df_pd['audio'][0], top_db=30)]#[1][0]:librosa.effects.split(df_pd['audio'][1])[0][-1]]\n",
        "# librosa.effects.split(df_pd['audio'][0])\n",
        "# ipd.Audio(s, rate=22050)"
      ]
    },
    {
      "cell_type": "code",
      "execution_count": null,
      "id": "ebf637be",
      "metadata": {
        "id": "ebf637be",
        "outputId": "66bd87c2-d800-47eb-a4f9-4e48124cd543",
        "colab": {
          "base_uri": "https://localhost:8080/",
          "height": 76
        }
      },
      "outputs": [
        {
          "data": {
            "text/html": [
              "\n",
              "                <audio  controls=\"controls\" >\n",
              "                    <source src=\"data:audio/wav;base64,UklGRiTgAQBXQVZFZm10IBAAAAABAAEAIlYAAESsAAACABAAZGF0YQDgAQAAAAAAAAAAAAAAAAAAAAAAAAAAAAAAAAAAAAAAAAAAAAAAAAAAAAAAAAAAAAAAAAAAAAAAAAAAAAAAAAAAAAAAAAAAAAAAAAAAAAAAAAAAAAAAAAAAAAAAAAAAAAAAAAAAAAAAAAAAAAAAAAAAAAAAAAAAAAAAAAAAAAAAAAAAAAAAAAAAAAAAAAAAAAAAAAAAAAAAAAAAAAAAAAAAAAAAAAAAAAAAAAAAAAAAAAAAAAAAAAAAAAAAAAAAAAAAAAAAAAAAAAAAAAAAAAAAAAAAAAAAAAAAAAAAAAAAAAAAAAAAAAAAAAAAAAAAAAAAAAAAAAAAAAAAAAAAAAAAAAAAAAAAAAAAAAAAAAAAAAAAAAAAAAAAAAAAAAAAAAAAAAAAAAAAAAAAAAAAAAAAAAAAAAAAAAAAAAAAAAAAAAAAAAAAAAAAAAAAAAAAAAAAAAAAAAAAAAAAAAAAAAAAAAAAAAAAAAAAAAAAAAAAAAAAAAAAAAAAAAAAAAAAAAAAAAAAAAAAAAAAAAAAAAAAAAAAAAAAAAAAAAAAAAAAAAAAAAAAAAAAAAAAAAAAAAAAAAAAAAAAAAAAAAAAAAAAAAAAAAAAAAAAAAAAAAAAAAAAAAAAAAAAAAAAAAAAAAAAAAAAAAAAAAAAAAAAAAAAAAAAAAAAAAAAAAAAAAAAAAAAAAAAAAAAAAAAAAAAAAAAAAAAAAAAAAAAAAAAAAAAAAAAAAAAAAAAAAAAAAAAAAAAAAAAAAAAAAAAAAAAAAAAAAAAAAAAAAAAAAAAAAAAAAAAAAAAAAAAAAAAAAAAAAAAAAAAAAAAAAAAAAAAAAAAAAAAAAAAAAAAAAAAAAAAAAAAAAAAAAAAAAAAAAAAAAAAAAAAAAAAAAAAAAAAAAAAAAAAAAAAAAAAAAAAAAAAAAAAAAAAAAAAAAAAAAAAAAAAAAAAAAAAAAAAAAAAAAAAAAAAAAAAAAAAAAAAAAAAAAAAAAAAAAAAAAAAAAAAAAAAAAAAAAAAAAAAAAAAAAAAAAAAAAAAAAAAAAAAAAAAAAAAAAAAAAAAAAAAAAAAAAAAAAAAAAAAAAAAAAAAAAAAAAAAAAAAAAAAAAAAAAAAAAAAAAAAAAAAAAAAAAAAAAAAAAAAAAAAAAAAAAAAAAAAAAAAAAAAAAAAAAAAAAAAAAAAAAAAAAAAAAAAAAAAAAAAAAAA/////////P/7//7/AAD///7/AAAAAAAAAAAAAAAAAAAAAAAAAAAAAAAAAAAAAAAA//8AAAAAAAAAAAAAAAAAAAAAAAAAAAAAAAAAAAAAAAAAAAAAAAAAAAAAAAAAAAAAAAAAAAAAAAAAAAEAAAAAAAAAAAD//wAAAAAAAP//AAAAAAAAAAAAAAAAAAAAAAAAAQAAAAAAAQAAAAAAAAAAAAAAAAAAAP/////+//z//f////7//P/8////AAD///3//v////7//f///wAAAAAAAAAAAAAAAAAAAAAAAAAAAAAAAAAAAAAAAAAAAAAAAAAAAAAAAAAAAAAAAAAAAAAAAAAAAAAAAAEAAAAAAAIAAgAAAAAAAQABAAAAAAAAAAAAAAD//wAAAAAAAAAAAAAAAAEAAAAAAAAAAAAAAAAAAAAAAAAAAAAAAAAAAAD//////v///wAAAAAAAAAA///+///////+////AAAAAAAAAAD///////////////////7//v/9//3///8AAAAAAAAAAAAAAAAAAAAAAQAAAAAAAAAAAAAAAAAAAAAAAAAAAAAAAAAAAAAAAAAAAAAAAAAAAAAAAAAAAAAAAAAAAAAAAAAAAAAAAAAAAAEAAQAAAAAA//8AAAAAAAAAAAAAAAAAAAAAAAAAAAAAAAAAAAAAAAAAAAAAAAAAAAAAAAAAAAAAAAAAAAAAAAAAAAAA/////wAAAAAAAAAAAAAAAAAAAAAAAAAAAAAAAAAAAAAAAAAAAAAAAAAAAQAAAAAAAQAAAAAAAAAAAAAAAAAAAAAAAAAAAAAAAAAAAAAAAAAAAAAAAAAAAAAA/v/+/////v/+/wAAAAAAAAAAAAAAAP7//v8AAAAA/v/+/////////////v/+/////v/+/////v///wAA///+/wAAAAAAAAAAAAAAAAAAAAAAAAAAAAAAAAAA///9////AAAAAAAAAAAAAAAAAQABAAAAAAAAAAAAAQAAAAAAAQAAAAAAAAAAAAAAAAAAAAAAAAAAAAAAAAAAAAAAAAAAAAAAAAABAAEAAQABAAAAAAAAAAAAAAAAAAAAAAAAAAAAAAAAAAAAAAAAAAAAAAAAAAAAAAAAAAAA//////////////////////7//v/9//3///8AAAAAAAAAAAAAAAAAAAAAAAAAAAAA/v/+////AAAAAAAAAAAAAAAAAAAAAAAAAAAAAAAAAAAAAAAAAAAAAAAAAAAAAAAAAAAAAAEAAQABAAEAAAAAAAAAAAAAAAAAAAABAAAAAAAAAAAAAAAAAAAAAAAAAAAAAAAAAAAAAAAAAAAAAAD///3///8AAP///f///////v///////v8AAAAAAAAAAAAAAAAAAAAAAAAAAAAAAAAAAP/////////////+//7//f/+/wAAAAAAAAAAAAAAAAAAAAAAAAAAAAAAAAAAAAAAAAAAAAAAAAAAAAAAAAAAAAAAAAAAAAAAAAAAAAAAAAAAAAABAAAAAAAAAAAAAAABAAAAAAAAAAAAAAAAAAAAAAAAAAAAAAAAAAAAAAAAAAAAAAAAAAAAAAAAAAEAAAAAAAAAAAAAAAAAAAAAAAAAAAAAAAAAAAAAAAAAAAAAAAAAAAAAAAAAAAAAAAAAAAAAAAAAAAAAAAAAAAAAAAAAAAAAAAAA//////7//v8AAAAAAAAAAAAAAAAAAP///v///wAAAAAAAAAAAAAAAAAAAAAAAAAAAAD//wAAAAAAAAAAAAAAAAAAAAAAAAAAAAABAAAAAAABAAAAAAAAAAEAAAAAAAAAAQAAAAAAAQAAAAAAAQAAAAAAAQABAAAAAAABAAAAAAAAAAAAAAAAAAAA//////////////7///8AAAAAAAAAAAAAAAD////////+////AAD///3///////7///////7/AAAAAAAAAAAAAAAAAAAAAAAAAAAAAAAAAAAAAAAAAAAAAAAAAAAAAAAAAQAAAAAAAQAAAAAAAQAAAAAAAAAAAAAAAAAAAP//AAAAAAAAAAAAAAAAAAAAAAAAAAAAAAAAAAAAAAAAAAAAAAAAAAAAAAAA///+////AAAAAAAAAAD+//7/AAAAAAAAAAAAAAAAAAAAAAAAAAAAAAAAAAAAAAAAAAAAAAAAAAAAAAAAAAAAAAAAAAAAAAAAAAAAAAAAAAAAAAAAAAAAAAAAAAAAAAAAAAAAAAAAAAAAAAAAAAAAAAAAAAAAAAAAAAAAAAAAAAAAAAAAAAAAAAAAAAAAAAAAAAAAAAAAAAAAAAAAAAAAAP/////+//7/AAAAAP////8AAAAAAAAAAAAAAAAAAAAAAAAAAAAAAAAAAAAAAAAAAAAAAAAAAAAAAAAAAAAAAAAAAAAAAQAAAAAAAAAAAAAAAAAAAAAAAAAAAP///v/+/wAAAAAAAAAAAAAAAAAAAAAAAAAAAAAAAAAAAAAAAAAAAAAAAAAAAAAAAAAAAAAAAAAAAAAAAAAAAAAAAAAAAAAAAAAAAAAAAAAAAAAAAAAAAAAAAAAAAAAAAAAAAAAAAAAAAAAAAAAAAAAAAAAAAAAAAAAAAAAAAAAAAAAAAAAAAAAAAAAA/////wAAAAAAAAAAAAAAAAAAAAAAAAAAAAAAAAAAAAAAAAAAAAAAAAAAAAAAAAAAAAAAAAAAAAAAAAAAAAAAAAAAAAAAAAAAAAAAAAAAAAAAAAAAAAAAAAAAAAAAAAAAAAAAAAAAAAAAAAAAAAAAAAAAAAAAAAAAAAAAAAAAAAAAAAAAAAAAAAAAAAAAAAAAAAAAAAAAAAAAAAAAAAAAAAAAAAAAAAAAAAAAAAAAAAAAAAAAAAAAAAAAAAAAAAAAAAAAAAAAAAAAAP/////+//7/AAAAAAAAAAAAAAAAAAAAAAAAAAAAAAAAAAAAAAAAAAAAAAAAAAAAAAAAAAAAAAAAAAAAAAAAAAAAAAAAAQABAAAAAAAAAAAAAAAAAAAAAAABAAAAAAAAAAAAAAAAAAAAAAAAAAAAAAAAAAAAAAD////////+////AAD///3///////7//f///wAAAAAAAAAAAAD//wAAAAAAAAAAAAAAAAAAAAAAAAAAAAAAAAAAAAAAAAAAAAAAAAAAAAAAAAAAAAAAAAAAAAAAAAAAAAABAAAAAAAAAAEAAAAAAAAAAAAAAAAAAAAAAAAAAAAAAAAAAAAAAAAAAAAAAAAAAAAAAAAAAAAAAAAAAAAAAAAAAAAAAAAAAAAAAAAAAAAAAAAAAAAAAAAAAAAAAAAAAAAAAAAAAAAAAAAAAAAAAAAAAAAAAAAAAAAAAAAAAAAAAAAAAAAAAAAAAAAAAAAAAAD//wAAAAD///7//v////7//f///wAAAAAAAAAAAAAAAAAAAAAAAAAAAAAAAAAAAAAAAAAAAAAAAAAAAAAAAAAAAAAAAAAAAAAAAAAAAAAAAAAAAAAAAAAAAAAAAAAAAAAAAAAAAAAAAAAAAAAAAAAAAAAAAAAAAAAAAAAAAAAAAAAAAAAAAAAAAAAAAAEAAQAAAAAAAAAAAAEAAAAAAAAAAAAAAAAAAAAAAAAAAAAAAAAAAAAAAAAAAAAAAAAAAAAAAAAAAAAAAAAAAAD/////////////AAD+//7////+//7/AAAAAAAAAAAAAAAAAAAAAAAAAAAAAAAAAAAAAAAAAAAAAAAAAAAAAAAAAAAAAAAAAAAAAAAAAAABAAAAAAAAAAAAAAAAAAAAAAAAAAAAAAAAAAAAAAAAAAAAAAAAAP///v///wAAAAD///////////7//v/9//3///8AAAAAAAAAAAAAAAAAAAAAAAAAAAAAAAAAAAAAAAAAAAAAAAAAAAAAAAAAAAAAAAAAAAAAAQAAAAAAAQAAAAAAAAAAAAAAAAAAAAAAAAAAAAAAAAAAAAAAAAAAAAAAAAAAAAAAAAD//wAAAAD///3//f///wAAAAAAAAAAAAAAAAAAAAAAAAAAAAAAAAAAAAAAAAAAAAAAAAAAAAAAAAAAAAAAAAAAAAAAAAAAAAAAAAAAAAAAAAAAAAAAAAAAAAAAAAAAAAAAAAAAAAAAAAAAAAAAAAAAAAAAAAAAAAAAAAAAAAAAAAAAAAAAAAAAAAAAAAAAAAAAAAAAAAAAAAAAAAAAAAAAAAAAAAAAAAAAAAAAAAAAAAAAAAAAAAAAAAAAAAAAAAAAAAAAAAAAAAAAAAAAAAAAAAD+//7////+//7/AAAAAAAAAAAAAAAAAAAAAAAAAAAAAAAAAAAAAAAAAAAAAAAAAAAAAAAAAAAAAAAAAAAAAAAAAAAAAAAAAAAAAAAAAAAAAP//AAAAAAAAAAAAAAAAAAAAAAAAAAAAAP///v///wAAAAAAAAAA///9////AAAAAAAAAAAAAP//AAAAAP///v/9//7/AAAAAAAAAAAAAAAAAAAAAAAAAAAAAAAAAAAAAAEAAQABAAEAAAAAAAAAAAAAAAAAAAAAAAAAAAAAAAAAAAAAAAAAAAAAAAAAAAAAAAAAAAAAAAAAAAAAAAAAAAAAAAAAAAAAAAAAAAAAAAAAAAAAAAAAAAAAAAAAAAAAAAAAAAAAAAAAAAAAAAAAAAAAAAAAAAAAAAAAAAD//wAAAAAAAAAAAAAAAAAAAAAAAAAAAAAAAAAAAAAAAAAAAAAAAAAAAAAAAAAAAAAAAAAAAAAAAAAAAAAAAAAAAAAAAAAAAAAAAAAAAAAAAAAA///+//7/AAAAAAAA/v/+////AAAAAAAAAAAAAAAAAAAAAAAAAAAAAAAAAAAAAAAAAAAAAAAAAAAAAAAAAAAAAAAAAAAAAAAAAAAAAAAAAAAAAAAAAAAAAAAAAAAAAAAAAAAAAAAAAQAAAAAAAAAAAAAAAAAAAAAAAAAAAAAAAAAAAAAAAAAAAAAAAAAAAAAAAAAAAAAAAAAAAAAAAAAAAAAAAAAAAP///v///wAAAAAAAAAAAAAAAAAAAAAAAAAAAAAAAAAAAAAAAAEAAAAAAAAAAAAAAAAAAAAAAAAAAAAAAAAAAAAAAAAAAQAAAAAAAAAAAAAAAAAAAAAAAAAAAAAAAAAAAAAAAAAAAAAAAAAAAAAAAAAAAAAAAAAAAAAAAAAAAAAAAAAAAAAAAAAAAAAAAAD////////+////AAAAAAAAAAAAAAAAAAAAAAAAAAAAAAAAAQAAAAAAAAABAAAAAAAAAAAAAAAAAAAAAAAAAAAA//8AAAAAAAAAAAAAAAAAAAAAAAAAAAAAAAAAAAAAAAAAAAAAAAAAAAAAAAAAAAAAAAAAAAAAAAAAAAAAAAAAAAEAAAAAAAAAAAAAAAAAAAAAAAAAAAAAAAAAAAAAAAAAAAAAAP//AAAAAAAAAAAAAAAAAAAAAAAAAAAAAAAAAAD//wAAAAD+//7////+//3//v/+//3//v8AAAAAAAAAAAAAAAAAAAAAAAAAAAAAAAAAAAAAAAAAAAAAAAAAAAAAAAAAAAAAAAAAAAAAAAAAAAAAAAAAAAAAAAAAAAAAAAAAAAAAAAAAAAAAAAAAAAAAAAAAAAAAAQAAAAAAAAABAAEAAAAAAAAAAAAAAAAAAAAAAAAAAAAAAAAAAAAAAAAAAAAAAP/////+//7///8AAAAAAAAAAAAAAAAAAAAAAAD//wAAAAAAAAAAAAAAAAAAAAAAAAAAAAAAAAAAAAAAAAAAAAAAAAAAAAAAAAAAAAAAAAAAAAAAAAAAAAAAAAAAAQAAAAAAAAAAAAAAAAAAAAAAAAAAAAAAAAAAAAAAAAAAAAAAAAAAAAAAAAAAAAAAAAAAAAAAAAAAAAAAAAAAAAAAAAAAAAAAAAAAAAAAAAAAAAAAAAAAAP//AAAAAAAAAAD/////AAAAAAAAAAAAAAAAAAAAAAAAAAAAAAAAAAAAAAAAAAAAAAAAAAAAAAAAAAAAAAAAAAAAAAAAAAAAAAAAAAAAAAAAAAAAAAAAAAAAAAAAAAAAAAAAAAAAAAAAAAAAAAAAAAAAAAAAAAAAAAAAAAAAAAAAAAAAAAAAAAAAAAAAAAAAAAAAAAD//wAAAAAAAAAAAAAAAAAAAAAAAAAAAAAAAAAAAAAAAAAAAAAAAAAAAAAAAAAAAAAAAAAAAAAAAAAAAAAAAAAAAAAAAAAAAAAAAAAAAAAAAAAAAAAAAAAAAAAAAAAAAAAAAAAAAAAAAAAAAAAAAAAAAAAAAAAAAAAAAAAAAAAAAAAAAAAAAAAAAAAAAAAAAAAAAAAAAAAAAAAAAAAAAAAAAAAAAP//AAAAAAAAAAAAAAAAAAAAAAAAAAAAAAAAAAAAAAAAAAAAAAAAAAAAAAAAAAAAAAAAAAAAAAAAAAAAAAAAAAAAAAAAAAAAAAAAAAAAAAAAAAAAAAAAAAAAAAAAAAAAAAAAAAAAAAAAAAAAAAAAAAAAAAAAAAAAAAAAAAAAAAAAAQAAAAAAAAAAAAAAAAAAAAAAAAAAAAAAAAAAAAAAAAAAAAAAAAAAAAAAAAAAAAAAAAAAAAAAAAAAAAAAAAAAAAAAAAAAAAAAAAAAAAAAAAAAAAAAAAAAAP////////7///8AAAAAAAAAAAAAAAAAAAAAAAAAAAAAAAAAAAAAAAAAAAAAAAAAAAAAAAAAAAAAAAAAAAAA//8AAAAAAAAAAAAAAAAAAAAAAAAAAAAAAAABAAAAAAAAAAEAAAAAAAAAAAAAAAAAAAAAAAAAAAAAAP///v///wAAAAAAAAAAAAAAAAAAAAAAAAAAAAAAAAAAAQABAAEAAAAAAAAAAAAAAAAAAAAAAP//AAAAAAAAAAAAAAAAAAAAAAAAAAAAAAAAAAAAAAAAAAAAAAAAAAAAAAAAAAAAAAAAAAAAAAAAAAAAAAAA//////7///8AAAAAAAAAAAAAAAAAAAAAAAAAAAAAAAAAAAAAAAAAAAAAAAAAAAAAAAAAAAAAAAAAAAAAAAAAAAAAAAAAAAAAAAAAAAAAAAAAAAAAAAAAAAAAAAAAAAAAAAAAAAAAAAAAAAAAAAAAAAAAAAAAAAAAAQAAAAAAAAAAAAAAAAAAAAAAAAAAAAAAAAAAAAAAAAAAAAAA///+////AAAAAP//AAAAAAAAAAAAAAAAAAAAAAAAAAAAAAAAAAAAAAAAAAAAAAAA/////////////////v/+//3//v///wAAAAAAAAAAAAAAAAAAAAAAAAAAAAAAAAAAAAAAAAAAAAAAAAAAAAAAAAAAAAAAAAAAAAAAAAAAAAAAAAAAAAAAAAAAAAAAAAAAAAAAAAAAAAABAAAAAAABAAAAAAAAAAAAAAAAAAAAAAAAAAAAAAAAAAAAAAAAAAAAAAAAAAAAAAAAAAAAAAAAAAAAAAAAAAAAAAAAAAAAAAAAAAAAAAAAAAAAAAAAAAAAAAAAAAAAAAAAAAAAAAAAAAAAAAAAAAAAAAAAAP////8AAP7//v////7//v8AAAAA/v/+/wAAAAAAAAAAAAAAAAAAAAAAAAAAAAAAAAAAAAAAAAAAAAAAAAAAAAAAAAAAAAAAAAAAAAAAAAAAAAAAAAAAAAAAAAAAAAAAAAAAAAAAAAAAAAAAAAAAAAAAAAAAAAAAAAAAAAAAAAAAAAAAAAAAAAAAAAAAAAAAAAAAAAAAAAAAAAAAAAAAAAAAAAAAAAAAAAAAAAAAAAAAAAAAAAAAAAAAAAAAAAAAAAAAAAAAAAAAAAAAAAAAAAAAAAAAAAAAAAAAAAAAAAAAAAAAAAAAAAAAAAAAAAAAAAAAAAAAAAAAAAAAAAAAAAAAAAAAAAAAAAAAAAAAAAAAAAAAAAAAAAAAAAAAAAAAAAAAAAAAAAAAAAAAAAAAAQABAAAAAAAAAAAAAAAAAAAAAAAAAAAAAAAAAAAAAAAAAAAAAAAAAAAAAAAAAAAAAAAAAAAAAAAAAAAAAAAAAAAAAAAAAAAAAAAAAAAAAAAAAAAAAAAAAAAAAAAAAP////8AAAAA/////////v///wAAAAAAAAAAAAAAAAAAAAAAAAAAAAAAAAAAAAAAAAAAAAAAAAAAAAAAAAAAAAAAAAAAAAAAAAAAAQABAAAAAAAAAAAAAAAAAAAAAAAAAAAAAAAAAAAAAAAAAAAAAAAAAAAAAAAAAAAAAAAAAAAAAAAAAAAAAAAAAAAAAAAAAAAAAAAAAAAAAAAAAAAAAAAAAAAAAAAAAAAAAAAAAAAAAAAAAAAAAAAAAAAAAAAAAAAAAAAAAAAAAAAAAAAAAAAAAAAAAAAAAAAAAAAAAAAAAAAAAAAAAAAAAAAAAAAAAAAAAAAAAAAAAAAAAAEAAAAAAAAAAAABAAAAAAAAAAAAAAAAAAAAAAAAAAAAAAAAAAAAAAAAAAAAAAAAAAAAAAAAAAAAAAAAAAAA/////wAAAAAAAAAAAAAAAAAAAAAAAAAAAAAAAAAAAAAAAAAAAAAAAAAAAAAAAAAAAAAAAAAAAAAAAAAAAAAAAAAAAAAAAAAAAAAAAAAAAAAAAAAAAAAAAAAAAAAAAAAAAAAAAAAAAAAAAAAAAAAAAAAAAQAAAAAAAAAAAAAAAAAAAAAAAAAAAAAAAAAAAAAAAAAAAAAAAAAAAAAAAAAAAAAAAAAAAAAAAAAAAAAAAAAAAAAAAAAAAAAAAAAAAP////8AAAAA/v/+/wAAAAAAAAAAAAAAAAAAAAAAAAAAAAAAAAAAAAAAAAAAAAAAAAAAAAAAAAAAAAAAAAAAAAAAAAAAAAAAAAAAAAAAAAAAAAAAAAAAAAAAAAAAAAAAAAAAAAAAAAAAAAAAAAAAAAAAAP//AAAAAAAAAAAAAP//AAAAAAAAAAAAAAAAAAAAAAAAAAAAAAAAAAAAAAAAAAAAAAAAAAAAAAAAAAAAAAAAAAAAAAAAAAAAAAAAAAAAAAAAAAAAAAAAAAAAAAAAAAAAAAAAAAAAAAAAAAAAAAAAAAAAAAAAAAAAAAAAAAAAAAAAAAAAAAAAAAAAAAAAAAAAAAAAAAAAAAAAAAAAAAAAAAAAAAAAAAAAAAAAAAAAAAAAAAAAAAAA///+////AAAAAAAAAAAAAAAAAAAAAAAAAAAAAAAAAAAAAAAAAAAAAAAAAAAAAAAAAAAAAAAAAAAAAAAAAAAAAP////////////////7//v/9//3///8AAAAAAAAAAAAAAAAAAAAAAAAAAAAAAAAAAAAAAAAAAAAAAAAAAAAAAAAAAAAAAAAAAAAAAAAAAAAAAAAAAAAAAAAAAAAAAAAAAAAAAAAAAAEAAAAAAAAAAAAAAAAAAAAAAAAAAAAAAAAAAAAAAAAAAAAAAAAAAAAAAAAAAAAAAAAAAAAAAAAAAAAAAAAAAAAAAAAAAAAAAAAAAAAAAAAAAAAAAAAAAAAAAAAAAAAAAAAAAAAAAAAAAAAAAAAAAAAAAAAAAAAAAAAAAAAAAAAAAAAAAAAAAAAAAAAAAAAAAAAAAAAAAAAAAAAAAAAAAAAAAAAAAAAAAAAAAAAAAAAA//////////////7///8AAAAAAAAAAAAAAAAAAAAAAAAAAAAAAAAAAAAAAAAAAAAAAAAAAAAAAAAAAAAAAAAAAAAAAAAAAAAAAAAAAAAAAAAAAAAAAAAAAAAAAAAAAAAAAAAAAAAAAAAAAAAAAAAAAAAAAAAAAAAAAAAAAAAAAAAAAAAAAAAAAAAAAAAAAAAAAAAAAAAAAAABAAAAAAAAAAEAAAAAAAAAAAAAAAAAAAAAAAAAAAAAAAAAAAAAAAAAAAAAAP///v///wAAAAD//wAAAAAAAAAAAAD+//7///8AAAEAAAD8//r///8EAAMA///+/wAAAAAAAAAA/v/8////AQAAAP///v/+/wAAAgACAAAA/v/+////AAAAAP///v/+/wAAAQAAAP7//v///wAAAAD9//z///8AAAAAAAD///3///8BAAEAAAAAAAAAAAABAAAAAAAAAAAAAAABAAAAAAAAAAAAAAAAAAAAAAAAAAAAAQAAAAAAAAAAAAAAAAAAAAAAAAAAAAAAAAAAAAAAAAAAAAAAAAAAAAAAAAAAAAAAAAAAAAAAAAAAAAAAAAAAAAAAAAD//wAAAAAAAAAAAAD//////v///wAAAAD//wAAAAAAAAAAAAAAAAAAAAAAAAAA/v/+/wAAAAAAAAAAAAAAAAAAAAAAAAAAAAAAAAAAAAAAAAAAAAAAAAAAAAAAAAAAAAAAAAAAAAAAAAAAAAAAAAAAAAAAAAAAAAAAAAAAAAAAAAAAAAAAAAAAAAAAAAAAAAAAAAAAAAAAAAAAAAAAAAAAAAAAAAAAAAAAAAAAAAAAAAAAAAAAAAAAAAAAAAAAAAAAAAAAAAAAAAAAAAAAAAAAAAAAAAAAAAAAAAAAAAAAAAAA/////////v///wAA///9////AAAAAAAAAAAAAAAAAAAAAAAAAAAAAAAAAAAAAAAAAAAAAAAAAAAAAAAAAAAAAAAAAAAAAAAAAAAAAAAAAAAAAAAAAAAAAAAAAAAAAAAAAAAAAAAAAAAAAAAAAAAAAAAAAAAAAAAAAAD///7///8AAAAAAAAAAP//AAAAAAAAAAAAAAAAAAD///7//v8AAAAAAAAAAAAAAAAAAAAAAAAAAAAAAQAAAAAAAAAAAAAAAAAAAAAAAAAAAAAAAAAAAAAAAAAAAAAAAAAAAAAAAQAAAAAAAAAAAAAAAQABAAAAAAAAAAAAAAAAAAAAAAAAAAAAAAAAAAAAAAAAAAAAAAAAAAAAAAAAAAAA//8AAAAAAAAAAAAAAAAAAP///v/+/////v///wAAAAAAAAAAAAAAAAAAAAAAAP//AAAAAAAAAAAAAAAAAAAAAAAAAAAAAAAAAAAAAAAAAAAAAAAAAAAAAAAAAAAAAAAAAAAAAAAAAAAAAAAAAAAAAAAAAAAAAAAAAAAAAAAAAAAAAAAAAAAAAAAAAAAAAAAAAAAAAAAAAAAAAAAAAAAAAAAAAAAAAAAAAAAAAAAAAAAAAAAAAAAAAAAAAAAAAAAAAAAAAAAAAAAAAAAAAAAAAAAAAAAAAAAAAAAAAAAAAAAAAAAAAAAAAAAAAAAAAAAAAAAAAAAAAAAAAAAAAAAAAAAAAAAAAAAAAAAAAAAAAAD///////////7///8AAAAAAAAAAAAAAAAAAAAAAAAAAP7//v8AAAAAAAAAAAAAAAAAAAAAAAAAAAAAAAAAAAAAAAAAAAAAAAAAAAAAAAAAAAAAAAAAAAAAAAAAAAAAAAAAAAAAAQABAAEAAQAAAAAAAAAAAAAAAAAAAP//AAAAAAAA//8AAAAAAAD//wAAAAAAAAAAAAAAAAAAAAAAAAAAAAAAAAAAAAAAAAAAAAAAAAAAAAAAAAAAAAAAAAAAAAAAAAAAAQAAAAAAAAAAAAAAAAAAAAAAAAAAAAAAAAAAAAAAAAAAAAAAAAAAAAAAAAAAAAAA/v/+/wAAAAD//wAAAAAAAP///v///wAAAAAAAAAAAAAAAAAAAAAAAAAAAAAAAAAAAAAAAAAAAAAAAAAAAAAAAAAAAAAAAAAAAAAAAAAAAAAAAAAAAAAAAAAAAAAAAAAAAAAAAAAAAAAAAAAAAAAAAAAAAAAAAAAAAAAAAAAAAAAAAAAAAAAAAAAAAAAAAAAAAAAAAAAAAAAAAAAAAAAAAAAAAAAAAAAAAAAAAAAAAAAAAAAAAAAAAAAAAAAAAAEAAAAAAAAAAAAAAAAAAAAAAAAAAAAAAAAAAAAAAAAAAAAAAAAAAAAAAAAAAAAAAAAAAAAAAAAAAAAAAP///v///wAAAAAAAP7//v8AAAAAAAD//wAAAAAAAAAAAAAAAAAAAQAAAAAAAAAAAAAAAAAAAAAAAAAAAAAAAAAAAAAAAAAAAAAAAAAAAAAAAAAAAAAAAAAAAAAAAAAAAAAAAAAAAAAAAAAAAAAAAAAAAAAAAAAAAAAAAAAAAAAAAAAAAP//AAAAAAAAAAAAAAAAAAAAAAAAAAAAAAAAAAAAAAAAAAAAAAAAAAAAAAAAAAAAAAAAAAAAAAAAAAAAAAAAAAAAAAAAAAAAAAAAAAAAAAAAAAAAAAAAAAAAAAAAAAAAAAAAAAAAAAAAAAAAAAEAAAAAAAAAAAAAAAAAAAAAAAAAAAAAAAAAAAAAAAAAAAAAAAAAAAAAAAAAAAAAAAAAAAAAAAAAAAABAAAAAAAAAAAAAAAAAAAAAAAAAAAAAAAAAP7//v8AAAAAAAAAAAAAAAAAAAAAAAAAAAAAAAAAAAAAAAAAAAAAAAAAAAAAAAAAAAAAAAAAAAAAAAAAAAAA///+////AAAAAAAAAAAAAAAAAAAAAAAAAAAAAAAAAAAAAAAAAAAAAAAAAAAAAAAAAAAAAAEAAAAAAAAAAAAAAAAAAAAAAAAAAAAAAAAAAAAAAAAAAAABAAAAAAAAAAAAAAAAAAAAAAAAAAAAAAAAAAAAAAAAAP///v/+/wAAAAAAAAAAAAAAAAAAAAAAAAAA//8AAAAAAAAAAAAAAAAAAAAAAAAAAAAAAAAAAAAAAAD/////AAD///7///8AAAAAAAAAAAAAAAAAAP7//v8AAAAAAAAAAAAAAAAAAAAAAAABAAAAAAAAAAAAAAAAAAAAAAAAAAAAAAAAAAEAAAAAAAEAAQAAAAAAAAAAAAAAAAAAAAAAAAAAAAAAAAAAAAAAAAAAAAAAAAAAAAAAAAAAAAAAAAD///////////7//f/+/wAAAAAAAAAAAAAAAAAAAAAAAAAAAAAAAAAAAAAAAAAAAAAAAAAAAAAAAAEAAAAAAAAAAAAAAAAAAAAAAAAAAAAAAAAAAAAAAAAAAAAAAAAAAAAAAAAAAAAAAAAAAAAAAAAAAAAAAAAAAAAAAAAAAAAAAP/////////////+//7//f/+/wAAAAAAAAAAAAAAAAAAAAAAAAAAAAAAAAAAAAAAAAAAAAAAAAAAAAAAAAAAAAAAAAAAAAAAAAAAAAAAAAAAAAAAAAAAAAAAAAAAAAAAAAAAAAAAAAAAAAAAAAAAAAAAAAAAAAAAAAAAAAAAAAAAAAAAAAAAAAAAAAAAAAD//wAAAAAAAAAAAAAAAAAAAAAAAAAAAAAAAAAAAAAAAAAAAAAAAAAAAAAAAAAAAAAAAAAAAAAAAAAAAAAAAAAAAAAAAAAAAAAAAAAAAAAAAAAAAAAAAAAAAQABAAEAAQAAAAAAAAAAAAAA//////7//v8AAAAAAAAAAAAAAAAAAAAAAAAAAAAAAAAAAAAAAAAAAAAAAAAAAAAAAAAAAAAAAAAAAAAAAAAAAAAAAAAAAAAAAAAAAAAAAAAAAAAAAAAAAAAAAAAAAAAAAAAAAAAAAAAAAAAAAAAAAAAAAAAAAAAAAAAAAAAAAAAAAAAAAAAAAAAAAAAAAAAAAAAAAAAAAAAAAAAAAAAAAAAAAAAAAAAAAAAAAAAAAAAAAAAAAAAAAAAAAAAAAAAA//8AAAAAAAD//wAAAAAAAAAAAAAAAAAAAAAAAAAAAAAAAAAAAAAAAAAAAAAAAAAAAAABAAEAAAAAAAAAAAAAAAAAAAAAAAAAAAAAAAAAAAAAAAAAAAAAAAAAAAAAAAAAAAAAAP///////////v/9////AAAAAAAAAAAAAAAAAAAAAAAAAAAAAAAAAAAAAAAAAAAAAAAAAAAAAAAAAAAAAAAAAAAAAAAAAAAAAAAAAAAAAAAAAAAAAAAAAAAAAAAAAAAAAAAAAAAAAAAAAAAAAAAAAAAAAAAAAAAAAAAAAAAAAAAAAAAAAAAAAAAAAAAAAAAAAAAAAAAAAAAAAAAAAAAAAAAAAAAAAAAAAAAAAAAAAAAAAAAAAAAAAAAAAAAAAAAAAAAAAAAAAAAAAAAAAAAAAAAAAAAAAAAAAAAAAAAAAAAAAAAAAAAAAAAAAAAAAAAAAAAAAAAAAAAAAAAAAAAAAAAAAAAAAAAAAAAAAAAAAAAAAAAAAAAAAAAAAAAAAAAAAAAAAAAAAAAAAAAAAAAAAAAAAAAAAAAAAAAAAAAAAAAAAAAAAAAAAAAAAAAAAAAAAAAAAAAAAAAAAAAAAAAAAAAAAAAAAAAAAAAAAAAAAAAAAAAAAAAAAAAAAAAAAAAAAAAAAAAAAAAAAAAAAAAAAAAAAAAAAAAAAAAAAAAAAAAAAAAAAAAAAAAAAAAAAAAAAAAAAAAAAAAAAAAAAAAAAAAAAAAAAAAAAAAAAAAAAAAAAAAAAAAAAAAAAAAAAAAAAP/////+////AAAAAAAAAAAAAAAAAAAAAAAAAAAAAAAAAAAAAAAAAAAAAAAAAAAAAAAAAAAAAAAAAAAAAAAAAAAAAAAAAAAAAAAAAAAAAAAAAAAAAAAAAAAAAAAAAAAAAAAAAAAAAAAAAAAAAAAAAAAAAP////8AAAAAAAAAAAAAAAAAAAAAAAAAAAAAAQAAAAAAAAAAAAAAAAAAAAAAAAAAAAAAAAAAAAAAAAAAAAAAAAAAAAAAAAAAAAAAAAAAAAAAAAAAAAAA///+//7/AAAAAAAAAAAAAAAAAAAAAAAAAAAAAAAAAAAAAAAAAAAAAAAAAAAAAAAAAAAAAAAAAAAAAAAAAAAAAAAAAAAAAAAAAAAAAAAAAAAAAAAAAAAAAAAAAAAAAAAAAAAAAAAAAAAAAAAAAAAAAAAAAAAAAAAAAAAAAAEAAAAAAAAAAAAAAAAAAAAAAAAAAAAAAAAAAAAAAAAAAAAAAAAAAAAAAAAAAAAAAAAAAAAAAAAAAAAAAAAAAAAAAAAAAAAAAAAAAAAAAAAAAAAAAAAAAAAAAAAAAAAAAAAAAAAAAAAAAAAAAAAAAAAAAAAAAAD/////AAAAAAAAAAAAAAAAAAAAAAAAAAAAAAAAAAAAAAAAAAAAAAAAAAAAAAAAAAAAAAAAAAAAAAAAAAAAAAAAAAAAAAAAAAAAAAAAAAAAAAAAAAAAAAAAAAAAAAAAAAAAAAAAAAAAAAAAAAAAAAAAAAAAAAAAAAAAAAAAAAAAAAAAAAAAAAAAAAAAAAAAAAAAAAAAAAAAAAAAAAAAAAAA/////////v///wAAAAAAAAAAAAAAAAAAAAAAAAAAAAAAAAAAAAAAAAAAAAAAAAAAAAAAAAAAAAAAAAAAAAAAAAAAAAAAAAAAAAAAAAAAAAAAAAAAAAAAAAAAAAAAAAAAAAAAAAAAAAAAAAAAAAAAAAAAAAAAAAAAAAAAAAAAAAAAAAAAAAAAAAAAAAAAAAAAAAAAAAAAAAAAAAAAAAAAAAAAAAAAAAAAAAAAAAAAAAAAAAAAAAD//wAAAAAAAAAAAAAAAAAAAAAAAAAAAAAAAAAAAAAAAAAAAAAAAAAAAQABAAAAAAAAAAAAAAAAAAAAAAAAAAAAAAAAAAAAAAAAAAAAAAAAAAAAAAAAAAAAAAAAAAAAAAAAAAAAAAAAAAAAAAAAAAAAAAAAAAAAAAAAAAAAAAAAAAAAAAAAAAAAAAAAAAAAAAAAAAAAAAAAAAAAAAAAAAAAAAAAAAAAAAAAAAAAAAAAAAAAAAAAAAAAAAAAAAAAAAAAAAAAAAAAAAAAAAAAAAAAAAAAAAAAAAAAAAAAAAAAAAAAAAAAAAAAAAAAAAAAAAAAAAAAAAAAAAAAAAAAAAAAAAAAAAAAAAAAAAAAAAAAAAAAAAAAAAAAAAAAAAAAAAAAAAAAAAAAAAAAAAAAAAAAAAAAAAAAAAAAAAAAAAAAAAAAAAAAAAAAAAAAAAAAAAAAAAAAAAAAAAAAAAAAAAAAAAAAAAAAAAAAAAAAAAAAAAAAAAAAAAAAAAAAAAAAAAAAAAAAAAAAAAAAAAAAAAAAAAAAAAAAAAAAAAAAAAAAAAAAAAAAAAAAAAAAAAAAAAAAAAAAAAAAAAAAAAAAAAAAAAAAAAAAAAD////////+//7/AAAAAAAAAAAAAAAAAAAAAAAAAAAAAAAAAAAAAAAAAAAAAAAAAAAAAAAAAAAAAAAAAAAAAAAAAAAAAAAAAAAAAAAAAAAAAAAAAAAAAAAAAAAAAAAAAAAAAAAAAAAAAAAAAAAAAAAAAAAAAAAAAAAAAAAAAAAAAAAAAAAAAAAAAAAAAAAAAAAAAAAAAAAAAAAAAQAAAAAAAAAAAAAAAAAAAAAAAAAAAAAAAAAAAAAAAAAAAAAAAAAAAAAAAAAAAAAAAAAAAAAA/////wAAAAAAAAAAAAD////////+////AAD//wAAAAAAAAAAAAAAAAAAAAAAAAAAAAAAAAAAAAAAAAAAAAAAAAAAAAAAAAAAAAAAAAEAAAAAAAAAAAAAAP//AAAAAAAA//8AAAAAAAAAAAAAAAAAAAAAAAAAAAAAAAAAAAAAAAAAAAAAAAAAAAAAAAAAAAAAAAAAAAAAAAAAAAAAAAAAAAAAAAAAAAAAAAAAAAAAAAAAAAAAAAAAAAAAAAAAAAAAAAAAAAAAAAAAAAAAAAAAAAAAAAAAAAAAAAAAAAAAAAAAAAAAAAAAAAAAAAAAAAAAAAAAAAAAAAAAAAAAAAAAAAAAAAAAAAAAAAAAAAAAAAAAAAAAAAAAAAAAAAAAAAAAAAAAAAAAAAAAAAEAAQAAAAAAAQABAAAAAAAAAAAAAAAAAAAAAAAAAAAAAAAAAAEAAAAAAAAAAAAAAAAA//8AAAAAAAAAAAAAAAAAAAAAAAAAAAAAAAAAAP//AAAAAAAAAAAAAAAAAAAAAAAAAQAAAAAAAAAAAAAAAAAAAAAAAAAAAAAAAAAAAAAAAAAAAAAAAAAAAAAAAAAAAP///v///wAAAAAAAAAAAAAAAAAAAAAAAAAAAAAAAAAA/////wAAAAAAAP7//v///wAA///9/wAAAAD//wAAAAAAAP//AAAAAAAAAAAAAAAAAAAAAAAAAAAAAAAAAAAAAAAAAAAAAAAAAAAAAAAAAAAAAAAAAAAAAAAAAAAAAAEAAAAAAAAAAAAAAAAAAAAAAAAAAQAAAAAAAQAAAAAAAQAAAAAAAAD//wAAAAD///7/AAAAAAAAAAAAAAAAAAAAAAAAAAAAAAAAAAAAAAAAAAAAAAAAAAABAAEAAAAAAAAAAAAAAAAAAAAAAAAAAAAAAAEAAAAAAAAAAAAAAAAAAAAAAAAA//8AAAAAAAAAAAAAAAAAAAAAAAAAAAAA/////wAA/v/+/////v/+/wAAAAD//wAAAAAAAAAAAAAAAAAAAAAAAP///f///wEAAQAAAAAAAAAAAAAAAAAAAAAAAAAAAAAAAAAAAAAAAAAAAAAAAAABAAAAAAAAAAAAAAAAAAAAAAAAAAAAAAAAAAEAAAD//wAAAAAAAAAAAAAAAAAAAAAAAAAAAAAAAAAAAAAAAP////8AAAEAAAAAAAAAAAD///7//v8AAP///P/+/wAA///9/wAAAAAAAAAAAAAAAAAAAAAAAAAAAQAAAAAAAQAAAAAAAAAAAAEAAAAAAAAAAAAAAAAAAAAAAAAAAAAAAAEAAAD//wAAAAAAAAAAAAD+//7/AAAAAP7//v8AAAAA//8AAAEAAAD//wAAAQAAAP//AAAAAAAA///+////AAAAAP//AAAAAP//AAAAAAAAAAD+//7/AAAAAPz//v8BAP////8BAAAA/f/+/wAAAAD8//7/AQABAP7///8BAAEAAAAAAP//AAADAAIA//8AAAIAAAD//wAAAAAAAAEAAAAAAAAAAAAAAAAAAAAAAAQABAAAAAAAAQAAAAAAAAD+/wAAAgD9//3/BAAAAPz/AQABAPz/AAADAP3///8BAPz//f8CAAAAAAADAP3//f8IAAQA9v/9/woA/v/0/wMAAAD3/wQA/v/u/wwADgDl//v/FQDu//n/EwDp//z/IwDh/+H/KQD9/+P/EADx//X/GwDc/+P/HgD8/yIA+P9d/2AA/QDc/uH+zQHaAAb+v//RAfv/xP4hAOIAEQBL/9f/mADl/3//ZAAnAHX/PwBdAIT/AQBxALf/zv9OAO7/2f8nAPH/4v8qABQA7/8JAAoA+P/3/+r/5f8GAAoA4v/7/zgAEwDp/w8ACQDx/xAA/f/p/xoA8v+o/7j/s//h/x4AX//5/uf/1v8Q/ygARAF5ACQAygCQAAIAHgBQAEQAAwDC/97//v/r/woANQARAPD/XAD8AGAA5P73/vz/nf9o/38ATQAJ/2T/bwBsACEAEQABAAEA9/8JACwA4P+2/xoAIADo/xgACwDD//T/GwDu//7/FwD3//n/AgD2/woAGQAEAAYABADy/wAABADt/+7/9P/s/wAADQDv//f/IwAVAO7//f8MAPX/8/8LAAcA+P/3//f///8OABAACwAMAP7/7P/v//j/+v8AAAcACwACAPf/BAASAPv/8v8JAAQA8////wAA7f/w/wAABgAEAPv/8v/9/wgAAwD9///////0//L/AQAFAPf/9v8CAAIA/v8AAAIACgAHAPj//f8HAPb/6v/7/wMA///7//n/BgAPAP7/8//8//n///8LAPn/9f8bAB4A/f/0//L/6v/j/9D/5P8AAHf/xf5I/2oAhAD5/xsAjQBhAPf/BwBMADIA8P/1/woA6//I/8n/2/8AABwAAgDh//b/EQADAPL///8SAA8AAQABAAgA+f/n//n/CwAAAP3/AQD1//P/BgAFAPr/AQAEAPz//f////7/AgAAAP3/BQADAPf/+P8BAAQA///5/wQADwD8//r/HQAZAPj/AwAPAOz/4f8AAAQA8P/1/wgACgABAP//AgAAAPr//f8AAPn/9v/9/wMACQAGAPn/+v8HAAMA+/8GAAUA9P/8/wkA+//4/wcAAQD//w8ACwD3//r/AAABAAMA9v/u/wAAAgD2/wEACwD6//P//P8AAAMA/P/1/wIAAwDx//v/DgAAAPX/AgAAAPb/AQAFAPr//v8FAAAA/v8GAAUAAAAAAAAAAAABAAIAAgAAAP7/AwALAAUAAQAGAP//9v/8//v/9P/8/wAA/f8EAAQA+P/7/wAA/f/+//3/+f8EAAYA+P/8/wQA+P/7/w4ABQDx//j/AwD+//z/BgALAAEA+f/+/wYAAAD2//3/AgD9//7/BQADAP//AQAAAP//BQAFAP7/AAADAAAAAAAAAPr//v/+//X/+f8BAAAA/P/+/wAA///9/wEABwD+//n/CgALAPf//v8RAAUA+P/+////9f/y//r/BAAAAPv/BQAHAPn///8GAPL/7f8CAAQA9v/6/wIAAgAAAAIABgADAP3/AQAFAPr/9/8CAAEA+P/8/wUAAwD4//j/BQAGAPr//f8FAP7/+P8CAAQA/v/8//7/AQACAP3/+f8AAAAA9//5/wUABwD+//z/AwAGAP3/+v8BAAEA+v8AAAcAAAD7/wIABgACAP//AAACAP//+P/8/wMA/f/6/wIAAgD//wMAAgD8/wAABAD///7/AwADAP///v8AAAAA/f/9/wEAAQD+////AAD8//r//P////7/+//7//7//f/8/wAAAQACAAIAAgADAAQAAQABAAMAAAABAAYAAAD6/wAAAAD7////AgD+//z/AAD///v/+/8CAAAA+f8AAAoA/f/0/wAABQD9//3/AAAAAP7///////v/+P/+/wEA/f/9/wAA/f///wUAAgD8////BAAEAAAAAAAEAAMA/v8CAAYAAAAAAAUAAAD7////AQAAAPv//P8BAP//+v8BAAMA+/8AAAkA///3/wMABgD8//r/AAAAAP//AAABAP3//P8BAAMA/f/9/wEA///8////AAD+////AQAAAPr/+/8FAAYA/v/+/wQAAgD+////AgACAAAAAAAAAP3/+/8AAAEA/v///wAA/v8AAAAAAAAAAAAAAAAAAAAA//8AAP7//P//////+f/7/wIAAQD6//n/AAAGAAAA+v8AAAcABAD+//7/AQAEAAIA/f/5//7/AQAAAP7/AQADAAAA//8CAAQA///6/wAACgADAPP/9v8KAA0A+f/x/wIAEwAHAPX/+P8HAAwAAwD2//D/AAASAAUA5//s/xEAFADt/+f/CQAMAPL/9f8IAAUA+f/8/wgACgDy/+T/CAAoAAYA2v/m/xQALgAHAL3/2P9dAFYAo/+S/00AaQDY/8P/CQAXACYAEACs/8f/XABCAKn/uf83ADwA2v+//xgAQgDk/8b/NgAtAKX/yP9BAAYAu//3/+7/v/80AFMAdv9p/7MA1QBN/w3/tgAhAX3/9/57AAIBuv9U/0oAaADD/+//QwDY/8r/XQAyAI3/4f9+AP7/cf8iAJUAqv9S/28ArwCC/2P/fACAAJ3/qf8vABkA+/8cAOb/tP8kAGQA2f+L/xYAbAD8/7r/CQAlAPP/AAATAN//6f83ABcAyv8GAEQA4/+1/zYAUwC9/7D/SwBNAL//wf8vADMA/v/4//D/9f8vACAAq/+z/1MAZQDC/6H/NABjAPX/xf8GAB8A+P/3/wgA1/+5/xIAPADA/4//IQBQALr/k/8YACoAsP+s/yMAJgCz/8D/SwBKALr/vP9cAGoAyf+w/0wAdADt/7X/CQBWAEkAyP91/0MA6gC+/9r+WABZAaH/i/5mAKgBrP8f/kMADgKu/9T9dwBAAp3/CP5dALgBzP9x/uz/WwEsALr+1P8eAQAA8f76/8sA9v87/9j/kwAHAEf/6f+AAKz/hv+YAB0A1f4HAJUBv//d/UUAsQIXAGr9MAAoA5wApP2s/20C/ABo/hz/TQEDARL/7/5RAIsAq/9M/5D/7v8ZAMH/Uf+h/0wAGQBI/3v/iwBcADD/i//VAF0AJP/J/wIBVgAu//v/MgFDAAH/EAA8AREAJ/9cAPAAvf9d/1sAigC9/53/LgA5ANT/1/8TAAAA3P/z/wkAAwD1/+n/AwAkAAEA3v8QADsABwDg/xMANQD6/9L/BgApAPP/yf/n/wgA+//X/8n/5v8LAPv/xv/O/xgAKwDk/9X/KQA/AP3/AAA7AC8ACAAkADwAGQAGACEAIwABAPr/DwAEAOL/5f/+//L/1//e//j/+f/h/9n/8v/5/9n/0P/4/wwA7f/U/+3/CQD6/+7/CwAUAPf/BQAuABgA9/8ZADkAEwD4/xYAIwD///T/FAANAOT/7v8XAAMA0//l/xUACADV/9X/AQAMAPX/7f/3/wUADgD6/+X/AwAbAPv/6/8NABkA/v/z/woAGwACAOj/CAAwAAYA0//5/ywACQDW/+v/GQAKANr/4v8QAAcA1f/c/woABwDo//D/BQD9/+7/+f8IAAEA+f8CAA8ABgD+/wgAEgAMAAcABgAMABcADwD3//r/EwAHAOr//P8VAPr/2f/u/wsA/P/h/+f//f8BAO//4//0/wYA+//p//z/GgAKAOX/+/8xAB4A4//6/zEAEADf/wgANwAIANz/CAAxAAIA2v8EACUA9//Z/wcAGQDf/87/FQAsAN//wf8PADMA5/++/wAALwD9/87//v84AAkAwv/w/0EAFwDA/+X/PgAjAM7/5f82ABgAxv/p/z4AHQDP//P/PAAXAM3/6P8sABcA2P/s/ysAHQDj/+7/JAAYAN7/5v8oACwA7v/t/yMAEgDd/wMAPwAKAMr/AQBCAAUAvf/q/yUA/v/R//j/GQD2/9z/+P8EAO3/8P8QAA0A7f/2/xUA/v/W/+//FwD//9f/8/8eAAMA0//o/xIAAgDo/wIAGQACAPb/BgAGAPr/BQARAAMA/v8OAA4A+P/8/xIADwAAAAMABAAAAA0AEgD3//L/EwAQAOr/8v8YAA4A6v/q//f/7//x//3/7f/a//L/BQDn/9H/8v8IAPP/7/8QABMA9f/3/xAADAD//wcADwAJAAkABwD+/wQAFgAOAPf//P8VABQA/P/5/xQAGwAAAPr/EQAUAPv/9v8FAAAA8f/7/wMA7P/f//7/EQD5/+X/+f8KAP3/7v/4/wwACgDz/+j/AAAZAAIA2f/j/xIADQDb/+L/GQASANn/4f8aABcA6v/t/xUAFgD1//D/DQAZAAAA7v8CABYABgD3/w8AJgAJAOj/AAAgAAcA6f8AABcA+P/j/wYAFADl/9T/AAAUAPX/6P/6//f/6f/0/wMA/v/6/wUACwALAA4ACAAAAAkAGAAOAAIAFAAbAPv/5/8AAAsA4//T/wIAFADf/8r//P8LAOD/1P/6/wMA6v/n/wAABgD5//P//P8AAAAAAAD9////DQAUAAQA+/8IABMACQAAAAoAGgAUAAAAAAAaACQACAD1/woAHwAGAOn/+v8XAAMA4P/y/xoACADY/97/DQAUAPL/5/8DABAA/f/3/wsADgD6//z/EwAHAOT/6P8HAAMA6P/u/wIA9v/h/+7//P/0//f/DQAOAPz/AAATAAsAAAATACIACQD8/xwAKwAAAOX/BQAcAP//6/8IAB0AAQDm//D/BAAAAPf/AAAQAAwA8//f/+3/BwAFAO3/7/8IAAwA8f/j//f/CwAHAPj/+P8IAA8AAQD5/wEABwD0/9//7v8PAA8A8v/v/wYAAgDh/97/BQAXAP3/7f8FABEA+P/t/wQACQDv/+r/AQALAP7/+/8DAP//8////xQADAD3//3/EQAQAAAAAQANAAUA8f/8/x8AGwDy/+z/EwAWAOf/4f8gADQA8f/P/xIAPQABANf/BwAnAP//7v8dACsA9P/U//f/FQAEAPP///8OAAoA9f/i/+j/AAAIAPv/+f8KAAkA7f/f//L/AwD9//b/AwARAAMA6v/q/wAABwD7//r/BAAAAPD/7//+////7P/p//r/AQD+/wAABAD5//D/AAARAAsA/f/6/wIABwAAAPb/9/8AAP7/9f/4/wEA+v/r//n/EwAOAPv/BAAaABQABgAOABgAEAASAB8AEgDx//H/CgAMAPn/+v8DAPT/4f/x/wkA///l//D/EQAYAAUAAQARABEA/P/0/wUAFAAMAAEAAwAEAPr/8v/6/wUACgAKAAQA/v/9/wMABAD9//3/AwD//+r/5f/z//T/6P/t////+f/m/+n/+v8AAAEACwAOAAUABwAVABMAAAD6////9v/t//7/CwD6/+X/7P/3/+//7P/8/wcABAAEAAUA/v/y//f/CQASAAYA9//2//3//v/+/wAAAAD7//z/AQAAAPj/+/8KAA8ABwAEAAYAAAD8/wMABwD8//b///8EAP///P/8//j/9/8IABcADAAAAAoAEwAKAAkAGQAaAAcAAwATABgAAgDz//v/AAD1//X/AAD+/+//7v/0/+v/5P/w//3/9P/r//f//P/s/+3/CQASAPj/8P8LABgAAAD1/w0AFgD5/+r/AQALAO7/3//6/wkA+P/w/wQADQD9//X/BgAQAAYAAgALAAkA/f8AAA8ACAD1//n/CwAJAP3/BAAPAAAA8P8EACAAFwAAAAEACgD7/+v/AgAiABkA///4//b/6P/n//7/CwD+//P///8HAP3/9/8AAP//9P8FACIAGgD8//j/BAD7/+X/6f/9//r/6v/v//z/8v/l//T/AwD5//L/CgAhABMA/v8DABAABwAAABIAGQD8/+b/+/8TAAcA9P/5/wAA9P/w/wcAGAAGAPH/9v8BAP7/+v8BAAQA/P/3//v//v/+////AAD//wAACQARAAkA/v/9//3/+/8IAB0AFwD6/+v/9/8AAPz//P8HAAoAAAD//wwADwD9/+3/8//+//3//v8HAAAA6f/d/+n/+P/+////AAAAAAAAAAD9//b/+f8IAA0A///0//f/9//1////CAAAAPL/+/8NAAoA+//+/w4AEAAIAA4AFQALAAQADQAQAAMAAAALAAoA/P/8/wgA///l/+n/AAD7//H/DwAzAB8A9v8AACgAJgAFAAEAFQAUAAQAAgD9/97/y//k/wEA9//b/9f/6P/w/+//9f/7//b/+P8JAA4A9P/a/+T/AAAIAAEA/f/4//L/9v8FAAgA/f///xIAIAAZAAQA7//q////GQAYAAAA9v8EAA8ABQD5//T/9f8BAB4ALAAUAPH/7f8EABQAEQALAAQA/P8DABMACwDt/+b/BQAdAAsA7v/r//7/BwD///H/4//c/+v/DAAaAAEA4//m/wIAFQAQAAMA/f8DAA8AEQABAO//7/8DABIACADw/+X/7/8CAAkA/f/v//L/AwARAA4A///x//X/BQAKAP7/8//2//7/BQAKAAAA6//n////CwD8/+3/+P8GAAcAAgD///f/9/8GABMADAD///v/AAABAPv/8P/o/+r/9v/8//L/5//s//3/DQAQAAQA/f8IACAALQAlABMACgAPABkAFwAHAPf/9f/+/wQAAwD///r/+v8AAAcAAwD9/wEAEgAcABQAAwD9/wUADgAMAP//8P/p//D/+//8/+3/3P/X/97/7P/1//L/7P/v//z/AQD4/+7/+v8SABsAEgAHAAQABwANABIADwAAAO//9P8JAA4A9//e/9n/5f/2/wIABgD///b/9/8AAAEA9//4/wgAFgATAAUA9f/w//v/BwAFAPb/7P/6/xAAFAAEAPj/9f/5/wIAEgASAAAA9f8BABIADwADAAAAAwABAAIADAAUAA4ACAAQABYACgD+/wQAEwAXAA0ABgAGAAkADQAPAAkAAAD5//f/+f/8//7//P/3//b/+P/5//L/5f/d/+X/+v8EAP//9f/1//T/7v/r/+3/7f/v//r/BAAAAOv/3//n/+3/4//i//X/AAD6//T/9f/x//L/AAANAA0AAwADABEAHQAcABMACQAHABQAIQAbAAwACwAQAA4ACgANABEADAAIAA8AEgALAAQABgAIAAgACAAKAAwACwACAPP/6f/t//b/9v/x/+//7v/r//P/AAD+//D/7////wkAAgD6//v////9//v/+//1/+z/7////wcAAQD5////DgATAAQA+v8DABYAHgAcABoAFQAGAP3/AgAIAAAA+v8AAAUA+//s/+j/6f/n/+n/7//q/93/3//y//n/8v/u/+7/6//x/wEACwAFAP3/AAAKAA4ADgASABIABgABAA4AGwAZABYAFwAQAAIA/f8DAAcABgAKABEAEQAJAAEA+f/t/+j/8/8MACIAIgATAAAA6P/Y/+H/+P8EAAYADAAUAAcA5v/L/87/3//r//v/FgAjABYAAADr/9f/y//X//3/KAA9ADcAIwAKAO7/2//g//f/DwAmADkAOAAWAOn/zv/K/87/3P/8/xsAJgAeABAA+P/S/73/0/8AACEAMAA1AC8AFgDx/9L/y//a//P/EQApAC0AFQDv/9L/y//Q/9v/9f8bADMALQAVAP3/5//Y/9///v8fAC0AKwAiAAkA4v/G/87/6//9/wIACgARAAoA9//j/9n/4v/7/x0APQBFADIAGAALAAoACQAGAAsAHgAuACoAFQD9/+b/1//e//f/CAAKAAYA///u/93/2v/j/+v/9P8BAAcA///x/+v/7f/r/+j/8f8DAA8ADwAKAAAA7P/b/97/8f8DABIAFQAGAOz/1//X/+v/CAAeACEAEwACAAAACQAMAAMA//8IABwAKwArABYA+P/j/+r/BQAXABIABgACAAIA/v/4//f/9v/3/wIAFwAgABIA/P/x/+//8P/5/wYADAAFAPj/6f/i/+j/8v/1//X/+f8DAA4ACQD3/+L/3P/q/wQAGwAcAAYA6//g/+f/7v/x//b/AAAIAA8AEgAJAPX/5P/j//P/CgAkADYANAAdAAAA6f/k//H/BwAhADIALgAeAA8AAQDx/+f/6//8/xMAJgAnABYA/v/g/8v/zf/i//j/BgAPAAsA+P/c/83/1v/m/+7/9f8DAA4ADgAKAAUA/P/x//L/AwAVABoAFgAQAAgA/v/2//X/+f8BAAoAEAARAA4ABwD+//P/8v/+/wwAFgAXAA4A/v/v/+3/9v8AAAMAAgAGAA4ADAD7/+3/7P/u//D///8QAA8AAAD1/+//4//X/93/9f8GAAgACAAHAP7/8P/u//n/BwASABoAHwAdABAAAQD9/wAAAQD+/wAACQASAA8ABAD4/+z/5v/p//X///8AAAAAAAD9//r/+f/6//n//P8EAAwADgANAAwACwAGAP7/+P/4/wAACQANAAoABQAAAP3/+v/7//7/AQAJABAAEAAGAPb/6f/q//X///8DAAIA/v/3//L/7P/j/+H/7v8CABEAEQAIAAAA+f/y//P///8RAB8AHgATAAsAAwD2/+r/7v/7/wYADgAUAA0A9//i/+H/8P8BABEAHwAfABQACwAGAP7/9v/3////CgAaAB4ACwDv/97/4P/o/+//9/8AAAQAAwD+//T/6v/p//T/AwAOABAACQABAAIABAD+//j///8KAA0ACAAEAAYABAD9//f/+f/+/wMACQALAAEA8f/o/+v/8f/z//T/+f/7//f/8//x/+7/7v/5/wgAEwAUAA4ABgACAAQACQAMAA8AGAAfABcABgD9//3/AAADAAkADgAPAAwAAgD5//L/7f/u//v/CwASAAoA/v/0/+3/6f/v//r//v/7//v//v/2/+j/4f/i/+f/8/8DAA4ADAAEAAAAAAAAAP7/AQAOABoAHQAWAAsAAQD9//z/+f/2//j///8EAAgACgAEAPf/6//u//7/DgAYABkAEwAHAPz/+v8BAAUA/P/z//f/AAABAPv/8f/l/9v/3v/v/wMACQD8/+3/6//z//3/BgALAAQA/f8BABIAHgAaAAkA/P/+/woAGAAfABsADwAEAAAAAAAEAAkACQAEAAEAAgACAAAA9//p/9//5/8AABUAEgD7/93/0//k//v/BQACAP3/+v/+/wEA/P/w/+n/7f/5/woAGAAZAAgA8f/m/+7/+/8HABIAEwAGAPj/9/8BAAYA///0//j/BQASABcAFAAKAP7/+P8AAA8AEwAOAAoACwAHAPv/8v/z//b/9//2//P/8v/3/wAAAAD3//D/8v/6/wUADgALAAAA+v8AAAgABgAEAAUABAD9//b/9//9////AAAGAAgAAQD7//7/AAD8//r//v8AAAAAAAABAAAA+v/y//H/9v/9/wQADAAOAAgAAAD8//n/9//6/wAABQALABIAEAD//+b/2v/h//X/CgAWABQACAAAAP/////6//j//v8EAAwAGQAiABQA8//b/+D/8v8BABAAGwAWAAEA8f/x//X/9P/4/wYAEAAMAAMA/f/0/+3/7f/1//z/AAAGAAwACQD+//H/6f/r//n/EAAlACkAHAANAAUAAAD//wEABwALAAsACQADAPb/5f/c/9z/4v/u//7/DAAPAAEA6v/f/+n/+v8HABEAFwAUAA0ABgD9//L/7f/z/wAADAASABMADgADAPT/6v/u//v/CQAUABgADAD7//H/9P/4//r/AAAHAAwACwAJAAYA/f/v/+z/9v///wEABwANAAgA9f/l/+X/8P/7/wQADwAUABEADQAFAPv/9f/8/wgAFQAcABkAEAAFAP7/+P/x/+7/9f8DAAwABgD5/+//7v/w//H/9P/8/wQADAANAAcA/f/y/+v/7v/+/xAAFwANAAAA9f/w/+//8//1//H/9P8AAAkACwADAPv/+f/9/wIACgATABUAEQALAAYA///3//f/AAAEAAAA/f///wAA/P/7////AQAAAAQADgATAAcA+//5//3///8CAAgAAwD0/+7/9v///wAAAAAAAP///f8AAAgADgANAAsABwABAAAAAgABAPz/9//0//P/9P/2//b/8P/p/+r/9/8DAAQA/v/6//n/+f/8/wUADgAOAAkACwAOAAcA///9//3/+v/6/wIADQAQAAoA///0/+3/9P8GABUAFgAOAAcAAgACAAYABwACAP//AgAKAAkAAAD1/+z/6P/r//X/+f/2//T/+f/4/+//7P/2/wIACAAGAAIAAAD9//r//f8AAP////8HAA0ABQD6//X/+f8AAAcADwAPAAUAAAADAAMAAAD//wAAAQAFAAoACQADAP7/9//0//X//v8KABEACwAAAPz/+v/7////AQAAAP//AAACAAAA+P/x/+//8v/4/wAABgAIAAQA/v/6//z/AAAFAAgABwABAAAABAAEAP7/9//2//n//f8AAAEA/f/1//L/9f/6//3/AAAAAAAAAAAEAAgABwAEAAUACAAIAAgABwAFAAQABQAKAA0ACQACAP///P/5//z/AgAEAAEA/P/z/+//8v/4//v/+P/0//X///8GAAQA///7//n//P8FAA0ADAADAP3/+f/3//n/AAAHAAcAAAD8//n/+v///wQACAAGAAYACwAPAAwAAgD4//P/9/8AAAoADwANAAMA+P/y//b//v8AAAAAAAACAAAA/f/7//j/8P/o/+z/+P8AAAMABAAAAPn/9P/3////BAAJAAsACgAEAAAAAAAAAP//+//7//7/AgAEAAQAAAD8//v///8CAAQABAAFAAgACAAGAAEA/P/7////AQAAAP3/+P/2//n/AAAFAAEA/P/9/wIABwAIAAcAAwAAAP3/AAAEAAIA//8AAAAA+P/z//n/AAAEAAMAAAD+/wAABwALAAcA///8/wAABwAJAAUAAAD7//j/+P/6//v/+v/4//b/+P/7//z/+//6//b/9P/6/wIABwAFAAEA/v/8//3///8BAAQAAwAAAAAAAAAAAAAAAAAAAAAAAAAFAAsACwAGAAEA///+/wEABQAEAAEAAAAAAAAA///8//r/+f/8/wAABAAFAAMAAAD7//j/+P/7//7/AAAAAPz/+P/4//v/+v/1//X//f8FAAcABQADAAIAAgADAAQABgAIAAcABQABAP3//f////7/+//7//v//f8AAAAA/v/+/wEABAAEAAQABAAEAAQABAACAP//+//7/wAAAwAEAAIA///6//j/+////wAAAAAAAAAA///+//3//P/8//3//P/6//v///8BAP7/9//0//v/AQADAAAA///+/wAAAwADAAAA/f///wIABAAEAAQABQACAP7//P///wUACgAIAAAA9v/0//n/AAAEAAMA///9/wAABQAGAAMA///8//3/AAADAAgACAADAP3/9f/w//T/AAAIAAgAAwD///3/AAACAAIAAAD+//7/AQAFAAQA///4//L/8f/0//n///8BAAEAAAD+//v//v8CAAYABwAJAAcAAwADAAcACAADAAAA/////wAAAQABAP3/+v/7//7/AAAAAAAAAAAAAAAAAAAAAAAAAgAEAAAA//8AAP///f/8//v/+//+/wEAAQAAAPz/9//2//r//v8AAAAAAAD///z/+//5//v///8BAAIAAgAEAAUABQAEAAAA/v/+/wIACgALAAQA/v/+/wAA///9////AAAAAAAAAgADAAAA///+//7///8BAAYACQAGAAAA+//6//z/AAADAAQAAgABAAEAAQD+//r/+f/9/wIABAACAP//+//3//X/9f/5////AgACAAAA/f/7//v//f/+//7/AAACAAMABQAFAAAA+f/3//v/AAADAAQAAgAAAAAA///+//7//v///wIACAALAAoABwACAAAAAQAFAAkACgAJAAcABQACAP//+//7//v/+v/7/////v/7//j/9v/0//b//P8AAAIAAgADAAIAAAAAAAAAAAAAAAMABgAIAAgAAwD+//z///8AAAAAAAAAAP7//P/6//n/9//2//X/9//9/wAAAgADAAIA/v/8////BAAKAA0ADQAJAAMAAAD9//r/+f/8/wEABAAEAAAA+P/2//f/9v/4//7/AAAAAAMAAwD///f/8f/y//n/AAAHAA0ACwAFAAAAAAAAAAEABwAMAAwACQAEAAAA/v/7//j/9v/3//z/AQAEAAIAAAD7//f/9//8/wIACQAMAAgAAAD8//v//P/9//v/+////wIAAgAAAP3/+v/6//3/AQAEAAMAAQAAAAAA/f/7//v/+v/7////AQD///z//f/+//7///8BAAMABAADAAIAAgACAAIAAwAEAAQABAAEAAQAAgAAAP////8AAAAAAQAAAP3/+v/7//3///8AAP///f/8//7//v/9//7//v/9////AAACAAUABAAAAP3/+//8/wAABAACAAAA/P/7//z/AAABAP3/+f/6//7/AgAEAAEA///+/wAAAgAFAAYABAABAAAAAAACAAQABgAFAAEA/f/7//3/AgAGAAUA///5//j/+f/9//7/+//5//z///8AAAAA///6//b/9//7/wAAAgACAAAA///8//n/+v/+/wAAAAAAAAAAAAABAP//+//8/wAAAgAFAAcABQABAAAAAAAAAAEABgAIAAcABgAIAAgABgAEAAMAAgADAAYACwALAAYAAAD6//f/9//8/wAAAAD+//f/9P/1//f/+P/7//7/AAACAAUABQACAP3/+P/5//7/AAAAAP//+v/1//L/8//1//f/+f/9/wAAAAAAAP7/+//8////AgAGAAsADQALAAUAAAD//wAAAQAEAAcABgAFAAUAAwD///v/+//9/wEABgAJAAgABAAAAP3//P///wMABgAEAAEA/v/7//n/+P/3//f/+v/8////AAAAAP3/+//7////AwAHAAgACAAFAAEAAAD+//r//P8AAAAAAAAAAP3/+//7//n/+v/+/wAAAAAAAAAAAAD///7//v8AAAIAAwAEAAQABAADAAEAAAABAAMABAACAAEAAQABAAAA+//4//n/+f/6//7/AAD///z/+//4//b/+f///wIAAgADAAQAAgAAAAAAAAAAAAIABAAEAAUABAACAAEAAAD9//z///8AAAAAAgAAAP3/+P/2//j//v8AAAEAAgADAAIAAQAAAAAAAAADAAMABQAIAAgABQAAAPv/+P/7////AAAAAAEA///5//X/9P/1//n//v8AAP7//f/+//7//f/+//7///8AAAUACQAKAAcAAQD//wAAAgAGAAgACAADAP//+//6//z//v/+////AAAAAP////////z/+f/7//7/AAAAAAAAAAD9//r/+f/7////AQADAAIAAgABAAAAAAABAAMABAAEAAMAAQABAAEAAAAAAAAA/v/+/wAAAQAAAP///P/9//7//f/9////AAAAAAEAAgABAAAAAAAAAAAAAAAAAAMABAABAAAA///+////AAAAAAAAAAD//wAAAAAAAP///f/7//v//v8AAAAAAAAAAAAA/v/+////AQADAAMABAAEAAMABAAEAAMAAQABAAEAAgADAAMAAAD9//n/+P/7//7/AAAAAAAA//////3/+//+/wEAAgACAAQAAwABAAEAAAAAAAAAAAABAAMABAABAP7/+//6//z///////7//v/+//7//v/9//7/AAAAAAAAAAAAAAAAAAAAAAAA/v/+/wAAAAAAAAAAAAAAAAAAAAACAAIAAQAAAAAAAAABAAAAAAAAAAAA/////////f/9//7//v///wAAAAAAAAAA/v/+/wAAAAAAAAAAAAAAAAAAAAAAAAAAAAAAAAAAAQABAAAAAAAAAAEAAAAAAAAAAAAAAP/////+//7/AAABAAAAAAAAAP3//P/+/wAAAAAAAAAAAAAAAAAAAAAAAAAAAAACAAIAAwAEAAIAAAAAAAEAAAAAAAAAAQAAAAAA/f/7//v/+//7//z///8AAAAAAAD///3//f///wAAAAAAAAAAAAABAAAAAAAAAAAAAAADAAQAAgAAAAAA//////7//v///wAAAAAAAAAA/v/8//3///8AAAAAAAAAAAAAAAAAAAAAAAAAAAAAAAACAAIAAAAAAAIAAgAAAAAAAwADAAAAAAD///z/+//+/wAAAAD///3/+//7//n/+f/9/wAAAAAAAAAAAAAAAAAAAAACAAMAAgAEAAYAAwAAAAAA///7//v/AAAAAAAA///9//v/+//+/wAAAAAAAAAA//8AAAAA/v///wAAAAABAAIAAwADAAMAAAAAAAAAAQADAAQAAgAAAAAAAAAAAAAAAAAAAAAAAAABAAEAAAD//////v/+/wAAAAAAAP/////+//v/+//9////AAAAAAAAAAAAAAAAAAAAAAAAAQABAAEAAQAAAAAA///9//z//P/8//z//P/6//n/+v/8//7/AAAAAAAAAAAAAAAAAAAAAAAAAAAAAAIAAwACAAIAAwAEAAMAAQABAAAAAAAAAAAA/////////v/+/wAAAAAAAAAAAAAAAAAAAAAAAAEAAQABAAAAAAD/////AAD+//7///8AAAAAAAAAAAAAAAAAAAAAAAABAAEAAAAAAAAAAAAAAP///////////////////v/+//3//v8AAAAAAAAAAAAAAAAAAAAAAAAAAAAAAAAAAAAAAQAAAAAAAAD//wAAAAD//////v/9//7/AAAAAAAAAAAAAAAAAAAAAAAAAQABAAEAAAAAAAAAAAD9//z//P/7//v//v8AAAAA/v/+/wAAAAAAAAAAAAAAAAAAAAABAAIAAQABAAEAAAAAAAAAAQABAAAAAAAAAAAAAAAAAAAAAAAAAAAAAAAAAAAAAQAAAAAAAAAAAAEAAQABAAEAAQAAAAAA///////////+////AAAAAAAAAAAAAP/////+//7/AAAAAP/////////////9//v/+//+/wAAAAAAAAAAAAAAAAAAAAAAAAAAAAAAAAAA//8AAAAAAAAAAP//AAAAAAAAAAAAAAAA//8AAAAAAAAAAAAAAAAAAAAAAAAAAAAAAAAAAAAAAQAAAAAAAAAAAAAAAAABAAEAAQAAAP//AAAAAAAAAAAAAAAAAAAAAAAAAAD//////v/+////AAAAAP///v/+/wAAAAAAAAAAAAAAAAAAAAABAAEAAQAAAAAAAQABAAAAAAAAAP///////////v/+//3//v8AAAAAAAAAAAAAAAAAAAAAAAAAAAEAAAAAAAAAAAAAAAAAAAAAAP////8AAAAAAAAAAAEAAAAAAAAAAQAAAAAAAAAAAP////////3//P/9//z/+//8//7//v/+//3//v8AAAAAAAAAAAAAAAAAAAEAAQABAAEAAAAAAAAAAAAAAAAAAAD//wAAAAAAAAAAAAAAAAAAAAAAAAAAAAAAAAEAAAAAAAAAAAAAAAAAAAAAAAAAAAD//wAAAAD+//7/AAABAAMAAgABAAEAAQABAAEAAQABAAAAAAAAAAAAAAAAAP7//P/8//z/+//9//7//f/+/wAAAAAAAAAAAAAAAAAAAAAAAAEAAQABAAEAAAD///////////////////7//v/+//3//v///wAAAAABAAIAAwADAAIAAAAAAAAAAAAAAP///////////v/+//3//v8AAAAAAAACAAIAAAAAAAEAAQABAAEAAQABAAAAAAAAAAAA//////3//P/8//v//P/+//7//f/9//7/AAAAAAAAAAAAAAAAAAAAAAAAAAAAAAAAAAAAAAAAAAAAAAAAAAAAAAAAAAAAAAAA/v/+/wAAAAAAAAAAAAAAAAAAAAAAAAAA//8AAAAAAAAAAAAAAAAAAAAAAAAAAAAAAQADAAMAAwAEAAMAAQAAAAAAAAAAAAEAAQAAAAAAAAD/////AAD+//z//f///////v/+//7//v/+//3///8AAAAAAAAAAAAAAAAAAAAAAAAAAAAAAAAAAAEAAwAEAAIAAAAAAAAAAAAAAAEAAAAAAAAAAAAAAAAAAAD//wAAAAAAAAAAAAAAAAAAAAAAAAAAAAAAAAAAAAAAAAAAAAD///////////////////7//f///wAAAAD//////f/9////AAAAAAAAAAAAAAAAAAAAAAAA///+//7/AAAAAAAAAAAAAAAAAAAAAAAAAAAAAAAAAQABAAEAAAAAAAAAAAAAAAAAAAAAAAAAAAABAAAAAAAAAAEAAAAAAAAAAAAAAAAAAAD//////////////////////v/+//3//v///wAAAAAAAAAAAAAAAAAAAAAAAAAAAAAAAAAAAAAAAAAAAAAAAAAAAAABAAAAAAAAAAAAAAAAAAAAAAAAAAEAAAAAAAAAAAAAAAEAAQABAAAAAAAAAAAAAAD//////v/+/wAAAAAAAAAAAAAAAAAAAAAAAAAAAAABAAAAAAAAAP//AAAAAAAAAAAAAAAAAAD///////////7///8AAAAAAAAAAAAAAAAAAAAAAAAAAAAAAAAAAAEAAQAAAAAAAAAAAAAAAAAAAAAAAAAAAAAA//8AAAAAAAD//wAAAAAAAAAAAAAAAAAAAAAAAAAAAAAAAAAAAAAAAAAAAAAAAAAAAAAAAAAAAQAEAAMAAQABAAEAAAAAAAAAAAD/////AAD///7///8AAP/////+//z//f////////////7/+//7//3//v/9//3///8AAAAAAAAAAAAAAAAAAAAAAAAAAAAAAAAAAAEAAQABAAEAAAAAAAEAAAAAAAAAAAAAAAAAAAAAAAAAAAABAAAAAAAAAAAAAAAAAAAAAAAAAAAAAAAAAAAAAAAAAAAAAAAAAP/////+//7/AAAAAAAAAAAAAAAAAAAAAAAAAAAAAAAAAAABAAAAAAAAAP//AAAAAAAAAAAAAAAAAAAAAAAAAAAAAAAAAAAAAAAAAAAAAAEAAAAAAAAAAAAAAAAAAAAAAAAAAAAAAAAAAAAAAP///v///wAAAAAAAAAAAAAAAAAAAAAAAAAAAAAAAAAAAAAAAAAA//8AAAAAAAAAAAAAAAAAAAAAAAAAAAAAAAAAAAAAAAAAAAAAAAD////////+////AAAAAAAAAAAAAAAA/////wAAAAAAAAAAAAAAAAAAAAAAAAAAAAAAAAAAAAAAAAEAAQABAAEAAAAAAAAAAAAAAAAAAAAAAAAAAAAAAAAAAAAAAAAAAAAAAAAA///+//7/AAAAAP////8AAAAA/v/+/wAAAAAAAAAAAAAAAAAAAAAAAAAAAAAAAAAAAAAAAAAAAAAAAAAAAAAAAAAAAAAAAAAAAQABAAAAAAAAAAAAAAAAAAAAAAAAAAAA/////////v///wAAAAAAAAAA///9//3///8AAAAAAAAAAAAAAAAAAAAAAAAAAAAAAAAAAAAAAAABAAEAAAAAAAAAAAAAAAAAAAAAAAAAAAAAAAAA/////////v/+/wAAAAAAAAAAAAAAAP/////+//3//v8AAAAAAAAAAAAAAAAAAAAAAAAAAAAAAAAAAAEAAQABAAAAAAAAAAAAAAAAAAEAAQABAAEAAAAAAAAAAAAAAAAAAAAAAAAAAAAAAAAAAAAAAAAAAAAAAAAAAAAAAP//AAAAAP7//v8AAAAAAAAAAAAAAAD////////////////////////////////+//7//f/+/wAAAAAAAAAAAAAAAAAAAAAAAAAAAAAAAAAAAAAAAAAAAAAAAAAAAAAAAP//AAAAAAAAAAAAAAAAAAAAAAAAAAAAAAAAAAAAAAAAAAABAAEAAAAAAAAAAAAAAAAAAQABAAEAAAAAAAAAAAAAAAAAAAAAAAAAAAAAAAAA//////7//v8AAAAA/v/+/wAAAAAAAAAAAAAAAAAAAAAAAAAAAAAAAAAAAAAAAAAAAAAAAAAAAQABAAAAAAAAAAAAAAAAAAAAAAAAAAAAAAAAAAAAAAAAAAAAAAAAAAAAAAAAAAAAAAAAAAAAAAAAAAAAAAAAAAAAAAAAAP/////+//7/AAAAAAAAAAAAAAAAAAAAAAAAAAD//////v/+/wAAAAD+//7/AAAAAAAAAAAAAAAAAAABAAAAAAAAAAAAAAAAAAAAAAAAAAAAAAAAAAAAAQABAAAAAAAAAAAAAAAAAAAAAAAAAAAAAAAAAAAAAAAAAAAAAAAAAAAAAAAAAAAAAAAAAAAA//8AAAAAAAAAAAAAAAAAAAAAAAAAAAAAAAAAAAAAAAAAAAAAAAAAAAAAAAAAAAAA//////7///8AAAAAAAAAAAAAAAAAAAAAAAAAAAAAAAAAAAAAAAAAAAAAAAAAAAEAAQABAAEAAQAAAAAAAAAAAAAAAAAAAAAAAAAAAAAAAAAAAAAAAAAAAAAAAAD////////+////AAAAAAAAAAAAAAAAAAAAAAAAAAAAAAAAAAAAAAAAAAAAAAAAAAAAAAAAAAAAAAAAAAAAAAAA///////////+//7//f/+////AAAAAAAAAAAAAAAAAAAAAAAAAAAAAAAAAAAAAAAAAAAAAAAAAAAAAAAAAAABAAEAAAAAAAAAAQAAAAAAAQAAAAAAAAAAAAAAAAAAAAAAAAAAAAAAAAAAAAAAAAAAAAAAAAAAAAAAAAAAAAAAAAD///////////////////////////////////////////7//v/9//7/AAAAAAAAAAAAAAAAAAAAAAAAAAAAAAAAAAAAAAAAAAAAAAAAAAAAAAAAAQAAAAAAAAAAAAAAAAABAAAAAAAAAAEAAAAAAAAAAAAAAAAAAAAAAAAAAAAAAAAAAAAAAAAAAAAAAAAAAAAAAAAAAAAAAAAAAAAAAAAAAAAAAAAAAAAAAAAAAAAAAAAAAAAAAAAAAAAAAAAAAAAAAAAAAAAAAAAAAAAAAAAAAQABAAEAAQAAAAAAAAAAAAAAAAAAAAAAAAABAAEAAAAAAAAAAAAAAAAA//////////////////////////////////////////////////////7//v/9//3///8AAAAAAAAAAAAAAAAAAAAAAAAAAAAAAAAAAAAAAAAAAAAAAAAAAAAAAAAAAAAAAAAAAAAAAAAAAAAAAAAAAAAAAAAAAAAAAAAAAAAAAAAAAAAAAAAAAAAAAAAAAAAAAAAAAAAAAAAAAAAAAAAAAAAAAAAAAAAAAAAAAAAAAAAAAAAAAAAAAAAAAAAAAAAAAAAAAAAAAAAAAAAAAAAAAAAAAAAAAAAAAAAAAAAAAAAAAAAAAAAAAAAAAAAAAAAAAAAAAAAAAAAAAAAAAAAAAAAAAQABAAAAAAAAAAAAAAAAAAAAAAAAAAAAAAAAAAAAAAAAAAAAAAAAAAAAAAAAAAAAAAAAAAAAAAAAAAAAAAAAAAAAAAAAAAAAAAAAAAAAAAAAAAAAAAAAAAAAAAAAAAAAAAAAAAAAAAAAAAAAAAAAAAAAAAAAAAAAAAAAAAAAAAAAAAAAAAAAAAAAAAAAAAAAAAAAAAAAAAAAAAAAAAAAAAAAAAAAAAAAAAAAAAAAAAAAAAAAAAAAAAAAAAAAAAAAAAAAAAAAAAAAAAAAAAAAAAAAAAAAAAAA//8AAAAAAAAAAAAAAAAAAAAAAAAAAAAAAAAAAAAAAAAAAAAAAAAAAAAAAAAAAAAAAAAAAAAAAAAAAAEAAAAAAAAAAAAAAAAAAAAAAAAAAAAAAAAAAAAAAAAAAAAAAAAAAAAAAAAAAAAAAAAAAAAAAAAAAAAAAAAAAAAAAAAAAAAAAAAAAAD/////AAAAAAAAAAAAAAAAAAAAAAAAAAAAAAAAAAAAAAAAAAAAAAAAAAAAAAAAAAAAAAAAAAAAAAAAAAAAAAAAAAAAAAAAAAAAAAAAAAAAAAAAAAAAAAAAAAAAAAAAAAAAAAAAAAAAAAAAAAAAAAAAAAAAAAAAAAAAAAAAAAAAAAAAAAAAAAAAAAAAAAAAAAAAAAAAAAD//////v/+/wAAAAAAAP////////3//v8AAAAAAAAAAAAAAAD//////v/+/wAAAAD//wAAAAAAAAAAAAAAAAAAAAAAAAAAAAAAAAAAAAAAAAAAAAAAAAAAAAAAAAAAAAAAAAAAAAAAAAAAAAAAAAAAAAAAAAAAAAAAAAAAAAAAAAAAAAAAAAAAAAAAAAAAAAAAAAAAAAAAAAAAAAAAAAAAAAAAAAAAAAD//wAAAAAAAAAAAAAAAAAAAAAAAAAAAAAAAAAAAAAAAAAAAAAAAAAAAAAAAAAAAAAAAAAAAAAAAAAAAAAAAAAAAAAAAAAAAAAAAAAAAAAAAAAAAAAAAAAAAAAAAAAAAAAAAAAAAAAAAAAAAAAAAAAAAAAAAAAAAAAAAAAAAAAAAAAAAAAAAAAAAAAAAAAAAAAAAAAAAAAAAAAAAAAAAAAAAAAAAAAAAAAAAAAAAAAAAAAAAAAAAAAAAAAAAAAAAAAAAAAAAAAAAAAAAAAAAAAAAAAAAAAAAAAAAAAAAAAAAAAAAAAAAAAAAAAAAAAAAAAAAAAAAAABAAEAAAAAAAAAAAAAAAAAAAAAAAAAAAAAAAAAAAAAAAAAAAAAAP//AAAAAP//AAAAAAAAAAAAAAAAAAAAAAAAAAAAAAAAAAAAAAAAAAAAAAAAAAAAAAAAAAD///7//v8AAAAAAAAAAAAAAAAAAAAAAAAAAAAAAAAAAAAAAAAAAAAAAAAAAAAAAAAAAAAAAAAAAAAAAAAAAAAAAAAAAAAAAAAAAAAAAAABAAEAAQAAAAAAAAAAAAAAAAAAAAAAAAAAAAAAAAAAAAAAAAAAAAAAAAAAAAAAAAAAAAAAAAAAAAAAAAAAAAAAAAAAAAAAAAAAAAAAAAAAAAAAAAAAAAAAAAAAAAAAAAAAAAAAAAAAAAAAAAAAAAAAAAAAAAAAAAAAAAAAAAAAAAAAAAAAAAAAAAAAAAAAAAAAAAAAAAAAAAAAAAAAAAAAAAAAAAAAAAAAAAAAAAAAAAAAAAAAAAAAAAAAAAAAAAAAAAAAAAAAAAAAAAAAAAAAAAAAAAEAAAAAAAAAAAAAAAAAAAAAAAAAAAAAAAAAAAAAAAAAAAAAAAAAAAAAAAAAAAAAAAAA//8AAAAAAAAAAP///v/+/wAAAAAAAAAAAAAAAAAAAAAAAAAAAAAAAAAAAAAAAAAAAAAAAAAAAAAAAAAAAAAAAAAAAAAAAAAAAAAAAAAAAAAAAAAAAAAAAAAAAAAAAAAAAAAAAAAAAAAAAAAAAAAAAAAAAAAAAAAAAAAAAAAAAAAAAAAAAAAAAAAAAAAAAAAAAAAAAAAAAAAAAAAAAAAAAAAAAAAAAAAAAAAAAAAAAAAAAAAAAAAAAAAAAAAAAAAAAAAAAAAAAAAAAAAAAAAAAAAAAAAAAAAAAAAAAAAA/////wAAAAD////////+//3///8AAAAAAAAAAAAAAAAAAAAAAAAAAAAAAAAAAAAAAAAAAAAAAAAAAAAAAAAAAAAAAAAAAAAAAAAAAAAAAAAAAAAAAAAAAAAAAAAAAAAAAAAAAAAAAAAAAAAAAAAAAAAAAAAAAAAAAAAAAAAAAAAAAAAAAAAAAAAAAAAAAAAAAAAAAAAAAAAAAAAAAAAAAAAAAAAAAAAAAAAAAAAAAAAAAAAAAAAAAAAAAAAAAAAAAAD//wAAAAAAAP//AAAAAAAA//8AAAAAAAAAAAAAAAAAAAAAAAAAAAAAAAAAAAAAAAAAAAAAAAAAAAAAAAAAAAAAAAAAAAAAAAAAAAAAAAAAAAAAAAAAAAAAAAAAAAAAAAAAAAAAAAAAAAAAAAAAAAAAAAAAAAAAAAAAAAAAAAAAAAAAAAAAAAAAAAAAAAAAAAAAAAAAAAAAAAAAAAAAAAAAAAAAAAAAAAD//wAAAAAAAAAAAAAAAAAAAAAAAAAAAAAAAAAAAAAAAAAAAAAAAAAAAAAAAAAAAAAAAAAAAAAAAAAAAAAAAAAAAAAAAAAAAAAAAAAAAAAAAAAAAAAAAAAAAAAAAAAAAAAAAAAAAAAAAAAAAAAAAAAAAAAAAAAAAAAAAAAAAAAAAAAAAAAAAAAAAAAAAAAAAAAAAAAAAAAAAAAAAAAAAAAAAAAAAAAAAAAAAAAAAAAAAAEAAAAAAAAAAAAAAAAAAAAAAAAAAAAAAAAAAAAAAAAAAAAAAAAAAAAAAAAAAAAAAAAAAAAAAAAAAAAAAAAAAAAAAAAAAAAAAAAAAAAAAP7//v8AAAAAAAAAAAAAAAAAAAAAAAAAAAAAAAAAAAAAAAAAAAAAAAAAAAAAAAAAAAAAAAAAAAAAAAAAAAAAAAAAAP7//v///wAAAAAAAAAAAAAAAP//AAAAAAAAAAAAAAAAAAAAAAAAAAAAAAAAAAAAAAAAAAAAAAAAAAAAAAAAAAAAAAAAAAAAAAAAAAAAAAAAAAAAAAAAAAAAAAAAAAAAAAAAAAAAAAAAAAAAAAAAAAAAAAAAAAABAAAAAAAAAAAAAAAAAAAAAAAAAAAAAAAAAAAAAAAAAAAAAAAAAAAAAAAAAAAAAAAAAAAAAAAAAAAAAAAAAAAAAAAAAAAAAAAAAAAAAAAAAAAAAAAAAAAAAAD//wAAAAAAAAAAAAAAAAAAAAAAAAAAAAAAAAAAAAD///7/AAAAAAAAAAAAAAAAAAAAAAAAAAAAAAAAAAAAAAAAAAAAAAAAAAAAAAAAAAAAAAAAAAAAAAAAAAAAAAAAAAAAAAAAAAABAAAAAAABAAAAAAAAAAAAAAAAAAAAAAAAAAAAAAAAAAAAAAAAAAAAAAAAAAAAAAAAAAAAAAAAAAAAAAAAAAAAAAAAAAAAAAAAAAAAAAAAAAAAAAAAAAAAAAAAAAAAAAAAAAAAAAAAAAAAAAAAAAAAAAAAAAAAAAAAAAAAAAAAAAAAAAAAAAAAAAAAAAAAAAAAAAAAAAAAAAAAAAAAAAAAAAAAAAAAAAAAAAAAAAAAAAAAAAAAAAAAAAAAAAAAAAAAAP//AAD///7/AAAAAAAAAAAAAAAAAAAAAAAAAAAAAAAAAAAAAAAAAAAAAAAAAAAAAAAAAAAAAAAAAAAAAAAAAAAAAAAAAAAAAAAAAAAAAAAAAAAAAAAAAAAAAAAAAAAAAAAAAAAAAAAAAAAAAAAAAAAAAAAAAAAAAAAAAAAAAAAAAAAAAAAAAAAAAAAAAAAAAAAAAAAAAAAAAAAAAAAAAAAAAAAAAAAAAAAAAAAAAAAAAAAAAAAAAAAAAAAAAAAAAAAAAAAAAAAAAAAAAAAAAAAAAAAAAAAAAAAAAAAAAAAAAAAAAAAAAAAAAAAAAAAAAAAAAAAAAAAAAAAAAAAAAAAAAAAAAAAAAAAAAAAAAAAAAAAAAAAAAAAAAAAA//8AAAAAAAD//wAAAAAAAAAAAAD//wAAAAAAAAAAAAAAAAAAAAAAAAAAAAAAAAAAAAAAAAAAAAAAAAAAAAAAAAAAAAAAAAAAAAAAAAAAAAAAAAAAAAAAAAAAAAAAAAAAAAAAAAAAAAAAAAAAAAAAAAAAAAAAAAAAAAAAAAAAAAAAAAAAAAAAAAAAAAAAAAAAAAAAAAAAAAAAAAAAAAAAAAAAAAAAAAAAAAAAAAAAAAAAAAAAAAAAAAAAAAAAAAAAAAAAAAAAAAAAAAAAAAAAAAAAAAAAAAAAAAAAAAAAAAAAAAAAAAAAAAAAAAAAAAAAAAAAAAAAAAAAAAAAAAAAAAAAAAAAAAAAAAAAAAAAAAAAAAAAAAAAAAAAAAAAAAAAAAAAAAAAAAAAAAAAAAAAAAAAAAAAAAAAAAAAAAAAAAAAAAAAAAAAAAAAAAAAAAAAAAAAAAAAAAAAAAAAAAAAAAAAAAAAAP////8AAAAA///+//3//v8AAAAAAAAAAAAAAAAAAAAAAAAAAAAAAAAAAAAAAAAAAAAAAAAAAAAAAAAAAAAAAAAAAAAAAAAAAAAAAAAAAAAAAAAAAAAAAAAAAAAAAAAAAAAAAAAAAAAAAAAAAAAAAAAAAAAAAAAAAAAAAAAAAAAAAAAAAAAAAAAAAAAAAAAAAAAAAAAAAAAAAAAAAAAAAAAAAAAAAAAAAAAAAAAAAAAAAAAAAAAAAAAAAAAAAAAAAAAAAAAAAAAAAAAAAAAAAAAAAAAAAAAAAAAAAAAAAAAAAAAAAAAAAAAAAAAAAAAAAAAAAAAAAAAAAAAAAAAAAAAAAAAAAAAAAAAAAAAAAAAAAAAAAAAAAAAAAAAAAAAAAAAAAAAAAAAAAAAAAAAAAAAAAAAAAAAAAAAAAAAAAAAAAAAAAAAAAAAAAAAAAAAAAAAAAAAAAAAAAAAAAAAAAAAAAAAAAAAAAAAAAAAAAAAAAAAAAAAAAAAAAAAAAAAAAAAAAAAAAAAAAAAAAAAAAAAAAAAAAAAAAAAAAAAAAAAAAAAAAAAAAAAAAAAAAAAAAAAAAAAAAAAAAAAAAAAAAAAAAAAAAAAAAAAAAAAAAAAAAAAAAAAAAAAAAAAAAAAAAP//AAAAAAAAAAAAAAAAAAAAAAAAAAAAAAAAAAAAAAAAAAAAAAAAAAAAAAAAAAD//wAAAAAAAAAAAAAAAAAAAAAAAAAAAAAAAAAAAAAAAAAAAAAAAAAAAAAAAAAAAAAAAAAAAAAAAAAAAAAAAAAAAAAAAAAAAAAAAAAAAAAAAAAAAAAAAAAAAAAAAAAAAAAAAAAAAAAAAAAAAAAAAAAAAAAAAAAAAAAAAAAAAAAAAAAAAAAAAAAAAAAAAAAAAAAAAAAAAAAAAAAAAAAAAAAAAAAAAAAAAAAAAAAAAAAAAAAAAAAAAAAAAAAAAP//AAAAAAAAAAAAAAAAAAAAAAAAAAAAAAAAAAAAAAAAAAAAAAAAAAAAAAAAAAAAAAAAAAAAAAAAAAAAAAAAAAAAAAAAAAAAAAAAAAAAAAAAAAAAAAAAAAAAAAAAAAAAAAAAAAAAAAAAAAAAAAAAAAAAAAAAAAAAAAAAAAAAAAAAAAAAAAAAAAAAAAAAAAAAAAAAAAAAAAAAAAAAAAAAAAAAAAAAAAAAAAAAAAAAAAAAAAAAAAAAAAAAAAAAAAAAAAAAAAAAAAAAAAAAAAAAAAAAAAAAAAAAAAAAAAAAAAAAAAAAAAAAAAAAAAAAAAAAAAAAAAAAAAAAAAAAAAAAAAAAAAAAAAAAAAAAAAAAAAAAAAAAAAAAAAAAAAAAAAAAAAAAAAAAAAAAAAAAAAAAAAAAAAAAAAAAAAAAAAAAAAAAAAAAAAAAAAAAAAAAAAAAAAAAAAAAAAAAAAAAAAAAAAAAAAAAAAAAAAAAAAAAAAAAAAAAAAAAAAAAAAAAAAAAAAAAAAAAAAAAAAAAAAAAAAAAAAAAAAAAAAAAAAAAAAAAAAAAAAAAAAAAAAAAAAAAAAAAAAAAAAAAAAAAAAAAAAAAAAAAAAAAAAAAAAAAAAAAAAAAAAAAAAAAAAAAAAAAAAAAAAAAAAAAAAAAAAAAAAAAAAAAAAAAAAAAAAAAAAAAAAAAAAAAAAAAAAAAAAAAAAAAAAAAAAAAAAAAAP//AAAAAAAAAAAAAAAAAAAAAAAAAAAAAAAAAAAAAAAAAAAAAAAAAAAAAAAAAAAAAAAAAAAAAAAAAAAAAAAAAAAAAAAAAQABAAAAAAAAAAAAAQAAAAAAAAAAAAAAAAAAAAEAAAAAAAAAAAAAAAAAAAAAAAAAAAAAAAAAAAAAAAAAAAAAAAAAAAAAAAAAAAAAAAAAAAAAAAAAAAAAAAAAAAD///7///8AAAAAAAAAAAAAAAAAAAAAAAAAAAAAAAAAAAAAAAAAAAAAAAAAAAAAAAAAAAAAAAAAAAAAAAAAAAAAAAAAAAAAAAAAAAAAAAAAAAAAAAAAAAAAAAAAAAAAAAD//////////////v/+//3//f///wAAAAAAAAAAAAAAAAAAAAAAAAAAAAAAAAAAAAAAAAAAAAAAAAAAAAAAAAAAAAAAAAAAAAAAAAAAAAAAAAAAAAAAAAAAAAAAAAAAAAAAAAAAAAAAAAAAAAAAAAAAAAAAAAAAAAAAAAAAAAAAAAAAAAAAAAAAAAAAAAAAAAAAAAAAAAAAAAAAAAAAAAAAAAAAAAAAAAAAAAAAAAAAAAAAAAAAAAAAAAAAAAAAAAAAAAAAAAAAAAAAAAAAAAAAAAAAAAAAAAAAAAAAAAAAAAAAAAAAAAAAAAAAAAAAAAAAAAAAAAAAAAAAAAAAAP//AAAAAAAAAAAAAAAAAAAAAAAAAAAAAAAAAAAAAAAAAAAAAAAAAAAAAAAAAAAAAAAAAAAAAAAAAAAAAAAAAAAAAAAAAAAAAAAAAAAAAAAAAAAAAAAAAAAAAAAAAAAAAAAAAAAAAAAAAAAAAAAAAAAAAAAAAAAAAAAAAAAAAAAAAAAAAAAAAAAAAAAAAAAAAAAAAAAAAAAAAAAAAAAAAAABAAEAAAAAAAAAAAAAAAAAAAAAAAAAAAAAAAAAAAAAAAAAAAAAAAAAAAAAAAAAAAAAAAAAAAAAAAAAAAAAAAAAAAD//wAAAAAAAAAAAAD///////8AAAAA/////////f/9////AAAAAAAAAAAAAAAAAAAAAAAAAAAAAAAAAAABAAEAAAAAAAAAAQAAAAAAAAAAAAAAAAAAAAAAAAAAAAAAAAAAAAAAAAAAAAAAAAAAAAAAAAAAAAAAAAAAAAAAAAAAAAAAAAAAAAAAAAAAAAAAAAAAAAAAAAAAAAAAAAAAAAAAAAAAAAAAAAAAAAAAAAAAAAAAAAAAAAAAAAAAAAAAAAAAAAAAAAAAAAAAAAD//wAAAAAAAAAAAAAAAAAAAAAAAAAAAAAAAAAAAAAAAAAAAAAAAAAAAAAAAAAAAAAAAAAAAAAAAAAAAAAAAAAAAAAAAAAAAAAAAAAAAAAAAAAAAAAAAAAAAAAAAAAAAAAAAAAAAAAAAAAAAAAAAAAAAAAAAAAAAAAAAAAAAAAAAAAAAAAAAAAAAAAAAAAAAAAAAAAAAAAAAAAAAAAAAAAAAAAAAAAAAAAAAAAAAAAAAAAAAAAAAAAAAAAAAAAAAAAAAAAAAAAAAAAA//8AAAAAAAAAAAAAAAAAAAAAAAAAAAAAAAAAAAAAAAAAAAAAAAAAAAAAAAAAAAAAAAAAAAAAAAAAAAAAAAAAAAAAAAAAAAAAAAAAAAAAAAAAAAAAAAAAAAAAAAAAAAAAAAAAAAAAAAAAAAAAAAAAAAAAAAAAAAAAAAAAAAAAAAAAAAAAAAAAAAAAAAAAAAAAAAAAAAAAAAAAAAAAAAAAAAAAAAAAAAAAAAAAAAAAAAAAAAAAAAAAAAAAAAAAAAAAAAAAAAAAAAAAAAAAAAAAAAAAAAAAAAAAAAAAAAAAAAAAAAAAAAAAAAAAAAAAAAAAAAAAAAAAAAAAAAAAAAAAAAAAAAAAAAAAAAAAAAAAAAAAAAAAAAAAAAAAAAAAAAAAAAAAAAAAAAAAAAAAAAAAAAAAAAAAAAAAAAAAAAAAAAAAAAAAAAAAAP//AAAAAAAAAAAAAAAAAAAAAAAAAAAAAAAAAAAAAAAAAAAAAAAAAAABAAEAAQAAAAAAAAAAAAAAAAAAAAAAAAAAAAAAAAAAAAAAAAAAAAAAAAAAAAAAAAAAAAAAAAAAAAAAAAAAAAAAAAAAAAAAAAAAAP////8AAAAAAAAAAAAAAAAAAAAAAAAAAAAAAAAAAAAAAAAAAP//AAAAAP7///8AAAAAAAAAAAAAAAAAAAAAAAAAAAAAAAAAAAAAAAAAAAAAAAABAAEAAAAAAAEAAAAAAAAAAAAAAAAAAAAAAAAAAAAAAAAAAAAAAAAAAAAAAAAAAAAAAAAAAAAAAAAAAAAAAAAAAAD//////////////v/9////AAD+//3///8AAAAAAAAAAAAAAAAAAAAAAAAAAAAAAAAAAAAAAAAAAAAAAAAAAAAAAAAAAAAAAAAAAAAAAAAAAAAAAAAAAAAAAAAAAAAAAAAAAAAAAAAAAAAAAAAAAAAAAAAAAAAAAAAAAAAAAAAAAAAAAAAAAAAAAAAAAAAAAAAAAAAAAAAAAAAAAAAAAAAAAAAAAAAAAAAAAAAAAAAAAAAAAAAAAAAAAAAAAAAAAAAAAAAAAAAAAAAAAAAAAAAAAAAAAAAAAAAAAAAAAAAAAAAAAAAAAAAAAAAAAAAAAAAAAAAAAAAAAAAAAAAAAAAAAAAAAAAAAAAAAAAAAAAAAAAAAAAAAAAAAAAAAAAAAAAAAAAAAAAAAAAAAAAAAAAAAAAAAAAAAAAAAAAAAAAAAAAAAAAAAAAAAAAAAAAAAAAAAAAAAAAAAAAAAAAAAAAAAAAAAAAAAAABAAEAAQABAAAAAAAAAAAAAAAAAAAAAAAAAAAAAAAAAAAAAAAAAAAAAAAAAAAAAAAAAAAAAAAAAAAAAAAAAAAAAAAAAAAAAAAAAAAAAAAAAAAA/////wAAAAAAAAAAAAAAAAAAAAAAAAAAAAAAAAAAAAAAAAAAAAAAAAAAAAAAAAAAAAAAAAAAAAAAAAAAAAAAAAAAAAAAAAAAAAAAAAAAAAAAAAAAAQAAAAAAAAAAAAAAAAAAAAAAAAAAAAAAAAAAAAAAAAAAAAAAAAAAAAAAAAAAAAAAAAAAAAAAAAAAAAAAAAAAAAAAAAAAAAAAAAAAAAAAAAAAAAAAAAAAAAAAAAAAAAAAAAAAAAAAAAAAAAAAAAAAAAAAAAAAAAAAAAD//wAAAAD///7/AAAAAAAAAAAAAAAAAAAAAAAAAAAAAAAAAAAAAAAAAAAAAAAAAAAAAAAAAAAAAAAAAAAAAAAAAAAAAAAAAAAAAAAAAAAAAAAAAAAAAAAAAAAAAAAAAAABAAAAAAAAAAAAAAAAAAAAAAAAAAAAAAAAAAAAAAAAAAAAAAAAAAAAAAAAAAAAAAAAAAAAAAAAAAAAAAAAAAAAAAAAAAAAAAAAAAAAAAAAAAAAAAAAAAAAAAAAAAAAAAAAAAAAAAAAAAAAAAAAAAAAAAAAAAAAAAAAAAAAAAAAAAAAAAAAAAAAAAAAAAAAAAAAAAAAAAAAAAAAAAAAAAAAAAAAAAAAAAAAAAAAAAAAAAAAAAAAAAAAAAAAAAAAAAAAAAAAAAAAAAAAAAAAAAAAAAAAAAAAAAAAAAAAAAAAAAAAAAAAAAAAAAAAAAAAAAAAAAAAAAAAAAAAAAAAAAAAAAAAAAAAAAAAAAAAAAAAAAAAAAAAAAAAAAAAAAAAAAAAAAAAAAAAAAAAAAD/////AAD+//7/AAAAAP7//f8AAAAAAAAAAAAAAAAAAAAAAAAAAAAAAAAAAAAAAAAAAAAAAAAAAAAAAAAAAAAAAAAAAAAAAAAAAAAAAAAAAAAAAAAAAAAAAAAAAAAAAAAAAAAAAAAAAAAAAAAAAAAAAAAAAAAAAAAAAAAAAAAAAAAAAAAAAAAAAAAAAAAAAAAAAAAAAAAAAAAAAAAAAAAAAAD//////////wAAAAD////////////////+//7//v/+////AAAAAAAAAAAAAAAAAAAAAAAAAAAAAAAAAAAAAAAAAAACAAMAAgABAAAAAAADAAQAAgAAAAAAAgAEAAMAAQABAAEAAQABAAEAAQABAAEAAQAAAAAAAAABAAEAAAAAAAAAAAAAAAAAAAAAAAAAAAAAAAAAAAAAAAAA//8AAAAAAAAAAAAAAAAAAAAAAAAAAAAAAAAAAAAAAAABAAIAAAD//wEAAgACAAMAAgACAAUABAABAAAAAwADAAEAAQABAAEAAQAAAAAAAAAAAAAAAAAAAAAAAAAAAAAAAAAAAAAAAAAAAAAAAAAAAP//AAAAAAAA////////AAD+//v//P///wAAAAD///7/AAAAAAAAAAAAAAEAAwACAAAAAAAAAAIABAACAP7/AAAEAAUAAAD9//3/AgAHAAIA+//8/wMABwACAPr/+/8FAA0ABQD1//X/BgATAAUA8P/x/wgAFgAFAOv/7f8MAB4AAgDd/+T/EAAlAAEA1P/c/xAAJAD6/8z/4f8fADEA+v/I/+T/JgAzAPz/z//v/zMAPQACAN7/BAA/AEAACQDl/wUAPwBBAA0A6v/9/yUALAAHAOz/AQAqADIAFAD8/wYALABBADAAGQAjAEgAXwBTADcANABKAFgARAAdAA4AJQA6ACcA///s//z/DQABAN//0P/g/+v/1v+y/6H/pv+q/5v/gP9t/2L/Vf9G/0P/Tv9g/3D/ev+E/5L/pv/E/+n/BgASABAAEAAkAEoAbgB7AGkASAA8AGAAqADiAOgAywDKAB0BzAGaAiQDPQM+A7MDtgSRBaIFcwUaBlgHfAepBYMDbwPzBI8EdwCx+236OPw1/LT3IPJV8KnxEvHR7FPp5Ook7wTwb+z26fvszfLK9Ub19fW1+osAbwMOBDQG8go2D3YQURDiEUEV1BcZGCIXZxaxFRQU6xFLEB0PTw1rCv4GuAPAAPv9hvto+Rz3efRj8pvxe/HP8JzvMu9m8HfyS/Tz9Rn4fvo+/E79zf7kAXAG/wpWDqoQIxOGFg4a5xu8G60bXB2mH9wgSSLRJqYrLCbcEDP4tPC6/gUPgwvj9NXf3dcJ0lXDxrWzupHOUdgvyXCyiK+qwcHQO85yx1vQ1OYo9zz5LvoNBnYVqBmsE3gU7yVQPRBJUEVmPDM3CTXbMk8ypzV/OWQ3Sy2yHxAUtQt0BeoAN/3G95vvteed4xHir92E1APMdMpHzwrVvNjg24jfxuBs3VHacN+97Xz9HgdzChYMcg47EFoRVRV2HhwpDC+SLr0rkSpwKl4o9yMPINseSR+aHnEbbhZgEFcJ+AFZ/Ff6i/tQ/cD8Jfmh9CDyXfLG8p3vROgv4ejf1eQn6ovpY+KZ2WzTpc9HzaPOHdZY4ITlv+GC2j7ZxuAT6yDy3PZs/f4FlAw3Dy8RTRYgHQQhBCGEIXUm5S3vMWcvwihOIvcdYBsHGq0ZNRlTFmwPxgXP/PD2AfRn8rrwYO6D67nobeaN5MriSuHk4HbiFOb36gnwVfQJ9533wfYW95j7RASRDRIUOxcJGGAXRRZMFvUY6R1cIrAjACINHxIcVRnOFsUUehOzEmoSaxJLES4OhQr2B5EG0wV5BlsKPA8/C5v3EN+n1gnkrPOK70XahMl+x27HSrxdr3u0hcqO17jLa7n/vKXVmue14xjbZ+Qz/A0N2Q7oD5Ad6S55Me8lCSE4L8BE/E3jRgA8UDdYNWsvoCeYJDMmqCTEGrUMQwJa/Yr52/LZ6bzhydwj27PbpNxc23LWaND5zfrQd9dv37nn9u2B70ftuOwU837/rgsbExgXExsRH7wgzCA5Iycpki6BL/QsSytdLCgtICp4I6ccNRk1GSsZ7Rb+E+kRbw9zClMEwALkB10KmPyw3x3K19DF6O/v2tnvvVu0HbgrtC6lmqEpuA/Tf9HIti2pML/34Ifqod5R3kD2nhACGM4TChtcMcE/PTcvKUcvokh7XOxZ8Em5Po07ajc1L0YpoylQKjIifxE/Aab3fvNP8Grq4+H92QzVZ9Pg0zvTds8Hy43JtssK0AzWrd7b55TrfugA5sbrK/q5Cs0VVxqfHWwhlCLCIVwkxyzhNtI7bzkANe4ztzRTMk0r6CM9IfchbyCyG0AXphSIEuwNpgYZBOwJtgoF91bWscNOz7fn4eq50Cq0/qxesvyriZnslxi0RM8vyLWrwKPOv0fhn+Vy1j3ZqPfnFNQZKRRaH7E5BUaWOJ0pCzSIUv5mmGA6TiBFp0SWP68zSCuYLEYvyCblE7sCI/pm9vTw+uYE207Soc8z0UPSN8/nyffGr8bpxdfEL8gf1H/kOOzp5Ujf7eZW+KkFfgvjEYsdRSdwJ28jXSZsMjc/wkIaPSo58Tw0QbQ9NDThLKsrPivdJQoeSRkfGYgZzhOuCZIGbQsHBw7sU8dRuevPxOuG5EHALKdJqQSuW575if2RM7YYz1LAPKEbohnJA+fa3R3MKtoBAW0bwxrvFhgpwESYSbw0IifZOXFdOG7FYXhPuUoxSwlCmzIvKywv8DGOJ/4TRASs/Tv6LfKV5N7Wt80JyqHLUNCI0rbOPcfIwAe+6r/jx8/V5uKP5k3i2OAz6cX3hAM7Cc0OLBjFIHAkeCbpLGY4C0GkP2U5MTlLQE9G70N7OhoyrS54K08leh9KHf0d+xwKF4sR3RL/Eu0AE9v8uyXBDuA27UrXerkyreWrcKEri/GB1prWv/3F1qr7mTGwv9PL2qjI7cXl4kMFXRJPEXIcvzh3Sk09/iUWKIdH/GWFauJdwVYhV2dQkT/XMXcx/DfTNXQmMRUEDIcIuwIk9ivlddarzhnOgtGd00PSpM/7ynrAv7OXsHS9FNL03kbexdn23GDn+vAg93z/+w08HJ8hpCF2J/A0ukALQ809QjrlPmVHt0qQRgFAaTuWNjQtzSJtH7YinSTmH0wX1xMDF94P3PAlyyi+uM+348bdjMMmscCv/6vmlgGAbYRDpCi7OLFXnUWj2sGg1i7Oj78Ly2XsLAUfCvQOvCXUQWtHRTS5JYsyAVCfYk1gnlgBWvlcJVTFQjY3KDdlOYYy1yMtGJgUeBNJDAn8HujX2HLRndA/1E7YdNfpz3jE8blVtRK5tcKbzDTSs9Ps1fPczefB8n37HAIaCMwOxhafIFwsqDehPio/nTsAOjM+FUVjSPpFdUCGOpc0gC6IKTEndybpI/AdJhhEFisTCQSC6NzQFM1D2ADd/c/3vKCzKbEEp+OTuom5lRSrirEBpiWfBq7txXPOuMaTxaPXVu+K+/n/ZQ3lJqo6pzkfLUUrJTs7TqFV0lNzVDxZ0VjTTh5DYT6aPhg7dDD6IxkcaxlzFx8RhASG9HfmYd202CfX59dn2JPUpcuDwtO+OMHHxeDIpMr0zYbUHd355f/u6veA/lQBVAOPCXwVWyN+Li81CjhvOIY46jkhPBQ+ND9zPv865zVuMcQuYCy4Jw4hoRqNFUsSGRBLCvz7lOde1/XT7NgK2PjL3r6auUG3tq61ofWcgafUtfS2yayrqla6B86205HObNEU4jHyX/d2+rAIjB+qLpssICSbJmA1PkI6RJ9BGEQKSghKb0LQOx47nTtHN4gtaiL8GrEYpBf3EqoJpv7f9HrszeRt3z7eKOBb4eTd+9W8z0vQ5dRU16bWudc93njnFe638SX2Xvx8AXkDiASnCaEUyyBLKGsqxionLFIt2CtSKYsp9it2LDQpDSTmH4gdtxp0FekOmwmvBn4EEP+x9LbpHOQz5Nvjht1g07bM88vQy17HIMFfwP3G98wSy17GRMlX1K/dv94i3R/iCO0g9S33afndAb8NlxS+E5ESHhiDIbgmgSXGI98m9isILQsqfydLJ0cnoiReH7saDRlFGGUUqAxABZcCDAM/ARn8gfcU9hX2SvR08Avule/z8urzivET8LXzA/ry/LD7CvsM/rACYwW3BcEGhgoBD94Qng9BDpUPChKiERUORwuXCywN3QzqCYIGqwT7AxYDZwE8/7f94PwD+uPzhu447jDx9/F87kXqG+nK6dPoGeat5JPmIupr62TpK+hR63zwzvKT8dPwS/Oo9tz3Fvh9+nT/+QP3BCUDdgLgBPMHuQjEBzAI+wpLDbAMtQpICrMLlQz0CvIHhwaUB+MIPQgmBg4FyQU6BrAEmgJiAkcEQQZiBjsF8wQpBlcHIwcqBmkGuQgyC10LXAmmBxgIxwkwCsgIygexCB4KAQpNCM8GwwYPB7QF4gIpAQ8CugNKA6kAVv7I/dz9Bv2P+8/6+/q5+hz5JPd39gT3LPf99UL0VvNy85/zPfPa8gPzNvOn8pbxU/Gr8q/05fUT9gb2Vfbq9k73iPdZ+Az6v/t6/EL8//tv/DD9Vv3O/Gj8zvzr/e3+NP8K/wH/Jv8i/8H+fP4k/5sAyQH6AX4BRwEiArYDvgTMBOUEKQZlCBMKRwovCl4LUw08DrENdg0xD94RoRKXEDoOKw7PD0IQZQ6FDOYMWA4PDroLtwmqCT0KFwlKBmYE8ARCBsIFWwNSAfEA/wAHAHL+jf2Z/X39Sfxr+gn5hPgo+B73Z/XP8+LyXPK/8fLwLPCg70nv9+6m7pLu5O6Q71nw8vBM8ZzxBvKG8iHz+PMQ9Sz29fZo99f3ZvjH+Mr43viS+cf6zPtL/Lr8mP2d/iX/Gv8e/9n/JQE8AsICOwMwBIEFpgZCB44HKwhnCf8KcAxfDQoOBw9RECwRSBFLEQUSOBOmE6USJhGOEPIQEhH6D2EOvA0aDvENXAxuCqYJ0AlTCXgHcAWrBOsEqwQsA2UBkACJABoAwv5a/eD8Df3A/ID7C/o5+eP4Sfg09w32L/WG9LfzmvKF8ePwqvCI8Erw+e/B757vgO+H77bv0O/Q7wfwqfCX8XXy7vIh83vzGfS39Cr1qPWI9rz3vPg/+an5kvr/+2T9T/7Y/mf/MAARAd4BtQLQAx4FXgZvB1gIMQkRCgEL+QvpDMgNtg7ZDxAR/xFpEnEScxJ8EjoSiRHSEKMQ6hDrECMQ5A7SDQ4NOAwWC/IJRgkACX4IaAcgBigFbQRtAwcCwgAqACIADQB6/4r+sP0V/XL8kvvA+m/6jPp8+uX5Ffl3+AT4WvdS9kz1t/SD9E/07vNw8/nygfLj8TLxwPCj8KHwnvC98Cnxs/Hq8a3xdPG88XbyL/Or8zr0N/VZ9gT3Lvd89374/PlE+yL8Df1W/qv/fgDHADIBUQLbAysFLgZEB5EIzAmoCkILEAxMDaYOqg9LENEQaBHqERgS5xGNETcR7BCtEHgQPhDlD0IPLQ7IDIwLwwo5Co4JrwjYBx8HTwY1BeQDnQKZAekAbwAHAKX/O/+s/vX9PP2k/BT8afvL+pP6wfrr+sD6afoo+uj5afmu+AP4rveU91n35PZn9vf1cfWw9MHz8/KZ8qjy0fLZ8rXygPJH8gHyuvGm8fTxrfKj83r0BPVo9eL1hvY/9/r31fj8+Wn71/z//dH+iP9uAJsB3AL8A/8EGQZeB5QIgglICjcLXAxkDQQOZQ7yDrMPKRD+D5UPgw+5D50P/g5wDmgOdA7MDW0MKAuSCj4KZQkaCDAH+Aa5BrAFIAT1AnIC7AH9AC0AAQAZALL/uv7w/c391f1L/U/8tvvh+z38Gfye+277nvuV++r6C/q9+R/6lPqX+kD67vnB+XX5wfjU9zf3Lvdz93z3CPdl9vf1oPUG9Tf0tfPg83704fS+9I702PRx9c711vUi9iz3m/jG+Zn6efuf/N393f6Z/2kAjgHgAhcEEgXsBdcG0weqCEAJrgkpCtoKkwvsC9oLywsDDDEM6gtOC/kKLwtaC9oK+gl1CV4JDgkiCBsHuQbiBswGHAZGBcAEZQTFA+MCWAJrAoECBgJDAcsAqABnAMv/Lv/5/vv+u/45/tz90f3G/Vz9rvw2/Dj8ZvxF/NL7ePtx+3r7Ofuu+jT6E/oh+gT6nPkk+ef43fin+BD4b/c191j3bfc69wn3NfeT96v3evd29+z3rfhY+c75Vfom+xb81/xp/Q/+4/6z/1IA3gCSAXMCRwPdA0sExQRXBdoFLQZpBrkGGAdeB3wHgweCB3kHZQdOB0cHUQdQByYH3AaNBkQG+wW2BYAFUgUcBdcEfgQhBOADwAOSAzQDwAJmAkACSgJZAjACuwE2AesA2gDCAIYAVABLADAAzP85/8r+nv6F/kX+6P2b/Vv9BP2d/Ef8DPzQ+3T7/fqW+l76Svo0+vn5nvlN+Sj5IvkV+fX46vgb+Wf5gvlq+Xf53Plo+tj6Mvuv+2P8GP2X/ff9e/4l/7L/AABLAOEAnwEsAnYCuQIZA3cDpwOzA8sD/gMoBDsEWASOBMEExgSHBCYE3gPJA9UD8AP6A9IDgQM0A/kCwAKHAmcCawJxAlICFgLsAeMB0gGbAWIBZwGqAd4BzQGZAX0BfgFoASoBAAEdAVgBYwExAfsA6ADbAJ8APgDz/9L/vv+c/27/Rv8d/8j+O/6q/VH9NP0n/QT9w/xy/Cf87fu6+4X7Yvtg+3P7jfuq+8r7+/s5/Gf8g/y2/B79mf37/Uj+qf4q/53/2f/z/yYAhgDmACIBVwGvARgCXQJhAjwCIQIyAloCbAJbAkMCOwI1AggCrQFXATcBOgElAd8AjQBlAFoAMwDr/8H/2P8AAPT/uv+q/+n/KgAgAO//9/9MAJ0ApwCUALIA8wANAecAwQDjAD8BgQF/AVwBQQExASABBQHnANAAwQC0AJ8AeABMADUAJADz/5//Tv8j/yL/J/8V//H+0f6z/oj+UP4m/h7+KP4s/i7+QP5s/qj+1/7q/vX+Dv8y/1v/lP/h/ysAWQB0AJUAswC2AKkAtADiABEBHgEQAQcB/gDcAKUAggB9AHQASgARAOv/1f+1/4T/Yf9f/13/MP/q/sv+7P4c/xj/8/73/jL/Yf9g/1j/fP/E//r/BQAPAEAAhACuALMAsQDKAPkAHAEnASUBHwEXARIBFAEcASIBGQH9AN0AwQCgAHMAQQAjAC4ASwBLACUA8f/C/5j/df9k/27/h/+W/47/ef9o/2X/YP9J/zv/Xf+h/9z//f8dAEoAagBfADkANABmAKQAwgDMAOQA/wDyAKgASwAcACQANQArABUACgD8/8b/b/8p/xL/DP/1/tj+z/7Y/tv+y/6z/qz+r/6k/pf+qP7N/uX+7P74/hT/Ov9Y/2P/cv+h/+X/GwA4AFoAmADZAPEA3wDUAO4AGAEyAT8BTQFWAUMBCwHJAKcAswDKAMUAoAByAEoALQASAPf/5//t//b/5//C/63/vP/S/8n/rv+i/6z/vv/R/+f///8SABcAEgATACsAWQCQAMMA7AACAQUBAgECAfwA8wD6ABUBKwEdAeIAmABdACoA7/+4/5r/jf94/0X/BP/e/tD+qv5n/j3+Tf55/pL+kv6g/sz+6/7j/tD+2v4O/0//c/+H/7v/BAArABsAAAAIAEAAggClALEAxQDdAN0AwwCuAL0A3wDhAL0AnQCfAK8ApgB5AEkAMQApACEAEgD+/+//7f/W/5n/YP9d/4f/rP+y/6T/m/+c/5//m/+Y/63/3P8NACQAHwAdADoAWwBcAFkAfgCvAMYA0QDpAAMBCAH2AN8A1gDVAMsAwADDAL8AkwBPABgA7P+t/3X/ZP9T/yP/Ef85/z7/3/53/mr+kf6o/s/+Hf86/xD/Gv93/57/a/9R/23/av90//j/aAAMAPb/OgGTAbb+G/ye/osDEARQANn+gwEnAzIB0v+/AXADIgLAALMBnAKDAUAAYwCoAPn/Sf9j/4f/Qv80/zD/gv7k/Tz+ov5e/k3+uv7G/mz+hv4d/1r/CP8C/6P/2f9B/1b/hwDwAAcA8f8qAXcBewCIANQB7AGpAJAAiwEJAUQAkAKzBA0BAPzl/SgDhQL5/cD9+AABARf+j/2g//n/Sv4p/sn/NQA//+P+Sf+g/+D/xv8V/+b+wf8zALz/wv9UABYAeP+9/14AcgBaAJQAzgCkAGcAsQAcAccARQCgABoBngAKAGoAxgA6AOD/RgA1AJb/pf8TANr/M//Y/lj/TQAVAPn+Qv86ALD/5P5e/9T/4P84AEoA+f/u/+P/yP/b/67/eP+N/0D/3/5V/zcA6wAjAK78WPqW/WoCwgJNANn/AwLSA00DlAKNA4EEGwW/BT0EjAI+BLMEAQFX/x8BOwHr/vL8w/0mAE/+RPo+/GT/Ovwx+kH98v0O/Pz7dfxH/W/+mP01/Tn/zv/m/iz/ff9PAMcBMABD/gsBsQJ8/zj/hgLjAer/mQFIAi4A3//gAPcAHQGGAHv/uwDUAe//IP/FAN0ADwBbAKD/Kf9cAXEBT/5G/8kC6QAs/lMA7QCu/or/UgCj/qn/pQA8/tn+HQG4/qD9SQBx/xH+2AAjAdz+hAAtAt//2f6qAKwB1gBw/xcAmQLKAbH+CADYAr0ALv6P/7MAuf8e/4z/bwBLAO7+y/93Aef+9/xpAC4Bn/0i/zACef6v/AwCzALd/cj+RwIWAKn+WgEdARb/tf8FAFAATgEK/57+iQM2Am38jwD6BFX+b/xEAx0Cr/x8/8ACxf9v/b3+swDoAMv+1/28/2EAGv9t/2MA5f46/b7/5AJ9/yb7t/9zBFL/O/zfAZ0C1f3A/1QCif4z/5cD6v+j/G8CUQSc/pL9WAFfAl8Acf4oAPUCRAAD/gkCvwJA/h/+zwCsAMT+Bf1t/tsASP6u/NwACwJH//r+WwBjAhQCPf76/0gDYf2o+9sCSQG6/K8AzwDn/fgAywDI/qsBDgBY/igEMwLR+mUAqwaf/2D6tf/xBPEBCfuP+5wCKQOS/QT8g/+aAuP/zvv4AF4GWACl/cIDbgLm/Fb+dgBZAR8Cn/5C/okC4v+E/d8Brf/n/IUDdgJU+zYAjAMs/T7+XgJkAKEBqgH3/VsCBQMT+kz/Ygj4/HD3GQXvBRj7gvx0AfsBsAI9/ez4IwIHBwb+6fvtAlQCGP5CALoBzv0o/R4C7AJX/Rr7wv/fA0MB6PuN/dkDeQIs/Wn+ZgBTAIgC6f/d+u3/2wPa/Uj+dwOg/9L9uwL+AG392gA2Avj+Lf85AoQBjP33/jcEHAAH+pQBQAcB/xj87wGPAaP+u/7C/tAAPgGH/Yj+ZgGAALwB8P+E++MC2gYX+xL8NwfD/z/6agMHAKD7mwXKAF/2VgPWB5D4a/0eCtT/0vntAw4Dyfx+AA4B9P3NAZsCtP02AIwDpP0r/YoEAQAl+XwDfAaH9mz5XAu+AazyUgGcCo37wvchAk4DXAAJAGr/SgHeAHD9hwAqArn8VP4RA0D/6vyQ/mn+/gF7Anj7Zf+UBzEAf/wcBKH/z/pcBHICFfnRAUMFdvgw/M4GBv4i+5YFywFY/DoDFgDl++IGYAS19vr/tQnQ/Nv5JQVXA+z9sQDZANAAdgJL/wT/nwFf/bL8egO3AGH5Y/8oB9n/3vey/3gHpP9++RIA5QIm/83+iP07/VUC7f98+tIBHQWH/P/+kAU5/r/7+gLHAFP9OQBR/fH8ewMb/3n6JQQTBd37ef8XA739AwJ1Bjr/w/4SAoT+4wGzA/H68f9aBqP39vmeDZwAG/LBBgMJo/SF/ggL+/yz+7AEQP/dAAMDHvbD/T4PXvy27gsJxw4a9Wr3/wmKA4j6Uv/e/rL+1gQ8AMr6kQSmBjv7i/0sBVP+9f0/B+3/P/hsBVkHavZm+g0KoQCS9tkD0Qb++SD+zgVZ/ML7lAVM/7z5XwP4AYH5egEqBo/7yPzeB6YBUvd1/0AFQPuk++gFkf+w+YIEmwKU94n/ggRt/SgD2gJm9TYAEw3X+hv29QdIA3r5eQI6AhD9MgTeATX7WAPjAnX45P+oBxj9CvqXAkMC4P8BAsX+Qf3MA4EDLPsM+3MCVAMR/ZP8EAOxAaz7JQIQBwv7AvmgB24Evvbo/oUI+v0k+vsEXwRv+mb9rQcoBW75svkEBqcG3vlV+W0FdwSg+gb/xQWg/cj7DwcLAx73ff8CByv8u/oMAqn83P1LCY8AQ/R1ATwKIvzc9rEBsgQT/mf8aQLHBC79VfolAyUETPs3/E0CVwGUAAwAmfxnACAGOwB8+i7/oQOsAuj+8fsEAAMErP6c++T/BAHOADoBJv7q/xgENv5i/GsFZQNJ+mH9gwJkAbD/HfyA/S0FPwKg+x4AVAImAekDYf0H+nIIrAUE9Nn/uQs09xP17grnBJD3fgEdA039lAXbASr1AwICDVr8lva3A/8DjADLBQ4AcPfRAZ0JpvzD9OD+JQVrABL+Iv9p/1ACMwN0/fn76v8r/vD9PQQCAaP4mv7ABosBNvxi/rwBDwShALT6+P7cA0/90vtDA6wA2fphAtcI5P/A9ycA0gmQANb1PAEdCuT7VPguCRgH1vW4+ucIngMH+Lv53ANfCMr/yPXZ+5UHDQMM+PX8JAeAAc35uQFVBk/8Z/ooA6kBDvyG/wUCHAFkA8cAH/u6AkcMxACF8x8Bng7O/Obv+gKZCbz32vuQCgX/vflZCF4CUvewBHcFjfYGAOAH0/ZI+BgI6f1H97wI9Adx+L7/Sgip/WH85QRP/6v7KQVrAU32vAAJCeX5aPl7Ch8CYvXEBNAHXfbI/NAIWP7n/OwDI/w//mUITvy49u8IJgk4+Ov5XQQjA+/7fvrfAtwEjvpZ/kgJhf5o+EAGLgPE9yIBrQTJ+kP9XgCG/ToDpACj9/QDdQrg9o/3mA6yCLHyjPicCQ8F8Pfx+6cH0gSb/E7+Q/8n/iUEqwJ0+LD9nQhsAvf67P0//6cBmgXJ/WL3mAOJCuL8kfglBncFa/nw/0MHQfvK+0QK+gCK9XcEAgfQ+JACzAs++xT6igad/FH3gwOi/ib6AgvUBz3zRfy7C5b+xfV5AWQDx/xvAvIET/qv/ZILy///8e8Giw2w8DH2ahNjAHrrDwYfDhL5tv3kAbT0EgHhDCv4IPc5DKIDtPYYA9AEcPuyAa4CU/ntAOoHHfpz+CYJWgY+9+j8ggdvAG76TQHwA9/9xfxZAT4Bvv5rAOf+c/p9ANUFQPxT+7UH/AL5+bIDjQIk9h4CmQvi+GX2hwmlBuL4uPtDAkoD0v64+KQCbg3f/db0AwdbCRv5D/x0Bd8Blf8U/Wv5YQJNBgb5b/mDCBcFlPnv/vMEEwBd/4oAQvvV/dwGWgCp9jYA2wfb/nz7eQD7AJoBHv8X+nQCeQf3+Y76eAnyAq/4cQE3Bdf/2f3J+jD/5gfY/j73MgMjB/3/cf/L/sQBFgez/Pb5aQnXAbbzSgRACLv1jf22CHP8z/1xBDn7AgG6Bwb3IvpCCwX+0/frCFcBX/b/BgkIcvg9/YYDWADnArL9pvhDB7IIUfes/SgLJf7/9s8EswUk+w39FwLmAAgClAAh+hz/BAkmASf35v7gA3//ywH8/zj6oARhB2H1wPn6DOIBa/XqAcwCH/y4BZsCSfY/A3QKaPlS+7gGSPyn/voMrvuu8VgMmAm861D5jBHQApP3Z/5YANYJLwn58F35ARUy/2XqwwZADUn2pP3UByD8Fv6zArn6IQEnCKP9Qf1FA0P+EAJ6Bw38kvsfCIUB/PeeAB0Ejf6N/43+NvzSAisDjfsTABMFQP1W/isGPf5d+coEYgQs+df8IwRsAfL/wP9r/loCLwQNAAP/7P4w/5sC3P0f9yEAGAYk/Fb78QNoAlUApgIW/0n9kgCvACYByP/G+tMA8gi1/xn5BAIsBBf+L/7c/2cAqQGEALgAqwAa/TABCQWg+Xn48ggzBX/2ugDfCuT/Gfs6/ib+dgYsB4j1Cfn4DNQCRvQ3Ar8GuPvA/5X/S/Z9AbgIWvnW+7sIRvx+9twGPASR9oP/1giB//755/5uAYcCggLw+2b67AXhBxv6qfqdBeL+x/pyBhoBjPWuAisJE/vB+yUElABaAngDFPlS/HgHXf+E+HYC1ASy/cv9OADTAFMDZAAU+Vr9+gfdApn2F/xPB6wBU/nx/bUD/gBL+gr74AbyBwP5P/tTCq8BB/VtAZEKuAAQ+tv8yQMcB1r99PjfBHYEtPnZANkF/vpV/xMJLvtq9D0F3wdY/Nr9+/9F/WMD9gLn+cL/LwU4/XABxwT09J364w9oARLyhAWyBwz3lwHHCHT4Cfv6B/QA4PqM/E39VQjxChr3LPb8CoAHMPdU+5QCpADyAfUAofvt/1kGAQFI/AEA1f9Q/lID7f/t9qgBegxB/Nb1iQfoA5H1lwIoCOr3y/0sCpL8tPjNBp8DA/y9ANj/cv5WAlb8t/pUB6YFpvh//b4G+P9i+gcCLQYv/nX7XwR/Azj4fPpbA9oBLAB1/wL8BwJ6BVj6+PvoCDQDhPn/+z3/mAcDCeP0vPVFEDYJjfG6+kwGuQDL/nP5mPrNC9MDwvDkAyoOkfSw9/IMZv9J9bgC7AEb/8kFKP3y+YMJzgVy+DcBkAXd+t37SgBT/YABmgM9/KUAjwkCAIH3vwGSBgD8uPmlAyYE6/ph+6EDcAPl/br9JADDAJ//H/32/WEBd//e/QED0QHm+Tr+pAeFATr4A/49Br8ClfyQ/moD5gFp/vwA+QLr/tz9OgHLACD+ev0x/yYDsAEa+z3/3Abt/lv5swQyB1j7cPrVAhIDsPw2+Oj8GghXBnP39/frCakLrfeF828IwgxY+Lb26gaeAmb4yABGBHz8yv0nAQQAtQL6AMr80gLYAoj51v+PCY3/qver/28EfwCU+6D7VwN3BPD7vf/2BmH8WPmDB38D0fQ6/VwJogIk++D83QL/B9AA9fhdBGIIt/Zv+fwM4QBZ79kBQg1D+3r53wUoAev/7wVP+lD3CQpCBQjyq/0TDJYAkPoiAXUDygTL/hT2cgEQCsr63vbMAgUB5/3AAZz9of3qAuH9K/90BrL9I/oVBQkCA/zoAQ//T/3nBmIAHPaxArgIm/zs+nQANgD2AEUAF/9eA9wBdPvw/0sH2gJ6+m78AgbCBH35dvsIBDD/gP3sBC4Avfq2ArQCK/whATMD0f2sAOgBSfyXAFMFNf1y/HMF+wBR+D7/MwbH/3758vsPAxgGYf3Q9xIEXQm6+gL4HgVIBMn7uP01ANYAXQN5/oT6zQPDBjv7tPljBFwF+v6c/zABav32/ccDFAOM/CL7OgHiBuoBcPiI/cgHHQAj+AECQgVI/I7+UAVGApP+8/w5/ocFLwSK+3EAWAUQ+2P69gYABen4Ufq+BH8E2vkW+gYG1wOE+KX9FwU4/nL82APIA4H+i/yv/2kE9v8h+ngChQZG+1D7cAfMBQ/8j/sIAZMDkf6s+W7/RgOy/A793QQbAzn98/2uABIC4gBf/cb+iwPDAaP8OP5uBBMEZfsQ+f4Cnweq/rf4Uv9eBgECPPqW/t8GbgA298T97AVBAl3+a/+l/8YAlwKh/wn8Mf8TA+T+jfo4AI0FpP+5+ez+1wbABE/6IPgBBBkJoP2L9w0AeAUxAaH8Jf0IApQFkwI3/WT8xAAeBGUAG/xl/4wCpABAAGf/8Px2AI4DZv4u/AgA0wBLAH3/bPxF/h4CT/9T//EDVQDr/FADBQQ8/Mz6Uv72AM8DeAG2+5X9NAOzAxcBb/2u/KECQAQt/CX6AgMpB97/hvj//cUIgAOd9YL68wfNAyf6rPx8Am4E1wHr+g38/QWnBCL63fo/A6IEBQAd/UkAogRWAFr6kP91BV//0vnX/zAGPAMw/vX+VQG//ij8DAHOBAX9bfeMAskLbQBr9eD/IwtJAWH1X/4XC2YCDvQI/CIM0Qbe9jn44AWBCFT+4fgo/1IFjAOf/+v88/ySA6UGjfxA99UBPwcJ/y/6v/28As0E1v/1+mQA/AQ2AKP+dwBB/KH8dgUHBHD5yvrqBEUGqwBG/fD8fQBWBGQAmPsXAEEDH/4y/ZMBIAH6/pD+N/5cAp0EKPyI+jkG5QRD+N78ugd6AUn6if9aAvH/9QBTAJj8Rf95BSADTPpY+R0D+QY9/Yn4RQKqB6kArvv0/UMC0ARH/3P3mP78CpQDXfQz+oQKcAc896b3vgaqBzT68vhmBPUFqvxY+p8BegS9/pf8LgFYAZv+9AElA4b8RvsOA48G3P8x+L/8YwlNBxf3Z/bNBpoKiv2y9nn+pgZWAw/9Jv8rAeb9hAA5BPX8gPlKAxkGJ/zH+FIB0gcdAi74kfvNB04Ghvou+oACxAPR/qn8hv8pAmAAoP75/3oAdgA2Afr/q/+FAeP/Yf4OARMAl/2gAaIC1Pwv/scEfgI9/Nf9mwPFAj37e/qyBD0HUPsO+NYEuQig/PL3igE1BrD/iPtv/gUBnwHZAYX/O/1CAMkDNwFh/TD+GQF6AsIAgfxB/LIC0gSr/Bb46QBxCAYAH/au/jILZQNk9lP9PAhyATL5Rv/dBML/FPznABAE4/6X+6YB/gQO/qf69wCxAwD/b/0lAdkChf/q+z7+fAM4Akf8Z/zkAVYDXACk/ur+EwATAuQBsP33+v3+KQUkBOv7Uvm1AhYJJgCm9vT8tQcuBC/4evkeCGAJ+vh09oIGZwis+mz5YAKQA5EARP+b/dj+3wLoAvT+Cv02AFQDXP8O/IoCAAU0+x/5tgTlB4f9B/jA/hgHlwUf/Af58QAzBmgBjvx4/kABKACa/u3/EQJjAdf91PwNAm8FfP7X9/n+tAjgA674WfnGA1IHIP8L+WP/CgYmADH6swDoBYH/qfob/7YElQQV/Ur3YAA0C3YC+PUF/NMGiAXQ/VP5a/67B5IEU/pz/KwCOQBKAFEDYf26+aECdwYX/oX75gHBAY78z/9XBX7/5ffb/W8H6APJ+XH61QTMBn/8hPnUA5EGZPx8+SACXgYEAWD65/o5A1cHM//Q9679tAbuBLf8PPsPAtEF//+L+cP91QZSBN74LPn9BE4H/v6p+oz8RgJtB9EAavYl/QgKuQSs97j5zwW+B/f7H/b6AVkK7/7w9Zn/6gesARz7N/5zAwUCsvx2/ZEDHwMq/EP7UAI7BtoANPqt/dIFGgN6+pj9NQYCAsn4G/1HB74ExvpT+rkBOAS3AAr+Bf4W/4gAgwH1AO/+xf0zAIUDcAEu/L794ATJA2r6yfnZA8gGj/79+V3+FQNkA5IAiPzv+3ABWwXuAAP8Ef6tAEMAzAEgAjv9l/x4AzwENfyS+6cEhwSh+Tv7/ggDBlz11PhhCwUJNPbv9asHbwtO+3DzHQF+DJsBSfPb+v8Kawa69UL5NAsxCFf06/UoC9oL3vXq8YEHHg+a+y7xKwFaDPH/evW3/rMHkgET+1L/TAQkAlT+xf6LAdcAMv14/sADJAIo+9n7fQPBBNr9+/rtAIYEdP+R/BsBlwLg/uT9tv4/AMQFkwU7+bf0/wOwDlQBfPD+9ocKKQzg+mf02wB4CFcClf2k/q3+1v+aA+8BCfs/++8D4AW3/HL54AFoBOH9v/6FAv/7wfpsB+AHnPcG9p8F9AgY/Un5rAKyBln9hflABN8Fp/gj+uYIkASC9j/9dwo1BKj36vm3BJoH/f8j+eP7eQPiBZcAH/oR/BUGDQjQ+kf0PAPQDT7/xPGT/IMKdQZg+yP53wD2B3EDv/r5/IgD/gCq/FAAEARU/5v5k/77B1QEzPd0+CcFBQjK/lH6MP95Aof/7P5qA9QB4/lx+6IFpwae/az44f02B+AGZvra9osD2Ai3/xb71f5fAu4Cu/0F+nsCPwjH/v74LP8LA9MD3wI3+pj37AQkC83+JvZ+/TgHhQUk/PD6kQMRBaP9gfwiAVEBRwACAjAAvvtL/wUG8P8C90n/CQiZ/iT55wGyA30AvwI8/kH5kAOcCMD7o/bXArALvAIR8mX29g5NDoXyafLCCkMIHPiZ/2gHK/s7+MEFGgfs/KL8cwEzAT0CRgIO/Mr8FwblAyP5mvsqBtAFTP1C+jv/LwRVA0MAYv3W+RL+7QpACnv2YO7OAVsUYgne8Jzw7Qh3E0cBJu+k9kkLjg1X+ovxb/6ICB4Gbv/49fn25QmuDvX40fALAiMKbwHc+1L9SAF/BM4Bmv1//kwAgwFlA+ABkgDqAUf8ePgeBsINEP0988/+HgZKA7P+0vd/+zoJKAaj+bD7u/4E/3AJFwYO8TL3iBDpCYTxOfXnC1EOBPgD8IwGTw4896f1uQxZB6zy1/qICe8CAfyI/0cAAf/TAHMAsP3x/f0AgANzAbr6mPv5BzAJEvjP8oIDmw7OBZP0WvB7BZgULf5u6kH+SxExBiz21fIJ/5QQ+Agf8hn2dQjNCP8ArPqX9W784AZKBscAIvjA9VAIXBDu+Hfx6QfyDJj9ifgQ/uIGGQmz+o705AXLDe/+yvKc9xcJ2w9F+BToRgIFF98AR+3x+kYLIQik/Z78KgMUAav52/0+BPL/VPwx/QD/hQY8Bl32EPeXDLwKUfJO8r0LZBMg+yTpBf+AGNkEkenr+REQvwOx9rIA2wfF/mT3eQD+C5oBlPHw/rgTpwW87N/1JBCMD1H19+sDByEbg/0C3Mj4RSZCEfffJugkE1kaOP5t6fbznxADE+bziOuBCsoW8Pq/6RwARhcQBn7nHPO4FlgPvukP7lQTZRSr9kTyOwPaBT3/qf5y/5wAiACE+pz85wrACZj2cvRuBpYLFv5B9ycBbQnzABH3BP6SBWT+ofxOBv4C1/eG/UUIYQSf+Wf1uQGSE6kFyuYs9dsZAQuT5vnynBPODmj2N/VtA9oB5vpNBfoFC/JE+uUVKQYi6Yj7VRRCBufypPVKAucHbgAt/ckDGf3i9nUJng6g9ofyOQRsBocBEwGv+076vgCUBZAHZPze7Bj+tBlFCWbpiu9yCsETcQKF68LyvQ58ED36QfHf/CQNJwuG9fjxOAT8BIz+/AeZAebsYPnYE/kJavE89q0MeQ5e+dvxkwSiDuH+JPODAAMQ7AGO6Rv5oxsjDU3m1u+zD+cJbfXI+BQEPQOa/+ECiwEx9Yj3/g75Dqjy2fI2DpgLzPN697YLtwlQ9TbxJAjAEhH31OcQCEgZ6vgd6cUCQg2p/rn6vf1E/GgAWgS/AKr9uvmA+kQJ7An88cTxJA6nDyT4CPSi/40GrAYQ/Oz0igKpCTj6yfe0B4sFXPdT/OcHjQC+8zb83xA0DU3wM+pPCKoWyv/p8OP9WwbWAIIBgAQ//Ar32AN3EJYE9u2E8R8N7hV1AWfw3vCM/O0PaRJ59WrngwORFr8DkvDW8u0AeQ+AC/T2TvFA/tcIMApz/lPyL//lDAP9IvURCMkIOPa7+YIJdgcp+j/0Zv5rDiELc/YJ8DQBgBAiBz7yHfRfCi0Op/p/8cT8HwdzBAP/ev5T+j73pwW5DwT7feymAicSDwBX8h/9Ogn2BxP/TfnE/IYDVQW6AV382vxvBJUEWPq5+QIGDgn2/Fz0hPrZBecGAP7H+vX/DQCz+5b+kAQyAyj9bvwZBcYJyPul7ykAexRQCeXy4PQZBx8Mt/80+FYANAaw/zr8cAGHAk79zfv5AOIDHP2C9p/8MQZ6BT3+gfir+LkAWwfPAnv7xPydAnwDwP4H/Fv/TAO8Ax4DZQGr/Jz54f7TCI0J2PyG9C/+swkeBMb4hvvUBWMFWfwA+Sr9ZgK+BB4Be/t1/SQDoABT+pP8kgQYBlX/Uvuu/1kCg/1Q/JADvgYhAH/66v1BBBYD4vvb+zQF1AZd+rb02wHqC9MB9PU4+oUDQgV0Agv+Fvv7/8MGdARm/rP8//xzABoGgALL+YD9tQZmA6n6/frJAZEFaQFQ+0/+wQRUAo39lv5EAFMBAgIw/hf8LAEwA5f+1/xM/2IACf/r/jsDkwQX/PD3sAF4B1MAVvsS/iABSAIYAYL+8P7tABgA+P0Y/roB/ARHAjb+Av9M/yf+eAEQA9j+Bv/9AlABZ/6j/nH+3AAbBQICufvq/EgCEgTXACP8hfy0AIQAYv63ALkCJgB0/Zr9gP8OATkAmP7A/6cCOgKX/Uv8ygFrA3r8wfrfAugFzv8e/TkAWgDx/bX/6ALRAET9+P+JBOcAkfmi/BAGAwQd+/z9NAVpAcf83P8ZAVD/SP9Z/+UBzASb/4P62/4vA2UDzwEp++D5bgUCCAj7tPd6AVAFtgAg+7n5vv85BccCyv+2/7f9Ef1KANMA5P7LAP0CFQCo/QD/Ev7h/E0C7gXc/7P7VADGAx4CcQDsAHsDEwPv+2T5MAKVB5ICzv4k/8X9Bv11/3EC0gMLAdf8ev+UBI8Ahvnq+/gCSASb/3j62/o3Ab4EYABw+4j8iAAoArYABv+i/wEC7AIcAGD8Ov1eAkAGLgbZAQv74/leAvMIjAIj+Ov65Qe8COT5Y/SbAH4IDQJQ+vT6XwJQBiEAvPvr/48Acf67Ab8A7/tUAE8EKf+v/fD/dP5L/04AR/2//2AETgHz/tb+j/rk/KUFrAI2+2UAmQYBAXn6h/3hA2YCKPyB/ggGIwQe/eT8lQB8AtgBv/4j/hcCMgOb/0L9FP4VAWoCRf5w/MMBOQKX/Nb+EQTR/x77lP3V/5kBvQNUAAz+GAPaAVn4MvnVBE4KGgUU/IX4xf7+AyQAg/0zAfkC6AB3/p/9HAFKBB8AI/wcAOUDcgG3/sb/ZQLcAnD/PPxT/uACpQNlAMb9Zf5hACMANP2s/LoBTgRQ/UT3xPwgBNUCGP4F/In8tv6y/+3+5P+jASUCfwL5/6X7Bv4LBDQEuwKiA7wBT/8kAIsATgLKBXAC6fxmANkD3P6i/PwATgM+Agb+lPds+dcCKQM7/Lf9sgG5/Bf59P5dAyIA/vwZ/x4DTgOB/ir7Nv5GA7EEAAL+/Q/+VAPNBLD+ofvFAAUFFgNt/xr+Vf+bAEUApAChAe7/3/2k/kX/yf4j/0X/nP/NALb/5v0M/1z/+v0/AOsDTANi/477KPyTAS8DxP9kAK4Cnv/q/K3+/wDhAnMCX/8FAO0BK/64/O0BlQJi/hT/qAF5AML+wv52ANoCegGK/Qz+zgE5Al//bv0x/vb/4v/k/pL/6f8U/s39lwByAQj+5vts/2UDYAHT/bv/nwKhAEL/KwKmAoz/3/+zAiwCsP/X/jMAHwOHA37/rv3fAHcCmAAj/5X+3v7x/4D/pP5e/zT/tf5XAA8Akfxl/EoAYAJ9AVkAAQCm/7/+FP/KAKwA3P+kAYICIwAz/zUAy/9//3QAZgDQ/9D/lf/I/48ANgDl/vT9NP68/1cAvf/6AOsBCf+1/doAnAEc/43/0wGFAdL/XP+NAIwBMQB+/hv/BABy/+T+p/9rAeUBnv+t/TH+OP80APgAvwC6ARIDSwDL/Av+fwBdAX4CRQJcALj/Dv8l/hQAmgHO/9z/+QG1AE3+h/5g/4YAhwFg/3L96P+kAf//y//+AHIAgv/n/jz+Mf/kADcBfwFvAR7/Yv2s/uL/p/+JABoCZwEt/5b+wP9HAIb/D/9NACgCrwFc/xT/fABGAMv/wgCuAI3/RQDXAUkBzv5I/QP/nAHfANj+1P9VAeb/m/4TANoAu/6c/QoAGgLcABT/2v4o/3T/q//8/wcBUgHc/yb/w/+W/1z/PQDpANEA5f92/t3++ACKAV0A8/7u/SP/xAHrAXoAdQCaABwAtf+W/rL+3QEuA0AAm/7Z//L/A/+a/7sAfQA9/9X+AgD1AGgAoP+o/ysASgAy/y7+ev+tAbMB0/+y/qr/wwCU/6T+2QBpArIAkf/j/2H/rv8AAYMAjP8DAA8Aqv8AAP//yv/z/8n/VgArAZD/Cf7w/28BEgA9/87/WAD3ANAAxP+c/77/Vv8kAI4BJAGy/wn/Xf8uACcAPf+X/9UAbAAY/+H+Rf+N/9r/vP9j/5L/yP+e/wIAxABfAEX/VP9JAJAAQwBLAKEA7QCPAFD/0v4wAIgBQQEsAFT/eP+QALgAjv9Q/+b/xf8KAL0A6/8+/4UAxgAM/8H+DgCFAJ8ABQGrAAIA/v8GAAAAXwCVAJQADAFOAXgAnf/A/zwAUQAWAAIAVAB/ACAAEwB1AAIAGf97/5cAbQBU/2P/nwCQAL3+Sv42ABIBrP8E/9j/z//H/rn+5v+4ABkAwP5n/oj/fgDl/9z+U/9ZAIb/5P1q/ikAIQDa/pD++f7e/ob+xP6z/1MAqf+0/h7/BgCN/4z+R/9AAcMBaACi/1UA4ACnAMQApAGwAg4DPAJQAbMBjQJ9AmQCPAOlA2oCDQGIAQ4DSQMuAt8BtQKhAk0BBgFhAiwDdwKpAaIB/gEsAuUBlwHDAdsBigFfAS0BuAClAJcA+f/P//7/9/6f/Xj9O/01/Hn7zvrf+Tf5D/hC9pX1jfVl9D/zF/OA8qHxsPGr8ejw6vAl8jDzb/O689P0fvYL+F35+Poi/XX/cwFCA1IFlAekCXsLWw1ID/AQTxLUE2EVPhZ+FskWFxckFxAX0BZnFiEWsBV6FOoSqRFfEK4OBA1/C8UJEAjYBvEF5wRZA1gB8P+k/wP/Kf3H+w38p/xQ/N36+PfV8wPwre037CnqKefD5Cfkf+PL34rZQtUU1o3ZUNsW27fbVN5J4Y7ilOKI5Mjphu9W8/b1pvj/+0AApQRkCNELBw+yETMUKBdrGlAd1R/JIpUlOCYcJdEkriVSJmEmtSVGJBIj/CFfH0wbxBeUFboTKxHUDVEKLweBBDUCdABG/zv+J/2I/DP8L/vN+Y35xfp+/Oj9k/50/in9Ovmj8rHsbOp867LtV+4g68bkRN4G2R3VRtMR1ELX8tuV34vfidwH2tXaOd/55PTppe4M9Dz5/Pxb/1ABUAToCLwNJBHQEskTvBUQGRMcHB0zHN8aABs2HA8ciRqGGrIcZB4xHUsZVRXJExsU8RNmEpEQfA9cDo8LiAdtBBUD3gLLAp0BXv/a/f79Cf9kAMkBwgI6A1IDIQP9AloDKwV1CYAO2A/wCjgBi/ZE8Kbxs/YV+PvzA+4d6dDkBN411ALO49H/213iAeB12K3TtdVf2m3cC91i4LHn7e8q9J/zvfMZ+RsC+QkbDQ4MuAuuD/UVwRrYHHgdzB4hIWQhxx22Ga0Z9x25IjUjmx6GGcEXXxciFYcRYw8aEGAROA9xCVAEpALwAnMC8v99/HL6pfqU+/77QPxG/Wn/dQEiAWD+svwW/0YExgh5C0MOhhEgEcsICvsv8ZTy4/vJAZD9+PPh7absvuhh3enRb9HK26HlHuVi21jTctVI3eLgW94s3HngKur78P/vp+2r8kT+lgiPC3MIjgZSCqEQMRUSGKAb1yAjJVEkjR44GaUYcBzdIPwhXx8jHAQalRflEx0Q8A0qDg4PGQ2+B5gCqwCAASYC9v/U+xL5h/hS+G33Bvcq+Xf9QQA3//L74vnD+5QAngQ5B+sJ0Qy5EGoUKhLGCGf+8/i9+6cDvQUN/lT1B/Ll8bXuy+N/14rWX+DY57fkDdoP08jXCuHS4prdM9pM3vrnYu6m7AvqLe/o+oAFKAgkBJECUQiCEHoV7xbzF3cbhiDOIrggQB3TG2Ed0h+2H60c2BnsGKkYgRdlFM4PpwwZDPcK8wYTApD/lACOAtkASvsh9/325Pf39gH1CfWv+Ab9fP28+qX55vtx/9QCTQXIBj4JBw2HD/sQWRMdFBkQoQiHAY//0QNZBjQA1faa8pby8O/t5lDcktlB4ITmd+Oo2anTZNcR35vhGN5A2zXf/eel7Pbp++fk7TX5awIuBCwBHwJCCd4PYBKhE3UWkBufIBghUB0yG3UdLyGJIs0fLBv4GJwZXhkrFpIRpQ6pDnsOMgp9A5n/NgDjAVQAgvuz9zf3qvfE9in1svTZ9mn6pPvC+TL4NflY/FoAWQPXBAMHmAqZDfYOdA/REM4U8xgUFzAOCgXnATcECQYsAkX6z/Qp9CPzGexc4XrbJt4v44niTdsb1B3URtqO3lXd59oN3DnhY+YI527lcuhK8Q/7IwHtAeQApwPzCVUPoRInFW4Ymx3gIUIh8x0KHYUf7yKwI+QfDBvKGdYaxRmqFY8RfRBdEbEP4wntA+YB6ALSAlj/bvrG9yv4r/g+95j1F/ZS+B/6iPnz9uz1u/gv/Y8AXQJnA7EF5QkbDcMNiA7WEbsWwhgYE3QIMALDA0cHTwbP/0n4EvVm9E/v+OTi3PDcZeIW5Q3g39bl0YTUldlf29PaC9x/4PLlK+hO5srlLeta9Jb8jgB/AFEBVQaiDCgRWhQyF9EaTx+xIUwg+B0mHqUhrSVXJUogDxxQG/YamBjrFN8RWxEbEgAQfQp6BacDnQQGBZ0AXfki9in3/Paa9L3ymfOA98X5a/aS8rXzlfet+2H/ZwFWA6QGEgmnCqEMQQ4rEjcZtxvDFbEMuAVCBB4H1gWD/u/40PYM9Ezvnuex32DeMuLx4jbektZ+0EnRFteh2v3aOdy83xfkCObW40riQuc48UL6Hv+oAFEClwYeDHUQrxP3Ft8aUB9bIjEiFSF4IuYlbCibJ0gj2h49HbUc2horGOYVsRR6E4wPKwkIBMkBQQGXAPz9/Pkd9631UfSz8lXxoPEn9D/2zvXA9Fz1wPfm+k790P7xACAElgfTCmoNGRCMFMEZzRvCF+YOLAebBWoHEwZZANz53PWA9KrxtunT4D/eX+E541/fONf80D/SJtga2//ZhNlG3EPh4ORf5K7j0+g+8g36s/0o/ir/VQShC9wQPBSfF4Ab/R8uI8kiLiEmIkcl2CdyJ5QjuR8YH3gfuB1LGqQWDRTHEuQP7wniBJADpgNWAor+MPmv9Qb1EfQC8hrx9/Hu83z1hvSq8nHzXPaV+ZD8EP4u/5gChgYoCVYMvA9DE+8YbxxGGGgQMQo2B4EIJgkGAzX7m/cK9Q/xS+tT4xffS+IA5Rfhhtnc0sbRwNYJ2irYJdc22vPequI046Ti9OY78Fj4A/xs/Av9tgF/CY0P6xJyFgobox+aIociUCG0Im4m9Sg2KKkkACHFH3QfDh1BGZYWjBV+FBcRNgsvBkMEhwNQAVb9MPm09tn1jvQ28vXwBPLz8/b0OPSg8gnzOPZQ+T37d/36/90ChwYlCeAKaQ71EjsXlhtAHMUWYhC3DMcKDApAB9n/5PiS9UTyRe3o5oPg/t4e4urhr9sj1OrPm9EX1ozW2tN+1EbZaN7n4Kbgb+JZ6ln0LvqW+z78qP+YBnANLhFeFOsZKCBPJGglXiSHJN0nKCsSK4EoeiWBI+siHCG0HNEYOxfbFeoSBA5WCA0FngRRA2r/y/oZ9+70tfOZ8SnvRu+E8d7yt/LF8QHxy/Kc9uH4Nfrs/KT/SQLEBeYH5wnzDuMTGhcrG2wcGhh9EyIQ1wzZC2cJOQHD+TH2yvHH7LfnLOF23ujg9N/y2S/UgdAc0VfV/9UZ09rTINgF3N/eFOAq4p/pFPNG+Ez6pvy2AGAHQg4NEisVbBpQHwsi8SOgJesnUSs8LSgsFircJxQlriKHILkdIRvSGFEV3xCxDB8JiwakBAQCeP7r+rH3t/Qn8mPwje9T73TviO8e7xPvQvDu8fLzpfYQ+WP7c/7jAMcCMAY3CtUN9hEaFQYXpxqbHcMb3xeLFFoRqA/nDJUEK/vn9Rbyy+2j6DjhG9z13ArdJ9jJ0rXP9s+A05bUUtGW0IfU5dhj3OPe/uCT5jnvcfXD+Jf81gHBCFkQTBXiF5gbPSC3I0kmNChQKeYq5SwYLT0r6CiMJogkOyPdIFwc8hevFPsQygzrCAgF/gFYAKP9Qfni9fXzUvJI8fbvlO157D/ta+1L7VXutu8H8gL26/hn+mr9LQE9BEAIOwyXDtsR5xU1GNYa3R0bHQka3xe/FBcR8g1nB3j+wvh79Hzuk+gn4sbb4tmp2YnV8tCOz8/Pz9HG0y3SCtGy1P7YYdsi3mLh3OX87E3zs/YB+58BcAgoDwEVuxiEHKIhXyX0JmcowClmKgwr9yoxKVwnUyadJDgi2h9yHEIY9RShEVcNrAmaBvgCzv8O/WX5YPYO9VXzP/FJ8FPvSe637lnvM+8F8LLxB/MK9cD37fmm/JMA+gO3BvMJIA0SEJITpxagGB4brx1MHRcalRYPE3kP1AujBe/8OPbT8TXsj+UK3w7ZetZ41qLTI8/UzeDO29B30+jTq9Nw14zc+9774M3jNuc67Qv0Ivj7+woCYgiBDlkUYRglHIYhJSZWKFgpsCniKbsqySrAKBYmICRyIl8gdh3KGWMW6hN5EdENaQnJBS4DsADR/XT6MPcr9dvz1/HX7/ruze4r7/3vXfDl8MjyF/X59iX5tvtp/oEBhwTfBj8JSwxjD+kRLRRxFoUYhRquGz0a8hYjFEsRUw2mCCUCGvr18xXvSOgk4UDb8NU406LS9M/2zHnNX8970YXUENYg13/bZ+DJ4m3lG+np7GDy7/cC+4X+fAR9CuoPHxUoGTAdSCIgJq4nyiggKh8rcCtUKq0n8yQFI8YgMx0tGc0V1RLvD+MMOQnoBSAEaQKR/838Y/oI+JH2MfXf8nTxafHZ8DjwffD48FDy5PQC9+n43/vw/qkBnwRLB9YJxwwmD80QihIJFEUVlBZrF84XaRfqFCkRtg3rCYkFdwCg+bLyo+0K6OLgkNp51fPR/9DXzxfNW8xFzo7QgdOB1qvYpNxf4jvm1+hu7GfwF/V0+hz+3ABfBZAK8A4GE6IWPBrsHikjZSW+JhwoUSkuKr0pmicgJQYjlCA2HfcYrBRFEWQONQu2B1wE3AFZALT+fvyx+pP5sPjb96H2E/U79CD09PPf8zf08/Ra9jj47fnd+4P+awFEBA0HiAmrC6ANZA8FEXsSoRN9FBIVYxVfFS4UNxGEDRwKpgZ8Avj8E/ae77rqxuWo35bZztT+0dXQOc+szNTL3c0h0UXU1tZw2eLd2eOS6JnrCO/R80r5HP5DAdsDzgfIDBcRHhSwFg4aSB7iIeUj+iQ9JgIoOimhKLwm0CTjInggNB3SGEgUtxBVDV0JggUiAlr/mP0Y/Bv6qfgt+Lr3Q/fl9k32LfbU9ir3PPf29wn5Lfqj+/n8RP4/AGkCFgTJBa0Hjgl6C+wMvQ3rDo8QvxFkEr0SvRKAEmERbg50CswGPgMG/7r5afNN7W/oseP43VHYF9R60f/PpM4azeLM+M4t0lDVftg/3A3hl+Z560fvQvP/97D8ogDIA7AGQApkDvwRxhSgF/QaUR4iISMjrCRUJt0nWSiQJyImciRZIoYf3RvGF+kTTBB6DH0I4gT4Aaj/rP3L+yz6J/mp+EX47ffd9wT4TPjY+GT5pfnw+Xb69vq4++n87v3P/j8A9QFmA98EcAbZB2YJFwt6DKUNmw4ZD40PIhAjEG8PFQ52C/kHtAQdAWb8J/e28Rbs+OYF4k/c69Y708jQFs/4zfnMEs2LzznTrdZf2q/equNy6bruhvJj9kr7JABeBNkHeQp+DZ0RXxUZGLIaeB1sIGQjSyXuJYQmSyeSJwknWSWlIugfPR3rGfIVtRGKDfsJ1QZTA8T/Fv1u+236pfnL+DH4Rfi5+Pj45/jn+FX5/vlo+nv6d/q7+o/7kfxM/ST+gv8bAcoCewThBVgHQQn5CjAMZg2GDmEPTxD4EOIQZRA5D5gMNwnVBdEB8Pxu9yjx6+qo5Trg4dkk1A3QbM0ezC7LC8qKyrvN8dH01fXZS97Q43HqEfAR9ED4Xf2nAl8HwwpUDccQCxWXGCYbXB3UH+0ivyUwJ+MntihcKV0pOCjHJQcjeSBNHTsZwRQ5ECUMdwhzBHAAWv0W+2n5OvgK9yD2IvZ79pn2z/YT91z3B/i4+Av5fPkp+tj62/sc/Sz+X//oAGoCAgTSBXMHAAm+Ck8Mlw3oDgwQ4RC/EW4SgBIHEq0Q6w1NCnYGBwLF/Nn2KPBE6STjS93n1tTQPcxUyenHLsdyxuDGzMldzi/T9Nfr3Nbi+Om88OT1gPrH/4kF+godD+ER2hTgGMcclx+rIdYjqSaZKUIrfCt3K8MryyuVKqcn1yNZIAUd0xhtE5MNeQh7BKkAVPwg+CD1r/MH8w7y4vCS8FTxgPJ08+rza/TL9ab3/fjM+Z762fuu/Zv/6AABAqgDrQWNBxsJZwrtC/0N8w8mEesR0BLKE40UxhRQFIgTnRKoENEM1wfhAur9T/iV8b/pHOLp2zfWus9UyafEZ8IxwmTCJsJTw4/Hp83h07PZfN+H5v7uofY//FcBDwcyDf0SKBfDGcQcvSBgJBonDimpKtksOy8jMIEvgy5vLf0rpymwJaMgxxsIF7URwguPBev/avti9ynzUO+V7CjrzerO6tbqc+v37PHu4fCZ8lv0kvYg+YL7dv0N/6YAqALeBOIGuAiLCnQMaw4QEE0RiBLgExcV8RUyFgoW7hW4FRAVFRTVEjoR9w4zC+EFWgAY+z/1W+5s5g/ey9a40D7KdMM0voe7Xrt9vEC9ob4Rw0rKOdLK2c7gR+hx8cb68AGOB1ENkxPoGfgeyyEBJEcnrCoYLZguYi89MJcxDjLFMNUu1SxXKg0ndiKgHLMW8xCLCpoD4Py29n3xGe3m6FDlUuPO4jzjc+RA5qno4utv77ny8PVO+aH8xf+WAugE6gbjCMcKmAyHDn4QOhKtE8gUiRVeFn8XVhiLGGwYCRhlF78WwhUWFF8S/hBhD+cM1gjuAoz85vY78Ufqs+FZ2ErQb8rPxP29rrdbtNS0j7fHuVm7dr+yx/TRhNtP483qifTa/ywJYw+DFFkaJCEuJ04qaitGLSowiTKLMyAzSzJNMlEytzCpLfgp7CWrIbYcXxZOD2AIbwF9+uDzo+0h6Nzjp+Bw3oPdqN213hjhxuQK6WDtj/Gg9e35af51AsYFlwgwC6QNvA80EUgSkRNOFSwXkxg0GV8ZpBkTGjsathmRGEcXDxZ8FEMS4A/lDVUMzArnCLYGdwR9AdP89fZC8QrsS+ag3v3U4cucxfnAarsStbaw/7BgtfW5ybwXwUDKDdem41ztLvXu/n4LwBarHcMh3CVRK9owUTNOMiMxmTFvMlAyeDBKLdQqiilmJ6cj/R6iGWQUtA8DCrwCTPst9IvtNOhj40rehNoA2dTY49kM3LHe1+Ie6arvgPVK+9AAJAbiC+4QUhQqF+YZABzEHdgeih4eHr4eUh/sHpUdYBtaGXIYVhe3FJQRDg8PDVILawkZB0QFnQQ5BFsDWgLAAE79Jfh/8gbtk+e84NTWlMs+w2C+jrklsyutXavqr4y367wGwTrJstYU5k7zRfweBIIPORyyJHwoYCq0LOIwcTSwM6AwIy/3Lvwuei6uK6YnKiUUI4MfJRuGFVMOvgfxAUv7gfS/7SvmAeAD3TXbv9lO2YHZt9ts4bznVuwy8Yf3yf5eBvILeg5IEeoV0hnZG3Ic6xspHNYdOR6zHGwbtBpjGrAamhlMFl8TmxGXD0INIwrjBfYCJgLiAAv/Wf6U/s7/+QEeA4QDwwRFBMr/0fkl9EXukud23Y/PGMR7vgi6irP4rLGpna3bt7LAxcW2zaPbHuwm+1MFswtoFM0flSdBKrkqmyr2K6oumC7IK0oqDCqzKdgpuSgbJakhwR5NGvYU6w7PBkn+Kfdi8Abq2+QW4FrcDNta2+DcMOBX5NroTe7p80P59v40BG4Idgz6D3ISmRRuFgIYOholHLIcbB3GHh8fcR5GHVsbhRnJF0AUVQ82C5IHmgMjACT9a/o0+Uz5Zfl4+mv9lwBoA94GNgqiDOYOhA/LC/EEdv129T3tPOR013/IB74iuT61rLCTrMyr4bK7v5/JcM/r1yPlhPSkAu8Kqw4iFVUeQySwJssn9ifYKaYt9y46Ls4u+i7ILTAtOCvoJZwf3hgAEccJdAKt+KbuQ+dV4p/fP9613EncUt6/4WfmO+yl8YX2P/sH/9ACfwccCzwNhQ+8EcMTLRa0F7cYgxt+Hi0fHx8MH6Mdnxs1GVQVhBF9DsoJAwQsAJ/9EfuK+aD4sPdq+H76FPyh/hIDqAbtCMgLXA4SEMwRlRDLCf4A9fiO8Cvoqd6f0O/B6rnytt+zULBSrWOuUrhexkDPwNTI3R7r2froCK4PchJLGY0ixyh/LBUu1y3QL3gzGjQXM60yLTAuLDgpiCSjHBwU8ApkATT6gfMQ6ubggtua2dfaS93G3TreoeIF6rzxffj8/FcAkgXPC/gPBhJkEw8VCBgtG+IbthpsGp4bJh27HSMcxxhlFS0SPg7TCVkFvQBq/Nj4/vUY9GzzxPP89P32L/kI+8z8S//zAigHqwq+DOQNgg9OEnwVuRdEFy8SHwlx/zb3u++F5q7YsMeHurm03bF6rbaoO6gxsH++9Mpn0tDa/OgE+/kLAxfFGx8gsidjL3E0vTYGNmg0ETWQNic2GTQ0MIYquSUsIcUYHw3RAbr3ie8d6QzhmNcN0rzRbNRk2UfeaeHz5n/w4fhQ/u0CtQY9C8kRERUME24SohXxGMsbfh0UHAEb6hxAHjceHh6wGuwT8A4eCxMFjv7t+B30avJt8tnvZe1578jzDvhw/PT+EwBXA6wH3gqFDsIRgRLtEywYaxyzHtkcGBQ9CCv/Xvcv7WPf9swyulWvq6seqJ2jUaELpbmyjMWw0n7a0OXT9lAKQBvTIvgiRSa5LgM20Dl8OVM1cTN5Nok4uTZlMgMrxCLoHLQVdQko+4rtJeJy29zWvM/1yMLHX8xP1ZHfqubK6/jz+f5YCWwR3RWqFxMbfiDVI9sjaSJOIYAiGSVtJB8fGxlTFZATzRHRDAEENPsl9QHxye3z6iHoxuYe6O3qN+488pD2OvvMAO8FEgnTCgsMcA1OEMsTtBWWFuwXnRkHHDofrCH6IvwhOhrKCiz53umf3WfSE8Pwrrae7JhbmjWe8aK+qe62/8rz3ZTqUPXlAigTQCOzLaYv9y5JMqY4gz7XQeFACj0wOgA4bDMNLAUiKBWmB8369exj3rPRU8iawzzEKcd+yR3NzdSi4PrudPy0BdALchJMGrUhjCe1KgYryipnK2ErBioAKKwk5h/ZGn8UZgvMATT6XPSy7//qjeRp3k/c+91/4Ubm6OqX7j/zj/n2/y0GIQyFENETMxdDGTEZ+BhqGdAZaBp0GscYMxf+FmUWuxWpFngXFBYSET0FffOz4i3WL8ywwiK2Tqbxmwydv6RxrSu2OMDAzxTljPdoApoLxxesJSgypDc1NCEwLDK4Nqc4zTU+LV0jxB3JGTcSNgcn+tXs3+KY21PT0csNyTrLt9EC2zLj3enc8kH/BA3eGVQi9iTrJRApHi1cL5AuGiuUJ7Yl8yLZHGkVQg81CqoEnfxl8YnmfuA136Xfgd/u3a7cON/g5ZXtfPTJ+ikBSQgoD38TtxWZGOEc2SB2IjogIRvOFjIVfRRmEmsOnwl7Bq0GXwjbCOMIyAqiDnsSZRK+CSH5Redg2cvPCshTvSKuQaIbogGsxrinw6fMLNmq7CIAEgu5D1UVnR4cKVUuBiqlIg0i6ye1LC0rtCIjGPoRDg+XCOv8rO9+5L7dK9rp1ePRJ9Po2l3mYvLh+6UCQgoXFKwd+SR7KEonciTjIyIl4iUZJQIijh33GUAW8g/oB9f/2Pda8CTpOOGo2sfYWtt94MjmEewJ8EH1L/zaArcIWQ3hD3wRJxMRFA0VaBfDGQ0bjRtBGhEXyhOEENoMrQn0BawAsPwP/Jz9wQBkBOcGdwqyEPkVhhcNFAkI7vSf4sDUWMovwiq41KtVpoesKLjww8rO69hp5q33sAMSBywKQBIVHYUm0yjiIwQieyg2L80uaidZHEETKQ4qBnv3B+nt4DXefd0W24TXqNkw5OPwjfoPAYgFHApIEHcWdRt9H0QheCALIBUieyWaJwMmEyHNG8oWKA/GA4j3H+6w6Ojk3t+e2tfZAOAX6gLzUPg7+0f+LgJkBQQHYQicCi8NaA9rEQQUFxgOHZkgGCHQHn4awxS0DiMJ3wNu/tX4EPQb8vXzN/gx/T0C/wbcCyARLhWfFoAUWguz+R/lXdQqyqnFI8ENuFCwILIovIHIKdP+2nbkMfPMAPwGYgpsEVEclycpLVwqkCZoKBorBChgH1sUfwopA1b6D+5G5GLhSeLT4nXhjN/D4R/qH/R++2oAOAQQCBANURNoGi8h3SVhKPApFivpKw4rXScjI1gecRPSAXzwPeW54vHlpuRI3L7Xxdya5irxBPle/BIAWgWJBmwFjgidDoMUkBlyGkkYORqQH8UhSyAPHGwUoQxxBg7/4/eN9C7zy/Er8cfwxPE495r/0waCC84NhQ+rE4AZfxt0E1YAMuos2wjVOtIDzCXAULa1t3TB3so+0aHWtd8p74v95wJoBIYKwBUAIogoYyUbIOUgICO0H5UXNg5kBhAB+PkE79fmGuZg6JroQebA4+flsu6s+J3+KAJIBpgLURIvGQkemiFgJTkoGilNKIMlLyExHeQZqhUMD5EFtfou8oXu3O1Q7KroE+Vv5PPn3O0U8wX3D/vj/mYBMAN5BVAJHw/VFJAXXxcUFuoUnhRqFNAR7wuPBL793Ph29nv1pPQp9JT0svV990T62f2zAY8FbQkXDbgQdRXXG9Uilii1KGIdtge38JffyNWXz8bEUrMHppWl6678u/TH9NBz3OvsSvoiAQQI6xHXHPUl7idgIwMiGybKJzUk6R1HFhwPfQdK+77tTef65//ol+ao4cnfSeeC9TQBwQZZCa0MkRJnGaEdcR/yIW0lrScQJ4kjYB8JHcQbBxk2ExUKg/9V9oHvZuoO5nThRt3R2xLecePU6n/yffkAADsFMAj8CWEMBRBNFDIXGBcrFZUT3xJKEs8Qrw0fCfYDA/8o+zr5DPkq+VL4Dvfa9m74wPsHAPADuQeoDAES7Ra4HHYjfCmLLHAm9BFb9X7cxcz1xM29Aq/mncaYOaJostzCdc+L2u/qq/yMBuoLMhQBH+op5jDfL9As/S44MXgt2CUOHOYQ1AUH+JbnVt0z3b3gN+J04JzeW+RE8+QBIwnVCl8LCQ+2FuMcjB4BIKcjOifiKMUm4yDjG6EZQhYcEIgHWvsM7u/k+OCc4PPhHOFm3jngduif8qf7WQKhBr0KPQ4UDqcMAA+GFJAZhhtAGa4VJxVlFlUV+hDVCUcBP/qR9f/x9O/p793wt/I/9Uf3FfrE/9oG0QzkENsSuBT+GZwhOyefKKoiexEV+LversvVwUC9SbSPpjOfNaRusnjE89PC3/Htxf0lCNsOsBcOIjcsdzN3MxIw3C+9LrcnDh7FE4oIf/1L8LrgsNe/2Q/gLuR/5DzjAOjp9VAEVAtjDHsMHhC3F7AdER8MICkk8SkiLSEq3SIlHR0b4RnLExcEcO5R3fvWONpc4OrgXdwr3NXjF+92+hEDVgiuDR0S/BEIEacTmRfaGpEc0RrBF1gWMRQGEN8LyAaV/y74dvEs7NXqSu3q8E70P/bD9p75VAGjCosQqhEnERkUNxxwJQsrtyxnKm8fkwhh6yDSg8Okvau2tqjTm+KaIabNtzvKXdkJ5wD2YgLICrAUuiClKkIxTjP+MGIvNS6qJ30djRSwC1wB3PQs5d3YctgU4CvmLeev5EzlJfCDAOwKGA21DNoOlRUGHW0fah9YI8cpwSyuKTQichs1Ga8XshBuBDX3juzA5mblgeV55azlBuY25zbrIPII+o0BTQfoCYMKaQsZDZwP/RKPFSgWuRVkFLgR5Q6JDIUJMQUu/5/3IvGL7o3vPPLf9D72Tveo+rcAUwd3DEcPtBBzEysYbhyvH7QjTygWK+0m9RR89rzXp8IOuMiyAKq+m96TtJvlrqvFitn25sTzfARaEiEa5yB7J/wsADIrMtEsQikkJ04ghxZ8DAYBAPYK64bdL9SE1jbfCeaK6BjoMez2+lwM2hTeFDgTYxUwHXQkcSSgIUwj4icMKlgmvxyzE+MQnQ/sCG/9OvF96CDm4uax5ZHj6+JE42XlNOpW8Nz3wADjBxoMYg8lEpEUzBe1Gt0b+RunGvUWNBJnDXUIIgT+/zf6ifOJ7rDsde5/8pf15vYf+eT98wNpCegMkQ4PERMWHBtPHrchEyaIKbgpWyDaB9XmGsr3t2CwaKw/ojyWz5b0pca7TNJ/487vF//UDjMXkxy3I8ApUC8jMxwwfSuGKqclbxpBDwIEAvhU7QPgyNHczmDYiOPL6hXt9O2r9/wJ+xb2GAMWTRRdGEIgqSK6HsgdkyK8JyUoDiFmFq4QtA9NC3MA2fL05zPkB+Zy58bmlObl57jqFe9S9K76rAJSCkYPuhHwEvUTqhWTFzwYXxeYFesSPw/rCjoGxwE3/rv6Afay8CTtLO2K8H/0Xvb/9mD5s/4YBXAJ3gpDDHkQ6Ba6HMwfVCHdJEAqNCw3JQUSSvQT1ZO9u6/VqLyjppwVmXqhY7T9ykPgDPCw+1oIJxSeGzYi8yjNLPUulS9xLEAofCNQGR0MwgEr+M3sKuEX1qfQN9da5Pvtv/K89Qv75wanFHwaZxiFFfEVbBpdH2sfHh0SH2wkvSeZJYcdMRRND04NCAkKALDxpOH/1wbYBt6a5Pbmo+Vt5zPvm/k/BEgNzBLdFQYXMxYQF6oaOBxHGvkWjBIFDsMJbAPL/Kf5bvf58gzuc+pF6rrvnvdw/SQBLQNmBG0ItQ8aFn4Z3BoeHGkfVCQtKFMq0CpIJQUTdPMu0PG17KmbpuqhlZhjk/SbsLA2yZPeA+7L+nkIyBNYGkEgVye+Lb4y5TOQL2gpbiLgF0MMvQLH+APtj+D+1OLQGNmO5sfvavPs9C36xgYgFGgZ3xfFFY0WihrRHc0chxsXH5okKiaWIcIYzhAnDacK8wTN/BH1DO8f6xXptOhi6iztie477j3v4POV+/YDPQrxDCQN9AyRDVEPtBEMEz4S7w/SDDQJ6wVpAwIB3P0/+ZPzSO+F7vLwFvWR+ZL9YgEsBVkIIgvzDU4QVxJ0FAQWQhcWGWcb3x64I1gmmSJqFu//f+H7w8Wu8qOBoTGg65vXnCirU8NE3bLx3PzrBJ0QthsrIrMmsClgK/otkS3nJhcfqxe5Df0DcvtN8MDknNyk11LZjOON7gj1T/n+/AkDUw5cGOsZRxY4E2MTzxcoHKwbwhquHuUj0SSDH58Vag0MC6gJwQMD+yvzbu6N7erttexN6zDrVesj7DbvafQ2+9IC3wg4DBgOIQ+OD3cQqxHGEXAQqQ1cCckEUgHS/pj81vn69YfyDPLs9Jz5b/4YAsEEhgcKClAL4wtVDLAM6Q0yEF8SjRQjF3wZghyNIJ8hwxujDST2dNiBvXerYaMoox6kFaPIpwW4E8865qr3mwDAB9cS7BwKI9cnLCodKnsq9CeaICAZxxDJBPf5F/Kf6S7idN1/2uzdnOlr9YL8yACdA+oIRxNbGwobzxYUFP8U4hnIHeIcQxy8H+sikiFDGy8SwAvdCcEG0/569UHufepU6nbrQuzC7S3vsO5K7trwQvYJ/RIDoAbwCNALew4/EKERehKgEvcRSA9eCgQFhwBh/ZT7v/nu9rX0GvVM+Lb8+/8fAaABCQP/BGoGGgfBB+8IsAolDWAQMRQ/GJwb5R1PIG8ivCDrF9MFk+r2zJS26ap/py+nKKW9pJaussIj2RfswvhBARIMeBjNH2winSMCI0Ai1yGgHX0WPxDuCMcAsPvX9vTuj+fg4nPiH+oL9qr9CwEpBGoIyA/PFzYZjBTqEOkQ/RNLGIcZHhh9GY4dMh8SHC0VCg6YClUJUQV2/iD5KPdu9QDwuucp4hbjxecZ6sHonekK8Qz89wXTDFkQUhJEFC0V8hWfGO8Z+hW4Dk4HkgEU/6v9dPqK96j2NfaE9iH4i/md+5L/QAMlBVwFLgTABJkJTg/vERQSpBKJFvUcFyHvId0iDCScIVgVY/ot1426yKvYp0qnVKKnmw2gGbMbzPbiDvKW+XwCcQ9dGWAfOiTiJQcmUidpJQkgShsJFL0JBgMv/oH1Wes44uvc6+I38Yv6Ovwu/DT+owZDEzEY8BImDdoLDQ8BFSUXeBR7Fbwb7x/sHoQZTRLSDuEOlAsmBEz9P/hN9fb0sfR187vy5PAT7WrrNe6x82X6PwBZA4oFcghiCuwKYguwC8gLdQuxCHEDGP+//cb+TwC1/4X8LfoX+9j9NwADAZEADgFeA38FPwabBioHCwgnCU0JnAiVCdgMmBAbFMwWNRi7GogfnSJ/H6wSevl/2Ra/S7AGqzuqrqeEpOWqOr3u0gjmHPTt/EoGvREzGGkZAht+HMod0yBRIW8dYxmUE3sK+gPS/xv4gO6K5hHiiOaJ8gj7CP0h/hMB8QeHETMVuhB6DIcM/Q4vEvASmhHQFN4cuSECIIka6BS4EuESOQ/SBu/+0PlK9lPzju8666zomuc05j7mXerE8Qn6CAFdBQsIygrmDHENpQ1pDtcOyw2DCrgFZwJkAo4DtALm/sj5rfaU92D6zfvM+5H8hv8VBMoHwAh7CLMJAwzLDLkKxga+A5YECwn9DcgRwRRmF0Yb1SDxI+wf3hK5+9vdGMNysq6rLquAqvam+ahst7fM7ODU7xb4wv8kDP4WkRt1HoMhJSSmJwIoPSI7HIoXDhBbCDICcPmw7+zoquQV5gTvDfcs+bj5IvsE/ykHcg1iDEYJUQkUDDgR+BVaF8oZqyB1JnAm3yGFG+MW8BS3ED4H0fyV9Wrxne9d7wnuPul74Xza4tmD4krvvvex+ub9XgQrDDkSOhReE1QTKBTNExATuhHeDYQJRwc2Bf0AVfrU8pfvAvMw9yn3q/Xi9k78bwR6CvELgQv2CmEKNQv7DE4N2wzjDUURzRaLG6scdB3gIZkmiCSwFaH4CNYkuyetJKlrqHejkZw2oLeyqcvi4ezvjfdAAtIRRB0XIowkySXgJ5ArySooJNUcuBTsC+kGlwK1+LnrPOA42jvf+eoq8UvwyO839Jb/hA1WE/APvwxDDvAS7xcdGR0YWxxFJZAqlihDIRAZAhV9E+ANegO++Cfw7upR6X7pYOoC6yzpUea/5yfv7vh0AJYDnQQqB6IK/wtBCxALMg2KEKwRyA4nCkAHLwcYCJkGBAGC+fzzmfIt9Hn11PQg9Af2ivpn/+UCiwXICIcMLQ+SDzgO9gzzDFUNEg1mDMULCAxHDsQRLxXLGOEbARxKF6wKsPO516rALrNSrkatDKoqp8it5b7t0//n7PYbAIsJVRRCG/Ye1SHNIdkgKSJIIsofXBzxFFwKTgP5/X30BOk/31Xac9/B6l7x5fLD9fv7UwbyEYgW8xOBEmsUZhemGqob0RqSHRQjqiRPIZIb6BS+D5MLIQQg+vjxAuzR5+3mqeho64vuAvCi7/Dx3vizABUGhQiTCQEMUw9OD1sL7QfxB1AKuAsqCRMEWQFPAlYDMwHK+7T1ZvJL8p7yMfK28rz1I/s2AcIFlQhdC3gOchAyEPgNDwvOCGAHTgZ6Bd4EUwTTA8ADRQUYCfYNlBIYFxsb8hx5GdkLffOw2BXFx7ucuRS3JrB1rAG18MYV2g3p9vH1+fQGBhS0GqYdYh/CHzIhKCJqHrEYQxOZC6cEtQFo/eP05eu45CnjWOr48qb1TvbX+d4ATgvWE1QUFRHhENQSuhSMFb8TmhJ9FsgbOB07G2UXNBPcELMOcglAAnz7pPXj8evwXPEo8rPyRPJC8p/16vxmBH8GbgG/+Vz1EPb/+IL6wPsSAXoJEQ+fD6oNeQxADYkMzAaS/337SvlK91L2q/bY+DX8r/0T/ikBTwXSBjAGowRGA/wDOQV/BKED6wMRBAoFggcrCewJnQsbDkwRMBV2GLIcmiS7KuIjtAvq6VPNQ8DgvR24QKo+nuafpbBCxz7ZL+WH8fIAhw4RFqcYJBnVGecbkh7XINkh1R4+F8wQyA8HEHMKk/yW6zfiaeVJ7e3v7Oz76s3wYv7mCtYOGg25DAQQORSxFM0Q4Q60E2sbwh8qHzEcXBo7GlsY2hKyC78DEPpb8J3q6OoB72TxJ++x7DrwW/n/AZkFJgUDBekGnQdJBJP/3P73A9EKfg1gCl8FCwPVA1EEbAHC+272cfNY8sHxe/Hq8rv2SfuQ/mIA4AHQA6wF8QUbBGsBFv9y/S/9J/8bA58H7ApPDBINpQ4GEAQPeguJB40Fvga0CjoQxxbkHYkjhyQTHegJMu2V0M+9W7YtsySsTaKloEyuacUl22Tq5PVQA4gSAx1qIDUhaiL4I8Al1yaFJqEk/R5vFQoNqwdXAO/zT+WK2iHZct8r5c7mA+kl8BH8qgj6DwcRPxEfFDcYaBufHPwcxh8UJZgowie0IykeaRiXEr4LVQRv/dD1wOx05bfjQOev653s3erp6zjyw/nF/Wz+tf8FBNoIXQo+CcEJ/w2YE1QWbhQDEHoLswbqAHz6OvQW75PrVemA6MbpmOzJ7+DybvVX93/5Svxd/wMDhgdnDEYRWBVNF3wXOBceFv4StA0cB1kBT/7v/G/7kvqL+zj+XgJQB0EM8RGhGLgeqiIAIWMT1fjS2h3GZsC/wqG/A7RRrHqzY8b82VHmbe2092AG5hEtF+gZcRw6H1AidyR+JYAkTh2zEGIHCAUZA4f6JusW3bTacuP56yfuVe7D8rX9+wrUEswTxRM2FqwZ3xsZG6EYpRjGG0keLB6zGx8XYxF8C9cF5AH5/9/8ifY18HPu3vF89iT3TvPP8Ez0tPo5/u/9g/1+ANUFJAgcBrsFdAkTC6EFMfyT9rr5CwBP/2H4e/TO9cX3JvcG9GjyPPXB+L366f7jBGUIEApPDBYPMxEcD/EHcAI/AlMC7/9i/R38KP35/2ABuQFpAwoEIwKhAfMDnQbiCPoK7w1kFEAcaiBxI0IpyCl2Gdn4xdV6wkPDucTytTaiSJ7/rWzFOtWx2lLkivjbCdEQjxQUGQ4eMSMdJrspaTEIMlsjEhPWDjASZBFvA+vrpN0d4SPoZ+cO4/Thxuh89jUBiQR1BxMNYRIyF6Ma1BoUG2cdhB6PHtYf4h+RHP0Wxg/aCfMItggDAvn2NO9Y7qDxVfGy6fbie+aL8ET3IPiu+Mj+Ugj5C54GMAFrA9EJwgxOCiMH+QeYChMJnAMUAGEAWgBC/Bj1au867l/vYe/t7pHwWPR3+IH7X/2a/xgDMQYqB48G7AV6BkUIiwngCHMHGAd+B9wGSAQfARIA4wHvA4EDmwGwAR8F8gm5DSEQ+hJ5F58baR35HkghgB0WCzbrbcsKvH2+UMEutyipoKi8ueXQgd/A5ALuuwBMEuMa9h1dIOIjSCc6KIYpbi23K08eVw7NBrYGrwT/98HjX9cA2kjhZeMh4tHjvexk+mAEVAgUDN4RFhchGxwe0h+FIcoiNyIPIgAklCSpIOYYpw+uCMwF0AIs+5Hw8+eh5N3lb+Y44yLh7+XE76j4R/1x/9oDhwpiDZwK6AdxCTMOYRJdEcoKPwNO/Zr5p/nV+mD4jvO974PtHe438XHzlPTq9YL2bfjC/dQBtwHFASIFmAqIDnQMgwbjBIsINAt8ClMIHwdzCPwJlggkBi8FigQ9A9sBIgFmAr4FIgnEC88O9BKGF5YbqR9oI+IgThBO8lfTRsMGxXvIrL45rtKo+LT3yGfWVtsM5Nz1sgY9DwcTzRYAHM4gIiPUJvct/y4NI00T7AunDYcOkgNO75zh7uHI5mzm2eFx4N3nA/VD/4AEawm0D2YV2BmGHcYgFyNkIoIepxu7HN8ewx1iGPIQJwujCHYG3wAP+FbvHOoQ6cvo9eWX4rXj8erD9N37f/7M/04CNgRoA4cBzgG0BCEH3wZnBmQJvw6vEeIPPwzHCrQKNQc0/mvzL+zV6STpQOex5bzncO2k88r3L/q7/AMAqwLpA/oELwcWCpQMvw51EYsUWRZNFfURrA6QDEwKpgYHAqv9+vpU+lT6Q/oA+7/8Vf/oAkUGcwieCh0N3A/VFLoaJxo+Ddj1eN6P1HDYBNrZzga/gLi8wL/PUtjE2jTjRfNmATYJ2QzjD2MU4BY1FiwaCyQDKOIfVxNhDSYS1hj1EwMFmvmq9lX2O/Mc7fjoYusb8QL1TPgL/W0BYgRkB0EMehPrGdMaABd5FIEW+hrcHXccvRc5E34Q6w2yCTED/Pom85btDeo+57nke+Mk5TDqVvGo+Dj+nAAYAMP+gv+QA0AIiAoFDIIPPBPIEpoMWgUhBNwHUAcc/yr1wO5g7JfrWupF6z3wVfT69JD2dfrT/b3/gwAxAhkHcQsRC4oJkgpYDQ8RlRObEmwQpA6HC9wH0gQSAWD9B/sD+T34/fkm/P/9VwEJBjgLaRDTE0YVbxd3GwYfBR3dD3D4T+GC1ZPUOtP2yK26a7RrusLEw8qvzvPYAOpl+QEC/wZdDf0UQRmsGS4dsyb+LSMrjiF+Gy0e6CJ6HpQQYgM//DX3n+//5Wvfod+/43jni+tQ8eP2Lft5/2cFgQ0LFfEXDxclF0waKh90IyMlYCTXIjog/xokE7MJEQDk91bxWevx5Q3iQ+At4Qjl5Oo78TP29ff69n72+fiw/U4CnQW8CIcNZROZFxgZQRkTGfEXdxTpDWYFrfxN9OjsCOhK5qrmvOep6Crqlu0t8tz1J/j7+Rv8qv7pAIwC8gQOCcoN0RGGFJIVRhXoExURQQ2MCRAGywIwAO39D/zO+x79BP9xAdQDXgXCBhgIqAhgCZsKpwtgDpYTExaSD8D+qOkv3DrbSNxO1HXGf71xv/7HgM2Bz4rXjued9iP/xAN0CTYR8RVPFc8WyR8cKXYpRyGAGR4aKiCcILwXrQwqBbz/zPi971joWOae5zPoJ+kH7Wzyifbr+Cb8kwPrDfoUuhXCE6wT4RZ6GxoesR0aHI0arRgnFs4Sxg6tCk8GsgDT+SPzTO5f6yLpiOc16OzrYvDA8dTvvO8+9fn9PwV8CB8IRQaYA18Az/+DA44HYwiZBloE2wOlBIUDxwBk/+b+4P1g/GH5PvXT8hHzafX8+OX6Q/on+oT7JP2D/4UCMQW3B1YJfglPCmcMuw0fDo4O+Q6YD9oPCg7XCrIIOQjkCOcJ4wn2CL0I6whZCGUIjgpwDL4InPsB6DbYKtOq00nQsceGwPPAtMehzV7QEdaQ4kPxQPxEAjIGQAt+EIcT8haLHqMnBixaKR0jaB8gIGIguRu0E8ELiQTZ/DD0Zexe6FDocukc6k3rAO6T8ej0+PdJ/B0DuwqAD0QQlg/uEK4VxBuoH1kggx84Hg4cexjWE3sP6wtbB1QATPjO8e7t3ut56mfq+eyb8Mfxse9R7f7tC/Kq9pf5tPuM/oIBbQPrBLgHGAywD+sPQA1hCpAIuwb2Az4BUQALARcByv4d+xn4Z/Y49fXzKvNm8/vzAvQP9Kf1QfmL/eUAMQN4BfQHsAkoCiwKBAv1DNgOng+BDxAPVw5UDRwM4AriCa4IpgaGBHMDdwMEBFYEHgQGBUkIxgryBmz6VemX3ETZD9p/1hXOt8fqyKTP7dTF1t7a7+Q48W36Rf9TAk0GawonDd4Q4xdWH8kikiHPHi8esh+IH8obwxaGElQOfAiEAFH4DvPd8eHy2vPe8zTz6PLD82z1Ufei+Z/83/+xArkEegYiCQUNKhHUFDgYPBvNHNwbzxiPFZIT6xFxDt4IJAPG/oz70/io9qL1o/UU9RDz9/C675futO0b7nzvSPD/7pLsRO378qz5uf1DAG8DlgcfCxsMywu4DPUN/g2cDa0MKAqvBoUD7gFLAkQCEQBP/UP7bPnM95r2Hfbc9ib4L/nU+mz9IwCvAg4Fhge3CrENrA6pDfgL4goHC3oLTwsyC58LEQwkDKgLVQuODA8OsQuyAoD0e+YK3rXaTNds0d3LVMoWzW/QqdFb0zHZX+Ji6wzyifZA+rz9AwEZBv4OYRmDIMMiziIBJFcmtiavI6sf9RxdGmQV8A1pBtsAOf20+lr5L/mR+H71mfAz7ZntcvC/8pXzuPTa91f8cwD1Aw4IOQ1vEmwWuhh2GacYiRZRFFQTIBO/ES0OogksBncEZgPYAcj/YP0/+kj2Q/I371ftBOwk65Drou1K8DXyT/PH9Kf3dfu8/sQA1AFlAuMC0wOtBV0I4Ar2C4cLlgr0CXoJWQg+BtkD2wEGALz96Po0+Ir2Ofbe9gj4Tvk5+s76rvtY/aX/0gE9AxkEAQUZBg8HuwdZCDUJTgp7C5AMUQ2CDSQNoQxdDEEMRAwNDVoOSg1GBnP5cOyt5frkfePL3J7US9E106vUSdKB0GnVi9/O5ybreO3K8jH5VvxV/TECvAzUFhIaBBjRF7IcRiJ7I4Uh/iB/IswhJBxPFNUOLAxFCc8E0QCy/or89/cH8mvuBe+88VDzNvNU89b0FvdH+bf7Qv/2A6sILwxgDs4P9BD6EbAS6hLmEvoS6xLiEVQPIAwICnYJiwg0Bdr/SPsn+WT36PJ17IHonOnT7G3tTeu06sPtgfGO8kPyvfRU+pf+Gv8W/wsCnAYgCQAJOQmuCy8O/g3qC3oKEgofCdwGjwS8A6sDcgIDADD+Jv4b/zj/7/3T/Dz9UP6c/iL+KP5y/xcBtwG5AZwCiwRXBkAHvgehCM0JTQrtCaUJLArOCksJXAPA+cHwC+zJ6vPoWuSA3+fdjN5z3TLaCtnT3M3iQ+bj5r3o2O0y88X1fvea/DsFvAzzDzcRWBQkGVEctBwMHasfayJgIW0cQRdRFEYS1Q6PCtsHrgY1BDL/JPoq+Az5ovkx+LT2c/dm+Qf6I/kO+W77Av9HAewB2wICBfEGLweABgIHVwmmCx8MWQsiC9sLIQzHClMIJwaaBNECcABN/in9tPwO/Ov63/lr+SH5XvhM95D2XPZS9h/28PVI9kb3fvim+ef6Vfyr/ab+VP/0/5IAAQFLAb4BXgLiAj4DtQNpBAoFIQW9BGMEKgSYA4UClQFsAdgBIgILAvsBQgKHAj4CjQFBAaYB9QFuAXIABwCLAGsBEwK7AuIDeQUTB40IwgmyCY4Gk//A9rjvb+zj6xnsOOxD7J7rHuka5V3ideN65wnrOuwi7IDsde1o7j3w+PSq/FAE/wgEC8gMSA8tEXgRXhF6EkkU+RQVFAET0xLbEvoRaxA5D4YOfg2+C+sJpQiFB6sFJAPnAJv/DP/r/kT/DgC1AJEAzP80/yb/Lv8H/yv//v/lAO8AHwB9/9D/zQC0AVMC+QJfA74CHQGw/3b/FwBwAAoAnv/W/zkA6f8Y/9X+lv+PALIA9v8v/7f+/f27/Kv7ifsR/GP8IvzK+9b76ftb+1b6uPnu+Y36EPuE+zn8Df1+/Yb90f3e/lgAmwF9AkID9QNNBDMEEQRfBAUFegVkBd0EMwShAzYD8gLfAuoC2AKIAhUCrAGBAbUBJwKUAtoCAAMHA8cC7gGEACv/av7u/d786fqV+HX2dvRe8qDw7+8b8BPwOO8m7svtP+7v7sLvW/Hm80r2UvdW9873gPnY++z9nP9MAeACqwOOA2gDHASLBd8GnAcACFoIhwhhCEkI7wiECkcMNA0cDbUMmgzFDPQMPQ3uDdUOIw9rDlINtAyhDJkMTAy4C7wKEgnhBvgE6QM/AzcC6QACAIj/uv5Z/S789vs+/PT7Aftt+q762/o9+oP5oflQ+oX68/lj+XD5ufnX+SD67Pri+2r8avxW/Gb8U/wd/ET82vxV/Xv9oP0C/oX+Bf+h/5UApgFIAnMCigKbAocClQIvA0EEMAV9BWcFgQW0BXoFAAX/BGEF/AQVA4gA7v6u/pv+mv30+4r6PPkk91T0H/Jo8XLx6vCc75rugu6b7k/ue+4q8MTyg/SS9Ab0bvT79bn3Rvk++9/9NAAqAQUBIAFbAkUE5AXgBqQHdQjuCMwIuAijCZ4Low2JDj4OvQ3EDR0OWQ6MDu8OPQ/YDp4NSgyuC7ALiAvHCq8JkwhvBysGDgWRBMAEBAW+BO0D6ALqAQ0BbgAFAJv/+P4D/tT8sfvn+pb6p/rR+sf6ffow+vf5tfl4+Yf55vkv+v/5a/ny+P34cfkB+qv6iPtW/L/86fxC/eD9c/6q/nz+GP6f/Sn99vw9/eD9fv7m/jn/of8EAEkAnQAzAeEBYAKbArMC7AJ+A2sElAXNBsMHDgiEB2IGEwXdA9UC4gHKAGb/uP3R+8z5Bfjs9oT2Tva29Zn0VvNp8vvx/fFt8kvzQPS49JD0Y/To9Dv28Pee+RD7N/wO/af9Rf40/4UABQJgA1cE5wRHBcYFqAbjBzIJYQpQC8gLrQtECwsLWAsADHcMZgz+C4oLHQu6CoUKpArsCt4KIQruCMwHEwfBBqwGtAbGBrcGNgYoBfIDHwPYAroCPAIqAbf/Jv6r/Hz7y/qb+qj6jfoe+pD5Nvki+Tv5ePnZ+VX6yvr7+uP61PoQ+4f7DfyA/M/8C/1C/W79kf2s/aP9V/3k/JH8hvym/ND8AP0t/Ub9Zv26/UL+2v5j/+j/lgBxATwC0gJOA9ADNQQfBGsDeAK0ARsBVwBH/yj+Mv0q/Mr6TvlA+MT3d/ff9gr2bfU99Un1cvXT9YH2VvcI+IL4EPn/+TH7U/w5/fz9wv6B/w8AhQA2AVYCuQP5BMEFGwZaBsAGSAfJBzcIowgCCS0JKgk+CaMJVQoNC4ELpwuXC1AL0gpFCtQJhgk3CbMIAQhlB/YGiwYHBnAF0AQmBE4DNAIZAVgA/f/E/3//Lf/0/ub+5f7F/nv+Ef6O/f38avzf+3X7OPsX+/364/q++o76bPpm+nn6qfrx+in7MPsd+yT7Xvu5+w/8T/yE/Ln84vwA/UH9vv1Z/t7+Nf9r/5b/tf/C/9n/IwCSAOYA9gDJAHIA/f9t/9X+Vf70/Y/9+/w7/IH78PqN+l/6XPpk+lX6IvrR+YX5a/mU+fH5XPqw+t/6+/oq+4X7CfyX/Br9jv3v/T/+jv76/qT/kQCcAZQCXAP/A50ESwUGBskGjQc0CKYI+AhQCcYJVArZCjYLZQtgCxgLlwoSCrIJdglGCQsJpggLCEwHiQbfBVQFxwQfBFkDfQKXAcQALwD1//r/8/+w/0L/wP4r/o/9CP2u/IT8evyA/JT8wPwP/Xf92v0W/hT+zv1R/bH8C/yI+0L7KfsU+/L60/rT+vH6D/sc+yv7SPtf+137WfuO+xX80fye/Wn+Lf/o/4wAAAFEAX0BqAGQAQsBNwBr/+L+g/4K/nH92/xB/Hj7e/qJ+e/4t/iT+D741/ej97H36PdL+P/4EPo3+xL8lvwI/aj9b/4q/8T/YQAQAZ4B+QFWAvACxAObBDgFjwW8BdUF4QXtBREGYwbSBjoHkQfrB14I7wiNCRAKYQqACnMKPwrvCZoJXQk7CRQJ1giNCEEI8QeQBwQHTQaPBccE1QPEAsoBCAF3APL/Wv+9/jH+p/0G/WD81Ptg++n6U/qo+ST58vj8+CT5Yvm0+Qn6Svpl+nL6o/r8+k/7gPue+8z7HPx9/N78Rf3F/Ur+o/6u/n3+P/4W/gf+Af7y/dD9m/1Q/er8efwp/BL8BfzL+2b7+/qg+lj6IPoH+iP6WPp0+nL6avp2+rD6EPtz+837Jfx5/NP8SP3p/bz+q/95AAwBeAHYAUACvAI+A8MDUgTUBC0FbAW3BSAGoQYlB5cH7wcqCEkIWQh2CLoIGgl6CcoJ/Qn+CdkJqgl4CTwJ9gibCCQImAf3BkkGrgUxBbIEIASAA9kCNAKXAQIBgQAaAMf/e/8v/9r+hf4+/gH+xf2P/WH9LP3w/K38XfwC/Kv7Uvvt+oX6Gfqj+Tj57/jE+Ln4y/ji+Pr4I/lS+XX5nPng+UP6tfoj+3/72ftB/K78Gv2I/e39NP5R/kX+Gf7k/bn9kP1a/Rj90/yM/EP8AfzO+7H7o/uU+3r7XvtG+zX7Ovts+8/7Rfyw/BP9i/0l/tD+ff8xAOoAkgEbAo8CCAOdA00E/wSjBTwGzAZHB6wHCgh1CPEIcQnbCSYKXgqICpIKfApcCjUK8AmMCRIJiQgGCJUHJQeyBkwG6QV2BfUEXAS1Ax0DmQIdAqkBOwHVAIYAQgDz/6H/Uf/k/kz+ov0D/Xr8AvyO+yj73fqk+nH6QfoT+u752fnE+aj5j/mK+aT54/k/+qv6I/ui+xz8gvzT/Bn9Vf16/Yb9g/19/YL9lf2q/bX9uv2y/ZP9Y/0m/dn8gfwc/KL7Jfu++nD6NvoX+hP6Ifo2+k76a/qQ+rz67Poq+3/74PtK/Mr8Zf0T/sv+iP87ANwAagHrAWgC8AJ9A/4DcQTeBEgFvAU5BrIGKAejBxQIbwi7CPUIJAlcCZUJtwnGCcsJwAmlCXsJQQkBCbwIYgj3B4cHFAeiBi4GrAUpBbAEMwSmAxADewLwAW8B4wBFAKn/HP+g/in+tP1K/e/8lfwz/NH7e/sz+/r6y/qj+oT6bvpf+lT6Uvpi+n/6mvqr+rv6xfrE+r36tfqz+sX66foP+zT7X/uS+8X76vv++w38JPxI/Hb8p/zZ/BP9V/2h/fP9Sf6N/rv+3/7y/uj+w/6X/m3+PP4G/t/9zf3B/bT9rP2r/bL9wf3a/fn9Hf5K/oD+w/4T/23/zv84AKIA/gBWAbQBHAKJAvECSwOeA/gDVgS0BBAFbgXPBSsGega7BvcGMgdsB5wHvQfXB+gH2gerB3EHNAfrBpYGOwbZBW8FAgWWBCwEzwOEAzoD4AKCAikCzAFoAf8AlAAwANH/av8A/5z+P/7t/ab9Yv0c/dT8hPw2/PL7tft7+0j7GPvr+sP6oPqH+n36fvqL+qf6y/rz+h77Q/tj+4/7z/sW/F38pvzs/C79cf2z/eX9DP4z/lX+aP5p/lL+KP4G/vj98/3w/e797P3y/QL+Ev4m/kP+YP57/qT+3/4f/2D/pf/s/zoAkADdABkBTgF+AaYByAHkAfoBEgIyAlQCbwKGAqYCzgLrAvkCCAMWAxsDIgMvAzgDQANHA00DVQNcA1gDUQNQA0kDNwMiAwcD5wLMArMCmAJ/Am0CXwJXAlICTQJJAkACJwIBAtYBpQFmASgB9ADBAIUARAADAMr/l/9f/yH/4f6f/mD+KP7u/bb9h/1h/Un9Sf1Q/Uz9SP1Q/Vj9VP1M/Ub9Qf1E/VT9af18/Yv9mf2o/cH93f3z/QH+C/4X/iX+M/5E/lv+c/6T/sH+8P4Z/0P/af+J/6//2P/+/ywAWQByAIcAnACdAJIAjQCBAHQAdQB7AHYAbwBpAGYAawByAHEAcgB3AHcAdAByAHEAdgCKAKkAzwD8ACABMgE6AUQBTAFOAVABUQFQAU4BSwFHAUoBWAFmAW0BbgFnAVkBSgEwAQ8B8gDYALgAmAB5AFIAKQABANv/vP+m/43/cf9g/13/Yf9r/3r/kv+t/8P/0//e/+j/9v8DAAcABQAFAP7/7f/b/8P/qf+W/4D/X/9B/y7/F/8F/wL/Af/9/gX/GP8m/zP/Qv9R/2X/dv9+/4r/of+x/7L/rf+o/6j/qf+q/6v/r/+2/7z/wv/P/97/5v/r//X///8LACEANAA7AEgAYQB8AJAAnwCxAMcA2ADmAPkACgEQARcBIwEsASkBHwETAQUB5AC1AIwAZQA0AAYA6f/N/7P/n/+N/3v/a/9c/1X/Xf9o/2j/bP99/4z/lP+j/7f/yf/d//X/BwAQAA8ACAAEAAgADwAeADMAQQBDAEoAXABmAF4AVABKADEAEgD//+//2P/F/7v/tv+0/7X/sf+o/5z/kP+L/43/jP+H/4n/kv+a/53/n/+h/6X/pv+e/5X/lf+Y/5D/gf92/3L/cv90/3r/g/+K/4z/jv+O/4//lv+f/6P/qP+4/8n/z//V/+X//f8TACkAPABLAF8AdwCIAJYArADFANcA6QD4APwA+ADwAOYA4ADdANcAygC5AKMAjgCAAHQAZQBcAFwAXQBXAFAATgBOAFUAaAB/AJEAngCjAKAAnwCeAJMAhAB3AGkAVwA+ACAABADq/8n/qP+M/23/SP8m/wn/+v74/vT+7P7u/v3+Ef8q/z//Sf9X/2v/fP+S/63/wP/L/93/9P8JABwAJgAnADQASABPAEoASQBFADsAMgAoABcABAD1/+b/1v/A/6H/hf91/2r/Y/9p/3H/cP90/4b/mf+o/77/1f/n//T/+v/8////AwAFAAkAEAAQAAQA9f/p/+D/2f/X/9j/2P/X/9n/2//g/+3//v8PACMANABDAFYAawCCAJ0AsgC7AMQA1wDlAOkA7gDtAOQA3wDXAMIArACkAJgAhgB7AHMAZwBbAE0APQA0ACkAFgAFAP//9P/j/93/4P/g/+T/7f/y//P/9P/z/+//7P/r/+7/9f/1/+n/5P/p/+n/4//g/9r/zf/D/77/uf+x/6n/nP+M/3v/aP9V/0r/Qf82/zP/O/89/zz/RP9U/2j/gP+S/6H/t//T/+z/AgAVACYAPABUAF8AXQBbAF0AXgBaAE8AQQAwABcAAAD5//L/4v/P/8X/v/+2/7L/tf+2/7j/yP/d/+f/6f/u//b///8GAAsAEwAeAB8AFwAWAB0AHQAXABYAHwAnACkAJAAiACcAMQA9AEwAWgBdAFsAYQBnAGMAYQBjAFwAVABXAFcATAA9AC8AKQAxADAAFwABAAQABgD7//D/8P/0//P/7//w//j/+v/4//7/AgD9//n/9P/j/9v/4//h/9T/1f/Z/9H/0//g/+H/4f/y//7//v8EAAwACwAQAB4AIwAaAAsAAAAAAAYAAAD1//b/AwAHAPH/y/+2/77/0f/M/7L/oP+b/4v/ef+D/5//t//M/8//uv+x/8r/4f/q/wUAMABIAEcAQwA9ACkAGgAeAB8AGwAmACYACgAHADIAUwBKAB0A9f8LAFEAbwBcAFAARwAwABsAAwDm/9H/yv/N/9L/0f/o/xYAHQD+//v////b/7r/xv/u/xUAOQBhAIIAfgBoAFcAMQAFAPz////e/4//kP+hAKcBNf9Z+LXydvXL/3QISwgvAfT5Y/gB/mQGOAtYCkMFbP+l/sQECAogBpT7yfTp9wEAnwObADX88fq7/cUBGgIl/3f/5gSWCeoIQASrAFYCmAbxBSwA7/0YAUoBsf3X/pUCLv9t+F33OvnT+az5Jfcj9rL8UwFl+9/1/vdZ/KYCdgiIBc/+Rf4nA58KHw7fBQn9gADKBcME/AMBAjb9Av5CAu4B4wBTAK37KvkG/rwClgMWAmT7TPVn/IoIkgWX9z70L/9RB/8BdvnO+/sDpgOW/CX7TgCtAjH/y/2JAiAEPv4U/FQBIAMA/yz96f+tAtkBIv8NAIkD+gE1/In7yQGUBbAAKPvr/tkFNgTJ/GD6m/+vBf8Ea/4b+mv8LwPrB4sCFfhB+T0E7wXM/dz6AP/ZAjwDjP8q/OD+BgPBAUz+ev2V/2YDawQyAFj9sP+qAb8BYQOTA0P/FfzF/mIE2Qe0BHr7JPdJ/1QIMQW8/Gv6b/0sAlgFIQFd+lH8rgG3AGAAqQP1/6X4A/xNBd8F5P4Z+zz9vv+x/8kAQANbAdv8B/2LAHYCawIyAGn9Tf6VAccDLQRIAMT6af17BZ0GzgFd/sj8//60AzYBwfnY+Yf+Uf4n/IX6r/c7+e//9gFH/yr/jP/J/9AEJAlCBmMDJwWOBo4GUgXUAGD+0QLrBk8DdPvh94f8IAKr/3j6avsU/rv8Gvs//IX+j/+D/az6l/uB/4UCOQLG/mD9vQBOAvX/LQBDAnwBmgCUAZwCRANuALz6JvxTBJ0GLAJI/lj71ftEAqQFxADV/Kf+igDFAAIC5AEL/uz7f//gAh8CFgHs/8v8r/zzABMDrwF7/5H8QfzfAMMDIQEd/hT9cP25ALED0gCr+9X6F/6iAg0FjgEX/Gb8NQAQAYkAbAFkATwA+wD5AoAC9P7p+yL9bgKCBiIEFv7s+z7+FQC8ANUBeALNAR8Ajv6R/rn+7/1//wgD7AI5/8L8uvxE/loAYwG6Ab4BGACG/rb//wAPAEMAJALgAPD97v9OAywADfws/6EDeAJM/8f9D/44AHUBMADQ/1AAFf/D/roA5QDi/on+gAB0AgkCMP/j/cMAMATOAyQA3fwr/aYAFQMLAqf/kP0Y/Oj9XQLVAbn7I/sjAqIEDf9p+wv+cABe/w8AswN1As/7sPrnAIsEZAL9/gP+CQEBBHEBX/0v/tsBqwMFAhj/8f5pAPr/s/+cAPz/Nf+A/8L+x/56AML/gv1Q/uEAogGm/5r8MPzM/icBtwIqA4EAKf1F/SQA8wJ8A2QBmP8UAHIBVgGB/rj8XgCPA6UAZv6X/7D+s/6FAqsC7f47/jn/KQBQAn4B1v2H/Zf+kf6PAQcEMQB0/N391P9YAJAAUgATAcgB//51/Ab/EQK0AFj+Pf8LApQCDwB+/sT/VwH+AesBsgDG/+D/Gf/a/nEB1AJ6/4f7sPvE/pgAu/82/2sAJgCO/kX/YgDp/pL+gAFfA0UCnQBp/8j+Mv/0/8EAvQGeAWUACgD+///+B/96AJAA0v/TAL8BKgB+/t7+Y/9y/+UACQL7/xf+1P8EAQb/N/7d/9MAGAEDAUP/o/0k/pD/TgGDAikB+/6U/rr+Y/9kAb8B6/+o/08AYP/1/vP/HQDy/6UAMgHeAG7/K/7h/40CrgFD/wT/rv8TAIIAWAAuADAAlv+TAOQCjgEW/jH+/f9GAK0AvQCS/z7//f62/Uj+MQDo/wf/6v96APn/AgBYAFAAYgB9AF0AGgCl/5P/fwAuAXkAbv/j/l7+h/4mAFgBiQCQ/97/BABo/5f/0QBDAVUA+v82AdEBYgCG/9UAkAFeAPD/+QCzAJX+hP3x/sYAogBQ/xz/av9f/n/9rP4EAAIAEgBoABgAKgDjAHEAOv9Y/0UArAA2AbQBqAD1/p/+Ov/P/80AoQG7AOH+gf7g/9EAgQCiAIkBBAFQ/3n/BAGLAL/+Nv+yAbUCDAEA/9L+4f8oAMH/UQBsAfgAa/9C/+v/8/7u/Zj/bQFcAL3+0f4T/yT/JgD0AEsAYv8W/7v+sP5GAGsCMwLR/2r+0P6r/6YAIAFgAPP/kABTAPT+SP4b/xgBpgKmATj/WP75/nH/uf8hAIQAKAHAAfQAwP56/Zn+QACBAE8A6gCyAaUBcADY/nL+e/+VADYBfwEJAdv/1P65/kP/a/+E/40A8QAj/7f9ev4u/3D/LgHPArIBPP/p/R7+MP9CAA8B0wGlAQYA2v4L/yz/Tf+aANsBVAHN/wr/qP+YAEoAXf/N/+4AnQBV/9z+V/8IAHoAiQBxACkAnf9z/+//YwCbALEAUACw/5H/IwDjAAABMgBz/4r/4f/a/8L/FgDAAO0ASQC2/3f//v7m/rr/JQCN/1L/BACXAFkAsv9V/17/eP/0/90AKAHKAOsAHQFuAPb/kQDeAPX/C/9B/wsAewCjALsAMQAL/2/+wv5r/xgAhABrADQAAACP/0j/cv+G/3f/ff9o/7H/rgAcAUoAhf9e/xD/yv5i/5AAXAE1AW4A3P+7/8z/PwDiANEAJgDp/0IAvgAIAcYAMgD9/+v/gP8d/xP/S//m/5cAqQAWAFP/3P4y//f/JQDQ/9H/MAB6AI0AWQASADcAcwDa/9H+uf6K/zYArwAVAasAkv8C/yX/TP9x/8H/NwDqAH0BQQE9ACz/zP5H/+T/NQCwACABxAD1/2H//v7v/mn/9/9JAGgAMwDf/8v/1v/s/yYASQBbALwAKQETAZMALwA+AIYAiwBaAD8AOABFAD8Atv8C/9f+/v4k/1D/Qv84/7X/+P92/zT/a/9J/0f/AQCOAHEAbgDGANYAbAAKAPD/xv+k/xQA4QBRATUBpQDg/3//mf+7/wMAjACsAC8Axv/J//H/EQAXANj/VP/2/kD/BABqAEEAQgBnAPX/Of8X/27/vv8GADcARwB7AL8AsQBoABUAtf92/5n///9rAL4AzwCTACUAff+1/mn+4v59/8D/BgCGAMMAUABL/23+iv5h/wAAZgAMAW8B+wBNAAAAt/89/zb/9//gAC4BxgBAADAASwDq/1P/Sf/G/0wAqQDKAKEALwCP/yz/WP+u/9z/HwBxAH0AWgAvAPD/u/+w/73/4/8nAHoAvwC1AFIA///h/8j/2P82AJYA0ADiAJsAJwD5//n/5f/1/0IAcwBUAA8AwP9x/0P/Tv+E/6L/hv92/6n/x/+M/2j/kv+h/47/0v8+ADEA0P/A//r/BADl/93/1f+u/5r/rP+5/6z/iv94/5//yP+p/5H/1P8MAPH/3//8//X/yv/S/wgANQBPAFEANgAyAFwAcQBQAC4AGgABAAoAOwBDAB0AGgA0AB8A5f/E/8r/1P/I/7H/tv/q/zAAVABIAEAATwA7AAIA+/8nADQALQBaAJoAkgBOACYANQBEADQAKQA4ADwALAA6AF4AQQDn/8n/BAA3AEIAQwAkAPn/GQBoAGoAKQAbAFIAiwDBAPwA+ACeAF8AhgDDANcA7gAYARMBuQBKABcADgDs/9P/EgBpAGgAPgBCADgA3P90/03/SP84/yf/Pf+M/8n/j/8P/9L+u/5H/p39Zf3C/TL+LP7I/Z39t/1u/b/8b/yb/LP8r/zp/En9bf1G/Sf9Qv1k/XH9nP3+/WX+kf6Q/s/+X/+9/8P/3v8dAFkArgAwAbgBEQISAv8BUgLXAhEDKANpA8kDIAROBFUEXgRXBDEEQgSlBPwEHQUzBVoFfgViBQUF2wT6BO4ExgTxBDkFIgW5BEUE9QPLA4UDDgOlAl8CMAIcAuEBSwG2AGIAFQDO/7H/iv9D/xX/9P6z/nz+dP5l/jD+D/4o/j3+F/7U/Yv9Lv23/Bf8L/sa+g75E/gQ99n1VfS/8mfxLvDZ7p7t2eyI7IXs1uxt7QTum+6t71vxLvMI9VH39Plw/M/+XQHvAzQGNQgRCrkLDw0VDvQOtQ8zEG8QgxBFEJEPug4FDjsNRwx/C+8KTQqmCS8JvAg4CNwHqweAB2kHYwdKBy4HNwdOB08HKwfoBqUGdQZEBv4FowU8BdgEkARcBBUEngMRA7UCmAJtAgkCkAEQAYgAKgD//7P/K/+S/uf9Iv1u/OP7bvsG+736g/r5+d74fvcx9rL0s/KI8JDup+yT6mLoROZX5KriZOGu4Gzgi+BX4fPiEuWd58fqee5p8oX2z/oW/x8D4QZ8CvEN8hBHEx0VmxaTF+4X0Bc5FxYWsBRqEyoSoRDjDj8NwAtMCuEIkAdsBoMF0ARkBFsEhgSkBNcEWQX8BYUGDQfAB4YIIAl6Cb8JCwpGClwKUQoYCpQJ0wj2BwkHDgYCBdgDmQJuAWQAUP8k/g79MvyU+zf7C/v2+gT7Y/sm/DD9UP5f/2kAjAGkAmYDuQOrAzQDPwLJAMz+L/zn+BD16PCW7A/oWeOt3mXa0tYh1GfSzNFv0knUPNcg27nf6OSm6tbwS/fT/TUEWgo3EJAVFxrCHa0g0CIQJGAkuyM0IvUfCx1wGWsVbxGDDXUJjAVUAs7/lf2e+zb6fvlI+WX56fn2+mb8FP4vAL8CSAWGB7sJ+AvRDQkP4Q+XEA0RBRGMEOsPHw/lDUYMkQrYCPQG4AS9ArYA1v4B/TX7qfl5+IP3x/Zy9or27PaO93T4lPnh+mD8Hv4VAB4CCgTcBaIHLgk8CrsKnAqVCYkHlwSZAE773/Ss7f7lTd4811DR5Mwpyj7JUspZzczRD9fO3NriEulm77b18/tSAhcJLBAkF5kdTiMJKIwrli3bLVEsYSl5JcUgfBv6FWEQtAoPBZj/XPp09Q/xX+2j6jLpPumd6v7sM/At9ML4mf1KAq4G0wqzDikSLhXCF7kZ9BqQG5QbyBoYGcoWKhRLESoO2gqIB2AEWwFi/nn7svgU9s/zGPLx8FDwTfD08Dby+PMG9h74KPot/CT+/f+wAUkD8gTWBuII2wqwDHIODhA1EXgRZhDMDbIJCQSn/J3zhOli30LWrM7IyA7FLcQ7xpbKYdDK1kfds+P66dTvEfXm+QD/LgWRDF8U3BvsIm8ptS7OMSEywC9QK40l+x4DGA8RoQo2BecAUf39+a72SPPh76DspulI5w7mNObO5xjrEvAc9oL89gJHCQ4P2RN5FwMaphuOHNUcixywG08ajhifFncU3RHLDnQL/AdmBKUArfyc+Mn0dvHR7gbtLuxb7KLt6e/S8vb1/vis++f9n//EAH8BJQIGA1QEGQYwCHMKzAwUDwQRVxLiEp8SjxGpD9wM4QhSAz38EfQR64DhL9gD0InJaMVDxArGIsrjz6vW/N1j5SXsyPGj9lT7SADsBWAMORMsGkghHiiFLWgwgjA9Lg8qMiQHHUQVrQ31Bp0Bk/1D+kT3ovRp8knw4+1M6xDpyefS5zrp6+vn7yz1cfspAsUIwg7fEyIYeRuqHZ8efx6GHe4b2Rk/FyUU0hCLDUwK8AZvA97/Sfys+AL1aPEk7ovr8emU6X/qpez870n0DPmz/cMB5QQDBzkIqQiJCEIIPQiyCK4JGwu7DCEO6w73Dk4O9wwQC+cI1AYaBcYDjAK8AJX9vvhj8sHqDeLK2PXP8sghxffE6sdhzfjUDd7F5wLxZPhZ/cQAzQPWBusJNA0YESgWYhymImonxinAKdcnLyRtHq8WHA4lBqD/ivpv9hvz5fAT8D3wjvCD8FrwzPAv8hX0B/Yl+Nv6ff7nAmgHbAs2Dz4TTBepGr4cbR0OHdQbehnUFTYRMAxuB3UDLwAv/Xv6cvgI9571uPOB8YTvJO6M7dftLO+98Zb1W/py/0AEVgiJC8YNyQ55DkwN4wuTCnsJpggSCMQHqAdfB38G5ATMAqQAxv5f/aX86fxO/okA0wICBA0Dnf/s+TbyzOiK3uLUe82sydzJc82Y053buOTT7Zv17Pqo/eP+4v9MAXQDmwYGC/AQEBgXH04kzCanJkQk3R+YGesR5gngAqz9OPoD+KX29fXm9TD2Sfbb9SL1wfQ69Z/2w/iN++7+xwLrBv4KjA5mEaYTXxWdFl4XXxdoFqcUSxJED54LnweeAwAAI/0e+9z5LvnT+IH4CfhV9032APXY82Xz8fOG9Sj4tPvO//4Dugd4CvcLPAxmC74JsQedBdsDugI/AjUCcQLCAtgCdwKPATcA0v7z/ef9sv5lAAEDMgZaCXgLQQsFCAcCyfnM7/bkWtow0RjLUcmXy6vQi9ed3z/oh/A69237bf2E/uH/+QG/BBMIRAzGETEYBR7HIQAjGyKcH5Ib1xXIDnoHMAGa/Gb56PYJ9TD0hvSn9dn2sveP+Ar6LPyL/soA2AL4BGoH6wkEDKUNLA/tEMsSUxQsFU4VwxRgE9IQAg1jCKEDOv+L+9b4L/ea9gL37vey+O34pPgN+ET3Wvaq9eH1Yvf8+U79CwHbBEwI+AqTDPYMKgx/CnoIegaRBOUCyAFVAUgBUgFQATIB3gA5AF3/o/5p/t/+FQD5AVYE4AbwCG4JaQejAn37p/Lv6B3fMdagz8nM981V0qzYAeCv5zjvsfXm+Zv7Ffzx/PP+EQL4BYkKDxCCFrAc0CDlIUsgBx3DGHgTGA1rBt4ASv1N+/b5t/i492P3tfcZ+Bz4AviY+HH6Wf2cAMYD1gbdCbMM6w4dEHgQpxACEWURtRHdEZgRphDaDv0LKgjYA3z/hft8+Lr2PvbX9hL4Rvn5+Rr6sPm4+Gb3SPYl9ob3Svrr/QYCWwZnCmsN2Q6SDuAMRApGB10E5wEoAFn/f/9OAD8B3QEIAs0BHgEIAAD/oP48/9UARwNQBnEJpQuSC2gILgJl+e/uDOS72fbQbcuPyhPOadT827bjIOvn8Qf3dPms+Yv5yfoN/tYCNgjyDXUUYBsFIY4jaSKlHuUZ5RRJD+YIsgI4/hn8a/up+i35lffV9v72O/fz9rH2r/eC+mz+IwIdBdgH5goPDo4Q7BGAEisTahSzFQ0WExUeE58QiA1tCUgEBP/P+iL4xvZd9qH2bPeJ+GH5SPkm+Ij2L/Wy9ET14Pak+bb9rQKGB00LoA2SDjkOoAwDCvoGOAQ/AjgB+gAuAX8BtwG9AV8BSQCF/rX8nvue+8r8Mv+5AuwGNAveDsMQgA+BCmICLPjx7Nzh79dA0E3M7sxU0dbX6t5q5fbqs+8d82n0K/Rg9Mz24vu2AuMJwBCHFwEeviIEJFohGxxcFkMReQxcB3gCOP8p/jL+ov25+yj5Mfda9gT2dvUQ9RL2O/n0/cwCzgY9CukN6BFcFY0XrRh2GUoa0hpiGm0YkxTnDggIbwBc+MLw+uqj5+Xm0+jD7IPxCPZR+dn6Sftk+yj78/oW/Hz/ywToCqsQRhUxGPMYSBeHE3EOzwiUA///mv6K/tD+sv9xAcgCSwJeAIf+rf3W/fX+ZwGbBQwLEBDTEv0RmAzoAu/2oupe3nnSTMnnxf/IENCO19DddeMq6dTtmu9l7o3sIO3c8TP6qQP4CzcTyhokIhwmECQNHT0V7Q+vDDAJ/QQSAgMC8AMxBYcD4v50+bT1H/Q+8/zxdPHx8w36dQEJB+sJ3QuxDhYSRhRTFD8TyxK1ExQVMBUZE5YPVQz9CZUH8ANU/2T7kPl3+T75t/ec9VT0L/RP9NPz8fL88h71E/l9/UYBUQQTB8sJ7wtrDOUKoghkB3UHwQeHBxIHEgexBw0I6AYZBLQAyv2v+zn6D/lR+P344PtbAAIFEwmbDMAPUhJME/8QyArgAd33qu0L5H7bZdQo0GbQkNRE2ojfZOO/5YrnZOlr6hbqK+pF7W30of59CZ4SixlEH6gj4CSgIbAatBKyDMcJVAh9BpsEMgRgBU4GqgS2/0j5TfT88TPxx/BG8RD0svkkAQQINAwQDrgPBBLTEyEUNBM9EowSLxRXFVAUXBHODVkK3wbYAgn+afm39nX2Qfeb9z73u/ak9vP21Pa/9a70L/W596b7BQAABFkHiwqiDYAPJw8QDYsKhgg3BzYGAwXYA3kD6wNNBOkDrQLtAE//fv6G/hP/YwD7AooGKAotDZcO3wx8Byj/ufRq6Q3fm9ZB0AzNFc6p0vzYNd9v4zLlQebv54HpgepJ7LLw0PgFBF4PsReiHL8fcyHbIEQd7xbHDwwLRgpSCzwLmwnRB7EGnwXhAi395PV08NDuGPCL8iv1NPgH/RwE9gpzDoYOow3HDWIPXBHyESgRThGpE5EWgRccFdgPHgo0BmUDd/92+rP25fXK92z6Zvsb+kX4g/eH9yf38PWX9OT0avhJ/pADtAa/COsK9QzfDbQMdgnxBUgElQRaBX4F9wSVBDoFaQZRBhkEGQFb/7f/ugFSBHwGLAhNCrQM8QyNCH7/q/Pa55XeJtjw0hHP7c6N0yXblOKR5sjlD+Nw4knkYeYx6J3rHPOY/y8OgRnOHtofVR8YHp0b7xZDEKcKywlkDVQRSxIeEFYMYwhpBBP/qvdB8CjsyuwH8Yb2JPt2/tAB1AUDCd0J2AizBzYISwsHEFcUEheXGIoZyxlqGFgUzw3aBrcB4P5G/f378/p/+tz6lPtN+/P4KfXG8SPwWPC+8cnznvbA+hQAdQVxCVQLfQvrCocKhgpiCr8JIAlHCScKBAsRC+MJvAdzBd4DSQN0AxgEHgVnBr8HyghuCDIFtP6v9WTr4eEf2wTXSNT+0izU3df23HLh4OLa4Evef94M4o3nwO2J9BD9BAhCE/IaPx1LG3IXABQSEtsQUA9JDmEPbhJpFRkWMBP4DFkFVv6U+Pfz1fDR70/xR/Xc+jgAzQNgBYgF5wRcBMMEJAYcCNAKdg6UEmwWLBnLGeMXXxRhEFwMoQiDBc8CWgCz/h3+yv3y/Gn7Avkl9kn0KfTR9Ib1rPaN+CP7Wv5PAdwCQAONAxUE5ARKBvUHPwlnCsoL3QwgDZkM+goWCAoFNQPKAnYDJwVmB1oJ2wrPC+oK6Qb7/6D2ruvG4Xzbfdhi19nXatmm2xjfzOKx4xDhrN0D3DPd3+EW6QHxffnIAhwLohCFEw4U/BGcDjoMzgtoDfQQAhV0F/QXNhe9FOAPbgmjApv8Avm4+I76XP0bAbwEYAbyBV8EwgHc/nD9uf3z/rgBgAbJCysQSxNPFMISBxBfDakKNgj9BtgGJQfzB8sIewjXBmIE6ACZ/O/42/YV9qv2wfhd+6T9rf8IAd8AnP8i/n/8GfsY+878v/+7AykIuAvNDaUOGg4KDFwJDAddBbAElgW9B0sKvQwRDsMMYghYAen3Y+1l5GbeFdsN2tLaY9yH3knhHeNT4p/f6dx421/cO+Bu5kDuT/cFAFgGDwrxC/0LcAqICD4HPAeCCewNnxI0FmoYcRh6FXEQ7wrNBQICdQCwAAoC7wT7CCUMRg3ADJYK+gaNA38BpABPAasDDQZIBzcI4QgnCHEGigQKApz///4GAL4BpARRCKkKFguzCpYJeAcPBbUCZgAz/8P/+gAzAhIEBwZzBiMF0AKo/138Ovpa+T/5aPob/VsAbANOBqYI9AlSCt8JrgijB+sHPQkyChcK0AihBTsAAvpc9E/vuOqd5p7iQd/93YreBt/s3trexN7V3uXfE+JF5RLq8u/M9Pv36Po6/kcBwgOoBc4GxwdRCcwKZwvEC1sMNwzdCh4JogfdBn8HAgnTCdcJMgq1Cm0KiQl3CE8HxAZFB+kHSghDCcEKkAtSC08KpQjrBtMFCgVGBEQEXAW1BpoHJAhoCEEIpAeFBgQF6gP9A+kEvwUnBkMGAAZCBQUERwJfAAT/Xf7s/Zf9zv2x/s7/jgB3AJP/eP6l/TH9Vv1n/kMAfQLHBPIG4giPCqQLWwtCCY8FngAO+yr2BvNt8XvwSO8F7e7pPecR5V/iW99J3ZTcNt1U35biw+YK7EjxdfSB9SL2Zfd0+WT82v9vA1MHPgvkDZwOHg7zDNYK8gddBTkEMgUQCGYLsQ3GDvcO3Q1pC7oIwQayBfoF0gd+CoMNqRBeEhYRxw0dCm8GWAPyAfYBtAJWBCkG3gb4BmgHLQdqBTADnwH7AJoBXgN8BbYH4gmtCl4JTQe0BSkEXQLTAKr/zP6u/lH/7v9BAHEAKgBN/4L+bv5C/+0A4AJcBIcFGQcOCVQK7Qm8B/QDhv42+PnyBPDH7gzunezJ6XLmx+Nf4aTeaNxb21fbjdw63zPjueh47wr1Rvca9972p/eA+VL8yP+6A0YIpAxvD4gQwxDzD1sNbAmLBRIDEQN7Ba4IPAv7DK8NrAxXCvIHLQZDBVoFIQZwB9EJGg3ND+QQihD4DocMYgp1CZ8JjgrvC9oMqwzRC64K+wjYBrcEgQJOAA3/P/9nAP4BcQPNA8sCNQGm/zX+R/0u/Yb99f2s/qH/gQBNAdcBfAFAABL/gf6d/rT/pwF1A5kElwW4BukHOwn+Cc8IWAUvAJX5pfLS7SHsM+xn7Hjriuit5LnhZd+j3Fna1tnw2mbdY+Gf5tPskPPk+Ov6t/oA+9386v+7A9YHywuiD9MSKhSgE08SVBAbDUAJOQYFBRoG0ggaC4sLkwqgCJcFbQKMAEcAbAHEA5MGSAn6CzUO6w7WDZ0LDAkgB8sGNgjFCocNaQ+4D58Osgw6CnMH3wTkAoYBxQDSAK4B/QIRBBsEuQJ1AEf+rPy++5D7B/zQ/KT9Tf6w/hr/w/9HAD8A6v/b/4oAGwIXBLkFnQbpBhEHkwelCOMJaAokCWIFN//B9xLxAu2f6zXr3+m+5nTikt7s2wfaqtiD2OvZiNwI4EPkO+n27mX0svfA+LH5XPzeAFwGoAvID/gSdBWLFsAV1BOkETsPhQzyCWwI3ggVCzQNTg0pC8cHDgSZAB7+Pv05/rsA0gODBpwIYwqICz8LagkLB50FGAZSCEML5A2bD/kPug5ADJcJrQegBvUFRQWJBPwD0APCA0ADEAJ1AMv+af2p/Kv8Rv0i/rD+iv7m/Vb9Iv1H/av9Iv6b/lb/kQBDAkgEZgb8B3YIKggCCIsI3Ql6CwEMJQrFBUz/pvcP8Zrt4+y27PbqqObE4JbbJdjP1XvU99R512bb8N915BvpUu428xL2FPeg+KX85gKxCUUP/RKWFa8XnRjBF+gVBRTxEWkP7wxWC1ELoAxjDc8LVQioBLEBrP/e/lX/0gAVA5gFowfdCPUIPQfOA2EAB/+oANUE4wm4DS0PUQ6bCxsIiQXNBD0F8gW+BsQH9QjTCWoJSAdXBMgB4v/K/gD/OABTAZIBywA8/7f95Px3/Pf7kPuk+1X8nv1G/+sAfAIoBMsFGAdLCOsJ9wsPDt0P5RBaEFYNNQd//oP1H++K7Izsc+zd6XXk7N3s1/3Sk8+nzqPQv9SY2TPeqeKs5/fsDvE68wb1yfgv/8IGcQ0mEkkVthdbGY4ZehgOF7kVPBRbEnwQoA8hEIsQ7A72CvQFdgGJ/m79wf0R/w0BNAPtBO8FNAarBVQEqAKWARICkASbCMgMmA9dEEsPHA3DCu4IzAdOB1kHnQesBzcHGgZaBCgCuf9S/Yb79vqc+778oP33/dX9cv3r/DT8cPsU+3H7dPzi/Yj/JQFoAgwDKwN+A/AEowejCtcMGw4nD44QFhKvEuwQyQtIA874dO+m6gDrK+2U7Pnm9d2A1THQaM3xy3fMEtAA1hDczOC85FXpqu4W8+X1QPnU/xQJgxFnFiIYMRliG9kdbR6vHB8axBdiFdMSuhDLD4EP8Q20CdsD/v6V/A78JPxl/FX9Uf/KAcMDpQSFBAcEGQRBBUUHQgkpCtEJcAkiCncLJAxmC38JbAcEBlsFQgWpBfkFCQWHAp7/s/0T/fr8jfz0+0D8wf1K/7j/B/+y/UT8U/tF+3/8LP9iAoIE1QQeBIUDpANtBLkF0AcSC/MOBBKBExMUtBRKFU0Unw+FBtn6SPB26jzqBOxu6jvjC9mC0MnLG8llxgrFT8jA0JvaR+Em5K7mg+uU8bD2I/tyAZYKtRNAGV8bXB0NIVck3CODH78aMhj4FsMUPBFTDkQNPAxdCKsBSvvi9zD3Rvdg94/4lfss/1MBeAG3AH4AaQF9A+QGXAuFD7IRdxEXEFUPjw+ZD80OBg4/DhkP5g4YDP4GbwHd/KD5tPf89ib3ufcj+BH4qvcX9y724vTj83D0M/dq+4r/ngLABG8GqQfHB7gGtwUbBuoHNAolDK8NYg9REXIS3xEpEMIOxQ4lEAcRVA70BfD4yeso5Ajk1eZf5RXdVNKHy3XK9MoBycrGIsqF1Fjg3uaP5zLoye039+L/xwUBC50RNhg3HPwdQiDxI2smuCSTH88aZRgyFqwR7guDCKwIIAmaBQn+j/bB8nnyTPMH9MH1jflN/q0BpwJXAqwCrAT5B4gLfQ7VEDETeBU8FhsUvA8BDGwLMw3oDXULQgcRBGQC7//z+jT1KvLj8iL1NvaO9Vv0mfMx8/ryjPNx9T/4P/t2/kwCWQY8CfIJKQnDCMsJgAucDOsMJw3dDbMO1A5ADhQOFQ+vEMUR3hF6ERgRSA/OCFn8mu2V47/isuct6XbhgdRYyzvKN8zgyQ/EwcM+ztLd2+dA6LLlcekx9ND+dgSLB98M9xTlG3MfAyLOJa0o4CaJIGgaKxjSFx4V5g8iDDMMzAwmCJ/9RPPW7gfwaPL08iPzCfY9+wX/Ev8H/Z/83v8rBbYJvAx7Dw4T0xbaGEsYLxZtE+wPugsNCCsH1QnUDOoLdQYN/0r4BfOb7n/rGOzl8Ef2T/h+9hbzdfBq79jvc/IO+Fj/WQWACLkJiAoiC9UK5QkYCnAMZg/IEF0Qpw/ID+UPNA4BCwUJLwqfDbYQ2xHhES4R4wzzATby7eSh4dznY+0K6dvcc9L5z8/Ric8WyKvEiswo23DlGeZS4+Hmu/Eg/OAA3QJ5B00PCBZUGVMcDSL9J/ko4CNsHWsathnsFpcR1A1GDssPVQx3Atr3k/Kg8mLzzPHe73Txifb/+r374vky+QP84gD6BMAHxgomDxQUcRfrFy4WmhMHEQEP7g3VDRsOnQ2DC9oH/gIV/Zb2EvGH7mrv2vFS897yffGP8Czwpe867z7wmfOl+LH9rQHDBA4HLwhSCF0INQn2Cq4Mnw1nDtIPTxE3EYMOYQpTB2MGowYTB8EHjAnQDFcQjxJnEigODQSB9azoZ+WR7VD4fflZ7qfffNeJ1m7UMcz8xFLJvdhm5xvrR+Ym5G7qdPPc92X4i/thBM4OuhUMGpwfvyVgJxMiORpaFk0XUxjMFmMV2hajGKUU4Ag9+2Xzq/JE9OfzZ/J286v3QfsR+xz47/X89mb6u/1fAKEDNQg3DeMQGBJOEYsPag2oCyALawydDyMTRhTqEfcM6AYjAUf8yPhX+FL7+/2P+znz5ent5sTrI/FC8OLq6ueF6+3y6/cH+YT64/7NAzwGCwbQBboHQwtJD+YTURjxGRMXTxGoDLML/QyJDYsMeAvuC6QNmg6GDs8PvhJcElUIzvTk4u7g8e+P/4X+mOxd2mnWy9v+2XTN2cT7zFbg/exj6RXgAuEH7EP08vO58m35twWRDWYOJhG6G6Um0SamHLQTIxQvGSIZdxNYEZoXMx7tGewKYPxg9yv6UfyM+fr1vvZc+qT74fgA9WrzafSa9db1A/fr+okAmAWjCHwJJAluCAEHNQU8Ba4Ilg45FKQW4RS5EDIMwgeUA88AHgG0BKQIKQm9BQABTP2V+kf3MfOG8ObwWPO69an2ZvbD9Vr03vHg7/DvJfLl9Rv6CP7iAekEZwWNA1EBiAAMAuoEdgevCSoMMQ6mDv4MvQmuBjQFHAXiBVgHJwmxCkUL1QpCCloKRQtvDBwMXQjkAHX4yPR2+dQBOATQ+1btsOLS4HLiXODs2+3ba+KK6TzqJuXx4dHk5ulg7FDte/Ea+oICmQZpCEIM7xGzFP0RFQ4eDwAVDRpyGgwYLBdYGEIXPBFTCWAE3gNEBTkFQgNBAQMAj/4d/Dr5Pffa9mX37vdg+G75sPuY/rQAMAFaAD//+/7K/2MBFwQPCBwMVA5sDRQKxgY4BQwFggWLBkAIJwrQChUJ6gU0A2sBzf/+/cX8NP3o/gAASv8y/bb6PfiF9b7yKPG+8dfzAfZt9yP4Qvhw93T1O/N08gn0dPdT+4/+8QCYAkADzALrAaMBlAK2BHEHEgpZDBsOxQ7qDdsLagmDB7EGxgZlB2YIaAnGCQ4JOwf/BI4DdwMxBL8EPARBAnH/Ev0T/F38h/y6+pz22/GN7n/t4+1Z7lPuKe7Y7bvswOoH6fbo5+rx7ffwnPMZ9nT4SPpy+7r8Dv9OAn0F1weBCT0LWg0TD44PDQ+RDqgO9g69DvcNZA1RDRQN8AsECiwIAgcqBvEEYANGAkgC9AIAA8cBEAAB/+T+Ev/W/mn+lv5r/xYACgCP/0D/I/+Q/mr9tPxG/cP+FgCkAP8A/gEnAzwDCAK7ALEAGQKrAzcEGgQ+BJgEQwSnAlcAqf4p/jL+Dv6n/U79EP1G/Ff6wfe39fn0ZPUt9sz2mffr+Ef66vqq+iz6Wfpq+938Wv7y/7IBQwMBBMADJQPPArQClgJnAmUC7QK5A+YDFQPEAZ0A5/9e/63+Kv5v/nP/lAAyAScB4gDRAOMA/ABJAQcCSwPGBOUFbgaiBq4GnwaMBosGwgZEB8gH4wd4B7EGwgWwBFQDwQFNACz/TP59/Yj8ffud+rv5d/jy9pf1rvRb9H/00PRA9c31LfYp9t/1gPU+9Uf1qfV29rz3Mvlb+gD7Yfvu+8D8gP3f/QD+Yv53/z0BNQO9BIEFlQVqBWoFqgUFBnIGDQfsB9oIbgl5CS4JvQghCGAHvAaEBs8GWwe+B9IHuQd+BwEHQwZ+BQQF+QQsBVMFZgV8BW8F6AS9AykCowCA/8r+ZP4z/hz+7f1s/Z78vfvs+j762/nh+U/6//qv+zr8tPwJ/RT99Pzn/A79aP3R/Sv+nP4y/57/if/v/iX+hf0V/Zr8HPz9+3P8CP33/B78LPvQ+gv7avuh+/v72Pz3/br+7v75/lv/FACvAPUAPQHVAZ0COwNsA0IDDwPoAqYCTQIQAhQCSwKAAoECUQIrAjQCRgImAtEBfQFrAbUBFwI9Ah8C9gHuAQ0CNAJQAoUC7wJbA4oDigOuAyoEsASlBNgDzwIoAusBpwEJATcAhf/+/lX+Xf1U/H37xvr8+Sv5mPhg+DX4uPcC93L2JPbw9bT1mvUE9gD3Dvi++CP5hvkR+rr6avst/Br9Hf4M/97/uAC0AaUCRQOXA9gDJQR0BMAEEgV/BQUGdAagBpwGlQabBqMGpAaXBn4GYAZGBikGBQblBcoFrwWVBYAFZQU+BQ4F2ASVBEsEGQQVBCoEQARFBCQE3QN8A/4CYQLLAVcB/QC0AIUAcQBjACkAnf/a/i/+xf17/Sb9wvxw/Ez8QfwL/JD7/Ppy+u75hPle+YT50vkQ+hf68/nQ+bj5pPmv+f/5h/oF+0H7VvuH++/7ZvzE/A39Y/3c/WP+0P4e/3L/5f9pANoAEgEaASQBTAF9AZcBiQFrAW4BngHPAeQB+QE3ApsC2wKyAjsC3gHaAR8CcwK1Au8CJAMnA90CcQIXAtoBrgGUAZMBtwHxAQgC3wGWAUUB7gCgAHwAmwD+AHABvgHvAR8CRQJDAgYCpwFwAZ8BFwKUAvICLwNOAz0D7wKKAk4CSAJTAkQC/gF9AdQADgAv/0D+Tf11/Nr7c/sJ+436EPqZ+SH5l/j393z3bPe09xD4cvjx+Jn5R/q3+sz6w/rt+mX7Ffzh/LL9cP7w/hv/Dv8A/wz/H/8i/yr/a//y/4gA7QAVATYBfAHaAS0CagK1AkQDIAQNBdAFVgakBsIGvQayBscGDgdyB+QHWAimCKEIRwi3ByIHpwY8Bs0FdQVfBW4FTQXRBBoETwN6ApkBwwAoANn/nv81/6D+D/6a/S79qPwI/ID7NvsV+wX7DPsq+1T7g/us+7r7tfux+7v74vs0/KP8C/1T/YD9n/2t/Z79ef1c/WL9jf3O/Qv+NP5L/k7+Lv7i/Yn9YP1+/b/99P0K/gf+C/4s/lf+e/6o/uj+Kf9d/5L/4/9cAOIAQQFgAVkBVgFqAYgBngG0AeMBKAJYAlcCMQIDAukB4QHNAasBoQHBAeUB6QHLAaoBqQG6AaUBYAElARoBMwFQAVgBQwEvAS8BMwEqASEBKwFBAVgBawF9AY0BiwFsAT8BGgEHAQYBBQHyANAArACAADkA0v9k/yv/Qf9+/6T/nf+I/4X/hf9m/zD/F/89/4z/xf/D/5z/gP97/2b/J//W/pH+Sv7s/Yf9Q/01/TD96/xU/LH7UPs++1D7VftI+0/7gPu7+8r7svu3+/r7Vvyp/Pv8ZP3k/V/+sP7n/j3/y/9jAMsAAAEyAYYB7wFHAn4CsgL7AkQDYQNVA08DdgO5A+sD+AP6AxEENgRDBCQE/gMJBEcEfwSOBIkEkASiBKUEhgRZBDwENAQjBPQDvwOhA5UDcQMjA8MCewJRAh0CygFpARYBzgCBACQAwv96/1H/If/M/l3+7/2N/TP94fyW/FX8KPwT/Ar8+Pvh+9P71fvi++X7zvu5+9P7FPxK/Gj8jfzO/Bn9Tf1d/V/9fv3A/QT+MP5N/nP+nv64/rn+tf7B/uH++v7x/tH+zf72/ib/P/9Q/3T/qP/M/8n/wf/w/10AxwD0APwAHAFkAakByQHWAfcBNgJuAngCYgJlApICuQKuAn8CVgJFAjQCBQK9AYsBjgGiAYkBNwHWAI4AYQA5AAcA4v/h//T/9//o/+P/8/8NACAAIgAkADUARwBJAEMARwBfAHgAdABKABUA7f/K/6D/bv9C/yz/Jv8O/87+fv5L/kL+TP5P/k3+Uv5o/of+k/6I/oX+of7V/gz/M/9G/1r/dv+A/2v/R/8t/zb/Y/+N/53/pv+w/6X/gv9X/zX/NP9Z/4T/pP/E/+j/BQAUAAwA+/8AACkAXACCAJkAswDoAC4BWAFcAV4BcAGFAZkBsAHRAQoCUQKAAooCggKCApECpwK2Ar4CygLVAtQCzALLAtECygKpAoECaAJlAnACeQJ5AnoChAKDAmQCNwIcAiACMAItAhAC6QG9AXsBEQGEAPX/gf8f/6L+9/0//Zz8Bvxi+7L6E/qd+UD50vhR+On3u/e196/3n/en9+j3Tfix+Bb5kvkr+sT6NPuE+/P7pfx3/Tj+0f5O/9T/awDmACgBWQGwATcCwwIjA04DawOaA9gDDQQpBD0EYASBBH4EaARtBJEEuATIBL4EsgS+BNoE5wTZBMYExwTTBNMEwQSqBJsEkQR2BDkE6AOYA0wD/wK0AnECMwLyAZwBLAGvADcAx/9g/wD/rP5k/h/+2/2g/W/9O/30/J38Ufwv/DP8Ovws/Bf8Fvwr/DT8G/zy++T7+/sZ/CL8Ivw3/Gf8mPyy/Lz8zvzt/Ar9IP1B/X/91f0u/nX+qf7W/gL/IP8y/1X/l//p/zsAigDRAA8BPwFbAWYBcgGKAagBxAHeAQACKgJJAk0CPAInAhoCEAIBAvQB+QESAiUCGQLvAb8BmgGCAW0BVAE8AS8BJwERAewAxACeAHcAUQAuABgAFgAVAAUA9f/2//z/+v/z/+7/7v/3/wQADwAXABwAFgD5/8z/qP+Y/4n/av9E/yf/Ff8G//P+4f7X/tj+4P7k/uP+5v76/ij/Zv+b/7v/0//1/yEATwByAIcAoADKAPMAAQH3AO4A7wDxAOUA0gDJAMkAwgCqAIUAXQBBAC0ADgDp/8z/sv+V/3n/X/9M/0v/Uv9M/z3/M/84/0r/YP9u/4L/rP/f/wEAFgApAEcAbACIAJMAoQDCAOYA8gDnAOAA5QDlANMArgCCAGYAYwBhAEoAJgAIAPP/1/+m/2//Tv9J/0v/Rv89/z3/TP9c/1v/TP9C/0v/Y/96/4j/lf+t/8r/2v/W/8r/x//J/8b/u/+x/7T/vv+7/67/q/+2/8D/v/+6/7P/sP+1/8L/yv/K/8//5/8AAAcABAASACwAQgBOAE8ARgA+AD0AQgBNAFwAagByAG8AYQBNADkAMQA3AD4AQABGAFIAWwBaAEoAMQAhABgAGQAtAD8ANgAyAE4AYQBOADYAMwA/AFAAXQBqAH0AhgB+AIUAoACbAG4ATgBOAFQAUQBEACsAFgAHAOX/uv+k/4z/af9l/3X/Zv88/zH/U/9z/2j/Vv9v/5D/jf+h//L/NgA6ADEARQBAABUA///8/wAANABxAGMAUABoAFQALwBAADsA9/+b/2H/hP9A/z7+IP/wAcD/tfYb8nP5nAIUAa34nPae/doC9f/e/KEA9QUIB/MFeAUJBgcI3glJCcoGgwQNBXYI1AilAzMB5QXpCLgDhPxJ/PwCUQZe/9r3avspAtz+6fbn9k/8Ffwb9mz0ZvlH++n1NfPr+H/9nflx9Zf57f84/6P7Av5mA+EDGgGCAScFLQcfBWICmQNABtYE6wFsArADgALeAMn/mv5E/pP+cf6U/s7+Af5Q/eH90/5u/2n/Bf+u/yABMwFfAPMAcQKWAkIBwwBOAlsD6wEhAWEDzASXAokAvAF+A8ACGQGiATIDOQIGAMsAzAKMATv/KAD6AdMA5v7I/8QBLQES/2D/IgEWAMP94f5XAUEAiP2R/VP/R/9z/QH93P5z/0D9dPyA/gT/V/1l/db+n/6q/Qf+0v65/lT+uf6F/z7/Jv4M/rn+sP6v/pj/n/8N/pX9OP8QAOL+Tf6d/4sAoP9T/nb+AAAaAT8A7v5r/00AcP/Q/mEAtgH8ABEAWQAaAZ4BoAGlAY4CTAOTAgYC0wITA2QC2QIABIoD4QFWAZMC4gN5AzECHALBAqwCgwLjAhADCQMAA3wCEwJgAlgCyQHaAQUCLQFyABAB/QH0AaIBkQKGBBwFgQPyApMF0Qd2BgQFnwdNC2IKjQRD/ur6/fn1+Jz2avMQ8DDt0uqo50XjFeBa4Ifi9uLh4PffneP86X7u+O828Vn0Qfgx+zb+nwPACmkQUhP+FOYWBhnSGkgcpR2UHnUeSh3DG7IaQRpUGY0W/RH5DLoIrQV1A24BZv9a/ej6ufcl9DTxEPBo8D7w0e717fnu4PCD8szz8vRe9lT4Zvpx/Cz/5QLaBrgJowpqCtMKYwxCDr0PqBAkEVoRARH8D9EOmQ3wCwIKHghJBvAEawRGBAAEWAP0Af//if6V/gwAAQKsA+EEpwUhBkcGBwWrAJj4uO6w523nVess6+XiYNgH1MHVPtUUzgjHHMm40qHZ2dgu19fduety9s/3SfVZ+CADVw8EF1cbVyG7KeUvjDDlLZksfS7uMFwwjSw8KFUlRSNhIJIbsBQ8DIsDjfwo+Bf1l/HY7YTrquqs6OXjBd8b3hzhGuSo5NvkEegs7tTz8/ay+Dj7YP+PBMMJig4LE4wXyBtmHgMerhuoGnEcuR5gHlwbaRgPF5gV0xE3DAsHaANRALL8PvmQ97b36vep9nD0LfMt9Oj2Cvrd/Jb/HwPlB18MdA7ODZkKmgN++ETteOjd683vmuot3WDSo9Aa0pbNB8QpwJPHA9LV1BbSbdXq46H0lPvB+Gr3nv8CDhoauSAeJjEuKzbUOBM20zLHMmA0cTPHLtQoySPuH4wccxhLEjAJ1v2K83/t+urT6LrlCONi4tXiMuFF3Xrby96O5EHoM+lQ6/7xUPupAncGgggFCwgP2hMuGNwbWh97IlUkcCNYH6MavRhkGQkZRBV+DzQLeQl1B7oCxvw1+Dv1evKj7y3udu958p/01/SO9Bv2j/pGAHUE1wYTCgoQRxdhHBQdGBkRENsBxfIU66/txPFo69jaK80jy0PN8caCuYazQLybyKzKw8XMydfcV/Ly+jv3m/XA/6MQ3R3fJIgrDDaEQDBEqkAuPHk7rzzFOuszJysmJIMfkxvIFhMQXgai+aHsnOMQ4Aff99xG2hnaztw43m3bD9h62k3jOuwc8J3xhPeLA7kPjBU8FTEUXhZQG0QgFyPqI38kciWCJNoevhUBD0UOeA8NDOYDHP29+778dPpL9Jzu8es46zXrG+yo7tDyFPcm+u37jfxs/YQBbgnNEQgXshgWGqMe5iSVKB8oDSMRFw8EHvDK5Brm6eqw5PrRe8COusi6JLXrqJCj162EvSrDD8AWxDDY+/Hj/wz/E/40CYwcoixzNcM8kEezUXtTvUwNRShCEkLPPvQ1ryqpIDoYShB/CIMA6PZM6lPc49EzzifPONCZz3DPLdKF1lDZMNtx4LbqXPbQ/vIDDwoVFFsf/SZ/KUspcynqKgUsEyuzKGAm1iMBH0oWTwtoAvT9l/ug95nxcexu6hDqkOgy5lDlc+Yo6MLpv+zM8s36qQHhBWoIngr+DNwPWhQYGwciCSagJh4m/yYhKawplSZsHxQS/PyU5XbW0dTm2NDT6cAarTWmC6nRp2Oe+pjUo4S4QMXwxdDJ/t3R+/sQ8RXwFfweCzHoQYpL8lAMV9pcHF1PVppMM0RjPao1+yrBHa8PFAJ89iruwefl36nUGciyvyy/msMdx63Iscx21qXi7Ono6vjt2PrcDccbCh+qHjQlJTKwOvw43DKSMHYy3DHJKishLhoQFd8NDgOA9u/rHuaO5C7k9eHZ3YrbrN3A4RbkQOXD6DrwP/lrAOkFTAy4E8gZ3hxJHdscrx1+IJIkJyj1KLMmzyM1IichOR7MF6wOMgN48qjb/cWnuz++Q8LrubWmDJnImgmjVKTNn/6jULjt0G7eQuMF70sI7SP6Ms40OjbiP3JNxVYHWtdaf1uCWbNRVEX+NxMr/B1UEHgCJPWW6P/cEdRyz1vNo8l2wvq6SblNwATMftYU36PpMPh8ByMSnhcTHggq3zZMO+Q0LS3TL8o65T6hM0oimRi6FhIRLwIe83PtGu0H6H3dfdUG1RzZt9zN3oPgRuIC5qXui/rxA6UI1AywFModUiJJIqYjgCjcK2QpACPKHU8c8xwVHYgb9xf1EuEOWA06DMwHuP538YzfZMmZtYaucrWbvOu1faXjnMujLa5vrliqs7P7zRXow/NX+OcGLSLXOo5Dd0D3PuhEj02JUoNSRFCGTTJIkT0vLh4dLA08/2XyPeb02yfULM5DyozJRcsNzCfJSMXsx8/UqOaX9RgA0wrEGE0m3y3lLx8yuzfAPXU/BzztNjczGTB2Kk8gjhJ7BAr5OPDJ52vepdUI0IDNaMsTyXjJ1c5K15LfXefY8GP8WAcLEA8YzyCNKOYshi4VMDgynzJSLxApmCGAGdgQWAgGAcH7JPmo+EP4Hvbi8pTxLfRY+Jz5R/fx9Ezzf+wp3HnJBcM2zXnZ/NWPxEW5fsDizrDRO8nJyL/bh/VtAlYBTwOIEwMpXDOEL5spSywDNSw6BDgRM9IvwSzFJX8ajg6UBJr7EPJp6Wvk6eKf4dHeJd3i3yblceeT5cjlwO7Z/vcMKhOEFeQbUydnMIswciuFKhUuJyuRG6UJZAWyDmMSkAMN7mTkC+Ze5E3a79Kk1znhweMb4Tbj0+uN9eX97gX9DLEQCBMVGlQlgCuXKEMkYiX3Jy4kXxpcEp4P7AyiBST83vTf8ErvOfDD8+D3a/p7/HYA2gXSCQ8LfgsJDTQMiAGe69jUUsvW0Qva9tKFvm6wtLSHwMXB9rcetprJveai9+T4kPuEDH4kxTIrMuYtpTEVPFxEdkV4QAI5oDEUKhYhAxauCMz6t+9P6JXiV92T2PbUWNRs1yHcv99k4Sfkke2m/YcMExRCF2wdwCjkMvs08TCnLfcsWCstJsseJhiIEpgLhQJJ+E3tyOJ128DYQNnM2SXY2tWE1lbb+eK/61D0pPzKBZIPfhiJH3Qk9ycuK4wtWy0NKoMkix6qGdMUfQ19A4T5ZvJr7hPrBOe45M7mquz/87P68P+QBJoJbQ/IFZ4a4BscGm8U+AXS7dTVg8uq0OjV4ct6uICvCbf7vwS8JLJptnnODulj9fT37QAqFiot/Th8OdU4+DxpQoFDyz5uN2ox3CyQJsQcDBA/AYDxyOK117TSGtOk1AbV79Yr3aflG+v466fubfoeDK0YnBsJHf4mRzedQM47CzGHK+cqoyZIG94OuAeQA1b8mPEv56TeW9dY0r7Rv9Tg1g/WmdYA3Y3n0fGx+iAE6Q7PGMgf/STkKTst1y3gLGkriijaIgUbnBNVDdkFSPx/8xzuIOvX5/bjfOKt5fjrzvIr+vwCEAzoEk4XxBtgIY8lMSW4HoIQiflr3pLKd8any3rJrbkNqWKmLq84tGOvhK2evajbNPXFACoHYxX1KzI/Ckb+Q41CU0VGSEBGST7FM08q+SFYGL8LM/wB65/aJc5DyCTJLM1m0EvTVNkw4+fsoPJx9hP/Jw/KIEQswTARNLU6CUK1Q3o9uDKRJ5sdWhTIClEAGPVb6iviz9yg19zQJMuvyufPpNYr24TeceSb7qf7LgnQFCQd1CLwJ3stojGMMbYtBSovKFQleh6GFKoKbgKa+iPyYuoR5TfiC+E44fvik+ar6yXyyvp/BRwQPRhuHa0hLieILLstDClZHowLAfCz0hLA9L1Swse8u6sqn5Wika1/sC2rja5PxljoWQFvDIwVBifQPE5L2k2iSk1JREqySIBB9TWZKdMe9xSmCb776eug2z3Ny8ONwTPG+M1v1J/ZluGj7aH5XAGmBvgPFCDSMLw5aDr6OUU9+kBdPqszsyVUGb8OFwRB+WXv5OY/34HYgNOD0PzOS88N06razOOd6+Dx1Pg5AmANCRhPIKElryi6KmUsyiwsKl0knR0VGHYTvg3XBfX8NfVU77LqDOe35MfjFuSL5TzoaexP8mb6EgXmEIYa/x/+IocmCStkLcEq3SNcGTUHNOqFyQO007Dttd6yFaUXm5CggK7RtdS0Crrd0DLyFw0IG4sk9zLrRPtRNFVlUfhLg0YTP180PCeoGYEN7wKI+DjtrODa0lLFI7ycu5vEstJP3zXoLfHC/aYLvhVtG+MhFy3FOeRAL0A2POM5kDjNM0Up3hrYC+T9gvFS56rfwtnF1GPRANFn08PWHNrf3uTmTPHl+uIB0Qc1D38YtCFdKG4raitmKWYmyCL5HY8XihCTCg0GfgE8+6Tz3Ow86HflOOTU5FDnxupR7lTyAfjI/wwJ8BJFHIMj3icuKswrOSwSKf4gshTVA/vrJc5Ys3ym2acQq6+loZwDna+ptrdKvjfDL9Ot8MYPPSTULrw4BEbvUWxWuVLWSkRCyzjFLHYe7w9HAyr5G/Ak5mLbXdHNyGPC58CvxxrWU+aR8jb7RQWxEjUfNyYqKXwtGzXGO5E85TcgMoUtCSjrHk4SogT69xvtZuQu3iXac9cO1iHXXduF4U/nv+tT8D33XgD4CMcOiRL7Fnkd7iPfJnUl7iF1HhgbmBZhENEJ8ATlAez+fPqn9OXuAOt16XrpgOp/7DXvZfJn9vj7wANuDR8X8R7CJEUpUSzNLD0p0iBDFPkDd+75016696kFpsmoiqgBo6Wgxahit3/DZMu91vfsngrxI58yHzvGQ+xMG1JtTxRGyzrQL/8j5RZ7Cfj8yfIe6xzkgdys1FrNOsgDyFLOptol6i74YQJcC00W+iFfKpstPi6BMMk0xTZfM7EsiCaiIYcbvBGdBDb3TOy35ErgQ9403aLc9d1d4s/ox+6T8lr1FPpvAXMIRgyUDakP0hR3G3Qfzx5lG9kX5xSvEWENrgg7BYsDcQJqAKT8lff38jXwL+8N72DvMPDb8fr0F/pRAe8JXhJ3GX4fyCRjKOYomyWBHtETGQUf8XLYwr/XraSmvqfxqa6odafdrIW5vcdM07XeCPCKCEwhUTIAO2RAzkXhSf1IY0EtNcQnohrjDcsBxPae7T7nJOOw38XbPNck0xrS1tbI4RjwVf1cBwEQoBlmI1kq7SypLGosHS3/LEQqLiVjHz8aoxXsD4UHq/yY8QXpO+Rw4gvid+Ja5Fjo7O2O89T3avpH/Nr+aQKYBTMHQghgC6URlxgQHIAaUxbFEokQIg6GCrAGjQR0BGoESQLr/df4nfTl8XXwx+/d7z7xI/SK+N7+LgcrEO8XQx1LII8iriQrJAAeehILBOPz9OAyymKzhKVMpSasVrCQsGOz071EzQ/bheUK8rkE6hmGKtQzkzj8O0M+aT2kNzEtYCB6E1kHVfwb84LsKuld6Ojnc+at5MvjuOQO6NLtx/Uf/9kHrg7PFHQbcSHGJPIkaSMxInohmh8eHJcY9RV1Ew4QXwuLBc3+f/fk8LDsFOuN6hzqU+o77AnwovRQ+Fz6kvsX/Tz/iQGvA1wG0wpEEasXGBtsGkMXzhOqEDINKQk+BS4C8P/7/en7ePmO9rPz1fFR8aXxN/Iv85T1PPrUAFoI8g/lFoAcYiB1IrgixyBuG6cRMQS39Gvjt8/Yu9ut3Kr/sCG4nLrmu3vDcNIq4h7tSPXKAKQRSyLgK/8tli3iLcUtOSqcIbEVDwquAJj5hfQX8TXvbO9J8fPygvOV8/XzV/VW+Mj8+QEgB2gL6Q7lEpwXXBuzHB4cNBv7Gvga9BndF/AVsxQ1E2YQ/ws3Bpn/9Pg18+ju4uu+6d/oJuqv7WPy3/Z7+jH95P58/8L/JQF7BJcJpg9RFQUZthmRF+oT2w8lC2cF5f9//EP7X/qt+BX3zfYx99P2wfVT9Tr2APhJ+sT9CwM+CSoPABUZGykgXSKxIcYf5xwoFgUJxfex5mHWFsW8tJarf63itdS7QL0/wWbN590Q6+nyuvq1B9EXBiTAKMIoIygHKLImniFFGGUNgQTB/u36cfc/9BTzw/QH90n3J/bj9RT3pfjd+X770P56A70HQwtzD4IUwhj+GsgbmRwGHvkeRh5dHB8aYBeyEzcPDgoBBAT9uvV97y3ra+jM5gznHuq17xn2TvuO/nAAwgENA9wEXAdGCoYNIhFpFBMWFxWOEccMBwiDAyr/dvv0+MP3tvdv+Hn5VfqF+gj6qvky+mv7ovzi/QMAjwNHCKUNRxO1GOQclR7NHaAbkBdMD0wCgvP35eLYQMlpuA+u068WuR3ARMJkxoXSU+OR8LD3Jv50Cd8XwCK3JmYmYyVeJFciJh4iF1UO/QV5/7j6F/dF9PbynvO99LX0W/Qy9Z/2HPcG96r4hP3nA8wI9QsBEDQWmBy4IFUiBiPOI/UjYiICH3EaPBXXD4oKDwWX/tX2Gu9z6Y3mbuVF5W7myOl471n2rvxyAcIEVgfOCf4LLg1gDbYNFA/QECsROQ/aC2kIFgVwAcr98fo6+WT4Dvgh+M345Pm/+hf7QfuY+1b8nP0Y/48AnwL0BWwKig+uFPgY4htGHa0cjxlWE0oJJ/xf7sPgqtE9wf6zd6+ItFy9SMMxx4LP9N0J7Z33Uv6hBTwQcxtiIggkEyOKId8fmh0YGWARIggRAI76U/fy9JPyVfEZ8nbzAfR09OL1APga+l78xf+vBMgJjQ3iEOoViBxLIm4lQyYjJqUl3yPFH78ZFBOMDHQGzAAW++n0yO7o6VHn5OZi5yLoIOqe7lv1rfzWAkcHpwqYDbIPPBBWDyMOxA0YDsMNwQuGCDoFZALQ/zv9zPrT+GL3aPYB9k/2Gvch+IL5Z/uJ/XL/1ACxAXcCxAPfBakI/wvWDxQUMxgLG5Ub9xnYFpQRlQjY+4rtcd8z0YnCQrZQsZC1ZL58xbfKZtOi4eXwwPvqAckHpBA4GrcfACD/HWQcrht7Gn8WHQ+jBsP/JPur9+Pz9O8S7mzvMPJZ9EL2Cfl0/Er/CAHfAjoGpwrIDssS/xc8HoIjLiaFJsolViRLIRccWRUsDlcHQgER/JH3YfNm7zfsmup96gfr7OsH7lzyvvir/3YFogmzDAMPOxDfDwgOqAvpCQkJHQhGBrcDYAHg/9L+T/0P+7v4JfeF9oL2zfaq94/5NPyg/kIAbgGhArkDSQSMBH0FpAdXCtcMfw/nEmcWexhfGJIWRhP2DEcCBPU96ADcLM6sv+e1xLWRvQHGKctG0WHdMu01+nsB2AW1C54TsRkcG2EZNhfJFRgVtxNxD04I/gC5+134N/Ul8bXtwe0/8TD19/ev+lX+OgIyBR4HMAlEDJEPUBJ6FRYaGB+JIq0jOSMRIg8gKBwZFgQPKggpAkP9Ufm89R/y1u7C7HPsYO2W7hzwBvPx9wn+pQPSB+0KmQ2RDwoQyg6DDEAKZgiUBoEEbgKZAOz+Nv2A+/P5mvhV9z321vWF9iT4MvpE/DX+CQDYAYkDtAQJBcYEgQSfBCEFygW9Bt8IqwwWEY8UaxbNFsYVaBIoC3EANvXf6lHfItFqw7S7yLx5w8XJUc6m1UDiOvCM+jcA4QO6COgONROtE/0RVhCnD/sPcA9wC7wE3v6j+9v5dvfm83XxAfO49+77Mf49AG4DHQfwCU0LAwxyDasP1REtFE4XTxrpG0ocPhzwG9Ya+RcVE2gNOQhiA23+uPnM9dLyzfCu74XvqfAi82z2H/o5/oMCXAYrCeMK5QtwDDoM5grdCB0HHAZCBcwDygHX/yr+TvzP+QD31fT28zX0AvUw9hX4+/qf/hECRwQZBV4FrwWlBaYE/wLPAfYBFgM1BEgFPgeYCo4OohH+EggTThI6ELALogQ1/APz5+cB2vfLDcPjwZXFQMkBzLPR+ty96oP1i/uc/9wEEwslDzIP+gyDC+YL8AyDDGkJ5gSsAdAA2wC1//v8v/pl+2j+wgAIAeIASQIcBb0HFQmyCdgKqwxnDvsP6BH7E5QVtBbHF9MYMBnjF6sUahAJDJcH+QJz/lD61fZv9I/zVvQy9ir49fk6/Db/FgL8A/MEwAXKBmMHsAYTBcMDVwNsAzYDUgIeAfj/c/4b/FL56/ai9bL1k/ay90T5pvuM/jcBBgPnA20E6gTiBAcE5gIvAgIC+gG0AVsBoQElAy0GewoeDwkTzBU6F7MWJxPtC/MBHPe164feWtAoxYzAKMIjxrbJns7t13/kAPAo+PP9QQOpCMIMGw6FDbsMSQw/DE4MMAuWCGwGPgY2ByQHpgT3APL+HP8E/2z9Fvzb/FD/kgG2AvMDnAboCWkMVA6JEPMS5RQnFjIXeRhuGf4YBBclFLgQ3AzeCNoEpgBA/BL4DvUG9Jv0svX29un4wvvq/oEBIgMTBJsElgTjA6ICLgEoAAgAgwDXAJEA2/9B//T+V/75/Gv7gPo2+gb62/ld+hv8qv4JAcYCAAS0BJcEigPaAQMARP66/OL7QPyt/eP/aQPnCKoPzBXQGawbARxlGkQVNQwyAQb23elw267MNcLnvufA+sPZxk3MWdbS4j3uYPfC/ucEuQmhDJsNxw3xDdINZg3nDP8L9Ar3CvYLEQytCTQF+wD4/jb+QfwW+WH3xPjl+3f+LQC8AvUGegupDnAQ2xG4E+MVuBcMGRkazRrWGvIZ2xegFOQQ+QxYCIsCEvxC9orySfGB8UfyzPNp9p75p/w8/3UBTANCBMwDPQKwAN//yv9DAAgBnQHPAd8B9wG8AYsASv7P+yf6dvku+RX5k/kT+3f9IABUApYD3gN9A60CXAGC/3j92fsp+6H7T/2AAJQFBAxaEpgXyBvFHm4fPRyMFMMJYv4A8wjmStetycfAGr4hwM7DIMj8zlHZE+X17zL5fwDKBXAJuQslDZIOxw+oD2cORg23DLsMTg1EDQ4L/Qb7AoMAcv/4/a36C/cL9jP4Hfvb/DX+MwE4BksLkg5cEEwSQxWZGBsbZxzpHAAdlRw4G3EYcxQkEPALMgdCAaD66PSf8brw1PAZ8Sfyw/Rw+NX7If69/24B/gJuA3YC+QAJABcAzABTAScBuADgAMIBfwLtAcX/Kf2S+xr7rfrK+UD5KPqP/DT/6wDiAcoCbgMDA1AB4v6I/Nr6Efpd+hP8Vf/XAyAJvQ5NFHcZjx1rH9oddhgVEGEGcfyo8c/kgNbBydrBv7+Kwb3E/Mi0z3bZIOX/8GL78QKUB3AK8Ay8D/YR5hFRDz8MwQoWCxEMXwxYC0QJ3gbDBDIDlwGy/lb6dPY/9Zn2afh2+RT7Vv/7BYAMJRGHFPUXZxvNHaQegx4bHkMdZxt3GBYV5BG9DtwKuQW9/wP6ffVO8vnvLe5m7Y7uufG19UD5OPw3/0UCZgSaBD0D5gGzAVgC4ALUAo4CuAJhA84DPwObAXX/e/3P+xj6Y/hp98T3Ovn2+l/8sf1D/5kA6AAeAN3+xv0K/Wn89/uV/P/+xALCBlwK7w0YEpAWIRqkG74apReUEq8LegOi+t/wRuVB2FHMY8SswcvCW8XcyOnObths5ALxHfwfBAsJVgyID+4SDxX+EyAQVAzWCkoL1wsyC3cJkwcMBqsE+QJ2ALz8RvjC9JbzZvTd9aL31vqKAPkH6g4qFHwYghyDH8QgmyDQH7UexxxxGVQVrhGVDgoLcQYRAbb7KPec88/wsO5t7UftpO698Qv2jvqD/rwBWwQ0Bt0GXgZ1BdsEkwQvBIMD4gKmAqgCUQIyAXX/mv3l+zn6gvj19vj13/Wv9h/4t/n8+tP7ofzK/Sj/PADZAGcBdQICBHAFTwbcBqUH2ggcCiQLVww/DsYQMROSFEEUDhLZDYMHTf9o9a7pntwP0EnG8sA2wLTCQ8czzvbXEeSL8a7+7wjrDtkRDhSAFr8XdxWvD7AJnwZcBpgGxQUqBPYCpAJ9Ar4BVQAh/gj7C/iZ9gj3p/jm+hb+FAO/CXEQ6BVVGvodTiDoIBggZR7iGzIYaxOiDu8KKgg8BZoB5f0H+x/5fver9eXzt/J18jDz4vRq93j6o/2lAHID8wXRB64IhQi1B6UGaAXGA58BQf9S/Tb8fftx+hH5HPgT+I74ofjo9wj33vaE93T4T/lE+uL7aP5tAUsEugbOCHwKVwvvCnAJiAevBfEDUQIjAfcANQLHBEsIRgz/D2YSehLnDzkL8AR7/ATxP+Oe1fjK7sQRw+vDIMewzSPYkuUq9JYBmgt1EU8U2BWYFlwViRDUCM0BY/4m/vH+hf8lAMMBhwQ4B6YIoQgNB8oDvP9R/Dz6c/m++Tf7kv4vBPsKWRGqFt8akB10HrwduBulGMAUVxAoDBwJTAf0BYIE6wJGAaf/Cf40/P75lveG9YH0+PSt9vP4a/s2/mABZwR+BkwHHwdtBl4FxgN7Ab/+Q/yW+qT54/gF+Ff3X/cn+Bv5pfmu+Zf5yvls+mH7nfwi/tL/nwGmA8wFkgeCCHsIsgdlBoYE7wEk/x79YPyz/Lb9aP9FAq8GIwxtEW4VWRe6FpoTQg7cBjf9E/E84yDWdsxMx9LF5MZryhDR5toQ5yP0CgCNCAAN3Q4oEFURtBCODBwGAgGd/wcB6QL0A7oEbAb9CAYLcQssClEHGQOJ/uj6yPj59xP4IPkB/EEB2AcsDowT2Rf/GhUdAR5VHfoaSxfsEtQOogvxCDIGhwNRAaj/Zv5F/Qj8nvoM+Yr3v/Yu93L4s/m7+iT8gv58AeQD5wTfBLEEsgR2BFEDDQE2/p77rflL+Cn3B/Y09WT1zva9+Fb6a/uH/B/+4/8vAeIBUgKvAuUC0QJxAv4BmAEQAUoAjf84/27/9P92AAQBBwKoA7wFKQjmCuoNKhEjFKQVwRScEc4MbQbs/dry8OVo2bzP5slIxybHiMngzozXXuPO8A/9yAUFC9gO1xLjFS4V2A/OCB8E2wLcAiQCAwEkAVkDlAYZCUIKOwq1CHAFVwGv/cj6Xvh09sb1kvdE/IUCzwgID28VOxtdH2MhWSGUH1ccjRe0ESkMuQf+A5IAyf0m/Nv7bfzN/Fj8dfvV+pf6bvod+pf5Jfl1+fr6VP2h/0QBTwJRA54EoAVXBWYDdgCW/VD7Zvls95n1r/Qo9a/2k/iO+rb80P5cACYBWwFBAe0AJQDl/sX9Rf08/Wr93v2u/tv/PAFhAgwDjAMhBKgECwVxBSkGngcACiMNwRA8FGcWThb/E+wPBQqrAW725OgR26jPSMiTxGDDUsQryEXQO90R7aD77wWUDEsSjxhkHQ0dkhaVDcgGjwP6AQAAxP0N/QT/2ALGBrwJCgvFCRoGxQEX/u/6zPfA9Azzr/QN+j8BpwgPEBkXBR2OIWkk4SSQIrAdORfkEO4L7AfzAzUAl/2O/OT8vv3y/QP9ePsT+j757/iC+Fn3CPYV9i34SPvM/S3/XQCNAoEFkweCB6EFLAMEARP/pfxp+Rj27PN/82/08fWF9yP5/voj/UP/5gDJAdsBLAEqAGr/FP/l/qD+Wf59/m7/7wBkAosDhgRmBSEG4QbeByUJnQpFDE4O2hBiE5sUdhMmEJAL1gUM/oHzC+fW2gnRj8oLx+bFDccDy8PS5d7T7b37sgVRDHcSThlMHqsd/xY/DsMHPwRuAcD9Ofrj+Hv6B/4CAnkF6wenCG0HSQVMAyIBFP6A+tX3vvfC+ov/rwRfCvkQpRdNHWshryPYI7whcx3sF2sSQA3pB2ACcf39+Uz4yfd399z2UfZ59ob3Afki+mz6Qfqu+k78fP4HAHsAeQACAWsC2QMfBP8CNQGV/1D+3fyp+vb3sfWK9Iz0TfVO9oP3SPmk+yX+ZQArAjIDZAMIA3UC0AENAfb/mv6a/Zf9df6l/70ArgHBAkEE9wVXByMIgQjQCJ0JMwtbDcMPDhJ9E2QTvBGlDsAJcgKL+Jfs8N9g1HHL3sWHw9TDrcZCzd3YaugM+CgEfAyFE7Ma5R+DH+wYoQ/XB9sCJ/9W+yT4e/ck+gD/OQScCKML5gwWDJUJNAY4Aor9y/hQ9Sz00PXT+T3/rAVRDWkVfhzqIaIlUiejJmcjvx3TFisQBAq+A4D9H/hn9Mfyu/IG8zXz+PO69RX4Yvr1+4r8xfx1/Yz+Wf9u/+b+g/4q/7YA8QEBAjMBYAAEALr/j/5d/CD6wfhB+CP4Nfiz+ML5AvsR/CP9fv7E/0cA5P85/wn/X/+V/1r/If9w/zsAPQFtAt0DYwWSBiMHVgewB0oItgi+CN0Ixgm5C1cO9xDgEloT7BFzDt8ILwGA9wjsht+p02nK7sQPw8LDm8bPzKTXHuYO9WwBlgoyEmsZ1R7pHxccjRUZD90JNAV5AED8yfmt+XL7OP45Ab8DSgXQBXMFWQSZAh8AMv33+oH60ftj/uEBPQbjC/ES7xneHo0hPyNkJP4j3iAOGzEU8g0bCIMBcPpk9Dbwpu0y7MLr1Oys73vzMvez+i3+NwFIA0UEUASiA4kCOQHi/8n+Gf6q/V/9a/3a/Ur+ZP4s/sP9Qv2l/Lb7cfpO+bL4gfiH+MD4Q/lA+tH7of0t/1oAZgFdAhEDYgNyA3UDgwOiA+oDcQQoBc0FHgY3BmgGoAaUBlUGRwatBpMH3AhvCl4Mbg6uDx8PeAzjB40Bmfkc8Hfl2NrP0XjLPMjex9DJN84Z1q/hKO/l+3gGPw8kF7kd+SCSH58aaxREDh0IqgFt+6/2ePS19KT2nPks/d0AIwSUBhMInggKCGMGXwTVAg8C8gFxAuAD+gbxC3UR+RWQGS4dqCCAIlQhOR3GF0QSNAyjBDH8jfTA7s7qdOjG5ynpkOwk8Rr2VPuPANcEUgcWCL8HqQbFBAUC5f5Y/AD7s/r4+qf71fx+/kwAowH8AV4BPgDe/hr97/rK+D33ivaK9gn3Gfjc+Qr8If76/7QBQQNhBPIEFwUgBSUF7gRvBAcEBARdBNQEIAU7BWUFngWiBXYFRAUJBfkEdgWTBi4I/QlgC60LhwqsBxQDBv2y9T3tOeSv2+PU3NCgz1LQk9JV15nfiuq19S3/AQc/DuoUVhnhGfoWqhJEDoYJCwR2/gb6k/cd9xv4Kvor/a8A9gOrBgkJEAszDOwLVgpBCJ4GsgULBXAEbATCBY0IIwysD7ISOBVKF5AYhhj/FiAUDhD2Cj8FbP/r+Qj18vDu7XPs4+wS71ryGPYE+vf9nAFtBPkFLQZaBfQDUgKtACT/0f0C/f78nf1h/vr+cP/K/+v/nv+0/lD95/vB+rL5mvjC95L3JPgz+Vf6dfvW/Jj+ZADcAfMCyQN6BAgFVAVdBU0FOAUSBewE3wTRBKEEPwSsAw8DowJqAkgCagIqA7EE5gZuCbALMg2jDWUMzQgNAxL8c/Q47IrjTNv/1MjRRtFD0sHUHdrM4ift6fYd/1sGTQ0lEx8WuBVjE5sQZQ0zCVwEEQBe/V38avwX/aH+FgHJAwIGtAcTCf8JEgoNCTMHTAX2AxgDZQIjAvACCwUmCJwL2g7LEZwUBhdbGEUY4BZbFMIQDwxjBkwAk/qe9XjxWO7B7BztSu+n8nT2Nvq8/dUAMgODBMUERQRfA1oCZgGMANv/g/+Y/9f/BQAgAB4A2v82/zH+3vxk++T5ZPj59un1bfV89QD2CPee+Kz6A/1d/4cBhgNcBdgGxAcHCKQH0AbVBcgEjQMiAr0Atv9X/5L/+v9DAJwAWwGbAikEsgUkB94IIAt9DVAPQxD3D8UNYwlJA2X8XvX+7cXld90w1zbUktOo05bUG9g333DoIfFD+Az/fwZ8DQQSpBOqEzgTEBKDD+sLmAhiBtwETQPlAVoBrgEcAiECAwI7AqcCqAIRAoQBkgEGAmsC1ALEA44F9AdvCsYMLg/REV4UPxYdFw4XMxZpFG8RPg0dCJgCPf1j+Ef0QfGg75DvEvHC8+j25vmC/L/+lQDAAfUBWQFrAJD/6v57/jj+Rv7U/rH/iwBXAfYBEQJ3AUgAvv4C/SD7HPlE9w72qfX79en2avhf+n38fP5GAOcBLAPKA9EDlANBA9gCVQK8ATkBDAFEAb8BYQIhA/gD4QS2BUMGfwaABlkGKAYmBoMGUAdpCIcJfQoqCw8LXQmXBR4ACPo19Gjuvede4Cba6tZu1ufWhtes2R7fe+dH8IL3jf3rA7AKIBDeElkT2xL7EV4Quw20CjkIbwbbBGMDcAI5Am4CiAJRAhcCNwJ+AmECzgFBAR0BXQH0AfUCdQSBBvkImwtKDvoQXhP4FHcV8BSwE+ARXw8HDPwHxwMCAOb8RPoD+Fj2mvXe9cD2mvcf+IX4DPms+UL61fp9+1L8Wv17/oz/igB9AUECrAK7AnUC7AE3AUgAAv+P/Vj8iPvq+jz6kfk9+XX5E/rC+lb73vtt/Az90v2//oz/FgCiAG0BVQIbA5cD1gMbBJoEMwXBBUsGugbiBtIGtAaGBiIGXgUyBP8CZQKHAvgCkQOUBBIGywdACXMJZgcUA2T9dfcS8ubsq+Zk33TZItfv14/Z7tpk3fzio+uY9EX7CAD0BIcKKg+GEd4RThGUEHcPhQ1LC8cJzAhbB2AFvwMBA8ACMwIRAQQA3f9lAMgA1AAXAeMBBQNIBL4FjgeeCYQL+AwtDoMP5BCwEXURhBBwD1IOzQyTCrQHmgSlAeD+NPzD+dH3lPY29p72T/fi92f4Jfk7+oX7tPyJ/R3+vv5j/7j/uP+3/93/8/+9/zn/p/5S/iX+sv3z/HP8jPz4/Df9Hv33/Bj9ZP1w/Sv96/zp/BD9Nf1j/cb9V/7k/mn/JgAwATYC3gIvA4UDGgTOBHEF/gV9BtkG6QabBhcGjQXkBOgDwQLOASMBmwA2ACcAvAAIApoD8gTdBd0F7AOI/5f59PPt793s6+iz42vfbN5W4LPiMeQx5tjqG/JU+Rz+7ADwA9IHNgvoDBsNtQwuDDULmQkgCK0H3geWB5sGuQVrBT8FnASXA9sC0wIZA/0ClQKSAhgDpQP9A3sEeQXnBkgIIAmSCT8KYwuPDEwNlg2tDaoNPg0GDPYJYwe4BC4Cuv9U/T371/lV+Zv5Jvpd+ij6/Pkv+pT6sPpc+gf6MvrY+of77vs//PH8Ef4k/9f/XgAOAd4BWwIqAo0BAwGLANL/0/7f/Sj9m/wN/HH75PqE+lT6TfqG+jL7SvyP/d3+OwCuAScDfgSCBTYGzQZOB4AHQgeuBv4FUgWpBPkDQwOJAuQBfQFbAYUBDgLdArgDhgTlBOgD5QBT/JT3AvSw8RvvAOts5rLjiONm5NzkeuUD6APtwfIV9xT6pP1rArsG7AheCaEJhQpFC6gK2whvBzQHWwcBB2AGCQb1BbEFEwWOBK8EOwVUBawE7QOwA70DogN0A7YDrAT1BfoGtgfICIcKYAx6DasNfA1qDVUNsQwpC88IBAZDA+IA7/5e/T78nfuL++r7Q/wm/KH7D/ue+jj6qPnp+F34Yfjd+H75IPrZ+sj76/wP/gf/5f/YANIBfgKwAo0COwKvAdkAyf+z/t79UP3J/C78qPtW+zj7S/uQ+wv8yPyz/az+rf+7AMABkwIqA6QDIQSaBPgELQU3BSYFCwXIBD8EkwP9AocCPQIrAjICTAKjAisDxwOlBIYFOQW8Amz+v/k49hH0w/HU7Rfpz+Xy5H3lQOY851LpCO2Y8aH17fh7/IwA/wP1BccGPAepB90HmQcVB9wG+Ab0BtIGNwdFCB0J8wgECEUHRweAB+AGRAWxA+EChwIsAvABTAJ0A/QEFAbHBsYHfAlKC0oMXQwcDAcMBQyXC00KRwgZBhIEIgJhABz/YP4F/uH9yv2M/ff89Puz+p35+/iu+G74Hfj/93D4bvmS+pL7hvyq/fD+AAC8AF8BDAKHAooCKAKwAT0BlQCg/6f+/v2j/Vn98Px3/Cn8GfwT/AP8Kfyz/Hb9M/7d/oL/KQDHADcBcwG7AUACzwIZAyADJgNbA6gDwgN4A/gCnAKDAokCmQLKAhIDUQO6A5MEbgU0BQEDA/+o+oT3hPUM803vfOs76c3oNems6ZLqyuw58JfzCfYs+O76G/6sACgC7gKSA0UE2AQ/BdwF2gbEB0IIwAi8CeAKawv6CtcJsgj3B1cHUgYRBRoEcgPNAjAC9wFoAmgDewQvBZ4FRAZPB28IQwmoCbUJmglsCf4IGQjOBkkFjQOvAfn/tf75/br92/0u/oX+s/6X/kr+//2z/Sv9Zfyu+0H7JftK+4775ftz/EL9J/4Y/ysASwE7AtUCAgPFAjgCZQFRACv/Kf5X/Z788vtd+wH77voG+yH7TPuw+1f8Hf3W/XH+7v5K/4H/oP+2/8v/4/8EADwAlAALAYsB+QFJApUC6AIoAy8DAAPNAsUCuQJTAr8BnQENAkMCTwE2/zf9ovwu/S/9rfuI+Rf4cfeo9lL1JPT184T0svQY9KjzYfTt9T33/ffK+B76sPsF/Sb+gf8jAX8CGwNbAwMEHwXjBcgFOAUHBX0FJwaBBqEG8gZ9B94H6QfqBzYIqAi9CDkIawfRBpkGhQZWBhAG4gXYBeYF/QUOBgIGswULBS0EZwPpAqoClwKtAtYCywJbArABLwH/AOAAiQD2/1r/3v55/gr+hP0A/Zb8PPzx+9v7CPxR/JD8x/wC/T/9cP2D/XX9XP1Q/UX9Jf34/OL88fwB/ef8q/yL/K78+vxJ/Yj9wP0K/mD+kv6U/p/+2f4k/1n/hf/V/1cA6wB9ASQC7gK0A1YE9gSvBS4GzgU1BN4B5v/5/oL+Xf1c+3v5cPjP9+D2q/XX9K30p/Qc9EjzK/M19Lz1Bvcn+Jf5ZPsd/XX+o//zACwCwQKkAncCvQI5A1wDGgP4AnYDhAScBWwGIQfhB2YIawgbCMwHogdwB/sGRwaoBWIFdgW5BQcGUwaXBtIGCgc6B0wHHAeXBtcFEwVeBKUD6wJXAvUBqAFSAfEApwCaAL4A0gCtAFwA9/+F/xH/mv4U/oD95/xW/Or7u/u8+9n7Evxp/OX8h/0x/rn+Fv9M/0r/Cf+T/vX9VP3g/KL8dfxC/Bf8GPxa/LL83/zl/Pj8F/0b/Q39HP1m/dL9Kf5g/qz+P/8PAOAAgwESArECRgPBA1kEJgXEBacFlwT+ArEBEgGDACr/FP0K+3n5Gvid9kP1jPR+9IX0LPTU80L0ifX/9iX4KPlp+u77ZP2l/uH/MAFFAsECwALMAjQDpAOxA3ADVQOuA2AEGQXABXcGMweoB7oHlwdwB0wHAgd7BtgFWAUdBSgFZgW9BRoGawaaBqgGowaGBjcGswUaBYoECgSdA1EDLgMiA/8CnAICAlwBwAAqAJv/Gv+o/kf+B/7u/eP9zf2p/X39R/0S/ez81fzH/Mj82vz0/BH9Nv1h/YX9lP2Q/X79Vv0l/QX9A/0b/Tv9WP1z/Zj9y/0C/iz+Ov4q/gH+yP2Q/W/9b/2Q/cv9Hv6X/kL/AQC7AG4BDAKAAtsCOAOrAzEEeAQSBA0D+gFLAeoAWwBC/8L9PvzL+kH5rPdZ9nj1zvQO9FLzEPOJ84z0wPX39kL4tvk9+7P8JP6o/xkBLQLeAm0DEAS4BCsFRgUpBSAFUgWlBQAGWQasBuYG8gbVBrsGygbmBtgGhQYMBroFvAXtBRwGUgabBtsG+wb9BvEG3QaqBi4GYgWEBM8DSAPYAnYCKQLgAXwB+gB4ABYAyf9i/8r+Jv6n/Uv9//zF/J38hfyE/J38y/wO/V39nv3K/fD9GP40/j3+Ov4r/v79r/1T/QP9zfyu/I/8XPwy/DP8Xvyt/B39jf3f/R/+U/52/o3+of61/tb+C/9L/6D/KwDiAI8BHgKhAiwDtwMYBBMEjwOwArIBvADZ//H+6v3A/IP7TPo0+UD4aveq9gD2bfX29LL0xPRB9RX2J/dr+Mf5H/t7/On9Sv94AGYBDQJ/AvACbwPdAzYEmgQYBaUFNga8BisHcgd8B04HCQfCBnsGKwbZBZ4FkAWqBeoFUwbPBjwHjAe5B7oHkAc3B7gGKQaYBQYFgAQUBMEDhwNcAx4DvQJMAsUBFgFPAI//3P4+/r/9Wf0L/dz8ufyN/Fz8Nvwd/An89Pvd+8z72vsa/H385vxM/a79//06/lv+Xf5C/hH+yP1u/R396/zP/L78vfzY/Ab9Of1z/bj9/v07/mX+gf6s/gL/cP/h/1sA6AB8AQ8CowI4A78DCwTqA2gDwQIjAogBwACw/2v+GP29+1n6/fjF97/24fUY9XT0IvRA9Lz0cfVO9l33nfj4+WL71vxF/pD/oAB6AT4CCQPIA10EzAQuBZcFEgaOBvIGOgdsB4EHcwdMBxsH5wa1BoMGSgYRBu0F9gUrBnUGwAYJB0sHfgeYB5EHYAcAB3YG0gUsBZYEDwSQAxUDpAJEAuwBjQEjAbMAOACp///+UP6u/R/9nvwx/Ob7xfvE+8z71fvr+xH8NPxL/F38cvyI/JT8kvyP/Jb8o/y0/Mf81vzm/P/8FP0b/Sn9Rv1i/XL9ef19/Y79sf3V/fv9L/5z/r/+Dv9n/9H/SQDBADcBswE5AsACKgNPAy8D5wJ/AvYBWwGwAOD/4v64/W38K/sL+gP5EPhI97D2Q/YL9hj2bPYD98b3lPht+Vv6Xvtq/Hb9eP5z/2YARwEZAuIClgMvBLsEPQWuBRkGfgbKBvkGEAcJB+8G2wbQBskGwwa3BqgGpQaxBscG6AYNBx4HDAffBqsGewY/BuQFdQULBaoETQT5A7EDaQMTA54CCgJtAeAAYADd/1b/3v58/iv+5v20/ZT9d/1P/Sf9B/3f/Kn8bfw1/Ab85vvU+9r7BPxD/Hr8nPyx/Lv8vfy0/J/8gPxg/Ej8TPxv/Kb87fw+/Yb9wP0A/kf+gv64/vX+L/9q/67/AgB4AAQBagGQAZ8BtAHMAdYBnAH8AC8Aev/Z/if+Wv2V/Pf7XPuE+oP5rvhD+D74Y/hw+GL4e/jn+Jz5e/p1+4z8qP2T/kj/AgDfALgBWALCAh8DhAPdAxsEWQSyBBAFRwVRBVEFcQWrBdYF4AXoBRQGZQbGBiEHbAelB8IHxQe6B58HZQcPB6AGGgaOBRIFpgRKBPwDrQNUA+8CfwIIApEBDAFwAMj/Jf+X/i/+6v22/Y39eP13/Xn9eP19/ZH9pP2q/ab9nf2W/ZT9k/2X/aL9pv2Z/YH9Xf0z/Q392vyR/FX8NPwV/Pb77/sD/C/8afyk/Nv8Ff1Y/aL98v1N/rj+Jv+P/wIAiAALAXgBywEIAjECQQIqAukBfwHuAEAAg/+6/uz9IP1R/H37uvoV+oj5Gvnc+ND45/gY+WT5zflR+ub6f/se/MP8XP3e/VX+0f5K/7f/IgCVAAQBbgHYAT0CnAL6AlADngPwA0EEgQS3BPYESAWlBQIGZgbSBjYHiwfdByMIRghGCDIIEAjZB5MHRgf5BqkGVQYFBrIFVQXzBI4EGgSOA/YCXgLGAS8BogAoAMX/dP8n/9P+f/40/vP9vP2P/Wb9Qf0k/Q/9AP0A/Q/9IP0t/Tv9Uf1n/W/9YP0+/Q392Pyn/H38XfxM/ET8O/w0/DP8PvxU/GL8WfxP/F/8hPyx/O/8RP2j/fz9S/6Z/un+Mv9q/43/lf+H/23/T/8s//P+mf4q/rz9TP3Y/Gr8DfzC+4D7SPsl+yH7OPtn+6H74Psz/Jn8+/xb/cf9N/6l/hX/gf/p/1MAsgAHAWsB2AE+ApwC7gI4A4YD1AMaBGcEvQQOBVoFrQUCBlgGqwb1BigHPAdAB0kHTAc8ByEH/QbRBqwGkQZyBkoGHAbnBakFXwUIBaQEMQS0AywDmAIFAn4B+ABuAPH/gv8X/7b+af4w/v79w/1//Tv9/vzS/Lr8o/yJ/HX8a/xt/IP8q/zV/PL8+vzy/Oz86PzY/L/8pfyS/Ib8fPx6/Iz8r/zS/OP86vz9/B39Of1P/WX9ef2N/ar90v0I/kr+jv7F/t/+7P4M/zb/O/8U/9v+ov5s/jf++P29/Zb9cP08/Q/9+vz6/Az9H/0h/Sf9Q/1v/Z390f0X/mn+sv7q/ib/dv/P/xwAWACOAMwABgEwAVcBkQHbAR8CVwKRAt4COwOOA9ADFgRsBLwE9wQtBW0FrAXYBe8F+AX9Bf0F8QXaBbYFgAVEBRQF6ASzBHcENATxA7cDeQMsA+ACngJZAgoCuAFqASgB8gC4AH4ASQAOAM7/mv90/1P/L/8E/9H+n/5u/j/+Gv74/dT9tf2d/Yb9c/1m/VD9NP0d/Qz9+fzh/MX8s/yv/Kr8mvyO/JL8ofyv/Lr8zfzr/Av9Lv1b/Yj9rv3P/fH9G/5J/nD+gv6D/nD+TP4n/g/+//3y/en93f3I/bX9uf3Z/QH+H/4x/j7+Rf5L/l7+h/6z/s3+2f7o/v3+Gv9F/2v/fv+I/5L/mf+l/7z/2v/2/w8AMwBqAKoA7wBDAZwB4QEZAl0CrQL+Ak0DkQO8A9ID6AMQBD4EWgRnBHoEjwSbBJ8EowSsBLQEpgR7BEYEFQTnA7QDawMWA8kCgQIvAt0BngFwAUoBIgH5ANgAwQCuAKEAlAB/AF8AQgAxACQAEQD8/+3/3f+8/5T/cf9O/x7/5/6w/nj+P/4N/t79r/2N/Xz9bf1f/Vn9WP1j/Xj9ff1u/Wn9ev2K/Y79jv2Z/a39vf3H/dz9Af4d/h7+Fv4Y/iH+If4U/gH++v0I/hv+IP4e/ir+S/5x/ov+l/6j/rb+xf7L/sz+1v7v/hH/Kf8w/zz/Xf99/4v/jv+M/4n/jP+N/4//ov+w/6H/iP9//4r/qv/H/9z/EABSAF4AYwC0ADIBiQGoAcIBHwKLApECeQLDAuwChQJMArQCHgMWA+4CFANnA0QDnwJbAq0CuAJiAnMC3gL4Ar4CogKuAoAC8AGQAdcBJgLsAbkB/AENAnMBxACmAOgA7wC7ANMAFQHfAGIASgBsAEwADQDx/+H/xP+Q/13/Uf89/+3+q/62/sz+uf6b/o7+iv51/kH+IP4n/hr+6/3b/ez97f3f/dv93v3f/d/94v3v/ff97P3k/e/9+f3s/dX9x/3L/dP91P3Z/fP9Fv4l/iP+Of5t/pn+p/62/t3+C/8t/0b/YP9+/47/i/+Q/6n/uv++/8z/3f/b/8//0f/h/+//8v/3/wwAJgA1AEwAegCmAL0AygDXAOkA/wATASoBQwFOAUsBTgFjAX8BmQG4AdgB7AH7ARYCOAJKAkUCOQI2Ai8CEwLyAe0B9QHiAbcBjgFzAWMBUwFDAUcBTwE7ASMBLAFGAU0BPwEnARsBJwErARcB/QDoANUAwACbAGwATgAvAAEA5//b/6z/bf9d/3n/gf9S/xj/G/87/yD/6P7x/h3/Ev/h/tn+A/8I/7X+bP6Q/rz+cP4H/hD+W/5e/hT+7f0j/mT+V/44/mH+kv55/lr+g/6q/oD+SP5e/qb+yP6w/qH+w/70/gH/+v4L/zf/Vf9b/2n/g/+J/4L/m//N/9v/wP+z/8r/6//5/+3/2//a/+z/BgAeACUAIQAyAF8AjACeAJYAkwCrAMkAygDBANAA5QDpAOwAAAESAQwBAgEZATwBPgErATgBZQF+AXIBZQF0AYYBegFhAWABagFYAT4BSAFcAUcBHgEZATUBSgFAASgBHgEgAQ0B7ADlAOgA0wC0AKIAkwCFAH4AdwBtAFkAPAAoAB4ABgDw//H/6v/Q/7//s/+g/4r/a/9W/2v/hP9x/1P/RP86/z//Qf8e//v+//7//uT+2P7c/tf+zP7C/sP+1/7j/tj+3P76/gj///74/gr/LP83/x3/FP8u/zT/Kv88/1n/Vf9E/1L/iP+8/7z/nf+k/8b/xP+0/8n/7//6/+3/7f8FABIA9v/W/+H//v8EAPv/9f/4/wAAAAD8/wgAJgA1ADEANwBVAGUATgAwADsAXgBgADkAHQApADkALgAiADkAWwBfAFMAZACDAH0AXwBkAIIAfQBbAFYAcwCDAHIAZABuAHcAbwBqAHYAfgB1AGMAVgBPAEkAPwA6AEsAYwBbADQAIAA6AGEAcABiAFkAcwCKAHUAYgB8AJAAeQBmAHUAhgCCAG8AYABkAGsAXABIAEwAWQBSADYAIwAqADUALwAlACgAKgAhABcAGQAbAAsA8P/i/+T/2/+8/6b/pf+h/4v/dv9z/3f/Zf9E/zn/S/9V/0n/P/9B/0P/Nv8j/yT/P/9R/0b/PP9L/2b/cv9p/1//YP9d/1L/Vf9l/23/bf9u/27/bf91/4P/kf+f/6r/sP+5/83/5f/2//7/AwAKABcAKgA5AD0AQgBMAEwARwBXAHQAfwB5AHwAkgCgAJMAgACEAJQAjgB3AG0AdAB3AGwAYwBhAFYAQwBCAFYAWwBIADoAOwA4ACgAGwAYAB8AJwAmACMALAA4AC8AFwAPABoAHgAQAP//+P/6//f/5//T/8v/0f/S/8j/vP+5/7n/uP/B/9z/9P/2/+7/8f/5//7////9//7/AwAEAAAAAAD+//T/8v8AAAsABwD9//3/BwAMAAMA/P/9/wAACgAXABgADQAGAAEA//8IAA0A+//m/+7//v/3/9//0//d/+f/4P/d/+n/5v/T/9P/4//n/+D/3v/g/+f/6P/a/9L/4v/y/+v/3v/h/+7/+/8IABYAHQAZABYAIQA7AEkAOwAmACsAQgBEADIAKQAvADAAKwAvADUALQAdABkAIQAiABYAEAAXABwAFQAPABIAGQAbABQACQACAP///f8AAPz/6f/Z/+H/7v/p/+P/5v/m/93/1P/N/8r/zv/R/9L/2v/n/+f/4f/o//j////+/wMAFAAYAAMA7v/w/wIAFQAhACAAGAAZABwAEQAHABEAHgAgACUALAAjABEAEAAlADYAMwAnACQAJAAcABMAFQAYAAsA9//s//D/8//u/+f/4f/Z/9H/1P/e/+H/2f/Q/83/0f/f/+b/2P/H/8X/zv/b/+H/2f/T/9f/0f/H/8//2v/T/8//1P/P/8j/z//c/+L/5P/n//H/AAAEAAAACwAbABsAGQApADsAPAA0AC4AMgBAAEkARQA9ADsAPgBDAEMAOwAyADAAMwAxACoAJgAoACcAIAAZABIADgARABUADwAAAPX/+P8BAAEA/f/9//v/7//k/+b/7v/u/+X/4//r/+3/5//m/+j/3//X/9j/2v/a/9j/z//J/9T/5P/o/+X/5f/m/+v/+v8DAPv/8f8AABYAGAALAAEAAAAGAAoABwAAAP7/AwAEAPb/4//h/+n/6P/l//D/AAAAAPf/9v8CAAkAAAD2//f//f/8//X/9f/9/wIAAwD9//H/6f/w//r///8AAPr/8v/5/wkACQD//wAACwASAA8ACQAMABcAHAAVAA4AEwAcACQAJQAgACMALgAuACYAIQAeABwAHwAfABIABAAAAAEAAwAEAAYABQD9//X/+v////r/9v/8/////f/7//b/8v/6/wEA/P/v/+j/5v/l/+n/7//u/+r/7v/1//P/7P/r/+3/7v/w//b//P8AAAIABAAEAP7/8//y//v/AAD9//L/6P/r//j///8AAAYACAAFAAIA///6//r//P/+/wAA/v/2//j/BgAMAAIA+v/9/wYACgAHAAAAAAADAAkAEQAZABUABAD7/wAABQACAAAAAAAFAAgAAADy//X/CQAcAB4AEAABAAQAEQAVABIACQAAAAIAEgAYAAsAAQAHABAADQAKABUAGgAJAP7/CgASAAsADQAbACMAIAAWAA0AFQAkAB8ACgAEAAsACQD///L/6//q/+//9v/4//j/+v/5//L/8//+//7/8v/u/+7/6//u//P/8f/s/+j/5P/k/+z/7v/r/+7/8//u/+f/6P/s/+z/5v/c/9H/zP/S/+T/8//w/+f/4f/Z/9P/2f/j/+T/5f/r/+3/7v/5/wUABgD/////CwAUAA4AAwABAAwAGwAgABcAEgAbACAAFAAKABYAJQAiABkAHgAlAB4AEwAUABwAIgAfABIACwAVABoADwAPABoAGgATABYAFAAKAAoAEQASAA8ADQAPABIADAABAP//+v/t/+v/+v/9/+z/3f/g//D/+f/u/93/3v/w/wAAAAD5//f/AQASABcAEAAKAA0AEwAWABMAEAATABwAIgAfABYAEQAMAAkADQASAA8ABAD8//X/8v/x/+n/5P/s//P/6f/X/83/zv/W/+D/4f/d/9r/1v/U/9r/5P/m/+H/4f/o/+7/5//e/+D/5v/i/9f/1f/b/9//3P/Y/9z/5f/t//L/9f/w/+j/7f/7/wIAAwADAAgADQAIAAAACgAfAB4ADQAIAA8AGgAjAB8AEAAGAAUACQAWACMAGwAHAAMAEAAZABsAIQAoACUAHQAbAB0AIAAoAC0AIwAWABQAEgAMAAoACwALAA0AEQAVABgAEwAJAAcAEAAVAA8ACgALAA4ADwALAAUAAAD6//n/AQAJAAEA+f/5//z//P/9//v/9P/y//X/9f/4/wAAAgD9//f/9//8//v/7v/l/+///P/3/+r/5//x//r/9f/m/+X/+f8LAAgA+//7/wQABgAAAAIACwAKAPz/8f/4/wEA/f/w/+n/4v/a/9P/0P/R/9n/3P/Y/9v/4//j/+b/8P/0//D/8/8BABAAEwAHAAAAAQAAAAAACQANAAMA+//9/wIABwANAA0ABQAEAAsACQAHAA4ADwAHAA0AHgAkAB4AGgAWAA4ACgALAAsAAgD8//7/AQABAAAA/v/8//3//f/7//3/AAAAAPr/8//1//7/AQAAAP3/AAAEAAcAAgD//wAA///5//z/CAANAAYAAAD8//n/9f/6/wUACQAAAPb/9v/6//7/AAACAAQA///x/+3/+P8BAAEAAAABAAEA+v/0//X/+v8AAAQAAAD3//v/AwAHAAQAAAACAA8AEwAIAAUAEAATAAoABQALABQAFQAPAAoAEAAZABkAEQAKAAIA/v8AAAcACAAFAAEA///+////AAD//wAAAgAAAPj/9//+/wQABAD///P/6f/n/+r/6f/n/+L/2f/Z/+X/6//p/+n/7P/r/+b/5//x//j/9v/2//j/+P/8/wMAAADy/+7/8//0//X/+v/7//j/8P/q/+//+f8AAAIAAQABAAYACQAIAAwADwAPAA8ADwALAA0AEQAKAAQACAAKAAgACAAEAAAAAgAJABUAIwAlABwAGAAYABkAHgAiACIAIgAeABoAHwAjABkACAAAAPz//v8DAAMA///8//z/+v/0//X/AAAHAP7/8P/x//n//v8BAAAA9//w//L/7v/l/+f/7f/s/+f/5P/h/9v/2P/a/+L/6v/v//X//P/8//7/CAAOAAgAAQD+//v//f8AAP///P8AAAQAAQD7//f/9P/w//T//P8AAAEA/////wgAFAATAA0ACgAIAAYACgARABIADgAFAAIABgAGAAAA/f/+//7/AAAAAP//AAD7/+n/6v8EABoAJAAoABwADgAXACgAJQAFANX/uv/V/wUAIgAxAC8ADQDq/9//4P/n//b/+v/y//P/+v/+/wEA+v/h/9P/4f8AAB8AKgAXAAAA/f8AAAAA///9/wEADAAMAP7/8P/0/wIADAALAAkABgACAAsAIAAlABsAGAAfAB8AHAAXAAsAAAD8//z/+v/5//7/AQD///v///8FAAkACgAIAAAA/P/+//v/7//q//T/+//2//D/7f/l/9z/3f/l/+3/8f/1//b/9P/w/+7/7v/q/9//1//d/+r/7//x//X/9//z//T//P8CAAQACQARABYAGwAeABoADgADAAMACAADAP3/AAD+/+//6//4/wQACAAHAAEAAAADAAMABQAJAAYACAAWABgADQAKAAkABAAJABIAEwAWABwAFwAQABcAIwAoACQAHgAYABIADgAJAAIAAAAHAAkAAQD//wAA/P/5//v/+v/z//H/9/8AAAwADQAAAPH/7//o/9X/z//k//H/6//r//X/9v/u/+b/4f/i/+H/3P/f/+7//v8JABEADQD9/+z/6v/4/wAA9f/t//3/DgAJAP7//P8DAAwADQACAPz/AAAGAAoADgAMAAIA//8DAAgADQAWAB0AGQAUABEADgAMABAAEgAKAP//9P/v//b//f/5//T/+/8FAAgABgAAAP7///8CAAIAAwACAP7/+f/+/wcADwAUABAA/v/w//L/9f/x/+//8f/z//j/9//t/+n/7P/s/+//9f/y/+//9/8AAAAAAAD9//j/+P/4//j//P8AAAEA+//7/wYADAAGAAUACQAIAAgADQAKAAQADQAVABMAFAATAAgABQAKAAYABAAJAAgA///8//3//P/+/wMAAwD7/+//7P/0//X/7v/z/wMABgD9//r/AgAIAAAA9v8AABAACgD8//7/CgAMAAgACgANAA0ACgACAPj/8P/m/9L/vv/A/9n/9f8NACcAPgBUAHIAiQCFAHIAYABEABsA8//M/6j/lf+V/5r/oP+t/8H/2P/r//j/BQAbADQAQQBAAD4APgA5ACoAFAD9/+b/z//A/7f/rP+e/5n/qv/L/+7/CQAfADUAQwBAADUAKAAOAO7/2P/O/8T/uP+v/7n/2v///xUAJgA4AEEAQQBBAD0ANwA2ADcAMQAkABQA/v/j/8v/t/+l/5z/p//D/+D//v8jAEsAZgBuAGwAZwBWADcAGAD//93/u/+s/6v/rv+1/73/wP/K/9//9P8IAB8AMAA1ADkAOQAwACcAIAATAAIA9f/m/9L/wP+z/6b/of+z/9X/8/8KACAAJwAeABUAEwAQAAQA+//7////AAAAAAAAAwANABQADwAIAAYAAQD3/+z/5//o/+n/7P/4/wQADgAYACQALQAyADIAKgAfABIAAgD2//T/9v/3//b/8f/u//f///8AAAUAEQAeACUAKwAzADkANAAqACAAEAAAAP3/+//w/+3/8//2//L/7f/k/+H/6P/s/+n/7//7/wAAAAAFABAAFwAYABgAFgARAAwABADx/9j/yf+//7r/v//N/9n/5//4/wIAAwAFAAoADQANAA0ADAALAAsACAABAAAAAgAEAAQABAACAAAA/P/1//H/9v/5//X/7v/r//H/9//z//H//P8IAAsADQASABAACgAJAAkAAgD8//n/8v/o/+H/2v/W/+L/8v/z//L//f8DAAIAAQD///r/+f/8//3//v/+//v//P8DAAYABwAOABkAIQAoACgAIQAYAA0AAgAAAAUAAwABAAkAEQAQAAsABgACAAAA/v/9//7//v8CAA4AGAAZAB0AJAAmAB8AFgAMAAMAAAD5/+3/4//i/+L/4P/h/+b/6f/u//f/AAABAPz//P8FAAwADAALAAkAAQD+//j/6f/a/9H/zf/S/9//5//u////EAAVABUAFwAdACIAHwAWAAkA+v/s/+P/3f/b/9z/2v/c/+n/9////wcAEAAXACQAMAAxADAAMgAtAB0ACwD///b/7v/m/+b/5//h/9f/2P/i/+v/9v8EABUAJQAxADwARABFAEAAOQAsABsADQACAPL/3f/Q/9H/1f/V/9r/5v/0////BAAFAAkAEwAUAA4ACgAFAP3/9//w/+j/5f/l/+T/6v/v/+z/7f/0//X/9/8AAAQABQAFAAEAAAAFAAAA8v/z//j/8//v//L/8//u/+3/8f/4////AwAHAAwAEQATABMAEgAUABQAEQAKAAEA9f/s/+X/4f/j/+n/7P/r/+//9/8AAAwAGAAiACwALgAkABgADQADAPj/7f/j/97/2P/T/9j/7P///wsAFgAhACgALAAvADEAMwAxACoAHwASAAMA+f/0//H/8f/y//f//f/8//j//P8EAAwAEwAYABcAFwAbABsADwACAP7//P/z/+r/6P/n/+D/1v/Y/+P/6P/n/+7/+/8AAAMACAALAAwADgAKAAYABgABAPX/7v/s/+f/4P/d/97/5f/s//H/+f////3//f8GABAAEgARAA8ADwAOAAsACgALAAYA/P/7/wEAAgD9//n//v8EAAQA///7//z///8BAAcACwAJAAYABwAGAAIAAAAAAAIAAQABAAMA///z/+z/7f/w//P/+P/9/wQACwAMAA8AFgAZABQAEgARAAoAAgD8//T/8v/w/+v/5//p/+7/8v/2//z/AgAHAAUABgAKAAkABQAJAA0ABwABAAMABgABAP7//P/0/+3/7f/v//D/9//9//3/+v/5//z/AwALAA0ADAALAAgABgAEAAAA/P/5//X/9P/2//b/+v8EAAwACQAGAAoACwAHAAgACwAJAAUAAQD6/+//6P/p/+//9f/4//f/9//6////AwAAAPz//P/7//f/9v/7////AAAAAP3//f8AAAEAAgAGAAYAAgABAAEAAAAAAAAA+//3//r//f8AAAUACQAIAAcACwAPABIAFQASAAsACQAMAAwACAACAAAA/P/3//f//P8AAAEAAAAAAAAAAAD///3//f8BAAkACgAFAAUADAARABIAEgAOAAoABwAAAPb/8v/z/+//6P/o/+z/8P/1//3/AgAMABkAHgAYABQAEQAIAAAA///9//X/7v/p/+b/5v/p/+//9v/8/wIABAAAAAAABgAHAAEA///+//n/8//z//T/8f/y//j/+P/z//X/+f/5//j/+P/2//X/9f/0//b//v8CAAMABAAHAAoABwADAAcADQALAAQAAAD8//j/+f/9/wAAAwAEAAIAAQAHAA0ADAALAA8AEgANAAYAAgABAAEAAAABAAMAAAD9//7/AgACAAAAAgAIAAkABQADAAMAAAD6//L/7P/t//P/8v/v//T//P/+/wAABQALAA4AEAATABcAGQAXABEACgAEAAIAAAAAAAQABwAHAAgABwACAAQACQAKAAYABQADAAAA/P/9/wAAAAD//wAAAAD///z/+v/6//v//v/9//b/7v/s/+//8v/y//T/+f/9//v/+P/4//z/AAD///3//P/6//j/9v/1//X/9v/1//L/9f/6//v//f8CAAQABQAKAA0ACAAFAAcABQAAAAAAAAD8//f/9P/2//v//v/7//n/+f/8////AAD//wAAAgABAAAAAwAIAAgACQAKAAcAAwABAP3/9v/1//X/8//1//v/AAAAAAAAAwAJAAsADgARABAACgADAPz/9v/4//3//v/+//3/+v/6//z///8GAA4ADgAJAAgACgAJAAoACwAHAAMAAQAAAP7//P/9/////v/6//n//f////7//v/8//z/AAACAAAAAwAJAAcABAAHAAkACgAJAAcABwAKAAgAAAD8//n/8v/u//D/9//+/wAAAAABAAQAAwACAAMABAAGAAsADAAJAAYABAAAAPz/+f/8/////v/+//////8AAAEA///8//z/+v/4//v//f/6//j/9//2//b/9//1//D/7f/s/+j/6P/t//X//P8DAAkABgD///v/AgATACkAPQBCADAACwDZ/6z/mP+f/7v/4/8IAB4AKAApACYAHwAZABoAJgArACMAGAAIAPL/3f/N/8D/xv/h////FwAuADoANAAmABAA+v/o/97/2//h/+3/9v/4//v///////7/BgARABcAGwAbABYADgAFAPj/7f/n/+T/6//+/wwAFAAaABwAFgALAAAA+//8//v//P8FAA4ADwAJAAAA9v/t/+n/6v/z////BQAEAAIAAAD9//f/9f/2//f/+v///wUACwAOAAoABAAAAPf/7f/u//n/AAAAAP//+//1//P/8v/u//D/+f8BAAkAEQAVABQAFAAUABAADAAJAAMA//8AAAEAAAAAAAAA+//3//z/AQAGAAkABwADAAIA///2//T/+P/7////AwAIAAwADgANAAsACgAFAP//+//4//P/7v/u/+//8f/0//f//P8EAAsADAAKAAcAAwAAAAAA/P/1//L/8f/w//b///8AAP//AAAAAAAAAQAAAAAAAgADAAEAAAD///z/9v/y//X/+f/3//j//v8CAAAA//8AAAAABgANABIAEgALAAIAAAAAAP7//P/6//j/+v8AAAEAAgAHAAsACQAJAAwADAALAAkABQABAP//+//1//X/+/8AAAMACAAKAAcAAwAAAPj/9f/6/wAAAAACAAQAAAD5//b/+f/9/wAAAAD6//L/7f/t/+7/7P/r//D/+v///wAAAQAEAAMAAwAHAAcAAwABAAAA+v/3//v//f/9/wAAAQAFAAgABgADAAIAAAD//wAAAAAAAAAAAAAAAAQABwAKAA8AEQAMAAcAAwAAAAAAAAD8//j/+P/5//r//f8AAAEAAAACAAcABwADAAUABwADAP///v/8//v//P/9//7//P/3//T/+P///wAA//8AAAAA///+//3//P8AAAQAAgAAAAAA+//v/+3/8//2//f/+v/+/wIABAD9//b/9v/1//L/9v///wEAAwAEAAQABwAKAAwADwANAAQA/v/9//n/9v/7/wEAAwAEAAUABQAHAA0AEAARABMAEQAKAAYABQADAAAA//8AAAAAAQADAAQABQAKAA4ADgAMAAkAAwAAAP///f/8//3/+v/6////AAD//wEAAAD8//7/AQAAAAAA/v/7//v/+//6//z/AAAAAAAAAAD9//j/9f/2//r//P/6//n//P/8//j/9f/5//7//v/4//X/9f/2//n/+P/0//L/9P/3//z/AgAFAAkADwAQAAwACgAJAAcABQADAAAAAAAAAAAAAAAAAAMACQALAAsACwAKAAoACQAFAAEAAQAAAP//AAABAAAAAAACAAYACwAMAAYAAAAAAAAAAAABAAAA/P/9//////8AAAEA///7//n/9f/w/+7/8P/0//n//P/7//n/+f/7//v/+//7//z//f///wEAAAD7//j/+f/4//n//P8AAAAAAAD////////8//z///8AAAAAAAD///z///8AAP//AwALAA0ADAAMAAkABgAHAAYAAAAAAAcACwALAA0ACwADAAAAAQAAAAAABQAGAAAA///9//f/8//0//X/9f/5//v/+//7//r/9f/0//n//f/8//7/AAAAAAIAAgD+//7/AAAAAAAAAwAEAAAAAAACAAQAAwABAAAAAQADAAEAAAACAAQAAgD///7/AAADAAMAAAABAAQABQACAAAAAAABAAAAAAACAAIAAAAAAAAAAAAAAAAAAAAAAAAAAAAAAP//AAAAAP7//P/+////AAACAAMAAgAEAAQAAgACAAQAAgABAAEAAAD+//z//P/+/wEAAAD9//7/AAAAAP///v/8//3////9//z//f/6//b/9//6//v//P////7//v///////P/5//r//P/8//z/+//2//P/9f/5////AQAAAP///f/6//j/+f/5//v///////z///8CAAAAAQADAAMAAgAAAP//AwAIAAMAAQAHAAYAAQACAAQAAwAGAAoADAAPABEAEAALAAgACQAKAAcABgALAAwABwAEAAMAAQACAAUABQAEAAMAAQAAAAAAAQAAAAAAAQABAAAA/P/6//r/9//z//D/7v/x//n//v///wEAAAD5//L/9P/2//X/9v/6//7////+//z/+P/2//f/+f/5//j/9//2//f/9//2//X/9f/1//f//P/+//3//v8AAAAAAAACAAQABgAIAAoACQAFAAAA+//6//7/AAAAAAAAAgAEAAMAAQABAAAAAAABAAQABwAJAAkABwAFAAMAAQACAAYABwAFAAUABgAEAAQABwAHAAUACAALAAsADQARAA4ACAAEAAAA//8AAAAAAAAAAAEAAAAAAP7///8CAAEA/P/5//j/9P/y//P/9f/4//z/AAACAAMABAADAAIAAAD+//7//f/6//b/9P/2//3////8//z/AAD///v/+//8//v/+f/3//n///8BAAIABAAIAAcABAABAAAAAQAHAAgABAAAAAAAAAAAAP////8AAP///v///////f/+/wAA/v/8//v/+f/5//r/+//8/wAAAAAAAAAAAAAAAAIAAQD+//v/9f/w//D/8//y//T/+v///wAAAAAAAAAAAAAAAAAAAgAEAAcACQAHAAIAAAAAAAAAAAAAAAQACAAIAAgABwAFAAYACgAPAA8ADAAIAAMAAQABAAAAAAAAAAEAAQAAAAAAAAAAAAAA//8AAAAAAAAAAAAAAAD///7//P/9/wAAAAAAAAAAAAAAAAIABAACAAAAAAD+//7/AAAAAP///////wAAAAAAAAAAAAAAAAEAAwABAAAAAgAAAPz//P/+////AAAAAAAAAgABAAAAAAAAAP7//v////3/+f/2//P/8//2//f/+f8AAAEA/v/5//X/8//z//b/+P/4//n/+v/9/wAAAAAAAAAAAAAAAAAAAAAAAAAA///+//3//P/7//3/AAAAAAAAAAAAAP//AAAAAAAAAAD//wAABAAGAAUABwAGAAIAAgABAP7//f8AAAAA/v/+//3//P///wAAAAAAAAAAAAABAAEAAgAEAAYABQAFAAYABQAFAAYABgAGAAYABgAFAAQAAgABAAAAAAAAAAEAAQAAAAAA//8AAAAAAQAAAAAAAwAEAAEAAQADAAIAAAAAAAAAAAAHAAoABQAAAAAAAQABAAAA/P/5//r///8AAAAA/f/7//3///8AAAAAAAACAAYABgACAAAAAAAAAP///v/+//7/+v/3//n/+P/0//f///8AAP7/AAAAAAAAAAD+//z///8BAAAA/v/8//r/+f/6//n/9//3//X/9f/3//z//v/9//7////+//v//P///wAAAAAAAAAAAQAAAAAAAQADAAEAAAADAAMAAgABAAIAAwAEAAIAAAAAAAIAAwAEAAcABwAHAAsADAAHAAEAAgADAAAA/v/+/////f/8//z//f/7//v//f/+//7/AAAAAP/////+//v//f8AAAAAAAABAAAA//8AAP7/9v/z//n//P/7//v//P/8//z/+v/3//f/+v/9////AAAAAAAAAAABAAIAAAD//wAAAQABAAAAAAD+//3/+//7//7/AAACAAQAAwAAAAEABwAGAAMABgAJAAUABQAKAAsABQACAAQABgAGAAMAAgAEAAYABwAGAAQAAgABAAAAAAAAAAAAAAACAAQAAgAAAAAAAAABAAEAAAAAAAAAAAABAAEA//8AAAEA///7//3/AAD+//n/9v/2//n//f/+//7/AAAAAAAAAgACAAAA/v///wAAAAAAAAAAAAAAAP//AAD///r/9//4//j/9//3//r//P8AAAEAAAD+//7/AAAAAP///f/7//j/+P/6//j/9v/4//v/+v/4//j/+v/7//3//v/9/wAABQAFAAIAAQAAAAAAAQAAAP////////////8AAAAAAAAAAAAAAQACAAUACAAJAAcACQAJAAMAAAABAAAAAAADAAUAAwACAAMABQAJAAwADAAHAAQABAADAAIABAAHAAkACAAEAAEAAAAAAAEAAQD+//r/+//8//n/+f/7//v//P////7//v8AAAAA+v/4//r/+//5//n//f////3/+//8//v/+f/6//v/+//+/////P/7//z/+//7//3//v/+/wAAAAD9//z///8AAAAAAAAAAAAAAgAFAAcABwAGAAUABgACAAAABAAIAAUAAgAEAAIAAgAIAA0ACgAHAAoADAAMAAsACAAGAAUABQACAAAAAAD///v//P8AAAAA/v/7//3/AAAAAAAAAAAAAP3//P/8//z//v////3//P/8//v/+v/7//3//f/+//7///8AAAAA///+//7/AAAAAP//AAAAAAAA/v/+/////v/+/////v/7//z/AAAAAPv/+v/9//7//v8AAAAAAAAAAP////8AAAAAAAAAAAEAAAAAAAAAAAD/////AAAAAP//AAAAAAAA/f/8//7/AAAAAP//AAAAAP7///8AAAAAAAAAAAIAAgABAAAAAAAAAAAAAAAAAAAAAgAHAAkACQAGAAQABAAEAAEAAAAAAAAAAgAFAAUAAwACAAUABgAEAAAAAAAAAAAAAAABAAEAAAAAAAEABQAFAAAA//8AAAAA/P/7//7/AAACAAIABAAFAAEA//8AAAAA/v///wIAAwACAAEAAQAAAP///P/3//X/+/8AAAAA//8BAAAAAAAAAAAA//////z/+P/6//r/9v/2//3/AAAAAAAAAAAAAAAA//8AAAEAAAAAAAAA///8//3/AAAAAP///P/7//v//f8AAAEAAAAAAAEAAAAAAP///////////v///wEAAQAAAAAAAAD////////+//7//v8AAAAAAAAAAAYACAAEAAEAAQAAAP///v/+/wAAAAAAAAAAAAAAAAIABAACAAAAAAADAAcABQAAAAAACAAJAAQAAQAAAAAAAAAAAP//AAD///z//f8BAAMAAgABAAAAAAAAAAEAAgABAAAAAgAEAAQAAwABAP3/+v/5//j/+P/6//z//f/+////AAAAAAAAAAABAAEAAAAAAAEAAQABAAAA///9//z//f/7//n/+f/4//j/+//7//v//f////7///8AAAAAAAAAAP7//f///wAAAQABAP///v8AAAAAAAAAAAAA/v/+////AAAAAAEAAQAAAAIAAwAHAAsACgAGAAcACQAFAAIAAwABAP//AAAAAAAAAAABAAEAAgAEAAQABgAHAAQAAAAAAAYABwAGAAYABgAEAAMAAwABAP///v/8//v/+v/7//z/+//5//j/+P/4//r//f/9//z//v8AAAAAAAAAAP////8AAP7//P/9//v/9//4//n/9//5//7//P/6//7/AAAAAAAAAAAAAAAAAAD8//v//P/8//3////+//3/AAAAAAAAAAABAAAA//////7///8AAP///v8BAAIAAQAAAAAAAQAFAAUAAwAFAAYAAwABAAEAAQABAAEA///+/wAAAAAAAAAAAQAAAP7//v///wAA/////wAAAAAAAAAAAAD//wAAAQAAAAAAAAAAAAAAAwAEAAIAAQABAAAAAAABAAAA//8AAP//+v/5//v//f///wAAAAAAAAAAAAABAAUABgACAAAAAQAAAP7//v8AAAEAAQAAAP7//v/+//z//P/+/wAAAAAAAAMABQAEAAIAAwAEAAIAAAAAAAEAAAAAAP//+//6//z//P/7//z//v/+//z/+f/2//T/+P/+/wAAAAABAAIAAQABAAEAAAAAAAAAAAAAAAAAAAAAAP//AAAAAP////8AAAMABAACAAAAAAAAAAEAAwAEAAQAAwACAAAA///8//3////+//7/AAABAAAAAAD+//v/+//6//f/+P/9/wAAAAAAAAAAAgACAAAAAAD///7//f/8//3/AAABAAAAAAAAAAEAAAAAAAEAAAAAAAEAAgABAAAAAAAAAAEAAQABAAAAAAAAAP////8AAAAAAAAAAAAAAAAAAAAAAAADAAMAAQAAAAAAAQAAAAAAAAABAAEAAAD////////+/////v/8//z////+//7/AAAAAAAAAAAAAP3//P/8//3////9//r//P8AAAAAAAAAAAAAAAAAAAAAAAACAAMAAwADAAMAAgACAAEAAAD///7///8BAAEAAQAAAAAAAAAAAP////8AAAAAAAABAAIAAwACAAAAAAAAAP///P/+/wAAAAD///7//v///wAAAAAAAAAAAAAAAAAAAQAAAAAAAQAEAAMAAgABAAAAAAD///7/+//7//3//f/8//7/AAAAAAAAAAAAAAAAAAABAAAAAAABAAAAAAACAAIAAQAAAAAAAAD/////AAAAAAAAAAABAAAAAAABAAAAAAABAAAA/////////f/8//z//P/8//r/+f/7//v/+P/4//v/+v/4//r//f/+//7///8AAAAAAAAAAAAAAAAAAAAAAAAAAAAAAAAAAAAAAAAAAAAAAAD+/////v/8//7/AAAAAAAAAAAAAAAAAAAAAAAAAAAAAAAAAAAAAAAAAgAFAAMAAgAFAAQAAgADAAMAAwADAAEAAAAAAP7//P/+/wAAAAAAAAQABAADAAQABAABAAAAAAAAAAAAAAD/////AAAAAAAAAQAAAAAAAQAAAP//AAAAAP///v8AAAAAAAAAAAAAAAAAAP3//P///////v/+/////v/9///////+//7/AAAAAAEAAQAAAP//AAD///7/AAAAAAAAAgACAAAAAAAAAP7//v8AAP//+//8//z//P/+/////P/+/wEAAAD//wAAAAAAAAAAAAD//wAAAAAAAAAAAAAAAAAA///+//7/AAABAAEAAAAAAAAAAwAGAAUAAwADAAMAAgAAAAEAAQABAAAAAAAAAAAAAQAAAAAAAAAAAP7///8AAP7/+//7//3///8AAAAAAAABAAMAAwABAAEAAAAAAAAAAAAAAAAAAAAAAAAA//8AAAAAAAAAAAAAAAAAAP7//P/+/wAAAAAAAAAA///7//z//v///wAAAAAAAP7////+//7////+//7/AAAAAAAAAAAAAAAAAQAAAAAAAAAAAP7///8AAAAAAAAAAP//AAAAAAAAAAABAAAAAAAAAAAAAAAAAAEAAAAAAAEAAAAAAAAAAAAAAAAAAQAAAAAAAQADAAQAAwAAAP/////+//7/AAAAAAAAAAAAAAAAAAABAAAAAAAAAAAA+//4//r//f/+//7///8AAAEAAAD//wAAAAD8//n/+v/7//v/+//+/wAAAAD9//3/AAAAAP7//v/+//7/AAAAAP////8AAAAAAAABAAAA//8AAAAAAAAAAAAAAAAAAAAA/////wAAAAAAAAAAAAAAAAAAAQACAAQABgAFAAMAAgABAAEAAAAAAAAAAAAAAAAAAAD+//v//f8AAAAAAAAAAP3/+f/5//v/+//9////AAAAAAIABAACAAEAAQAAAAAAAAAAAAAAAAAAAP////8AAAAAAAAAAAAAAQADAAEAAAABAAEA/////wEAAAAAAAEAAAAAAAMAAQAAAAMABAABAAEAAAD//wAAAAAAAAAAAAAAAAAAAAAAAAAAAAD+//7////+//7/AAAAAAAAAAACAAQAAwAEAAcABQAAAP/////////////8//z////9//v//P/8//v/+v/7//3///8AAAAAAAAAAAAAAAACAAQAAwACAAAA///9//z//f///////P/9/////f/7//z//P/7//v//v///wAAAAAAAAAAAAAAAAAAAQAAAAAAAAD+////AAAAAP7//v////7//v8AAAAA///+//7///8AAAEAAgADAAIAAgAEAAcABQADAAQAAwAAAP//AAAAAAAAAQAAAAAAAAAAAAAAAAAAAAAAAAAAAAAAAgACAAEAAgAEAAQAAwADAAEA///+//v/+f/4//v//v8AAAAAAAABAAMAAgAAAAAAAAAAAAAAAAD//////f/8//7///////3//v////7//v8AAAAA/v///wIAAgAAAAEAAwAEAAQAAwABAAEAAQAAAP3//P/8//r/+f/6//z//f/+/wAAAgACAAMABQAHAAYABAACAAEAAQAAAPz/+v/7//z/+//7//3/AAAAAP////8AAAAAAAADAAUABQAFAAUABgAHAAQAAAAAAAEAAAD///3/+//6//j/9v/2//v/AAAAAAIABgAGAAQAAwAEAAQABAADAAIAAQABAAEA///8//3////9//v//P/7//r//f8AAAAAAAAAAAAAAAAAAAEAAAAAAAAAAAD//wAAAAAAAP///v/8//v//P/7//z//v/+//7/AAAAAAEAAAAAAAAAAQABAAEAAAD///3/+v/4//r//f/6//T/9P/3//n/+//+/wAAAAD+//7///8AAAAAAAAAAAAAAAADAAYABwAEAAEAAAAAAAAA//8AAAAAAAAAAAAAAAAAAAAAAAAAAAAAAgADAAMAAwADAAIAAwAEAAEAAAAAAAAA//8AAAAAAAD//////v/+////AAAAAAAAAAACAAIAAQAAAAEABAAEAAIAAwAEAAIAAQABAAEAAAD///3//P/9//r/+v/9/wAAAAAAAAAAAAACAAQAAwADAAMAAQABAAEAAAAAAAAAAAAAAAEAAAD+//v/+P/4//v//P/7//v//P/+/wAAAAACAAMAAQAAAAAAAAD//////v///wAA/////wEAAQAAAAAAAQAAAAAAAQAAAAAAAAD//wAAAAD+//3/AAAAAAAAAQADAAAAAAAAAP////8AAAAA/v/+/wAAAAD///3//P/8//n/+P/6//r/+f/5//z//v8AAAAAAAABAAMAAgADAAUABQADAAEAAAD///7//P/7//z//P/7//7/AAAAAAAAAAAAAAAAAAAAAAAAAgAEAAIAAQABAAEAAQAAAAAAAQAAAP7/+//6//n/+P/5//v//f8AAAEAAAACAAUABAAFAAcABQABAP///v/9///////8//v/+//8////AAAAAAAAAQAAAP//AQACAAAAAAABAAAAAAABAAUABQADAAIAAwAFAAMAAAAAAAIAAgABAAEAAQABAAEAAQACAAQABQAFAAQAAwACAAMAAgABAAEAAAD9//v/+//8//7//P/7//3/AAAAAAAAAAD///3///8AAAAAAAABAAEAAgACAAAAAAAAAP///v/9//7////8//j/+//9//n/+/8AAP///v/9//r/+/8AAP///P/9//7//P/+/wAAAAD///z/+P/4//j/9f/0//j/+f/3//r//f/8//v///8AAAAAAQAAAAAAAgAAAPr/+v/7//v//f/9//v//f8AAAAAAAAAAP3//P///wAAAAADAAUABAACAAMABQAFAAUABAABAAIABAADAAIAAgABAAAAAAAAAAEAAQAAAAAAAgAEAAYACAAHAAQABgAIAAYABQAFAAMAAAAAAAAAAAABAAQABAAFAAUAAgABAAIAAgAAAAAAAAAAAAIABQAFAAIAAQACAAQABAADAAIAAgABAAAA/f/+/wAAAAD+//v/+v/9/wAAAAD8//z///8AAAAAAQAAAAAAAAD/////AAAAAAAAAQAAAP///P/5//j/+f/7//v/+v/6//v//f/8//7/AAD///v/+//9//z/+f/4//j/+P/3//f/+f/8//3//P/9//7//v/+//7//v/+//7//P/5//j/+f/6//r//P///wAAAAAAAAAA//////3//P/+/wAA///7//z/AAAAAAAAAQABAAIABQAHAAUABQAHAAgABQAGAAkACQAGAAQABAAFAAQABAAGAAgABwAGAAUABQAHAAoACQAGAAUABQAEAAMAAgACAAEAAgAFAAUAAQAAAAEA/f/3//f/+P/4//r//P/7//7/AwADAAAAAAAAAP///v/+//7//f/+//7//f/8//3//f/9////AAD9//7/AAAAAAAAAQD///v//v8AAAEAAwAFAAQABAACAAAA/v/9//v//P/9//z///8AAP3/+//+/wAAAAAEAAQAAQADAAUABQAFAAQAAQABAAMAAgACAAMAAAAAAAAA/v/9/////f/7//z/+//8/wAAAgAAAAEABAAEAAQAAwABAAIAAgABAAEAAQAAAPz/+f/4//z//v/8//z///8AAAAAAAAAAAAA///+//7/AAAAAAAAAAAAAAAA///+//z/+//8//3//f/8//z//f8AAAAAAAAAAAAAAAABAAAA/v///wEA///+////+//4//r/+//7//z//P/6//z//v/8//z///8AAAAAAQAAAAAAAAAAAAAAAAABAAIAAQACAAQABAACAAMABAAEAAMABAAFAAYABwAIAAcABAAFAAUAAwACAAIAAwACAAEAAQACAAEAAAAAAAMABAADAAQABQAFAAMAAAAAAAIAAgABAAIAAwACAAIAAAD+//7//v/9//z//v8AAAAAAAAAAAAAAAD9//z////9//v//P/9//3//f/9//3//f/9//3///8AAAAAAAAAAAAAAAAAAAAAAAABAAEAAgACAAEAAQABAAAAAAAAAAAAAAAAAAEAAQAAAAAAAQACAAAAAAABAAEAAQAAAAAAAAAAAAAA/v8AAAEAAAD+/wAAAAD9//z//f/+//7//P/6//r//P/8//7/AAAAAAAAAAAAAAAAAAD9//3/AAAAAP3//f/9//3//f///wAAAAABAAEAAgACAAEAAAAAAAAA///7//z/AQACAAEAAQAAAAAAAQAAAP3//P/8//3/AAABAAEAAQAAAAAAAAACAAEAAQAEAAYABAABAAEAAgABAAAAAAAAAAIAAgAAAP//AQACAAAAAAABAAAAAAAAAP//AAABAP///P/9//3//P/9//3//f///wAAAAABAP///f///wEAAQABAAEAAgAGAAcABAAEAAcABQABAAEAAQABAAQABQACAAEAAgABAAAAAAAAAAIABAAEAAEAAAAAAAAA///+////AQACAAIAAQAAAAAAAQD///7//v/+//7//v/9//z//f/9//r/+v/+/wAAAAAAAAAA/v/9//3//P/7////AgABAAAAAAAAAP7//f/+/wAAAAD///3//f8AAAAA/f/8//z//f8AAAEAAAAAAAAAAAAAAAAA///+//3//v/+//v/+v/8//3//f/9////AAAAAP3//f///wAA/f/9/wAAAgAAAAAAAAAAAAAAAgABAAAAAAAAAP3//P///wAAAAAAAAAAAAAAAAAAAQABAAAAAAACAAIAAQABAAAA/v///wAAAQAEAAUAAgABAAEAAQAAAP///f/+//3//P/9////AAACAAQAAwAFAAcABAAAAAEAAQAAAAAAAAAAAAAAAQABAAMABAACAAEAAgADAAIAAAAAAAAAAAD/////AAAAAAAAAAAAAAAAAAABAP//+//7//v/+//7//r/+f/6//v/+f/7/wAAAQAAAAAAAAAAAAAAAAD///7//v8AAAAAAAAAAAAA///+//7//f/8//3//f/8////AAD9//r//f8AAAAAAAAAAAAAAAACAAEAAgACAAAAAAAAAAAAAAAAAAAAAAABAAEAAQACAAEAAAAAAAEAAgADAAEAAAAAAAEAAAD+//3//P///wAA///8//z//f///wAAAAAAAAAAAAABAAIAAQACAAQAAgABAAIAAgABAAIABQAFAAQAAgAAAP///v/+//3//P///wAA///8//z//f///wAAAAAAAP///f/8//3//f/8//3///8AAAAAAAADAAMAAgACAAIAAAAAAAAAAAAAAAEAAQABAAEAAgACAAIAAwACAAIAAQAAAP3/+//7//v/+f/6//3//v/8//3//f/8//3//f/8//3//v/7//z/AAAAAP7//f/8//3/AAD///7/AAAAAPz//f/+//z//P/+//7//P/8//z//P/+/wAAAAD//wAAAAABAAIAAwAEAAUABAABAAEAAgACAAEAAwAFAAUAAwACAAAAAAAAAAAAAAABAAEAAAAAAP///f/9/wAAAAAAAAAAAAABAAAAAAAAAAAAAAAAAAEAAAAAAAAAAwAEAAIAAQACAAIAAAAAAAEAAAD///7//v/+//7//P/+/wAAAAD7//3/AAAAAP3//P/8//7/AAAAAAAAAgACAAEAAwAEAAEAAQACAAEAAAAAAAAAAQAAAP7///8AAP////8AAAAA/v/9//v/+f/7//r/+f/7//n/9//4//v/+v/6//z//P/8//z//P/+/wAAAAD//wAAAAABAAIAAwAEAAUABAABAAMABQAEAAIABAAFAAIAAAAAAAAAAAAAAAEAAgACAAAAAAAAAAAA/v/9////AQAAAAAAAAAEAAUAAQAAAAEAAAD+//7//f/6//r//P/8//3///8AAAAAAAAAAAAAAAAAAP7//v8AAAAAAAACAAIAAQACAAEAAAAAAAAAAAAAAP7//v8AAAAAAAACAAQAAwACAAAA/v/+/wAAAAAAAAAA/////wAAAAAAAAAA///+//7//v/+//3/+v/6//3/AAAAAAAAAQABAAEAAQACAAIAAQACAAIAAQADAAUAAwAAAAAAAgACAAEAAAD///z/+//7//v/+//6//n/+/8AAAAA/v/8//3//f/9//3//f/9////AAAAAAAA/v/+/wAAAAAAAP///v///wAAAAAAAAEAAgABAAAAAAACAAMAAgAAAAAAAAD/////AAAAAAAAAAAAAAAAAAAAAAAAAAAAAAEAAgAAAAAAAAAAAAAAAQACAAEAAgACAAAAAAAAAAAAAAABAAAAAAAAAAAA/////wAAAAAAAAAAAAAAAAEAAAAAAAEAAgAAAAAAAAAAAP/////+//3//v/9//z//v8AAAAAAAAAAAAA///+//z//f///wAAAAAAAAAAAAAAAAEAAAAAAAEAAAAAAAAAAAAAAAIAAgABAAIAAgABAAIAAQAAAAAAAAAAAAEAAQABAAEAAgACAAAAAAABAAEAAAAAAAAAAAAAAAAAAAABAAEAAAAAAAIAAgABAAIAAQAAAAAAAgAAAAAAAAAAAP7//P/+/wAAAAAAAAAA/v/8/wAAAAD+//7//f/6//r//P/8//3//v/8//7/AQAAAPz/+v/7//v/+//6//r/+//5//n//f8AAAAAAAAAAAAAAAAAAAAA/f/9//z//f8AAAEAAQACAAIAAAAAAAEAAAAAAAIAAgABAAEAAQADAAUABAACAAIAAgAAAAAAAAAAAAAAAAAAAAAAAAAAAAAAAQABAAEAAQABAAEAAgABAP//AAACAAEAAAAAAAAAAAAAAP7//v8AAP///P/+/wAAAQACAAEAAAAAAAAAAAAAAAAAAAAAAAIAAQACAAIAAAAAAAAA///+//7//f/8//z//P/+/wEAAAAAAAEAAQAAAAAA///9//3//f/9//3/AAAAAAAAAAAAAP///f/9//3//f/9/wAAAAAAAAAAAQABAAAAAgACAAAAAAAAAAAAAAAAAAAAAAAAAAAAAAACAAEAAAAAAAAAAAAAAAAAAQACAAEAAgABAAAAAAADAAEAAAAAAAAA/v/+//7//f/+//7//P/9//3//f/8//z//P/+/wAAAAAAAAAAAQABAAAAAAAAAP///P/7//3//v/8//3///8AAAAAAAABAAAAAAAAAAAAAAAAAAAAAAAAAAAAAQABAAEAAQABAAIAAgABAAIAAQAAAAAAAAAAAAAAAAAAAAAAAQAAAAAAAAAAAAAAAAABAAIAAgABAAAAAAAAAP7//P/9//3//P/+/wAAAAABAAAAAAAAAAIAAgABAAMAAwABAAAAAAAAAAAAAAAAAAIAAgD///7/AQAAAP7//v8AAAAAAAAAAAAAAAAAAP3//f8AAP///f///wAAAAAAAAAAAAAAAAAAAAAAAAAAAAAAAAAAAAABAAEAAQABAAEAAgACAAEAAAAAAAAAAAAAAAAAAAABAAEAAAAAAAAA/f/9//3//f/9//7//f/9/wAAAQABAAIAAgAAAAAAAAAAAAAA///9////AAAAAAAAAgABAAAAAQADAAEAAQACAAMAAgABAAAAAAACAAEAAAABAAAA/v///wEA///8////AAD///3//v/+//z/+v/6//z/+//6//z//v/9//z//f///wAAAAAAAAAAAAAAAAAA/v/+////AAAAAAAAAAAAAAAAAAAAAAAAAgAEAAMAAgACAAEAAAAAAAAA///9//3///8AAAAAAAAAAAMABAAEAAUAAwAAAAAAAAD9//3///8AAAAAAAABAAEAAAABAAIAAQACAAIAAQAAAAAAAAAAAAAAAAAAAAAAAAAAAAAAAAD///7//v/+//3//P/8//z//P/+/wAAAAAAAAAAAgACAAAAAAAAAP///P/+/wAA/v///wAA///8//3//f/8//7//P/7////AQABAAEAAQAAAAEAAgABAAEAAgAAAAAAAAAAAAAAAAAAAAEAAgABAAAAAAAAAAAAAAAAAAAAAAAAAAAAAAAAAAAAAAAAAAAAAAAAAP///f/+//7//f/8//3//f/9////AAD+//7/AAAAAAAAAQACAAIAAAAAAAAAAAAAAAAAAAAAAAAAAQABAAEAAQABAAEAAQABAAEAAQACAAIAAQACAAMAAgACAAEAAAAAAP///f/9////AAAAAAAAAAAAAP3//f/9//3//f///wAAAAAAAAAAAAAAAAAAAAABAAEAAAAAAAAAAAAAAAAAAAAAAAAAAAABAAIAAAAAAAAAAAAAAAAAAAAAAAAA/v/9//7//v/9//7//v/9//7//v/8//3//f/8//3/AAAAAAAAAAD+//z//P/8//7/AAABAAAAAAABAAEAAQABAAIABQAEAAEAAgAEAAMAAQABAAEAAgABAAAAAAACAAIAAQACAAIAAQACAAIAAAAAAAAAAAAAAAAA///9//3/AAAAAP3//f8AAAAA/f/8//3//f/8//z//P/8//z///8AAAEAAQACAAEAAAAAAAAAAAAAAP///v/9//7//v/+//3//v/+//3//f/9//3//f/9//3//f8AAAAAAAD///7///8AAAAAAAAAAAAAAAAAAAAAAAAAAP///f/9////AAAAAAEAAQABAAEAAwAEAAQABAAFAAUABQADAAAAAAAAAAAAAAAAAAAAAAAAAP3//P///wAAAAAAAAAA///9////AAD///3///8AAAEAAAAAAAEAAQABAAMABAACAAEAAgADAAIAAQAAAAAAAQAAAAAAAAACAAMAAgABAAAAAAABAAEAAAD+//7//P/7//v/+v/7//v/+v/6//r/+v/6//z//P/9/wAAAAD9//z//v/9//z//P/9////AAABAAEAAQABAAEAAQABAAEAAQABAAEAAgACAAIAAgABAAAAAAABAAEAAAD+//7//v/9//z///8AAAAAAAAAAAAAAAAAAAAAAAAAAAAAAAAAAAAAAAAAAAAAAgAFAAQAAgACAAIAAAAAAAAAAAAAAAAAAAAAAAAAAAAAAAIAAgADAAIAAAAAAAEAAAD///7//P/9/wAAAAD9//z///8AAAAA/v/+/wAAAAD+//7/AAAAAAAAAAAAAAAAAAACAAQAAwABAAEAAwABAAAAAAABAAAAAAAAAAAAAAAAAAAAAAAAAAAAAAAAAAAAAAAAAAAAAAAAAAAAAAAAAAAAAAAAAAAAAAAAAP7//P/+/wAAAAD+//7/AAAAAAAAAAABAAEAAgADAAIAAQAAAAAAAAD+//7/AAAAAP7//v8AAAAAAAAAAAAAAAAAAP///f/+//7//f/8//7//P/7////AQAAAAAAAQAAAAAAAAAAAAAAAAAAAAAAAQACAAEAAAAAAAEAAQABAAEAAwAFAAUABAACAAAAAAAAAAAAAAAAAAAAAAABAAAAAAAAAAAAAAAAAAAAAAAAAP3//f8AAAAAAAAAAP7//v8AAAAAAAAAAAAAAAAAAAAAAAAAAAAAAAAAAAAA///9////AAAAAAAAAAD9//3//v/8//r/+//6//n//P/+//z//f8AAAAAAAAAAAAAAAAAAAAAAAAAAP3//P///wAAAAAAAAAAAAAAAAEAAQACAAIAAAAAAAIAAQAAAAAAAQABAAEAAgACAAEAAgACAAAAAAAAAP///f/9//3///8AAP///f///wAAAQABAAEAAQACAAIAAAAAAAAAAAABAAAAAAABAAEAAAAAAAIAAgABAAIAAgAAAAIAAgABAAIAAgAAAAAAAgACAAIAAgABAAAAAAAAAAAAAAD9//z///8AAAAAAAAAAAAAAAABAAIAAgAAAP///v/+//7//v/+//3//P/7//v/+v/5//v//v/9//z//f/9//z//v8AAAAAAAAAAAAAAAAAAAAAAAAAAAAAAAAAAAAA/v/+////AAAAAAAA///9//3//f/9//3//f/9//7/AAAAAAAAAAAAAAAAAAAAAAAA/v/+/wAAAAD+//7/AAAAAAAAAAAAAAAAAgACAAEAAgABAAAAAQADAAEAAAABAAEAAAACAAIAAQACAAIAAAAAAAAA/v///wAA///8//7/AAAAAAAAAAAAAAAAAAAAAAAAAAAAAAAAAAAAAAAAAAABAAEAAQAAAAEAAgACAAEAAgABAAAAAAAAAAAAAAAAAAAAAAAAAAAAAgACAAAAAAAAAAAA///+/wAAAQD///7/AAD+//3/AAD///v//f8AAAAAAAAAAAAAAAAAAAAAAAAAAAAA///+//z//f8AAAAA///+////AAAAAAAAAAAAAAAAAAAAAAAAAAD///3//f/9//3//f8AAAAAAAAAAAAAAAAAAAAAAAAAAAEAAQABAAIAAQAAAAEAAgADAAIAAQAAAAAAAAAAAAAAAAAAAAAAAAAAAAEAAQABAAEAAQACAAIAAAAAAAAAAAAAAAAAAAAAAAAAAAAAAAAAAAAAAAAA/v/+/wAAAAAAAAAAAAABAAAAAAAAAAEAAQABAAEAAQACAAIAAQACAAIAAAAAAAAAAAAAAAAAAAAAAP7//v8AAAAAAAAAAAAAAAAAAAAAAAD///7//v/+//3//P/9////AAD///3///8AAAAAAAAAAP3//f/+//3//f8AAAAA/P/9/wAAAAD9//z//P/+/wAAAAD///7//v/9//7//v/9//z//f/9//z//v8AAAAAAAAAAP///v///wAAAAAAAAAAAAAAAAAAAAAAAAAAAAAAAAAAAAAAAAAAAAAAAAAAAgACAAAAAAAAAAEAAAAAAAAAAAAAAAAAAAAAAAAAAQABAAEAAQABAAMABAABAAEAAwAFAAMAAAAAAAEAAQAAAAAAAAAAAAEAAQAAAAAAAQABAAAAAAAAAAAAAAAAAAAAAAAAAAAAAAAAAAAAAAAAAAAA/v/9/wAAAQAAAP7//f/+//7//f/8//7/AAAAAAAAAAAAAAAAAAAAAAAAAAAAAAAAAAAAAAAA///9//7//v/9//z//f/9//z//v8AAAAAAAAAAAAAAQAAAAAAAQACAAAAAAAAAAAAAAAAAAAAAAAAAAAAAAABAAAAAAAAAAAAAAAAAP7//v8AAAAAAAAAAAAAAAAAAAAAAAAAAAAAAAAAAAEAAAAAAAAAAAAAAAEAAAAAAAEAAQAAAAAAAAAAAAAAAAAAAAAAAAAAAAAAAAAAAAAAAAAAAP7//P/+/wAAAAAAAAAAAAAAAAAAAAAAAAAAAAAAAAAAAAAAAAAAAAAAAP///v///wAAAAAAAAAAAAAAAAEAAgABAAAAAAABAAEAAQACAAEAAAAAAAAAAAAAAAAAAAAAAAAAAAAAAAAAAAAAAAAAAAAAAAAAAAAAAAAAAAAAAAAAAAAAAAAAAAAAAAAAAAAAAAAAAAAAAAAAAAAAAAAAAAAAAAAAAAABAAEAAAAAAAAAAAAAAAAAAAAAAAAAAAAAAAAAAAAAAAAAAAAAAAAAAAAAAAAAAAAAAAAAAAAAAAAAAAD///7/AAAAAP7//P/9//3//P/9//3//P///wAA///+////AAAAAAAAAAAAAAAAAAAAAAAAAAAAAAAAAAAAAAAAAAAAAAAAAAAAAAAAAAAAAAAAAAAAAAAAAAAAAAAAAAAAAAAAAAD///7//v8AAAAAAAAAAP7//P/8//7/AAAAAAAAAAAAAAAAAAAAAAAAAAAAAAEAAQABAAEAAQABAAIAAgABAAIAAQAAAAEAAwABAAEAAgABAAAAAAAAAAAAAAAAAAAAAAAAAAAAAAAAAAAA/v/+/wAAAAAAAAAAAAAAAAAAAAAAAP7//v8AAAAAAAAAAAAAAAAAAAIAAgABAAIAAgAAAAAAAAAAAAAAAAAAAP///v/+//3//P/9//3//f/+/wAAAAAAAAAAAAAAAAAAAAAAAAAAAAAAAAAAAAAAAAAAAAAAAAAAAAAAAAAAAAAAAAAAAAAAAAAAAAAAAP///v/+/wAAAAAAAAAAAAAAAAAAAAAAAAAAAAAAAAAAAQAAAAAAAAABAAAAAAABAAIAAwACAAAAAAACAAIAAAAAAAAAAAAAAAAAAAAAAAAAAAAAAAEAAAAAAAAAAAAAAAAAAAAAAAAAAAAAAAAAAAD///7//v/9//7//v/9//z//f/9//3///8AAAAAAAAAAAAAAAABAAEAAQABAAEAAgABAAAAAAAAAAAAAAAAAAAAAAAAAAAA/f/8//7/AAAAAAAAAAAAAAAAAAAAAAAAAAD+//7/AAAAAAAAAAD+//z//v8AAAAAAAAAAAAAAAAAAAAAAAAAAAEAAQAAAAAAAAAAAAAAAAAAAAAAAAAAAAAAAAAAAAAAAAAAAAAAAAAAAAAAAAAAAAAAAAAAAAAAAAAAAAAAAAAAAAAAAAAAAAAAAAAAAAAAAAAAAAAAAAAAAAAAAAAAAAIAAgAAAAAAAAAAAAAAAAAAAAAAAAAAAAAAAAAAAAAAAAAAAAAAAAAAAAAAAAAAAAAAAAAAAAAAAAAAAAAAAAAAAAAAAAAAAAAAAAAAAAAAAAABAAAAAAAAAAEAAQACAAIAAAAAAAAAAAAAAAAA///9//7//v/9//7//v/9//z//v/9//z///8AAP///v/+//3//f///wAAAAAAAAAAAAAAAAAAAAAAAAAAAAAAAAAAAAAAAAAAAAAAAAAAAAAAAAEAAAAAAAEAAgABAAIAAgABAAIAAgABAAIAAQAAAAAAAAAAAAAAAAAAAAAAAAAAAAAAAAAAAAAAAAAAAAAAAAAAAAAAAAAAAAAAAAAAAP7//f/+//7//f/9//3//P/9/wAA///9////AAAAAAAAAAAAAAAAAAAAAAEAAQAAAAAAAgACAAEAAgACAAEAAgACAAEAAgADAAIAAgAAAAAAAAAAAAAAAAAAAP///f/9/wAAAAAAAAAAAAAAAAAAAAAAAAAAAAAAAAAAAAAAAAAAAAAAAAAAAAACAAEAAAAAAAMAAQAAAAAAAAAAAAAAAAAAAAAAAAAAAAAAAAAAAAAAAAAAAP/////9//z///8AAP///P/9//3//P/+/wAAAAAAAAAAAAAAAAEAAQAAAAEAAgACAAEAAgABAAAAAAAAAAAAAAAAAAAAAAAAAP7///8AAP///f/8//3///8AAAAAAAAAAAAAAAAAAAAAAAAAAAAAAAAAAAAAAAAAAAAAAAAAAAAAAAABAAEAAAAAAAIAAQAAAAAAAAAAAAAAAQAAAAAAAAAAAAAAAAAAAAEAAQAAAAAAAAAAAAAAAAAAAAAAAAAAAAAAAAAAAAAAAQABAAIAAQAAAAAAAAAAAAAAAAAAAAAAAAAAAAAAAAAAAAAAAAAAAAAAAAAAAAAAAAAAAP7//P/9//3//P/+/wAAAAAAAAAAAAAAAAAAAAAAAAAAAAAAAP7//P/+/wAAAAAAAAAAAAAAAAAAAAAAAAAAAAAAAAAAAAAAAAAAAAD+//7///8AAAAAAAAAAAAAAAAAAAAAAAAAAAAAAAAAAAAAAAAAAAAAAAAAAAAAAAAAAAAAAAAAAP///v/9//3///8AAAAAAAAAAAAAAAAAAAEAAQACAAIAAQAAAAEAAwACAAAAAQACAAEAAAABAAIAAgAAAAAAAAABAAEAAQACAAIAAQACAAIAAAAAAAAAAAAAAAAAAAAAAAAAAAD///3//v/+//3//P/9//3//f/+/wAAAAAAAAAAAAAAAAAAAAAAAAAAAAAAAAAAAAAAAP3//f/9//3//f///wAAAAAAAAAAAAAAAAAAAAAAAAAAAAAAAAAAAAAAAAAAAAAAAAAAAAAAAAAAAAAAAAAAAQACAAEAAAAAAAAAAAAAAAAAAAAAAAAAAAAAAAAAAAAAAAAAAAAAAAAAAAAAAAAAAAAAAAEA/////wAA/////wAA///9/wAAAAAAAAAAAAAAAAAAAAAAAAAAAAA=\" type=\"audio/wav\" />\n",
              "                    Your browser does not support the audio element.\n",
              "                </audio>\n",
              "              "
            ],
            "text/plain": [
              "<IPython.lib.display.Audio object>"
            ]
          },
          "execution_count": 99,
          "metadata": {},
          "output_type": "execute_result"
        }
      ],
      "source": [
        "idx = 4073\n",
        "ipd.Audio(df_pd['audio'][idx], rate=22050)"
      ]
    },
    {
      "cell_type": "code",
      "execution_count": null,
      "id": "3ec62817",
      "metadata": {
        "id": "3ec62817",
        "outputId": "33e02ce0-9e73-45da-9115-ae9137195475",
        "colab": {
          "base_uri": "https://localhost:8080/",
          "height": 110
        }
      },
      "outputs": [
        {
          "metadata": {
            "tags": null
          },
          "name": "stdout",
          "output_type": "stream",
          "text": [
            "[[17920 51712]] (1, 2)\n",
            "1\n"
          ]
        },
        {
          "data": {
            "text/html": [
              "\n",
              "                <audio  controls=\"controls\" >\n",
              "                    <source src=\"data:audio/wav;base64,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\" type=\"audio/wav\" />\n",
              "                    Your browser does not support the audio element.\n",
              "                </audio>\n",
              "              "
            ],
            "text/plain": [
              "<IPython.lib.display.Audio object>"
            ]
          },
          "execution_count": 100,
          "metadata": {},
          "output_type": "execute_result"
        }
      ],
      "source": [
        "s = librosa.effects.split(df_pd['audio'][idx])[0]\n",
        "non_silence_parts = librosa.effects.split(df_pd['audio'][idx], top_db=40)\n",
        "print(non_silence_parts, non_silence_parts.shape)\n",
        "\n",
        "audio_reconstructed = []\n",
        "for part in non_silence_parts:\n",
        "    audio_reconstructed.append(df_pd['audio'][idx][part[0]:part[-1]])\n",
        "print(len(audio_reconstructed))\n",
        "#     return df_pd['audio'][3799][librosa.effects.split(df_pd['audio'][3799])[0][0]:librosa.effects.split(df_pd['audio'][3799])[0][-1]]\n",
        "\n",
        "new_audio_reconstructed = np.hstack(audio_reconstructed)\n",
        "#s1 = df_pd['audio'][idx][non_silence_parts[1][0]:non_silence_parts[1][-1]]\n",
        "# s2 = df_pd['audio'][3799][librosa.effects.split(df_pd['audio'][3799])[1][0]:librosa.effects.split(df_pd['audio'][3799])[1][-1]]\n",
        "\n",
        "ipd.Audio(new_audio_reconstructed, rate=22050)\n",
        "#ipd.Audio(s2, rate=22050)\n",
        "#ipd.Audio(df_pd['audio'][3799][librosa.effects.split(df_pd['audio'][3799][0]]), 22050)"
      ]
    },
    {
      "cell_type": "code",
      "execution_count": null,
      "id": "010ae6ed",
      "metadata": {
        "id": "010ae6ed"
      },
      "outputs": [],
      "source": [
        "# def remove_silence (signal):\n",
        "#     return signal[librosa.effects.split(signal)[0][0]:librosa.effects.split(signal)[0][-1]]\n",
        "# signal_without_silence = remove_silence(df_pd['audio'][3799])\n",
        "\n",
        "# ipd.Audio(signal_without_silence, rate=22050)"
      ]
    }
  ],
  "metadata": {
    "kernelspec": {
      "display_name": "Python 3 (ipykernel)",
      "language": "python",
      "name": "python3"
    },
    "language_info": {
      "codemirror_mode": {
        "name": "ipython",
        "version": 3
      },
      "file_extension": ".py",
      "mimetype": "text/x-python",
      "name": "python",
      "nbconvert_exporter": "python",
      "pygments_lexer": "ipython3",
      "version": "3.9.7"
    },
    "colab": {
      "provenance": [],
      "include_colab_link": true
    },
    "accelerator": "GPU",
    "gpuClass": "standard"
  },
  "nbformat": 4,
  "nbformat_minor": 5
}